{
 "cells": [
  {
   "cell_type": "markdown",
   "metadata": {},
   "source": [
    "![HydroSAR Banner](./NotebookAddOns/HydroSARbanner.jpg)\n",
    "\n",
    "# Flood Mapping from Single Sentinel-1 SAR Images\n",
    "\n",
    "**Franz J Meyer, University of Alaska Fairbanks**\n",
    "\n",
    "This notebook presents the SAR-based flood mapping approach developed and used in the HydroSAR project. In its general concepts, the approach follows a methodology developed by the German Aerospace Center and published in [Sentinel-1-based flood mapping: a fully automated processing chain](https://www.tandfonline.com/doi/full/10.1080/01431161.2016.1192304) by Twele et al. The approach is based on radiometrically terrain corrected (RTC processed) Sentinel-1 SAR data and applies a dynamic thresholding method followed by fuzzy-logic-based post processing procedure. This notebook has both steps of this process implemented, but by default, the fuzzy logic step is deactivated to save processing time. The notebook will explain how the fuzzy logic post processing step can be activated should full performance processing be of interest. \n",
    "\n",
    "The approach is based on image amplitude data and is capable of detecting standing surface water. Note that flooding under vegetation will not be detected by this approach."
   ]
  },
  {
   "cell_type": "markdown",
   "metadata": {},
   "source": [
    "# HYDRO30 Surface water extent map product\n",
    "\n",
    "This notebook mimics the workflow the HyP3 HydroSAR plugin will follow to create an On Demand surface water extent map product. It is intended demonstrate *how* HyP3 goes from an On Demand request to a product, as well as provide a platform for testing/tuning/refinement ot the water extent map product.\n",
    "\n",
    "Importantly, step 2 will become the plugin's primary interface, and the options provided to the `make_water_map` function can be exposed to users. Step 1 is a required data marshaling step that will be handled transparently inside the container.\n",
    "\n",
    "If you'd like an overview of the water extent mapping process, run the following cell to get the `make_water_map` documentation, otherwise, skip to step 1."
   ]
  },
  {
   "cell_type": "markdown",
   "metadata": {},
   "source": [
    "***\n",
    "Note: Loading make_water_map function can take up to two minutes. "
   ]
  },
  {
   "cell_type": "code",
   "execution_count": 1,
   "metadata": {},
   "outputs": [
    {
     "data": {
      "text/plain": [
       "\u001b[0;31mSignature:\u001b[0m\n",
       "\u001b[0mmake_water_map\u001b[0m\u001b[0;34m(\u001b[0m\u001b[0;34m\u001b[0m\n",
       "\u001b[0;34m\u001b[0m    \u001b[0mout_raster\u001b[0m\u001b[0;34m:\u001b[0m \u001b[0mUnion\u001b[0m\u001b[0;34m[\u001b[0m\u001b[0mstr\u001b[0m\u001b[0;34m,\u001b[0m \u001b[0mpathlib\u001b[0m\u001b[0;34m.\u001b[0m\u001b[0mPath\u001b[0m\u001b[0;34m]\u001b[0m\u001b[0;34m,\u001b[0m\u001b[0;34m\u001b[0m\n",
       "\u001b[0;34m\u001b[0m    \u001b[0mvv_raster\u001b[0m\u001b[0;34m:\u001b[0m \u001b[0mUnion\u001b[0m\u001b[0;34m[\u001b[0m\u001b[0mstr\u001b[0m\u001b[0;34m,\u001b[0m \u001b[0mpathlib\u001b[0m\u001b[0;34m.\u001b[0m\u001b[0mPath\u001b[0m\u001b[0;34m]\u001b[0m\u001b[0;34m,\u001b[0m\u001b[0;34m\u001b[0m\n",
       "\u001b[0;34m\u001b[0m    \u001b[0mvh_raster\u001b[0m\u001b[0;34m:\u001b[0m \u001b[0mUnion\u001b[0m\u001b[0;34m[\u001b[0m\u001b[0mstr\u001b[0m\u001b[0;34m,\u001b[0m \u001b[0mpathlib\u001b[0m\u001b[0;34m.\u001b[0m\u001b[0mPath\u001b[0m\u001b[0;34m]\u001b[0m\u001b[0;34m,\u001b[0m\u001b[0;34m\u001b[0m\n",
       "\u001b[0;34m\u001b[0m    \u001b[0mhand_raster\u001b[0m\u001b[0;34m:\u001b[0m \u001b[0mUnion\u001b[0m\u001b[0;34m[\u001b[0m\u001b[0mstr\u001b[0m\u001b[0;34m,\u001b[0m \u001b[0mpathlib\u001b[0m\u001b[0;34m.\u001b[0m\u001b[0mPath\u001b[0m\u001b[0;34m,\u001b[0m \u001b[0mNoneType\u001b[0m\u001b[0;34m]\u001b[0m \u001b[0;34m=\u001b[0m \u001b[0;32mNone\u001b[0m\u001b[0;34m,\u001b[0m\u001b[0;34m\u001b[0m\n",
       "\u001b[0;34m\u001b[0m    \u001b[0mtile_shape\u001b[0m\u001b[0;34m:\u001b[0m \u001b[0mTuple\u001b[0m\u001b[0;34m[\u001b[0m\u001b[0mint\u001b[0m\u001b[0;34m,\u001b[0m \u001b[0mint\u001b[0m\u001b[0;34m]\u001b[0m \u001b[0;34m=\u001b[0m \u001b[0;34m(\u001b[0m\u001b[0;36m100\u001b[0m\u001b[0;34m,\u001b[0m \u001b[0;36m100\u001b[0m\u001b[0;34m)\u001b[0m\u001b[0;34m,\u001b[0m\u001b[0;34m\u001b[0m\n",
       "\u001b[0;34m\u001b[0m    \u001b[0mmax_vv_threshold\u001b[0m\u001b[0;34m:\u001b[0m \u001b[0mfloat\u001b[0m \u001b[0;34m=\u001b[0m \u001b[0;34m-\u001b[0m\u001b[0;36m15.5\u001b[0m\u001b[0;34m,\u001b[0m\u001b[0;34m\u001b[0m\n",
       "\u001b[0;34m\u001b[0m    \u001b[0mmax_vh_threshold\u001b[0m\u001b[0;34m:\u001b[0m \u001b[0mfloat\u001b[0m \u001b[0;34m=\u001b[0m \u001b[0;34m-\u001b[0m\u001b[0;36m23.0\u001b[0m\u001b[0;34m,\u001b[0m\u001b[0;34m\u001b[0m\n",
       "\u001b[0;34m\u001b[0m    \u001b[0mhand_threshold\u001b[0m\u001b[0;34m:\u001b[0m \u001b[0mfloat\u001b[0m \u001b[0;34m=\u001b[0m \u001b[0;36m15.0\u001b[0m\u001b[0;34m,\u001b[0m\u001b[0;34m\u001b[0m\n",
       "\u001b[0;34m\u001b[0m    \u001b[0mhand_fraction\u001b[0m\u001b[0;34m:\u001b[0m \u001b[0mfloat\u001b[0m \u001b[0;34m=\u001b[0m \u001b[0;36m0.8\u001b[0m\u001b[0;34m,\u001b[0m\u001b[0;34m\u001b[0m\n",
       "\u001b[0;34m\u001b[0m    \u001b[0mmembership_threshold\u001b[0m\u001b[0;34m:\u001b[0m \u001b[0mfloat\u001b[0m \u001b[0;34m=\u001b[0m \u001b[0;36m0.45\u001b[0m\u001b[0;34m,\u001b[0m\u001b[0;34m\u001b[0m\n",
       "\u001b[0;34m\u001b[0m\u001b[0;34m)\u001b[0m\u001b[0;34m\u001b[0m\u001b[0;34m\u001b[0m\u001b[0m\n",
       "\u001b[0;31mDocstring:\u001b[0m\n",
       "Creates a surface water extent map from a Sentinel-1 RTC product\n",
       "\n",
       "Create a surface water extent map from a dual-pol Sentinel-1 RTC product and\n",
       "a HAND image. The HAND image must be pixel-aligned (same extent and size) to\n",
       "the RTC images. The water extent maps are created using an adaptive Expectation\n",
       "Maximization thresholding approach and refined with Fuzzy Logic.\n",
       "\n",
       "The input images are broken into a set of corresponding tiles with a shape of\n",
       "`tile_shape`, and a set of tiles are selected from the VH RTC\n",
       "image that contain water boundaries to determine an appropriate water threshold.\n",
       " Candidate tiles must meet these criteria:\n",
       "* `hand_fraction` of pixels within a tile must have HAND pixel values lower\n",
       "  than `hand_threshold`\n",
       "* The median backscatter value for the tile must be lower than an average tiles'\n",
       "  backscatter values\n",
       "* The tile must have a high variance -- high variance is considered initially to\n",
       "  be a variance in the 95th percentile of the tile variances, but progressively\n",
       "  relaxed to the 5th percentile if there not at least 5 candidate tiles.\n",
       "\n",
       "The 5 VH tiles with the highest variance are selected for thresholding and a\n",
       "water threshold value is determined using an Expectation Maximization approach.\n",
       "If there were not enough candidate tiles or the threshold is too high,\n",
       "`max_vh_threshold` and/or `max_vv_threshold` will be used instead.\n",
       "\n",
       "From the initial threshold-based water extent maps, Fuzzy Logic is used to remove\n",
       "spurious false detections and improve the water extent map quality. The fuzzy logic\n",
       "uses these indicators for the presence of water:\n",
       "* radar cross section in a pixel relative to the determined detection threshold\n",
       "* the height above nearest drainage (HAND)\n",
       "* the surface slope, which is derived from the HAND data\n",
       "* the size of the detected water feature\n",
       "\n",
       "For each indicator, a Z-shaped activation function is used to determine pixel membership.\n",
       "The membership maps are combined to form the final water extent map. Pixels classified\n",
       "as water pixels will:\n",
       "* have non-zero membership in all of the indicators, and\n",
       "* have an average membership above the `membership_threshold` value.\n",
       "\n",
       "Finally, the VV and VH water masks will be combined to include all water pixels\n",
       "from both masks, and the combined water map will be written to `out_raster`.\n",
       "\n",
       "Args:\n",
       "    out_raster: Water map GeoTIFF to create\n",
       "    vv_raster: Sentinel-1 RTC GeoTIFF, in power scale, with VV polarization\n",
       "    vh_raster: Sentinel-1 RTC GeoTIFF, in power scale, with VH polarization\n",
       "    hand_raster: Height Above Nearest Drainage (HAND) GeoTIFF aligned to the RTC rasters\n",
       "    tile_shape: shape (height, width) in pixels to tile the image to\n",
       "    max_vv_threshold: Maximum threshold value to use for `vv_raster` in decibels (db)\n",
       "    max_vh_threshold:  Maximum threshold value to use for `vh_raster` in decibels (db)\n",
       "    hand_threshold: The maximum height above nearest drainage in meters to consider\n",
       "        a pixel valid\n",
       "    hand_fraction: The minimum fraction of valid HAND pixels required in a tile for\n",
       "        thresholding\n",
       "    membership_threshold: The average membership to the fuzzy indicators required for a water pixel\n",
       "\u001b[0;31mFile:\u001b[0m      ~/HydroSAR/src/hydrosar/water_map.py\n",
       "\u001b[0;31mType:\u001b[0m      function"
      ]
     },
     "metadata": {},
     "output_type": "display_data"
    }
   ],
   "source": [
    "from hydrosar.water_map import make_water_map\n",
    "\n",
    "make_water_map?"
   ]
  },
  {
   "cell_type": "markdown",
   "metadata": {},
   "source": [
    "# General Methodology and Workflow\n",
    "\n",
    "Note: This workflow is done within the make_water_map function. It is described here only for illustrative purposes. \n",
    "\n",
    "The workflow of the Sentinel-1-based processing chain, as outlined in the figure below, is composed of the following main elements: \n",
    "\n",
    "1. **Find relevant SAR data** over your area of interest at the [Alaska Satellite Facility's SAR archive](https://search.asf.alaska.edu/#/)\n",
    "1. **Perform geometric and radiometric terrain correction** using the RTC processing flow by [GAMMA Remote Sensing](https://www.gamma-rs.ch/)\n",
    "1. **initial flood detection** using automatic thresholding\n",
    "1. **fuzzy-logic-based classification refinement**\n",
    "1. **>final classification into permanent and flood waters** using auxiliary data\n",
    "1. **dissemination of the results**\n",
    "\n",
    "***Steps 1 and 2*** of this workflow are operationally implemented in the Alaska Satellite Facility's Hybrid Pluggable Processing Pipeline (HyP3) environment and accessible to the public at the [ASF Search (Vertex)](https://search.asf.alaska.edu/#/).\n",
    "\n",
    "<img style= \"padding: 7px\" src=\"https://courses.edx.org/asset-v1:AlaskaX+SAR-401+3T2020+type@asset+block@Watermappingworkflow2.jpg\" width=\"70%\"/>\n",
    "\n",
    "# Flood Mapping Procedure\n",
    "\n",
    "## Loading Python Libraries"
   ]
  },
  {
   "cell_type": "code",
   "execution_count": 3,
   "metadata": {},
   "outputs": [],
   "source": [
    "# import remaining libraries\n",
    "from pathlib import Path\n",
    "import os\n",
    "import glob\n",
    "from pathlib import Path\n",
    "import numpy as np\n",
    "from osgeo import gdal\n",
    "import matplotlib.pyplot as plt\n",
    "import pandas as pd"
   ]
  },
  {
   "cell_type": "code",
   "execution_count": 4,
   "metadata": {},
   "outputs": [
    {
     "name": "stdout",
     "output_type": "stream",
     "text": [
      "Requirement already satisfied: ipyfilechooser in /home/jovyan/.local/envs/hydrosar/lib/python3.11/site-packages (0.6.0)\n",
      "Requirement already satisfied: ipywidgets in /home/jovyan/.local/envs/hydrosar/lib/python3.11/site-packages (from ipyfilechooser) (8.1.2)\n",
      "Requirement already satisfied: comm>=0.1.3 in /home/jovyan/.local/envs/hydrosar/lib/python3.11/site-packages (from ipywidgets->ipyfilechooser) (0.2.2)\n",
      "Requirement already satisfied: ipython>=6.1.0 in /home/jovyan/.local/envs/hydrosar/lib/python3.11/site-packages (from ipywidgets->ipyfilechooser) (8.22.2)\n",
      "Requirement already satisfied: traitlets>=4.3.1 in /home/jovyan/.local/envs/hydrosar/lib/python3.11/site-packages (from ipywidgets->ipyfilechooser) (5.14.2)\n",
      "Requirement already satisfied: widgetsnbextension~=4.0.10 in /home/jovyan/.local/envs/hydrosar/lib/python3.11/site-packages (from ipywidgets->ipyfilechooser) (4.0.10)\n",
      "Requirement already satisfied: jupyterlab-widgets~=3.0.10 in /home/jovyan/.local/envs/hydrosar/lib/python3.11/site-packages (from ipywidgets->ipyfilechooser) (3.0.10)\n",
      "Requirement already satisfied: decorator in /home/jovyan/.local/envs/hydrosar/lib/python3.11/site-packages (from ipython>=6.1.0->ipywidgets->ipyfilechooser) (5.1.1)\n",
      "Requirement already satisfied: jedi>=0.16 in /home/jovyan/.local/envs/hydrosar/lib/python3.11/site-packages (from ipython>=6.1.0->ipywidgets->ipyfilechooser) (0.19.1)\n",
      "Requirement already satisfied: matplotlib-inline in /home/jovyan/.local/envs/hydrosar/lib/python3.11/site-packages (from ipython>=6.1.0->ipywidgets->ipyfilechooser) (0.1.6)\n",
      "Requirement already satisfied: prompt-toolkit<3.1.0,>=3.0.41 in /home/jovyan/.local/envs/hydrosar/lib/python3.11/site-packages (from ipython>=6.1.0->ipywidgets->ipyfilechooser) (3.0.42)\n",
      "Requirement already satisfied: pygments>=2.4.0 in /home/jovyan/.local/envs/hydrosar/lib/python3.11/site-packages (from ipython>=6.1.0->ipywidgets->ipyfilechooser) (2.17.2)\n",
      "Requirement already satisfied: stack-data in /home/jovyan/.local/envs/hydrosar/lib/python3.11/site-packages (from ipython>=6.1.0->ipywidgets->ipyfilechooser) (0.6.2)\n",
      "Requirement already satisfied: pexpect>4.3 in /home/jovyan/.local/envs/hydrosar/lib/python3.11/site-packages (from ipython>=6.1.0->ipywidgets->ipyfilechooser) (4.9.0)\n",
      "Requirement already satisfied: parso<0.9.0,>=0.8.3 in /home/jovyan/.local/envs/hydrosar/lib/python3.11/site-packages (from jedi>=0.16->ipython>=6.1.0->ipywidgets->ipyfilechooser) (0.8.3)\n",
      "Requirement already satisfied: ptyprocess>=0.5 in /home/jovyan/.local/envs/hydrosar/lib/python3.11/site-packages (from pexpect>4.3->ipython>=6.1.0->ipywidgets->ipyfilechooser) (0.7.0)\n",
      "Requirement already satisfied: wcwidth in /home/jovyan/.local/envs/hydrosar/lib/python3.11/site-packages (from prompt-toolkit<3.1.0,>=3.0.41->ipython>=6.1.0->ipywidgets->ipyfilechooser) (0.2.13)\n",
      "Requirement already satisfied: executing>=1.2.0 in /home/jovyan/.local/envs/hydrosar/lib/python3.11/site-packages (from stack-data->ipython>=6.1.0->ipywidgets->ipyfilechooser) (2.0.1)\n",
      "Requirement already satisfied: asttokens>=2.1.0 in /home/jovyan/.local/envs/hydrosar/lib/python3.11/site-packages (from stack-data->ipython>=6.1.0->ipywidgets->ipyfilechooser) (2.4.1)\n",
      "Requirement already satisfied: pure-eval in /home/jovyan/.local/envs/hydrosar/lib/python3.11/site-packages (from stack-data->ipython>=6.1.0->ipywidgets->ipyfilechooser) (0.2.2)\n",
      "Requirement already satisfied: six>=1.12.0 in /home/jovyan/.local/envs/hydrosar/lib/python3.11/site-packages (from asttokens>=2.1.0->stack-data->ipython>=6.1.0->ipywidgets->ipyfilechooser) (1.16.0)\n"
     ]
    }
   ],
   "source": [
    "!pip install ipyfilechooser"
   ]
  },
  {
   "cell_type": "code",
   "execution_count": 5,
   "metadata": {},
   "outputs": [],
   "source": [
    "from ipyfilechooser import FileChooser"
   ]
  },
  {
   "cell_type": "markdown",
   "metadata": {},
   "source": [
    "## 2. Generate the water extent map\n",
    "\n",
    "Now that we have marshalled all the required input data, we can generate the surface water extent map!\n",
    "\n",
    "**Note:** this will take $\\approx$ 30 minutes to complete."
   ]
  },
  {
   "cell_type": "markdown",
   "metadata": {},
   "source": [
    "***\n",
    "Get the list of VV and VH rasters and their paths. \n",
    "\n",
    "Sort them by date. "
   ]
  },
  {
   "cell_type": "code",
   "execution_count": 6,
   "metadata": {},
   "outputs": [
    {
     "data": {
      "application/vnd.jupyter.widget-view+json": {
       "model_id": "1ab873c5f91a4480bd59de9dacf71ed1",
       "version_major": 2,
       "version_minor": 0
      },
      "text/plain": [
       "FileChooser(path='/home/jovyan/hydrosar', filename='', title='', show_hidden=False, select_desc='Select', chan…"
      ]
     },
     "metadata": {},
     "output_type": "display_data"
    }
   ],
   "source": [
    "fc_subset = FileChooser(Path.cwd())\n",
    "display(fc_subset)"
   ]
  },
  {
   "cell_type": "code",
   "execution_count": 14,
   "metadata": {
    "scrolled": true
   },
   "outputs": [
    {
     "name": "stdout",
     "output_type": "stream",
     "text": [
      "vv = /home/jovyan/hydrosar/Dataset/bang_NE/subset_East/RTC_GAMMA/S1A_IW_20190108T120439_DVP_RTC30_G_gpufem_8BD9_VV_subset.tif\n",
      "vh = /home/jovyan/hydrosar/Dataset/bang_NE/subset_East/RTC_GAMMA/S1A_IW_20190108T120439_DVP_RTC30_G_gpufem_8BD9_VH_subset.tif\n",
      "vv = /home/jovyan/hydrosar/Dataset/bang_NE/subset_East/RTC_GAMMA/S1A_IW_20190120T120439_DVP_RTC30_G_gpufem_97E2_VV_subset.tif\n",
      "vh = /home/jovyan/hydrosar/Dataset/bang_NE/subset_East/RTC_GAMMA/S1A_IW_20190120T120439_DVP_RTC30_G_gpufem_97E2_VH_subset.tif\n",
      "vv = /home/jovyan/hydrosar/Dataset/bang_NE/subset_East/RTC_GAMMA/S1A_IW_20190201T120439_DVP_RTC30_G_gpufem_5EF2_VV_subset.tif\n",
      "vh = /home/jovyan/hydrosar/Dataset/bang_NE/subset_East/RTC_GAMMA/S1A_IW_20190201T120439_DVP_RTC30_G_gpufem_5EF2_VH_subset.tif\n",
      "vv = /home/jovyan/hydrosar/Dataset/bang_NE/subset_East/RTC_GAMMA/S1A_IW_20190213T120438_DVP_RTC30_G_gpufem_CA11_VV_subset.tif\n",
      "vh = /home/jovyan/hydrosar/Dataset/bang_NE/subset_East/RTC_GAMMA/S1A_IW_20190213T120438_DVP_RTC30_G_gpufem_CA11_VH_subset.tif\n",
      "vv = /home/jovyan/hydrosar/Dataset/bang_NE/subset_East/RTC_GAMMA/S1A_IW_20190225T120438_DVP_RTC30_G_gpufem_C14B_VV_subset.tif\n",
      "vh = /home/jovyan/hydrosar/Dataset/bang_NE/subset_East/RTC_GAMMA/S1A_IW_20190225T120438_DVP_RTC30_G_gpufem_C14B_VH_subset.tif\n",
      "vv = /home/jovyan/hydrosar/Dataset/bang_NE/subset_East/RTC_GAMMA/S1A_IW_20190309T120438_DVP_RTC30_G_gpufem_4755_VV_subset.tif\n",
      "vh = /home/jovyan/hydrosar/Dataset/bang_NE/subset_East/RTC_GAMMA/S1A_IW_20190309T120438_DVP_RTC30_G_gpufem_4755_VH_subset.tif\n",
      "vv = /home/jovyan/hydrosar/Dataset/bang_NE/subset_East/RTC_GAMMA/S1A_IW_20190321T120438_DVP_RTC30_G_gpufem_73AE_VV_subset.tif\n",
      "vh = /home/jovyan/hydrosar/Dataset/bang_NE/subset_East/RTC_GAMMA/S1A_IW_20190321T120438_DVP_RTC30_G_gpufem_73AE_VH_subset.tif\n",
      "vv = /home/jovyan/hydrosar/Dataset/bang_NE/subset_East/RTC_GAMMA/S1A_IW_20190402T120439_DVP_RTC30_G_gpufem_0364_VV_subset.tif\n",
      "vh = /home/jovyan/hydrosar/Dataset/bang_NE/subset_East/RTC_GAMMA/S1A_IW_20190402T120439_DVP_RTC30_G_gpufem_0364_VH_subset.tif\n",
      "vv = /home/jovyan/hydrosar/Dataset/bang_NE/subset_East/RTC_GAMMA/S1A_IW_20190414T120439_DVP_RTC30_G_gpufem_81C6_VV_subset.tif\n",
      "vh = /home/jovyan/hydrosar/Dataset/bang_NE/subset_East/RTC_GAMMA/S1A_IW_20190414T120439_DVP_RTC30_G_gpufem_81C6_VH_subset.tif\n",
      "vv = /home/jovyan/hydrosar/Dataset/bang_NE/subset_East/RTC_GAMMA/S1A_IW_20190426T120440_DVP_RTC30_G_gpufem_34EB_VV_subset.tif\n",
      "vh = /home/jovyan/hydrosar/Dataset/bang_NE/subset_East/RTC_GAMMA/S1A_IW_20190426T120440_DVP_RTC30_G_gpufem_34EB_VH_subset.tif\n",
      "vv = /home/jovyan/hydrosar/Dataset/bang_NE/subset_East/RTC_GAMMA/S1A_IW_20190508T120440_DVP_RTC30_G_gpufem_34D2_VV_subset.tif\n",
      "vh = /home/jovyan/hydrosar/Dataset/bang_NE/subset_East/RTC_GAMMA/S1A_IW_20190508T120440_DVP_RTC30_G_gpufem_34D2_VH_subset.tif\n",
      "vv = /home/jovyan/hydrosar/Dataset/bang_NE/subset_East/RTC_GAMMA/S1A_IW_20190520T120441_DVP_RTC30_G_gpufem_9589_VV_subset.tif\n",
      "vh = /home/jovyan/hydrosar/Dataset/bang_NE/subset_East/RTC_GAMMA/S1A_IW_20190520T120441_DVP_RTC30_G_gpufem_9589_VH_subset.tif\n",
      "vv = /home/jovyan/hydrosar/Dataset/bang_NE/subset_East/RTC_GAMMA/S1A_IW_20190601T120441_DVP_RTC30_G_gpufem_6710_VV_subset.tif\n",
      "vh = /home/jovyan/hydrosar/Dataset/bang_NE/subset_East/RTC_GAMMA/S1A_IW_20190601T120441_DVP_RTC30_G_gpufem_6710_VH_subset.tif\n",
      "vv = /home/jovyan/hydrosar/Dataset/bang_NE/subset_East/RTC_GAMMA/S1A_IW_20190613T120442_DVP_RTC30_G_gpufem_FC73_VV_subset.tif\n",
      "vh = /home/jovyan/hydrosar/Dataset/bang_NE/subset_East/RTC_GAMMA/S1A_IW_20190613T120442_DVP_RTC30_G_gpufem_FC73_VH_subset.tif\n",
      "vv = /home/jovyan/hydrosar/Dataset/bang_NE/subset_East/RTC_GAMMA/S1A_IW_20190625T120442_DVP_RTC30_G_gpufem_26C2_VV_subset.tif\n",
      "vh = /home/jovyan/hydrosar/Dataset/bang_NE/subset_East/RTC_GAMMA/S1A_IW_20190625T120442_DVP_RTC30_G_gpufem_26C2_VH_subset.tif\n",
      "vv = /home/jovyan/hydrosar/Dataset/bang_NE/subset_East/RTC_GAMMA/S1A_IW_20190707T120443_DVP_RTC30_G_gpufem_F5B7_VV_subset.tif\n",
      "vh = /home/jovyan/hydrosar/Dataset/bang_NE/subset_East/RTC_GAMMA/S1A_IW_20190707T120443_DVP_RTC30_G_gpufem_F5B7_VH_subset.tif\n",
      "vv = /home/jovyan/hydrosar/Dataset/bang_NE/subset_East/RTC_GAMMA/S1A_IW_20190719T120444_DVP_RTC30_G_gpufem_DAFE_VV_subset.tif\n",
      "vh = /home/jovyan/hydrosar/Dataset/bang_NE/subset_East/RTC_GAMMA/S1A_IW_20190719T120444_DVP_RTC30_G_gpufem_DAFE_VH_subset.tif\n",
      "vv = /home/jovyan/hydrosar/Dataset/bang_NE/subset_East/RTC_GAMMA/S1A_IW_20190731T120445_DVP_RTC30_G_gpufem_3C5A_VV_subset.tif\n",
      "vh = /home/jovyan/hydrosar/Dataset/bang_NE/subset_East/RTC_GAMMA/S1A_IW_20190731T120445_DVP_RTC30_G_gpufem_3C5A_VH_subset.tif\n",
      "vv = /home/jovyan/hydrosar/Dataset/bang_NE/subset_East/RTC_GAMMA/S1A_IW_20190812T120446_DVP_RTC30_G_gpufem_0255_VV_subset.tif\n",
      "vh = /home/jovyan/hydrosar/Dataset/bang_NE/subset_East/RTC_GAMMA/S1A_IW_20190812T120446_DVP_RTC30_G_gpufem_0255_VH_subset.tif\n",
      "vv = /home/jovyan/hydrosar/Dataset/bang_NE/subset_East/RTC_GAMMA/S1A_IW_20190824T120446_DVP_RTC30_G_gpufem_4CCB_VV_subset.tif\n",
      "vh = /home/jovyan/hydrosar/Dataset/bang_NE/subset_East/RTC_GAMMA/S1A_IW_20190824T120446_DVP_RTC30_G_gpufem_4CCB_VH_subset.tif\n",
      "vv = /home/jovyan/hydrosar/Dataset/bang_NE/subset_East/RTC_GAMMA/S1A_IW_20190905T120447_DVP_RTC30_G_gpufem_AF79_VV_subset.tif\n",
      "vh = /home/jovyan/hydrosar/Dataset/bang_NE/subset_East/RTC_GAMMA/S1A_IW_20190905T120447_DVP_RTC30_G_gpufem_AF79_VH_subset.tif\n",
      "vv = /home/jovyan/hydrosar/Dataset/bang_NE/subset_East/RTC_GAMMA/S1A_IW_20190929T120448_DVP_RTC30_G_gpufem_0BC5_VV_subset.tif\n",
      "vh = /home/jovyan/hydrosar/Dataset/bang_NE/subset_East/RTC_GAMMA/S1A_IW_20190929T120448_DVP_RTC30_G_gpufem_0BC5_VH_subset.tif\n",
      "vv = /home/jovyan/hydrosar/Dataset/bang_NE/subset_East/RTC_GAMMA/S1A_IW_20191011T120448_DVP_RTC30_G_gpufem_DF64_VV_subset.tif\n",
      "vh = /home/jovyan/hydrosar/Dataset/bang_NE/subset_East/RTC_GAMMA/S1A_IW_20191011T120448_DVP_RTC30_G_gpufem_DF64_VH_subset.tif\n",
      "vv = /home/jovyan/hydrosar/Dataset/bang_NE/subset_East/RTC_GAMMA/S1A_IW_20191023T120448_DVP_RTC30_G_gpufem_A9AA_VV_subset.tif\n",
      "vh = /home/jovyan/hydrosar/Dataset/bang_NE/subset_East/RTC_GAMMA/S1A_IW_20191023T120448_DVP_RTC30_G_gpufem_A9AA_VH_subset.tif\n",
      "vv = /home/jovyan/hydrosar/Dataset/bang_NE/subset_East/RTC_GAMMA/S1A_IW_20191104T120448_DVP_RTC30_G_gpufem_247C_VV_subset.tif\n",
      "vh = /home/jovyan/hydrosar/Dataset/bang_NE/subset_East/RTC_GAMMA/S1A_IW_20191104T120448_DVP_RTC30_G_gpufem_247C_VH_subset.tif\n",
      "vv = /home/jovyan/hydrosar/Dataset/bang_NE/subset_East/RTC_GAMMA/S1A_IW_20191116T120448_DVP_RTC30_G_gpufem_C1C6_VV_subset.tif\n",
      "vh = /home/jovyan/hydrosar/Dataset/bang_NE/subset_East/RTC_GAMMA/S1A_IW_20191116T120448_DVP_RTC30_G_gpufem_C1C6_VH_subset.tif\n",
      "vv = /home/jovyan/hydrosar/Dataset/bang_NE/subset_East/RTC_GAMMA/S1A_IW_20191128T120447_DVP_RTC30_G_gpufem_F1A1_VV_subset.tif\n",
      "vh = /home/jovyan/hydrosar/Dataset/bang_NE/subset_East/RTC_GAMMA/S1A_IW_20191128T120447_DVP_RTC30_G_gpufem_F1A1_VH_subset.tif\n",
      "vv = /home/jovyan/hydrosar/Dataset/bang_NE/subset_East/RTC_GAMMA/S1A_IW_20191210T120447_DVP_RTC30_G_gpufem_CEB6_VV_subset.tif\n",
      "vh = /home/jovyan/hydrosar/Dataset/bang_NE/subset_East/RTC_GAMMA/S1A_IW_20191210T120447_DVP_RTC30_G_gpufem_CEB6_VH_subset.tif\n",
      "vv = /home/jovyan/hydrosar/Dataset/bang_NE/subset_East/RTC_GAMMA/S1A_IW_20191222T120446_DVP_RTC30_G_gpufem_E4A8_VV_subset.tif\n",
      "vh = /home/jovyan/hydrosar/Dataset/bang_NE/subset_East/RTC_GAMMA/S1A_IW_20191222T120446_DVP_RTC30_G_gpufem_E4A8_VH_subset.tif\n",
      "vv = /home/jovyan/hydrosar/Dataset/bang_NE/subset_East/RTC_GAMMA/S1A_IW_20200103T120446_DVP_RTC30_G_gpufem_DBED_VV_subset.tif\n",
      "vh = /home/jovyan/hydrosar/Dataset/bang_NE/subset_East/RTC_GAMMA/S1A_IW_20200103T120446_DVP_RTC30_G_gpufem_DBED_VH_subset.tif\n",
      "vv = /home/jovyan/hydrosar/Dataset/bang_NE/subset_East/RTC_GAMMA/S1A_IW_20200115T120445_DVP_RTC30_G_gpufem_43F5_VV_subset.tif\n",
      "vh = /home/jovyan/hydrosar/Dataset/bang_NE/subset_East/RTC_GAMMA/S1A_IW_20200115T120445_DVP_RTC30_G_gpufem_43F5_VH_subset.tif\n",
      "vv = /home/jovyan/hydrosar/Dataset/bang_NE/subset_East/RTC_GAMMA/S1A_IW_20200127T120445_DVP_RTC30_G_gpufem_5E3A_VV_subset.tif\n",
      "vh = /home/jovyan/hydrosar/Dataset/bang_NE/subset_East/RTC_GAMMA/S1A_IW_20200127T120445_DVP_RTC30_G_gpufem_5E3A_VH_subset.tif\n",
      "vv = /home/jovyan/hydrosar/Dataset/bang_NE/subset_East/RTC_GAMMA/S1A_IW_20200208T120445_DVP_RTC30_G_gpufem_A8A8_VV_subset.tif\n",
      "vh = /home/jovyan/hydrosar/Dataset/bang_NE/subset_East/RTC_GAMMA/S1A_IW_20200208T120445_DVP_RTC30_G_gpufem_A8A8_VH_subset.tif\n",
      "vv = /home/jovyan/hydrosar/Dataset/bang_NE/subset_East/RTC_GAMMA/S1A_IW_20200220T120444_DVP_RTC30_G_gpufem_1A88_VV_subset.tif\n",
      "vh = /home/jovyan/hydrosar/Dataset/bang_NE/subset_East/RTC_GAMMA/S1A_IW_20200220T120444_DVP_RTC30_G_gpufem_1A88_VH_subset.tif\n",
      "vv = /home/jovyan/hydrosar/Dataset/bang_NE/subset_East/RTC_GAMMA/S1A_IW_20200303T120444_DVP_RTC30_G_gpufem_BAB5_VV_subset.tif\n",
      "vh = /home/jovyan/hydrosar/Dataset/bang_NE/subset_East/RTC_GAMMA/S1A_IW_20200303T120444_DVP_RTC30_G_gpufem_BAB5_VH_subset.tif\n",
      "vv = /home/jovyan/hydrosar/Dataset/bang_NE/subset_East/RTC_GAMMA/S1A_IW_20200315T120445_DVP_RTC30_G_gpufem_C860_VV_subset.tif\n",
      "vh = /home/jovyan/hydrosar/Dataset/bang_NE/subset_East/RTC_GAMMA/S1A_IW_20200315T120445_DVP_RTC30_G_gpufem_C860_VH_subset.tif\n",
      "vv = /home/jovyan/hydrosar/Dataset/bang_NE/subset_East/RTC_GAMMA/S1A_IW_20200327T120445_DVP_RTC30_G_gpufem_F7B4_VV_subset.tif\n",
      "vh = /home/jovyan/hydrosar/Dataset/bang_NE/subset_East/RTC_GAMMA/S1A_IW_20200327T120445_DVP_RTC30_G_gpufem_F7B4_VH_subset.tif\n",
      "vv = /home/jovyan/hydrosar/Dataset/bang_NE/subset_East/RTC_GAMMA/S1A_IW_20200408T120445_DVP_RTC30_G_gpufem_3D72_VV_subset.tif\n",
      "vh = /home/jovyan/hydrosar/Dataset/bang_NE/subset_East/RTC_GAMMA/S1A_IW_20200408T120445_DVP_RTC30_G_gpufem_3D72_VH_subset.tif\n",
      "vv = /home/jovyan/hydrosar/Dataset/bang_NE/subset_East/RTC_GAMMA/S1A_IW_20200420T120445_DVP_RTC30_G_gpufem_6689_VV_subset.tif\n",
      "vh = /home/jovyan/hydrosar/Dataset/bang_NE/subset_East/RTC_GAMMA/S1A_IW_20200420T120445_DVP_RTC30_G_gpufem_6689_VH_subset.tif\n",
      "vv = /home/jovyan/hydrosar/Dataset/bang_NE/subset_East/RTC_GAMMA/S1A_IW_20200502T120446_DVP_RTC30_G_gpufem_D75F_VV_subset.tif\n",
      "vh = /home/jovyan/hydrosar/Dataset/bang_NE/subset_East/RTC_GAMMA/S1A_IW_20200502T120446_DVP_RTC30_G_gpufem_D75F_VH_subset.tif\n",
      "vv = /home/jovyan/hydrosar/Dataset/bang_NE/subset_East/RTC_GAMMA/S1A_IW_20200514T120447_DVP_RTC30_G_gpufem_644F_VV_subset.tif\n",
      "vh = /home/jovyan/hydrosar/Dataset/bang_NE/subset_East/RTC_GAMMA/S1A_IW_20200514T120447_DVP_RTC30_G_gpufem_644F_VH_subset.tif\n",
      "vv = /home/jovyan/hydrosar/Dataset/bang_NE/subset_East/RTC_GAMMA/S1A_IW_20200526T120447_DVP_RTC30_G_gpufem_B478_VV_subset.tif\n",
      "vh = /home/jovyan/hydrosar/Dataset/bang_NE/subset_East/RTC_GAMMA/S1A_IW_20200526T120447_DVP_RTC30_G_gpufem_B478_VH_subset.tif\n",
      "vv = /home/jovyan/hydrosar/Dataset/bang_NE/subset_East/RTC_GAMMA/S1A_IW_20200607T120448_DVP_RTC30_G_gpufem_05E8_VV_subset.tif\n",
      "vh = /home/jovyan/hydrosar/Dataset/bang_NE/subset_East/RTC_GAMMA/S1A_IW_20200607T120448_DVP_RTC30_G_gpufem_05E8_VH_subset.tif\n",
      "vv = /home/jovyan/hydrosar/Dataset/bang_NE/subset_East/RTC_GAMMA/S1A_IW_20200619T120449_DVP_RTC30_G_gpufem_3C15_VV_subset.tif\n",
      "vh = /home/jovyan/hydrosar/Dataset/bang_NE/subset_East/RTC_GAMMA/S1A_IW_20200619T120449_DVP_RTC30_G_gpufem_3C15_VH_subset.tif\n",
      "vv = /home/jovyan/hydrosar/Dataset/bang_NE/subset_East/RTC_GAMMA/S1A_IW_20200701T120449_DVP_RTC30_G_gpufem_E709_VV_subset.tif\n",
      "vh = /home/jovyan/hydrosar/Dataset/bang_NE/subset_East/RTC_GAMMA/S1A_IW_20200701T120449_DVP_RTC30_G_gpufem_E709_VH_subset.tif\n",
      "vv = /home/jovyan/hydrosar/Dataset/bang_NE/subset_East/RTC_GAMMA/S1A_IW_20200713T120450_DVP_RTC30_G_gpufem_6EB6_VV_subset.tif\n",
      "vh = /home/jovyan/hydrosar/Dataset/bang_NE/subset_East/RTC_GAMMA/S1A_IW_20200713T120450_DVP_RTC30_G_gpufem_6EB6_VH_subset.tif\n",
      "vv = /home/jovyan/hydrosar/Dataset/bang_NE/subset_East/RTC_GAMMA/S1A_IW_20200725T120451_DVP_RTC30_G_gpufem_82EC_VV_subset.tif\n",
      "vh = /home/jovyan/hydrosar/Dataset/bang_NE/subset_East/RTC_GAMMA/S1A_IW_20200725T120451_DVP_RTC30_G_gpufem_82EC_VH_subset.tif\n",
      "vv = /home/jovyan/hydrosar/Dataset/bang_NE/subset_East/RTC_GAMMA/S1A_IW_20200806T120452_DVP_RTC30_G_gpufem_34F8_VV_subset.tif\n",
      "vh = /home/jovyan/hydrosar/Dataset/bang_NE/subset_East/RTC_GAMMA/S1A_IW_20200806T120452_DVP_RTC30_G_gpufem_34F8_VH_subset.tif\n",
      "vv = /home/jovyan/hydrosar/Dataset/bang_NE/subset_East/RTC_GAMMA/S1A_IW_20200818T120452_DVP_RTC30_G_gpufem_362D_VV_subset.tif\n",
      "vh = /home/jovyan/hydrosar/Dataset/bang_NE/subset_East/RTC_GAMMA/S1A_IW_20200818T120452_DVP_RTC30_G_gpufem_362D_VH_subset.tif\n",
      "vv = /home/jovyan/hydrosar/Dataset/bang_NE/subset_East/RTC_GAMMA/S1A_IW_20200830T120453_DVP_RTC30_G_gpufem_7018_VV_subset.tif\n",
      "vh = /home/jovyan/hydrosar/Dataset/bang_NE/subset_East/RTC_GAMMA/S1A_IW_20200830T120453_DVP_RTC30_G_gpufem_7018_VH_subset.tif\n",
      "vv = /home/jovyan/hydrosar/Dataset/bang_NE/subset_East/RTC_GAMMA/S1A_IW_20200911T120454_DVP_RTC30_G_gpufem_D603_VV_subset.tif\n",
      "vh = /home/jovyan/hydrosar/Dataset/bang_NE/subset_East/RTC_GAMMA/S1A_IW_20200911T120454_DVP_RTC30_G_gpufem_D603_VH_subset.tif\n",
      "vv = /home/jovyan/hydrosar/Dataset/bang_NE/subset_East/RTC_GAMMA/S1A_IW_20200923T120454_DVP_RTC30_G_gpufem_2891_VV_subset.tif\n",
      "vh = /home/jovyan/hydrosar/Dataset/bang_NE/subset_East/RTC_GAMMA/S1A_IW_20200923T120454_DVP_RTC30_G_gpufem_2891_VH_subset.tif\n",
      "vv = /home/jovyan/hydrosar/Dataset/bang_NE/subset_East/RTC_GAMMA/S1A_IW_20201005T120454_DVP_RTC30_G_gpufem_37D1_VV_subset.tif\n",
      "vh = /home/jovyan/hydrosar/Dataset/bang_NE/subset_East/RTC_GAMMA/S1A_IW_20201005T120454_DVP_RTC30_G_gpufem_37D1_VH_subset.tif\n",
      "vv = /home/jovyan/hydrosar/Dataset/bang_NE/subset_East/RTC_GAMMA/S1A_IW_20201017T120454_DVP_RTC30_G_gpufem_6556_VV_subset.tif\n",
      "vh = /home/jovyan/hydrosar/Dataset/bang_NE/subset_East/RTC_GAMMA/S1A_IW_20201017T120454_DVP_RTC30_G_gpufem_6556_VH_subset.tif\n",
      "vv = /home/jovyan/hydrosar/Dataset/bang_NE/subset_East/RTC_GAMMA/S1A_IW_20201029T120454_DVP_RTC30_G_gpufem_B897_VV_subset.tif\n",
      "vh = /home/jovyan/hydrosar/Dataset/bang_NE/subset_East/RTC_GAMMA/S1A_IW_20201029T120454_DVP_RTC30_G_gpufem_B897_VH_subset.tif\n",
      "vv = /home/jovyan/hydrosar/Dataset/bang_NE/subset_East/RTC_GAMMA/S1A_IW_20201110T120454_DVP_RTC30_G_gpufem_B939_VV_subset.tif\n",
      "vh = /home/jovyan/hydrosar/Dataset/bang_NE/subset_East/RTC_GAMMA/S1A_IW_20201110T120454_DVP_RTC30_G_gpufem_B939_VH_subset.tif\n",
      "vv = /home/jovyan/hydrosar/Dataset/bang_NE/subset_East/RTC_GAMMA/S1A_IW_20201122T120454_DVP_RTC30_G_gpufem_F692_VV_subset.tif\n",
      "vh = /home/jovyan/hydrosar/Dataset/bang_NE/subset_East/RTC_GAMMA/S1A_IW_20201122T120454_DVP_RTC30_G_gpufem_F692_VH_subset.tif\n",
      "vv = /home/jovyan/hydrosar/Dataset/bang_NE/subset_East/RTC_GAMMA/S1A_IW_20201204T120453_DVP_RTC30_G_gpufem_CE47_VV_subset.tif\n",
      "vh = /home/jovyan/hydrosar/Dataset/bang_NE/subset_East/RTC_GAMMA/S1A_IW_20201204T120453_DVP_RTC30_G_gpufem_CE47_VH_subset.tif\n",
      "vv = /home/jovyan/hydrosar/Dataset/bang_NE/subset_East/RTC_GAMMA/S1A_IW_20201216T120453_DVP_RTC30_G_gpufem_00FD_VV_subset.tif\n",
      "vh = /home/jovyan/hydrosar/Dataset/bang_NE/subset_East/RTC_GAMMA/S1A_IW_20201216T120453_DVP_RTC30_G_gpufem_00FD_VH_subset.tif\n",
      "vv = /home/jovyan/hydrosar/Dataset/bang_NE/subset_East/RTC_GAMMA/S1A_IW_20201228T120452_DVP_RTC30_G_gpufem_9EF3_VV_subset.tif\n",
      "vh = /home/jovyan/hydrosar/Dataset/bang_NE/subset_East/RTC_GAMMA/S1A_IW_20201228T120452_DVP_RTC30_G_gpufem_9EF3_VH_subset.tif\n",
      "vv = /home/jovyan/hydrosar/Dataset/bang_NE/subset_East/RTC_GAMMA/S1A_IW_20210109T120452_DVP_RTC30_G_gpufem_5E7C_VV_subset.tif\n",
      "vh = /home/jovyan/hydrosar/Dataset/bang_NE/subset_East/RTC_GAMMA/S1A_IW_20210109T120452_DVP_RTC30_G_gpufem_5E7C_VH_subset.tif\n",
      "vv = /home/jovyan/hydrosar/Dataset/bang_NE/subset_East/RTC_GAMMA/S1A_IW_20210121T120451_DVP_RTC30_G_gpufem_DB2A_VV_subset.tif\n",
      "vh = /home/jovyan/hydrosar/Dataset/bang_NE/subset_East/RTC_GAMMA/S1A_IW_20210121T120451_DVP_RTC30_G_gpufem_DB2A_VH_subset.tif\n",
      "vv = /home/jovyan/hydrosar/Dataset/bang_NE/subset_East/RTC_GAMMA/S1A_IW_20210202T120451_DVP_RTC30_G_gpufem_A277_VV_subset.tif\n",
      "vh = /home/jovyan/hydrosar/Dataset/bang_NE/subset_East/RTC_GAMMA/S1A_IW_20210202T120451_DVP_RTC30_G_gpufem_A277_VH_subset.tif\n",
      "vv = /home/jovyan/hydrosar/Dataset/bang_NE/subset_East/RTC_GAMMA/S1A_IW_20210214T120450_DVP_RTC30_G_gpufem_2A53_VV_subset.tif\n",
      "vh = /home/jovyan/hydrosar/Dataset/bang_NE/subset_East/RTC_GAMMA/S1A_IW_20210214T120450_DVP_RTC30_G_gpufem_2A53_VH_subset.tif\n",
      "vv = /home/jovyan/hydrosar/Dataset/bang_NE/subset_East/RTC_GAMMA/S1A_IW_20210226T120450_DVP_RTC30_G_gpufem_EBFB_VV_subset.tif\n",
      "vh = /home/jovyan/hydrosar/Dataset/bang_NE/subset_East/RTC_GAMMA/S1A_IW_20210226T120450_DVP_RTC30_G_gpufem_EBFB_VH_subset.tif\n",
      "vv = /home/jovyan/hydrosar/Dataset/bang_NE/subset_East/RTC_GAMMA/S1A_IW_20210310T120450_DVP_RTC30_G_gpufem_9E13_VV_subset.tif\n",
      "vh = /home/jovyan/hydrosar/Dataset/bang_NE/subset_East/RTC_GAMMA/S1A_IW_20210310T120450_DVP_RTC30_G_gpufem_9E13_VH_subset.tif\n",
      "vv = /home/jovyan/hydrosar/Dataset/bang_NE/subset_East/RTC_GAMMA/S1A_IW_20210322T120450_DVP_RTC30_G_gpufem_9E55_VV_subset.tif\n",
      "vh = /home/jovyan/hydrosar/Dataset/bang_NE/subset_East/RTC_GAMMA/S1A_IW_20210322T120450_DVP_RTC30_G_gpufem_9E55_VH_subset.tif\n",
      "vv = /home/jovyan/hydrosar/Dataset/bang_NE/subset_East/RTC_GAMMA/S1A_IW_20210403T120451_DVP_RTC30_G_gpufem_3410_VV_subset.tif\n",
      "vh = /home/jovyan/hydrosar/Dataset/bang_NE/subset_East/RTC_GAMMA/S1A_IW_20210403T120451_DVP_RTC30_G_gpufem_3410_VH_subset.tif\n",
      "vv = /home/jovyan/hydrosar/Dataset/bang_NE/subset_East/RTC_GAMMA/S1A_IW_20210415T120451_DVP_RTC30_G_gpufem_756D_VV_subset.tif\n",
      "vh = /home/jovyan/hydrosar/Dataset/bang_NE/subset_East/RTC_GAMMA/S1A_IW_20210415T120451_DVP_RTC30_G_gpufem_756D_VH_subset.tif\n",
      "vv = /home/jovyan/hydrosar/Dataset/bang_NE/subset_East/RTC_GAMMA/S1A_IW_20210427T120452_DVP_RTC30_G_gpufem_D07E_VV_subset.tif\n",
      "vh = /home/jovyan/hydrosar/Dataset/bang_NE/subset_East/RTC_GAMMA/S1A_IW_20210427T120452_DVP_RTC30_G_gpufem_D07E_VH_subset.tif\n",
      "vv = /home/jovyan/hydrosar/Dataset/bang_NE/subset_East/RTC_GAMMA/S1A_IW_20210509T120452_DVP_RTC30_G_gpufem_487B_VV_subset.tif\n",
      "vh = /home/jovyan/hydrosar/Dataset/bang_NE/subset_East/RTC_GAMMA/S1A_IW_20210509T120452_DVP_RTC30_G_gpufem_487B_VH_subset.tif\n",
      "vv = /home/jovyan/hydrosar/Dataset/bang_NE/subset_East/RTC_GAMMA/S1A_IW_20210521T120453_DVP_RTC30_G_gpufem_AEEC_VV_subset.tif\n",
      "vh = /home/jovyan/hydrosar/Dataset/bang_NE/subset_East/RTC_GAMMA/S1A_IW_20210521T120453_DVP_RTC30_G_gpufem_AEEC_VH_subset.tif\n",
      "vv = /home/jovyan/hydrosar/Dataset/bang_NE/subset_East/RTC_GAMMA/S1A_IW_20210602T120454_DVP_RTC30_G_gpufem_015F_VV_subset.tif\n",
      "vh = /home/jovyan/hydrosar/Dataset/bang_NE/subset_East/RTC_GAMMA/S1A_IW_20210602T120454_DVP_RTC30_G_gpufem_015F_VH_subset.tif\n",
      "vv = /home/jovyan/hydrosar/Dataset/bang_NE/subset_East/RTC_GAMMA/S1A_IW_20210614T120455_DVP_RTC30_G_gpufem_7735_VV_subset.tif\n",
      "vh = /home/jovyan/hydrosar/Dataset/bang_NE/subset_East/RTC_GAMMA/S1A_IW_20210614T120455_DVP_RTC30_G_gpufem_7735_VH_subset.tif\n",
      "vv = /home/jovyan/hydrosar/Dataset/bang_NE/subset_East/RTC_GAMMA/S1A_IW_20210626T120455_DVP_RTC30_G_gpufem_5D53_VV_subset.tif\n",
      "vh = /home/jovyan/hydrosar/Dataset/bang_NE/subset_East/RTC_GAMMA/S1A_IW_20210626T120455_DVP_RTC30_G_gpufem_5D53_VH_subset.tif\n",
      "vv = /home/jovyan/hydrosar/Dataset/bang_NE/subset_East/RTC_GAMMA/S1A_IW_20210708T120456_DVP_RTC30_G_gpufem_9048_VV_subset.tif\n",
      "vh = /home/jovyan/hydrosar/Dataset/bang_NE/subset_East/RTC_GAMMA/S1A_IW_20210708T120456_DVP_RTC30_G_gpufem_9048_VH_subset.tif\n",
      "vv = /home/jovyan/hydrosar/Dataset/bang_NE/subset_East/RTC_GAMMA/S1A_IW_20210720T120457_DVP_RTC30_G_gpufem_A86B_VV_subset.tif\n",
      "vh = /home/jovyan/hydrosar/Dataset/bang_NE/subset_East/RTC_GAMMA/S1A_IW_20210720T120457_DVP_RTC30_G_gpufem_A86B_VH_subset.tif\n",
      "vv = /home/jovyan/hydrosar/Dataset/bang_NE/subset_East/RTC_GAMMA/S1A_IW_20210801T120457_DVP_RTC30_G_gpufem_D150_VV_subset.tif\n",
      "vh = /home/jovyan/hydrosar/Dataset/bang_NE/subset_East/RTC_GAMMA/S1A_IW_20210801T120457_DVP_RTC30_G_gpufem_D150_VH_subset.tif\n",
      "vv = /home/jovyan/hydrosar/Dataset/bang_NE/subset_East/RTC_GAMMA/S1A_IW_20210813T120458_DVP_RTC30_G_gpufem_73D9_VV_subset.tif\n",
      "vh = /home/jovyan/hydrosar/Dataset/bang_NE/subset_East/RTC_GAMMA/S1A_IW_20210813T120458_DVP_RTC30_G_gpufem_73D9_VH_subset.tif\n",
      "vv = /home/jovyan/hydrosar/Dataset/bang_NE/subset_East/RTC_GAMMA/S1A_IW_20210825T120459_DVP_RTC30_G_gpufem_A04F_VV_subset.tif\n",
      "vh = /home/jovyan/hydrosar/Dataset/bang_NE/subset_East/RTC_GAMMA/S1A_IW_20210825T120459_DVP_RTC30_G_gpufem_A04F_VH_subset.tif\n",
      "vv = /home/jovyan/hydrosar/Dataset/bang_NE/subset_East/RTC_GAMMA/S1A_IW_20210906T120459_DVP_RTC30_G_gpufem_B3A8_VV_subset.tif\n",
      "vh = /home/jovyan/hydrosar/Dataset/bang_NE/subset_East/RTC_GAMMA/S1A_IW_20210906T120459_DVP_RTC30_G_gpufem_B3A8_VH_subset.tif\n",
      "vv = /home/jovyan/hydrosar/Dataset/bang_NE/subset_East/RTC_GAMMA/S1A_IW_20210918T120500_DVP_RTC30_G_gpufem_6F10_VV_subset.tif\n",
      "vh = /home/jovyan/hydrosar/Dataset/bang_NE/subset_East/RTC_GAMMA/S1A_IW_20210918T120500_DVP_RTC30_G_gpufem_6F10_VH_subset.tif\n",
      "vv = /home/jovyan/hydrosar/Dataset/bang_NE/subset_East/RTC_GAMMA/S1A_IW_20210930T120500_DVP_RTC30_G_gpufem_529E_VV_subset.tif\n",
      "vh = /home/jovyan/hydrosar/Dataset/bang_NE/subset_East/RTC_GAMMA/S1A_IW_20210930T120500_DVP_RTC30_G_gpufem_529E_VH_subset.tif\n",
      "vv = /home/jovyan/hydrosar/Dataset/bang_NE/subset_East/RTC_GAMMA/S1A_IW_20211012T120500_DVP_RTC30_G_gpufem_6C16_VV_subset.tif\n",
      "vh = /home/jovyan/hydrosar/Dataset/bang_NE/subset_East/RTC_GAMMA/S1A_IW_20211012T120500_DVP_RTC30_G_gpufem_6C16_VH_subset.tif\n",
      "vv = /home/jovyan/hydrosar/Dataset/bang_NE/subset_East/RTC_GAMMA/S1A_IW_20211024T120500_DVP_RTC30_G_gpufem_0BE0_VV_subset.tif\n",
      "vh = /home/jovyan/hydrosar/Dataset/bang_NE/subset_East/RTC_GAMMA/S1A_IW_20211024T120500_DVP_RTC30_G_gpufem_0BE0_VH_subset.tif\n",
      "vv = /home/jovyan/hydrosar/Dataset/bang_NE/subset_East/RTC_GAMMA/S1A_IW_20211105T120500_DVP_RTC30_G_gpufem_FA5C_VV_subset.tif\n",
      "vh = /home/jovyan/hydrosar/Dataset/bang_NE/subset_East/RTC_GAMMA/S1A_IW_20211105T120500_DVP_RTC30_G_gpufem_FA5C_VH_subset.tif\n",
      "vv = /home/jovyan/hydrosar/Dataset/bang_NE/subset_East/RTC_GAMMA/S1A_IW_20211117T120500_DVP_RTC30_G_gpufem_D07B_VV_subset.tif\n",
      "vh = /home/jovyan/hydrosar/Dataset/bang_NE/subset_East/RTC_GAMMA/S1A_IW_20211117T120500_DVP_RTC30_G_gpufem_D07B_VH_subset.tif\n",
      "vv = /home/jovyan/hydrosar/Dataset/bang_NE/subset_East/RTC_GAMMA/S1A_IW_20211129T120459_DVP_RTC30_G_gpufem_E269_VV_subset.tif\n",
      "vh = /home/jovyan/hydrosar/Dataset/bang_NE/subset_East/RTC_GAMMA/S1A_IW_20211129T120459_DVP_RTC30_G_gpufem_E269_VH_subset.tif\n",
      "vv = /home/jovyan/hydrosar/Dataset/bang_NE/subset_East/RTC_GAMMA/S1A_IW_20211211T120459_DVP_RTC30_G_gpufem_3B81_VV_subset.tif\n",
      "vh = /home/jovyan/hydrosar/Dataset/bang_NE/subset_East/RTC_GAMMA/S1A_IW_20211211T120459_DVP_RTC30_G_gpufem_3B81_VH_subset.tif\n",
      "vv = /home/jovyan/hydrosar/Dataset/bang_NE/subset_East/RTC_GAMMA/S1A_IW_20211223T120458_DVP_RTC30_G_gpufem_6524_VV_subset.tif\n",
      "vh = /home/jovyan/hydrosar/Dataset/bang_NE/subset_East/RTC_GAMMA/S1A_IW_20211223T120458_DVP_RTC30_G_gpufem_6524_VH_subset.tif\n",
      "vv = /home/jovyan/hydrosar/Dataset/bang_NE/subset_East/RTC_GAMMA/S1A_IW_20220104T120457_DVP_RTC30_G_gpufem_F4B3_VV_subset.tif\n",
      "vh = /home/jovyan/hydrosar/Dataset/bang_NE/subset_East/RTC_GAMMA/S1A_IW_20220104T120457_DVP_RTC30_G_gpufem_F4B3_VH_subset.tif\n",
      "vv = /home/jovyan/hydrosar/Dataset/bang_NE/subset_East/RTC_GAMMA/S1A_IW_20220116T120457_DVP_RTC30_G_gpufem_4A7F_VV_subset.tif\n",
      "vh = /home/jovyan/hydrosar/Dataset/bang_NE/subset_East/RTC_GAMMA/S1A_IW_20220116T120457_DVP_RTC30_G_gpufem_4A7F_VH_subset.tif\n",
      "vv = /home/jovyan/hydrosar/Dataset/bang_NE/subset_East/RTC_GAMMA/S1A_IW_20220128T120456_DVP_RTC30_G_gpufem_EC1C_VV_subset.tif\n",
      "vh = /home/jovyan/hydrosar/Dataset/bang_NE/subset_East/RTC_GAMMA/S1A_IW_20220128T120456_DVP_RTC30_G_gpufem_EC1C_VH_subset.tif\n",
      "vv = /home/jovyan/hydrosar/Dataset/bang_NE/subset_East/RTC_GAMMA/S1A_IW_20220209T120456_DVP_RTC30_G_gpufem_1037_VV_subset.tif\n",
      "vh = /home/jovyan/hydrosar/Dataset/bang_NE/subset_East/RTC_GAMMA/S1A_IW_20220209T120456_DVP_RTC30_G_gpufem_1037_VH_subset.tif\n",
      "vv = /home/jovyan/hydrosar/Dataset/bang_NE/subset_East/RTC_GAMMA/S1A_IW_20220221T120456_DVP_RTC30_G_gpufem_A40A_VV_subset.tif\n",
      "vh = /home/jovyan/hydrosar/Dataset/bang_NE/subset_East/RTC_GAMMA/S1A_IW_20220221T120456_DVP_RTC30_G_gpufem_A40A_VH_subset.tif\n",
      "vv = /home/jovyan/hydrosar/Dataset/bang_NE/subset_East/RTC_GAMMA/S1A_IW_20220305T120456_DVP_RTC30_G_gpufem_ADD2_VV_subset.tif\n",
      "vh = /home/jovyan/hydrosar/Dataset/bang_NE/subset_East/RTC_GAMMA/S1A_IW_20220305T120456_DVP_RTC30_G_gpufem_ADD2_VH_subset.tif\n",
      "vv = /home/jovyan/hydrosar/Dataset/bang_NE/subset_East/RTC_GAMMA/S1A_IW_20220317T120456_DVP_RTC30_G_gpufem_2DE1_VV_subset.tif\n",
      "vh = /home/jovyan/hydrosar/Dataset/bang_NE/subset_East/RTC_GAMMA/S1A_IW_20220317T120456_DVP_RTC30_G_gpufem_2DE1_VH_subset.tif\n",
      "vv = /home/jovyan/hydrosar/Dataset/bang_NE/subset_East/RTC_GAMMA/S1A_IW_20220329T120456_DVP_RTC30_G_gpufem_DA96_VV_subset.tif\n",
      "vh = /home/jovyan/hydrosar/Dataset/bang_NE/subset_East/RTC_GAMMA/S1A_IW_20220329T120456_DVP_RTC30_G_gpufem_DA96_VH_subset.tif\n",
      "vv = /home/jovyan/hydrosar/Dataset/bang_NE/subset_East/RTC_GAMMA/S1A_IW_20220410T120457_DVP_RTC30_G_gpufem_071D_VV_subset.tif\n",
      "vh = /home/jovyan/hydrosar/Dataset/bang_NE/subset_East/RTC_GAMMA/S1A_IW_20220410T120457_DVP_RTC30_G_gpufem_071D_VH_subset.tif\n",
      "vv = /home/jovyan/hydrosar/Dataset/bang_NE/subset_East/RTC_GAMMA/S1A_IW_20220422T120457_DVP_RTC30_G_gpufem_D66B_VV_subset.tif\n",
      "vh = /home/jovyan/hydrosar/Dataset/bang_NE/subset_East/RTC_GAMMA/S1A_IW_20220422T120457_DVP_RTC30_G_gpufem_D66B_VH_subset.tif\n",
      "vv = /home/jovyan/hydrosar/Dataset/bang_NE/subset_East/RTC_GAMMA/S1A_IW_20220504T120457_DVP_RTC30_G_gpufem_9B0C_VV_subset.tif\n",
      "vh = /home/jovyan/hydrosar/Dataset/bang_NE/subset_East/RTC_GAMMA/S1A_IW_20220504T120457_DVP_RTC30_G_gpufem_9B0C_VH_subset.tif\n",
      "vv = /home/jovyan/hydrosar/Dataset/bang_NE/subset_East/RTC_GAMMA/S1A_IW_20220516T120458_DVP_RTC30_G_gpufem_3BEB_VV_subset.tif\n",
      "vh = /home/jovyan/hydrosar/Dataset/bang_NE/subset_East/RTC_GAMMA/S1A_IW_20220516T120458_DVP_RTC30_G_gpufem_3BEB_VH_subset.tif\n",
      "vv = /home/jovyan/hydrosar/Dataset/bang_NE/subset_East/RTC_GAMMA/S1A_IW_20220528T120459_DVP_RTC30_G_gpufem_DC3E_VV_subset.tif\n",
      "vh = /home/jovyan/hydrosar/Dataset/bang_NE/subset_East/RTC_GAMMA/S1A_IW_20220528T120459_DVP_RTC30_G_gpufem_DC3E_VH_subset.tif\n",
      "vv = /home/jovyan/hydrosar/Dataset/bang_NE/subset_East/RTC_GAMMA/S1A_IW_20220609T120500_DVP_RTC30_G_gpufem_35A6_VV_subset.tif\n",
      "vh = /home/jovyan/hydrosar/Dataset/bang_NE/subset_East/RTC_GAMMA/S1A_IW_20220609T120500_DVP_RTC30_G_gpufem_35A6_VH_subset.tif\n",
      "vv = /home/jovyan/hydrosar/Dataset/bang_NE/subset_East/RTC_GAMMA/S1A_IW_20220621T120501_DVP_RTC30_G_gpufem_22C3_VV_subset.tif\n",
      "vh = /home/jovyan/hydrosar/Dataset/bang_NE/subset_East/RTC_GAMMA/S1A_IW_20220621T120501_DVP_RTC30_G_gpufem_22C3_VH_subset.tif\n",
      "vv = /home/jovyan/hydrosar/Dataset/bang_NE/subset_East/RTC_GAMMA/S1A_IW_20220703T120502_DVP_RTC30_G_gpufem_CBC0_VV_subset.tif\n",
      "vh = /home/jovyan/hydrosar/Dataset/bang_NE/subset_East/RTC_GAMMA/S1A_IW_20220703T120502_DVP_RTC30_G_gpufem_CBC0_VH_subset.tif\n",
      "vv = /home/jovyan/hydrosar/Dataset/bang_NE/subset_East/RTC_GAMMA/S1A_IW_20220715T120502_DVP_RTC30_G_gpufem_9F3A_VV_subset.tif\n",
      "vh = /home/jovyan/hydrosar/Dataset/bang_NE/subset_East/RTC_GAMMA/S1A_IW_20220715T120502_DVP_RTC30_G_gpufem_9F3A_VH_subset.tif\n",
      "vv = /home/jovyan/hydrosar/Dataset/bang_NE/subset_East/RTC_GAMMA/S1A_IW_20220727T120503_DVP_RTC30_G_gpufem_59AB_VV_subset.tif\n",
      "vh = /home/jovyan/hydrosar/Dataset/bang_NE/subset_East/RTC_GAMMA/S1A_IW_20220727T120503_DVP_RTC30_G_gpufem_59AB_VH_subset.tif\n",
      "vv = /home/jovyan/hydrosar/Dataset/bang_NE/subset_East/RTC_GAMMA/S1A_IW_20220808T120504_DVP_RTC30_G_gpufem_04A4_VV_subset.tif\n",
      "vh = /home/jovyan/hydrosar/Dataset/bang_NE/subset_East/RTC_GAMMA/S1A_IW_20220808T120504_DVP_RTC30_G_gpufem_04A4_VH_subset.tif\n",
      "vv = /home/jovyan/hydrosar/Dataset/bang_NE/subset_East/RTC_GAMMA/S1A_IW_20220820T120505_DVP_RTC30_G_gpufem_E99A_VV_subset.tif\n",
      "vh = /home/jovyan/hydrosar/Dataset/bang_NE/subset_East/RTC_GAMMA/S1A_IW_20220820T120505_DVP_RTC30_G_gpufem_E99A_VH_subset.tif\n",
      "vv = /home/jovyan/hydrosar/Dataset/bang_NE/subset_East/RTC_GAMMA/S1A_IW_20220901T120505_DVP_RTC30_G_gpufem_6D92_VV_subset.tif\n",
      "vh = /home/jovyan/hydrosar/Dataset/bang_NE/subset_East/RTC_GAMMA/S1A_IW_20220901T120505_DVP_RTC30_G_gpufem_6D92_VH_subset.tif\n",
      "vv = /home/jovyan/hydrosar/Dataset/bang_NE/subset_East/RTC_GAMMA/S1A_IW_20220913T120506_DVP_RTC30_G_gpufem_FB4E_VV_subset.tif\n",
      "vh = /home/jovyan/hydrosar/Dataset/bang_NE/subset_East/RTC_GAMMA/S1A_IW_20220913T120506_DVP_RTC30_G_gpufem_FB4E_VH_subset.tif\n",
      "vv = /home/jovyan/hydrosar/Dataset/bang_NE/subset_East/RTC_GAMMA/S1A_IW_20220925T120505_DVP_RTC30_G_gpufem_3F46_VV_subset.tif\n",
      "vh = /home/jovyan/hydrosar/Dataset/bang_NE/subset_East/RTC_GAMMA/S1A_IW_20220925T120505_DVP_RTC30_G_gpufem_3F46_VH_subset.tif\n",
      "vv = /home/jovyan/hydrosar/Dataset/bang_NE/subset_East/RTC_GAMMA/S1A_IW_20221007T120506_DVP_RTC30_G_gpufem_13ED_VV_subset.tif\n",
      "vh = /home/jovyan/hydrosar/Dataset/bang_NE/subset_East/RTC_GAMMA/S1A_IW_20221007T120506_DVP_RTC30_G_gpufem_13ED_VH_subset.tif\n",
      "vv = /home/jovyan/hydrosar/Dataset/bang_NE/subset_East/RTC_GAMMA/S1A_IW_20221019T120506_DVP_RTC30_G_gpufem_2D94_VV_subset.tif\n",
      "vh = /home/jovyan/hydrosar/Dataset/bang_NE/subset_East/RTC_GAMMA/S1A_IW_20221019T120506_DVP_RTC30_G_gpufem_2D94_VH_subset.tif\n",
      "vv = /home/jovyan/hydrosar/Dataset/bang_NE/subset_East/RTC_GAMMA/S1A_IW_20221031T120506_DVP_RTC30_G_gpufem_48E8_VV_subset.tif\n",
      "vh = /home/jovyan/hydrosar/Dataset/bang_NE/subset_East/RTC_GAMMA/S1A_IW_20221031T120506_DVP_RTC30_G_gpufem_48E8_VH_subset.tif\n",
      "vv = /home/jovyan/hydrosar/Dataset/bang_NE/subset_East/RTC_GAMMA/S1A_IW_20221112T120506_DVP_RTC30_G_gpufem_B3C9_VV_subset.tif\n",
      "vh = /home/jovyan/hydrosar/Dataset/bang_NE/subset_East/RTC_GAMMA/S1A_IW_20221112T120506_DVP_RTC30_G_gpufem_B3C9_VH_subset.tif\n",
      "vv = /home/jovyan/hydrosar/Dataset/bang_NE/subset_East/RTC_GAMMA/S1A_IW_20221124T120506_DVP_RTC30_G_gpufem_82A1_VV_subset.tif\n",
      "vh = /home/jovyan/hydrosar/Dataset/bang_NE/subset_East/RTC_GAMMA/S1A_IW_20221124T120506_DVP_RTC30_G_gpufem_82A1_VH_subset.tif\n",
      "vv = /home/jovyan/hydrosar/Dataset/bang_NE/subset_East/RTC_GAMMA/S1A_IW_20221206T120505_DVP_RTC30_G_gpufem_DECC_VV_subset.tif\n",
      "vh = /home/jovyan/hydrosar/Dataset/bang_NE/subset_East/RTC_GAMMA/S1A_IW_20221206T120505_DVP_RTC30_G_gpufem_DECC_VH_subset.tif\n",
      "vv = /home/jovyan/hydrosar/Dataset/bang_NE/subset_East/RTC_GAMMA/S1A_IW_20221218T120504_DVP_RTC30_G_gpufem_047C_VV_subset.tif\n",
      "vh = /home/jovyan/hydrosar/Dataset/bang_NE/subset_East/RTC_GAMMA/S1A_IW_20221218T120504_DVP_RTC30_G_gpufem_047C_VH_subset.tif\n",
      "vv = /home/jovyan/hydrosar/Dataset/bang_NE/subset_East/RTC_GAMMA/S1A_IW_20221230T120504_DVP_RTC30_G_gpufem_2CC1_VV_subset.tif\n",
      "vh = /home/jovyan/hydrosar/Dataset/bang_NE/subset_East/RTC_GAMMA/S1A_IW_20221230T120504_DVP_RTC30_G_gpufem_2CC1_VH_subset.tif\n",
      "vv = /home/jovyan/hydrosar/Dataset/bang_NE/subset_East/RTC_GAMMA/S1A_IW_20230111T120503_DVP_RTC30_G_gpufem_4C33_VV_subset.tif\n",
      "vh = /home/jovyan/hydrosar/Dataset/bang_NE/subset_East/RTC_GAMMA/S1A_IW_20230111T120503_DVP_RTC30_G_gpufem_4C33_VH_subset.tif\n",
      "vv = /home/jovyan/hydrosar/Dataset/bang_NE/subset_East/RTC_GAMMA/S1A_IW_20230123T120503_DVP_RTC30_G_gpufem_F9EA_VV_subset.tif\n",
      "vh = /home/jovyan/hydrosar/Dataset/bang_NE/subset_East/RTC_GAMMA/S1A_IW_20230123T120503_DVP_RTC30_G_gpufem_F9EA_VH_subset.tif\n",
      "vv = /home/jovyan/hydrosar/Dataset/bang_NE/subset_East/RTC_GAMMA/S1A_IW_20230204T120502_DVP_RTC30_G_gpufem_BCD7_VV_subset.tif\n",
      "vh = /home/jovyan/hydrosar/Dataset/bang_NE/subset_East/RTC_GAMMA/S1A_IW_20230204T120502_DVP_RTC30_G_gpufem_BCD7_VH_subset.tif\n",
      "vv = /home/jovyan/hydrosar/Dataset/bang_NE/subset_East/RTC_GAMMA/S1A_IW_20230216T120502_DVP_RTC30_G_gpufem_72B7_VV_subset.tif\n",
      "vh = /home/jovyan/hydrosar/Dataset/bang_NE/subset_East/RTC_GAMMA/S1A_IW_20230216T120502_DVP_RTC30_G_gpufem_72B7_VH_subset.tif\n",
      "vv = /home/jovyan/hydrosar/Dataset/bang_NE/subset_East/RTC_GAMMA/S1A_IW_20230228T120502_DVP_RTC30_G_gpufem_F61C_VV_subset.tif\n",
      "vh = /home/jovyan/hydrosar/Dataset/bang_NE/subset_East/RTC_GAMMA/S1A_IW_20230228T120502_DVP_RTC30_G_gpufem_F61C_VH_subset.tif\n",
      "vv = /home/jovyan/hydrosar/Dataset/bang_NE/subset_East/RTC_GAMMA/S1A_IW_20230312T120502_DVP_RTC30_G_gpufem_DFDC_VV_subset.tif\n",
      "vh = /home/jovyan/hydrosar/Dataset/bang_NE/subset_East/RTC_GAMMA/S1A_IW_20230312T120502_DVP_RTC30_G_gpufem_DFDC_VH_subset.tif\n",
      "vv = /home/jovyan/hydrosar/Dataset/bang_NE/subset_East/RTC_GAMMA/S1A_IW_20230324T120502_DVP_RTC30_G_gpufem_0936_VV_subset.tif\n",
      "vh = /home/jovyan/hydrosar/Dataset/bang_NE/subset_East/RTC_GAMMA/S1A_IW_20230324T120502_DVP_RTC30_G_gpufem_0936_VH_subset.tif\n",
      "vv = /home/jovyan/hydrosar/Dataset/bang_NE/subset_East/RTC_GAMMA/S1A_IW_20230405T120502_DVP_RTC30_G_gpufem_D3F2_VV_subset.tif\n",
      "vh = /home/jovyan/hydrosar/Dataset/bang_NE/subset_East/RTC_GAMMA/S1A_IW_20230405T120502_DVP_RTC30_G_gpufem_D3F2_VH_subset.tif\n",
      "vv = /home/jovyan/hydrosar/Dataset/bang_NE/subset_East/RTC_GAMMA/S1A_IW_20230417T120503_DVP_RTC30_G_gpufem_85D7_VV_subset.tif\n",
      "vh = /home/jovyan/hydrosar/Dataset/bang_NE/subset_East/RTC_GAMMA/S1A_IW_20230417T120503_DVP_RTC30_G_gpufem_85D7_VH_subset.tif\n",
      "vv = /home/jovyan/hydrosar/Dataset/bang_NE/subset_East/RTC_GAMMA/S1A_IW_20230429T120503_DVP_RTC30_G_gpufem_436F_VV_subset.tif\n",
      "vh = /home/jovyan/hydrosar/Dataset/bang_NE/subset_East/RTC_GAMMA/S1A_IW_20230429T120503_DVP_RTC30_G_gpufem_436F_VH_subset.tif\n",
      "vv = /home/jovyan/hydrosar/Dataset/bang_NE/subset_East/RTC_GAMMA/S1A_IW_20230511T120504_DVP_RTC30_G_gpufem_CBE8_VV_subset.tif\n",
      "vh = /home/jovyan/hydrosar/Dataset/bang_NE/subset_East/RTC_GAMMA/S1A_IW_20230511T120504_DVP_RTC30_G_gpufem_CBE8_VH_subset.tif\n",
      "vv = /home/jovyan/hydrosar/Dataset/bang_NE/subset_East/RTC_GAMMA/S1A_IW_20230523T120504_DVP_RTC30_G_gpufem_38EE_VV_subset.tif\n",
      "vh = /home/jovyan/hydrosar/Dataset/bang_NE/subset_East/RTC_GAMMA/S1A_IW_20230523T120504_DVP_RTC30_G_gpufem_38EE_VH_subset.tif\n",
      "vv = /home/jovyan/hydrosar/Dataset/bang_NE/subset_East/RTC_GAMMA/S1A_IW_20230604T120505_DVP_RTC30_G_gpufem_F98E_VV_subset.tif\n",
      "vh = /home/jovyan/hydrosar/Dataset/bang_NE/subset_East/RTC_GAMMA/S1A_IW_20230604T120505_DVP_RTC30_G_gpufem_F98E_VH_subset.tif\n",
      "vv = /home/jovyan/hydrosar/Dataset/bang_NE/subset_East/RTC_GAMMA/S1A_IW_20230616T120506_DVP_RTC30_G_gpufem_31DE_VV_subset.tif\n",
      "vh = /home/jovyan/hydrosar/Dataset/bang_NE/subset_East/RTC_GAMMA/S1A_IW_20230616T120506_DVP_RTC30_G_gpufem_31DE_VH_subset.tif\n",
      "vv = /home/jovyan/hydrosar/Dataset/bang_NE/subset_East/RTC_GAMMA/S1A_IW_20230628T120506_DVP_RTC30_G_gpufem_61AB_VV_subset.tif\n",
      "vh = /home/jovyan/hydrosar/Dataset/bang_NE/subset_East/RTC_GAMMA/S1A_IW_20230628T120506_DVP_RTC30_G_gpufem_61AB_VH_subset.tif\n",
      "vv = /home/jovyan/hydrosar/Dataset/bang_NE/subset_East/RTC_GAMMA/S1A_IW_20230710T120507_DVP_RTC30_G_gpufem_95E6_VV_subset.tif\n",
      "vh = /home/jovyan/hydrosar/Dataset/bang_NE/subset_East/RTC_GAMMA/S1A_IW_20230710T120507_DVP_RTC30_G_gpufem_95E6_VH_subset.tif\n",
      "vv = /home/jovyan/hydrosar/Dataset/bang_NE/subset_East/RTC_GAMMA/S1A_IW_20230722T120508_DVP_RTC30_G_gpufem_3E39_VV_subset.tif\n",
      "vh = /home/jovyan/hydrosar/Dataset/bang_NE/subset_East/RTC_GAMMA/S1A_IW_20230722T120508_DVP_RTC30_G_gpufem_3E39_VH_subset.tif\n",
      "vv = /home/jovyan/hydrosar/Dataset/bang_NE/subset_East/RTC_GAMMA/S1A_IW_20230803T120509_DVP_RTC30_G_gpufem_C31F_VV_subset.tif\n",
      "vh = /home/jovyan/hydrosar/Dataset/bang_NE/subset_East/RTC_GAMMA/S1A_IW_20230803T120509_DVP_RTC30_G_gpufem_C31F_VH_subset.tif\n",
      "vv = /home/jovyan/hydrosar/Dataset/bang_NE/subset_East/RTC_GAMMA/S1A_IW_20230815T120509_DVP_RTC30_G_gpufem_F226_VV_subset.tif\n",
      "vh = /home/jovyan/hydrosar/Dataset/bang_NE/subset_East/RTC_GAMMA/S1A_IW_20230815T120509_DVP_RTC30_G_gpufem_F226_VH_subset.tif\n",
      "vv = /home/jovyan/hydrosar/Dataset/bang_NE/subset_East/RTC_GAMMA/S1A_IW_20230827T120510_DVP_RTC30_G_gpufem_9BF7_VV_subset.tif\n",
      "vh = /home/jovyan/hydrosar/Dataset/bang_NE/subset_East/RTC_GAMMA/S1A_IW_20230827T120510_DVP_RTC30_G_gpufem_9BF7_VH_subset.tif\n",
      "vv = /home/jovyan/hydrosar/Dataset/bang_NE/subset_East/RTC_GAMMA/S1A_IW_20230908T120510_DVP_RTC30_G_gpufem_A857_VV_subset.tif\n",
      "vh = /home/jovyan/hydrosar/Dataset/bang_NE/subset_East/RTC_GAMMA/S1A_IW_20230908T120510_DVP_RTC30_G_gpufem_A857_VH_subset.tif\n",
      "vv = /home/jovyan/hydrosar/Dataset/bang_NE/subset_East/RTC_GAMMA/S1A_IW_20230920T120511_DVP_RTC30_G_gpufem_24F3_VV_subset.tif\n",
      "vh = /home/jovyan/hydrosar/Dataset/bang_NE/subset_East/RTC_GAMMA/S1A_IW_20230920T120511_DVP_RTC30_G_gpufem_24F3_VH_subset.tif\n",
      "vv = /home/jovyan/hydrosar/Dataset/bang_NE/subset_East/RTC_GAMMA/S1A_IW_20231002T120511_DVP_RTC30_G_gpufem_7D8B_VV_subset.tif\n",
      "vh = /home/jovyan/hydrosar/Dataset/bang_NE/subset_East/RTC_GAMMA/S1A_IW_20231002T120511_DVP_RTC30_G_gpufem_7D8B_VH_subset.tif\n",
      "vv = /home/jovyan/hydrosar/Dataset/bang_NE/subset_East/RTC_GAMMA/S1A_IW_20231014T120511_DVP_RTC30_G_gpufem_D171_VV_subset.tif\n",
      "vh = /home/jovyan/hydrosar/Dataset/bang_NE/subset_East/RTC_GAMMA/S1A_IW_20231014T120511_DVP_RTC30_G_gpufem_D171_VH_subset.tif\n",
      "vv = /home/jovyan/hydrosar/Dataset/bang_NE/subset_East/RTC_GAMMA/S1A_IW_20231026T120511_DVP_RTC30_G_gpufem_5D5C_VV_subset.tif\n",
      "vh = /home/jovyan/hydrosar/Dataset/bang_NE/subset_East/RTC_GAMMA/S1A_IW_20231026T120511_DVP_RTC30_G_gpufem_5D5C_VH_subset.tif\n",
      "vv = /home/jovyan/hydrosar/Dataset/bang_NE/subset_East/RTC_GAMMA/S1A_IW_20231107T120510_DVP_RTC30_G_gpufem_EA92_VV_subset.tif\n",
      "vh = /home/jovyan/hydrosar/Dataset/bang_NE/subset_East/RTC_GAMMA/S1A_IW_20231107T120510_DVP_RTC30_G_gpufem_EA92_VH_subset.tif\n",
      "vv = /home/jovyan/hydrosar/Dataset/bang_NE/subset_East/RTC_GAMMA/S1A_IW_20231119T120510_DVP_RTC30_G_gpufem_FA28_VV_subset.tif\n",
      "vh = /home/jovyan/hydrosar/Dataset/bang_NE/subset_East/RTC_GAMMA/S1A_IW_20231119T120510_DVP_RTC30_G_gpufem_FA28_VH_subset.tif\n",
      "vv = /home/jovyan/hydrosar/Dataset/bang_NE/subset_East/RTC_GAMMA/S1A_IW_20231201T120510_DVP_RTC30_G_gpufem_EEBC_VV_subset.tif\n",
      "vh = /home/jovyan/hydrosar/Dataset/bang_NE/subset_East/RTC_GAMMA/S1A_IW_20231201T120510_DVP_RTC30_G_gpufem_EEBC_VH_subset.tif\n",
      "vv = /home/jovyan/hydrosar/Dataset/bang_NE/subset_East/RTC_GAMMA/S1A_IW_20231213T120510_DVP_RTC30_G_gpufem_922F_VV_subset.tif\n",
      "vh = /home/jovyan/hydrosar/Dataset/bang_NE/subset_East/RTC_GAMMA/S1A_IW_20231213T120510_DVP_RTC30_G_gpufem_922F_VH_subset.tif\n",
      "vv = /home/jovyan/hydrosar/Dataset/bang_NE/subset_East/RTC_GAMMA/S1A_IW_20231225T120509_DVP_RTC30_G_gpufem_C6D6_VV_subset.tif\n",
      "vh = /home/jovyan/hydrosar/Dataset/bang_NE/subset_East/RTC_GAMMA/S1A_IW_20231225T120509_DVP_RTC30_G_gpufem_C6D6_VH_subset.tif\n",
      "vv = /home/jovyan/hydrosar/Dataset/bang_NE/subset_East/RTC_GAMMA/S1A_IW_20240106T120508_DVP_RTC30_G_gpufem_887D_VV_subset.tif\n",
      "vh = /home/jovyan/hydrosar/Dataset/bang_NE/subset_East/RTC_GAMMA/S1A_IW_20240106T120508_DVP_RTC30_G_gpufem_887D_VH_subset.tif\n",
      "vv = /home/jovyan/hydrosar/Dataset/bang_NE/subset_East/RTC_GAMMA/S1A_IW_20240118T120507_DVR_RTC30_G_gpufem_CF32_VV_subset.tif\n",
      "vh = /home/jovyan/hydrosar/Dataset/bang_NE/subset_East/RTC_GAMMA/S1A_IW_20240118T120507_DVR_RTC30_G_gpufem_CF32_VH_subset.tif\n",
      "vv = /home/jovyan/hydrosar/Dataset/bang_NE/subset_East/RTC_GAMMA/S1A_IW_20240130T120507_DVR_RTC30_G_gpufem_811D_VV_subset.tif\n",
      "vh = /home/jovyan/hydrosar/Dataset/bang_NE/subset_East/RTC_GAMMA/S1A_IW_20240130T120507_DVR_RTC30_G_gpufem_811D_VH_subset.tif\n"
     ]
    }
   ],
   "source": [
    "# get list of rasters\n",
    "vv_rasters = glob.glob(fc_subset.selected + 'RTC_GAMMA/*_VV_subset.tif*')\n",
    "vh_rasters = glob.glob(fc_subset.selected + 'RTC_GAMMA/*_VH_subset.tif*')\n",
    "# sort raster paths by date\n",
    "vv_rasters.sort()\n",
    "vh_rasters.sort()\n",
    "\n",
    "# print raster paths\n",
    "for vv, vh in zip(vv_rasters,vh_rasters): \n",
    "    print(f\"vv = {vv}\")\n",
    "    print(f\"vh = {vh}\")"
   ]
  },
  {
   "cell_type": "markdown",
   "metadata": {},
   "source": [
    "***\n",
    "Create the water mask folder and water mask path names. "
   ]
  },
  {
   "cell_type": "code",
   "execution_count": 15,
   "metadata": {
    "scrolled": true
   },
   "outputs": [
    {
     "name": "stdout",
     "output_type": "stream",
     "text": [
      "Folder Water_Masks created.\n"
     ]
    }
   ],
   "source": [
    "# create list of names for water extent rasters\n",
    "\n",
    "water_extent_rasters = []\n",
    "\n",
    "folder_waterMasks = 'Water_Masks'\n",
    "\n",
    "# I assume that the vv_rasters and vh_rasters contain the same set, so I just have to loop through one of them to construct all of my file names. \n",
    "for vv in vv_rasters:\n",
    "    # parse raster name. \n",
    "    pathNflnm, file_extension = os.path.splitext(vv)\n",
    "    pieces_path = pathNflnm.split('/') # the pieces of the path. \n",
    "    pieces_flnm = pieces_path[-1].split('VV') # the pieces of the file name (flnm) (last one in the list). \n",
    "\n",
    "    # create water raster path and file name. \n",
    "    water_flnm = pieces_flnm[0][:-1] + pieces_flnm[1] + '_water_mask_combined' + file_extension\n",
    "    # put water raster path and file name together. \n",
    "    water_extent_raster = os.path.join('/',*pieces_path[:-2],folder_waterMasks,water_flnm)\n",
    "    # print(water_extent_raster)\n",
    "    # add the water_extent_raster name to my list of them\n",
    "    water_extent_rasters.append(water_extent_raster)\n",
    "water_extent_rasters.sort()\n",
    "\n",
    "# create water mask folder\n",
    "path_waterMasks = Path(os.path.join('/',*pieces_path[:-2],folder_waterMasks))\n",
    "# print(path_waterMasks)\n",
    "if not path_waterMasks.exists():\n",
    "    path_waterMasks.mkdir()\n",
    "    print(f\"Folder {folder_waterMasks} created.\")\n",
    "else:\n",
    "    print(f\"Folder {folder_waterMasks} exists.\")\n",
    "\n",
    "# for water_extent in water_extent_rasters:\n",
    "#     print(water_extent)"
   ]
  },
  {
   "cell_type": "markdown",
   "metadata": {},
   "source": [
    "***\n",
    "Loop through and create the water mask for each VV and VH pair. "
   ]
  },
  {
   "cell_type": "code",
   "execution_count": null,
   "metadata": {},
   "outputs": [
    {
     "name": "stdout",
     "output_type": "stream",
     "text": [
      "awesome!\n",
      "awesome!\n",
      "awesome!\n",
      "awesome!\n",
      "awesome!\n",
      "awesome!\n",
      "awesome!\n",
      "awesome!\n"
     ]
    },
    {
     "name": "stderr",
     "output_type": "stream",
     "text": [
      "Threshold too high! Using maximum threshold -23.0 db\n",
      "Threshold too high! Using maximum threshold -15.5 db\n"
     ]
    },
    {
     "name": "stdout",
     "output_type": "stream",
     "text": [
      "awesome!\n",
      "awesome!\n",
      "awesome!\n"
     ]
    },
    {
     "name": "stderr",
     "output_type": "stream",
     "text": [
      "Threshold too high! Using maximum threshold -23.0 db\n"
     ]
    },
    {
     "name": "stdout",
     "output_type": "stream",
     "text": [
      "awesome!\n"
     ]
    },
    {
     "name": "stderr",
     "output_type": "stream",
     "text": [
      "Threshold too high! Using maximum threshold -23.0 db\n"
     ]
    },
    {
     "name": "stdout",
     "output_type": "stream",
     "text": [
      "awesome!\n"
     ]
    },
    {
     "name": "stderr",
     "output_type": "stream",
     "text": [
      "Threshold too high! Using maximum threshold -23.0 db\n",
      "Threshold too high! Using maximum threshold -15.5 db\n"
     ]
    },
    {
     "name": "stdout",
     "output_type": "stream",
     "text": [
      "awesome!\n"
     ]
    },
    {
     "name": "stderr",
     "output_type": "stream",
     "text": [
      "Threshold too high! Using maximum threshold -23.0 db\n"
     ]
    },
    {
     "name": "stdout",
     "output_type": "stream",
     "text": [
      "awesome!\n"
     ]
    },
    {
     "name": "stderr",
     "output_type": "stream",
     "text": [
      "Threshold too high! Using maximum threshold -23.0 db\n",
      "Threshold too high! Using maximum threshold -15.5 db\n"
     ]
    },
    {
     "name": "stdout",
     "output_type": "stream",
     "text": [
      "awesome!\n"
     ]
    },
    {
     "name": "stderr",
     "output_type": "stream",
     "text": [
      "Threshold too high! Using maximum threshold -23.0 db\n",
      "Threshold too high! Using maximum threshold -15.5 db\n"
     ]
    },
    {
     "name": "stdout",
     "output_type": "stream",
     "text": [
      "awesome!\n"
     ]
    },
    {
     "name": "stderr",
     "output_type": "stream",
     "text": [
      "Threshold too high! Using maximum threshold -23.0 db\n"
     ]
    },
    {
     "name": "stdout",
     "output_type": "stream",
     "text": [
      "awesome!\n"
     ]
    },
    {
     "name": "stderr",
     "output_type": "stream",
     "text": [
      "Threshold too high! Using maximum threshold -15.5 db\n"
     ]
    },
    {
     "name": "stdout",
     "output_type": "stream",
     "text": [
      "awesome!\n"
     ]
    },
    {
     "name": "stderr",
     "output_type": "stream",
     "text": [
      "Threshold too high! Using maximum threshold -23.0 db\n",
      "Threshold too high! Using maximum threshold -15.5 db\n"
     ]
    },
    {
     "name": "stdout",
     "output_type": "stream",
     "text": [
      "awesome!\n"
     ]
    },
    {
     "name": "stderr",
     "output_type": "stream",
     "text": [
      "Threshold too high! Using maximum threshold -23.0 db\n",
      "Threshold too high! Using maximum threshold -15.5 db\n"
     ]
    },
    {
     "name": "stdout",
     "output_type": "stream",
     "text": [
      "awesome!\n"
     ]
    },
    {
     "name": "stderr",
     "output_type": "stream",
     "text": [
      "Threshold too high! Using maximum threshold -23.0 db\n",
      "Threshold too high! Using maximum threshold -15.5 db\n"
     ]
    },
    {
     "name": "stdout",
     "output_type": "stream",
     "text": [
      "awesome!\n"
     ]
    },
    {
     "name": "stderr",
     "output_type": "stream",
     "text": [
      "Threshold too high! Using maximum threshold -15.5 db\n"
     ]
    },
    {
     "name": "stdout",
     "output_type": "stream",
     "text": [
      "awesome!\n"
     ]
    },
    {
     "name": "stderr",
     "output_type": "stream",
     "text": [
      "Threshold too high! Using maximum threshold -23.0 db\n"
     ]
    },
    {
     "name": "stdout",
     "output_type": "stream",
     "text": [
      "awesome!\n"
     ]
    },
    {
     "name": "stderr",
     "output_type": "stream",
     "text": [
      "Threshold too high! Using maximum threshold -23.0 db\n",
      "Threshold too high! Using maximum threshold -15.5 db\n"
     ]
    },
    {
     "name": "stdout",
     "output_type": "stream",
     "text": [
      "awesome!\n"
     ]
    },
    {
     "name": "stderr",
     "output_type": "stream",
     "text": [
      "Threshold too high! Using maximum threshold -23.0 db\n"
     ]
    },
    {
     "name": "stdout",
     "output_type": "stream",
     "text": [
      "awesome!\n"
     ]
    },
    {
     "name": "stderr",
     "output_type": "stream",
     "text": [
      "Threshold too high! Using maximum threshold -23.0 db\n"
     ]
    },
    {
     "name": "stdout",
     "output_type": "stream",
     "text": [
      "awesome!\n"
     ]
    },
    {
     "name": "stderr",
     "output_type": "stream",
     "text": [
      "Threshold too high! Using maximum threshold -23.0 db\n"
     ]
    },
    {
     "name": "stdout",
     "output_type": "stream",
     "text": [
      "awesome!\n"
     ]
    },
    {
     "name": "stderr",
     "output_type": "stream",
     "text": [
      "Threshold too high! Using maximum threshold -23.0 db\n"
     ]
    },
    {
     "name": "stdout",
     "output_type": "stream",
     "text": [
      "awesome!\n"
     ]
    },
    {
     "name": "stderr",
     "output_type": "stream",
     "text": [
      "Threshold too high! Using maximum threshold -23.0 db\n"
     ]
    },
    {
     "name": "stdout",
     "output_type": "stream",
     "text": [
      "awesome!\n"
     ]
    },
    {
     "name": "stderr",
     "output_type": "stream",
     "text": [
      "Threshold too high! Using maximum threshold -23.0 db\n"
     ]
    },
    {
     "name": "stdout",
     "output_type": "stream",
     "text": [
      "awesome!\n"
     ]
    },
    {
     "name": "stderr",
     "output_type": "stream",
     "text": [
      "Threshold too high! Using maximum threshold -23.0 db\n"
     ]
    },
    {
     "name": "stdout",
     "output_type": "stream",
     "text": [
      "awesome!\n"
     ]
    },
    {
     "name": "stderr",
     "output_type": "stream",
     "text": [
      "Threshold too high! Using maximum threshold -23.0 db\n"
     ]
    },
    {
     "name": "stdout",
     "output_type": "stream",
     "text": [
      "awesome!\n"
     ]
    },
    {
     "name": "stderr",
     "output_type": "stream",
     "text": [
      "Threshold too high! Using maximum threshold -23.0 db\n"
     ]
    },
    {
     "name": "stdout",
     "output_type": "stream",
     "text": [
      "awesome!\n"
     ]
    },
    {
     "name": "stderr",
     "output_type": "stream",
     "text": [
      "Threshold too high! Using maximum threshold -23.0 db\n"
     ]
    },
    {
     "name": "stdout",
     "output_type": "stream",
     "text": [
      "awesome!\n"
     ]
    },
    {
     "name": "stderr",
     "output_type": "stream",
     "text": [
      "Threshold too high! Using maximum threshold -23.0 db\n"
     ]
    },
    {
     "name": "stdout",
     "output_type": "stream",
     "text": [
      "awesome!\n"
     ]
    },
    {
     "name": "stderr",
     "output_type": "stream",
     "text": [
      "Threshold too high! Using maximum threshold -23.0 db\n"
     ]
    },
    {
     "name": "stdout",
     "output_type": "stream",
     "text": [
      "awesome!\n",
      "awesome!\n"
     ]
    },
    {
     "name": "stderr",
     "output_type": "stream",
     "text": [
      "Threshold too high! Using maximum threshold -15.5 db\n"
     ]
    },
    {
     "name": "stdout",
     "output_type": "stream",
     "text": [
      "awesome!\n"
     ]
    },
    {
     "name": "stderr",
     "output_type": "stream",
     "text": [
      "Threshold too high! Using maximum threshold -23.0 db\n",
      "Threshold too high! Using maximum threshold -15.5 db\n"
     ]
    },
    {
     "name": "stdout",
     "output_type": "stream",
     "text": [
      "awesome!\n"
     ]
    },
    {
     "name": "stderr",
     "output_type": "stream",
     "text": [
      "Threshold too high! Using maximum threshold -15.5 db\n"
     ]
    },
    {
     "name": "stdout",
     "output_type": "stream",
     "text": [
      "awesome!\n"
     ]
    },
    {
     "name": "stderr",
     "output_type": "stream",
     "text": [
      "Threshold too high! Using maximum threshold -23.0 db\n",
      "Threshold too high! Using maximum threshold -15.5 db\n"
     ]
    },
    {
     "name": "stdout",
     "output_type": "stream",
     "text": [
      "awesome!\n"
     ]
    },
    {
     "name": "stderr",
     "output_type": "stream",
     "text": [
      "Threshold too high! Using maximum threshold -23.0 db\n",
      "Threshold too high! Using maximum threshold -15.5 db\n"
     ]
    },
    {
     "name": "stdout",
     "output_type": "stream",
     "text": [
      "awesome!\n"
     ]
    },
    {
     "name": "stderr",
     "output_type": "stream",
     "text": [
      "Threshold too high! Using maximum threshold -23.0 db\n"
     ]
    },
    {
     "name": "stdout",
     "output_type": "stream",
     "text": [
      "awesome!\n"
     ]
    },
    {
     "name": "stderr",
     "output_type": "stream",
     "text": [
      "Threshold too high! Using maximum threshold -23.0 db\n",
      "Threshold too high! Using maximum threshold -15.5 db\n"
     ]
    },
    {
     "name": "stdout",
     "output_type": "stream",
     "text": [
      "awesome!\n"
     ]
    },
    {
     "name": "stderr",
     "output_type": "stream",
     "text": [
      "Threshold too high! Using maximum threshold -23.0 db\n"
     ]
    },
    {
     "name": "stdout",
     "output_type": "stream",
     "text": [
      "awesome!\n"
     ]
    },
    {
     "name": "stderr",
     "output_type": "stream",
     "text": [
      "Threshold too high! Using maximum threshold -23.0 db\n"
     ]
    },
    {
     "name": "stdout",
     "output_type": "stream",
     "text": [
      "awesome!\n"
     ]
    },
    {
     "name": "stderr",
     "output_type": "stream",
     "text": [
      "Threshold too high! Using maximum threshold -23.0 db\n"
     ]
    },
    {
     "name": "stdout",
     "output_type": "stream",
     "text": [
      "awesome!\n"
     ]
    },
    {
     "name": "stderr",
     "output_type": "stream",
     "text": [
      "Threshold too high! Using maximum threshold -23.0 db\n",
      "Threshold too high! Using maximum threshold -15.5 db\n"
     ]
    },
    {
     "name": "stdout",
     "output_type": "stream",
     "text": [
      "awesome!\n"
     ]
    },
    {
     "name": "stderr",
     "output_type": "stream",
     "text": [
      "Threshold too high! Using maximum threshold -23.0 db\n",
      "Threshold too high! Using maximum threshold -15.5 db\n"
     ]
    },
    {
     "name": "stdout",
     "output_type": "stream",
     "text": [
      "awesome!\n"
     ]
    },
    {
     "name": "stderr",
     "output_type": "stream",
     "text": [
      "Threshold too high! Using maximum threshold -23.0 db\n"
     ]
    },
    {
     "name": "stdout",
     "output_type": "stream",
     "text": [
      "awesome!\n"
     ]
    },
    {
     "name": "stderr",
     "output_type": "stream",
     "text": [
      "Threshold too high! Using maximum threshold -23.0 db\n",
      "Threshold too high! Using maximum threshold -15.5 db\n"
     ]
    },
    {
     "name": "stdout",
     "output_type": "stream",
     "text": [
      "awesome!\n"
     ]
    },
    {
     "name": "stderr",
     "output_type": "stream",
     "text": [
      "Threshold too high! Using maximum threshold -23.0 db\n",
      "Threshold too high! Using maximum threshold -15.5 db\n"
     ]
    },
    {
     "name": "stdout",
     "output_type": "stream",
     "text": [
      "awesome!\n"
     ]
    },
    {
     "name": "stderr",
     "output_type": "stream",
     "text": [
      "Threshold too high! Using maximum threshold -23.0 db\n",
      "Threshold too high! Using maximum threshold -15.5 db\n"
     ]
    },
    {
     "name": "stdout",
     "output_type": "stream",
     "text": [
      "awesome!\n"
     ]
    },
    {
     "name": "stderr",
     "output_type": "stream",
     "text": [
      "Threshold too high! Using maximum threshold -23.0 db\n"
     ]
    },
    {
     "name": "stdout",
     "output_type": "stream",
     "text": [
      "awesome!\n"
     ]
    },
    {
     "name": "stderr",
     "output_type": "stream",
     "text": [
      "Threshold too high! Using maximum threshold -23.0 db\n"
     ]
    },
    {
     "name": "stdout",
     "output_type": "stream",
     "text": [
      "awesome!\n"
     ]
    },
    {
     "name": "stderr",
     "output_type": "stream",
     "text": [
      "Threshold too high! Using maximum threshold -23.0 db\n"
     ]
    },
    {
     "name": "stdout",
     "output_type": "stream",
     "text": [
      "awesome!\n"
     ]
    },
    {
     "name": "stderr",
     "output_type": "stream",
     "text": [
      "Threshold too high! Using maximum threshold -23.0 db\n"
     ]
    },
    {
     "name": "stdout",
     "output_type": "stream",
     "text": [
      "awesome!\n"
     ]
    },
    {
     "name": "stderr",
     "output_type": "stream",
     "text": [
      "Threshold too high! Using maximum threshold -23.0 db\n"
     ]
    },
    {
     "name": "stdout",
     "output_type": "stream",
     "text": [
      "awesome!\n",
      "awesome!\n"
     ]
    },
    {
     "name": "stderr",
     "output_type": "stream",
     "text": [
      "Threshold too high! Using maximum threshold -23.0 db\n"
     ]
    },
    {
     "name": "stdout",
     "output_type": "stream",
     "text": [
      "awesome!\n"
     ]
    },
    {
     "name": "stderr",
     "output_type": "stream",
     "text": [
      "Threshold too high! Using maximum threshold -23.0 db\n"
     ]
    },
    {
     "name": "stdout",
     "output_type": "stream",
     "text": [
      "awesome!\n",
      "awesome!\n",
      "awesome!\n"
     ]
    },
    {
     "name": "stderr",
     "output_type": "stream",
     "text": [
      "Threshold too high! Using maximum threshold -23.0 db\n"
     ]
    },
    {
     "name": "stdout",
     "output_type": "stream",
     "text": [
      "awesome!\n"
     ]
    },
    {
     "name": "stderr",
     "output_type": "stream",
     "text": [
      "Threshold too high! Using maximum threshold -23.0 db\n"
     ]
    },
    {
     "name": "stdout",
     "output_type": "stream",
     "text": [
      "awesome!\n"
     ]
    },
    {
     "name": "stderr",
     "output_type": "stream",
     "text": [
      "Threshold too high! Using maximum threshold -23.0 db\n"
     ]
    },
    {
     "name": "stdout",
     "output_type": "stream",
     "text": [
      "awesome!\n"
     ]
    },
    {
     "name": "stderr",
     "output_type": "stream",
     "text": [
      "Threshold too high! Using maximum threshold -23.0 db\n"
     ]
    },
    {
     "name": "stdout",
     "output_type": "stream",
     "text": [
      "awesome!\n"
     ]
    },
    {
     "name": "stderr",
     "output_type": "stream",
     "text": [
      "Threshold too high! Using maximum threshold -23.0 db\n"
     ]
    }
   ],
   "source": [
    "for (water_extent_raster, vv_raster, vh_raster) in zip(water_extent_rasters, vv_rasters, vh_rasters):\n",
    "    # print(f\" water = {water_extent_raster}\\n vv =    {vv_raster}\\n vh =    {vh_raster}\")\n",
    "\n",
    "    # check that the start of the last part vh/vv_raster (before the 'VV'/'VH') is contained in the water raster. \n",
    "    pathNflnm, file_extension = os.path.splitext(vv_raster)\n",
    "    # print(pathNflnm)\n",
    "    pieces = pathNflnm.split(os.path.sep)\n",
    "    # print(pieces)\n",
    "    piece_vv = pieces[-1].split('VV')\n",
    "\n",
    "    pathNflnm, file_extension = os.path.splitext(vh_raster)\n",
    "    pieces = pathNflnm.split(os.path.sep)\n",
    "    piece_vh = pieces[-1].split('VH')\n",
    "    \n",
    "    # print(piece_vv[1])\n",
    "    if (piece_vv[0]==piece_vh[0]) and (piece_vv[0] in water_extent_raster):\n",
    "        print('awesome!')\n",
    "        make_water_map(water_extent_raster, vv_raster, vh_raster, tile_shape=(100, 100),\n",
    "               max_vv_threshold=-15.5, max_vh_threshold=-23., hand_threshold=15., hand_fraction=0.8)\n",
    "    else:\n",
    "        print(f'The names of the rasters do not match.\\n Water Mask = {water_extent_raster}\\n VV Raster = {piece_vv[0]}\\n VH Raster = {piece_vh[0]}')\n",
    "    "
   ]
  },
  {
   "cell_type": "markdown",
   "metadata": {},
   "source": [
    "## 3. Create figures used in FIER loop\n",
    "\n"
   ]
  },
  {
   "cell_type": "markdown",
   "metadata": {},
   "source": [
    "***\n",
    "Choose the data folder.\n",
    "\n",
    "NOTE: This is the subset folder. "
   ]
  },
  {
   "cell_type": "code",
   "execution_count": null,
   "metadata": {},
   "outputs": [],
   "source": [
    "# fc = FileChooser(Path.cwd())\n",
    "# display(fc)\n",
    "\n",
    "fc = fc_subset\n",
    "fc.selected"
   ]
  },
  {
   "cell_type": "code",
   "execution_count": 35,
   "metadata": {},
   "outputs": [],
   "source": [
    "def get_tiff_paths(paths: str) -> list:\n",
    "    tiff_paths = !ls $paths | sort -t_ -k5,5\n",
    "    return tiff_paths"
   ]
  },
  {
   "cell_type": "code",
   "execution_count": 36,
   "metadata": {
    "scrolled": true
   },
   "outputs": [
    {
     "data": {
      "text/plain": [
       "['/home/jovyan/hydrosar/Dataset/bang_NE/subset_West/Water_Masks/S1A_IW_20190108T120439_DVP_RTC30_G_gpufem_8BD9_subset_water_mask_combined.tif',\n",
       " '/home/jovyan/hydrosar/Dataset/bang_NE/subset_West/Water_Masks/S1A_IW_20190120T120439_DVP_RTC30_G_gpufem_97E2_subset_water_mask_combined.tif',\n",
       " '/home/jovyan/hydrosar/Dataset/bang_NE/subset_West/Water_Masks/S1A_IW_20190201T120439_DVP_RTC30_G_gpufem_5EF2_subset_water_mask_combined.tif',\n",
       " '/home/jovyan/hydrosar/Dataset/bang_NE/subset_West/Water_Masks/S1A_IW_20190213T120438_DVP_RTC30_G_gpufem_CA11_subset_water_mask_combined.tif',\n",
       " '/home/jovyan/hydrosar/Dataset/bang_NE/subset_West/Water_Masks/S1A_IW_20190225T120438_DVP_RTC30_G_gpufem_C14B_subset_water_mask_combined.tif',\n",
       " '/home/jovyan/hydrosar/Dataset/bang_NE/subset_West/Water_Masks/S1A_IW_20190309T120438_DVP_RTC30_G_gpufem_4755_subset_water_mask_combined.tif',\n",
       " '/home/jovyan/hydrosar/Dataset/bang_NE/subset_West/Water_Masks/S1A_IW_20190321T120438_DVP_RTC30_G_gpufem_73AE_subset_water_mask_combined.tif',\n",
       " '/home/jovyan/hydrosar/Dataset/bang_NE/subset_West/Water_Masks/S1A_IW_20190402T120439_DVP_RTC30_G_gpufem_0364_subset_water_mask_combined.tif',\n",
       " '/home/jovyan/hydrosar/Dataset/bang_NE/subset_West/Water_Masks/S1A_IW_20190414T120439_DVP_RTC30_G_gpufem_81C6_subset_water_mask_combined.tif',\n",
       " '/home/jovyan/hydrosar/Dataset/bang_NE/subset_West/Water_Masks/S1A_IW_20190426T120440_DVP_RTC30_G_gpufem_34EB_subset_water_mask_combined.tif',\n",
       " '/home/jovyan/hydrosar/Dataset/bang_NE/subset_West/Water_Masks/S1A_IW_20190508T120440_DVP_RTC30_G_gpufem_34D2_subset_water_mask_combined.tif',\n",
       " '/home/jovyan/hydrosar/Dataset/bang_NE/subset_West/Water_Masks/S1A_IW_20190520T120441_DVP_RTC30_G_gpufem_9589_subset_water_mask_combined.tif',\n",
       " '/home/jovyan/hydrosar/Dataset/bang_NE/subset_West/Water_Masks/S1A_IW_20190601T120441_DVP_RTC30_G_gpufem_6710_subset_water_mask_combined.tif',\n",
       " '/home/jovyan/hydrosar/Dataset/bang_NE/subset_West/Water_Masks/S1A_IW_20190613T120442_DVP_RTC30_G_gpufem_FC73_subset_water_mask_combined.tif',\n",
       " '/home/jovyan/hydrosar/Dataset/bang_NE/subset_West/Water_Masks/S1A_IW_20190625T120442_DVP_RTC30_G_gpufem_26C2_subset_water_mask_combined.tif',\n",
       " '/home/jovyan/hydrosar/Dataset/bang_NE/subset_West/Water_Masks/S1A_IW_20190707T120443_DVP_RTC30_G_gpufem_F5B7_subset_water_mask_combined.tif',\n",
       " '/home/jovyan/hydrosar/Dataset/bang_NE/subset_West/Water_Masks/S1A_IW_20190719T120444_DVP_RTC30_G_gpufem_DAFE_subset_water_mask_combined.tif',\n",
       " '/home/jovyan/hydrosar/Dataset/bang_NE/subset_West/Water_Masks/S1A_IW_20190731T120445_DVP_RTC30_G_gpufem_3C5A_subset_water_mask_combined.tif',\n",
       " '/home/jovyan/hydrosar/Dataset/bang_NE/subset_West/Water_Masks/S1A_IW_20190812T120446_DVP_RTC30_G_gpufem_0255_subset_water_mask_combined.tif',\n",
       " '/home/jovyan/hydrosar/Dataset/bang_NE/subset_West/Water_Masks/S1A_IW_20190824T120446_DVP_RTC30_G_gpufem_4CCB_subset_water_mask_combined.tif',\n",
       " '/home/jovyan/hydrosar/Dataset/bang_NE/subset_West/Water_Masks/S1A_IW_20190905T120447_DVP_RTC30_G_gpufem_AF79_subset_water_mask_combined.tif',\n",
       " '/home/jovyan/hydrosar/Dataset/bang_NE/subset_West/Water_Masks/S1A_IW_20190929T120448_DVP_RTC30_G_gpufem_0BC5_subset_water_mask_combined.tif',\n",
       " '/home/jovyan/hydrosar/Dataset/bang_NE/subset_West/Water_Masks/S1A_IW_20191011T120448_DVP_RTC30_G_gpufem_DF64_subset_water_mask_combined.tif',\n",
       " '/home/jovyan/hydrosar/Dataset/bang_NE/subset_West/Water_Masks/S1A_IW_20191023T120448_DVP_RTC30_G_gpufem_A9AA_subset_water_mask_combined.tif',\n",
       " '/home/jovyan/hydrosar/Dataset/bang_NE/subset_West/Water_Masks/S1A_IW_20191104T120448_DVP_RTC30_G_gpufem_247C_subset_water_mask_combined.tif',\n",
       " '/home/jovyan/hydrosar/Dataset/bang_NE/subset_West/Water_Masks/S1A_IW_20191116T120448_DVP_RTC30_G_gpufem_C1C6_subset_water_mask_combined.tif',\n",
       " '/home/jovyan/hydrosar/Dataset/bang_NE/subset_West/Water_Masks/S1A_IW_20191128T120447_DVP_RTC30_G_gpufem_F1A1_subset_water_mask_combined.tif',\n",
       " '/home/jovyan/hydrosar/Dataset/bang_NE/subset_West/Water_Masks/S1A_IW_20191210T120447_DVP_RTC30_G_gpufem_CEB6_subset_water_mask_combined.tif',\n",
       " '/home/jovyan/hydrosar/Dataset/bang_NE/subset_West/Water_Masks/S1A_IW_20191222T120446_DVP_RTC30_G_gpufem_E4A8_subset_water_mask_combined.tif',\n",
       " '/home/jovyan/hydrosar/Dataset/bang_NE/subset_West/Water_Masks/S1A_IW_20200103T120446_DVP_RTC30_G_gpufem_DBED_subset_water_mask_combined.tif',\n",
       " '/home/jovyan/hydrosar/Dataset/bang_NE/subset_West/Water_Masks/S1A_IW_20200115T120445_DVP_RTC30_G_gpufem_43F5_subset_water_mask_combined.tif',\n",
       " '/home/jovyan/hydrosar/Dataset/bang_NE/subset_West/Water_Masks/S1A_IW_20200127T120445_DVP_RTC30_G_gpufem_5E3A_subset_water_mask_combined.tif',\n",
       " '/home/jovyan/hydrosar/Dataset/bang_NE/subset_West/Water_Masks/S1A_IW_20200208T120445_DVP_RTC30_G_gpufem_A8A8_subset_water_mask_combined.tif',\n",
       " '/home/jovyan/hydrosar/Dataset/bang_NE/subset_West/Water_Masks/S1A_IW_20200220T120444_DVP_RTC30_G_gpufem_1A88_subset_water_mask_combined.tif',\n",
       " '/home/jovyan/hydrosar/Dataset/bang_NE/subset_West/Water_Masks/S1A_IW_20200303T120444_DVP_RTC30_G_gpufem_BAB5_subset_water_mask_combined.tif',\n",
       " '/home/jovyan/hydrosar/Dataset/bang_NE/subset_West/Water_Masks/S1A_IW_20200315T120445_DVP_RTC30_G_gpufem_C860_subset_water_mask_combined.tif',\n",
       " '/home/jovyan/hydrosar/Dataset/bang_NE/subset_West/Water_Masks/S1A_IW_20200327T120445_DVP_RTC30_G_gpufem_F7B4_subset_water_mask_combined.tif',\n",
       " '/home/jovyan/hydrosar/Dataset/bang_NE/subset_West/Water_Masks/S1A_IW_20200408T120445_DVP_RTC30_G_gpufem_3D72_subset_water_mask_combined.tif',\n",
       " '/home/jovyan/hydrosar/Dataset/bang_NE/subset_West/Water_Masks/S1A_IW_20200420T120445_DVP_RTC30_G_gpufem_6689_subset_water_mask_combined.tif',\n",
       " '/home/jovyan/hydrosar/Dataset/bang_NE/subset_West/Water_Masks/S1A_IW_20200502T120446_DVP_RTC30_G_gpufem_D75F_subset_water_mask_combined.tif',\n",
       " '/home/jovyan/hydrosar/Dataset/bang_NE/subset_West/Water_Masks/S1A_IW_20200514T120447_DVP_RTC30_G_gpufem_644F_subset_water_mask_combined.tif',\n",
       " '/home/jovyan/hydrosar/Dataset/bang_NE/subset_West/Water_Masks/S1A_IW_20200526T120447_DVP_RTC30_G_gpufem_B478_subset_water_mask_combined.tif',\n",
       " '/home/jovyan/hydrosar/Dataset/bang_NE/subset_West/Water_Masks/S1A_IW_20200607T120448_DVP_RTC30_G_gpufem_05E8_subset_water_mask_combined.tif',\n",
       " '/home/jovyan/hydrosar/Dataset/bang_NE/subset_West/Water_Masks/S1A_IW_20200619T120449_DVP_RTC30_G_gpufem_3C15_subset_water_mask_combined.tif',\n",
       " '/home/jovyan/hydrosar/Dataset/bang_NE/subset_West/Water_Masks/S1A_IW_20200701T120449_DVP_RTC30_G_gpufem_E709_subset_water_mask_combined.tif',\n",
       " '/home/jovyan/hydrosar/Dataset/bang_NE/subset_West/Water_Masks/S1A_IW_20200713T120450_DVP_RTC30_G_gpufem_6EB6_subset_water_mask_combined.tif',\n",
       " '/home/jovyan/hydrosar/Dataset/bang_NE/subset_West/Water_Masks/S1A_IW_20200725T120451_DVP_RTC30_G_gpufem_82EC_subset_water_mask_combined.tif',\n",
       " '/home/jovyan/hydrosar/Dataset/bang_NE/subset_West/Water_Masks/S1A_IW_20200806T120452_DVP_RTC30_G_gpufem_34F8_subset_water_mask_combined.tif',\n",
       " '/home/jovyan/hydrosar/Dataset/bang_NE/subset_West/Water_Masks/S1A_IW_20200818T120452_DVP_RTC30_G_gpufem_362D_subset_water_mask_combined.tif',\n",
       " '/home/jovyan/hydrosar/Dataset/bang_NE/subset_West/Water_Masks/S1A_IW_20200830T120453_DVP_RTC30_G_gpufem_7018_subset_water_mask_combined.tif',\n",
       " '/home/jovyan/hydrosar/Dataset/bang_NE/subset_West/Water_Masks/S1A_IW_20200911T120454_DVP_RTC30_G_gpufem_D603_subset_water_mask_combined.tif',\n",
       " '/home/jovyan/hydrosar/Dataset/bang_NE/subset_West/Water_Masks/S1A_IW_20200923T120454_DVP_RTC30_G_gpufem_2891_subset_water_mask_combined.tif',\n",
       " '/home/jovyan/hydrosar/Dataset/bang_NE/subset_West/Water_Masks/S1A_IW_20201005T120454_DVP_RTC30_G_gpufem_37D1_subset_water_mask_combined.tif',\n",
       " '/home/jovyan/hydrosar/Dataset/bang_NE/subset_West/Water_Masks/S1A_IW_20201017T120454_DVP_RTC30_G_gpufem_6556_subset_water_mask_combined.tif',\n",
       " '/home/jovyan/hydrosar/Dataset/bang_NE/subset_West/Water_Masks/S1A_IW_20201029T120454_DVP_RTC30_G_gpufem_B897_subset_water_mask_combined.tif',\n",
       " '/home/jovyan/hydrosar/Dataset/bang_NE/subset_West/Water_Masks/S1A_IW_20201110T120454_DVP_RTC30_G_gpufem_B939_subset_water_mask_combined.tif',\n",
       " '/home/jovyan/hydrosar/Dataset/bang_NE/subset_West/Water_Masks/S1A_IW_20201122T120454_DVP_RTC30_G_gpufem_F692_subset_water_mask_combined.tif',\n",
       " '/home/jovyan/hydrosar/Dataset/bang_NE/subset_West/Water_Masks/S1A_IW_20201204T120453_DVP_RTC30_G_gpufem_CE47_subset_water_mask_combined.tif',\n",
       " '/home/jovyan/hydrosar/Dataset/bang_NE/subset_West/Water_Masks/S1A_IW_20201216T120453_DVP_RTC30_G_gpufem_00FD_subset_water_mask_combined.tif',\n",
       " '/home/jovyan/hydrosar/Dataset/bang_NE/subset_West/Water_Masks/S1A_IW_20201228T120452_DVP_RTC30_G_gpufem_9EF3_subset_water_mask_combined.tif',\n",
       " '/home/jovyan/hydrosar/Dataset/bang_NE/subset_West/Water_Masks/S1A_IW_20210109T120452_DVP_RTC30_G_gpufem_5E7C_subset_water_mask_combined.tif',\n",
       " '/home/jovyan/hydrosar/Dataset/bang_NE/subset_West/Water_Masks/S1A_IW_20210121T120451_DVP_RTC30_G_gpufem_DB2A_subset_water_mask_combined.tif',\n",
       " '/home/jovyan/hydrosar/Dataset/bang_NE/subset_West/Water_Masks/S1A_IW_20210202T120451_DVP_RTC30_G_gpufem_A277_subset_water_mask_combined.tif',\n",
       " '/home/jovyan/hydrosar/Dataset/bang_NE/subset_West/Water_Masks/S1A_IW_20210214T120450_DVP_RTC30_G_gpufem_2A53_subset_water_mask_combined.tif',\n",
       " '/home/jovyan/hydrosar/Dataset/bang_NE/subset_West/Water_Masks/S1A_IW_20210226T120450_DVP_RTC30_G_gpufem_EBFB_subset_water_mask_combined.tif',\n",
       " '/home/jovyan/hydrosar/Dataset/bang_NE/subset_West/Water_Masks/S1A_IW_20210310T120450_DVP_RTC30_G_gpufem_9E13_subset_water_mask_combined.tif',\n",
       " '/home/jovyan/hydrosar/Dataset/bang_NE/subset_West/Water_Masks/S1A_IW_20210322T120450_DVP_RTC30_G_gpufem_9E55_subset_water_mask_combined.tif',\n",
       " '/home/jovyan/hydrosar/Dataset/bang_NE/subset_West/Water_Masks/S1A_IW_20210403T120451_DVP_RTC30_G_gpufem_3410_subset_water_mask_combined.tif',\n",
       " '/home/jovyan/hydrosar/Dataset/bang_NE/subset_West/Water_Masks/S1A_IW_20210415T120451_DVP_RTC30_G_gpufem_756D_subset_water_mask_combined.tif',\n",
       " '/home/jovyan/hydrosar/Dataset/bang_NE/subset_West/Water_Masks/S1A_IW_20210427T120452_DVP_RTC30_G_gpufem_D07E_subset_water_mask_combined.tif',\n",
       " '/home/jovyan/hydrosar/Dataset/bang_NE/subset_West/Water_Masks/S1A_IW_20210509T120452_DVP_RTC30_G_gpufem_487B_subset_water_mask_combined.tif',\n",
       " '/home/jovyan/hydrosar/Dataset/bang_NE/subset_West/Water_Masks/S1A_IW_20210521T120453_DVP_RTC30_G_gpufem_AEEC_subset_water_mask_combined.tif',\n",
       " '/home/jovyan/hydrosar/Dataset/bang_NE/subset_West/Water_Masks/S1A_IW_20210602T120454_DVP_RTC30_G_gpufem_015F_subset_water_mask_combined.tif',\n",
       " '/home/jovyan/hydrosar/Dataset/bang_NE/subset_West/Water_Masks/S1A_IW_20210614T120455_DVP_RTC30_G_gpufem_7735_subset_water_mask_combined.tif',\n",
       " '/home/jovyan/hydrosar/Dataset/bang_NE/subset_West/Water_Masks/S1A_IW_20210626T120455_DVP_RTC30_G_gpufem_5D53_subset_water_mask_combined.tif',\n",
       " '/home/jovyan/hydrosar/Dataset/bang_NE/subset_West/Water_Masks/S1A_IW_20210708T120456_DVP_RTC30_G_gpufem_9048_subset_water_mask_combined.tif',\n",
       " '/home/jovyan/hydrosar/Dataset/bang_NE/subset_West/Water_Masks/S1A_IW_20210720T120457_DVP_RTC30_G_gpufem_A86B_subset_water_mask_combined.tif',\n",
       " '/home/jovyan/hydrosar/Dataset/bang_NE/subset_West/Water_Masks/S1A_IW_20210801T120457_DVP_RTC30_G_gpufem_D150_subset_water_mask_combined.tif',\n",
       " '/home/jovyan/hydrosar/Dataset/bang_NE/subset_West/Water_Masks/S1A_IW_20210813T120458_DVP_RTC30_G_gpufem_73D9_subset_water_mask_combined.tif',\n",
       " '/home/jovyan/hydrosar/Dataset/bang_NE/subset_West/Water_Masks/S1A_IW_20210825T120459_DVP_RTC30_G_gpufem_A04F_subset_water_mask_combined.tif',\n",
       " '/home/jovyan/hydrosar/Dataset/bang_NE/subset_West/Water_Masks/S1A_IW_20210906T120459_DVP_RTC30_G_gpufem_B3A8_subset_water_mask_combined.tif',\n",
       " '/home/jovyan/hydrosar/Dataset/bang_NE/subset_West/Water_Masks/S1A_IW_20210918T120500_DVP_RTC30_G_gpufem_6F10_subset_water_mask_combined.tif',\n",
       " '/home/jovyan/hydrosar/Dataset/bang_NE/subset_West/Water_Masks/S1A_IW_20210930T120500_DVP_RTC30_G_gpufem_529E_subset_water_mask_combined.tif',\n",
       " '/home/jovyan/hydrosar/Dataset/bang_NE/subset_West/Water_Masks/S1A_IW_20211012T120500_DVP_RTC30_G_gpufem_6C16_subset_water_mask_combined.tif',\n",
       " '/home/jovyan/hydrosar/Dataset/bang_NE/subset_West/Water_Masks/S1A_IW_20211024T120500_DVP_RTC30_G_gpufem_0BE0_subset_water_mask_combined.tif',\n",
       " '/home/jovyan/hydrosar/Dataset/bang_NE/subset_West/Water_Masks/S1A_IW_20211105T120500_DVP_RTC30_G_gpufem_FA5C_subset_water_mask_combined.tif',\n",
       " '/home/jovyan/hydrosar/Dataset/bang_NE/subset_West/Water_Masks/S1A_IW_20211117T120500_DVP_RTC30_G_gpufem_D07B_subset_water_mask_combined.tif',\n",
       " '/home/jovyan/hydrosar/Dataset/bang_NE/subset_West/Water_Masks/S1A_IW_20211129T120459_DVP_RTC30_G_gpufem_E269_subset_water_mask_combined.tif',\n",
       " '/home/jovyan/hydrosar/Dataset/bang_NE/subset_West/Water_Masks/S1A_IW_20211211T120459_DVP_RTC30_G_gpufem_3B81_subset_water_mask_combined.tif',\n",
       " '/home/jovyan/hydrosar/Dataset/bang_NE/subset_West/Water_Masks/S1A_IW_20211223T120458_DVP_RTC30_G_gpufem_6524_subset_water_mask_combined.tif',\n",
       " '/home/jovyan/hydrosar/Dataset/bang_NE/subset_West/Water_Masks/S1A_IW_20220104T120457_DVP_RTC30_G_gpufem_F4B3_subset_water_mask_combined.tif',\n",
       " '/home/jovyan/hydrosar/Dataset/bang_NE/subset_West/Water_Masks/S1A_IW_20220116T120457_DVP_RTC30_G_gpufem_4A7F_subset_water_mask_combined.tif',\n",
       " '/home/jovyan/hydrosar/Dataset/bang_NE/subset_West/Water_Masks/S1A_IW_20220128T120456_DVP_RTC30_G_gpufem_EC1C_subset_water_mask_combined.tif',\n",
       " '/home/jovyan/hydrosar/Dataset/bang_NE/subset_West/Water_Masks/S1A_IW_20220209T120456_DVP_RTC30_G_gpufem_1037_subset_water_mask_combined.tif',\n",
       " '/home/jovyan/hydrosar/Dataset/bang_NE/subset_West/Water_Masks/S1A_IW_20220221T120456_DVP_RTC30_G_gpufem_A40A_subset_water_mask_combined.tif',\n",
       " '/home/jovyan/hydrosar/Dataset/bang_NE/subset_West/Water_Masks/S1A_IW_20220305T120456_DVP_RTC30_G_gpufem_ADD2_subset_water_mask_combined.tif',\n",
       " '/home/jovyan/hydrosar/Dataset/bang_NE/subset_West/Water_Masks/S1A_IW_20220317T120456_DVP_RTC30_G_gpufem_2DE1_subset_water_mask_combined.tif',\n",
       " '/home/jovyan/hydrosar/Dataset/bang_NE/subset_West/Water_Masks/S1A_IW_20220329T120456_DVP_RTC30_G_gpufem_DA96_subset_water_mask_combined.tif',\n",
       " '/home/jovyan/hydrosar/Dataset/bang_NE/subset_West/Water_Masks/S1A_IW_20220410T120457_DVP_RTC30_G_gpufem_071D_subset_water_mask_combined.tif',\n",
       " '/home/jovyan/hydrosar/Dataset/bang_NE/subset_West/Water_Masks/S1A_IW_20220422T120457_DVP_RTC30_G_gpufem_D66B_subset_water_mask_combined.tif',\n",
       " '/home/jovyan/hydrosar/Dataset/bang_NE/subset_West/Water_Masks/S1A_IW_20220504T120457_DVP_RTC30_G_gpufem_9B0C_subset_water_mask_combined.tif',\n",
       " '/home/jovyan/hydrosar/Dataset/bang_NE/subset_West/Water_Masks/S1A_IW_20220516T120458_DVP_RTC30_G_gpufem_3BEB_subset_water_mask_combined.tif',\n",
       " '/home/jovyan/hydrosar/Dataset/bang_NE/subset_West/Water_Masks/S1A_IW_20220528T120459_DVP_RTC30_G_gpufem_DC3E_subset_water_mask_combined.tif',\n",
       " '/home/jovyan/hydrosar/Dataset/bang_NE/subset_West/Water_Masks/S1A_IW_20220609T120500_DVP_RTC30_G_gpufem_35A6_subset_water_mask_combined.tif',\n",
       " '/home/jovyan/hydrosar/Dataset/bang_NE/subset_West/Water_Masks/S1A_IW_20220621T120501_DVP_RTC30_G_gpufem_22C3_subset_water_mask_combined.tif',\n",
       " '/home/jovyan/hydrosar/Dataset/bang_NE/subset_West/Water_Masks/S1A_IW_20220703T120502_DVP_RTC30_G_gpufem_CBC0_subset_water_mask_combined.tif',\n",
       " '/home/jovyan/hydrosar/Dataset/bang_NE/subset_West/Water_Masks/S1A_IW_20220715T120502_DVP_RTC30_G_gpufem_9F3A_subset_water_mask_combined.tif',\n",
       " '/home/jovyan/hydrosar/Dataset/bang_NE/subset_West/Water_Masks/S1A_IW_20220727T120503_DVP_RTC30_G_gpufem_59AB_subset_water_mask_combined.tif',\n",
       " '/home/jovyan/hydrosar/Dataset/bang_NE/subset_West/Water_Masks/S1A_IW_20220808T120504_DVP_RTC30_G_gpufem_04A4_subset_water_mask_combined.tif',\n",
       " '/home/jovyan/hydrosar/Dataset/bang_NE/subset_West/Water_Masks/S1A_IW_20220820T120505_DVP_RTC30_G_gpufem_E99A_subset_water_mask_combined.tif',\n",
       " '/home/jovyan/hydrosar/Dataset/bang_NE/subset_West/Water_Masks/S1A_IW_20220901T120505_DVP_RTC30_G_gpufem_6D92_subset_water_mask_combined.tif',\n",
       " '/home/jovyan/hydrosar/Dataset/bang_NE/subset_West/Water_Masks/S1A_IW_20220913T120506_DVP_RTC30_G_gpufem_FB4E_subset_water_mask_combined.tif',\n",
       " '/home/jovyan/hydrosar/Dataset/bang_NE/subset_West/Water_Masks/S1A_IW_20220925T120505_DVP_RTC30_G_gpufem_3F46_subset_water_mask_combined.tif',\n",
       " '/home/jovyan/hydrosar/Dataset/bang_NE/subset_West/Water_Masks/S1A_IW_20221007T120506_DVP_RTC30_G_gpufem_13ED_subset_water_mask_combined.tif',\n",
       " '/home/jovyan/hydrosar/Dataset/bang_NE/subset_West/Water_Masks/S1A_IW_20221019T120506_DVP_RTC30_G_gpufem_2D94_subset_water_mask_combined.tif',\n",
       " '/home/jovyan/hydrosar/Dataset/bang_NE/subset_West/Water_Masks/S1A_IW_20221031T120506_DVP_RTC30_G_gpufem_48E8_subset_water_mask_combined.tif',\n",
       " '/home/jovyan/hydrosar/Dataset/bang_NE/subset_West/Water_Masks/S1A_IW_20221112T120506_DVP_RTC30_G_gpufem_B3C9_subset_water_mask_combined.tif',\n",
       " '/home/jovyan/hydrosar/Dataset/bang_NE/subset_West/Water_Masks/S1A_IW_20221124T120506_DVP_RTC30_G_gpufem_82A1_subset_water_mask_combined.tif',\n",
       " '/home/jovyan/hydrosar/Dataset/bang_NE/subset_West/Water_Masks/S1A_IW_20221206T120505_DVP_RTC30_G_gpufem_DECC_subset_water_mask_combined.tif',\n",
       " '/home/jovyan/hydrosar/Dataset/bang_NE/subset_West/Water_Masks/S1A_IW_20221218T120504_DVP_RTC30_G_gpufem_047C_subset_water_mask_combined.tif',\n",
       " '/home/jovyan/hydrosar/Dataset/bang_NE/subset_West/Water_Masks/S1A_IW_20221230T120504_DVP_RTC30_G_gpufem_2CC1_subset_water_mask_combined.tif',\n",
       " '/home/jovyan/hydrosar/Dataset/bang_NE/subset_West/Water_Masks/S1A_IW_20230111T120503_DVP_RTC30_G_gpufem_4C33_subset_water_mask_combined.tif',\n",
       " '/home/jovyan/hydrosar/Dataset/bang_NE/subset_West/Water_Masks/S1A_IW_20230123T120503_DVP_RTC30_G_gpufem_F9EA_subset_water_mask_combined.tif',\n",
       " '/home/jovyan/hydrosar/Dataset/bang_NE/subset_West/Water_Masks/S1A_IW_20230204T120502_DVP_RTC30_G_gpufem_BCD7_subset_water_mask_combined.tif',\n",
       " '/home/jovyan/hydrosar/Dataset/bang_NE/subset_West/Water_Masks/S1A_IW_20230216T120502_DVP_RTC30_G_gpufem_72B7_subset_water_mask_combined.tif',\n",
       " '/home/jovyan/hydrosar/Dataset/bang_NE/subset_West/Water_Masks/S1A_IW_20230228T120502_DVP_RTC30_G_gpufem_F61C_subset_water_mask_combined.tif',\n",
       " '/home/jovyan/hydrosar/Dataset/bang_NE/subset_West/Water_Masks/S1A_IW_20230312T120502_DVP_RTC30_G_gpufem_DFDC_subset_water_mask_combined.tif',\n",
       " '/home/jovyan/hydrosar/Dataset/bang_NE/subset_West/Water_Masks/S1A_IW_20230324T120502_DVP_RTC30_G_gpufem_0936_subset_water_mask_combined.tif',\n",
       " '/home/jovyan/hydrosar/Dataset/bang_NE/subset_West/Water_Masks/S1A_IW_20230405T120502_DVP_RTC30_G_gpufem_D3F2_subset_water_mask_combined.tif',\n",
       " '/home/jovyan/hydrosar/Dataset/bang_NE/subset_West/Water_Masks/S1A_IW_20230417T120503_DVP_RTC30_G_gpufem_85D7_subset_water_mask_combined.tif',\n",
       " '/home/jovyan/hydrosar/Dataset/bang_NE/subset_West/Water_Masks/S1A_IW_20230429T120503_DVP_RTC30_G_gpufem_436F_subset_water_mask_combined.tif',\n",
       " '/home/jovyan/hydrosar/Dataset/bang_NE/subset_West/Water_Masks/S1A_IW_20230511T120504_DVP_RTC30_G_gpufem_CBE8_subset_water_mask_combined.tif',\n",
       " '/home/jovyan/hydrosar/Dataset/bang_NE/subset_West/Water_Masks/S1A_IW_20230523T120504_DVP_RTC30_G_gpufem_38EE_subset_water_mask_combined.tif',\n",
       " '/home/jovyan/hydrosar/Dataset/bang_NE/subset_West/Water_Masks/S1A_IW_20230604T120505_DVP_RTC30_G_gpufem_F98E_subset_water_mask_combined.tif',\n",
       " '/home/jovyan/hydrosar/Dataset/bang_NE/subset_West/Water_Masks/S1A_IW_20230616T120506_DVP_RTC30_G_gpufem_31DE_subset_water_mask_combined.tif',\n",
       " '/home/jovyan/hydrosar/Dataset/bang_NE/subset_West/Water_Masks/S1A_IW_20230628T120506_DVP_RTC30_G_gpufem_61AB_subset_water_mask_combined.tif',\n",
       " '/home/jovyan/hydrosar/Dataset/bang_NE/subset_West/Water_Masks/S1A_IW_20230710T120507_DVP_RTC30_G_gpufem_95E6_subset_water_mask_combined.tif',\n",
       " '/home/jovyan/hydrosar/Dataset/bang_NE/subset_West/Water_Masks/S1A_IW_20230722T120508_DVP_RTC30_G_gpufem_3E39_subset_water_mask_combined.tif',\n",
       " '/home/jovyan/hydrosar/Dataset/bang_NE/subset_West/Water_Masks/S1A_IW_20230803T120509_DVP_RTC30_G_gpufem_C31F_subset_water_mask_combined.tif',\n",
       " '/home/jovyan/hydrosar/Dataset/bang_NE/subset_West/Water_Masks/S1A_IW_20230815T120509_DVP_RTC30_G_gpufem_F226_subset_water_mask_combined.tif',\n",
       " '/home/jovyan/hydrosar/Dataset/bang_NE/subset_West/Water_Masks/S1A_IW_20230827T120510_DVP_RTC30_G_gpufem_9BF7_subset_water_mask_combined.tif',\n",
       " '/home/jovyan/hydrosar/Dataset/bang_NE/subset_West/Water_Masks/S1A_IW_20230908T120510_DVP_RTC30_G_gpufem_A857_subset_water_mask_combined.tif',\n",
       " '/home/jovyan/hydrosar/Dataset/bang_NE/subset_West/Water_Masks/S1A_IW_20230920T120511_DVP_RTC30_G_gpufem_24F3_subset_water_mask_combined.tif',\n",
       " '/home/jovyan/hydrosar/Dataset/bang_NE/subset_West/Water_Masks/S1A_IW_20231002T120511_DVP_RTC30_G_gpufem_7D8B_subset_water_mask_combined.tif',\n",
       " '/home/jovyan/hydrosar/Dataset/bang_NE/subset_West/Water_Masks/S1A_IW_20231014T120511_DVP_RTC30_G_gpufem_D171_subset_water_mask_combined.tif',\n",
       " '/home/jovyan/hydrosar/Dataset/bang_NE/subset_West/Water_Masks/S1A_IW_20231026T120511_DVP_RTC30_G_gpufem_5D5C_subset_water_mask_combined.tif',\n",
       " '/home/jovyan/hydrosar/Dataset/bang_NE/subset_West/Water_Masks/S1A_IW_20231107T120510_DVP_RTC30_G_gpufem_EA92_subset_water_mask_combined.tif',\n",
       " '/home/jovyan/hydrosar/Dataset/bang_NE/subset_West/Water_Masks/S1A_IW_20231119T120510_DVP_RTC30_G_gpufem_FA28_subset_water_mask_combined.tif',\n",
       " '/home/jovyan/hydrosar/Dataset/bang_NE/subset_West/Water_Masks/S1A_IW_20231201T120510_DVP_RTC30_G_gpufem_EEBC_subset_water_mask_combined.tif',\n",
       " '/home/jovyan/hydrosar/Dataset/bang_NE/subset_West/Water_Masks/S1A_IW_20231213T120510_DVP_RTC30_G_gpufem_922F_subset_water_mask_combined.tif',\n",
       " '/home/jovyan/hydrosar/Dataset/bang_NE/subset_West/Water_Masks/S1A_IW_20231225T120509_DVP_RTC30_G_gpufem_C6D6_subset_water_mask_combined.tif',\n",
       " '/home/jovyan/hydrosar/Dataset/bang_NE/subset_West/Water_Masks/S1A_IW_20240106T120508_DVP_RTC30_G_gpufem_887D_subset_water_mask_combined.tif',\n",
       " '/home/jovyan/hydrosar/Dataset/bang_NE/subset_West/Water_Masks/S1A_IW_20240118T120507_DVR_RTC30_G_gpufem_CF32_subset_water_mask_combined.tif',\n",
       " '/home/jovyan/hydrosar/Dataset/bang_NE/subset_West/Water_Masks/S1A_IW_20240130T120507_DVR_RTC30_G_gpufem_811D_subset_water_mask_combined.tif']"
      ]
     },
     "execution_count": 36,
     "metadata": {},
     "output_type": "execute_result"
    }
   ],
   "source": [
    "tiff_dir = Path(fc.selected,'Water_Masks')\n",
    "paths = tiff_dir/'*_water_mask_combined.tif*'\n",
    "\n",
    "if tiff_dir.exists():\n",
    "    tiff_paths = get_tiff_paths(paths)\n",
    "tiff_paths.sort()\n",
    "tiff_paths"
   ]
  },
  {
   "cell_type": "markdown",
   "metadata": {},
   "source": [
    "***\n",
    "Calculate the flood percentages for each SAR acquisition using the water masks produced in previous steps of this notebook."
   ]
  },
  {
   "cell_type": "code",
   "execution_count": 37,
   "metadata": {
    "scrolled": true
   },
   "outputs": [
    {
     "name": "stdout",
     "output_type": "stream",
     "text": [
      "starting\n",
      "1 of 154 complete\n",
      "2 of 154 complete\n",
      "3 of 154 complete\n",
      "4 of 154 complete\n",
      "5 of 154 complete\n",
      "6 of 154 complete\n",
      "7 of 154 complete\n",
      "8 of 154 complete\n",
      "9 of 154 complete\n",
      "10 of 154 complete\n",
      "11 of 154 complete\n",
      "12 of 154 complete\n",
      "13 of 154 complete\n",
      "14 of 154 complete\n",
      "15 of 154 complete\n",
      "16 of 154 complete\n",
      "17 of 154 complete\n",
      "18 of 154 complete\n",
      "19 of 154 complete\n",
      "20 of 154 complete\n",
      "21 of 154 complete\n",
      "22 of 154 complete\n",
      "23 of 154 complete\n",
      "24 of 154 complete\n",
      "25 of 154 complete\n",
      "26 of 154 complete\n",
      "27 of 154 complete\n",
      "28 of 154 complete\n",
      "29 of 154 complete\n",
      "30 of 154 complete\n",
      "31 of 154 complete\n",
      "32 of 154 complete\n",
      "33 of 154 complete\n",
      "34 of 154 complete\n",
      "35 of 154 complete\n",
      "36 of 154 complete\n",
      "37 of 154 complete\n",
      "38 of 154 complete\n",
      "39 of 154 complete\n",
      "40 of 154 complete\n",
      "41 of 154 complete\n",
      "42 of 154 complete\n",
      "43 of 154 complete\n",
      "44 of 154 complete\n",
      "45 of 154 complete\n",
      "46 of 154 complete\n",
      "47 of 154 complete\n",
      "48 of 154 complete\n",
      "49 of 154 complete\n",
      "50 of 154 complete\n",
      "51 of 154 complete\n",
      "52 of 154 complete\n",
      "53 of 154 complete\n",
      "54 of 154 complete\n",
      "55 of 154 complete\n",
      "56 of 154 complete\n",
      "57 of 154 complete\n",
      "58 of 154 complete\n",
      "59 of 154 complete\n",
      "60 of 154 complete\n",
      "61 of 154 complete\n",
      "62 of 154 complete\n",
      "63 of 154 complete\n",
      "64 of 154 complete\n",
      "65 of 154 complete\n",
      "66 of 154 complete\n",
      "67 of 154 complete\n",
      "68 of 154 complete\n",
      "69 of 154 complete\n",
      "70 of 154 complete\n",
      "71 of 154 complete\n",
      "72 of 154 complete\n",
      "73 of 154 complete\n",
      "74 of 154 complete\n",
      "75 of 154 complete\n",
      "76 of 154 complete\n",
      "77 of 154 complete\n",
      "78 of 154 complete\n",
      "79 of 154 complete\n",
      "80 of 154 complete\n",
      "81 of 154 complete\n",
      "82 of 154 complete\n",
      "83 of 154 complete\n",
      "84 of 154 complete\n",
      "85 of 154 complete\n",
      "86 of 154 complete\n",
      "87 of 154 complete\n",
      "88 of 154 complete\n",
      "89 of 154 complete\n",
      "90 of 154 complete\n",
      "91 of 154 complete\n",
      "92 of 154 complete\n",
      "93 of 154 complete\n",
      "94 of 154 complete\n",
      "95 of 154 complete\n",
      "96 of 154 complete\n",
      "97 of 154 complete\n",
      "98 of 154 complete\n",
      "99 of 154 complete\n",
      "100 of 154 complete\n",
      "101 of 154 complete\n",
      "102 of 154 complete\n",
      "103 of 154 complete\n",
      "104 of 154 complete\n",
      "105 of 154 complete\n",
      "106 of 154 complete\n",
      "107 of 154 complete\n",
      "108 of 154 complete\n",
      "109 of 154 complete\n",
      "110 of 154 complete\n",
      "111 of 154 complete\n",
      "112 of 154 complete\n",
      "113 of 154 complete\n",
      "114 of 154 complete\n",
      "115 of 154 complete\n",
      "116 of 154 complete\n",
      "117 of 154 complete\n",
      "118 of 154 complete\n",
      "119 of 154 complete\n",
      "120 of 154 complete\n",
      "121 of 154 complete\n",
      "122 of 154 complete\n",
      "123 of 154 complete\n",
      "124 of 154 complete\n",
      "125 of 154 complete\n",
      "126 of 154 complete\n",
      "127 of 154 complete\n",
      "128 of 154 complete\n",
      "129 of 154 complete\n",
      "130 of 154 complete\n",
      "131 of 154 complete\n",
      "132 of 154 complete\n",
      "133 of 154 complete\n",
      "134 of 154 complete\n",
      "135 of 154 complete\n",
      "136 of 154 complete\n",
      "137 of 154 complete\n",
      "138 of 154 complete\n",
      "139 of 154 complete\n",
      "140 of 154 complete\n",
      "141 of 154 complete\n",
      "142 of 154 complete\n",
      "143 of 154 complete\n",
      "144 of 154 complete\n",
      "145 of 154 complete\n",
      "146 of 154 complete\n",
      "147 of 154 complete\n",
      "148 of 154 complete\n",
      "149 of 154 complete\n",
      "150 of 154 complete\n",
      "151 of 154 complete\n",
      "152 of 154 complete\n",
      "153 of 154 complete\n",
      "154 of 154 complete\n"
     ]
    }
   ],
   "source": [
    "floodpercent = np.array([])\n",
    "total = len(tiff_paths)\n",
    "county = 0\n",
    "print(\"starting\")\n",
    "for tiff in tiff_paths:\n",
    "    f = gdal.Open(tiff)\n",
    "    unique_elements, counts = np.unique(f.ReadAsArray(), return_counts=True)\n",
    "    myDict = dict(zip(unique_elements,counts))\n",
    "    myArea = myDict[0] + myDict[1]\n",
    "    flooded = myDict[1]\n",
    "    floodpercent = np.append(floodpercent,flooded/myArea*100.0)\n",
    "    county += 1\n",
    "    print(f\"{county} of {total} complete\")"
   ]
  },
  {
   "cell_type": "code",
   "execution_count": 38,
   "metadata": {},
   "outputs": [],
   "source": [
    "def get_dates(paths):\n",
    "    dates = []\n",
    "    for pth in paths: \n",
    "        name = str(pth).split('/')[-1]\n",
    "        dateNtime = str(name).split('_')[2]\n",
    "        date = str(dateNtime).split('T')[0]\n",
    "        dates.append(date)\n",
    "    dates.sort()\n",
    "    return dates"
   ]
  },
  {
   "cell_type": "markdown",
   "metadata": {},
   "source": [
    "***\n",
    "Create and save flood percentages as a function of date, and a figure of the same. "
   ]
  },
  {
   "cell_type": "code",
   "execution_count": 41,
   "metadata": {},
   "outputs": [
    {
     "data": {
      "image/png": "[encoded data removed]",
      "text/plain": [
       "<Figure size 900x400 with 1 Axes>"
      ]
     },
     "metadata": {},
     "output_type": "display_data"
    }
   ],
   "source": [
    "pathfig = Path(fc.selected,'Figures')\n",
    "pathfig.mkdir(parents=True, exist_ok=True)\n",
    "\n",
    "plt.rcParams.update({'font.size': 12})\n",
    "dates = get_dates(tiff_paths)\n",
    "time_index = pd.DatetimeIndex(dates)\n",
    "\n",
    "fig = plt.figure(figsize=(9, 4))\n",
    "ax1 = fig.add_subplot(111)  # 121 determines: 2 rows, 2 plots, first plot\n",
    "ax1.plot(np.unique(time_index), floodpercent, color='b', marker='o', markersize=3, label='Area Covered in Water [%]')\n",
    "ax1.set_ylim([np.min(floodpercent)-np.min(floodpercent)*0.1, np.max(floodpercent)+np.min(floodpercent)*0.1])\n",
    "ax1.set_xlabel('Date')\n",
    "ax1.axhline(y=np.mean(floodpercent), color='k', linestyle='--', label='Average Water Coverage [%]')\n",
    "ax1.set_ylabel('Image Area Covered in Water [%]')\n",
    "ax1.grid()\n",
    "figname = ('ThresholdAndAreaTS.png')\n",
    "ax1.legend(loc='lower right')\n",
    "plt.savefig(pathfig/figname, dpi=300, transparent='true')\n",
    "np.save(pathfig/'time_index.npy', time_index)\n",
    "np.save(pathfig/\"flood_percentage.npy\", floodpercent)"
   ]
  },
  {
   "cell_type": "markdown",
   "metadata": {},
   "source": [
    "`make_water_map` in [water_map.py](../src/hydrosar/water_map.py) is the primary \"science\" interface for generating the water maps. It *should* include all the necessary options for tuning the product -- if it doesn't, and you'd like other things exposed, either:\n",
    "* Ask us to expose it by [Opening an issue](https://github.com/HydroSAR/HydroSAR/issues/new/choose)\n",
    "* [Fork](https://github.com/HydroSAR/HydroSAR/fork) and propose changes in a Pull Request.\n",
    "\n",
    "For more info on the `make_water_map` function, run the cell below."
   ]
  },
  {
   "cell_type": "code",
   "execution_count": null,
   "metadata": {},
   "outputs": [],
   "source": [
    "from hydrosar.water_map import make_water_map\n",
    "make_water_map?"
   ]
  }
 ],
 "metadata": {
  "kernelspec": {
   "display_name": "Python [conda env:.local-hydrosar]",
   "language": "python",
   "name": "conda-env-.local-hydrosar-py"
  },
  "language_info": {
   "codemirror_mode": {
    "name": "ipython",
    "version": 3
   },
   "file_extension": ".py",
   "mimetype": "text/x-python",
   "name": "python",
   "nbconvert_exporter": "python",
   "pygments_lexer": "ipython3",
   "version": "3.11.8"
  }
 },
 "nbformat": 4,
 "nbformat_minor": 4
}
