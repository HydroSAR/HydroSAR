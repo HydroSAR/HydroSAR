{
 "cells": [
  {
   "cell_type": "markdown",
   "metadata": {},
   "source": [
    "# HyP3 prototype water extent map and flood depth products\n",
    "\n",
    "This notebook mimics the workflow a HyP3 Water Map plugin will follow to create an On Demand flood depth map. It is intended demonstrate *how* HyP3 goes from an On Demand request to a product, as well as provide a platform for testing/tuning/refinement of the water products.\n",
    "\n",
    "Step 1 is a required data marshaling step that will be handled transparently inside the container. Importantly, steps 2 and 3 become the plugin's primary interface, and the options provided to the `make_water_map` and `make_flood_map` functions are able to be exposed to users."
   ]
  },
  {
   "cell_type": "markdown",
   "metadata": {},
   "source": [
    "## 1. Generate input dual-pol RTC product\n",
    "\n",
    "Water extent mapping requires Radiometrically Terrain Corrected (RTC) Sentinel-1 scenes in order to accurately connect backscatter features to the input HAND data. The next few cells will use HyP3's Python SDK to request an RTC product from HyP3 for the Sentinel-1 granule (scene):\n",
    "\n",
    "[S1A_IW_GRDH_1SDV_20210413T235641_20210413T235706_037439_0469D0_3F2B](https://search.asf.alaska.edu/#/?zoom=6.964&center=-90.509,40.296&resultsLoaded=true&granule=S1A_IW_GRDH_1SDV_20210413T235641_20210413T235706_037439_0469D0_3F2B-METADATA_GRD_HD&searchType=List%20Search&searchList=S1A_IW_GRDH_1SDV_20210413T235641_20210413T235706_037439_0469D0_3F2B)\n",
    "\n",
    "### 1.1 Connect to HyP3"
   ]
  },
  {
   "cell_type": "code",
   "execution_count": null,
   "metadata": {},
   "outputs": [],
   "source": [
    "import logging\n",
    "import shutil\n",
    "import hyp3_sdk as sdk\n",
    "\n",
    "logging.basicConfig(level=logging.INFO)\n",
    "\n",
    "hyp3 = sdk.HyP3(prompt=True)"
   ]
  },
  {
   "cell_type": "markdown",
   "metadata": {},
   "source": [
    "### 1.2  Submit an On Demand request for the input RTC product\n",
    "\n",
    "Currently, the RTC options provided to `hyp3.submit_rtc_job` as specified are expected/required by `make_water_map` and are not recommended to be changed, except for:\n",
    "\n",
    "* `speckle_filter` -- Apply an Enhanced Lee speckle filter.\n",
    "\n",
    "* `dem_matching` -- Coregisters SAR data to the DEM, rather than using dead reckoning based on orbit files. See the [Terrain Correction](https://hyp3-docs.asf.alaska.edu/guides/rtc_product_guide/#terrain-correction) in the RTC Product Guide for more information.\n",
    "\n",
    "* `include_dem` -- include a GeoTIF of the Copernicus DEM pixel aligned to the RTC products. This GeoTIFF isn't used by `make_water_map` but was used to create the RTC product and the HAND data\n",
    "\n",
    "* `include_rgb` -- include a false-color RGB decomposition for dual-pol granules. This GeoTIFF isn't used by `make_water_map` but may help you [interpret the RTC image](https://github.com/ASFHyP3/hyp3-lib/blob/develop/docs/rgb_decomposition.md#interpreting-the-images) and evaluate the water extent map\n"
   ]
  },
  {
   "cell_type": "code",
   "execution_count": null,
   "metadata": {
    "scrolled": true
   },
   "outputs": [],
   "source": [
    "granule = 'S1A_IW_GRDH_1SDV_20210413T235641_20210413T235706_037439_0469D0_3F2B'\n",
    "\n",
    "job = hyp3.submit_rtc_job(\n",
    "    granule, name='water-extent-example',\n",
    "    radiometry='gamma0', scale='power', resolution=30, dem_name='copernicus',\n",
    "    include_dem=True, include_rgb=True,\n",
    "    speckle_filter=True, dem_matching=False\n",
    ")\n",
    "print(job)"
   ]
  },
  {
   "cell_type": "markdown",
   "metadata": {},
   "source": []
  },
  {
   "cell_type": "code",
   "execution_count": null,
   "metadata": {},
   "outputs": [],
   "source": [
    "job = hyp3.watch(job)"
   ]
  },
  {
   "cell_type": "markdown",
   "metadata": {},
   "source": [
    "### 1.4 Download the RTC product\n",
    "\n",
    "RTC products are downloaded as Zip files and then extracted. The GeoTIFF for the VV and VH polarizations are selected from the (unzipped) product folder."
   ]
  },
  {
   "cell_type": "code",
   "execution_count": null,
   "metadata": {
    "scrolled": true
   },
   "outputs": [],
   "source": [
    "product_zip = job.download_files()[0]\n",
    "shutil.unpack_archive(product_zip)\n",
    "vv_raster = product_zip.parent / product_zip.stem / f'{product_zip.stem}_VV.tif'\n",
    "vh_raster = product_zip.parent / product_zip.stem / f'{product_zip.stem}_VH.tif'\n",
    "print(f'VV raster: {vv_raster}')\n",
    "print(f'VH raster: {vv_raster}')"
   ]
  },
  {
   "cell_type": "markdown",
   "metadata": {},
   "source": [
    "## 2. Generate the water extent map\n",
    "Now that we have marshalled all the required input data, we can generate the surface water extent map!\n",
    "For a detailed description for arguments used in the `make_water_map` function, run the cell below.\n",
    "\n",
    "**Note:** this will take $\\approx$ 30 minutes to complete."
   ]
  },
  {
   "cell_type": "code",
   "execution_count": null,
   "metadata": {},
   "outputs": [],
   "source": [
    "water_extent_raster_ext = 'water_extent.tif'\n",
    "make_water_map(water_extent_raster_ext, vv_raster, vh_raster, tile_shape=(100, 100),\n",
    "               max_vv_threshold=-15.5, max_vh_threshold=-23., hand_threshold=15., hand_fraction=0.8)"
   ]
  },
  {
   "cell_type": "markdown",
   "metadata": {},
   "source": [
    "`make_water_map` in [water_map.py](../asf_tools/water_map.py) is the primary \"science\" interface for generating the water maps. It *should* include all the necessary options for tuning the product -- if it doesn't, and you'd like other things exposed, either:\n",
    "* Ask us to expose it by:\n",
    "  * [Chatting with us in Gitter](https://gitter.im/ASFHyP3/community)\n",
    "  * [Opening an issue](https://github.com/ASFHyP3/asf-tools/issues/new/choose)\n",
    "\n",
    "* [Fork](https://github.com/ASFHyP3/hyp3-sdk/fork) and propose changes in a Pull Request. See our [contributing guidelines](https://hyp3-docs.asf.alaska.edu/contributing/).\n",
    "\n",
    "For a detailed description for arguments used in the `make_water_map` function, run the cell below."
   ]
  },
  {
   "cell_type": "code",
   "execution_count": null,
   "outputs": [],
   "source": [
    "from asf_tools.water_map import make_water_map\n",
    "\n",
    "make_water_map?"
   ],
   "metadata": {
    "collapsed": false,
    "pycharm": {
     "name": "#%%\n"
    }
   }
  },
  {
   "cell_type": "markdown",
   "metadata": {
    "pycharm": {
     "name": "#%% md\n"
    }
   },
   "source": [
    "## 3. Generate Flood Depth Map\n",
    "\n",
    "We are now able to estimate flood depths for our AOI with the VV RTC raster from our RTC job, surface water extent map, and HAND raster produced while creating the surface water extent map.\n",
    "\n",
    "**Note**: this will take $\\approx$4-5 hours to complete."
   ]
  },
  {
   "cell_type": "code",
   "metadata": {
    "pycharm": {
     "name": "#%%\n"
    }
   },
   "source": [
    "water_extent_raster = product_zip.parent / product_zip.stem / f'{product_zip.stem}_{water_extent_raster_ext}'\n",
    "HAND_raster = product_zip.parent / product_zip.stem / f'{product_zip.stem}_{water_extent_raster_ext}_HAND.tif'\n",
    "print(f'Surface water extent raster: {water_extent_raster}')\n",
    "print(f'HAND raster: {HAND_raster}')\n",
    "\n",
    "flood_map_raster = 'flood_map.tif'\n",
    "make_water_map(flood_map_raster, vv_raster, water_extent_raster, HAND_raster, estimator='iterative', water_level_sigma=3.,\n",
    "               known_water_threshold=30., iterative_bounds=(0, 15))"
   ],
   "execution_count": null,
   "outputs": []
  },
  {
   "cell_type": "markdown",
   "metadata": {
    "pycharm": {
     "name": "#%% md\n"
    }
   },
   "source": [
    "For a detailed description for arguments used in the `make_flood_map` function, run the cell below."
   ]
  },
  {
   "cell_type": "code",
   "execution_count": null,
   "outputs": [],
   "source": [
    "from asf_tools.water_map import make_water_map\n",
    "\n",
    "make_water_map?"
   ],
   "metadata": {
    "collapsed": false,
    "pycharm": {
     "name": "#%%\n"
    }
   }
  },
  {
   "cell_type": "markdown",
   "metadata": {
    "pycharm": {
     "name": "#%% md\n"
    }
   },
   "source": []
  }
 ],
 "metadata": {
  "kernelspec": {
   "display_name": "Python 3 (ipykernel)",
   "language": "python",
   "name": "python3"
  },
  "language_info": {
   "codemirror_mode": {
    "name": "ipython",
    "version": 3
   },
   "file_extension": ".py",
   "mimetype": "text/x-python",
   "name": "python",
   "nbconvert_exporter": "python",
   "pygments_lexer": "ipython3",
   "version": "3.9.10"
  }
 },
 "nbformat": 4,
 "nbformat_minor": 1
}