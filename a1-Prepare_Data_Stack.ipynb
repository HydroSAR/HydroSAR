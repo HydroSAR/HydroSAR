{
 "cells": [
  {
   "cell_type": "markdown",
   "metadata": {},
   "source": [
    "![OpenSARlab notebook banner](NotebookAddons/blackboard-banner.png)\n",
    "\n",
    "# Prepare a SAR Data Stack\n",
    "### Joseph H Kennedy and Alex Lewandowski; Alaska Satellite Facility\n",
    "\n",
    "This notebook downloads an ASF-HyP3 RTC project and prepares a deep multi-temporal SAR image data stack for use in other notebooks.\n",
    "\n",
    "<img style=\"padding: 7px\" src=\"NotebookAddons/UAFLogo_A_647.png\" width=\"170\" align=\"right\"/></font>"
   ]
  },
  {
   "cell_type": "markdown",
   "metadata": {},
   "source": [
    "### Important Note about JupyterHub\n",
    "\n",
    "**Your JupyterHub server will automatically shutdown when left idle for more than 1 hour. Your notebooks will not be lost but you will have to restart their kernels and re-run them from the beginning. You will not be able to seamlessly continue running a partially run notebook.**"
   ]
  },
  {
   "cell_type": "code",
   "execution_count": 1,
   "metadata": {},
   "outputs": [
    {
     "data": {
      "application/vnd.jupyter.widget-view+json": {
       "model_id": "46c5800be46d4fc5a5f11dc44cb56568",
       "version_major": 2,
       "version_minor": 0
      },
      "text/plain": [
       "URLWidget()"
      ]
     },
     "metadata": {},
     "output_type": "display_data"
    }
   ],
   "source": [
    "import url_widget as url_w\n",
    "notebookUrl = url_w.URLWidget()\n",
    "display(notebookUrl)\n"
   ]
  },
  {
   "cell_type": "code",
   "execution_count": 2,
   "metadata": {
    "pycharm": {
     "name": "#%%\n"
    }
   },
   "outputs": [
    {
     "data": {
      "text/markdown": [
       "<text style=color:red><strong>WARNING:</strong></text>"
      ],
      "text/plain": [
       "<IPython.core.display.Markdown object>"
      ]
     },
     "metadata": {},
     "output_type": "display_data"
    },
    {
     "data": {
      "text/markdown": [
       "<text style=color:red>This notebook should be run using the \"rtc_analysis\" conda environment.</text>"
      ],
      "text/plain": [
       "<IPython.core.display.Markdown object>"
      ]
     },
     "metadata": {},
     "output_type": "display_data"
    },
    {
     "data": {
      "text/markdown": [
       "<text style=color:red>It is currently using the \"hydrosar_rtc_era5\" environment.</text>"
      ],
      "text/plain": [
       "<IPython.core.display.Markdown object>"
      ]
     },
     "metadata": {},
     "output_type": "display_data"
    },
    {
     "data": {
      "text/markdown": [
       "<text style=color:red>Select the \"rtc_analysis\" from the \"Change Kernel\" submenu of the \"Kernel\" menu.</text>"
      ],
      "text/plain": [
       "<IPython.core.display.Markdown object>"
      ]
     },
     "metadata": {},
     "output_type": "display_data"
    },
    {
     "data": {
      "text/markdown": [
       "<text style=color:red>If the \"rtc_analysis\" environment is not present, use <a href=\"https://opensciencelab.asf.alaska.edu/lab/smce-prod-opensarlab/user/jknicely/notebooks/conda_environments/Create_OSL_Conda_Environments.ipynb\"> Create_OSL_Conda_Environments.ipynb </a> to create it.</text>"
      ],
      "text/plain": [
       "<IPython.core.display.Markdown object>"
      ]
     },
     "metadata": {},
     "output_type": "display_data"
    },
    {
     "data": {
      "text/markdown": [
       "<text style=color:red>Note that you must restart your server after creating a new environment before it is usable by notebooks.</text>"
      ],
      "text/plain": [
       "<IPython.core.display.Markdown object>"
      ]
     },
     "metadata": {},
     "output_type": "display_data"
    }
   ],
   "source": [
    "from IPython.display import Markdown\n",
    "from IPython.display import display\n",
    "\n",
    "notebookUrl = notebookUrl.value\n",
    "user = !echo $JUPYTERHUB_USER\n",
    "env = !echo $CONDA_PREFIX\n",
    "if env[0] == '':\n",
    "    env[0] = 'Python 3 (base)'\n",
    "if env[0] != '/home/jovyan/.local/envs/rtc_analysis':\n",
    "    display(Markdown(f'<text style=color:red><strong>WARNING:</strong></text>'))\n",
    "    display(Markdown(f'<text style=color:red>This notebook should be run using the \"rtc_analysis\" conda environment.</text>'))\n",
    "    display(Markdown(f'<text style=color:red>It is currently using the \"{env[0].split(\"/\")[-1]}\" environment.</text>'))\n",
    "    display(Markdown(f'<text style=color:red>Select the \"rtc_analysis\" from the \"Change Kernel\" submenu of the \"Kernel\" menu.</text>'))\n",
    "    display(Markdown(f'<text style=color:red>If the \"rtc_analysis\" environment is not present, use <a href=\"{notebookUrl.split(\"/user\")[0]}/user/{user[0]}/notebooks/conda_environments/Create_OSL_Conda_Environments.ipynb\"> Create_OSL_Conda_Environments.ipynb </a> to create it.</text>'))\n",
    "    display(Markdown(f'<text style=color:red>Note that you must restart your server after creating a new environment before it is usable by notebooks.</text>'))"
   ]
  },
  {
   "cell_type": "markdown",
   "metadata": {},
   "source": [
    "## 0. Importing Relevant Python Packages\n",
    "\n",
    "In this notebook we will use the following scientific libraries:\n",
    "\n",
    "1. [GDAL](https://www.gdal.org/) is a software library for reading and writing raster and vector geospatial data formats. It includes a collection of programs tailored for geospatial data processing. Most modern GIS systems (such as ArcGIS or QGIS) use GDAL in the background.\n",
    "1. [NumPy](http://www.numpy.org/) is one of the principal packages for scientific applications of Python. It is intended for processing large multidimensional arrays and matrices, and an extensive collection of high-level mathematical functions and implemented methods makes it possible to perform various operations with these objects.\n",
    "\n",
    "**Our first step is to import them:**"
   ]
  },
  {
   "cell_type": "code",
   "execution_count": 8,
   "metadata": {},
   "outputs": [],
   "source": [
    "%%capture\n",
    "import copy\n",
    "from datetime import datetime, timedelta, timezone\n",
    "import json # for loads\n",
    "from pathlib import Path\n",
    "import re\n",
    "import shutil\n",
    "import warnings\n",
    "import rasterio\n",
    "from rasterio.merge import merge\n",
    "\n",
    "from osgeo import gdal\n",
    "import numpy as np\n",
    "\n",
    "from IPython.display import display, clear_output, Markdown\n",
    "\n",
    "import opensarlab_lib as asfn # this gets used ~22 times\n",
    "\n",
    "from hyp3_sdk import Batch, HyP3"
   ]
  },
  {
   "cell_type": "markdown",
   "metadata": {},
   "source": [
    "## 1. Load Your Own Data Stack Into the Notebook\n",
    "\n",
    "This notebook assumes that you've created your own data stack over your personal area of interest using the [Alaska Satellite Facility's](https://www.asf.alaska.edu/) value-added product system HyP3, available via [ASF Data Search (Vertex)](https://search.asf.alaska.edu/#/). HyP3 is an ASF service used to prototype value added products and provide them to users to collect feedback.\n",
    "\n",
    "We will retrieve HyP3 data via the hyp3_sdk. As both HyP3 and the Notebook environment sit in the [Amazon Web Services (AWS)](https://aws.amazon.com/) cloud, data transfer is quick and cost effective.\n",
    "\n",
    "---\n",
    "\n",
    "Before we download anything, create a working directory for this analysis.\n",
    "\n",
    "**Select or create a working directory for the analysis:**"
   ]
  },
  {
   "cell_type": "code",
   "execution_count": 4,
   "metadata": {},
   "outputs": [
    {
     "name": "stdout",
     "output_type": "stream",
     "text": [
      "Current working directory: /home/jovyan/hydrosar\n"
     ]
    },
    {
     "name": "stdin",
     "output_type": "stream",
     "text": [
      "\n",
      "Please enter the name of a directory in which to store your data for this analysis. Nepal_sF\n"
     ]
    }
   ],
   "source": [
    "while True:\n",
    "    print(f\"Current working directory: {Path.cwd()}\")\n",
    "    data_dir = Path(Path.cwd()/'Dataset'/input(f\"\\nPlease enter the name of a directory in which to store your data for this analysis.\"))\n",
    "    if data_dir == Path('.'):\n",
    "        continue\n",
    "    if data_dir.is_dir():\n",
    "        contents = data_dir.glob('*')\n",
    "        if len(list(contents)) > 0:\n",
    "            choice = asfn.handle_old_data(data_dir)\n",
    "            if choice == 1:\n",
    "                if data_dir.exists():\n",
    "                    shutil.rmtree(data_dir)\n",
    "                data_dir.mkdir(parents=True, exist_ok=True)\n",
    "                break\n",
    "            elif choice == 2:\n",
    "                break\n",
    "            else:\n",
    "                clear_output()\n",
    "                continue\n",
    "        else:\n",
    "            break\n",
    "    else:\n",
    "        data_dir.mkdir(parents=True, exist_ok=True)\n",
    "        break"
   ]
  },
  {
   "cell_type": "markdown",
   "metadata": {
    "slideshow": {
     "slide_type": "subslide"
    }
   },
   "source": [
    "**Define absolute path to  analysis directory:**"
   ]
  },
  {
   "cell_type": "code",
   "execution_count": 5,
   "metadata": {},
   "outputs": [
    {
     "name": "stdout",
     "output_type": "stream",
     "text": [
      "analysis_directory: /home/jovyan/hydrosar/Dataset/Nepal_sF\n"
     ]
    }
   ],
   "source": [
    "analysis_directory = Path.cwd().joinpath(data_dir)\n",
    "print(f\"analysis_directory: {analysis_directory}\")"
   ]
  },
  {
   "cell_type": "markdown",
   "metadata": {},
   "source": [
    "**Create a HyP3 object and authenticate:**"
   ]
  },
  {
   "cell_type": "code",
   "execution_count": 6,
   "metadata": {
    "scrolled": true
   },
   "outputs": [
    {
     "name": "stdin",
     "output_type": "stream",
     "text": [
      "NASA Earthdata Login username:  jknicely_alaska.edu\n",
      "NASA Earthdata Login password:  ········\n"
     ]
    }
   ],
   "source": [
    "hyp3 = HyP3(prompt=True)"
   ]
  },
  {
   "cell_type": "markdown",
   "metadata": {},
   "source": [
    "**Select a product type to download:**"
   ]
  },
  {
   "cell_type": "code",
   "execution_count": 9,
   "metadata": {},
   "outputs": [
    {
     "data": {
      "application/vnd.jupyter.widget-view+json": {
       "model_id": "3edbf88cf46c45939fa78496241df2ee",
       "version_major": 2,
       "version_minor": 0
      },
      "text/plain": [
       "RadioButtons(layout=Layout(min_width='800px'), options=('RTC_GAMMA', 'INSAR_GAMMA', 'AUTORIFT'), value='RTC_GA…"
      ]
     },
     "execution_count": 9,
     "metadata": {},
     "output_type": "execute_result"
    }
   ],
   "source": [
    "job_types = ['RTC_GAMMA', 'INSAR_GAMMA', 'AUTORIFT']\n",
    "job_type = asfn.select_parameter(job_types)\n",
    "job_type"
   ]
  },
  {
   "cell_type": "markdown",
   "metadata": {},
   "source": [
    "**Decide whether to search for a HyP3 project or jobs unattached to a project:** "
   ]
  },
  {
   "cell_type": "code",
   "execution_count": 10,
   "metadata": {},
   "outputs": [
    {
     "name": "stdout",
     "output_type": "stream",
     "text": [
      "Select whether to search for HyP3 Project or HyP3 Jobs unattached to a project\n"
     ]
    },
    {
     "data": {
      "application/vnd.jupyter.widget-view+json": {
       "model_id": "93c35dc1cfda4a179f485336743fff37",
       "version_major": 2,
       "version_minor": 0
      },
      "text/plain": [
       "RadioButtons(layout=Layout(min_width='800px'), options=('project', 'projectless jobs'), value='project')"
      ]
     },
     "metadata": {},
     "output_type": "display_data"
    }
   ],
   "source": [
    "options = ['project', 'projectless jobs']\n",
    "search_type = asfn.select_parameter(options, '')\n",
    "print(\"Select whether to search for HyP3 Project or HyP3 Jobs unattached to a project\")\n",
    "display(search_type)"
   ]
  },
  {
   "cell_type": "markdown",
   "metadata": {},
   "source": [
    "**List projects containing active products of the type chosen in the previous cell and select one:**"
   ]
  },
  {
   "cell_type": "code",
   "execution_count": 11,
   "metadata": {},
   "outputs": [
    {
     "data": {
      "text/markdown": [
       "<text style='color:darkred;'>Note: After selecting a project, you must select the next cell before hitting the 'Run' button or typing Shift/Enter.</text>"
      ],
      "text/plain": [
       "<IPython.core.display.Markdown object>"
      ]
     },
     "metadata": {},
     "output_type": "display_data"
    },
    {
     "data": {
      "text/markdown": [
       "<text style='color:darkred;'>Otherwise, you will rerun this code cell.</text>"
      ],
      "text/plain": [
       "<IPython.core.display.Markdown object>"
      ]
     },
     "metadata": {},
     "output_type": "display_data"
    },
    {
     "name": "stdout",
     "output_type": "stream",
     "text": [
      "\n",
      "Select a Project:\n"
     ]
    },
    {
     "data": {
      "application/vnd.jupyter.widget-view+json": {
       "model_id": "5eace286e9e74273be0d28ee1eaed7ac",
       "version_major": 2,
       "version_minor": 0
      },
      "text/plain": [
       "RadioButtons(layout=Layout(min_width='800px'), options=('Nepal',), value='Nepal')"
      ]
     },
     "metadata": {},
     "output_type": "display_data"
    }
   ],
   "source": [
    "my_hyp3_info = hyp3.my_info()\n",
    "active_projects = dict()\n",
    "\n",
    "if search_type.value == 'project':\n",
    "    for project in my_hyp3_info['job_names']:\n",
    "        batch = Batch()\n",
    "        batch = hyp3.find_jobs(name=project, job_type=job_type.value).filter_jobs(running=False, include_expired=False)\n",
    "        if len(batch) > 0:\n",
    "            active_projects.update({batch.jobs[0].name: batch})\n",
    "\n",
    "    if len(active_projects) > 0:\n",
    "        display(Markdown(\"<text style='color:darkred;'>Note: After selecting a project, you must select the next cell before hitting the 'Run' button or typing Shift/Enter.</text>\"))\n",
    "        display(Markdown(\"<text style='color:darkred;'>Otherwise, you will rerun this code cell.</text>\"))\n",
    "        print('\\nSelect a Project:')\n",
    "        project_select = asfn.select_parameter(active_projects.keys())\n",
    "        display(project_select)\n",
    "if search_type.value == 'projectless jobs' or len(active_projects) == 0:\n",
    "    project_select = False\n",
    "    if search_type.value == 'project':\n",
    "        print(f\"There were no {job_type.value} jobs found in any current projects.\\n\")\n",
    "    jobs = hyp3.find_jobs(job_type=job_type.value).filter_jobs(running=False, include_expired=False)\n",
    "    orphaned_jobs = Batch()\n",
    "    for j in jobs:\n",
    "        if not j.name:\n",
    "            orphaned_jobs += j\n",
    "    jobs = orphaned_jobs\n",
    "\n",
    "    if len(jobs) > 0:\n",
    "        print(f\"Found {len(jobs)} {job_type.value} jobs that are not part of a project.\")\n",
    "        print(f\"Select the jobs you wish to download\")\n",
    "        jobs = {i.files[0]['filename']: i for i in jobs}\n",
    "        jobs_select = asfn.select_mult_parameters(jobs.keys(), '', width='500px')\n",
    "        display(jobs_select)\n",
    "    else:\n",
    "        print(f\"There were no {job_type.value} jobs found that are not part of a project either.\")\n",
    "    "
   ]
  },
  {
   "cell_type": "markdown",
   "metadata": {},
   "source": [
    "\n",
    "**Select a date range of products to download:**"
   ]
  },
  {
   "cell_type": "code",
   "execution_count": 12,
   "metadata": {},
   "outputs": [
    {
     "data": {
      "text/markdown": [
       "<text style='color:darkred;'>Note: After selecting a date range, you should select the next cell before hitting the 'Run' button or typing Shift/Enter.</text>"
      ],
      "text/plain": [
       "<IPython.core.display.Markdown object>"
      ]
     },
     "metadata": {},
     "output_type": "display_data"
    },
    {
     "data": {
      "text/markdown": [
       "<text style='color:darkred;'>Otherwise, you may simply rerun this code cell.</text>"
      ],
      "text/plain": [
       "<IPython.core.display.Markdown object>"
      ]
     },
     "metadata": {},
     "output_type": "display_data"
    },
    {
     "name": "stdout",
     "output_type": "stream",
     "text": [
      "\n",
      "Select a Date Range:\n"
     ]
    },
    {
     "data": {
      "application/vnd.jupyter.widget-view+json": {
       "model_id": "798d6dff95104b42adbcf64fe07d43f6",
       "version_major": 2,
       "version_minor": 0
      },
      "text/plain": [
       "SelectionRangeSlider(description='Dates', index=(0, 1488), layout=Layout(width='500px'), options=((' 03/23/202…"
      ]
     },
     "execution_count": 12,
     "metadata": {},
     "output_type": "execute_result"
    }
   ],
   "source": [
    "if project_select:\n",
    "    batch = active_projects[project_select.value]\n",
    "else:\n",
    "    batch = Batch()\n",
    "    for j in jobs_select.value:\n",
    "        batch += jobs[j]\n",
    "\n",
    "display(Markdown(\"<text style='color:darkred;'>Note: After selecting a date range, you should select the next cell before hitting the 'Run' button or typing Shift/Enter.</text>\"))\n",
    "display(Markdown(\"<text style='color:darkred;'>Otherwise, you may simply rerun this code cell.</text>\"))\n",
    "print('\\nSelect a Date Range:')\n",
    "dates = asfn.get_job_dates(batch)\n",
    "date_picker = asfn.gui_date_picker(dates)\n",
    "date_picker"
   ]
  },
  {
   "cell_type": "markdown",
   "metadata": {},
   "source": [
    "**Save the selected date range and remove products falling outside of it:**"
   ]
  },
  {
   "cell_type": "code",
   "execution_count": 13,
   "metadata": {
    "scrolled": true
   },
   "outputs": [
    {
     "name": "stdout",
     "output_type": "stream",
     "text": [
      "Date Range: 2020-03-23 to 2024-04-19\n"
     ]
    }
   ],
   "source": [
    "date_range = asfn.get_slider_vals(date_picker)\n",
    "date_range[0] = date_range[0].date()\n",
    "date_range[1] = date_range[1].date()\n",
    "print(f\"Date Range: {str(date_range[0])} to {str(date_range[1])}\")\n",
    "batch = asfn.filter_jobs_by_date(batch, date_range)"
   ]
  },
  {
   "cell_type": "markdown",
   "metadata": {},
   "source": [
    "**Gather the available paths and orbit directions for the remaining products:**"
   ]
  },
  {
   "cell_type": "code",
   "execution_count": 14,
   "metadata": {
    "scrolled": true,
    "tags": []
   },
   "outputs": [
    {
     "data": {
      "text/plain": [
       "Batch([Job.from_dict({'job_id': '9e40e530-b807-49d9-89c5-2d3ecba4cbf1', 'job_type': 'RTC_GAMMA', 'request_time': '2024-04-24T22:52:01+00:00', 'status_code': 'SUCCEEDED', 'user_id': 'jknicely_alaska.edu', 'name': 'Nepal', 'job_parameters': {'dem_matching': False, 'dem_name': 'copernicus', 'granules': ['S1A_IW_SLC__1SDV_20200323T123842_20200323T123909_031803_03AB54_868E'], 'include_dem': True, 'include_inc_map': False, 'include_rgb': False, 'include_scattering_area': False, 'radiometry': 'gamma0', 'resolution': 30, 'scale': 'power', 'speckle_filter': False}, 'files': [{'filename': 'S1A_IW_20200323T123842_DVP_RTC30_G_gpuned_96AF.zip', 's3': {'bucket': 'hyp3-edc-prod-contentbucket-1fv14ed36ifj6', 'key': '9e40e530-b807-49d9-89c5-2d3ecba4cbf1/S1A_IW_20200323T123842_DVP_RTC30_G_gpuned_96AF.zip'}, 'size': 546699357, 'url': 'https://d3gm2hf49xd6jj.cloudfront.net/9e40e530-b807-49d9-89c5-2d3ecba4cbf1/S1A_IW_20200323T123842_DVP_RTC30_G_gpuned_96AF.zip'}], 'logs': [], 'browse_images': ['https://d3gm2hf49xd6jj.cloudfront.net/9e40e530-b807-49d9-89c5-2d3ecba4cbf1/S1A_IW_20200323T123842_DVP_RTC30_G_gpuned_96AF.png', 'https://d3gm2hf49xd6jj.cloudfront.net/9e40e530-b807-49d9-89c5-2d3ecba4cbf1/S1A_IW_20200323T123842_DVP_RTC30_G_gpuned_96AF_rgb.png'], 'thumbnail_images': ['https://d3gm2hf49xd6jj.cloudfront.net/9e40e530-b807-49d9-89c5-2d3ecba4cbf1/S1A_IW_20200323T123842_DVP_RTC30_G_gpuned_96AF_thumb.png', 'https://d3gm2hf49xd6jj.cloudfront.net/9e40e530-b807-49d9-89c5-2d3ecba4cbf1/S1A_IW_20200323T123842_DVP_RTC30_G_gpuned_96AF_rgb_thumb.png'], 'expiration_time': '2024-05-09T00:00:00+00:00', 'processing_times': [1062.484], 'credit_cost': 5}), Job.from_dict({'job_id': '782b7f65-eb3a-4a76-a46e-9da32f16bc0b', 'job_type': 'RTC_GAMMA', 'request_time': '2024-04-24T22:52:01+00:00', 'status_code': 'SUCCEEDED', 'user_id': 'jknicely_alaska.edu', 'name': 'Nepal', 'job_parameters': {'dem_matching': False, 'dem_name': 'copernicus', 'granules': ['S1A_IW_SLC__1SDV_20200416T123843_20200416T123910_032153_03B7A0_6A4D'], 'include_dem': True, 'include_inc_map': False, 'include_rgb': False, 'include_scattering_area': False, 'radiometry': 'gamma0', 'resolution': 30, 'scale': 'power', 'speckle_filter': False}, 'files': [{'filename': 'S1A_IW_20200416T123843_DVP_RTC30_G_gpuned_AD99.zip', 's3': {'bucket': 'hyp3-edc-prod-contentbucket-1fv14ed36ifj6', 'key': '782b7f65-eb3a-4a76-a46e-9da32f16bc0b/S1A_IW_20200416T123843_DVP_RTC30_G_gpuned_AD99.zip'}, 'size': 547967118, 'url': 'https://d3gm2hf49xd6jj.cloudfront.net/782b7f65-eb3a-4a76-a46e-9da32f16bc0b/S1A_IW_20200416T123843_DVP_RTC30_G_gpuned_AD99.zip'}], 'logs': [], 'browse_images': ['https://d3gm2hf49xd6jj.cloudfront.net/782b7f65-eb3a-4a76-a46e-9da32f16bc0b/S1A_IW_20200416T123843_DVP_RTC30_G_gpuned_AD99.png', 'https://d3gm2hf49xd6jj.cloudfront.net/782b7f65-eb3a-4a76-a46e-9da32f16bc0b/S1A_IW_20200416T123843_DVP_RTC30_G_gpuned_AD99_rgb.png'], 'thumbnail_images': ['https://d3gm2hf49xd6jj.cloudfront.net/782b7f65-eb3a-4a76-a46e-9da32f16bc0b/S1A_IW_20200416T123843_DVP_RTC30_G_gpuned_AD99_thumb.png', 'https://d3gm2hf49xd6jj.cloudfront.net/782b7f65-eb3a-4a76-a46e-9da32f16bc0b/S1A_IW_20200416T123843_DVP_RTC30_G_gpuned_AD99_rgb_thumb.png'], 'expiration_time': '2024-05-09T00:00:00+00:00', 'processing_times': [1060.693], 'credit_cost': 5}), Job.from_dict({'job_id': 'c8fa038a-0771-4d39-a7ca-61dd636b501f', 'job_type': 'RTC_GAMMA', 'request_time': '2024-04-24T22:52:01+00:00', 'status_code': 'SUCCEEDED', 'user_id': 'jknicely_alaska.edu', 'name': 'Nepal', 'job_parameters': {'dem_matching': False, 'dem_name': 'copernicus', 'granules': ['S1A_IW_SLC__1SDV_20200404T123843_20200404T123910_031978_03B17B_4EA8'], 'include_dem': True, 'include_inc_map': False, 'include_rgb': False, 'include_scattering_area': False, 'radiometry': 'gamma0', 'resolution': 30, 'scale': 'power', 'speckle_filter': False}, 'files': [{'filename': 'S1A_IW_20200404T123843_DVP_RTC30_G_gpuned_67B4.zip', 's3': {'bucket': 'hyp3-edc-prod-contentbucket-1fv14ed36ifj6', 'key': 'c8fa038a-0771-4d39-a7ca-61dd636b501f/S1A_IW_20200404T123843_DVP_RTC30_G_gpuned_67B4.zip'}, 'size': 547230660, 'url': 'https://d3gm2hf49xd6jj.cloudfront.net/c8fa038a-0771-4d39-a7ca-61dd636b501f/S1A_IW_20200404T123843_DVP_RTC30_G_gpuned_67B4.zip'}], 'logs': [], 'browse_images': ['https://d3gm2hf49xd6jj.cloudfront.net/c8fa038a-0771-4d39-a7ca-61dd636b501f/S1A_IW_20200404T123843_DVP_RTC30_G_gpuned_67B4.png', 'https://d3gm2hf49xd6jj.cloudfront.net/c8fa038a-0771-4d39-a7ca-61dd636b501f/S1A_IW_20200404T123843_DVP_RTC30_G_gpuned_67B4_rgb.png'], 'thumbnail_images': ['https://d3gm2hf49xd6jj.cloudfront.net/c8fa038a-0771-4d39-a7ca-61dd636b501f/S1A_IW_20200404T123843_DVP_RTC30_G_gpuned_67B4_thumb.png', 'https://d3gm2hf49xd6jj.cloudfront.net/c8fa038a-0771-4d39-a7ca-61dd636b501f/S1A_IW_20200404T123843_DVP_RTC30_G_gpuned_67B4_rgb_thumb.png'], 'expiration_time': '2024-05-09T00:00:00+00:00', 'processing_times': [1160.791], 'credit_cost': 5}), Job.from_dict({'job_id': '85ae4d23-64a3-443a-9cc5-3eacd18213f0', 'job_type': 'RTC_GAMMA', 'request_time': '2024-04-24T22:52:00+00:00', 'status_code': 'SUCCEEDED', 'user_id': 'jknicely_alaska.edu', 'name': 'Nepal', 'job_parameters': {'dem_matching': False, 'dem_name': 'copernicus', 'granules': ['S1A_IW_SLC__1SDV_20200919T123852_20200919T123919_034428_040137_5F23'], 'include_dem': True, 'include_inc_map': False, 'include_rgb': False, 'include_scattering_area': False, 'radiometry': 'gamma0', 'resolution': 30, 'scale': 'power', 'speckle_filter': False}, 'files': [{'filename': 'S1A_IW_20200919T123852_DVP_RTC30_G_gpuned_BDA4.zip', 's3': {'bucket': 'hyp3-edc-prod-contentbucket-1fv14ed36ifj6', 'key': '85ae4d23-64a3-443a-9cc5-3eacd18213f0/S1A_IW_20200919T123852_DVP_RTC30_G_gpuned_BDA4.zip'}, 'size': 543602341, 'url': 'https://d3gm2hf49xd6jj.cloudfront.net/85ae4d23-64a3-443a-9cc5-3eacd18213f0/S1A_IW_20200919T123852_DVP_RTC30_G_gpuned_BDA4.zip'}], 'logs': [], 'browse_images': ['https://d3gm2hf49xd6jj.cloudfront.net/85ae4d23-64a3-443a-9cc5-3eacd18213f0/S1A_IW_20200919T123852_DVP_RTC30_G_gpuned_BDA4.png', 'https://d3gm2hf49xd6jj.cloudfront.net/85ae4d23-64a3-443a-9cc5-3eacd18213f0/S1A_IW_20200919T123852_DVP_RTC30_G_gpuned_BDA4_rgb.png'], 'thumbnail_images': ['https://d3gm2hf49xd6jj.cloudfront.net/85ae4d23-64a3-443a-9cc5-3eacd18213f0/S1A_IW_20200919T123852_DVP_RTC30_G_gpuned_BDA4_thumb.png', 'https://d3gm2hf49xd6jj.cloudfront.net/85ae4d23-64a3-443a-9cc5-3eacd18213f0/S1A_IW_20200919T123852_DVP_RTC30_G_gpuned_BDA4_rgb_thumb.png'], 'expiration_time': '2024-05-09T00:00:00+00:00', 'processing_times': [1195.605], 'credit_cost': 5}), Job.from_dict({'job_id': '028f22ef-3010-4069-9386-3b0c34b0ff59', 'job_type': 'RTC_GAMMA', 'request_time': '2024-04-24T22:52:00+00:00', 'status_code': 'SUCCEEDED', 'user_id': 'jknicely_alaska.edu', 'name': 'Nepal', 'job_parameters': {'dem_matching': False, 'dem_name': 'copernicus', 'granules': ['S1A_IW_SLC__1SDV_20200907T123851_20200907T123918_034253_03FB02_C8AF'], 'include_dem': True, 'include_inc_map': False, 'include_rgb': False, 'include_scattering_area': False, 'radiometry': 'gamma0', 'resolution': 30, 'scale': 'power', 'speckle_filter': False}, 'files': [{'filename': 'S1A_IW_20200907T123851_DVP_RTC30_G_gpuned_24C0.zip', 's3': {'bucket': 'hyp3-edc-prod-contentbucket-1fv14ed36ifj6', 'key': '028f22ef-3010-4069-9386-3b0c34b0ff59/S1A_IW_20200907T123851_DVP_RTC30_G_gpuned_24C0.zip'}, 'size': 543453588, 'url': 'https://d3gm2hf49xd6jj.cloudfront.net/028f22ef-3010-4069-9386-3b0c34b0ff59/S1A_IW_20200907T123851_DVP_RTC30_G_gpuned_24C0.zip'}], 'logs': [], 'browse_images': ['https://d3gm2hf49xd6jj.cloudfront.net/028f22ef-3010-4069-9386-3b0c34b0ff59/S1A_IW_20200907T123851_DVP_RTC30_G_gpuned_24C0.png', 'https://d3gm2hf49xd6jj.cloudfront.net/028f22ef-3010-4069-9386-3b0c34b0ff59/S1A_IW_20200907T123851_DVP_RTC30_G_gpuned_24C0_rgb.png'], 'thumbnail_images': ['https://d3gm2hf49xd6jj.cloudfront.net/028f22ef-3010-4069-9386-3b0c34b0ff59/S1A_IW_20200907T123851_DVP_RTC30_G_gpuned_24C0_thumb.png', 'https://d3gm2hf49xd6jj.cloudfront.net/028f22ef-3010-4069-9386-3b0c34b0ff59/S1A_IW_20200907T123851_DVP_RTC30_G_gpuned_24C0_rgb_thumb.png'], 'expiration_time': '2024-05-09T00:00:00+00:00', 'processing_times': [1209.9], 'credit_cost': 5}), Job.from_dict({'job_id': '0f498854-08ef-4315-bfbb-f7dba41e3e51', 'job_type': 'RTC_GAMMA', 'request_time': '2024-04-24T22:52:00+00:00', 'status_code': 'SUCCEEDED', 'user_id': 'jknicely_alaska.edu', 'name': 'Nepal', 'job_parameters': {'dem_matching': False, 'dem_name': 'copernicus', 'granules': ['S1A_IW_SLC__1SDV_20200814T123850_20200814T123917_033903_03EEA9_F7A5'], 'include_dem': True, 'include_inc_map': False, 'include_rgb': False, 'include_scattering_area': False, 'radiometry': 'gamma0', 'resolution': 30, 'scale': 'power', 'speckle_filter': False}, 'files': [{'filename': 'S1A_IW_20200814T123850_DVP_RTC30_G_gpuned_72EE.zip', 's3': {'bucket': 'hyp3-edc-prod-contentbucket-1fv14ed36ifj6', 'key': '0f498854-08ef-4315-bfbb-f7dba41e3e51/S1A_IW_20200814T123850_DVP_RTC30_G_gpuned_72EE.zip'}, 'size': 542550952, 'url': 'https://d3gm2hf49xd6jj.cloudfront.net/0f498854-08ef-4315-bfbb-f7dba41e3e51/S1A_IW_20200814T123850_DVP_RTC30_G_gpuned_72EE.zip'}], 'logs': [], 'browse_images': ['https://d3gm2hf49xd6jj.cloudfront.net/0f498854-08ef-4315-bfbb-f7dba41e3e51/S1A_IW_20200814T123850_DVP_RTC30_G_gpuned_72EE.png', 'https://d3gm2hf49xd6jj.cloudfront.net/0f498854-08ef-4315-bfbb-f7dba41e3e51/S1A_IW_20200814T123850_DVP_RTC30_G_gpuned_72EE_rgb.png'], 'thumbnail_images': ['https://d3gm2hf49xd6jj.cloudfront.net/0f498854-08ef-4315-bfbb-f7dba41e3e51/S1A_IW_20200814T123850_DVP_RTC30_G_gpuned_72EE_thumb.png', 'https://d3gm2hf49xd6jj.cloudfront.net/0f498854-08ef-4315-bfbb-f7dba41e3e51/S1A_IW_20200814T123850_DVP_RTC30_G_gpuned_72EE_rgb_thumb.png'], 'expiration_time': '2024-05-09T00:00:00+00:00', 'processing_times': [1075.111], 'credit_cost': 5}), Job.from_dict({'job_id': '4a5932c5-f466-48ec-9b4b-4193b61e96c8', 'job_type': 'RTC_GAMMA', 'request_time': '2024-04-24T22:52:00+00:00', 'status_code': 'SUCCEEDED', 'user_id': 'jknicely_alaska.edu', 'name': 'Nepal', 'job_parameters': {'dem_matching': False, 'dem_name': 'copernicus', 'granules': ['S1A_IW_SLC__1SDV_20200627T123847_20200627T123914_033203_03D8B5_B56D'], 'include_dem': True, 'include_inc_map': False, 'include_rgb': False, 'include_scattering_area': False, 'radiometry': 'gamma0', 'resolution': 30, 'scale': 'power', 'speckle_filter': False}, 'files': [{'filename': 'S1A_IW_20200627T123847_DVP_RTC30_G_gpuned_DC09.zip', 's3': {'bucket': 'hyp3-edc-prod-contentbucket-1fv14ed36ifj6', 'key': '4a5932c5-f466-48ec-9b4b-4193b61e96c8/S1A_IW_20200627T123847_DVP_RTC30_G_gpuned_DC09.zip'}, 'size': 544685496, 'url': 'https://d3gm2hf49xd6jj.cloudfront.net/4a5932c5-f466-48ec-9b4b-4193b61e96c8/S1A_IW_20200627T123847_DVP_RTC30_G_gpuned_DC09.zip'}], 'logs': [], 'browse_images': ['https://d3gm2hf49xd6jj.cloudfront.net/4a5932c5-f466-48ec-9b4b-4193b61e96c8/S1A_IW_20200627T123847_DVP_RTC30_G_gpuned_DC09.png', 'https://d3gm2hf49xd6jj.cloudfront.net/4a5932c5-f466-48ec-9b4b-4193b61e96c8/S1A_IW_20200627T123847_DVP_RTC30_G_gpuned_DC09_rgb.png'], 'thumbnail_images': ['https://d3gm2hf49xd6jj.cloudfront.net/4a5932c5-f466-48ec-9b4b-4193b61e96c8/S1A_IW_20200627T123847_DVP_RTC30_G_gpuned_DC09_thumb.png', 'https://d3gm2hf49xd6jj.cloudfront.net/4a5932c5-f466-48ec-9b4b-4193b61e96c8/S1A_IW_20200627T123847_DVP_RTC30_G_gpuned_DC09_rgb_thumb.png'], 'expiration_time': '2024-05-09T00:00:00+00:00', 'processing_times': [1176.146], 'credit_cost': 5}), Job.from_dict({'job_id': 'a5d0ea05-a7cc-43db-89b7-a2e1bf87309f', 'job_type': 'RTC_GAMMA', 'request_time': '2024-04-24T22:52:00+00:00', 'status_code': 'SUCCEEDED', 'user_id': 'jknicely_alaska.edu', 'name': 'Nepal', 'job_parameters': {'dem_matching': False, 'dem_name': 'copernicus', 'granules': ['S1A_IW_SLC__1SDV_20200522T123845_20200522T123912_032678_03C8F2_BB18'], 'include_dem': True, 'include_inc_map': False, 'include_rgb': False, 'include_scattering_area': False, 'radiometry': 'gamma0', 'resolution': 30, 'scale': 'power', 'speckle_filter': False}, 'files': [{'filename': 'S1A_IW_20200522T123845_DVP_RTC30_G_gpuned_4C1D.zip', 's3': {'bucket': 'hyp3-edc-prod-contentbucket-1fv14ed36ifj6', 'key': 'a5d0ea05-a7cc-43db-89b7-a2e1bf87309f/S1A_IW_20200522T123845_DVP_RTC30_G_gpuned_4C1D.zip'}, 'size': 546950917, 'url': 'https://d3gm2hf49xd6jj.cloudfront.net/a5d0ea05-a7cc-43db-89b7-a2e1bf87309f/S1A_IW_20200522T123845_DVP_RTC30_G_gpuned_4C1D.zip'}], 'logs': [], 'browse_images': ['https://d3gm2hf49xd6jj.cloudfront.net/a5d0ea05-a7cc-43db-89b7-a2e1bf87309f/S1A_IW_20200522T123845_DVP_RTC30_G_gpuned_4C1D.png', 'https://d3gm2hf49xd6jj.cloudfront.net/a5d0ea05-a7cc-43db-89b7-a2e1bf87309f/S1A_IW_20200522T123845_DVP_RTC30_G_gpuned_4C1D_rgb.png'], 'thumbnail_images': ['https://d3gm2hf49xd6jj.cloudfront.net/a5d0ea05-a7cc-43db-89b7-a2e1bf87309f/S1A_IW_20200522T123845_DVP_RTC30_G_gpuned_4C1D_thumb.png', 'https://d3gm2hf49xd6jj.cloudfront.net/a5d0ea05-a7cc-43db-89b7-a2e1bf87309f/S1A_IW_20200522T123845_DVP_RTC30_G_gpuned_4C1D_rgb_thumb.png'], 'expiration_time': '2024-05-09T00:00:00+00:00', 'processing_times': [1185.107], 'credit_cost': 5}), Job.from_dict({'job_id': '8f4488a3-befd-46f6-9ce2-9e90720dd2fa', 'job_type': 'RTC_GAMMA', 'request_time': '2024-04-24T22:52:00+00:00', 'status_code': 'SUCCEEDED', 'user_id': 'jknicely_alaska.edu', 'name': 'Nepal', 'job_parameters': {'dem_matching': False, 'dem_name': 'copernicus', 'granules': ['S1A_IW_SLC__1SDV_20200721T123849_20200721T123916_033553_03E361_34A5'], 'include_dem': True, 'include_inc_map': False, 'include_rgb': False, 'include_scattering_area': False, 'radiometry': 'gamma0', 'resolution': 30, 'scale': 'power', 'speckle_filter': False}, 'files': [{'filename': 'S1A_IW_20200721T123849_DVP_RTC30_G_gpuned_66AF.zip', 's3': {'bucket': 'hyp3-edc-prod-contentbucket-1fv14ed36ifj6', 'key': '8f4488a3-befd-46f6-9ce2-9e90720dd2fa/S1A_IW_20200721T123849_DVP_RTC30_G_gpuned_66AF.zip'}, 'size': 543510974, 'url': 'https://d3gm2hf49xd6jj.cloudfront.net/8f4488a3-befd-46f6-9ce2-9e90720dd2fa/S1A_IW_20200721T123849_DVP_RTC30_G_gpuned_66AF.zip'}], 'logs': [], 'browse_images': ['https://d3gm2hf49xd6jj.cloudfront.net/8f4488a3-befd-46f6-9ce2-9e90720dd2fa/S1A_IW_20200721T123849_DVP_RTC30_G_gpuned_66AF.png', 'https://d3gm2hf49xd6jj.cloudfront.net/8f4488a3-befd-46f6-9ce2-9e90720dd2fa/S1A_IW_20200721T123849_DVP_RTC30_G_gpuned_66AF_rgb.png'], 'thumbnail_images': ['https://d3gm2hf49xd6jj.cloudfront.net/8f4488a3-befd-46f6-9ce2-9e90720dd2fa/S1A_IW_20200721T123849_DVP_RTC30_G_gpuned_66AF_thumb.png', 'https://d3gm2hf49xd6jj.cloudfront.net/8f4488a3-befd-46f6-9ce2-9e90720dd2fa/S1A_IW_20200721T123849_DVP_RTC30_G_gpuned_66AF_rgb_thumb.png'], 'expiration_time': '2024-05-09T00:00:00+00:00', 'processing_times': [1181.231], 'credit_cost': 5}), Job.from_dict({'job_id': '7e73b66e-9612-4a92-9594-31d93582b5dd', 'job_type': 'RTC_GAMMA', 'request_time': '2024-04-24T22:52:00+00:00', 'status_code': 'SUCCEEDED', 'user_id': 'jknicely_alaska.edu', 'name': 'Nepal', 'job_parameters': {'dem_matching': False, 'dem_name': 'copernicus', 'granules': ['S1A_IW_SLC__1SDV_20200510T123844_20200510T123911_032503_03C3A5_4A9F'], 'include_dem': True, 'include_inc_map': False, 'include_rgb': False, 'include_scattering_area': False, 'radiometry': 'gamma0', 'resolution': 30, 'scale': 'power', 'speckle_filter': False}, 'files': [{'filename': 'S1A_IW_20200510T123844_DVP_RTC30_G_gpuned_05F8.zip', 's3': {'bucket': 'hyp3-edc-prod-contentbucket-1fv14ed36ifj6', 'key': '7e73b66e-9612-4a92-9594-31d93582b5dd/S1A_IW_20200510T123844_DVP_RTC30_G_gpuned_05F8.zip'}, 'size': 541950522, 'url': 'https://d3gm2hf49xd6jj.cloudfront.net/7e73b66e-9612-4a92-9594-31d93582b5dd/S1A_IW_20200510T123844_DVP_RTC30_G_gpuned_05F8.zip'}], 'logs': [], 'browse_images': ['https://d3gm2hf49xd6jj.cloudfront.net/7e73b66e-9612-4a92-9594-31d93582b5dd/S1A_IW_20200510T123844_DVP_RTC30_G_gpuned_05F8.png', 'https://d3gm2hf49xd6jj.cloudfront.net/7e73b66e-9612-4a92-9594-31d93582b5dd/S1A_IW_20200510T123844_DVP_RTC30_G_gpuned_05F8_rgb.png'], 'thumbnail_images': ['https://d3gm2hf49xd6jj.cloudfront.net/7e73b66e-9612-4a92-9594-31d93582b5dd/S1A_IW_20200510T123844_DVP_RTC30_G_gpuned_05F8_thumb.png', 'https://d3gm2hf49xd6jj.cloudfront.net/7e73b66e-9612-4a92-9594-31d93582b5dd/S1A_IW_20200510T123844_DVP_RTC30_G_gpuned_05F8_rgb_thumb.png'], 'expiration_time': '2024-05-09T00:00:00+00:00', 'processing_times': [1163.188], 'credit_cost': 5}), Job.from_dict({'job_id': '58a3de24-aae4-422d-bda5-07f22ba2f9df', 'job_type': 'RTC_GAMMA', 'request_time': '2024-04-24T22:52:00+00:00', 'status_code': 'SUCCEEDED', 'user_id': 'jknicely_alaska.edu', 'name': 'Nepal', 'job_parameters': {'dem_matching': False, 'dem_name': 'copernicus', 'granules': ['S1A_IW_SLC__1SDV_20201001T123852_20201001T123919_034603_040758_E7FC'], 'include_dem': True, 'include_inc_map': False, 'include_rgb': False, 'include_scattering_area': False, 'radiometry': 'gamma0', 'resolution': 30, 'scale': 'power', 'speckle_filter': False}, 'files': [{'filename': 'S1A_IW_20201001T123852_DVP_RTC30_G_gpuned_A760.zip', 's3': {'bucket': 'hyp3-edc-prod-contentbucket-1fv14ed36ifj6', 'key': '58a3de24-aae4-422d-bda5-07f22ba2f9df/S1A_IW_20201001T123852_DVP_RTC30_G_gpuned_A760.zip'}, 'size': 544608471, 'url': 'https://d3gm2hf49xd6jj.cloudfront.net/58a3de24-aae4-422d-bda5-07f22ba2f9df/S1A_IW_20201001T123852_DVP_RTC30_G_gpuned_A760.zip'}], 'logs': [], 'browse_images': ['https://d3gm2hf49xd6jj.cloudfront.net/58a3de24-aae4-422d-bda5-07f22ba2f9df/S1A_IW_20201001T123852_DVP_RTC30_G_gpuned_A760.png', 'https://d3gm2hf49xd6jj.cloudfront.net/58a3de24-aae4-422d-bda5-07f22ba2f9df/S1A_IW_20201001T123852_DVP_RTC30_G_gpuned_A760_rgb.png'], 'thumbnail_images': ['https://d3gm2hf49xd6jj.cloudfront.net/58a3de24-aae4-422d-bda5-07f22ba2f9df/S1A_IW_20201001T123852_DVP_RTC30_G_gpuned_A760_thumb.png', 'https://d3gm2hf49xd6jj.cloudfront.net/58a3de24-aae4-422d-bda5-07f22ba2f9df/S1A_IW_20201001T123852_DVP_RTC30_G_gpuned_A760_rgb_thumb.png'], 'expiration_time': '2024-05-09T00:00:00+00:00', 'processing_times': [1180.805], 'credit_cost': 5}), Job.from_dict({'job_id': '85087ebe-d586-4561-820e-b88a8da28bf8', 'job_type': 'RTC_GAMMA', 'request_time': '2024-04-24T22:52:00+00:00', 'status_code': 'SUCCEEDED', 'user_id': 'jknicely_alaska.edu', 'name': 'Nepal', 'job_parameters': {'dem_matching': False, 'dem_name': 'copernicus', 'granules': ['S1A_IW_SLC__1SDV_20200603T123846_20200603T123913_032853_03CE2A_8B97'], 'include_dem': True, 'include_inc_map': False, 'include_rgb': False, 'include_scattering_area': False, 'radiometry': 'gamma0', 'resolution': 30, 'scale': 'power', 'speckle_filter': False}, 'files': [{'filename': 'S1A_IW_20200603T123846_DVP_RTC30_G_gpuned_20C9.zip', 's3': {'bucket': 'hyp3-edc-prod-contentbucket-1fv14ed36ifj6', 'key': '85087ebe-d586-4561-820e-b88a8da28bf8/S1A_IW_20200603T123846_DVP_RTC30_G_gpuned_20C9.zip'}, 'size': 545918177, 'url': 'https://d3gm2hf49xd6jj.cloudfront.net/85087ebe-d586-4561-820e-b88a8da28bf8/S1A_IW_20200603T123846_DVP_RTC30_G_gpuned_20C9.zip'}], 'logs': [], 'browse_images': ['https://d3gm2hf49xd6jj.cloudfront.net/85087ebe-d586-4561-820e-b88a8da28bf8/S1A_IW_20200603T123846_DVP_RTC30_G_gpuned_20C9.png', 'https://d3gm2hf49xd6jj.cloudfront.net/85087ebe-d586-4561-820e-b88a8da28bf8/S1A_IW_20200603T123846_DVP_RTC30_G_gpuned_20C9_rgb.png'], 'thumbnail_images': ['https://d3gm2hf49xd6jj.cloudfront.net/85087ebe-d586-4561-820e-b88a8da28bf8/S1A_IW_20200603T123846_DVP_RTC30_G_gpuned_20C9_thumb.png', 'https://d3gm2hf49xd6jj.cloudfront.net/85087ebe-d586-4561-820e-b88a8da28bf8/S1A_IW_20200603T123846_DVP_RTC30_G_gpuned_20C9_rgb_thumb.png'], 'expiration_time': '2024-05-09T00:00:00+00:00', 'processing_times': [1065.775], 'credit_cost': 5}), Job.from_dict({'job_id': 'efa72656-17e3-42a6-943f-8183bc666a24', 'job_type': 'RTC_GAMMA', 'request_time': '2024-04-24T22:52:00+00:00', 'status_code': 'SUCCEEDED', 'user_id': 'jknicely_alaska.edu', 'name': 'Nepal', 'job_parameters': {'dem_matching': False, 'dem_name': 'copernicus', 'granules': ['S1A_IW_SLC__1SDV_20201212T123851_20201212T123918_035653_042BB4_3ABE'], 'include_dem': True, 'include_inc_map': False, 'include_rgb': False, 'include_scattering_area': False, 'radiometry': 'gamma0', 'resolution': 30, 'scale': 'power', 'speckle_filter': False}, 'files': [{'filename': 'S1A_IW_20201212T123851_DVP_RTC30_G_gpuned_40B7.zip', 's3': {'bucket': 'hyp3-edc-prod-contentbucket-1fv14ed36ifj6', 'key': 'efa72656-17e3-42a6-943f-8183bc666a24/S1A_IW_20201212T123851_DVP_RTC30_G_gpuned_40B7.zip'}, 'size': 547356554, 'url': 'https://d3gm2hf49xd6jj.cloudfront.net/efa72656-17e3-42a6-943f-8183bc666a24/S1A_IW_20201212T123851_DVP_RTC30_G_gpuned_40B7.zip'}], 'logs': [], 'browse_images': ['https://d3gm2hf49xd6jj.cloudfront.net/efa72656-17e3-42a6-943f-8183bc666a24/S1A_IW_20201212T123851_DVP_RTC30_G_gpuned_40B7.png', 'https://d3gm2hf49xd6jj.cloudfront.net/efa72656-17e3-42a6-943f-8183bc666a24/S1A_IW_20201212T123851_DVP_RTC30_G_gpuned_40B7_rgb.png'], 'thumbnail_images': ['https://d3gm2hf49xd6jj.cloudfront.net/efa72656-17e3-42a6-943f-8183bc666a24/S1A_IW_20201212T123851_DVP_RTC30_G_gpuned_40B7_thumb.png', 'https://d3gm2hf49xd6jj.cloudfront.net/efa72656-17e3-42a6-943f-8183bc666a24/S1A_IW_20201212T123851_DVP_RTC30_G_gpuned_40B7_rgb_thumb.png'], 'expiration_time': '2024-05-09T00:00:00+00:00', 'processing_times': [1198.25], 'credit_cost': 5}), Job.from_dict({'job_id': '06a50834-ab96-41f3-a773-ca72897586be', 'job_type': 'RTC_GAMMA', 'request_time': '2024-04-24T22:52:00+00:00', 'status_code': 'SUCCEEDED', 'user_id': 'jknicely_alaska.edu', 'name': 'Nepal', 'job_parameters': {'dem_matching': False, 'dem_name': 'copernicus', 'granules': ['S1A_IW_SLC__1SDV_20201106T123852_20201106T123919_035128_041988_0824'], 'include_dem': True, 'include_inc_map': False, 'include_rgb': False, 'include_scattering_area': False, 'radiometry': 'gamma0', 'resolution': 30, 'scale': 'power', 'speckle_filter': False}, 'files': [{'filename': 'S1A_IW_20201106T123852_DVP_RTC30_G_gpuned_D96D.zip', 's3': {'bucket': 'hyp3-edc-prod-contentbucket-1fv14ed36ifj6', 'key': '06a50834-ab96-41f3-a773-ca72897586be/S1A_IW_20201106T123852_DVP_RTC30_G_gpuned_D96D.zip'}, 'size': 546821809, 'url': 'https://d3gm2hf49xd6jj.cloudfront.net/06a50834-ab96-41f3-a773-ca72897586be/S1A_IW_20201106T123852_DVP_RTC30_G_gpuned_D96D.zip'}], 'logs': [], 'browse_images': ['https://d3gm2hf49xd6jj.cloudfront.net/06a50834-ab96-41f3-a773-ca72897586be/S1A_IW_20201106T123852_DVP_RTC30_G_gpuned_D96D.png', 'https://d3gm2hf49xd6jj.cloudfront.net/06a50834-ab96-41f3-a773-ca72897586be/S1A_IW_20201106T123852_DVP_RTC30_G_gpuned_D96D_rgb.png'], 'thumbnail_images': ['https://d3gm2hf49xd6jj.cloudfront.net/06a50834-ab96-41f3-a773-ca72897586be/S1A_IW_20201106T123852_DVP_RTC30_G_gpuned_D96D_thumb.png', 'https://d3gm2hf49xd6jj.cloudfront.net/06a50834-ab96-41f3-a773-ca72897586be/S1A_IW_20201106T123852_DVP_RTC30_G_gpuned_D96D_rgb_thumb.png'], 'expiration_time': '2024-05-09T00:00:00+00:00', 'processing_times': [1189.712], 'credit_cost': 5}), Job.from_dict({'job_id': '6a2b5972-9be1-4c1a-88a3-95b17239b75e', 'job_type': 'RTC_GAMMA', 'request_time': '2024-04-24T22:52:00+00:00', 'status_code': 'SUCCEEDED', 'user_id': 'jknicely_alaska.edu', 'name': 'Nepal', 'job_parameters': {'dem_matching': False, 'dem_name': 'copernicus', 'granules': ['S1A_IW_SLC__1SDV_20200428T123844_20200428T123911_032328_03BDC6_42DD'], 'include_dem': True, 'include_inc_map': False, 'include_rgb': False, 'include_scattering_area': False, 'radiometry': 'gamma0', 'resolution': 30, 'scale': 'power', 'speckle_filter': False}, 'files': [{'filename': 'S1A_IW_20200428T123844_DVP_RTC30_G_gpuned_6C23.zip', 's3': {'bucket': 'hyp3-edc-prod-contentbucket-1fv14ed36ifj6', 'key': '6a2b5972-9be1-4c1a-88a3-95b17239b75e/S1A_IW_20200428T123844_DVP_RTC30_G_gpuned_6C23.zip'}, 'size': 546742750, 'url': 'https://d3gm2hf49xd6jj.cloudfront.net/6a2b5972-9be1-4c1a-88a3-95b17239b75e/S1A_IW_20200428T123844_DVP_RTC30_G_gpuned_6C23.zip'}], 'logs': [], 'browse_images': ['https://d3gm2hf49xd6jj.cloudfront.net/6a2b5972-9be1-4c1a-88a3-95b17239b75e/S1A_IW_20200428T123844_DVP_RTC30_G_gpuned_6C23.png', 'https://d3gm2hf49xd6jj.cloudfront.net/6a2b5972-9be1-4c1a-88a3-95b17239b75e/S1A_IW_20200428T123844_DVP_RTC30_G_gpuned_6C23_rgb.png'], 'thumbnail_images': ['https://d3gm2hf49xd6jj.cloudfront.net/6a2b5972-9be1-4c1a-88a3-95b17239b75e/S1A_IW_20200428T123844_DVP_RTC30_G_gpuned_6C23_thumb.png', 'https://d3gm2hf49xd6jj.cloudfront.net/6a2b5972-9be1-4c1a-88a3-95b17239b75e/S1A_IW_20200428T123844_DVP_RTC30_G_gpuned_6C23_rgb_thumb.png'], 'expiration_time': '2024-05-09T00:00:00+00:00', 'processing_times': [1160.825], 'credit_cost': 5}), Job.from_dict({'job_id': '19780820-afe7-49d3-a34c-86387124b808', 'job_type': 'RTC_GAMMA', 'request_time': '2024-04-24T22:52:00+00:00', 'status_code': 'SUCCEEDED', 'user_id': 'jknicely_alaska.edu', 'name': 'Nepal', 'job_parameters': {'dem_matching': False, 'dem_name': 'copernicus', 'granules': ['S1A_IW_SLC__1SDV_20201130T123851_20201130T123918_035478_0425B2_FE55'], 'include_dem': True, 'include_inc_map': False, 'include_rgb': False, 'include_scattering_area': False, 'radiometry': 'gamma0', 'resolution': 30, 'scale': 'power', 'speckle_filter': False}, 'files': [{'filename': 'S1A_IW_20201130T123851_DVP_RTC30_G_gpuned_F507.zip', 's3': {'bucket': 'hyp3-edc-prod-contentbucket-1fv14ed36ifj6', 'key': '19780820-afe7-49d3-a34c-86387124b808/S1A_IW_20201130T123851_DVP_RTC30_G_gpuned_F507.zip'}, 'size': 547615492, 'url': 'https://d3gm2hf49xd6jj.cloudfront.net/19780820-afe7-49d3-a34c-86387124b808/S1A_IW_20201130T123851_DVP_RTC30_G_gpuned_F507.zip'}], 'logs': [], 'browse_images': ['https://d3gm2hf49xd6jj.cloudfront.net/19780820-afe7-49d3-a34c-86387124b808/S1A_IW_20201130T123851_DVP_RTC30_G_gpuned_F507.png', 'https://d3gm2hf49xd6jj.cloudfront.net/19780820-afe7-49d3-a34c-86387124b808/S1A_IW_20201130T123851_DVP_RTC30_G_gpuned_F507_rgb.png'], 'thumbnail_images': ['https://d3gm2hf49xd6jj.cloudfront.net/19780820-afe7-49d3-a34c-86387124b808/S1A_IW_20201130T123851_DVP_RTC30_G_gpuned_F507_thumb.png', 'https://d3gm2hf49xd6jj.cloudfront.net/19780820-afe7-49d3-a34c-86387124b808/S1A_IW_20201130T123851_DVP_RTC30_G_gpuned_F507_rgb_thumb.png'], 'expiration_time': '2024-05-09T00:00:00+00:00', 'processing_times': [1207.756], 'credit_cost': 5}), Job.from_dict({'job_id': '76fe1b50-f584-4e60-889c-6f9f7ab35426', 'job_type': 'RTC_GAMMA', 'request_time': '2024-04-24T22:52:00+00:00', 'status_code': 'SUCCEEDED', 'user_id': 'jknicely_alaska.edu', 'name': 'Nepal', 'job_parameters': {'dem_matching': False, 'dem_name': 'copernicus', 'granules': ['S1A_IW_SLC__1SDV_20200709T123848_20200709T123915_033378_03DE04_207E'], 'include_dem': True, 'include_inc_map': False, 'include_rgb': False, 'include_scattering_area': False, 'radiometry': 'gamma0', 'resolution': 30, 'scale': 'power', 'speckle_filter': False}, 'files': [{'filename': 'S1A_IW_20200709T123848_DVP_RTC30_G_gpuned_B9A7.zip', 's3': {'bucket': 'hyp3-edc-prod-contentbucket-1fv14ed36ifj6', 'key': '76fe1b50-f584-4e60-889c-6f9f7ab35426/S1A_IW_20200709T123848_DVP_RTC30_G_gpuned_B9A7.zip'}, 'size': 544998745, 'url': 'https://d3gm2hf49xd6jj.cloudfront.net/76fe1b50-f584-4e60-889c-6f9f7ab35426/S1A_IW_20200709T123848_DVP_RTC30_G_gpuned_B9A7.zip'}], 'logs': [], 'browse_images': ['https://d3gm2hf49xd6jj.cloudfront.net/76fe1b50-f584-4e60-889c-6f9f7ab35426/S1A_IW_20200709T123848_DVP_RTC30_G_gpuned_B9A7.png', 'https://d3gm2hf49xd6jj.cloudfront.net/76fe1b50-f584-4e60-889c-6f9f7ab35426/S1A_IW_20200709T123848_DVP_RTC30_G_gpuned_B9A7_rgb.png'], 'thumbnail_images': ['https://d3gm2hf49xd6jj.cloudfront.net/76fe1b50-f584-4e60-889c-6f9f7ab35426/S1A_IW_20200709T123848_DVP_RTC30_G_gpuned_B9A7_thumb.png', 'https://d3gm2hf49xd6jj.cloudfront.net/76fe1b50-f584-4e60-889c-6f9f7ab35426/S1A_IW_20200709T123848_DVP_RTC30_G_gpuned_B9A7_rgb_thumb.png'], 'expiration_time': '2024-05-09T00:00:00+00:00', 'processing_times': [1195.473], 'credit_cost': 5}), Job.from_dict({'job_id': '94f0d71a-5483-476f-9b31-59117ae0598a', 'job_type': 'RTC_GAMMA', 'request_time': '2024-04-24T22:52:00+00:00', 'status_code': 'SUCCEEDED', 'user_id': 'jknicely_alaska.edu', 'name': 'Nepal', 'job_parameters': {'dem_matching': False, 'dem_name': 'copernicus', 'granules': ['S1A_IW_SLC__1SDV_20200826T123851_20200826T123918_034078_03F4DA_A800'], 'include_dem': True, 'include_inc_map': False, 'include_rgb': False, 'include_scattering_area': False, 'radiometry': 'gamma0', 'resolution': 30, 'scale': 'power', 'speckle_filter': False}, 'files': [{'filename': 'S1A_IW_20200826T123851_DVP_RTC30_G_gpuned_CB1F.zip', 's3': {'bucket': 'hyp3-edc-prod-contentbucket-1fv14ed36ifj6', 'key': '94f0d71a-5483-476f-9b31-59117ae0598a/S1A_IW_20200826T123851_DVP_RTC30_G_gpuned_CB1F.zip'}, 'size': 542783453, 'url': 'https://d3gm2hf49xd6jj.cloudfront.net/94f0d71a-5483-476f-9b31-59117ae0598a/S1A_IW_20200826T123851_DVP_RTC30_G_gpuned_CB1F.zip'}], 'logs': [], 'browse_images': ['https://d3gm2hf49xd6jj.cloudfront.net/94f0d71a-5483-476f-9b31-59117ae0598a/S1A_IW_20200826T123851_DVP_RTC30_G_gpuned_CB1F.png', 'https://d3gm2hf49xd6jj.cloudfront.net/94f0d71a-5483-476f-9b31-59117ae0598a/S1A_IW_20200826T123851_DVP_RTC30_G_gpuned_CB1F_rgb.png'], 'thumbnail_images': ['https://d3gm2hf49xd6jj.cloudfront.net/94f0d71a-5483-476f-9b31-59117ae0598a/S1A_IW_20200826T123851_DVP_RTC30_G_gpuned_CB1F_thumb.png', 'https://d3gm2hf49xd6jj.cloudfront.net/94f0d71a-5483-476f-9b31-59117ae0598a/S1A_IW_20200826T123851_DVP_RTC30_G_gpuned_CB1F_rgb_thumb.png'], 'expiration_time': '2024-05-09T00:00:00+00:00', 'processing_times': [1185.421], 'credit_cost': 5}), Job.from_dict({'job_id': 'a55286a7-dd5f-41d8-af47-093c91bdaff3', 'job_type': 'RTC_GAMMA', 'request_time': '2024-04-24T22:52:00+00:00', 'status_code': 'SUCCEEDED', 'user_id': 'jknicely_alaska.edu', 'name': 'Nepal', 'job_parameters': {'dem_matching': False, 'dem_name': 'copernicus', 'granules': ['S1A_IW_SLC__1SDV_20201118T123852_20201118T123919_035303_041FAC_B467'], 'include_dem': True, 'include_inc_map': False, 'include_rgb': False, 'include_scattering_area': False, 'radiometry': 'gamma0', 'resolution': 30, 'scale': 'power', 'speckle_filter': False}, 'files': [{'filename': 'S1A_IW_20201118T123852_DVP_RTC30_G_gpuned_DAF0.zip', 's3': {'bucket': 'hyp3-edc-prod-contentbucket-1fv14ed36ifj6', 'key': 'a55286a7-dd5f-41d8-af47-093c91bdaff3/S1A_IW_20201118T123852_DVP_RTC30_G_gpuned_DAF0.zip'}, 'size': 547420570, 'url': 'https://d3gm2hf49xd6jj.cloudfront.net/a55286a7-dd5f-41d8-af47-093c91bdaff3/S1A_IW_20201118T123852_DVP_RTC30_G_gpuned_DAF0.zip'}], 'logs': [], 'browse_images': ['https://d3gm2hf49xd6jj.cloudfront.net/a55286a7-dd5f-41d8-af47-093c91bdaff3/S1A_IW_20201118T123852_DVP_RTC30_G_gpuned_DAF0.png', 'https://d3gm2hf49xd6jj.cloudfront.net/a55286a7-dd5f-41d8-af47-093c91bdaff3/S1A_IW_20201118T123852_DVP_RTC30_G_gpuned_DAF0_rgb.png'], 'thumbnail_images': ['https://d3gm2hf49xd6jj.cloudfront.net/a55286a7-dd5f-41d8-af47-093c91bdaff3/S1A_IW_20201118T123852_DVP_RTC30_G_gpuned_DAF0_thumb.png', 'https://d3gm2hf49xd6jj.cloudfront.net/a55286a7-dd5f-41d8-af47-093c91bdaff3/S1A_IW_20201118T123852_DVP_RTC30_G_gpuned_DAF0_rgb_thumb.png'], 'expiration_time': '2024-05-09T00:00:00+00:00', 'processing_times': [1194.635], 'credit_cost': 5}), Job.from_dict({'job_id': '44033007-2c92-4a2e-8b59-89ef16585d00', 'job_type': 'RTC_GAMMA', 'request_time': '2024-04-24T22:52:00+00:00', 'status_code': 'SUCCEEDED', 'user_id': 'jknicely_alaska.edu', 'name': 'Nepal', 'job_parameters': {'dem_matching': False, 'dem_name': 'copernicus', 'granules': ['S1A_IW_SLC__1SDV_20201025T123852_20201025T123919_034953_041388_86EB'], 'include_dem': True, 'include_inc_map': False, 'include_rgb': False, 'include_scattering_area': False, 'radiometry': 'gamma0', 'resolution': 30, 'scale': 'power', 'speckle_filter': False}, 'files': [{'filename': 'S1A_IW_20201025T123852_DVP_RTC30_G_gpuned_95C7.zip', 's3': {'bucket': 'hyp3-edc-prod-contentbucket-1fv14ed36ifj6', 'key': '44033007-2c92-4a2e-8b59-89ef16585d00/S1A_IW_20201025T123852_DVP_RTC30_G_gpuned_95C7.zip'}, 'size': 546576616, 'url': 'https://d3gm2hf49xd6jj.cloudfront.net/44033007-2c92-4a2e-8b59-89ef16585d00/S1A_IW_20201025T123852_DVP_RTC30_G_gpuned_95C7.zip'}], 'logs': [], 'browse_images': ['https://d3gm2hf49xd6jj.cloudfront.net/44033007-2c92-4a2e-8b59-89ef16585d00/S1A_IW_20201025T123852_DVP_RTC30_G_gpuned_95C7.png', 'https://d3gm2hf49xd6jj.cloudfront.net/44033007-2c92-4a2e-8b59-89ef16585d00/S1A_IW_20201025T123852_DVP_RTC30_G_gpuned_95C7_rgb.png'], 'thumbnail_images': ['https://d3gm2hf49xd6jj.cloudfront.net/44033007-2c92-4a2e-8b59-89ef16585d00/S1A_IW_20201025T123852_DVP_RTC30_G_gpuned_95C7_thumb.png', 'https://d3gm2hf49xd6jj.cloudfront.net/44033007-2c92-4a2e-8b59-89ef16585d00/S1A_IW_20201025T123852_DVP_RTC30_G_gpuned_95C7_rgb_thumb.png'], 'expiration_time': '2024-05-09T00:00:00+00:00', 'processing_times': [1205.912], 'credit_cost': 5}), Job.from_dict({'job_id': '2e403e17-1cfa-4ef9-86db-abb93fe8f886', 'job_type': 'RTC_GAMMA', 'request_time': '2024-04-24T22:52:00+00:00', 'status_code': 'SUCCEEDED', 'user_id': 'jknicely_alaska.edu', 'name': 'Nepal', 'job_parameters': {'dem_matching': False, 'dem_name': 'copernicus', 'granules': ['S1A_IW_SLC__1SDV_20200615T123846_20200615T123913_033028_03D363_0B8C'], 'include_dem': True, 'include_inc_map': False, 'include_rgb': False, 'include_scattering_area': False, 'radiometry': 'gamma0', 'resolution': 30, 'scale': 'power', 'speckle_filter': False}, 'files': [{'filename': 'S1A_IW_20200615T123846_DVP_RTC30_G_gpuned_ADCB.zip', 's3': {'bucket': 'hyp3-edc-prod-contentbucket-1fv14ed36ifj6', 'key': '2e403e17-1cfa-4ef9-86db-abb93fe8f886/S1A_IW_20200615T123846_DVP_RTC30_G_gpuned_ADCB.zip'}, 'size': 544759631, 'url': 'https://d3gm2hf49xd6jj.cloudfront.net/2e403e17-1cfa-4ef9-86db-abb93fe8f886/S1A_IW_20200615T123846_DVP_RTC30_G_gpuned_ADCB.zip'}], 'logs': [], 'browse_images': ['https://d3gm2hf49xd6jj.cloudfront.net/2e403e17-1cfa-4ef9-86db-abb93fe8f886/S1A_IW_20200615T123846_DVP_RTC30_G_gpuned_ADCB.png', 'https://d3gm2hf49xd6jj.cloudfront.net/2e403e17-1cfa-4ef9-86db-abb93fe8f886/S1A_IW_20200615T123846_DVP_RTC30_G_gpuned_ADCB_rgb.png'], 'thumbnail_images': ['https://d3gm2hf49xd6jj.cloudfront.net/2e403e17-1cfa-4ef9-86db-abb93fe8f886/S1A_IW_20200615T123846_DVP_RTC30_G_gpuned_ADCB_thumb.png', 'https://d3gm2hf49xd6jj.cloudfront.net/2e403e17-1cfa-4ef9-86db-abb93fe8f886/S1A_IW_20200615T123846_DVP_RTC30_G_gpuned_ADCB_rgb_thumb.png'], 'expiration_time': '2024-05-09T00:00:00+00:00', 'processing_times': [1182.982], 'credit_cost': 5}), Job.from_dict({'job_id': '9e6de095-e263-4a8c-bec3-fee1ab431da6', 'job_type': 'RTC_GAMMA', 'request_time': '2024-04-24T22:52:00+00:00', 'status_code': 'SUCCEEDED', 'user_id': 'jknicely_alaska.edu', 'name': 'Nepal', 'job_parameters': {'dem_matching': False, 'dem_name': 'copernicus', 'granules': ['S1A_IW_SLC__1SDV_20200802T123849_20200802T123916_033728_03E8C0_9A15'], 'include_dem': True, 'include_inc_map': False, 'include_rgb': False, 'include_scattering_area': False, 'radiometry': 'gamma0', 'resolution': 30, 'scale': 'power', 'speckle_filter': False}, 'files': [{'filename': 'S1A_IW_20200802T123849_DVP_RTC30_G_gpuned_330C.zip', 's3': {'bucket': 'hyp3-edc-prod-contentbucket-1fv14ed36ifj6', 'key': '9e6de095-e263-4a8c-bec3-fee1ab431da6/S1A_IW_20200802T123849_DVP_RTC30_G_gpuned_330C.zip'}, 'size': 542993868, 'url': 'https://d3gm2hf49xd6jj.cloudfront.net/9e6de095-e263-4a8c-bec3-fee1ab431da6/S1A_IW_20200802T123849_DVP_RTC30_G_gpuned_330C.zip'}], 'logs': [], 'browse_images': ['https://d3gm2hf49xd6jj.cloudfront.net/9e6de095-e263-4a8c-bec3-fee1ab431da6/S1A_IW_20200802T123849_DVP_RTC30_G_gpuned_330C.png', 'https://d3gm2hf49xd6jj.cloudfront.net/9e6de095-e263-4a8c-bec3-fee1ab431da6/S1A_IW_20200802T123849_DVP_RTC30_G_gpuned_330C_rgb.png'], 'thumbnail_images': ['https://d3gm2hf49xd6jj.cloudfront.net/9e6de095-e263-4a8c-bec3-fee1ab431da6/S1A_IW_20200802T123849_DVP_RTC30_G_gpuned_330C_thumb.png', 'https://d3gm2hf49xd6jj.cloudfront.net/9e6de095-e263-4a8c-bec3-fee1ab431da6/S1A_IW_20200802T123849_DVP_RTC30_G_gpuned_330C_rgb_thumb.png'], 'expiration_time': '2024-05-09T00:00:00+00:00', 'processing_times': [1167.399], 'credit_cost': 5}), Job.from_dict({'job_id': 'b94b1d0c-d598-4d8d-8cca-6b1bf784f942', 'job_type': 'RTC_GAMMA', 'request_time': '2024-04-24T22:52:00+00:00', 'status_code': 'SUCCEEDED', 'user_id': 'jknicely_alaska.edu', 'name': 'Nepal', 'job_parameters': {'dem_matching': False, 'dem_name': 'copernicus', 'granules': ['S1A_IW_SLC__1SDV_20201013T123852_20201013T123919_034778_040D76_8849'], 'include_dem': True, 'include_inc_map': False, 'include_rgb': False, 'include_scattering_area': False, 'radiometry': 'gamma0', 'resolution': 30, 'scale': 'power', 'speckle_filter': False}, 'files': [{'filename': 'S1A_IW_20201013T123852_DVP_RTC30_G_gpuned_6DAE.zip', 's3': {'bucket': 'hyp3-edc-prod-contentbucket-1fv14ed36ifj6', 'key': 'b94b1d0c-d598-4d8d-8cca-6b1bf784f942/S1A_IW_20201013T123852_DVP_RTC30_G_gpuned_6DAE.zip'}, 'size': 545625133, 'url': 'https://d3gm2hf49xd6jj.cloudfront.net/b94b1d0c-d598-4d8d-8cca-6b1bf784f942/S1A_IW_20201013T123852_DVP_RTC30_G_gpuned_6DAE.zip'}], 'logs': [], 'browse_images': ['https://d3gm2hf49xd6jj.cloudfront.net/b94b1d0c-d598-4d8d-8cca-6b1bf784f942/S1A_IW_20201013T123852_DVP_RTC30_G_gpuned_6DAE.png', 'https://d3gm2hf49xd6jj.cloudfront.net/b94b1d0c-d598-4d8d-8cca-6b1bf784f942/S1A_IW_20201013T123852_DVP_RTC30_G_gpuned_6DAE_rgb.png'], 'thumbnail_images': ['https://d3gm2hf49xd6jj.cloudfront.net/b94b1d0c-d598-4d8d-8cca-6b1bf784f942/S1A_IW_20201013T123852_DVP_RTC30_G_gpuned_6DAE_thumb.png', 'https://d3gm2hf49xd6jj.cloudfront.net/b94b1d0c-d598-4d8d-8cca-6b1bf784f942/S1A_IW_20201013T123852_DVP_RTC30_G_gpuned_6DAE_rgb_thumb.png'], 'expiration_time': '2024-05-09T00:00:00+00:00', 'processing_times': [1195.604], 'credit_cost': 5}), Job.from_dict({'job_id': 'ae751ce8-5767-4c28-a15c-c0e3327e5da7', 'job_type': 'RTC_GAMMA', 'request_time': '2024-04-24T22:51:59+00:00', 'status_code': 'SUCCEEDED', 'user_id': 'jknicely_alaska.edu', 'name': 'Nepal', 'job_parameters': {'dem_matching': False, 'dem_name': 'copernicus', 'granules': ['S1A_IW_SLC__1SDV_20210505T123850_20210505T123917_037753_0474A9_5EF4'], 'include_dem': True, 'include_inc_map': False, 'include_rgb': False, 'include_scattering_area': False, 'radiometry': 'gamma0', 'resolution': 30, 'scale': 'power', 'speckle_filter': False}, 'files': [{'filename': 'S1A_IW_20210505T123850_DVP_RTC30_G_gpuned_CF79.zip', 's3': {'bucket': 'hyp3-edc-prod-contentbucket-1fv14ed36ifj6', 'key': 'ae751ce8-5767-4c28-a15c-c0e3327e5da7/S1A_IW_20210505T123850_DVP_RTC30_G_gpuned_CF79.zip'}, 'size': 547884624, 'url': 'https://d3gm2hf49xd6jj.cloudfront.net/ae751ce8-5767-4c28-a15c-c0e3327e5da7/S1A_IW_20210505T123850_DVP_RTC30_G_gpuned_CF79.zip'}], 'logs': [], 'browse_images': ['https://d3gm2hf49xd6jj.cloudfront.net/ae751ce8-5767-4c28-a15c-c0e3327e5da7/S1A_IW_20210505T123850_DVP_RTC30_G_gpuned_CF79.png', 'https://d3gm2hf49xd6jj.cloudfront.net/ae751ce8-5767-4c28-a15c-c0e3327e5da7/S1A_IW_20210505T123850_DVP_RTC30_G_gpuned_CF79_rgb.png'], 'thumbnail_images': ['https://d3gm2hf49xd6jj.cloudfront.net/ae751ce8-5767-4c28-a15c-c0e3327e5da7/S1A_IW_20210505T123850_DVP_RTC30_G_gpuned_CF79_thumb.png', 'https://d3gm2hf49xd6jj.cloudfront.net/ae751ce8-5767-4c28-a15c-c0e3327e5da7/S1A_IW_20210505T123850_DVP_RTC30_G_gpuned_CF79_rgb_thumb.png'], 'expiration_time': '2024-05-09T00:00:00+00:00', 'processing_times': [1194.6], 'credit_cost': 5}), Job.from_dict({'job_id': '1dd742d6-565a-49c6-958d-67510caae475', 'job_type': 'RTC_GAMMA', 'request_time': '2024-04-24T22:51:59+00:00', 'status_code': 'SUCCEEDED', 'user_id': 'jknicely_alaska.edu', 'name': 'Nepal', 'job_parameters': {'dem_matching': False, 'dem_name': 'copernicus', 'granules': ['S1A_IW_SLC__1SDV_20210610T123852_20210610T123919_038278_04845D_88AC'], 'include_dem': True, 'include_inc_map': False, 'include_rgb': False, 'include_scattering_area': False, 'radiometry': 'gamma0', 'resolution': 30, 'scale': 'power', 'speckle_filter': False}, 'files': [{'filename': 'S1A_IW_20210610T123852_DVP_RTC30_G_gpuned_DB02.zip', 's3': {'bucket': 'hyp3-edc-prod-contentbucket-1fv14ed36ifj6', 'key': '1dd742d6-565a-49c6-958d-67510caae475/S1A_IW_20210610T123852_DVP_RTC30_G_gpuned_DB02.zip'}, 'size': 543111860, 'url': 'https://d3gm2hf49xd6jj.cloudfront.net/1dd742d6-565a-49c6-958d-67510caae475/S1A_IW_20210610T123852_DVP_RTC30_G_gpuned_DB02.zip'}], 'logs': [], 'browse_images': ['https://d3gm2hf49xd6jj.cloudfront.net/1dd742d6-565a-49c6-958d-67510caae475/S1A_IW_20210610T123852_DVP_RTC30_G_gpuned_DB02.png', 'https://d3gm2hf49xd6jj.cloudfront.net/1dd742d6-565a-49c6-958d-67510caae475/S1A_IW_20210610T123852_DVP_RTC30_G_gpuned_DB02_rgb.png'], 'thumbnail_images': ['https://d3gm2hf49xd6jj.cloudfront.net/1dd742d6-565a-49c6-958d-67510caae475/S1A_IW_20210610T123852_DVP_RTC30_G_gpuned_DB02_thumb.png', 'https://d3gm2hf49xd6jj.cloudfront.net/1dd742d6-565a-49c6-958d-67510caae475/S1A_IW_20210610T123852_DVP_RTC30_G_gpuned_DB02_rgb_thumb.png'], 'expiration_time': '2024-05-09T00:00:00+00:00', 'processing_times': [1189.731], 'credit_cost': 5}), Job.from_dict({'job_id': 'e0e59e03-625d-4865-ad18-2fd8afc55eda', 'job_type': 'RTC_GAMMA', 'request_time': '2024-04-24T22:51:59+00:00', 'status_code': 'SUCCEEDED', 'user_id': 'jknicely_alaska.edu', 'name': 'Nepal', 'job_parameters': {'dem_matching': False, 'dem_name': 'copernicus', 'granules': ['S1A_IW_SLC__1SDV_20210809T123856_20210809T123922_039153_049EF6_A8B3'], 'include_dem': True, 'include_inc_map': False, 'include_rgb': False, 'include_scattering_area': False, 'radiometry': 'gamma0', 'resolution': 30, 'scale': 'power', 'speckle_filter': False}, 'files': [{'filename': 'S1A_IW_20210809T123856_DVP_RTC30_G_gpuned_FC2A.zip', 's3': {'bucket': 'hyp3-edc-prod-contentbucket-1fv14ed36ifj6', 'key': 'e0e59e03-625d-4865-ad18-2fd8afc55eda/S1A_IW_20210809T123856_DVP_RTC30_G_gpuned_FC2A.zip'}, 'size': 541844833, 'url': 'https://d3gm2hf49xd6jj.cloudfront.net/e0e59e03-625d-4865-ad18-2fd8afc55eda/S1A_IW_20210809T123856_DVP_RTC30_G_gpuned_FC2A.zip'}], 'logs': [], 'browse_images': ['https://d3gm2hf49xd6jj.cloudfront.net/e0e59e03-625d-4865-ad18-2fd8afc55eda/S1A_IW_20210809T123856_DVP_RTC30_G_gpuned_FC2A.png', 'https://d3gm2hf49xd6jj.cloudfront.net/e0e59e03-625d-4865-ad18-2fd8afc55eda/S1A_IW_20210809T123856_DVP_RTC30_G_gpuned_FC2A_rgb.png'], 'thumbnail_images': ['https://d3gm2hf49xd6jj.cloudfront.net/e0e59e03-625d-4865-ad18-2fd8afc55eda/S1A_IW_20210809T123856_DVP_RTC30_G_gpuned_FC2A_thumb.png', 'https://d3gm2hf49xd6jj.cloudfront.net/e0e59e03-625d-4865-ad18-2fd8afc55eda/S1A_IW_20210809T123856_DVP_RTC30_G_gpuned_FC2A_rgb_thumb.png'], 'expiration_time': '2024-05-09T00:00:00+00:00', 'processing_times': [1176.26], 'credit_cost': 5}), Job.from_dict({'job_id': 'a6f21540-00e4-4cde-bcf2-b0d63c649c3b', 'job_type': 'RTC_GAMMA', 'request_time': '2024-04-24T22:51:59+00:00', 'status_code': 'SUCCEEDED', 'user_id': 'jknicely_alaska.edu', 'name': 'Nepal', 'job_parameters': {'dem_matching': False, 'dem_name': 'copernicus', 'granules': ['S1A_IW_SLC__1SDV_20210423T123849_20210423T123916_037578_046E8D_344A'], 'include_dem': True, 'include_inc_map': False, 'include_rgb': False, 'include_scattering_area': False, 'radiometry': 'gamma0', 'resolution': 30, 'scale': 'power', 'speckle_filter': False}, 'files': [{'filename': 'S1A_IW_20210423T123849_DVP_RTC30_G_gpuned_AA41.zip', 's3': {'bucket': 'hyp3-edc-prod-contentbucket-1fv14ed36ifj6', 'key': 'a6f21540-00e4-4cde-bcf2-b0d63c649c3b/S1A_IW_20210423T123849_DVP_RTC30_G_gpuned_AA41.zip'}, 'size': 549004143, 'url': 'https://d3gm2hf49xd6jj.cloudfront.net/a6f21540-00e4-4cde-bcf2-b0d63c649c3b/S1A_IW_20210423T123849_DVP_RTC30_G_gpuned_AA41.zip'}], 'logs': [], 'browse_images': ['https://d3gm2hf49xd6jj.cloudfront.net/a6f21540-00e4-4cde-bcf2-b0d63c649c3b/S1A_IW_20210423T123849_DVP_RTC30_G_gpuned_AA41.png', 'https://d3gm2hf49xd6jj.cloudfront.net/a6f21540-00e4-4cde-bcf2-b0d63c649c3b/S1A_IW_20210423T123849_DVP_RTC30_G_gpuned_AA41_rgb.png'], 'thumbnail_images': ['https://d3gm2hf49xd6jj.cloudfront.net/a6f21540-00e4-4cde-bcf2-b0d63c649c3b/S1A_IW_20210423T123849_DVP_RTC30_G_gpuned_AA41_thumb.png', 'https://d3gm2hf49xd6jj.cloudfront.net/a6f21540-00e4-4cde-bcf2-b0d63c649c3b/S1A_IW_20210423T123849_DVP_RTC30_G_gpuned_AA41_rgb_thumb.png'], 'expiration_time': '2024-05-09T00:00:00+00:00', 'processing_times': [1199.691], 'credit_cost': 5}), Job.from_dict({'job_id': 'ec100202-988e-4abe-8759-24e7be343e8b', 'job_type': 'RTC_GAMMA', 'request_time': '2024-04-24T22:51:59+00:00', 'status_code': 'SUCCEEDED', 'user_id': 'jknicely_alaska.edu', 'name': 'Nepal', 'job_parameters': {'dem_matching': False, 'dem_name': 'copernicus', 'granules': ['S1A_IW_SLC__1SDV_20210129T123849_20210129T123916_036353_044409_EBBE'], 'include_dem': True, 'include_inc_map': False, 'include_rgb': False, 'include_scattering_area': False, 'radiometry': 'gamma0', 'resolution': 30, 'scale': 'power', 'speckle_filter': False}, 'files': [{'filename': 'S1A_IW_20210129T123849_DVP_RTC30_G_gpuned_1155.zip', 's3': {'bucket': 'hyp3-edc-prod-contentbucket-1fv14ed36ifj6', 'key': 'ec100202-988e-4abe-8759-24e7be343e8b/S1A_IW_20210129T123849_DVP_RTC30_G_gpuned_1155.zip'}, 'size': 547143198, 'url': 'https://d3gm2hf49xd6jj.cloudfront.net/ec100202-988e-4abe-8759-24e7be343e8b/S1A_IW_20210129T123849_DVP_RTC30_G_gpuned_1155.zip'}], 'logs': [], 'browse_images': ['https://d3gm2hf49xd6jj.cloudfront.net/ec100202-988e-4abe-8759-24e7be343e8b/S1A_IW_20210129T123849_DVP_RTC30_G_gpuned_1155.png', 'https://d3gm2hf49xd6jj.cloudfront.net/ec100202-988e-4abe-8759-24e7be343e8b/S1A_IW_20210129T123849_DVP_RTC30_G_gpuned_1155_rgb.png'], 'thumbnail_images': ['https://d3gm2hf49xd6jj.cloudfront.net/ec100202-988e-4abe-8759-24e7be343e8b/S1A_IW_20210129T123849_DVP_RTC30_G_gpuned_1155_thumb.png', 'https://d3gm2hf49xd6jj.cloudfront.net/ec100202-988e-4abe-8759-24e7be343e8b/S1A_IW_20210129T123849_DVP_RTC30_G_gpuned_1155_rgb_thumb.png'], 'expiration_time': '2024-05-09T00:00:00+00:00', 'processing_times': [1198.144], 'credit_cost': 5}), Job.from_dict({'job_id': 'ae66d770-83e5-4c2c-bbda-13a331b854c7', 'job_type': 'RTC_GAMMA', 'request_time': '2024-04-24T22:51:59+00:00', 'status_code': 'SUCCEEDED', 'user_id': 'jknicely_alaska.edu', 'name': 'Nepal', 'job_parameters': {'dem_matching': False, 'dem_name': 'copernicus', 'granules': ['S1A_IW_SLC__1SDV_20210105T123850_20210105T123917_036003_0437CD_76CF'], 'include_dem': True, 'include_inc_map': False, 'include_rgb': False, 'include_scattering_area': False, 'radiometry': 'gamma0', 'resolution': 30, 'scale': 'power', 'speckle_filter': False}, 'files': [{'filename': 'S1A_IW_20210105T123850_DVP_RTC30_G_gpuned_F9A6.zip', 's3': {'bucket': 'hyp3-edc-prod-contentbucket-1fv14ed36ifj6', 'key': 'ae66d770-83e5-4c2c-bbda-13a331b854c7/S1A_IW_20210105T123850_DVP_RTC30_G_gpuned_F9A6.zip'}, 'size': 546573572, 'url': 'https://d3gm2hf49xd6jj.cloudfront.net/ae66d770-83e5-4c2c-bbda-13a331b854c7/S1A_IW_20210105T123850_DVP_RTC30_G_gpuned_F9A6.zip'}], 'logs': [], 'browse_images': ['https://d3gm2hf49xd6jj.cloudfront.net/ae66d770-83e5-4c2c-bbda-13a331b854c7/S1A_IW_20210105T123850_DVP_RTC30_G_gpuned_F9A6.png', 'https://d3gm2hf49xd6jj.cloudfront.net/ae66d770-83e5-4c2c-bbda-13a331b854c7/S1A_IW_20210105T123850_DVP_RTC30_G_gpuned_F9A6_rgb.png'], 'thumbnail_images': ['https://d3gm2hf49xd6jj.cloudfront.net/ae66d770-83e5-4c2c-bbda-13a331b854c7/S1A_IW_20210105T123850_DVP_RTC30_G_gpuned_F9A6_thumb.png', 'https://d3gm2hf49xd6jj.cloudfront.net/ae66d770-83e5-4c2c-bbda-13a331b854c7/S1A_IW_20210105T123850_DVP_RTC30_G_gpuned_F9A6_rgb_thumb.png'], 'expiration_time': '2024-05-09T00:00:00+00:00', 'processing_times': [1179.223], 'credit_cost': 5}), Job.from_dict({'job_id': '3bd64a74-9853-4cfb-84d7-aaf76f925081', 'job_type': 'RTC_GAMMA', 'request_time': '2024-04-24T22:51:59+00:00', 'status_code': 'SUCCEEDED', 'user_id': 'jknicely_alaska.edu', 'name': 'Nepal', 'job_parameters': {'dem_matching': False, 'dem_name': 'copernicus', 'granules': ['S1A_IW_SLC__1SDV_20210330T123848_20210330T123915_037228_046273_D762'], 'include_dem': True, 'include_inc_map': False, 'include_rgb': False, 'include_scattering_area': False, 'radiometry': 'gamma0', 'resolution': 30, 'scale': 'power', 'speckle_filter': False}, 'files': [{'filename': 'S1A_IW_20210330T123848_DVP_RTC30_G_gpuned_3015.zip', 's3': {'bucket': 'hyp3-edc-prod-contentbucket-1fv14ed36ifj6', 'key': '3bd64a74-9853-4cfb-84d7-aaf76f925081/S1A_IW_20210330T123848_DVP_RTC30_G_gpuned_3015.zip'}, 'size': 547549756, 'url': 'https://d3gm2hf49xd6jj.cloudfront.net/3bd64a74-9853-4cfb-84d7-aaf76f925081/S1A_IW_20210330T123848_DVP_RTC30_G_gpuned_3015.zip'}], 'logs': [], 'browse_images': ['https://d3gm2hf49xd6jj.cloudfront.net/3bd64a74-9853-4cfb-84d7-aaf76f925081/S1A_IW_20210330T123848_DVP_RTC30_G_gpuned_3015.png', 'https://d3gm2hf49xd6jj.cloudfront.net/3bd64a74-9853-4cfb-84d7-aaf76f925081/S1A_IW_20210330T123848_DVP_RTC30_G_gpuned_3015_rgb.png'], 'thumbnail_images': ['https://d3gm2hf49xd6jj.cloudfront.net/3bd64a74-9853-4cfb-84d7-aaf76f925081/S1A_IW_20210330T123848_DVP_RTC30_G_gpuned_3015_thumb.png', 'https://d3gm2hf49xd6jj.cloudfront.net/3bd64a74-9853-4cfb-84d7-aaf76f925081/S1A_IW_20210330T123848_DVP_RTC30_G_gpuned_3015_rgb_thumb.png'], 'expiration_time': '2024-05-09T00:00:00+00:00', 'processing_times': [1180.236], 'credit_cost': 5}), Job.from_dict({'job_id': '3769c8b4-1b94-42cc-92f4-0913d2d22770', 'job_type': 'RTC_GAMMA', 'request_time': '2024-04-24T22:51:59+00:00', 'status_code': 'SUCCEEDED', 'user_id': 'jknicely_alaska.edu', 'name': 'Nepal', 'job_parameters': {'dem_matching': False, 'dem_name': 'copernicus', 'granules': ['S1A_IW_SLC__1SDV_20210306T123848_20210306T123915_036878_04564C_3CE0'], 'include_dem': True, 'include_inc_map': False, 'include_rgb': False, 'include_scattering_area': False, 'radiometry': 'gamma0', 'resolution': 30, 'scale': 'power', 'speckle_filter': False}, 'files': [{'filename': 'S1A_IW_20210306T123848_DVP_RTC30_G_gpuned_2F7C.zip', 's3': {'bucket': 'hyp3-edc-prod-contentbucket-1fv14ed36ifj6', 'key': '3769c8b4-1b94-42cc-92f4-0913d2d22770/S1A_IW_20210306T123848_DVP_RTC30_G_gpuned_2F7C.zip'}, 'size': 547201929, 'url': 'https://d3gm2hf49xd6jj.cloudfront.net/3769c8b4-1b94-42cc-92f4-0913d2d22770/S1A_IW_20210306T123848_DVP_RTC30_G_gpuned_2F7C.zip'}], 'logs': [], 'browse_images': ['https://d3gm2hf49xd6jj.cloudfront.net/3769c8b4-1b94-42cc-92f4-0913d2d22770/S1A_IW_20210306T123848_DVP_RTC30_G_gpuned_2F7C.png', 'https://d3gm2hf49xd6jj.cloudfront.net/3769c8b4-1b94-42cc-92f4-0913d2d22770/S1A_IW_20210306T123848_DVP_RTC30_G_gpuned_2F7C_rgb.png'], 'thumbnail_images': ['https://d3gm2hf49xd6jj.cloudfront.net/3769c8b4-1b94-42cc-92f4-0913d2d22770/S1A_IW_20210306T123848_DVP_RTC30_G_gpuned_2F7C_thumb.png', 'https://d3gm2hf49xd6jj.cloudfront.net/3769c8b4-1b94-42cc-92f4-0913d2d22770/S1A_IW_20210306T123848_DVP_RTC30_G_gpuned_2F7C_rgb_thumb.png'], 'expiration_time': '2024-05-09T00:00:00+00:00', 'processing_times': [1180.455], 'credit_cost': 5}), Job.from_dict({'job_id': '53dfc0b9-1e17-458c-8e2b-43f82278bbd0', 'job_type': 'RTC_GAMMA', 'request_time': '2024-04-24T22:51:59+00:00', 'status_code': 'SUCCEEDED', 'user_id': 'jknicely_alaska.edu', 'name': 'Nepal', 'job_parameters': {'dem_matching': False, 'dem_name': 'copernicus', 'granules': ['S1A_IW_SLC__1SDV_20210411T123849_20210411T123916_037403_04687E_2D36'], 'include_dem': True, 'include_inc_map': False, 'include_rgb': False, 'include_scattering_area': False, 'radiometry': 'gamma0', 'resolution': 30, 'scale': 'power', 'speckle_filter': False}, 'files': [{'filename': 'S1A_IW_20210411T123849_DVP_RTC30_G_gpuned_691E.zip', 's3': {'bucket': 'hyp3-edc-prod-contentbucket-1fv14ed36ifj6', 'key': '53dfc0b9-1e17-458c-8e2b-43f82278bbd0/S1A_IW_20210411T123849_DVP_RTC30_G_gpuned_691E.zip'}, 'size': 548623956, 'url': 'https://d3gm2hf49xd6jj.cloudfront.net/53dfc0b9-1e17-458c-8e2b-43f82278bbd0/S1A_IW_20210411T123849_DVP_RTC30_G_gpuned_691E.zip'}], 'logs': [], 'browse_images': ['https://d3gm2hf49xd6jj.cloudfront.net/53dfc0b9-1e17-458c-8e2b-43f82278bbd0/S1A_IW_20210411T123849_DVP_RTC30_G_gpuned_691E.png', 'https://d3gm2hf49xd6jj.cloudfront.net/53dfc0b9-1e17-458c-8e2b-43f82278bbd0/S1A_IW_20210411T123849_DVP_RTC30_G_gpuned_691E_rgb.png'], 'thumbnail_images': ['https://d3gm2hf49xd6jj.cloudfront.net/53dfc0b9-1e17-458c-8e2b-43f82278bbd0/S1A_IW_20210411T123849_DVP_RTC30_G_gpuned_691E_thumb.png', 'https://d3gm2hf49xd6jj.cloudfront.net/53dfc0b9-1e17-458c-8e2b-43f82278bbd0/S1A_IW_20210411T123849_DVP_RTC30_G_gpuned_691E_rgb_thumb.png'], 'expiration_time': '2024-05-09T00:00:00+00:00', 'processing_times': [1197.062], 'credit_cost': 5}), Job.from_dict({'job_id': '35712582-3bd6-4e70-8efa-193bbc43ff0b', 'job_type': 'RTC_GAMMA', 'request_time': '2024-04-24T22:51:59+00:00', 'status_code': 'SUCCEEDED', 'user_id': 'jknicely_alaska.edu', 'name': 'Nepal', 'job_parameters': {'dem_matching': False, 'dem_name': 'copernicus', 'granules': ['S1A_IW_SLC__1SDV_20210622T123853_20210622T123920_038453_048997_1279'], 'include_dem': True, 'include_inc_map': False, 'include_rgb': False, 'include_scattering_area': False, 'radiometry': 'gamma0', 'resolution': 30, 'scale': 'power', 'speckle_filter': False}, 'files': [{'filename': 'S1A_IW_20210622T123853_DVP_RTC30_G_gpuned_B9E9.zip', 's3': {'bucket': 'hyp3-edc-prod-contentbucket-1fv14ed36ifj6', 'key': '35712582-3bd6-4e70-8efa-193bbc43ff0b/S1A_IW_20210622T123853_DVP_RTC30_G_gpuned_B9E9.zip'}, 'size': 543801859, 'url': 'https://d3gm2hf49xd6jj.cloudfront.net/35712582-3bd6-4e70-8efa-193bbc43ff0b/S1A_IW_20210622T123853_DVP_RTC30_G_gpuned_B9E9.zip'}], 'logs': [], 'browse_images': ['https://d3gm2hf49xd6jj.cloudfront.net/35712582-3bd6-4e70-8efa-193bbc43ff0b/S1A_IW_20210622T123853_DVP_RTC30_G_gpuned_B9E9.png', 'https://d3gm2hf49xd6jj.cloudfront.net/35712582-3bd6-4e70-8efa-193bbc43ff0b/S1A_IW_20210622T123853_DVP_RTC30_G_gpuned_B9E9_rgb.png'], 'thumbnail_images': ['https://d3gm2hf49xd6jj.cloudfront.net/35712582-3bd6-4e70-8efa-193bbc43ff0b/S1A_IW_20210622T123853_DVP_RTC30_G_gpuned_B9E9_thumb.png', 'https://d3gm2hf49xd6jj.cloudfront.net/35712582-3bd6-4e70-8efa-193bbc43ff0b/S1A_IW_20210622T123853_DVP_RTC30_G_gpuned_B9E9_rgb_thumb.png'], 'expiration_time': '2024-05-09T00:00:00+00:00', 'processing_times': [1183.379], 'credit_cost': 5}), Job.from_dict({'job_id': '845b3a57-a139-46b4-a08a-6857f8457904', 'job_type': 'RTC_GAMMA', 'request_time': '2024-04-24T22:51:59+00:00', 'status_code': 'SUCCEEDED', 'user_id': 'jknicely_alaska.edu', 'name': 'Nepal', 'job_parameters': {'dem_matching': False, 'dem_name': 'copernicus', 'granules': ['S1A_IW_SLC__1SDV_20210210T123848_20210210T123915_036528_044A1E_EB15'], 'include_dem': True, 'include_inc_map': False, 'include_rgb': False, 'include_scattering_area': False, 'radiometry': 'gamma0', 'resolution': 30, 'scale': 'power', 'speckle_filter': False}, 'files': [{'filename': 'S1A_IW_20210210T123848_DVP_RTC30_G_gpuned_3E3C.zip', 's3': {'bucket': 'hyp3-edc-prod-contentbucket-1fv14ed36ifj6', 'key': '845b3a57-a139-46b4-a08a-6857f8457904/S1A_IW_20210210T123848_DVP_RTC30_G_gpuned_3E3C.zip'}, 'size': 547202839, 'url': 'https://d3gm2hf49xd6jj.cloudfront.net/845b3a57-a139-46b4-a08a-6857f8457904/S1A_IW_20210210T123848_DVP_RTC30_G_gpuned_3E3C.zip'}], 'logs': [], 'browse_images': ['https://d3gm2hf49xd6jj.cloudfront.net/845b3a57-a139-46b4-a08a-6857f8457904/S1A_IW_20210210T123848_DVP_RTC30_G_gpuned_3E3C.png', 'https://d3gm2hf49xd6jj.cloudfront.net/845b3a57-a139-46b4-a08a-6857f8457904/S1A_IW_20210210T123848_DVP_RTC30_G_gpuned_3E3C_rgb.png'], 'thumbnail_images': ['https://d3gm2hf49xd6jj.cloudfront.net/845b3a57-a139-46b4-a08a-6857f8457904/S1A_IW_20210210T123848_DVP_RTC30_G_gpuned_3E3C_thumb.png', 'https://d3gm2hf49xd6jj.cloudfront.net/845b3a57-a139-46b4-a08a-6857f8457904/S1A_IW_20210210T123848_DVP_RTC30_G_gpuned_3E3C_rgb_thumb.png'], 'expiration_time': '2024-05-09T00:00:00+00:00', 'processing_times': [1193.333], 'credit_cost': 5}), Job.from_dict({'job_id': 'f2bcc057-31cf-48b8-93a0-67e5e8693202', 'job_type': 'RTC_GAMMA', 'request_time': '2024-04-24T22:51:59+00:00', 'status_code': 'SUCCEEDED', 'user_id': 'jknicely_alaska.edu', 'name': 'Nepal', 'job_parameters': {'dem_matching': False, 'dem_name': 'copernicus', 'granules': ['S1A_IW_SLC__1SDV_20210222T123848_20210222T123915_036703_045039_B8E5'], 'include_dem': True, 'include_inc_map': False, 'include_rgb': False, 'include_scattering_area': False, 'radiometry': 'gamma0', 'resolution': 30, 'scale': 'power', 'speckle_filter': False}, 'files': [{'filename': 'S1A_IW_20210222T123848_DVP_RTC30_G_gpuned_2F12.zip', 's3': {'bucket': 'hyp3-edc-prod-contentbucket-1fv14ed36ifj6', 'key': 'f2bcc057-31cf-48b8-93a0-67e5e8693202/S1A_IW_20210222T123848_DVP_RTC30_G_gpuned_2F12.zip'}, 'size': 547198738, 'url': 'https://d3gm2hf49xd6jj.cloudfront.net/f2bcc057-31cf-48b8-93a0-67e5e8693202/S1A_IW_20210222T123848_DVP_RTC30_G_gpuned_2F12.zip'}], 'logs': [], 'browse_images': ['https://d3gm2hf49xd6jj.cloudfront.net/f2bcc057-31cf-48b8-93a0-67e5e8693202/S1A_IW_20210222T123848_DVP_RTC30_G_gpuned_2F12.png', 'https://d3gm2hf49xd6jj.cloudfront.net/f2bcc057-31cf-48b8-93a0-67e5e8693202/S1A_IW_20210222T123848_DVP_RTC30_G_gpuned_2F12_rgb.png'], 'thumbnail_images': ['https://d3gm2hf49xd6jj.cloudfront.net/f2bcc057-31cf-48b8-93a0-67e5e8693202/S1A_IW_20210222T123848_DVP_RTC30_G_gpuned_2F12_thumb.png', 'https://d3gm2hf49xd6jj.cloudfront.net/f2bcc057-31cf-48b8-93a0-67e5e8693202/S1A_IW_20210222T123848_DVP_RTC30_G_gpuned_2F12_rgb_thumb.png'], 'expiration_time': '2024-05-09T00:00:00+00:00', 'processing_times': [1189.4], 'credit_cost': 5}), Job.from_dict({'job_id': 'c1c44446-981f-4cbd-9a7d-a437e7259848', 'job_type': 'RTC_GAMMA', 'request_time': '2024-04-24T22:51:59+00:00', 'status_code': 'SUCCEEDED', 'user_id': 'jknicely_alaska.edu', 'name': 'Nepal', 'job_parameters': {'dem_matching': False, 'dem_name': 'copernicus', 'granules': ['S1A_IW_SLC__1SDV_20210728T123855_20210728T123922_038978_049954_B66D'], 'include_dem': True, 'include_inc_map': False, 'include_rgb': False, 'include_scattering_area': False, 'radiometry': 'gamma0', 'resolution': 30, 'scale': 'power', 'speckle_filter': False}, 'files': [{'filename': 'S1A_IW_20210728T123855_DVP_RTC30_G_gpuned_F2D3.zip', 's3': {'bucket': 'hyp3-edc-prod-contentbucket-1fv14ed36ifj6', 'key': 'c1c44446-981f-4cbd-9a7d-a437e7259848/S1A_IW_20210728T123855_DVP_RTC30_G_gpuned_F2D3.zip'}, 'size': 543209968, 'url': 'https://d3gm2hf49xd6jj.cloudfront.net/c1c44446-981f-4cbd-9a7d-a437e7259848/S1A_IW_20210728T123855_DVP_RTC30_G_gpuned_F2D3.zip'}], 'logs': [], 'browse_images': ['https://d3gm2hf49xd6jj.cloudfront.net/c1c44446-981f-4cbd-9a7d-a437e7259848/S1A_IW_20210728T123855_DVP_RTC30_G_gpuned_F2D3.png', 'https://d3gm2hf49xd6jj.cloudfront.net/c1c44446-981f-4cbd-9a7d-a437e7259848/S1A_IW_20210728T123855_DVP_RTC30_G_gpuned_F2D3_rgb.png'], 'thumbnail_images': ['https://d3gm2hf49xd6jj.cloudfront.net/c1c44446-981f-4cbd-9a7d-a437e7259848/S1A_IW_20210728T123855_DVP_RTC30_G_gpuned_F2D3_thumb.png', 'https://d3gm2hf49xd6jj.cloudfront.net/c1c44446-981f-4cbd-9a7d-a437e7259848/S1A_IW_20210728T123855_DVP_RTC30_G_gpuned_F2D3_rgb_thumb.png'], 'expiration_time': '2024-05-09T00:00:00+00:00', 'processing_times': [1183.044], 'credit_cost': 5}), Job.from_dict({'job_id': 'd48ef789-ce12-4bc8-8320-d5ec9d414faa', 'job_type': 'RTC_GAMMA', 'request_time': '2024-04-24T22:51:59+00:00', 'status_code': 'SUCCEEDED', 'user_id': 'jknicely_alaska.edu', 'name': 'Nepal', 'job_parameters': {'dem_matching': False, 'dem_name': 'copernicus', 'granules': ['S1A_IW_SLC__1SDV_20210716T123854_20210716T123921_038803_04941C_4EDB'], 'include_dem': True, 'include_inc_map': False, 'include_rgb': False, 'include_scattering_area': False, 'radiometry': 'gamma0', 'resolution': 30, 'scale': 'power', 'speckle_filter': False}, 'files': [{'filename': 'S1A_IW_20210716T123854_DVP_RTC30_G_gpuned_C49E.zip', 's3': {'bucket': 'hyp3-edc-prod-contentbucket-1fv14ed36ifj6', 'key': 'd48ef789-ce12-4bc8-8320-d5ec9d414faa/S1A_IW_20210716T123854_DVP_RTC30_G_gpuned_C49E.zip'}, 'size': 544360908, 'url': 'https://d3gm2hf49xd6jj.cloudfront.net/d48ef789-ce12-4bc8-8320-d5ec9d414faa/S1A_IW_20210716T123854_DVP_RTC30_G_gpuned_C49E.zip'}], 'logs': [], 'browse_images': ['https://d3gm2hf49xd6jj.cloudfront.net/d48ef789-ce12-4bc8-8320-d5ec9d414faa/S1A_IW_20210716T123854_DVP_RTC30_G_gpuned_C49E.png', 'https://d3gm2hf49xd6jj.cloudfront.net/d48ef789-ce12-4bc8-8320-d5ec9d414faa/S1A_IW_20210716T123854_DVP_RTC30_G_gpuned_C49E_rgb.png'], 'thumbnail_images': ['https://d3gm2hf49xd6jj.cloudfront.net/d48ef789-ce12-4bc8-8320-d5ec9d414faa/S1A_IW_20210716T123854_DVP_RTC30_G_gpuned_C49E_thumb.png', 'https://d3gm2hf49xd6jj.cloudfront.net/d48ef789-ce12-4bc8-8320-d5ec9d414faa/S1A_IW_20210716T123854_DVP_RTC30_G_gpuned_C49E_rgb_thumb.png'], 'expiration_time': '2024-05-09T00:00:00+00:00', 'processing_times': [1176.283], 'credit_cost': 5}), Job.from_dict({'job_id': '7b1c3261-803c-41b6-975c-656417cdeed6', 'job_type': 'RTC_GAMMA', 'request_time': '2024-04-24T22:51:59+00:00', 'status_code': 'SUCCEEDED', 'user_id': 'jknicely_alaska.edu', 'name': 'Nepal', 'job_parameters': {'dem_matching': False, 'dem_name': 'copernicus', 'granules': ['S1A_IW_SLC__1SDV_20210704T123853_20210704T123920_038628_048EDD_C892'], 'include_dem': True, 'include_inc_map': False, 'include_rgb': False, 'include_scattering_area': False, 'radiometry': 'gamma0', 'resolution': 30, 'scale': 'power', 'speckle_filter': False}, 'files': [{'filename': 'S1A_IW_20210704T123853_DVP_RTC30_G_gpuned_5171.zip', 's3': {'bucket': 'hyp3-edc-prod-contentbucket-1fv14ed36ifj6', 'key': '7b1c3261-803c-41b6-975c-656417cdeed6/S1A_IW_20210704T123853_DVP_RTC30_G_gpuned_5171.zip'}, 'size': 544702015, 'url': 'https://d3gm2hf49xd6jj.cloudfront.net/7b1c3261-803c-41b6-975c-656417cdeed6/S1A_IW_20210704T123853_DVP_RTC30_G_gpuned_5171.zip'}], 'logs': [], 'browse_images': ['https://d3gm2hf49xd6jj.cloudfront.net/7b1c3261-803c-41b6-975c-656417cdeed6/S1A_IW_20210704T123853_DVP_RTC30_G_gpuned_5171.png', 'https://d3gm2hf49xd6jj.cloudfront.net/7b1c3261-803c-41b6-975c-656417cdeed6/S1A_IW_20210704T123853_DVP_RTC30_G_gpuned_5171_rgb.png'], 'thumbnail_images': ['https://d3gm2hf49xd6jj.cloudfront.net/7b1c3261-803c-41b6-975c-656417cdeed6/S1A_IW_20210704T123853_DVP_RTC30_G_gpuned_5171_thumb.png', 'https://d3gm2hf49xd6jj.cloudfront.net/7b1c3261-803c-41b6-975c-656417cdeed6/S1A_IW_20210704T123853_DVP_RTC30_G_gpuned_5171_rgb_thumb.png'], 'expiration_time': '2024-05-09T00:00:00+00:00', 'processing_times': [1199.081], 'credit_cost': 5}), Job.from_dict({'job_id': '77c38981-5e33-4540-8918-9b6e85cb4529', 'job_type': 'RTC_GAMMA', 'request_time': '2024-04-24T22:51:59+00:00', 'status_code': 'SUCCEEDED', 'user_id': 'jknicely_alaska.edu', 'name': 'Nepal', 'job_parameters': {'dem_matching': False, 'dem_name': 'copernicus', 'granules': ['S1A_IW_SLC__1SDV_20210117T123849_20210117T123916_036178_043DEE_78A9'], 'include_dem': True, 'include_inc_map': False, 'include_rgb': False, 'include_scattering_area': False, 'radiometry': 'gamma0', 'resolution': 30, 'scale': 'power', 'speckle_filter': False}, 'files': [{'filename': 'S1A_IW_20210117T123849_DVP_RTC30_G_gpuned_20B0.zip', 's3': {'bucket': 'hyp3-edc-prod-contentbucket-1fv14ed36ifj6', 'key': '77c38981-5e33-4540-8918-9b6e85cb4529/S1A_IW_20210117T123849_DVP_RTC30_G_gpuned_20B0.zip'}, 'size': 547327873, 'url': 'https://d3gm2hf49xd6jj.cloudfront.net/77c38981-5e33-4540-8918-9b6e85cb4529/S1A_IW_20210117T123849_DVP_RTC30_G_gpuned_20B0.zip'}], 'logs': [], 'browse_images': ['https://d3gm2hf49xd6jj.cloudfront.net/77c38981-5e33-4540-8918-9b6e85cb4529/S1A_IW_20210117T123849_DVP_RTC30_G_gpuned_20B0.png', 'https://d3gm2hf49xd6jj.cloudfront.net/77c38981-5e33-4540-8918-9b6e85cb4529/S1A_IW_20210117T123849_DVP_RTC30_G_gpuned_20B0_rgb.png'], 'thumbnail_images': ['https://d3gm2hf49xd6jj.cloudfront.net/77c38981-5e33-4540-8918-9b6e85cb4529/S1A_IW_20210117T123849_DVP_RTC30_G_gpuned_20B0_thumb.png', 'https://d3gm2hf49xd6jj.cloudfront.net/77c38981-5e33-4540-8918-9b6e85cb4529/S1A_IW_20210117T123849_DVP_RTC30_G_gpuned_20B0_rgb_thumb.png'], 'expiration_time': '2024-05-09T00:00:00+00:00', 'processing_times': [1175.786], 'credit_cost': 5}), Job.from_dict({'job_id': '4a48a6c0-819a-4380-a3e6-223761152007', 'job_type': 'RTC_GAMMA', 'request_time': '2024-04-24T22:51:59+00:00', 'status_code': 'SUCCEEDED', 'user_id': 'jknicely_alaska.edu', 'name': 'Nepal', 'job_parameters': {'dem_matching': False, 'dem_name': 'copernicus', 'granules': ['S1A_IW_SLC__1SDV_20210517T123850_20210517T123917_037928_0479ED_0FB8'], 'include_dem': True, 'include_inc_map': False, 'include_rgb': False, 'include_scattering_area': False, 'radiometry': 'gamma0', 'resolution': 30, 'scale': 'power', 'speckle_filter': False}, 'files': [{'filename': 'S1A_IW_20210517T123850_DVP_RTC30_G_gpuned_D6EE.zip', 's3': {'bucket': 'hyp3-edc-prod-contentbucket-1fv14ed36ifj6', 'key': '4a48a6c0-819a-4380-a3e6-223761152007/S1A_IW_20210517T123850_DVP_RTC30_G_gpuned_D6EE.zip'}, 'size': 547922650, 'url': 'https://d3gm2hf49xd6jj.cloudfront.net/4a48a6c0-819a-4380-a3e6-223761152007/S1A_IW_20210517T123850_DVP_RTC30_G_gpuned_D6EE.zip'}], 'logs': [], 'browse_images': ['https://d3gm2hf49xd6jj.cloudfront.net/4a48a6c0-819a-4380-a3e6-223761152007/S1A_IW_20210517T123850_DVP_RTC30_G_gpuned_D6EE.png', 'https://d3gm2hf49xd6jj.cloudfront.net/4a48a6c0-819a-4380-a3e6-223761152007/S1A_IW_20210517T123850_DVP_RTC30_G_gpuned_D6EE_rgb.png'], 'thumbnail_images': ['https://d3gm2hf49xd6jj.cloudfront.net/4a48a6c0-819a-4380-a3e6-223761152007/S1A_IW_20210517T123850_DVP_RTC30_G_gpuned_D6EE_thumb.png', 'https://d3gm2hf49xd6jj.cloudfront.net/4a48a6c0-819a-4380-a3e6-223761152007/S1A_IW_20210517T123850_DVP_RTC30_G_gpuned_D6EE_rgb_thumb.png'], 'expiration_time': '2024-05-09T00:00:00+00:00', 'processing_times': [1199.052], 'credit_cost': 5}), Job.from_dict({'job_id': '41655c4b-3ab3-4163-b2e7-c180789628bd', 'job_type': 'RTC_GAMMA', 'request_time': '2024-04-24T22:51:59+00:00', 'status_code': 'SUCCEEDED', 'user_id': 'jknicely_alaska.edu', 'name': 'Nepal', 'job_parameters': {'dem_matching': False, 'dem_name': 'copernicus', 'granules': ['S1A_IW_SLC__1SDV_20201224T123850_20201224T123917_035828_0431B8_CBFA'], 'include_dem': True, 'include_inc_map': False, 'include_rgb': False, 'include_scattering_area': False, 'radiometry': 'gamma0', 'resolution': 30, 'scale': 'power', 'speckle_filter': False}, 'files': [{'filename': 'S1A_IW_20201224T123850_DVP_RTC30_G_gpuned_399C.zip', 's3': {'bucket': 'hyp3-edc-prod-contentbucket-1fv14ed36ifj6', 'key': '41655c4b-3ab3-4163-b2e7-c180789628bd/S1A_IW_20201224T123850_DVP_RTC30_G_gpuned_399C.zip'}, 'size': 547407138, 'url': 'https://d3gm2hf49xd6jj.cloudfront.net/41655c4b-3ab3-4163-b2e7-c180789628bd/S1A_IW_20201224T123850_DVP_RTC30_G_gpuned_399C.zip'}], 'logs': [], 'browse_images': ['https://d3gm2hf49xd6jj.cloudfront.net/41655c4b-3ab3-4163-b2e7-c180789628bd/S1A_IW_20201224T123850_DVP_RTC30_G_gpuned_399C.png', 'https://d3gm2hf49xd6jj.cloudfront.net/41655c4b-3ab3-4163-b2e7-c180789628bd/S1A_IW_20201224T123850_DVP_RTC30_G_gpuned_399C_rgb.png'], 'thumbnail_images': ['https://d3gm2hf49xd6jj.cloudfront.net/41655c4b-3ab3-4163-b2e7-c180789628bd/S1A_IW_20201224T123850_DVP_RTC30_G_gpuned_399C_thumb.png', 'https://d3gm2hf49xd6jj.cloudfront.net/41655c4b-3ab3-4163-b2e7-c180789628bd/S1A_IW_20201224T123850_DVP_RTC30_G_gpuned_399C_rgb_thumb.png'], 'expiration_time': '2024-05-09T00:00:00+00:00', 'processing_times': [1193.385], 'credit_cost': 5}), Job.from_dict({'job_id': '2c51c939-5dc7-4069-82f6-10953f0f14db', 'job_type': 'RTC_GAMMA', 'request_time': '2024-04-24T22:51:59+00:00', 'status_code': 'SUCCEEDED', 'user_id': 'jknicely_alaska.edu', 'name': 'Nepal', 'job_parameters': {'dem_matching': False, 'dem_name': 'copernicus', 'granules': ['S1A_IW_SLC__1SDV_20210318T123848_20210318T123915_037053_045C66_C22D'], 'include_dem': True, 'include_inc_map': False, 'include_rgb': False, 'include_scattering_area': False, 'radiometry': 'gamma0', 'resolution': 30, 'scale': 'power', 'speckle_filter': False}, 'files': [{'filename': 'S1A_IW_20210318T123848_DVP_RTC30_G_gpuned_DAC8.zip', 's3': {'bucket': 'hyp3-edc-prod-contentbucket-1fv14ed36ifj6', 'key': '2c51c939-5dc7-4069-82f6-10953f0f14db/S1A_IW_20210318T123848_DVP_RTC30_G_gpuned_DAC8.zip'}, 'size': 546950805, 'url': 'https://d3gm2hf49xd6jj.cloudfront.net/2c51c939-5dc7-4069-82f6-10953f0f14db/S1A_IW_20210318T123848_DVP_RTC30_G_gpuned_DAC8.zip'}], 'logs': [], 'browse_images': ['https://d3gm2hf49xd6jj.cloudfront.net/2c51c939-5dc7-4069-82f6-10953f0f14db/S1A_IW_20210318T123848_DVP_RTC30_G_gpuned_DAC8.png', 'https://d3gm2hf49xd6jj.cloudfront.net/2c51c939-5dc7-4069-82f6-10953f0f14db/S1A_IW_20210318T123848_DVP_RTC30_G_gpuned_DAC8_rgb.png'], 'thumbnail_images': ['https://d3gm2hf49xd6jj.cloudfront.net/2c51c939-5dc7-4069-82f6-10953f0f14db/S1A_IW_20210318T123848_DVP_RTC30_G_gpuned_DAC8_thumb.png', 'https://d3gm2hf49xd6jj.cloudfront.net/2c51c939-5dc7-4069-82f6-10953f0f14db/S1A_IW_20210318T123848_DVP_RTC30_G_gpuned_DAC8_rgb_thumb.png'], 'expiration_time': '2024-05-09T00:00:00+00:00', 'processing_times': [1179.715], 'credit_cost': 5}), Job.from_dict({'job_id': '55fdedb5-9746-4a0a-906e-71b8cb18e901', 'job_type': 'RTC_GAMMA', 'request_time': '2024-04-24T22:51:59+00:00', 'status_code': 'SUCCEEDED', 'user_id': 'jknicely_alaska.edu', 'name': 'Nepal', 'job_parameters': {'dem_matching': False, 'dem_name': 'copernicus', 'granules': ['S1A_IW_SLC__1SDV_20210529T123851_20210529T123918_038103_047F31_BF04'], 'include_dem': True, 'include_inc_map': False, 'include_rgb': False, 'include_scattering_area': False, 'radiometry': 'gamma0', 'resolution': 30, 'scale': 'power', 'speckle_filter': False}, 'files': [{'filename': 'S1A_IW_20210529T123851_DVP_RTC30_G_gpuned_4B2A.zip', 's3': {'bucket': 'hyp3-edc-prod-contentbucket-1fv14ed36ifj6', 'key': '55fdedb5-9746-4a0a-906e-71b8cb18e901/S1A_IW_20210529T123851_DVP_RTC30_G_gpuned_4B2A.zip'}, 'size': 542175817, 'url': 'https://d3gm2hf49xd6jj.cloudfront.net/55fdedb5-9746-4a0a-906e-71b8cb18e901/S1A_IW_20210529T123851_DVP_RTC30_G_gpuned_4B2A.zip'}], 'logs': [], 'browse_images': ['https://d3gm2hf49xd6jj.cloudfront.net/55fdedb5-9746-4a0a-906e-71b8cb18e901/S1A_IW_20210529T123851_DVP_RTC30_G_gpuned_4B2A.png', 'https://d3gm2hf49xd6jj.cloudfront.net/55fdedb5-9746-4a0a-906e-71b8cb18e901/S1A_IW_20210529T123851_DVP_RTC30_G_gpuned_4B2A_rgb.png'], 'thumbnail_images': ['https://d3gm2hf49xd6jj.cloudfront.net/55fdedb5-9746-4a0a-906e-71b8cb18e901/S1A_IW_20210529T123851_DVP_RTC30_G_gpuned_4B2A_thumb.png', 'https://d3gm2hf49xd6jj.cloudfront.net/55fdedb5-9746-4a0a-906e-71b8cb18e901/S1A_IW_20210529T123851_DVP_RTC30_G_gpuned_4B2A_rgb_thumb.png'], 'expiration_time': '2024-05-09T00:00:00+00:00', 'processing_times': [1193.921], 'credit_cost': 5}), Job.from_dict({'job_id': '3aec3233-81ac-4085-b812-c248c336dd60', 'job_type': 'RTC_GAMMA', 'request_time': '2024-04-24T22:51:58+00:00', 'status_code': 'SUCCEEDED', 'user_id': 'jknicely_alaska.edu', 'name': 'Nepal', 'job_parameters': {'dem_matching': False, 'dem_name': 'copernicus', 'granules': ['S1A_IW_SLC__1SDV_20211101T123858_20211101T123925_040378_04C926_6610'], 'include_dem': True, 'include_inc_map': False, 'include_rgb': False, 'include_scattering_area': False, 'radiometry': 'gamma0', 'resolution': 30, 'scale': 'power', 'speckle_filter': False}, 'files': [{'filename': 'S1A_IW_20211101T123858_DVP_RTC30_G_gpuned_ACCD.zip', 's3': {'bucket': 'hyp3-edc-prod-contentbucket-1fv14ed36ifj6', 'key': '3aec3233-81ac-4085-b812-c248c336dd60/S1A_IW_20211101T123858_DVP_RTC30_G_gpuned_ACCD.zip'}, 'size': 545080415, 'url': 'https://d3gm2hf49xd6jj.cloudfront.net/3aec3233-81ac-4085-b812-c248c336dd60/S1A_IW_20211101T123858_DVP_RTC30_G_gpuned_ACCD.zip'}], 'logs': [], 'browse_images': ['https://d3gm2hf49xd6jj.cloudfront.net/3aec3233-81ac-4085-b812-c248c336dd60/S1A_IW_20211101T123858_DVP_RTC30_G_gpuned_ACCD.png', 'https://d3gm2hf49xd6jj.cloudfront.net/3aec3233-81ac-4085-b812-c248c336dd60/S1A_IW_20211101T123858_DVP_RTC30_G_gpuned_ACCD_rgb.png'], 'thumbnail_images': ['https://d3gm2hf49xd6jj.cloudfront.net/3aec3233-81ac-4085-b812-c248c336dd60/S1A_IW_20211101T123858_DVP_RTC30_G_gpuned_ACCD_thumb.png', 'https://d3gm2hf49xd6jj.cloudfront.net/3aec3233-81ac-4085-b812-c248c336dd60/S1A_IW_20211101T123858_DVP_RTC30_G_gpuned_ACCD_rgb_thumb.png'], 'expiration_time': '2024-05-09T00:00:00+00:00', 'processing_times': [1126.301], 'credit_cost': 5}), Job.from_dict({'job_id': '68056e29-cefe-44d2-9f23-e609ac79c06a', 'job_type': 'RTC_GAMMA', 'request_time': '2024-04-24T22:51:58+00:00', 'status_code': 'SUCCEEDED', 'user_id': 'jknicely_alaska.edu', 'name': 'Nepal', 'job_parameters': {'dem_matching': False, 'dem_name': 'copernicus', 'granules': ['S1A_IW_SLC__1SDV_20220313T123854_20220313T123921_042303_050AE4_6334'], 'include_dem': True, 'include_inc_map': False, 'include_rgb': False, 'include_scattering_area': False, 'radiometry': 'gamma0', 'resolution': 30, 'scale': 'power', 'speckle_filter': False}, 'files': [{'filename': 'S1A_IW_20220313T123854_DVP_RTC30_G_gpuned_C614.zip', 's3': {'bucket': 'hyp3-edc-prod-contentbucket-1fv14ed36ifj6', 'key': '68056e29-cefe-44d2-9f23-e609ac79c06a/S1A_IW_20220313T123854_DVP_RTC30_G_gpuned_C614.zip'}, 'size': 546922634, 'url': 'https://d3gm2hf49xd6jj.cloudfront.net/68056e29-cefe-44d2-9f23-e609ac79c06a/S1A_IW_20220313T123854_DVP_RTC30_G_gpuned_C614.zip'}], 'logs': [], 'browse_images': ['https://d3gm2hf49xd6jj.cloudfront.net/68056e29-cefe-44d2-9f23-e609ac79c06a/S1A_IW_20220313T123854_DVP_RTC30_G_gpuned_C614.png', 'https://d3gm2hf49xd6jj.cloudfront.net/68056e29-cefe-44d2-9f23-e609ac79c06a/S1A_IW_20220313T123854_DVP_RTC30_G_gpuned_C614_rgb.png'], 'thumbnail_images': ['https://d3gm2hf49xd6jj.cloudfront.net/68056e29-cefe-44d2-9f23-e609ac79c06a/S1A_IW_20220313T123854_DVP_RTC30_G_gpuned_C614_thumb.png', 'https://d3gm2hf49xd6jj.cloudfront.net/68056e29-cefe-44d2-9f23-e609ac79c06a/S1A_IW_20220313T123854_DVP_RTC30_G_gpuned_C614_rgb_thumb.png'], 'expiration_time': '2024-05-09T00:00:00+00:00', 'processing_times': [1124.853], 'credit_cost': 5}), Job.from_dict({'job_id': 'c3b789e5-955d-4a61-abca-6b2026a5d0f0', 'job_type': 'RTC_GAMMA', 'request_time': '2024-04-24T22:51:58+00:00', 'status_code': 'SUCCEEDED', 'user_id': 'jknicely_alaska.edu', 'name': 'Nepal', 'job_parameters': {'dem_matching': False, 'dem_name': 'copernicus', 'granules': ['S1A_IW_SLC__1SDV_20210821T123856_20210821T123923_039328_04A500_397F'], 'include_dem': True, 'include_inc_map': False, 'include_rgb': False, 'include_scattering_area': False, 'radiometry': 'gamma0', 'resolution': 30, 'scale': 'power', 'speckle_filter': False}, 'files': [{'filename': 'S1A_IW_20210821T123856_DVP_RTC30_G_gpuned_0BFF.zip', 's3': {'bucket': 'hyp3-edc-prod-contentbucket-1fv14ed36ifj6', 'key': 'c3b789e5-955d-4a61-abca-6b2026a5d0f0/S1A_IW_20210821T123856_DVP_RTC30_G_gpuned_0BFF.zip'}, 'size': 543312590, 'url': 'https://d3gm2hf49xd6jj.cloudfront.net/c3b789e5-955d-4a61-abca-6b2026a5d0f0/S1A_IW_20210821T123856_DVP_RTC30_G_gpuned_0BFF.zip'}], 'logs': [], 'browse_images': ['https://d3gm2hf49xd6jj.cloudfront.net/c3b789e5-955d-4a61-abca-6b2026a5d0f0/S1A_IW_20210821T123856_DVP_RTC30_G_gpuned_0BFF.png', 'https://d3gm2hf49xd6jj.cloudfront.net/c3b789e5-955d-4a61-abca-6b2026a5d0f0/S1A_IW_20210821T123856_DVP_RTC30_G_gpuned_0BFF_rgb.png'], 'thumbnail_images': ['https://d3gm2hf49xd6jj.cloudfront.net/c3b789e5-955d-4a61-abca-6b2026a5d0f0/S1A_IW_20210821T123856_DVP_RTC30_G_gpuned_0BFF_thumb.png', 'https://d3gm2hf49xd6jj.cloudfront.net/c3b789e5-955d-4a61-abca-6b2026a5d0f0/S1A_IW_20210821T123856_DVP_RTC30_G_gpuned_0BFF_rgb_thumb.png'], 'expiration_time': '2024-05-09T00:00:00+00:00', 'processing_times': [1168], 'credit_cost': 5}), Job.from_dict({'job_id': '0f642916-bb38-46bf-b481-60f9a058dcd6', 'job_type': 'RTC_GAMMA', 'request_time': '2024-04-24T22:51:58+00:00', 'status_code': 'SUCCEEDED', 'user_id': 'jknicely_alaska.edu', 'name': 'Nepal', 'job_parameters': {'dem_matching': False, 'dem_name': 'copernicus', 'granules': ['S1A_IW_SLC__1SDV_20210902T123857_20210902T123924_039503_04AAF6_DFA5'], 'include_dem': True, 'include_inc_map': False, 'include_rgb': False, 'include_scattering_area': False, 'radiometry': 'gamma0', 'resolution': 30, 'scale': 'power', 'speckle_filter': False}, 'files': [{'filename': 'S1A_IW_20210902T123857_DVP_RTC30_G_gpuned_0A7C.zip', 's3': {'bucket': 'hyp3-edc-prod-contentbucket-1fv14ed36ifj6', 'key': '0f642916-bb38-46bf-b481-60f9a058dcd6/S1A_IW_20210902T123857_DVP_RTC30_G_gpuned_0A7C.zip'}, 'size': 542952447, 'url': 'https://d3gm2hf49xd6jj.cloudfront.net/0f642916-bb38-46bf-b481-60f9a058dcd6/S1A_IW_20210902T123857_DVP_RTC30_G_gpuned_0A7C.zip'}], 'logs': [], 'browse_images': ['https://d3gm2hf49xd6jj.cloudfront.net/0f642916-bb38-46bf-b481-60f9a058dcd6/S1A_IW_20210902T123857_DVP_RTC30_G_gpuned_0A7C.png', 'https://d3gm2hf49xd6jj.cloudfront.net/0f642916-bb38-46bf-b481-60f9a058dcd6/S1A_IW_20210902T123857_DVP_RTC30_G_gpuned_0A7C_rgb.png'], 'thumbnail_images': ['https://d3gm2hf49xd6jj.cloudfront.net/0f642916-bb38-46bf-b481-60f9a058dcd6/S1A_IW_20210902T123857_DVP_RTC30_G_gpuned_0A7C_thumb.png', 'https://d3gm2hf49xd6jj.cloudfront.net/0f642916-bb38-46bf-b481-60f9a058dcd6/S1A_IW_20210902T123857_DVP_RTC30_G_gpuned_0A7C_rgb_thumb.png'], 'expiration_time': '2024-05-09T00:00:00+00:00', 'processing_times': [1182.426], 'credit_cost': 5}), Job.from_dict({'job_id': '34f6a3e4-9210-44e6-992c-22143c6823bd', 'job_type': 'RTC_GAMMA', 'request_time': '2024-04-24T22:51:58+00:00', 'status_code': 'SUCCEEDED', 'user_id': 'jknicely_alaska.edu', 'name': 'Nepal', 'job_parameters': {'dem_matching': False, 'dem_name': 'copernicus', 'granules': ['S1A_IW_SLC__1SDV_20211207T123857_20211207T123924_040903_04DB67_92E7'], 'include_dem': True, 'include_inc_map': False, 'include_rgb': False, 'include_scattering_area': False, 'radiometry': 'gamma0', 'resolution': 30, 'scale': 'power', 'speckle_filter': False}, 'files': [{'filename': 'S1A_IW_20211207T123857_DVP_RTC30_G_gpuned_491F.zip', 's3': {'bucket': 'hyp3-edc-prod-contentbucket-1fv14ed36ifj6', 'key': '34f6a3e4-9210-44e6-992c-22143c6823bd/S1A_IW_20211207T123857_DVP_RTC30_G_gpuned_491F.zip'}, 'size': 546833963, 'url': 'https://d3gm2hf49xd6jj.cloudfront.net/34f6a3e4-9210-44e6-992c-22143c6823bd/S1A_IW_20211207T123857_DVP_RTC30_G_gpuned_491F.zip'}], 'logs': [], 'browse_images': ['https://d3gm2hf49xd6jj.cloudfront.net/34f6a3e4-9210-44e6-992c-22143c6823bd/S1A_IW_20211207T123857_DVP_RTC30_G_gpuned_491F.png', 'https://d3gm2hf49xd6jj.cloudfront.net/34f6a3e4-9210-44e6-992c-22143c6823bd/S1A_IW_20211207T123857_DVP_RTC30_G_gpuned_491F_rgb.png'], 'thumbnail_images': ['https://d3gm2hf49xd6jj.cloudfront.net/34f6a3e4-9210-44e6-992c-22143c6823bd/S1A_IW_20211207T123857_DVP_RTC30_G_gpuned_491F_thumb.png', 'https://d3gm2hf49xd6jj.cloudfront.net/34f6a3e4-9210-44e6-992c-22143c6823bd/S1A_IW_20211207T123857_DVP_RTC30_G_gpuned_491F_rgb_thumb.png'], 'expiration_time': '2024-05-09T00:00:00+00:00', 'processing_times': [1119.955], 'credit_cost': 5}), Job.from_dict({'job_id': '944ba8fc-2ad6-4230-a927-bd0c06800261', 'job_type': 'RTC_GAMMA', 'request_time': '2024-04-24T22:51:58+00:00', 'status_code': 'SUCCEEDED', 'user_id': 'jknicely_alaska.edu', 'name': 'Nepal', 'job_parameters': {'dem_matching': False, 'dem_name': 'copernicus', 'granules': ['S1A_IW_SLC__1SDV_20220301T123854_20220301T123921_042128_0504F3_63E9'], 'include_dem': True, 'include_inc_map': False, 'include_rgb': False, 'include_scattering_area': False, 'radiometry': 'gamma0', 'resolution': 30, 'scale': 'power', 'speckle_filter': False}, 'files': [{'filename': 'S1A_IW_20220301T123854_DVP_RTC30_G_gpuned_E00D.zip', 's3': {'bucket': 'hyp3-edc-prod-contentbucket-1fv14ed36ifj6', 'key': '944ba8fc-2ad6-4230-a927-bd0c06800261/S1A_IW_20220301T123854_DVP_RTC30_G_gpuned_E00D.zip'}, 'size': 547103154, 'url': 'https://d3gm2hf49xd6jj.cloudfront.net/944ba8fc-2ad6-4230-a927-bd0c06800261/S1A_IW_20220301T123854_DVP_RTC30_G_gpuned_E00D.zip'}], 'logs': [], 'browse_images': ['https://d3gm2hf49xd6jj.cloudfront.net/944ba8fc-2ad6-4230-a927-bd0c06800261/S1A_IW_20220301T123854_DVP_RTC30_G_gpuned_E00D.png', 'https://d3gm2hf49xd6jj.cloudfront.net/944ba8fc-2ad6-4230-a927-bd0c06800261/S1A_IW_20220301T123854_DVP_RTC30_G_gpuned_E00D_rgb.png'], 'thumbnail_images': ['https://d3gm2hf49xd6jj.cloudfront.net/944ba8fc-2ad6-4230-a927-bd0c06800261/S1A_IW_20220301T123854_DVP_RTC30_G_gpuned_E00D_thumb.png', 'https://d3gm2hf49xd6jj.cloudfront.net/944ba8fc-2ad6-4230-a927-bd0c06800261/S1A_IW_20220301T123854_DVP_RTC30_G_gpuned_E00D_rgb_thumb.png'], 'expiration_time': '2024-05-09T00:00:00+00:00', 'processing_times': [1125.063], 'credit_cost': 5}), Job.from_dict({'job_id': 'aac8989c-be4d-4961-8036-8bdd46598ac1', 'job_type': 'RTC_GAMMA', 'request_time': '2024-04-24T22:51:58+00:00', 'status_code': 'SUCCEEDED', 'user_id': 'jknicely_alaska.edu', 'name': 'Nepal', 'job_parameters': {'dem_matching': False, 'dem_name': 'copernicus', 'granules': ['S1A_IW_SLC__1SDV_20220406T123854_20220406T123921_042653_0516C5_0758'], 'include_dem': True, 'include_inc_map': False, 'include_rgb': False, 'include_scattering_area': False, 'radiometry': 'gamma0', 'resolution': 30, 'scale': 'power', 'speckle_filter': False}, 'files': [{'filename': 'S1A_IW_20220406T123854_DVP_RTC30_G_gpuned_FACA.zip', 's3': {'bucket': 'hyp3-edc-prod-contentbucket-1fv14ed36ifj6', 'key': 'aac8989c-be4d-4961-8036-8bdd46598ac1/S1A_IW_20220406T123854_DVP_RTC30_G_gpuned_FACA.zip'}, 'size': 547613130, 'url': 'https://d3gm2hf49xd6jj.cloudfront.net/aac8989c-be4d-4961-8036-8bdd46598ac1/S1A_IW_20220406T123854_DVP_RTC30_G_gpuned_FACA.zip'}], 'logs': [], 'browse_images': ['https://d3gm2hf49xd6jj.cloudfront.net/aac8989c-be4d-4961-8036-8bdd46598ac1/S1A_IW_20220406T123854_DVP_RTC30_G_gpuned_FACA.png', 'https://d3gm2hf49xd6jj.cloudfront.net/aac8989c-be4d-4961-8036-8bdd46598ac1/S1A_IW_20220406T123854_DVP_RTC30_G_gpuned_FACA_rgb.png'], 'thumbnail_images': ['https://d3gm2hf49xd6jj.cloudfront.net/aac8989c-be4d-4961-8036-8bdd46598ac1/S1A_IW_20220406T123854_DVP_RTC30_G_gpuned_FACA_thumb.png', 'https://d3gm2hf49xd6jj.cloudfront.net/aac8989c-be4d-4961-8036-8bdd46598ac1/S1A_IW_20220406T123854_DVP_RTC30_G_gpuned_FACA_rgb_thumb.png'], 'expiration_time': '2024-05-09T00:00:00+00:00', 'processing_times': [1117.175], 'credit_cost': 5}), Job.from_dict({'job_id': 'f155d1bd-1572-4bf3-af9a-817e581290f3', 'job_type': 'RTC_GAMMA', 'request_time': '2024-04-24T22:51:58+00:00', 'status_code': 'SUCCEEDED', 'user_id': 'jknicely_alaska.edu', 'name': 'Nepal', 'job_parameters': {'dem_matching': False, 'dem_name': 'copernicus', 'granules': ['S1A_IW_SLC__1SDV_20211113T123858_20211113T123924_040553_04CF43_DC3B'], 'include_dem': True, 'include_inc_map': False, 'include_rgb': False, 'include_scattering_area': False, 'radiometry': 'gamma0', 'resolution': 30, 'scale': 'power', 'speckle_filter': False}, 'files': [{'filename': 'S1A_IW_20211113T123858_DVP_RTC30_G_gpuned_E2F3.zip', 's3': {'bucket': 'hyp3-edc-prod-contentbucket-1fv14ed36ifj6', 'key': 'f155d1bd-1572-4bf3-af9a-817e581290f3/S1A_IW_20211113T123858_DVP_RTC30_G_gpuned_E2F3.zip'}, 'size': 546305097, 'url': 'https://d3gm2hf49xd6jj.cloudfront.net/f155d1bd-1572-4bf3-af9a-817e581290f3/S1A_IW_20211113T123858_DVP_RTC30_G_gpuned_E2F3.zip'}], 'logs': [], 'browse_images': ['https://d3gm2hf49xd6jj.cloudfront.net/f155d1bd-1572-4bf3-af9a-817e581290f3/S1A_IW_20211113T123858_DVP_RTC30_G_gpuned_E2F3.png', 'https://d3gm2hf49xd6jj.cloudfront.net/f155d1bd-1572-4bf3-af9a-817e581290f3/S1A_IW_20211113T123858_DVP_RTC30_G_gpuned_E2F3_rgb.png'], 'thumbnail_images': ['https://d3gm2hf49xd6jj.cloudfront.net/f155d1bd-1572-4bf3-af9a-817e581290f3/S1A_IW_20211113T123858_DVP_RTC30_G_gpuned_E2F3_thumb.png', 'https://d3gm2hf49xd6jj.cloudfront.net/f155d1bd-1572-4bf3-af9a-817e581290f3/S1A_IW_20211113T123858_DVP_RTC30_G_gpuned_E2F3_rgb_thumb.png'], 'expiration_time': '2024-05-09T00:00:00+00:00', 'processing_times': [1130.166], 'credit_cost': 5}), Job.from_dict({'job_id': '97901fcf-9b68-4c7d-bd2c-da45f1ca5427', 'job_type': 'RTC_GAMMA', 'request_time': '2024-04-24T22:51:58+00:00', 'status_code': 'SUCCEEDED', 'user_id': 'jknicely_alaska.edu', 'name': 'Nepal', 'job_parameters': {'dem_matching': False, 'dem_name': 'copernicus', 'granules': ['S1A_IW_SLC__1SDV_20220205T123854_20220205T123921_041778_04F8D7_24DA'], 'include_dem': True, 'include_inc_map': False, 'include_rgb': False, 'include_scattering_area': False, 'radiometry': 'gamma0', 'resolution': 30, 'scale': 'power', 'speckle_filter': False}, 'files': [{'filename': 'S1A_IW_20220205T123854_DVP_RTC30_G_gpuned_BA3E.zip', 's3': {'bucket': 'hyp3-edc-prod-contentbucket-1fv14ed36ifj6', 'key': '97901fcf-9b68-4c7d-bd2c-da45f1ca5427/S1A_IW_20220205T123854_DVP_RTC30_G_gpuned_BA3E.zip'}, 'size': 545522922, 'url': 'https://d3gm2hf49xd6jj.cloudfront.net/97901fcf-9b68-4c7d-bd2c-da45f1ca5427/S1A_IW_20220205T123854_DVP_RTC30_G_gpuned_BA3E.zip'}], 'logs': [], 'browse_images': ['https://d3gm2hf49xd6jj.cloudfront.net/97901fcf-9b68-4c7d-bd2c-da45f1ca5427/S1A_IW_20220205T123854_DVP_RTC30_G_gpuned_BA3E.png', 'https://d3gm2hf49xd6jj.cloudfront.net/97901fcf-9b68-4c7d-bd2c-da45f1ca5427/S1A_IW_20220205T123854_DVP_RTC30_G_gpuned_BA3E_rgb.png'], 'thumbnail_images': ['https://d3gm2hf49xd6jj.cloudfront.net/97901fcf-9b68-4c7d-bd2c-da45f1ca5427/S1A_IW_20220205T123854_DVP_RTC30_G_gpuned_BA3E_thumb.png', 'https://d3gm2hf49xd6jj.cloudfront.net/97901fcf-9b68-4c7d-bd2c-da45f1ca5427/S1A_IW_20220205T123854_DVP_RTC30_G_gpuned_BA3E_rgb_thumb.png'], 'expiration_time': '2024-05-09T00:00:00+00:00', 'processing_times': [1112.221], 'credit_cost': 5}), Job.from_dict({'job_id': '2eb292b7-fbe5-4151-854d-d56b2f63dbb0', 'job_type': 'RTC_GAMMA', 'request_time': '2024-04-24T22:51:58+00:00', 'status_code': 'SUCCEEDED', 'user_id': 'jknicely_alaska.edu', 'name': 'Nepal', 'job_parameters': {'dem_matching': False, 'dem_name': 'copernicus', 'granules': ['S1A_IW_SLC__1SDV_20220325T123854_20220325T123921_042478_0510D6_CB85'], 'include_dem': True, 'include_inc_map': False, 'include_rgb': False, 'include_scattering_area': False, 'radiometry': 'gamma0', 'resolution': 30, 'scale': 'power', 'speckle_filter': False}, 'files': [{'filename': 'S1A_IW_20220325T123854_DVP_RTC30_G_gpuned_1635.zip', 's3': {'bucket': 'hyp3-edc-prod-contentbucket-1fv14ed36ifj6', 'key': '2eb292b7-fbe5-4151-854d-d56b2f63dbb0/S1A_IW_20220325T123854_DVP_RTC30_G_gpuned_1635.zip'}, 'size': 546818643, 'url': 'https://d3gm2hf49xd6jj.cloudfront.net/2eb292b7-fbe5-4151-854d-d56b2f63dbb0/S1A_IW_20220325T123854_DVP_RTC30_G_gpuned_1635.zip'}], 'logs': [], 'browse_images': ['https://d3gm2hf49xd6jj.cloudfront.net/2eb292b7-fbe5-4151-854d-d56b2f63dbb0/S1A_IW_20220325T123854_DVP_RTC30_G_gpuned_1635.png', 'https://d3gm2hf49xd6jj.cloudfront.net/2eb292b7-fbe5-4151-854d-d56b2f63dbb0/S1A_IW_20220325T123854_DVP_RTC30_G_gpuned_1635_rgb.png'], 'thumbnail_images': ['https://d3gm2hf49xd6jj.cloudfront.net/2eb292b7-fbe5-4151-854d-d56b2f63dbb0/S1A_IW_20220325T123854_DVP_RTC30_G_gpuned_1635_thumb.png', 'https://d3gm2hf49xd6jj.cloudfront.net/2eb292b7-fbe5-4151-854d-d56b2f63dbb0/S1A_IW_20220325T123854_DVP_RTC30_G_gpuned_1635_rgb_thumb.png'], 'expiration_time': '2024-05-09T00:00:00+00:00', 'processing_times': [1124.188], 'credit_cost': 5}), Job.from_dict({'job_id': 'd9d052c1-e96d-404c-9c01-bdc71f0aa2cd', 'job_type': 'RTC_GAMMA', 'request_time': '2024-04-24T22:51:58+00:00', 'status_code': 'SUCCEEDED', 'user_id': 'jknicely_alaska.edu', 'name': 'Nepal', 'job_parameters': {'dem_matching': False, 'dem_name': 'copernicus', 'granules': ['S1A_IW_SLC__1SDV_20210914T123857_20210914T123924_039678_04B10B_A591'], 'include_dem': True, 'include_inc_map': False, 'include_rgb': False, 'include_scattering_area': False, 'radiometry': 'gamma0', 'resolution': 30, 'scale': 'power', 'speckle_filter': False}, 'files': [{'filename': 'S1A_IW_20210914T123857_DVP_RTC30_G_gpuned_5A25.zip', 's3': {'bucket': 'hyp3-edc-prod-contentbucket-1fv14ed36ifj6', 'key': 'd9d052c1-e96d-404c-9c01-bdc71f0aa2cd/S1A_IW_20210914T123857_DVP_RTC30_G_gpuned_5A25.zip'}, 'size': 542580249, 'url': 'https://d3gm2hf49xd6jj.cloudfront.net/d9d052c1-e96d-404c-9c01-bdc71f0aa2cd/S1A_IW_20210914T123857_DVP_RTC30_G_gpuned_5A25.zip'}], 'logs': [], 'browse_images': ['https://d3gm2hf49xd6jj.cloudfront.net/d9d052c1-e96d-404c-9c01-bdc71f0aa2cd/S1A_IW_20210914T123857_DVP_RTC30_G_gpuned_5A25.png', 'https://d3gm2hf49xd6jj.cloudfront.net/d9d052c1-e96d-404c-9c01-bdc71f0aa2cd/S1A_IW_20210914T123857_DVP_RTC30_G_gpuned_5A25_rgb.png'], 'thumbnail_images': ['https://d3gm2hf49xd6jj.cloudfront.net/d9d052c1-e96d-404c-9c01-bdc71f0aa2cd/S1A_IW_20210914T123857_DVP_RTC30_G_gpuned_5A25_thumb.png', 'https://d3gm2hf49xd6jj.cloudfront.net/d9d052c1-e96d-404c-9c01-bdc71f0aa2cd/S1A_IW_20210914T123857_DVP_RTC30_G_gpuned_5A25_rgb_thumb.png'], 'expiration_time': '2024-05-09T00:00:00+00:00', 'processing_times': [1126.684], 'credit_cost': 5}), Job.from_dict({'job_id': 'b9f0b374-4769-485a-929b-b019d79cbb8c', 'job_type': 'RTC_GAMMA', 'request_time': '2024-04-24T22:51:58+00:00', 'status_code': 'SUCCEEDED', 'user_id': 'jknicely_alaska.edu', 'name': 'Nepal', 'job_parameters': {'dem_matching': False, 'dem_name': 'copernicus', 'granules': ['S1A_IW_SLC__1SDV_20211008T123858_20211008T123925_040028_04BCFF_565E'], 'include_dem': True, 'include_inc_map': False, 'include_rgb': False, 'include_scattering_area': False, 'radiometry': 'gamma0', 'resolution': 30, 'scale': 'power', 'speckle_filter': False}, 'files': [{'filename': 'S1A_IW_20211008T123858_DVP_RTC30_G_gpuned_0871.zip', 's3': {'bucket': 'hyp3-edc-prod-contentbucket-1fv14ed36ifj6', 'key': 'b9f0b374-4769-485a-929b-b019d79cbb8c/S1A_IW_20211008T123858_DVP_RTC30_G_gpuned_0871.zip'}, 'size': 543658142, 'url': 'https://d3gm2hf49xd6jj.cloudfront.net/b9f0b374-4769-485a-929b-b019d79cbb8c/S1A_IW_20211008T123858_DVP_RTC30_G_gpuned_0871.zip'}], 'logs': [], 'browse_images': ['https://d3gm2hf49xd6jj.cloudfront.net/b9f0b374-4769-485a-929b-b019d79cbb8c/S1A_IW_20211008T123858_DVP_RTC30_G_gpuned_0871.png', 'https://d3gm2hf49xd6jj.cloudfront.net/b9f0b374-4769-485a-929b-b019d79cbb8c/S1A_IW_20211008T123858_DVP_RTC30_G_gpuned_0871_rgb.png'], 'thumbnail_images': ['https://d3gm2hf49xd6jj.cloudfront.net/b9f0b374-4769-485a-929b-b019d79cbb8c/S1A_IW_20211008T123858_DVP_RTC30_G_gpuned_0871_thumb.png', 'https://d3gm2hf49xd6jj.cloudfront.net/b9f0b374-4769-485a-929b-b019d79cbb8c/S1A_IW_20211008T123858_DVP_RTC30_G_gpuned_0871_rgb_thumb.png'], 'expiration_time': '2024-05-09T00:00:00+00:00', 'processing_times': [1107.579], 'credit_cost': 5}), Job.from_dict({'job_id': '3bf995d0-d3b6-4a7d-ba11-638a7161823b', 'job_type': 'RTC_GAMMA', 'request_time': '2024-04-24T22:51:58+00:00', 'status_code': 'SUCCEEDED', 'user_id': 'jknicely_alaska.edu', 'name': 'Nepal', 'job_parameters': {'dem_matching': False, 'dem_name': 'copernicus', 'granules': ['S1A_IW_SLC__1SDV_20211231T123855_20211231T123922_041253_04E71A_F659'], 'include_dem': True, 'include_inc_map': False, 'include_rgb': False, 'include_scattering_area': False, 'radiometry': 'gamma0', 'resolution': 30, 'scale': 'power', 'speckle_filter': False}, 'files': [{'filename': 'S1A_IW_20211231T123855_DVP_RTC30_G_gpuned_E135.zip', 's3': {'bucket': 'hyp3-edc-prod-contentbucket-1fv14ed36ifj6', 'key': '3bf995d0-d3b6-4a7d-ba11-638a7161823b/S1A_IW_20211231T123855_DVP_RTC30_G_gpuned_E135.zip'}, 'size': 537944084, 'url': 'https://d3gm2hf49xd6jj.cloudfront.net/3bf995d0-d3b6-4a7d-ba11-638a7161823b/S1A_IW_20211231T123855_DVP_RTC30_G_gpuned_E135.zip'}], 'logs': [], 'browse_images': ['https://d3gm2hf49xd6jj.cloudfront.net/3bf995d0-d3b6-4a7d-ba11-638a7161823b/S1A_IW_20211231T123855_DVP_RTC30_G_gpuned_E135.png', 'https://d3gm2hf49xd6jj.cloudfront.net/3bf995d0-d3b6-4a7d-ba11-638a7161823b/S1A_IW_20211231T123855_DVP_RTC30_G_gpuned_E135_rgb.png'], 'thumbnail_images': ['https://d3gm2hf49xd6jj.cloudfront.net/3bf995d0-d3b6-4a7d-ba11-638a7161823b/S1A_IW_20211231T123855_DVP_RTC30_G_gpuned_E135_thumb.png', 'https://d3gm2hf49xd6jj.cloudfront.net/3bf995d0-d3b6-4a7d-ba11-638a7161823b/S1A_IW_20211231T123855_DVP_RTC30_G_gpuned_E135_rgb_thumb.png'], 'expiration_time': '2024-05-09T00:00:00+00:00', 'processing_times': [1137.771], 'credit_cost': 5}), Job.from_dict({'job_id': '24291b99-93d1-4782-ba01-37a82bd43498', 'job_type': 'RTC_GAMMA', 'request_time': '2024-04-24T22:51:58+00:00', 'status_code': 'SUCCEEDED', 'user_id': 'jknicely_alaska.edu', 'name': 'Nepal', 'job_parameters': {'dem_matching': False, 'dem_name': 'copernicus', 'granules': ['S1A_IW_SLC__1SDV_20220112T123855_20220112T123922_041428_04ED0F_BC08'], 'include_dem': True, 'include_inc_map': False, 'include_rgb': False, 'include_scattering_area': False, 'radiometry': 'gamma0', 'resolution': 30, 'scale': 'power', 'speckle_filter': False}, 'files': [{'filename': 'S1A_IW_20220112T123855_DVP_RTC30_G_gpuned_CB6A.zip', 's3': {'bucket': 'hyp3-edc-prod-contentbucket-1fv14ed36ifj6', 'key': '24291b99-93d1-4782-ba01-37a82bd43498/S1A_IW_20220112T123855_DVP_RTC30_G_gpuned_CB6A.zip'}, 'size': 545915329, 'url': 'https://d3gm2hf49xd6jj.cloudfront.net/24291b99-93d1-4782-ba01-37a82bd43498/S1A_IW_20220112T123855_DVP_RTC30_G_gpuned_CB6A.zip'}], 'logs': [], 'browse_images': ['https://d3gm2hf49xd6jj.cloudfront.net/24291b99-93d1-4782-ba01-37a82bd43498/S1A_IW_20220112T123855_DVP_RTC30_G_gpuned_CB6A.png', 'https://d3gm2hf49xd6jj.cloudfront.net/24291b99-93d1-4782-ba01-37a82bd43498/S1A_IW_20220112T123855_DVP_RTC30_G_gpuned_CB6A_rgb.png'], 'thumbnail_images': ['https://d3gm2hf49xd6jj.cloudfront.net/24291b99-93d1-4782-ba01-37a82bd43498/S1A_IW_20220112T123855_DVP_RTC30_G_gpuned_CB6A_thumb.png', 'https://d3gm2hf49xd6jj.cloudfront.net/24291b99-93d1-4782-ba01-37a82bd43498/S1A_IW_20220112T123855_DVP_RTC30_G_gpuned_CB6A_rgb_thumb.png'], 'expiration_time': '2024-05-09T00:00:00+00:00', 'processing_times': [1123.683], 'credit_cost': 5}), Job.from_dict({'job_id': 'fdcf94af-c6aa-4bbd-bc8f-6d4a65678823', 'job_type': 'RTC_GAMMA', 'request_time': '2024-04-24T22:51:58+00:00', 'status_code': 'SUCCEEDED', 'user_id': 'jknicely_alaska.edu', 'name': 'Nepal', 'job_parameters': {'dem_matching': False, 'dem_name': 'copernicus', 'granules': ['S1A_IW_SLC__1SDV_20211219T123856_20211219T123923_041078_04E150_176C'], 'include_dem': True, 'include_inc_map': False, 'include_rgb': False, 'include_scattering_area': False, 'radiometry': 'gamma0', 'resolution': 30, 'scale': 'power', 'speckle_filter': False}, 'files': [{'filename': 'S1A_IW_20211219T123856_DVP_RTC30_G_gpuned_D8B0.zip', 's3': {'bucket': 'hyp3-edc-prod-contentbucket-1fv14ed36ifj6', 'key': 'fdcf94af-c6aa-4bbd-bc8f-6d4a65678823/S1A_IW_20211219T123856_DVP_RTC30_G_gpuned_D8B0.zip'}, 'size': 546965485, 'url': 'https://d3gm2hf49xd6jj.cloudfront.net/fdcf94af-c6aa-4bbd-bc8f-6d4a65678823/S1A_IW_20211219T123856_DVP_RTC30_G_gpuned_D8B0.zip'}], 'logs': [], 'browse_images': ['https://d3gm2hf49xd6jj.cloudfront.net/fdcf94af-c6aa-4bbd-bc8f-6d4a65678823/S1A_IW_20211219T123856_DVP_RTC30_G_gpuned_D8B0.png', 'https://d3gm2hf49xd6jj.cloudfront.net/fdcf94af-c6aa-4bbd-bc8f-6d4a65678823/S1A_IW_20211219T123856_DVP_RTC30_G_gpuned_D8B0_rgb.png'], 'thumbnail_images': ['https://d3gm2hf49xd6jj.cloudfront.net/fdcf94af-c6aa-4bbd-bc8f-6d4a65678823/S1A_IW_20211219T123856_DVP_RTC30_G_gpuned_D8B0_thumb.png', 'https://d3gm2hf49xd6jj.cloudfront.net/fdcf94af-c6aa-4bbd-bc8f-6d4a65678823/S1A_IW_20211219T123856_DVP_RTC30_G_gpuned_D8B0_rgb_thumb.png'], 'expiration_time': '2024-05-09T00:00:00+00:00', 'processing_times': [1114.021], 'credit_cost': 5}), Job.from_dict({'job_id': '61279ff3-5e1f-4d71-b85d-40c025e4ad87', 'job_type': 'RTC_GAMMA', 'request_time': '2024-04-24T22:51:58+00:00', 'status_code': 'SUCCEEDED', 'user_id': 'jknicely_alaska.edu', 'name': 'Nepal', 'job_parameters': {'dem_matching': False, 'dem_name': 'copernicus', 'granules': ['S1A_IW_SLC__1SDV_20211125T123857_20211125T123924_040728_04D54C_8640'], 'include_dem': True, 'include_inc_map': False, 'include_rgb': False, 'include_scattering_area': False, 'radiometry': 'gamma0', 'resolution': 30, 'scale': 'power', 'speckle_filter': False}, 'files': [{'filename': 'S1A_IW_20211125T123857_DVP_RTC30_G_gpuned_AA42.zip', 's3': {'bucket': 'hyp3-edc-prod-contentbucket-1fv14ed36ifj6', 'key': '61279ff3-5e1f-4d71-b85d-40c025e4ad87/S1A_IW_20211125T123857_DVP_RTC30_G_gpuned_AA42.zip'}, 'size': 547159416, 'url': 'https://d3gm2hf49xd6jj.cloudfront.net/61279ff3-5e1f-4d71-b85d-40c025e4ad87/S1A_IW_20211125T123857_DVP_RTC30_G_gpuned_AA42.zip'}], 'logs': [], 'browse_images': ['https://d3gm2hf49xd6jj.cloudfront.net/61279ff3-5e1f-4d71-b85d-40c025e4ad87/S1A_IW_20211125T123857_DVP_RTC30_G_gpuned_AA42.png', 'https://d3gm2hf49xd6jj.cloudfront.net/61279ff3-5e1f-4d71-b85d-40c025e4ad87/S1A_IW_20211125T123857_DVP_RTC30_G_gpuned_AA42_rgb.png'], 'thumbnail_images': ['https://d3gm2hf49xd6jj.cloudfront.net/61279ff3-5e1f-4d71-b85d-40c025e4ad87/S1A_IW_20211125T123857_DVP_RTC30_G_gpuned_AA42_thumb.png', 'https://d3gm2hf49xd6jj.cloudfront.net/61279ff3-5e1f-4d71-b85d-40c025e4ad87/S1A_IW_20211125T123857_DVP_RTC30_G_gpuned_AA42_rgb_thumb.png'], 'expiration_time': '2024-05-09T00:00:00+00:00', 'processing_times': [1120.09], 'credit_cost': 5}), Job.from_dict({'job_id': 'e4cf72eb-2710-472f-8def-29efa9886ffe', 'job_type': 'RTC_GAMMA', 'request_time': '2024-04-24T22:51:58+00:00', 'status_code': 'SUCCEEDED', 'user_id': 'jknicely_alaska.edu', 'name': 'Nepal', 'job_parameters': {'dem_matching': False, 'dem_name': 'copernicus', 'granules': ['S1A_IW_SLC__1SDV_20210926T123858_20210926T123925_039853_04B6ED_B2F7'], 'include_dem': True, 'include_inc_map': False, 'include_rgb': False, 'include_scattering_area': False, 'radiometry': 'gamma0', 'resolution': 30, 'scale': 'power', 'speckle_filter': False}, 'files': [{'filename': 'S1A_IW_20210926T123858_DVP_RTC30_G_gpuned_1120.zip', 's3': {'bucket': 'hyp3-edc-prod-contentbucket-1fv14ed36ifj6', 'key': 'e4cf72eb-2710-472f-8def-29efa9886ffe/S1A_IW_20210926T123858_DVP_RTC30_G_gpuned_1120.zip'}, 'size': 542863625, 'url': 'https://d3gm2hf49xd6jj.cloudfront.net/e4cf72eb-2710-472f-8def-29efa9886ffe/S1A_IW_20210926T123858_DVP_RTC30_G_gpuned_1120.zip'}], 'logs': [], 'browse_images': ['https://d3gm2hf49xd6jj.cloudfront.net/e4cf72eb-2710-472f-8def-29efa9886ffe/S1A_IW_20210926T123858_DVP_RTC30_G_gpuned_1120.png', 'https://d3gm2hf49xd6jj.cloudfront.net/e4cf72eb-2710-472f-8def-29efa9886ffe/S1A_IW_20210926T123858_DVP_RTC30_G_gpuned_1120_rgb.png'], 'thumbnail_images': ['https://d3gm2hf49xd6jj.cloudfront.net/e4cf72eb-2710-472f-8def-29efa9886ffe/S1A_IW_20210926T123858_DVP_RTC30_G_gpuned_1120_thumb.png', 'https://d3gm2hf49xd6jj.cloudfront.net/e4cf72eb-2710-472f-8def-29efa9886ffe/S1A_IW_20210926T123858_DVP_RTC30_G_gpuned_1120_rgb_thumb.png'], 'expiration_time': '2024-05-09T00:00:00+00:00', 'processing_times': [1116.711], 'credit_cost': 5}), Job.from_dict({'job_id': '7d7ddfef-df84-4fc7-ab0d-0892e893588b', 'job_type': 'RTC_GAMMA', 'request_time': '2024-04-24T22:51:58+00:00', 'status_code': 'SUCCEEDED', 'user_id': 'jknicely_alaska.edu', 'name': 'Nepal', 'job_parameters': {'dem_matching': False, 'dem_name': 'copernicus', 'granules': ['S1A_IW_SLC__1SDV_20220217T123854_20220217T123921_041953_04FEF1_44A3'], 'include_dem': True, 'include_inc_map': False, 'include_rgb': False, 'include_scattering_area': False, 'radiometry': 'gamma0', 'resolution': 30, 'scale': 'power', 'speckle_filter': False}, 'files': [{'filename': 'S1A_IW_20220217T123854_DVP_RTC30_G_gpuned_8BD8.zip', 's3': {'bucket': 'hyp3-edc-prod-contentbucket-1fv14ed36ifj6', 'key': '7d7ddfef-df84-4fc7-ab0d-0892e893588b/S1A_IW_20220217T123854_DVP_RTC30_G_gpuned_8BD8.zip'}, 'size': 546524669, 'url': 'https://d3gm2hf49xd6jj.cloudfront.net/7d7ddfef-df84-4fc7-ab0d-0892e893588b/S1A_IW_20220217T123854_DVP_RTC30_G_gpuned_8BD8.zip'}], 'logs': [], 'browse_images': ['https://d3gm2hf49xd6jj.cloudfront.net/7d7ddfef-df84-4fc7-ab0d-0892e893588b/S1A_IW_20220217T123854_DVP_RTC30_G_gpuned_8BD8.png', 'https://d3gm2hf49xd6jj.cloudfront.net/7d7ddfef-df84-4fc7-ab0d-0892e893588b/S1A_IW_20220217T123854_DVP_RTC30_G_gpuned_8BD8_rgb.png'], 'thumbnail_images': ['https://d3gm2hf49xd6jj.cloudfront.net/7d7ddfef-df84-4fc7-ab0d-0892e893588b/S1A_IW_20220217T123854_DVP_RTC30_G_gpuned_8BD8_thumb.png', 'https://d3gm2hf49xd6jj.cloudfront.net/7d7ddfef-df84-4fc7-ab0d-0892e893588b/S1A_IW_20220217T123854_DVP_RTC30_G_gpuned_8BD8_rgb_thumb.png'], 'expiration_time': '2024-05-09T00:00:00+00:00', 'processing_times': [1119.806], 'credit_cost': 5}), Job.from_dict({'job_id': 'e3344cf3-ab9f-408f-b413-a4e3a0f6288a', 'job_type': 'RTC_GAMMA', 'request_time': '2024-04-24T22:51:58+00:00', 'status_code': 'SUCCEEDED', 'user_id': 'jknicely_alaska.edu', 'name': 'Nepal', 'job_parameters': {'dem_matching': False, 'dem_name': 'copernicus', 'granules': ['S1A_IW_SLC__1SDV_20220124T123854_20220124T123921_041603_04F2D9_15C5'], 'include_dem': True, 'include_inc_map': False, 'include_rgb': False, 'include_scattering_area': False, 'radiometry': 'gamma0', 'resolution': 30, 'scale': 'power', 'speckle_filter': False}, 'files': [{'filename': 'S1A_IW_20220124T123854_DVP_RTC30_G_gpuned_708F.zip', 's3': {'bucket': 'hyp3-edc-prod-contentbucket-1fv14ed36ifj6', 'key': 'e3344cf3-ab9f-408f-b413-a4e3a0f6288a/S1A_IW_20220124T123854_DVP_RTC30_G_gpuned_708F.zip'}, 'size': 544799086, 'url': 'https://d3gm2hf49xd6jj.cloudfront.net/e3344cf3-ab9f-408f-b413-a4e3a0f6288a/S1A_IW_20220124T123854_DVP_RTC30_G_gpuned_708F.zip'}], 'logs': [], 'browse_images': ['https://d3gm2hf49xd6jj.cloudfront.net/e3344cf3-ab9f-408f-b413-a4e3a0f6288a/S1A_IW_20220124T123854_DVP_RTC30_G_gpuned_708F.png', 'https://d3gm2hf49xd6jj.cloudfront.net/e3344cf3-ab9f-408f-b413-a4e3a0f6288a/S1A_IW_20220124T123854_DVP_RTC30_G_gpuned_708F_rgb.png'], 'thumbnail_images': ['https://d3gm2hf49xd6jj.cloudfront.net/e3344cf3-ab9f-408f-b413-a4e3a0f6288a/S1A_IW_20220124T123854_DVP_RTC30_G_gpuned_708F_thumb.png', 'https://d3gm2hf49xd6jj.cloudfront.net/e3344cf3-ab9f-408f-b413-a4e3a0f6288a/S1A_IW_20220124T123854_DVP_RTC30_G_gpuned_708F_rgb_thumb.png'], 'expiration_time': '2024-05-09T00:00:00+00:00', 'processing_times': [1122.043], 'credit_cost': 5}), Job.from_dict({'job_id': '4f4b0d3f-3b09-403e-8f84-694e5b211a16', 'job_type': 'RTC_GAMMA', 'request_time': '2024-04-24T22:51:58+00:00', 'status_code': 'SUCCEEDED', 'user_id': 'jknicely_alaska.edu', 'name': 'Nepal', 'job_parameters': {'dem_matching': False, 'dem_name': 'copernicus', 'granules': ['S1A_IW_SLC__1SDV_20211020T123858_20211020T123925_040203_04C31A_D05B'], 'include_dem': True, 'include_inc_map': False, 'include_rgb': False, 'include_scattering_area': False, 'radiometry': 'gamma0', 'resolution': 30, 'scale': 'power', 'speckle_filter': False}, 'files': [{'filename': 'S1A_IW_20211020T123858_DVP_RTC30_G_gpuned_3B55.zip', 's3': {'bucket': 'hyp3-edc-prod-contentbucket-1fv14ed36ifj6', 'key': '4f4b0d3f-3b09-403e-8f84-694e5b211a16/S1A_IW_20211020T123858_DVP_RTC30_G_gpuned_3B55.zip'}, 'size': 542141656, 'url': 'https://d3gm2hf49xd6jj.cloudfront.net/4f4b0d3f-3b09-403e-8f84-694e5b211a16/S1A_IW_20211020T123858_DVP_RTC30_G_gpuned_3B55.zip'}], 'logs': [], 'browse_images': ['https://d3gm2hf49xd6jj.cloudfront.net/4f4b0d3f-3b09-403e-8f84-694e5b211a16/S1A_IW_20211020T123858_DVP_RTC30_G_gpuned_3B55.png', 'https://d3gm2hf49xd6jj.cloudfront.net/4f4b0d3f-3b09-403e-8f84-694e5b211a16/S1A_IW_20211020T123858_DVP_RTC30_G_gpuned_3B55_rgb.png'], 'thumbnail_images': ['https://d3gm2hf49xd6jj.cloudfront.net/4f4b0d3f-3b09-403e-8f84-694e5b211a16/S1A_IW_20211020T123858_DVP_RTC30_G_gpuned_3B55_thumb.png', 'https://d3gm2hf49xd6jj.cloudfront.net/4f4b0d3f-3b09-403e-8f84-694e5b211a16/S1A_IW_20211020T123858_DVP_RTC30_G_gpuned_3B55_rgb_thumb.png'], 'expiration_time': '2024-05-09T00:00:00+00:00', 'processing_times': [1143.224], 'credit_cost': 5}), Job.from_dict({'job_id': '81bd9801-e88c-4c08-b2b7-560b68191b9c', 'job_type': 'RTC_GAMMA', 'request_time': '2024-04-24T22:51:57+00:00', 'status_code': 'SUCCEEDED', 'user_id': 'jknicely_alaska.edu', 'name': 'Nepal', 'job_parameters': {'dem_matching': False, 'dem_name': 'copernicus', 'granules': ['S1A_IW_SLC__1SDV_20220711T123900_20220711T123927_044053_054223_1244'], 'include_dem': True, 'include_inc_map': False, 'include_rgb': False, 'include_scattering_area': False, 'radiometry': 'gamma0', 'resolution': 30, 'scale': 'power', 'speckle_filter': False}, 'files': [{'filename': 'S1A_IW_20220711T123900_DVP_RTC30_G_gpuned_5010.zip', 's3': {'bucket': 'hyp3-edc-prod-contentbucket-1fv14ed36ifj6', 'key': '81bd9801-e88c-4c08-b2b7-560b68191b9c/S1A_IW_20220711T123900_DVP_RTC30_G_gpuned_5010.zip'}, 'size': 544833999, 'url': 'https://d3gm2hf49xd6jj.cloudfront.net/81bd9801-e88c-4c08-b2b7-560b68191b9c/S1A_IW_20220711T123900_DVP_RTC30_G_gpuned_5010.zip'}], 'logs': [], 'browse_images': ['https://d3gm2hf49xd6jj.cloudfront.net/81bd9801-e88c-4c08-b2b7-560b68191b9c/S1A_IW_20220711T123900_DVP_RTC30_G_gpuned_5010.png', 'https://d3gm2hf49xd6jj.cloudfront.net/81bd9801-e88c-4c08-b2b7-560b68191b9c/S1A_IW_20220711T123900_DVP_RTC30_G_gpuned_5010_rgb.png'], 'thumbnail_images': ['https://d3gm2hf49xd6jj.cloudfront.net/81bd9801-e88c-4c08-b2b7-560b68191b9c/S1A_IW_20220711T123900_DVP_RTC30_G_gpuned_5010_thumb.png', 'https://d3gm2hf49xd6jj.cloudfront.net/81bd9801-e88c-4c08-b2b7-560b68191b9c/S1A_IW_20220711T123900_DVP_RTC30_G_gpuned_5010_rgb_thumb.png'], 'expiration_time': '2024-05-09T00:00:00+00:00', 'processing_times': [1114.79], 'credit_cost': 5}), Job.from_dict({'job_id': '1f865697-e5b2-4dfa-b865-aa9f4b590e77', 'job_type': 'RTC_GAMMA', 'request_time': '2024-04-24T22:51:57+00:00', 'status_code': 'SUCCEEDED', 'user_id': 'jknicely_alaska.edu', 'name': 'Nepal', 'job_parameters': {'dem_matching': False, 'dem_name': 'copernicus', 'granules': ['S1A_IW_SLC__1SDV_20220418T123855_20220418T123922_042828_051CA3_B0F4'], 'include_dem': True, 'include_inc_map': False, 'include_rgb': False, 'include_scattering_area': False, 'radiometry': 'gamma0', 'resolution': 30, 'scale': 'power', 'speckle_filter': False}, 'files': [{'filename': 'S1A_IW_20220418T123855_DVP_RTC30_G_gpuned_9B1D.zip', 's3': {'bucket': 'hyp3-edc-prod-contentbucket-1fv14ed36ifj6', 'key': '1f865697-e5b2-4dfa-b865-aa9f4b590e77/S1A_IW_20220418T123855_DVP_RTC30_G_gpuned_9B1D.zip'}, 'size': 548020458, 'url': 'https://d3gm2hf49xd6jj.cloudfront.net/1f865697-e5b2-4dfa-b865-aa9f4b590e77/S1A_IW_20220418T123855_DVP_RTC30_G_gpuned_9B1D.zip'}], 'logs': [], 'browse_images': ['https://d3gm2hf49xd6jj.cloudfront.net/1f865697-e5b2-4dfa-b865-aa9f4b590e77/S1A_IW_20220418T123855_DVP_RTC30_G_gpuned_9B1D.png', 'https://d3gm2hf49xd6jj.cloudfront.net/1f865697-e5b2-4dfa-b865-aa9f4b590e77/S1A_IW_20220418T123855_DVP_RTC30_G_gpuned_9B1D_rgb.png'], 'thumbnail_images': ['https://d3gm2hf49xd6jj.cloudfront.net/1f865697-e5b2-4dfa-b865-aa9f4b590e77/S1A_IW_20220418T123855_DVP_RTC30_G_gpuned_9B1D_thumb.png', 'https://d3gm2hf49xd6jj.cloudfront.net/1f865697-e5b2-4dfa-b865-aa9f4b590e77/S1A_IW_20220418T123855_DVP_RTC30_G_gpuned_9B1D_rgb_thumb.png'], 'expiration_time': '2024-05-09T00:00:00+00:00', 'processing_times': [1117.267], 'credit_cost': 5}), Job.from_dict({'job_id': 'd0361d10-fd3a-46d7-9d9c-86ab484deb92', 'job_type': 'RTC_GAMMA', 'request_time': '2024-04-24T22:51:57+00:00', 'status_code': 'SUCCEEDED', 'user_id': 'jknicely_alaska.edu', 'name': 'Nepal', 'job_parameters': {'dem_matching': False, 'dem_name': 'copernicus', 'granules': ['S1A_IW_SLC__1SDV_20221202T123903_20221202T123930_046153_058676_06D0'], 'include_dem': True, 'include_inc_map': False, 'include_rgb': False, 'include_scattering_area': False, 'radiometry': 'gamma0', 'resolution': 30, 'scale': 'power', 'speckle_filter': False}, 'files': [{'filename': 'S1A_IW_20221202T123903_DVP_RTC30_G_gpuned_39B0.zip', 's3': {'bucket': 'hyp3-edc-prod-contentbucket-1fv14ed36ifj6', 'key': 'd0361d10-fd3a-46d7-9d9c-86ab484deb92/S1A_IW_20221202T123903_DVP_RTC30_G_gpuned_39B0.zip'}, 'size': 547347299, 'url': 'https://d3gm2hf49xd6jj.cloudfront.net/d0361d10-fd3a-46d7-9d9c-86ab484deb92/S1A_IW_20221202T123903_DVP_RTC30_G_gpuned_39B0.zip'}], 'logs': [], 'browse_images': ['https://d3gm2hf49xd6jj.cloudfront.net/d0361d10-fd3a-46d7-9d9c-86ab484deb92/S1A_IW_20221202T123903_DVP_RTC30_G_gpuned_39B0.png', 'https://d3gm2hf49xd6jj.cloudfront.net/d0361d10-fd3a-46d7-9d9c-86ab484deb92/S1A_IW_20221202T123903_DVP_RTC30_G_gpuned_39B0_rgb.png'], 'thumbnail_images': ['https://d3gm2hf49xd6jj.cloudfront.net/d0361d10-fd3a-46d7-9d9c-86ab484deb92/S1A_IW_20221202T123903_DVP_RTC30_G_gpuned_39B0_thumb.png', 'https://d3gm2hf49xd6jj.cloudfront.net/d0361d10-fd3a-46d7-9d9c-86ab484deb92/S1A_IW_20221202T123903_DVP_RTC30_G_gpuned_39B0_rgb_thumb.png'], 'expiration_time': '2024-05-09T00:00:00+00:00', 'processing_times': [1118.144], 'credit_cost': 5}), Job.from_dict({'job_id': '9e4b6aca-784f-42d7-bf08-508388a66e9d', 'job_type': 'RTC_GAMMA', 'request_time': '2024-04-24T22:51:57+00:00', 'status_code': 'SUCCEEDED', 'user_id': 'jknicely_alaska.edu', 'name': 'Nepal', 'job_parameters': {'dem_matching': False, 'dem_name': 'copernicus', 'granules': ['S1A_IW_SLC__1SDV_20221003T123904_20221003T123931_045278_0569A4_1D93'], 'include_dem': True, 'include_inc_map': False, 'include_rgb': False, 'include_scattering_area': False, 'radiometry': 'gamma0', 'resolution': 30, 'scale': 'power', 'speckle_filter': False}, 'files': [{'filename': 'S1A_IW_20221003T123904_DVP_RTC30_G_gpuned_FA73.zip', 's3': {'bucket': 'hyp3-edc-prod-contentbucket-1fv14ed36ifj6', 'key': '9e4b6aca-784f-42d7-bf08-508388a66e9d/S1A_IW_20221003T123904_DVP_RTC30_G_gpuned_FA73.zip'}, 'size': 543890135, 'url': 'https://d3gm2hf49xd6jj.cloudfront.net/9e4b6aca-784f-42d7-bf08-508388a66e9d/S1A_IW_20221003T123904_DVP_RTC30_G_gpuned_FA73.zip'}], 'logs': [], 'browse_images': ['https://d3gm2hf49xd6jj.cloudfront.net/9e4b6aca-784f-42d7-bf08-508388a66e9d/S1A_IW_20221003T123904_DVP_RTC30_G_gpuned_FA73.png', 'https://d3gm2hf49xd6jj.cloudfront.net/9e4b6aca-784f-42d7-bf08-508388a66e9d/S1A_IW_20221003T123904_DVP_RTC30_G_gpuned_FA73_rgb.png'], 'thumbnail_images': ['https://d3gm2hf49xd6jj.cloudfront.net/9e4b6aca-784f-42d7-bf08-508388a66e9d/S1A_IW_20221003T123904_DVP_RTC30_G_gpuned_FA73_thumb.png', 'https://d3gm2hf49xd6jj.cloudfront.net/9e4b6aca-784f-42d7-bf08-508388a66e9d/S1A_IW_20221003T123904_DVP_RTC30_G_gpuned_FA73_rgb_thumb.png'], 'expiration_time': '2024-05-09T00:00:00+00:00', 'processing_times': [1125.796], 'credit_cost': 5}), Job.from_dict({'job_id': '0c628ebb-b4e3-422a-adcc-b9b7fff71ccc', 'job_type': 'RTC_GAMMA', 'request_time': '2024-04-24T22:51:57+00:00', 'status_code': 'SUCCEEDED', 'user_id': 'jknicely_alaska.edu', 'name': 'Nepal', 'job_parameters': {'dem_matching': False, 'dem_name': 'copernicus', 'granules': ['S1A_IW_SLC__1SDV_20220723T123901_20220723T123928_044228_05475C_CB58'], 'include_dem': True, 'include_inc_map': False, 'include_rgb': False, 'include_scattering_area': False, 'radiometry': 'gamma0', 'resolution': 30, 'scale': 'power', 'speckle_filter': False}, 'files': [{'filename': 'S1A_IW_20220723T123901_DVP_RTC30_G_gpuned_469C.zip', 's3': {'bucket': 'hyp3-edc-prod-contentbucket-1fv14ed36ifj6', 'key': '0c628ebb-b4e3-422a-adcc-b9b7fff71ccc/S1A_IW_20220723T123901_DVP_RTC30_G_gpuned_469C.zip'}, 'size': 543902230, 'url': 'https://d3gm2hf49xd6jj.cloudfront.net/0c628ebb-b4e3-422a-adcc-b9b7fff71ccc/S1A_IW_20220723T123901_DVP_RTC30_G_gpuned_469C.zip'}], 'logs': [], 'browse_images': ['https://d3gm2hf49xd6jj.cloudfront.net/0c628ebb-b4e3-422a-adcc-b9b7fff71ccc/S1A_IW_20220723T123901_DVP_RTC30_G_gpuned_469C.png', 'https://d3gm2hf49xd6jj.cloudfront.net/0c628ebb-b4e3-422a-adcc-b9b7fff71ccc/S1A_IW_20220723T123901_DVP_RTC30_G_gpuned_469C_rgb.png'], 'thumbnail_images': ['https://d3gm2hf49xd6jj.cloudfront.net/0c628ebb-b4e3-422a-adcc-b9b7fff71ccc/S1A_IW_20220723T123901_DVP_RTC30_G_gpuned_469C_thumb.png', 'https://d3gm2hf49xd6jj.cloudfront.net/0c628ebb-b4e3-422a-adcc-b9b7fff71ccc/S1A_IW_20220723T123901_DVP_RTC30_G_gpuned_469C_rgb_thumb.png'], 'expiration_time': '2024-05-09T00:00:00+00:00', 'processing_times': [1119.861], 'credit_cost': 5}), Job.from_dict({'job_id': 'b8faf143-2756-426b-9949-1d05da0a3c52', 'job_type': 'RTC_GAMMA', 'request_time': '2024-04-24T22:51:57+00:00', 'status_code': 'SUCCEEDED', 'user_id': 'jknicely_alaska.edu', 'name': 'Nepal', 'job_parameters': {'dem_matching': False, 'dem_name': 'copernicus', 'granules': ['S1A_IW_SLC__1SDV_20220617T123858_20220617T123925_043703_0537AF_90B9'], 'include_dem': True, 'include_inc_map': False, 'include_rgb': False, 'include_scattering_area': False, 'radiometry': 'gamma0', 'resolution': 30, 'scale': 'power', 'speckle_filter': False}, 'files': [{'filename': 'S1A_IW_20220617T123858_DVP_RTC30_G_gpuned_1A07.zip', 's3': {'bucket': 'hyp3-edc-prod-contentbucket-1fv14ed36ifj6', 'key': 'b8faf143-2756-426b-9949-1d05da0a3c52/S1A_IW_20220617T123858_DVP_RTC30_G_gpuned_1A07.zip'}, 'size': 546840578, 'url': 'https://d3gm2hf49xd6jj.cloudfront.net/b8faf143-2756-426b-9949-1d05da0a3c52/S1A_IW_20220617T123858_DVP_RTC30_G_gpuned_1A07.zip'}], 'logs': [], 'browse_images': ['https://d3gm2hf49xd6jj.cloudfront.net/b8faf143-2756-426b-9949-1d05da0a3c52/S1A_IW_20220617T123858_DVP_RTC30_G_gpuned_1A07.png', 'https://d3gm2hf49xd6jj.cloudfront.net/b8faf143-2756-426b-9949-1d05da0a3c52/S1A_IW_20220617T123858_DVP_RTC30_G_gpuned_1A07_rgb.png'], 'thumbnail_images': ['https://d3gm2hf49xd6jj.cloudfront.net/b8faf143-2756-426b-9949-1d05da0a3c52/S1A_IW_20220617T123858_DVP_RTC30_G_gpuned_1A07_thumb.png', 'https://d3gm2hf49xd6jj.cloudfront.net/b8faf143-2756-426b-9949-1d05da0a3c52/S1A_IW_20220617T123858_DVP_RTC30_G_gpuned_1A07_rgb_thumb.png'], 'expiration_time': '2024-05-09T00:00:00+00:00', 'processing_times': [1116.355], 'credit_cost': 5}), Job.from_dict({'job_id': 'a6b3d7f3-dc5f-4976-8763-3205c1c5a6e9', 'job_type': 'RTC_GAMMA', 'request_time': '2024-04-24T22:51:57+00:00', 'status_code': 'SUCCEEDED', 'user_id': 'jknicely_alaska.edu', 'name': 'Nepal', 'job_parameters': {'dem_matching': False, 'dem_name': 'copernicus', 'granules': ['S1A_IW_SLC__1SDV_20221015T123904_20221015T123931_045453_056F81_87A4'], 'include_dem': True, 'include_inc_map': False, 'include_rgb': False, 'include_scattering_area': False, 'radiometry': 'gamma0', 'resolution': 30, 'scale': 'power', 'speckle_filter': False}, 'files': [{'filename': 'S1A_IW_20221015T123904_DVP_RTC30_G_gpuned_7EDF.zip', 's3': {'bucket': 'hyp3-edc-prod-contentbucket-1fv14ed36ifj6', 'key': 'a6b3d7f3-dc5f-4976-8763-3205c1c5a6e9/S1A_IW_20221015T123904_DVP_RTC30_G_gpuned_7EDF.zip'}, 'size': 543129368, 'url': 'https://d3gm2hf49xd6jj.cloudfront.net/a6b3d7f3-dc5f-4976-8763-3205c1c5a6e9/S1A_IW_20221015T123904_DVP_RTC30_G_gpuned_7EDF.zip'}], 'logs': [], 'browse_images': ['https://d3gm2hf49xd6jj.cloudfront.net/a6b3d7f3-dc5f-4976-8763-3205c1c5a6e9/S1A_IW_20221015T123904_DVP_RTC30_G_gpuned_7EDF.png', 'https://d3gm2hf49xd6jj.cloudfront.net/a6b3d7f3-dc5f-4976-8763-3205c1c5a6e9/S1A_IW_20221015T123904_DVP_RTC30_G_gpuned_7EDF_rgb.png'], 'thumbnail_images': ['https://d3gm2hf49xd6jj.cloudfront.net/a6b3d7f3-dc5f-4976-8763-3205c1c5a6e9/S1A_IW_20221015T123904_DVP_RTC30_G_gpuned_7EDF_thumb.png', 'https://d3gm2hf49xd6jj.cloudfront.net/a6b3d7f3-dc5f-4976-8763-3205c1c5a6e9/S1A_IW_20221015T123904_DVP_RTC30_G_gpuned_7EDF_rgb_thumb.png'], 'expiration_time': '2024-05-09T00:00:00+00:00', 'processing_times': [1137.547], 'credit_cost': 5}), Job.from_dict({'job_id': '2a951db5-405e-427e-8e19-b4ba13fc66cb', 'job_type': 'RTC_GAMMA', 'request_time': '2024-04-24T22:51:57+00:00', 'status_code': 'SUCCEEDED', 'user_id': 'jknicely_alaska.edu', 'name': 'Nepal', 'job_parameters': {'dem_matching': False, 'dem_name': 'copernicus', 'granules': ['S1A_IW_SLC__1SDV_20220804T123902_20220804T123929_044403_054C82_FDF9'], 'include_dem': True, 'include_inc_map': False, 'include_rgb': False, 'include_scattering_area': False, 'radiometry': 'gamma0', 'resolution': 30, 'scale': 'power', 'speckle_filter': False}, 'files': [{'filename': 'S1A_IW_20220804T123902_DVP_RTC30_G_gpuned_B703.zip', 's3': {'bucket': 'hyp3-edc-prod-contentbucket-1fv14ed36ifj6', 'key': '2a951db5-405e-427e-8e19-b4ba13fc66cb/S1A_IW_20220804T123902_DVP_RTC30_G_gpuned_B703.zip'}, 'size': 543137688, 'url': 'https://d3gm2hf49xd6jj.cloudfront.net/2a951db5-405e-427e-8e19-b4ba13fc66cb/S1A_IW_20220804T123902_DVP_RTC30_G_gpuned_B703.zip'}], 'logs': [], 'browse_images': ['https://d3gm2hf49xd6jj.cloudfront.net/2a951db5-405e-427e-8e19-b4ba13fc66cb/S1A_IW_20220804T123902_DVP_RTC30_G_gpuned_B703.png', 'https://d3gm2hf49xd6jj.cloudfront.net/2a951db5-405e-427e-8e19-b4ba13fc66cb/S1A_IW_20220804T123902_DVP_RTC30_G_gpuned_B703_rgb.png'], 'thumbnail_images': ['https://d3gm2hf49xd6jj.cloudfront.net/2a951db5-405e-427e-8e19-b4ba13fc66cb/S1A_IW_20220804T123902_DVP_RTC30_G_gpuned_B703_thumb.png', 'https://d3gm2hf49xd6jj.cloudfront.net/2a951db5-405e-427e-8e19-b4ba13fc66cb/S1A_IW_20220804T123902_DVP_RTC30_G_gpuned_B703_rgb_thumb.png'], 'expiration_time': '2024-05-09T00:00:00+00:00', 'processing_times': [1122.698], 'credit_cost': 5}), Job.from_dict({'job_id': '527e565f-b565-4dc8-a124-4ee257f1f685', 'job_type': 'RTC_GAMMA', 'request_time': '2024-04-24T22:51:57+00:00', 'status_code': 'SUCCEEDED', 'user_id': 'jknicely_alaska.edu', 'name': 'Nepal', 'job_parameters': {'dem_matching': False, 'dem_name': 'copernicus', 'granules': ['S1A_IW_SLC__1SDV_20220921T123903_20220921T123930_045103_0563C5_1EFB'], 'include_dem': True, 'include_inc_map': False, 'include_rgb': False, 'include_scattering_area': False, 'radiometry': 'gamma0', 'resolution': 30, 'scale': 'power', 'speckle_filter': False}, 'files': [{'filename': 'S1A_IW_20220921T123903_DVP_RTC30_G_gpuned_5455.zip', 's3': {'bucket': 'hyp3-edc-prod-contentbucket-1fv14ed36ifj6', 'key': '527e565f-b565-4dc8-a124-4ee257f1f685/S1A_IW_20220921T123903_DVP_RTC30_G_gpuned_5455.zip'}, 'size': 542668853, 'url': 'https://d3gm2hf49xd6jj.cloudfront.net/527e565f-b565-4dc8-a124-4ee257f1f685/S1A_IW_20220921T123903_DVP_RTC30_G_gpuned_5455.zip'}], 'logs': [], 'browse_images': ['https://d3gm2hf49xd6jj.cloudfront.net/527e565f-b565-4dc8-a124-4ee257f1f685/S1A_IW_20220921T123903_DVP_RTC30_G_gpuned_5455.png', 'https://d3gm2hf49xd6jj.cloudfront.net/527e565f-b565-4dc8-a124-4ee257f1f685/S1A_IW_20220921T123903_DVP_RTC30_G_gpuned_5455_rgb.png'], 'thumbnail_images': ['https://d3gm2hf49xd6jj.cloudfront.net/527e565f-b565-4dc8-a124-4ee257f1f685/S1A_IW_20220921T123903_DVP_RTC30_G_gpuned_5455_thumb.png', 'https://d3gm2hf49xd6jj.cloudfront.net/527e565f-b565-4dc8-a124-4ee257f1f685/S1A_IW_20220921T123903_DVP_RTC30_G_gpuned_5455_rgb_thumb.png'], 'expiration_time': '2024-05-09T00:00:00+00:00', 'processing_times': [1132.539], 'credit_cost': 5}), Job.from_dict({'job_id': '875b8ed1-bf70-43ae-b889-26e480f36562', 'job_type': 'RTC_GAMMA', 'request_time': '2024-04-24T22:51:57+00:00', 'status_code': 'SUCCEEDED', 'user_id': 'jknicely_alaska.edu', 'name': 'Nepal', 'job_parameters': {'dem_matching': False, 'dem_name': 'copernicus', 'granules': ['S1A_IW_SLC__1SDV_20220816T123902_20220816T123929_044578_055213_A2C9'], 'include_dem': True, 'include_inc_map': False, 'include_rgb': False, 'include_scattering_area': False, 'radiometry': 'gamma0', 'resolution': 30, 'scale': 'power', 'speckle_filter': False}, 'files': [{'filename': 'S1A_IW_20220816T123902_DVP_RTC30_G_gpuned_8CE1.zip', 's3': {'bucket': 'hyp3-edc-prod-contentbucket-1fv14ed36ifj6', 'key': '875b8ed1-bf70-43ae-b889-26e480f36562/S1A_IW_20220816T123902_DVP_RTC30_G_gpuned_8CE1.zip'}, 'size': 543966097, 'url': 'https://d3gm2hf49xd6jj.cloudfront.net/875b8ed1-bf70-43ae-b889-26e480f36562/S1A_IW_20220816T123902_DVP_RTC30_G_gpuned_8CE1.zip'}], 'logs': [], 'browse_images': ['https://d3gm2hf49xd6jj.cloudfront.net/875b8ed1-bf70-43ae-b889-26e480f36562/S1A_IW_20220816T123902_DVP_RTC30_G_gpuned_8CE1.png', 'https://d3gm2hf49xd6jj.cloudfront.net/875b8ed1-bf70-43ae-b889-26e480f36562/S1A_IW_20220816T123902_DVP_RTC30_G_gpuned_8CE1_rgb.png'], 'thumbnail_images': ['https://d3gm2hf49xd6jj.cloudfront.net/875b8ed1-bf70-43ae-b889-26e480f36562/S1A_IW_20220816T123902_DVP_RTC30_G_gpuned_8CE1_thumb.png', 'https://d3gm2hf49xd6jj.cloudfront.net/875b8ed1-bf70-43ae-b889-26e480f36562/S1A_IW_20220816T123902_DVP_RTC30_G_gpuned_8CE1_rgb_thumb.png'], 'expiration_time': '2024-05-09T00:00:00+00:00', 'processing_times': [1123.572], 'credit_cost': 5}), Job.from_dict({'job_id': '2cce1818-e28b-4470-88ea-7aa0f7222488', 'job_type': 'RTC_GAMMA', 'request_time': '2024-04-24T22:51:57+00:00', 'status_code': 'SUCCEEDED', 'user_id': 'jknicely_alaska.edu', 'name': 'Nepal', 'job_parameters': {'dem_matching': False, 'dem_name': 'copernicus', 'granules': ['S1A_IW_SLC__1SDV_20221027T123904_20221027T123931_045628_0574AD_2B33'], 'include_dem': True, 'include_inc_map': False, 'include_rgb': False, 'include_scattering_area': False, 'radiometry': 'gamma0', 'resolution': 30, 'scale': 'power', 'speckle_filter': False}, 'files': [{'filename': 'S1A_IW_20221027T123904_DVP_RTC30_G_gpuned_1E58.zip', 's3': {'bucket': 'hyp3-edc-prod-contentbucket-1fv14ed36ifj6', 'key': '2cce1818-e28b-4470-88ea-7aa0f7222488/S1A_IW_20221027T123904_DVP_RTC30_G_gpuned_1E58.zip'}, 'size': 544708890, 'url': 'https://d3gm2hf49xd6jj.cloudfront.net/2cce1818-e28b-4470-88ea-7aa0f7222488/S1A_IW_20221027T123904_DVP_RTC30_G_gpuned_1E58.zip'}], 'logs': [], 'browse_images': ['https://d3gm2hf49xd6jj.cloudfront.net/2cce1818-e28b-4470-88ea-7aa0f7222488/S1A_IW_20221027T123904_DVP_RTC30_G_gpuned_1E58.png', 'https://d3gm2hf49xd6jj.cloudfront.net/2cce1818-e28b-4470-88ea-7aa0f7222488/S1A_IW_20221027T123904_DVP_RTC30_G_gpuned_1E58_rgb.png'], 'thumbnail_images': ['https://d3gm2hf49xd6jj.cloudfront.net/2cce1818-e28b-4470-88ea-7aa0f7222488/S1A_IW_20221027T123904_DVP_RTC30_G_gpuned_1E58_thumb.png', 'https://d3gm2hf49xd6jj.cloudfront.net/2cce1818-e28b-4470-88ea-7aa0f7222488/S1A_IW_20221027T123904_DVP_RTC30_G_gpuned_1E58_rgb_thumb.png'], 'expiration_time': '2024-05-09T00:00:00+00:00', 'processing_times': [1135.213], 'credit_cost': 5}), Job.from_dict({'job_id': '3e3100e6-5bc4-4262-8335-41f09d91ebc7', 'job_type': 'RTC_GAMMA', 'request_time': '2024-04-24T22:51:57+00:00', 'status_code': 'SUCCEEDED', 'user_id': 'jknicely_alaska.edu', 'name': 'Nepal', 'job_parameters': {'dem_matching': False, 'dem_name': 'copernicus', 'granules': ['S1A_IW_SLC__1SDV_20220524T123857_20220524T123924_043353_052D52_87B8'], 'include_dem': True, 'include_inc_map': False, 'include_rgb': False, 'include_scattering_area': False, 'radiometry': 'gamma0', 'resolution': 30, 'scale': 'power', 'speckle_filter': False}, 'files': [{'filename': 'S1A_IW_20220524T123857_DVP_RTC30_G_gpuned_7EB4.zip', 's3': {'bucket': 'hyp3-edc-prod-contentbucket-1fv14ed36ifj6', 'key': '3e3100e6-5bc4-4262-8335-41f09d91ebc7/S1A_IW_20220524T123857_DVP_RTC30_G_gpuned_7EB4.zip'}, 'size': 544793309, 'url': 'https://d3gm2hf49xd6jj.cloudfront.net/3e3100e6-5bc4-4262-8335-41f09d91ebc7/S1A_IW_20220524T123857_DVP_RTC30_G_gpuned_7EB4.zip'}], 'logs': [], 'browse_images': ['https://d3gm2hf49xd6jj.cloudfront.net/3e3100e6-5bc4-4262-8335-41f09d91ebc7/S1A_IW_20220524T123857_DVP_RTC30_G_gpuned_7EB4.png', 'https://d3gm2hf49xd6jj.cloudfront.net/3e3100e6-5bc4-4262-8335-41f09d91ebc7/S1A_IW_20220524T123857_DVP_RTC30_G_gpuned_7EB4_rgb.png'], 'thumbnail_images': ['https://d3gm2hf49xd6jj.cloudfront.net/3e3100e6-5bc4-4262-8335-41f09d91ebc7/S1A_IW_20220524T123857_DVP_RTC30_G_gpuned_7EB4_thumb.png', 'https://d3gm2hf49xd6jj.cloudfront.net/3e3100e6-5bc4-4262-8335-41f09d91ebc7/S1A_IW_20220524T123857_DVP_RTC30_G_gpuned_7EB4_rgb_thumb.png'], 'expiration_time': '2024-05-09T00:00:00+00:00', 'processing_times': [1136.964], 'credit_cost': 5}), Job.from_dict({'job_id': '1da5de87-679e-423b-81fd-2e0026b9e508', 'job_type': 'RTC_GAMMA', 'request_time': '2024-04-24T22:51:57+00:00', 'status_code': 'SUCCEEDED', 'user_id': 'jknicely_alaska.edu', 'name': 'Nepal', 'job_parameters': {'dem_matching': False, 'dem_name': 'copernicus', 'granules': ['S1A_IW_SLC__1SDV_20220629T123859_20220629T123926_043878_053CF3_7704'], 'include_dem': True, 'include_inc_map': False, 'include_rgb': False, 'include_scattering_area': False, 'radiometry': 'gamma0', 'resolution': 30, 'scale': 'power', 'speckle_filter': False}, 'files': [{'filename': 'S1A_IW_20220629T123859_DVP_RTC30_G_gpuned_8548.zip', 's3': {'bucket': 'hyp3-edc-prod-contentbucket-1fv14ed36ifj6', 'key': '1da5de87-679e-423b-81fd-2e0026b9e508/S1A_IW_20220629T123859_DVP_RTC30_G_gpuned_8548.zip'}, 'size': 544300837, 'url': 'https://d3gm2hf49xd6jj.cloudfront.net/1da5de87-679e-423b-81fd-2e0026b9e508/S1A_IW_20220629T123859_DVP_RTC30_G_gpuned_8548.zip'}], 'logs': [], 'browse_images': ['https://d3gm2hf49xd6jj.cloudfront.net/1da5de87-679e-423b-81fd-2e0026b9e508/S1A_IW_20220629T123859_DVP_RTC30_G_gpuned_8548.png', 'https://d3gm2hf49xd6jj.cloudfront.net/1da5de87-679e-423b-81fd-2e0026b9e508/S1A_IW_20220629T123859_DVP_RTC30_G_gpuned_8548_rgb.png'], 'thumbnail_images': ['https://d3gm2hf49xd6jj.cloudfront.net/1da5de87-679e-423b-81fd-2e0026b9e508/S1A_IW_20220629T123859_DVP_RTC30_G_gpuned_8548_thumb.png', 'https://d3gm2hf49xd6jj.cloudfront.net/1da5de87-679e-423b-81fd-2e0026b9e508/S1A_IW_20220629T123859_DVP_RTC30_G_gpuned_8548_rgb_thumb.png'], 'expiration_time': '2024-05-09T00:00:00+00:00', 'processing_times': [1126.251], 'credit_cost': 5}), Job.from_dict({'job_id': 'fec34858-2a1f-4696-b3af-2ca911f11d7d', 'job_type': 'RTC_GAMMA', 'request_time': '2024-04-24T22:51:57+00:00', 'status_code': 'SUCCEEDED', 'user_id': 'jknicely_alaska.edu', 'name': 'Nepal', 'job_parameters': {'dem_matching': False, 'dem_name': 'copernicus', 'granules': ['S1A_IW_SLC__1SDV_20221108T123903_20221108T123930_045803_057A9E_C92A'], 'include_dem': True, 'include_inc_map': False, 'include_rgb': False, 'include_scattering_area': False, 'radiometry': 'gamma0', 'resolution': 30, 'scale': 'power', 'speckle_filter': False}, 'files': [{'filename': 'S1A_IW_20221108T123903_DVP_RTC30_G_gpuned_FCBF.zip', 's3': {'bucket': 'hyp3-edc-prod-contentbucket-1fv14ed36ifj6', 'key': 'fec34858-2a1f-4696-b3af-2ca911f11d7d/S1A_IW_20221108T123903_DVP_RTC30_G_gpuned_FCBF.zip'}, 'size': 546181297, 'url': 'https://d3gm2hf49xd6jj.cloudfront.net/fec34858-2a1f-4696-b3af-2ca911f11d7d/S1A_IW_20221108T123903_DVP_RTC30_G_gpuned_FCBF.zip'}], 'logs': [], 'browse_images': ['https://d3gm2hf49xd6jj.cloudfront.net/fec34858-2a1f-4696-b3af-2ca911f11d7d/S1A_IW_20221108T123903_DVP_RTC30_G_gpuned_FCBF.png', 'https://d3gm2hf49xd6jj.cloudfront.net/fec34858-2a1f-4696-b3af-2ca911f11d7d/S1A_IW_20221108T123903_DVP_RTC30_G_gpuned_FCBF_rgb.png'], 'thumbnail_images': ['https://d3gm2hf49xd6jj.cloudfront.net/fec34858-2a1f-4696-b3af-2ca911f11d7d/S1A_IW_20221108T123903_DVP_RTC30_G_gpuned_FCBF_thumb.png', 'https://d3gm2hf49xd6jj.cloudfront.net/fec34858-2a1f-4696-b3af-2ca911f11d7d/S1A_IW_20221108T123903_DVP_RTC30_G_gpuned_FCBF_rgb_thumb.png'], 'expiration_time': '2024-05-09T00:00:00+00:00', 'processing_times': [1116.757], 'credit_cost': 5}), Job.from_dict({'job_id': '06fc0aed-f996-4413-8e5a-056f4b1e84c5', 'job_type': 'RTC_GAMMA', 'request_time': '2024-04-24T22:51:57+00:00', 'status_code': 'SUCCEEDED', 'user_id': 'jknicely_alaska.edu', 'name': 'Nepal', 'job_parameters': {'dem_matching': False, 'dem_name': 'copernicus', 'granules': ['S1A_IW_SLC__1SDV_20220828T123903_20220828T123930_044753_0557FD_ED78'], 'include_dem': True, 'include_inc_map': False, 'include_rgb': False, 'include_scattering_area': False, 'radiometry': 'gamma0', 'resolution': 30, 'scale': 'power', 'speckle_filter': False}, 'files': [{'filename': 'S1A_IW_20220828T123903_DVP_RTC30_G_gpuned_D6CF.zip', 's3': {'bucket': 'hyp3-edc-prod-contentbucket-1fv14ed36ifj6', 'key': '06fc0aed-f996-4413-8e5a-056f4b1e84c5/S1A_IW_20220828T123903_DVP_RTC30_G_gpuned_D6CF.zip'}, 'size': 543159592, 'url': 'https://d3gm2hf49xd6jj.cloudfront.net/06fc0aed-f996-4413-8e5a-056f4b1e84c5/S1A_IW_20220828T123903_DVP_RTC30_G_gpuned_D6CF.zip'}], 'logs': [], 'browse_images': ['https://d3gm2hf49xd6jj.cloudfront.net/06fc0aed-f996-4413-8e5a-056f4b1e84c5/S1A_IW_20220828T123903_DVP_RTC30_G_gpuned_D6CF.png', 'https://d3gm2hf49xd6jj.cloudfront.net/06fc0aed-f996-4413-8e5a-056f4b1e84c5/S1A_IW_20220828T123903_DVP_RTC30_G_gpuned_D6CF_rgb.png'], 'thumbnail_images': ['https://d3gm2hf49xd6jj.cloudfront.net/06fc0aed-f996-4413-8e5a-056f4b1e84c5/S1A_IW_20220828T123903_DVP_RTC30_G_gpuned_D6CF_thumb.png', 'https://d3gm2hf49xd6jj.cloudfront.net/06fc0aed-f996-4413-8e5a-056f4b1e84c5/S1A_IW_20220828T123903_DVP_RTC30_G_gpuned_D6CF_rgb_thumb.png'], 'expiration_time': '2024-05-09T00:00:00+00:00', 'processing_times': [1125.497], 'credit_cost': 5}), Job.from_dict({'job_id': '1e22c4dc-5ad4-4d04-98df-164c7c1676f6', 'job_type': 'RTC_GAMMA', 'request_time': '2024-04-24T22:51:57+00:00', 'status_code': 'SUCCEEDED', 'user_id': 'jknicely_alaska.edu', 'name': 'Nepal', 'job_parameters': {'dem_matching': False, 'dem_name': 'copernicus', 'granules': ['S1A_IW_SLC__1SDV_20220430T123855_20220430T123922_043003_052261_7BC5'], 'include_dem': True, 'include_inc_map': False, 'include_rgb': False, 'include_scattering_area': False, 'radiometry': 'gamma0', 'resolution': 30, 'scale': 'power', 'speckle_filter': False}, 'files': [{'filename': 'S1A_IW_20220430T123855_DVP_RTC30_G_gpuned_3D92.zip', 's3': {'bucket': 'hyp3-edc-prod-contentbucket-1fv14ed36ifj6', 'key': '1e22c4dc-5ad4-4d04-98df-164c7c1676f6/S1A_IW_20220430T123855_DVP_RTC30_G_gpuned_3D92.zip'}, 'size': 548256344, 'url': 'https://d3gm2hf49xd6jj.cloudfront.net/1e22c4dc-5ad4-4d04-98df-164c7c1676f6/S1A_IW_20220430T123855_DVP_RTC30_G_gpuned_3D92.zip'}], 'logs': [], 'browse_images': ['https://d3gm2hf49xd6jj.cloudfront.net/1e22c4dc-5ad4-4d04-98df-164c7c1676f6/S1A_IW_20220430T123855_DVP_RTC30_G_gpuned_3D92.png', 'https://d3gm2hf49xd6jj.cloudfront.net/1e22c4dc-5ad4-4d04-98df-164c7c1676f6/S1A_IW_20220430T123855_DVP_RTC30_G_gpuned_3D92_rgb.png'], 'thumbnail_images': ['https://d3gm2hf49xd6jj.cloudfront.net/1e22c4dc-5ad4-4d04-98df-164c7c1676f6/S1A_IW_20220430T123855_DVP_RTC30_G_gpuned_3D92_thumb.png', 'https://d3gm2hf49xd6jj.cloudfront.net/1e22c4dc-5ad4-4d04-98df-164c7c1676f6/S1A_IW_20220430T123855_DVP_RTC30_G_gpuned_3D92_rgb_thumb.png'], 'expiration_time': '2024-05-09T00:00:00+00:00', 'processing_times': [1127.815], 'credit_cost': 5}), Job.from_dict({'job_id': 'd97035f9-6792-4391-9b56-fe167d537887', 'job_type': 'RTC_GAMMA', 'request_time': '2024-04-24T22:51:57+00:00', 'status_code': 'SUCCEEDED', 'user_id': 'jknicely_alaska.edu', 'name': 'Nepal', 'job_parameters': {'dem_matching': False, 'dem_name': 'copernicus', 'granules': ['S1A_IW_SLC__1SDV_20221120T123904_20221120T123930_045978_05807F_C342'], 'include_dem': True, 'include_inc_map': False, 'include_rgb': False, 'include_scattering_area': False, 'radiometry': 'gamma0', 'resolution': 30, 'scale': 'power', 'speckle_filter': False}, 'files': [{'filename': 'S1A_IW_20221120T123904_DVP_RTC30_G_gpuned_172A.zip', 's3': {'bucket': 'hyp3-edc-prod-contentbucket-1fv14ed36ifj6', 'key': 'd97035f9-6792-4391-9b56-fe167d537887/S1A_IW_20221120T123904_DVP_RTC30_G_gpuned_172A.zip'}, 'size': 547082292, 'url': 'https://d3gm2hf49xd6jj.cloudfront.net/d97035f9-6792-4391-9b56-fe167d537887/S1A_IW_20221120T123904_DVP_RTC30_G_gpuned_172A.zip'}], 'logs': [], 'browse_images': ['https://d3gm2hf49xd6jj.cloudfront.net/d97035f9-6792-4391-9b56-fe167d537887/S1A_IW_20221120T123904_DVP_RTC30_G_gpuned_172A.png', 'https://d3gm2hf49xd6jj.cloudfront.net/d97035f9-6792-4391-9b56-fe167d537887/S1A_IW_20221120T123904_DVP_RTC30_G_gpuned_172A_rgb.png'], 'thumbnail_images': ['https://d3gm2hf49xd6jj.cloudfront.net/d97035f9-6792-4391-9b56-fe167d537887/S1A_IW_20221120T123904_DVP_RTC30_G_gpuned_172A_thumb.png', 'https://d3gm2hf49xd6jj.cloudfront.net/d97035f9-6792-4391-9b56-fe167d537887/S1A_IW_20221120T123904_DVP_RTC30_G_gpuned_172A_rgb_thumb.png'], 'expiration_time': '2024-05-09T00:00:00+00:00', 'processing_times': [1137.11], 'credit_cost': 5}), Job.from_dict({'job_id': 'f7ae13b9-881c-4838-b563-b7c8c40e0884', 'job_type': 'RTC_GAMMA', 'request_time': '2024-04-24T22:51:57+00:00', 'status_code': 'SUCCEEDED', 'user_id': 'jknicely_alaska.edu', 'name': 'Nepal', 'job_parameters': {'dem_matching': False, 'dem_name': 'copernicus', 'granules': ['S1A_IW_SLC__1SDV_20220605T123858_20220605T123925_043528_05327C_E54A'], 'include_dem': True, 'include_inc_map': False, 'include_rgb': False, 'include_scattering_area': False, 'radiometry': 'gamma0', 'resolution': 30, 'scale': 'power', 'speckle_filter': False}, 'files': [{'filename': 'S1A_IW_20220605T123858_DVP_RTC30_G_gpuned_AD6C.zip', 's3': {'bucket': 'hyp3-edc-prod-contentbucket-1fv14ed36ifj6', 'key': 'f7ae13b9-881c-4838-b563-b7c8c40e0884/S1A_IW_20220605T123858_DVP_RTC30_G_gpuned_AD6C.zip'}, 'size': 547257654, 'url': 'https://d3gm2hf49xd6jj.cloudfront.net/f7ae13b9-881c-4838-b563-b7c8c40e0884/S1A_IW_20220605T123858_DVP_RTC30_G_gpuned_AD6C.zip'}], 'logs': [], 'browse_images': ['https://d3gm2hf49xd6jj.cloudfront.net/f7ae13b9-881c-4838-b563-b7c8c40e0884/S1A_IW_20220605T123858_DVP_RTC30_G_gpuned_AD6C.png', 'https://d3gm2hf49xd6jj.cloudfront.net/f7ae13b9-881c-4838-b563-b7c8c40e0884/S1A_IW_20220605T123858_DVP_RTC30_G_gpuned_AD6C_rgb.png'], 'thumbnail_images': ['https://d3gm2hf49xd6jj.cloudfront.net/f7ae13b9-881c-4838-b563-b7c8c40e0884/S1A_IW_20220605T123858_DVP_RTC30_G_gpuned_AD6C_thumb.png', 'https://d3gm2hf49xd6jj.cloudfront.net/f7ae13b9-881c-4838-b563-b7c8c40e0884/S1A_IW_20220605T123858_DVP_RTC30_G_gpuned_AD6C_rgb_thumb.png'], 'expiration_time': '2024-05-09T00:00:00+00:00', 'processing_times': [1119.801], 'credit_cost': 5}), Job.from_dict({'job_id': 'aac2621f-a46e-43c5-beb8-41692940938e', 'job_type': 'RTC_GAMMA', 'request_time': '2024-04-24T22:51:57+00:00', 'status_code': 'SUCCEEDED', 'user_id': 'jknicely_alaska.edu', 'name': 'Nepal', 'job_parameters': {'dem_matching': False, 'dem_name': 'copernicus', 'granules': ['S1A_IW_SLC__1SDV_20220512T123856_20220512T123923_043178_05281A_A8D6'], 'include_dem': True, 'include_inc_map': False, 'include_rgb': False, 'include_scattering_area': False, 'radiometry': 'gamma0', 'resolution': 30, 'scale': 'power', 'speckle_filter': False}, 'files': [{'filename': 'S1A_IW_20220512T123856_DVP_RTC30_G_gpuned_A519.zip', 's3': {'bucket': 'hyp3-edc-prod-contentbucket-1fv14ed36ifj6', 'key': 'aac2621f-a46e-43c5-beb8-41692940938e/S1A_IW_20220512T123856_DVP_RTC30_G_gpuned_A519.zip'}, 'size': 546852176, 'url': 'https://d3gm2hf49xd6jj.cloudfront.net/aac2621f-a46e-43c5-beb8-41692940938e/S1A_IW_20220512T123856_DVP_RTC30_G_gpuned_A519.zip'}], 'logs': [], 'browse_images': ['https://d3gm2hf49xd6jj.cloudfront.net/aac2621f-a46e-43c5-beb8-41692940938e/S1A_IW_20220512T123856_DVP_RTC30_G_gpuned_A519.png', 'https://d3gm2hf49xd6jj.cloudfront.net/aac2621f-a46e-43c5-beb8-41692940938e/S1A_IW_20220512T123856_DVP_RTC30_G_gpuned_A519_rgb.png'], 'thumbnail_images': ['https://d3gm2hf49xd6jj.cloudfront.net/aac2621f-a46e-43c5-beb8-41692940938e/S1A_IW_20220512T123856_DVP_RTC30_G_gpuned_A519_thumb.png', 'https://d3gm2hf49xd6jj.cloudfront.net/aac2621f-a46e-43c5-beb8-41692940938e/S1A_IW_20220512T123856_DVP_RTC30_G_gpuned_A519_rgb_thumb.png'], 'expiration_time': '2024-05-09T00:00:00+00:00', 'processing_times': [1118.483], 'credit_cost': 5}), Job.from_dict({'job_id': 'f6e72d67-fe7e-4332-b7bc-9b2258a7f5d4', 'job_type': 'RTC_GAMMA', 'request_time': '2024-04-24T22:51:57+00:00', 'status_code': 'SUCCEEDED', 'user_id': 'jknicely_alaska.edu', 'name': 'Nepal', 'job_parameters': {'dem_matching': False, 'dem_name': 'copernicus', 'granules': ['S1A_IW_SLC__1SDV_20220909T123904_20220909T123930_044928_055DDA_51CC'], 'include_dem': True, 'include_inc_map': False, 'include_rgb': False, 'include_scattering_area': False, 'radiometry': 'gamma0', 'resolution': 30, 'scale': 'power', 'speckle_filter': False}, 'files': [{'filename': 'S1A_IW_20220909T123904_DVP_RTC30_G_gpuned_2FBB.zip', 's3': {'bucket': 'hyp3-edc-prod-contentbucket-1fv14ed36ifj6', 'key': 'f6e72d67-fe7e-4332-b7bc-9b2258a7f5d4/S1A_IW_20220909T123904_DVP_RTC30_G_gpuned_2FBB.zip'}, 'size': 542879170, 'url': 'https://d3gm2hf49xd6jj.cloudfront.net/f6e72d67-fe7e-4332-b7bc-9b2258a7f5d4/S1A_IW_20220909T123904_DVP_RTC30_G_gpuned_2FBB.zip'}], 'logs': [], 'browse_images': ['https://d3gm2hf49xd6jj.cloudfront.net/f6e72d67-fe7e-4332-b7bc-9b2258a7f5d4/S1A_IW_20220909T123904_DVP_RTC30_G_gpuned_2FBB.png', 'https://d3gm2hf49xd6jj.cloudfront.net/f6e72d67-fe7e-4332-b7bc-9b2258a7f5d4/S1A_IW_20220909T123904_DVP_RTC30_G_gpuned_2FBB_rgb.png'], 'thumbnail_images': ['https://d3gm2hf49xd6jj.cloudfront.net/f6e72d67-fe7e-4332-b7bc-9b2258a7f5d4/S1A_IW_20220909T123904_DVP_RTC30_G_gpuned_2FBB_thumb.png', 'https://d3gm2hf49xd6jj.cloudfront.net/f6e72d67-fe7e-4332-b7bc-9b2258a7f5d4/S1A_IW_20220909T123904_DVP_RTC30_G_gpuned_2FBB_rgb_thumb.png'], 'expiration_time': '2024-05-09T00:00:00+00:00', 'processing_times': [1132.868], 'credit_cost': 5}), Job.from_dict({'job_id': '8966c57e-c145-4c2a-9768-24bc43b79bab', 'job_type': 'RTC_GAMMA', 'request_time': '2024-04-24T22:51:56+00:00', 'status_code': 'SUCCEEDED', 'user_id': 'jknicely_alaska.edu', 'name': 'Nepal', 'job_parameters': {'dem_matching': False, 'dem_name': 'copernicus', 'granules': ['S1A_IW_SLC__1SDV_20230624T123904_20230624T123931_049128_05E851_46CF'], 'include_dem': True, 'include_inc_map': False, 'include_rgb': False, 'include_scattering_area': False, 'radiometry': 'gamma0', 'resolution': 30, 'scale': 'power', 'speckle_filter': False}, 'files': [{'filename': 'S1A_IW_20230624T123904_DVP_RTC30_G_gpuned_ECB4.zip', 's3': {'bucket': 'hyp3-edc-prod-contentbucket-1fv14ed36ifj6', 'key': '8966c57e-c145-4c2a-9768-24bc43b79bab/S1A_IW_20230624T123904_DVP_RTC30_G_gpuned_ECB4.zip'}, 'size': 544880915, 'url': 'https://d3gm2hf49xd6jj.cloudfront.net/8966c57e-c145-4c2a-9768-24bc43b79bab/S1A_IW_20230624T123904_DVP_RTC30_G_gpuned_ECB4.zip'}], 'logs': [], 'browse_images': ['https://d3gm2hf49xd6jj.cloudfront.net/8966c57e-c145-4c2a-9768-24bc43b79bab/S1A_IW_20230624T123904_DVP_RTC30_G_gpuned_ECB4.png', 'https://d3gm2hf49xd6jj.cloudfront.net/8966c57e-c145-4c2a-9768-24bc43b79bab/S1A_IW_20230624T123904_DVP_RTC30_G_gpuned_ECB4_rgb.png'], 'thumbnail_images': ['https://d3gm2hf49xd6jj.cloudfront.net/8966c57e-c145-4c2a-9768-24bc43b79bab/S1A_IW_20230624T123904_DVP_RTC30_G_gpuned_ECB4_thumb.png', 'https://d3gm2hf49xd6jj.cloudfront.net/8966c57e-c145-4c2a-9768-24bc43b79bab/S1A_IW_20230624T123904_DVP_RTC30_G_gpuned_ECB4_rgb_thumb.png'], 'expiration_time': '2024-05-09T00:00:00+00:00', 'processing_times': [1125.184], 'credit_cost': 5}), Job.from_dict({'job_id': '30434864-9f19-4473-9808-b1613dfb8ec0', 'job_type': 'RTC_GAMMA', 'request_time': '2024-04-24T22:51:56+00:00', 'status_code': 'SUCCEEDED', 'user_id': 'jknicely_alaska.edu', 'name': 'Nepal', 'job_parameters': {'dem_matching': False, 'dem_name': 'copernicus', 'granules': ['S1A_IW_SLC__1SDV_20230612T123903_20230612T123930_048953_05E300_76DE'], 'include_dem': True, 'include_inc_map': False, 'include_rgb': False, 'include_scattering_area': False, 'radiometry': 'gamma0', 'resolution': 30, 'scale': 'power', 'speckle_filter': False}, 'files': [{'filename': 'S1A_IW_20230612T123903_DVP_RTC30_G_gpuned_0E81.zip', 's3': {'bucket': 'hyp3-edc-prod-contentbucket-1fv14ed36ifj6', 'key': '30434864-9f19-4473-9808-b1613dfb8ec0/S1A_IW_20230612T123903_DVP_RTC30_G_gpuned_0E81.zip'}, 'size': 547499572, 'url': 'https://d3gm2hf49xd6jj.cloudfront.net/30434864-9f19-4473-9808-b1613dfb8ec0/S1A_IW_20230612T123903_DVP_RTC30_G_gpuned_0E81.zip'}], 'logs': [], 'browse_images': ['https://d3gm2hf49xd6jj.cloudfront.net/30434864-9f19-4473-9808-b1613dfb8ec0/S1A_IW_20230612T123903_DVP_RTC30_G_gpuned_0E81.png', 'https://d3gm2hf49xd6jj.cloudfront.net/30434864-9f19-4473-9808-b1613dfb8ec0/S1A_IW_20230612T123903_DVP_RTC30_G_gpuned_0E81_rgb.png'], 'thumbnail_images': ['https://d3gm2hf49xd6jj.cloudfront.net/30434864-9f19-4473-9808-b1613dfb8ec0/S1A_IW_20230612T123903_DVP_RTC30_G_gpuned_0E81_thumb.png', 'https://d3gm2hf49xd6jj.cloudfront.net/30434864-9f19-4473-9808-b1613dfb8ec0/S1A_IW_20230612T123903_DVP_RTC30_G_gpuned_0E81_rgb_thumb.png'], 'expiration_time': '2024-05-09T00:00:00+00:00', 'processing_times': [1126.208], 'credit_cost': 5}), Job.from_dict({'job_id': '0fff54cf-0720-4feb-85ef-d18530fd0659', 'job_type': 'RTC_GAMMA', 'request_time': '2024-04-24T22:51:56+00:00', 'status_code': 'SUCCEEDED', 'user_id': 'jknicely_alaska.edu', 'name': 'Nepal', 'job_parameters': {'dem_matching': False, 'dem_name': 'copernicus', 'granules': ['S1A_IW_SLC__1SDV_20230131T123900_20230131T123927_047028_05A415_C435'], 'include_dem': True, 'include_inc_map': False, 'include_rgb': False, 'include_scattering_area': False, 'radiometry': 'gamma0', 'resolution': 30, 'scale': 'power', 'speckle_filter': False}, 'files': [{'filename': 'S1A_IW_20230131T123900_DVP_RTC30_G_gpuned_118D.zip', 's3': {'bucket': 'hyp3-edc-prod-contentbucket-1fv14ed36ifj6', 'key': '0fff54cf-0720-4feb-85ef-d18530fd0659/S1A_IW_20230131T123900_DVP_RTC30_G_gpuned_118D.zip'}, 'size': 546695642, 'url': 'https://d3gm2hf49xd6jj.cloudfront.net/0fff54cf-0720-4feb-85ef-d18530fd0659/S1A_IW_20230131T123900_DVP_RTC30_G_gpuned_118D.zip'}], 'logs': [], 'browse_images': ['https://d3gm2hf49xd6jj.cloudfront.net/0fff54cf-0720-4feb-85ef-d18530fd0659/S1A_IW_20230131T123900_DVP_RTC30_G_gpuned_118D.png', 'https://d3gm2hf49xd6jj.cloudfront.net/0fff54cf-0720-4feb-85ef-d18530fd0659/S1A_IW_20230131T123900_DVP_RTC30_G_gpuned_118D_rgb.png'], 'thumbnail_images': ['https://d3gm2hf49xd6jj.cloudfront.net/0fff54cf-0720-4feb-85ef-d18530fd0659/S1A_IW_20230131T123900_DVP_RTC30_G_gpuned_118D_thumb.png', 'https://d3gm2hf49xd6jj.cloudfront.net/0fff54cf-0720-4feb-85ef-d18530fd0659/S1A_IW_20230131T123900_DVP_RTC30_G_gpuned_118D_rgb_thumb.png'], 'expiration_time': '2024-05-09T00:00:00+00:00', 'processing_times': [1136.565], 'credit_cost': 5}), Job.from_dict({'job_id': 'a008a786-127c-49d3-8a07-6975e7e75ed9', 'job_type': 'RTC_GAMMA', 'request_time': '2024-04-24T22:51:56+00:00', 'status_code': 'SUCCEEDED', 'user_id': 'jknicely_alaska.edu', 'name': 'Nepal', 'job_parameters': {'dem_matching': False, 'dem_name': 'copernicus', 'granules': ['S1A_IW_SLC__1SDV_20221214T123902_20221214T123929_046328_058C72_82C2'], 'include_dem': True, 'include_inc_map': False, 'include_rgb': False, 'include_scattering_area': False, 'radiometry': 'gamma0', 'resolution': 30, 'scale': 'power', 'speckle_filter': False}, 'files': [{'filename': 'S1A_IW_20221214T123902_DVP_RTC30_G_gpuned_AE57.zip', 's3': {'bucket': 'hyp3-edc-prod-contentbucket-1fv14ed36ifj6', 'key': 'a008a786-127c-49d3-8a07-6975e7e75ed9/S1A_IW_20221214T123902_DVP_RTC30_G_gpuned_AE57.zip'}, 'size': 547171908, 'url': 'https://d3gm2hf49xd6jj.cloudfront.net/a008a786-127c-49d3-8a07-6975e7e75ed9/S1A_IW_20221214T123902_DVP_RTC30_G_gpuned_AE57.zip'}], 'logs': [], 'browse_images': ['https://d3gm2hf49xd6jj.cloudfront.net/a008a786-127c-49d3-8a07-6975e7e75ed9/S1A_IW_20221214T123902_DVP_RTC30_G_gpuned_AE57.png', 'https://d3gm2hf49xd6jj.cloudfront.net/a008a786-127c-49d3-8a07-6975e7e75ed9/S1A_IW_20221214T123902_DVP_RTC30_G_gpuned_AE57_rgb.png'], 'thumbnail_images': ['https://d3gm2hf49xd6jj.cloudfront.net/a008a786-127c-49d3-8a07-6975e7e75ed9/S1A_IW_20221214T123902_DVP_RTC30_G_gpuned_AE57_thumb.png', 'https://d3gm2hf49xd6jj.cloudfront.net/a008a786-127c-49d3-8a07-6975e7e75ed9/S1A_IW_20221214T123902_DVP_RTC30_G_gpuned_AE57_rgb_thumb.png'], 'expiration_time': '2024-05-09T00:00:00+00:00', 'processing_times': [1130.388], 'credit_cost': 5}), Job.from_dict({'job_id': '6990c817-6e2d-4241-863c-87fa2f3a5576', 'job_type': 'RTC_GAMMA', 'request_time': '2024-04-24T22:51:56+00:00', 'status_code': 'SUCCEEDED', 'user_id': 'jknicely_alaska.edu', 'name': 'Nepal', 'job_parameters': {'dem_matching': False, 'dem_name': 'copernicus', 'granules': ['S1A_IW_SLC__1SDV_20230401T123900_20230401T123927_047903_05C193_253C'], 'include_dem': True, 'include_inc_map': False, 'include_rgb': False, 'include_scattering_area': False, 'radiometry': 'gamma0', 'resolution': 30, 'scale': 'power', 'speckle_filter': False}, 'files': [{'filename': 'S1A_IW_20230401T123900_DVP_RTC30_G_gpuned_D103.zip', 's3': {'bucket': 'hyp3-edc-prod-contentbucket-1fv14ed36ifj6', 'key': '6990c817-6e2d-4241-863c-87fa2f3a5576/S1A_IW_20230401T123900_DVP_RTC30_G_gpuned_D103.zip'}, 'size': 545408695, 'url': 'https://d3gm2hf49xd6jj.cloudfront.net/6990c817-6e2d-4241-863c-87fa2f3a5576/S1A_IW_20230401T123900_DVP_RTC30_G_gpuned_D103.zip'}], 'logs': [], 'browse_images': ['https://d3gm2hf49xd6jj.cloudfront.net/6990c817-6e2d-4241-863c-87fa2f3a5576/S1A_IW_20230401T123900_DVP_RTC30_G_gpuned_D103.png', 'https://d3gm2hf49xd6jj.cloudfront.net/6990c817-6e2d-4241-863c-87fa2f3a5576/S1A_IW_20230401T123900_DVP_RTC30_G_gpuned_D103_rgb.png'], 'thumbnail_images': ['https://d3gm2hf49xd6jj.cloudfront.net/6990c817-6e2d-4241-863c-87fa2f3a5576/S1A_IW_20230401T123900_DVP_RTC30_G_gpuned_D103_thumb.png', 'https://d3gm2hf49xd6jj.cloudfront.net/6990c817-6e2d-4241-863c-87fa2f3a5576/S1A_IW_20230401T123900_DVP_RTC30_G_gpuned_D103_rgb_thumb.png'], 'expiration_time': '2024-05-09T00:00:00+00:00', 'processing_times': [1120.327], 'credit_cost': 5}), Job.from_dict({'job_id': '2174b626-89f9-4e48-a155-c7a1cc869204', 'job_type': 'RTC_GAMMA', 'request_time': '2024-04-24T22:51:56+00:00', 'status_code': 'SUCCEEDED', 'user_id': 'jknicely_alaska.edu', 'name': 'Nepal', 'job_parameters': {'dem_matching': False, 'dem_name': 'copernicus', 'granules': ['S1A_IW_SLC__1SDV_20230730T123906_20230730T123933_049653_05F87E_F233'], 'include_dem': True, 'include_inc_map': False, 'include_rgb': False, 'include_scattering_area': False, 'radiometry': 'gamma0', 'resolution': 30, 'scale': 'power', 'speckle_filter': False}, 'files': [{'filename': 'S1A_IW_20230730T123906_DVP_RTC30_G_gpuned_9D7F.zip', 's3': {'bucket': 'hyp3-edc-prod-contentbucket-1fv14ed36ifj6', 'key': '2174b626-89f9-4e48-a155-c7a1cc869204/S1A_IW_20230730T123906_DVP_RTC30_G_gpuned_9D7F.zip'}, 'size': 543287387, 'url': 'https://d3gm2hf49xd6jj.cloudfront.net/2174b626-89f9-4e48-a155-c7a1cc869204/S1A_IW_20230730T123906_DVP_RTC30_G_gpuned_9D7F.zip'}], 'logs': [], 'browse_images': ['https://d3gm2hf49xd6jj.cloudfront.net/2174b626-89f9-4e48-a155-c7a1cc869204/S1A_IW_20230730T123906_DVP_RTC30_G_gpuned_9D7F.png', 'https://d3gm2hf49xd6jj.cloudfront.net/2174b626-89f9-4e48-a155-c7a1cc869204/S1A_IW_20230730T123906_DVP_RTC30_G_gpuned_9D7F_rgb.png'], 'thumbnail_images': ['https://d3gm2hf49xd6jj.cloudfront.net/2174b626-89f9-4e48-a155-c7a1cc869204/S1A_IW_20230730T123906_DVP_RTC30_G_gpuned_9D7F_thumb.png', 'https://d3gm2hf49xd6jj.cloudfront.net/2174b626-89f9-4e48-a155-c7a1cc869204/S1A_IW_20230730T123906_DVP_RTC30_G_gpuned_9D7F_rgb_thumb.png'], 'expiration_time': '2024-05-09T00:00:00+00:00', 'processing_times': [1130.702], 'credit_cost': 5}), Job.from_dict({'job_id': 'd128e830-0dbb-4ec5-8376-1a3d0fa59b28', 'job_type': 'RTC_GAMMA', 'request_time': '2024-04-24T22:51:56+00:00', 'status_code': 'SUCCEEDED', 'user_id': 'jknicely_alaska.edu', 'name': 'Nepal', 'job_parameters': {'dem_matching': False, 'dem_name': 'copernicus', 'granules': ['S1A_IW_SLC__1SDV_20230107T123901_20230107T123928_046678_059846_3340'], 'include_dem': True, 'include_inc_map': False, 'include_rgb': False, 'include_scattering_area': False, 'radiometry': 'gamma0', 'resolution': 30, 'scale': 'power', 'speckle_filter': False}, 'files': [{'filename': 'S1A_IW_20230107T123901_DVP_RTC30_G_gpuned_7CF1.zip', 's3': {'bucket': 'hyp3-edc-prod-contentbucket-1fv14ed36ifj6', 'key': 'd128e830-0dbb-4ec5-8376-1a3d0fa59b28/S1A_IW_20230107T123901_DVP_RTC30_G_gpuned_7CF1.zip'}, 'size': 547130634, 'url': 'https://d3gm2hf49xd6jj.cloudfront.net/d128e830-0dbb-4ec5-8376-1a3d0fa59b28/S1A_IW_20230107T123901_DVP_RTC30_G_gpuned_7CF1.zip'}], 'logs': [], 'browse_images': ['https://d3gm2hf49xd6jj.cloudfront.net/d128e830-0dbb-4ec5-8376-1a3d0fa59b28/S1A_IW_20230107T123901_DVP_RTC30_G_gpuned_7CF1.png', 'https://d3gm2hf49xd6jj.cloudfront.net/d128e830-0dbb-4ec5-8376-1a3d0fa59b28/S1A_IW_20230107T123901_DVP_RTC30_G_gpuned_7CF1_rgb.png'], 'thumbnail_images': ['https://d3gm2hf49xd6jj.cloudfront.net/d128e830-0dbb-4ec5-8376-1a3d0fa59b28/S1A_IW_20230107T123901_DVP_RTC30_G_gpuned_7CF1_thumb.png', 'https://d3gm2hf49xd6jj.cloudfront.net/d128e830-0dbb-4ec5-8376-1a3d0fa59b28/S1A_IW_20230107T123901_DVP_RTC30_G_gpuned_7CF1_rgb_thumb.png'], 'expiration_time': '2024-05-09T00:00:00+00:00', 'processing_times': [1119.08], 'credit_cost': 5}), Job.from_dict({'job_id': '43c604d1-ea09-485d-adc4-4ecbf8e9f453', 'job_type': 'RTC_GAMMA', 'request_time': '2024-04-24T22:51:56+00:00', 'status_code': 'SUCCEEDED', 'user_id': 'jknicely_alaska.edu', 'name': 'Nepal', 'job_parameters': {'dem_matching': False, 'dem_name': 'copernicus', 'granules': ['S1A_IW_SLC__1SDV_20230507T123901_20230507T123928_048428_05D33E_2855'], 'include_dem': True, 'include_inc_map': False, 'include_rgb': False, 'include_scattering_area': False, 'radiometry': 'gamma0', 'resolution': 30, 'scale': 'power', 'speckle_filter': False}, 'files': [{'filename': 'S1A_IW_20230507T123901_DVP_RTC30_G_gpuned_476B.zip', 's3': {'bucket': 'hyp3-edc-prod-contentbucket-1fv14ed36ifj6', 'key': '43c604d1-ea09-485d-adc4-4ecbf8e9f453/S1A_IW_20230507T123901_DVP_RTC30_G_gpuned_476B.zip'}, 'size': 547797245, 'url': 'https://d3gm2hf49xd6jj.cloudfront.net/43c604d1-ea09-485d-adc4-4ecbf8e9f453/S1A_IW_20230507T123901_DVP_RTC30_G_gpuned_476B.zip'}], 'logs': [], 'browse_images': ['https://d3gm2hf49xd6jj.cloudfront.net/43c604d1-ea09-485d-adc4-4ecbf8e9f453/S1A_IW_20230507T123901_DVP_RTC30_G_gpuned_476B.png', 'https://d3gm2hf49xd6jj.cloudfront.net/43c604d1-ea09-485d-adc4-4ecbf8e9f453/S1A_IW_20230507T123901_DVP_RTC30_G_gpuned_476B_rgb.png'], 'thumbnail_images': ['https://d3gm2hf49xd6jj.cloudfront.net/43c604d1-ea09-485d-adc4-4ecbf8e9f453/S1A_IW_20230507T123901_DVP_RTC30_G_gpuned_476B_thumb.png', 'https://d3gm2hf49xd6jj.cloudfront.net/43c604d1-ea09-485d-adc4-4ecbf8e9f453/S1A_IW_20230507T123901_DVP_RTC30_G_gpuned_476B_rgb_thumb.png'], 'expiration_time': '2024-05-09T00:00:00+00:00', 'processing_times': [1121.143], 'credit_cost': 5}), Job.from_dict({'job_id': '47344ecb-637f-417c-ad0c-73a6bca8e9f3', 'job_type': 'RTC_GAMMA', 'request_time': '2024-04-24T22:51:56+00:00', 'status_code': 'SUCCEEDED', 'user_id': 'jknicely_alaska.edu', 'name': 'Nepal', 'job_parameters': {'dem_matching': False, 'dem_name': 'copernicus', 'granules': ['S1A_IW_SLC__1SDV_20230119T123900_20230119T123927_046853_059E2F_F640'], 'include_dem': True, 'include_inc_map': False, 'include_rgb': False, 'include_scattering_area': False, 'radiometry': 'gamma0', 'resolution': 30, 'scale': 'power', 'speckle_filter': False}, 'files': [{'filename': 'S1A_IW_20230119T123900_DVP_RTC30_G_gpuned_5AA3.zip', 's3': {'bucket': 'hyp3-edc-prod-contentbucket-1fv14ed36ifj6', 'key': '47344ecb-637f-417c-ad0c-73a6bca8e9f3/S1A_IW_20230119T123900_DVP_RTC30_G_gpuned_5AA3.zip'}, 'size': 547429522, 'url': 'https://d3gm2hf49xd6jj.cloudfront.net/47344ecb-637f-417c-ad0c-73a6bca8e9f3/S1A_IW_20230119T123900_DVP_RTC30_G_gpuned_5AA3.zip'}], 'logs': [], 'browse_images': ['https://d3gm2hf49xd6jj.cloudfront.net/47344ecb-637f-417c-ad0c-73a6bca8e9f3/S1A_IW_20230119T123900_DVP_RTC30_G_gpuned_5AA3.png', 'https://d3gm2hf49xd6jj.cloudfront.net/47344ecb-637f-417c-ad0c-73a6bca8e9f3/S1A_IW_20230119T123900_DVP_RTC30_G_gpuned_5AA3_rgb.png'], 'thumbnail_images': ['https://d3gm2hf49xd6jj.cloudfront.net/47344ecb-637f-417c-ad0c-73a6bca8e9f3/S1A_IW_20230119T123900_DVP_RTC30_G_gpuned_5AA3_thumb.png', 'https://d3gm2hf49xd6jj.cloudfront.net/47344ecb-637f-417c-ad0c-73a6bca8e9f3/S1A_IW_20230119T123900_DVP_RTC30_G_gpuned_5AA3_rgb_thumb.png'], 'expiration_time': '2024-05-09T00:00:00+00:00', 'processing_times': [1118.751], 'credit_cost': 5}), Job.from_dict({'job_id': '0307515d-3e97-4371-99e4-f1f805bb54d2', 'job_type': 'RTC_GAMMA', 'request_time': '2024-04-24T22:51:56+00:00', 'status_code': 'SUCCEEDED', 'user_id': 'jknicely_alaska.edu', 'name': 'Nepal', 'job_parameters': {'dem_matching': False, 'dem_name': 'copernicus', 'granules': ['S1A_IW_SLC__1SDV_20230308T123859_20230308T123926_047553_05B5CB_6C9D'], 'include_dem': True, 'include_inc_map': False, 'include_rgb': False, 'include_scattering_area': False, 'radiometry': 'gamma0', 'resolution': 30, 'scale': 'power', 'speckle_filter': False}, 'files': [{'filename': 'S1A_IW_20230308T123859_DVP_RTC30_G_gpuned_07F5.zip', 's3': {'bucket': 'hyp3-edc-prod-contentbucket-1fv14ed36ifj6', 'key': '0307515d-3e97-4371-99e4-f1f805bb54d2/S1A_IW_20230308T123859_DVP_RTC30_G_gpuned_07F5.zip'}, 'size': 547376213, 'url': 'https://d3gm2hf49xd6jj.cloudfront.net/0307515d-3e97-4371-99e4-f1f805bb54d2/S1A_IW_20230308T123859_DVP_RTC30_G_gpuned_07F5.zip'}], 'logs': [], 'browse_images': ['https://d3gm2hf49xd6jj.cloudfront.net/0307515d-3e97-4371-99e4-f1f805bb54d2/S1A_IW_20230308T123859_DVP_RTC30_G_gpuned_07F5.png', 'https://d3gm2hf49xd6jj.cloudfront.net/0307515d-3e97-4371-99e4-f1f805bb54d2/S1A_IW_20230308T123859_DVP_RTC30_G_gpuned_07F5_rgb.png'], 'thumbnail_images': ['https://d3gm2hf49xd6jj.cloudfront.net/0307515d-3e97-4371-99e4-f1f805bb54d2/S1A_IW_20230308T123859_DVP_RTC30_G_gpuned_07F5_thumb.png', 'https://d3gm2hf49xd6jj.cloudfront.net/0307515d-3e97-4371-99e4-f1f805bb54d2/S1A_IW_20230308T123859_DVP_RTC30_G_gpuned_07F5_rgb_thumb.png'], 'expiration_time': '2024-05-09T00:00:00+00:00', 'processing_times': [1130.813], 'credit_cost': 5}), Job.from_dict({'job_id': '3a1759e3-7d37-42ca-9eff-417a97b6b7bc', 'job_type': 'RTC_GAMMA', 'request_time': '2024-04-24T22:51:56+00:00', 'status_code': 'SUCCEEDED', 'user_id': 'jknicely_alaska.edu', 'name': 'Nepal', 'job_parameters': {'dem_matching': False, 'dem_name': 'copernicus', 'granules': ['S1A_IW_SLC__1SDV_20230413T123900_20230413T123927_048078_05C782_A988'], 'include_dem': True, 'include_inc_map': False, 'include_rgb': False, 'include_scattering_area': False, 'radiometry': 'gamma0', 'resolution': 30, 'scale': 'power', 'speckle_filter': False}, 'files': [{'filename': 'S1A_IW_20230413T123900_DVP_RTC30_G_gpuned_9F96.zip', 's3': {'bucket': 'hyp3-edc-prod-contentbucket-1fv14ed36ifj6', 'key': '3a1759e3-7d37-42ca-9eff-417a97b6b7bc/S1A_IW_20230413T123900_DVP_RTC30_G_gpuned_9F96.zip'}, 'size': 547575394, 'url': 'https://d3gm2hf49xd6jj.cloudfront.net/3a1759e3-7d37-42ca-9eff-417a97b6b7bc/S1A_IW_20230413T123900_DVP_RTC30_G_gpuned_9F96.zip'}], 'logs': [], 'browse_images': ['https://d3gm2hf49xd6jj.cloudfront.net/3a1759e3-7d37-42ca-9eff-417a97b6b7bc/S1A_IW_20230413T123900_DVP_RTC30_G_gpuned_9F96.png', 'https://d3gm2hf49xd6jj.cloudfront.net/3a1759e3-7d37-42ca-9eff-417a97b6b7bc/S1A_IW_20230413T123900_DVP_RTC30_G_gpuned_9F96_rgb.png'], 'thumbnail_images': ['https://d3gm2hf49xd6jj.cloudfront.net/3a1759e3-7d37-42ca-9eff-417a97b6b7bc/S1A_IW_20230413T123900_DVP_RTC30_G_gpuned_9F96_thumb.png', 'https://d3gm2hf49xd6jj.cloudfront.net/3a1759e3-7d37-42ca-9eff-417a97b6b7bc/S1A_IW_20230413T123900_DVP_RTC30_G_gpuned_9F96_rgb_thumb.png'], 'expiration_time': '2024-05-09T00:00:00+00:00', 'processing_times': [1141.146], 'credit_cost': 5}), Job.from_dict({'job_id': '5e75974b-d228-47f7-992b-06f6f25d7ad6', 'job_type': 'RTC_GAMMA', 'request_time': '2024-04-24T22:51:56+00:00', 'status_code': 'SUCCEEDED', 'user_id': 'jknicely_alaska.edu', 'name': 'Nepal', 'job_parameters': {'dem_matching': False, 'dem_name': 'copernicus', 'granules': ['S1A_IW_SLC__1SDV_20230706T123905_20230706T123932_049303_05EDB2_8037'], 'include_dem': True, 'include_inc_map': False, 'include_rgb': False, 'include_scattering_area': False, 'radiometry': 'gamma0', 'resolution': 30, 'scale': 'power', 'speckle_filter': False}, 'files': [{'filename': 'S1A_IW_20230706T123905_DVP_RTC30_G_gpuned_7CC5.zip', 's3': {'bucket': 'hyp3-edc-prod-contentbucket-1fv14ed36ifj6', 'key': '5e75974b-d228-47f7-992b-06f6f25d7ad6/S1A_IW_20230706T123905_DVP_RTC30_G_gpuned_7CC5.zip'}, 'size': 544060611, 'url': 'https://d3gm2hf49xd6jj.cloudfront.net/5e75974b-d228-47f7-992b-06f6f25d7ad6/S1A_IW_20230706T123905_DVP_RTC30_G_gpuned_7CC5.zip'}], 'logs': [], 'browse_images': ['https://d3gm2hf49xd6jj.cloudfront.net/5e75974b-d228-47f7-992b-06f6f25d7ad6/S1A_IW_20230706T123905_DVP_RTC30_G_gpuned_7CC5.png', 'https://d3gm2hf49xd6jj.cloudfront.net/5e75974b-d228-47f7-992b-06f6f25d7ad6/S1A_IW_20230706T123905_DVP_RTC30_G_gpuned_7CC5_rgb.png'], 'thumbnail_images': ['https://d3gm2hf49xd6jj.cloudfront.net/5e75974b-d228-47f7-992b-06f6f25d7ad6/S1A_IW_20230706T123905_DVP_RTC30_G_gpuned_7CC5_thumb.png', 'https://d3gm2hf49xd6jj.cloudfront.net/5e75974b-d228-47f7-992b-06f6f25d7ad6/S1A_IW_20230706T123905_DVP_RTC30_G_gpuned_7CC5_rgb_thumb.png'], 'expiration_time': '2024-05-09T00:00:00+00:00', 'processing_times': [1127.13], 'credit_cost': 5}), Job.from_dict({'job_id': '2c8feb36-c9ce-480d-9ac7-35cbe777d7d5', 'job_type': 'RTC_GAMMA', 'request_time': '2024-04-24T22:51:56+00:00', 'status_code': 'SUCCEEDED', 'user_id': 'jknicely_alaska.edu', 'name': 'Nepal', 'job_parameters': {'dem_matching': False, 'dem_name': 'copernicus', 'granules': ['S1A_IW_SLC__1SDV_20230224T123859_20230224T123926_047378_05AFDE_9401'], 'include_dem': True, 'include_inc_map': False, 'include_rgb': False, 'include_scattering_area': False, 'radiometry': 'gamma0', 'resolution': 30, 'scale': 'power', 'speckle_filter': False}, 'files': [{'filename': 'S1A_IW_20230224T123859_DVP_RTC30_G_gpuned_C04B.zip', 's3': {'bucket': 'hyp3-edc-prod-contentbucket-1fv14ed36ifj6', 'key': '2c8feb36-c9ce-480d-9ac7-35cbe777d7d5/S1A_IW_20230224T123859_DVP_RTC30_G_gpuned_C04B.zip'}, 'size': 547495177, 'url': 'https://d3gm2hf49xd6jj.cloudfront.net/2c8feb36-c9ce-480d-9ac7-35cbe777d7d5/S1A_IW_20230224T123859_DVP_RTC30_G_gpuned_C04B.zip'}], 'logs': [], 'browse_images': ['https://d3gm2hf49xd6jj.cloudfront.net/2c8feb36-c9ce-480d-9ac7-35cbe777d7d5/S1A_IW_20230224T123859_DVP_RTC30_G_gpuned_C04B.png', 'https://d3gm2hf49xd6jj.cloudfront.net/2c8feb36-c9ce-480d-9ac7-35cbe777d7d5/S1A_IW_20230224T123859_DVP_RTC30_G_gpuned_C04B_rgb.png'], 'thumbnail_images': ['https://d3gm2hf49xd6jj.cloudfront.net/2c8feb36-c9ce-480d-9ac7-35cbe777d7d5/S1A_IW_20230224T123859_DVP_RTC30_G_gpuned_C04B_thumb.png', 'https://d3gm2hf49xd6jj.cloudfront.net/2c8feb36-c9ce-480d-9ac7-35cbe777d7d5/S1A_IW_20230224T123859_DVP_RTC30_G_gpuned_C04B_rgb_thumb.png'], 'expiration_time': '2024-05-09T00:00:00+00:00', 'processing_times': [1134.887], 'credit_cost': 5}), Job.from_dict({'job_id': 'fd7d9888-c60e-417e-a518-f8c154e3992a', 'job_type': 'RTC_GAMMA', 'request_time': '2024-04-24T22:51:56+00:00', 'status_code': 'SUCCEEDED', 'user_id': 'jknicely_alaska.edu', 'name': 'Nepal', 'job_parameters': {'dem_matching': False, 'dem_name': 'copernicus', 'granules': ['S1A_IW_SLC__1SDV_20230212T123900_20230212T123927_047203_05A9EC_ED66'], 'include_dem': True, 'include_inc_map': False, 'include_rgb': False, 'include_scattering_area': False, 'radiometry': 'gamma0', 'resolution': 30, 'scale': 'power', 'speckle_filter': False}, 'files': [{'filename': 'S1A_IW_20230212T123900_DVP_RTC30_G_gpuned_8A71.zip', 's3': {'bucket': 'hyp3-edc-prod-contentbucket-1fv14ed36ifj6', 'key': 'fd7d9888-c60e-417e-a518-f8c154e3992a/S1A_IW_20230212T123900_DVP_RTC30_G_gpuned_8A71.zip'}, 'size': 547500094, 'url': 'https://d3gm2hf49xd6jj.cloudfront.net/fd7d9888-c60e-417e-a518-f8c154e3992a/S1A_IW_20230212T123900_DVP_RTC30_G_gpuned_8A71.zip'}], 'logs': [], 'browse_images': ['https://d3gm2hf49xd6jj.cloudfront.net/fd7d9888-c60e-417e-a518-f8c154e3992a/S1A_IW_20230212T123900_DVP_RTC30_G_gpuned_8A71.png', 'https://d3gm2hf49xd6jj.cloudfront.net/fd7d9888-c60e-417e-a518-f8c154e3992a/S1A_IW_20230212T123900_DVP_RTC30_G_gpuned_8A71_rgb.png'], 'thumbnail_images': ['https://d3gm2hf49xd6jj.cloudfront.net/fd7d9888-c60e-417e-a518-f8c154e3992a/S1A_IW_20230212T123900_DVP_RTC30_G_gpuned_8A71_thumb.png', 'https://d3gm2hf49xd6jj.cloudfront.net/fd7d9888-c60e-417e-a518-f8c154e3992a/S1A_IW_20230212T123900_DVP_RTC30_G_gpuned_8A71_rgb_thumb.png'], 'expiration_time': '2024-05-09T00:00:00+00:00', 'processing_times': [1144.261], 'credit_cost': 5}), Job.from_dict({'job_id': '173bf54f-19dd-450d-99fd-c43662cccc9c', 'job_type': 'RTC_GAMMA', 'request_time': '2024-04-24T22:51:56+00:00', 'status_code': 'SUCCEEDED', 'user_id': 'jknicely_alaska.edu', 'name': 'Nepal', 'job_parameters': {'dem_matching': False, 'dem_name': 'copernicus', 'granules': ['S1A_IW_SLC__1SDV_20230519T123902_20230519T123929_048603_05D877_89F3'], 'include_dem': True, 'include_inc_map': False, 'include_rgb': False, 'include_scattering_area': False, 'radiometry': 'gamma0', 'resolution': 30, 'scale': 'power', 'speckle_filter': False}, 'files': [{'filename': 'S1A_IW_20230519T123902_DVP_RTC30_G_gpuned_F822.zip', 's3': {'bucket': 'hyp3-edc-prod-contentbucket-1fv14ed36ifj6', 'key': '173bf54f-19dd-450d-99fd-c43662cccc9c/S1A_IW_20230519T123902_DVP_RTC30_G_gpuned_F822.zip'}, 'size': 547940001, 'url': 'https://d3gm2hf49xd6jj.cloudfront.net/173bf54f-19dd-450d-99fd-c43662cccc9c/S1A_IW_20230519T123902_DVP_RTC30_G_gpuned_F822.zip'}], 'logs': [], 'browse_images': ['https://d3gm2hf49xd6jj.cloudfront.net/173bf54f-19dd-450d-99fd-c43662cccc9c/S1A_IW_20230519T123902_DVP_RTC30_G_gpuned_F822.png', 'https://d3gm2hf49xd6jj.cloudfront.net/173bf54f-19dd-450d-99fd-c43662cccc9c/S1A_IW_20230519T123902_DVP_RTC30_G_gpuned_F822_rgb.png'], 'thumbnail_images': ['https://d3gm2hf49xd6jj.cloudfront.net/173bf54f-19dd-450d-99fd-c43662cccc9c/S1A_IW_20230519T123902_DVP_RTC30_G_gpuned_F822_thumb.png', 'https://d3gm2hf49xd6jj.cloudfront.net/173bf54f-19dd-450d-99fd-c43662cccc9c/S1A_IW_20230519T123902_DVP_RTC30_G_gpuned_F822_rgb_thumb.png'], 'expiration_time': '2024-05-09T00:00:00+00:00', 'processing_times': [1140.382], 'credit_cost': 5}), Job.from_dict({'job_id': '4736a8ac-8966-459b-9989-f0b70708f21f', 'job_type': 'RTC_GAMMA', 'request_time': '2024-04-24T22:51:56+00:00', 'status_code': 'SUCCEEDED', 'user_id': 'jknicely_alaska.edu', 'name': 'Nepal', 'job_parameters': {'dem_matching': False, 'dem_name': 'copernicus', 'granules': ['S1A_IW_SLC__1SDV_20230531T123903_20230531T123930_048778_05DDB9_79BF'], 'include_dem': True, 'include_inc_map': False, 'include_rgb': False, 'include_scattering_area': False, 'radiometry': 'gamma0', 'resolution': 30, 'scale': 'power', 'speckle_filter': False}, 'files': [{'filename': 'S1A_IW_20230531T123903_DVP_RTC30_G_gpuned_4431.zip', 's3': {'bucket': 'hyp3-edc-prod-contentbucket-1fv14ed36ifj6', 'key': '4736a8ac-8966-459b-9989-f0b70708f21f/S1A_IW_20230531T123903_DVP_RTC30_G_gpuned_4431.zip'}, 'size': 547210768, 'url': 'https://d3gm2hf49xd6jj.cloudfront.net/4736a8ac-8966-459b-9989-f0b70708f21f/S1A_IW_20230531T123903_DVP_RTC30_G_gpuned_4431.zip'}], 'logs': [], 'browse_images': ['https://d3gm2hf49xd6jj.cloudfront.net/4736a8ac-8966-459b-9989-f0b70708f21f/S1A_IW_20230531T123903_DVP_RTC30_G_gpuned_4431.png', 'https://d3gm2hf49xd6jj.cloudfront.net/4736a8ac-8966-459b-9989-f0b70708f21f/S1A_IW_20230531T123903_DVP_RTC30_G_gpuned_4431_rgb.png'], 'thumbnail_images': ['https://d3gm2hf49xd6jj.cloudfront.net/4736a8ac-8966-459b-9989-f0b70708f21f/S1A_IW_20230531T123903_DVP_RTC30_G_gpuned_4431_thumb.png', 'https://d3gm2hf49xd6jj.cloudfront.net/4736a8ac-8966-459b-9989-f0b70708f21f/S1A_IW_20230531T123903_DVP_RTC30_G_gpuned_4431_rgb_thumb.png'], 'expiration_time': '2024-05-09T00:00:00+00:00', 'processing_times': [1125.144], 'credit_cost': 5}), Job.from_dict({'job_id': 'f5f976b0-bae7-4277-9bba-181437c91ce7', 'job_type': 'RTC_GAMMA', 'request_time': '2024-04-24T22:51:56+00:00', 'status_code': 'SUCCEEDED', 'user_id': 'jknicely_alaska.edu', 'name': 'Nepal', 'job_parameters': {'dem_matching': False, 'dem_name': 'copernicus', 'granules': ['S1A_IW_SLC__1SDV_20230718T123905_20230718T123932_049478_05F315_0272'], 'include_dem': True, 'include_inc_map': False, 'include_rgb': False, 'include_scattering_area': False, 'radiometry': 'gamma0', 'resolution': 30, 'scale': 'power', 'speckle_filter': False}, 'files': [{'filename': 'S1A_IW_20230718T123905_DVP_RTC30_G_gpuned_5AC9.zip', 's3': {'bucket': 'hyp3-edc-prod-contentbucket-1fv14ed36ifj6', 'key': 'f5f976b0-bae7-4277-9bba-181437c91ce7/S1A_IW_20230718T123905_DVP_RTC30_G_gpuned_5AC9.zip'}, 'size': 543777071, 'url': 'https://d3gm2hf49xd6jj.cloudfront.net/f5f976b0-bae7-4277-9bba-181437c91ce7/S1A_IW_20230718T123905_DVP_RTC30_G_gpuned_5AC9.zip'}], 'logs': [], 'browse_images': ['https://d3gm2hf49xd6jj.cloudfront.net/f5f976b0-bae7-4277-9bba-181437c91ce7/S1A_IW_20230718T123905_DVP_RTC30_G_gpuned_5AC9.png', 'https://d3gm2hf49xd6jj.cloudfront.net/f5f976b0-bae7-4277-9bba-181437c91ce7/S1A_IW_20230718T123905_DVP_RTC30_G_gpuned_5AC9_rgb.png'], 'thumbnail_images': ['https://d3gm2hf49xd6jj.cloudfront.net/f5f976b0-bae7-4277-9bba-181437c91ce7/S1A_IW_20230718T123905_DVP_RTC30_G_gpuned_5AC9_thumb.png', 'https://d3gm2hf49xd6jj.cloudfront.net/f5f976b0-bae7-4277-9bba-181437c91ce7/S1A_IW_20230718T123905_DVP_RTC30_G_gpuned_5AC9_rgb_thumb.png'], 'expiration_time': '2024-05-09T00:00:00+00:00', 'processing_times': [1136.361], 'credit_cost': 5}), Job.from_dict({'job_id': 'a47e5b71-6f0e-4b7c-aea1-50110897167b', 'job_type': 'RTC_GAMMA', 'request_time': '2024-04-24T22:51:56+00:00', 'status_code': 'SUCCEEDED', 'user_id': 'jknicely_alaska.edu', 'name': 'Nepal', 'job_parameters': {'dem_matching': False, 'dem_name': 'copernicus', 'granules': ['S1A_IW_SLC__1SDV_20230811T123906_20230811T123933_049828_05FE11_F22B'], 'include_dem': True, 'include_inc_map': False, 'include_rgb': False, 'include_scattering_area': False, 'radiometry': 'gamma0', 'resolution': 30, 'scale': 'power', 'speckle_filter': False}, 'files': [{'filename': 'S1A_IW_20230811T123906_DVP_RTC30_G_gpuned_04F4.zip', 's3': {'bucket': 'hyp3-edc-prod-contentbucket-1fv14ed36ifj6', 'key': 'a47e5b71-6f0e-4b7c-aea1-50110897167b/S1A_IW_20230811T123906_DVP_RTC30_G_gpuned_04F4.zip'}, 'size': 542490872, 'url': 'https://d3gm2hf49xd6jj.cloudfront.net/a47e5b71-6f0e-4b7c-aea1-50110897167b/S1A_IW_20230811T123906_DVP_RTC30_G_gpuned_04F4.zip'}], 'logs': [], 'browse_images': ['https://d3gm2hf49xd6jj.cloudfront.net/a47e5b71-6f0e-4b7c-aea1-50110897167b/S1A_IW_20230811T123906_DVP_RTC30_G_gpuned_04F4.png', 'https://d3gm2hf49xd6jj.cloudfront.net/a47e5b71-6f0e-4b7c-aea1-50110897167b/S1A_IW_20230811T123906_DVP_RTC30_G_gpuned_04F4_rgb.png'], 'thumbnail_images': ['https://d3gm2hf49xd6jj.cloudfront.net/a47e5b71-6f0e-4b7c-aea1-50110897167b/S1A_IW_20230811T123906_DVP_RTC30_G_gpuned_04F4_thumb.png', 'https://d3gm2hf49xd6jj.cloudfront.net/a47e5b71-6f0e-4b7c-aea1-50110897167b/S1A_IW_20230811T123906_DVP_RTC30_G_gpuned_04F4_rgb_thumb.png'], 'expiration_time': '2024-05-09T00:00:00+00:00', 'processing_times': [1121.17], 'credit_cost': 5}), Job.from_dict({'job_id': '7374465d-3e8a-441d-b719-015ac2832d58', 'job_type': 'RTC_GAMMA', 'request_time': '2024-04-24T22:51:56+00:00', 'status_code': 'SUCCEEDED', 'user_id': 'jknicely_alaska.edu', 'name': 'Nepal', 'job_parameters': {'dem_matching': False, 'dem_name': 'copernicus', 'granules': ['S1A_IW_SLC__1SDV_20230320T123900_20230320T123927_047728_05BBB7_BC00'], 'include_dem': True, 'include_inc_map': False, 'include_rgb': False, 'include_scattering_area': False, 'radiometry': 'gamma0', 'resolution': 30, 'scale': 'power', 'speckle_filter': False}, 'files': [{'filename': 'S1A_IW_20230320T123900_DVP_RTC30_G_gpuned_71C4.zip', 's3': {'bucket': 'hyp3-edc-prod-contentbucket-1fv14ed36ifj6', 'key': '7374465d-3e8a-441d-b719-015ac2832d58/S1A_IW_20230320T123900_DVP_RTC30_G_gpuned_71C4.zip'}, 'size': 545934528, 'url': 'https://d3gm2hf49xd6jj.cloudfront.net/7374465d-3e8a-441d-b719-015ac2832d58/S1A_IW_20230320T123900_DVP_RTC30_G_gpuned_71C4.zip'}], 'logs': [], 'browse_images': ['https://d3gm2hf49xd6jj.cloudfront.net/7374465d-3e8a-441d-b719-015ac2832d58/S1A_IW_20230320T123900_DVP_RTC30_G_gpuned_71C4.png', 'https://d3gm2hf49xd6jj.cloudfront.net/7374465d-3e8a-441d-b719-015ac2832d58/S1A_IW_20230320T123900_DVP_RTC30_G_gpuned_71C4_rgb.png'], 'thumbnail_images': ['https://d3gm2hf49xd6jj.cloudfront.net/7374465d-3e8a-441d-b719-015ac2832d58/S1A_IW_20230320T123900_DVP_RTC30_G_gpuned_71C4_thumb.png', 'https://d3gm2hf49xd6jj.cloudfront.net/7374465d-3e8a-441d-b719-015ac2832d58/S1A_IW_20230320T123900_DVP_RTC30_G_gpuned_71C4_rgb_thumb.png'], 'expiration_time': '2024-05-09T00:00:00+00:00', 'processing_times': [1117.37], 'credit_cost': 5}), Job.from_dict({'job_id': 'ee06bb51-dda9-47d3-804a-9976cc2eb622', 'job_type': 'RTC_GAMMA', 'request_time': '2024-04-24T22:51:56+00:00', 'status_code': 'SUCCEEDED', 'user_id': 'jknicely_alaska.edu', 'name': 'Nepal', 'job_parameters': {'dem_matching': False, 'dem_name': 'copernicus', 'granules': ['S1A_IW_SLC__1SDV_20230425T123901_20230425T123928_048253_05CD62_EF7F'], 'include_dem': True, 'include_inc_map': False, 'include_rgb': False, 'include_scattering_area': False, 'radiometry': 'gamma0', 'resolution': 30, 'scale': 'power', 'speckle_filter': False}, 'files': [{'filename': 'S1A_IW_20230425T123901_DVP_RTC30_G_gpuned_EC5A.zip', 's3': {'bucket': 'hyp3-edc-prod-contentbucket-1fv14ed36ifj6', 'key': 'ee06bb51-dda9-47d3-804a-9976cc2eb622/S1A_IW_20230425T123901_DVP_RTC30_G_gpuned_EC5A.zip'}, 'size': 548354668, 'url': 'https://d3gm2hf49xd6jj.cloudfront.net/ee06bb51-dda9-47d3-804a-9976cc2eb622/S1A_IW_20230425T123901_DVP_RTC30_G_gpuned_EC5A.zip'}], 'logs': [], 'browse_images': ['https://d3gm2hf49xd6jj.cloudfront.net/ee06bb51-dda9-47d3-804a-9976cc2eb622/S1A_IW_20230425T123901_DVP_RTC30_G_gpuned_EC5A.png', 'https://d3gm2hf49xd6jj.cloudfront.net/ee06bb51-dda9-47d3-804a-9976cc2eb622/S1A_IW_20230425T123901_DVP_RTC30_G_gpuned_EC5A_rgb.png'], 'thumbnail_images': ['https://d3gm2hf49xd6jj.cloudfront.net/ee06bb51-dda9-47d3-804a-9976cc2eb622/S1A_IW_20230425T123901_DVP_RTC30_G_gpuned_EC5A_thumb.png', 'https://d3gm2hf49xd6jj.cloudfront.net/ee06bb51-dda9-47d3-804a-9976cc2eb622/S1A_IW_20230425T123901_DVP_RTC30_G_gpuned_EC5A_rgb_thumb.png'], 'expiration_time': '2024-05-09T00:00:00+00:00', 'processing_times': [1132.904], 'credit_cost': 5}), Job.from_dict({'job_id': 'ec8d6dd8-ab0f-4118-b699-2fe8b351b8be', 'job_type': 'RTC_GAMMA', 'request_time': '2024-04-24T22:51:54+00:00', 'status_code': 'SUCCEEDED', 'user_id': 'jknicely_alaska.edu', 'name': 'Nepal', 'job_parameters': {'dem_matching': False, 'dem_name': 'copernicus', 'granules': ['S1A_IW_SLC__1SDV_20231221T123906_20231221T123933_051753_064028_04CA'], 'include_dem': True, 'include_inc_map': False, 'include_rgb': False, 'include_scattering_area': False, 'radiometry': 'gamma0', 'resolution': 30, 'scale': 'power', 'speckle_filter': False}, 'files': [{'filename': 'S1A_IW_20231221T123906_DVP_RTC30_G_gpuned_0EE8.zip', 's3': {'bucket': 'hyp3-edc-prod-contentbucket-1fv14ed36ifj6', 'key': 'ec8d6dd8-ab0f-4118-b699-2fe8b351b8be/S1A_IW_20231221T123906_DVP_RTC30_G_gpuned_0EE8.zip'}, 'size': 547308126, 'url': 'https://d3gm2hf49xd6jj.cloudfront.net/ec8d6dd8-ab0f-4118-b699-2fe8b351b8be/S1A_IW_20231221T123906_DVP_RTC30_G_gpuned_0EE8.zip'}], 'logs': [], 'browse_images': ['https://d3gm2hf49xd6jj.cloudfront.net/ec8d6dd8-ab0f-4118-b699-2fe8b351b8be/S1A_IW_20231221T123906_DVP_RTC30_G_gpuned_0EE8.png', 'https://d3gm2hf49xd6jj.cloudfront.net/ec8d6dd8-ab0f-4118-b699-2fe8b351b8be/S1A_IW_20231221T123906_DVP_RTC30_G_gpuned_0EE8_rgb.png'], 'thumbnail_images': ['https://d3gm2hf49xd6jj.cloudfront.net/ec8d6dd8-ab0f-4118-b699-2fe8b351b8be/S1A_IW_20231221T123906_DVP_RTC30_G_gpuned_0EE8_thumb.png', 'https://d3gm2hf49xd6jj.cloudfront.net/ec8d6dd8-ab0f-4118-b699-2fe8b351b8be/S1A_IW_20231221T123906_DVP_RTC30_G_gpuned_0EE8_rgb_thumb.png'], 'expiration_time': '2024-05-09T00:00:00+00:00', 'processing_times': [1189.396], 'credit_cost': 5}), Job.from_dict({'job_id': '2cec90d1-6b36-4537-933b-9bd45cffee1d', 'job_type': 'RTC_GAMMA', 'request_time': '2024-04-24T22:51:54+00:00', 'status_code': 'SUCCEEDED', 'user_id': 'jknicely_alaska.edu', 'name': 'Nepal', 'job_parameters': {'dem_matching': False, 'dem_name': 'copernicus', 'granules': ['S1A_IW_SLC__1SDV_20240302T123905_20240302T123932_052803_0663CD_9545'], 'include_dem': True, 'include_inc_map': False, 'include_rgb': False, 'include_scattering_area': False, 'radiometry': 'gamma0', 'resolution': 30, 'scale': 'power', 'speckle_filter': False}, 'files': [{'filename': 'S1A_IW_20240302T123905_DVP_RTC30_G_gpuned_2982.zip', 's3': {'bucket': 'hyp3-edc-prod-contentbucket-1fv14ed36ifj6', 'key': '2cec90d1-6b36-4537-933b-9bd45cffee1d/S1A_IW_20240302T123905_DVP_RTC30_G_gpuned_2982.zip'}, 'size': 545975816, 'url': 'https://d3gm2hf49xd6jj.cloudfront.net/2cec90d1-6b36-4537-933b-9bd45cffee1d/S1A_IW_20240302T123905_DVP_RTC30_G_gpuned_2982.zip'}], 'logs': [], 'browse_images': ['https://d3gm2hf49xd6jj.cloudfront.net/2cec90d1-6b36-4537-933b-9bd45cffee1d/S1A_IW_20240302T123905_DVP_RTC30_G_gpuned_2982.png', 'https://d3gm2hf49xd6jj.cloudfront.net/2cec90d1-6b36-4537-933b-9bd45cffee1d/S1A_IW_20240302T123905_DVP_RTC30_G_gpuned_2982_rgb.png'], 'thumbnail_images': ['https://d3gm2hf49xd6jj.cloudfront.net/2cec90d1-6b36-4537-933b-9bd45cffee1d/S1A_IW_20240302T123905_DVP_RTC30_G_gpuned_2982_thumb.png', 'https://d3gm2hf49xd6jj.cloudfront.net/2cec90d1-6b36-4537-933b-9bd45cffee1d/S1A_IW_20240302T123905_DVP_RTC30_G_gpuned_2982_rgb_thumb.png'], 'expiration_time': '2024-05-09T00:00:00+00:00', 'processing_times': [1169.339], 'credit_cost': 5}), Job.from_dict({'job_id': 'ded2b589-186f-4ee4-904e-30167ac192ba', 'job_type': 'RTC_GAMMA', 'request_time': '2024-04-24T22:51:54+00:00', 'status_code': 'SUCCEEDED', 'user_id': 'jknicely_alaska.edu', 'name': 'Nepal', 'job_parameters': {'dem_matching': False, 'dem_name': 'copernicus', 'granules': ['S1A_IW_SLC__1SDV_20231010T123909_20231010T123935_050703_061BF6_1A69'], 'include_dem': True, 'include_inc_map': False, 'include_rgb': False, 'include_scattering_area': False, 'radiometry': 'gamma0', 'resolution': 30, 'scale': 'power', 'speckle_filter': False}, 'files': [{'filename': 'S1A_IW_20231010T123909_DVP_RTC30_G_gpuned_2251.zip', 's3': {'bucket': 'hyp3-edc-prod-contentbucket-1fv14ed36ifj6', 'key': 'ded2b589-186f-4ee4-904e-30167ac192ba/S1A_IW_20231010T123909_DVP_RTC30_G_gpuned_2251.zip'}, 'size': 544067239, 'url': 'https://d3gm2hf49xd6jj.cloudfront.net/ded2b589-186f-4ee4-904e-30167ac192ba/S1A_IW_20231010T123909_DVP_RTC30_G_gpuned_2251.zip'}], 'logs': [], 'browse_images': ['https://d3gm2hf49xd6jj.cloudfront.net/ded2b589-186f-4ee4-904e-30167ac192ba/S1A_IW_20231010T123909_DVP_RTC30_G_gpuned_2251.png', 'https://d3gm2hf49xd6jj.cloudfront.net/ded2b589-186f-4ee4-904e-30167ac192ba/S1A_IW_20231010T123909_DVP_RTC30_G_gpuned_2251_rgb.png'], 'thumbnail_images': ['https://d3gm2hf49xd6jj.cloudfront.net/ded2b589-186f-4ee4-904e-30167ac192ba/S1A_IW_20231010T123909_DVP_RTC30_G_gpuned_2251_thumb.png', 'https://d3gm2hf49xd6jj.cloudfront.net/ded2b589-186f-4ee4-904e-30167ac192ba/S1A_IW_20231010T123909_DVP_RTC30_G_gpuned_2251_rgb_thumb.png'], 'expiration_time': '2024-05-09T00:00:00+00:00', 'processing_times': [1180.364], 'credit_cost': 5}), Job.from_dict({'job_id': 'ece16e5d-da36-4292-83db-539168bf16f8', 'job_type': 'RTC_GAMMA', 'request_time': '2024-04-24T22:51:54+00:00', 'status_code': 'SUCCEEDED', 'user_id': 'jknicely_alaska.edu', 'name': 'Nepal', 'job_parameters': {'dem_matching': False, 'dem_name': 'copernicus', 'granules': ['S1A_IW_SLC__1SDV_20230916T123909_20230916T123936_050353_060FF6_47F8'], 'include_dem': True, 'include_inc_map': False, 'include_rgb': False, 'include_scattering_area': False, 'radiometry': 'gamma0', 'resolution': 30, 'scale': 'power', 'speckle_filter': False}, 'files': [{'filename': 'S1A_IW_20230916T123909_DVP_RTC30_G_gpuned_10A0.zip', 's3': {'bucket': 'hyp3-edc-prod-contentbucket-1fv14ed36ifj6', 'key': 'ece16e5d-da36-4292-83db-539168bf16f8/S1A_IW_20230916T123909_DVP_RTC30_G_gpuned_10A0.zip'}, 'size': 542340208, 'url': 'https://d3gm2hf49xd6jj.cloudfront.net/ece16e5d-da36-4292-83db-539168bf16f8/S1A_IW_20230916T123909_DVP_RTC30_G_gpuned_10A0.zip'}], 'logs': [], 'browse_images': ['https://d3gm2hf49xd6jj.cloudfront.net/ece16e5d-da36-4292-83db-539168bf16f8/S1A_IW_20230916T123909_DVP_RTC30_G_gpuned_10A0.png', 'https://d3gm2hf49xd6jj.cloudfront.net/ece16e5d-da36-4292-83db-539168bf16f8/S1A_IW_20230916T123909_DVP_RTC30_G_gpuned_10A0_rgb.png'], 'thumbnail_images': ['https://d3gm2hf49xd6jj.cloudfront.net/ece16e5d-da36-4292-83db-539168bf16f8/S1A_IW_20230916T123909_DVP_RTC30_G_gpuned_10A0_thumb.png', 'https://d3gm2hf49xd6jj.cloudfront.net/ece16e5d-da36-4292-83db-539168bf16f8/S1A_IW_20230916T123909_DVP_RTC30_G_gpuned_10A0_rgb_thumb.png'], 'expiration_time': '2024-05-09T00:00:00+00:00', 'processing_times': [1132.947], 'credit_cost': 5}), Job.from_dict({'job_id': 'dbf730e7-e29e-43c0-937a-818ee6f6c2f7', 'job_type': 'RTC_GAMMA', 'request_time': '2024-04-24T22:51:54+00:00', 'status_code': 'SUCCEEDED', 'user_id': 'jknicely_alaska.edu', 'name': 'Nepal', 'job_parameters': {'dem_matching': False, 'dem_name': 'copernicus', 'granules': ['S1A_IW_SLC__1SDV_20240114T123905_20240114T123932_052103_064C20_D52D'], 'include_dem': True, 'include_inc_map': False, 'include_rgb': False, 'include_scattering_area': False, 'radiometry': 'gamma0', 'resolution': 30, 'scale': 'power', 'speckle_filter': False}, 'files': [{'filename': 'S1A_IW_20240114T123905_DVP_RTC30_G_gpuned_BDA8.zip', 's3': {'bucket': 'hyp3-edc-prod-contentbucket-1fv14ed36ifj6', 'key': 'dbf730e7-e29e-43c0-937a-818ee6f6c2f7/S1A_IW_20240114T123905_DVP_RTC30_G_gpuned_BDA8.zip'}, 'size': 547199133, 'url': 'https://d3gm2hf49xd6jj.cloudfront.net/dbf730e7-e29e-43c0-937a-818ee6f6c2f7/S1A_IW_20240114T123905_DVP_RTC30_G_gpuned_BDA8.zip'}], 'logs': [], 'browse_images': ['https://d3gm2hf49xd6jj.cloudfront.net/dbf730e7-e29e-43c0-937a-818ee6f6c2f7/S1A_IW_20240114T123905_DVP_RTC30_G_gpuned_BDA8.png', 'https://d3gm2hf49xd6jj.cloudfront.net/dbf730e7-e29e-43c0-937a-818ee6f6c2f7/S1A_IW_20240114T123905_DVP_RTC30_G_gpuned_BDA8_rgb.png'], 'thumbnail_images': ['https://d3gm2hf49xd6jj.cloudfront.net/dbf730e7-e29e-43c0-937a-818ee6f6c2f7/S1A_IW_20240114T123905_DVP_RTC30_G_gpuned_BDA8_thumb.png', 'https://d3gm2hf49xd6jj.cloudfront.net/dbf730e7-e29e-43c0-937a-818ee6f6c2f7/S1A_IW_20240114T123905_DVP_RTC30_G_gpuned_BDA8_rgb_thumb.png'], 'expiration_time': '2024-05-09T00:00:00+00:00', 'processing_times': [1174.796], 'credit_cost': 5}), Job.from_dict({'job_id': '269a7659-c0c5-41c1-84a4-ac2f81b7fc59', 'job_type': 'RTC_GAMMA', 'request_time': '2024-04-24T22:51:54+00:00', 'status_code': 'SUCCEEDED', 'user_id': 'jknicely_alaska.edu', 'name': 'Nepal', 'job_parameters': {'dem_matching': False, 'dem_name': 'copernicus', 'granules': ['S1A_IW_SLC__1SDV_20240102T123906_20240102T123933_051928_064624_6C40'], 'include_dem': True, 'include_inc_map': False, 'include_rgb': False, 'include_scattering_area': False, 'radiometry': 'gamma0', 'resolution': 30, 'scale': 'power', 'speckle_filter': False}, 'files': [{'filename': 'S1A_IW_20240102T123906_DVP_RTC30_G_gpuned_3131.zip', 's3': {'bucket': 'hyp3-edc-prod-contentbucket-1fv14ed36ifj6', 'key': '269a7659-c0c5-41c1-84a4-ac2f81b7fc59/S1A_IW_20240102T123906_DVP_RTC30_G_gpuned_3131.zip'}, 'size': 547173070, 'url': 'https://d3gm2hf49xd6jj.cloudfront.net/269a7659-c0c5-41c1-84a4-ac2f81b7fc59/S1A_IW_20240102T123906_DVP_RTC30_G_gpuned_3131.zip'}], 'logs': [], 'browse_images': ['https://d3gm2hf49xd6jj.cloudfront.net/269a7659-c0c5-41c1-84a4-ac2f81b7fc59/S1A_IW_20240102T123906_DVP_RTC30_G_gpuned_3131.png', 'https://d3gm2hf49xd6jj.cloudfront.net/269a7659-c0c5-41c1-84a4-ac2f81b7fc59/S1A_IW_20240102T123906_DVP_RTC30_G_gpuned_3131_rgb.png'], 'thumbnail_images': ['https://d3gm2hf49xd6jj.cloudfront.net/269a7659-c0c5-41c1-84a4-ac2f81b7fc59/S1A_IW_20240102T123906_DVP_RTC30_G_gpuned_3131_thumb.png', 'https://d3gm2hf49xd6jj.cloudfront.net/269a7659-c0c5-41c1-84a4-ac2f81b7fc59/S1A_IW_20240102T123906_DVP_RTC30_G_gpuned_3131_rgb_thumb.png'], 'expiration_time': '2024-05-09T00:00:00+00:00', 'processing_times': [1187.399], 'credit_cost': 5}), Job.from_dict({'job_id': 'c7f113d8-1b05-4962-9b46-ad837fbe4b7d', 'job_type': 'RTC_GAMMA', 'request_time': '2024-04-24T22:51:54+00:00', 'status_code': 'SUCCEEDED', 'user_id': 'jknicely_alaska.edu', 'name': 'Nepal', 'job_parameters': {'dem_matching': False, 'dem_name': 'copernicus', 'granules': ['S1A_IW_SLC__1SDV_20240407T123906_20240407T123933_053328_06773A_2BE9'], 'include_dem': True, 'include_inc_map': False, 'include_rgb': False, 'include_scattering_area': False, 'radiometry': 'gamma0', 'resolution': 30, 'scale': 'power', 'speckle_filter': False}, 'files': [{'filename': 'S1A_IW_20240407T123906_DVR_RTC30_G_gpuned_255F.zip', 's3': {'bucket': 'hyp3-edc-prod-contentbucket-1fv14ed36ifj6', 'key': 'c7f113d8-1b05-4962-9b46-ad837fbe4b7d/S1A_IW_20240407T123906_DVR_RTC30_G_gpuned_255F.zip'}, 'size': 547598512, 'url': 'https://d3gm2hf49xd6jj.cloudfront.net/c7f113d8-1b05-4962-9b46-ad837fbe4b7d/S1A_IW_20240407T123906_DVR_RTC30_G_gpuned_255F.zip'}], 'logs': [], 'browse_images': ['https://d3gm2hf49xd6jj.cloudfront.net/c7f113d8-1b05-4962-9b46-ad837fbe4b7d/S1A_IW_20240407T123906_DVR_RTC30_G_gpuned_255F.png', 'https://d3gm2hf49xd6jj.cloudfront.net/c7f113d8-1b05-4962-9b46-ad837fbe4b7d/S1A_IW_20240407T123906_DVR_RTC30_G_gpuned_255F_rgb.png'], 'thumbnail_images': ['https://d3gm2hf49xd6jj.cloudfront.net/c7f113d8-1b05-4962-9b46-ad837fbe4b7d/S1A_IW_20240407T123906_DVR_RTC30_G_gpuned_255F_thumb.png', 'https://d3gm2hf49xd6jj.cloudfront.net/c7f113d8-1b05-4962-9b46-ad837fbe4b7d/S1A_IW_20240407T123906_DVR_RTC30_G_gpuned_255F_rgb_thumb.png'], 'expiration_time': '2024-05-09T00:00:00+00:00', 'processing_times': [1186.143], 'credit_cost': 5}), Job.from_dict({'job_id': '0f435a54-29e8-4ce3-874d-33f0506ff23b', 'job_type': 'RTC_GAMMA', 'request_time': '2024-04-24T22:51:54+00:00', 'status_code': 'SUCCEEDED', 'user_id': 'jknicely_alaska.edu', 'name': 'Nepal', 'job_parameters': {'dem_matching': False, 'dem_name': 'copernicus', 'granules': ['S1A_IW_SLC__1SDV_20240126T123905_20240126T123932_052278_0651FC_A05B'], 'include_dem': True, 'include_inc_map': False, 'include_rgb': False, 'include_scattering_area': False, 'radiometry': 'gamma0', 'resolution': 30, 'scale': 'power', 'speckle_filter': False}, 'files': [{'filename': 'S1A_IW_20240126T123905_DVP_RTC30_G_gpuned_394E.zip', 's3': {'bucket': 'hyp3-edc-prod-contentbucket-1fv14ed36ifj6', 'key': '0f435a54-29e8-4ce3-874d-33f0506ff23b/S1A_IW_20240126T123905_DVP_RTC30_G_gpuned_394E.zip'}, 'size': 547397649, 'url': 'https://d3gm2hf49xd6jj.cloudfront.net/0f435a54-29e8-4ce3-874d-33f0506ff23b/S1A_IW_20240126T123905_DVP_RTC30_G_gpuned_394E.zip'}], 'logs': [], 'browse_images': ['https://d3gm2hf49xd6jj.cloudfront.net/0f435a54-29e8-4ce3-874d-33f0506ff23b/S1A_IW_20240126T123905_DVP_RTC30_G_gpuned_394E.png', 'https://d3gm2hf49xd6jj.cloudfront.net/0f435a54-29e8-4ce3-874d-33f0506ff23b/S1A_IW_20240126T123905_DVP_RTC30_G_gpuned_394E_rgb.png'], 'thumbnail_images': ['https://d3gm2hf49xd6jj.cloudfront.net/0f435a54-29e8-4ce3-874d-33f0506ff23b/S1A_IW_20240126T123905_DVP_RTC30_G_gpuned_394E_thumb.png', 'https://d3gm2hf49xd6jj.cloudfront.net/0f435a54-29e8-4ce3-874d-33f0506ff23b/S1A_IW_20240126T123905_DVP_RTC30_G_gpuned_394E_rgb_thumb.png'], 'expiration_time': '2024-05-09T00:00:00+00:00', 'processing_times': [1174.61], 'credit_cost': 5}), Job.from_dict({'job_id': '982b9915-eba2-4c0e-bf2d-abbbe4afedb4', 'job_type': 'RTC_GAMMA', 'request_time': '2024-04-24T22:51:54+00:00', 'status_code': 'SUCCEEDED', 'user_id': 'jknicely_alaska.edu', 'name': 'Nepal', 'job_parameters': {'dem_matching': False, 'dem_name': 'copernicus', 'granules': ['S1A_IW_SLC__1SDV_20231209T123908_20231209T123934_051578_063A0E_D4F3'], 'include_dem': True, 'include_inc_map': False, 'include_rgb': False, 'include_scattering_area': False, 'radiometry': 'gamma0', 'resolution': 30, 'scale': 'power', 'speckle_filter': False}, 'files': [{'filename': 'S1A_IW_20231209T123908_DVP_RTC30_G_gpuned_C567.zip', 's3': {'bucket': 'hyp3-edc-prod-contentbucket-1fv14ed36ifj6', 'key': '982b9915-eba2-4c0e-bf2d-abbbe4afedb4/S1A_IW_20231209T123908_DVP_RTC30_G_gpuned_C567.zip'}, 'size': 547207024, 'url': 'https://d3gm2hf49xd6jj.cloudfront.net/982b9915-eba2-4c0e-bf2d-abbbe4afedb4/S1A_IW_20231209T123908_DVP_RTC30_G_gpuned_C567.zip'}], 'logs': [], 'browse_images': ['https://d3gm2hf49xd6jj.cloudfront.net/982b9915-eba2-4c0e-bf2d-abbbe4afedb4/S1A_IW_20231209T123908_DVP_RTC30_G_gpuned_C567.png', 'https://d3gm2hf49xd6jj.cloudfront.net/982b9915-eba2-4c0e-bf2d-abbbe4afedb4/S1A_IW_20231209T123908_DVP_RTC30_G_gpuned_C567_rgb.png'], 'thumbnail_images': ['https://d3gm2hf49xd6jj.cloudfront.net/982b9915-eba2-4c0e-bf2d-abbbe4afedb4/S1A_IW_20231209T123908_DVP_RTC30_G_gpuned_C567_thumb.png', 'https://d3gm2hf49xd6jj.cloudfront.net/982b9915-eba2-4c0e-bf2d-abbbe4afedb4/S1A_IW_20231209T123908_DVP_RTC30_G_gpuned_C567_rgb_thumb.png'], 'expiration_time': '2024-05-09T00:00:00+00:00', 'processing_times': [1191.959], 'credit_cost': 5}), Job.from_dict({'job_id': '4cefcff7-3f1b-4576-a5a5-712022c74180', 'job_type': 'RTC_GAMMA', 'request_time': '2024-04-24T22:51:54+00:00', 'status_code': 'SUCCEEDED', 'user_id': 'jknicely_alaska.edu', 'name': 'Nepal', 'job_parameters': {'dem_matching': False, 'dem_name': 'copernicus', 'granules': ['S1A_IW_SLC__1SDV_20230823T123907_20230823T123934_050003_060404_7030'], 'include_dem': True, 'include_inc_map': False, 'include_rgb': False, 'include_scattering_area': False, 'radiometry': 'gamma0', 'resolution': 30, 'scale': 'power', 'speckle_filter': False}, 'files': [{'filename': 'S1A_IW_20230823T123907_DVP_RTC30_G_gpuned_6EFB.zip', 's3': {'bucket': 'hyp3-edc-prod-contentbucket-1fv14ed36ifj6', 'key': '4cefcff7-3f1b-4576-a5a5-712022c74180/S1A_IW_20230823T123907_DVP_RTC30_G_gpuned_6EFB.zip'}, 'size': 541367763, 'url': 'https://d3gm2hf49xd6jj.cloudfront.net/4cefcff7-3f1b-4576-a5a5-712022c74180/S1A_IW_20230823T123907_DVP_RTC30_G_gpuned_6EFB.zip'}], 'logs': [], 'browse_images': ['https://d3gm2hf49xd6jj.cloudfront.net/4cefcff7-3f1b-4576-a5a5-712022c74180/S1A_IW_20230823T123907_DVP_RTC30_G_gpuned_6EFB.png', 'https://d3gm2hf49xd6jj.cloudfront.net/4cefcff7-3f1b-4576-a5a5-712022c74180/S1A_IW_20230823T123907_DVP_RTC30_G_gpuned_6EFB_rgb.png'], 'thumbnail_images': ['https://d3gm2hf49xd6jj.cloudfront.net/4cefcff7-3f1b-4576-a5a5-712022c74180/S1A_IW_20230823T123907_DVP_RTC30_G_gpuned_6EFB_thumb.png', 'https://d3gm2hf49xd6jj.cloudfront.net/4cefcff7-3f1b-4576-a5a5-712022c74180/S1A_IW_20230823T123907_DVP_RTC30_G_gpuned_6EFB_rgb_thumb.png'], 'expiration_time': '2024-05-09T00:00:00+00:00', 'processing_times': [1136.681], 'credit_cost': 5}), Job.from_dict({'job_id': '38f44344-c7c1-487c-9cd9-e57c8696de6e', 'job_type': 'RTC_GAMMA', 'request_time': '2024-04-24T22:51:54+00:00', 'status_code': 'SUCCEEDED', 'user_id': 'jknicely_alaska.edu', 'name': 'Nepal', 'job_parameters': {'dem_matching': False, 'dem_name': 'copernicus', 'granules': ['S1A_IW_SLC__1SDV_20240207T123905_20240207T123932_052453_0657ED_EA63'], 'include_dem': True, 'include_inc_map': False, 'include_rgb': False, 'include_scattering_area': False, 'radiometry': 'gamma0', 'resolution': 30, 'scale': 'power', 'speckle_filter': False}, 'files': [{'filename': 'S1A_IW_20240207T123905_DVP_RTC30_G_gpuned_20AF.zip', 's3': {'bucket': 'hyp3-edc-prod-contentbucket-1fv14ed36ifj6', 'key': '38f44344-c7c1-487c-9cd9-e57c8696de6e/S1A_IW_20240207T123905_DVP_RTC30_G_gpuned_20AF.zip'}, 'size': 547377726, 'url': 'https://d3gm2hf49xd6jj.cloudfront.net/38f44344-c7c1-487c-9cd9-e57c8696de6e/S1A_IW_20240207T123905_DVP_RTC30_G_gpuned_20AF.zip'}], 'logs': [], 'browse_images': ['https://d3gm2hf49xd6jj.cloudfront.net/38f44344-c7c1-487c-9cd9-e57c8696de6e/S1A_IW_20240207T123905_DVP_RTC30_G_gpuned_20AF.png', 'https://d3gm2hf49xd6jj.cloudfront.net/38f44344-c7c1-487c-9cd9-e57c8696de6e/S1A_IW_20240207T123905_DVP_RTC30_G_gpuned_20AF_rgb.png'], 'thumbnail_images': ['https://d3gm2hf49xd6jj.cloudfront.net/38f44344-c7c1-487c-9cd9-e57c8696de6e/S1A_IW_20240207T123905_DVP_RTC30_G_gpuned_20AF_thumb.png', 'https://d3gm2hf49xd6jj.cloudfront.net/38f44344-c7c1-487c-9cd9-e57c8696de6e/S1A_IW_20240207T123905_DVP_RTC30_G_gpuned_20AF_rgb_thumb.png'], 'expiration_time': '2024-05-09T00:00:00+00:00', 'processing_times': [1182.144], 'credit_cost': 5}), Job.from_dict({'job_id': '1b47543c-0c60-4d03-8e38-9a3e603831aa', 'job_type': 'RTC_GAMMA', 'request_time': '2024-04-24T22:51:54+00:00', 'status_code': 'SUCCEEDED', 'user_id': 'jknicely_alaska.edu', 'name': 'Nepal', 'job_parameters': {'dem_matching': False, 'dem_name': 'copernicus', 'granules': ['S1A_IW_SLC__1SDV_20230928T123909_20230928T123936_050528_0615F1_76A4'], 'include_dem': True, 'include_inc_map': False, 'include_rgb': False, 'include_scattering_area': False, 'radiometry': 'gamma0', 'resolution': 30, 'scale': 'power', 'speckle_filter': False}, 'files': [{'filename': 'S1A_IW_20230928T123909_DVP_RTC30_G_gpuned_01DB.zip', 's3': {'bucket': 'hyp3-edc-prod-contentbucket-1fv14ed36ifj6', 'key': '1b47543c-0c60-4d03-8e38-9a3e603831aa/S1A_IW_20230928T123909_DVP_RTC30_G_gpuned_01DB.zip'}, 'size': 543818280, 'url': 'https://d3gm2hf49xd6jj.cloudfront.net/1b47543c-0c60-4d03-8e38-9a3e603831aa/S1A_IW_20230928T123909_DVP_RTC30_G_gpuned_01DB.zip'}], 'logs': [], 'browse_images': ['https://d3gm2hf49xd6jj.cloudfront.net/1b47543c-0c60-4d03-8e38-9a3e603831aa/S1A_IW_20230928T123909_DVP_RTC30_G_gpuned_01DB.png', 'https://d3gm2hf49xd6jj.cloudfront.net/1b47543c-0c60-4d03-8e38-9a3e603831aa/S1A_IW_20230928T123909_DVP_RTC30_G_gpuned_01DB_rgb.png'], 'thumbnail_images': ['https://d3gm2hf49xd6jj.cloudfront.net/1b47543c-0c60-4d03-8e38-9a3e603831aa/S1A_IW_20230928T123909_DVP_RTC30_G_gpuned_01DB_thumb.png', 'https://d3gm2hf49xd6jj.cloudfront.net/1b47543c-0c60-4d03-8e38-9a3e603831aa/S1A_IW_20230928T123909_DVP_RTC30_G_gpuned_01DB_rgb_thumb.png'], 'expiration_time': '2024-05-09T00:00:00+00:00', 'processing_times': [1191.357], 'credit_cost': 5}), Job.from_dict({'job_id': 'dc0d859b-4fc1-421f-a227-51228b876639', 'job_type': 'RTC_GAMMA', 'request_time': '2024-04-24T22:51:54+00:00', 'status_code': 'SUCCEEDED', 'user_id': 'jknicely_alaska.edu', 'name': 'Nepal', 'job_parameters': {'dem_matching': False, 'dem_name': 'copernicus', 'granules': ['S1A_IW_SLC__1SDV_20240219T123905_20240219T123932_052628_065DD8_6F18'], 'include_dem': True, 'include_inc_map': False, 'include_rgb': False, 'include_scattering_area': False, 'radiometry': 'gamma0', 'resolution': 30, 'scale': 'power', 'speckle_filter': False}, 'files': [{'filename': 'S1A_IW_20240219T123905_DVP_RTC30_G_gpuned_1653.zip', 's3': {'bucket': 'hyp3-edc-prod-contentbucket-1fv14ed36ifj6', 'key': 'dc0d859b-4fc1-421f-a227-51228b876639/S1A_IW_20240219T123905_DVP_RTC30_G_gpuned_1653.zip'}, 'size': 547539447, 'url': 'https://d3gm2hf49xd6jj.cloudfront.net/dc0d859b-4fc1-421f-a227-51228b876639/S1A_IW_20240219T123905_DVP_RTC30_G_gpuned_1653.zip'}], 'logs': [], 'browse_images': ['https://d3gm2hf49xd6jj.cloudfront.net/dc0d859b-4fc1-421f-a227-51228b876639/S1A_IW_20240219T123905_DVP_RTC30_G_gpuned_1653.png', 'https://d3gm2hf49xd6jj.cloudfront.net/dc0d859b-4fc1-421f-a227-51228b876639/S1A_IW_20240219T123905_DVP_RTC30_G_gpuned_1653_rgb.png'], 'thumbnail_images': ['https://d3gm2hf49xd6jj.cloudfront.net/dc0d859b-4fc1-421f-a227-51228b876639/S1A_IW_20240219T123905_DVP_RTC30_G_gpuned_1653_thumb.png', 'https://d3gm2hf49xd6jj.cloudfront.net/dc0d859b-4fc1-421f-a227-51228b876639/S1A_IW_20240219T123905_DVP_RTC30_G_gpuned_1653_rgb_thumb.png'], 'expiration_time': '2024-05-09T00:00:00+00:00', 'processing_times': [1188.306], 'credit_cost': 5}), Job.from_dict({'job_id': '45bdb033-6b01-430a-8ef0-e9412b9fee95', 'job_type': 'RTC_GAMMA', 'request_time': '2024-04-24T22:51:54+00:00', 'status_code': 'SUCCEEDED', 'user_id': 'jknicely_alaska.edu', 'name': 'Nepal', 'job_parameters': {'dem_matching': False, 'dem_name': 'copernicus', 'granules': ['S1A_IW_SLC__1SDV_20240419T123906_20240419T123933_053503_067E2C_C136'], 'include_dem': True, 'include_inc_map': False, 'include_rgb': False, 'include_scattering_area': False, 'radiometry': 'gamma0', 'resolution': 30, 'scale': 'power', 'speckle_filter': False}, 'files': [{'filename': 'S1A_IW_20240419T123906_DVR_RTC30_G_gpuned_EA20.zip', 's3': {'bucket': 'hyp3-edc-prod-contentbucket-1fv14ed36ifj6', 'key': '45bdb033-6b01-430a-8ef0-e9412b9fee95/S1A_IW_20240419T123906_DVR_RTC30_G_gpuned_EA20.zip'}, 'size': 548252126, 'url': 'https://d3gm2hf49xd6jj.cloudfront.net/45bdb033-6b01-430a-8ef0-e9412b9fee95/S1A_IW_20240419T123906_DVR_RTC30_G_gpuned_EA20.zip'}], 'logs': [], 'browse_images': ['https://d3gm2hf49xd6jj.cloudfront.net/45bdb033-6b01-430a-8ef0-e9412b9fee95/S1A_IW_20240419T123906_DVR_RTC30_G_gpuned_EA20.png', 'https://d3gm2hf49xd6jj.cloudfront.net/45bdb033-6b01-430a-8ef0-e9412b9fee95/S1A_IW_20240419T123906_DVR_RTC30_G_gpuned_EA20_rgb.png'], 'thumbnail_images': ['https://d3gm2hf49xd6jj.cloudfront.net/45bdb033-6b01-430a-8ef0-e9412b9fee95/S1A_IW_20240419T123906_DVR_RTC30_G_gpuned_EA20_thumb.png', 'https://d3gm2hf49xd6jj.cloudfront.net/45bdb033-6b01-430a-8ef0-e9412b9fee95/S1A_IW_20240419T123906_DVR_RTC30_G_gpuned_EA20_rgb_thumb.png'], 'expiration_time': '2024-05-09T00:00:00+00:00', 'processing_times': [1200.96], 'credit_cost': 5}), Job.from_dict({'job_id': 'fd9f3d35-63ba-4a33-978b-7423d637ec4f', 'job_type': 'RTC_GAMMA', 'request_time': '2024-04-24T22:51:54+00:00', 'status_code': 'SUCCEEDED', 'user_id': 'jknicely_alaska.edu', 'name': 'Nepal', 'job_parameters': {'dem_matching': False, 'dem_name': 'copernicus', 'granules': ['S1A_IW_SLC__1SDV_20240314T123905_20240314T123932_052978_0669C2_399C'], 'include_dem': True, 'include_inc_map': False, 'include_rgb': False, 'include_scattering_area': False, 'radiometry': 'gamma0', 'resolution': 30, 'scale': 'power', 'speckle_filter': False}, 'files': [{'filename': 'S1A_IW_20240314T123905_DVP_RTC30_G_gpuned_07C0.zip', 's3': {'bucket': 'hyp3-edc-prod-contentbucket-1fv14ed36ifj6', 'key': 'fd9f3d35-63ba-4a33-978b-7423d637ec4f/S1A_IW_20240314T123905_DVP_RTC30_G_gpuned_07C0.zip'}, 'size': 546936014, 'url': 'https://d3gm2hf49xd6jj.cloudfront.net/fd9f3d35-63ba-4a33-978b-7423d637ec4f/S1A_IW_20240314T123905_DVP_RTC30_G_gpuned_07C0.zip'}], 'logs': [], 'browse_images': ['https://d3gm2hf49xd6jj.cloudfront.net/fd9f3d35-63ba-4a33-978b-7423d637ec4f/S1A_IW_20240314T123905_DVP_RTC30_G_gpuned_07C0.png', 'https://d3gm2hf49xd6jj.cloudfront.net/fd9f3d35-63ba-4a33-978b-7423d637ec4f/S1A_IW_20240314T123905_DVP_RTC30_G_gpuned_07C0_rgb.png'], 'thumbnail_images': ['https://d3gm2hf49xd6jj.cloudfront.net/fd9f3d35-63ba-4a33-978b-7423d637ec4f/S1A_IW_20240314T123905_DVP_RTC30_G_gpuned_07C0_thumb.png', 'https://d3gm2hf49xd6jj.cloudfront.net/fd9f3d35-63ba-4a33-978b-7423d637ec4f/S1A_IW_20240314T123905_DVP_RTC30_G_gpuned_07C0_rgb_thumb.png'], 'expiration_time': '2024-05-09T00:00:00+00:00', 'processing_times': [1165.57], 'credit_cost': 5}), Job.from_dict({'job_id': 'd7e72c7a-76c1-4036-90ef-fde28d079544', 'job_type': 'RTC_GAMMA', 'request_time': '2024-04-24T22:51:54+00:00', 'status_code': 'SUCCEEDED', 'user_id': 'jknicely_alaska.edu', 'name': 'Nepal', 'job_parameters': {'dem_matching': False, 'dem_name': 'copernicus', 'granules': ['S1A_IW_SLC__1SDV_20231103T123908_20231103T123935_051053_0627EA_E1F7'], 'include_dem': True, 'include_inc_map': False, 'include_rgb': False, 'include_scattering_area': False, 'radiometry': 'gamma0', 'resolution': 30, 'scale': 'power', 'speckle_filter': False}, 'files': [{'filename': 'S1A_IW_20231103T123908_DVP_RTC30_G_gpuned_D774.zip', 's3': {'bucket': 'hyp3-edc-prod-contentbucket-1fv14ed36ifj6', 'key': 'd7e72c7a-76c1-4036-90ef-fde28d079544/S1A_IW_20231103T123908_DVP_RTC30_G_gpuned_D774.zip'}, 'size': 546432454, 'url': 'https://d3gm2hf49xd6jj.cloudfront.net/d7e72c7a-76c1-4036-90ef-fde28d079544/S1A_IW_20231103T123908_DVP_RTC30_G_gpuned_D774.zip'}], 'logs': [], 'browse_images': ['https://d3gm2hf49xd6jj.cloudfront.net/d7e72c7a-76c1-4036-90ef-fde28d079544/S1A_IW_20231103T123908_DVP_RTC30_G_gpuned_D774.png', 'https://d3gm2hf49xd6jj.cloudfront.net/d7e72c7a-76c1-4036-90ef-fde28d079544/S1A_IW_20231103T123908_DVP_RTC30_G_gpuned_D774_rgb.png'], 'thumbnail_images': ['https://d3gm2hf49xd6jj.cloudfront.net/d7e72c7a-76c1-4036-90ef-fde28d079544/S1A_IW_20231103T123908_DVP_RTC30_G_gpuned_D774_thumb.png', 'https://d3gm2hf49xd6jj.cloudfront.net/d7e72c7a-76c1-4036-90ef-fde28d079544/S1A_IW_20231103T123908_DVP_RTC30_G_gpuned_D774_rgb_thumb.png'], 'expiration_time': '2024-05-09T00:00:00+00:00', 'processing_times': [1189.058], 'credit_cost': 5}), Job.from_dict({'job_id': '2b5fadad-8558-4c3c-ab08-b0a8ff1776cd', 'job_type': 'RTC_GAMMA', 'request_time': '2024-04-24T22:51:54+00:00', 'status_code': 'SUCCEEDED', 'user_id': 'jknicely_alaska.edu', 'name': 'Nepal', 'job_parameters': {'dem_matching': False, 'dem_name': 'copernicus', 'granules': ['S1A_IW_SLC__1SDV_20231127T123908_20231127T123935_051403_063400_20C2'], 'include_dem': True, 'include_inc_map': False, 'include_rgb': False, 'include_scattering_area': False, 'radiometry': 'gamma0', 'resolution': 30, 'scale': 'power', 'speckle_filter': False}, 'files': [{'filename': 'S1A_IW_20231127T123908_DVP_RTC30_G_gpuned_0187.zip', 's3': {'bucket': 'hyp3-edc-prod-contentbucket-1fv14ed36ifj6', 'key': '2b5fadad-8558-4c3c-ab08-b0a8ff1776cd/S1A_IW_20231127T123908_DVP_RTC30_G_gpuned_0187.zip'}, 'size': 547380395, 'url': 'https://d3gm2hf49xd6jj.cloudfront.net/2b5fadad-8558-4c3c-ab08-b0a8ff1776cd/S1A_IW_20231127T123908_DVP_RTC30_G_gpuned_0187.zip'}], 'logs': [], 'browse_images': ['https://d3gm2hf49xd6jj.cloudfront.net/2b5fadad-8558-4c3c-ab08-b0a8ff1776cd/S1A_IW_20231127T123908_DVP_RTC30_G_gpuned_0187.png', 'https://d3gm2hf49xd6jj.cloudfront.net/2b5fadad-8558-4c3c-ab08-b0a8ff1776cd/S1A_IW_20231127T123908_DVP_RTC30_G_gpuned_0187_rgb.png'], 'thumbnail_images': ['https://d3gm2hf49xd6jj.cloudfront.net/2b5fadad-8558-4c3c-ab08-b0a8ff1776cd/S1A_IW_20231127T123908_DVP_RTC30_G_gpuned_0187_thumb.png', 'https://d3gm2hf49xd6jj.cloudfront.net/2b5fadad-8558-4c3c-ab08-b0a8ff1776cd/S1A_IW_20231127T123908_DVP_RTC30_G_gpuned_0187_rgb_thumb.png'], 'expiration_time': '2024-05-09T00:00:00+00:00', 'processing_times': [1173.559], 'credit_cost': 5}), Job.from_dict({'job_id': '8c306517-a202-4dec-9ca2-6e059c028aef', 'job_type': 'RTC_GAMMA', 'request_time': '2024-04-24T22:51:54+00:00', 'status_code': 'SUCCEEDED', 'user_id': 'jknicely_alaska.edu', 'name': 'Nepal', 'job_parameters': {'dem_matching': False, 'dem_name': 'copernicus', 'granules': ['S1A_IW_SLC__1SDV_20230904T123908_20230904T123935_050178_060A0D_5467'], 'include_dem': True, 'include_inc_map': False, 'include_rgb': False, 'include_scattering_area': False, 'radiometry': 'gamma0', 'resolution': 30, 'scale': 'power', 'speckle_filter': False}, 'files': [{'filename': 'S1A_IW_20230904T123908_DVP_RTC30_G_gpuned_42C6.zip', 's3': {'bucket': 'hyp3-edc-prod-contentbucket-1fv14ed36ifj6', 'key': '8c306517-a202-4dec-9ca2-6e059c028aef/S1A_IW_20230904T123908_DVP_RTC30_G_gpuned_42C6.zip'}, 'size': 543179885, 'url': 'https://d3gm2hf49xd6jj.cloudfront.net/8c306517-a202-4dec-9ca2-6e059c028aef/S1A_IW_20230904T123908_DVP_RTC30_G_gpuned_42C6.zip'}], 'logs': [], 'browse_images': ['https://d3gm2hf49xd6jj.cloudfront.net/8c306517-a202-4dec-9ca2-6e059c028aef/S1A_IW_20230904T123908_DVP_RTC30_G_gpuned_42C6.png', 'https://d3gm2hf49xd6jj.cloudfront.net/8c306517-a202-4dec-9ca2-6e059c028aef/S1A_IW_20230904T123908_DVP_RTC30_G_gpuned_42C6_rgb.png'], 'thumbnail_images': ['https://d3gm2hf49xd6jj.cloudfront.net/8c306517-a202-4dec-9ca2-6e059c028aef/S1A_IW_20230904T123908_DVP_RTC30_G_gpuned_42C6_thumb.png', 'https://d3gm2hf49xd6jj.cloudfront.net/8c306517-a202-4dec-9ca2-6e059c028aef/S1A_IW_20230904T123908_DVP_RTC30_G_gpuned_42C6_rgb_thumb.png'], 'expiration_time': '2024-05-09T00:00:00+00:00', 'processing_times': [1148.324], 'credit_cost': 5}), Job.from_dict({'job_id': '270138a7-b984-4ed3-a574-3a549530699a', 'job_type': 'RTC_GAMMA', 'request_time': '2024-04-24T22:51:54+00:00', 'status_code': 'SUCCEEDED', 'user_id': 'jknicely_alaska.edu', 'name': 'Nepal', 'job_parameters': {'dem_matching': False, 'dem_name': 'copernicus', 'granules': ['S1A_IW_SLC__1SDV_20240326T123905_20240326T123932_053153_067081_3CA3'], 'include_dem': True, 'include_inc_map': False, 'include_rgb': False, 'include_scattering_area': False, 'radiometry': 'gamma0', 'resolution': 30, 'scale': 'power', 'speckle_filter': False}, 'files': [{'filename': 'S1A_IW_20240326T123905_DVP_RTC30_G_gpuned_84BC.zip', 's3': {'bucket': 'hyp3-edc-prod-contentbucket-1fv14ed36ifj6', 'key': '270138a7-b984-4ed3-a574-3a549530699a/S1A_IW_20240326T123905_DVP_RTC30_G_gpuned_84BC.zip'}, 'size': 547263534, 'url': 'https://d3gm2hf49xd6jj.cloudfront.net/270138a7-b984-4ed3-a574-3a549530699a/S1A_IW_20240326T123905_DVP_RTC30_G_gpuned_84BC.zip'}], 'logs': [], 'browse_images': ['https://d3gm2hf49xd6jj.cloudfront.net/270138a7-b984-4ed3-a574-3a549530699a/S1A_IW_20240326T123905_DVP_RTC30_G_gpuned_84BC.png', 'https://d3gm2hf49xd6jj.cloudfront.net/270138a7-b984-4ed3-a574-3a549530699a/S1A_IW_20240326T123905_DVP_RTC30_G_gpuned_84BC_rgb.png'], 'thumbnail_images': ['https://d3gm2hf49xd6jj.cloudfront.net/270138a7-b984-4ed3-a574-3a549530699a/S1A_IW_20240326T123905_DVP_RTC30_G_gpuned_84BC_thumb.png', 'https://d3gm2hf49xd6jj.cloudfront.net/270138a7-b984-4ed3-a574-3a549530699a/S1A_IW_20240326T123905_DVP_RTC30_G_gpuned_84BC_rgb_thumb.png'], 'expiration_time': '2024-05-09T00:00:00+00:00', 'processing_times': [1190.771], 'credit_cost': 5}), Job.from_dict({'job_id': 'a38c0bf7-d4ec-4b1d-af6c-66deb41de42b', 'job_type': 'RTC_GAMMA', 'request_time': '2024-04-24T22:51:54+00:00', 'status_code': 'SUCCEEDED', 'user_id': 'jknicely_alaska.edu', 'name': 'Nepal', 'job_parameters': {'dem_matching': False, 'dem_name': 'copernicus', 'granules': ['S1A_IW_SLC__1SDV_20231115T123908_20231115T123935_051228_062DF7_B889'], 'include_dem': True, 'include_inc_map': False, 'include_rgb': False, 'include_scattering_area': False, 'radiometry': 'gamma0', 'resolution': 30, 'scale': 'power', 'speckle_filter': False}, 'files': [{'filename': 'S1A_IW_20231115T123908_DVP_RTC30_G_gpuned_893E.zip', 's3': {'bucket': 'hyp3-edc-prod-contentbucket-1fv14ed36ifj6', 'key': 'a38c0bf7-d4ec-4b1d-af6c-66deb41de42b/S1A_IW_20231115T123908_DVP_RTC30_G_gpuned_893E.zip'}, 'size': 546934221, 'url': 'https://d3gm2hf49xd6jj.cloudfront.net/a38c0bf7-d4ec-4b1d-af6c-66deb41de42b/S1A_IW_20231115T123908_DVP_RTC30_G_gpuned_893E.zip'}], 'logs': [], 'browse_images': ['https://d3gm2hf49xd6jj.cloudfront.net/a38c0bf7-d4ec-4b1d-af6c-66deb41de42b/S1A_IW_20231115T123908_DVP_RTC30_G_gpuned_893E.png', 'https://d3gm2hf49xd6jj.cloudfront.net/a38c0bf7-d4ec-4b1d-af6c-66deb41de42b/S1A_IW_20231115T123908_DVP_RTC30_G_gpuned_893E_rgb.png'], 'thumbnail_images': ['https://d3gm2hf49xd6jj.cloudfront.net/a38c0bf7-d4ec-4b1d-af6c-66deb41de42b/S1A_IW_20231115T123908_DVP_RTC30_G_gpuned_893E_thumb.png', 'https://d3gm2hf49xd6jj.cloudfront.net/a38c0bf7-d4ec-4b1d-af6c-66deb41de42b/S1A_IW_20231115T123908_DVP_RTC30_G_gpuned_893E_rgb_thumb.png'], 'expiration_time': '2024-05-09T00:00:00+00:00', 'processing_times': [1198.543], 'credit_cost': 5})])"
      ]
     },
     "execution_count": 14,
     "metadata": {},
     "output_type": "execute_result"
    }
   ],
   "source": [
    "batch"
   ]
  },
  {
   "cell_type": "code",
   "execution_count": 15,
   "metadata": {},
   "outputs": [
    {
     "data": {
      "text/markdown": [
       "<text style='color:darkred;'><text style='font-size:150%;'>This may take some time for projects containing many jobs...</text></text>"
      ],
      "text/plain": [
       "<IPython.core.display.Markdown object>"
      ]
     },
     "metadata": {},
     "output_type": "display_data"
    },
    {
     "name": "stderr",
     "output_type": "stream",
     "text": [
      "/home/jovyan/.local/envs/hydrosar_rtc_era5/lib/python3.12/site-packages/tzlocal/unix.py:193: UserWarning: Can not find any timezone configuration, defaulting to UTC.\n",
      "  warnings.warn(\"Can not find any timezone configuration, defaulting to UTC.\")\n"
     ]
    },
    {
     "data": {
      "text/markdown": [
       "<text style=color:blue><text style='font-size:175%;'>Done.</text></text>"
      ],
      "text/plain": [
       "<IPython.core.display.Markdown object>"
      ]
     },
     "metadata": {},
     "output_type": "display_data"
    }
   ],
   "source": [
    "display(Markdown(\"<text style='color:darkred;'><text style='font-size:150%;'>This may take some time for projects containing many jobs...</text></text>\"))\n",
    "asfn.set_paths_orbits(batch)\n",
    "paths = set()\n",
    "orbit_directions = set()\n",
    "for p in batch:\n",
    "    paths.add(p.path)\n",
    "    orbit_directions.add(p.orbit_direction)\n",
    "paths.add('All Paths')\n",
    "display(Markdown(f\"<text style=color:blue><text style='font-size:175%;'>Done.</text></text>\"))"
   ]
  },
  {
   "cell_type": "markdown",
   "metadata": {},
   "source": [
    "---\n",
    "**Select a path or paths (use shift or ctrl to select multiple paths):**"
   ]
  },
  {
   "cell_type": "code",
   "execution_count": 16,
   "metadata": {},
   "outputs": [
    {
     "data": {
      "text/markdown": [
       "<text style='color:darkred;'>Note: After selecting a path, you must select the next cell before hitting the 'Run' button or typing Shift/Enter.</text>"
      ],
      "text/plain": [
       "<IPython.core.display.Markdown object>"
      ]
     },
     "metadata": {},
     "output_type": "display_data"
    },
    {
     "data": {
      "text/markdown": [
       "<text style='color:darkred;'>Otherwise, you will simply rerun this code cell.</text>"
      ],
      "text/plain": [
       "<IPython.core.display.Markdown object>"
      ]
     },
     "metadata": {},
     "output_type": "display_data"
    },
    {
     "name": "stdout",
     "output_type": "stream",
     "text": [
      "\n",
      "Select a Path:\n"
     ]
    },
    {
     "data": {
      "application/vnd.jupyter.widget-view+json": {
       "model_id": "590008da4d5140cbaae25ad21ee25c82",
       "version_major": 2,
       "version_minor": 0
      },
      "text/plain": [
       "SelectMultiple(layout=Layout(height='38px', width='175px'), options=(56, 'All Paths'), value=())"
      ]
     },
     "execution_count": 16,
     "metadata": {},
     "output_type": "execute_result"
    }
   ],
   "source": [
    "display(Markdown(\"<text style='color:darkred;'>Note: After selecting a path, you must select the next cell before hitting the 'Run' button or typing Shift/Enter.</text>\"))\n",
    "display(Markdown(\"<text style='color:darkred;'>Otherwise, you will simply rerun this code cell.</text>\"))\n",
    "print('\\nSelect a Path:')\n",
    "path_choice = asfn.select_mult_parameters(paths)\n",
    "path_choice"
   ]
  },
  {
   "cell_type": "markdown",
   "metadata": {},
   "source": [
    "**Save the selected flight path/s:**"
   ]
  },
  {
   "cell_type": "code",
   "execution_count": 17,
   "metadata": {},
   "outputs": [
    {
     "name": "stdout",
     "output_type": "stream",
     "text": [
      "Flight Path: (56,)\n"
     ]
    }
   ],
   "source": [
    "flight_path = path_choice.value\n",
    "if flight_path:\n",
    "    if flight_path:\n",
    "        print(f\"Flight Path: {flight_path}\")\n",
    "    else:\n",
    "        print('Flight Path: All Paths')\n",
    "else:\n",
    "    print(\"WARNING: You must select a flight path in the previous cell, then rerun this cell.\")"
   ]
  },
  {
   "cell_type": "markdown",
   "metadata": {},
   "source": [
    "**Select an orbit direction:**"
   ]
  },
  {
   "cell_type": "code",
   "execution_count": 18,
   "metadata": {},
   "outputs": [
    {
     "name": "stdout",
     "output_type": "stream",
     "text": [
      "\n",
      "Select a Flight Direction:\n"
     ]
    },
    {
     "data": {
      "application/vnd.jupyter.widget-view+json": {
       "model_id": "8f561cb7b3804ee2a4199b2f56221fa1",
       "version_major": 2,
       "version_minor": 0
      },
      "text/plain": [
       "RadioButtons(description='Direction:', layout=Layout(min_width='800px'), options=('ASCENDING',), value='ASCEND…"
      ]
     },
     "execution_count": 18,
     "metadata": {},
     "output_type": "execute_result"
    }
   ],
   "source": [
    "if len(orbit_directions) > 1:\n",
    "    display(Markdown(\"<text style='color:red;'>Note: After selecting a flight direction, you must select the next cell before hitting the 'Run' button or typing Shift/Enter.</text>\"))\n",
    "    display(Markdown(\"<text style='color:red;'>Otherwise, you will simply rerun this code cell.</text>\"))\n",
    "print('\\nSelect a Flight Direction:')\n",
    "direction_choice = asfn.select_parameter(orbit_directions, 'Direction:')\n",
    "direction_choice"
   ]
  },
  {
   "cell_type": "markdown",
   "metadata": {},
   "source": [
    "**Save the selected orbit direction:**"
   ]
  },
  {
   "cell_type": "code",
   "execution_count": 19,
   "metadata": {},
   "outputs": [
    {
     "name": "stdout",
     "output_type": "stream",
     "text": [
      "Orbit Direction: ASCENDING\n"
     ]
    }
   ],
   "source": [
    "direction = direction_choice.value\n",
    "print(f\"Orbit Direction: {direction}\")"
   ]
  },
  {
   "cell_type": "markdown",
   "metadata": {},
   "source": [
    "**Filter jobs by path and orbit direction:**"
   ]
  },
  {
   "cell_type": "code",
   "execution_count": 20,
   "metadata": {},
   "outputs": [
    {
     "name": "stdout",
     "output_type": "stream",
     "text": [
      "There are 123 products to download.\n"
     ]
    }
   ],
   "source": [
    "batch = asfn.filter_jobs_by_path(batch, flight_path)\n",
    "batch = asfn.filter_jobs_by_orbit(batch, direction)\n",
    "print(f\"There are {len(batch)} products to download.\")"
   ]
  },
  {
   "cell_type": "markdown",
   "metadata": {},
   "source": [
    "**Download the products, unzip them into a directory named after the product type, and delete the zip files:**\n",
    "\n",
    "Note: The below code cell will return an error message if all VERTEX jobs within the selected timeframe have not been completed at the time of download. "
   ]
  },
  {
   "cell_type": "code",
   "execution_count": null,
   "metadata": {
    "scrolled": true,
    "tags": []
   },
   "outputs": [
    {
     "name": "stdout",
     "output_type": "stream",
     "text": [
      "/home/jovyan/hydrosar/Dataset/Nepal_sF/RTC_GAMMA\n",
      "\n",
      "Project: Nepal\n"
     ]
    },
    {
     "data": {
      "application/vnd.jupyter.widget-view+json": {
       "model_id": "0134dc73d5fe4e94b22db3aa1b7cd0bf",
       "version_major": 2,
       "version_minor": 0
      },
      "text/plain": [
       "  0%|          | 0/123 [00:00<?, ?it/s]"
      ]
     },
     "metadata": {},
     "output_type": "display_data"
    },
    {
     "data": {
      "application/vnd.jupyter.widget-view+json": {
       "model_id": "7af8c58a45104622b9d7be2e1fb19685",
       "version_major": 2,
       "version_minor": 0
      },
      "text/plain": [
       "S1A_IW_20200323T123842_DVP_RTC30_G_gpuned_96AF.zip:   0%|          | 0/546699357 [00:00<?, ?it/s]"
      ]
     },
     "metadata": {},
     "output_type": "display_data"
    },
    {
     "data": {
      "application/vnd.jupyter.widget-view+json": {
       "model_id": "f43e42ea1d59449bb855b7a39560b030",
       "version_major": 2,
       "version_minor": 0
      },
      "text/plain": [
       "S1A_IW_20200416T123843_DVP_RTC30_G_gpuned_AD99.zip:   0%|          | 0/547967118 [00:00<?, ?it/s]"
      ]
     },
     "metadata": {},
     "output_type": "display_data"
    },
    {
     "data": {
      "application/vnd.jupyter.widget-view+json": {
       "model_id": "41346be44fa541ebb0989ccf89e19e4e",
       "version_major": 2,
       "version_minor": 0
      },
      "text/plain": [
       "S1A_IW_20200404T123843_DVP_RTC30_G_gpuned_67B4.zip:   0%|          | 0/547230660 [00:00<?, ?it/s]"
      ]
     },
     "metadata": {},
     "output_type": "display_data"
    },
    {
     "data": {
      "application/vnd.jupyter.widget-view+json": {
       "model_id": "cc34f14e8c2c4905841b067e1b40352d",
       "version_major": 2,
       "version_minor": 0
      },
      "text/plain": [
       "S1A_IW_20200919T123852_DVP_RTC30_G_gpuned_BDA4.zip:   0%|          | 0/543602341 [00:00<?, ?it/s]"
      ]
     },
     "metadata": {},
     "output_type": "display_data"
    },
    {
     "data": {
      "application/vnd.jupyter.widget-view+json": {
       "model_id": "e6fd2d00bc6c4849bef4eaaec4211399",
       "version_major": 2,
       "version_minor": 0
      },
      "text/plain": [
       "S1A_IW_20200907T123851_DVP_RTC30_G_gpuned_24C0.zip:   0%|          | 0/543453588 [00:00<?, ?it/s]"
      ]
     },
     "metadata": {},
     "output_type": "display_data"
    },
    {
     "data": {
      "application/vnd.jupyter.widget-view+json": {
       "model_id": "c2aed0d4aa1249e79ca3e73eea07a581",
       "version_major": 2,
       "version_minor": 0
      },
      "text/plain": [
       "S1A_IW_20200814T123850_DVP_RTC30_G_gpuned_72EE.zip:   0%|          | 0/542550952 [00:00<?, ?it/s]"
      ]
     },
     "metadata": {},
     "output_type": "display_data"
    },
    {
     "data": {
      "application/vnd.jupyter.widget-view+json": {
       "model_id": "48b804cb1fca4b3aa14eb6543e76fba8",
       "version_major": 2,
       "version_minor": 0
      },
      "text/plain": [
       "S1A_IW_20200627T123847_DVP_RTC30_G_gpuned_DC09.zip:   0%|          | 0/544685496 [00:00<?, ?it/s]"
      ]
     },
     "metadata": {},
     "output_type": "display_data"
    },
    {
     "data": {
      "application/vnd.jupyter.widget-view+json": {
       "model_id": "7c647f1dbe6447d689634aee91512e3b",
       "version_major": 2,
       "version_minor": 0
      },
      "text/plain": [
       "S1A_IW_20200522T123845_DVP_RTC30_G_gpuned_4C1D.zip:   0%|          | 0/546950917 [00:00<?, ?it/s]"
      ]
     },
     "metadata": {},
     "output_type": "display_data"
    },
    {
     "data": {
      "application/vnd.jupyter.widget-view+json": {
       "model_id": "0f02387c5b0140f0a292b12223a26890",
       "version_major": 2,
       "version_minor": 0
      },
      "text/plain": [
       "S1A_IW_20200721T123849_DVP_RTC30_G_gpuned_66AF.zip:   0%|          | 0/543510974 [00:00<?, ?it/s]"
      ]
     },
     "metadata": {},
     "output_type": "display_data"
    },
    {
     "data": {
      "application/vnd.jupyter.widget-view+json": {
       "model_id": "4111ab21a97449f089bfd5ce69e9d818",
       "version_major": 2,
       "version_minor": 0
      },
      "text/plain": [
       "S1A_IW_20200510T123844_DVP_RTC30_G_gpuned_05F8.zip:   0%|          | 0/541950522 [00:00<?, ?it/s]"
      ]
     },
     "metadata": {},
     "output_type": "display_data"
    },
    {
     "data": {
      "application/vnd.jupyter.widget-view+json": {
       "model_id": "bf6f49766fb14f30b44168a0fdd1760e",
       "version_major": 2,
       "version_minor": 0
      },
      "text/plain": [
       "S1A_IW_20201001T123852_DVP_RTC30_G_gpuned_A760.zip:   0%|          | 0/544608471 [00:00<?, ?it/s]"
      ]
     },
     "metadata": {},
     "output_type": "display_data"
    },
    {
     "data": {
      "application/vnd.jupyter.widget-view+json": {
       "model_id": "f2ee411fc68447e6bce44c98c6ae145e",
       "version_major": 2,
       "version_minor": 0
      },
      "text/plain": [
       "S1A_IW_20200603T123846_DVP_RTC30_G_gpuned_20C9.zip:   0%|          | 0/545918177 [00:00<?, ?it/s]"
      ]
     },
     "metadata": {},
     "output_type": "display_data"
    },
    {
     "data": {
      "application/vnd.jupyter.widget-view+json": {
       "model_id": "e4236399169349c8bd5267353e21fcb3",
       "version_major": 2,
       "version_minor": 0
      },
      "text/plain": [
       "S1A_IW_20201212T123851_DVP_RTC30_G_gpuned_40B7.zip:   0%|          | 0/547356554 [00:00<?, ?it/s]"
      ]
     },
     "metadata": {},
     "output_type": "display_data"
    },
    {
     "data": {
      "application/vnd.jupyter.widget-view+json": {
       "model_id": "4767a86edc5d4316b06dfd99822741ce",
       "version_major": 2,
       "version_minor": 0
      },
      "text/plain": [
       "S1A_IW_20201106T123852_DVP_RTC30_G_gpuned_D96D.zip:   0%|          | 0/546821809 [00:00<?, ?it/s]"
      ]
     },
     "metadata": {},
     "output_type": "display_data"
    },
    {
     "data": {
      "application/vnd.jupyter.widget-view+json": {
       "model_id": "1e2a8493e9bb459ba78b47de50c84487",
       "version_major": 2,
       "version_minor": 0
      },
      "text/plain": [
       "S1A_IW_20200428T123844_DVP_RTC30_G_gpuned_6C23.zip:   0%|          | 0/546742750 [00:00<?, ?it/s]"
      ]
     },
     "metadata": {},
     "output_type": "display_data"
    },
    {
     "data": {
      "application/vnd.jupyter.widget-view+json": {
       "model_id": "7e84a0c1cbb940b4907d9b558e2c5bfe",
       "version_major": 2,
       "version_minor": 0
      },
      "text/plain": [
       "S1A_IW_20201130T123851_DVP_RTC30_G_gpuned_F507.zip:   0%|          | 0/547615492 [00:00<?, ?it/s]"
      ]
     },
     "metadata": {},
     "output_type": "display_data"
    },
    {
     "data": {
      "application/vnd.jupyter.widget-view+json": {
       "model_id": "4d2a141d0ce7405d82e7171e959dc136",
       "version_major": 2,
       "version_minor": 0
      },
      "text/plain": [
       "S1A_IW_20200709T123848_DVP_RTC30_G_gpuned_B9A7.zip:   0%|          | 0/544998745 [00:00<?, ?it/s]"
      ]
     },
     "metadata": {},
     "output_type": "display_data"
    },
    {
     "data": {
      "application/vnd.jupyter.widget-view+json": {
       "model_id": "4883d92968e0494f8ca831b31946f28c",
       "version_major": 2,
       "version_minor": 0
      },
      "text/plain": [
       "S1A_IW_20200826T123851_DVP_RTC30_G_gpuned_CB1F.zip:   0%|          | 0/542783453 [00:00<?, ?it/s]"
      ]
     },
     "metadata": {},
     "output_type": "display_data"
    },
    {
     "data": {
      "application/vnd.jupyter.widget-view+json": {
       "model_id": "2435735de62a494193a83948f31649ce",
       "version_major": 2,
       "version_minor": 0
      },
      "text/plain": [
       "S1A_IW_20201118T123852_DVP_RTC30_G_gpuned_DAF0.zip:   0%|          | 0/547420570 [00:00<?, ?it/s]"
      ]
     },
     "metadata": {},
     "output_type": "display_data"
    },
    {
     "data": {
      "application/vnd.jupyter.widget-view+json": {
       "model_id": "dce5d381e3754b6d9d97fd2f0e4c76a9",
       "version_major": 2,
       "version_minor": 0
      },
      "text/plain": [
       "S1A_IW_20201025T123852_DVP_RTC30_G_gpuned_95C7.zip:   0%|          | 0/546576616 [00:00<?, ?it/s]"
      ]
     },
     "metadata": {},
     "output_type": "display_data"
    },
    {
     "data": {
      "application/vnd.jupyter.widget-view+json": {
       "model_id": "f2e766cf60dc475da12e0c4f03081d1f",
       "version_major": 2,
       "version_minor": 0
      },
      "text/plain": [
       "S1A_IW_20200615T123846_DVP_RTC30_G_gpuned_ADCB.zip:   0%|          | 0/544759631 [00:00<?, ?it/s]"
      ]
     },
     "metadata": {},
     "output_type": "display_data"
    },
    {
     "data": {
      "application/vnd.jupyter.widget-view+json": {
       "model_id": "c5a3cf0cf08e4815931ab16c18a049ef",
       "version_major": 2,
       "version_minor": 0
      },
      "text/plain": [
       "S1A_IW_20200802T123849_DVP_RTC30_G_gpuned_330C.zip:   0%|          | 0/542993868 [00:00<?, ?it/s]"
      ]
     },
     "metadata": {},
     "output_type": "display_data"
    },
    {
     "data": {
      "application/vnd.jupyter.widget-view+json": {
       "model_id": "235552e45b7640aca3f0ed2d773add6f",
       "version_major": 2,
       "version_minor": 0
      },
      "text/plain": [
       "S1A_IW_20201013T123852_DVP_RTC30_G_gpuned_6DAE.zip:   0%|          | 0/545625133 [00:00<?, ?it/s]"
      ]
     },
     "metadata": {},
     "output_type": "display_data"
    },
    {
     "data": {
      "application/vnd.jupyter.widget-view+json": {
       "model_id": "6b6ce71b6954409ab803c22184466c5d",
       "version_major": 2,
       "version_minor": 0
      },
      "text/plain": [
       "S1A_IW_20210505T123850_DVP_RTC30_G_gpuned_CF79.zip:   0%|          | 0/547884624 [00:00<?, ?it/s]"
      ]
     },
     "metadata": {},
     "output_type": "display_data"
    },
    {
     "data": {
      "application/vnd.jupyter.widget-view+json": {
       "model_id": "224511f854774839aaf6b68035221317",
       "version_major": 2,
       "version_minor": 0
      },
      "text/plain": [
       "S1A_IW_20210610T123852_DVP_RTC30_G_gpuned_DB02.zip:   0%|          | 0/543111860 [00:00<?, ?it/s]"
      ]
     },
     "metadata": {},
     "output_type": "display_data"
    },
    {
     "data": {
      "application/vnd.jupyter.widget-view+json": {
       "model_id": "944d8bdbefe54b9bb70e69d4a5900d37",
       "version_major": 2,
       "version_minor": 0
      },
      "text/plain": [
       "S1A_IW_20210809T123856_DVP_RTC30_G_gpuned_FC2A.zip:   0%|          | 0/541844833 [00:00<?, ?it/s]"
      ]
     },
     "metadata": {},
     "output_type": "display_data"
    },
    {
     "data": {
      "application/vnd.jupyter.widget-view+json": {
       "model_id": "0b84d69ccbf8477dadcbfb837340988c",
       "version_major": 2,
       "version_minor": 0
      },
      "text/plain": [
       "S1A_IW_20210423T123849_DVP_RTC30_G_gpuned_AA41.zip:   0%|          | 0/549004143 [00:00<?, ?it/s]"
      ]
     },
     "metadata": {},
     "output_type": "display_data"
    },
    {
     "data": {
      "application/vnd.jupyter.widget-view+json": {
       "model_id": "8b49da01a43a43b5b78655d48e5459e1",
       "version_major": 2,
       "version_minor": 0
      },
      "text/plain": [
       "S1A_IW_20210129T123849_DVP_RTC30_G_gpuned_1155.zip:   0%|          | 0/547143198 [00:00<?, ?it/s]"
      ]
     },
     "metadata": {},
     "output_type": "display_data"
    },
    {
     "data": {
      "application/vnd.jupyter.widget-view+json": {
       "model_id": "f60e065196a14c568a397c269e3c7942",
       "version_major": 2,
       "version_minor": 0
      },
      "text/plain": [
       "S1A_IW_20210105T123850_DVP_RTC30_G_gpuned_F9A6.zip:   0%|          | 0/546573572 [00:00<?, ?it/s]"
      ]
     },
     "metadata": {},
     "output_type": "display_data"
    },
    {
     "data": {
      "application/vnd.jupyter.widget-view+json": {
       "model_id": "52134d1ef2f24cc8b0d117cc9dfcd465",
       "version_major": 2,
       "version_minor": 0
      },
      "text/plain": [
       "S1A_IW_20210330T123848_DVP_RTC30_G_gpuned_3015.zip:   0%|          | 0/547549756 [00:00<?, ?it/s]"
      ]
     },
     "metadata": {},
     "output_type": "display_data"
    },
    {
     "data": {
      "application/vnd.jupyter.widget-view+json": {
       "model_id": "9ddf16c6e9454dfaa7702c3b16cab8b7",
       "version_major": 2,
       "version_minor": 0
      },
      "text/plain": [
       "S1A_IW_20210306T123848_DVP_RTC30_G_gpuned_2F7C.zip:   0%|          | 0/547201929 [00:00<?, ?it/s]"
      ]
     },
     "metadata": {},
     "output_type": "display_data"
    },
    {
     "data": {
      "application/vnd.jupyter.widget-view+json": {
       "model_id": "ff75a068ba224199903696b6e7105928",
       "version_major": 2,
       "version_minor": 0
      },
      "text/plain": [
       "S1A_IW_20210411T123849_DVP_RTC30_G_gpuned_691E.zip:   0%|          | 0/548623956 [00:00<?, ?it/s]"
      ]
     },
     "metadata": {},
     "output_type": "display_data"
    },
    {
     "data": {
      "application/vnd.jupyter.widget-view+json": {
       "model_id": "b9896f260e3d401ca9b28312cca91b09",
       "version_major": 2,
       "version_minor": 0
      },
      "text/plain": [
       "S1A_IW_20210622T123853_DVP_RTC30_G_gpuned_B9E9.zip:   0%|          | 0/543801859 [00:00<?, ?it/s]"
      ]
     },
     "metadata": {},
     "output_type": "display_data"
    },
    {
     "data": {
      "application/vnd.jupyter.widget-view+json": {
       "model_id": "91a7795ef8084be484e2b617f449c872",
       "version_major": 2,
       "version_minor": 0
      },
      "text/plain": [
       "S1A_IW_20210210T123848_DVP_RTC30_G_gpuned_3E3C.zip:   0%|          | 0/547202839 [00:00<?, ?it/s]"
      ]
     },
     "metadata": {},
     "output_type": "display_data"
    },
    {
     "data": {
      "application/vnd.jupyter.widget-view+json": {
       "model_id": "93ba378f305e453bbf2e4277e1b265f3",
       "version_major": 2,
       "version_minor": 0
      },
      "text/plain": [
       "S1A_IW_20210222T123848_DVP_RTC30_G_gpuned_2F12.zip:   0%|          | 0/547198738 [00:00<?, ?it/s]"
      ]
     },
     "metadata": {},
     "output_type": "display_data"
    },
    {
     "data": {
      "application/vnd.jupyter.widget-view+json": {
       "model_id": "76a51bfb513c4d50ac4080daed414947",
       "version_major": 2,
       "version_minor": 0
      },
      "text/plain": [
       "S1A_IW_20210728T123855_DVP_RTC30_G_gpuned_F2D3.zip:   0%|          | 0/543209968 [00:00<?, ?it/s]"
      ]
     },
     "metadata": {},
     "output_type": "display_data"
    },
    {
     "data": {
      "application/vnd.jupyter.widget-view+json": {
       "model_id": "3d9b9e525cdc47b9a1b3d4c7e8805866",
       "version_major": 2,
       "version_minor": 0
      },
      "text/plain": [
       "S1A_IW_20210716T123854_DVP_RTC30_G_gpuned_C49E.zip:   0%|          | 0/544360908 [00:00<?, ?it/s]"
      ]
     },
     "metadata": {},
     "output_type": "display_data"
    },
    {
     "data": {
      "application/vnd.jupyter.widget-view+json": {
       "model_id": "de5f9c04e3594a5aacf67ad72c8aebc3",
       "version_major": 2,
       "version_minor": 0
      },
      "text/plain": [
       "S1A_IW_20210704T123853_DVP_RTC30_G_gpuned_5171.zip:   0%|          | 0/544702015 [00:00<?, ?it/s]"
      ]
     },
     "metadata": {},
     "output_type": "display_data"
    },
    {
     "data": {
      "application/vnd.jupyter.widget-view+json": {
       "model_id": "1909e2283c9942fabb5a51de9442174a",
       "version_major": 2,
       "version_minor": 0
      },
      "text/plain": [
       "S1A_IW_20210117T123849_DVP_RTC30_G_gpuned_20B0.zip:   0%|          | 0/547327873 [00:00<?, ?it/s]"
      ]
     },
     "metadata": {},
     "output_type": "display_data"
    },
    {
     "data": {
      "application/vnd.jupyter.widget-view+json": {
       "model_id": "d56a2fc606254fb58f32d84ca0a9e64c",
       "version_major": 2,
       "version_minor": 0
      },
      "text/plain": [
       "S1A_IW_20210517T123850_DVP_RTC30_G_gpuned_D6EE.zip:   0%|          | 0/547922650 [00:00<?, ?it/s]"
      ]
     },
     "metadata": {},
     "output_type": "display_data"
    },
    {
     "data": {
      "application/vnd.jupyter.widget-view+json": {
       "model_id": "a74f5f75f1214d819ea3fa09aa1b07b4",
       "version_major": 2,
       "version_minor": 0
      },
      "text/plain": [
       "S1A_IW_20201224T123850_DVP_RTC30_G_gpuned_399C.zip:   0%|          | 0/547407138 [00:00<?, ?it/s]"
      ]
     },
     "metadata": {},
     "output_type": "display_data"
    },
    {
     "data": {
      "application/vnd.jupyter.widget-view+json": {
       "model_id": "f2e54c3091b64846be323dbe8b50713e",
       "version_major": 2,
       "version_minor": 0
      },
      "text/plain": [
       "S1A_IW_20210318T123848_DVP_RTC30_G_gpuned_DAC8.zip:   0%|          | 0/546950805 [00:00<?, ?it/s]"
      ]
     },
     "metadata": {},
     "output_type": "display_data"
    },
    {
     "data": {
      "application/vnd.jupyter.widget-view+json": {
       "model_id": "b829572e403746c4b5cbea04defdf5ec",
       "version_major": 2,
       "version_minor": 0
      },
      "text/plain": [
       "S1A_IW_20210529T123851_DVP_RTC30_G_gpuned_4B2A.zip:   0%|          | 0/542175817 [00:00<?, ?it/s]"
      ]
     },
     "metadata": {},
     "output_type": "display_data"
    },
    {
     "data": {
      "application/vnd.jupyter.widget-view+json": {
       "model_id": "04ce0e6dbc694749b77f4d046e7072e8",
       "version_major": 2,
       "version_minor": 0
      },
      "text/plain": [
       "S1A_IW_20211101T123858_DVP_RTC30_G_gpuned_ACCD.zip:   0%|          | 0/545080415 [00:00<?, ?it/s]"
      ]
     },
     "metadata": {},
     "output_type": "display_data"
    },
    {
     "data": {
      "application/vnd.jupyter.widget-view+json": {
       "model_id": "10d599af9a3b474696a5abd769094002",
       "version_major": 2,
       "version_minor": 0
      },
      "text/plain": [
       "S1A_IW_20220313T123854_DVP_RTC30_G_gpuned_C614.zip:   0%|          | 0/546922634 [00:00<?, ?it/s]"
      ]
     },
     "metadata": {},
     "output_type": "display_data"
    },
    {
     "data": {
      "application/vnd.jupyter.widget-view+json": {
       "model_id": "8a17f384fb90456093dd731cabf77a93",
       "version_major": 2,
       "version_minor": 0
      },
      "text/plain": [
       "S1A_IW_20210821T123856_DVP_RTC30_G_gpuned_0BFF.zip:   0%|          | 0/543312590 [00:00<?, ?it/s]"
      ]
     },
     "metadata": {},
     "output_type": "display_data"
    },
    {
     "data": {
      "application/vnd.jupyter.widget-view+json": {
       "model_id": "0914f0f7508a42f4bab52c20bb1d65c3",
       "version_major": 2,
       "version_minor": 0
      },
      "text/plain": [
       "S1A_IW_20210902T123857_DVP_RTC30_G_gpuned_0A7C.zip:   0%|          | 0/542952447 [00:00<?, ?it/s]"
      ]
     },
     "metadata": {},
     "output_type": "display_data"
    },
    {
     "data": {
      "application/vnd.jupyter.widget-view+json": {
       "model_id": "cf4e93b838224a7483b8f9a57db69257",
       "version_major": 2,
       "version_minor": 0
      },
      "text/plain": [
       "S1A_IW_20211207T123857_DVP_RTC30_G_gpuned_491F.zip:   0%|          | 0/546833963 [00:00<?, ?it/s]"
      ]
     },
     "metadata": {},
     "output_type": "display_data"
    },
    {
     "data": {
      "application/vnd.jupyter.widget-view+json": {
       "model_id": "a9d5b8d708c646478ecdac8c837f4580",
       "version_major": 2,
       "version_minor": 0
      },
      "text/plain": [
       "S1A_IW_20220301T123854_DVP_RTC30_G_gpuned_E00D.zip:   0%|          | 0/547103154 [00:00<?, ?it/s]"
      ]
     },
     "metadata": {},
     "output_type": "display_data"
    },
    {
     "data": {
      "application/vnd.jupyter.widget-view+json": {
       "model_id": "4c308e8c8c1144de9e2833ab7ad73650",
       "version_major": 2,
       "version_minor": 0
      },
      "text/plain": [
       "S1A_IW_20220406T123854_DVP_RTC30_G_gpuned_FACA.zip:   0%|          | 0/547613130 [00:00<?, ?it/s]"
      ]
     },
     "metadata": {},
     "output_type": "display_data"
    },
    {
     "data": {
      "application/vnd.jupyter.widget-view+json": {
       "model_id": "175662d6377e473c822393a63d571f4f",
       "version_major": 2,
       "version_minor": 0
      },
      "text/plain": [
       "S1A_IW_20211113T123858_DVP_RTC30_G_gpuned_E2F3.zip:   0%|          | 0/546305097 [00:00<?, ?it/s]"
      ]
     },
     "metadata": {},
     "output_type": "display_data"
    },
    {
     "data": {
      "application/vnd.jupyter.widget-view+json": {
       "model_id": "3dad88cd5d8c42a7b10309cde5d6bece",
       "version_major": 2,
       "version_minor": 0
      },
      "text/plain": [
       "S1A_IW_20220205T123854_DVP_RTC30_G_gpuned_BA3E.zip:   0%|          | 0/545522922 [00:00<?, ?it/s]"
      ]
     },
     "metadata": {},
     "output_type": "display_data"
    },
    {
     "data": {
      "application/vnd.jupyter.widget-view+json": {
       "model_id": "b958840fdc83416683b80c54c2d2b8aa",
       "version_major": 2,
       "version_minor": 0
      },
      "text/plain": [
       "S1A_IW_20220325T123854_DVP_RTC30_G_gpuned_1635.zip:   0%|          | 0/546818643 [00:00<?, ?it/s]"
      ]
     },
     "metadata": {},
     "output_type": "display_data"
    },
    {
     "data": {
      "application/vnd.jupyter.widget-view+json": {
       "model_id": "f326b22ae1694c9c92361128ba61a2c4",
       "version_major": 2,
       "version_minor": 0
      },
      "text/plain": [
       "S1A_IW_20210914T123857_DVP_RTC30_G_gpuned_5A25.zip:   0%|          | 0/542580249 [00:00<?, ?it/s]"
      ]
     },
     "metadata": {},
     "output_type": "display_data"
    },
    {
     "data": {
      "application/vnd.jupyter.widget-view+json": {
       "model_id": "4dff4dca40a04517b5b37ce1815a7a1c",
       "version_major": 2,
       "version_minor": 0
      },
      "text/plain": [
       "S1A_IW_20211008T123858_DVP_RTC30_G_gpuned_0871.zip:   0%|          | 0/543658142 [00:00<?, ?it/s]"
      ]
     },
     "metadata": {},
     "output_type": "display_data"
    },
    {
     "data": {
      "application/vnd.jupyter.widget-view+json": {
       "model_id": "e3a81e6d77c243d1848f83a48dc2e177",
       "version_major": 2,
       "version_minor": 0
      },
      "text/plain": [
       "S1A_IW_20211231T123855_DVP_RTC30_G_gpuned_E135.zip:   0%|          | 0/537944084 [00:00<?, ?it/s]"
      ]
     },
     "metadata": {},
     "output_type": "display_data"
    },
    {
     "data": {
      "application/vnd.jupyter.widget-view+json": {
       "model_id": "1dded9e23a8f4d94b923f6b71877283e",
       "version_major": 2,
       "version_minor": 0
      },
      "text/plain": [
       "S1A_IW_20220112T123855_DVP_RTC30_G_gpuned_CB6A.zip:   0%|          | 0/545915329 [00:00<?, ?it/s]"
      ]
     },
     "metadata": {},
     "output_type": "display_data"
    },
    {
     "data": {
      "application/vnd.jupyter.widget-view+json": {
       "model_id": "b9e382563cdd464a846e24b39a13c782",
       "version_major": 2,
       "version_minor": 0
      },
      "text/plain": [
       "S1A_IW_20211219T123856_DVP_RTC30_G_gpuned_D8B0.zip:   0%|          | 0/546965485 [00:00<?, ?it/s]"
      ]
     },
     "metadata": {},
     "output_type": "display_data"
    },
    {
     "data": {
      "application/vnd.jupyter.widget-view+json": {
       "model_id": "4ecf641b02c8482ba0b0ae5b97edba82",
       "version_major": 2,
       "version_minor": 0
      },
      "text/plain": [
       "S1A_IW_20211125T123857_DVP_RTC30_G_gpuned_AA42.zip:   0%|          | 0/547159416 [00:00<?, ?it/s]"
      ]
     },
     "metadata": {},
     "output_type": "display_data"
    },
    {
     "data": {
      "application/vnd.jupyter.widget-view+json": {
       "model_id": "f15a3642a95543ba84c6b439e65d98c4",
       "version_major": 2,
       "version_minor": 0
      },
      "text/plain": [
       "S1A_IW_20210926T123858_DVP_RTC30_G_gpuned_1120.zip:   0%|          | 0/542863625 [00:00<?, ?it/s]"
      ]
     },
     "metadata": {},
     "output_type": "display_data"
    },
    {
     "data": {
      "application/vnd.jupyter.widget-view+json": {
       "model_id": "36871e74dd984a8a90430cbc6584946b",
       "version_major": 2,
       "version_minor": 0
      },
      "text/plain": [
       "S1A_IW_20220217T123854_DVP_RTC30_G_gpuned_8BD8.zip:   0%|          | 0/546524669 [00:00<?, ?it/s]"
      ]
     },
     "metadata": {},
     "output_type": "display_data"
    },
    {
     "data": {
      "application/vnd.jupyter.widget-view+json": {
       "model_id": "0f470207063b4ae19dd6c3a8283ee9c6",
       "version_major": 2,
       "version_minor": 0
      },
      "text/plain": [
       "S1A_IW_20220124T123854_DVP_RTC30_G_gpuned_708F.zip:   0%|          | 0/544799086 [00:00<?, ?it/s]"
      ]
     },
     "metadata": {},
     "output_type": "display_data"
    },
    {
     "data": {
      "application/vnd.jupyter.widget-view+json": {
       "model_id": "177a15ae0fa840e2b253abf66cd64733",
       "version_major": 2,
       "version_minor": 0
      },
      "text/plain": [
       "S1A_IW_20211020T123858_DVP_RTC30_G_gpuned_3B55.zip:   0%|          | 0/542141656 [00:00<?, ?it/s]"
      ]
     },
     "metadata": {},
     "output_type": "display_data"
    },
    {
     "data": {
      "application/vnd.jupyter.widget-view+json": {
       "model_id": "3435f52733cd41938ec11b1291a5535c",
       "version_major": 2,
       "version_minor": 0
      },
      "text/plain": [
       "S1A_IW_20220711T123900_DVP_RTC30_G_gpuned_5010.zip:   0%|          | 0/544833999 [00:00<?, ?it/s]"
      ]
     },
     "metadata": {},
     "output_type": "display_data"
    },
    {
     "data": {
      "application/vnd.jupyter.widget-view+json": {
       "model_id": "4802b1e0ede443c3b4df7b81615949ab",
       "version_major": 2,
       "version_minor": 0
      },
      "text/plain": [
       "S1A_IW_20220418T123855_DVP_RTC30_G_gpuned_9B1D.zip:   0%|          | 0/548020458 [00:00<?, ?it/s]"
      ]
     },
     "metadata": {},
     "output_type": "display_data"
    },
    {
     "data": {
      "application/vnd.jupyter.widget-view+json": {
       "model_id": "8fc88eb246014b2c9712d4d626bcf30c",
       "version_major": 2,
       "version_minor": 0
      },
      "text/plain": [
       "S1A_IW_20221202T123903_DVP_RTC30_G_gpuned_39B0.zip:   0%|          | 0/547347299 [00:00<?, ?it/s]"
      ]
     },
     "metadata": {},
     "output_type": "display_data"
    },
    {
     "data": {
      "application/vnd.jupyter.widget-view+json": {
       "model_id": "0134bb968b574e6883a1f18fd3cda386",
       "version_major": 2,
       "version_minor": 0
      },
      "text/plain": [
       "S1A_IW_20221003T123904_DVP_RTC30_G_gpuned_FA73.zip:   0%|          | 0/543890135 [00:00<?, ?it/s]"
      ]
     },
     "metadata": {},
     "output_type": "display_data"
    },
    {
     "data": {
      "application/vnd.jupyter.widget-view+json": {
       "model_id": "196864252a9b45d7b15b0a3eca2ef76c",
       "version_major": 2,
       "version_minor": 0
      },
      "text/plain": [
       "S1A_IW_20220723T123901_DVP_RTC30_G_gpuned_469C.zip:   0%|          | 0/543902230 [00:00<?, ?it/s]"
      ]
     },
     "metadata": {},
     "output_type": "display_data"
    },
    {
     "data": {
      "application/vnd.jupyter.widget-view+json": {
       "model_id": "2f1be94c4f5541998ddb2bfa55cb8fd2",
       "version_major": 2,
       "version_minor": 0
      },
      "text/plain": [
       "S1A_IW_20220617T123858_DVP_RTC30_G_gpuned_1A07.zip:   0%|          | 0/546840578 [00:00<?, ?it/s]"
      ]
     },
     "metadata": {},
     "output_type": "display_data"
    },
    {
     "data": {
      "application/vnd.jupyter.widget-view+json": {
       "model_id": "336aa3a14db540e78cb39bd8123236a9",
       "version_major": 2,
       "version_minor": 0
      },
      "text/plain": [
       "S1A_IW_20221015T123904_DVP_RTC30_G_gpuned_7EDF.zip:   0%|          | 0/543129368 [00:00<?, ?it/s]"
      ]
     },
     "metadata": {},
     "output_type": "display_data"
    },
    {
     "data": {
      "application/vnd.jupyter.widget-view+json": {
       "model_id": "907f562bcf30450c94d6c859df78a5c2",
       "version_major": 2,
       "version_minor": 0
      },
      "text/plain": [
       "S1A_IW_20220804T123902_DVP_RTC30_G_gpuned_B703.zip:   0%|          | 0/543137688 [00:00<?, ?it/s]"
      ]
     },
     "metadata": {},
     "output_type": "display_data"
    },
    {
     "data": {
      "application/vnd.jupyter.widget-view+json": {
       "model_id": "3a92af99f276483a8fb0b429cf34dedc",
       "version_major": 2,
       "version_minor": 0
      },
      "text/plain": [
       "S1A_IW_20220921T123903_DVP_RTC30_G_gpuned_5455.zip:   0%|          | 0/542668853 [00:00<?, ?it/s]"
      ]
     },
     "metadata": {},
     "output_type": "display_data"
    },
    {
     "data": {
      "application/vnd.jupyter.widget-view+json": {
       "model_id": "395e0918e5384d959d53b2d0a44a8191",
       "version_major": 2,
       "version_minor": 0
      },
      "text/plain": [
       "S1A_IW_20220816T123902_DVP_RTC30_G_gpuned_8CE1.zip:   0%|          | 0/543966097 [00:00<?, ?it/s]"
      ]
     },
     "metadata": {},
     "output_type": "display_data"
    },
    {
     "data": {
      "application/vnd.jupyter.widget-view+json": {
       "model_id": "1d4339afc7874396846f91a0537d0f57",
       "version_major": 2,
       "version_minor": 0
      },
      "text/plain": [
       "S1A_IW_20221027T123904_DVP_RTC30_G_gpuned_1E58.zip:   0%|          | 0/544708890 [00:00<?, ?it/s]"
      ]
     },
     "metadata": {},
     "output_type": "display_data"
    },
    {
     "data": {
      "application/vnd.jupyter.widget-view+json": {
       "model_id": "20979bbd1b5148d7b11bb8dd15353a21",
       "version_major": 2,
       "version_minor": 0
      },
      "text/plain": [
       "S1A_IW_20220524T123857_DVP_RTC30_G_gpuned_7EB4.zip:   0%|          | 0/544793309 [00:00<?, ?it/s]"
      ]
     },
     "metadata": {},
     "output_type": "display_data"
    },
    {
     "data": {
      "application/vnd.jupyter.widget-view+json": {
       "model_id": "bb13937b96c64bc6b4e61e41e507847b",
       "version_major": 2,
       "version_minor": 0
      },
      "text/plain": [
       "S1A_IW_20220629T123859_DVP_RTC30_G_gpuned_8548.zip:   0%|          | 0/544300837 [00:00<?, ?it/s]"
      ]
     },
     "metadata": {},
     "output_type": "display_data"
    },
    {
     "data": {
      "application/vnd.jupyter.widget-view+json": {
       "model_id": "34eacfe21d794271b3d81692b0757183",
       "version_major": 2,
       "version_minor": 0
      },
      "text/plain": [
       "S1A_IW_20221108T123903_DVP_RTC30_G_gpuned_FCBF.zip:   0%|          | 0/546181297 [00:00<?, ?it/s]"
      ]
     },
     "metadata": {},
     "output_type": "display_data"
    },
    {
     "data": {
      "application/vnd.jupyter.widget-view+json": {
       "model_id": "af304c1961ae48b6988e320811ba9f13",
       "version_major": 2,
       "version_minor": 0
      },
      "text/plain": [
       "S1A_IW_20220828T123903_DVP_RTC30_G_gpuned_D6CF.zip:   0%|          | 0/543159592 [00:00<?, ?it/s]"
      ]
     },
     "metadata": {},
     "output_type": "display_data"
    },
    {
     "data": {
      "application/vnd.jupyter.widget-view+json": {
       "model_id": "51d8ae4aac674beb83c3d71f5f1f130f",
       "version_major": 2,
       "version_minor": 0
      },
      "text/plain": [
       "S1A_IW_20220430T123855_DVP_RTC30_G_gpuned_3D92.zip:   0%|          | 0/548256344 [00:00<?, ?it/s]"
      ]
     },
     "metadata": {},
     "output_type": "display_data"
    },
    {
     "data": {
      "application/vnd.jupyter.widget-view+json": {
       "model_id": "81cd27f8c7224d6d96e43c2c13542c56",
       "version_major": 2,
       "version_minor": 0
      },
      "text/plain": [
       "S1A_IW_20221120T123904_DVP_RTC30_G_gpuned_172A.zip:   0%|          | 0/547082292 [00:00<?, ?it/s]"
      ]
     },
     "metadata": {},
     "output_type": "display_data"
    },
    {
     "data": {
      "application/vnd.jupyter.widget-view+json": {
       "model_id": "1471ab29bc7f4b78a5e21ef9a14470fa",
       "version_major": 2,
       "version_minor": 0
      },
      "text/plain": [
       "S1A_IW_20220605T123858_DVP_RTC30_G_gpuned_AD6C.zip:   0%|          | 0/547257654 [00:00<?, ?it/s]"
      ]
     },
     "metadata": {},
     "output_type": "display_data"
    },
    {
     "data": {
      "application/vnd.jupyter.widget-view+json": {
       "model_id": "124ee5cff3e046f5b7a6b9a1ef9ef69b",
       "version_major": 2,
       "version_minor": 0
      },
      "text/plain": [
       "S1A_IW_20220512T123856_DVP_RTC30_G_gpuned_A519.zip:   0%|          | 0/546852176 [00:00<?, ?it/s]"
      ]
     },
     "metadata": {},
     "output_type": "display_data"
    },
    {
     "data": {
      "application/vnd.jupyter.widget-view+json": {
       "model_id": "2005f9cca7c646c98f56f3165afb5f70",
       "version_major": 2,
       "version_minor": 0
      },
      "text/plain": [
       "S1A_IW_20220909T123904_DVP_RTC30_G_gpuned_2FBB.zip:   0%|          | 0/542879170 [00:00<?, ?it/s]"
      ]
     },
     "metadata": {},
     "output_type": "display_data"
    },
    {
     "data": {
      "application/vnd.jupyter.widget-view+json": {
       "model_id": "853b8ebacc0e4a44b5bc830ef3b83fda",
       "version_major": 2,
       "version_minor": 0
      },
      "text/plain": [
       "S1A_IW_20230624T123904_DVP_RTC30_G_gpuned_ECB4.zip:   0%|          | 0/544880915 [00:00<?, ?it/s]"
      ]
     },
     "metadata": {},
     "output_type": "display_data"
    },
    {
     "data": {
      "application/vnd.jupyter.widget-view+json": {
       "model_id": "34f7d6f924864aaeb4461edf717a3bf8",
       "version_major": 2,
       "version_minor": 0
      },
      "text/plain": [
       "S1A_IW_20230612T123903_DVP_RTC30_G_gpuned_0E81.zip:   0%|          | 0/547499572 [00:00<?, ?it/s]"
      ]
     },
     "metadata": {},
     "output_type": "display_data"
    },
    {
     "data": {
      "application/vnd.jupyter.widget-view+json": {
       "model_id": "bddd147688e948ecbedf448d35b2bf30",
       "version_major": 2,
       "version_minor": 0
      },
      "text/plain": [
       "S1A_IW_20230131T123900_DVP_RTC30_G_gpuned_118D.zip:   0%|          | 0/546695642 [00:00<?, ?it/s]"
      ]
     },
     "metadata": {},
     "output_type": "display_data"
    },
    {
     "data": {
      "application/vnd.jupyter.widget-view+json": {
       "model_id": "39a853c1422048ec9c9b1a7dad99ddff",
       "version_major": 2,
       "version_minor": 0
      },
      "text/plain": [
       "S1A_IW_20221214T123902_DVP_RTC30_G_gpuned_AE57.zip:   0%|          | 0/547171908 [00:00<?, ?it/s]"
      ]
     },
     "metadata": {},
     "output_type": "display_data"
    },
    {
     "data": {
      "application/vnd.jupyter.widget-view+json": {
       "model_id": "c42795b946314e7ea62e368a2ea17a0c",
       "version_major": 2,
       "version_minor": 0
      },
      "text/plain": [
       "S1A_IW_20230401T123900_DVP_RTC30_G_gpuned_D103.zip:   0%|          | 0/545408695 [00:00<?, ?it/s]"
      ]
     },
     "metadata": {},
     "output_type": "display_data"
    },
    {
     "data": {
      "application/vnd.jupyter.widget-view+json": {
       "model_id": "94e80895f73c4cc480250fc8c23b7ecd",
       "version_major": 2,
       "version_minor": 0
      },
      "text/plain": [
       "S1A_IW_20230730T123906_DVP_RTC30_G_gpuned_9D7F.zip:   0%|          | 0/543287387 [00:00<?, ?it/s]"
      ]
     },
     "metadata": {},
     "output_type": "display_data"
    },
    {
     "data": {
      "application/vnd.jupyter.widget-view+json": {
       "model_id": "b67c660d96df4d62bcdef3b1160d0daa",
       "version_major": 2,
       "version_minor": 0
      },
      "text/plain": [
       "S1A_IW_20230107T123901_DVP_RTC30_G_gpuned_7CF1.zip:   0%|          | 0/547130634 [00:00<?, ?it/s]"
      ]
     },
     "metadata": {},
     "output_type": "display_data"
    }
   ],
   "source": [
    "products_path = analysis_directory.joinpath(job_type.value)\n",
    "print(products_path)\n",
    "if not products_path.is_dir():\n",
    "    products_path.mkdir()\n",
    "\n",
    "print(f\"\\nProject: {batch.jobs[0].name}\")\n",
    "project_zips = batch.download_files(products_path)\n",
    "for z in project_zips:\n",
    "    if z.suffix == '.nc':\n",
    "        continue\n",
    "    \n",
    "    asfn.asf_unzip(str(products_path), str(z))\n",
    "    z.unlink()"
   ]
  },
  {
   "cell_type": "code",
   "execution_count": null,
   "metadata": {
    "tags": []
   },
   "outputs": [],
   "source": [
    "rtc = batch.jobs[0].job_type == 'RTC_GAMMA'\n",
    "insar = batch.jobs[0].job_type == 'INSAR_GAMMA'\n",
    "autorift = batch.jobs[0].job_type == 'AUTORIFT'"
   ]
  },
  {
   "cell_type": "markdown",
   "metadata": {},
   "source": [
    "**Determine the available polarizations if downloading RTC products:**"
   ]
  },
  {
   "cell_type": "code",
   "execution_count": null,
   "metadata": {},
   "outputs": [],
   "source": [
    "if rtc:\n",
    "    polarizations = asfn.get_RTC_polarizations(str(products_path))\n",
    "    polarization_power_set = asfn.get_power_set(polarizations)"
   ]
  },
  {
   "cell_type": "markdown",
   "metadata": {},
   "source": [
    "**Select a polarization:**"
   ]
  },
  {
   "cell_type": "code",
   "execution_count": null,
   "metadata": {},
   "outputs": [],
   "source": [
    "if rtc:\n",
    "    polarization_choice = asfn.select_parameter(sorted(polarization_power_set), 'Polarizations:')\n",
    "else:\n",
    "    polarization_choice = None\n",
    "polarization_choice"
   ]
  },
  {
   "cell_type": "markdown",
   "metadata": {},
   "source": [
    "**Create a paths variable, holding the relative path to the tiffs or NetCDFs:**"
   ]
  },
  {
   "cell_type": "code",
   "execution_count": 58,
   "metadata": {},
   "outputs": [
    {
     "name": "stdout",
     "output_type": "stream",
     "text": [
      "VH and VV\n"
     ]
    }
   ],
   "source": [
    "if rtc:\n",
    "    polarization = polarization_choice.value\n",
    "    print(polarization)\n",
    "    if len(polarization) == 2:\n",
    "        regex = \"\\w[\\--~]{{5,300}}(_|-){}.(tif|tiff)$\".format(polarization)\n",
    "        dbl_polar = False\n",
    "    else:\n",
    "        regex = \"\\w[\\--~]{{5,300}}(_|-){}(v|V|h|H).(tif|tiff)$\".format(polarization[0])\n",
    "        dbl_polar = True\n",
    "elif insar:\n",
    "    regex = \"\\w*_ueF_\\w*.tif$\"\n",
    "elif autorift:\n",
    "    # regex = \"\\w*ASF_OD.nc$\"\n",
    "    regex = \"\\w*ASF_OD.*$\""
   ]
  },
  {
   "cell_type": "markdown",
   "metadata": {},
   "source": [
    "**Write functions to collect and print the paths of the tiffs or NetCDFs:**"
   ]
  },
  {
   "cell_type": "code",
   "execution_count": 59,
   "metadata": {},
   "outputs": [],
   "source": [
    "def get_product_paths(regex, pths):\n",
    "    product_paths = list()\n",
    "    paths = Path().glob(pths)\n",
    "    for pth in paths:\n",
    "        tiff_path = re.search(regex, str(pth))\n",
    "        if tiff_path:\n",
    "            product_paths.append(pth)\n",
    "    return product_paths\n",
    "\n",
    "def print_product_paths(product_paths):\n",
    "    print(\"Tiff paths:\")\n",
    "    for p in product_paths:\n",
    "        print(f\"{p}\\n\")"
   ]
  },
  {
   "cell_type": "markdown",
   "metadata": {},
   "source": [
    "**Write a function to collect the product acquisition dates:**"
   ]
  },
  {
   "cell_type": "code",
   "execution_count": 60,
   "metadata": {},
   "outputs": [],
   "source": [
    "def get_dates(product_paths):\n",
    "    dates = []\n",
    "    for pth in product_paths:\n",
    "        dates.append(asfn.date_from_product_name(str(pth)).split('T')[0])\n",
    "    return dates"
   ]
  },
  {
   "cell_type": "markdown",
   "metadata": {},
   "source": [
    "**Convert NetCDFs to geotiffs:**"
   ]
  },
  {
   "cell_type": "code",
   "execution_count": 61,
   "metadata": {},
   "outputs": [],
   "source": [
    "if autorift:\n",
    "    import xarray as xr\n",
    "    import re\n",
    "\n",
    "    def ncToGeoTiff(path):   \n",
    "        \n",
    "        prevPath = ''\n",
    "        \n",
    "        for p in path.rglob('*.nc'):            \n",
    "            \n",
    "            layers = ['v', 'vx', 'vy', 'v_error', 'vr', 'va', 'M11', 'M12']\n",
    "            fname = p.stem\n",
    "            dates = list(set(re.findall(r'\\d{8}', fname)))\n",
    "            for layer in layers:\n",
    "                layer_dir = products_path/layer\n",
    "\n",
    "                if prevPath != p: # reduces number of runs\n",
    "                    prevPath = p\n",
    "                    ds = xr.open_dataset(p)\n",
    "                                        \n",
    "                    t1 = re.findall('\\d*', ds.img_pair_info.acquisition_date_img1)\n",
    "                    acq_date_1 = f'{t1[0]}T' + ''.join(t1[2:7])\n",
    "                    \n",
    "                    t2 = re.findall('\\d*', ds.img_pair_info.acquisition_date_img2)\n",
    "                    acq_date_2 = f'{t2[0]}T' + ''.join(t2[2:7])\n",
    "   \n",
    "                \n",
    "                name = f'{fname[0:10]}_{acq_date_1}_{acq_date_2}_{fname[-6:]}_{layer}.tif'\n",
    "                outfile = layer_dir/name\n",
    "                                \n",
    "                if not layer_dir.exists():\n",
    "                    layer_dir.mkdir()\n",
    "                    \n",
    "                if not outfile.exists():\n",
    "                    !gdal_translate NETCDF:{p}:{layer} {outfile}\n",
    "            print('\\n')\n",
    " \n",
    "    def removeNC(path):\n",
    "        for p in path.rglob('*.nc'):\n",
    "            p.unlink()"
   ]
  },
  {
   "cell_type": "markdown",
   "metadata": {},
   "source": [
    "**Collect and print the paths of the tiffs or NetCDFs, and collect the paths of their DEMs:**"
   ]
  },
  {
   "cell_type": "code",
   "execution_count": 62,
   "metadata": {},
   "outputs": [
    {
     "name": "stdout",
     "output_type": "stream",
     "text": [
      "Tiff paths:\n",
      "Dataset/bang_NE/RTC_GAMMA/S1A_IW_20240118T120507_DVR_RTC30_G_gpufem_CF32/S1A_IW_20240118T120507_DVR_RTC30_G_gpufem_CF32_VV.tif\n",
      "\n",
      "Dataset/bang_NE/RTC_GAMMA/S1A_IW_20210918T120500_DVP_RTC30_G_gpufem_6F10/S1A_IW_20210918T120500_DVP_RTC30_G_gpufem_6F10_VV.tif\n",
      "\n",
      "Dataset/bang_NE/RTC_GAMMA/S1A_IW_20220329T120456_DVP_RTC30_G_gpufem_DA96/S1A_IW_20220329T120456_DVP_RTC30_G_gpufem_DA96_VV.tif\n",
      "\n",
      "Dataset/bang_NE/RTC_GAMMA/S1A_IW_20201110T120454_DVP_RTC30_G_gpufem_B939/S1A_IW_20201110T120454_DVP_RTC30_G_gpufem_B939_VV.tif\n",
      "\n",
      "Dataset/bang_NE/RTC_GAMMA/S1A_IW_20240130T120507_DVR_RTC30_G_gpufem_811D/S1A_IW_20240130T120507_DVR_RTC30_G_gpufem_811D_VV.tif\n",
      "\n",
      "Dataset/bang_NE/RTC_GAMMA/S1A_IW_20201005T120454_DVP_RTC30_G_gpufem_37D1/S1A_IW_20201005T120454_DVP_RTC30_G_gpufem_37D1_VV.tif\n",
      "\n",
      "Dataset/bang_NE/RTC_GAMMA/S1A_IW_20230815T120509_DVP_RTC30_G_gpufem_F226/S1A_IW_20230815T120509_DVP_RTC30_G_gpufem_F226_VV.tif\n",
      "\n",
      "Dataset/bang_NE/RTC_GAMMA/S1A_IW_20200502T120446_DVP_RTC30_G_gpufem_D75F/S1A_IW_20200502T120446_DVP_RTC30_G_gpufem_D75F_VV.tif\n",
      "\n",
      "Dataset/bang_NE/RTC_GAMMA/S1A_IW_20200725T120451_DVP_RTC30_G_gpufem_82EC/S1A_IW_20200725T120451_DVP_RTC30_G_gpufem_82EC_VV.tif\n",
      "\n",
      "Dataset/bang_NE/RTC_GAMMA/S1A_IW_20201029T120454_DVP_RTC30_G_gpufem_B897/S1A_IW_20201029T120454_DVP_RTC30_G_gpufem_B897_VV.tif\n",
      "\n",
      "Dataset/bang_NE/RTC_GAMMA/S1A_IW_20210720T120457_DVP_RTC30_G_gpufem_A86B/S1A_IW_20210720T120457_DVP_RTC30_G_gpufem_A86B_VV.tif\n",
      "\n",
      "Dataset/bang_NE/RTC_GAMMA/S1A_IW_20230616T120506_DVP_RTC30_G_gpufem_31DE/S1A_IW_20230616T120506_DVP_RTC30_G_gpufem_31DE_VV.tif\n",
      "\n",
      "Dataset/bang_NE/RTC_GAMMA/S1A_IW_20210930T120500_DVP_RTC30_G_gpufem_529E/S1A_IW_20210930T120500_DVP_RTC30_G_gpufem_529E_VV.tif\n",
      "\n",
      "Dataset/bang_NE/RTC_GAMMA/S1A_IW_20231026T120511_DVP_RTC30_G_gpufem_5D5C/S1A_IW_20231026T120511_DVP_RTC30_G_gpufem_5D5C_VV.tif\n",
      "\n",
      "Dataset/bang_NE/RTC_GAMMA/S1A_IW_20220305T120456_DVP_RTC30_G_gpufem_ADD2/S1A_IW_20220305T120456_DVP_RTC30_G_gpufem_ADD2_VV.tif\n",
      "\n",
      "Dataset/bang_NE/RTC_GAMMA/S1A_IW_20210521T120453_DVP_RTC30_G_gpufem_AEEC/S1A_IW_20210521T120453_DVP_RTC30_G_gpufem_AEEC_VV.tif\n",
      "\n",
      "Dataset/bang_NE/RTC_GAMMA/S1A_IW_20210813T120458_DVP_RTC30_G_gpufem_73D9/S1A_IW_20210813T120458_DVP_RTC30_G_gpufem_73D9_VV.tif\n",
      "\n",
      "Dataset/bang_NE/RTC_GAMMA/S1A_IW_20220221T120456_DVP_RTC30_G_gpufem_A40A/S1A_IW_20220221T120456_DVP_RTC30_G_gpufem_A40A_VV.tif\n",
      "\n",
      "Dataset/bang_NE/RTC_GAMMA/S1A_IW_20230523T120504_DVP_RTC30_G_gpufem_38EE/S1A_IW_20230523T120504_DVP_RTC30_G_gpufem_38EE_VV.tif\n",
      "\n",
      "Dataset/bang_NE/RTC_GAMMA/S1A_IW_20201122T120454_DVP_RTC30_G_gpufem_F692/S1A_IW_20201122T120454_DVP_RTC30_G_gpufem_F692_VV.tif\n",
      "\n",
      "Dataset/bang_NE/RTC_GAMMA/S1A_IW_20190201T120439_DVP_RTC30_G_gpufem_5EF2/S1A_IW_20190201T120439_DVP_RTC30_G_gpufem_5EF2_VV.tif\n",
      "\n",
      "Dataset/bang_NE/RTC_GAMMA/S1A_IW_20191023T120448_DVP_RTC30_G_gpufem_A9AA/S1A_IW_20191023T120448_DVP_RTC30_G_gpufem_A9AA_VV.tif\n",
      "\n",
      "Dataset/bang_NE/RTC_GAMMA/S1A_IW_20190601T120441_DVP_RTC30_G_gpufem_6710/S1A_IW_20190601T120441_DVP_RTC30_G_gpufem_6710_VV.tif\n",
      "\n",
      "Dataset/bang_NE/RTC_GAMMA/S1A_IW_20200420T120445_DVP_RTC30_G_gpufem_6689/S1A_IW_20200420T120445_DVP_RTC30_G_gpufem_6689_VV.tif\n",
      "\n",
      "Dataset/bang_NE/RTC_GAMMA/S1A_IW_20210801T120457_DVP_RTC30_G_gpufem_D150/S1A_IW_20210801T120457_DVP_RTC30_G_gpufem_D150_VV.tif\n",
      "\n",
      "Dataset/bang_NE/RTC_GAMMA/S1A_IW_20231213T120510_DVP_RTC30_G_gpufem_922F/S1A_IW_20231213T120510_DVP_RTC30_G_gpufem_922F_VV.tif\n",
      "\n",
      "Dataset/bang_NE/RTC_GAMMA/S1A_IW_20200514T120447_DVP_RTC30_G_gpufem_644F/S1A_IW_20200514T120447_DVP_RTC30_G_gpufem_644F_VV.tif\n",
      "\n",
      "Dataset/bang_NE/RTC_GAMMA/S1A_IW_20211012T120500_DVP_RTC30_G_gpufem_6C16/S1A_IW_20211012T120500_DVP_RTC30_G_gpufem_6C16_VV.tif\n",
      "\n",
      "Dataset/bang_NE/RTC_GAMMA/S1A_IW_20191128T120447_DVP_RTC30_G_gpufem_F1A1/S1A_IW_20191128T120447_DVP_RTC30_G_gpufem_F1A1_VV.tif\n",
      "\n",
      "Dataset/bang_NE/RTC_GAMMA/S1A_IW_20190426T120440_DVP_RTC30_G_gpufem_34EB/S1A_IW_20190426T120440_DVP_RTC30_G_gpufem_34EB_VV.tif\n",
      "\n",
      "Dataset/bang_NE/RTC_GAMMA/S1A_IW_20211024T120500_DVP_RTC30_G_gpufem_0BE0/S1A_IW_20211024T120500_DVP_RTC30_G_gpufem_0BE0_VV.tif\n",
      "\n",
      "Dataset/bang_NE/RTC_GAMMA/S1A_IW_20200127T120445_DVP_RTC30_G_gpufem_5E3A/S1A_IW_20200127T120445_DVP_RTC30_G_gpufem_5E3A_VV.tif\n",
      "\n",
      "Dataset/bang_NE/RTC_GAMMA/S1A_IW_20201228T120452_DVP_RTC30_G_gpufem_9EF3/S1A_IW_20201228T120452_DVP_RTC30_G_gpufem_9EF3_VV.tif\n",
      "\n",
      "Dataset/bang_NE/RTC_GAMMA/S1A_IW_20200103T120446_DVP_RTC30_G_gpufem_DBED/S1A_IW_20200103T120446_DVP_RTC30_G_gpufem_DBED_VV.tif\n",
      "\n",
      "Dataset/bang_NE/RTC_GAMMA/S1A_IW_20211105T120500_DVP_RTC30_G_gpufem_FA5C/S1A_IW_20211105T120500_DVP_RTC30_G_gpufem_FA5C_VV.tif\n",
      "\n",
      "Dataset/bang_NE/RTC_GAMMA/S1A_IW_20231119T120510_DVP_RTC30_G_gpufem_FA28/S1A_IW_20231119T120510_DVP_RTC30_G_gpufem_FA28_VV.tif\n",
      "\n",
      "Dataset/bang_NE/RTC_GAMMA/S1A_IW_20210403T120451_DVP_RTC30_G_gpufem_3410/S1A_IW_20210403T120451_DVP_RTC30_G_gpufem_3410_VV.tif\n",
      "\n",
      "Dataset/bang_NE/RTC_GAMMA/S1A_IW_20221218T120504_DVP_RTC30_G_gpufem_047C/S1A_IW_20221218T120504_DVP_RTC30_G_gpufem_047C_VV.tif\n",
      "\n",
      "Dataset/bang_NE/RTC_GAMMA/S1A_IW_20190905T120447_DVP_RTC30_G_gpufem_AF79/S1A_IW_20190905T120447_DVP_RTC30_G_gpufem_AF79_VV.tif\n",
      "\n",
      "Dataset/bang_NE/RTC_GAMMA/S1A_IW_20210415T120451_DVP_RTC30_G_gpufem_756D/S1A_IW_20210415T120451_DVP_RTC30_G_gpufem_756D_VV.tif\n",
      "\n",
      "Dataset/bang_NE/RTC_GAMMA/S1A_IW_20210906T120459_DVP_RTC30_G_gpufem_B3A8/S1A_IW_20210906T120459_DVP_RTC30_G_gpufem_B3A8_VV.tif\n",
      "\n",
      "Dataset/bang_NE/RTC_GAMMA/S1A_IW_20220621T120501_DVP_RTC30_G_gpufem_22C3/S1A_IW_20220621T120501_DVP_RTC30_G_gpufem_22C3_VV.tif\n",
      "\n",
      "Dataset/bang_NE/RTC_GAMMA/S1A_IW_20211117T120500_DVP_RTC30_G_gpufem_D07B/S1A_IW_20211117T120500_DVP_RTC30_G_gpufem_D07B_VV.tif\n",
      "\n",
      "Dataset/bang_NE/RTC_GAMMA/S1A_IW_20230312T120502_DVP_RTC30_G_gpufem_DFDC/S1A_IW_20230312T120502_DVP_RTC30_G_gpufem_DFDC_VV.tif\n",
      "\n",
      "Dataset/bang_NE/RTC_GAMMA/S1A_IW_20200713T120450_DVP_RTC30_G_gpufem_6EB6/S1A_IW_20200713T120450_DVP_RTC30_G_gpufem_6EB6_VV.tif\n",
      "\n",
      "Dataset/bang_NE/RTC_GAMMA/S1A_IW_20230628T120506_DVP_RTC30_G_gpufem_61AB/S1A_IW_20230628T120506_DVP_RTC30_G_gpufem_61AB_VV.tif\n",
      "\n",
      "Dataset/bang_NE/RTC_GAMMA/S1A_IW_20230827T120510_DVP_RTC30_G_gpufem_9BF7/S1A_IW_20230827T120510_DVP_RTC30_G_gpufem_9BF7_VV.tif\n",
      "\n",
      "Dataset/bang_NE/RTC_GAMMA/S1A_IW_20190812T120446_DVP_RTC30_G_gpufem_0255/S1A_IW_20190812T120446_DVP_RTC30_G_gpufem_0255_VV.tif\n",
      "\n",
      "Dataset/bang_NE/RTC_GAMMA/S1A_IW_20190520T120441_DVP_RTC30_G_gpufem_9589/S1A_IW_20190520T120441_DVP_RTC30_G_gpufem_9589_VV.tif\n",
      "\n",
      "Dataset/bang_NE/RTC_GAMMA/S1A_IW_20210427T120452_DVP_RTC30_G_gpufem_D07E/S1A_IW_20210427T120452_DVP_RTC30_G_gpufem_D07E_VV.tif\n",
      "\n",
      "Dataset/bang_NE/RTC_GAMMA/S1A_IW_20221031T120506_DVP_RTC30_G_gpufem_48E8/S1A_IW_20221031T120506_DVP_RTC30_G_gpufem_48E8_VV.tif\n",
      "\n",
      "Dataset/bang_NE/RTC_GAMMA/S1A_IW_20230204T120502_DVP_RTC30_G_gpufem_BCD7/S1A_IW_20230204T120502_DVP_RTC30_G_gpufem_BCD7_VV.tif\n",
      "\n",
      "Dataset/bang_NE/RTC_GAMMA/S1A_IW_20230324T120502_DVP_RTC30_G_gpufem_0936/S1A_IW_20230324T120502_DVP_RTC30_G_gpufem_0936_VV.tif\n",
      "\n",
      "Dataset/bang_NE/RTC_GAMMA/S1A_IW_20230803T120509_DVP_RTC30_G_gpufem_C31F/S1A_IW_20230803T120509_DVP_RTC30_G_gpufem_C31F_VV.tif\n",
      "\n",
      "Dataset/bang_NE/RTC_GAMMA/S1A_IW_20231225T120509_DVP_RTC30_G_gpufem_C6D6/S1A_IW_20231225T120509_DVP_RTC30_G_gpufem_C6D6_VV.tif\n",
      "\n",
      "Dataset/bang_NE/RTC_GAMMA/S1A_IW_20221124T120506_DVP_RTC30_G_gpufem_82A1/S1A_IW_20221124T120506_DVP_RTC30_G_gpufem_82A1_VV.tif\n",
      "\n",
      "Dataset/bang_NE/RTC_GAMMA/S1A_IW_20200923T120454_DVP_RTC30_G_gpufem_2891/S1A_IW_20200923T120454_DVP_RTC30_G_gpufem_2891_VV.tif\n",
      "\n",
      "Dataset/bang_NE/RTC_GAMMA/S1A_IW_20190309T120438_DVP_RTC30_G_gpufem_4755/S1A_IW_20190309T120438_DVP_RTC30_G_gpufem_4755_VV.tif\n",
      "\n",
      "Dataset/bang_NE/RTC_GAMMA/S1A_IW_20231201T120510_DVP_RTC30_G_gpufem_EEBC/S1A_IW_20231201T120510_DVP_RTC30_G_gpufem_EEBC_VV.tif\n",
      "\n",
      "Dataset/bang_NE/RTC_GAMMA/S1A_IW_20210109T120452_DVP_RTC30_G_gpufem_5E7C/S1A_IW_20210109T120452_DVP_RTC30_G_gpufem_5E7C_VV.tif\n",
      "\n",
      "Dataset/bang_NE/RTC_GAMMA/S1A_IW_20230920T120511_DVP_RTC30_G_gpufem_24F3/S1A_IW_20230920T120511_DVP_RTC30_G_gpufem_24F3_VV.tif\n",
      "\n",
      "Dataset/bang_NE/RTC_GAMMA/S1A_IW_20210825T120459_DVP_RTC30_G_gpufem_A04F/S1A_IW_20210825T120459_DVP_RTC30_G_gpufem_A04F_VV.tif\n",
      "\n",
      "Dataset/bang_NE/RTC_GAMMA/S1A_IW_20190929T120448_DVP_RTC30_G_gpufem_0BC5/S1A_IW_20190929T120448_DVP_RTC30_G_gpufem_0BC5_VV.tif\n",
      "\n",
      "Dataset/bang_NE/RTC_GAMMA/S1A_IW_20211129T120459_DVP_RTC30_G_gpufem_E269/S1A_IW_20211129T120459_DVP_RTC30_G_gpufem_E269_VV.tif\n",
      "\n",
      "Dataset/bang_NE/RTC_GAMMA/S1A_IW_20220128T120456_DVP_RTC30_G_gpufem_EC1C/S1A_IW_20220128T120456_DVP_RTC30_G_gpufem_EC1C_VV.tif\n",
      "\n",
      "Dataset/bang_NE/RTC_GAMMA/S1A_IW_20220209T120456_DVP_RTC30_G_gpufem_1037/S1A_IW_20220209T120456_DVP_RTC30_G_gpufem_1037_VV.tif\n",
      "\n",
      "Dataset/bang_NE/RTC_GAMMA/S1A_IW_20230604T120505_DVP_RTC30_G_gpufem_F98E/S1A_IW_20230604T120505_DVP_RTC30_G_gpufem_F98E_VV.tif\n",
      "\n",
      "Dataset/bang_NE/RTC_GAMMA/S1A_IW_20190731T120445_DVP_RTC30_G_gpufem_3C5A/S1A_IW_20190731T120445_DVP_RTC30_G_gpufem_3C5A_VV.tif\n",
      "\n",
      "Dataset/bang_NE/RTC_GAMMA/S1A_IW_20200408T120445_DVP_RTC30_G_gpufem_3D72/S1A_IW_20200408T120445_DVP_RTC30_G_gpufem_3D72_VV.tif\n",
      "\n",
      "Dataset/bang_NE/RTC_GAMMA/S1A_IW_20211211T120459_DVP_RTC30_G_gpufem_3B81/S1A_IW_20211211T120459_DVP_RTC30_G_gpufem_3B81_VV.tif\n",
      "\n",
      "Dataset/bang_NE/RTC_GAMMA/S1A_IW_20190719T120444_DVP_RTC30_G_gpufem_DAFE/S1A_IW_20190719T120444_DVP_RTC30_G_gpufem_DAFE_VV.tif\n",
      "\n",
      "Dataset/bang_NE/RTC_GAMMA/S1A_IW_20230417T120503_DVP_RTC30_G_gpufem_85D7/S1A_IW_20230417T120503_DVP_RTC30_G_gpufem_85D7_VV.tif\n",
      "\n",
      "Dataset/bang_NE/RTC_GAMMA/S1A_IW_20200607T120448_DVP_RTC30_G_gpufem_05E8/S1A_IW_20200607T120448_DVP_RTC30_G_gpufem_05E8_VV.tif\n",
      "\n",
      "Dataset/bang_NE/RTC_GAMMA/S1A_IW_20220422T120457_DVP_RTC30_G_gpufem_D66B/S1A_IW_20220422T120457_DVP_RTC30_G_gpufem_D66B_VV.tif\n",
      "\n",
      "Dataset/bang_NE/RTC_GAMMA/S1A_IW_20201204T120453_DVP_RTC30_G_gpufem_CE47/S1A_IW_20201204T120453_DVP_RTC30_G_gpufem_CE47_VV.tif\n",
      "\n",
      "Dataset/bang_NE/RTC_GAMMA/S1A_IW_20190414T120439_DVP_RTC30_G_gpufem_81C6/S1A_IW_20190414T120439_DVP_RTC30_G_gpufem_81C6_VV.tif\n",
      "\n",
      "Dataset/bang_NE/RTC_GAMMA/S1A_IW_20211223T120458_DVP_RTC30_G_gpufem_6524/S1A_IW_20211223T120458_DVP_RTC30_G_gpufem_6524_VV.tif\n",
      "\n",
      "Dataset/bang_NE/RTC_GAMMA/S1A_IW_20201017T120454_DVP_RTC30_G_gpufem_6556/S1A_IW_20201017T120454_DVP_RTC30_G_gpufem_6556_VV.tif\n",
      "\n",
      "Dataset/bang_NE/RTC_GAMMA/S1A_IW_20230722T120508_DVP_RTC30_G_gpufem_3E39/S1A_IW_20230722T120508_DVP_RTC30_G_gpufem_3E39_VV.tif\n",
      "\n",
      "Dataset/bang_NE/RTC_GAMMA/S1A_IW_20190321T120438_DVP_RTC30_G_gpufem_73AE/S1A_IW_20190321T120438_DVP_RTC30_G_gpufem_73AE_VV.tif\n",
      "\n",
      "Dataset/bang_NE/RTC_GAMMA/S1A_IW_20200619T120449_DVP_RTC30_G_gpufem_3C15/S1A_IW_20200619T120449_DVP_RTC30_G_gpufem_3C15_VV.tif\n",
      "\n",
      "Dataset/bang_NE/RTC_GAMMA/S1A_IW_20210322T120450_DVP_RTC30_G_gpufem_9E55/S1A_IW_20210322T120450_DVP_RTC30_G_gpufem_9E55_VV.tif\n",
      "\n",
      "Dataset/bang_NE/RTC_GAMMA/S1A_IW_20200208T120445_DVP_RTC30_G_gpufem_A8A8/S1A_IW_20200208T120445_DVP_RTC30_G_gpufem_A8A8_VV.tif\n",
      "\n",
      "Dataset/bang_NE/RTC_GAMMA/S1A_IW_20190824T120446_DVP_RTC30_G_gpufem_4CCB/S1A_IW_20190824T120446_DVP_RTC30_G_gpufem_4CCB_VV.tif\n",
      "\n",
      "Dataset/bang_NE/RTC_GAMMA/S1A_IW_20220925T120505_DVP_RTC30_G_gpufem_3F46/S1A_IW_20220925T120505_DVP_RTC30_G_gpufem_3F46_VV.tif\n",
      "\n",
      "Dataset/bang_NE/RTC_GAMMA/S1A_IW_20230216T120502_DVP_RTC30_G_gpufem_72B7/S1A_IW_20230216T120502_DVP_RTC30_G_gpufem_72B7_VV.tif\n",
      "\n",
      "Dataset/bang_NE/RTC_GAMMA/S1A_IW_20191116T120448_DVP_RTC30_G_gpufem_C1C6/S1A_IW_20191116T120448_DVP_RTC30_G_gpufem_C1C6_VV.tif\n",
      "\n",
      "Dataset/bang_NE/RTC_GAMMA/S1A_IW_20230123T120503_DVP_RTC30_G_gpufem_F9EA/S1A_IW_20230123T120503_DVP_RTC30_G_gpufem_F9EA_VV.tif\n",
      "\n",
      "Dataset/bang_NE/RTC_GAMMA/S1A_IW_20190613T120442_DVP_RTC30_G_gpufem_FC73/S1A_IW_20190613T120442_DVP_RTC30_G_gpufem_FC73_VV.tif\n",
      "\n",
      "Dataset/bang_NE/RTC_GAMMA/S1A_IW_20200701T120449_DVP_RTC30_G_gpufem_E709/S1A_IW_20200701T120449_DVP_RTC30_G_gpufem_E709_VV.tif\n",
      "\n",
      "Dataset/bang_NE/RTC_GAMMA/S1A_IW_20210708T120456_DVP_RTC30_G_gpufem_9048/S1A_IW_20210708T120456_DVP_RTC30_G_gpufem_9048_VV.tif\n",
      "\n",
      "Dataset/bang_NE/RTC_GAMMA/S1A_IW_20210509T120452_DVP_RTC30_G_gpufem_487B/S1A_IW_20210509T120452_DVP_RTC30_G_gpufem_487B_VV.tif\n",
      "\n",
      "Dataset/bang_NE/RTC_GAMMA/S1A_IW_20190108T120439_DVP_RTC30_G_gpufem_8BD9/S1A_IW_20190108T120439_DVP_RTC30_G_gpufem_8BD9_VV.tif\n",
      "\n",
      "Dataset/bang_NE/RTC_GAMMA/S1A_IW_20240106T120508_DVP_RTC30_G_gpufem_887D/S1A_IW_20240106T120508_DVP_RTC30_G_gpufem_887D_VV.tif\n",
      "\n",
      "Dataset/bang_NE/RTC_GAMMA/S1A_IW_20210121T120451_DVP_RTC30_G_gpufem_DB2A/S1A_IW_20210121T120451_DVP_RTC30_G_gpufem_DB2A_VV.tif\n",
      "\n",
      "Dataset/bang_NE/RTC_GAMMA/S1A_IW_20190213T120438_DVP_RTC30_G_gpufem_CA11/S1A_IW_20190213T120438_DVP_RTC30_G_gpufem_CA11_VV.tif\n",
      "\n",
      "Dataset/bang_NE/RTC_GAMMA/S1A_IW_20210614T120455_DVP_RTC30_G_gpufem_7735/S1A_IW_20210614T120455_DVP_RTC30_G_gpufem_7735_VV.tif\n",
      "\n",
      "Dataset/bang_NE/RTC_GAMMA/S1A_IW_20190707T120443_DVP_RTC30_G_gpufem_F5B7/S1A_IW_20190707T120443_DVP_RTC30_G_gpufem_F5B7_VV.tif\n",
      "\n",
      "Dataset/bang_NE/RTC_GAMMA/S1A_IW_20230111T120503_DVP_RTC30_G_gpufem_4C33/S1A_IW_20230111T120503_DVP_RTC30_G_gpufem_4C33_VV.tif\n",
      "\n",
      "Dataset/bang_NE/RTC_GAMMA/S1A_IW_20210202T120451_DVP_RTC30_G_gpufem_A277/S1A_IW_20210202T120451_DVP_RTC30_G_gpufem_A277_VV.tif\n",
      "\n",
      "Dataset/bang_NE/RTC_GAMMA/S1A_IW_20230429T120503_DVP_RTC30_G_gpufem_436F/S1A_IW_20230429T120503_DVP_RTC30_G_gpufem_436F_VV.tif\n",
      "\n",
      "Dataset/bang_NE/RTC_GAMMA/S1A_IW_20190120T120439_DVP_RTC30_G_gpufem_97E2/S1A_IW_20190120T120439_DVP_RTC30_G_gpufem_97E2_VV.tif\n",
      "\n",
      "Dataset/bang_NE/RTC_GAMMA/S1A_IW_20210214T120450_DVP_RTC30_G_gpufem_2A53/S1A_IW_20210214T120450_DVP_RTC30_G_gpufem_2A53_VV.tif\n",
      "\n",
      "Dataset/bang_NE/RTC_GAMMA/S1A_IW_20190625T120442_DVP_RTC30_G_gpufem_26C2/S1A_IW_20190625T120442_DVP_RTC30_G_gpufem_26C2_VV.tif\n",
      "\n",
      "Dataset/bang_NE/RTC_GAMMA/S1A_IW_20230908T120510_DVP_RTC30_G_gpufem_A857/S1A_IW_20230908T120510_DVP_RTC30_G_gpufem_A857_VV.tif\n",
      "\n",
      "Dataset/bang_NE/RTC_GAMMA/S1A_IW_20200818T120452_DVP_RTC30_G_gpufem_362D/S1A_IW_20200818T120452_DVP_RTC30_G_gpufem_362D_VV.tif\n",
      "\n",
      "Dataset/bang_NE/RTC_GAMMA/S1A_IW_20221230T120504_DVP_RTC30_G_gpufem_2CC1/S1A_IW_20221230T120504_DVP_RTC30_G_gpufem_2CC1_VV.tif\n",
      "\n",
      "Dataset/bang_NE/RTC_GAMMA/S1A_IW_20221019T120506_DVP_RTC30_G_gpufem_2D94/S1A_IW_20221019T120506_DVP_RTC30_G_gpufem_2D94_VV.tif\n",
      "\n",
      "Dataset/bang_NE/RTC_GAMMA/S1A_IW_20231107T120510_DVP_RTC30_G_gpufem_EA92/S1A_IW_20231107T120510_DVP_RTC30_G_gpufem_EA92_VV.tif\n",
      "\n",
      "Dataset/bang_NE/RTC_GAMMA/S1A_IW_20221206T120505_DVP_RTC30_G_gpufem_DECC/S1A_IW_20221206T120505_DVP_RTC30_G_gpufem_DECC_VV.tif\n",
      "\n",
      "Dataset/bang_NE/RTC_GAMMA/S1A_IW_20200315T120445_DVP_RTC30_G_gpufem_C860/S1A_IW_20200315T120445_DVP_RTC30_G_gpufem_C860_VV.tif\n",
      "\n",
      "Dataset/bang_NE/RTC_GAMMA/S1A_IW_20230511T120504_DVP_RTC30_G_gpufem_CBE8/S1A_IW_20230511T120504_DVP_RTC30_G_gpufem_CBE8_VV.tif\n",
      "\n",
      "Dataset/bang_NE/RTC_GAMMA/S1A_IW_20220913T120506_DVP_RTC30_G_gpufem_FB4E/S1A_IW_20220913T120506_DVP_RTC30_G_gpufem_FB4E_VV.tif\n",
      "\n",
      "Dataset/bang_NE/RTC_GAMMA/S1A_IW_20220104T120457_DVP_RTC30_G_gpufem_F4B3/S1A_IW_20220104T120457_DVP_RTC30_G_gpufem_F4B3_VV.tif\n",
      "\n",
      "Dataset/bang_NE/RTC_GAMMA/S1A_IW_20200303T120444_DVP_RTC30_G_gpufem_BAB5/S1A_IW_20200303T120444_DVP_RTC30_G_gpufem_BAB5_VV.tif\n",
      "\n",
      "Dataset/bang_NE/RTC_GAMMA/S1A_IW_20231014T120511_DVP_RTC30_G_gpufem_D171/S1A_IW_20231014T120511_DVP_RTC30_G_gpufem_D171_VV.tif\n",
      "\n",
      "Dataset/bang_NE/RTC_GAMMA/S1A_IW_20220504T120457_DVP_RTC30_G_gpufem_9B0C/S1A_IW_20220504T120457_DVP_RTC30_G_gpufem_9B0C_VV.tif\n",
      "\n",
      "Dataset/bang_NE/RTC_GAMMA/S1A_IW_20210310T120450_DVP_RTC30_G_gpufem_9E13/S1A_IW_20210310T120450_DVP_RTC30_G_gpufem_9E13_VV.tif\n",
      "\n",
      "Dataset/bang_NE/RTC_GAMMA/S1A_IW_20190508T120440_DVP_RTC30_G_gpufem_34D2/S1A_IW_20190508T120440_DVP_RTC30_G_gpufem_34D2_VV.tif\n",
      "\n",
      "Dataset/bang_NE/RTC_GAMMA/S1A_IW_20200806T120452_DVP_RTC30_G_gpufem_34F8/S1A_IW_20200806T120452_DVP_RTC30_G_gpufem_34F8_VV.tif\n",
      "\n",
      "Dataset/bang_NE/RTC_GAMMA/S1A_IW_20191222T120446_DVP_RTC30_G_gpufem_E4A8/S1A_IW_20191222T120446_DVP_RTC30_G_gpufem_E4A8_VV.tif\n",
      "\n",
      "Dataset/bang_NE/RTC_GAMMA/S1A_IW_20200115T120445_DVP_RTC30_G_gpufem_43F5/S1A_IW_20200115T120445_DVP_RTC30_G_gpufem_43F5_VV.tif\n",
      "\n",
      "Dataset/bang_NE/RTC_GAMMA/S1A_IW_20220901T120505_DVP_RTC30_G_gpufem_6D92/S1A_IW_20220901T120505_DVP_RTC30_G_gpufem_6D92_VV.tif\n",
      "\n",
      "Dataset/bang_NE/RTC_GAMMA/S1A_IW_20191210T120447_DVP_RTC30_G_gpufem_CEB6/S1A_IW_20191210T120447_DVP_RTC30_G_gpufem_CEB6_VV.tif\n",
      "\n",
      "Dataset/bang_NE/RTC_GAMMA/S1A_IW_20221007T120506_DVP_RTC30_G_gpufem_13ED/S1A_IW_20221007T120506_DVP_RTC30_G_gpufem_13ED_VV.tif\n",
      "\n",
      "Dataset/bang_NE/RTC_GAMMA/S1A_IW_20220715T120502_DVP_RTC30_G_gpufem_9F3A/S1A_IW_20220715T120502_DVP_RTC30_G_gpufem_9F3A_VV.tif\n",
      "\n",
      "Dataset/bang_NE/RTC_GAMMA/S1A_IW_20220703T120502_DVP_RTC30_G_gpufem_CBC0/S1A_IW_20220703T120502_DVP_RTC30_G_gpufem_CBC0_VV.tif\n",
      "\n",
      "Dataset/bang_NE/RTC_GAMMA/S1A_IW_20220528T120459_DVP_RTC30_G_gpufem_DC3E/S1A_IW_20220528T120459_DVP_RTC30_G_gpufem_DC3E_VV.tif\n",
      "\n",
      "Dataset/bang_NE/RTC_GAMMA/S1A_IW_20200911T120454_DVP_RTC30_G_gpufem_D603/S1A_IW_20200911T120454_DVP_RTC30_G_gpufem_D603_VV.tif\n",
      "\n",
      "Dataset/bang_NE/RTC_GAMMA/S1A_IW_20230710T120507_DVP_RTC30_G_gpufem_95E6/S1A_IW_20230710T120507_DVP_RTC30_G_gpufem_95E6_VV.tif\n",
      "\n",
      "Dataset/bang_NE/RTC_GAMMA/S1A_IW_20220516T120458_DVP_RTC30_G_gpufem_3BEB/S1A_IW_20220516T120458_DVP_RTC30_G_gpufem_3BEB_VV.tif\n",
      "\n",
      "Dataset/bang_NE/RTC_GAMMA/S1A_IW_20220410T120457_DVP_RTC30_G_gpufem_071D/S1A_IW_20220410T120457_DVP_RTC30_G_gpufem_071D_VV.tif\n",
      "\n",
      "Dataset/bang_NE/RTC_GAMMA/S1A_IW_20220317T120456_DVP_RTC30_G_gpufem_2DE1/S1A_IW_20220317T120456_DVP_RTC30_G_gpufem_2DE1_VV.tif\n",
      "\n",
      "Dataset/bang_NE/RTC_GAMMA/S1A_IW_20201216T120453_DVP_RTC30_G_gpufem_00FD/S1A_IW_20201216T120453_DVP_RTC30_G_gpufem_00FD_VV.tif\n",
      "\n",
      "Dataset/bang_NE/RTC_GAMMA/S1A_IW_20220727T120503_DVP_RTC30_G_gpufem_59AB/S1A_IW_20220727T120503_DVP_RTC30_G_gpufem_59AB_VV.tif\n",
      "\n",
      "Dataset/bang_NE/RTC_GAMMA/S1A_IW_20200526T120447_DVP_RTC30_G_gpufem_B478/S1A_IW_20200526T120447_DVP_RTC30_G_gpufem_B478_VV.tif\n",
      "\n",
      "Dataset/bang_NE/RTC_GAMMA/S1A_IW_20190225T120438_DVP_RTC30_G_gpufem_C14B/S1A_IW_20190225T120438_DVP_RTC30_G_gpufem_C14B_VV.tif\n",
      "\n",
      "Dataset/bang_NE/RTC_GAMMA/S1A_IW_20220808T120504_DVP_RTC30_G_gpufem_04A4/S1A_IW_20220808T120504_DVP_RTC30_G_gpufem_04A4_VV.tif\n",
      "\n",
      "Dataset/bang_NE/RTC_GAMMA/S1A_IW_20220116T120457_DVP_RTC30_G_gpufem_4A7F/S1A_IW_20220116T120457_DVP_RTC30_G_gpufem_4A7F_VV.tif\n",
      "\n",
      "Dataset/bang_NE/RTC_GAMMA/S1A_IW_20230405T120502_DVP_RTC30_G_gpufem_D3F2/S1A_IW_20230405T120502_DVP_RTC30_G_gpufem_D3F2_VV.tif\n",
      "\n",
      "Dataset/bang_NE/RTC_GAMMA/S1A_IW_20220609T120500_DVP_RTC30_G_gpufem_35A6/S1A_IW_20220609T120500_DVP_RTC30_G_gpufem_35A6_VV.tif\n",
      "\n",
      "Dataset/bang_NE/RTC_GAMMA/S1A_IW_20200220T120444_DVP_RTC30_G_gpufem_1A88/S1A_IW_20200220T120444_DVP_RTC30_G_gpufem_1A88_VV.tif\n",
      "\n",
      "Dataset/bang_NE/RTC_GAMMA/S1A_IW_20210626T120455_DVP_RTC30_G_gpufem_5D53/S1A_IW_20210626T120455_DVP_RTC30_G_gpufem_5D53_VV.tif\n",
      "\n",
      "Dataset/bang_NE/RTC_GAMMA/S1A_IW_20190402T120439_DVP_RTC30_G_gpufem_0364/S1A_IW_20190402T120439_DVP_RTC30_G_gpufem_0364_VV.tif\n",
      "\n",
      "Dataset/bang_NE/RTC_GAMMA/S1A_IW_20191011T120448_DVP_RTC30_G_gpufem_DF64/S1A_IW_20191011T120448_DVP_RTC30_G_gpufem_DF64_VV.tif\n",
      "\n",
      "Dataset/bang_NE/RTC_GAMMA/S1A_IW_20200327T120445_DVP_RTC30_G_gpufem_F7B4/S1A_IW_20200327T120445_DVP_RTC30_G_gpufem_F7B4_VV.tif\n",
      "\n",
      "Dataset/bang_NE/RTC_GAMMA/S1A_IW_20191104T120448_DVP_RTC30_G_gpufem_247C/S1A_IW_20191104T120448_DVP_RTC30_G_gpufem_247C_VV.tif\n",
      "\n",
      "Dataset/bang_NE/RTC_GAMMA/S1A_IW_20221112T120506_DVP_RTC30_G_gpufem_B3C9/S1A_IW_20221112T120506_DVP_RTC30_G_gpufem_B3C9_VV.tif\n",
      "\n",
      "Dataset/bang_NE/RTC_GAMMA/S1A_IW_20210226T120450_DVP_RTC30_G_gpufem_EBFB/S1A_IW_20210226T120450_DVP_RTC30_G_gpufem_EBFB_VV.tif\n",
      "\n",
      "Dataset/bang_NE/RTC_GAMMA/S1A_IW_20200830T120453_DVP_RTC30_G_gpufem_7018/S1A_IW_20200830T120453_DVP_RTC30_G_gpufem_7018_VV.tif\n",
      "\n",
      "Dataset/bang_NE/RTC_GAMMA/S1A_IW_20231002T120511_DVP_RTC30_G_gpufem_7D8B/S1A_IW_20231002T120511_DVP_RTC30_G_gpufem_7D8B_VV.tif\n",
      "\n",
      "Dataset/bang_NE/RTC_GAMMA/S1A_IW_20210602T120454_DVP_RTC30_G_gpufem_015F/S1A_IW_20210602T120454_DVP_RTC30_G_gpufem_015F_VV.tif\n",
      "\n",
      "Dataset/bang_NE/RTC_GAMMA/S1A_IW_20220820T120505_DVP_RTC30_G_gpufem_E99A/S1A_IW_20220820T120505_DVP_RTC30_G_gpufem_E99A_VV.tif\n",
      "\n",
      "Dataset/bang_NE/RTC_GAMMA/S1A_IW_20230228T120502_DVP_RTC30_G_gpufem_F61C/S1A_IW_20230228T120502_DVP_RTC30_G_gpufem_F61C_VV.tif\n",
      "\n"
     ]
    }
   ],
   "source": [
    "rel_prod_path = products_path.relative_to(Path.cwd())\n",
    "if rtc:\n",
    "    product_pth = f\"{str(rel_prod_path)}/*/*{polarization[0]}*.tif*\"\n",
    "elif insar:\n",
    "    product_pth = f\"{str(rel_prod_path)}/*/*.tif*\"\n",
    "elif autorift:\n",
    "    product_pth = f\"{str(rel_prod_path)}/*.tif*\"    \n",
    "    ncToGeoTiff(products_path)\n",
    "    removeNC(products_path)\n",
    "\n",
    "dems_pth = f\"{str(rel_prod_path)}/*/*dem.tif*\"\n",
    "\n",
    "if not autorift:\n",
    "    product_paths = get_product_paths(regex, product_pth)\n",
    "    print_product_paths(product_paths)\n",
    "else:\n",
    "    print('Tiff paths:\\n')\n",
    "    \n",
    "    for p in products_path.glob('*'):\n",
    "        print(f'{p.parts[-1]}:')\n",
    "        \n",
    "        for p_tiff in p.rglob('*.tif'):\n",
    "            print(p_tiff)\n",
    "        \n",
    "        print('\\n')\n",
    "        \n",
    "# Get all paths for files ending with 'dem'\n",
    "dem_paths = get_product_paths(r'dem.tif$', dems_pth)"
   ]
  },
  {
   "cell_type": "markdown",
   "metadata": {},
   "source": [
    "if autorift:\n",
    "    - convert to geotiff\n",
    "    - delete netcdfs\n",
    "    - re-glob paths for geotiffs"
   ]
  },
  {
   "cell_type": "markdown",
   "metadata": {},
   "source": [
    "---\n",
    "## 1.2 Fix multiple UTM Zone-related issues\n",
    "\n",
    "Fix multiple UTM Zone-related issues should they exist in your data set. If multiple UTM zones are found, the following code cells will identify the predominant UTM zone and reproject the rest into that zone. This step must be completed prior to merging frames or performing any analysis. AutoRIFT products do not come with projection metadata and so will not be reprojected.\n",
    "\n",
    "**Use gdal.Info to determine the UTM definition types and zones in each product:**"
   ]
  },
  {
   "cell_type": "code",
   "execution_count": 63,
   "metadata": {},
   "outputs": [],
   "source": [
    "if not autorift:\n",
    "    coord_choice = asfn.select_parameter([\"UTM\", \"Lat/Long\"], description='Coord Systems:')\n",
    "    coord_choice"
   ]
  },
  {
   "cell_type": "code",
   "execution_count": 64,
   "metadata": {},
   "outputs": [
    {
     "name": "stdout",
     "output_type": "stream",
     "text": [
      "Checking UTM Zones in the data stack ...\n",
      "\n",
      "UTM Zones:\n",
      " ['32646', '32646', '32646', '32646', '32646', '32646', '32646', '32646', '32646', '32646', '32646', '32646', '32646', '32646', '32646', '32646', '32646', '32646', '32646', '32646', '32646', '32646', '32646', '32646', '32646', '32646', '32646', '32646', '32646', '32646', '32646', '32646', '32646', '32646', '32646', '32646', '32646', '32646', '32646', '32646', '32646', '32646', '32646', '32646', '32646', '32646', '32646', '32646', '32646', '32646', '32646', '32646', '32646', '32646', '32646', '32646', '32646', '32646', '32646', '32646', '32646', '32646', '32646', '32646', '32646', '32646', '32646', '32646', '32646', '32646', '32646', '32646', '32646', '32646', '32646', '32646', '32646', '32646', '32646', '32646', '32646', '32646', '32646', '32646', '32646', '32646', '32646', '32646', '32646', '32646', '32646', '32646', '32646', '32646', '32646', '32646', '32646', '32646', '32646', '32646', '32646', '32646', '32646', '32646', '32646', '32646', '32646', '32646', '32646', '32646', '32646', '32646', '32646', '32646', '32646', '32646', '32646', '32646', '32646', '32646', '32646', '32646', '32646', '32646', '32646', '32646', '32646', '32646', '32646', '32646', '32646', '32646', '32646', '32646', '32646', '32646', '32646', '32646', '32646', '32646', '32646', '32646', '32646', '32646', '32646', '32646', '32646', '32646', '32646', '32646', '32646', '32646', '32646', '32646']\n",
      "\n",
      "UTM Types:\n",
      " ['EPSG', 'EPSG', 'EPSG', 'EPSG', 'EPSG', 'EPSG', 'EPSG', 'EPSG', 'EPSG', 'EPSG', 'EPSG', 'EPSG', 'EPSG', 'EPSG', 'EPSG', 'EPSG', 'EPSG', 'EPSG', 'EPSG', 'EPSG', 'EPSG', 'EPSG', 'EPSG', 'EPSG', 'EPSG', 'EPSG', 'EPSG', 'EPSG', 'EPSG', 'EPSG', 'EPSG', 'EPSG', 'EPSG', 'EPSG', 'EPSG', 'EPSG', 'EPSG', 'EPSG', 'EPSG', 'EPSG', 'EPSG', 'EPSG', 'EPSG', 'EPSG', 'EPSG', 'EPSG', 'EPSG', 'EPSG', 'EPSG', 'EPSG', 'EPSG', 'EPSG', 'EPSG', 'EPSG', 'EPSG', 'EPSG', 'EPSG', 'EPSG', 'EPSG', 'EPSG', 'EPSG', 'EPSG', 'EPSG', 'EPSG', 'EPSG', 'EPSG', 'EPSG', 'EPSG', 'EPSG', 'EPSG', 'EPSG', 'EPSG', 'EPSG', 'EPSG', 'EPSG', 'EPSG', 'EPSG', 'EPSG', 'EPSG', 'EPSG', 'EPSG', 'EPSG', 'EPSG', 'EPSG', 'EPSG', 'EPSG', 'EPSG', 'EPSG', 'EPSG', 'EPSG', 'EPSG', 'EPSG', 'EPSG', 'EPSG', 'EPSG', 'EPSG', 'EPSG', 'EPSG', 'EPSG', 'EPSG', 'EPSG', 'EPSG', 'EPSG', 'EPSG', 'EPSG', 'EPSG', 'EPSG', 'EPSG', 'EPSG', 'EPSG', 'EPSG', 'EPSG', 'EPSG', 'EPSG', 'EPSG', 'EPSG', 'EPSG', 'EPSG', 'EPSG', 'EPSG', 'EPSG', 'EPSG', 'EPSG', 'EPSG', 'EPSG', 'EPSG', 'EPSG', 'EPSG', 'EPSG', 'EPSG', 'EPSG', 'EPSG', 'EPSG', 'EPSG', 'EPSG', 'EPSG', 'EPSG', 'EPSG', 'EPSG', 'EPSG', 'EPSG', 'EPSG', 'EPSG', 'EPSG', 'EPSG', 'EPSG', 'EPSG', 'EPSG', 'EPSG', 'EPSG', 'EPSG', 'EPSG', 'EPSG', 'EPSG']\n"
     ]
    }
   ],
   "source": [
    "if not autorift:\n",
    "    utm_zones = []\n",
    "    utm_types = []\n",
    "    print('Checking UTM Zones in the data stack ...\\n')\n",
    "    for k in range(0, len(product_paths)):\n",
    "        info = (gdal.Info(str(product_paths[k]), options = ['-json']))\n",
    "        info = json.dumps(info)\n",
    "        info = (json.loads(info))['coordinateSystem']['wkt']\n",
    "        zone = info.split('ID')[-1].split(',')[1][0:-2]\n",
    "        utm_zones.append(zone)\n",
    "        typ = info.split('ID')[-1].split('\"')[1]\n",
    "        utm_types.append(typ)\n",
    "    print(f\"UTM Zones:\\n {utm_zones}\\n\")\n",
    "    print(f\"UTM Types:\\n {utm_types}\")"
   ]
  },
  {
   "cell_type": "markdown",
   "metadata": {},
   "source": [
    "**Identify the most commonly used UTM Zone in the data:**"
   ]
  },
  {
   "cell_type": "code",
   "execution_count": 65,
   "metadata": {},
   "outputs": [
    {
     "name": "stdout",
     "output_type": "stream",
     "text": [
      "Predominant UTM Zone: 32646\n"
     ]
    }
   ],
   "source": [
    "if not autorift:\n",
    "    if coord_choice.value == 'UTM':\n",
    "        utm_unique, counts = np.unique(utm_zones, return_counts=True)\n",
    "        a = np.where(counts == np.max(counts))\n",
    "        predominant_utm = utm_unique[a][0]\n",
    "        print(f\"Predominant UTM Zone: {predominant_utm}\")\n",
    "    else:\n",
    "        predominant_utm = '4326'"
   ]
  },
  {
   "cell_type": "code",
   "execution_count": 66,
   "metadata": {
    "tags": []
   },
   "outputs": [
    {
     "data": {
      "text/plain": [
       "[PosixPath('Dataset/bang_NE/RTC_GAMMA/S1A_IW_20240118T120507_DVR_RTC30_G_gpufem_CF32/S1A_IW_20240118T120507_DVR_RTC30_G_gpufem_CF32_dem.tif'),\n",
       " PosixPath('Dataset/bang_NE/RTC_GAMMA/S1A_IW_20210918T120500_DVP_RTC30_G_gpufem_6F10/S1A_IW_20210918T120500_DVP_RTC30_G_gpufem_6F10_dem.tif'),\n",
       " PosixPath('Dataset/bang_NE/RTC_GAMMA/S1A_IW_20220329T120456_DVP_RTC30_G_gpufem_DA96/S1A_IW_20220329T120456_DVP_RTC30_G_gpufem_DA96_dem.tif'),\n",
       " PosixPath('Dataset/bang_NE/RTC_GAMMA/S1A_IW_20201110T120454_DVP_RTC30_G_gpufem_B939/S1A_IW_20201110T120454_DVP_RTC30_G_gpufem_B939_dem.tif'),\n",
       " PosixPath('Dataset/bang_NE/RTC_GAMMA/S1A_IW_20240130T120507_DVR_RTC30_G_gpufem_811D/S1A_IW_20240130T120507_DVR_RTC30_G_gpufem_811D_dem.tif'),\n",
       " PosixPath('Dataset/bang_NE/RTC_GAMMA/S1A_IW_20201005T120454_DVP_RTC30_G_gpufem_37D1/S1A_IW_20201005T120454_DVP_RTC30_G_gpufem_37D1_dem.tif'),\n",
       " PosixPath('Dataset/bang_NE/RTC_GAMMA/S1A_IW_20230815T120509_DVP_RTC30_G_gpufem_F226/S1A_IW_20230815T120509_DVP_RTC30_G_gpufem_F226_dem.tif'),\n",
       " PosixPath('Dataset/bang_NE/RTC_GAMMA/S1A_IW_20200502T120446_DVP_RTC30_G_gpufem_D75F/S1A_IW_20200502T120446_DVP_RTC30_G_gpufem_D75F_dem.tif'),\n",
       " PosixPath('Dataset/bang_NE/RTC_GAMMA/S1A_IW_20200725T120451_DVP_RTC30_G_gpufem_82EC/S1A_IW_20200725T120451_DVP_RTC30_G_gpufem_82EC_dem.tif'),\n",
       " PosixPath('Dataset/bang_NE/RTC_GAMMA/S1A_IW_20201029T120454_DVP_RTC30_G_gpufem_B897/S1A_IW_20201029T120454_DVP_RTC30_G_gpufem_B897_dem.tif'),\n",
       " PosixPath('Dataset/bang_NE/RTC_GAMMA/S1A_IW_20210720T120457_DVP_RTC30_G_gpufem_A86B/S1A_IW_20210720T120457_DVP_RTC30_G_gpufem_A86B_dem.tif'),\n",
       " PosixPath('Dataset/bang_NE/RTC_GAMMA/S1A_IW_20230616T120506_DVP_RTC30_G_gpufem_31DE/S1A_IW_20230616T120506_DVP_RTC30_G_gpufem_31DE_dem.tif'),\n",
       " PosixPath('Dataset/bang_NE/RTC_GAMMA/S1A_IW_20210930T120500_DVP_RTC30_G_gpufem_529E/S1A_IW_20210930T120500_DVP_RTC30_G_gpufem_529E_dem.tif'),\n",
       " PosixPath('Dataset/bang_NE/RTC_GAMMA/S1A_IW_20231026T120511_DVP_RTC30_G_gpufem_5D5C/S1A_IW_20231026T120511_DVP_RTC30_G_gpufem_5D5C_dem.tif'),\n",
       " PosixPath('Dataset/bang_NE/RTC_GAMMA/S1A_IW_20220305T120456_DVP_RTC30_G_gpufem_ADD2/S1A_IW_20220305T120456_DVP_RTC30_G_gpufem_ADD2_dem.tif'),\n",
       " PosixPath('Dataset/bang_NE/RTC_GAMMA/S1A_IW_20210521T120453_DVP_RTC30_G_gpufem_AEEC/S1A_IW_20210521T120453_DVP_RTC30_G_gpufem_AEEC_dem.tif'),\n",
       " PosixPath('Dataset/bang_NE/RTC_GAMMA/S1A_IW_20210813T120458_DVP_RTC30_G_gpufem_73D9/S1A_IW_20210813T120458_DVP_RTC30_G_gpufem_73D9_dem.tif'),\n",
       " PosixPath('Dataset/bang_NE/RTC_GAMMA/S1A_IW_20220221T120456_DVP_RTC30_G_gpufem_A40A/S1A_IW_20220221T120456_DVP_RTC30_G_gpufem_A40A_dem.tif'),\n",
       " PosixPath('Dataset/bang_NE/RTC_GAMMA/S1A_IW_20230523T120504_DVP_RTC30_G_gpufem_38EE/S1A_IW_20230523T120504_DVP_RTC30_G_gpufem_38EE_dem.tif'),\n",
       " PosixPath('Dataset/bang_NE/RTC_GAMMA/S1A_IW_20201122T120454_DVP_RTC30_G_gpufem_F692/S1A_IW_20201122T120454_DVP_RTC30_G_gpufem_F692_dem.tif'),\n",
       " PosixPath('Dataset/bang_NE/RTC_GAMMA/S1A_IW_20190201T120439_DVP_RTC30_G_gpufem_5EF2/S1A_IW_20190201T120439_DVP_RTC30_G_gpufem_5EF2_dem.tif'),\n",
       " PosixPath('Dataset/bang_NE/RTC_GAMMA/S1A_IW_20191023T120448_DVP_RTC30_G_gpufem_A9AA/S1A_IW_20191023T120448_DVP_RTC30_G_gpufem_A9AA_dem.tif'),\n",
       " PosixPath('Dataset/bang_NE/RTC_GAMMA/S1A_IW_20190601T120441_DVP_RTC30_G_gpufem_6710/S1A_IW_20190601T120441_DVP_RTC30_G_gpufem_6710_dem.tif'),\n",
       " PosixPath('Dataset/bang_NE/RTC_GAMMA/S1A_IW_20200420T120445_DVP_RTC30_G_gpufem_6689/S1A_IW_20200420T120445_DVP_RTC30_G_gpufem_6689_dem.tif'),\n",
       " PosixPath('Dataset/bang_NE/RTC_GAMMA/S1A_IW_20210801T120457_DVP_RTC30_G_gpufem_D150/S1A_IW_20210801T120457_DVP_RTC30_G_gpufem_D150_dem.tif'),\n",
       " PosixPath('Dataset/bang_NE/RTC_GAMMA/S1A_IW_20231213T120510_DVP_RTC30_G_gpufem_922F/S1A_IW_20231213T120510_DVP_RTC30_G_gpufem_922F_dem.tif'),\n",
       " PosixPath('Dataset/bang_NE/RTC_GAMMA/S1A_IW_20200514T120447_DVP_RTC30_G_gpufem_644F/S1A_IW_20200514T120447_DVP_RTC30_G_gpufem_644F_dem.tif'),\n",
       " PosixPath('Dataset/bang_NE/RTC_GAMMA/S1A_IW_20211012T120500_DVP_RTC30_G_gpufem_6C16/S1A_IW_20211012T120500_DVP_RTC30_G_gpufem_6C16_dem.tif'),\n",
       " PosixPath('Dataset/bang_NE/RTC_GAMMA/S1A_IW_20191128T120447_DVP_RTC30_G_gpufem_F1A1/S1A_IW_20191128T120447_DVP_RTC30_G_gpufem_F1A1_dem.tif'),\n",
       " PosixPath('Dataset/bang_NE/RTC_GAMMA/S1A_IW_20190426T120440_DVP_RTC30_G_gpufem_34EB/S1A_IW_20190426T120440_DVP_RTC30_G_gpufem_34EB_dem.tif'),\n",
       " PosixPath('Dataset/bang_NE/RTC_GAMMA/S1A_IW_20211024T120500_DVP_RTC30_G_gpufem_0BE0/S1A_IW_20211024T120500_DVP_RTC30_G_gpufem_0BE0_dem.tif'),\n",
       " PosixPath('Dataset/bang_NE/RTC_GAMMA/S1A_IW_20200127T120445_DVP_RTC30_G_gpufem_5E3A/S1A_IW_20200127T120445_DVP_RTC30_G_gpufem_5E3A_dem.tif'),\n",
       " PosixPath('Dataset/bang_NE/RTC_GAMMA/S1A_IW_20201228T120452_DVP_RTC30_G_gpufem_9EF3/S1A_IW_20201228T120452_DVP_RTC30_G_gpufem_9EF3_dem.tif'),\n",
       " PosixPath('Dataset/bang_NE/RTC_GAMMA/S1A_IW_20200103T120446_DVP_RTC30_G_gpufem_DBED/S1A_IW_20200103T120446_DVP_RTC30_G_gpufem_DBED_dem.tif'),\n",
       " PosixPath('Dataset/bang_NE/RTC_GAMMA/S1A_IW_20211105T120500_DVP_RTC30_G_gpufem_FA5C/S1A_IW_20211105T120500_DVP_RTC30_G_gpufem_FA5C_dem.tif'),\n",
       " PosixPath('Dataset/bang_NE/RTC_GAMMA/S1A_IW_20231119T120510_DVP_RTC30_G_gpufem_FA28/S1A_IW_20231119T120510_DVP_RTC30_G_gpufem_FA28_dem.tif'),\n",
       " PosixPath('Dataset/bang_NE/RTC_GAMMA/S1A_IW_20210403T120451_DVP_RTC30_G_gpufem_3410/S1A_IW_20210403T120451_DVP_RTC30_G_gpufem_3410_dem.tif'),\n",
       " PosixPath('Dataset/bang_NE/RTC_GAMMA/S1A_IW_20221218T120504_DVP_RTC30_G_gpufem_047C/S1A_IW_20221218T120504_DVP_RTC30_G_gpufem_047C_dem.tif'),\n",
       " PosixPath('Dataset/bang_NE/RTC_GAMMA/S1A_IW_20190905T120447_DVP_RTC30_G_gpufem_AF79/S1A_IW_20190905T120447_DVP_RTC30_G_gpufem_AF79_dem.tif'),\n",
       " PosixPath('Dataset/bang_NE/RTC_GAMMA/S1A_IW_20210415T120451_DVP_RTC30_G_gpufem_756D/S1A_IW_20210415T120451_DVP_RTC30_G_gpufem_756D_dem.tif'),\n",
       " PosixPath('Dataset/bang_NE/RTC_GAMMA/S1A_IW_20210906T120459_DVP_RTC30_G_gpufem_B3A8/S1A_IW_20210906T120459_DVP_RTC30_G_gpufem_B3A8_dem.tif'),\n",
       " PosixPath('Dataset/bang_NE/RTC_GAMMA/S1A_IW_20220621T120501_DVP_RTC30_G_gpufem_22C3/S1A_IW_20220621T120501_DVP_RTC30_G_gpufem_22C3_dem.tif'),\n",
       " PosixPath('Dataset/bang_NE/RTC_GAMMA/S1A_IW_20211117T120500_DVP_RTC30_G_gpufem_D07B/S1A_IW_20211117T120500_DVP_RTC30_G_gpufem_D07B_dem.tif'),\n",
       " PosixPath('Dataset/bang_NE/RTC_GAMMA/S1A_IW_20230312T120502_DVP_RTC30_G_gpufem_DFDC/S1A_IW_20230312T120502_DVP_RTC30_G_gpufem_DFDC_dem.tif'),\n",
       " PosixPath('Dataset/bang_NE/RTC_GAMMA/S1A_IW_20200713T120450_DVP_RTC30_G_gpufem_6EB6/S1A_IW_20200713T120450_DVP_RTC30_G_gpufem_6EB6_dem.tif'),\n",
       " PosixPath('Dataset/bang_NE/RTC_GAMMA/S1A_IW_20230628T120506_DVP_RTC30_G_gpufem_61AB/S1A_IW_20230628T120506_DVP_RTC30_G_gpufem_61AB_dem.tif'),\n",
       " PosixPath('Dataset/bang_NE/RTC_GAMMA/S1A_IW_20230827T120510_DVP_RTC30_G_gpufem_9BF7/S1A_IW_20230827T120510_DVP_RTC30_G_gpufem_9BF7_dem.tif'),\n",
       " PosixPath('Dataset/bang_NE/RTC_GAMMA/S1A_IW_20190812T120446_DVP_RTC30_G_gpufem_0255/S1A_IW_20190812T120446_DVP_RTC30_G_gpufem_0255_dem.tif'),\n",
       " PosixPath('Dataset/bang_NE/RTC_GAMMA/S1A_IW_20190520T120441_DVP_RTC30_G_gpufem_9589/S1A_IW_20190520T120441_DVP_RTC30_G_gpufem_9589_dem.tif'),\n",
       " PosixPath('Dataset/bang_NE/RTC_GAMMA/S1A_IW_20210427T120452_DVP_RTC30_G_gpufem_D07E/S1A_IW_20210427T120452_DVP_RTC30_G_gpufem_D07E_dem.tif'),\n",
       " PosixPath('Dataset/bang_NE/RTC_GAMMA/S1A_IW_20221031T120506_DVP_RTC30_G_gpufem_48E8/S1A_IW_20221031T120506_DVP_RTC30_G_gpufem_48E8_dem.tif'),\n",
       " PosixPath('Dataset/bang_NE/RTC_GAMMA/S1A_IW_20230204T120502_DVP_RTC30_G_gpufem_BCD7/S1A_IW_20230204T120502_DVP_RTC30_G_gpufem_BCD7_dem.tif'),\n",
       " PosixPath('Dataset/bang_NE/RTC_GAMMA/S1A_IW_20230324T120502_DVP_RTC30_G_gpufem_0936/S1A_IW_20230324T120502_DVP_RTC30_G_gpufem_0936_dem.tif'),\n",
       " PosixPath('Dataset/bang_NE/RTC_GAMMA/S1A_IW_20230803T120509_DVP_RTC30_G_gpufem_C31F/S1A_IW_20230803T120509_DVP_RTC30_G_gpufem_C31F_dem.tif'),\n",
       " PosixPath('Dataset/bang_NE/RTC_GAMMA/S1A_IW_20231225T120509_DVP_RTC30_G_gpufem_C6D6/S1A_IW_20231225T120509_DVP_RTC30_G_gpufem_C6D6_dem.tif'),\n",
       " PosixPath('Dataset/bang_NE/RTC_GAMMA/S1A_IW_20221124T120506_DVP_RTC30_G_gpufem_82A1/S1A_IW_20221124T120506_DVP_RTC30_G_gpufem_82A1_dem.tif'),\n",
       " PosixPath('Dataset/bang_NE/RTC_GAMMA/S1A_IW_20200923T120454_DVP_RTC30_G_gpufem_2891/S1A_IW_20200923T120454_DVP_RTC30_G_gpufem_2891_dem.tif'),\n",
       " PosixPath('Dataset/bang_NE/RTC_GAMMA/S1A_IW_20190309T120438_DVP_RTC30_G_gpufem_4755/S1A_IW_20190309T120438_DVP_RTC30_G_gpufem_4755_dem.tif'),\n",
       " PosixPath('Dataset/bang_NE/RTC_GAMMA/S1A_IW_20231201T120510_DVP_RTC30_G_gpufem_EEBC/S1A_IW_20231201T120510_DVP_RTC30_G_gpufem_EEBC_dem.tif'),\n",
       " PosixPath('Dataset/bang_NE/RTC_GAMMA/S1A_IW_20210109T120452_DVP_RTC30_G_gpufem_5E7C/S1A_IW_20210109T120452_DVP_RTC30_G_gpufem_5E7C_dem.tif'),\n",
       " PosixPath('Dataset/bang_NE/RTC_GAMMA/S1A_IW_20230920T120511_DVP_RTC30_G_gpufem_24F3/S1A_IW_20230920T120511_DVP_RTC30_G_gpufem_24F3_dem.tif'),\n",
       " PosixPath('Dataset/bang_NE/RTC_GAMMA/S1A_IW_20210825T120459_DVP_RTC30_G_gpufem_A04F/S1A_IW_20210825T120459_DVP_RTC30_G_gpufem_A04F_dem.tif'),\n",
       " PosixPath('Dataset/bang_NE/RTC_GAMMA/S1A_IW_20190929T120448_DVP_RTC30_G_gpufem_0BC5/S1A_IW_20190929T120448_DVP_RTC30_G_gpufem_0BC5_dem.tif'),\n",
       " PosixPath('Dataset/bang_NE/RTC_GAMMA/S1A_IW_20211129T120459_DVP_RTC30_G_gpufem_E269/S1A_IW_20211129T120459_DVP_RTC30_G_gpufem_E269_dem.tif'),\n",
       " PosixPath('Dataset/bang_NE/RTC_GAMMA/S1A_IW_20220128T120456_DVP_RTC30_G_gpufem_EC1C/S1A_IW_20220128T120456_DVP_RTC30_G_gpufem_EC1C_dem.tif'),\n",
       " PosixPath('Dataset/bang_NE/RTC_GAMMA/S1A_IW_20220209T120456_DVP_RTC30_G_gpufem_1037/S1A_IW_20220209T120456_DVP_RTC30_G_gpufem_1037_dem.tif'),\n",
       " PosixPath('Dataset/bang_NE/RTC_GAMMA/S1A_IW_20230604T120505_DVP_RTC30_G_gpufem_F98E/S1A_IW_20230604T120505_DVP_RTC30_G_gpufem_F98E_dem.tif'),\n",
       " PosixPath('Dataset/bang_NE/RTC_GAMMA/S1A_IW_20190731T120445_DVP_RTC30_G_gpufem_3C5A/S1A_IW_20190731T120445_DVP_RTC30_G_gpufem_3C5A_dem.tif'),\n",
       " PosixPath('Dataset/bang_NE/RTC_GAMMA/S1A_IW_20200408T120445_DVP_RTC30_G_gpufem_3D72/S1A_IW_20200408T120445_DVP_RTC30_G_gpufem_3D72_dem.tif'),\n",
       " PosixPath('Dataset/bang_NE/RTC_GAMMA/S1A_IW_20211211T120459_DVP_RTC30_G_gpufem_3B81/S1A_IW_20211211T120459_DVP_RTC30_G_gpufem_3B81_dem.tif'),\n",
       " PosixPath('Dataset/bang_NE/RTC_GAMMA/S1A_IW_20190719T120444_DVP_RTC30_G_gpufem_DAFE/S1A_IW_20190719T120444_DVP_RTC30_G_gpufem_DAFE_dem.tif'),\n",
       " PosixPath('Dataset/bang_NE/RTC_GAMMA/S1A_IW_20230417T120503_DVP_RTC30_G_gpufem_85D7/S1A_IW_20230417T120503_DVP_RTC30_G_gpufem_85D7_dem.tif'),\n",
       " PosixPath('Dataset/bang_NE/RTC_GAMMA/S1A_IW_20200607T120448_DVP_RTC30_G_gpufem_05E8/S1A_IW_20200607T120448_DVP_RTC30_G_gpufem_05E8_dem.tif'),\n",
       " PosixPath('Dataset/bang_NE/RTC_GAMMA/S1A_IW_20220422T120457_DVP_RTC30_G_gpufem_D66B/S1A_IW_20220422T120457_DVP_RTC30_G_gpufem_D66B_dem.tif'),\n",
       " PosixPath('Dataset/bang_NE/RTC_GAMMA/S1A_IW_20201204T120453_DVP_RTC30_G_gpufem_CE47/S1A_IW_20201204T120453_DVP_RTC30_G_gpufem_CE47_dem.tif'),\n",
       " PosixPath('Dataset/bang_NE/RTC_GAMMA/S1A_IW_20190414T120439_DVP_RTC30_G_gpufem_81C6/S1A_IW_20190414T120439_DVP_RTC30_G_gpufem_81C6_dem.tif'),\n",
       " PosixPath('Dataset/bang_NE/RTC_GAMMA/S1A_IW_20211223T120458_DVP_RTC30_G_gpufem_6524/S1A_IW_20211223T120458_DVP_RTC30_G_gpufem_6524_dem.tif'),\n",
       " PosixPath('Dataset/bang_NE/RTC_GAMMA/S1A_IW_20201017T120454_DVP_RTC30_G_gpufem_6556/S1A_IW_20201017T120454_DVP_RTC30_G_gpufem_6556_dem.tif'),\n",
       " PosixPath('Dataset/bang_NE/RTC_GAMMA/S1A_IW_20230722T120508_DVP_RTC30_G_gpufem_3E39/S1A_IW_20230722T120508_DVP_RTC30_G_gpufem_3E39_dem.tif'),\n",
       " PosixPath('Dataset/bang_NE/RTC_GAMMA/S1A_IW_20190321T120438_DVP_RTC30_G_gpufem_73AE/S1A_IW_20190321T120438_DVP_RTC30_G_gpufem_73AE_dem.tif'),\n",
       " PosixPath('Dataset/bang_NE/RTC_GAMMA/S1A_IW_20200619T120449_DVP_RTC30_G_gpufem_3C15/S1A_IW_20200619T120449_DVP_RTC30_G_gpufem_3C15_dem.tif'),\n",
       " PosixPath('Dataset/bang_NE/RTC_GAMMA/S1A_IW_20210322T120450_DVP_RTC30_G_gpufem_9E55/S1A_IW_20210322T120450_DVP_RTC30_G_gpufem_9E55_dem.tif'),\n",
       " PosixPath('Dataset/bang_NE/RTC_GAMMA/S1A_IW_20200208T120445_DVP_RTC30_G_gpufem_A8A8/S1A_IW_20200208T120445_DVP_RTC30_G_gpufem_A8A8_dem.tif'),\n",
       " PosixPath('Dataset/bang_NE/RTC_GAMMA/S1A_IW_20190824T120446_DVP_RTC30_G_gpufem_4CCB/S1A_IW_20190824T120446_DVP_RTC30_G_gpufem_4CCB_dem.tif'),\n",
       " PosixPath('Dataset/bang_NE/RTC_GAMMA/S1A_IW_20220925T120505_DVP_RTC30_G_gpufem_3F46/S1A_IW_20220925T120505_DVP_RTC30_G_gpufem_3F46_dem.tif'),\n",
       " PosixPath('Dataset/bang_NE/RTC_GAMMA/S1A_IW_20230216T120502_DVP_RTC30_G_gpufem_72B7/S1A_IW_20230216T120502_DVP_RTC30_G_gpufem_72B7_dem.tif'),\n",
       " PosixPath('Dataset/bang_NE/RTC_GAMMA/S1A_IW_20191116T120448_DVP_RTC30_G_gpufem_C1C6/S1A_IW_20191116T120448_DVP_RTC30_G_gpufem_C1C6_dem.tif'),\n",
       " PosixPath('Dataset/bang_NE/RTC_GAMMA/S1A_IW_20230123T120503_DVP_RTC30_G_gpufem_F9EA/S1A_IW_20230123T120503_DVP_RTC30_G_gpufem_F9EA_dem.tif'),\n",
       " PosixPath('Dataset/bang_NE/RTC_GAMMA/S1A_IW_20190613T120442_DVP_RTC30_G_gpufem_FC73/S1A_IW_20190613T120442_DVP_RTC30_G_gpufem_FC73_dem.tif'),\n",
       " PosixPath('Dataset/bang_NE/RTC_GAMMA/S1A_IW_20200701T120449_DVP_RTC30_G_gpufem_E709/S1A_IW_20200701T120449_DVP_RTC30_G_gpufem_E709_dem.tif'),\n",
       " PosixPath('Dataset/bang_NE/RTC_GAMMA/S1A_IW_20210708T120456_DVP_RTC30_G_gpufem_9048/S1A_IW_20210708T120456_DVP_RTC30_G_gpufem_9048_dem.tif'),\n",
       " PosixPath('Dataset/bang_NE/RTC_GAMMA/S1A_IW_20210509T120452_DVP_RTC30_G_gpufem_487B/S1A_IW_20210509T120452_DVP_RTC30_G_gpufem_487B_dem.tif'),\n",
       " PosixPath('Dataset/bang_NE/RTC_GAMMA/S1A_IW_20190108T120439_DVP_RTC30_G_gpufem_8BD9/S1A_IW_20190108T120439_DVP_RTC30_G_gpufem_8BD9_dem.tif'),\n",
       " PosixPath('Dataset/bang_NE/RTC_GAMMA/S1A_IW_20240106T120508_DVP_RTC30_G_gpufem_887D/S1A_IW_20240106T120508_DVP_RTC30_G_gpufem_887D_dem.tif'),\n",
       " PosixPath('Dataset/bang_NE/RTC_GAMMA/S1A_IW_20210121T120451_DVP_RTC30_G_gpufem_DB2A/S1A_IW_20210121T120451_DVP_RTC30_G_gpufem_DB2A_dem.tif'),\n",
       " PosixPath('Dataset/bang_NE/RTC_GAMMA/S1A_IW_20190213T120438_DVP_RTC30_G_gpufem_CA11/S1A_IW_20190213T120438_DVP_RTC30_G_gpufem_CA11_dem.tif'),\n",
       " PosixPath('Dataset/bang_NE/RTC_GAMMA/S1A_IW_20210614T120455_DVP_RTC30_G_gpufem_7735/S1A_IW_20210614T120455_DVP_RTC30_G_gpufem_7735_dem.tif'),\n",
       " PosixPath('Dataset/bang_NE/RTC_GAMMA/S1A_IW_20190707T120443_DVP_RTC30_G_gpufem_F5B7/S1A_IW_20190707T120443_DVP_RTC30_G_gpufem_F5B7_dem.tif'),\n",
       " PosixPath('Dataset/bang_NE/RTC_GAMMA/S1A_IW_20230111T120503_DVP_RTC30_G_gpufem_4C33/S1A_IW_20230111T120503_DVP_RTC30_G_gpufem_4C33_dem.tif'),\n",
       " PosixPath('Dataset/bang_NE/RTC_GAMMA/S1A_IW_20210202T120451_DVP_RTC30_G_gpufem_A277/S1A_IW_20210202T120451_DVP_RTC30_G_gpufem_A277_dem.tif'),\n",
       " PosixPath('Dataset/bang_NE/RTC_GAMMA/S1A_IW_20230429T120503_DVP_RTC30_G_gpufem_436F/S1A_IW_20230429T120503_DVP_RTC30_G_gpufem_436F_dem.tif'),\n",
       " PosixPath('Dataset/bang_NE/RTC_GAMMA/S1A_IW_20190120T120439_DVP_RTC30_G_gpufem_97E2/S1A_IW_20190120T120439_DVP_RTC30_G_gpufem_97E2_dem.tif'),\n",
       " PosixPath('Dataset/bang_NE/RTC_GAMMA/S1A_IW_20210214T120450_DVP_RTC30_G_gpufem_2A53/S1A_IW_20210214T120450_DVP_RTC30_G_gpufem_2A53_dem.tif'),\n",
       " PosixPath('Dataset/bang_NE/RTC_GAMMA/S1A_IW_20190625T120442_DVP_RTC30_G_gpufem_26C2/S1A_IW_20190625T120442_DVP_RTC30_G_gpufem_26C2_dem.tif'),\n",
       " PosixPath('Dataset/bang_NE/RTC_GAMMA/S1A_IW_20230908T120510_DVP_RTC30_G_gpufem_A857/S1A_IW_20230908T120510_DVP_RTC30_G_gpufem_A857_dem.tif'),\n",
       " PosixPath('Dataset/bang_NE/RTC_GAMMA/S1A_IW_20200818T120452_DVP_RTC30_G_gpufem_362D/S1A_IW_20200818T120452_DVP_RTC30_G_gpufem_362D_dem.tif'),\n",
       " PosixPath('Dataset/bang_NE/RTC_GAMMA/S1A_IW_20221230T120504_DVP_RTC30_G_gpufem_2CC1/S1A_IW_20221230T120504_DVP_RTC30_G_gpufem_2CC1_dem.tif'),\n",
       " PosixPath('Dataset/bang_NE/RTC_GAMMA/S1A_IW_20221019T120506_DVP_RTC30_G_gpufem_2D94/S1A_IW_20221019T120506_DVP_RTC30_G_gpufem_2D94_dem.tif'),\n",
       " PosixPath('Dataset/bang_NE/RTC_GAMMA/S1A_IW_20231107T120510_DVP_RTC30_G_gpufem_EA92/S1A_IW_20231107T120510_DVP_RTC30_G_gpufem_EA92_dem.tif'),\n",
       " PosixPath('Dataset/bang_NE/RTC_GAMMA/S1A_IW_20221206T120505_DVP_RTC30_G_gpufem_DECC/S1A_IW_20221206T120505_DVP_RTC30_G_gpufem_DECC_dem.tif'),\n",
       " PosixPath('Dataset/bang_NE/RTC_GAMMA/S1A_IW_20200315T120445_DVP_RTC30_G_gpufem_C860/S1A_IW_20200315T120445_DVP_RTC30_G_gpufem_C860_dem.tif'),\n",
       " PosixPath('Dataset/bang_NE/RTC_GAMMA/S1A_IW_20230511T120504_DVP_RTC30_G_gpufem_CBE8/S1A_IW_20230511T120504_DVP_RTC30_G_gpufem_CBE8_dem.tif'),\n",
       " PosixPath('Dataset/bang_NE/RTC_GAMMA/S1A_IW_20220913T120506_DVP_RTC30_G_gpufem_FB4E/S1A_IW_20220913T120506_DVP_RTC30_G_gpufem_FB4E_dem.tif'),\n",
       " PosixPath('Dataset/bang_NE/RTC_GAMMA/S1A_IW_20220104T120457_DVP_RTC30_G_gpufem_F4B3/S1A_IW_20220104T120457_DVP_RTC30_G_gpufem_F4B3_dem.tif'),\n",
       " PosixPath('Dataset/bang_NE/RTC_GAMMA/S1A_IW_20200303T120444_DVP_RTC30_G_gpufem_BAB5/S1A_IW_20200303T120444_DVP_RTC30_G_gpufem_BAB5_dem.tif'),\n",
       " PosixPath('Dataset/bang_NE/RTC_GAMMA/S1A_IW_20231014T120511_DVP_RTC30_G_gpufem_D171/S1A_IW_20231014T120511_DVP_RTC30_G_gpufem_D171_dem.tif'),\n",
       " PosixPath('Dataset/bang_NE/RTC_GAMMA/S1A_IW_20220504T120457_DVP_RTC30_G_gpufem_9B0C/S1A_IW_20220504T120457_DVP_RTC30_G_gpufem_9B0C_dem.tif'),\n",
       " PosixPath('Dataset/bang_NE/RTC_GAMMA/S1A_IW_20210310T120450_DVP_RTC30_G_gpufem_9E13/S1A_IW_20210310T120450_DVP_RTC30_G_gpufem_9E13_dem.tif'),\n",
       " PosixPath('Dataset/bang_NE/RTC_GAMMA/S1A_IW_20190508T120440_DVP_RTC30_G_gpufem_34D2/S1A_IW_20190508T120440_DVP_RTC30_G_gpufem_34D2_dem.tif'),\n",
       " PosixPath('Dataset/bang_NE/RTC_GAMMA/S1A_IW_20200806T120452_DVP_RTC30_G_gpufem_34F8/S1A_IW_20200806T120452_DVP_RTC30_G_gpufem_34F8_dem.tif'),\n",
       " PosixPath('Dataset/bang_NE/RTC_GAMMA/S1A_IW_20191222T120446_DVP_RTC30_G_gpufem_E4A8/S1A_IW_20191222T120446_DVP_RTC30_G_gpufem_E4A8_dem.tif'),\n",
       " PosixPath('Dataset/bang_NE/RTC_GAMMA/S1A_IW_20200115T120445_DVP_RTC30_G_gpufem_43F5/S1A_IW_20200115T120445_DVP_RTC30_G_gpufem_43F5_dem.tif'),\n",
       " PosixPath('Dataset/bang_NE/RTC_GAMMA/S1A_IW_20220901T120505_DVP_RTC30_G_gpufem_6D92/S1A_IW_20220901T120505_DVP_RTC30_G_gpufem_6D92_dem.tif'),\n",
       " PosixPath('Dataset/bang_NE/RTC_GAMMA/S1A_IW_20191210T120447_DVP_RTC30_G_gpufem_CEB6/S1A_IW_20191210T120447_DVP_RTC30_G_gpufem_CEB6_dem.tif'),\n",
       " PosixPath('Dataset/bang_NE/RTC_GAMMA/S1A_IW_20221007T120506_DVP_RTC30_G_gpufem_13ED/S1A_IW_20221007T120506_DVP_RTC30_G_gpufem_13ED_dem.tif'),\n",
       " PosixPath('Dataset/bang_NE/RTC_GAMMA/S1A_IW_20220715T120502_DVP_RTC30_G_gpufem_9F3A/S1A_IW_20220715T120502_DVP_RTC30_G_gpufem_9F3A_dem.tif'),\n",
       " PosixPath('Dataset/bang_NE/RTC_GAMMA/S1A_IW_20220703T120502_DVP_RTC30_G_gpufem_CBC0/S1A_IW_20220703T120502_DVP_RTC30_G_gpufem_CBC0_dem.tif'),\n",
       " PosixPath('Dataset/bang_NE/RTC_GAMMA/S1A_IW_20220528T120459_DVP_RTC30_G_gpufem_DC3E/S1A_IW_20220528T120459_DVP_RTC30_G_gpufem_DC3E_dem.tif'),\n",
       " PosixPath('Dataset/bang_NE/RTC_GAMMA/S1A_IW_20200911T120454_DVP_RTC30_G_gpufem_D603/S1A_IW_20200911T120454_DVP_RTC30_G_gpufem_D603_dem.tif'),\n",
       " PosixPath('Dataset/bang_NE/RTC_GAMMA/S1A_IW_20230710T120507_DVP_RTC30_G_gpufem_95E6/S1A_IW_20230710T120507_DVP_RTC30_G_gpufem_95E6_dem.tif'),\n",
       " PosixPath('Dataset/bang_NE/RTC_GAMMA/S1A_IW_20220516T120458_DVP_RTC30_G_gpufem_3BEB/S1A_IW_20220516T120458_DVP_RTC30_G_gpufem_3BEB_dem.tif'),\n",
       " PosixPath('Dataset/bang_NE/RTC_GAMMA/S1A_IW_20220410T120457_DVP_RTC30_G_gpufem_071D/S1A_IW_20220410T120457_DVP_RTC30_G_gpufem_071D_dem.tif'),\n",
       " PosixPath('Dataset/bang_NE/RTC_GAMMA/S1A_IW_20220317T120456_DVP_RTC30_G_gpufem_2DE1/S1A_IW_20220317T120456_DVP_RTC30_G_gpufem_2DE1_dem.tif'),\n",
       " PosixPath('Dataset/bang_NE/RTC_GAMMA/S1A_IW_20201216T120453_DVP_RTC30_G_gpufem_00FD/S1A_IW_20201216T120453_DVP_RTC30_G_gpufem_00FD_dem.tif'),\n",
       " PosixPath('Dataset/bang_NE/RTC_GAMMA/S1A_IW_20220727T120503_DVP_RTC30_G_gpufem_59AB/S1A_IW_20220727T120503_DVP_RTC30_G_gpufem_59AB_dem.tif'),\n",
       " PosixPath('Dataset/bang_NE/RTC_GAMMA/S1A_IW_20200526T120447_DVP_RTC30_G_gpufem_B478/S1A_IW_20200526T120447_DVP_RTC30_G_gpufem_B478_dem.tif'),\n",
       " PosixPath('Dataset/bang_NE/RTC_GAMMA/S1A_IW_20190225T120438_DVP_RTC30_G_gpufem_C14B/S1A_IW_20190225T120438_DVP_RTC30_G_gpufem_C14B_dem.tif'),\n",
       " PosixPath('Dataset/bang_NE/RTC_GAMMA/S1A_IW_20220808T120504_DVP_RTC30_G_gpufem_04A4/S1A_IW_20220808T120504_DVP_RTC30_G_gpufem_04A4_dem.tif'),\n",
       " PosixPath('Dataset/bang_NE/RTC_GAMMA/S1A_IW_20220116T120457_DVP_RTC30_G_gpufem_4A7F/S1A_IW_20220116T120457_DVP_RTC30_G_gpufem_4A7F_dem.tif'),\n",
       " PosixPath('Dataset/bang_NE/RTC_GAMMA/S1A_IW_20230405T120502_DVP_RTC30_G_gpufem_D3F2/S1A_IW_20230405T120502_DVP_RTC30_G_gpufem_D3F2_dem.tif'),\n",
       " PosixPath('Dataset/bang_NE/RTC_GAMMA/S1A_IW_20220609T120500_DVP_RTC30_G_gpufem_35A6/S1A_IW_20220609T120500_DVP_RTC30_G_gpufem_35A6_dem.tif'),\n",
       " PosixPath('Dataset/bang_NE/RTC_GAMMA/S1A_IW_20200220T120444_DVP_RTC30_G_gpufem_1A88/S1A_IW_20200220T120444_DVP_RTC30_G_gpufem_1A88_dem.tif'),\n",
       " PosixPath('Dataset/bang_NE/RTC_GAMMA/S1A_IW_20210626T120455_DVP_RTC30_G_gpufem_5D53/S1A_IW_20210626T120455_DVP_RTC30_G_gpufem_5D53_dem.tif'),\n",
       " PosixPath('Dataset/bang_NE/RTC_GAMMA/S1A_IW_20190402T120439_DVP_RTC30_G_gpufem_0364/S1A_IW_20190402T120439_DVP_RTC30_G_gpufem_0364_dem.tif'),\n",
       " PosixPath('Dataset/bang_NE/RTC_GAMMA/S1A_IW_20191011T120448_DVP_RTC30_G_gpufem_DF64/S1A_IW_20191011T120448_DVP_RTC30_G_gpufem_DF64_dem.tif'),\n",
       " PosixPath('Dataset/bang_NE/RTC_GAMMA/S1A_IW_20200327T120445_DVP_RTC30_G_gpufem_F7B4/S1A_IW_20200327T120445_DVP_RTC30_G_gpufem_F7B4_dem.tif'),\n",
       " PosixPath('Dataset/bang_NE/RTC_GAMMA/S1A_IW_20191104T120448_DVP_RTC30_G_gpufem_247C/S1A_IW_20191104T120448_DVP_RTC30_G_gpufem_247C_dem.tif'),\n",
       " PosixPath('Dataset/bang_NE/RTC_GAMMA/S1A_IW_20221112T120506_DVP_RTC30_G_gpufem_B3C9/S1A_IW_20221112T120506_DVP_RTC30_G_gpufem_B3C9_dem.tif'),\n",
       " PosixPath('Dataset/bang_NE/RTC_GAMMA/S1A_IW_20210226T120450_DVP_RTC30_G_gpufem_EBFB/S1A_IW_20210226T120450_DVP_RTC30_G_gpufem_EBFB_dem.tif'),\n",
       " PosixPath('Dataset/bang_NE/RTC_GAMMA/S1A_IW_20200830T120453_DVP_RTC30_G_gpufem_7018/S1A_IW_20200830T120453_DVP_RTC30_G_gpufem_7018_dem.tif'),\n",
       " PosixPath('Dataset/bang_NE/RTC_GAMMA/S1A_IW_20231002T120511_DVP_RTC30_G_gpufem_7D8B/S1A_IW_20231002T120511_DVP_RTC30_G_gpufem_7D8B_dem.tif'),\n",
       " PosixPath('Dataset/bang_NE/RTC_GAMMA/S1A_IW_20210602T120454_DVP_RTC30_G_gpufem_015F/S1A_IW_20210602T120454_DVP_RTC30_G_gpufem_015F_dem.tif'),\n",
       " PosixPath('Dataset/bang_NE/RTC_GAMMA/S1A_IW_20220820T120505_DVP_RTC30_G_gpufem_E99A/S1A_IW_20220820T120505_DVP_RTC30_G_gpufem_E99A_dem.tif'),\n",
       " PosixPath('Dataset/bang_NE/RTC_GAMMA/S1A_IW_20230228T120502_DVP_RTC30_G_gpufem_F61C/S1A_IW_20230228T120502_DVP_RTC30_G_gpufem_F61C_dem.tif')]"
      ]
     },
     "execution_count": 66,
     "metadata": {},
     "output_type": "execute_result"
    }
   ],
   "source": [
    "dem_paths"
   ]
  },
  {
   "cell_type": "markdown",
   "metadata": {},
   "source": [
    "**Reproject all tiffs to the predominate UTM:**"
   ]
  },
  {
   "cell_type": "code",
   "execution_count": 67,
   "metadata": {},
   "outputs": [
    {
     "name": "stdout",
     "output_type": "stream",
     "text": [
      "--------------------------------------------\n",
      "Reprojecting  0.0 files\n",
      "--------------------------------------------\n"
     ]
    }
   ],
   "source": [
    "if not autorift:\n",
    "    # Reproject (if needed) and Mosaic DEM Files in Preparation for Subsequent HAND Calculation\n",
    "    # print(DEM_paths)\n",
    "    reproject_indicies = [i for i, j in enumerate(utm_zones) if j != predominant_utm] #makes list of indicies in utm_zones that need to be reprojected\n",
    "    print('--------------------------------------------')\n",
    "    print('Reprojecting %4.1f files' %(len(reproject_indicies)))\n",
    "    print('--------------------------------------------')\n",
    "    for k in reproject_indicies:\n",
    "        temppath = f\"{str(product_paths[k].parent)}/r{product_paths[k].name}\"\n",
    "        temppath_dem = f\"{str(dem_paths[k].parent)}/r{dem_paths[k].name}\"\n",
    "        print(temppath)  \n",
    "\n",
    "        cmd = f\"gdalwarp -overwrite {product_paths[k]} {temppath} -s_srs {utm_types[k]}:{utm_zones[k]} -t_srs EPSG:{predominant_utm}\"\n",
    "    #     print(cmd)\n",
    "        !{cmd}\n",
    "        \n",
    "        cmd = f\"gdalwarp -overwrite {dem_paths[k]} {temppath_dem} -s_srs {utm_types[k]}:{utm_zones[k]} -t_srs EPSG:{predominant_utm}\"\n",
    "    #     print(cmd)\n",
    "        !{cmd}\n",
    "\n",
    "        product_paths[k].unlink()\n",
    "        dem_paths[k].unlink()"
   ]
  },
  {
   "cell_type": "markdown",
   "metadata": {},
   "source": [
    "**Update product_paths with any new filenames created during reprojection:**"
   ]
  },
  {
   "cell_type": "code",
   "execution_count": 68,
   "metadata": {},
   "outputs": [
    {
     "name": "stdout",
     "output_type": "stream",
     "text": [
      "Tiff paths:\n",
      "Dataset/bang_NE/RTC_GAMMA/S1A_IW_20240118T120507_DVR_RTC30_G_gpufem_CF32/S1A_IW_20240118T120507_DVR_RTC30_G_gpufem_CF32_VV.tif\n",
      "\n",
      "Dataset/bang_NE/RTC_GAMMA/S1A_IW_20210918T120500_DVP_RTC30_G_gpufem_6F10/S1A_IW_20210918T120500_DVP_RTC30_G_gpufem_6F10_VV.tif\n",
      "\n",
      "Dataset/bang_NE/RTC_GAMMA/S1A_IW_20220329T120456_DVP_RTC30_G_gpufem_DA96/S1A_IW_20220329T120456_DVP_RTC30_G_gpufem_DA96_VV.tif\n",
      "\n",
      "Dataset/bang_NE/RTC_GAMMA/S1A_IW_20201110T120454_DVP_RTC30_G_gpufem_B939/S1A_IW_20201110T120454_DVP_RTC30_G_gpufem_B939_VV.tif\n",
      "\n",
      "Dataset/bang_NE/RTC_GAMMA/S1A_IW_20240130T120507_DVR_RTC30_G_gpufem_811D/S1A_IW_20240130T120507_DVR_RTC30_G_gpufem_811D_VV.tif\n",
      "\n",
      "Dataset/bang_NE/RTC_GAMMA/S1A_IW_20201005T120454_DVP_RTC30_G_gpufem_37D1/S1A_IW_20201005T120454_DVP_RTC30_G_gpufem_37D1_VV.tif\n",
      "\n",
      "Dataset/bang_NE/RTC_GAMMA/S1A_IW_20230815T120509_DVP_RTC30_G_gpufem_F226/S1A_IW_20230815T120509_DVP_RTC30_G_gpufem_F226_VV.tif\n",
      "\n",
      "Dataset/bang_NE/RTC_GAMMA/S1A_IW_20200502T120446_DVP_RTC30_G_gpufem_D75F/S1A_IW_20200502T120446_DVP_RTC30_G_gpufem_D75F_VV.tif\n",
      "\n",
      "Dataset/bang_NE/RTC_GAMMA/S1A_IW_20200725T120451_DVP_RTC30_G_gpufem_82EC/S1A_IW_20200725T120451_DVP_RTC30_G_gpufem_82EC_VV.tif\n",
      "\n",
      "Dataset/bang_NE/RTC_GAMMA/S1A_IW_20201029T120454_DVP_RTC30_G_gpufem_B897/S1A_IW_20201029T120454_DVP_RTC30_G_gpufem_B897_VV.tif\n",
      "\n",
      "Dataset/bang_NE/RTC_GAMMA/S1A_IW_20210720T120457_DVP_RTC30_G_gpufem_A86B/S1A_IW_20210720T120457_DVP_RTC30_G_gpufem_A86B_VV.tif\n",
      "\n",
      "Dataset/bang_NE/RTC_GAMMA/S1A_IW_20230616T120506_DVP_RTC30_G_gpufem_31DE/S1A_IW_20230616T120506_DVP_RTC30_G_gpufem_31DE_VV.tif\n",
      "\n",
      "Dataset/bang_NE/RTC_GAMMA/S1A_IW_20210930T120500_DVP_RTC30_G_gpufem_529E/S1A_IW_20210930T120500_DVP_RTC30_G_gpufem_529E_VV.tif\n",
      "\n",
      "Dataset/bang_NE/RTC_GAMMA/S1A_IW_20231026T120511_DVP_RTC30_G_gpufem_5D5C/S1A_IW_20231026T120511_DVP_RTC30_G_gpufem_5D5C_VV.tif\n",
      "\n",
      "Dataset/bang_NE/RTC_GAMMA/S1A_IW_20220305T120456_DVP_RTC30_G_gpufem_ADD2/S1A_IW_20220305T120456_DVP_RTC30_G_gpufem_ADD2_VV.tif\n",
      "\n",
      "Dataset/bang_NE/RTC_GAMMA/S1A_IW_20210521T120453_DVP_RTC30_G_gpufem_AEEC/S1A_IW_20210521T120453_DVP_RTC30_G_gpufem_AEEC_VV.tif\n",
      "\n",
      "Dataset/bang_NE/RTC_GAMMA/S1A_IW_20210813T120458_DVP_RTC30_G_gpufem_73D9/S1A_IW_20210813T120458_DVP_RTC30_G_gpufem_73D9_VV.tif\n",
      "\n",
      "Dataset/bang_NE/RTC_GAMMA/S1A_IW_20220221T120456_DVP_RTC30_G_gpufem_A40A/S1A_IW_20220221T120456_DVP_RTC30_G_gpufem_A40A_VV.tif\n",
      "\n",
      "Dataset/bang_NE/RTC_GAMMA/S1A_IW_20230523T120504_DVP_RTC30_G_gpufem_38EE/S1A_IW_20230523T120504_DVP_RTC30_G_gpufem_38EE_VV.tif\n",
      "\n",
      "Dataset/bang_NE/RTC_GAMMA/S1A_IW_20201122T120454_DVP_RTC30_G_gpufem_F692/S1A_IW_20201122T120454_DVP_RTC30_G_gpufem_F692_VV.tif\n",
      "\n",
      "Dataset/bang_NE/RTC_GAMMA/S1A_IW_20190201T120439_DVP_RTC30_G_gpufem_5EF2/S1A_IW_20190201T120439_DVP_RTC30_G_gpufem_5EF2_VV.tif\n",
      "\n",
      "Dataset/bang_NE/RTC_GAMMA/S1A_IW_20191023T120448_DVP_RTC30_G_gpufem_A9AA/S1A_IW_20191023T120448_DVP_RTC30_G_gpufem_A9AA_VV.tif\n",
      "\n",
      "Dataset/bang_NE/RTC_GAMMA/S1A_IW_20190601T120441_DVP_RTC30_G_gpufem_6710/S1A_IW_20190601T120441_DVP_RTC30_G_gpufem_6710_VV.tif\n",
      "\n",
      "Dataset/bang_NE/RTC_GAMMA/S1A_IW_20200420T120445_DVP_RTC30_G_gpufem_6689/S1A_IW_20200420T120445_DVP_RTC30_G_gpufem_6689_VV.tif\n",
      "\n",
      "Dataset/bang_NE/RTC_GAMMA/S1A_IW_20210801T120457_DVP_RTC30_G_gpufem_D150/S1A_IW_20210801T120457_DVP_RTC30_G_gpufem_D150_VV.tif\n",
      "\n",
      "Dataset/bang_NE/RTC_GAMMA/S1A_IW_20231213T120510_DVP_RTC30_G_gpufem_922F/S1A_IW_20231213T120510_DVP_RTC30_G_gpufem_922F_VV.tif\n",
      "\n",
      "Dataset/bang_NE/RTC_GAMMA/S1A_IW_20200514T120447_DVP_RTC30_G_gpufem_644F/S1A_IW_20200514T120447_DVP_RTC30_G_gpufem_644F_VV.tif\n",
      "\n",
      "Dataset/bang_NE/RTC_GAMMA/S1A_IW_20211012T120500_DVP_RTC30_G_gpufem_6C16/S1A_IW_20211012T120500_DVP_RTC30_G_gpufem_6C16_VV.tif\n",
      "\n",
      "Dataset/bang_NE/RTC_GAMMA/S1A_IW_20191128T120447_DVP_RTC30_G_gpufem_F1A1/S1A_IW_20191128T120447_DVP_RTC30_G_gpufem_F1A1_VV.tif\n",
      "\n",
      "Dataset/bang_NE/RTC_GAMMA/S1A_IW_20190426T120440_DVP_RTC30_G_gpufem_34EB/S1A_IW_20190426T120440_DVP_RTC30_G_gpufem_34EB_VV.tif\n",
      "\n",
      "Dataset/bang_NE/RTC_GAMMA/S1A_IW_20211024T120500_DVP_RTC30_G_gpufem_0BE0/S1A_IW_20211024T120500_DVP_RTC30_G_gpufem_0BE0_VV.tif\n",
      "\n",
      "Dataset/bang_NE/RTC_GAMMA/S1A_IW_20200127T120445_DVP_RTC30_G_gpufem_5E3A/S1A_IW_20200127T120445_DVP_RTC30_G_gpufem_5E3A_VV.tif\n",
      "\n",
      "Dataset/bang_NE/RTC_GAMMA/S1A_IW_20201228T120452_DVP_RTC30_G_gpufem_9EF3/S1A_IW_20201228T120452_DVP_RTC30_G_gpufem_9EF3_VV.tif\n",
      "\n",
      "Dataset/bang_NE/RTC_GAMMA/S1A_IW_20200103T120446_DVP_RTC30_G_gpufem_DBED/S1A_IW_20200103T120446_DVP_RTC30_G_gpufem_DBED_VV.tif\n",
      "\n",
      "Dataset/bang_NE/RTC_GAMMA/S1A_IW_20211105T120500_DVP_RTC30_G_gpufem_FA5C/S1A_IW_20211105T120500_DVP_RTC30_G_gpufem_FA5C_VV.tif\n",
      "\n",
      "Dataset/bang_NE/RTC_GAMMA/S1A_IW_20231119T120510_DVP_RTC30_G_gpufem_FA28/S1A_IW_20231119T120510_DVP_RTC30_G_gpufem_FA28_VV.tif\n",
      "\n",
      "Dataset/bang_NE/RTC_GAMMA/S1A_IW_20210403T120451_DVP_RTC30_G_gpufem_3410/S1A_IW_20210403T120451_DVP_RTC30_G_gpufem_3410_VV.tif\n",
      "\n",
      "Dataset/bang_NE/RTC_GAMMA/S1A_IW_20221218T120504_DVP_RTC30_G_gpufem_047C/S1A_IW_20221218T120504_DVP_RTC30_G_gpufem_047C_VV.tif\n",
      "\n",
      "Dataset/bang_NE/RTC_GAMMA/S1A_IW_20190905T120447_DVP_RTC30_G_gpufem_AF79/S1A_IW_20190905T120447_DVP_RTC30_G_gpufem_AF79_VV.tif\n",
      "\n",
      "Dataset/bang_NE/RTC_GAMMA/S1A_IW_20210415T120451_DVP_RTC30_G_gpufem_756D/S1A_IW_20210415T120451_DVP_RTC30_G_gpufem_756D_VV.tif\n",
      "\n",
      "Dataset/bang_NE/RTC_GAMMA/S1A_IW_20210906T120459_DVP_RTC30_G_gpufem_B3A8/S1A_IW_20210906T120459_DVP_RTC30_G_gpufem_B3A8_VV.tif\n",
      "\n",
      "Dataset/bang_NE/RTC_GAMMA/S1A_IW_20220621T120501_DVP_RTC30_G_gpufem_22C3/S1A_IW_20220621T120501_DVP_RTC30_G_gpufem_22C3_VV.tif\n",
      "\n",
      "Dataset/bang_NE/RTC_GAMMA/S1A_IW_20211117T120500_DVP_RTC30_G_gpufem_D07B/S1A_IW_20211117T120500_DVP_RTC30_G_gpufem_D07B_VV.tif\n",
      "\n",
      "Dataset/bang_NE/RTC_GAMMA/S1A_IW_20230312T120502_DVP_RTC30_G_gpufem_DFDC/S1A_IW_20230312T120502_DVP_RTC30_G_gpufem_DFDC_VV.tif\n",
      "\n",
      "Dataset/bang_NE/RTC_GAMMA/S1A_IW_20200713T120450_DVP_RTC30_G_gpufem_6EB6/S1A_IW_20200713T120450_DVP_RTC30_G_gpufem_6EB6_VV.tif\n",
      "\n",
      "Dataset/bang_NE/RTC_GAMMA/S1A_IW_20230628T120506_DVP_RTC30_G_gpufem_61AB/S1A_IW_20230628T120506_DVP_RTC30_G_gpufem_61AB_VV.tif\n",
      "\n",
      "Dataset/bang_NE/RTC_GAMMA/S1A_IW_20230827T120510_DVP_RTC30_G_gpufem_9BF7/S1A_IW_20230827T120510_DVP_RTC30_G_gpufem_9BF7_VV.tif\n",
      "\n",
      "Dataset/bang_NE/RTC_GAMMA/S1A_IW_20190812T120446_DVP_RTC30_G_gpufem_0255/S1A_IW_20190812T120446_DVP_RTC30_G_gpufem_0255_VV.tif\n",
      "\n",
      "Dataset/bang_NE/RTC_GAMMA/S1A_IW_20190520T120441_DVP_RTC30_G_gpufem_9589/S1A_IW_20190520T120441_DVP_RTC30_G_gpufem_9589_VV.tif\n",
      "\n",
      "Dataset/bang_NE/RTC_GAMMA/S1A_IW_20210427T120452_DVP_RTC30_G_gpufem_D07E/S1A_IW_20210427T120452_DVP_RTC30_G_gpufem_D07E_VV.tif\n",
      "\n",
      "Dataset/bang_NE/RTC_GAMMA/S1A_IW_20221031T120506_DVP_RTC30_G_gpufem_48E8/S1A_IW_20221031T120506_DVP_RTC30_G_gpufem_48E8_VV.tif\n",
      "\n",
      "Dataset/bang_NE/RTC_GAMMA/S1A_IW_20230204T120502_DVP_RTC30_G_gpufem_BCD7/S1A_IW_20230204T120502_DVP_RTC30_G_gpufem_BCD7_VV.tif\n",
      "\n",
      "Dataset/bang_NE/RTC_GAMMA/S1A_IW_20230324T120502_DVP_RTC30_G_gpufem_0936/S1A_IW_20230324T120502_DVP_RTC30_G_gpufem_0936_VV.tif\n",
      "\n",
      "Dataset/bang_NE/RTC_GAMMA/S1A_IW_20230803T120509_DVP_RTC30_G_gpufem_C31F/S1A_IW_20230803T120509_DVP_RTC30_G_gpufem_C31F_VV.tif\n",
      "\n",
      "Dataset/bang_NE/RTC_GAMMA/S1A_IW_20231225T120509_DVP_RTC30_G_gpufem_C6D6/S1A_IW_20231225T120509_DVP_RTC30_G_gpufem_C6D6_VV.tif\n",
      "\n",
      "Dataset/bang_NE/RTC_GAMMA/S1A_IW_20221124T120506_DVP_RTC30_G_gpufem_82A1/S1A_IW_20221124T120506_DVP_RTC30_G_gpufem_82A1_VV.tif\n",
      "\n",
      "Dataset/bang_NE/RTC_GAMMA/S1A_IW_20200923T120454_DVP_RTC30_G_gpufem_2891/S1A_IW_20200923T120454_DVP_RTC30_G_gpufem_2891_VV.tif\n",
      "\n",
      "Dataset/bang_NE/RTC_GAMMA/S1A_IW_20190309T120438_DVP_RTC30_G_gpufem_4755/S1A_IW_20190309T120438_DVP_RTC30_G_gpufem_4755_VV.tif\n",
      "\n",
      "Dataset/bang_NE/RTC_GAMMA/S1A_IW_20231201T120510_DVP_RTC30_G_gpufem_EEBC/S1A_IW_20231201T120510_DVP_RTC30_G_gpufem_EEBC_VV.tif\n",
      "\n",
      "Dataset/bang_NE/RTC_GAMMA/S1A_IW_20210109T120452_DVP_RTC30_G_gpufem_5E7C/S1A_IW_20210109T120452_DVP_RTC30_G_gpufem_5E7C_VV.tif\n",
      "\n",
      "Dataset/bang_NE/RTC_GAMMA/S1A_IW_20230920T120511_DVP_RTC30_G_gpufem_24F3/S1A_IW_20230920T120511_DVP_RTC30_G_gpufem_24F3_VV.tif\n",
      "\n",
      "Dataset/bang_NE/RTC_GAMMA/S1A_IW_20210825T120459_DVP_RTC30_G_gpufem_A04F/S1A_IW_20210825T120459_DVP_RTC30_G_gpufem_A04F_VV.tif\n",
      "\n",
      "Dataset/bang_NE/RTC_GAMMA/S1A_IW_20190929T120448_DVP_RTC30_G_gpufem_0BC5/S1A_IW_20190929T120448_DVP_RTC30_G_gpufem_0BC5_VV.tif\n",
      "\n",
      "Dataset/bang_NE/RTC_GAMMA/S1A_IW_20211129T120459_DVP_RTC30_G_gpufem_E269/S1A_IW_20211129T120459_DVP_RTC30_G_gpufem_E269_VV.tif\n",
      "\n",
      "Dataset/bang_NE/RTC_GAMMA/S1A_IW_20220128T120456_DVP_RTC30_G_gpufem_EC1C/S1A_IW_20220128T120456_DVP_RTC30_G_gpufem_EC1C_VV.tif\n",
      "\n",
      "Dataset/bang_NE/RTC_GAMMA/S1A_IW_20220209T120456_DVP_RTC30_G_gpufem_1037/S1A_IW_20220209T120456_DVP_RTC30_G_gpufem_1037_VV.tif\n",
      "\n",
      "Dataset/bang_NE/RTC_GAMMA/S1A_IW_20230604T120505_DVP_RTC30_G_gpufem_F98E/S1A_IW_20230604T120505_DVP_RTC30_G_gpufem_F98E_VV.tif\n",
      "\n",
      "Dataset/bang_NE/RTC_GAMMA/S1A_IW_20190731T120445_DVP_RTC30_G_gpufem_3C5A/S1A_IW_20190731T120445_DVP_RTC30_G_gpufem_3C5A_VV.tif\n",
      "\n",
      "Dataset/bang_NE/RTC_GAMMA/S1A_IW_20200408T120445_DVP_RTC30_G_gpufem_3D72/S1A_IW_20200408T120445_DVP_RTC30_G_gpufem_3D72_VV.tif\n",
      "\n",
      "Dataset/bang_NE/RTC_GAMMA/S1A_IW_20211211T120459_DVP_RTC30_G_gpufem_3B81/S1A_IW_20211211T120459_DVP_RTC30_G_gpufem_3B81_VV.tif\n",
      "\n",
      "Dataset/bang_NE/RTC_GAMMA/S1A_IW_20190719T120444_DVP_RTC30_G_gpufem_DAFE/S1A_IW_20190719T120444_DVP_RTC30_G_gpufem_DAFE_VV.tif\n",
      "\n",
      "Dataset/bang_NE/RTC_GAMMA/S1A_IW_20230417T120503_DVP_RTC30_G_gpufem_85D7/S1A_IW_20230417T120503_DVP_RTC30_G_gpufem_85D7_VV.tif\n",
      "\n",
      "Dataset/bang_NE/RTC_GAMMA/S1A_IW_20200607T120448_DVP_RTC30_G_gpufem_05E8/S1A_IW_20200607T120448_DVP_RTC30_G_gpufem_05E8_VV.tif\n",
      "\n",
      "Dataset/bang_NE/RTC_GAMMA/S1A_IW_20220422T120457_DVP_RTC30_G_gpufem_D66B/S1A_IW_20220422T120457_DVP_RTC30_G_gpufem_D66B_VV.tif\n",
      "\n",
      "Dataset/bang_NE/RTC_GAMMA/S1A_IW_20201204T120453_DVP_RTC30_G_gpufem_CE47/S1A_IW_20201204T120453_DVP_RTC30_G_gpufem_CE47_VV.tif\n",
      "\n",
      "Dataset/bang_NE/RTC_GAMMA/S1A_IW_20190414T120439_DVP_RTC30_G_gpufem_81C6/S1A_IW_20190414T120439_DVP_RTC30_G_gpufem_81C6_VV.tif\n",
      "\n",
      "Dataset/bang_NE/RTC_GAMMA/S1A_IW_20211223T120458_DVP_RTC30_G_gpufem_6524/S1A_IW_20211223T120458_DVP_RTC30_G_gpufem_6524_VV.tif\n",
      "\n",
      "Dataset/bang_NE/RTC_GAMMA/S1A_IW_20201017T120454_DVP_RTC30_G_gpufem_6556/S1A_IW_20201017T120454_DVP_RTC30_G_gpufem_6556_VV.tif\n",
      "\n",
      "Dataset/bang_NE/RTC_GAMMA/S1A_IW_20230722T120508_DVP_RTC30_G_gpufem_3E39/S1A_IW_20230722T120508_DVP_RTC30_G_gpufem_3E39_VV.tif\n",
      "\n",
      "Dataset/bang_NE/RTC_GAMMA/S1A_IW_20190321T120438_DVP_RTC30_G_gpufem_73AE/S1A_IW_20190321T120438_DVP_RTC30_G_gpufem_73AE_VV.tif\n",
      "\n",
      "Dataset/bang_NE/RTC_GAMMA/S1A_IW_20200619T120449_DVP_RTC30_G_gpufem_3C15/S1A_IW_20200619T120449_DVP_RTC30_G_gpufem_3C15_VV.tif\n",
      "\n",
      "Dataset/bang_NE/RTC_GAMMA/S1A_IW_20210322T120450_DVP_RTC30_G_gpufem_9E55/S1A_IW_20210322T120450_DVP_RTC30_G_gpufem_9E55_VV.tif\n",
      "\n",
      "Dataset/bang_NE/RTC_GAMMA/S1A_IW_20200208T120445_DVP_RTC30_G_gpufem_A8A8/S1A_IW_20200208T120445_DVP_RTC30_G_gpufem_A8A8_VV.tif\n",
      "\n",
      "Dataset/bang_NE/RTC_GAMMA/S1A_IW_20190824T120446_DVP_RTC30_G_gpufem_4CCB/S1A_IW_20190824T120446_DVP_RTC30_G_gpufem_4CCB_VV.tif\n",
      "\n",
      "Dataset/bang_NE/RTC_GAMMA/S1A_IW_20220925T120505_DVP_RTC30_G_gpufem_3F46/S1A_IW_20220925T120505_DVP_RTC30_G_gpufem_3F46_VV.tif\n",
      "\n",
      "Dataset/bang_NE/RTC_GAMMA/S1A_IW_20230216T120502_DVP_RTC30_G_gpufem_72B7/S1A_IW_20230216T120502_DVP_RTC30_G_gpufem_72B7_VV.tif\n",
      "\n",
      "Dataset/bang_NE/RTC_GAMMA/S1A_IW_20191116T120448_DVP_RTC30_G_gpufem_C1C6/S1A_IW_20191116T120448_DVP_RTC30_G_gpufem_C1C6_VV.tif\n",
      "\n",
      "Dataset/bang_NE/RTC_GAMMA/S1A_IW_20230123T120503_DVP_RTC30_G_gpufem_F9EA/S1A_IW_20230123T120503_DVP_RTC30_G_gpufem_F9EA_VV.tif\n",
      "\n",
      "Dataset/bang_NE/RTC_GAMMA/S1A_IW_20190613T120442_DVP_RTC30_G_gpufem_FC73/S1A_IW_20190613T120442_DVP_RTC30_G_gpufem_FC73_VV.tif\n",
      "\n",
      "Dataset/bang_NE/RTC_GAMMA/S1A_IW_20200701T120449_DVP_RTC30_G_gpufem_E709/S1A_IW_20200701T120449_DVP_RTC30_G_gpufem_E709_VV.tif\n",
      "\n",
      "Dataset/bang_NE/RTC_GAMMA/S1A_IW_20210708T120456_DVP_RTC30_G_gpufem_9048/S1A_IW_20210708T120456_DVP_RTC30_G_gpufem_9048_VV.tif\n",
      "\n",
      "Dataset/bang_NE/RTC_GAMMA/S1A_IW_20210509T120452_DVP_RTC30_G_gpufem_487B/S1A_IW_20210509T120452_DVP_RTC30_G_gpufem_487B_VV.tif\n",
      "\n",
      "Dataset/bang_NE/RTC_GAMMA/S1A_IW_20190108T120439_DVP_RTC30_G_gpufem_8BD9/S1A_IW_20190108T120439_DVP_RTC30_G_gpufem_8BD9_VV.tif\n",
      "\n",
      "Dataset/bang_NE/RTC_GAMMA/S1A_IW_20240106T120508_DVP_RTC30_G_gpufem_887D/S1A_IW_20240106T120508_DVP_RTC30_G_gpufem_887D_VV.tif\n",
      "\n",
      "Dataset/bang_NE/RTC_GAMMA/S1A_IW_20210121T120451_DVP_RTC30_G_gpufem_DB2A/S1A_IW_20210121T120451_DVP_RTC30_G_gpufem_DB2A_VV.tif\n",
      "\n",
      "Dataset/bang_NE/RTC_GAMMA/S1A_IW_20190213T120438_DVP_RTC30_G_gpufem_CA11/S1A_IW_20190213T120438_DVP_RTC30_G_gpufem_CA11_VV.tif\n",
      "\n",
      "Dataset/bang_NE/RTC_GAMMA/S1A_IW_20210614T120455_DVP_RTC30_G_gpufem_7735/S1A_IW_20210614T120455_DVP_RTC30_G_gpufem_7735_VV.tif\n",
      "\n",
      "Dataset/bang_NE/RTC_GAMMA/S1A_IW_20190707T120443_DVP_RTC30_G_gpufem_F5B7/S1A_IW_20190707T120443_DVP_RTC30_G_gpufem_F5B7_VV.tif\n",
      "\n",
      "Dataset/bang_NE/RTC_GAMMA/S1A_IW_20230111T120503_DVP_RTC30_G_gpufem_4C33/S1A_IW_20230111T120503_DVP_RTC30_G_gpufem_4C33_VV.tif\n",
      "\n",
      "Dataset/bang_NE/RTC_GAMMA/S1A_IW_20210202T120451_DVP_RTC30_G_gpufem_A277/S1A_IW_20210202T120451_DVP_RTC30_G_gpufem_A277_VV.tif\n",
      "\n",
      "Dataset/bang_NE/RTC_GAMMA/S1A_IW_20230429T120503_DVP_RTC30_G_gpufem_436F/S1A_IW_20230429T120503_DVP_RTC30_G_gpufem_436F_VV.tif\n",
      "\n",
      "Dataset/bang_NE/RTC_GAMMA/S1A_IW_20190120T120439_DVP_RTC30_G_gpufem_97E2/S1A_IW_20190120T120439_DVP_RTC30_G_gpufem_97E2_VV.tif\n",
      "\n",
      "Dataset/bang_NE/RTC_GAMMA/S1A_IW_20210214T120450_DVP_RTC30_G_gpufem_2A53/S1A_IW_20210214T120450_DVP_RTC30_G_gpufem_2A53_VV.tif\n",
      "\n",
      "Dataset/bang_NE/RTC_GAMMA/S1A_IW_20190625T120442_DVP_RTC30_G_gpufem_26C2/S1A_IW_20190625T120442_DVP_RTC30_G_gpufem_26C2_VV.tif\n",
      "\n",
      "Dataset/bang_NE/RTC_GAMMA/S1A_IW_20230908T120510_DVP_RTC30_G_gpufem_A857/S1A_IW_20230908T120510_DVP_RTC30_G_gpufem_A857_VV.tif\n",
      "\n",
      "Dataset/bang_NE/RTC_GAMMA/S1A_IW_20200818T120452_DVP_RTC30_G_gpufem_362D/S1A_IW_20200818T120452_DVP_RTC30_G_gpufem_362D_VV.tif\n",
      "\n",
      "Dataset/bang_NE/RTC_GAMMA/S1A_IW_20221230T120504_DVP_RTC30_G_gpufem_2CC1/S1A_IW_20221230T120504_DVP_RTC30_G_gpufem_2CC1_VV.tif\n",
      "\n",
      "Dataset/bang_NE/RTC_GAMMA/S1A_IW_20221019T120506_DVP_RTC30_G_gpufem_2D94/S1A_IW_20221019T120506_DVP_RTC30_G_gpufem_2D94_VV.tif\n",
      "\n",
      "Dataset/bang_NE/RTC_GAMMA/S1A_IW_20231107T120510_DVP_RTC30_G_gpufem_EA92/S1A_IW_20231107T120510_DVP_RTC30_G_gpufem_EA92_VV.tif\n",
      "\n",
      "Dataset/bang_NE/RTC_GAMMA/S1A_IW_20221206T120505_DVP_RTC30_G_gpufem_DECC/S1A_IW_20221206T120505_DVP_RTC30_G_gpufem_DECC_VV.tif\n",
      "\n",
      "Dataset/bang_NE/RTC_GAMMA/S1A_IW_20200315T120445_DVP_RTC30_G_gpufem_C860/S1A_IW_20200315T120445_DVP_RTC30_G_gpufem_C860_VV.tif\n",
      "\n",
      "Dataset/bang_NE/RTC_GAMMA/S1A_IW_20230511T120504_DVP_RTC30_G_gpufem_CBE8/S1A_IW_20230511T120504_DVP_RTC30_G_gpufem_CBE8_VV.tif\n",
      "\n",
      "Dataset/bang_NE/RTC_GAMMA/S1A_IW_20220913T120506_DVP_RTC30_G_gpufem_FB4E/S1A_IW_20220913T120506_DVP_RTC30_G_gpufem_FB4E_VV.tif\n",
      "\n",
      "Dataset/bang_NE/RTC_GAMMA/S1A_IW_20220104T120457_DVP_RTC30_G_gpufem_F4B3/S1A_IW_20220104T120457_DVP_RTC30_G_gpufem_F4B3_VV.tif\n",
      "\n",
      "Dataset/bang_NE/RTC_GAMMA/S1A_IW_20200303T120444_DVP_RTC30_G_gpufem_BAB5/S1A_IW_20200303T120444_DVP_RTC30_G_gpufem_BAB5_VV.tif\n",
      "\n",
      "Dataset/bang_NE/RTC_GAMMA/S1A_IW_20231014T120511_DVP_RTC30_G_gpufem_D171/S1A_IW_20231014T120511_DVP_RTC30_G_gpufem_D171_VV.tif\n",
      "\n",
      "Dataset/bang_NE/RTC_GAMMA/S1A_IW_20220504T120457_DVP_RTC30_G_gpufem_9B0C/S1A_IW_20220504T120457_DVP_RTC30_G_gpufem_9B0C_VV.tif\n",
      "\n",
      "Dataset/bang_NE/RTC_GAMMA/S1A_IW_20210310T120450_DVP_RTC30_G_gpufem_9E13/S1A_IW_20210310T120450_DVP_RTC30_G_gpufem_9E13_VV.tif\n",
      "\n",
      "Dataset/bang_NE/RTC_GAMMA/S1A_IW_20190508T120440_DVP_RTC30_G_gpufem_34D2/S1A_IW_20190508T120440_DVP_RTC30_G_gpufem_34D2_VV.tif\n",
      "\n",
      "Dataset/bang_NE/RTC_GAMMA/S1A_IW_20200806T120452_DVP_RTC30_G_gpufem_34F8/S1A_IW_20200806T120452_DVP_RTC30_G_gpufem_34F8_VV.tif\n",
      "\n",
      "Dataset/bang_NE/RTC_GAMMA/S1A_IW_20191222T120446_DVP_RTC30_G_gpufem_E4A8/S1A_IW_20191222T120446_DVP_RTC30_G_gpufem_E4A8_VV.tif\n",
      "\n",
      "Dataset/bang_NE/RTC_GAMMA/S1A_IW_20200115T120445_DVP_RTC30_G_gpufem_43F5/S1A_IW_20200115T120445_DVP_RTC30_G_gpufem_43F5_VV.tif\n",
      "\n",
      "Dataset/bang_NE/RTC_GAMMA/S1A_IW_20220901T120505_DVP_RTC30_G_gpufem_6D92/S1A_IW_20220901T120505_DVP_RTC30_G_gpufem_6D92_VV.tif\n",
      "\n",
      "Dataset/bang_NE/RTC_GAMMA/S1A_IW_20191210T120447_DVP_RTC30_G_gpufem_CEB6/S1A_IW_20191210T120447_DVP_RTC30_G_gpufem_CEB6_VV.tif\n",
      "\n",
      "Dataset/bang_NE/RTC_GAMMA/S1A_IW_20221007T120506_DVP_RTC30_G_gpufem_13ED/S1A_IW_20221007T120506_DVP_RTC30_G_gpufem_13ED_VV.tif\n",
      "\n",
      "Dataset/bang_NE/RTC_GAMMA/S1A_IW_20220715T120502_DVP_RTC30_G_gpufem_9F3A/S1A_IW_20220715T120502_DVP_RTC30_G_gpufem_9F3A_VV.tif\n",
      "\n",
      "Dataset/bang_NE/RTC_GAMMA/S1A_IW_20220703T120502_DVP_RTC30_G_gpufem_CBC0/S1A_IW_20220703T120502_DVP_RTC30_G_gpufem_CBC0_VV.tif\n",
      "\n",
      "Dataset/bang_NE/RTC_GAMMA/S1A_IW_20220528T120459_DVP_RTC30_G_gpufem_DC3E/S1A_IW_20220528T120459_DVP_RTC30_G_gpufem_DC3E_VV.tif\n",
      "\n",
      "Dataset/bang_NE/RTC_GAMMA/S1A_IW_20200911T120454_DVP_RTC30_G_gpufem_D603/S1A_IW_20200911T120454_DVP_RTC30_G_gpufem_D603_VV.tif\n",
      "\n",
      "Dataset/bang_NE/RTC_GAMMA/S1A_IW_20230710T120507_DVP_RTC30_G_gpufem_95E6/S1A_IW_20230710T120507_DVP_RTC30_G_gpufem_95E6_VV.tif\n",
      "\n",
      "Dataset/bang_NE/RTC_GAMMA/S1A_IW_20220516T120458_DVP_RTC30_G_gpufem_3BEB/S1A_IW_20220516T120458_DVP_RTC30_G_gpufem_3BEB_VV.tif\n",
      "\n",
      "Dataset/bang_NE/RTC_GAMMA/S1A_IW_20220410T120457_DVP_RTC30_G_gpufem_071D/S1A_IW_20220410T120457_DVP_RTC30_G_gpufem_071D_VV.tif\n",
      "\n",
      "Dataset/bang_NE/RTC_GAMMA/S1A_IW_20220317T120456_DVP_RTC30_G_gpufem_2DE1/S1A_IW_20220317T120456_DVP_RTC30_G_gpufem_2DE1_VV.tif\n",
      "\n",
      "Dataset/bang_NE/RTC_GAMMA/S1A_IW_20201216T120453_DVP_RTC30_G_gpufem_00FD/S1A_IW_20201216T120453_DVP_RTC30_G_gpufem_00FD_VV.tif\n",
      "\n",
      "Dataset/bang_NE/RTC_GAMMA/S1A_IW_20220727T120503_DVP_RTC30_G_gpufem_59AB/S1A_IW_20220727T120503_DVP_RTC30_G_gpufem_59AB_VV.tif\n",
      "\n",
      "Dataset/bang_NE/RTC_GAMMA/S1A_IW_20200526T120447_DVP_RTC30_G_gpufem_B478/S1A_IW_20200526T120447_DVP_RTC30_G_gpufem_B478_VV.tif\n",
      "\n",
      "Dataset/bang_NE/RTC_GAMMA/S1A_IW_20190225T120438_DVP_RTC30_G_gpufem_C14B/S1A_IW_20190225T120438_DVP_RTC30_G_gpufem_C14B_VV.tif\n",
      "\n",
      "Dataset/bang_NE/RTC_GAMMA/S1A_IW_20220808T120504_DVP_RTC30_G_gpufem_04A4/S1A_IW_20220808T120504_DVP_RTC30_G_gpufem_04A4_VV.tif\n",
      "\n",
      "Dataset/bang_NE/RTC_GAMMA/S1A_IW_20220116T120457_DVP_RTC30_G_gpufem_4A7F/S1A_IW_20220116T120457_DVP_RTC30_G_gpufem_4A7F_VV.tif\n",
      "\n",
      "Dataset/bang_NE/RTC_GAMMA/S1A_IW_20230405T120502_DVP_RTC30_G_gpufem_D3F2/S1A_IW_20230405T120502_DVP_RTC30_G_gpufem_D3F2_VV.tif\n",
      "\n",
      "Dataset/bang_NE/RTC_GAMMA/S1A_IW_20220609T120500_DVP_RTC30_G_gpufem_35A6/S1A_IW_20220609T120500_DVP_RTC30_G_gpufem_35A6_VV.tif\n",
      "\n",
      "Dataset/bang_NE/RTC_GAMMA/S1A_IW_20200220T120444_DVP_RTC30_G_gpufem_1A88/S1A_IW_20200220T120444_DVP_RTC30_G_gpufem_1A88_VV.tif\n",
      "\n",
      "Dataset/bang_NE/RTC_GAMMA/S1A_IW_20210626T120455_DVP_RTC30_G_gpufem_5D53/S1A_IW_20210626T120455_DVP_RTC30_G_gpufem_5D53_VV.tif\n",
      "\n",
      "Dataset/bang_NE/RTC_GAMMA/S1A_IW_20190402T120439_DVP_RTC30_G_gpufem_0364/S1A_IW_20190402T120439_DVP_RTC30_G_gpufem_0364_VV.tif\n",
      "\n",
      "Dataset/bang_NE/RTC_GAMMA/S1A_IW_20191011T120448_DVP_RTC30_G_gpufem_DF64/S1A_IW_20191011T120448_DVP_RTC30_G_gpufem_DF64_VV.tif\n",
      "\n",
      "Dataset/bang_NE/RTC_GAMMA/S1A_IW_20200327T120445_DVP_RTC30_G_gpufem_F7B4/S1A_IW_20200327T120445_DVP_RTC30_G_gpufem_F7B4_VV.tif\n",
      "\n",
      "Dataset/bang_NE/RTC_GAMMA/S1A_IW_20191104T120448_DVP_RTC30_G_gpufem_247C/S1A_IW_20191104T120448_DVP_RTC30_G_gpufem_247C_VV.tif\n",
      "\n",
      "Dataset/bang_NE/RTC_GAMMA/S1A_IW_20221112T120506_DVP_RTC30_G_gpufem_B3C9/S1A_IW_20221112T120506_DVP_RTC30_G_gpufem_B3C9_VV.tif\n",
      "\n",
      "Dataset/bang_NE/RTC_GAMMA/S1A_IW_20210226T120450_DVP_RTC30_G_gpufem_EBFB/S1A_IW_20210226T120450_DVP_RTC30_G_gpufem_EBFB_VV.tif\n",
      "\n",
      "Dataset/bang_NE/RTC_GAMMA/S1A_IW_20200830T120453_DVP_RTC30_G_gpufem_7018/S1A_IW_20200830T120453_DVP_RTC30_G_gpufem_7018_VV.tif\n",
      "\n",
      "Dataset/bang_NE/RTC_GAMMA/S1A_IW_20231002T120511_DVP_RTC30_G_gpufem_7D8B/S1A_IW_20231002T120511_DVP_RTC30_G_gpufem_7D8B_VV.tif\n",
      "\n",
      "Dataset/bang_NE/RTC_GAMMA/S1A_IW_20210602T120454_DVP_RTC30_G_gpufem_015F/S1A_IW_20210602T120454_DVP_RTC30_G_gpufem_015F_VV.tif\n",
      "\n",
      "Dataset/bang_NE/RTC_GAMMA/S1A_IW_20220820T120505_DVP_RTC30_G_gpufem_E99A/S1A_IW_20220820T120505_DVP_RTC30_G_gpufem_E99A_VV.tif\n",
      "\n",
      "Dataset/bang_NE/RTC_GAMMA/S1A_IW_20230228T120502_DVP_RTC30_G_gpufem_F61C/S1A_IW_20230228T120502_DVP_RTC30_G_gpufem_F61C_VV.tif\n",
      "\n"
     ]
    }
   ],
   "source": [
    "if not autorift:\n",
    "    product_paths = get_product_paths(regex, product_pth)\n",
    "    dem_paths = get_product_paths(r'dem.tif$', dems_pth)\n",
    "    print_product_paths(product_paths)"
   ]
  },
  {
   "cell_type": "markdown",
   "metadata": {},
   "source": [
    "---\n",
    "## 1.3 Merge multiple frames from the same date.\n",
    "\n",
    "You may notice duplicates in your acquisition dates. As HyP3 processes SAR data on a frame-by-frame basis, duplicates may occur if your area of interest is covered by two consecutive image frames. In this case, two separate images are generated that need to be merged together before time series processing can commence. Currently we only merge RTCs.\n",
    "\n",
    "**Create a directory in which to store the reprojected and merged RTCs, and one directory for the DEMs:**"
   ]
  },
  {
   "cell_type": "code",
   "execution_count": 69,
   "metadata": {},
   "outputs": [
    {
     "name": "stdout",
     "output_type": "stream",
     "text": [
      "Current working directory: /home/jovyan/hydrosar/Dataset/bang_NE\n"
     ]
    },
    {
     "name": "stdin",
     "output_type": "stream",
     "text": [
      "\n",
      "Please enter the name of a directory in which to store the tiffs and dems. \n"
     ]
    },
    {
     "name": "stdout",
     "output_type": "stream",
     "text": [
      "\n",
      "********************** WARNING! **********************\n",
      "The directory /home/jovyan/hydrosar/Dataset/bang_NE/RTC_GAMMA__tiffs already exists and contains:\n",
      "• S1A_IW_20190719T120444_DVP_RTC30_G_gpufem_DAFE_VH.tif\n",
      "• S1A_IW_20220422T120457_DVP_RTC30_G_gpufem_D66B_VH.tif\n",
      "• S1A_IW_20211105T120500_DVP_RTC30_G_gpufem_FA5C_VH.tif\n",
      "• S1A_IW_20190905T120447_DVP_RTC30_G_gpufem_AF79_VH.tif\n",
      "• S1A_IW_20200103T120446_DVP_RTC30_G_gpufem_DBED_VH.tif\n",
      "• S1A_IW_20231225T120509_DVP_RTC30_G_gpufem_C6D6_VH.tif\n",
      "• S1A_IW_20200127T120445_DVP_RTC30_G_gpufem_5E3A_VH.tif\n",
      "• S1A_IW_20210214T120450_DVP_RTC30_G_gpufem_2A53_VH.tif\n",
      "• S1A_IW_20211211T120459_DVP_RTC30_G_gpufem_3B81_VH.tif\n",
      "• S1A_IW_20210720T120457_DVP_RTC30_G_gpufem_A86B_VH.tif\n",
      "• S1A_IW_20190601T120441_DVP_RTC30_G_gpufem_6710_VH.tif\n",
      "• S1A_IW_20210708T120456_DVP_RTC30_G_gpufem_9048_VH.tif\n",
      "• S1A_IW_20191128T120447_DVP_RTC30_G_gpufem_F1A1_VH.tif\n",
      "• S1A_IW_20191104T120448_DVP_RTC30_G_gpufem_247C_VH.tif\n",
      "• S1A_IW_20210322T120450_DVP_RTC30_G_gpufem_9E55_VH.tif\n",
      "• S1A_IW_20190824T120446_DVP_RTC30_G_gpufem_4CCB_VH.tif\n",
      "• S1A_IW_20211012T120500_DVP_RTC30_G_gpufem_6C16_VH.tif\n",
      "• S1A_IW_20200725T120451_DVP_RTC30_G_gpufem_82EC_VH.tif\n",
      "• S1A_IW_20221007T120506_DVP_RTC30_G_gpufem_13ED_VH.tif\n",
      "• S1A_IW_20210918T120500_DVP_RTC30_G_gpufem_6F10_VH.tif\n",
      "• S1A_IW_20220329T120456_DVP_RTC30_G_gpufem_DA96_VH.tif\n",
      "• S1A_IW_20200303T120444_DVP_RTC30_G_gpufem_BAB5_VH.tif\n",
      "• S1A_IW_20221124T120506_DVP_RTC30_G_gpufem_82A1_VH.tif\n",
      "• S1A_IW_20211024T120500_DVP_RTC30_G_gpufem_0BE0_VH.tif\n",
      "• S1A_IW_20220410T120457_DVP_RTC30_G_gpufem_071D_VH.tif\n",
      "• S1A_IW_20190613T120442_DVP_RTC30_G_gpufem_FC73_VH.tif\n",
      "• S1A_IW_20201216T120453_DVP_RTC30_G_gpufem_00FD_VH.tif\n",
      "• S1A_IW_20191011T120448_DVP_RTC30_G_gpufem_DF64_VH.tif\n",
      "• S1A_IW_20230722T120508_DVP_RTC30_G_gpufem_3E39_VH.tif\n",
      "• S1A_IW_20210310T120450_DVP_RTC30_G_gpufem_9E13_VH.tif\n",
      "• S1A_IW_20230628T120506_DVP_RTC30_G_gpufem_61AB_VH.tif\n",
      "• S1A_IW_20231014T120511_DVP_RTC30_G_gpufem_D171_VH.tif\n",
      "• S1A_IW_20230405T120502_DVP_RTC30_G_gpufem_D3F2_VH.tif\n",
      "• S1A_IW_20210121T120451_DVP_RTC30_G_gpufem_DB2A_VH.tif\n",
      "• S1A_IW_20221218T120504_DVP_RTC30_G_gpufem_047C_VH.tif\n",
      "• S1A_IW_20200420T120445_DVP_RTC30_G_gpufem_6689_VH.tif\n",
      "• S1A_IW_20210226T120450_DVP_RTC30_G_gpufem_EBFB_VH.tif\n",
      "• S1A_IW_20200408T120445_DVP_RTC30_G_gpufem_3D72_VH.tif\n",
      "• S1A_IW_20230616T120506_DVP_RTC30_G_gpufem_31DE_VH.tif\n",
      "• S1A_IW_20210602T120454_DVP_RTC30_G_gpufem_015F_VH.tif\n",
      "• S1A_IW_20220528T120459_DVP_RTC30_G_gpufem_DC3E_VH.tif\n",
      "• S1A_IW_20200502T120446_DVP_RTC30_G_gpufem_D75F_VH.tif\n",
      "• S1A_IW_20200911T120454_DVP_RTC30_G_gpufem_D603_VH.tif\n",
      "• S1A_IW_20220116T120457_DVP_RTC30_G_gpufem_4A7F_VH.tif\n",
      "• S1A_IW_20220609T120500_DVP_RTC30_G_gpufem_35A6_VH.tif\n",
      "• S1A_IW_20220516T120458_DVP_RTC30_G_gpufem_3BEB_VH.tif\n",
      "• S1A_IW_20200514T120447_DVP_RTC30_G_gpufem_644F_VH.tif\n",
      "• S1A_IW_20240130T120507_DVR_RTC30_G_gpufem_811D_VH.tif\n",
      "• S1A_IW_20200830T120453_DVP_RTC30_G_gpufem_7018_VH.tif\n",
      "• S1A_IW_20211117T120500_DVP_RTC30_G_gpufem_D07B_VH.tif\n",
      "• S1A_IW_20220727T120503_DVP_RTC30_G_gpufem_59AB_VH.tif\n",
      "• S1A_IW_20200713T120450_DVP_RTC30_G_gpufem_6EB6_VH.tif\n",
      "• S1A_IW_20210509T120452_DVP_RTC30_G_gpufem_487B_VH.tif\n",
      "• S1A_IW_20191210T120447_DVP_RTC30_G_gpufem_CEB6_VH.tif\n",
      "• S1A_IW_20190508T120440_DVP_RTC30_G_gpufem_34D2_VH.tif\n",
      "• S1A_IW_20220913T120506_DVP_RTC30_G_gpufem_FB4E_VH.tif\n",
      "• S1A_IW_20210202T120451_DVP_RTC30_G_gpufem_A277_VH.tif\n",
      "• S1A_IW_20220621T120501_DVP_RTC30_G_gpufem_22C3_VH.tif\n",
      "• S1A_IW_20210415T120451_DVP_RTC30_G_gpufem_756D_VH.tif\n",
      "• S1A_IW_20220703T120502_DVP_RTC30_G_gpufem_CBC0_VH.tif\n",
      "• S1A_IW_20230815T120509_DVP_RTC30_G_gpufem_F226_VH.tif\n",
      "• S1A_IW_20210906T120459_DVP_RTC30_G_gpufem_B3A8_VH.tif\n",
      "• S1A_IW_20201005T120454_DVP_RTC30_G_gpufem_37D1_VH.tif\n",
      "• S1A_IW_20211129T120459_DVP_RTC30_G_gpufem_E269_VH.tif\n",
      "• S1A_IW_20230429T120503_DVP_RTC30_G_gpufem_436F_VH.tif\n",
      "• S1A_IW_20220901T120505_DVP_RTC30_G_gpufem_6D92_VH.tif\n",
      "• S1A_IW_20190414T120439_DVP_RTC30_G_gpufem_81C6_VH.tif\n",
      "• S1A_IW_20211223T120458_DVP_RTC30_G_gpufem_6524_VH.tif\n",
      "• S1A_IW_20220925T120505_DVP_RTC30_G_gpufem_3F46_VH.tif\n",
      "• S1A_IW_20200315T120445_DVP_RTC30_G_gpufem_C860_VH.tif\n",
      "• S1A_IW_20230920T120511_DVP_RTC30_G_gpufem_24F3_VH.tif\n",
      "• S1A_IW_20230417T120503_DVP_RTC30_G_gpufem_85D7_VH.tif\n",
      "• S1A_IW_20230324T120502_DVP_RTC30_G_gpufem_0936_VH.tif\n",
      "• S1A_IW_20190731T120445_DVP_RTC30_G_gpufem_3C5A_VH.tif\n",
      "• S1A_IW_20190625T120442_DVP_RTC30_G_gpufem_26C2_VH.tif\n",
      "• S1A_IW_20220209T120456_DVP_RTC30_G_gpufem_1037_VH.tif\n",
      "• S1A_IW_20221230T120504_DVP_RTC30_G_gpufem_2CC1_VH.tif\n",
      "• S1A_IW_20201017T120454_DVP_RTC30_G_gpufem_6556_VH.tif\n",
      "• S1A_IW_20230123T120503_DVP_RTC30_G_gpufem_F9EA_VH.tif\n",
      "• S1A_IW_20230511T120504_DVP_RTC30_G_gpufem_CBE8_VH.tif\n",
      "• S1A_IW_20190120T120439_DVP_RTC30_G_gpufem_97E2_VH.tif\n",
      "• S1A_IW_20190201T120439_DVP_RTC30_G_gpufem_5EF2_VH.tif\n",
      "• S1A_IW_20190309T120438_DVP_RTC30_G_gpufem_4755_VH.tif\n",
      "• S1A_IW_20210427T120452_DVP_RTC30_G_gpufem_D07E_VH.tif\n",
      "• S1A_IW_20240106T120508_DVP_RTC30_G_gpufem_887D_VH.tif\n",
      "• S1A_IW_20221112T120506_DVP_RTC30_G_gpufem_B3C9_VH.tif\n",
      "• S1A_IW_20231201T120510_DVP_RTC30_G_gpufem_EEBC_VH.tif\n",
      "• S1A_IW_20230803T120509_DVP_RTC30_G_gpufem_C31F_VH.tif\n",
      "• S1A_IW_20231002T120511_DVP_RTC30_G_gpufem_7D8B_VH.tif\n",
      "• S1A_IW_20191023T120448_DVP_RTC30_G_gpufem_A9AA_VH.tif\n",
      "• S1A_IW_20190812T120446_DVP_RTC30_G_gpufem_0255_VH.tif\n",
      "• S1A_IW_20200701T120449_DVP_RTC30_G_gpufem_E709_VH.tif\n",
      "• S1A_IW_20210403T120451_DVP_RTC30_G_gpufem_3410_VH.tif\n",
      "• S1A_IW_20190108T120439_DVP_RTC30_G_gpufem_8BD9_VH.tif\n",
      "• S1A_IW_20220808T120504_DVP_RTC30_G_gpufem_04A4_VH.tif\n",
      "• S1A_IW_20210521T120453_DVP_RTC30_G_gpufem_AEEC_VH.tif\n",
      "• S1A_IW_20190426T120440_DVP_RTC30_G_gpufem_34EB_VH.tif\n",
      "• S1A_IW_20231213T120510_DVP_RTC30_G_gpufem_922F_VH.tif\n",
      "• S1A_IW_20230228T120502_DVP_RTC30_G_gpufem_F61C_VH.tif\n",
      "• S1A_IW_20201122T120454_DVP_RTC30_G_gpufem_F692_VH.tif\n",
      "• S1A_IW_20221019T120506_DVP_RTC30_G_gpufem_2D94_VH.tif\n",
      "• S1A_IW_20201029T120454_DVP_RTC30_G_gpufem_B897_VH.tif\n",
      "• S1A_IW_20220128T120456_DVP_RTC30_G_gpufem_EC1C_VH.tif\n",
      "• S1A_IW_20201204T120453_DVP_RTC30_G_gpufem_CE47_VH.tif\n",
      "• S1A_IW_20190321T120438_DVP_RTC30_G_gpufem_73AE_VH.tif\n",
      "• S1A_IW_20221031T120506_DVP_RTC30_G_gpufem_48E8_VH.tif\n",
      "• S1A_IW_20220221T120456_DVP_RTC30_G_gpufem_A40A_VH.tif\n",
      "• S1A_IW_20200923T120454_DVP_RTC30_G_gpufem_2891_VH.tif\n",
      "• S1A_IW_20220305T120456_DVP_RTC30_G_gpufem_ADD2_VH.tif\n",
      "• S1A_IW_20231026T120511_DVP_RTC30_G_gpufem_5D5C_VH.tif\n",
      "• S1A_IW_20201228T120452_DVP_RTC30_G_gpufem_9EF3_VH.tif\n",
      "• S1A_IW_20190402T120439_DVP_RTC30_G_gpufem_0364_VH.tif\n",
      "• S1A_IW_20231119T120510_DVP_RTC30_G_gpufem_FA28_VH.tif\n",
      "• S1A_IW_20230204T120502_DVP_RTC30_G_gpufem_BCD7_VH.tif\n",
      "• S1A_IW_20240118T120507_DVR_RTC30_G_gpufem_CF32_VH.tif\n",
      "• S1A_IW_20210614T120455_DVP_RTC30_G_gpufem_7735_VH.tif\n",
      "• S1A_IW_20230216T120502_DVP_RTC30_G_gpufem_72B7_VH.tif\n",
      "• S1A_IW_20220504T120457_DVP_RTC30_G_gpufem_9B0C_VH.tif\n",
      "• S1A_IW_20191222T120446_DVP_RTC30_G_gpufem_E4A8_VH.tif\n",
      "• S1A_IW_20190929T120448_DVP_RTC30_G_gpufem_0BC5_VH.tif\n",
      "• S1A_IW_20190707T120443_DVP_RTC30_G_gpufem_F5B7_VH.tif\n",
      "• S1A_IW_20210813T120458_DVP_RTC30_G_gpufem_73D9_VH.tif\n",
      "• S1A_IW_20191116T120448_DVP_RTC30_G_gpufem_C1C6_VH.tif\n",
      "• S1A_IW_20220820T120505_DVP_RTC30_G_gpufem_E99A_VH.tif\n",
      "• S1A_IW_20200208T120445_DVP_RTC30_G_gpufem_A8A8_VH.tif\n",
      "• S1A_IW_20220715T120502_DVP_RTC30_G_gpufem_9F3A_VH.tif\n",
      "• S1A_IW_20230312T120502_DVP_RTC30_G_gpufem_DFDC_VH.tif\n",
      "• S1A_IW_20230827T120510_DVP_RTC30_G_gpufem_9BF7_VH.tif\n",
      "• S1A_IW_20210930T120500_DVP_RTC30_G_gpufem_529E_VH.tif\n",
      "• S1A_IW_20230604T120505_DVP_RTC30_G_gpufem_F98E_VH.tif\n",
      "• S1A_IW_20190225T120438_DVP_RTC30_G_gpufem_C14B_VH.tif\n",
      "• S1A_IW_20190520T120441_DVP_RTC30_G_gpufem_9589_VH.tif\n",
      "• S1A_IW_20200619T120449_DVP_RTC30_G_gpufem_3C15_VH.tif\n",
      "• S1A_IW_20200115T120445_DVP_RTC30_G_gpufem_43F5_VH.tif\n",
      "• S1A_IW_20231107T120510_DVP_RTC30_G_gpufem_EA92_VH.tif\n",
      "• S1A_IW_20230908T120510_DVP_RTC30_G_gpufem_A857_VH.tif\n",
      "• S1A_IW_20200526T120447_DVP_RTC30_G_gpufem_B478_VH.tif\n",
      "• S1A_IW_20200806T120452_DVP_RTC30_G_gpufem_34F8_VH.tif\n",
      "• S1A_IW_20200607T120448_DVP_RTC30_G_gpufem_05E8_VH.tif\n",
      "• S1A_IW_20221206T120505_DVP_RTC30_G_gpufem_DECC_VH.tif\n",
      "• S1A_IW_20210626T120455_DVP_RTC30_G_gpufem_5D53_VH.tif\n",
      "• S1A_IW_20220317T120456_DVP_RTC30_G_gpufem_2DE1_VH.tif\n",
      "• S1A_IW_20220104T120457_DVP_RTC30_G_gpufem_F4B3_VH.tif\n",
      "• S1A_IW_20200327T120445_DVP_RTC30_G_gpufem_F7B4_VH.tif\n",
      "• S1A_IW_20230710T120507_DVP_RTC30_G_gpufem_95E6_VH.tif\n",
      "• S1A_IW_20210109T120452_DVP_RTC30_G_gpufem_5E7C_VH.tif\n",
      "• S1A_IW_20210801T120457_DVP_RTC30_G_gpufem_D150_VH.tif\n",
      "• S1A_IW_20190213T120438_DVP_RTC30_G_gpufem_CA11_VH.tif\n",
      "• S1A_IW_20200220T120444_DVP_RTC30_G_gpufem_1A88_VH.tif\n",
      "• S1A_IW_20201110T120454_DVP_RTC30_G_gpufem_B939_VH.tif\n",
      "• S1A_IW_20230523T120504_DVP_RTC30_G_gpufem_38EE_VH.tif\n",
      "• S1A_IW_20230111T120503_DVP_RTC30_G_gpufem_4C33_VH.tif\n",
      "• S1A_IW_20200818T120452_DVP_RTC30_G_gpufem_362D_VH.tif\n",
      "• S1A_IW_20210825T120459_DVP_RTC30_G_gpufem_A04F_VH.tif\n",
      "\n",
      "\n",
      "[1] Delete old data and continue.\n",
      "[2] Save old data and add the data from this analysis to it.\n",
      "[3] Save old data and pick a different subdirectory name.\n"
     ]
    },
    {
     "name": "stdin",
     "output_type": "stream",
     "text": [
      "Select option 1, 2, or 3.\n",
      " 2\n"
     ]
    }
   ],
   "source": [
    "while True:\n",
    "    print(f\"Current working directory: {analysis_directory}\")\n",
    "    name = (input(f\"\\nPlease enter the name of a directory in which to store the tiffs and dems.\"))\n",
    "    output_dir_path_tiffs = analysis_directory.joinpath(f\"{job_type.value}_{name}_tiffs\")\n",
    "    output_dir_path_dem = analysis_directory.joinpath(f\"{job_type.value}_{name}_dems\")\n",
    "    \n",
    "    if output_dir_path_tiffs == Path('.'):\n",
    "        continue\n",
    "    if output_dir_path_tiffs.is_dir():\n",
    "        contents = output_dir_path_tiffs.glob('*')\n",
    "        if len(list(contents)) > 0:\n",
    "            choice = asfn.handle_old_data(output_dir_path_tiffs)\n",
    "            if choice == 1:\n",
    "                if output_dir_path_tiffs.exists():\n",
    "                    shutil.rmtree(output_dir_path_tiffs)\n",
    "                output_dir_path_tiffs.mkdir(parents=True, exist_ok=True)\n",
    "                output_dir_path_dem.mkdir(parents=True, exist_ok=True)\n",
    "                break\n",
    "            elif choice == 2:\n",
    "                break\n",
    "            else:\n",
    "                clear_output()\n",
    "                continue\n",
    "        else:\n",
    "            break\n",
    "    else:\n",
    "        output_dir_path_tiffs.mkdir(parents=True, exist_ok=True)\n",
    "        output_dir_path_dem.mkdir(parents=True, exist_ok=True)\n",
    "        break"
   ]
  },
  {
   "cell_type": "markdown",
   "metadata": {},
   "source": [
    "**Create a set from the date list, removing any duplicates:**"
   ]
  },
  {
   "cell_type": "code",
   "execution_count": 70,
   "metadata": {},
   "outputs": [
    {
     "name": "stdout",
     "output_type": "stream",
     "text": [
      "['20240118', '20210918', '20220329', '20201110', '20240130', '20201005', '20230815', '20200502', '20200725', '20201029', '20210720', '20230616', '20210930', '20231026', '20220305', '20210521', '20210813', '20220221', '20230523', '20201122', '20190201', '20191023', '20190601', '20200420', '20210801', '20231213', '20200514', '20211012', '20191128', '20190426', '20211024', '20200127', '20201228', '20200103', '20211105', '20231119', '20210403', '20221218', '20190905', '20210415', '20210906', '20220621', '20211117', '20230312', '20200713', '20230628', '20230827', '20190812', '20190520', '20210427', '20221031', '20230204', '20230324', '20230803', '20231225', '20221124', '20200923', '20190309', '20231201', '20210109', '20230920', '20210825', '20190929', '20211129', '20220128', '20220209', '20230604', '20190731', '20200408', '20211211', '20190719', '20230417', '20200607', '20220422', '20201204', '20190414', '20211223', '20201017', '20230722', '20190321', '20200619', '20210322', '20200208', '20190824', '20220925', '20230216', '20191116', '20230123', '20190613', '20200701', '20210708', '20210509', '20190108', '20240106', '20210121', '20190213', '20210614', '20190707', '20230111', '20210202', '20230429', '20190120', '20210214', '20190625', '20230908', '20200818', '20221230', '20221019', '20231107', '20221206', '20200315', '20230511', '20220913', '20220104', '20200303', '20231014', '20220504', '20210310', '20190508', '20200806', '20191222', '20200115', '20220901', '20191210', '20221007', '20220715', '20220703', '20220528', '20200911', '20230710', '20220516', '20220410', '20220317', '20201216', '20220727', '20200526', '20190225', '20220808', '20220116', '20230405', '20220609', '20200220', '20210626', '20190402', '20191011', '20200327', '20191104', '20221112', '20210226', '20200830', '20231002', '20210602', '20220820', '20230228']\n",
      "{'20201110', '20210226', '20210121', '20231107', '20230216', '20211223', '20201005', '20210427', '20211012', '20210109', '20231213', '20191116', '20230604', '20230228', '20210403', '20200806', '20190309', '20210521', '20210720', '20190508', '20230920', '20220329', '20220820', '20190905', '20190824', '20220410', '20240130', '20220504', '20190120', '20201228', '20210415', '20221218', '20220104', '20210509', '20230405', '20200303', '20220925', '20240106', '20220901', '20221112', '20231225', '20231026', '20230616', '20221007', '20220128', '20190707', '20230710', '20191128', '20200103', '20200713', '20210801', '20190201', '20200220', '20200607', '20230111', '20240118', '20221206', '20210614', '20190613', '20200208', '20201216', '20210918', '20190108', '20211024', '20221124', '20220422', '20221031', '20220703', '20190402', '20210708', '20230908', '20200818', '20200408', '20200127', '20231119', '20220609', '20200420', '20220913', '20200115', '20210322', '20190601', '20200315', '20230523', '20220621', '20191104', '20210906', '20221230', '20200725', '20211211', '20211105', '20230827', '20210825', '20210930', '20230628', '20190625', '20230511', '20220727', '20200923', '20200502', '20200526', '20220305', '20191011', '20200327', '20190414', '20231014', '20190225', '20220317', '20211117', '20200911', '20201204', '20190520', '20190213', '20230803', '20230204', '20211129', '20200830', '20210813', '20200514', '20190426', '20190321', '20210202', '20200619', '20220808', '20220715', '20191210', '20230324', '20231002', '20201017', '20220209', '20190731', '20200701', '20230815', '20221019', '20210310', '20220516', '20220116', '20210626', '20190929', '20230722', '20191222', '20190719', '20210602', '20230417', '20230123', '20231201', '20201122', '20220528', '20210214', '20190812', '20191023', '20230312', '20220221', '20201029', '20230429'}\n"
     ]
    }
   ],
   "source": [
    "if rtc:\n",
    "    dates = get_dates(product_paths)\n",
    "    print(dates)\n",
    "    unique_dates = set(dates)\n",
    "    print(unique_dates)"
   ]
  },
  {
   "cell_type": "markdown",
   "metadata": {},
   "source": [
    "**Determine which dates have multiple frames. Create a dictionary with each date as a key linked to a value set as an empty string:**"
   ]
  },
  {
   "cell_type": "code",
   "execution_count": 71,
   "metadata": {},
   "outputs": [
    {
     "name": "stdout",
     "output_type": "stream",
     "text": [
      "[{}, {}]\n"
     ]
    }
   ],
   "source": [
    "if rtc: \n",
    "    dup_date_batches = [{}]\n",
    "    for date in unique_dates:\n",
    "        count = 0\n",
    "        for d in dates:\n",
    "            if date == d:\n",
    "                count +=1\n",
    "        if (dbl_polar and count > 2) or (not dbl_polar and count > 1):\n",
    "            dup_date_batches[0].update({date : \"\"})\n",
    "    if dbl_polar:\n",
    "        dup_date_batches.append(copy.deepcopy(dup_date_batches[0]))\n",
    "    print(dup_date_batches)"
   ]
  },
  {
   "cell_type": "markdown",
   "metadata": {},
   "source": [
    "**Update the key values in dup_paths with the string paths to all the tiffs for each date:**"
   ]
  },
  {
   "cell_type": "code",
   "execution_count": 72,
   "metadata": {},
   "outputs": [
    {
     "name": "stdout",
     "output_type": "stream",
     "text": [
      "{}\n",
      "\n",
      "\n",
      "{}\n",
      "\n",
      "\n"
     ]
    }
   ],
   "source": [
    "if rtc:\n",
    "    if dbl_polar:\n",
    "        polar_list = [polarization.split(' ')[0], polarization.split(' ')[2]]\n",
    "    else:\n",
    "        polar_list = [polarization]\n",
    "\n",
    "    for i, polar in enumerate(polar_list):\n",
    "        polar_path_regex = f\"(\\w|/)*_{polar}.(tif|tiff)$\"\n",
    "        polar_paths = get_product_paths(polar_path_regex, product_pth)\n",
    "        for pth in polar_paths:\n",
    "            date = asfn.date_from_product_name(str(pth)).split('T')[0]\n",
    "            if date in dup_date_batches[i]:\n",
    "                dup_date_batches[i][date] = f\"{dup_date_batches[i][date]} {str(pth)}\"\n",
    "\n",
    "    for d in dup_date_batches:\n",
    "        print(d)\n",
    "        print(\"\\n\")"
   ]
  },
  {
   "cell_type": "markdown",
   "metadata": {},
   "source": [
    "**Merge all the frames for each date, save the results to the output directory, and delete the original tiffs.**"
   ]
  },
  {
   "cell_type": "code",
   "execution_count": 73,
   "metadata": {},
   "outputs": [],
   "source": [
    "if rtc and len(dup_date_batches[0]) > 0:\n",
    "    for i, dup_dates in enumerate(dup_date_batches):\n",
    "        polar_regex = \"(?<=_)(vh|VH|vv|VV)(?=.tif{1,2})\"\n",
    "        polar = re.search(polar_regex, dup_dates[list(dup_dates)[0]])\n",
    "        if polar:\n",
    "            polar = f'_{polar.group(0)}'\n",
    "        else:\n",
    "            polar = ''\n",
    "        for dup_date in dup_dates:\n",
    "#             print(f\"\\n\\n{dup_dates[dup_date]}\")\n",
    "            output = f\"{str(output_dir_path_tiffs)}/merged_{dup_date}T999999{polar}{product_paths[0].suffix}\"\n",
    "            gdal_command = f\"gdal_merge.py -o {output} {dup_dates[dup_date]}\"\n",
    "            print(f\"\\n\\nCalling the command: {gdal_command}\\n\")\n",
    "            !$gdal_command\n",
    "            for pth in dup_dates[dup_date].split(' '):\n",
    "                path = Path(pth)\n",
    "                if path and path.is_file():\n",
    "                    path.unlink()\n",
    "                    print(f\"Deleting: {str(pth)}\")"
   ]
  },
  {
   "cell_type": "markdown",
   "metadata": {},
   "source": [
    "---\n",
    "**Verify that all duplicate dates were resolved:**"
   ]
  },
  {
   "cell_type": "code",
   "execution_count": 74,
   "metadata": {},
   "outputs": [
    {
     "name": "stdout",
     "output_type": "stream",
     "text": [
      "No duplicate dates are associated with VH polarization.\n",
      "No duplicate dates are associated with VV polarization.\n"
     ]
    }
   ],
   "source": [
    "if rtc:\n",
    "    product_paths = get_product_paths(regex, product_pth)\n",
    "    for polar in polar_list:\n",
    "        polar_product_pth = product_pth.replace('V*', polar)\n",
    "        polar_product_paths = get_product_paths(regex, polar_product_pth)\n",
    "        dates = get_dates(polar_product_paths)\n",
    "        if len(dates) != len(set(dates)):\n",
    "            print(f\"Duplicate dates still present!\")\n",
    "        else:\n",
    "            print(f\"No duplicate dates are associated with {polar} polarization.\")"
   ]
  },
  {
   "cell_type": "markdown",
   "metadata": {},
   "source": [
    "**Print the updated the paths to all remaining non-merged tiffs:**"
   ]
  },
  {
   "cell_type": "code",
   "execution_count": 75,
   "metadata": {},
   "outputs": [
    {
     "name": "stdout",
     "output_type": "stream",
     "text": [
      "Tiff paths:\n",
      "Dataset/bang_NE/RTC_GAMMA/S1A_IW_20240118T120507_DVR_RTC30_G_gpufem_CF32/S1A_IW_20240118T120507_DVR_RTC30_G_gpufem_CF32_VV.tif\n",
      "\n",
      "Dataset/bang_NE/RTC_GAMMA/S1A_IW_20210918T120500_DVP_RTC30_G_gpufem_6F10/S1A_IW_20210918T120500_DVP_RTC30_G_gpufem_6F10_VV.tif\n",
      "\n",
      "Dataset/bang_NE/RTC_GAMMA/S1A_IW_20220329T120456_DVP_RTC30_G_gpufem_DA96/S1A_IW_20220329T120456_DVP_RTC30_G_gpufem_DA96_VV.tif\n",
      "\n",
      "Dataset/bang_NE/RTC_GAMMA/S1A_IW_20201110T120454_DVP_RTC30_G_gpufem_B939/S1A_IW_20201110T120454_DVP_RTC30_G_gpufem_B939_VV.tif\n",
      "\n",
      "Dataset/bang_NE/RTC_GAMMA/S1A_IW_20240130T120507_DVR_RTC30_G_gpufem_811D/S1A_IW_20240130T120507_DVR_RTC30_G_gpufem_811D_VV.tif\n",
      "\n",
      "Dataset/bang_NE/RTC_GAMMA/S1A_IW_20201005T120454_DVP_RTC30_G_gpufem_37D1/S1A_IW_20201005T120454_DVP_RTC30_G_gpufem_37D1_VV.tif\n",
      "\n",
      "Dataset/bang_NE/RTC_GAMMA/S1A_IW_20230815T120509_DVP_RTC30_G_gpufem_F226/S1A_IW_20230815T120509_DVP_RTC30_G_gpufem_F226_VV.tif\n",
      "\n",
      "Dataset/bang_NE/RTC_GAMMA/S1A_IW_20200502T120446_DVP_RTC30_G_gpufem_D75F/S1A_IW_20200502T120446_DVP_RTC30_G_gpufem_D75F_VV.tif\n",
      "\n",
      "Dataset/bang_NE/RTC_GAMMA/S1A_IW_20200725T120451_DVP_RTC30_G_gpufem_82EC/S1A_IW_20200725T120451_DVP_RTC30_G_gpufem_82EC_VV.tif\n",
      "\n",
      "Dataset/bang_NE/RTC_GAMMA/S1A_IW_20201029T120454_DVP_RTC30_G_gpufem_B897/S1A_IW_20201029T120454_DVP_RTC30_G_gpufem_B897_VV.tif\n",
      "\n",
      "Dataset/bang_NE/RTC_GAMMA/S1A_IW_20210720T120457_DVP_RTC30_G_gpufem_A86B/S1A_IW_20210720T120457_DVP_RTC30_G_gpufem_A86B_VV.tif\n",
      "\n",
      "Dataset/bang_NE/RTC_GAMMA/S1A_IW_20230616T120506_DVP_RTC30_G_gpufem_31DE/S1A_IW_20230616T120506_DVP_RTC30_G_gpufem_31DE_VV.tif\n",
      "\n",
      "Dataset/bang_NE/RTC_GAMMA/S1A_IW_20210930T120500_DVP_RTC30_G_gpufem_529E/S1A_IW_20210930T120500_DVP_RTC30_G_gpufem_529E_VV.tif\n",
      "\n",
      "Dataset/bang_NE/RTC_GAMMA/S1A_IW_20231026T120511_DVP_RTC30_G_gpufem_5D5C/S1A_IW_20231026T120511_DVP_RTC30_G_gpufem_5D5C_VV.tif\n",
      "\n",
      "Dataset/bang_NE/RTC_GAMMA/S1A_IW_20220305T120456_DVP_RTC30_G_gpufem_ADD2/S1A_IW_20220305T120456_DVP_RTC30_G_gpufem_ADD2_VV.tif\n",
      "\n",
      "Dataset/bang_NE/RTC_GAMMA/S1A_IW_20210521T120453_DVP_RTC30_G_gpufem_AEEC/S1A_IW_20210521T120453_DVP_RTC30_G_gpufem_AEEC_VV.tif\n",
      "\n",
      "Dataset/bang_NE/RTC_GAMMA/S1A_IW_20210813T120458_DVP_RTC30_G_gpufem_73D9/S1A_IW_20210813T120458_DVP_RTC30_G_gpufem_73D9_VV.tif\n",
      "\n",
      "Dataset/bang_NE/RTC_GAMMA/S1A_IW_20220221T120456_DVP_RTC30_G_gpufem_A40A/S1A_IW_20220221T120456_DVP_RTC30_G_gpufem_A40A_VV.tif\n",
      "\n",
      "Dataset/bang_NE/RTC_GAMMA/S1A_IW_20230523T120504_DVP_RTC30_G_gpufem_38EE/S1A_IW_20230523T120504_DVP_RTC30_G_gpufem_38EE_VV.tif\n",
      "\n",
      "Dataset/bang_NE/RTC_GAMMA/S1A_IW_20201122T120454_DVP_RTC30_G_gpufem_F692/S1A_IW_20201122T120454_DVP_RTC30_G_gpufem_F692_VV.tif\n",
      "\n",
      "Dataset/bang_NE/RTC_GAMMA/S1A_IW_20190201T120439_DVP_RTC30_G_gpufem_5EF2/S1A_IW_20190201T120439_DVP_RTC30_G_gpufem_5EF2_VV.tif\n",
      "\n",
      "Dataset/bang_NE/RTC_GAMMA/S1A_IW_20191023T120448_DVP_RTC30_G_gpufem_A9AA/S1A_IW_20191023T120448_DVP_RTC30_G_gpufem_A9AA_VV.tif\n",
      "\n",
      "Dataset/bang_NE/RTC_GAMMA/S1A_IW_20190601T120441_DVP_RTC30_G_gpufem_6710/S1A_IW_20190601T120441_DVP_RTC30_G_gpufem_6710_VV.tif\n",
      "\n",
      "Dataset/bang_NE/RTC_GAMMA/S1A_IW_20200420T120445_DVP_RTC30_G_gpufem_6689/S1A_IW_20200420T120445_DVP_RTC30_G_gpufem_6689_VV.tif\n",
      "\n",
      "Dataset/bang_NE/RTC_GAMMA/S1A_IW_20210801T120457_DVP_RTC30_G_gpufem_D150/S1A_IW_20210801T120457_DVP_RTC30_G_gpufem_D150_VV.tif\n",
      "\n",
      "Dataset/bang_NE/RTC_GAMMA/S1A_IW_20231213T120510_DVP_RTC30_G_gpufem_922F/S1A_IW_20231213T120510_DVP_RTC30_G_gpufem_922F_VV.tif\n",
      "\n",
      "Dataset/bang_NE/RTC_GAMMA/S1A_IW_20200514T120447_DVP_RTC30_G_gpufem_644F/S1A_IW_20200514T120447_DVP_RTC30_G_gpufem_644F_VV.tif\n",
      "\n",
      "Dataset/bang_NE/RTC_GAMMA/S1A_IW_20211012T120500_DVP_RTC30_G_gpufem_6C16/S1A_IW_20211012T120500_DVP_RTC30_G_gpufem_6C16_VV.tif\n",
      "\n",
      "Dataset/bang_NE/RTC_GAMMA/S1A_IW_20191128T120447_DVP_RTC30_G_gpufem_F1A1/S1A_IW_20191128T120447_DVP_RTC30_G_gpufem_F1A1_VV.tif\n",
      "\n",
      "Dataset/bang_NE/RTC_GAMMA/S1A_IW_20190426T120440_DVP_RTC30_G_gpufem_34EB/S1A_IW_20190426T120440_DVP_RTC30_G_gpufem_34EB_VV.tif\n",
      "\n",
      "Dataset/bang_NE/RTC_GAMMA/S1A_IW_20211024T120500_DVP_RTC30_G_gpufem_0BE0/S1A_IW_20211024T120500_DVP_RTC30_G_gpufem_0BE0_VV.tif\n",
      "\n",
      "Dataset/bang_NE/RTC_GAMMA/S1A_IW_20200127T120445_DVP_RTC30_G_gpufem_5E3A/S1A_IW_20200127T120445_DVP_RTC30_G_gpufem_5E3A_VV.tif\n",
      "\n",
      "Dataset/bang_NE/RTC_GAMMA/S1A_IW_20201228T120452_DVP_RTC30_G_gpufem_9EF3/S1A_IW_20201228T120452_DVP_RTC30_G_gpufem_9EF3_VV.tif\n",
      "\n",
      "Dataset/bang_NE/RTC_GAMMA/S1A_IW_20200103T120446_DVP_RTC30_G_gpufem_DBED/S1A_IW_20200103T120446_DVP_RTC30_G_gpufem_DBED_VV.tif\n",
      "\n",
      "Dataset/bang_NE/RTC_GAMMA/S1A_IW_20211105T120500_DVP_RTC30_G_gpufem_FA5C/S1A_IW_20211105T120500_DVP_RTC30_G_gpufem_FA5C_VV.tif\n",
      "\n",
      "Dataset/bang_NE/RTC_GAMMA/S1A_IW_20231119T120510_DVP_RTC30_G_gpufem_FA28/S1A_IW_20231119T120510_DVP_RTC30_G_gpufem_FA28_VV.tif\n",
      "\n",
      "Dataset/bang_NE/RTC_GAMMA/S1A_IW_20210403T120451_DVP_RTC30_G_gpufem_3410/S1A_IW_20210403T120451_DVP_RTC30_G_gpufem_3410_VV.tif\n",
      "\n",
      "Dataset/bang_NE/RTC_GAMMA/S1A_IW_20221218T120504_DVP_RTC30_G_gpufem_047C/S1A_IW_20221218T120504_DVP_RTC30_G_gpufem_047C_VV.tif\n",
      "\n",
      "Dataset/bang_NE/RTC_GAMMA/S1A_IW_20190905T120447_DVP_RTC30_G_gpufem_AF79/S1A_IW_20190905T120447_DVP_RTC30_G_gpufem_AF79_VV.tif\n",
      "\n",
      "Dataset/bang_NE/RTC_GAMMA/S1A_IW_20210415T120451_DVP_RTC30_G_gpufem_756D/S1A_IW_20210415T120451_DVP_RTC30_G_gpufem_756D_VV.tif\n",
      "\n",
      "Dataset/bang_NE/RTC_GAMMA/S1A_IW_20210906T120459_DVP_RTC30_G_gpufem_B3A8/S1A_IW_20210906T120459_DVP_RTC30_G_gpufem_B3A8_VV.tif\n",
      "\n",
      "Dataset/bang_NE/RTC_GAMMA/S1A_IW_20220621T120501_DVP_RTC30_G_gpufem_22C3/S1A_IW_20220621T120501_DVP_RTC30_G_gpufem_22C3_VV.tif\n",
      "\n",
      "Dataset/bang_NE/RTC_GAMMA/S1A_IW_20211117T120500_DVP_RTC30_G_gpufem_D07B/S1A_IW_20211117T120500_DVP_RTC30_G_gpufem_D07B_VV.tif\n",
      "\n",
      "Dataset/bang_NE/RTC_GAMMA/S1A_IW_20230312T120502_DVP_RTC30_G_gpufem_DFDC/S1A_IW_20230312T120502_DVP_RTC30_G_gpufem_DFDC_VV.tif\n",
      "\n",
      "Dataset/bang_NE/RTC_GAMMA/S1A_IW_20200713T120450_DVP_RTC30_G_gpufem_6EB6/S1A_IW_20200713T120450_DVP_RTC30_G_gpufem_6EB6_VV.tif\n",
      "\n",
      "Dataset/bang_NE/RTC_GAMMA/S1A_IW_20230628T120506_DVP_RTC30_G_gpufem_61AB/S1A_IW_20230628T120506_DVP_RTC30_G_gpufem_61AB_VV.tif\n",
      "\n",
      "Dataset/bang_NE/RTC_GAMMA/S1A_IW_20230827T120510_DVP_RTC30_G_gpufem_9BF7/S1A_IW_20230827T120510_DVP_RTC30_G_gpufem_9BF7_VV.tif\n",
      "\n",
      "Dataset/bang_NE/RTC_GAMMA/S1A_IW_20190812T120446_DVP_RTC30_G_gpufem_0255/S1A_IW_20190812T120446_DVP_RTC30_G_gpufem_0255_VV.tif\n",
      "\n",
      "Dataset/bang_NE/RTC_GAMMA/S1A_IW_20190520T120441_DVP_RTC30_G_gpufem_9589/S1A_IW_20190520T120441_DVP_RTC30_G_gpufem_9589_VV.tif\n",
      "\n",
      "Dataset/bang_NE/RTC_GAMMA/S1A_IW_20210427T120452_DVP_RTC30_G_gpufem_D07E/S1A_IW_20210427T120452_DVP_RTC30_G_gpufem_D07E_VV.tif\n",
      "\n",
      "Dataset/bang_NE/RTC_GAMMA/S1A_IW_20221031T120506_DVP_RTC30_G_gpufem_48E8/S1A_IW_20221031T120506_DVP_RTC30_G_gpufem_48E8_VV.tif\n",
      "\n",
      "Dataset/bang_NE/RTC_GAMMA/S1A_IW_20230204T120502_DVP_RTC30_G_gpufem_BCD7/S1A_IW_20230204T120502_DVP_RTC30_G_gpufem_BCD7_VV.tif\n",
      "\n",
      "Dataset/bang_NE/RTC_GAMMA/S1A_IW_20230324T120502_DVP_RTC30_G_gpufem_0936/S1A_IW_20230324T120502_DVP_RTC30_G_gpufem_0936_VV.tif\n",
      "\n",
      "Dataset/bang_NE/RTC_GAMMA/S1A_IW_20230803T120509_DVP_RTC30_G_gpufem_C31F/S1A_IW_20230803T120509_DVP_RTC30_G_gpufem_C31F_VV.tif\n",
      "\n",
      "Dataset/bang_NE/RTC_GAMMA/S1A_IW_20231225T120509_DVP_RTC30_G_gpufem_C6D6/S1A_IW_20231225T120509_DVP_RTC30_G_gpufem_C6D6_VV.tif\n",
      "\n",
      "Dataset/bang_NE/RTC_GAMMA/S1A_IW_20221124T120506_DVP_RTC30_G_gpufem_82A1/S1A_IW_20221124T120506_DVP_RTC30_G_gpufem_82A1_VV.tif\n",
      "\n",
      "Dataset/bang_NE/RTC_GAMMA/S1A_IW_20200923T120454_DVP_RTC30_G_gpufem_2891/S1A_IW_20200923T120454_DVP_RTC30_G_gpufem_2891_VV.tif\n",
      "\n",
      "Dataset/bang_NE/RTC_GAMMA/S1A_IW_20190309T120438_DVP_RTC30_G_gpufem_4755/S1A_IW_20190309T120438_DVP_RTC30_G_gpufem_4755_VV.tif\n",
      "\n",
      "Dataset/bang_NE/RTC_GAMMA/S1A_IW_20231201T120510_DVP_RTC30_G_gpufem_EEBC/S1A_IW_20231201T120510_DVP_RTC30_G_gpufem_EEBC_VV.tif\n",
      "\n",
      "Dataset/bang_NE/RTC_GAMMA/S1A_IW_20210109T120452_DVP_RTC30_G_gpufem_5E7C/S1A_IW_20210109T120452_DVP_RTC30_G_gpufem_5E7C_VV.tif\n",
      "\n",
      "Dataset/bang_NE/RTC_GAMMA/S1A_IW_20230920T120511_DVP_RTC30_G_gpufem_24F3/S1A_IW_20230920T120511_DVP_RTC30_G_gpufem_24F3_VV.tif\n",
      "\n",
      "Dataset/bang_NE/RTC_GAMMA/S1A_IW_20210825T120459_DVP_RTC30_G_gpufem_A04F/S1A_IW_20210825T120459_DVP_RTC30_G_gpufem_A04F_VV.tif\n",
      "\n",
      "Dataset/bang_NE/RTC_GAMMA/S1A_IW_20190929T120448_DVP_RTC30_G_gpufem_0BC5/S1A_IW_20190929T120448_DVP_RTC30_G_gpufem_0BC5_VV.tif\n",
      "\n",
      "Dataset/bang_NE/RTC_GAMMA/S1A_IW_20211129T120459_DVP_RTC30_G_gpufem_E269/S1A_IW_20211129T120459_DVP_RTC30_G_gpufem_E269_VV.tif\n",
      "\n",
      "Dataset/bang_NE/RTC_GAMMA/S1A_IW_20220128T120456_DVP_RTC30_G_gpufem_EC1C/S1A_IW_20220128T120456_DVP_RTC30_G_gpufem_EC1C_VV.tif\n",
      "\n",
      "Dataset/bang_NE/RTC_GAMMA/S1A_IW_20220209T120456_DVP_RTC30_G_gpufem_1037/S1A_IW_20220209T120456_DVP_RTC30_G_gpufem_1037_VV.tif\n",
      "\n",
      "Dataset/bang_NE/RTC_GAMMA/S1A_IW_20230604T120505_DVP_RTC30_G_gpufem_F98E/S1A_IW_20230604T120505_DVP_RTC30_G_gpufem_F98E_VV.tif\n",
      "\n",
      "Dataset/bang_NE/RTC_GAMMA/S1A_IW_20190731T120445_DVP_RTC30_G_gpufem_3C5A/S1A_IW_20190731T120445_DVP_RTC30_G_gpufem_3C5A_VV.tif\n",
      "\n",
      "Dataset/bang_NE/RTC_GAMMA/S1A_IW_20200408T120445_DVP_RTC30_G_gpufem_3D72/S1A_IW_20200408T120445_DVP_RTC30_G_gpufem_3D72_VV.tif\n",
      "\n",
      "Dataset/bang_NE/RTC_GAMMA/S1A_IW_20211211T120459_DVP_RTC30_G_gpufem_3B81/S1A_IW_20211211T120459_DVP_RTC30_G_gpufem_3B81_VV.tif\n",
      "\n",
      "Dataset/bang_NE/RTC_GAMMA/S1A_IW_20190719T120444_DVP_RTC30_G_gpufem_DAFE/S1A_IW_20190719T120444_DVP_RTC30_G_gpufem_DAFE_VV.tif\n",
      "\n",
      "Dataset/bang_NE/RTC_GAMMA/S1A_IW_20230417T120503_DVP_RTC30_G_gpufem_85D7/S1A_IW_20230417T120503_DVP_RTC30_G_gpufem_85D7_VV.tif\n",
      "\n",
      "Dataset/bang_NE/RTC_GAMMA/S1A_IW_20200607T120448_DVP_RTC30_G_gpufem_05E8/S1A_IW_20200607T120448_DVP_RTC30_G_gpufem_05E8_VV.tif\n",
      "\n",
      "Dataset/bang_NE/RTC_GAMMA/S1A_IW_20220422T120457_DVP_RTC30_G_gpufem_D66B/S1A_IW_20220422T120457_DVP_RTC30_G_gpufem_D66B_VV.tif\n",
      "\n",
      "Dataset/bang_NE/RTC_GAMMA/S1A_IW_20201204T120453_DVP_RTC30_G_gpufem_CE47/S1A_IW_20201204T120453_DVP_RTC30_G_gpufem_CE47_VV.tif\n",
      "\n",
      "Dataset/bang_NE/RTC_GAMMA/S1A_IW_20190414T120439_DVP_RTC30_G_gpufem_81C6/S1A_IW_20190414T120439_DVP_RTC30_G_gpufem_81C6_VV.tif\n",
      "\n",
      "Dataset/bang_NE/RTC_GAMMA/S1A_IW_20211223T120458_DVP_RTC30_G_gpufem_6524/S1A_IW_20211223T120458_DVP_RTC30_G_gpufem_6524_VV.tif\n",
      "\n",
      "Dataset/bang_NE/RTC_GAMMA/S1A_IW_20201017T120454_DVP_RTC30_G_gpufem_6556/S1A_IW_20201017T120454_DVP_RTC30_G_gpufem_6556_VV.tif\n",
      "\n",
      "Dataset/bang_NE/RTC_GAMMA/S1A_IW_20230722T120508_DVP_RTC30_G_gpufem_3E39/S1A_IW_20230722T120508_DVP_RTC30_G_gpufem_3E39_VV.tif\n",
      "\n",
      "Dataset/bang_NE/RTC_GAMMA/S1A_IW_20190321T120438_DVP_RTC30_G_gpufem_73AE/S1A_IW_20190321T120438_DVP_RTC30_G_gpufem_73AE_VV.tif\n",
      "\n",
      "Dataset/bang_NE/RTC_GAMMA/S1A_IW_20200619T120449_DVP_RTC30_G_gpufem_3C15/S1A_IW_20200619T120449_DVP_RTC30_G_gpufem_3C15_VV.tif\n",
      "\n",
      "Dataset/bang_NE/RTC_GAMMA/S1A_IW_20210322T120450_DVP_RTC30_G_gpufem_9E55/S1A_IW_20210322T120450_DVP_RTC30_G_gpufem_9E55_VV.tif\n",
      "\n",
      "Dataset/bang_NE/RTC_GAMMA/S1A_IW_20200208T120445_DVP_RTC30_G_gpufem_A8A8/S1A_IW_20200208T120445_DVP_RTC30_G_gpufem_A8A8_VV.tif\n",
      "\n",
      "Dataset/bang_NE/RTC_GAMMA/S1A_IW_20190824T120446_DVP_RTC30_G_gpufem_4CCB/S1A_IW_20190824T120446_DVP_RTC30_G_gpufem_4CCB_VV.tif\n",
      "\n",
      "Dataset/bang_NE/RTC_GAMMA/S1A_IW_20220925T120505_DVP_RTC30_G_gpufem_3F46/S1A_IW_20220925T120505_DVP_RTC30_G_gpufem_3F46_VV.tif\n",
      "\n",
      "Dataset/bang_NE/RTC_GAMMA/S1A_IW_20230216T120502_DVP_RTC30_G_gpufem_72B7/S1A_IW_20230216T120502_DVP_RTC30_G_gpufem_72B7_VV.tif\n",
      "\n",
      "Dataset/bang_NE/RTC_GAMMA/S1A_IW_20191116T120448_DVP_RTC30_G_gpufem_C1C6/S1A_IW_20191116T120448_DVP_RTC30_G_gpufem_C1C6_VV.tif\n",
      "\n",
      "Dataset/bang_NE/RTC_GAMMA/S1A_IW_20230123T120503_DVP_RTC30_G_gpufem_F9EA/S1A_IW_20230123T120503_DVP_RTC30_G_gpufem_F9EA_VV.tif\n",
      "\n",
      "Dataset/bang_NE/RTC_GAMMA/S1A_IW_20190613T120442_DVP_RTC30_G_gpufem_FC73/S1A_IW_20190613T120442_DVP_RTC30_G_gpufem_FC73_VV.tif\n",
      "\n",
      "Dataset/bang_NE/RTC_GAMMA/S1A_IW_20200701T120449_DVP_RTC30_G_gpufem_E709/S1A_IW_20200701T120449_DVP_RTC30_G_gpufem_E709_VV.tif\n",
      "\n",
      "Dataset/bang_NE/RTC_GAMMA/S1A_IW_20210708T120456_DVP_RTC30_G_gpufem_9048/S1A_IW_20210708T120456_DVP_RTC30_G_gpufem_9048_VV.tif\n",
      "\n",
      "Dataset/bang_NE/RTC_GAMMA/S1A_IW_20210509T120452_DVP_RTC30_G_gpufem_487B/S1A_IW_20210509T120452_DVP_RTC30_G_gpufem_487B_VV.tif\n",
      "\n",
      "Dataset/bang_NE/RTC_GAMMA/S1A_IW_20190108T120439_DVP_RTC30_G_gpufem_8BD9/S1A_IW_20190108T120439_DVP_RTC30_G_gpufem_8BD9_VV.tif\n",
      "\n",
      "Dataset/bang_NE/RTC_GAMMA/S1A_IW_20240106T120508_DVP_RTC30_G_gpufem_887D/S1A_IW_20240106T120508_DVP_RTC30_G_gpufem_887D_VV.tif\n",
      "\n",
      "Dataset/bang_NE/RTC_GAMMA/S1A_IW_20210121T120451_DVP_RTC30_G_gpufem_DB2A/S1A_IW_20210121T120451_DVP_RTC30_G_gpufem_DB2A_VV.tif\n",
      "\n",
      "Dataset/bang_NE/RTC_GAMMA/S1A_IW_20190213T120438_DVP_RTC30_G_gpufem_CA11/S1A_IW_20190213T120438_DVP_RTC30_G_gpufem_CA11_VV.tif\n",
      "\n",
      "Dataset/bang_NE/RTC_GAMMA/S1A_IW_20210614T120455_DVP_RTC30_G_gpufem_7735/S1A_IW_20210614T120455_DVP_RTC30_G_gpufem_7735_VV.tif\n",
      "\n",
      "Dataset/bang_NE/RTC_GAMMA/S1A_IW_20190707T120443_DVP_RTC30_G_gpufem_F5B7/S1A_IW_20190707T120443_DVP_RTC30_G_gpufem_F5B7_VV.tif\n",
      "\n",
      "Dataset/bang_NE/RTC_GAMMA/S1A_IW_20230111T120503_DVP_RTC30_G_gpufem_4C33/S1A_IW_20230111T120503_DVP_RTC30_G_gpufem_4C33_VV.tif\n",
      "\n",
      "Dataset/bang_NE/RTC_GAMMA/S1A_IW_20210202T120451_DVP_RTC30_G_gpufem_A277/S1A_IW_20210202T120451_DVP_RTC30_G_gpufem_A277_VV.tif\n",
      "\n",
      "Dataset/bang_NE/RTC_GAMMA/S1A_IW_20230429T120503_DVP_RTC30_G_gpufem_436F/S1A_IW_20230429T120503_DVP_RTC30_G_gpufem_436F_VV.tif\n",
      "\n",
      "Dataset/bang_NE/RTC_GAMMA/S1A_IW_20190120T120439_DVP_RTC30_G_gpufem_97E2/S1A_IW_20190120T120439_DVP_RTC30_G_gpufem_97E2_VV.tif\n",
      "\n",
      "Dataset/bang_NE/RTC_GAMMA/S1A_IW_20210214T120450_DVP_RTC30_G_gpufem_2A53/S1A_IW_20210214T120450_DVP_RTC30_G_gpufem_2A53_VV.tif\n",
      "\n",
      "Dataset/bang_NE/RTC_GAMMA/S1A_IW_20190625T120442_DVP_RTC30_G_gpufem_26C2/S1A_IW_20190625T120442_DVP_RTC30_G_gpufem_26C2_VV.tif\n",
      "\n",
      "Dataset/bang_NE/RTC_GAMMA/S1A_IW_20230908T120510_DVP_RTC30_G_gpufem_A857/S1A_IW_20230908T120510_DVP_RTC30_G_gpufem_A857_VV.tif\n",
      "\n",
      "Dataset/bang_NE/RTC_GAMMA/S1A_IW_20200818T120452_DVP_RTC30_G_gpufem_362D/S1A_IW_20200818T120452_DVP_RTC30_G_gpufem_362D_VV.tif\n",
      "\n",
      "Dataset/bang_NE/RTC_GAMMA/S1A_IW_20221230T120504_DVP_RTC30_G_gpufem_2CC1/S1A_IW_20221230T120504_DVP_RTC30_G_gpufem_2CC1_VV.tif\n",
      "\n",
      "Dataset/bang_NE/RTC_GAMMA/S1A_IW_20221019T120506_DVP_RTC30_G_gpufem_2D94/S1A_IW_20221019T120506_DVP_RTC30_G_gpufem_2D94_VV.tif\n",
      "\n",
      "Dataset/bang_NE/RTC_GAMMA/S1A_IW_20231107T120510_DVP_RTC30_G_gpufem_EA92/S1A_IW_20231107T120510_DVP_RTC30_G_gpufem_EA92_VV.tif\n",
      "\n",
      "Dataset/bang_NE/RTC_GAMMA/S1A_IW_20221206T120505_DVP_RTC30_G_gpufem_DECC/S1A_IW_20221206T120505_DVP_RTC30_G_gpufem_DECC_VV.tif\n",
      "\n",
      "Dataset/bang_NE/RTC_GAMMA/S1A_IW_20200315T120445_DVP_RTC30_G_gpufem_C860/S1A_IW_20200315T120445_DVP_RTC30_G_gpufem_C860_VV.tif\n",
      "\n",
      "Dataset/bang_NE/RTC_GAMMA/S1A_IW_20230511T120504_DVP_RTC30_G_gpufem_CBE8/S1A_IW_20230511T120504_DVP_RTC30_G_gpufem_CBE8_VV.tif\n",
      "\n",
      "Dataset/bang_NE/RTC_GAMMA/S1A_IW_20220913T120506_DVP_RTC30_G_gpufem_FB4E/S1A_IW_20220913T120506_DVP_RTC30_G_gpufem_FB4E_VV.tif\n",
      "\n",
      "Dataset/bang_NE/RTC_GAMMA/S1A_IW_20220104T120457_DVP_RTC30_G_gpufem_F4B3/S1A_IW_20220104T120457_DVP_RTC30_G_gpufem_F4B3_VV.tif\n",
      "\n",
      "Dataset/bang_NE/RTC_GAMMA/S1A_IW_20200303T120444_DVP_RTC30_G_gpufem_BAB5/S1A_IW_20200303T120444_DVP_RTC30_G_gpufem_BAB5_VV.tif\n",
      "\n",
      "Dataset/bang_NE/RTC_GAMMA/S1A_IW_20231014T120511_DVP_RTC30_G_gpufem_D171/S1A_IW_20231014T120511_DVP_RTC30_G_gpufem_D171_VV.tif\n",
      "\n",
      "Dataset/bang_NE/RTC_GAMMA/S1A_IW_20220504T120457_DVP_RTC30_G_gpufem_9B0C/S1A_IW_20220504T120457_DVP_RTC30_G_gpufem_9B0C_VV.tif\n",
      "\n",
      "Dataset/bang_NE/RTC_GAMMA/S1A_IW_20210310T120450_DVP_RTC30_G_gpufem_9E13/S1A_IW_20210310T120450_DVP_RTC30_G_gpufem_9E13_VV.tif\n",
      "\n",
      "Dataset/bang_NE/RTC_GAMMA/S1A_IW_20190508T120440_DVP_RTC30_G_gpufem_34D2/S1A_IW_20190508T120440_DVP_RTC30_G_gpufem_34D2_VV.tif\n",
      "\n",
      "Dataset/bang_NE/RTC_GAMMA/S1A_IW_20200806T120452_DVP_RTC30_G_gpufem_34F8/S1A_IW_20200806T120452_DVP_RTC30_G_gpufem_34F8_VV.tif\n",
      "\n",
      "Dataset/bang_NE/RTC_GAMMA/S1A_IW_20191222T120446_DVP_RTC30_G_gpufem_E4A8/S1A_IW_20191222T120446_DVP_RTC30_G_gpufem_E4A8_VV.tif\n",
      "\n",
      "Dataset/bang_NE/RTC_GAMMA/S1A_IW_20200115T120445_DVP_RTC30_G_gpufem_43F5/S1A_IW_20200115T120445_DVP_RTC30_G_gpufem_43F5_VV.tif\n",
      "\n",
      "Dataset/bang_NE/RTC_GAMMA/S1A_IW_20220901T120505_DVP_RTC30_G_gpufem_6D92/S1A_IW_20220901T120505_DVP_RTC30_G_gpufem_6D92_VV.tif\n",
      "\n",
      "Dataset/bang_NE/RTC_GAMMA/S1A_IW_20191210T120447_DVP_RTC30_G_gpufem_CEB6/S1A_IW_20191210T120447_DVP_RTC30_G_gpufem_CEB6_VV.tif\n",
      "\n",
      "Dataset/bang_NE/RTC_GAMMA/S1A_IW_20221007T120506_DVP_RTC30_G_gpufem_13ED/S1A_IW_20221007T120506_DVP_RTC30_G_gpufem_13ED_VV.tif\n",
      "\n",
      "Dataset/bang_NE/RTC_GAMMA/S1A_IW_20220715T120502_DVP_RTC30_G_gpufem_9F3A/S1A_IW_20220715T120502_DVP_RTC30_G_gpufem_9F3A_VV.tif\n",
      "\n",
      "Dataset/bang_NE/RTC_GAMMA/S1A_IW_20220703T120502_DVP_RTC30_G_gpufem_CBC0/S1A_IW_20220703T120502_DVP_RTC30_G_gpufem_CBC0_VV.tif\n",
      "\n",
      "Dataset/bang_NE/RTC_GAMMA/S1A_IW_20220528T120459_DVP_RTC30_G_gpufem_DC3E/S1A_IW_20220528T120459_DVP_RTC30_G_gpufem_DC3E_VV.tif\n",
      "\n",
      "Dataset/bang_NE/RTC_GAMMA/S1A_IW_20200911T120454_DVP_RTC30_G_gpufem_D603/S1A_IW_20200911T120454_DVP_RTC30_G_gpufem_D603_VV.tif\n",
      "\n",
      "Dataset/bang_NE/RTC_GAMMA/S1A_IW_20230710T120507_DVP_RTC30_G_gpufem_95E6/S1A_IW_20230710T120507_DVP_RTC30_G_gpufem_95E6_VV.tif\n",
      "\n",
      "Dataset/bang_NE/RTC_GAMMA/S1A_IW_20220516T120458_DVP_RTC30_G_gpufem_3BEB/S1A_IW_20220516T120458_DVP_RTC30_G_gpufem_3BEB_VV.tif\n",
      "\n",
      "Dataset/bang_NE/RTC_GAMMA/S1A_IW_20220410T120457_DVP_RTC30_G_gpufem_071D/S1A_IW_20220410T120457_DVP_RTC30_G_gpufem_071D_VV.tif\n",
      "\n",
      "Dataset/bang_NE/RTC_GAMMA/S1A_IW_20220317T120456_DVP_RTC30_G_gpufem_2DE1/S1A_IW_20220317T120456_DVP_RTC30_G_gpufem_2DE1_VV.tif\n",
      "\n",
      "Dataset/bang_NE/RTC_GAMMA/S1A_IW_20201216T120453_DVP_RTC30_G_gpufem_00FD/S1A_IW_20201216T120453_DVP_RTC30_G_gpufem_00FD_VV.tif\n",
      "\n",
      "Dataset/bang_NE/RTC_GAMMA/S1A_IW_20220727T120503_DVP_RTC30_G_gpufem_59AB/S1A_IW_20220727T120503_DVP_RTC30_G_gpufem_59AB_VV.tif\n",
      "\n",
      "Dataset/bang_NE/RTC_GAMMA/S1A_IW_20200526T120447_DVP_RTC30_G_gpufem_B478/S1A_IW_20200526T120447_DVP_RTC30_G_gpufem_B478_VV.tif\n",
      "\n",
      "Dataset/bang_NE/RTC_GAMMA/S1A_IW_20190225T120438_DVP_RTC30_G_gpufem_C14B/S1A_IW_20190225T120438_DVP_RTC30_G_gpufem_C14B_VV.tif\n",
      "\n",
      "Dataset/bang_NE/RTC_GAMMA/S1A_IW_20220808T120504_DVP_RTC30_G_gpufem_04A4/S1A_IW_20220808T120504_DVP_RTC30_G_gpufem_04A4_VV.tif\n",
      "\n",
      "Dataset/bang_NE/RTC_GAMMA/S1A_IW_20220116T120457_DVP_RTC30_G_gpufem_4A7F/S1A_IW_20220116T120457_DVP_RTC30_G_gpufem_4A7F_VV.tif\n",
      "\n",
      "Dataset/bang_NE/RTC_GAMMA/S1A_IW_20230405T120502_DVP_RTC30_G_gpufem_D3F2/S1A_IW_20230405T120502_DVP_RTC30_G_gpufem_D3F2_VV.tif\n",
      "\n",
      "Dataset/bang_NE/RTC_GAMMA/S1A_IW_20220609T120500_DVP_RTC30_G_gpufem_35A6/S1A_IW_20220609T120500_DVP_RTC30_G_gpufem_35A6_VV.tif\n",
      "\n",
      "Dataset/bang_NE/RTC_GAMMA/S1A_IW_20200220T120444_DVP_RTC30_G_gpufem_1A88/S1A_IW_20200220T120444_DVP_RTC30_G_gpufem_1A88_VV.tif\n",
      "\n",
      "Dataset/bang_NE/RTC_GAMMA/S1A_IW_20210626T120455_DVP_RTC30_G_gpufem_5D53/S1A_IW_20210626T120455_DVP_RTC30_G_gpufem_5D53_VV.tif\n",
      "\n",
      "Dataset/bang_NE/RTC_GAMMA/S1A_IW_20190402T120439_DVP_RTC30_G_gpufem_0364/S1A_IW_20190402T120439_DVP_RTC30_G_gpufem_0364_VV.tif\n",
      "\n",
      "Dataset/bang_NE/RTC_GAMMA/S1A_IW_20191011T120448_DVP_RTC30_G_gpufem_DF64/S1A_IW_20191011T120448_DVP_RTC30_G_gpufem_DF64_VV.tif\n",
      "\n",
      "Dataset/bang_NE/RTC_GAMMA/S1A_IW_20200327T120445_DVP_RTC30_G_gpufem_F7B4/S1A_IW_20200327T120445_DVP_RTC30_G_gpufem_F7B4_VV.tif\n",
      "\n",
      "Dataset/bang_NE/RTC_GAMMA/S1A_IW_20191104T120448_DVP_RTC30_G_gpufem_247C/S1A_IW_20191104T120448_DVP_RTC30_G_gpufem_247C_VV.tif\n",
      "\n",
      "Dataset/bang_NE/RTC_GAMMA/S1A_IW_20221112T120506_DVP_RTC30_G_gpufem_B3C9/S1A_IW_20221112T120506_DVP_RTC30_G_gpufem_B3C9_VV.tif\n",
      "\n",
      "Dataset/bang_NE/RTC_GAMMA/S1A_IW_20210226T120450_DVP_RTC30_G_gpufem_EBFB/S1A_IW_20210226T120450_DVP_RTC30_G_gpufem_EBFB_VV.tif\n",
      "\n",
      "Dataset/bang_NE/RTC_GAMMA/S1A_IW_20200830T120453_DVP_RTC30_G_gpufem_7018/S1A_IW_20200830T120453_DVP_RTC30_G_gpufem_7018_VV.tif\n",
      "\n",
      "Dataset/bang_NE/RTC_GAMMA/S1A_IW_20231002T120511_DVP_RTC30_G_gpufem_7D8B/S1A_IW_20231002T120511_DVP_RTC30_G_gpufem_7D8B_VV.tif\n",
      "\n",
      "Dataset/bang_NE/RTC_GAMMA/S1A_IW_20210602T120454_DVP_RTC30_G_gpufem_015F/S1A_IW_20210602T120454_DVP_RTC30_G_gpufem_015F_VV.tif\n",
      "\n",
      "Dataset/bang_NE/RTC_GAMMA/S1A_IW_20220820T120505_DVP_RTC30_G_gpufem_E99A/S1A_IW_20220820T120505_DVP_RTC30_G_gpufem_E99A_VV.tif\n",
      "\n",
      "Dataset/bang_NE/RTC_GAMMA/S1A_IW_20230228T120502_DVP_RTC30_G_gpufem_F61C/S1A_IW_20230228T120502_DVP_RTC30_G_gpufem_F61C_VV.tif\n",
      "\n"
     ]
    }
   ],
   "source": [
    "if rtc:\n",
    "    print_product_paths(product_paths)"
   ]
  },
  {
   "cell_type": "markdown",
   "metadata": {},
   "source": [
    "**Merge all the DEMs into one (overlapping data should be the same because they are all from COP30)**"
   ]
  },
  {
   "cell_type": "code",
   "execution_count": 76,
   "metadata": {},
   "outputs": [],
   "source": [
    "# List of DEM file paths\n",
    "dem_paths\n",
    "\n",
    "# List to store the opened DEM datasets\n",
    "datasets = []\n",
    "\n",
    "# Open each DEM dataset and add it to the list\n",
    "for file in dem_paths:\n",
    "    dataset = rasterio.open(file)\n",
    "    datasets.append(dataset)\n",
    "\n",
    "# Merge the DEM datasets\n",
    "merged, out_transform = merge(datasets)"
   ]
  },
  {
   "cell_type": "markdown",
   "metadata": {},
   "source": [
    "**Move all remaining unmerged tiffs into the output directory, and choose whether to save or delete the directory holding the remaining downloaded product files. AutoRIFT NetCDFs will remain in their original directory:**"
   ]
  },
  {
   "cell_type": "code",
   "execution_count": 77,
   "metadata": {},
   "outputs": [
    {
     "name": "stdout",
     "output_type": "stream",
     "text": [
      "Do you wish to save or delete the directory containing auxiliary product files?\n"
     ]
    },
    {
     "data": {
      "application/vnd.jupyter.widget-view+json": {
       "model_id": "b6bd40fb71784d099ac66a0d72204b5f",
       "version_major": 2,
       "version_minor": 0
      },
      "text/plain": [
       "RadioButtons(layout=Layout(min_width='800px'), options=('save', 'delete'), value='save')"
      ]
     },
     "metadata": {},
     "output_type": "display_data"
    }
   ],
   "source": [
    "if not autorift:\n",
    "    choices = ['save', 'delete']\n",
    "    print(\"Do you wish to save or delete the directory containing auxiliary product files?\")\n",
    "else:\n",
    "    choices = []\n",
    "save_or_del = asfn.select_parameter(choices)\n",
    "save_or_del"
   ]
  },
  {
   "cell_type": "code",
   "execution_count": 78,
   "metadata": {},
   "outputs": [
    {
     "data": {
      "text/plain": [
       "[PosixPath('Dataset/bang_NE/RTC_GAMMA/S1A_IW_20240118T120507_DVR_RTC30_G_gpufem_CF32/S1A_IW_20240118T120507_DVR_RTC30_G_gpufem_CF32_VV.tif'),\n",
       " PosixPath('Dataset/bang_NE/RTC_GAMMA/S1A_IW_20210918T120500_DVP_RTC30_G_gpufem_6F10/S1A_IW_20210918T120500_DVP_RTC30_G_gpufem_6F10_VV.tif'),\n",
       " PosixPath('Dataset/bang_NE/RTC_GAMMA/S1A_IW_20220329T120456_DVP_RTC30_G_gpufem_DA96/S1A_IW_20220329T120456_DVP_RTC30_G_gpufem_DA96_VV.tif'),\n",
       " PosixPath('Dataset/bang_NE/RTC_GAMMA/S1A_IW_20201110T120454_DVP_RTC30_G_gpufem_B939/S1A_IW_20201110T120454_DVP_RTC30_G_gpufem_B939_VV.tif'),\n",
       " PosixPath('Dataset/bang_NE/RTC_GAMMA/S1A_IW_20240130T120507_DVR_RTC30_G_gpufem_811D/S1A_IW_20240130T120507_DVR_RTC30_G_gpufem_811D_VV.tif'),\n",
       " PosixPath('Dataset/bang_NE/RTC_GAMMA/S1A_IW_20201005T120454_DVP_RTC30_G_gpufem_37D1/S1A_IW_20201005T120454_DVP_RTC30_G_gpufem_37D1_VV.tif'),\n",
       " PosixPath('Dataset/bang_NE/RTC_GAMMA/S1A_IW_20230815T120509_DVP_RTC30_G_gpufem_F226/S1A_IW_20230815T120509_DVP_RTC30_G_gpufem_F226_VV.tif'),\n",
       " PosixPath('Dataset/bang_NE/RTC_GAMMA/S1A_IW_20200502T120446_DVP_RTC30_G_gpufem_D75F/S1A_IW_20200502T120446_DVP_RTC30_G_gpufem_D75F_VV.tif'),\n",
       " PosixPath('Dataset/bang_NE/RTC_GAMMA/S1A_IW_20200725T120451_DVP_RTC30_G_gpufem_82EC/S1A_IW_20200725T120451_DVP_RTC30_G_gpufem_82EC_VV.tif'),\n",
       " PosixPath('Dataset/bang_NE/RTC_GAMMA/S1A_IW_20201029T120454_DVP_RTC30_G_gpufem_B897/S1A_IW_20201029T120454_DVP_RTC30_G_gpufem_B897_VV.tif'),\n",
       " PosixPath('Dataset/bang_NE/RTC_GAMMA/S1A_IW_20210720T120457_DVP_RTC30_G_gpufem_A86B/S1A_IW_20210720T120457_DVP_RTC30_G_gpufem_A86B_VV.tif'),\n",
       " PosixPath('Dataset/bang_NE/RTC_GAMMA/S1A_IW_20230616T120506_DVP_RTC30_G_gpufem_31DE/S1A_IW_20230616T120506_DVP_RTC30_G_gpufem_31DE_VV.tif'),\n",
       " PosixPath('Dataset/bang_NE/RTC_GAMMA/S1A_IW_20210930T120500_DVP_RTC30_G_gpufem_529E/S1A_IW_20210930T120500_DVP_RTC30_G_gpufem_529E_VV.tif'),\n",
       " PosixPath('Dataset/bang_NE/RTC_GAMMA/S1A_IW_20231026T120511_DVP_RTC30_G_gpufem_5D5C/S1A_IW_20231026T120511_DVP_RTC30_G_gpufem_5D5C_VV.tif'),\n",
       " PosixPath('Dataset/bang_NE/RTC_GAMMA/S1A_IW_20220305T120456_DVP_RTC30_G_gpufem_ADD2/S1A_IW_20220305T120456_DVP_RTC30_G_gpufem_ADD2_VV.tif'),\n",
       " PosixPath('Dataset/bang_NE/RTC_GAMMA/S1A_IW_20210521T120453_DVP_RTC30_G_gpufem_AEEC/S1A_IW_20210521T120453_DVP_RTC30_G_gpufem_AEEC_VV.tif'),\n",
       " PosixPath('Dataset/bang_NE/RTC_GAMMA/S1A_IW_20210813T120458_DVP_RTC30_G_gpufem_73D9/S1A_IW_20210813T120458_DVP_RTC30_G_gpufem_73D9_VV.tif'),\n",
       " PosixPath('Dataset/bang_NE/RTC_GAMMA/S1A_IW_20220221T120456_DVP_RTC30_G_gpufem_A40A/S1A_IW_20220221T120456_DVP_RTC30_G_gpufem_A40A_VV.tif'),\n",
       " PosixPath('Dataset/bang_NE/RTC_GAMMA/S1A_IW_20230523T120504_DVP_RTC30_G_gpufem_38EE/S1A_IW_20230523T120504_DVP_RTC30_G_gpufem_38EE_VV.tif'),\n",
       " PosixPath('Dataset/bang_NE/RTC_GAMMA/S1A_IW_20201122T120454_DVP_RTC30_G_gpufem_F692/S1A_IW_20201122T120454_DVP_RTC30_G_gpufem_F692_VV.tif'),\n",
       " PosixPath('Dataset/bang_NE/RTC_GAMMA/S1A_IW_20190201T120439_DVP_RTC30_G_gpufem_5EF2/S1A_IW_20190201T120439_DVP_RTC30_G_gpufem_5EF2_VV.tif'),\n",
       " PosixPath('Dataset/bang_NE/RTC_GAMMA/S1A_IW_20191023T120448_DVP_RTC30_G_gpufem_A9AA/S1A_IW_20191023T120448_DVP_RTC30_G_gpufem_A9AA_VV.tif'),\n",
       " PosixPath('Dataset/bang_NE/RTC_GAMMA/S1A_IW_20190601T120441_DVP_RTC30_G_gpufem_6710/S1A_IW_20190601T120441_DVP_RTC30_G_gpufem_6710_VV.tif'),\n",
       " PosixPath('Dataset/bang_NE/RTC_GAMMA/S1A_IW_20200420T120445_DVP_RTC30_G_gpufem_6689/S1A_IW_20200420T120445_DVP_RTC30_G_gpufem_6689_VV.tif'),\n",
       " PosixPath('Dataset/bang_NE/RTC_GAMMA/S1A_IW_20210801T120457_DVP_RTC30_G_gpufem_D150/S1A_IW_20210801T120457_DVP_RTC30_G_gpufem_D150_VV.tif'),\n",
       " PosixPath('Dataset/bang_NE/RTC_GAMMA/S1A_IW_20231213T120510_DVP_RTC30_G_gpufem_922F/S1A_IW_20231213T120510_DVP_RTC30_G_gpufem_922F_VV.tif'),\n",
       " PosixPath('Dataset/bang_NE/RTC_GAMMA/S1A_IW_20200514T120447_DVP_RTC30_G_gpufem_644F/S1A_IW_20200514T120447_DVP_RTC30_G_gpufem_644F_VV.tif'),\n",
       " PosixPath('Dataset/bang_NE/RTC_GAMMA/S1A_IW_20211012T120500_DVP_RTC30_G_gpufem_6C16/S1A_IW_20211012T120500_DVP_RTC30_G_gpufem_6C16_VV.tif'),\n",
       " PosixPath('Dataset/bang_NE/RTC_GAMMA/S1A_IW_20191128T120447_DVP_RTC30_G_gpufem_F1A1/S1A_IW_20191128T120447_DVP_RTC30_G_gpufem_F1A1_VV.tif'),\n",
       " PosixPath('Dataset/bang_NE/RTC_GAMMA/S1A_IW_20190426T120440_DVP_RTC30_G_gpufem_34EB/S1A_IW_20190426T120440_DVP_RTC30_G_gpufem_34EB_VV.tif'),\n",
       " PosixPath('Dataset/bang_NE/RTC_GAMMA/S1A_IW_20211024T120500_DVP_RTC30_G_gpufem_0BE0/S1A_IW_20211024T120500_DVP_RTC30_G_gpufem_0BE0_VV.tif'),\n",
       " PosixPath('Dataset/bang_NE/RTC_GAMMA/S1A_IW_20200127T120445_DVP_RTC30_G_gpufem_5E3A/S1A_IW_20200127T120445_DVP_RTC30_G_gpufem_5E3A_VV.tif'),\n",
       " PosixPath('Dataset/bang_NE/RTC_GAMMA/S1A_IW_20201228T120452_DVP_RTC30_G_gpufem_9EF3/S1A_IW_20201228T120452_DVP_RTC30_G_gpufem_9EF3_VV.tif'),\n",
       " PosixPath('Dataset/bang_NE/RTC_GAMMA/S1A_IW_20200103T120446_DVP_RTC30_G_gpufem_DBED/S1A_IW_20200103T120446_DVP_RTC30_G_gpufem_DBED_VV.tif'),\n",
       " PosixPath('Dataset/bang_NE/RTC_GAMMA/S1A_IW_20211105T120500_DVP_RTC30_G_gpufem_FA5C/S1A_IW_20211105T120500_DVP_RTC30_G_gpufem_FA5C_VV.tif'),\n",
       " PosixPath('Dataset/bang_NE/RTC_GAMMA/S1A_IW_20231119T120510_DVP_RTC30_G_gpufem_FA28/S1A_IW_20231119T120510_DVP_RTC30_G_gpufem_FA28_VV.tif'),\n",
       " PosixPath('Dataset/bang_NE/RTC_GAMMA/S1A_IW_20210403T120451_DVP_RTC30_G_gpufem_3410/S1A_IW_20210403T120451_DVP_RTC30_G_gpufem_3410_VV.tif'),\n",
       " PosixPath('Dataset/bang_NE/RTC_GAMMA/S1A_IW_20221218T120504_DVP_RTC30_G_gpufem_047C/S1A_IW_20221218T120504_DVP_RTC30_G_gpufem_047C_VV.tif'),\n",
       " PosixPath('Dataset/bang_NE/RTC_GAMMA/S1A_IW_20190905T120447_DVP_RTC30_G_gpufem_AF79/S1A_IW_20190905T120447_DVP_RTC30_G_gpufem_AF79_VV.tif'),\n",
       " PosixPath('Dataset/bang_NE/RTC_GAMMA/S1A_IW_20210415T120451_DVP_RTC30_G_gpufem_756D/S1A_IW_20210415T120451_DVP_RTC30_G_gpufem_756D_VV.tif'),\n",
       " PosixPath('Dataset/bang_NE/RTC_GAMMA/S1A_IW_20210906T120459_DVP_RTC30_G_gpufem_B3A8/S1A_IW_20210906T120459_DVP_RTC30_G_gpufem_B3A8_VV.tif'),\n",
       " PosixPath('Dataset/bang_NE/RTC_GAMMA/S1A_IW_20220621T120501_DVP_RTC30_G_gpufem_22C3/S1A_IW_20220621T120501_DVP_RTC30_G_gpufem_22C3_VV.tif'),\n",
       " PosixPath('Dataset/bang_NE/RTC_GAMMA/S1A_IW_20211117T120500_DVP_RTC30_G_gpufem_D07B/S1A_IW_20211117T120500_DVP_RTC30_G_gpufem_D07B_VV.tif'),\n",
       " PosixPath('Dataset/bang_NE/RTC_GAMMA/S1A_IW_20230312T120502_DVP_RTC30_G_gpufem_DFDC/S1A_IW_20230312T120502_DVP_RTC30_G_gpufem_DFDC_VV.tif'),\n",
       " PosixPath('Dataset/bang_NE/RTC_GAMMA/S1A_IW_20200713T120450_DVP_RTC30_G_gpufem_6EB6/S1A_IW_20200713T120450_DVP_RTC30_G_gpufem_6EB6_VV.tif'),\n",
       " PosixPath('Dataset/bang_NE/RTC_GAMMA/S1A_IW_20230628T120506_DVP_RTC30_G_gpufem_61AB/S1A_IW_20230628T120506_DVP_RTC30_G_gpufem_61AB_VV.tif'),\n",
       " PosixPath('Dataset/bang_NE/RTC_GAMMA/S1A_IW_20230827T120510_DVP_RTC30_G_gpufem_9BF7/S1A_IW_20230827T120510_DVP_RTC30_G_gpufem_9BF7_VV.tif'),\n",
       " PosixPath('Dataset/bang_NE/RTC_GAMMA/S1A_IW_20190812T120446_DVP_RTC30_G_gpufem_0255/S1A_IW_20190812T120446_DVP_RTC30_G_gpufem_0255_VV.tif'),\n",
       " PosixPath('Dataset/bang_NE/RTC_GAMMA/S1A_IW_20190520T120441_DVP_RTC30_G_gpufem_9589/S1A_IW_20190520T120441_DVP_RTC30_G_gpufem_9589_VV.tif'),\n",
       " PosixPath('Dataset/bang_NE/RTC_GAMMA/S1A_IW_20210427T120452_DVP_RTC30_G_gpufem_D07E/S1A_IW_20210427T120452_DVP_RTC30_G_gpufem_D07E_VV.tif'),\n",
       " PosixPath('Dataset/bang_NE/RTC_GAMMA/S1A_IW_20221031T120506_DVP_RTC30_G_gpufem_48E8/S1A_IW_20221031T120506_DVP_RTC30_G_gpufem_48E8_VV.tif'),\n",
       " PosixPath('Dataset/bang_NE/RTC_GAMMA/S1A_IW_20230204T120502_DVP_RTC30_G_gpufem_BCD7/S1A_IW_20230204T120502_DVP_RTC30_G_gpufem_BCD7_VV.tif'),\n",
       " PosixPath('Dataset/bang_NE/RTC_GAMMA/S1A_IW_20230324T120502_DVP_RTC30_G_gpufem_0936/S1A_IW_20230324T120502_DVP_RTC30_G_gpufem_0936_VV.tif'),\n",
       " PosixPath('Dataset/bang_NE/RTC_GAMMA/S1A_IW_20230803T120509_DVP_RTC30_G_gpufem_C31F/S1A_IW_20230803T120509_DVP_RTC30_G_gpufem_C31F_VV.tif'),\n",
       " PosixPath('Dataset/bang_NE/RTC_GAMMA/S1A_IW_20231225T120509_DVP_RTC30_G_gpufem_C6D6/S1A_IW_20231225T120509_DVP_RTC30_G_gpufem_C6D6_VV.tif'),\n",
       " PosixPath('Dataset/bang_NE/RTC_GAMMA/S1A_IW_20221124T120506_DVP_RTC30_G_gpufem_82A1/S1A_IW_20221124T120506_DVP_RTC30_G_gpufem_82A1_VV.tif'),\n",
       " PosixPath('Dataset/bang_NE/RTC_GAMMA/S1A_IW_20200923T120454_DVP_RTC30_G_gpufem_2891/S1A_IW_20200923T120454_DVP_RTC30_G_gpufem_2891_VV.tif'),\n",
       " PosixPath('Dataset/bang_NE/RTC_GAMMA/S1A_IW_20190309T120438_DVP_RTC30_G_gpufem_4755/S1A_IW_20190309T120438_DVP_RTC30_G_gpufem_4755_VV.tif'),\n",
       " PosixPath('Dataset/bang_NE/RTC_GAMMA/S1A_IW_20231201T120510_DVP_RTC30_G_gpufem_EEBC/S1A_IW_20231201T120510_DVP_RTC30_G_gpufem_EEBC_VV.tif'),\n",
       " PosixPath('Dataset/bang_NE/RTC_GAMMA/S1A_IW_20210109T120452_DVP_RTC30_G_gpufem_5E7C/S1A_IW_20210109T120452_DVP_RTC30_G_gpufem_5E7C_VV.tif'),\n",
       " PosixPath('Dataset/bang_NE/RTC_GAMMA/S1A_IW_20230920T120511_DVP_RTC30_G_gpufem_24F3/S1A_IW_20230920T120511_DVP_RTC30_G_gpufem_24F3_VV.tif'),\n",
       " PosixPath('Dataset/bang_NE/RTC_GAMMA/S1A_IW_20210825T120459_DVP_RTC30_G_gpufem_A04F/S1A_IW_20210825T120459_DVP_RTC30_G_gpufem_A04F_VV.tif'),\n",
       " PosixPath('Dataset/bang_NE/RTC_GAMMA/S1A_IW_20190929T120448_DVP_RTC30_G_gpufem_0BC5/S1A_IW_20190929T120448_DVP_RTC30_G_gpufem_0BC5_VV.tif'),\n",
       " PosixPath('Dataset/bang_NE/RTC_GAMMA/S1A_IW_20211129T120459_DVP_RTC30_G_gpufem_E269/S1A_IW_20211129T120459_DVP_RTC30_G_gpufem_E269_VV.tif'),\n",
       " PosixPath('Dataset/bang_NE/RTC_GAMMA/S1A_IW_20220128T120456_DVP_RTC30_G_gpufem_EC1C/S1A_IW_20220128T120456_DVP_RTC30_G_gpufem_EC1C_VV.tif'),\n",
       " PosixPath('Dataset/bang_NE/RTC_GAMMA/S1A_IW_20220209T120456_DVP_RTC30_G_gpufem_1037/S1A_IW_20220209T120456_DVP_RTC30_G_gpufem_1037_VV.tif'),\n",
       " PosixPath('Dataset/bang_NE/RTC_GAMMA/S1A_IW_20230604T120505_DVP_RTC30_G_gpufem_F98E/S1A_IW_20230604T120505_DVP_RTC30_G_gpufem_F98E_VV.tif'),\n",
       " PosixPath('Dataset/bang_NE/RTC_GAMMA/S1A_IW_20190731T120445_DVP_RTC30_G_gpufem_3C5A/S1A_IW_20190731T120445_DVP_RTC30_G_gpufem_3C5A_VV.tif'),\n",
       " PosixPath('Dataset/bang_NE/RTC_GAMMA/S1A_IW_20200408T120445_DVP_RTC30_G_gpufem_3D72/S1A_IW_20200408T120445_DVP_RTC30_G_gpufem_3D72_VV.tif'),\n",
       " PosixPath('Dataset/bang_NE/RTC_GAMMA/S1A_IW_20211211T120459_DVP_RTC30_G_gpufem_3B81/S1A_IW_20211211T120459_DVP_RTC30_G_gpufem_3B81_VV.tif'),\n",
       " PosixPath('Dataset/bang_NE/RTC_GAMMA/S1A_IW_20190719T120444_DVP_RTC30_G_gpufem_DAFE/S1A_IW_20190719T120444_DVP_RTC30_G_gpufem_DAFE_VV.tif'),\n",
       " PosixPath('Dataset/bang_NE/RTC_GAMMA/S1A_IW_20230417T120503_DVP_RTC30_G_gpufem_85D7/S1A_IW_20230417T120503_DVP_RTC30_G_gpufem_85D7_VV.tif'),\n",
       " PosixPath('Dataset/bang_NE/RTC_GAMMA/S1A_IW_20200607T120448_DVP_RTC30_G_gpufem_05E8/S1A_IW_20200607T120448_DVP_RTC30_G_gpufem_05E8_VV.tif'),\n",
       " PosixPath('Dataset/bang_NE/RTC_GAMMA/S1A_IW_20220422T120457_DVP_RTC30_G_gpufem_D66B/S1A_IW_20220422T120457_DVP_RTC30_G_gpufem_D66B_VV.tif'),\n",
       " PosixPath('Dataset/bang_NE/RTC_GAMMA/S1A_IW_20201204T120453_DVP_RTC30_G_gpufem_CE47/S1A_IW_20201204T120453_DVP_RTC30_G_gpufem_CE47_VV.tif'),\n",
       " PosixPath('Dataset/bang_NE/RTC_GAMMA/S1A_IW_20190414T120439_DVP_RTC30_G_gpufem_81C6/S1A_IW_20190414T120439_DVP_RTC30_G_gpufem_81C6_VV.tif'),\n",
       " PosixPath('Dataset/bang_NE/RTC_GAMMA/S1A_IW_20211223T120458_DVP_RTC30_G_gpufem_6524/S1A_IW_20211223T120458_DVP_RTC30_G_gpufem_6524_VV.tif'),\n",
       " PosixPath('Dataset/bang_NE/RTC_GAMMA/S1A_IW_20201017T120454_DVP_RTC30_G_gpufem_6556/S1A_IW_20201017T120454_DVP_RTC30_G_gpufem_6556_VV.tif'),\n",
       " PosixPath('Dataset/bang_NE/RTC_GAMMA/S1A_IW_20230722T120508_DVP_RTC30_G_gpufem_3E39/S1A_IW_20230722T120508_DVP_RTC30_G_gpufem_3E39_VV.tif'),\n",
       " PosixPath('Dataset/bang_NE/RTC_GAMMA/S1A_IW_20190321T120438_DVP_RTC30_G_gpufem_73AE/S1A_IW_20190321T120438_DVP_RTC30_G_gpufem_73AE_VV.tif'),\n",
       " PosixPath('Dataset/bang_NE/RTC_GAMMA/S1A_IW_20200619T120449_DVP_RTC30_G_gpufem_3C15/S1A_IW_20200619T120449_DVP_RTC30_G_gpufem_3C15_VV.tif'),\n",
       " PosixPath('Dataset/bang_NE/RTC_GAMMA/S1A_IW_20210322T120450_DVP_RTC30_G_gpufem_9E55/S1A_IW_20210322T120450_DVP_RTC30_G_gpufem_9E55_VV.tif'),\n",
       " PosixPath('Dataset/bang_NE/RTC_GAMMA/S1A_IW_20200208T120445_DVP_RTC30_G_gpufem_A8A8/S1A_IW_20200208T120445_DVP_RTC30_G_gpufem_A8A8_VV.tif'),\n",
       " PosixPath('Dataset/bang_NE/RTC_GAMMA/S1A_IW_20190824T120446_DVP_RTC30_G_gpufem_4CCB/S1A_IW_20190824T120446_DVP_RTC30_G_gpufem_4CCB_VV.tif'),\n",
       " PosixPath('Dataset/bang_NE/RTC_GAMMA/S1A_IW_20220925T120505_DVP_RTC30_G_gpufem_3F46/S1A_IW_20220925T120505_DVP_RTC30_G_gpufem_3F46_VV.tif'),\n",
       " PosixPath('Dataset/bang_NE/RTC_GAMMA/S1A_IW_20230216T120502_DVP_RTC30_G_gpufem_72B7/S1A_IW_20230216T120502_DVP_RTC30_G_gpufem_72B7_VV.tif'),\n",
       " PosixPath('Dataset/bang_NE/RTC_GAMMA/S1A_IW_20191116T120448_DVP_RTC30_G_gpufem_C1C6/S1A_IW_20191116T120448_DVP_RTC30_G_gpufem_C1C6_VV.tif'),\n",
       " PosixPath('Dataset/bang_NE/RTC_GAMMA/S1A_IW_20230123T120503_DVP_RTC30_G_gpufem_F9EA/S1A_IW_20230123T120503_DVP_RTC30_G_gpufem_F9EA_VV.tif'),\n",
       " PosixPath('Dataset/bang_NE/RTC_GAMMA/S1A_IW_20190613T120442_DVP_RTC30_G_gpufem_FC73/S1A_IW_20190613T120442_DVP_RTC30_G_gpufem_FC73_VV.tif'),\n",
       " PosixPath('Dataset/bang_NE/RTC_GAMMA/S1A_IW_20200701T120449_DVP_RTC30_G_gpufem_E709/S1A_IW_20200701T120449_DVP_RTC30_G_gpufem_E709_VV.tif'),\n",
       " PosixPath('Dataset/bang_NE/RTC_GAMMA/S1A_IW_20210708T120456_DVP_RTC30_G_gpufem_9048/S1A_IW_20210708T120456_DVP_RTC30_G_gpufem_9048_VV.tif'),\n",
       " PosixPath('Dataset/bang_NE/RTC_GAMMA/S1A_IW_20210509T120452_DVP_RTC30_G_gpufem_487B/S1A_IW_20210509T120452_DVP_RTC30_G_gpufem_487B_VV.tif'),\n",
       " PosixPath('Dataset/bang_NE/RTC_GAMMA/S1A_IW_20190108T120439_DVP_RTC30_G_gpufem_8BD9/S1A_IW_20190108T120439_DVP_RTC30_G_gpufem_8BD9_VV.tif'),\n",
       " PosixPath('Dataset/bang_NE/RTC_GAMMA/S1A_IW_20240106T120508_DVP_RTC30_G_gpufem_887D/S1A_IW_20240106T120508_DVP_RTC30_G_gpufem_887D_VV.tif'),\n",
       " PosixPath('Dataset/bang_NE/RTC_GAMMA/S1A_IW_20210121T120451_DVP_RTC30_G_gpufem_DB2A/S1A_IW_20210121T120451_DVP_RTC30_G_gpufem_DB2A_VV.tif'),\n",
       " PosixPath('Dataset/bang_NE/RTC_GAMMA/S1A_IW_20190213T120438_DVP_RTC30_G_gpufem_CA11/S1A_IW_20190213T120438_DVP_RTC30_G_gpufem_CA11_VV.tif'),\n",
       " PosixPath('Dataset/bang_NE/RTC_GAMMA/S1A_IW_20210614T120455_DVP_RTC30_G_gpufem_7735/S1A_IW_20210614T120455_DVP_RTC30_G_gpufem_7735_VV.tif'),\n",
       " PosixPath('Dataset/bang_NE/RTC_GAMMA/S1A_IW_20190707T120443_DVP_RTC30_G_gpufem_F5B7/S1A_IW_20190707T120443_DVP_RTC30_G_gpufem_F5B7_VV.tif'),\n",
       " PosixPath('Dataset/bang_NE/RTC_GAMMA/S1A_IW_20230111T120503_DVP_RTC30_G_gpufem_4C33/S1A_IW_20230111T120503_DVP_RTC30_G_gpufem_4C33_VV.tif'),\n",
       " PosixPath('Dataset/bang_NE/RTC_GAMMA/S1A_IW_20210202T120451_DVP_RTC30_G_gpufem_A277/S1A_IW_20210202T120451_DVP_RTC30_G_gpufem_A277_VV.tif'),\n",
       " PosixPath('Dataset/bang_NE/RTC_GAMMA/S1A_IW_20230429T120503_DVP_RTC30_G_gpufem_436F/S1A_IW_20230429T120503_DVP_RTC30_G_gpufem_436F_VV.tif'),\n",
       " PosixPath('Dataset/bang_NE/RTC_GAMMA/S1A_IW_20190120T120439_DVP_RTC30_G_gpufem_97E2/S1A_IW_20190120T120439_DVP_RTC30_G_gpufem_97E2_VV.tif'),\n",
       " PosixPath('Dataset/bang_NE/RTC_GAMMA/S1A_IW_20210214T120450_DVP_RTC30_G_gpufem_2A53/S1A_IW_20210214T120450_DVP_RTC30_G_gpufem_2A53_VV.tif'),\n",
       " PosixPath('Dataset/bang_NE/RTC_GAMMA/S1A_IW_20190625T120442_DVP_RTC30_G_gpufem_26C2/S1A_IW_20190625T120442_DVP_RTC30_G_gpufem_26C2_VV.tif'),\n",
       " PosixPath('Dataset/bang_NE/RTC_GAMMA/S1A_IW_20230908T120510_DVP_RTC30_G_gpufem_A857/S1A_IW_20230908T120510_DVP_RTC30_G_gpufem_A857_VV.tif'),\n",
       " PosixPath('Dataset/bang_NE/RTC_GAMMA/S1A_IW_20200818T120452_DVP_RTC30_G_gpufem_362D/S1A_IW_20200818T120452_DVP_RTC30_G_gpufem_362D_VV.tif'),\n",
       " PosixPath('Dataset/bang_NE/RTC_GAMMA/S1A_IW_20221230T120504_DVP_RTC30_G_gpufem_2CC1/S1A_IW_20221230T120504_DVP_RTC30_G_gpufem_2CC1_VV.tif'),\n",
       " PosixPath('Dataset/bang_NE/RTC_GAMMA/S1A_IW_20221019T120506_DVP_RTC30_G_gpufem_2D94/S1A_IW_20221019T120506_DVP_RTC30_G_gpufem_2D94_VV.tif'),\n",
       " PosixPath('Dataset/bang_NE/RTC_GAMMA/S1A_IW_20231107T120510_DVP_RTC30_G_gpufem_EA92/S1A_IW_20231107T120510_DVP_RTC30_G_gpufem_EA92_VV.tif'),\n",
       " PosixPath('Dataset/bang_NE/RTC_GAMMA/S1A_IW_20221206T120505_DVP_RTC30_G_gpufem_DECC/S1A_IW_20221206T120505_DVP_RTC30_G_gpufem_DECC_VV.tif'),\n",
       " PosixPath('Dataset/bang_NE/RTC_GAMMA/S1A_IW_20200315T120445_DVP_RTC30_G_gpufem_C860/S1A_IW_20200315T120445_DVP_RTC30_G_gpufem_C860_VV.tif'),\n",
       " PosixPath('Dataset/bang_NE/RTC_GAMMA/S1A_IW_20230511T120504_DVP_RTC30_G_gpufem_CBE8/S1A_IW_20230511T120504_DVP_RTC30_G_gpufem_CBE8_VV.tif'),\n",
       " PosixPath('Dataset/bang_NE/RTC_GAMMA/S1A_IW_20220913T120506_DVP_RTC30_G_gpufem_FB4E/S1A_IW_20220913T120506_DVP_RTC30_G_gpufem_FB4E_VV.tif'),\n",
       " PosixPath('Dataset/bang_NE/RTC_GAMMA/S1A_IW_20220104T120457_DVP_RTC30_G_gpufem_F4B3/S1A_IW_20220104T120457_DVP_RTC30_G_gpufem_F4B3_VV.tif'),\n",
       " PosixPath('Dataset/bang_NE/RTC_GAMMA/S1A_IW_20200303T120444_DVP_RTC30_G_gpufem_BAB5/S1A_IW_20200303T120444_DVP_RTC30_G_gpufem_BAB5_VV.tif'),\n",
       " PosixPath('Dataset/bang_NE/RTC_GAMMA/S1A_IW_20231014T120511_DVP_RTC30_G_gpufem_D171/S1A_IW_20231014T120511_DVP_RTC30_G_gpufem_D171_VV.tif'),\n",
       " PosixPath('Dataset/bang_NE/RTC_GAMMA/S1A_IW_20220504T120457_DVP_RTC30_G_gpufem_9B0C/S1A_IW_20220504T120457_DVP_RTC30_G_gpufem_9B0C_VV.tif'),\n",
       " PosixPath('Dataset/bang_NE/RTC_GAMMA/S1A_IW_20210310T120450_DVP_RTC30_G_gpufem_9E13/S1A_IW_20210310T120450_DVP_RTC30_G_gpufem_9E13_VV.tif'),\n",
       " PosixPath('Dataset/bang_NE/RTC_GAMMA/S1A_IW_20190508T120440_DVP_RTC30_G_gpufem_34D2/S1A_IW_20190508T120440_DVP_RTC30_G_gpufem_34D2_VV.tif'),\n",
       " PosixPath('Dataset/bang_NE/RTC_GAMMA/S1A_IW_20200806T120452_DVP_RTC30_G_gpufem_34F8/S1A_IW_20200806T120452_DVP_RTC30_G_gpufem_34F8_VV.tif'),\n",
       " PosixPath('Dataset/bang_NE/RTC_GAMMA/S1A_IW_20191222T120446_DVP_RTC30_G_gpufem_E4A8/S1A_IW_20191222T120446_DVP_RTC30_G_gpufem_E4A8_VV.tif'),\n",
       " PosixPath('Dataset/bang_NE/RTC_GAMMA/S1A_IW_20200115T120445_DVP_RTC30_G_gpufem_43F5/S1A_IW_20200115T120445_DVP_RTC30_G_gpufem_43F5_VV.tif'),\n",
       " PosixPath('Dataset/bang_NE/RTC_GAMMA/S1A_IW_20220901T120505_DVP_RTC30_G_gpufem_6D92/S1A_IW_20220901T120505_DVP_RTC30_G_gpufem_6D92_VV.tif'),\n",
       " PosixPath('Dataset/bang_NE/RTC_GAMMA/S1A_IW_20191210T120447_DVP_RTC30_G_gpufem_CEB6/S1A_IW_20191210T120447_DVP_RTC30_G_gpufem_CEB6_VV.tif'),\n",
       " PosixPath('Dataset/bang_NE/RTC_GAMMA/S1A_IW_20221007T120506_DVP_RTC30_G_gpufem_13ED/S1A_IW_20221007T120506_DVP_RTC30_G_gpufem_13ED_VV.tif'),\n",
       " PosixPath('Dataset/bang_NE/RTC_GAMMA/S1A_IW_20220715T120502_DVP_RTC30_G_gpufem_9F3A/S1A_IW_20220715T120502_DVP_RTC30_G_gpufem_9F3A_VV.tif'),\n",
       " PosixPath('Dataset/bang_NE/RTC_GAMMA/S1A_IW_20220703T120502_DVP_RTC30_G_gpufem_CBC0/S1A_IW_20220703T120502_DVP_RTC30_G_gpufem_CBC0_VV.tif'),\n",
       " PosixPath('Dataset/bang_NE/RTC_GAMMA/S1A_IW_20220528T120459_DVP_RTC30_G_gpufem_DC3E/S1A_IW_20220528T120459_DVP_RTC30_G_gpufem_DC3E_VV.tif'),\n",
       " PosixPath('Dataset/bang_NE/RTC_GAMMA/S1A_IW_20200911T120454_DVP_RTC30_G_gpufem_D603/S1A_IW_20200911T120454_DVP_RTC30_G_gpufem_D603_VV.tif'),\n",
       " PosixPath('Dataset/bang_NE/RTC_GAMMA/S1A_IW_20230710T120507_DVP_RTC30_G_gpufem_95E6/S1A_IW_20230710T120507_DVP_RTC30_G_gpufem_95E6_VV.tif'),\n",
       " PosixPath('Dataset/bang_NE/RTC_GAMMA/S1A_IW_20220516T120458_DVP_RTC30_G_gpufem_3BEB/S1A_IW_20220516T120458_DVP_RTC30_G_gpufem_3BEB_VV.tif'),\n",
       " PosixPath('Dataset/bang_NE/RTC_GAMMA/S1A_IW_20220410T120457_DVP_RTC30_G_gpufem_071D/S1A_IW_20220410T120457_DVP_RTC30_G_gpufem_071D_VV.tif'),\n",
       " PosixPath('Dataset/bang_NE/RTC_GAMMA/S1A_IW_20220317T120456_DVP_RTC30_G_gpufem_2DE1/S1A_IW_20220317T120456_DVP_RTC30_G_gpufem_2DE1_VV.tif'),\n",
       " PosixPath('Dataset/bang_NE/RTC_GAMMA/S1A_IW_20201216T120453_DVP_RTC30_G_gpufem_00FD/S1A_IW_20201216T120453_DVP_RTC30_G_gpufem_00FD_VV.tif'),\n",
       " PosixPath('Dataset/bang_NE/RTC_GAMMA/S1A_IW_20220727T120503_DVP_RTC30_G_gpufem_59AB/S1A_IW_20220727T120503_DVP_RTC30_G_gpufem_59AB_VV.tif'),\n",
       " PosixPath('Dataset/bang_NE/RTC_GAMMA/S1A_IW_20200526T120447_DVP_RTC30_G_gpufem_B478/S1A_IW_20200526T120447_DVP_RTC30_G_gpufem_B478_VV.tif'),\n",
       " PosixPath('Dataset/bang_NE/RTC_GAMMA/S1A_IW_20190225T120438_DVP_RTC30_G_gpufem_C14B/S1A_IW_20190225T120438_DVP_RTC30_G_gpufem_C14B_VV.tif'),\n",
       " PosixPath('Dataset/bang_NE/RTC_GAMMA/S1A_IW_20220808T120504_DVP_RTC30_G_gpufem_04A4/S1A_IW_20220808T120504_DVP_RTC30_G_gpufem_04A4_VV.tif'),\n",
       " PosixPath('Dataset/bang_NE/RTC_GAMMA/S1A_IW_20220116T120457_DVP_RTC30_G_gpufem_4A7F/S1A_IW_20220116T120457_DVP_RTC30_G_gpufem_4A7F_VV.tif'),\n",
       " PosixPath('Dataset/bang_NE/RTC_GAMMA/S1A_IW_20230405T120502_DVP_RTC30_G_gpufem_D3F2/S1A_IW_20230405T120502_DVP_RTC30_G_gpufem_D3F2_VV.tif'),\n",
       " PosixPath('Dataset/bang_NE/RTC_GAMMA/S1A_IW_20220609T120500_DVP_RTC30_G_gpufem_35A6/S1A_IW_20220609T120500_DVP_RTC30_G_gpufem_35A6_VV.tif'),\n",
       " PosixPath('Dataset/bang_NE/RTC_GAMMA/S1A_IW_20200220T120444_DVP_RTC30_G_gpufem_1A88/S1A_IW_20200220T120444_DVP_RTC30_G_gpufem_1A88_VV.tif'),\n",
       " PosixPath('Dataset/bang_NE/RTC_GAMMA/S1A_IW_20210626T120455_DVP_RTC30_G_gpufem_5D53/S1A_IW_20210626T120455_DVP_RTC30_G_gpufem_5D53_VV.tif'),\n",
       " PosixPath('Dataset/bang_NE/RTC_GAMMA/S1A_IW_20190402T120439_DVP_RTC30_G_gpufem_0364/S1A_IW_20190402T120439_DVP_RTC30_G_gpufem_0364_VV.tif'),\n",
       " PosixPath('Dataset/bang_NE/RTC_GAMMA/S1A_IW_20191011T120448_DVP_RTC30_G_gpufem_DF64/S1A_IW_20191011T120448_DVP_RTC30_G_gpufem_DF64_VV.tif'),\n",
       " PosixPath('Dataset/bang_NE/RTC_GAMMA/S1A_IW_20200327T120445_DVP_RTC30_G_gpufem_F7B4/S1A_IW_20200327T120445_DVP_RTC30_G_gpufem_F7B4_VV.tif'),\n",
       " PosixPath('Dataset/bang_NE/RTC_GAMMA/S1A_IW_20191104T120448_DVP_RTC30_G_gpufem_247C/S1A_IW_20191104T120448_DVP_RTC30_G_gpufem_247C_VV.tif'),\n",
       " PosixPath('Dataset/bang_NE/RTC_GAMMA/S1A_IW_20221112T120506_DVP_RTC30_G_gpufem_B3C9/S1A_IW_20221112T120506_DVP_RTC30_G_gpufem_B3C9_VV.tif'),\n",
       " PosixPath('Dataset/bang_NE/RTC_GAMMA/S1A_IW_20210226T120450_DVP_RTC30_G_gpufem_EBFB/S1A_IW_20210226T120450_DVP_RTC30_G_gpufem_EBFB_VV.tif'),\n",
       " PosixPath('Dataset/bang_NE/RTC_GAMMA/S1A_IW_20200830T120453_DVP_RTC30_G_gpufem_7018/S1A_IW_20200830T120453_DVP_RTC30_G_gpufem_7018_VV.tif'),\n",
       " PosixPath('Dataset/bang_NE/RTC_GAMMA/S1A_IW_20231002T120511_DVP_RTC30_G_gpufem_7D8B/S1A_IW_20231002T120511_DVP_RTC30_G_gpufem_7D8B_VV.tif'),\n",
       " PosixPath('Dataset/bang_NE/RTC_GAMMA/S1A_IW_20210602T120454_DVP_RTC30_G_gpufem_015F/S1A_IW_20210602T120454_DVP_RTC30_G_gpufem_015F_VV.tif'),\n",
       " PosixPath('Dataset/bang_NE/RTC_GAMMA/S1A_IW_20220820T120505_DVP_RTC30_G_gpufem_E99A/S1A_IW_20220820T120505_DVP_RTC30_G_gpufem_E99A_VV.tif'),\n",
       " PosixPath('Dataset/bang_NE/RTC_GAMMA/S1A_IW_20230228T120502_DVP_RTC30_G_gpufem_F61C/S1A_IW_20230228T120502_DVP_RTC30_G_gpufem_F61C_VV.tif')]"
      ]
     },
     "execution_count": 78,
     "metadata": {},
     "output_type": "execute_result"
    }
   ],
   "source": [
    "product_paths\n"
   ]
  },
  {
   "cell_type": "code",
   "execution_count": 79,
   "metadata": {},
   "outputs": [],
   "source": [
    "if not autorift:\n",
    "    for tiff in product_paths:\n",
    "        tiff.rename(f\"{output_dir_path_tiffs}/{tiff.name}\")\n",
    "    \n",
    "    # Save the merged DEM\n",
    "    # Define the output file path and metadata\n",
    "    output_file = f\"{output_dir_path_dem}/{name}_merged.tif\"\n",
    "    output_meta = dataset.meta.copy()\n",
    "    output_meta.update({'driver': 'GTiff', 'height': merged.shape[1], 'width': merged.shape[2], 'transform': out_transform})\n",
    "    # Write the merged DEM to the output file\n",
    "    with rasterio.open(output_file, 'w', **output_meta) as dst:\n",
    "        dst.write(merged)\n",
    "    # Close all the opened datasets\n",
    "    for dataset in datasets:\n",
    "        dataset.close()\n",
    "\n",
    "    if save_or_del.value == 'delete':\n",
    "        shutil.rmtree(products_path)\n",
    "    product_paths = get_product_paths(regex, product_pth)"
   ]
  },
  {
   "cell_type": "markdown",
   "metadata": {},
   "source": [
    "**Print the path where you saved your tiffs or NetCDFs.**"
   ]
  },
  {
   "cell_type": "code",
   "execution_count": 80,
   "metadata": {},
   "outputs": [
    {
     "name": "stdout",
     "output_type": "stream",
     "text": [
      "/home/jovyan/hydrosar/Dataset/bang_NE/RTC_GAMMA__tiffs\n"
     ]
    }
   ],
   "source": [
    "if rtc or insar:\n",
    "    print(str(output_dir_path_tiffs))\n",
    "elif autorift:\n",
    "    print(str(products_path))"
   ]
  },
  {
   "cell_type": "markdown",
   "metadata": {
    "pycharm": {
     "name": "#%% md\n"
    }
   },
   "source": [
    "*Prepare_RTC_Stack_HyP3_v2.ipynb - Version 2.0.2 - June 2023*\n",
    "\n",
    "*Version Changes:*\n",
    "- *added dems migration to a folder to be used in HAND*\n",
    "- *fix breaking projectless jobs downloading*"
   ]
  }
 ],
 "metadata": {
  "kernelspec": {
   "display_name": "Python [conda env:.local-hydrosar_rtc_era5]",
   "language": "python",
   "name": "conda-env-.local-hydrosar_rtc_era5-py"
  },
  "language_info": {
   "codemirror_mode": {
    "name": "ipython",
    "version": 3
   },
   "file_extension": ".py",
   "mimetype": "text/x-python",
   "name": "python",
   "nbconvert_exporter": "python",
   "pygments_lexer": "ipython3",
   "version": "3.12.2"
  },
  "toc-autonumbering": true
 },
 "nbformat": 4,
 "nbformat_minor": 4
}
