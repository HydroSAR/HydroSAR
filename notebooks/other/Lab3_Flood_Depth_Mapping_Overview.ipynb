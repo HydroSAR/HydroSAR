{
 "cells": [
  {
   "cell_type": "markdown",
   "metadata": {},
   "source": [
    "<img src=\"https://radar.community.uaf.edu/wp-content/uploads/sites/667/2021/03/HydroSARbanner.jpg\" width=\"100%\" />\n",
    "<font face=\"Calibri\">\n",
    "<br>\n",
    "<font size=\"5\"> <b>Load HyP3 Data for Flood Depth Mapping</b><img style=\"padding: 7px\" src=\"UAFLogo_A_647.png\" width=\"170\" align=\"right\"/></font>\n",
    "\n",
    " <font size=\"4\"> <b> Part of NASA A.37 Project:</b> Integrating SAR Data for Improved Resilience and Response to Weather-Related Disasters   <br>\n",
    "<font size=\"4\"> <b> PI:</b>Franz J. Meyer <br>\n",
    "\n",
    "<br>\n",
    "<font size=\"4\"> <b> Batuhan Osmanoglu, MinJeong Jo; NASA Goddard Space Fligth Center </b> <br>\n",
    "</font>\n",
    "\n",
    "<font size=\"3\"> This notebook uses flood-extent data from an ASF-HyP3 subscription. DEM tiles are extracted and mosaicked to a consistent large-scale product for use in other HydroSAR workflows. Either the production DEM can be used to generate HAND or alternative HAND DEM can be downloaded. Flood depth can be estimated using HAND.  \n",
    "    \n",
    "<b><u>Complete Flood Depth Mapping Sequence:</u></b>\n",
    "\n",
    "This notebook is the first step in the <b>Flood Depth Mapping Sequence</b>, which consists of running the following notebooks in the order given:\n",
    "    \n",
    "1. **Complete Lab 2** [Lab2-SurfaceWaterExtentMapping.ipynb](./Lab2-SurfaceWaterExtentMapping.ipynb) \n",
    "2. **Prepare HAND layer:**\n",
    "   - Use existing HAND DEM: Bangladesh_Training_DEM_hand.tif (Skip step 2)\n",
    "   - OR Generate HAND using DEM by running [Big_Hand_notebook.ipynb](./Big_Hand_notebook.ipynb)\n",
    "   - OR Download HAND using [Download_HAND_from_GEE.ipynb](./Download_HAND_from_GEE.ipynb)\n",
    "3. **Flood Depth Estimation:** Run [Flood_Depth_Estimation_with_Flood_Extent_Maps.ipynb](./Flood_Depth_Estimation_with_Flood_Extent_Maps.ipynb) \n",
    "</font></font>"
   ]
  },
  {
   "cell_type": "markdown",
   "metadata": {},
   "source": [
    "<hr>\n",
    "<font face=\"Calibri\" size=\"5\" color=\"darkred\"> <b>Important Note about JupyterHub</b> </font>\n",
    "<br><br>\n",
    "<font face=\"Calibri\" size=\"3\"> <b>Your JupyterHub server will automatically shutdown when left idle for more than 1 hour. Your notebooks will not be lost but you will have to restart their kernels and re-run them from the beginning. You will not be able to seamlessly continue running a partially run notebook.</b> </font>\n"
   ]
  },
  {
   "cell_type": "markdown",
   "metadata": {},
   "source": [
    "<font face=\"Calibri\">\n",
    "<font size=\"3\"> This notebook assumes that you've a flood extent map available in your Notebook environment. We start with selecting the folder where you have the data. \n",
    "</font>"
   ]
  },
  {
   "cell_type": "markdown",
   "metadata": {
    "heading_collapsed": true
   },
   "source": [
    "# Version History"
   ]
  },
  {
   "cell_type": "markdown",
   "metadata": {
    "hidden": true
   },
   "source": [
    "<font face=\"Calibri\" size=\"2\"> <i>LoadHyP3Data-FullFrame.ipynb - Version 1.0 - December 2020 \n",
    "    <br>\n",
    "        <b>Version Changes:</b>\n",
    "    <ul>\n",
    "        <li>First Version of this notebook</li> \n",
    "    </ul>\n",
    "    </i>\n",
    "</font>"
   ]
  }
 ],
 "metadata": {
  "kernelspec": {
   "display_name": "Python 3",
   "language": "python",
   "name": "python3"
  },
  "language_info": {
   "codemirror_mode": {
    "name": "ipython",
    "version": 3
   },
   "file_extension": ".py",
   "mimetype": "text/x-python",
   "name": "python",
   "nbconvert_exporter": "python",
   "pygments_lexer": "ipython3",
   "version": "3.8.6"
  },
  "toc": {
   "base_numbering": 1,
   "nav_menu": {},
   "number_sections": true,
   "sideBar": true,
   "skip_h1_title": false,
   "title_cell": "Table of Contents",
   "title_sidebar": "Contents",
   "toc_cell": false,
   "toc_position": {},
   "toc_section_display": true,
   "toc_window_display": false
  }
 },
 "nbformat": 4,
 "nbformat_minor": 2
}
