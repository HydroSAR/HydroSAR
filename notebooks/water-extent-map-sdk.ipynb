{
 "cells": [
  {
   "cell_type": "code",
   "execution_count": null,
   "metadata": {
    "scrolled": true
   },
   "outputs": [],
   "source": [
    "import copy\n",
    "\n",
    "import ipywidgets as widgets\n",
    "from IPython.display import display\n",
    "\n",
    "import hyp3_sdk\n",
    "import asf_search"
   ]
  },
  {
   "cell_type": "code",
   "execution_count": null,
   "metadata": {},
   "outputs": [],
   "source": [
    "hyp3_watermap = hyp3_sdk.HyP3('https://hyp3-watermap.asf.alaska.edu', prompt=True)"
   ]
  },
  {
   "cell_type": "code",
   "execution_count": null,
   "metadata": {
    "scrolled": true
   },
   "outputs": [],
   "source": [
    "wkt = widgets.Textarea(\n",
    "    placeholder='WKT of search area',\n",
    "    value='POLYGON((-91.185 36.6763,-86.825 36.6763,-86.825 38.9176,-91.185 38.9176,-91.185 36.6763))',\n",
    "    layout=widgets.Layout(width='100%'),\n",
    ")\n",
    "display(wkt)"
   ]
  },
  {
   "cell_type": "code",
   "execution_count": null,
   "metadata": {},
   "outputs": [],
   "source": [
    "from asf_search import SENTINEL1, SLC, IW, VV_VH\n",
    "\n",
    "search_results = asf_search.geo_search(\n",
    "    platform=[SENTINEL1],\n",
    "    processingLevel=[SLC],\n",
    "    beamMode=[IW],\n",
    "    polarization=[VV_VH],\n",
    "    intersectsWith=wkt.value,\n",
    "    start='2021-05-30',\n",
    ")\n",
    "all_granules = {result.geojson()['properties']['sceneName'] for result in search_results}"
   ]
  },
  {
   "cell_type": "code",
   "execution_count": null,
   "metadata": {},
   "outputs": [],
   "source": [
    "job_definition = {\n",
    "    'name': 'water-map-example',\n",
    "    'job_type': \"WATER_MAP\",\n",
    "    'job_parameters': {\n",
    "        'resolution': 30,\n",
    "        'speckle_filter': True,\n",
    "        'max_vv_threshold': -17.0,\n",
    "        'max_vh_threshold': -24.0,\n",
    "        'hand_threshold': 15.0,\n",
    "        'hand_fraction': 0.8,\n",
    "        'membership_threshold': 0.45,\n",
    "    }\n",
    "}"
   ]
  },
  {
   "cell_type": "code",
   "execution_count": null,
   "metadata": {},
   "outputs": [],
   "source": [
    "jobs = hyp3_sdk.Batch()\n",
    "for granule in all_granules:\n",
    "    job = copy.deepcopy(job_definition)\n",
    "    job['job_parameters']['granules'] = [granule]\n",
    "    jobs += hyp3_watermap.submit_prepared_jobs([job])"
   ]
  },
  {
   "cell_type": "code",
   "execution_count": null,
   "metadata": {},
   "outputs": [],
   "source": [
    "jobs = hyp3_watermap.watch(jobs)"
   ]
  },
  {
   "cell_type": "code",
   "execution_count": null,
   "metadata": {},
   "outputs": [],
   "source": [
    "jobs.download_files('data/')"
   ]
  }
 ],
 "metadata": {
  "kernelspec": {
   "display_name": "Python 3",
   "language": "python",
   "name": "python3"
  },
  "language_info": {
   "codemirror_mode": {
    "name": "ipython",
    "version": 3
   },
   "file_extension": ".py",
   "mimetype": "text/x-python",
   "name": "python",
   "nbconvert_exporter": "python",
   "pygments_lexer": "ipython3",
   "version": "3.9.4"
  }
 },
 "nbformat": 4,
 "nbformat_minor": 1
}
