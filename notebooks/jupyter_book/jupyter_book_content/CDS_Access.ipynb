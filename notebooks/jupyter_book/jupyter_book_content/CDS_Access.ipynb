{
 "cells": [
  {
   "cell_type": "markdown",
   "id": "0bf361ce-d249-4ef3-81ca-06601e189364",
   "metadata": {},
   "source": [
    "# Set Up Climate Data Store Access (Optional)\n",
    "\n",
    "*Author: Alex Lewandowski; Alaska Satellite Facility*\n",
    "\n",
    "### This step only needs to be completed once and may be skipped if you have already updated the CDS config \n",
    "\n",
    "- Running the MintPy smallbaselineApp's `correct_troposphere` step requires downloading atmospheric pressure data from the CDS\n",
    "- If don't yet have a CDS API key:\n",
    "    - Proceed to [CDS](https://cds.climate.copernicus.eu/cdsapp#!/home) and create an account\n",
    "    - Open the [Datasets page](https://cds.climate.copernicus.eu/cdsapp#!/search?type=dataset)\n",
    "    - Search for \"ERA5\"\n",
    "    - Select any of ERA5 datasets that appear\n",
    "    - Select the `Download data` tab\n",
    "    - Scroll to the bottom of the screen\n",
    "    - Accept the `Terms of use`\n",
    "    - Click on your name at the top right of the screen to access your profile page\n",
    "    - Your `UID` and `API Key` will be displayed here \n",
    "- Run the following 2 code cells to update the pyaps config from this notebook **OR** open an OpenSARlab terminal and complete the following steps:\n",
    "    - Use vim or another text editor to open the `~/.cdsapirc` config file\n",
    "        - Add the CDS url to the first line of the config and your CDS `UID` and CDS`API Key` to the 2nd line of the config\n",
    "            - This should be formatted like:\n",
    "                - url: https://cds.climate.copernicus.eu/api/v2\\\n",
    "                - key: your_UID: your_API_Key\n",
    "        - Save the config and exit the text editor\n",
    "\n",
    "**If you do not add your CDS credentials to `~/.cdsapirc`, the `correct_troposphere` step will fail**\n",
    "\n",
    "---\n",
    "## 0. Import Required Software"
   ]
  },
  {
   "cell_type": "code",
   "execution_count": null,
   "id": "a93c97ab-8455-4539-b849-d60d01f11384",
   "metadata": {},
   "outputs": [],
   "source": [
    "from getpass import getpass\n",
    "from pathlib import Path\n",
    "\n",
    "import ipywidgets"
   ]
  },
  {
   "cell_type": "markdown",
   "id": "2407f633-e539-4316-8719-17002e5e0274",
   "metadata": {},
   "source": [
    "---\n",
    "## 1. Check for an Existing CDS credentials"
   ]
  },
  {
   "cell_type": "code",
   "execution_count": null,
   "id": "31d55fb7-0db7-4a61-a3c4-285a56f321ee",
   "metadata": {},
   "outputs": [],
   "source": [
    "pyaps_cfg = Path.home() / '.cdsapirc'\n",
    "try:\n",
    "    with open(pyaps_cfg, 'r') as f:\n",
    "        lines = f.readlines()\n",
    "        if len(lines) == 2 and 'url' in lines[0]:\n",
    "            print(\"There was a CDS UID and API Key found in the pyaps3 config: ~/.cdsapirc\")\n",
    "            print(\"Would you like to update them?\")\n",
    "\n",
    "            update_cds_cfg = ipywidgets.RadioButtons(\n",
    "                options=[\n",
    "                    \"Do not update CDS UID and API Key\",\n",
    "                    \"Update CDS UID and API Key\"\n",
    "                ],\n",
    "                disabled=False)\n",
    "            \n",
    "            display(update_cds_cfg)\n",
    "        else:\n",
    "            update_cds_cfg = None\n",
    "            print(\"No `~/.cdsapi` found.\\nRun the next code cell to create one.\")\n",
    "except FileNotFoundError:\n",
    "    update_cds_cfg = None"
   ]
  },
  {
   "cell_type": "markdown",
   "id": "f6552652-bff6-4e36-a8f4-1283c7df48e1",
   "metadata": {},
   "source": [
    "---\n",
    "## 2. Create or Update CDS Credentials"
   ]
  },
  {
   "cell_type": "code",
   "execution_count": null,
   "id": "4f5bee69-eef3-4966-9c8e-af05d9e80d25",
   "metadata": {},
   "outputs": [],
   "source": [
    "if not update_cds_cfg or \"Update\" in update_cds_cfg.value:\n",
    "    with open(pyaps_cfg, 'w') as f:\n",
    "            uid = input(\"Enter your CDS UID\")\n",
    "            key = getpass(\"Enter your CDS API Key\")\n",
    "            lines = ['', '']\n",
    "            lines[0] = f\"url: https://cds.climate.copernicus.eu/api/v2\\n\"\n",
    "            lines[1] = f\"key: {uid}:{key}\\n\"\n",
    "            f.seek(0)\n",
    "            f.writelines(lines)\n",
    "            f.truncate()"
   ]
  },
  {
   "cell_type": "markdown",
   "id": "27de50d4-5d87-43fb-aaa3-16831e2ebd06",
   "metadata": {},
   "source": [
    "*b_CDS_Access.ipynb - Version 1.0.0 - May 2024*"
   ]
  }
 ],
 "metadata": {
  "kernelspec": {
   "display_name": "hydrosar_rtc_era5 [conda env:.local-hydrosar_rtc_era5]",
   "language": "python",
   "name": "conda-env-.local-hydrosar_rtc_era5-hydrosar_rtc_era5"
  },
  "language_info": {
   "codemirror_mode": {
    "name": "ipython",
    "version": 3
   },
   "file_extension": ".py",
   "mimetype": "text/x-python",
   "name": "python",
   "nbconvert_exporter": "python",
   "pygments_lexer": "ipython3",
   "version": "3.12.3"
  }
 },
 "nbformat": 4,
 "nbformat_minor": 5
}
