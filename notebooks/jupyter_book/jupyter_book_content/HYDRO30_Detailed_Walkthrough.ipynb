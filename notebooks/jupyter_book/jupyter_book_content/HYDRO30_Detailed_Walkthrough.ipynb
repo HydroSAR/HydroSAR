{
 "cells": [
  {
   "cell_type": "markdown",
   "id": "b7f37cbb-c7c5-476c-b4a5-0d14eaa6ccff",
   "metadata": {},
   "source": [
    "# HYDRO30 Surface Water Extent Map: Deep Dive\n",
    "\n",
    "This notebook steps through HydroSAR's `make_water_map` function, inspecting it and every HydroSAR function it calls.\n",
    "\n",
    "---\n",
    "\n",
    "<div class=\"alert alert-info\" style=\"display: flex; align-items: center; font-family: 'Times New Roman', Times, serif; background-color: #d1ecf1;\">\n",
    "  <div style=\"display: flex; align-items: center; width: 5%;\">\n",
    "    <a href=\"https://github.com/HydroSAR/HydroSAR/issues\">\n",
    "      <img src=\"https://opensarlab-docs.asf.alaska.edu/opensarlab-notebook-assets/logos/github_issues.png\" alt=\"GitHub logo over the word Issues\" style=\"width: 100px;\">\n",
    "    </a>\n",
    "  </div>\n",
    "  <div style=\"width: 95%;\">\n",
    "    <b>Did you find a bug? Do you have a feature request? Do you have questions about HydroSAR?</b>\n",
    "    <br/>\n",
    "    Explore GitHub Issues on this Jupyter Book's GitHub repository. Find solutions, add to the discussion, or start a new bug report or feature request: <a href=\"https://github.com/HydroSAR/HydroSAR/issues\">HydroSAR Issues</a>\n",
    "  </div>\n",
    "</div>\n",
    "\n",
    "<div class=\"alert alert-info\" style=\"display: flex; align-items: center; justify-content: space-between; font-family: 'Times New Roman', Times, serif; background-color: #d1ecf1;\">\n",
    "  <div style=\"display: flex; align-items: center; margin-right: 10px; width: 5%;\">\n",
    "    <a href=\"mailto:uso@asf.alaska.edu\">\n",
    "      <img src=\"https://opensarlab-docs.asf.alaska.edu/opensarlab-notebook-assets/logos/ASF_support_logo.png\" alt=\"ASF logo\" style=\"width: 100px\">\n",
    "    </a>\n",
    "  </div>\n",
    "  <div style=\"width: 95%;\">\n",
    "    <b>Have a question related to SAR or ASF data access?</b>\n",
    "    <br/>\n",
    "    Contact ASF User Support: <a href=\"mailto:uso@asf.alaska.edu\">uso@asf.alaska.edu</a>\n",
    "  </div>\n",
    "</div>\n",
    "\n",
    "---\n",
    "\n",
    "## 0. Import Required Software"
   ]
  },
  {
   "cell_type": "code",
   "execution_count": 1,
   "id": "0cb04862-005f-480e-aec2-5ceb8c51fd78",
   "metadata": {},
   "outputs": [],
   "source": [
    "from datetime import datetime\n",
    "import inspect\n",
    "from pathlib import Path\n",
    "from pprint import pprint\n",
    "from tempfile import NamedTemporaryFile\n",
    "\n",
    "from asf_tools.util import get_epsg_code\n",
    "import geopandas as gpd\n",
    "from hydrosar.water_map import (\n",
    "    make_water_map, \n",
    "    prepare_hand_for_raster,\n",
    "    read_as_masked_array,\n",
    "    tile_array,\n",
    "    select_hand_tiles\n",
    ")\n",
    "\n",
    "from hydrosar.hand import (\n",
    "    prepare_hand_vrt,\n",
    ")\n",
    "from ipyfilechooser import FileChooser\n",
    "from osgeo import gdal\n",
    "from rasterio.enums import Resampling\n",
    "import sys\n",
    "from tqdm.auto import tqdm\n",
    "\n",
    "current = Path(\"..\").resolve()\n",
    "sys.path.append(str(current))\n",
    "import util.util as util"
   ]
  },
  {
   "cell_type": "markdown",
   "id": "c14eaffb-acd7-485c-a2ba-2a95203ba140",
   "metadata": {},
   "source": [
    "## 1. Inspect `make_water_map`"
   ]
  },
  {
   "cell_type": "code",
   "execution_count": 2,
   "id": "699179e0-05e9-49d5-908a-4874c3b07a54",
   "metadata": {
    "scrolled": true
   },
   "outputs": [
    {
     "name": "stdout",
     "output_type": "stream",
     "text": [
      "def make_water_map(out_raster: Union[str, Path], vv_raster: Union[str, Path], vh_raster: Union[str, Path],\n",
      "                   hand_raster: Optional[Union[str, Path]] = None, tile_shape: Tuple[int, int] = (100, 100),\n",
      "                   max_vv_threshold: float = -15.5, max_vh_threshold: float = -23.0,\n",
      "                   hand_threshold: float = 15., hand_fraction: float = 0.8, membership_threshold: float = 0.45):\n",
      "    \"\"\"Creates a surface water extent map from a Sentinel-1 RTC product\n",
      "\n",
      "    Create a surface water extent map from a dual-pol Sentinel-1 RTC product and\n",
      "    a HAND image. The HAND image must be pixel-aligned (same extent and size) to\n",
      "    the RTC images. The water extent maps are created using an adaptive Expectation\n",
      "    Maximization thresholding approach and refined with Fuzzy Logic.\n",
      "\n",
      "    The input images are broken into a set of corresponding tiles with a shape of\n",
      "    `tile_shape`, and a set of tiles are selected from the VH RTC\n",
      "    image that contain water boundaries to determine an appropriate water threshold.\n",
      "     Candidate tiles must meet these criteria:\n",
      "    * `hand_fraction` of pixels within a tile must have HAND pixel values lower\n",
      "      than `hand_threshold`\n",
      "    * The median backscatter value for the tile must be lower than an average tiles'\n",
      "      backscatter values\n",
      "    * The tile must have a high variance -- high variance is considered initially to\n",
      "      be a variance in the 95th percentile of the tile variances, but progressively\n",
      "      relaxed to the 5th percentile if there not at least 5 candidate tiles.\n",
      "\n",
      "    The 5 VH tiles with the highest variance are selected for thresholding and a\n",
      "    water threshold value is determined using an Expectation Maximization approach.\n",
      "    If there were not enough candidate tiles or the threshold is too high,\n",
      "    `max_vh_threshold` and/or `max_vv_threshold` will be used instead.\n",
      "\n",
      "    From the initial threshold-based water extent maps, Fuzzy Logic is used to remove\n",
      "    spurious false detections and improve the water extent map quality. The fuzzy logic\n",
      "    uses these indicators for the presence of water:\n",
      "    * radar cross section in a pixel relative to the determined detection threshold\n",
      "    * the height above nearest drainage (HAND)\n",
      "    * the surface slope, which is derived from the HAND data\n",
      "    * the size of the detected water feature\n",
      "\n",
      "    For each indicator, a Z-shaped activation function is used to determine pixel membership.\n",
      "    The membership maps are combined to form the final water extent map. Pixels classified\n",
      "    as water pixels will:\n",
      "    * have non-zero membership in all of the indicators, and\n",
      "    * have an average membership above the `membership_threshold` value.\n",
      "\n",
      "    Finally, the VV and VH water masks will be combined to include all water pixels\n",
      "    from both masks, and the combined water map will be written to `out_raster`.\n",
      "\n",
      "    Args:\n",
      "        out_raster: Water map GeoTIFF to create\n",
      "        vv_raster: Sentinel-1 RTC GeoTIFF, in power scale, with VV polarization\n",
      "        vh_raster: Sentinel-1 RTC GeoTIFF, in power scale, with VH polarization\n",
      "        hand_raster: Height Above Nearest Drainage (HAND) GeoTIFF aligned to the RTC rasters\n",
      "        tile_shape: shape (height, width) in pixels to tile the image to\n",
      "        max_vv_threshold: Maximum threshold value to use for `vv_raster` in decibels (db)\n",
      "        max_vh_threshold:  Maximum threshold value to use for `vh_raster` in decibels (db)\n",
      "        hand_threshold: The maximum height above nearest drainage in meters to consider\n",
      "            a pixel valid\n",
      "        hand_fraction: The minimum fraction of valid HAND pixels required in a tile for\n",
      "            thresholding\n",
      "        membership_threshold: The average membership to the fuzzy indicators required for a water pixel\n",
      "    \"\"\"\n",
      "    if tile_shape[0] % 2 or tile_shape[1] % 2:\n",
      "        raise ValueError(f'tile_shape {tile_shape} requires even values.')\n",
      "\n",
      "    info = gdal.Info(str(vh_raster), format='json')\n",
      "\n",
      "    out_transform = info['geoTransform']\n",
      "    out_epsg = get_epsg_code(info)\n",
      "\n",
      "    if hand_raster is None:\n",
      "        hand_raster = str(out_raster).replace('.tif', '_HAND.tif')\n",
      "        log.info(f'Extracting HAND data to: {hand_raster}')\n",
      "        prepare_hand_for_raster(hand_raster, vh_raster)\n",
      "\n",
      "    log.info(f'Determining HAND memberships from {hand_raster}')\n",
      "    hand_array = read_as_masked_array(hand_raster)\n",
      "    hand_tiles = tile_array(hand_array, tile_shape=tile_shape, pad_value=np.nan)\n",
      "\n",
      "    hand_candidates = select_hand_tiles(hand_tiles, hand_threshold, hand_fraction)\n",
      "    log.debug(f'Selected HAND tile candidates {hand_candidates}')\n",
      "\n",
      "    selected_tiles = None\n",
      "    nodata = np.iinfo(np.uint8).max\n",
      "    water_extent_maps = []\n",
      "    for max_db_threshold, raster, pol in ((max_vh_threshold, vh_raster, 'VH'), (max_vv_threshold, vv_raster, 'VV')):\n",
      "        log.info(f'Creating initial {pol} water extent map from {raster}')\n",
      "        array = read_as_masked_array(raster)\n",
      "        padding_mask = array.mask\n",
      "        tiles = tile_array(array, tile_shape=tile_shape, pad_value=0.)\n",
      "        # Masking less than zero only necessary for old HyP3/GAMMA products which sometimes returned negative powers\n",
      "        tiles = np.ma.masked_less_equal(tiles, 0.)\n",
      "        if selected_tiles is None:\n",
      "            selected_tiles = select_backscatter_tiles(tiles, hand_candidates)\n",
      "            log.info(f'Selected tiles {selected_tiles} from {raster}')\n",
      "\n",
      "        with np.testing.suppress_warnings() as sup:\n",
      "            sup.filter(RuntimeWarning)  # invalid value and divide by zero encountered in log10\n",
      "            tiles = np.log10(tiles) + 30.  # linear power scale -> Gaussian scale optimized for thresholding\n",
      "        max_gaussian_threshold = max_db_threshold / 10. + 30.  # db -> Gaussian scale optimized for thresholding\n",
      "        if selected_tiles.size:\n",
      "            scaling = 256 / (np.mean(tiles) + 3 * np.std(tiles))\n",
      "            gaussian_threshold = determine_em_threshold(tiles[selected_tiles, :, :], scaling)\n",
      "            threshold_db = 10. * (gaussian_threshold - 30.)\n",
      "            log.info(f'Threshold determined to be {threshold_db} db')\n",
      "            if gaussian_threshold > max_gaussian_threshold:\n",
      "                log.warning(f'Threshold too high! Using maximum threshold {max_db_threshold} db')\n",
      "                gaussian_threshold = max_gaussian_threshold\n",
      "        else:\n",
      "            log.warning(f'Tile selection did not converge! using default threshold {max_db_threshold} db')\n",
      "            gaussian_threshold = max_gaussian_threshold\n",
      "\n",
      "        gaussian_array = untile_array(tiles, array.shape)\n",
      "        water_map = np.ma.masked_less_equal(gaussian_array, gaussian_threshold).mask\n",
      "        water_map &= ~array.mask\n",
      "\n",
      "        write_cog(str(out_raster).replace('.tif', f'_{pol}_initial.tif'),\n",
      "                  format_raster_data(water_map, padding_mask, nodata),\n",
      "                  transform=out_transform, epsg_code=out_epsg, dtype=gdal.GDT_Byte, nodata_value=nodata)\n",
      "\n",
      "        log.info(f'Refining initial {pol} water extent map using Fuzzy Logic')\n",
      "        array = np.ma.masked_where(~water_map, array)\n",
      "        gaussian_lower_limit = np.log10(np.ma.median(array)) + 30.\n",
      "\n",
      "        water_map = fuzzy_refinement(\n",
      "            water_map, gaussian_array, hand_array, pixel_size=out_transform[1],\n",
      "            gaussian_thresholds=(gaussian_lower_limit, gaussian_threshold), membership_threshold=membership_threshold\n",
      "        )\n",
      "        water_map &= ~array.mask\n",
      "\n",
      "        write_cog(str(out_raster).replace('.tif', f'_{pol}_fuzzy.tif'),\n",
      "                  format_raster_data(water_map, padding_mask, nodata),\n",
      "                  transform=out_transform, epsg_code=out_epsg, dtype=gdal.GDT_Byte, nodata_value=nodata)\n",
      "\n",
      "        water_extent_maps.append(water_map)\n",
      "\n",
      "    log.info('Combining Fuzzy VH and VV extent map')\n",
      "    combined_water_map = np.logical_or(*water_extent_maps)\n",
      "\n",
      "    combined_segments = measure.label(combined_water_map, connectivity=2)\n",
      "    combined_water_map = remove_small_segments(combined_segments)\n",
      "\n",
      "    write_cog(out_raster, format_raster_data(combined_water_map, padding_mask, nodata), transform=out_transform,\n",
      "              epsg_code=out_epsg, dtype=gdal.GDT_Byte, nodata_value=nodata)\n",
      "\n"
     ]
    }
   ],
   "source": [
    "print(inspect.getsource(make_water_map))"
   ]
  },
  {
   "cell_type": "markdown",
   "id": "c23c8b1c-36e1-4f45-8b0f-6fe0c90d74e9",
   "metadata": {},
   "source": [
    "---\n",
    "## 2. Inspect `prepare_hand_for_raster`\n",
    "\n",
    "As we start stepping through `make_water_map`, we see that it:\n",
    "1. Verifies correctness of the passed tile shape\n",
    "2. Determines the RTC's EPSG and geotransform\n",
    "3. Calls `prepare_hand_for_raster`\n",
    "\n",
    "**Inspect `prepare_hand_for_raster`**"
   ]
  },
  {
   "cell_type": "code",
   "execution_count": null,
   "id": "1be470b0-d5d5-4c39-88c6-84192f48dd66",
   "metadata": {},
   "outputs": [],
   "source": [
    "print(inspect.getsource(prepare_hand_for_raster))"
   ]
  },
  {
   "cell_type": "markdown",
   "id": "f70e8ee4-7a47-4ec7-ac14-aa819c82bfb9",
   "metadata": {},
   "source": [
    "---\n",
    "## 3. Inspect `prepare_hand_vrt`\n",
    "\n",
    "While generating an output HAND raster, `prepare_hand_for_raster` calls `prepare_hand_vrt`.\n",
    "\n",
    "**Inspect `prepare_hand_vrt`**"
   ]
  },
  {
   "cell_type": "code",
   "execution_count": null,
   "id": "d4d4cd63-cb9d-4578-bca9-6f152148383d",
   "metadata": {},
   "outputs": [],
   "source": [
    "print(inspect.getsource(prepare_hand_vrt))"
   ]
  },
  {
   "cell_type": "markdown",
   "id": "c7d473ff-ac24-4d55-bdfc-9c70b841a563",
   "metadata": {},
   "source": [
    "---\n",
    "## 4. Inspect `read_as_masked_array`\n",
    "\n",
    "Back in `make_water_map`, after generating the HAND data, they are read in as a masked array with the `read_as_masked_array` function.\n",
    "\n",
    "**Inspect `read_as_masked_array`**"
   ]
  },
  {
   "cell_type": "code",
   "execution_count": null,
   "id": "661c2b58-1487-47fd-b59e-fdcc7b0d4f8f",
   "metadata": {},
   "outputs": [],
   "source": [
    "print(inspect.getsource(read_as_masked_array))"
   ]
  },
  {
   "cell_type": "markdown",
   "id": "a51dd74b-d10e-4326-82fb-8f70629546c1",
   "metadata": {},
   "source": [
    "---\n",
    "## 5. Inspect `tile_array`\n",
    "\n",
    "The hand_array is then tiled with `tile_array`\n",
    "\n",
    "**Inspect `tile_array`**"
   ]
  },
  {
   "cell_type": "code",
   "execution_count": null,
   "id": "728b2643-426c-4bc3-b8f9-c6b2c0bf205d",
   "metadata": {},
   "outputs": [],
   "source": [
    "print(inspect.getsource(tile_array))"
   ]
  },
  {
   "cell_type": "markdown",
   "id": "6af799ca-e84c-4519-938d-d6f5ff5d73c5",
   "metadata": {},
   "source": [
    "---\n",
    "## 6. Inspect `select_hand_tiles`\n",
    "\n",
    "Once the HAND array is tiled, hand candidates are determined using `select_hand_tiles`, based on the user-defined HAND threshold.\n",
    "\n",
    "**Inspect `select_hand_tiles`**"
   ]
  },
  {
   "cell_type": "code",
   "execution_count": null,
   "id": "7f1b49f3-e494-4141-90e5-b590f74d1aad",
   "metadata": {},
   "outputs": [],
   "source": [
    "print(inspect.getsource(select_hand_tiles))"
   ]
  },
  {
   "cell_type": "code",
   "execution_count": null,
   "id": "0d8e1599-c666-4aba-b676-426f6fcbcc6c",
   "metadata": {},
   "outputs": [],
   "source": []
  },
  {
   "cell_type": "code",
   "execution_count": null,
   "id": "e4e78efb-92bb-46bf-bf9b-44d4c9160a65",
   "metadata": {},
   "outputs": [],
   "source": []
  },
  {
   "cell_type": "markdown",
   "id": "03f1e8a3-81e8-41ab-a128-47f506e01750",
   "metadata": {},
   "source": [
    "*HYDRO30_Detailed_Walkthrough.ipynb - Version 1.0.0 - June 2024*"
   ]
  }
 ],
 "metadata": {
  "kernelspec": {
   "display_name": "hydrosar_water_mask [conda env:.local-hydrosar_water_mask]",
   "language": "python",
   "name": "conda-env-.local-hydrosar_water_mask-hydrosar_water_mask"
  },
  "language_info": {
   "codemirror_mode": {
    "name": "ipython",
    "version": 3
   },
   "file_extension": ".py",
   "mimetype": "text/x-python",
   "name": "python",
   "nbconvert_exporter": "python",
   "pygments_lexer": "ipython3",
   "version": "3.11.0"
  }
 },
 "nbformat": 4,
 "nbformat_minor": 5
}
