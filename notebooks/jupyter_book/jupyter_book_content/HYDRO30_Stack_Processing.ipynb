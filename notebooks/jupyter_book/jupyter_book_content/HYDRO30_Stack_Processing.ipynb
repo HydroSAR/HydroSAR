{
 "cells": [
  {
   "cell_type": "markdown",
   "id": "b7f37cbb-c7c5-476c-b4a5-0d14eaa6ccff",
   "metadata": {},
   "source": [
    "# HYDRO30 Surface Water Extent Map: Process RTC stack\n",
    "\n",
    "This notebook processes a stack of HYDRO30 products from a stack of HyP3 or OPERA dual-pol RTCs.\n",
    "\n",
    "<img style= \"padding: 7px\" src=\"https://courses.edx.org/asset-v1:AlaskaX+SAR-401+3T2020+type@asset+block@Watermappingworkflow2.jpg\" width=\"70%\"/>"
   ]
  },
  {
   "cell_type": "code",
   "execution_count": null,
   "id": "0cb04862-005f-480e-aec2-5ceb8c51fd78",
   "metadata": {},
   "outputs": [],
   "source": [
    "from datetime import datetime\n",
    "from pathlib import Path\n",
    "\n",
    "import geopandas as gpd\n",
    "from hydrosar.water_map import make_water_map\n",
    "from ipyfilechooser import FileChooser\n",
    "import sys\n",
    "from tqdm.auto import tqdm\n",
    "\n",
    "current = Path(\"..\").resolve()\n",
    "sys.path.append(str(current))\n",
    "import util.util as util"
   ]
  },
  {
   "cell_type": "markdown",
   "id": "0f9a2bc8-72ee-4758-9da1-da89877315de",
   "metadata": {},
   "source": [
    "---\n",
    "## 1. Select a directory holding an RTC stack prepared with the [Prepare a SAR RTC Data Stack for HydroSAR notebook](1a_Prepare_HydroSAR_RTC_Stack.ipynb)\n",
    "\n",
    "The directory should contain the following subdirectories:\n",
    "- `VH`\n",
    "- `VV`"
   ]
  },
  {
   "cell_type": "code",
   "execution_count": null,
   "id": "8b78683a-17ea-462a-b66b-b6978d9b1655",
   "metadata": {},
   "outputs": [],
   "source": [
    "fc = FileChooser(Path.home())\n",
    "display(fc)"
   ]
  },
  {
   "cell_type": "code",
   "execution_count": null,
   "id": "108bbe0b-bfba-4abf-b30d-aef8a1f4463c",
   "metadata": {},
   "outputs": [],
   "source": [
    "data_dir = Path(fc.selected_path)\n",
    "vh_dir = data_dir / 'VH'\n",
    "vv_dir = data_dir / 'VV'\n",
    "\n",
    "vh_paths = sorted(list(vh_dir.glob('*VH*.tif')))\n",
    "vv_paths = sorted(list(vv_dir.glob('*VV*.tif')))\n",
    "\n",
    "water_mask_dir = data_dir / 'Water_Mask'\n",
    "water_mask_dir.mkdir(exist_ok=True)"
   ]
  },
  {
   "cell_type": "code",
   "execution_count": null,
   "id": "59ddd9d8-eabd-418a-a03c-a381d41aec35",
   "metadata": {},
   "outputs": [],
   "source": [
    "gdf = gpd.GeoDataFrame(\n",
    "    {\n",
    "    'file': vh_paths + vv_paths,\n",
    "    'data_type': ['VV_RTC' if 'VV' in str(pth) else 'VH_RTC' for pth in vh_paths + vv_paths],\n",
    "    'SAR_acquisition_date': util.get_dates(vh_paths + vv_paths),\n",
    "    'EPSG': [util.get_epsg(p) for p in vh_paths + vv_paths],\n",
    "    'geometry': [util.get_geotiff_bbox(p) for p in vh_paths + vv_paths],\n",
    "    }\n",
    "                  )\n",
    "display(gdf)\n",
    "if gdf['EPSG'].nunique() > 1:\n",
    "    raise Exception(f'Error: Data is in {gdf[\"EPSG\"].nunique()} projections.')"
   ]
  },
  {
   "cell_type": "markdown",
   "id": "961fd5ff-9d1d-4862-9606-5e8d02673f64",
   "metadata": {},
   "source": [
    "---\n",
    "## 2. Generate the water extent maps"
   ]
  },
  {
   "cell_type": "code",
   "execution_count": null,
   "id": "181a03c7-f6b7-4376-a17e-f6fa1abf5c58",
   "metadata": {
    "scrolled": true
   },
   "outputs": [],
   "source": [
    "%%time\n",
    "for d in tqdm(set(gdf['SAR_acquisition_date'])):\n",
    "    vh_raster = gdf.loc[(gdf['SAR_acquisition_date'] == d) & (gdf['data_type'] == 'VH_RTC')]['file'].iloc[0]\n",
    "    vv_raster = gdf.loc[(gdf['SAR_acquisition_date'] == d) & (gdf['data_type'] == 'VV_RTC')]['file'].iloc[0]\n",
    "\n",
    "    water_extent_raster = water_mask_dir / f'water_extent_{datetime.strftime(d, \"%Y%m%d\")}.tif'\n",
    "\n",
    "    make_water_map(\n",
    "        water_extent_raster, \n",
    "        vv_raster, \n",
    "        vh_raster, \n",
    "        tile_shape=(100, 100),\n",
    "        max_vv_threshold=-15.5, \n",
    "        max_vh_threshold=-23., \n",
    "        hand_threshold=15., \n",
    "        hand_fraction=0.8\n",
    "    )"
   ]
  },
  {
   "cell_type": "markdown",
   "id": "03f1e8a3-81e8-41ab-a128-47f506e01750",
   "metadata": {},
   "source": [
    "*HYDRO30_Stack_Processing.ipynb - Version 1.0.0 - May 2024*"
   ]
  }
 ],
 "metadata": {
  "kernelspec": {
   "display_name": "hydrosar [conda env:.local-hydrosar]",
   "language": "python",
   "name": "conda-env-.local-hydrosar-hydrosar"
  },
  "language_info": {
   "codemirror_mode": {
    "name": "ipython",
    "version": 3
   },
   "file_extension": ".py",
   "mimetype": "text/x-python",
   "name": "python",
   "nbconvert_exporter": "python",
   "pygments_lexer": "ipython3",
   "version": "3.11.0"
  }
 },
 "nbformat": 4,
 "nbformat_minor": 5
}
