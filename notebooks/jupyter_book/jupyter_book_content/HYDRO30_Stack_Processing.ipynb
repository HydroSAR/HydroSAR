{
 "cells": [
  {
   "cell_type": "markdown",
   "id": "b7f37cbb-c7c5-476c-b4a5-0d14eaa6ccff",
   "metadata": {},
   "source": [
    "# HYDRO30 Surface Water Extent Map: Process RTC stack\n",
    "\n",
    "This notebook processes a stack of HYDRO30 products from a stack of HyP3 or OPERA dual-pol RTCs."
   ]
  },
  {
   "cell_type": "code",
   "execution_count": 1,
   "id": "0cb04862-005f-480e-aec2-5ceb8c51fd78",
   "metadata": {},
   "outputs": [],
   "source": [
    "from datetime import datetime\n",
    "from pathlib import Path\n",
    "\n",
    "import geopandas as gpd\n",
    "from hydrosar.water_map import make_water_map\n",
    "from ipyfilechooser import FileChooser\n",
    "import sys\n",
    "from tqdm.auto import tqdm\n",
    "\n",
    "current = Path(\"..\").resolve()\n",
    "sys.path.append(str(current))\n",
    "import util.util as util"
   ]
  },
  {
   "cell_type": "markdown",
   "id": "0f9a2bc8-72ee-4758-9da1-da89877315de",
   "metadata": {},
   "source": [
    "---\n",
    "## 1. Select a directory holding an RTC stack prepared with the [Prepare a SAR RTC Data Stack for HydroSAR notebook](1a_Prepare_HydroSAR_RTC_Stack.ipynb)\n",
    "\n",
    "The directory should contain the following subdirectories:\n",
    "- `VH`\n",
    "- `VV`"
   ]
  },
  {
   "cell_type": "code",
   "execution_count": 2,
   "id": "8b78683a-17ea-462a-b66b-b6978d9b1655",
   "metadata": {},
   "outputs": [
    {
     "data": {
      "application/vnd.jupyter.widget-view+json": {
       "model_id": "c399d59e52d343358b21b4fd261312ad",
       "version_major": 2,
       "version_minor": 0
      },
      "text/plain": [
       "FileChooser(path='/home/jovyan', filename='', title='', show_hidden=False, select_desc='Select', change_desc='…"
      ]
     },
     "metadata": {},
     "output_type": "display_data"
    }
   ],
   "source": [
    "fc = FileChooser(Path.home())\n",
    "display(fc)"
   ]
  },
  {
   "cell_type": "code",
   "execution_count": 3,
   "id": "108bbe0b-bfba-4abf-b30d-aef8a1f4463c",
   "metadata": {},
   "outputs": [],
   "source": [
    "data_dir = Path(fc.selected_path)\n",
    "vh_dir = data_dir / 'VH'\n",
    "vv_dir = data_dir / 'VV'\n",
    "\n",
    "vh_paths = sorted(list(vh_dir.glob('*VH*.tif')))\n",
    "vv_paths = sorted(list(vv_dir.glob('*VV*.tif')))\n",
    "\n",
    "water_mask_dir = data_dir / 'Water_Mask'\n",
    "water_mask_dir.mkdir(exist_ok=True)"
   ]
  },
  {
   "cell_type": "code",
   "execution_count": 4,
   "id": "59ddd9d8-eabd-418a-a03c-a381d41aec35",
   "metadata": {},
   "outputs": [
    {
     "data": {
      "text/html": [
       "<div>\n",
       "<style scoped>\n",
       "    .dataframe tbody tr th:only-of-type {\n",
       "        vertical-align: middle;\n",
       "    }\n",
       "\n",
       "    .dataframe tbody tr th {\n",
       "        vertical-align: top;\n",
       "    }\n",
       "\n",
       "    .dataframe thead th {\n",
       "        text-align: right;\n",
       "    }\n",
       "</style>\n",
       "<table border=\"1\" class=\"dataframe\">\n",
       "  <thead>\n",
       "    <tr style=\"text-align: right;\">\n",
       "      <th></th>\n",
       "      <th>file</th>\n",
       "      <th>data_type</th>\n",
       "      <th>SAR_acquisition_date</th>\n",
       "      <th>EPSG</th>\n",
       "      <th>geometry</th>\n",
       "    </tr>\n",
       "  </thead>\n",
       "  <tbody>\n",
       "    <tr>\n",
       "      <th>0</th>\n",
       "      <td>/home/jovyan/bang2/VH/S1A_IW_20180709T234718_D...</td>\n",
       "      <td>VH_RTC</td>\n",
       "      <td>2018-07-09</td>\n",
       "      <td>32646</td>\n",
       "      <td>POLYGON ((385650.000 2691600.000, 498090.000 2...</td>\n",
       "    </tr>\n",
       "    <tr>\n",
       "      <th>1</th>\n",
       "      <td>/home/jovyan/bang2/VH/S1A_IW_20180721T234719_D...</td>\n",
       "      <td>VH_RTC</td>\n",
       "      <td>2018-07-21</td>\n",
       "      <td>32646</td>\n",
       "      <td>POLYGON ((385650.000 2691600.000, 498090.000 2...</td>\n",
       "    </tr>\n",
       "    <tr>\n",
       "      <th>2</th>\n",
       "      <td>/home/jovyan/bang2/VH/S1A_IW_20180802T234719_D...</td>\n",
       "      <td>VH_RTC</td>\n",
       "      <td>2018-08-02</td>\n",
       "      <td>32646</td>\n",
       "      <td>POLYGON ((385650.000 2691600.000, 498090.000 2...</td>\n",
       "    </tr>\n",
       "    <tr>\n",
       "      <th>3</th>\n",
       "      <td>/home/jovyan/bang2/VH/S1A_IW_20180814T234720_D...</td>\n",
       "      <td>VH_RTC</td>\n",
       "      <td>2018-08-14</td>\n",
       "      <td>32646</td>\n",
       "      <td>POLYGON ((385650.000 2691600.000, 498090.000 2...</td>\n",
       "    </tr>\n",
       "    <tr>\n",
       "      <th>4</th>\n",
       "      <td>/home/jovyan/bang2/VH/S1A_IW_20180826T234721_D...</td>\n",
       "      <td>VH_RTC</td>\n",
       "      <td>2018-08-26</td>\n",
       "      <td>32646</td>\n",
       "      <td>POLYGON ((385650.000 2691600.000, 498090.000 2...</td>\n",
       "    </tr>\n",
       "    <tr>\n",
       "      <th>5</th>\n",
       "      <td>/home/jovyan/bang2/VH/S1A_IW_20180907T234721_D...</td>\n",
       "      <td>VH_RTC</td>\n",
       "      <td>2018-09-07</td>\n",
       "      <td>32646</td>\n",
       "      <td>POLYGON ((385650.000 2691600.000, 498090.000 2...</td>\n",
       "    </tr>\n",
       "    <tr>\n",
       "      <th>6</th>\n",
       "      <td>/home/jovyan/bang2/VH/S1A_IW_20180919T234722_D...</td>\n",
       "      <td>VH_RTC</td>\n",
       "      <td>2018-09-19</td>\n",
       "      <td>32646</td>\n",
       "      <td>POLYGON ((385650.000 2691600.000, 498090.000 2...</td>\n",
       "    </tr>\n",
       "    <tr>\n",
       "      <th>7</th>\n",
       "      <td>/home/jovyan/bang2/VH/S1A_IW_20181001T234722_D...</td>\n",
       "      <td>VH_RTC</td>\n",
       "      <td>2018-10-01</td>\n",
       "      <td>32646</td>\n",
       "      <td>POLYGON ((385650.000 2691600.000, 498090.000 2...</td>\n",
       "    </tr>\n",
       "    <tr>\n",
       "      <th>8</th>\n",
       "      <td>/home/jovyan/bang2/VV/S1A_IW_20180709T234718_D...</td>\n",
       "      <td>VV_RTC</td>\n",
       "      <td>2018-07-09</td>\n",
       "      <td>32646</td>\n",
       "      <td>POLYGON ((385650.000 2691600.000, 498090.000 2...</td>\n",
       "    </tr>\n",
       "    <tr>\n",
       "      <th>9</th>\n",
       "      <td>/home/jovyan/bang2/VV/S1A_IW_20180721T234719_D...</td>\n",
       "      <td>VV_RTC</td>\n",
       "      <td>2018-07-21</td>\n",
       "      <td>32646</td>\n",
       "      <td>POLYGON ((385650.000 2691600.000, 498090.000 2...</td>\n",
       "    </tr>\n",
       "    <tr>\n",
       "      <th>10</th>\n",
       "      <td>/home/jovyan/bang2/VV/S1A_IW_20180802T234719_D...</td>\n",
       "      <td>VV_RTC</td>\n",
       "      <td>2018-08-02</td>\n",
       "      <td>32646</td>\n",
       "      <td>POLYGON ((385650.000 2691600.000, 498090.000 2...</td>\n",
       "    </tr>\n",
       "    <tr>\n",
       "      <th>11</th>\n",
       "      <td>/home/jovyan/bang2/VV/S1A_IW_20180814T234720_D...</td>\n",
       "      <td>VV_RTC</td>\n",
       "      <td>2018-08-14</td>\n",
       "      <td>32646</td>\n",
       "      <td>POLYGON ((385650.000 2691600.000, 498090.000 2...</td>\n",
       "    </tr>\n",
       "    <tr>\n",
       "      <th>12</th>\n",
       "      <td>/home/jovyan/bang2/VV/S1A_IW_20180826T234721_D...</td>\n",
       "      <td>VV_RTC</td>\n",
       "      <td>2018-08-26</td>\n",
       "      <td>32646</td>\n",
       "      <td>POLYGON ((385650.000 2691600.000, 498090.000 2...</td>\n",
       "    </tr>\n",
       "    <tr>\n",
       "      <th>13</th>\n",
       "      <td>/home/jovyan/bang2/VV/S1A_IW_20180907T234721_D...</td>\n",
       "      <td>VV_RTC</td>\n",
       "      <td>2018-09-07</td>\n",
       "      <td>32646</td>\n",
       "      <td>POLYGON ((385650.000 2691600.000, 498090.000 2...</td>\n",
       "    </tr>\n",
       "    <tr>\n",
       "      <th>14</th>\n",
       "      <td>/home/jovyan/bang2/VV/S1A_IW_20180919T234722_D...</td>\n",
       "      <td>VV_RTC</td>\n",
       "      <td>2018-09-19</td>\n",
       "      <td>32646</td>\n",
       "      <td>POLYGON ((385650.000 2691600.000, 498090.000 2...</td>\n",
       "    </tr>\n",
       "    <tr>\n",
       "      <th>15</th>\n",
       "      <td>/home/jovyan/bang2/VV/S1A_IW_20181001T234722_D...</td>\n",
       "      <td>VV_RTC</td>\n",
       "      <td>2018-10-01</td>\n",
       "      <td>32646</td>\n",
       "      <td>POLYGON ((385650.000 2691600.000, 498090.000 2...</td>\n",
       "    </tr>\n",
       "  </tbody>\n",
       "</table>\n",
       "</div>"
      ],
      "text/plain": [
       "                                                 file data_type  \\\n",
       "0   /home/jovyan/bang2/VH/S1A_IW_20180709T234718_D...    VH_RTC   \n",
       "1   /home/jovyan/bang2/VH/S1A_IW_20180721T234719_D...    VH_RTC   \n",
       "2   /home/jovyan/bang2/VH/S1A_IW_20180802T234719_D...    VH_RTC   \n",
       "3   /home/jovyan/bang2/VH/S1A_IW_20180814T234720_D...    VH_RTC   \n",
       "4   /home/jovyan/bang2/VH/S1A_IW_20180826T234721_D...    VH_RTC   \n",
       "5   /home/jovyan/bang2/VH/S1A_IW_20180907T234721_D...    VH_RTC   \n",
       "6   /home/jovyan/bang2/VH/S1A_IW_20180919T234722_D...    VH_RTC   \n",
       "7   /home/jovyan/bang2/VH/S1A_IW_20181001T234722_D...    VH_RTC   \n",
       "8   /home/jovyan/bang2/VV/S1A_IW_20180709T234718_D...    VV_RTC   \n",
       "9   /home/jovyan/bang2/VV/S1A_IW_20180721T234719_D...    VV_RTC   \n",
       "10  /home/jovyan/bang2/VV/S1A_IW_20180802T234719_D...    VV_RTC   \n",
       "11  /home/jovyan/bang2/VV/S1A_IW_20180814T234720_D...    VV_RTC   \n",
       "12  /home/jovyan/bang2/VV/S1A_IW_20180826T234721_D...    VV_RTC   \n",
       "13  /home/jovyan/bang2/VV/S1A_IW_20180907T234721_D...    VV_RTC   \n",
       "14  /home/jovyan/bang2/VV/S1A_IW_20180919T234722_D...    VV_RTC   \n",
       "15  /home/jovyan/bang2/VV/S1A_IW_20181001T234722_D...    VV_RTC   \n",
       "\n",
       "   SAR_acquisition_date   EPSG  \\\n",
       "0            2018-07-09  32646   \n",
       "1            2018-07-21  32646   \n",
       "2            2018-08-02  32646   \n",
       "3            2018-08-14  32646   \n",
       "4            2018-08-26  32646   \n",
       "5            2018-09-07  32646   \n",
       "6            2018-09-19  32646   \n",
       "7            2018-10-01  32646   \n",
       "8            2018-07-09  32646   \n",
       "9            2018-07-21  32646   \n",
       "10           2018-08-02  32646   \n",
       "11           2018-08-14  32646   \n",
       "12           2018-08-26  32646   \n",
       "13           2018-09-07  32646   \n",
       "14           2018-09-19  32646   \n",
       "15           2018-10-01  32646   \n",
       "\n",
       "                                             geometry  \n",
       "0   POLYGON ((385650.000 2691600.000, 498090.000 2...  \n",
       "1   POLYGON ((385650.000 2691600.000, 498090.000 2...  \n",
       "2   POLYGON ((385650.000 2691600.000, 498090.000 2...  \n",
       "3   POLYGON ((385650.000 2691600.000, 498090.000 2...  \n",
       "4   POLYGON ((385650.000 2691600.000, 498090.000 2...  \n",
       "5   POLYGON ((385650.000 2691600.000, 498090.000 2...  \n",
       "6   POLYGON ((385650.000 2691600.000, 498090.000 2...  \n",
       "7   POLYGON ((385650.000 2691600.000, 498090.000 2...  \n",
       "8   POLYGON ((385650.000 2691600.000, 498090.000 2...  \n",
       "9   POLYGON ((385650.000 2691600.000, 498090.000 2...  \n",
       "10  POLYGON ((385650.000 2691600.000, 498090.000 2...  \n",
       "11  POLYGON ((385650.000 2691600.000, 498090.000 2...  \n",
       "12  POLYGON ((385650.000 2691600.000, 498090.000 2...  \n",
       "13  POLYGON ((385650.000 2691600.000, 498090.000 2...  \n",
       "14  POLYGON ((385650.000 2691600.000, 498090.000 2...  \n",
       "15  POLYGON ((385650.000 2691600.000, 498090.000 2...  "
      ]
     },
     "metadata": {},
     "output_type": "display_data"
    }
   ],
   "source": [
    "gdf = gpd.GeoDataFrame(\n",
    "    {\n",
    "    'file': vh_paths + vv_paths,\n",
    "    'data_type': ['VV_RTC' if 'VV' in str(pth) else 'VH_RTC' for pth in vh_paths + vv_paths],\n",
    "    'SAR_acquisition_date': util.get_dates(vh_paths + vv_paths),\n",
    "    'EPSG': [util.get_epsg(p) for p in vh_paths + vv_paths],\n",
    "    'geometry': [util.get_geotiff_bbox(p) for p in vh_paths + vv_paths],\n",
    "    }\n",
    "                  )\n",
    "display(gdf)\n",
    "if gdf['EPSG'].nunique() > 1:\n",
    "    raise Exception(f'Error: Data is in {gdf[\"EPSG\"].nunique()} projections.')"
   ]
  },
  {
   "cell_type": "markdown",
   "id": "961fd5ff-9d1d-4862-9606-5e8d02673f64",
   "metadata": {},
   "source": [
    "---\n",
    "## 2. Generate the water extent maps"
   ]
  },
  {
   "cell_type": "code",
   "execution_count": 5,
   "id": "181a03c7-f6b7-4376-a17e-f6fa1abf5c58",
   "metadata": {},
   "outputs": [
    {
     "data": {
      "application/vnd.jupyter.widget-view+json": {
       "model_id": "d366295499d34e229e3faaaef609673e",
       "version_major": 2,
       "version_minor": 0
      },
      "text/plain": [
       "  0%|          | 0/8 [00:00<?, ?it/s]"
      ]
     },
     "metadata": {},
     "output_type": "display_data"
    },
    {
     "name": "stderr",
     "output_type": "stream",
     "text": [
      "Threshold too high! Using maximum threshold -15.5 db\n"
     ]
    },
    {
     "name": "stdout",
     "output_type": "stream",
     "text": [
      "CPU times: user 1min 26s, sys: 6.46 s, total: 1min 32s\n",
      "Wall time: 2min 34s\n"
     ]
    }
   ],
   "source": [
    "%%time\n",
    "for d in tqdm(set(gdf['SAR_acquisition_date'])):\n",
    "    vh_raster = gdf.loc[(gdf['SAR_acquisition_date'] == d) & (gdf['data_type'] == 'VH_RTC')]['file'].iloc[0]\n",
    "    vv_raster = gdf.loc[(gdf['SAR_acquisition_date'] == d) & (gdf['data_type'] == 'VV_RTC')]['file'].iloc[0]\n",
    "\n",
    "    water_extent_raster = water_mask_dir / f'water_extent_{datetime.strftime(d, \"%Y%m%d\")}.tif'\n",
    "\n",
    "    make_water_map(\n",
    "        water_extent_raster, \n",
    "        vv_raster, \n",
    "        vh_raster, \n",
    "        tile_shape=(100, 100),\n",
    "        max_vv_threshold=-15.5, \n",
    "        max_vh_threshold=-23., \n",
    "        hand_threshold=15., \n",
    "        hand_fraction=0.8\n",
    "    )"
   ]
  },
  {
   "cell_type": "markdown",
   "id": "03f1e8a3-81e8-41ab-a128-47f506e01750",
   "metadata": {},
   "source": [
    "*HYDRO30_Stack_Processing.ipynb - Version 1.0.0 - May 2024*"
   ]
  }
 ],
 "metadata": {
  "kernelspec": {
   "display_name": "hydrosar_water_mask [conda env:.local-hydrosar_water_mask]",
   "language": "python",
   "name": "conda-env-.local-hydrosar_water_mask-hydrosar_water_mask"
  },
  "language_info": {
   "codemirror_mode": {
    "name": "ipython",
    "version": 3
   },
   "file_extension": ".py",
   "mimetype": "text/x-python",
   "name": "python",
   "nbconvert_exporter": "python",
   "pygments_lexer": "ipython3",
   "version": "3.11.0"
  }
 },
 "nbformat": 4,
 "nbformat_minor": 5
}
