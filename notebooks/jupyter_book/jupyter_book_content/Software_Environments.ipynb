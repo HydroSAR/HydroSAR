{
 "cells": [
  {
   "cell_type": "markdown",
   "id": "d3a54adc-b482-4557-93a6-707a69bc3118",
   "metadata": {},
   "source": [
    "# Install Required Software with Conda\n",
    "\n",
    "*Author: Alex Lewandowski; Alaska Satellite Facility*\n",
    "\n",
    "Installs the conda environment needed to run the notebooks in this Jupyter Book.\n",
    "\n",
    "- `hydrosar`\n",
    "\n",
    "---\n",
    "## 0. Install any missing Jupyter packages"
   ]
  },
  {
   "cell_type": "code",
   "execution_count": null,
   "id": "ab0e8759-1814-4321-b224-2140a13c98b6",
   "metadata": {},
   "outputs": [],
   "source": [
    "import importlib.util\n",
    "\n",
    "packages = ['notebook', 'ipywidgets', 'nb_conda_kernels']\n",
    "pkg_str = ''\n",
    "for pkg in packages:\n",
    "    if not importlib.util.find_spec(pkg):\n",
    "        pkg_str = f'{pkg_str}{pkg} '\n",
    "if pkg_str:\n",
    "    !mamba install -c {pkg_str}--yes\n",
    "    \n",
    "    print('\\n\\nIf the `notebook package` was installed, you may need to restart Jupyter Lab \\n'\n",
    "    'before widgets in the notebook will display correctly.')  \n",
    "\n",
    "    print('\\n\\nIf the `nb_conda_kernels` package was installed, you may need to restart Jupyter Lab before the \\n'\n",
    "         '`osl_opera_cslc_jbook_env` environment created with this notebook will be available to use \\n'\n",
    "          'with the notebooks in this Jupyter Book that require it')    "
   ]
  },
  {
   "cell_type": "markdown",
   "id": "89292049-dd69-4295-9eb8-89ae140dc3da",
   "metadata": {},
   "source": [
    "**Where are you running this notebook and installing these environments?**\n",
    "\n",
    "We ask this to properly set the `--prefix` path when creating environments in OpenSARLab.\n",
    "\n",
    "\n",
    "If you are working in [OpenSARLab](https://asf.alaska.edu/asf-services-open-science-lab/), we will use `~/.local/envs`, otherwise we will use your system's conda `root_prefix` path."
   ]
  },
  {
   "cell_type": "code",
   "execution_count": null,
   "id": "58fcc720-2c0b-4c61-8027-e92a2a33935e",
   "metadata": {},
   "outputs": [],
   "source": [
    "import ipywidgets as widgets\n",
    "\n",
    "osl_option = widgets.RadioButtons(\n",
    "    options=['In OpenSARLab', 'Not in OpenSARLab'],\n",
    "    description='Where are you working?',\n",
    "    disabled=False,\n",
    "    layout=widgets.Layout(min_width='800px')\n",
    ")\n",
    "display(osl_option)"
   ]
  },
  {
   "cell_type": "code",
   "execution_count": null,
   "id": "a9e3c3d0-43f5-4aed-a153-bcb770b409c1",
   "metadata": {},
   "outputs": [],
   "source": [
    "from pathlib import Path\n",
    "\n",
    "env_config_dir = Path.cwd().parent / 'jupyter_book_environment'\n",
    "\n",
    "in_osl = 'In' in osl_option.value\n",
    "\n",
    "if in_osl:\n",
    "    conda_prefix = Path.home() / '.local/envs'\n",
    "else:\n",
    "    conda_info = subprocess.run(\n",
    "        ['conda', 'run', '-n', 'base', 'conda', 'info', '--json'], \n",
    "        capture_output=True, \n",
    "        text=True\n",
    "    )\n",
    "    info = json.loads(conda_info.stdout)\n",
    "    conda_prefix = Path(f\"{info['root_prefix']}/envs\")\n",
    "print(f'conda prefix: {conda_prefix}')"
   ]
  },
  {
   "cell_type": "markdown",
   "id": "d3876ecc-f409-4709-809c-9a84e871729e",
   "metadata": {},
   "source": [
    "---\n",
    "## 1. Build the `hydrosar` Conda Environment\n",
    "\n",
    "**Select whether to create the environment from configs with explicitly pinned package versions or from unpinned configs**\n",
    "\n",
    "After running the following code cell:\n",
    "- Select `Pinned` for maximum (but not guaranteed) stability when creating the environment on a Linux x86 system\n",
    "- Select `Unpinned` to attempt installing the latest package versions or if on a non-Linux x86 system"
   ]
  },
  {
   "cell_type": "code",
   "execution_count": null,
   "id": "98e9ca51-a11e-4d8e-ade5-320dcac9dfbe",
   "metadata": {},
   "outputs": [],
   "source": [
    "config_options = widgets.RadioButtons(\n",
    "    options=['Pinned', 'Unpinned'],\n",
    "    description='Create the environment from pinned or unpinned configs',\n",
    "    disabled=False,\n",
    "    layout=widgets.Layout(min_width='800px')\n",
    ")\n",
    "display(config_options)"
   ]
  },
  {
   "cell_type": "code",
   "execution_count": null,
   "id": "6cd8b5d4-fa91-4b04-83ed-f00f0cb3f190",
   "metadata": {},
   "outputs": [],
   "source": [
    "import yaml\n",
    "\n",
    "pinned = 'Pinned' in config_options.value\n",
    "if pinned:\n",
    "    yaml_name = '.yaml'\n",
    "else:\n",
    "    yaml_name = 'hydrosar.yml'\n",
    "\n",
    "conda_yaml_pth = list(env_config_dir.glob(yaml_name))[0]\n",
    "with open(conda_yaml_pth, 'r') as f:\n",
    "    env = yaml.safe_load(f)\n",
    "    env_name = env['name']\n",
    "\n",
    "env_prefix = conda_prefix / env_name\n",
    "\n",
    "print(f'environment name: {env_name}')\n",
    "print(f'environment prefix: {env_prefix}')"
   ]
  },
  {
   "cell_type": "code",
   "execution_count": null,
   "id": "25a94617-00fb-41ea-9924-fc3f546f1b9a",
   "metadata": {},
   "outputs": [],
   "source": [
    "!mamba clean -p -t --yes\n",
    "!pip cache purge"
   ]
  },
  {
   "cell_type": "code",
   "execution_count": null,
   "id": "bc5b7965-e4ad-4406-b292-af1038f19e8e",
   "metadata": {
    "scrolled": true
   },
   "outputs": [],
   "source": [
    "import shutil\n",
    "\n",
    "# Create the environment\n",
    "!mamba env create -f $conda_yaml_pth --prefix $env_prefix --force\n",
    "\n",
    "# Provide access to the environment in notebooks as a Jupyter kernel named for the environment \n",
    "!{env_prefix}/bin/python -m ipykernel install --prefix {env_prefix} --name {env_name}\n",
    "\n",
    "# Having created a well-named kernel, delete the default kernel named 'Python'\n",
    "shutil.rmtree(env_prefix/'share/jupyter/kernels/python3')"
   ]
  },
  {
   "cell_type": "code",
   "execution_count": null,
   "id": "a5820d8a-7692-4975-94cb-97e923a5cfa2",
   "metadata": {},
   "outputs": [],
   "source": []
  }
 ],
 "metadata": {
  "kernelspec": {
   "display_name": "base",
   "language": "python",
   "name": "python3"
  },
  "language_info": {
   "codemirror_mode": {
    "name": "ipython",
    "version": 3
   },
   "file_extension": ".py",
   "mimetype": "text/x-python",
   "name": "python",
   "nbconvert_exporter": "python",
   "pygments_lexer": "ipython3",
   "version": "3.11.6"
  }
 },
 "nbformat": 4,
 "nbformat_minor": 5
}
