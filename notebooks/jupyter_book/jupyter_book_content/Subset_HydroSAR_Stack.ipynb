{
 "cells": [
  {
   "cell_type": "markdown",
   "metadata": {
    "hideCode": false,
    "hidePrompt": false,
    "tags": []
   },
   "source": [
    "# Subset HydroSAR Stack\n",
    "\n",
    "### Alex Lewandowski; Alaska Satellite Facility\n",
    "\n",
    "This notebook subsets a stack of VV RTC and DEM GeoTiffs to an area of interest.\n",
    "\n",
    "Subsetting may be performed with:\n",
    "1. An interactive map with a drag/drop bounding box selector\n",
    "1. Well-Known Text (WKT)\n",
    "1. A shapefile\n",
    "\n",
    "---\n",
    "\n",
    "<div class=\"alert alert-info\" style=\"display: flex; align-items: center; font-family: 'Times New Roman', Times, serif; background-color: #d1ecf1;\">\n",
    "  <div style=\"display: flex; align-items: center; width: 5%;\">\n",
    "    <a href=\"https://github.com/HydroSAR/HydroSAR/issues\">\n",
    "      <img src=\"https://opensarlab-docs.asf.alaska.edu/opensarlab-notebook-assets/logos/github_issues.png\" alt=\"GitHub logo over the word Issues\" style=\"width: 100px;\">\n",
    "    </a>\n",
    "  </div>\n",
    "  <div style=\"width: 95%;\">\n",
    "    <b>Did you find a bug? Do you have a feature request? Do you have questions about HydroSAR?</b>\n",
    "    <br/>\n",
    "    Explore GitHub Issues on this Jupyter Book's GitHub repository. Find solutions, add to the discussion, or start a new bug report or feature request: <a href=\"https://github.com/HydroSAR/HydroSAR/issues\">HydroSAR Issues</a>\n",
    "  </div>\n",
    "</div>\n",
    "\n",
    "<div class=\"alert alert-info\" style=\"display: flex; align-items: center; justify-content: space-between; font-family: 'Times New Roman', Times, serif; background-color: #d1ecf1;\">\n",
    "  <div style=\"display: flex; align-items: center; margin-right: 10px; width: 5%;\">\n",
    "    <a href=\"mailto:uso@asf.alaska.edu\">\n",
    "      <img src=\"https://opensarlab-docs.asf.alaska.edu/opensarlab-notebook-assets/logos/ASF_support_logo.png\" alt=\"ASF logo\" style=\"width: 100px\">\n",
    "    </a>\n",
    "  </div>\n",
    "  <div style=\"width: 95%;\">\n",
    "    <b>Have a question related to SAR or ASF data access?</b>\n",
    "    <br/>\n",
    "    Contact ASF User Support: <a href=\"mailto:uso@asf.alaska.edu\">uso@asf.alaska.edu</a>\n",
    "  </div>\n",
    "</div>\n",
    "\n",
    "---\n",
    "## 0. Select a directory holding an RTC stack prepared with the [Prepare a SAR RTC Data Stack for HydroSAR notebook](Prepare_HydroSAR_RTC_Stack.ipynb)\n",
    "\n",
    "The directory should contain the following subdirectories:\n",
    "- `VH`\n",
    "- `VV`"
   ]
  },
  {
   "cell_type": "code",
   "execution_count": null,
   "metadata": {},
   "outputs": [],
   "source": [
    "from pathlib import Path\n",
    "\n",
    "from ipyfilechooser import FileChooser\n",
    "from IPython.display import display\n",
    "\n",
    "fc = FileChooser(Path.home())\n",
    "display(fc)"
   ]
  },
  {
   "cell_type": "code",
   "execution_count": null,
   "metadata": {},
   "outputs": [],
   "source": [
    "data_dir = Path(fc.selected_path)\n",
    "vh_dir = data_dir / 'VH'\n",
    "vv_dir = data_dir / 'VV'\n",
    "\n",
    "vh_paths = sorted(list(vh_dir.glob('*VH.tif')))\n",
    "vv_paths = sorted(list(vv_dir.glob('*VV.tif')))"
   ]
  },
  {
   "cell_type": "markdown",
   "metadata": {
    "hideCode": false,
    "hidePrompt": false
   },
   "source": [
    "---\n",
    "## 1. Load the details of the data stack into a GeoDataFrame \n",
    "\n",
    "This assumes the data are in a single projection. "
   ]
  },
  {
   "cell_type": "code",
   "execution_count": null,
   "metadata": {},
   "outputs": [],
   "source": [
    "import geopandas as gpd\n",
    "import sys\n",
    "\n",
    "current = Path(\"..\").resolve()\n",
    "sys.path.append(str(current))\n",
    "import util.util as util\n",
    "\n",
    "gdf = gpd.GeoDataFrame(\n",
    "    {\n",
    "    'file': vh_paths + vv_paths,\n",
    "    'data_type': ['VV_RTC' if 'VV' in str(pth) else 'VH_RTC' for pth in vh_paths + vv_paths],\n",
    "    'SAR_acquisition_dt': util.get_dates(vh_paths + vv_paths),\n",
    "    'EPSG': [util.get_epsg(p) for p in vh_paths + vv_paths],\n",
    "    'geometry': [util.get_geotiff_bbox(p) for p in vh_paths + vv_paths],\n",
    "    }\n",
    "                  )\n",
    "display(gdf)\n",
    "if gdf['EPSG'].nunique() > 1:\n",
    "    raise Exception(f'Error: Data is in {gdf[\"EPSG\"].nunique()} projections.')"
   ]
  },
  {
   "cell_type": "markdown",
   "metadata": {
    "hideCode": false,
    "hidePrompt": false
   },
   "source": [
    "---\n",
    "## 2. Select how to define your AOI for subsetting"
   ]
  },
  {
   "cell_type": "code",
   "execution_count": null,
   "metadata": {},
   "outputs": [],
   "source": [
    "import opensarlab_lib as osl\n",
    "\n",
    "subset_option = osl.select_parameter([\n",
    "    'Draw a bounding box on a map',\n",
    "    'Provide a polygon in Well-Known Text (WKT)',\n",
    "    'Provide a shapefile'\n",
    "])\n",
    "\n",
    "display(subset_option)"
   ]
  },
  {
   "cell_type": "markdown",
   "metadata": {},
   "source": [
    "---\n",
    "## 3. Define a subset AOI"
   ]
  },
  {
   "cell_type": "code",
   "execution_count": null,
   "metadata": {},
   "outputs": [],
   "source": [
    "%matplotlib widget\n",
    "\n",
    "from datetime import datetime\n",
    "\n",
    "from osgeo import ogr\n",
    "from rasterio.warp import transform_bounds\n",
    "\n",
    "draw = 'Draw' in subset_option.value\n",
    "wkt_poly = 'WKT' in subset_option.value\n",
    "\n",
    "max_extents = osl.get_max_extents(vv_paths)\n",
    "xmin, ymin, xmax, ymax = transform_bounds(int(osl.get_projection(str(vv_paths[0]))), 3857, *max_extents)\n",
    "max_extents = [xmin, ymin, xmax, ymax]\n",
    "\n",
    "common_extents = osl.get_common_coverage_extents(vv_paths)\n",
    "xmin, ymin, xmax, ymax = transform_bounds(int(osl.get_projection(str(vv_paths[0]))), 3857, *common_extents)\n",
    "common_extents = [xmin, ymin, xmax, ymax]\n",
    "\n",
    "\n",
    "if draw:   \n",
    "    print('Maximum Extents: Pixels in this area are guaranteed to be included in at least one RTC in the stack.\\n\\n')\n",
    "    \n",
    "    print('Common Extents: Pixels in this area are guaranteed to included in every RTC in the stack.\\n\\n')\n",
    "    \n",
    "    print(f\"Select an AOI inside the common area covered by the stack.\")\n",
    "    \n",
    "    aoi = osl.AOI_Selector(max_extents, common_extents, figsize=(10, 8))\n",
    "elif wkt_poly:   \n",
    "    correct_wkt_input = False\n",
    "    while not correct_wkt_input:\n",
    "        wkt, wkt_shapely_geom = util.get_valid_wkt()\n",
    "        wkt_ogr_geom = ogr.CreateGeometryFromWkt(wkt)\n",
    "        \n",
    "        if not util.check_within_bounds(wkt_shapely_geom, gdf):\n",
    "            print('WKT exceeds bounds of at least one dataset')\n",
    "            continue\n",
    "    \n",
    "        correct_wkt_input = True\n",
    "        \n",
    "    shp_path = data_dir / f'shape_{datetime.strftime(datetime.now(), \"%Y%m%dT%H%M%S\")}.shp'\n",
    "    epsg = int(gdf.loc[gdf['data_type'] == 'VV_RTC'].iloc[0]['EPSG'])\n",
    "    util.save_shapefile(wkt_ogr_geom, epsg, shp_path)\n",
    "else:\n",
    "    print('Select a shapefile (*.shp)')\n",
    "    shp_fc = FileChooser(Path.home())\n",
    "    display(shp_fc)"
   ]
  },
  {
   "cell_type": "markdown",
   "metadata": {},
   "source": [
    "**If providing an AOI with WKT or a shapefile, confirm its location on a plot before subsetting**"
   ]
  },
  {
   "cell_type": "code",
   "execution_count": null,
   "metadata": {},
   "outputs": [],
   "source": [
    "import contextily as ctx\n",
    "from matplotlib.lines import Line2D\n",
    "import matplotlib.pyplot as plt \n",
    "plt.rcParams.update({'font.size': 12})\n",
    "from shapely.geometry import box\n",
    "\n",
    "if not draw and not wkt_poly:\n",
    "    shp_path = Path(shp_fc.selected)\n",
    "    if shp_path.suffix != '.shp':\n",
    "        raise Exception(f'Selected file suffix not \".shp\"')\n",
    "if not draw:   \n",
    "    shp_gdf = gpd.read_file(shp_path)\n",
    "\n",
    "    box1 = gpd.GeoDataFrame({\"geometry\": [box(*max_extents)]}, crs='EPSG:3857')\n",
    "    box2 = gpd.GeoDataFrame({\"geometry\": [box(*common_extents)]}, crs='EPSG:3857')\n",
    "    box1 = box1.to_crs(crs=shp_gdf.crs.to_string())\n",
    "    box2 = box2.to_crs(crs=shp_gdf.crs.to_string())\n",
    "    \n",
    "    fig, ax = plt.subplots(1, 1, figsize=(10, 10))\n",
    "    shp_gdf.plot(ax=ax, color='blue', alpha=0.5, edgecolor='k')\n",
    "    box1.plot(ax=ax, color='none', edgecolor='red', linewidth=4)\n",
    "    box2.plot(ax=ax, color='none', edgecolor='green', linewidth=4)\n",
    "    \n",
    "    ctx.add_basemap(ax, crs=shp_gdf.crs.to_string(), source=ctx.providers.OpenTopoMap)\n",
    "    \n",
    "    minx, miny, maxx, maxy = box1.total_bounds\n",
    "    buffer_percentage = 0.05\n",
    "    buffer_x = (maxx - minx) * buffer_percentage\n",
    "    buffer_y = (maxy - miny) * buffer_percentage\n",
    "    buffered_minx = minx - buffer_x\n",
    "    buffered_maxx = maxx + buffer_x\n",
    "    buffered_miny = miny - buffer_y\n",
    "    buffered_maxy = maxy + buffer_y\n",
    "    \n",
    "    ax.set_xlim(buffered_minx, buffered_maxx)\n",
    "    ax.set_ylim(buffered_miny, buffered_maxy)\n",
    "    ax.set_title('Loaded Shape for Subsetting')\n",
    "    \n",
    "    legend_elements = [\n",
    "        Line2D([0], [0], color='red', lw=4, label='Max area covered by data stack'),\n",
    "        Line2D([0], [0], color='green', lw=4, label='Common area covered by data stack')\n",
    "    ]\n",
    "    ax.legend(handles=legend_elements)\n",
    "    plt.show()\n",
    "    print('Max area covered by data stack: Every pixel guaranteed to be present in at least 1 image')\n",
    "    print('Common area covered by data stack: Every pixel guaranteed to be present in all images')"
   ]
  },
  {
   "cell_type": "markdown",
   "metadata": {},
   "source": [
    "---\n",
    "## 4. Subset the data"
   ]
  },
  {
   "cell_type": "code",
   "execution_count": null,
   "metadata": {},
   "outputs": [],
   "source": [
    "from IPython.display import Markdown\n",
    "from osgeo import gdal\n",
    "from tqdm.auto import tqdm\n",
    "\n",
    "for pth in tqdm(gdf['file']):\n",
    "    print(f'Subsetting: {pth}')\n",
    "\n",
    "    if draw:\n",
    "        try:\n",
    "            xmin, ymin, xmax, ymax = transform_bounds(\n",
    "                3857,\n",
    "                int(gdf['EPSG'].iloc[0]), \n",
    "                *[aoi.x1, aoi.y1, aoi.x2, aoi.y2]\n",
    "            )\n",
    "            ul = [xmin, ymax]\n",
    "            lr = [xmax, ymin]\n",
    "        except TypeError:\n",
    "            print('TypeError')\n",
    "            display(Markdown(f'<text style=color:red>This error may occur if an AOI was not selected.</text>'))\n",
    "            display(Markdown(f'<text style=color:red>Note that the square tool icon in the AOI selector menu is <b>NOT</b> the selection tool. It is the zoom tool.</text>'))\n",
    "        temp_pth = pth.parent/f'subset_{pth.name}'\n",
    "        gdal.Translate(destName=temp_pth, srcDS=pth, projWin=[ul[0], ul[1], lr[0], lr[1]])\n",
    "        pth.unlink()\n",
    "        temp_pth.rename(pth)\n",
    "    else:\n",
    "        warp_args = gdal.WarpOptions(cutlineDSName=shp_path, cropToCutline=True) \n",
    "        gdal.Warp(pth, pth, options=warp_args)"
   ]
  },
  {
   "cell_type": "markdown",
   "metadata": {},
   "source": [
    "*Subset_HydroSAR_Stack.ipynb - Version 1.0.0 - May 2024*"
   ]
  }
 ],
 "metadata": {
  "hide_code_all_hidden": false,
  "kernelspec": {
   "display_name": "hydrosar [conda env:.local-hydrosar]",
   "language": "python",
   "name": "conda-env-.local-hydrosar-hydrosar"
  },
  "language_info": {
   "codemirror_mode": {
    "name": "ipython",
    "version": 3
   },
   "file_extension": ".py",
   "mimetype": "text/x-python",
   "name": "python",
   "nbconvert_exporter": "python",
   "pygments_lexer": "ipython3",
   "version": "3.11.0"
  }
 },
 "nbformat": 4,
 "nbformat_minor": 4
}
