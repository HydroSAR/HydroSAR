{
 "cells": [
  {
   "cell_type": "markdown",
   "id": "65b6fd1b-9647-4094-8383-74a88016aa3d",
   "metadata": {},
   "source": [
    "# 2 - Retrieve ERA5 Weather Data from Copernicus Climate Data Store\n",
    "\n",
    "**This notebook will download ERA5 total precipitation weather data from the Copernicus Climate Data Store (CDS), covering the spatial and temporal extents of an RTC stack prepared for HydroSAR.**\n",
    "\n",
    "---\n",
    "## 0. Import required software"
   ]
  },
  {
   "cell_type": "code",
   "execution_count": 1,
   "id": "8042eeab-84f9-48c1-b4f2-e8a6ef5f55c2",
   "metadata": {},
   "outputs": [],
   "source": [
    "from pathlib import Path\n",
    "import sys\n",
    "\n",
    "import cdsapi\n",
    "import ciso8601\n",
    "from ipyfilechooser import FileChooser\n",
    "import geopandas as gpd\n",
    "import xarray as xr\n",
    "\n",
    "current = Path(\"..\").resolve()\n",
    "sys.path.append(str(current))\n",
    "import util.util as util"
   ]
  },
  {
   "cell_type": "markdown",
   "id": "e7608974-b65c-41d0-9eba-30d8019b29de",
   "metadata": {},
   "source": [
    "---\n",
    "## 1. Select a directory holding an RTC stack prepared for HydroSAR\n",
    "\n",
    "The directory should contain the following subdirectories:\n",
    "- `DEM`\n",
    "- `VV`"
   ]
  },
  {
   "cell_type": "code",
   "execution_count": 2,
   "id": "fcb85da7-257f-4218-b822-0eec906ff574",
   "metadata": {},
   "outputs": [
    {
     "name": "stdout",
     "output_type": "stream",
     "text": [
      "Select a data directory holding an RTC stack prepared for HydroSAR\n"
     ]
    },
    {
     "data": {
      "application/vnd.jupyter.widget-view+json": {
       "model_id": "03e516efb34c4462aa118d2fcc38735e",
       "version_major": 2,
       "version_minor": 0
      },
      "text/plain": [
       "FileChooser(path='/home/jovyan', filename='', title='', show_hidden=False, select_desc='Select', change_desc='…"
      ]
     },
     "metadata": {},
     "output_type": "display_data"
    }
   ],
   "source": [
    "path = Path.home()\n",
    "fc = FileChooser(path)\n",
    "print('Select a data directory holding an RTC stack prepared for HydroSAR')\n",
    "display(fc)"
   ]
  },
  {
   "cell_type": "markdown",
   "id": "7fa59fc4-50c5-4d28-a277-92da335b1a6d",
   "metadata": {},
   "source": [
    "---\n",
    "## 2. Create a GeoDataFrame for the stack"
   ]
  },
  {
   "cell_type": "code",
   "execution_count": 3,
   "id": "2d0e905d-d0c2-4887-be80-6bad0d6b2091",
   "metadata": {},
   "outputs": [
    {
     "data": {
      "text/html": [
       "<div>\n",
       "<style scoped>\n",
       "    .dataframe tbody tr th:only-of-type {\n",
       "        vertical-align: middle;\n",
       "    }\n",
       "\n",
       "    .dataframe tbody tr th {\n",
       "        vertical-align: top;\n",
       "    }\n",
       "\n",
       "    .dataframe thead th {\n",
       "        text-align: right;\n",
       "    }\n",
       "</style>\n",
       "<table border=\"1\" class=\"dataframe\">\n",
       "  <thead>\n",
       "    <tr style=\"text-align: right;\">\n",
       "      <th></th>\n",
       "      <th>file</th>\n",
       "      <th>SAR_acquisition_dt</th>\n",
       "      <th>geometry</th>\n",
       "    </tr>\n",
       "  </thead>\n",
       "  <tbody>\n",
       "    <tr>\n",
       "      <th>0</th>\n",
       "      <td>/home/jovyan/bang/VV/S1A_IW_20180709T234718_DV...</td>\n",
       "      <td>2018-07-09 23:47:18</td>\n",
       "      <td>POLYGON ((90.75509 23.61842, 93.59932 23.61842...</td>\n",
       "    </tr>\n",
       "    <tr>\n",
       "      <th>1</th>\n",
       "      <td>/home/jovyan/bang/VV/S1A_IW_20180721T234719_DV...</td>\n",
       "      <td>2018-07-21 23:47:19</td>\n",
       "      <td>POLYGON ((90.75509 23.61869, 93.59933 23.61869...</td>\n",
       "    </tr>\n",
       "    <tr>\n",
       "      <th>2</th>\n",
       "      <td>/home/jovyan/bang/VV/S1A_IW_20180802T234719_DV...</td>\n",
       "      <td>2018-08-02 23:47:19</td>\n",
       "      <td>POLYGON ((90.75597 23.61898, 93.60022 23.61898...</td>\n",
       "    </tr>\n",
       "    <tr>\n",
       "      <th>3</th>\n",
       "      <td>/home/jovyan/bang/VV/S1A_IW_20180814T234720_DV...</td>\n",
       "      <td>2018-08-14 23:47:20</td>\n",
       "      <td>POLYGON ((90.75509 23.61896, 93.59663 23.61896...</td>\n",
       "    </tr>\n",
       "    <tr>\n",
       "      <th>4</th>\n",
       "      <td>/home/jovyan/bang/VV/S1A_IW_20180826T234721_DV...</td>\n",
       "      <td>2018-08-26 23:47:21</td>\n",
       "      <td>POLYGON ((90.75480 23.61869, 93.59902 23.61869...</td>\n",
       "    </tr>\n",
       "    <tr>\n",
       "      <th>5</th>\n",
       "      <td>/home/jovyan/bang/VV/S1A_IW_20180907T234721_DV...</td>\n",
       "      <td>2018-09-07 23:47:21</td>\n",
       "      <td>POLYGON ((90.75450 23.61869, 93.59872 23.61869...</td>\n",
       "    </tr>\n",
       "    <tr>\n",
       "      <th>6</th>\n",
       "      <td>/home/jovyan/bang/VV/S1A_IW_20180919T234722_DV...</td>\n",
       "      <td>2018-09-19 23:47:22</td>\n",
       "      <td>POLYGON ((90.75480 23.61842, 93.59932 23.61842...</td>\n",
       "    </tr>\n",
       "    <tr>\n",
       "      <th>7</th>\n",
       "      <td>/home/jovyan/bang/VV/S1A_IW_20181001T234722_DV...</td>\n",
       "      <td>2018-10-01 23:47:22</td>\n",
       "      <td>POLYGON ((90.75568 23.61870, 93.60022 23.61870...</td>\n",
       "    </tr>\n",
       "  </tbody>\n",
       "</table>\n",
       "</div>"
      ],
      "text/plain": [
       "                                                file  SAR_acquisition_dt  \\\n",
       "0  /home/jovyan/bang/VV/S1A_IW_20180709T234718_DV... 2018-07-09 23:47:18   \n",
       "1  /home/jovyan/bang/VV/S1A_IW_20180721T234719_DV... 2018-07-21 23:47:19   \n",
       "2  /home/jovyan/bang/VV/S1A_IW_20180802T234719_DV... 2018-08-02 23:47:19   \n",
       "3  /home/jovyan/bang/VV/S1A_IW_20180814T234720_DV... 2018-08-14 23:47:20   \n",
       "4  /home/jovyan/bang/VV/S1A_IW_20180826T234721_DV... 2018-08-26 23:47:21   \n",
       "5  /home/jovyan/bang/VV/S1A_IW_20180907T234721_DV... 2018-09-07 23:47:21   \n",
       "6  /home/jovyan/bang/VV/S1A_IW_20180919T234722_DV... 2018-09-19 23:47:22   \n",
       "7  /home/jovyan/bang/VV/S1A_IW_20181001T234722_DV... 2018-10-01 23:47:22   \n",
       "\n",
       "                                            geometry  \n",
       "0  POLYGON ((90.75509 23.61842, 93.59932 23.61842...  \n",
       "1  POLYGON ((90.75509 23.61869, 93.59933 23.61869...  \n",
       "2  POLYGON ((90.75597 23.61898, 93.60022 23.61898...  \n",
       "3  POLYGON ((90.75509 23.61896, 93.59663 23.61896...  \n",
       "4  POLYGON ((90.75480 23.61869, 93.59902 23.61869...  \n",
       "5  POLYGON ((90.75450 23.61869, 93.59872 23.61869...  \n",
       "6  POLYGON ((90.75480 23.61842, 93.59932 23.61842...  \n",
       "7  POLYGON ((90.75568 23.61870, 93.60022 23.61870...  "
      ]
     },
     "execution_count": 3,
     "metadata": {},
     "output_type": "execute_result"
    }
   ],
   "source": [
    "data_path = Path(fc.selected_path)\n",
    "vv_paths = sorted(list((data_path / 'VV').glob('*VV*.tif')))\n",
    "epsg = 4326\n",
    "\n",
    "gdf = gpd.GeoDataFrame(\n",
    "    {\n",
    "    'file': vv_paths,\n",
    "    'SAR_acquisition_dt': util.get_dates(vv_paths),\n",
    "    'geometry': [util.get_geotiff_bbox(pth, epsg) for pth in vv_paths]\n",
    "    },\n",
    "    crs=f'EPSG:{epsg}'\n",
    "                  )\n",
    "gdf"
   ]
  },
  {
   "cell_type": "markdown",
   "id": "25292a96-13ce-45ef-83bb-be7bf71e98e3",
   "metadata": {},
   "source": [
    "## 3. Download the ERA5 precipitation data for the stack"
   ]
  },
  {
   "cell_type": "code",
   "execution_count": 4,
   "id": "90033212-5506-472c-8088-96dec238c6ca",
   "metadata": {},
   "outputs": [
    {
     "name": "stderr",
     "output_type": "stream",
     "text": [
      "2024-05-10 21:53:22,424 INFO Welcome to the CDS\n",
      "2024-05-10 21:53:22,425 INFO Sending request to https://cds.climate.copernicus.eu/api/v2/resources/reanalysis-era5-single-levels\n",
      "2024-05-10 21:53:22,705 INFO Request is completed\n",
      "2024-05-10 21:53:22,705 INFO Downloading https://download-0018.copernicus-climate.eu/cache-compute-0018/cache/data8/adaptor.mars.internal-1715372718.7245975-6814-11-0dfb866d-03a8-4a5f-bcd1-0046cb00fe3c.nc to /home/jovyan/bang/ERA5/era5_data.nc (214.9M)\n",
      "2024-05-10 21:54:09,818 INFO Download rate 4.6M/s    \n"
     ]
    }
   ],
   "source": [
    "# Create a folder to host the ERA5 data\n",
    "weather_data_dir = data_path / 'ERA5'\n",
    "weather_data_dir.mkdir(exist_ok=True)\n",
    "\n",
    "# Create a new instance of the CDS API client\n",
    "c = cdsapi.Client()\n",
    "\n",
    "# # Create a list of the years covered by the tiffs\n",
    "years = [str(dt.year) for dt in gdf['SAR_acquisition_dt']]\n",
    "years = sorted(list(set(years)))\n",
    "years\n",
    "\n",
    "bounds = gdf.total_bounds.tolist()\n",
    "bounds = [bounds[1], bounds[2], bounds[3], bounds[0]]\n",
    "\n",
    "# Get the data from CDS\n",
    "c.retrieve(\n",
    "        'reanalysis-era5-single-levels',\n",
    "        {\n",
    "            'product_type': 'reanalysis',\n",
    "            'variable': 'total_precipitation',\n",
    "            'format': 'netcdf',\n",
    "            'year': years,\n",
    "            'month': [\n",
    "                '01', '02', '03',\n",
    "                '04', '05', '06',\n",
    "                '07', '08', '09',\n",
    "                '10', '11', '12',\n",
    "            ],\n",
    "            'day': [\n",
    "                '01', '02', '03',\n",
    "                '04', '05', '06',\n",
    "                '07', '08', '09',\n",
    "                '10', '11', '12',\n",
    "                '13', '14', '15',\n",
    "                '16', '17', '18',\n",
    "                '19', '20', '21',\n",
    "                '22', '23', '24',\n",
    "                '25', '26', '27',\n",
    "                '28', '29', '30',\n",
    "                '31',\n",
    "            ],\n",
    "            'time': [\n",
    "                '00:00', '01:00', '02:00',\n",
    "                '03:00', '04:00', '05:00',\n",
    "                '06:00', '07:00', '08:00',\n",
    "                '09:00', '10:00', '11:00',\n",
    "                '12:00', '13:00', '14:00',\n",
    "                '15:00', '16:00', '17:00',\n",
    "                '18:00', '19:00', '20:00',\n",
    "                '21:00', '22:00', '23:00',\n",
    "            ],\n",
    "            'area': bounds,  # AOI\n",
    "        },\n",
    "        f'{weather_data_dir}/era5_data.nc',\n",
    ")\n",
    "\n",
    "# Load precipitation dataset's name\n",
    "filename = f'{weather_data_dir}/era5_data.nc'\n",
    "\n",
    "# Load it, drop the 2nd level of precipitation (expver=5), resample for 1 value per day, in-between are summed, and save as a netcdf\n",
    "ds = xr.open_dataset(filename).resample(time='D').sum().to_netcdf(f'{weather_data_dir}/era5_data.nc')"
   ]
  },
  {
   "cell_type": "markdown",
   "id": "293f8059-5fa4-4c62-9ac2-592c9c163139",
   "metadata": {},
   "source": [
    "*1b-ERA5_Download.ipynb - Version 1.0.0 - May 2024*"
   ]
  }
 ],
 "metadata": {
  "kernelspec": {
   "display_name": "hydrosar_rtc_era5 [conda env:.local-hydrosar_rtc_era5]",
   "language": "python",
   "name": "conda-env-.local-hydrosar_rtc_era5-hydrosar_rtc_era5"
  },
  "language_info": {
   "codemirror_mode": {
    "name": "ipython",
    "version": 3
   },
   "file_extension": ".py",
   "mimetype": "text/x-python",
   "name": "python",
   "nbconvert_exporter": "python",
   "pygments_lexer": "ipython3",
   "version": "3.12.3"
  }
 },
 "nbformat": 4,
 "nbformat_minor": 5
}
