{
 "cells": [
  {
   "cell_type": "code",
   "execution_count": null,
   "metadata": {},
   "outputs": [],
   "source": [
    "import shutil\n",
    "import hyp3_sdk as sdk\n",
    "from asf_tools.water_map import make_water_map\n",
    "\n",
    "hyp3 = sdk.HyP3(prompt=True)"
   ]
  },
  {
   "cell_type": "code",
   "execution_count": null,
   "metadata": {},
   "outputs": [],
   "source": [
    "granule = 'S1A_IW_GRDH_1SDV_20210413T235641_20210413T235706_037439_0469D0_3F2B'\n",
    "job = hyp3.submit_rt_job(granule, scale='power')"
   ]
  },
  {
   "cell_type": "code",
   "execution_count": null,
   "metadata": {},
   "outputs": [],
   "source": [
    "job = hyp3.watch(job)  # will take ~25 minutes to finish processing the On Demand RTC job\n",
    "product_zip = job.download_files()[0]"
   ]
  },
  {
   "cell_type": "code",
   "execution_count": null,
   "metadata": {},
   "outputs": [],
   "source": [
    "shutil.unpack_archive(product_zip)\n",
    "vv_raster = product_zip.parent / product_zip.stem / f'{product_zip.stem}_VV.tif'\n",
    "vh_raster = product_zip.parent / product_zip.stem / f'{product_zip.stem}_VH.tif'"
   ]
  },
  {
   "cell_type": "code",
   "execution_count": null,
   "metadata": {},
   "outputs": [],
   "source": [
    "from asf_tools.composite import get_epsg_code\n",
    "from osgeo import gdal\n",
    "\n",
    "vh_info = gdal.Info(vh_raster, format='json')\n",
    "vh_epsg = get_epsg_code(vh_info)\n",
    "vh_bounds = [*vh_info['cornerCoordinates']['upperLeft'], *vh_info['cornerCoordinates']['lowerRight']]\n",
    "\n",
    "hand_source = '/vsicurl/https://hyp3-testing.s3-us-west-2.amazonaws.com/asf-tools/water-map/mississippi/' \\\n",
    "              'mississippi_10m_hand_cop-glo-30.tif'\n",
    "hand_raster = vh_raster.replace('_VH.tif', '_hand.tif')\n",
    "gdal.Warp(hand_raster, hand_source, dstSRS=f'EPSG:{vh_epsg}', \n",
    "          outputBounds=vh_bounds, width=vh_info['size'][0], height=vh_info['size'][1])"
   ]
  },
  {
   "cell_type": "code",
   "execution_count": null,
   "metadata": {},
   "outputs": [],
   "source": [
    "help(make_water_map)"
   ]
  },
  {
   "cell_type": "code",
   "execution_count": null,
   "metadata": {},
   "outputs": [],
   "source": [
    "water_extent_raster = 'water_extent.tif'\n",
    "make_water_map(water_extent_raster, vv_raster, vh_raster, hand_raster, tile_shape=(100, 100), \n",
    "               max_vv_threshold=-17., max_vh_threshold=-24., hand_threshold=15., hand_fraction=0.8)"
   ]
  }
 ],
 "metadata": {
  "kernelspec": {
   "display_name": "Python 3",
   "language": "python",
   "name": "python3"
  },
  "language_info": {
   "codemirror_mode": {
    "name": "ipython",
    "version": 3
   },
   "file_extension": ".py",
   "mimetype": "text/x-python",
   "name": "python",
   "nbconvert_exporter": "python",
   "pygments_lexer": "ipython3",
   "version": "3.9.2"
  }
 },
 "nbformat": 4,
 "nbformat_minor": 1
}
