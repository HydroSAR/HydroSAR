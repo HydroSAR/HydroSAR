{
 "cells": [
  {
   "cell_type": "markdown",
   "metadata": {},
   "source": [
    "# On Demand water maps via HyP3-watermap\n",
    "\n",
    "This notebook will leverage either [ASF Search -- Vertex](https://search.asf.alaska.edu/#/) or the\n",
    "[asf_search](https://github.com/asfadmin/Discovery-asf_search) Python package, and the\n",
    "[HyP3 SDK](https://hyp3-docs.asf.alaska.edu/using/sdk/), to request On Demand surface water extent maps\n",
    "from the custom [hyp3-watermap](https://hyp3-watermap.asf.alaska.edu) HyP3 deployment.\n",
    "\n",
    "Water maps are generated from Sentinel-1 SLCs or GRDs by:\n",
    "1. Applying Radiometric Terrain Correction (RTC)\n",
    "2. Creating initial VV- and VH-based water maps using a thresholding approach\n",
    "3. Refining the initial VV- and VH-based water maps using fuzzy logic\n",
    "4. Combining the refined VV- and VH-based water maps into a final water map\n",
    "\n",
    "For more information on the methods, or to modify the water map methods and process them locally, see the\n",
    "[water-extent-map.ipynb](water-extent-map.ipynb) notebook.\n",
    "\n",
    "## 0. Initial setup\n",
    "\n",
    "Import and setup some helper functions for this notebook."
   ]
  },
  {
   "cell_type": "code",
   "execution_count": null,
   "metadata": {
    "scrolled": true
   },
   "outputs": [],
   "source": [
    "import ipywidgets as widgets\n",
    "from IPython.display import display\n",
    "\n",
    "def wkt_input():\n",
    "    wkt = widgets.Textarea(\n",
    "        placeholder='WKT of search area',\n",
    "        value='POLYGON((-91.185 36.6763,-86.825 36.6763,-86.825 38.9176,-91.185 38.9176,-91.185 36.6763))',\n",
    "        layout=widgets.Layout(width='100%'),\n",
    "    )\n",
    "    display(wkt)\n",
    "    return wkt\n",
    "\n",
    "def file_ids_input():\n",
    "    file_ids = widgets.Textarea(\n",
    "        placeholder='copy-paste Sentinel-1 granule names or file ids here (One granule or id per line)',\n",
    "        layout=widgets.Layout(width='100%', height='12em'),\n",
    "    )\n",
    "    display(file_ids)\n",
    "    return file_ids"
   ]
  },
  {
   "cell_type": "markdown",
   "metadata": {},
   "source": [
    "## 1. Search for Sentinel-1 scenes to process\n",
    "\n",
    "You can search for Sentinel-1 scenes with either [ASF Search -- Vertex](https://search.asf.alaska.edu/#/) or the\n",
    "[asf_search](https://github.com/asfadmin/Discovery-asf_search) Python package. Vertex provides an interactive,\n",
    "feature rich experience, while `asf_search` allows searching programmatically and mirrors the vertex interface\n",
    "as best it can. Section 1.1 describes using Vertex and Section 1.2 describes using `asf_search`.\n",
    "\n",
    "*Note: only 1.1 or 1.2 needs to be executed to run this notebook.*\n",
    "\n",
    "### 1.1 Search for  Sentinel-1 scenes in Vertex\n",
    "\n",
    "Requesting water map products from the custom HyP3-watermap deployment looks very similar to\n",
    "[requesting On Demand RTC products](https://storymaps.arcgis.com/stories/2ead3222d2294d1fae1d11d3f98d7c35),\n",
    "**except** instead of adding scenes to your On Demand queue, you'll:\n",
    "1. add the scenes to your Downloads cart\n",
    "   ![add to cart](https://user-images.githubusercontent.com/7882693/122344682-85acc800-cef3-11eb-8337-5a356b722c12.png)\n",
    "\n",
    "\n",
    "2. open the Downloads Cart and select \"Copy File Ids\", and\n",
    "   ![image](https://user-images.githubusercontent.com/7882693/122345160-04096a00-cef4-11eb-8c27-892329293e4d.png)\n",
    "\n",
    "\n",
    "3. paste the file ids into the text area that will appear below the next cell.\n",
    "\n",
    "**Note:** Water maps currently require the Sentinel-1 source granules to be SLCs (preferred) or High-Res GRDs,\n",
    "acquired using the IW beam mode, with both VV and VH polarizations. You can use the\n",
    "[example search](https://search.asf.alaska.edu/#/?beamModes=IW&polarizations=VV%2BVH&productTypes=SLC&zoom=6.190&center=-91.993,33.963&polygon=POLYGON((-91.185%2036.6763,-86.825%2036.6763,-86.825%2038.9176,-91.185%2038.9176,-91.185%2036.6763))&start=2021-05-30T00:00:00Z&resultsLoaded=true&granule=S1A_IW_GRDH_1SDV_20210607T234810_20210607T234835_038241_04834F_4BB6-GRD_HD&end=2021-06-07T23:59:59Z)\n",
    "or jump-start your search in Vertex (with the required parameters already set) by following [this link](https://search.asf.alaska.edu/#/?dataset=Sentinel-1&productTypes=SLC&beamModes=IW&polarizations=VV%2BVH)."
   ]
  },
  {
   "cell_type": "code",
   "execution_count": null,
   "metadata": {
    "scrolled": true
   },
   "outputs": [],
   "source": [
    "file_ids = file_ids_input()"
   ]
  },
  {
   "cell_type": "code",
   "execution_count": null,
   "metadata": {},
   "outputs": [],
   "source": [
    "all_granules = [f.strip().split('-')[0] for f in file_ids.value.splitlines()]\n",
    "display(sorted(all_granules))"
   ]
  },
  {
   "cell_type": "markdown",
   "metadata": {},
   "source": [
    "### 1.2 Search for Sentinel-1 scenes with `asf_search`\n",
    "\n",
    "We'll use the geographic search functionality of `asf_search` to perform a search over an Area of\n",
    "Interest (AOI) represented as [Well-Known Text (WKT)](https://en.wikipedia.org/wiki/Well-known_text_representation_of_geometry).\n",
    "\n",
    "You can use the example WKT, or copy and paste your AOI's WKT, in the text area that will appear below the next cell."
   ]
  },
  {
   "cell_type": "code",
   "execution_count": null,
   "metadata": {
    "scrolled": true
   },
   "outputs": [],
   "source": [
    "wkt = wkt_input()"
   ]
  },
  {
   "cell_type": "markdown",
   "metadata": {},
   "source": [
    "Water maps currently require the Sentinel-1 source granules to be SLCs (preferred) or High-Res GRDs,\n",
    "acquired using the IW beam mode, with both VV and VH polarizations. The next cell performs a search over your AOI,\n",
    "with these parameters set.\n",
    "\n",
    "*Note: You will likely want to edit the `start` and `end` parameters.*"
   ]
  },
  {
   "cell_type": "code",
   "execution_count": null,
   "metadata": {},
   "outputs": [],
   "source": [
    "import asf_search\n",
    "from asf_search.constants import SENTINEL1, SLC, IW, VV_VH\n",
    "\n",
    "search_results = asf_search.geo_search(\n",
    "    platform=[SENTINEL1],\n",
    "    processingLevel=[SLC],\n",
    "    beamMode=[IW],\n",
    "    polarization=[VV_VH],\n",
    "    intersectsWith=wkt.value,\n",
    "    start='2021-05-30',\n",
    "    end='2021-06-08',\n",
    ")\n",
    "all_granules = {result.properties['sceneName'] for result in search_results}\n",
    "display(sorted(all_granules))"
   ]
  },
  {
   "cell_type": "markdown",
   "metadata": {},
   "source": [
    "## 2. Request water maps from HyP3-watermap\n",
    "\n",
    "### 2.1 Connect to the HyP3-watermap deployment\n",
    "\n",
    "Use the HyP3 SDK to connect to the custom deployment with your [NASA Earthdata login](https://urs.earthdata.nasa.gov/)."
   ]
  },
  {
   "cell_type": "code",
   "execution_count": null,
   "metadata": {},
   "outputs": [],
   "source": [
    "import hyp3_sdk\n",
    "\n",
    "hyp3_watermap = hyp3_sdk.HyP3('https://hyp3-watermap.asf.alaska.edu', prompt=True)"
   ]
  },
  {
   "cell_type": "markdown",
   "metadata": {},
   "source": [
    "### 2.2 Specify the custom water map parameters\n",
    "\n",
    "Below is a dictionary representation of the possible customization options for a water-map job.\n",
    "Importantly, this definition will be applied to each granule in our search results, so these\n",
    "options will be used with each job we submit.\n",
    "\n",
    "You may change any or all of them, and in particular, you will likely want to use the\n",
    "`name` parameter to group each \"batch\" of jobs together and easily find them later."
   ]
  },
  {
   "cell_type": "code",
   "execution_count": null,
   "metadata": {},
   "outputs": [],
   "source": [
    "job_definition = {\n",
    "    'name': 'water-map-example',\n",
    "    'job_type': 'WATER_MAP',\n",
    "    'job_parameters': {\n",
    "        'resolution': 30,\n",
    "        'speckle_filter': True,\n",
    "        'max_vv_threshold': -15.5,\n",
    "        'max_vh_threshold': -23.0,\n",
    "        'hand_threshold': 15.0,\n",
    "        'hand_fraction': 0.8,\n",
    "        'membership_threshold': 0.45,\n",
    "    }\n",
    "}"
   ]
  },
  {
   "cell_type": "markdown",
   "metadata": {},
   "source": [
    "### 2.3 Submit the jobs to the custom HyP3-watermap deployment\n",
    "\n",
    "Using the job definition as defined above (make sure you run the cell!), this will submit a job for\n",
    "each granule in the search results."
   ]
  },
  {
   "cell_type": "code",
   "execution_count": null,
   "metadata": {},
   "outputs": [],
   "source": [
    "import copy\n",
    "\n",
    "prepared_jobs = []\n",
    "for granule in all_granules:\n",
    "    job = copy.deepcopy(job_definition)\n",
    "    job['job_parameters']['granules'] = [granule]\n",
    "    prepared_jobs.append(job)\n",
    "\n",
    "jobs = hyp3_watermap.submit_prepared_jobs(prepared_jobs)"
   ]
  },
  {
   "cell_type": "markdown",
   "metadata": {},
   "source": [
    "Once the jobs are submitted, you can watch for them to complete (it will take ~30 min for all jobs to finish)."
   ]
  },
  {
   "cell_type": "code",
   "execution_count": null,
   "metadata": {},
   "outputs": [],
   "source": [
    "jobs = hyp3_watermap.watch(jobs)"
   ]
  },
  {
   "cell_type": "markdown",
   "metadata": {},
   "source": [
    "Or, you can come back later and find your jobs by name, and make sure they're finished"
   ]
  },
  {
   "cell_type": "code",
   "execution_count": null,
   "metadata": {},
   "outputs": [],
   "source": [
    "jobs = hyp3_watermap.find_jobs(name='water-map-example')\n",
    "jobs = hyp3_watermap.watch(jobs)"
   ]
  },
  {
   "cell_type": "markdown",
   "metadata": {},
   "source": [
    "Once all jobs are complete, you can download the products for each successful job"
   ]
  },
  {
   "cell_type": "code",
   "execution_count": null,
   "metadata": {},
   "outputs": [],
   "source": [
    "jobs.download_files('data/')"
   ]
  },
  {
   "cell_type": "markdown",
   "metadata": {},
   "source": [
    "## Notes on viewing/evaluating the water map products\n",
    "\n",
    "* All GeoTIFFs in the RTC products are Cloud-Optimized, including the water map files `*_WM.tif`, and will have overviews/pyramids.\n",
    "\n",
    "  **This means the `*_WM.tif`'s appear to have a significantly higher water extent than they do in reality until you zoom in.**"
   ]
  }
 ],
 "metadata": {
  "kernelspec": {
   "display_name": "asf-tools",
   "language": "python",
   "name": "conda-env-.local-asf-tools-py"
  },
  "language_info": {
   "codemirror_mode": {
    "name": "ipython",
    "version": 3
   },
   "file_extension": ".py",
   "mimetype": "text/x-python",
   "name": "python",
   "nbconvert_exporter": "python",
   "pygments_lexer": "ipython3",
   "version": "3.9.4"
  }
 },
 "nbformat": 4,
 "nbformat_minor": 1
}
