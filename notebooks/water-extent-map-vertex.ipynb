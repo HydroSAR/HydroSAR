{
 "cells": [
  {
   "cell_type": "code",
   "execution_count": null,
   "metadata": {},
   "outputs": [],
   "source": [
    "import copy\n",
    "\n",
    "import ipywidgets as widgets\n",
    "from IPython.display import display\n",
    "\n",
    "import hyp3_sdk"
   ]
  },
  {
   "cell_type": "code",
   "execution_count": null,
   "metadata": {},
   "outputs": [],
   "source": [
    "hyp3_watermap = hyp3_sdk.HyP3('https://hyp3-watermap.asf.alaska.edu', prompt=True)"
   ]
  },
  {
   "cell_type": "code",
   "execution_count": null,
   "metadata": {
    "scrolled": true
   },
   "outputs": [],
   "source": [
    "granules = widgets.Textarea(\n",
    "    placeholder='copy-paste Sentinel-1 granule names or File IDs here (One granule per line)',\n",
    "    layout=widgets.Layout(width='100%', height='12em'),\n",
    ")\n",
    "display(granules)"
   ]
  },
  {
   "cell_type": "code",
   "execution_count": null,
   "metadata": {},
   "outputs": [],
   "source": [
    "all_granules = [granule.strip().split('-')[0] for granule in granules.value.splitlines()]"
   ]
  },
  {
   "cell_type": "code",
   "execution_count": null,
   "metadata": {},
   "outputs": [],
   "source": [
    "job_definition = {\n",
    "    'name': 'water-map-example',\n",
    "    'job_type': \"WATER_MAP\",\n",
    "    'job_parameters': {\n",
    "        'resolution': 30,\n",
    "        'speckle_filter': True,\n",
    "        'max_vv_threshold': -17.0,\n",
    "        'max_vh_threshold': -24.0,\n",
    "        'hand_threshold': 15.0,\n",
    "        'hand_fraction': 0.8,\n",
    "        'membership_threshold': 0.45,\n",
    "    }\n",
    "}"
   ]
  },
  {
   "cell_type": "code",
   "execution_count": null,
   "metadata": {},
   "outputs": [],
   "source": [
    "jobs = hyp3_sdk.Batch()\n",
    "for granule in all_granules:\n",
    "    job = copy.deepcopy(job_definition)\n",
    "    job['job_parameters']['granules'] = [granule]\n",
    "    jobs += hyp3_watermap.submit_prepared_jobs([job])"
   ]
  },
  {
   "cell_type": "code",
   "execution_count": null,
   "metadata": {},
   "outputs": [],
   "source": [
    "jobs = hyp3_watermap.watch(jobs)"
   ]
  },
  {
   "cell_type": "code",
   "execution_count": null,
   "metadata": {},
   "outputs": [],
   "source": [
    "jobs.download_files('data/')"
   ]
  }
 ],
 "metadata": {
  "kernelspec": {
   "display_name": "Python 3",
   "language": "python",
   "name": "python3"
  },
  "language_info": {
   "codemirror_mode": {
    "name": "ipython",
    "version": 3
   },
   "file_extension": ".py",
   "mimetype": "text/x-python",
   "name": "python",
   "nbconvert_exporter": "python",
   "pygments_lexer": "ipython3",
   "version": "3.9.4"
  }
 },
 "nbformat": 4,
 "nbformat_minor": 1
}
