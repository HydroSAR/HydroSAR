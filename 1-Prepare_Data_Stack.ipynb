{
 "cells": [
  {
   "cell_type": "markdown",
   "metadata": {},
   "source": [
    "![OpenSARlab notebook banner](NotebookAddons/blackboard-banner.png)\n",
    "\n",
    "# Prepare a SAR Data Stack\n",
    "### Joseph H Kennedy and Alex Lewandowski; Alaska Satellite Facility\n",
    "\n",
    "This notebook downloads an ASF-HyP3 RTC project and prepares a deep multi-temporal SAR image data stack for use in other notebooks.\n",
    "\n",
    "<img style=\"padding: 7px\" src=\"NotebookAddons/UAFLogo_A_647.png\" width=\"170\" align=\"right\"/></font>"
   ]
  },
  {
   "cell_type": "markdown",
   "metadata": {},
   "source": [
    "### Important Note about JupyterHub\n",
    "\n",
    "**Your JupyterHub server will automatically shutdown when left idle for more than 1 hour. Your notebooks will not be lost but you will have to restart their kernels and re-run them from the beginning. You will not be able to seamlessly continue running a partially run notebook.**"
   ]
  },
  {
   "cell_type": "code",
   "execution_count": 1,
   "metadata": {},
   "outputs": [
    {
     "data": {
      "application/vnd.jupyter.widget-view+json": {
       "model_id": "14dbc07234564d30bd4efbdedc98ef48",
       "version_major": 2,
       "version_minor": 0
      },
      "text/plain": [
       "URLWidget()"
      ]
     },
     "metadata": {},
     "output_type": "display_data"
    }
   ],
   "source": [
    "import url_widget as url_w\n",
    "notebookUrl = url_w.URLWidget()\n",
    "display(notebookUrl)\n"
   ]
  },
  {
   "cell_type": "code",
   "execution_count": 2,
   "metadata": {
    "pycharm": {
     "name": "#%%\n"
    }
   },
   "outputs": [],
   "source": [
    "from IPython.display import Markdown\n",
    "from IPython.display import display\n",
    "\n",
    "notebookUrl = notebookUrl.value\n",
    "user = !echo $JUPYTERHUB_USER\n",
    "env = !echo $CONDA_PREFIX\n",
    "if env[0] == '':\n",
    "    env[0] = 'Python 3 (base)'\n",
    "if env[0] != '/home/jovyan/.local/envs/rtc_analysis':\n",
    "    display(Markdown(f'<text style=color:red><strong>WARNING:</strong></text>'))\n",
    "    display(Markdown(f'<text style=color:red>This notebook should be run using the \"rtc_analysis\" conda environment.</text>'))\n",
    "    display(Markdown(f'<text style=color:red>It is currently using the \"{env[0].split(\"/\")[-1]}\" environment.</text>'))\n",
    "    display(Markdown(f'<text style=color:red>Select the \"rtc_analysis\" from the \"Change Kernel\" submenu of the \"Kernel\" menu.</text>'))\n",
    "    display(Markdown(f'<text style=color:red>If the \"rtc_analysis\" environment is not present, use <a href=\"{notebookUrl.split(\"/user\")[0]}/user/{user[0]}/notebooks/conda_environments/Create_OSL_Conda_Environments.ipynb\"> Create_OSL_Conda_Environments.ipynb </a> to create it.</text>'))\n",
    "    display(Markdown(f'<text style=color:red>Note that you must restart your server after creating a new environment before it is usable by notebooks.</text>'))"
   ]
  },
  {
   "cell_type": "markdown",
   "metadata": {},
   "source": [
    "## 0. Importing Relevant Python Packages\n",
    "\n",
    "In this notebook we will use the following scientific libraries:\n",
    "\n",
    "1. [GDAL](https://www.gdal.org/) is a software library for reading and writing raster and vector geospatial data formats. It includes a collection of programs tailored for geospatial data processing. Most modern GIS systems (such as ArcGIS or QGIS) use GDAL in the background.\n",
    "1. [NumPy](http://www.numpy.org/) is one of the principal packages for scientific applications of Python. It is intended for processing large multidimensional arrays and matrices, and an extensive collection of high-level mathematical functions and implemented methods makes it possible to perform various operations with these objects.\n",
    "\n",
    "**Our first step is to import them:**"
   ]
  },
  {
   "cell_type": "code",
   "execution_count": 3,
   "metadata": {},
   "outputs": [],
   "source": [
    "%%capture\n",
    "import copy\n",
    "from datetime import datetime, timedelta, timezone\n",
    "import json # for loads\n",
    "from pathlib import Path\n",
    "import re\n",
    "import shutil\n",
    "import warnings\n",
    "import rasterio\n",
    "from rasterio.merge import merge\n",
    "\n",
    "from osgeo import gdal\n",
    "import numpy as np\n",
    "\n",
    "from IPython.display import display, clear_output, Markdown\n",
    "\n",
    "import opensarlab_lib as asfn\n",
    "\n",
    "from hyp3_sdk import Batch, HyP3"
   ]
  },
  {
   "cell_type": "markdown",
   "metadata": {},
   "source": [
    "## 1. Load Your Own Data Stack Into the Notebook\n",
    "\n",
    "This notebook assumes that you've created your own data stack over your personal area of interest using the [Alaska Satellite Facility's](https://www.asf.alaska.edu/) value-added product system HyP3, available via [ASF Data Search (Vertex)](https://search.asf.alaska.edu/#/). HyP3 is an ASF service used to prototype value added products and provide them to users to collect feedback.\n",
    "\n",
    "We will retrieve HyP3 data via the hyp3_sdk. As both HyP3 and the Notebook environment sit in the [Amazon Web Services (AWS)](https://aws.amazon.com/) cloud, data transfer is quick and cost effective.\n",
    "\n",
    "---\n",
    "\n",
    "Before we download anything, create a working directory for this analysis.\n",
    "\n",
    "**Select or create a working directory for the analysis:**"
   ]
  },
  {
   "cell_type": "code",
   "execution_count": 4,
   "metadata": {},
   "outputs": [
    {
     "name": "stdout",
     "output_type": "stream",
     "text": [
      "Current working directory: /home/jovyan/Hydrosar\n"
     ]
    },
    {
     "name": "stdin",
     "output_type": "stream",
     "text": [
      "\n",
      "Please enter the name of a directory in which to store your data for this analysis. Tripura\n"
     ]
    }
   ],
   "source": [
    "while True:\n",
    "    print(f\"Current working directory: {Path.cwd()}\")\n",
    "    data_dir = Path(Path.cwd()/'Dataset'/input(f\"\\nPlease enter the name of a directory in which to store your data for this analysis.\"))\n",
    "    if data_dir == Path('.'):\n",
    "        continue\n",
    "    if data_dir.is_dir():\n",
    "        contents = data_dir.glob('*')\n",
    "        if len(list(contents)) > 0:\n",
    "            choice = asfn.handle_old_data(data_dir)\n",
    "            if choice == 1:\n",
    "                if data_dir.exists():\n",
    "                    shutil.rmtree(data_dir)\n",
    "                data_dir.mkdir(parents=True, exist_ok=True)\n",
    "                break\n",
    "            elif choice == 2:\n",
    "                break\n",
    "            else:\n",
    "                clear_output()\n",
    "                continue\n",
    "        else:\n",
    "            break\n",
    "    else:\n",
    "        data_dir.mkdir(parents=True, exist_ok=True)\n",
    "        break"
   ]
  },
  {
   "cell_type": "markdown",
   "metadata": {
    "slideshow": {
     "slide_type": "subslide"
    }
   },
   "source": [
    "**Define absolute path to  analysis directory:**"
   ]
  },
  {
   "cell_type": "code",
   "execution_count": 5,
   "metadata": {},
   "outputs": [
    {
     "name": "stdout",
     "output_type": "stream",
     "text": [
      "analysis_directory: /home/jovyan/Hydrosar/Dataset/Tripura\n"
     ]
    }
   ],
   "source": [
    "analysis_directory = Path.cwd().joinpath(data_dir)\n",
    "print(f\"analysis_directory: {analysis_directory}\")"
   ]
  },
  {
   "cell_type": "markdown",
   "metadata": {},
   "source": [
    "**Create a HyP3 object and authenticate:**"
   ]
  },
  {
   "cell_type": "code",
   "execution_count": 6,
   "metadata": {
    "scrolled": true
   },
   "outputs": [
    {
     "name": "stdin",
     "output_type": "stream",
     "text": [
      "NASA Earthdata Login username:  vdevauxchupin\n",
      "NASA Earthdata Login password:  ········\n"
     ]
    }
   ],
   "source": [
    "hyp3 = HyP3(prompt=True)"
   ]
  },
  {
   "cell_type": "markdown",
   "metadata": {},
   "source": [
    "**Select a product type to download:**"
   ]
  },
  {
   "cell_type": "code",
   "execution_count": 7,
   "metadata": {},
   "outputs": [
    {
     "data": {
      "application/vnd.jupyter.widget-view+json": {
       "model_id": "3808e05cfa624593b0233011c5a1e80c",
       "version_major": 2,
       "version_minor": 0
      },
      "text/plain": [
       "RadioButtons(layout=Layout(min_width='800px'), options=('RTC_GAMMA', 'INSAR_GAMMA', 'AUTORIFT'), value='RTC_GA…"
      ]
     },
     "metadata": {},
     "output_type": "display_data"
    }
   ],
   "source": [
    "job_types = ['RTC_GAMMA', 'INSAR_GAMMA', 'AUTORIFT']\n",
    "job_type = asfn.select_parameter(job_types)\n",
    "job_type"
   ]
  },
  {
   "cell_type": "markdown",
   "metadata": {},
   "source": [
    "**Decide whether to search for a HyP3 project or jobs unattached to a project:** "
   ]
  },
  {
   "cell_type": "code",
   "execution_count": 8,
   "metadata": {},
   "outputs": [
    {
     "name": "stdout",
     "output_type": "stream",
     "text": [
      "Select whether to search for HyP3 Project or HyP3 Jobs unattached to a project\n"
     ]
    },
    {
     "data": {
      "application/vnd.jupyter.widget-view+json": {
       "model_id": "6a4a712168af4099b08541e06233d9a7",
       "version_major": 2,
       "version_minor": 0
      },
      "text/plain": [
       "RadioButtons(layout=Layout(min_width='800px'), options=('project', 'projectless jobs'), value='project')"
      ]
     },
     "metadata": {},
     "output_type": "display_data"
    }
   ],
   "source": [
    "options = ['project', 'projectless jobs']\n",
    "search_type = asfn.select_parameter(options, '')\n",
    "print(\"Select whether to search for HyP3 Project or HyP3 Jobs unattached to a project\")\n",
    "display(search_type)"
   ]
  },
  {
   "cell_type": "markdown",
   "metadata": {},
   "source": [
    "**List projects containing active products of the type chosen in the previous cell and select one:**"
   ]
  },
  {
   "cell_type": "code",
   "execution_count": 9,
   "metadata": {},
   "outputs": [
    {
     "data": {
      "text/markdown": [
       "<text style='color:darkred;'>Note: After selecting a project, you must select the next cell before hitting the 'Run' button or typing Shift/Enter.</text>"
      ],
      "text/plain": [
       "<IPython.core.display.Markdown object>"
      ]
     },
     "metadata": {},
     "output_type": "display_data"
    },
    {
     "data": {
      "text/markdown": [
       "<text style='color:darkred;'>Otherwise, you will rerun this code cell.</text>"
      ],
      "text/plain": [
       "<IPython.core.display.Markdown object>"
      ]
     },
     "metadata": {},
     "output_type": "display_data"
    },
    {
     "name": "stdout",
     "output_type": "stream",
     "text": [
      "\n",
      "Select a Project:\n"
     ]
    },
    {
     "data": {
      "application/vnd.jupyter.widget-view+json": {
       "model_id": "b0c4ed0d0e0f4883a4a1341b4b466ad9",
       "version_major": 2,
       "version_minor": 0
      },
      "text/plain": [
       "RadioButtons(layout=Layout(min_width='800px'), options=('Tripura_July',), value='Tripura_July')"
      ]
     },
     "metadata": {},
     "output_type": "display_data"
    }
   ],
   "source": [
    "my_hyp3_info = hyp3.my_info()\n",
    "active_projects = dict()\n",
    "\n",
    "if search_type.value == 'project':\n",
    "    for project in my_hyp3_info['job_names']:\n",
    "        batch = Batch()\n",
    "        batch = hyp3.find_jobs(name=project, job_type=job_type.value).filter_jobs(running=False, include_expired=False)\n",
    "        if len(batch) > 0:\n",
    "            active_projects.update({batch.jobs[0].name: batch})\n",
    "\n",
    "    if len(active_projects) > 0:\n",
    "        display(Markdown(\"<text style='color:darkred;'>Note: After selecting a project, you must select the next cell before hitting the 'Run' button or typing Shift/Enter.</text>\"))\n",
    "        display(Markdown(\"<text style='color:darkred;'>Otherwise, you will rerun this code cell.</text>\"))\n",
    "        print('\\nSelect a Project:')\n",
    "        project_select = asfn.select_parameter(active_projects.keys())\n",
    "        display(project_select)\n",
    "if search_type.value == 'projectless jobs' or len(active_projects) == 0:\n",
    "    project_select = False\n",
    "    if search_type.value == 'project':\n",
    "        print(f\"There were no {job_type.value} jobs found in any current projects.\\n\")\n",
    "    jobs = hyp3.find_jobs(job_type=job_type.value).filter_jobs(running=False, include_expired=False)\n",
    "    orphaned_jobs = Batch()\n",
    "    for j in jobs:\n",
    "        if not j.name:\n",
    "            orphaned_jobs += j\n",
    "    jobs = orphaned_jobs\n",
    "\n",
    "    if len(jobs) > 0:\n",
    "        print(f\"Found {len(jobs)} {job_type.value} jobs that are not part of a project.\")\n",
    "        print(f\"Select the jobs you wish to download\")\n",
    "        jobs = {i.files[0]['filename']: i for i in jobs}\n",
    "        jobs_select = asfn.select_mult_parameters(jobs.keys(), '', width='500px')\n",
    "        display(jobs_select)\n",
    "    else:\n",
    "        print(f\"There were no {job_type.value} jobs found that are not part of a project either.\")\n",
    "    "
   ]
  },
  {
   "cell_type": "markdown",
   "metadata": {},
   "source": [
    "\n",
    "**Select a date range of products to download:**"
   ]
  },
  {
   "cell_type": "code",
   "execution_count": 10,
   "metadata": {},
   "outputs": [
    {
     "data": {
      "text/markdown": [
       "<text style='color:darkred;'>Note: After selecting a date range, you should select the next cell before hitting the 'Run' button or typing Shift/Enter.</text>"
      ],
      "text/plain": [
       "<IPython.core.display.Markdown object>"
      ]
     },
     "metadata": {},
     "output_type": "display_data"
    },
    {
     "data": {
      "text/markdown": [
       "<text style='color:darkred;'>Otherwise, you may simply rerun this code cell.</text>"
      ],
      "text/plain": [
       "<IPython.core.display.Markdown object>"
      ]
     },
     "metadata": {},
     "output_type": "display_data"
    },
    {
     "name": "stdout",
     "output_type": "stream",
     "text": [
      "\n",
      "Select a Date Range:\n"
     ]
    },
    {
     "data": {
      "application/vnd.jupyter.widget-view+json": {
       "model_id": "85f84b476eda42e4ab2219902177633c",
       "version_major": 2,
       "version_minor": 0
      },
      "text/plain": [
       "SelectionRangeSlider(description='Dates', index=(0, 804), layout=Layout(width='500px'), options=((' 10/11/2017…"
      ]
     },
     "metadata": {},
     "output_type": "display_data"
    }
   ],
   "source": [
    "if project_select:\n",
    "    batch = active_projects[project_select.value]\n",
    "else:\n",
    "    batch = Batch()\n",
    "    for j in jobs_select.value:\n",
    "        batch += jobs[j]\n",
    "\n",
    "display(Markdown(\"<text style='color:darkred;'>Note: After selecting a date range, you should select the next cell before hitting the 'Run' button or typing Shift/Enter.</text>\"))\n",
    "display(Markdown(\"<text style='color:darkred;'>Otherwise, you may simply rerun this code cell.</text>\"))\n",
    "print('\\nSelect a Date Range:')\n",
    "dates = asfn.get_job_dates(batch)\n",
    "date_picker = asfn.gui_date_picker(dates)\n",
    "date_picker"
   ]
  },
  {
   "cell_type": "markdown",
   "metadata": {},
   "source": [
    "**Save the selected date range and remove products falling outside of it:**"
   ]
  },
  {
   "cell_type": "code",
   "execution_count": 11,
   "metadata": {
    "scrolled": true
   },
   "outputs": [
    {
     "name": "stdout",
     "output_type": "stream",
     "text": [
      "Date Range: 2017-10-11 to 2019-12-24\n"
     ]
    }
   ],
   "source": [
    "date_range = asfn.get_slider_vals(date_picker)\n",
    "date_range[0] = date_range[0].date()\n",
    "date_range[1] = date_range[1].date()\n",
    "print(f\"Date Range: {str(date_range[0])} to {str(date_range[1])}\")\n",
    "batch = asfn.filter_jobs_by_date(batch, date_range)"
   ]
  },
  {
   "cell_type": "markdown",
   "metadata": {},
   "source": [
    "**Gather the available paths and orbit directions for the remaining products:**"
   ]
  },
  {
   "cell_type": "code",
   "execution_count": 12,
   "metadata": {},
   "outputs": [
    {
     "data": {
      "text/markdown": [
       "<text style='color:darkred;'><text style='font-size:150%;'>This may take some time for projects containing many jobs...</text></text>"
      ],
      "text/plain": [
       "<IPython.core.display.Markdown object>"
      ]
     },
     "metadata": {},
     "output_type": "display_data"
    },
    {
     "data": {
      "text/markdown": [
       "<text style=color:blue><text style='font-size:175%;'>Done.</text></text>"
      ],
      "text/plain": [
       "<IPython.core.display.Markdown object>"
      ]
     },
     "metadata": {},
     "output_type": "display_data"
    }
   ],
   "source": [
    "display(Markdown(\"<text style='color:darkred;'><text style='font-size:150%;'>This may take some time for projects containing many jobs...</text></text>\"))\n",
    "asfn.set_paths_orbits(batch)\n",
    "paths = set()\n",
    "orbit_directions = set()\n",
    "for p in batch:\n",
    "    paths.add(p.path)\n",
    "    orbit_directions.add(p.orbit_direction)\n",
    "paths.add('All Paths')\n",
    "display(Markdown(f\"<text style=color:blue><text style='font-size:175%;'>Done.</text></text>\"))"
   ]
  },
  {
   "cell_type": "markdown",
   "metadata": {},
   "source": [
    "---\n",
    "**Select a path or paths (use shift or ctrl to select multiple paths):**"
   ]
  },
  {
   "cell_type": "code",
   "execution_count": 13,
   "metadata": {},
   "outputs": [
    {
     "data": {
      "text/markdown": [
       "<text style='color:darkred;'>Note: After selecting a path, you must select the next cell before hitting the 'Run' button or typing Shift/Enter.</text>"
      ],
      "text/plain": [
       "<IPython.core.display.Markdown object>"
      ]
     },
     "metadata": {},
     "output_type": "display_data"
    },
    {
     "data": {
      "text/markdown": [
       "<text style='color:darkred;'>Otherwise, you will simply rerun this code cell.</text>"
      ],
      "text/plain": [
       "<IPython.core.display.Markdown object>"
      ]
     },
     "metadata": {},
     "output_type": "display_data"
    },
    {
     "name": "stdout",
     "output_type": "stream",
     "text": [
      "\n",
      "Select a Path:\n"
     ]
    },
    {
     "data": {
      "application/vnd.jupyter.widget-view+json": {
       "model_id": "6d08c5660f6546a2a6ce940842077aa3",
       "version_major": 2,
       "version_minor": 0
      },
      "text/plain": [
       "SelectMultiple(layout=Layout(height='38px', width='175px'), options=('All Paths', 150), value=())"
      ]
     },
     "metadata": {},
     "output_type": "display_data"
    }
   ],
   "source": [
    "display(Markdown(\"<text style='color:darkred;'>Note: After selecting a path, you must select the next cell before hitting the 'Run' button or typing Shift/Enter.</text>\"))\n",
    "display(Markdown(\"<text style='color:darkred;'>Otherwise, you will simply rerun this code cell.</text>\"))\n",
    "print('\\nSelect a Path:')\n",
    "path_choice = asfn.select_mult_parameters(paths)\n",
    "path_choice"
   ]
  },
  {
   "cell_type": "markdown",
   "metadata": {},
   "source": [
    "**Save the selected flight path/s:**"
   ]
  },
  {
   "cell_type": "code",
   "execution_count": 14,
   "metadata": {},
   "outputs": [
    {
     "name": "stdout",
     "output_type": "stream",
     "text": [
      "Flight Path: ('All Paths',)\n"
     ]
    }
   ],
   "source": [
    "flight_path = path_choice.value\n",
    "if flight_path:\n",
    "    if flight_path:\n",
    "        print(f\"Flight Path: {flight_path}\")\n",
    "    else:\n",
    "        print('Flight Path: All Paths')\n",
    "else:\n",
    "    print(\"WARNING: You must select a flight path in the previous cell, then rerun this cell.\")"
   ]
  },
  {
   "cell_type": "markdown",
   "metadata": {},
   "source": [
    "**Select an orbit direction:**"
   ]
  },
  {
   "cell_type": "code",
   "execution_count": 15,
   "metadata": {},
   "outputs": [
    {
     "name": "stdout",
     "output_type": "stream",
     "text": [
      "\n",
      "Select a Flight Direction:\n"
     ]
    },
    {
     "data": {
      "application/vnd.jupyter.widget-view+json": {
       "model_id": "be02a3fdde7043d1ae90048e9ebe538d",
       "version_major": 2,
       "version_minor": 0
      },
      "text/plain": [
       "RadioButtons(description='Direction:', layout=Layout(min_width='800px'), options=('DESCENDING',), value='DESCE…"
      ]
     },
     "metadata": {},
     "output_type": "display_data"
    }
   ],
   "source": [
    "if len(orbit_directions) > 1:\n",
    "    display(Markdown(\"<text style='color:red;'>Note: After selecting a flight direction, you must select the next cell before hitting the 'Run' button or typing Shift/Enter.</text>\"))\n",
    "    display(Markdown(\"<text style='color:red;'>Otherwise, you will simply rerun this code cell.</text>\"))\n",
    "print('\\nSelect a Flight Direction:')\n",
    "direction_choice = asfn.select_parameter(orbit_directions, 'Direction:')\n",
    "direction_choice"
   ]
  },
  {
   "cell_type": "markdown",
   "metadata": {},
   "source": [
    "**Save the selected orbit direction:**"
   ]
  },
  {
   "cell_type": "code",
   "execution_count": 16,
   "metadata": {},
   "outputs": [
    {
     "name": "stdout",
     "output_type": "stream",
     "text": [
      "Orbit Direction: DESCENDING\n"
     ]
    }
   ],
   "source": [
    "direction = direction_choice.value\n",
    "print(f\"Orbit Direction: {direction}\")"
   ]
  },
  {
   "cell_type": "markdown",
   "metadata": {},
   "source": [
    "**Filter jobs by path and orbit direction:**"
   ]
  },
  {
   "cell_type": "code",
   "execution_count": 17,
   "metadata": {},
   "outputs": [
    {
     "name": "stdout",
     "output_type": "stream",
     "text": [
      "There are 63 products to download.\n"
     ]
    }
   ],
   "source": [
    "batch = asfn.filter_jobs_by_path(batch, flight_path)\n",
    "batch = asfn.filter_jobs_by_orbit(batch, direction)\n",
    "print(f\"There are {len(batch)} products to download.\")"
   ]
  },
  {
   "cell_type": "markdown",
   "metadata": {},
   "source": [
    "**Download the products, unzip them into a directory named after the product type, and delete the zip files:**"
   ]
  },
  {
   "cell_type": "code",
   "execution_count": 18,
   "metadata": {
    "scrolled": true,
    "tags": []
   },
   "outputs": [
    {
     "name": "stdout",
     "output_type": "stream",
     "text": [
      "/home/jovyan/Hydrosar/Dataset/Tripura/RTC_GAMMA\n",
      "\n",
      "Project: Tripura_July\n"
     ]
    },
    {
     "data": {
      "application/vnd.jupyter.widget-view+json": {
       "model_id": "6407d82f1447419795ccfe32715090f2",
       "version_major": 2,
       "version_minor": 0
      },
      "text/plain": [
       "  0%|          | 0/63 [00:00<?, ?it/s]"
      ]
     },
     "metadata": {},
     "output_type": "display_data"
    },
    {
     "data": {
      "application/vnd.jupyter.widget-view+json": {
       "model_id": "f255c22753e44eba8e5e1ee044a4d2ac",
       "version_major": 2,
       "version_minor": 0
      },
      "text/plain": [
       "S1A_IW_20180103T235531_DVP_RTC30_G_gpufem_31C0.zip:   0%|          | 0/505603764 [00:00<?, ?it/s]"
      ]
     },
     "metadata": {},
     "output_type": "display_data"
    },
    {
     "data": {
      "application/vnd.jupyter.widget-view+json": {
       "model_id": "6f78d84cf4664508ac10363127d0de83",
       "version_major": 2,
       "version_minor": 0
      },
      "text/plain": [
       "S1A_IW_20171104T235534_DVP_RTC30_G_gpufem_A2FD.zip:   0%|          | 0/501386553 [00:00<?, ?it/s]"
      ]
     },
     "metadata": {},
     "output_type": "display_data"
    },
    {
     "data": {
      "application/vnd.jupyter.widget-view+json": {
       "model_id": "d87ec93162144d3881094af4b4ac78ca",
       "version_major": 2,
       "version_minor": 0
      },
      "text/plain": [
       "S1A_IW_20171128T235533_DVP_RTC30_G_gpufem_06F8.zip:   0%|          | 0/503154068 [00:00<?, ?it/s]"
      ]
     },
     "metadata": {},
     "output_type": "display_data"
    },
    {
     "data": {
      "application/vnd.jupyter.widget-view+json": {
       "model_id": "e1513c754ff64b4fa970d8e391217569",
       "version_major": 2,
       "version_minor": 0
      },
      "text/plain": [
       "S1A_IW_20180421T235532_DVP_RTC30_G_gpufem_FE2B.zip:   0%|          | 0/502192560 [00:00<?, ?it/s]"
      ]
     },
     "metadata": {},
     "output_type": "display_data"
    },
    {
     "data": {
      "application/vnd.jupyter.widget-view+json": {
       "model_id": "19d7d035649a4e30931b208c486156be",
       "version_major": 2,
       "version_minor": 0
      },
      "text/plain": [
       "S1A_IW_20180714T235536_DVP_RTC30_G_gpufem_AB5F.zip:   0%|          | 0/503115500 [00:00<?, ?it/s]"
      ]
     },
     "metadata": {},
     "output_type": "display_data"
    },
    {
     "data": {
      "application/vnd.jupyter.widget-view+json": {
       "model_id": "d7522db79665422ea1aa755c96aed455",
       "version_major": 2,
       "version_minor": 0
      },
      "text/plain": [
       "S1A_IW_20180127T235531_DVP_RTC30_G_gpufem_EBAD.zip:   0%|          | 0/508199695 [00:00<?, ?it/s]"
      ]
     },
     "metadata": {},
     "output_type": "display_data"
    },
    {
     "data": {
      "application/vnd.jupyter.widget-view+json": {
       "model_id": "5b31a3b6d9fd4387b0d96ea1c766f4bc",
       "version_major": 2,
       "version_minor": 0
      },
      "text/plain": [
       "S1A_IW_20171116T235533_DVP_RTC30_G_gpufem_8B56.zip:   0%|          | 0/501053172 [00:00<?, ?it/s]"
      ]
     },
     "metadata": {},
     "output_type": "display_data"
    },
    {
     "data": {
      "application/vnd.jupyter.widget-view+json": {
       "model_id": "9228de4e9f3d406d8e1c513fc9846c72",
       "version_major": 2,
       "version_minor": 0
      },
      "text/plain": [
       "S1A_IW_20171210T235533_DVP_RTC30_G_gpufem_5750.zip:   0%|          | 0/501142474 [00:00<?, ?it/s]"
      ]
     },
     "metadata": {},
     "output_type": "display_data"
    },
    {
     "data": {
      "application/vnd.jupyter.widget-view+json": {
       "model_id": "4314bb26793e4c58a36d42f5c23f9a91",
       "version_major": 2,
       "version_minor": 0
      },
      "text/plain": [
       "S1A_IW_20180515T235533_DVP_RTC30_G_gpufem_7E28.zip:   0%|          | 0/500702794 [00:00<?, ?it/s]"
      ]
     },
     "metadata": {},
     "output_type": "display_data"
    },
    {
     "data": {
      "application/vnd.jupyter.widget-view+json": {
       "model_id": "a10d3f29b5924f288561eb7809437636",
       "version_major": 2,
       "version_minor": 0
      },
      "text/plain": [
       "S1A_IW_20180316T235531_DVP_RTC30_G_gpufem_2E6F.zip:   0%|          | 0/504123562 [00:00<?, ?it/s]"
      ]
     },
     "metadata": {},
     "output_type": "display_data"
    },
    {
     "data": {
      "application/vnd.jupyter.widget-view+json": {
       "model_id": "59f9b736fb12470cb75d827e72a07020",
       "version_major": 2,
       "version_minor": 0
      },
      "text/plain": [
       "S1A_IW_20180220T235530_DVP_RTC30_G_gpufem_7CEE.zip:   0%|          | 0/507253925 [00:00<?, ?it/s]"
      ]
     },
     "metadata": {},
     "output_type": "display_data"
    },
    {
     "data": {
      "application/vnd.jupyter.widget-view+json": {
       "model_id": "95b4f4cf1bb24fd4903a1df3dc223787",
       "version_major": 2,
       "version_minor": 0
      },
      "text/plain": [
       "S1A_IW_20180608T235534_DVP_RTC30_G_gpufem_7207.zip:   0%|          | 0/500594030 [00:00<?, ?it/s]"
      ]
     },
     "metadata": {},
     "output_type": "display_data"
    },
    {
     "data": {
      "application/vnd.jupyter.widget-view+json": {
       "model_id": "ac0a674067b7440b8a56f31da9f3458f",
       "version_major": 2,
       "version_minor": 0
      },
      "text/plain": [
       "S1A_IW_20171222T235532_DVP_RTC30_G_gpufem_E7A6.zip:   0%|          | 0/503520647 [00:00<?, ?it/s]"
      ]
     },
     "metadata": {},
     "output_type": "display_data"
    },
    {
     "data": {
      "application/vnd.jupyter.widget-view+json": {
       "model_id": "52c4fe38e85a48748fe3309bb12d906a",
       "version_major": 2,
       "version_minor": 0
      },
      "text/plain": [
       "S1A_IW_20171023T235534_DVP_RTC30_G_gpufem_32DC.zip:   0%|          | 0/502167133 [00:00<?, ?it/s]"
      ]
     },
     "metadata": {},
     "output_type": "display_data"
    },
    {
     "data": {
      "application/vnd.jupyter.widget-view+json": {
       "model_id": "21b5a8cceca9437ca43c96deb8c3d70f",
       "version_major": 2,
       "version_minor": 0
      },
      "text/plain": [
       "S1A_IW_20180726T235537_DVP_RTC30_G_gpufem_23F1.zip:   0%|          | 0/506338917 [00:00<?, ?it/s]"
      ]
     },
     "metadata": {},
     "output_type": "display_data"
    },
    {
     "data": {
      "application/vnd.jupyter.widget-view+json": {
       "model_id": "be0b98920f2543eea96cfb0fe61db69d",
       "version_major": 2,
       "version_minor": 0
      },
      "text/plain": [
       "S1A_IW_20180409T235531_DVP_RTC30_G_gpufem_A225.zip:   0%|          | 0/503080689 [00:00<?, ?it/s]"
      ]
     },
     "metadata": {},
     "output_type": "display_data"
    },
    {
     "data": {
      "application/vnd.jupyter.widget-view+json": {
       "model_id": "fc6051be710d4dc5b79a70e59ee2029b",
       "version_major": 2,
       "version_minor": 0
      },
      "text/plain": [
       "S1A_IW_20180304T235530_DVP_RTC30_G_gpufem_7F99.zip:   0%|          | 0/503359265 [00:00<?, ?it/s]"
      ]
     },
     "metadata": {},
     "output_type": "display_data"
    },
    {
     "data": {
      "application/vnd.jupyter.widget-view+json": {
       "model_id": "f111332edb5240d993f0109497ee5c0a",
       "version_major": 2,
       "version_minor": 0
      },
      "text/plain": [
       "S1A_IW_20180328T235531_DVP_RTC30_G_gpufem_EC7D.zip:   0%|          | 0/504526321 [00:00<?, ?it/s]"
      ]
     },
     "metadata": {},
     "output_type": "display_data"
    },
    {
     "data": {
      "application/vnd.jupyter.widget-view+json": {
       "model_id": "197ed64ef69143b8a25fd1b6fa1a9394",
       "version_major": 2,
       "version_minor": 0
      },
      "text/plain": [
       "S1A_IW_20180208T235531_DVP_RTC30_G_gpufem_B75A.zip:   0%|          | 0/509033660 [00:00<?, ?it/s]"
      ]
     },
     "metadata": {},
     "output_type": "display_data"
    },
    {
     "data": {
      "application/vnd.jupyter.widget-view+json": {
       "model_id": "aa600f700abc473cb0a38cd85639cd23",
       "version_major": 2,
       "version_minor": 0
      },
      "text/plain": [
       "S1A_IW_20171011T235534_DVP_RTC30_G_gpufem_4D15.zip:   0%|          | 0/504010496 [00:00<?, ?it/s]"
      ]
     },
     "metadata": {},
     "output_type": "display_data"
    },
    {
     "data": {
      "application/vnd.jupyter.widget-view+json": {
       "model_id": "f292dbfbb2834df28509e83f75ab2109",
       "version_major": 2,
       "version_minor": 0
      },
      "text/plain": [
       "S1A_IW_20180115T235531_DVP_RTC30_G_gpufem_9DB0.zip:   0%|          | 0/506221240 [00:00<?, ?it/s]"
      ]
     },
     "metadata": {},
     "output_type": "display_data"
    },
    {
     "data": {
      "application/vnd.jupyter.widget-view+json": {
       "model_id": "9d3a11162edb46cd8c15bbad6eb427d7",
       "version_major": 2,
       "version_minor": 0
      },
      "text/plain": [
       "S1A_IW_20180503T235532_DVP_RTC30_G_gpufem_CE6F.zip:   0%|          | 0/499616074 [00:00<?, ?it/s]"
      ]
     },
     "metadata": {},
     "output_type": "display_data"
    },
    {
     "data": {
      "application/vnd.jupyter.widget-view+json": {
       "model_id": "5dc866f70a29449ea9696c10188acf97",
       "version_major": 2,
       "version_minor": 0
      },
      "text/plain": [
       "S1A_IW_20180527T235534_DVP_RTC30_G_gpufem_AAD1.zip:   0%|          | 0/500477944 [00:00<?, ?it/s]"
      ]
     },
     "metadata": {},
     "output_type": "display_data"
    },
    {
     "data": {
      "application/vnd.jupyter.widget-view+json": {
       "model_id": "af395d2c0be64a74b30903450bbed087",
       "version_major": 2,
       "version_minor": 0
      },
      "text/plain": [
       "S1A_IW_20190323T235537_DVP_RTC30_G_gpufem_7A43.zip:   0%|          | 0/505229359 [00:00<?, ?it/s]"
      ]
     },
     "metadata": {},
     "output_type": "display_data"
    },
    {
     "data": {
      "application/vnd.jupyter.widget-view+json": {
       "model_id": "1ebdd3ab105243c78f4e3d73ffa8d730",
       "version_major": 2,
       "version_minor": 0
      },
      "text/plain": [
       "S1A_IW_20180819T235538_DVP_RTC30_G_gpufem_87A6.zip:   0%|          | 0/506803432 [00:00<?, ?it/s]"
      ]
     },
     "metadata": {},
     "output_type": "display_data"
    },
    {
     "data": {
      "application/vnd.jupyter.widget-view+json": {
       "model_id": "e963145634d74ff5b574653dd7363f22",
       "version_major": 2,
       "version_minor": 0
      },
      "text/plain": [
       "S1A_IW_20181018T235540_DVP_RTC30_G_gpufem_E189.zip:   0%|          | 0/505100029 [00:00<?, ?it/s]"
      ]
     },
     "metadata": {},
     "output_type": "display_data"
    },
    {
     "data": {
      "application/vnd.jupyter.widget-view+json": {
       "model_id": "527e124562974170b53aafb64a85f661",
       "version_major": 2,
       "version_minor": 0
      },
      "text/plain": [
       "S1A_IW_20190122T235538_DVP_RTC30_G_gpufem_D295.zip:   0%|          | 0/508809783 [00:00<?, ?it/s]"
      ]
     },
     "metadata": {},
     "output_type": "display_data"
    },
    {
     "data": {
      "application/vnd.jupyter.widget-view+json": {
       "model_id": "5f2ab3f2a5b24fe9b2054cc08ae45ba7",
       "version_major": 2,
       "version_minor": 0
      },
      "text/plain": [
       "S1A_IW_20180924T235540_DVP_RTC30_G_gpufem_3FDD.zip:   0%|          | 0/505089143 [00:00<?, ?it/s]"
      ]
     },
     "metadata": {},
     "output_type": "display_data"
    },
    {
     "data": {
      "application/vnd.jupyter.widget-view+json": {
       "model_id": "bd11ad9efd0a4f48b5d73a23e94bddbe",
       "version_major": 2,
       "version_minor": 0
      },
      "text/plain": [
       "S1A_IW_20180807T235538_DVP_RTC30_G_gpufem_ED14.zip:   0%|          | 0/509240909 [00:00<?, ?it/s]"
      ]
     },
     "metadata": {},
     "output_type": "display_data"
    },
    {
     "data": {
      "application/vnd.jupyter.widget-view+json": {
       "model_id": "76f0e1e73e7345e8bd09f68386230b6d",
       "version_major": 2,
       "version_minor": 0
      },
      "text/plain": [
       "S1A_IW_20181006T235540_DVP_RTC30_G_gpufem_C8B5.zip:   0%|          | 0/505586352 [00:00<?, ?it/s]"
      ]
     },
     "metadata": {},
     "output_type": "display_data"
    },
    {
     "data": {
      "application/vnd.jupyter.widget-view+json": {
       "model_id": "d4d248d0f779477c9c91e0e17e810cff",
       "version_major": 2,
       "version_minor": 0
      },
      "text/plain": [
       "S1A_IW_20181111T235540_DVP_RTC30_G_gpufem_6153.zip:   0%|          | 0/504841642 [00:00<?, ?it/s]"
      ]
     },
     "metadata": {},
     "output_type": "display_data"
    },
    {
     "data": {
      "application/vnd.jupyter.widget-view+json": {
       "model_id": "55edffcb3f2240cebfe3a4607ca7e169",
       "version_major": 2,
       "version_minor": 0
      },
      "text/plain": [
       "S1A_IW_20180912T235540_DVP_RTC30_G_gpufem_F5A0.zip:   0%|          | 0/506599421 [00:00<?, ?it/s]"
      ]
     },
     "metadata": {},
     "output_type": "display_data"
    },
    {
     "data": {
      "application/vnd.jupyter.widget-view+json": {
       "model_id": "7c4824b0c0bc424991087a417c689e54",
       "version_major": 2,
       "version_minor": 0
      },
      "text/plain": [
       "S1A_IW_20190203T235537_DVP_RTC30_G_gpufem_476E.zip:   0%|          | 0/509359568 [00:00<?, ?it/s]"
      ]
     },
     "metadata": {},
     "output_type": "display_data"
    },
    {
     "data": {
      "application/vnd.jupyter.widget-view+json": {
       "model_id": "1d91c6e361334f038f5e43f0e92b8ca3",
       "version_major": 2,
       "version_minor": 0
      },
      "text/plain": [
       "S1A_IW_20190110T235538_DVP_RTC30_G_gpufem_98BE.zip:   0%|          | 0/507964186 [00:00<?, ?it/s]"
      ]
     },
     "metadata": {},
     "output_type": "display_data"
    },
    {
     "data": {
      "application/vnd.jupyter.widget-view+json": {
       "model_id": "aed86dda869848edb3cd5782c526657f",
       "version_major": 2,
       "version_minor": 0
      },
      "text/plain": [
       "S1A_IW_20190227T235537_DVP_RTC30_G_gpufem_A66D.zip:   0%|          | 0/506256517 [00:00<?, ?it/s]"
      ]
     },
     "metadata": {},
     "output_type": "display_data"
    },
    {
     "data": {
      "application/vnd.jupyter.widget-view+json": {
       "model_id": "a34ce763401a4b928ce2da5795fa97d8",
       "version_major": 2,
       "version_minor": 0
      },
      "text/plain": [
       "S1A_IW_20190311T235537_DVP_RTC30_G_gpufem_C916.zip:   0%|          | 0/503440709 [00:00<?, ?it/s]"
      ]
     },
     "metadata": {},
     "output_type": "display_data"
    },
    {
     "data": {
      "application/vnd.jupyter.widget-view+json": {
       "model_id": "d8169f69995c417383e35895a0a42b06",
       "version_major": 2,
       "version_minor": 0
      },
      "text/plain": [
       "S1A_IW_20190215T235537_DVP_RTC30_G_gpufem_ECE2.zip:   0%|          | 0/508514769 [00:00<?, ?it/s]"
      ]
     },
     "metadata": {},
     "output_type": "display_data"
    },
    {
     "data": {
      "application/vnd.jupyter.widget-view+json": {
       "model_id": "b1f367bcf4134dbeb968fff675695cdd",
       "version_major": 2,
       "version_minor": 0
      },
      "text/plain": [
       "S1A_IW_20181217T235539_DVP_RTC30_G_gpufem_6610.zip:   0%|          | 0/502851440 [00:00<?, ?it/s]"
      ]
     },
     "metadata": {},
     "output_type": "display_data"
    },
    {
     "data": {
      "application/vnd.jupyter.widget-view+json": {
       "model_id": "f97d6d1e1c08414d95842d7cf1ae1dac",
       "version_major": 2,
       "version_minor": 0
      },
      "text/plain": [
       "S1A_IW_20190404T235537_DVP_RTC30_G_gpufem_D032.zip:   0%|          | 0/504077894 [00:00<?, ?it/s]"
      ]
     },
     "metadata": {},
     "output_type": "display_data"
    },
    {
     "data": {
      "application/vnd.jupyter.widget-view+json": {
       "model_id": "303b129bf6114933bd0470e47c3afd64",
       "version_major": 2,
       "version_minor": 0
      },
      "text/plain": [
       "S1A_IW_20181123T235540_DVP_RTC30_G_gpufem_488B.zip:   0%|          | 0/505870466 [00:00<?, ?it/s]"
      ]
     },
     "metadata": {},
     "output_type": "display_data"
    },
    {
     "data": {
      "application/vnd.jupyter.widget-view+json": {
       "model_id": "d7c89b065e9b4a6ca7f945e51654e630",
       "version_major": 2,
       "version_minor": 0
      },
      "text/plain": [
       "S1A_IW_20180831T235539_DVP_RTC30_G_gpufem_6154.zip:   0%|          | 0/504717374 [00:00<?, ?it/s]"
      ]
     },
     "metadata": {},
     "output_type": "display_data"
    },
    {
     "data": {
      "application/vnd.jupyter.widget-view+json": {
       "model_id": "2653f4f9acd341caa56691348f95914e",
       "version_major": 2,
       "version_minor": 0
      },
      "text/plain": [
       "S1A_IW_20181229T235539_DVP_RTC30_G_gpufem_9708.zip:   0%|          | 0/507286198 [00:00<?, ?it/s]"
      ]
     },
     "metadata": {},
     "output_type": "display_data"
    },
    {
     "data": {
      "application/vnd.jupyter.widget-view+json": {
       "model_id": "0f52d7177133446d83f24f5992dad9b4",
       "version_major": 2,
       "version_minor": 0
      },
      "text/plain": [
       "S1A_IW_20181030T235540_DVP_RTC30_G_gpufem_D12E.zip:   0%|          | 0/504943528 [00:00<?, ?it/s]"
      ]
     },
     "metadata": {},
     "output_type": "display_data"
    },
    {
     "data": {
      "application/vnd.jupyter.widget-view+json": {
       "model_id": "264fad60a6dd4143bc06650458d36846",
       "version_major": 2,
       "version_minor": 0
      },
      "text/plain": [
       "S1A_IW_20190627T235541_DVP_RTC30_G_gpufem_1281.zip:   0%|          | 0/499996652 [00:00<?, ?it/s]"
      ]
     },
     "metadata": {},
     "output_type": "display_data"
    },
    {
     "data": {
      "application/vnd.jupyter.widget-view+json": {
       "model_id": "9105ad89b77241dc84db99c521fe6f1e",
       "version_major": 2,
       "version_minor": 0
      },
      "text/plain": [
       "S1A_IW_20190510T235539_DVP_RTC30_G_gpufem_9006.zip:   0%|          | 0/501660518 [00:00<?, ?it/s]"
      ]
     },
     "metadata": {},
     "output_type": "display_data"
    },
    {
     "data": {
      "application/vnd.jupyter.widget-view+json": {
       "model_id": "2e327662acf94c7fba641759bb7b9dfe",
       "version_major": 2,
       "version_minor": 0
      },
      "text/plain": [
       "S1A_IW_20191001T235547_DVP_RTC30_G_gpufem_CB70.zip:   0%|          | 0/506624641 [00:00<?, ?it/s]"
      ]
     },
     "metadata": {},
     "output_type": "display_data"
    },
    {
     "data": {
      "application/vnd.jupyter.widget-view+json": {
       "model_id": "3e96b965967d40b88eff4251bbff6470",
       "version_major": 2,
       "version_minor": 0
      },
      "text/plain": [
       "S1A_IW_20191224T235545_DVP_RTC30_G_gpufem_6C06.zip:   0%|          | 0/505559270 [00:00<?, ?it/s]"
      ]
     },
     "metadata": {},
     "output_type": "display_data"
    },
    {
     "data": {
      "application/vnd.jupyter.widget-view+json": {
       "model_id": "c2b8e019f7e649e691bb381ff00a3e93",
       "version_major": 2,
       "version_minor": 0
      },
      "text/plain": [
       "S1A_IW_20190709T235542_DVP_RTC30_G_gpufem_5565.zip:   0%|          | 0/504362507 [00:00<?, ?it/s]"
      ]
     },
     "metadata": {},
     "output_type": "display_data"
    },
    {
     "data": {
      "application/vnd.jupyter.widget-view+json": {
       "model_id": "e03d88c882a34f3d8d5f35d930f261ea",
       "version_major": 2,
       "version_minor": 0
      },
      "text/plain": [
       "S1A_IW_20191212T235546_DVP_RTC30_G_gpufem_663B.zip:   0%|          | 0/505976106 [00:00<?, ?it/s]"
      ]
     },
     "metadata": {},
     "output_type": "display_data"
    },
    {
     "data": {
      "application/vnd.jupyter.widget-view+json": {
       "model_id": "df385edb448d4087b7531cb954d989ab",
       "version_major": 2,
       "version_minor": 0
      },
      "text/plain": [
       "S1A_IW_20190721T235543_DVP_RTC30_G_gpufem_4653.zip:   0%|          | 0/509941683 [00:00<?, ?it/s]"
      ]
     },
     "metadata": {},
     "output_type": "display_data"
    },
    {
     "data": {
      "application/vnd.jupyter.widget-view+json": {
       "model_id": "394d217233db4823993a3458ac579e92",
       "version_major": 2,
       "version_minor": 0
      },
      "text/plain": [
       "S1A_IW_20190428T235538_DVP_RTC30_G_gpufem_5562.zip:   0%|          | 0/503153424 [00:00<?, ?it/s]"
      ]
     },
     "metadata": {},
     "output_type": "display_data"
    },
    {
     "data": {
      "application/vnd.jupyter.widget-view+json": {
       "model_id": "c15ae35a216b485ea00002298b9c1087",
       "version_major": 2,
       "version_minor": 0
      },
      "text/plain": [
       "S1A_IW_20190802T235544_DVP_RTC30_G_gpufem_7083.zip:   0%|          | 0/510052624 [00:00<?, ?it/s]"
      ]
     },
     "metadata": {},
     "output_type": "display_data"
    },
    {
     "data": {
      "application/vnd.jupyter.widget-view+json": {
       "model_id": "e0f9ebc28a024acca00aa805c9fd4df6",
       "version_major": 2,
       "version_minor": 0
      },
      "text/plain": [
       "S1A_IW_20191118T235546_DVP_RTC30_G_gpufem_7D3E.zip:   0%|          | 0/502805955 [00:00<?, ?it/s]"
      ]
     },
     "metadata": {},
     "output_type": "display_data"
    },
    {
     "data": {
      "application/vnd.jupyter.widget-view+json": {
       "model_id": "066ed29c9e1c4e869fe28ed6baaaf633",
       "version_major": 2,
       "version_minor": 0
      },
      "text/plain": [
       "S1A_IW_20191130T235546_DVP_RTC30_G_gpufem_76E8.zip:   0%|          | 0/504016237 [00:00<?, ?it/s]"
      ]
     },
     "metadata": {},
     "output_type": "display_data"
    },
    {
     "data": {
      "application/vnd.jupyter.widget-view+json": {
       "model_id": "d46d221e49bf4f1ba56173a6da442470",
       "version_major": 2,
       "version_minor": 0
      },
      "text/plain": [
       "S1A_IW_20190919T235546_DVP_RTC30_G_gpufem_BAF7.zip:   0%|          | 0/505922263 [00:00<?, ?it/s]"
      ]
     },
     "metadata": {},
     "output_type": "display_data"
    },
    {
     "data": {
      "application/vnd.jupyter.widget-view+json": {
       "model_id": "e2f7f7c83b344913a3e3d56d7670b4ea",
       "version_major": 2,
       "version_minor": 0
      },
      "text/plain": [
       "S1A_IW_20191025T235547_DVP_RTC30_G_gpufem_D0BC.zip:   0%|          | 0/503819770 [00:00<?, ?it/s]"
      ]
     },
     "metadata": {},
     "output_type": "display_data"
    },
    {
     "data": {
      "application/vnd.jupyter.widget-view+json": {
       "model_id": "6290299b7a854dec9f247dd334690088",
       "version_major": 2,
       "version_minor": 0
      },
      "text/plain": [
       "S1A_IW_20190416T235538_DVP_RTC30_G_gpufem_979C.zip:   0%|          | 0/502975279 [00:00<?, ?it/s]"
      ]
     },
     "metadata": {},
     "output_type": "display_data"
    },
    {
     "data": {
      "application/vnd.jupyter.widget-view+json": {
       "model_id": "3ae4be4b51b542bdb0b2d45f7c8e7846",
       "version_major": 2,
       "version_minor": 0
      },
      "text/plain": [
       "S1A_IW_20191106T235547_DVP_RTC30_G_gpufem_DFC5.zip:   0%|          | 0/502248163 [00:00<?, ?it/s]"
      ]
     },
     "metadata": {},
     "output_type": "display_data"
    },
    {
     "data": {
      "application/vnd.jupyter.widget-view+json": {
       "model_id": "ce0e590f3f3f47098af41ca67c2a0fbf",
       "version_major": 2,
       "version_minor": 0
      },
      "text/plain": [
       "S1A_IW_20190615T235540_DVP_RTC30_G_gpufem_B3E2.zip:   0%|          | 0/499945760 [00:00<?, ?it/s]"
      ]
     },
     "metadata": {},
     "output_type": "display_data"
    },
    {
     "data": {
      "application/vnd.jupyter.widget-view+json": {
       "model_id": "54c2c67a5d4f452db6014f17185bd5a4",
       "version_major": 2,
       "version_minor": 0
      },
      "text/plain": [
       "S1A_IW_20190826T235545_DVP_RTC30_G_gpufem_07ED.zip:   0%|          | 0/505994684 [00:00<?, ?it/s]"
      ]
     },
     "metadata": {},
     "output_type": "display_data"
    },
    {
     "data": {
      "application/vnd.jupyter.widget-view+json": {
       "model_id": "49875f0c5693458fad9246e46a79bd4f",
       "version_major": 2,
       "version_minor": 0
      },
      "text/plain": [
       "S1A_IW_20190603T235540_DVP_RTC30_G_gpufem_098F.zip:   0%|          | 0/502183014 [00:00<?, ?it/s]"
      ]
     },
     "metadata": {},
     "output_type": "display_data"
    },
    {
     "data": {
      "application/vnd.jupyter.widget-view+json": {
       "model_id": "36843bc157504d759195dbe410229888",
       "version_major": 2,
       "version_minor": 0
      },
      "text/plain": [
       "S1A_IW_20191013T235547_DVP_RTC30_G_gpufem_9878.zip:   0%|          | 0/505523441 [00:00<?, ?it/s]"
      ]
     },
     "metadata": {},
     "output_type": "display_data"
    },
    {
     "data": {
      "application/vnd.jupyter.widget-view+json": {
       "model_id": "3e1b985efe644788b247a2f4b1600eaf",
       "version_major": 2,
       "version_minor": 0
      },
      "text/plain": [
       "S1A_IW_20190907T235546_DVP_RTC30_G_gpufem_183C.zip:   0%|          | 0/505172202 [00:00<?, ?it/s]"
      ]
     },
     "metadata": {},
     "output_type": "display_data"
    },
    {
     "name": "stdout",
     "output_type": "stream",
     "text": [
      "Extracting: /home/jovyan/Hydrosar/Dataset/Tripura/RTC_GAMMA/S1A_IW_20180103T235531_DVP_RTC30_G_gpufem_31C0.zip\n",
      "Extracting: /home/jovyan/Hydrosar/Dataset/Tripura/RTC_GAMMA/S1A_IW_20171104T235534_DVP_RTC30_G_gpufem_A2FD.zip\n",
      "Extracting: /home/jovyan/Hydrosar/Dataset/Tripura/RTC_GAMMA/S1A_IW_20171128T235533_DVP_RTC30_G_gpufem_06F8.zip\n",
      "Extracting: /home/jovyan/Hydrosar/Dataset/Tripura/RTC_GAMMA/S1A_IW_20180421T235532_DVP_RTC30_G_gpufem_FE2B.zip\n",
      "Extracting: /home/jovyan/Hydrosar/Dataset/Tripura/RTC_GAMMA/S1A_IW_20180714T235536_DVP_RTC30_G_gpufem_AB5F.zip\n",
      "Extracting: /home/jovyan/Hydrosar/Dataset/Tripura/RTC_GAMMA/S1A_IW_20180127T235531_DVP_RTC30_G_gpufem_EBAD.zip\n",
      "Extracting: /home/jovyan/Hydrosar/Dataset/Tripura/RTC_GAMMA/S1A_IW_20171116T235533_DVP_RTC30_G_gpufem_8B56.zip\n",
      "Extracting: /home/jovyan/Hydrosar/Dataset/Tripura/RTC_GAMMA/S1A_IW_20171210T235533_DVP_RTC30_G_gpufem_5750.zip\n",
      "Extracting: /home/jovyan/Hydrosar/Dataset/Tripura/RTC_GAMMA/S1A_IW_20180515T235533_DVP_RTC30_G_gpufem_7E28.zip\n",
      "Extracting: /home/jovyan/Hydrosar/Dataset/Tripura/RTC_GAMMA/S1A_IW_20180316T235531_DVP_RTC30_G_gpufem_2E6F.zip\n",
      "Extracting: /home/jovyan/Hydrosar/Dataset/Tripura/RTC_GAMMA/S1A_IW_20180220T235530_DVP_RTC30_G_gpufem_7CEE.zip\n",
      "Extracting: /home/jovyan/Hydrosar/Dataset/Tripura/RTC_GAMMA/S1A_IW_20180608T235534_DVP_RTC30_G_gpufem_7207.zip\n",
      "Extracting: /home/jovyan/Hydrosar/Dataset/Tripura/RTC_GAMMA/S1A_IW_20171222T235532_DVP_RTC30_G_gpufem_E7A6.zip\n",
      "Extracting: /home/jovyan/Hydrosar/Dataset/Tripura/RTC_GAMMA/S1A_IW_20171023T235534_DVP_RTC30_G_gpufem_32DC.zip\n",
      "Extracting: /home/jovyan/Hydrosar/Dataset/Tripura/RTC_GAMMA/S1A_IW_20180726T235537_DVP_RTC30_G_gpufem_23F1.zip\n",
      "Extracting: /home/jovyan/Hydrosar/Dataset/Tripura/RTC_GAMMA/S1A_IW_20180409T235531_DVP_RTC30_G_gpufem_A225.zip\n",
      "Extracting: /home/jovyan/Hydrosar/Dataset/Tripura/RTC_GAMMA/S1A_IW_20180304T235530_DVP_RTC30_G_gpufem_7F99.zip\n",
      "Extracting: /home/jovyan/Hydrosar/Dataset/Tripura/RTC_GAMMA/S1A_IW_20180328T235531_DVP_RTC30_G_gpufem_EC7D.zip\n",
      "Extracting: /home/jovyan/Hydrosar/Dataset/Tripura/RTC_GAMMA/S1A_IW_20180208T235531_DVP_RTC30_G_gpufem_B75A.zip\n",
      "Extracting: /home/jovyan/Hydrosar/Dataset/Tripura/RTC_GAMMA/S1A_IW_20171011T235534_DVP_RTC30_G_gpufem_4D15.zip\n",
      "Extracting: /home/jovyan/Hydrosar/Dataset/Tripura/RTC_GAMMA/S1A_IW_20180115T235531_DVP_RTC30_G_gpufem_9DB0.zip\n",
      "Extracting: /home/jovyan/Hydrosar/Dataset/Tripura/RTC_GAMMA/S1A_IW_20180503T235532_DVP_RTC30_G_gpufem_CE6F.zip\n",
      "Extracting: /home/jovyan/Hydrosar/Dataset/Tripura/RTC_GAMMA/S1A_IW_20180527T235534_DVP_RTC30_G_gpufem_AAD1.zip\n",
      "Extracting: /home/jovyan/Hydrosar/Dataset/Tripura/RTC_GAMMA/S1A_IW_20190323T235537_DVP_RTC30_G_gpufem_7A43.zip\n",
      "Extracting: /home/jovyan/Hydrosar/Dataset/Tripura/RTC_GAMMA/S1A_IW_20180819T235538_DVP_RTC30_G_gpufem_87A6.zip\n",
      "Extracting: /home/jovyan/Hydrosar/Dataset/Tripura/RTC_GAMMA/S1A_IW_20181018T235540_DVP_RTC30_G_gpufem_E189.zip\n",
      "Extracting: /home/jovyan/Hydrosar/Dataset/Tripura/RTC_GAMMA/S1A_IW_20190122T235538_DVP_RTC30_G_gpufem_D295.zip\n",
      "Extracting: /home/jovyan/Hydrosar/Dataset/Tripura/RTC_GAMMA/S1A_IW_20180924T235540_DVP_RTC30_G_gpufem_3FDD.zip\n",
      "Extracting: /home/jovyan/Hydrosar/Dataset/Tripura/RTC_GAMMA/S1A_IW_20180807T235538_DVP_RTC30_G_gpufem_ED14.zip\n",
      "Extracting: /home/jovyan/Hydrosar/Dataset/Tripura/RTC_GAMMA/S1A_IW_20181006T235540_DVP_RTC30_G_gpufem_C8B5.zip\n",
      "Extracting: /home/jovyan/Hydrosar/Dataset/Tripura/RTC_GAMMA/S1A_IW_20181111T235540_DVP_RTC30_G_gpufem_6153.zip\n",
      "Extracting: /home/jovyan/Hydrosar/Dataset/Tripura/RTC_GAMMA/S1A_IW_20180912T235540_DVP_RTC30_G_gpufem_F5A0.zip\n",
      "Extracting: /home/jovyan/Hydrosar/Dataset/Tripura/RTC_GAMMA/S1A_IW_20190203T235537_DVP_RTC30_G_gpufem_476E.zip\n",
      "Extracting: /home/jovyan/Hydrosar/Dataset/Tripura/RTC_GAMMA/S1A_IW_20190110T235538_DVP_RTC30_G_gpufem_98BE.zip\n",
      "Extracting: /home/jovyan/Hydrosar/Dataset/Tripura/RTC_GAMMA/S1A_IW_20190227T235537_DVP_RTC30_G_gpufem_A66D.zip\n",
      "Extracting: /home/jovyan/Hydrosar/Dataset/Tripura/RTC_GAMMA/S1A_IW_20190311T235537_DVP_RTC30_G_gpufem_C916.zip\n",
      "Extracting: /home/jovyan/Hydrosar/Dataset/Tripura/RTC_GAMMA/S1A_IW_20190215T235537_DVP_RTC30_G_gpufem_ECE2.zip\n",
      "Extracting: /home/jovyan/Hydrosar/Dataset/Tripura/RTC_GAMMA/S1A_IW_20181217T235539_DVP_RTC30_G_gpufem_6610.zip\n",
      "Extracting: /home/jovyan/Hydrosar/Dataset/Tripura/RTC_GAMMA/S1A_IW_20190404T235537_DVP_RTC30_G_gpufem_D032.zip\n",
      "Extracting: /home/jovyan/Hydrosar/Dataset/Tripura/RTC_GAMMA/S1A_IW_20181123T235540_DVP_RTC30_G_gpufem_488B.zip\n",
      "Extracting: /home/jovyan/Hydrosar/Dataset/Tripura/RTC_GAMMA/S1A_IW_20180831T235539_DVP_RTC30_G_gpufem_6154.zip\n",
      "Extracting: /home/jovyan/Hydrosar/Dataset/Tripura/RTC_GAMMA/S1A_IW_20181229T235539_DVP_RTC30_G_gpufem_9708.zip\n",
      "Extracting: /home/jovyan/Hydrosar/Dataset/Tripura/RTC_GAMMA/S1A_IW_20181030T235540_DVP_RTC30_G_gpufem_D12E.zip\n",
      "Extracting: /home/jovyan/Hydrosar/Dataset/Tripura/RTC_GAMMA/S1A_IW_20190627T235541_DVP_RTC30_G_gpufem_1281.zip\n",
      "Extracting: /home/jovyan/Hydrosar/Dataset/Tripura/RTC_GAMMA/S1A_IW_20190510T235539_DVP_RTC30_G_gpufem_9006.zip\n",
      "Extracting: /home/jovyan/Hydrosar/Dataset/Tripura/RTC_GAMMA/S1A_IW_20191001T235547_DVP_RTC30_G_gpufem_CB70.zip\n",
      "Extracting: /home/jovyan/Hydrosar/Dataset/Tripura/RTC_GAMMA/S1A_IW_20191224T235545_DVP_RTC30_G_gpufem_6C06.zip\n",
      "Extracting: /home/jovyan/Hydrosar/Dataset/Tripura/RTC_GAMMA/S1A_IW_20190709T235542_DVP_RTC30_G_gpufem_5565.zip\n",
      "Extracting: /home/jovyan/Hydrosar/Dataset/Tripura/RTC_GAMMA/S1A_IW_20191212T235546_DVP_RTC30_G_gpufem_663B.zip\n",
      "Extracting: /home/jovyan/Hydrosar/Dataset/Tripura/RTC_GAMMA/S1A_IW_20190721T235543_DVP_RTC30_G_gpufem_4653.zip\n",
      "Extracting: /home/jovyan/Hydrosar/Dataset/Tripura/RTC_GAMMA/S1A_IW_20190428T235538_DVP_RTC30_G_gpufem_5562.zip\n",
      "Extracting: /home/jovyan/Hydrosar/Dataset/Tripura/RTC_GAMMA/S1A_IW_20190802T235544_DVP_RTC30_G_gpufem_7083.zip\n",
      "Extracting: /home/jovyan/Hydrosar/Dataset/Tripura/RTC_GAMMA/S1A_IW_20191118T235546_DVP_RTC30_G_gpufem_7D3E.zip\n",
      "Extracting: /home/jovyan/Hydrosar/Dataset/Tripura/RTC_GAMMA/S1A_IW_20191130T235546_DVP_RTC30_G_gpufem_76E8.zip\n",
      "Extracting: /home/jovyan/Hydrosar/Dataset/Tripura/RTC_GAMMA/S1A_IW_20190919T235546_DVP_RTC30_G_gpufem_BAF7.zip\n",
      "Extracting: /home/jovyan/Hydrosar/Dataset/Tripura/RTC_GAMMA/S1A_IW_20191025T235547_DVP_RTC30_G_gpufem_D0BC.zip\n",
      "Extracting: /home/jovyan/Hydrosar/Dataset/Tripura/RTC_GAMMA/S1A_IW_20190416T235538_DVP_RTC30_G_gpufem_979C.zip\n",
      "Extracting: /home/jovyan/Hydrosar/Dataset/Tripura/RTC_GAMMA/S1A_IW_20191106T235547_DVP_RTC30_G_gpufem_DFC5.zip\n",
      "Extracting: /home/jovyan/Hydrosar/Dataset/Tripura/RTC_GAMMA/S1A_IW_20190615T235540_DVP_RTC30_G_gpufem_B3E2.zip\n",
      "Extracting: /home/jovyan/Hydrosar/Dataset/Tripura/RTC_GAMMA/S1A_IW_20190826T235545_DVP_RTC30_G_gpufem_07ED.zip\n",
      "Extracting: /home/jovyan/Hydrosar/Dataset/Tripura/RTC_GAMMA/S1A_IW_20190603T235540_DVP_RTC30_G_gpufem_098F.zip\n",
      "Extracting: /home/jovyan/Hydrosar/Dataset/Tripura/RTC_GAMMA/S1A_IW_20191013T235547_DVP_RTC30_G_gpufem_9878.zip\n",
      "Extracting: /home/jovyan/Hydrosar/Dataset/Tripura/RTC_GAMMA/S1A_IW_20190907T235546_DVP_RTC30_G_gpufem_183C.zip\n"
     ]
    }
   ],
   "source": [
    "products_path = analysis_directory.joinpath(job_type.value)\n",
    "print(products_path)\n",
    "if not products_path.is_dir():\n",
    "    products_path.mkdir()\n",
    "\n",
    "print(f\"\\nProject: {batch.jobs[0].name}\")\n",
    "project_zips = batch.download_files(products_path)\n",
    "for z in project_zips:\n",
    "    if z.suffix == '.nc':\n",
    "        continue\n",
    "    \n",
    "    asfn.asf_unzip(str(products_path), str(z))\n",
    "    z.unlink()"
   ]
  },
  {
   "cell_type": "code",
   "execution_count": 19,
   "metadata": {},
   "outputs": [],
   "source": [
    "rtc = batch.jobs[0].job_type == 'RTC_GAMMA'\n",
    "insar = batch.jobs[0].job_type == 'INSAR_GAMMA'\n",
    "autorift = batch.jobs[0].job_type == 'AUTORIFT'"
   ]
  },
  {
   "cell_type": "markdown",
   "metadata": {},
   "source": [
    "**Determine the available polarizations if downloading RTC products:**"
   ]
  },
  {
   "cell_type": "code",
   "execution_count": 20,
   "metadata": {},
   "outputs": [],
   "source": [
    "if rtc:\n",
    "    polarizations = asfn.get_RTC_polarizations(str(products_path))\n",
    "    polarization_power_set = asfn.get_power_set(polarizations)"
   ]
  },
  {
   "cell_type": "markdown",
   "metadata": {},
   "source": [
    "**Select a polarization:**"
   ]
  },
  {
   "cell_type": "code",
   "execution_count": 21,
   "metadata": {},
   "outputs": [
    {
     "data": {
      "application/vnd.jupyter.widget-view+json": {
       "model_id": "3661f0eca6f14c1cb9cd37f02f7ec647",
       "version_major": 2,
       "version_minor": 0
      },
      "text/plain": [
       "RadioButtons(description='Polarizations:', layout=Layout(min_width='800px'), options=('VH', 'VV', 'VV and VH')…"
      ]
     },
     "metadata": {},
     "output_type": "display_data"
    }
   ],
   "source": [
    "if rtc:\n",
    "    polarization_choice = asfn.select_parameter(sorted(polarization_power_set), 'Polarizations:')\n",
    "else:\n",
    "    polarization_choice = None\n",
    "polarization_choice"
   ]
  },
  {
   "cell_type": "markdown",
   "metadata": {},
   "source": [
    "**Create a paths variable, holding the relative path to the tiffs or NetCDFs:**"
   ]
  },
  {
   "cell_type": "code",
   "execution_count": 22,
   "metadata": {},
   "outputs": [
    {
     "name": "stdout",
     "output_type": "stream",
     "text": [
      "VV and VH\n"
     ]
    }
   ],
   "source": [
    "if rtc:\n",
    "    polarization = polarization_choice.value\n",
    "    print(polarization)\n",
    "    if len(polarization) == 2:\n",
    "        regex = \"\\w[\\--~]{{5,300}}(_|-){}.(tif|tiff)$\".format(polarization)\n",
    "        dbl_polar = False\n",
    "    else:\n",
    "        regex = \"\\w[\\--~]{{5,300}}(_|-){}(v|V|h|H).(tif|tiff)$\".format(polarization[0])\n",
    "        dbl_polar = True\n",
    "elif insar:\n",
    "    regex = \"\\w*_ueF_\\w*.tif$\"\n",
    "elif autorift:\n",
    "    # regex = \"\\w*ASF_OD.nc$\"\n",
    "    regex = \"\\w*ASF_OD.*$\""
   ]
  },
  {
   "cell_type": "markdown",
   "metadata": {},
   "source": [
    "**Write functions to collect and print the paths of the tiffs or NetCDFs:**"
   ]
  },
  {
   "cell_type": "code",
   "execution_count": 23,
   "metadata": {},
   "outputs": [],
   "source": [
    "def get_product_paths(regex, pths):\n",
    "    product_paths = list()\n",
    "    paths = Path().glob(pths)\n",
    "    for pth in paths:\n",
    "        tiff_path = re.search(regex, str(pth))\n",
    "        if tiff_path:\n",
    "            product_paths.append(pth)\n",
    "    return product_paths\n",
    "\n",
    "def print_product_paths(product_paths):\n",
    "    print(\"Tiff paths:\")\n",
    "    for p in product_paths:\n",
    "        print(f\"{p}\\n\")"
   ]
  },
  {
   "cell_type": "markdown",
   "metadata": {},
   "source": [
    "**Write a function to collect the product acquisition dates:**"
   ]
  },
  {
   "cell_type": "code",
   "execution_count": 24,
   "metadata": {},
   "outputs": [],
   "source": [
    "def get_dates(product_paths):\n",
    "    dates = []\n",
    "    for pth in product_paths:\n",
    "        dates.append(asfn.date_from_product_name(str(pth)).split('T')[0])\n",
    "    return dates"
   ]
  },
  {
   "cell_type": "markdown",
   "metadata": {},
   "source": [
    "**Convert NetCDFs to geotiffs:**"
   ]
  },
  {
   "cell_type": "code",
   "execution_count": 25,
   "metadata": {},
   "outputs": [],
   "source": [
    "if autorift:\n",
    "    import xarray as xr\n",
    "    import re\n",
    "\n",
    "    def ncToGeoTiff(path):   \n",
    "        \n",
    "        prevPath = ''\n",
    "        \n",
    "        for p in path.rglob('*.nc'):            \n",
    "            \n",
    "            layers = ['v', 'vx', 'vy', 'v_error', 'vr', 'va', 'M11', 'M12']\n",
    "            fname = p.stem\n",
    "            dates = list(set(re.findall(r'\\d{8}', fname)))\n",
    "            for layer in layers:\n",
    "                layer_dir = products_path/layer\n",
    "\n",
    "                if prevPath != p: # reduces number of runs\n",
    "                    prevPath = p\n",
    "                    ds = xr.open_dataset(p)\n",
    "                                        \n",
    "                    t1 = re.findall('\\d*', ds.img_pair_info.acquisition_date_img1)\n",
    "                    acq_date_1 = f'{t1[0]}T' + ''.join(t1[2:7])\n",
    "                    \n",
    "                    t2 = re.findall('\\d*', ds.img_pair_info.acquisition_date_img2)\n",
    "                    acq_date_2 = f'{t2[0]}T' + ''.join(t2[2:7])\n",
    "   \n",
    "                \n",
    "                name = f'{fname[0:10]}_{acq_date_1}_{acq_date_2}_{fname[-6:]}_{layer}.tif'\n",
    "                outfile = layer_dir/name\n",
    "                                \n",
    "                if not layer_dir.exists():\n",
    "                    layer_dir.mkdir()\n",
    "                    \n",
    "                if not outfile.exists():\n",
    "                    !gdal_translate NETCDF:{p}:{layer} {outfile}\n",
    "            print('\\n')\n",
    " \n",
    "    def removeNC(path):\n",
    "        for p in path.rglob('*.nc'):\n",
    "            p.unlink()"
   ]
  },
  {
   "cell_type": "markdown",
   "metadata": {},
   "source": [
    "**Collect and print the paths of the tiffs or NetCDFs, and collect the paths of their DEMs:**"
   ]
  },
  {
   "cell_type": "code",
   "execution_count": 26,
   "metadata": {},
   "outputs": [
    {
     "name": "stdout",
     "output_type": "stream",
     "text": [
      "Tiff paths:\n",
      "Dataset/Tripura/RTC_GAMMA/S1A_IW_20190919T235546_DVP_RTC30_G_gpufem_BAF7/S1A_IW_20190919T235546_DVP_RTC30_G_gpufem_BAF7_VH.tif\n",
      "\n",
      "Dataset/Tripura/RTC_GAMMA/S1A_IW_20190919T235546_DVP_RTC30_G_gpufem_BAF7/S1A_IW_20190919T235546_DVP_RTC30_G_gpufem_BAF7_VV.tif\n",
      "\n",
      "Dataset/Tripura/RTC_GAMMA/S1A_IW_20180115T235531_DVP_RTC30_G_gpufem_9DB0/S1A_IW_20180115T235531_DVP_RTC30_G_gpufem_9DB0_VV.tif\n",
      "\n",
      "Dataset/Tripura/RTC_GAMMA/S1A_IW_20180115T235531_DVP_RTC30_G_gpufem_9DB0/S1A_IW_20180115T235531_DVP_RTC30_G_gpufem_9DB0_VH.tif\n",
      "\n",
      "Dataset/Tripura/RTC_GAMMA/S1A_IW_20180726T235537_DVP_RTC30_G_gpufem_23F1/S1A_IW_20180726T235537_DVP_RTC30_G_gpufem_23F1_VV.tif\n",
      "\n",
      "Dataset/Tripura/RTC_GAMMA/S1A_IW_20180726T235537_DVP_RTC30_G_gpufem_23F1/S1A_IW_20180726T235537_DVP_RTC30_G_gpufem_23F1_VH.tif\n",
      "\n",
      "Dataset/Tripura/RTC_GAMMA/S1A_IW_20171116T235533_DVP_RTC30_G_gpufem_8B56/S1A_IW_20171116T235533_DVP_RTC30_G_gpufem_8B56_VH.tif\n",
      "\n",
      "Dataset/Tripura/RTC_GAMMA/S1A_IW_20171116T235533_DVP_RTC30_G_gpufem_8B56/S1A_IW_20171116T235533_DVP_RTC30_G_gpufem_8B56_VV.tif\n",
      "\n",
      "Dataset/Tripura/RTC_GAMMA/S1A_IW_20191001T235547_DVP_RTC30_G_gpufem_CB70/S1A_IW_20191001T235547_DVP_RTC30_G_gpufem_CB70_VV.tif\n",
      "\n",
      "Dataset/Tripura/RTC_GAMMA/S1A_IW_20191001T235547_DVP_RTC30_G_gpufem_CB70/S1A_IW_20191001T235547_DVP_RTC30_G_gpufem_CB70_VH.tif\n",
      "\n",
      "Dataset/Tripura/RTC_GAMMA/S1A_IW_20191106T235547_DVP_RTC30_G_gpufem_DFC5/S1A_IW_20191106T235547_DVP_RTC30_G_gpufem_DFC5_VH.tif\n",
      "\n",
      "Dataset/Tripura/RTC_GAMMA/S1A_IW_20191106T235547_DVP_RTC30_G_gpufem_DFC5/S1A_IW_20191106T235547_DVP_RTC30_G_gpufem_DFC5_VV.tif\n",
      "\n",
      "Dataset/Tripura/RTC_GAMMA/S1A_IW_20180527T235534_DVP_RTC30_G_gpufem_AAD1/S1A_IW_20180527T235534_DVP_RTC30_G_gpufem_AAD1_VV.tif\n",
      "\n",
      "Dataset/Tripura/RTC_GAMMA/S1A_IW_20180527T235534_DVP_RTC30_G_gpufem_AAD1/S1A_IW_20180527T235534_DVP_RTC30_G_gpufem_AAD1_VH.tif\n",
      "\n",
      "Dataset/Tripura/RTC_GAMMA/S1A_IW_20171023T235534_DVP_RTC30_G_gpufem_32DC/S1A_IW_20171023T235534_DVP_RTC30_G_gpufem_32DC_VH.tif\n",
      "\n",
      "Dataset/Tripura/RTC_GAMMA/S1A_IW_20171023T235534_DVP_RTC30_G_gpufem_32DC/S1A_IW_20171023T235534_DVP_RTC30_G_gpufem_32DC_VV.tif\n",
      "\n",
      "Dataset/Tripura/RTC_GAMMA/S1A_IW_20180328T235531_DVP_RTC30_G_gpufem_EC7D/S1A_IW_20180328T235531_DVP_RTC30_G_gpufem_EC7D_VH.tif\n",
      "\n",
      "Dataset/Tripura/RTC_GAMMA/S1A_IW_20180328T235531_DVP_RTC30_G_gpufem_EC7D/S1A_IW_20180328T235531_DVP_RTC30_G_gpufem_EC7D_VV.tif\n",
      "\n",
      "Dataset/Tripura/RTC_GAMMA/S1A_IW_20181018T235540_DVP_RTC30_G_gpufem_E189/S1A_IW_20181018T235540_DVP_RTC30_G_gpufem_E189_VV.tif\n",
      "\n",
      "Dataset/Tripura/RTC_GAMMA/S1A_IW_20181018T235540_DVP_RTC30_G_gpufem_E189/S1A_IW_20181018T235540_DVP_RTC30_G_gpufem_E189_VH.tif\n",
      "\n",
      "Dataset/Tripura/RTC_GAMMA/S1A_IW_20190826T235545_DVP_RTC30_G_gpufem_07ED/S1A_IW_20190826T235545_DVP_RTC30_G_gpufem_07ED_VH.tif\n",
      "\n",
      "Dataset/Tripura/RTC_GAMMA/S1A_IW_20190826T235545_DVP_RTC30_G_gpufem_07ED/S1A_IW_20190826T235545_DVP_RTC30_G_gpufem_07ED_VV.tif\n",
      "\n",
      "Dataset/Tripura/RTC_GAMMA/S1A_IW_20171011T235534_DVP_RTC30_G_gpufem_4D15/S1A_IW_20171011T235534_DVP_RTC30_G_gpufem_4D15_VV.tif\n",
      "\n",
      "Dataset/Tripura/RTC_GAMMA/S1A_IW_20171011T235534_DVP_RTC30_G_gpufem_4D15/S1A_IW_20171011T235534_DVP_RTC30_G_gpufem_4D15_VH.tif\n",
      "\n",
      "Dataset/Tripura/RTC_GAMMA/S1A_IW_20180127T235531_DVP_RTC30_G_gpufem_EBAD/S1A_IW_20180127T235531_DVP_RTC30_G_gpufem_EBAD_VH.tif\n",
      "\n",
      "Dataset/Tripura/RTC_GAMMA/S1A_IW_20180127T235531_DVP_RTC30_G_gpufem_EBAD/S1A_IW_20180127T235531_DVP_RTC30_G_gpufem_EBAD_VV.tif\n",
      "\n",
      "Dataset/Tripura/RTC_GAMMA/S1A_IW_20190802T235544_DVP_RTC30_G_gpufem_7083/S1A_IW_20190802T235544_DVP_RTC30_G_gpufem_7083_VV.tif\n",
      "\n",
      "Dataset/Tripura/RTC_GAMMA/S1A_IW_20190802T235544_DVP_RTC30_G_gpufem_7083/S1A_IW_20190802T235544_DVP_RTC30_G_gpufem_7083_VH.tif\n",
      "\n",
      "Dataset/Tripura/RTC_GAMMA/S1A_IW_20181217T235539_DVP_RTC30_G_gpufem_6610/S1A_IW_20181217T235539_DVP_RTC30_G_gpufem_6610_VH.tif\n",
      "\n",
      "Dataset/Tripura/RTC_GAMMA/S1A_IW_20181217T235539_DVP_RTC30_G_gpufem_6610/S1A_IW_20181217T235539_DVP_RTC30_G_gpufem_6610_VV.tif\n",
      "\n",
      "Dataset/Tripura/RTC_GAMMA/S1A_IW_20190510T235539_DVP_RTC30_G_gpufem_9006/S1A_IW_20190510T235539_DVP_RTC30_G_gpufem_9006_VV.tif\n",
      "\n",
      "Dataset/Tripura/RTC_GAMMA/S1A_IW_20190510T235539_DVP_RTC30_G_gpufem_9006/S1A_IW_20190510T235539_DVP_RTC30_G_gpufem_9006_VH.tif\n",
      "\n",
      "Dataset/Tripura/RTC_GAMMA/S1A_IW_20190227T235537_DVP_RTC30_G_gpufem_A66D/S1A_IW_20190227T235537_DVP_RTC30_G_gpufem_A66D_VV.tif\n",
      "\n",
      "Dataset/Tripura/RTC_GAMMA/S1A_IW_20190227T235537_DVP_RTC30_G_gpufem_A66D/S1A_IW_20190227T235537_DVP_RTC30_G_gpufem_A66D_VH.tif\n",
      "\n",
      "Dataset/Tripura/RTC_GAMMA/S1A_IW_20180714T235536_DVP_RTC30_G_gpufem_AB5F/S1A_IW_20180714T235536_DVP_RTC30_G_gpufem_AB5F_VV.tif\n",
      "\n",
      "Dataset/Tripura/RTC_GAMMA/S1A_IW_20180714T235536_DVP_RTC30_G_gpufem_AB5F/S1A_IW_20180714T235536_DVP_RTC30_G_gpufem_AB5F_VH.tif\n",
      "\n",
      "Dataset/Tripura/RTC_GAMMA/S1A_IW_20181229T235539_DVP_RTC30_G_gpufem_9708/S1A_IW_20181229T235539_DVP_RTC30_G_gpufem_9708_VV.tif\n",
      "\n",
      "Dataset/Tripura/RTC_GAMMA/S1A_IW_20181229T235539_DVP_RTC30_G_gpufem_9708/S1A_IW_20181229T235539_DVP_RTC30_G_gpufem_9708_VH.tif\n",
      "\n",
      "Dataset/Tripura/RTC_GAMMA/S1A_IW_20171210T235533_DVP_RTC30_G_gpufem_5750/S1A_IW_20171210T235533_DVP_RTC30_G_gpufem_5750_VH.tif\n",
      "\n",
      "Dataset/Tripura/RTC_GAMMA/S1A_IW_20171210T235533_DVP_RTC30_G_gpufem_5750/S1A_IW_20171210T235533_DVP_RTC30_G_gpufem_5750_VV.tif\n",
      "\n",
      "Dataset/Tripura/RTC_GAMMA/S1A_IW_20180316T235531_DVP_RTC30_G_gpufem_2E6F/S1A_IW_20180316T235531_DVP_RTC30_G_gpufem_2E6F_VH.tif\n",
      "\n",
      "Dataset/Tripura/RTC_GAMMA/S1A_IW_20180316T235531_DVP_RTC30_G_gpufem_2E6F/S1A_IW_20180316T235531_DVP_RTC30_G_gpufem_2E6F_VV.tif\n",
      "\n",
      "Dataset/Tripura/RTC_GAMMA/S1A_IW_20180208T235531_DVP_RTC30_G_gpufem_B75A/S1A_IW_20180208T235531_DVP_RTC30_G_gpufem_B75A_VH.tif\n",
      "\n",
      "Dataset/Tripura/RTC_GAMMA/S1A_IW_20180208T235531_DVP_RTC30_G_gpufem_B75A/S1A_IW_20180208T235531_DVP_RTC30_G_gpufem_B75A_VV.tif\n",
      "\n",
      "Dataset/Tripura/RTC_GAMMA/S1A_IW_20190709T235542_DVP_RTC30_G_gpufem_5565/S1A_IW_20190709T235542_DVP_RTC30_G_gpufem_5565_VH.tif\n",
      "\n",
      "Dataset/Tripura/RTC_GAMMA/S1A_IW_20190709T235542_DVP_RTC30_G_gpufem_5565/S1A_IW_20190709T235542_DVP_RTC30_G_gpufem_5565_VV.tif\n",
      "\n",
      "Dataset/Tripura/RTC_GAMMA/S1A_IW_20180819T235538_DVP_RTC30_G_gpufem_87A6/S1A_IW_20180819T235538_DVP_RTC30_G_gpufem_87A6_VV.tif\n",
      "\n",
      "Dataset/Tripura/RTC_GAMMA/S1A_IW_20180819T235538_DVP_RTC30_G_gpufem_87A6/S1A_IW_20180819T235538_DVP_RTC30_G_gpufem_87A6_VH.tif\n",
      "\n",
      "Dataset/Tripura/RTC_GAMMA/S1A_IW_20191224T235545_DVP_RTC30_G_gpufem_6C06/S1A_IW_20191224T235545_DVP_RTC30_G_gpufem_6C06_VH.tif\n",
      "\n",
      "Dataset/Tripura/RTC_GAMMA/S1A_IW_20191224T235545_DVP_RTC30_G_gpufem_6C06/S1A_IW_20191224T235545_DVP_RTC30_G_gpufem_6C06_VV.tif\n",
      "\n",
      "Dataset/Tripura/RTC_GAMMA/S1A_IW_20180421T235532_DVP_RTC30_G_gpufem_FE2B/S1A_IW_20180421T235532_DVP_RTC30_G_gpufem_FE2B_VV.tif\n",
      "\n",
      "Dataset/Tripura/RTC_GAMMA/S1A_IW_20180421T235532_DVP_RTC30_G_gpufem_FE2B/S1A_IW_20180421T235532_DVP_RTC30_G_gpufem_FE2B_VH.tif\n",
      "\n",
      "Dataset/Tripura/RTC_GAMMA/S1A_IW_20190122T235538_DVP_RTC30_G_gpufem_D295/S1A_IW_20190122T235538_DVP_RTC30_G_gpufem_D295_VV.tif\n",
      "\n",
      "Dataset/Tripura/RTC_GAMMA/S1A_IW_20190122T235538_DVP_RTC30_G_gpufem_D295/S1A_IW_20190122T235538_DVP_RTC30_G_gpufem_D295_VH.tif\n",
      "\n",
      "Dataset/Tripura/RTC_GAMMA/S1A_IW_20181006T235540_DVP_RTC30_G_gpufem_C8B5/S1A_IW_20181006T235540_DVP_RTC30_G_gpufem_C8B5_VH.tif\n",
      "\n",
      "Dataset/Tripura/RTC_GAMMA/S1A_IW_20181006T235540_DVP_RTC30_G_gpufem_C8B5/S1A_IW_20181006T235540_DVP_RTC30_G_gpufem_C8B5_VV.tif\n",
      "\n",
      "Dataset/Tripura/RTC_GAMMA/S1A_IW_20180831T235539_DVP_RTC30_G_gpufem_6154/S1A_IW_20180831T235539_DVP_RTC30_G_gpufem_6154_VH.tif\n",
      "\n",
      "Dataset/Tripura/RTC_GAMMA/S1A_IW_20180831T235539_DVP_RTC30_G_gpufem_6154/S1A_IW_20180831T235539_DVP_RTC30_G_gpufem_6154_VV.tif\n",
      "\n",
      "Dataset/Tripura/RTC_GAMMA/S1A_IW_20181123T235540_DVP_RTC30_G_gpufem_488B/S1A_IW_20181123T235540_DVP_RTC30_G_gpufem_488B_VV.tif\n",
      "\n",
      "Dataset/Tripura/RTC_GAMMA/S1A_IW_20181123T235540_DVP_RTC30_G_gpufem_488B/S1A_IW_20181123T235540_DVP_RTC30_G_gpufem_488B_VH.tif\n",
      "\n",
      "Dataset/Tripura/RTC_GAMMA/S1A_IW_20181030T235540_DVP_RTC30_G_gpufem_D12E/S1A_IW_20181030T235540_DVP_RTC30_G_gpufem_D12E_VV.tif\n",
      "\n",
      "Dataset/Tripura/RTC_GAMMA/S1A_IW_20181030T235540_DVP_RTC30_G_gpufem_D12E/S1A_IW_20181030T235540_DVP_RTC30_G_gpufem_D12E_VH.tif\n",
      "\n",
      "Dataset/Tripura/RTC_GAMMA/S1A_IW_20180103T235531_DVP_RTC30_G_gpufem_31C0/S1A_IW_20180103T235531_DVP_RTC30_G_gpufem_31C0_VV.tif\n",
      "\n",
      "Dataset/Tripura/RTC_GAMMA/S1A_IW_20180103T235531_DVP_RTC30_G_gpufem_31C0/S1A_IW_20180103T235531_DVP_RTC30_G_gpufem_31C0_VH.tif\n",
      "\n",
      "Dataset/Tripura/RTC_GAMMA/S1A_IW_20190615T235540_DVP_RTC30_G_gpufem_B3E2/S1A_IW_20190615T235540_DVP_RTC30_G_gpufem_B3E2_VV.tif\n",
      "\n",
      "Dataset/Tripura/RTC_GAMMA/S1A_IW_20190615T235540_DVP_RTC30_G_gpufem_B3E2/S1A_IW_20190615T235540_DVP_RTC30_G_gpufem_B3E2_VH.tif\n",
      "\n",
      "Dataset/Tripura/RTC_GAMMA/S1A_IW_20190721T235543_DVP_RTC30_G_gpufem_4653/S1A_IW_20190721T235543_DVP_RTC30_G_gpufem_4653_VH.tif\n",
      "\n",
      "Dataset/Tripura/RTC_GAMMA/S1A_IW_20190721T235543_DVP_RTC30_G_gpufem_4653/S1A_IW_20190721T235543_DVP_RTC30_G_gpufem_4653_VV.tif\n",
      "\n",
      "Dataset/Tripura/RTC_GAMMA/S1A_IW_20180807T235538_DVP_RTC30_G_gpufem_ED14/S1A_IW_20180807T235538_DVP_RTC30_G_gpufem_ED14_VH.tif\n",
      "\n",
      "Dataset/Tripura/RTC_GAMMA/S1A_IW_20180807T235538_DVP_RTC30_G_gpufem_ED14/S1A_IW_20180807T235538_DVP_RTC30_G_gpufem_ED14_VV.tif\n",
      "\n",
      "Dataset/Tripura/RTC_GAMMA/S1A_IW_20190416T235538_DVP_RTC30_G_gpufem_979C/S1A_IW_20190416T235538_DVP_RTC30_G_gpufem_979C_VV.tif\n",
      "\n",
      "Dataset/Tripura/RTC_GAMMA/S1A_IW_20190416T235538_DVP_RTC30_G_gpufem_979C/S1A_IW_20190416T235538_DVP_RTC30_G_gpufem_979C_VH.tif\n",
      "\n",
      "Dataset/Tripura/RTC_GAMMA/S1A_IW_20180515T235533_DVP_RTC30_G_gpufem_7E28/S1A_IW_20180515T235533_DVP_RTC30_G_gpufem_7E28_VV.tif\n",
      "\n",
      "Dataset/Tripura/RTC_GAMMA/S1A_IW_20180515T235533_DVP_RTC30_G_gpufem_7E28/S1A_IW_20180515T235533_DVP_RTC30_G_gpufem_7E28_VH.tif\n",
      "\n",
      "Dataset/Tripura/RTC_GAMMA/S1A_IW_20171222T235532_DVP_RTC30_G_gpufem_E7A6/S1A_IW_20171222T235532_DVP_RTC30_G_gpufem_E7A6_VV.tif\n",
      "\n",
      "Dataset/Tripura/RTC_GAMMA/S1A_IW_20171222T235532_DVP_RTC30_G_gpufem_E7A6/S1A_IW_20171222T235532_DVP_RTC30_G_gpufem_E7A6_VH.tif\n",
      "\n",
      "Dataset/Tripura/RTC_GAMMA/S1A_IW_20191118T235546_DVP_RTC30_G_gpufem_7D3E/S1A_IW_20191118T235546_DVP_RTC30_G_gpufem_7D3E_VH.tif\n",
      "\n",
      "Dataset/Tripura/RTC_GAMMA/S1A_IW_20191118T235546_DVP_RTC30_G_gpufem_7D3E/S1A_IW_20191118T235546_DVP_RTC30_G_gpufem_7D3E_VV.tif\n",
      "\n",
      "Dataset/Tripura/RTC_GAMMA/S1A_IW_20190603T235540_DVP_RTC30_G_gpufem_098F/S1A_IW_20190603T235540_DVP_RTC30_G_gpufem_098F_VH.tif\n",
      "\n",
      "Dataset/Tripura/RTC_GAMMA/S1A_IW_20190603T235540_DVP_RTC30_G_gpufem_098F/S1A_IW_20190603T235540_DVP_RTC30_G_gpufem_098F_VV.tif\n",
      "\n",
      "Dataset/Tripura/RTC_GAMMA/S1A_IW_20190203T235537_DVP_RTC30_G_gpufem_476E/S1A_IW_20190203T235537_DVP_RTC30_G_gpufem_476E_VV.tif\n",
      "\n",
      "Dataset/Tripura/RTC_GAMMA/S1A_IW_20190203T235537_DVP_RTC30_G_gpufem_476E/S1A_IW_20190203T235537_DVP_RTC30_G_gpufem_476E_VH.tif\n",
      "\n",
      "Dataset/Tripura/RTC_GAMMA/S1A_IW_20191013T235547_DVP_RTC30_G_gpufem_9878/S1A_IW_20191013T235547_DVP_RTC30_G_gpufem_9878_VV.tif\n",
      "\n",
      "Dataset/Tripura/RTC_GAMMA/S1A_IW_20191013T235547_DVP_RTC30_G_gpufem_9878/S1A_IW_20191013T235547_DVP_RTC30_G_gpufem_9878_VH.tif\n",
      "\n",
      "Dataset/Tripura/RTC_GAMMA/S1A_IW_20180924T235540_DVP_RTC30_G_gpufem_3FDD/S1A_IW_20180924T235540_DVP_RTC30_G_gpufem_3FDD_VV.tif\n",
      "\n",
      "Dataset/Tripura/RTC_GAMMA/S1A_IW_20180924T235540_DVP_RTC30_G_gpufem_3FDD/S1A_IW_20180924T235540_DVP_RTC30_G_gpufem_3FDD_VH.tif\n",
      "\n",
      "Dataset/Tripura/RTC_GAMMA/S1A_IW_20180912T235540_DVP_RTC30_G_gpufem_F5A0/S1A_IW_20180912T235540_DVP_RTC30_G_gpufem_F5A0_VV.tif\n",
      "\n",
      "Dataset/Tripura/RTC_GAMMA/S1A_IW_20180912T235540_DVP_RTC30_G_gpufem_F5A0/S1A_IW_20180912T235540_DVP_RTC30_G_gpufem_F5A0_VH.tif\n",
      "\n",
      "Dataset/Tripura/RTC_GAMMA/S1A_IW_20180608T235534_DVP_RTC30_G_gpufem_7207/S1A_IW_20180608T235534_DVP_RTC30_G_gpufem_7207_VV.tif\n",
      "\n",
      "Dataset/Tripura/RTC_GAMMA/S1A_IW_20180608T235534_DVP_RTC30_G_gpufem_7207/S1A_IW_20180608T235534_DVP_RTC30_G_gpufem_7207_VH.tif\n",
      "\n",
      "Dataset/Tripura/RTC_GAMMA/S1A_IW_20190110T235538_DVP_RTC30_G_gpufem_98BE/S1A_IW_20190110T235538_DVP_RTC30_G_gpufem_98BE_VV.tif\n",
      "\n",
      "Dataset/Tripura/RTC_GAMMA/S1A_IW_20190110T235538_DVP_RTC30_G_gpufem_98BE/S1A_IW_20190110T235538_DVP_RTC30_G_gpufem_98BE_VH.tif\n",
      "\n",
      "Dataset/Tripura/RTC_GAMMA/S1A_IW_20171128T235533_DVP_RTC30_G_gpufem_06F8/S1A_IW_20171128T235533_DVP_RTC30_G_gpufem_06F8_VV.tif\n",
      "\n",
      "Dataset/Tripura/RTC_GAMMA/S1A_IW_20171128T235533_DVP_RTC30_G_gpufem_06F8/S1A_IW_20171128T235533_DVP_RTC30_G_gpufem_06F8_VH.tif\n",
      "\n",
      "Dataset/Tripura/RTC_GAMMA/S1A_IW_20191212T235546_DVP_RTC30_G_gpufem_663B/S1A_IW_20191212T235546_DVP_RTC30_G_gpufem_663B_VH.tif\n",
      "\n",
      "Dataset/Tripura/RTC_GAMMA/S1A_IW_20191212T235546_DVP_RTC30_G_gpufem_663B/S1A_IW_20191212T235546_DVP_RTC30_G_gpufem_663B_VV.tif\n",
      "\n",
      "Dataset/Tripura/RTC_GAMMA/S1A_IW_20191025T235547_DVP_RTC30_G_gpufem_D0BC/S1A_IW_20191025T235547_DVP_RTC30_G_gpufem_D0BC_VV.tif\n",
      "\n",
      "Dataset/Tripura/RTC_GAMMA/S1A_IW_20191025T235547_DVP_RTC30_G_gpufem_D0BC/S1A_IW_20191025T235547_DVP_RTC30_G_gpufem_D0BC_VH.tif\n",
      "\n",
      "Dataset/Tripura/RTC_GAMMA/S1A_IW_20180304T235530_DVP_RTC30_G_gpufem_7F99/S1A_IW_20180304T235530_DVP_RTC30_G_gpufem_7F99_VV.tif\n",
      "\n",
      "Dataset/Tripura/RTC_GAMMA/S1A_IW_20180304T235530_DVP_RTC30_G_gpufem_7F99/S1A_IW_20180304T235530_DVP_RTC30_G_gpufem_7F99_VH.tif\n",
      "\n",
      "Dataset/Tripura/RTC_GAMMA/S1A_IW_20190907T235546_DVP_RTC30_G_gpufem_183C/S1A_IW_20190907T235546_DVP_RTC30_G_gpufem_183C_VH.tif\n",
      "\n",
      "Dataset/Tripura/RTC_GAMMA/S1A_IW_20190907T235546_DVP_RTC30_G_gpufem_183C/S1A_IW_20190907T235546_DVP_RTC30_G_gpufem_183C_VV.tif\n",
      "\n",
      "Dataset/Tripura/RTC_GAMMA/S1A_IW_20180503T235532_DVP_RTC30_G_gpufem_CE6F/S1A_IW_20180503T235532_DVP_RTC30_G_gpufem_CE6F_VV.tif\n",
      "\n",
      "Dataset/Tripura/RTC_GAMMA/S1A_IW_20180503T235532_DVP_RTC30_G_gpufem_CE6F/S1A_IW_20180503T235532_DVP_RTC30_G_gpufem_CE6F_VH.tif\n",
      "\n",
      "Dataset/Tripura/RTC_GAMMA/S1A_IW_20181111T235540_DVP_RTC30_G_gpufem_6153/S1A_IW_20181111T235540_DVP_RTC30_G_gpufem_6153_VV.tif\n",
      "\n",
      "Dataset/Tripura/RTC_GAMMA/S1A_IW_20181111T235540_DVP_RTC30_G_gpufem_6153/S1A_IW_20181111T235540_DVP_RTC30_G_gpufem_6153_VH.tif\n",
      "\n",
      "Dataset/Tripura/RTC_GAMMA/S1A_IW_20190215T235537_DVP_RTC30_G_gpufem_ECE2/S1A_IW_20190215T235537_DVP_RTC30_G_gpufem_ECE2_VH.tif\n",
      "\n",
      "Dataset/Tripura/RTC_GAMMA/S1A_IW_20190215T235537_DVP_RTC30_G_gpufem_ECE2/S1A_IW_20190215T235537_DVP_RTC30_G_gpufem_ECE2_VV.tif\n",
      "\n",
      "Dataset/Tripura/RTC_GAMMA/S1A_IW_20171104T235534_DVP_RTC30_G_gpufem_A2FD/S1A_IW_20171104T235534_DVP_RTC30_G_gpufem_A2FD_VH.tif\n",
      "\n",
      "Dataset/Tripura/RTC_GAMMA/S1A_IW_20171104T235534_DVP_RTC30_G_gpufem_A2FD/S1A_IW_20171104T235534_DVP_RTC30_G_gpufem_A2FD_VV.tif\n",
      "\n",
      "Dataset/Tripura/RTC_GAMMA/S1A_IW_20190311T235537_DVP_RTC30_G_gpufem_C916/S1A_IW_20190311T235537_DVP_RTC30_G_gpufem_C916_VH.tif\n",
      "\n",
      "Dataset/Tripura/RTC_GAMMA/S1A_IW_20190311T235537_DVP_RTC30_G_gpufem_C916/S1A_IW_20190311T235537_DVP_RTC30_G_gpufem_C916_VV.tif\n",
      "\n",
      "Dataset/Tripura/RTC_GAMMA/S1A_IW_20190428T235538_DVP_RTC30_G_gpufem_5562/S1A_IW_20190428T235538_DVP_RTC30_G_gpufem_5562_VH.tif\n",
      "\n",
      "Dataset/Tripura/RTC_GAMMA/S1A_IW_20190428T235538_DVP_RTC30_G_gpufem_5562/S1A_IW_20190428T235538_DVP_RTC30_G_gpufem_5562_VV.tif\n",
      "\n",
      "Dataset/Tripura/RTC_GAMMA/S1A_IW_20190627T235541_DVP_RTC30_G_gpufem_1281/S1A_IW_20190627T235541_DVP_RTC30_G_gpufem_1281_VH.tif\n",
      "\n",
      "Dataset/Tripura/RTC_GAMMA/S1A_IW_20190627T235541_DVP_RTC30_G_gpufem_1281/S1A_IW_20190627T235541_DVP_RTC30_G_gpufem_1281_VV.tif\n",
      "\n",
      "Dataset/Tripura/RTC_GAMMA/S1A_IW_20180409T235531_DVP_RTC30_G_gpufem_A225/S1A_IW_20180409T235531_DVP_RTC30_G_gpufem_A225_VV.tif\n",
      "\n",
      "Dataset/Tripura/RTC_GAMMA/S1A_IW_20180409T235531_DVP_RTC30_G_gpufem_A225/S1A_IW_20180409T235531_DVP_RTC30_G_gpufem_A225_VH.tif\n",
      "\n",
      "Dataset/Tripura/RTC_GAMMA/S1A_IW_20180220T235530_DVP_RTC30_G_gpufem_7CEE/S1A_IW_20180220T235530_DVP_RTC30_G_gpufem_7CEE_VH.tif\n",
      "\n",
      "Dataset/Tripura/RTC_GAMMA/S1A_IW_20180220T235530_DVP_RTC30_G_gpufem_7CEE/S1A_IW_20180220T235530_DVP_RTC30_G_gpufem_7CEE_VV.tif\n",
      "\n",
      "Dataset/Tripura/RTC_GAMMA/S1A_IW_20190404T235537_DVP_RTC30_G_gpufem_D032/S1A_IW_20190404T235537_DVP_RTC30_G_gpufem_D032_VH.tif\n",
      "\n",
      "Dataset/Tripura/RTC_GAMMA/S1A_IW_20190404T235537_DVP_RTC30_G_gpufem_D032/S1A_IW_20190404T235537_DVP_RTC30_G_gpufem_D032_VV.tif\n",
      "\n",
      "Dataset/Tripura/RTC_GAMMA/S1A_IW_20190323T235537_DVP_RTC30_G_gpufem_7A43/S1A_IW_20190323T235537_DVP_RTC30_G_gpufem_7A43_VH.tif\n",
      "\n",
      "Dataset/Tripura/RTC_GAMMA/S1A_IW_20190323T235537_DVP_RTC30_G_gpufem_7A43/S1A_IW_20190323T235537_DVP_RTC30_G_gpufem_7A43_VV.tif\n",
      "\n",
      "Dataset/Tripura/RTC_GAMMA/S1A_IW_20191130T235546_DVP_RTC30_G_gpufem_76E8/S1A_IW_20191130T235546_DVP_RTC30_G_gpufem_76E8_VH.tif\n",
      "\n",
      "Dataset/Tripura/RTC_GAMMA/S1A_IW_20191130T235546_DVP_RTC30_G_gpufem_76E8/S1A_IW_20191130T235546_DVP_RTC30_G_gpufem_76E8_VV.tif\n",
      "\n"
     ]
    }
   ],
   "source": [
    "rel_prod_path = products_path.relative_to(Path.cwd())\n",
    "if rtc:\n",
    "    product_pth = f\"{str(rel_prod_path)}/*/*{polarization[0]}*.tif*\"\n",
    "elif insar:\n",
    "    product_pth = f\"{str(rel_prod_path)}/*/*.tif*\"\n",
    "elif autorift:\n",
    "    product_pth = f\"{str(rel_prod_path)}/*.tif*\"    \n",
    "    ncToGeoTiff(products_path)\n",
    "    removeNC(products_path)\n",
    "\n",
    "dems_pth = f\"{str(rel_prod_path)}/*/*dem.tif*\"\n",
    "\n",
    "if not autorift:\n",
    "    product_paths = get_product_paths(regex, product_pth)\n",
    "    print_product_paths(product_paths)\n",
    "else:\n",
    "    print('Tiff paths:\\n')\n",
    "    \n",
    "    for p in products_path.glob('*'):\n",
    "        print(f'{p.parts[-1]}:')\n",
    "        \n",
    "        for p_tiff in p.rglob('*.tif'):\n",
    "            print(p_tiff)\n",
    "        \n",
    "        print('\\n')\n",
    "        \n",
    "# Get all paths for files ending with 'dem'\n",
    "dem_paths = get_product_paths(r'dem.tif$', dems_pth)"
   ]
  },
  {
   "cell_type": "markdown",
   "metadata": {},
   "source": [
    "if autorift:\n",
    "    - convert to geotiff\n",
    "    - delete netcdfs\n",
    "    - re-glob paths for geotiffs"
   ]
  },
  {
   "cell_type": "markdown",
   "metadata": {},
   "source": [
    "---\n",
    "## 1.2 Fix multiple UTM Zone-related issues\n",
    "\n",
    "Fix multiple UTM Zone-related issues should they exist in your data set. If multiple UTM zones are found, the following code cells will identify the predominant UTM zone and reproject the rest into that zone. This step must be completed prior to merging frames or performing any analysis. AutoRIFT products do not come with projection metadata and so will not be reprojected.\n",
    "\n",
    "**Use gdal.Info to determine the UTM definition types and zones in each product:**"
   ]
  },
  {
   "cell_type": "code",
   "execution_count": 27,
   "metadata": {},
   "outputs": [],
   "source": [
    "if not autorift:\n",
    "    coord_choice = asfn.select_parameter([\"UTM\", \"Lat/Long\"], description='Coord Systems:')\n",
    "    coord_choice"
   ]
  },
  {
   "cell_type": "code",
   "execution_count": 28,
   "metadata": {},
   "outputs": [
    {
     "name": "stdout",
     "output_type": "stream",
     "text": [
      "Checking UTM Zones in the data stack ...\n",
      "\n"
     ]
    },
    {
     "name": "stderr",
     "output_type": "stream",
     "text": [
      "/home/jovyan/.local/envs/rtc_analysis/lib/python3.9/site-packages/osgeo/gdal.py:287: FutureWarning: Neither gdal.UseExceptions() nor gdal.DontUseExceptions() has been explicitly called. In GDAL 4.0, exceptions will be enabled by default.\n",
      "  warnings.warn(\n"
     ]
    },
    {
     "name": "stdout",
     "output_type": "stream",
     "text": [
      "UTM Zones:\n",
      " ['32646', '32646', '32646', '32646', '32646', '32646', '32646', '32646', '32646', '32646', '32646', '32646', '32646', '32646', '32646', '32646', '32646', '32646', '32646', '32646', '32646', '32646', '32646', '32646', '32646', '32646', '32646', '32646', '32646', '32646', '32646', '32646', '32646', '32646', '32646', '32646', '32646', '32646', '32646', '32646', '32646', '32646', '32646', '32646', '32646', '32646', '32646', '32646', '32646', '32646', '32646', '32646', '32646', '32646', '32646', '32646', '32646', '32646', '32646', '32646', '32646', '32646', '32646', '32646', '32646', '32646', '32646', '32646', '32646', '32646', '32646', '32646', '32646', '32646', '32646', '32646', '32646', '32646', '32646', '32646', '32646', '32646', '32646', '32646', '32646', '32646', '32646', '32646', '32646', '32646', '32646', '32646', '32646', '32646', '32646', '32646', '32646', '32646', '32646', '32646', '32646', '32646', '32646', '32646', '32646', '32646', '32646', '32646', '32646', '32646', '32646', '32646', '32646', '32646', '32646', '32646', '32646', '32646', '32646', '32646', '32646', '32646', '32646', '32646', '32646', '32646']\n",
      "\n",
      "UTM Types:\n",
      " ['EPSG', 'EPSG', 'EPSG', 'EPSG', 'EPSG', 'EPSG', 'EPSG', 'EPSG', 'EPSG', 'EPSG', 'EPSG', 'EPSG', 'EPSG', 'EPSG', 'EPSG', 'EPSG', 'EPSG', 'EPSG', 'EPSG', 'EPSG', 'EPSG', 'EPSG', 'EPSG', 'EPSG', 'EPSG', 'EPSG', 'EPSG', 'EPSG', 'EPSG', 'EPSG', 'EPSG', 'EPSG', 'EPSG', 'EPSG', 'EPSG', 'EPSG', 'EPSG', 'EPSG', 'EPSG', 'EPSG', 'EPSG', 'EPSG', 'EPSG', 'EPSG', 'EPSG', 'EPSG', 'EPSG', 'EPSG', 'EPSG', 'EPSG', 'EPSG', 'EPSG', 'EPSG', 'EPSG', 'EPSG', 'EPSG', 'EPSG', 'EPSG', 'EPSG', 'EPSG', 'EPSG', 'EPSG', 'EPSG', 'EPSG', 'EPSG', 'EPSG', 'EPSG', 'EPSG', 'EPSG', 'EPSG', 'EPSG', 'EPSG', 'EPSG', 'EPSG', 'EPSG', 'EPSG', 'EPSG', 'EPSG', 'EPSG', 'EPSG', 'EPSG', 'EPSG', 'EPSG', 'EPSG', 'EPSG', 'EPSG', 'EPSG', 'EPSG', 'EPSG', 'EPSG', 'EPSG', 'EPSG', 'EPSG', 'EPSG', 'EPSG', 'EPSG', 'EPSG', 'EPSG', 'EPSG', 'EPSG', 'EPSG', 'EPSG', 'EPSG', 'EPSG', 'EPSG', 'EPSG', 'EPSG', 'EPSG', 'EPSG', 'EPSG', 'EPSG', 'EPSG', 'EPSG', 'EPSG', 'EPSG', 'EPSG', 'EPSG', 'EPSG', 'EPSG', 'EPSG', 'EPSG', 'EPSG', 'EPSG', 'EPSG', 'EPSG', 'EPSG']\n"
     ]
    }
   ],
   "source": [
    "if not autorift:\n",
    "    utm_zones = []\n",
    "    utm_types = []\n",
    "    print('Checking UTM Zones in the data stack ...\\n')\n",
    "    for k in range(0, len(product_paths)):\n",
    "        info = (gdal.Info(str(product_paths[k]), options = ['-json']))\n",
    "        info = json.dumps(info)\n",
    "        info = (json.loads(info))['coordinateSystem']['wkt']\n",
    "        zone = info.split('ID')[-1].split(',')[1][0:-2]\n",
    "        utm_zones.append(zone)\n",
    "        typ = info.split('ID')[-1].split('\"')[1]\n",
    "        utm_types.append(typ)\n",
    "    print(f\"UTM Zones:\\n {utm_zones}\\n\")\n",
    "    print(f\"UTM Types:\\n {utm_types}\")"
   ]
  },
  {
   "cell_type": "markdown",
   "metadata": {},
   "source": [
    "**Identify the most commonly used UTM Zone in the data:**"
   ]
  },
  {
   "cell_type": "code",
   "execution_count": 29,
   "metadata": {},
   "outputs": [
    {
     "name": "stdout",
     "output_type": "stream",
     "text": [
      "Predominant UTM Zone: 32646\n"
     ]
    }
   ],
   "source": [
    "if not autorift:\n",
    "    if coord_choice.value == 'UTM':\n",
    "        utm_unique, counts = np.unique(utm_zones, return_counts=True)\n",
    "        a = np.where(counts == np.max(counts))\n",
    "        predominant_utm = utm_unique[a][0]\n",
    "        print(f\"Predominant UTM Zone: {predominant_utm}\")\n",
    "    else:\n",
    "        predominant_utm = '4326'"
   ]
  },
  {
   "cell_type": "code",
   "execution_count": 30,
   "metadata": {},
   "outputs": [
    {
     "data": {
      "text/plain": [
       "[PosixPath('Dataset/Tripura/RTC_GAMMA/S1A_IW_20190919T235546_DVP_RTC30_G_gpufem_BAF7/S1A_IW_20190919T235546_DVP_RTC30_G_gpufem_BAF7_dem.tif'),\n",
       " PosixPath('Dataset/Tripura/RTC_GAMMA/S1A_IW_20180115T235531_DVP_RTC30_G_gpufem_9DB0/S1A_IW_20180115T235531_DVP_RTC30_G_gpufem_9DB0_dem.tif'),\n",
       " PosixPath('Dataset/Tripura/RTC_GAMMA/S1A_IW_20180726T235537_DVP_RTC30_G_gpufem_23F1/S1A_IW_20180726T235537_DVP_RTC30_G_gpufem_23F1_dem.tif'),\n",
       " PosixPath('Dataset/Tripura/RTC_GAMMA/S1A_IW_20171116T235533_DVP_RTC30_G_gpufem_8B56/S1A_IW_20171116T235533_DVP_RTC30_G_gpufem_8B56_dem.tif'),\n",
       " PosixPath('Dataset/Tripura/RTC_GAMMA/S1A_IW_20191001T235547_DVP_RTC30_G_gpufem_CB70/S1A_IW_20191001T235547_DVP_RTC30_G_gpufem_CB70_dem.tif'),\n",
       " PosixPath('Dataset/Tripura/RTC_GAMMA/S1A_IW_20191106T235547_DVP_RTC30_G_gpufem_DFC5/S1A_IW_20191106T235547_DVP_RTC30_G_gpufem_DFC5_dem.tif'),\n",
       " PosixPath('Dataset/Tripura/RTC_GAMMA/S1A_IW_20180527T235534_DVP_RTC30_G_gpufem_AAD1/S1A_IW_20180527T235534_DVP_RTC30_G_gpufem_AAD1_dem.tif'),\n",
       " PosixPath('Dataset/Tripura/RTC_GAMMA/S1A_IW_20171023T235534_DVP_RTC30_G_gpufem_32DC/S1A_IW_20171023T235534_DVP_RTC30_G_gpufem_32DC_dem.tif'),\n",
       " PosixPath('Dataset/Tripura/RTC_GAMMA/S1A_IW_20180328T235531_DVP_RTC30_G_gpufem_EC7D/S1A_IW_20180328T235531_DVP_RTC30_G_gpufem_EC7D_dem.tif'),\n",
       " PosixPath('Dataset/Tripura/RTC_GAMMA/S1A_IW_20181018T235540_DVP_RTC30_G_gpufem_E189/S1A_IW_20181018T235540_DVP_RTC30_G_gpufem_E189_dem.tif'),\n",
       " PosixPath('Dataset/Tripura/RTC_GAMMA/S1A_IW_20190826T235545_DVP_RTC30_G_gpufem_07ED/S1A_IW_20190826T235545_DVP_RTC30_G_gpufem_07ED_dem.tif'),\n",
       " PosixPath('Dataset/Tripura/RTC_GAMMA/S1A_IW_20171011T235534_DVP_RTC30_G_gpufem_4D15/S1A_IW_20171011T235534_DVP_RTC30_G_gpufem_4D15_dem.tif'),\n",
       " PosixPath('Dataset/Tripura/RTC_GAMMA/S1A_IW_20180127T235531_DVP_RTC30_G_gpufem_EBAD/S1A_IW_20180127T235531_DVP_RTC30_G_gpufem_EBAD_dem.tif'),\n",
       " PosixPath('Dataset/Tripura/RTC_GAMMA/S1A_IW_20190802T235544_DVP_RTC30_G_gpufem_7083/S1A_IW_20190802T235544_DVP_RTC30_G_gpufem_7083_dem.tif'),\n",
       " PosixPath('Dataset/Tripura/RTC_GAMMA/S1A_IW_20181217T235539_DVP_RTC30_G_gpufem_6610/S1A_IW_20181217T235539_DVP_RTC30_G_gpufem_6610_dem.tif'),\n",
       " PosixPath('Dataset/Tripura/RTC_GAMMA/S1A_IW_20190510T235539_DVP_RTC30_G_gpufem_9006/S1A_IW_20190510T235539_DVP_RTC30_G_gpufem_9006_dem.tif'),\n",
       " PosixPath('Dataset/Tripura/RTC_GAMMA/S1A_IW_20190227T235537_DVP_RTC30_G_gpufem_A66D/S1A_IW_20190227T235537_DVP_RTC30_G_gpufem_A66D_dem.tif'),\n",
       " PosixPath('Dataset/Tripura/RTC_GAMMA/S1A_IW_20180714T235536_DVP_RTC30_G_gpufem_AB5F/S1A_IW_20180714T235536_DVP_RTC30_G_gpufem_AB5F_dem.tif'),\n",
       " PosixPath('Dataset/Tripura/RTC_GAMMA/S1A_IW_20181229T235539_DVP_RTC30_G_gpufem_9708/S1A_IW_20181229T235539_DVP_RTC30_G_gpufem_9708_dem.tif'),\n",
       " PosixPath('Dataset/Tripura/RTC_GAMMA/S1A_IW_20171210T235533_DVP_RTC30_G_gpufem_5750/S1A_IW_20171210T235533_DVP_RTC30_G_gpufem_5750_dem.tif'),\n",
       " PosixPath('Dataset/Tripura/RTC_GAMMA/S1A_IW_20180316T235531_DVP_RTC30_G_gpufem_2E6F/S1A_IW_20180316T235531_DVP_RTC30_G_gpufem_2E6F_dem.tif'),\n",
       " PosixPath('Dataset/Tripura/RTC_GAMMA/S1A_IW_20180208T235531_DVP_RTC30_G_gpufem_B75A/S1A_IW_20180208T235531_DVP_RTC30_G_gpufem_B75A_dem.tif'),\n",
       " PosixPath('Dataset/Tripura/RTC_GAMMA/S1A_IW_20190709T235542_DVP_RTC30_G_gpufem_5565/S1A_IW_20190709T235542_DVP_RTC30_G_gpufem_5565_dem.tif'),\n",
       " PosixPath('Dataset/Tripura/RTC_GAMMA/S1A_IW_20180819T235538_DVP_RTC30_G_gpufem_87A6/S1A_IW_20180819T235538_DVP_RTC30_G_gpufem_87A6_dem.tif'),\n",
       " PosixPath('Dataset/Tripura/RTC_GAMMA/S1A_IW_20191224T235545_DVP_RTC30_G_gpufem_6C06/S1A_IW_20191224T235545_DVP_RTC30_G_gpufem_6C06_dem.tif'),\n",
       " PosixPath('Dataset/Tripura/RTC_GAMMA/S1A_IW_20180421T235532_DVP_RTC30_G_gpufem_FE2B/S1A_IW_20180421T235532_DVP_RTC30_G_gpufem_FE2B_dem.tif'),\n",
       " PosixPath('Dataset/Tripura/RTC_GAMMA/S1A_IW_20190122T235538_DVP_RTC30_G_gpufem_D295/S1A_IW_20190122T235538_DVP_RTC30_G_gpufem_D295_dem.tif'),\n",
       " PosixPath('Dataset/Tripura/RTC_GAMMA/S1A_IW_20181006T235540_DVP_RTC30_G_gpufem_C8B5/S1A_IW_20181006T235540_DVP_RTC30_G_gpufem_C8B5_dem.tif'),\n",
       " PosixPath('Dataset/Tripura/RTC_GAMMA/S1A_IW_20180831T235539_DVP_RTC30_G_gpufem_6154/S1A_IW_20180831T235539_DVP_RTC30_G_gpufem_6154_dem.tif'),\n",
       " PosixPath('Dataset/Tripura/RTC_GAMMA/S1A_IW_20181123T235540_DVP_RTC30_G_gpufem_488B/S1A_IW_20181123T235540_DVP_RTC30_G_gpufem_488B_dem.tif'),\n",
       " PosixPath('Dataset/Tripura/RTC_GAMMA/S1A_IW_20181030T235540_DVP_RTC30_G_gpufem_D12E/S1A_IW_20181030T235540_DVP_RTC30_G_gpufem_D12E_dem.tif'),\n",
       " PosixPath('Dataset/Tripura/RTC_GAMMA/S1A_IW_20180103T235531_DVP_RTC30_G_gpufem_31C0/S1A_IW_20180103T235531_DVP_RTC30_G_gpufem_31C0_dem.tif'),\n",
       " PosixPath('Dataset/Tripura/RTC_GAMMA/S1A_IW_20190615T235540_DVP_RTC30_G_gpufem_B3E2/S1A_IW_20190615T235540_DVP_RTC30_G_gpufem_B3E2_dem.tif'),\n",
       " PosixPath('Dataset/Tripura/RTC_GAMMA/S1A_IW_20190721T235543_DVP_RTC30_G_gpufem_4653/S1A_IW_20190721T235543_DVP_RTC30_G_gpufem_4653_dem.tif'),\n",
       " PosixPath('Dataset/Tripura/RTC_GAMMA/S1A_IW_20180807T235538_DVP_RTC30_G_gpufem_ED14/S1A_IW_20180807T235538_DVP_RTC30_G_gpufem_ED14_dem.tif'),\n",
       " PosixPath('Dataset/Tripura/RTC_GAMMA/S1A_IW_20190416T235538_DVP_RTC30_G_gpufem_979C/S1A_IW_20190416T235538_DVP_RTC30_G_gpufem_979C_dem.tif'),\n",
       " PosixPath('Dataset/Tripura/RTC_GAMMA/S1A_IW_20180515T235533_DVP_RTC30_G_gpufem_7E28/S1A_IW_20180515T235533_DVP_RTC30_G_gpufem_7E28_dem.tif'),\n",
       " PosixPath('Dataset/Tripura/RTC_GAMMA/S1A_IW_20171222T235532_DVP_RTC30_G_gpufem_E7A6/S1A_IW_20171222T235532_DVP_RTC30_G_gpufem_E7A6_dem.tif'),\n",
       " PosixPath('Dataset/Tripura/RTC_GAMMA/S1A_IW_20191118T235546_DVP_RTC30_G_gpufem_7D3E/S1A_IW_20191118T235546_DVP_RTC30_G_gpufem_7D3E_dem.tif'),\n",
       " PosixPath('Dataset/Tripura/RTC_GAMMA/S1A_IW_20190603T235540_DVP_RTC30_G_gpufem_098F/S1A_IW_20190603T235540_DVP_RTC30_G_gpufem_098F_dem.tif'),\n",
       " PosixPath('Dataset/Tripura/RTC_GAMMA/S1A_IW_20190203T235537_DVP_RTC30_G_gpufem_476E/S1A_IW_20190203T235537_DVP_RTC30_G_gpufem_476E_dem.tif'),\n",
       " PosixPath('Dataset/Tripura/RTC_GAMMA/S1A_IW_20191013T235547_DVP_RTC30_G_gpufem_9878/S1A_IW_20191013T235547_DVP_RTC30_G_gpufem_9878_dem.tif'),\n",
       " PosixPath('Dataset/Tripura/RTC_GAMMA/S1A_IW_20180924T235540_DVP_RTC30_G_gpufem_3FDD/S1A_IW_20180924T235540_DVP_RTC30_G_gpufem_3FDD_dem.tif'),\n",
       " PosixPath('Dataset/Tripura/RTC_GAMMA/S1A_IW_20180912T235540_DVP_RTC30_G_gpufem_F5A0/S1A_IW_20180912T235540_DVP_RTC30_G_gpufem_F5A0_dem.tif'),\n",
       " PosixPath('Dataset/Tripura/RTC_GAMMA/S1A_IW_20180608T235534_DVP_RTC30_G_gpufem_7207/S1A_IW_20180608T235534_DVP_RTC30_G_gpufem_7207_dem.tif'),\n",
       " PosixPath('Dataset/Tripura/RTC_GAMMA/S1A_IW_20190110T235538_DVP_RTC30_G_gpufem_98BE/S1A_IW_20190110T235538_DVP_RTC30_G_gpufem_98BE_dem.tif'),\n",
       " PosixPath('Dataset/Tripura/RTC_GAMMA/S1A_IW_20171128T235533_DVP_RTC30_G_gpufem_06F8/S1A_IW_20171128T235533_DVP_RTC30_G_gpufem_06F8_dem.tif'),\n",
       " PosixPath('Dataset/Tripura/RTC_GAMMA/S1A_IW_20191212T235546_DVP_RTC30_G_gpufem_663B/S1A_IW_20191212T235546_DVP_RTC30_G_gpufem_663B_dem.tif'),\n",
       " PosixPath('Dataset/Tripura/RTC_GAMMA/S1A_IW_20191025T235547_DVP_RTC30_G_gpufem_D0BC/S1A_IW_20191025T235547_DVP_RTC30_G_gpufem_D0BC_dem.tif'),\n",
       " PosixPath('Dataset/Tripura/RTC_GAMMA/S1A_IW_20180304T235530_DVP_RTC30_G_gpufem_7F99/S1A_IW_20180304T235530_DVP_RTC30_G_gpufem_7F99_dem.tif'),\n",
       " PosixPath('Dataset/Tripura/RTC_GAMMA/S1A_IW_20190907T235546_DVP_RTC30_G_gpufem_183C/S1A_IW_20190907T235546_DVP_RTC30_G_gpufem_183C_dem.tif'),\n",
       " PosixPath('Dataset/Tripura/RTC_GAMMA/S1A_IW_20180503T235532_DVP_RTC30_G_gpufem_CE6F/S1A_IW_20180503T235532_DVP_RTC30_G_gpufem_CE6F_dem.tif'),\n",
       " PosixPath('Dataset/Tripura/RTC_GAMMA/S1A_IW_20181111T235540_DVP_RTC30_G_gpufem_6153/S1A_IW_20181111T235540_DVP_RTC30_G_gpufem_6153_dem.tif'),\n",
       " PosixPath('Dataset/Tripura/RTC_GAMMA/S1A_IW_20190215T235537_DVP_RTC30_G_gpufem_ECE2/S1A_IW_20190215T235537_DVP_RTC30_G_gpufem_ECE2_dem.tif'),\n",
       " PosixPath('Dataset/Tripura/RTC_GAMMA/S1A_IW_20171104T235534_DVP_RTC30_G_gpufem_A2FD/S1A_IW_20171104T235534_DVP_RTC30_G_gpufem_A2FD_dem.tif'),\n",
       " PosixPath('Dataset/Tripura/RTC_GAMMA/S1A_IW_20190311T235537_DVP_RTC30_G_gpufem_C916/S1A_IW_20190311T235537_DVP_RTC30_G_gpufem_C916_dem.tif'),\n",
       " PosixPath('Dataset/Tripura/RTC_GAMMA/S1A_IW_20190428T235538_DVP_RTC30_G_gpufem_5562/S1A_IW_20190428T235538_DVP_RTC30_G_gpufem_5562_dem.tif'),\n",
       " PosixPath('Dataset/Tripura/RTC_GAMMA/S1A_IW_20190627T235541_DVP_RTC30_G_gpufem_1281/S1A_IW_20190627T235541_DVP_RTC30_G_gpufem_1281_dem.tif'),\n",
       " PosixPath('Dataset/Tripura/RTC_GAMMA/S1A_IW_20180409T235531_DVP_RTC30_G_gpufem_A225/S1A_IW_20180409T235531_DVP_RTC30_G_gpufem_A225_dem.tif'),\n",
       " PosixPath('Dataset/Tripura/RTC_GAMMA/S1A_IW_20180220T235530_DVP_RTC30_G_gpufem_7CEE/S1A_IW_20180220T235530_DVP_RTC30_G_gpufem_7CEE_dem.tif'),\n",
       " PosixPath('Dataset/Tripura/RTC_GAMMA/S1A_IW_20190404T235537_DVP_RTC30_G_gpufem_D032/S1A_IW_20190404T235537_DVP_RTC30_G_gpufem_D032_dem.tif'),\n",
       " PosixPath('Dataset/Tripura/RTC_GAMMA/S1A_IW_20190323T235537_DVP_RTC30_G_gpufem_7A43/S1A_IW_20190323T235537_DVP_RTC30_G_gpufem_7A43_dem.tif'),\n",
       " PosixPath('Dataset/Tripura/RTC_GAMMA/S1A_IW_20191130T235546_DVP_RTC30_G_gpufem_76E8/S1A_IW_20191130T235546_DVP_RTC30_G_gpufem_76E8_dem.tif')]"
      ]
     },
     "execution_count": 30,
     "metadata": {},
     "output_type": "execute_result"
    }
   ],
   "source": [
    "dem_paths"
   ]
  },
  {
   "cell_type": "markdown",
   "metadata": {},
   "source": [
    "**Reproject all tiffs to the predominate UTM:**"
   ]
  },
  {
   "cell_type": "code",
   "execution_count": 31,
   "metadata": {},
   "outputs": [
    {
     "name": "stdout",
     "output_type": "stream",
     "text": [
      "--------------------------------------------\n",
      "Reprojecting  0.0 files\n",
      "--------------------------------------------\n"
     ]
    }
   ],
   "source": [
    "if not autorift:\n",
    "    # Reproject (if needed) and Mosaic DEM Files in Preparation for Subsequent HAND Calculation\n",
    "    # print(DEM_paths)\n",
    "    reproject_indicies = [i for i, j in enumerate(utm_zones) if j != predominant_utm] #makes list of indicies in utm_zones that need to be reprojected\n",
    "    print('--------------------------------------------')\n",
    "    print('Reprojecting %4.1f files' %(len(reproject_indicies)))\n",
    "    print('--------------------------------------------')\n",
    "    for k in reproject_indicies:\n",
    "        temppath = f\"{str(product_paths[k].parent)}/r{product_paths[k].name}\"\n",
    "        temppath_dem = f\"{str(dem_paths[k].parent)}/r{dem_paths[k].name}\"\n",
    "        print(temppath)  \n",
    "\n",
    "        cmd = f\"gdalwarp -overwrite {product_paths[k]} {temppath} -s_srs {utm_types[k]}:{utm_zones[k]} -t_srs EPSG:{predominant_utm}\"\n",
    "    #     print(cmd)\n",
    "        !{cmd}\n",
    "        \n",
    "        cmd = f\"gdalwarp -overwrite {dem_paths[k]} {temppath_dem} -s_srs {utm_types[k]}:{utm_zones[k]} -t_srs EPSG:{predominant_utm}\"\n",
    "    #     print(cmd)\n",
    "        !{cmd}\n",
    "\n",
    "        product_paths[k].unlink()\n",
    "        dem_paths[k].unlink()"
   ]
  },
  {
   "cell_type": "markdown",
   "metadata": {},
   "source": [
    "**Update product_paths with any new filenames created during reprojection:**"
   ]
  },
  {
   "cell_type": "code",
   "execution_count": 32,
   "metadata": {},
   "outputs": [
    {
     "name": "stdout",
     "output_type": "stream",
     "text": [
      "Tiff paths:\n",
      "Dataset/Tripura/RTC_GAMMA/S1A_IW_20190919T235546_DVP_RTC30_G_gpufem_BAF7/S1A_IW_20190919T235546_DVP_RTC30_G_gpufem_BAF7_VH.tif\n",
      "\n",
      "Dataset/Tripura/RTC_GAMMA/S1A_IW_20190919T235546_DVP_RTC30_G_gpufem_BAF7/S1A_IW_20190919T235546_DVP_RTC30_G_gpufem_BAF7_VV.tif\n",
      "\n",
      "Dataset/Tripura/RTC_GAMMA/S1A_IW_20180115T235531_DVP_RTC30_G_gpufem_9DB0/S1A_IW_20180115T235531_DVP_RTC30_G_gpufem_9DB0_VV.tif\n",
      "\n",
      "Dataset/Tripura/RTC_GAMMA/S1A_IW_20180115T235531_DVP_RTC30_G_gpufem_9DB0/S1A_IW_20180115T235531_DVP_RTC30_G_gpufem_9DB0_VH.tif\n",
      "\n",
      "Dataset/Tripura/RTC_GAMMA/S1A_IW_20180726T235537_DVP_RTC30_G_gpufem_23F1/S1A_IW_20180726T235537_DVP_RTC30_G_gpufem_23F1_VV.tif\n",
      "\n",
      "Dataset/Tripura/RTC_GAMMA/S1A_IW_20180726T235537_DVP_RTC30_G_gpufem_23F1/S1A_IW_20180726T235537_DVP_RTC30_G_gpufem_23F1_VH.tif\n",
      "\n",
      "Dataset/Tripura/RTC_GAMMA/S1A_IW_20171116T235533_DVP_RTC30_G_gpufem_8B56/S1A_IW_20171116T235533_DVP_RTC30_G_gpufem_8B56_VH.tif\n",
      "\n",
      "Dataset/Tripura/RTC_GAMMA/S1A_IW_20171116T235533_DVP_RTC30_G_gpufem_8B56/S1A_IW_20171116T235533_DVP_RTC30_G_gpufem_8B56_VV.tif\n",
      "\n",
      "Dataset/Tripura/RTC_GAMMA/S1A_IW_20191001T235547_DVP_RTC30_G_gpufem_CB70/S1A_IW_20191001T235547_DVP_RTC30_G_gpufem_CB70_VV.tif\n",
      "\n",
      "Dataset/Tripura/RTC_GAMMA/S1A_IW_20191001T235547_DVP_RTC30_G_gpufem_CB70/S1A_IW_20191001T235547_DVP_RTC30_G_gpufem_CB70_VH.tif\n",
      "\n",
      "Dataset/Tripura/RTC_GAMMA/S1A_IW_20191106T235547_DVP_RTC30_G_gpufem_DFC5/S1A_IW_20191106T235547_DVP_RTC30_G_gpufem_DFC5_VH.tif\n",
      "\n",
      "Dataset/Tripura/RTC_GAMMA/S1A_IW_20191106T235547_DVP_RTC30_G_gpufem_DFC5/S1A_IW_20191106T235547_DVP_RTC30_G_gpufem_DFC5_VV.tif\n",
      "\n",
      "Dataset/Tripura/RTC_GAMMA/S1A_IW_20180527T235534_DVP_RTC30_G_gpufem_AAD1/S1A_IW_20180527T235534_DVP_RTC30_G_gpufem_AAD1_VV.tif\n",
      "\n",
      "Dataset/Tripura/RTC_GAMMA/S1A_IW_20180527T235534_DVP_RTC30_G_gpufem_AAD1/S1A_IW_20180527T235534_DVP_RTC30_G_gpufem_AAD1_VH.tif\n",
      "\n",
      "Dataset/Tripura/RTC_GAMMA/S1A_IW_20171023T235534_DVP_RTC30_G_gpufem_32DC/S1A_IW_20171023T235534_DVP_RTC30_G_gpufem_32DC_VH.tif\n",
      "\n",
      "Dataset/Tripura/RTC_GAMMA/S1A_IW_20171023T235534_DVP_RTC30_G_gpufem_32DC/S1A_IW_20171023T235534_DVP_RTC30_G_gpufem_32DC_VV.tif\n",
      "\n",
      "Dataset/Tripura/RTC_GAMMA/S1A_IW_20180328T235531_DVP_RTC30_G_gpufem_EC7D/S1A_IW_20180328T235531_DVP_RTC30_G_gpufem_EC7D_VH.tif\n",
      "\n",
      "Dataset/Tripura/RTC_GAMMA/S1A_IW_20180328T235531_DVP_RTC30_G_gpufem_EC7D/S1A_IW_20180328T235531_DVP_RTC30_G_gpufem_EC7D_VV.tif\n",
      "\n",
      "Dataset/Tripura/RTC_GAMMA/S1A_IW_20181018T235540_DVP_RTC30_G_gpufem_E189/S1A_IW_20181018T235540_DVP_RTC30_G_gpufem_E189_VV.tif\n",
      "\n",
      "Dataset/Tripura/RTC_GAMMA/S1A_IW_20181018T235540_DVP_RTC30_G_gpufem_E189/S1A_IW_20181018T235540_DVP_RTC30_G_gpufem_E189_VH.tif\n",
      "\n",
      "Dataset/Tripura/RTC_GAMMA/S1A_IW_20190826T235545_DVP_RTC30_G_gpufem_07ED/S1A_IW_20190826T235545_DVP_RTC30_G_gpufem_07ED_VH.tif\n",
      "\n",
      "Dataset/Tripura/RTC_GAMMA/S1A_IW_20190826T235545_DVP_RTC30_G_gpufem_07ED/S1A_IW_20190826T235545_DVP_RTC30_G_gpufem_07ED_VV.tif\n",
      "\n",
      "Dataset/Tripura/RTC_GAMMA/S1A_IW_20171011T235534_DVP_RTC30_G_gpufem_4D15/S1A_IW_20171011T235534_DVP_RTC30_G_gpufem_4D15_VV.tif\n",
      "\n",
      "Dataset/Tripura/RTC_GAMMA/S1A_IW_20171011T235534_DVP_RTC30_G_gpufem_4D15/S1A_IW_20171011T235534_DVP_RTC30_G_gpufem_4D15_VH.tif\n",
      "\n",
      "Dataset/Tripura/RTC_GAMMA/S1A_IW_20180127T235531_DVP_RTC30_G_gpufem_EBAD/S1A_IW_20180127T235531_DVP_RTC30_G_gpufem_EBAD_VH.tif\n",
      "\n",
      "Dataset/Tripura/RTC_GAMMA/S1A_IW_20180127T235531_DVP_RTC30_G_gpufem_EBAD/S1A_IW_20180127T235531_DVP_RTC30_G_gpufem_EBAD_VV.tif\n",
      "\n",
      "Dataset/Tripura/RTC_GAMMA/S1A_IW_20190802T235544_DVP_RTC30_G_gpufem_7083/S1A_IW_20190802T235544_DVP_RTC30_G_gpufem_7083_VV.tif\n",
      "\n",
      "Dataset/Tripura/RTC_GAMMA/S1A_IW_20190802T235544_DVP_RTC30_G_gpufem_7083/S1A_IW_20190802T235544_DVP_RTC30_G_gpufem_7083_VH.tif\n",
      "\n",
      "Dataset/Tripura/RTC_GAMMA/S1A_IW_20181217T235539_DVP_RTC30_G_gpufem_6610/S1A_IW_20181217T235539_DVP_RTC30_G_gpufem_6610_VH.tif\n",
      "\n",
      "Dataset/Tripura/RTC_GAMMA/S1A_IW_20181217T235539_DVP_RTC30_G_gpufem_6610/S1A_IW_20181217T235539_DVP_RTC30_G_gpufem_6610_VV.tif\n",
      "\n",
      "Dataset/Tripura/RTC_GAMMA/S1A_IW_20190510T235539_DVP_RTC30_G_gpufem_9006/S1A_IW_20190510T235539_DVP_RTC30_G_gpufem_9006_VV.tif\n",
      "\n",
      "Dataset/Tripura/RTC_GAMMA/S1A_IW_20190510T235539_DVP_RTC30_G_gpufem_9006/S1A_IW_20190510T235539_DVP_RTC30_G_gpufem_9006_VH.tif\n",
      "\n",
      "Dataset/Tripura/RTC_GAMMA/S1A_IW_20190227T235537_DVP_RTC30_G_gpufem_A66D/S1A_IW_20190227T235537_DVP_RTC30_G_gpufem_A66D_VV.tif\n",
      "\n",
      "Dataset/Tripura/RTC_GAMMA/S1A_IW_20190227T235537_DVP_RTC30_G_gpufem_A66D/S1A_IW_20190227T235537_DVP_RTC30_G_gpufem_A66D_VH.tif\n",
      "\n",
      "Dataset/Tripura/RTC_GAMMA/S1A_IW_20180714T235536_DVP_RTC30_G_gpufem_AB5F/S1A_IW_20180714T235536_DVP_RTC30_G_gpufem_AB5F_VV.tif\n",
      "\n",
      "Dataset/Tripura/RTC_GAMMA/S1A_IW_20180714T235536_DVP_RTC30_G_gpufem_AB5F/S1A_IW_20180714T235536_DVP_RTC30_G_gpufem_AB5F_VH.tif\n",
      "\n",
      "Dataset/Tripura/RTC_GAMMA/S1A_IW_20181229T235539_DVP_RTC30_G_gpufem_9708/S1A_IW_20181229T235539_DVP_RTC30_G_gpufem_9708_VV.tif\n",
      "\n",
      "Dataset/Tripura/RTC_GAMMA/S1A_IW_20181229T235539_DVP_RTC30_G_gpufem_9708/S1A_IW_20181229T235539_DVP_RTC30_G_gpufem_9708_VH.tif\n",
      "\n",
      "Dataset/Tripura/RTC_GAMMA/S1A_IW_20171210T235533_DVP_RTC30_G_gpufem_5750/S1A_IW_20171210T235533_DVP_RTC30_G_gpufem_5750_VH.tif\n",
      "\n",
      "Dataset/Tripura/RTC_GAMMA/S1A_IW_20171210T235533_DVP_RTC30_G_gpufem_5750/S1A_IW_20171210T235533_DVP_RTC30_G_gpufem_5750_VV.tif\n",
      "\n",
      "Dataset/Tripura/RTC_GAMMA/S1A_IW_20180316T235531_DVP_RTC30_G_gpufem_2E6F/S1A_IW_20180316T235531_DVP_RTC30_G_gpufem_2E6F_VH.tif\n",
      "\n",
      "Dataset/Tripura/RTC_GAMMA/S1A_IW_20180316T235531_DVP_RTC30_G_gpufem_2E6F/S1A_IW_20180316T235531_DVP_RTC30_G_gpufem_2E6F_VV.tif\n",
      "\n",
      "Dataset/Tripura/RTC_GAMMA/S1A_IW_20180208T235531_DVP_RTC30_G_gpufem_B75A/S1A_IW_20180208T235531_DVP_RTC30_G_gpufem_B75A_VH.tif\n",
      "\n",
      "Dataset/Tripura/RTC_GAMMA/S1A_IW_20180208T235531_DVP_RTC30_G_gpufem_B75A/S1A_IW_20180208T235531_DVP_RTC30_G_gpufem_B75A_VV.tif\n",
      "\n",
      "Dataset/Tripura/RTC_GAMMA/S1A_IW_20190709T235542_DVP_RTC30_G_gpufem_5565/S1A_IW_20190709T235542_DVP_RTC30_G_gpufem_5565_VH.tif\n",
      "\n",
      "Dataset/Tripura/RTC_GAMMA/S1A_IW_20190709T235542_DVP_RTC30_G_gpufem_5565/S1A_IW_20190709T235542_DVP_RTC30_G_gpufem_5565_VV.tif\n",
      "\n",
      "Dataset/Tripura/RTC_GAMMA/S1A_IW_20180819T235538_DVP_RTC30_G_gpufem_87A6/S1A_IW_20180819T235538_DVP_RTC30_G_gpufem_87A6_VV.tif\n",
      "\n",
      "Dataset/Tripura/RTC_GAMMA/S1A_IW_20180819T235538_DVP_RTC30_G_gpufem_87A6/S1A_IW_20180819T235538_DVP_RTC30_G_gpufem_87A6_VH.tif\n",
      "\n",
      "Dataset/Tripura/RTC_GAMMA/S1A_IW_20191224T235545_DVP_RTC30_G_gpufem_6C06/S1A_IW_20191224T235545_DVP_RTC30_G_gpufem_6C06_VH.tif\n",
      "\n",
      "Dataset/Tripura/RTC_GAMMA/S1A_IW_20191224T235545_DVP_RTC30_G_gpufem_6C06/S1A_IW_20191224T235545_DVP_RTC30_G_gpufem_6C06_VV.tif\n",
      "\n",
      "Dataset/Tripura/RTC_GAMMA/S1A_IW_20180421T235532_DVP_RTC30_G_gpufem_FE2B/S1A_IW_20180421T235532_DVP_RTC30_G_gpufem_FE2B_VV.tif\n",
      "\n",
      "Dataset/Tripura/RTC_GAMMA/S1A_IW_20180421T235532_DVP_RTC30_G_gpufem_FE2B/S1A_IW_20180421T235532_DVP_RTC30_G_gpufem_FE2B_VH.tif\n",
      "\n",
      "Dataset/Tripura/RTC_GAMMA/S1A_IW_20190122T235538_DVP_RTC30_G_gpufem_D295/S1A_IW_20190122T235538_DVP_RTC30_G_gpufem_D295_VV.tif\n",
      "\n",
      "Dataset/Tripura/RTC_GAMMA/S1A_IW_20190122T235538_DVP_RTC30_G_gpufem_D295/S1A_IW_20190122T235538_DVP_RTC30_G_gpufem_D295_VH.tif\n",
      "\n",
      "Dataset/Tripura/RTC_GAMMA/S1A_IW_20181006T235540_DVP_RTC30_G_gpufem_C8B5/S1A_IW_20181006T235540_DVP_RTC30_G_gpufem_C8B5_VH.tif\n",
      "\n",
      "Dataset/Tripura/RTC_GAMMA/S1A_IW_20181006T235540_DVP_RTC30_G_gpufem_C8B5/S1A_IW_20181006T235540_DVP_RTC30_G_gpufem_C8B5_VV.tif\n",
      "\n",
      "Dataset/Tripura/RTC_GAMMA/S1A_IW_20180831T235539_DVP_RTC30_G_gpufem_6154/S1A_IW_20180831T235539_DVP_RTC30_G_gpufem_6154_VH.tif\n",
      "\n",
      "Dataset/Tripura/RTC_GAMMA/S1A_IW_20180831T235539_DVP_RTC30_G_gpufem_6154/S1A_IW_20180831T235539_DVP_RTC30_G_gpufem_6154_VV.tif\n",
      "\n",
      "Dataset/Tripura/RTC_GAMMA/S1A_IW_20181123T235540_DVP_RTC30_G_gpufem_488B/S1A_IW_20181123T235540_DVP_RTC30_G_gpufem_488B_VV.tif\n",
      "\n",
      "Dataset/Tripura/RTC_GAMMA/S1A_IW_20181123T235540_DVP_RTC30_G_gpufem_488B/S1A_IW_20181123T235540_DVP_RTC30_G_gpufem_488B_VH.tif\n",
      "\n",
      "Dataset/Tripura/RTC_GAMMA/S1A_IW_20181030T235540_DVP_RTC30_G_gpufem_D12E/S1A_IW_20181030T235540_DVP_RTC30_G_gpufem_D12E_VV.tif\n",
      "\n",
      "Dataset/Tripura/RTC_GAMMA/S1A_IW_20181030T235540_DVP_RTC30_G_gpufem_D12E/S1A_IW_20181030T235540_DVP_RTC30_G_gpufem_D12E_VH.tif\n",
      "\n",
      "Dataset/Tripura/RTC_GAMMA/S1A_IW_20180103T235531_DVP_RTC30_G_gpufem_31C0/S1A_IW_20180103T235531_DVP_RTC30_G_gpufem_31C0_VV.tif\n",
      "\n",
      "Dataset/Tripura/RTC_GAMMA/S1A_IW_20180103T235531_DVP_RTC30_G_gpufem_31C0/S1A_IW_20180103T235531_DVP_RTC30_G_gpufem_31C0_VH.tif\n",
      "\n",
      "Dataset/Tripura/RTC_GAMMA/S1A_IW_20190615T235540_DVP_RTC30_G_gpufem_B3E2/S1A_IW_20190615T235540_DVP_RTC30_G_gpufem_B3E2_VV.tif\n",
      "\n",
      "Dataset/Tripura/RTC_GAMMA/S1A_IW_20190615T235540_DVP_RTC30_G_gpufem_B3E2/S1A_IW_20190615T235540_DVP_RTC30_G_gpufem_B3E2_VH.tif\n",
      "\n",
      "Dataset/Tripura/RTC_GAMMA/S1A_IW_20190721T235543_DVP_RTC30_G_gpufem_4653/S1A_IW_20190721T235543_DVP_RTC30_G_gpufem_4653_VH.tif\n",
      "\n",
      "Dataset/Tripura/RTC_GAMMA/S1A_IW_20190721T235543_DVP_RTC30_G_gpufem_4653/S1A_IW_20190721T235543_DVP_RTC30_G_gpufem_4653_VV.tif\n",
      "\n",
      "Dataset/Tripura/RTC_GAMMA/S1A_IW_20180807T235538_DVP_RTC30_G_gpufem_ED14/S1A_IW_20180807T235538_DVP_RTC30_G_gpufem_ED14_VH.tif\n",
      "\n",
      "Dataset/Tripura/RTC_GAMMA/S1A_IW_20180807T235538_DVP_RTC30_G_gpufem_ED14/S1A_IW_20180807T235538_DVP_RTC30_G_gpufem_ED14_VV.tif\n",
      "\n",
      "Dataset/Tripura/RTC_GAMMA/S1A_IW_20190416T235538_DVP_RTC30_G_gpufem_979C/S1A_IW_20190416T235538_DVP_RTC30_G_gpufem_979C_VV.tif\n",
      "\n",
      "Dataset/Tripura/RTC_GAMMA/S1A_IW_20190416T235538_DVP_RTC30_G_gpufem_979C/S1A_IW_20190416T235538_DVP_RTC30_G_gpufem_979C_VH.tif\n",
      "\n",
      "Dataset/Tripura/RTC_GAMMA/S1A_IW_20180515T235533_DVP_RTC30_G_gpufem_7E28/S1A_IW_20180515T235533_DVP_RTC30_G_gpufem_7E28_VV.tif\n",
      "\n",
      "Dataset/Tripura/RTC_GAMMA/S1A_IW_20180515T235533_DVP_RTC30_G_gpufem_7E28/S1A_IW_20180515T235533_DVP_RTC30_G_gpufem_7E28_VH.tif\n",
      "\n",
      "Dataset/Tripura/RTC_GAMMA/S1A_IW_20171222T235532_DVP_RTC30_G_gpufem_E7A6/S1A_IW_20171222T235532_DVP_RTC30_G_gpufem_E7A6_VV.tif\n",
      "\n",
      "Dataset/Tripura/RTC_GAMMA/S1A_IW_20171222T235532_DVP_RTC30_G_gpufem_E7A6/S1A_IW_20171222T235532_DVP_RTC30_G_gpufem_E7A6_VH.tif\n",
      "\n",
      "Dataset/Tripura/RTC_GAMMA/S1A_IW_20191118T235546_DVP_RTC30_G_gpufem_7D3E/S1A_IW_20191118T235546_DVP_RTC30_G_gpufem_7D3E_VH.tif\n",
      "\n",
      "Dataset/Tripura/RTC_GAMMA/S1A_IW_20191118T235546_DVP_RTC30_G_gpufem_7D3E/S1A_IW_20191118T235546_DVP_RTC30_G_gpufem_7D3E_VV.tif\n",
      "\n",
      "Dataset/Tripura/RTC_GAMMA/S1A_IW_20190603T235540_DVP_RTC30_G_gpufem_098F/S1A_IW_20190603T235540_DVP_RTC30_G_gpufem_098F_VH.tif\n",
      "\n",
      "Dataset/Tripura/RTC_GAMMA/S1A_IW_20190603T235540_DVP_RTC30_G_gpufem_098F/S1A_IW_20190603T235540_DVP_RTC30_G_gpufem_098F_VV.tif\n",
      "\n",
      "Dataset/Tripura/RTC_GAMMA/S1A_IW_20190203T235537_DVP_RTC30_G_gpufem_476E/S1A_IW_20190203T235537_DVP_RTC30_G_gpufem_476E_VV.tif\n",
      "\n",
      "Dataset/Tripura/RTC_GAMMA/S1A_IW_20190203T235537_DVP_RTC30_G_gpufem_476E/S1A_IW_20190203T235537_DVP_RTC30_G_gpufem_476E_VH.tif\n",
      "\n",
      "Dataset/Tripura/RTC_GAMMA/S1A_IW_20191013T235547_DVP_RTC30_G_gpufem_9878/S1A_IW_20191013T235547_DVP_RTC30_G_gpufem_9878_VV.tif\n",
      "\n",
      "Dataset/Tripura/RTC_GAMMA/S1A_IW_20191013T235547_DVP_RTC30_G_gpufem_9878/S1A_IW_20191013T235547_DVP_RTC30_G_gpufem_9878_VH.tif\n",
      "\n",
      "Dataset/Tripura/RTC_GAMMA/S1A_IW_20180924T235540_DVP_RTC30_G_gpufem_3FDD/S1A_IW_20180924T235540_DVP_RTC30_G_gpufem_3FDD_VV.tif\n",
      "\n",
      "Dataset/Tripura/RTC_GAMMA/S1A_IW_20180924T235540_DVP_RTC30_G_gpufem_3FDD/S1A_IW_20180924T235540_DVP_RTC30_G_gpufem_3FDD_VH.tif\n",
      "\n",
      "Dataset/Tripura/RTC_GAMMA/S1A_IW_20180912T235540_DVP_RTC30_G_gpufem_F5A0/S1A_IW_20180912T235540_DVP_RTC30_G_gpufem_F5A0_VV.tif\n",
      "\n",
      "Dataset/Tripura/RTC_GAMMA/S1A_IW_20180912T235540_DVP_RTC30_G_gpufem_F5A0/S1A_IW_20180912T235540_DVP_RTC30_G_gpufem_F5A0_VH.tif\n",
      "\n",
      "Dataset/Tripura/RTC_GAMMA/S1A_IW_20180608T235534_DVP_RTC30_G_gpufem_7207/S1A_IW_20180608T235534_DVP_RTC30_G_gpufem_7207_VV.tif\n",
      "\n",
      "Dataset/Tripura/RTC_GAMMA/S1A_IW_20180608T235534_DVP_RTC30_G_gpufem_7207/S1A_IW_20180608T235534_DVP_RTC30_G_gpufem_7207_VH.tif\n",
      "\n",
      "Dataset/Tripura/RTC_GAMMA/S1A_IW_20190110T235538_DVP_RTC30_G_gpufem_98BE/S1A_IW_20190110T235538_DVP_RTC30_G_gpufem_98BE_VV.tif\n",
      "\n",
      "Dataset/Tripura/RTC_GAMMA/S1A_IW_20190110T235538_DVP_RTC30_G_gpufem_98BE/S1A_IW_20190110T235538_DVP_RTC30_G_gpufem_98BE_VH.tif\n",
      "\n",
      "Dataset/Tripura/RTC_GAMMA/S1A_IW_20171128T235533_DVP_RTC30_G_gpufem_06F8/S1A_IW_20171128T235533_DVP_RTC30_G_gpufem_06F8_VV.tif\n",
      "\n",
      "Dataset/Tripura/RTC_GAMMA/S1A_IW_20171128T235533_DVP_RTC30_G_gpufem_06F8/S1A_IW_20171128T235533_DVP_RTC30_G_gpufem_06F8_VH.tif\n",
      "\n",
      "Dataset/Tripura/RTC_GAMMA/S1A_IW_20191212T235546_DVP_RTC30_G_gpufem_663B/S1A_IW_20191212T235546_DVP_RTC30_G_gpufem_663B_VH.tif\n",
      "\n",
      "Dataset/Tripura/RTC_GAMMA/S1A_IW_20191212T235546_DVP_RTC30_G_gpufem_663B/S1A_IW_20191212T235546_DVP_RTC30_G_gpufem_663B_VV.tif\n",
      "\n",
      "Dataset/Tripura/RTC_GAMMA/S1A_IW_20191025T235547_DVP_RTC30_G_gpufem_D0BC/S1A_IW_20191025T235547_DVP_RTC30_G_gpufem_D0BC_VV.tif\n",
      "\n",
      "Dataset/Tripura/RTC_GAMMA/S1A_IW_20191025T235547_DVP_RTC30_G_gpufem_D0BC/S1A_IW_20191025T235547_DVP_RTC30_G_gpufem_D0BC_VH.tif\n",
      "\n",
      "Dataset/Tripura/RTC_GAMMA/S1A_IW_20180304T235530_DVP_RTC30_G_gpufem_7F99/S1A_IW_20180304T235530_DVP_RTC30_G_gpufem_7F99_VV.tif\n",
      "\n",
      "Dataset/Tripura/RTC_GAMMA/S1A_IW_20180304T235530_DVP_RTC30_G_gpufem_7F99/S1A_IW_20180304T235530_DVP_RTC30_G_gpufem_7F99_VH.tif\n",
      "\n",
      "Dataset/Tripura/RTC_GAMMA/S1A_IW_20190907T235546_DVP_RTC30_G_gpufem_183C/S1A_IW_20190907T235546_DVP_RTC30_G_gpufem_183C_VH.tif\n",
      "\n",
      "Dataset/Tripura/RTC_GAMMA/S1A_IW_20190907T235546_DVP_RTC30_G_gpufem_183C/S1A_IW_20190907T235546_DVP_RTC30_G_gpufem_183C_VV.tif\n",
      "\n",
      "Dataset/Tripura/RTC_GAMMA/S1A_IW_20180503T235532_DVP_RTC30_G_gpufem_CE6F/S1A_IW_20180503T235532_DVP_RTC30_G_gpufem_CE6F_VV.tif\n",
      "\n",
      "Dataset/Tripura/RTC_GAMMA/S1A_IW_20180503T235532_DVP_RTC30_G_gpufem_CE6F/S1A_IW_20180503T235532_DVP_RTC30_G_gpufem_CE6F_VH.tif\n",
      "\n",
      "Dataset/Tripura/RTC_GAMMA/S1A_IW_20181111T235540_DVP_RTC30_G_gpufem_6153/S1A_IW_20181111T235540_DVP_RTC30_G_gpufem_6153_VV.tif\n",
      "\n",
      "Dataset/Tripura/RTC_GAMMA/S1A_IW_20181111T235540_DVP_RTC30_G_gpufem_6153/S1A_IW_20181111T235540_DVP_RTC30_G_gpufem_6153_VH.tif\n",
      "\n",
      "Dataset/Tripura/RTC_GAMMA/S1A_IW_20190215T235537_DVP_RTC30_G_gpufem_ECE2/S1A_IW_20190215T235537_DVP_RTC30_G_gpufem_ECE2_VH.tif\n",
      "\n",
      "Dataset/Tripura/RTC_GAMMA/S1A_IW_20190215T235537_DVP_RTC30_G_gpufem_ECE2/S1A_IW_20190215T235537_DVP_RTC30_G_gpufem_ECE2_VV.tif\n",
      "\n",
      "Dataset/Tripura/RTC_GAMMA/S1A_IW_20171104T235534_DVP_RTC30_G_gpufem_A2FD/S1A_IW_20171104T235534_DVP_RTC30_G_gpufem_A2FD_VH.tif\n",
      "\n",
      "Dataset/Tripura/RTC_GAMMA/S1A_IW_20171104T235534_DVP_RTC30_G_gpufem_A2FD/S1A_IW_20171104T235534_DVP_RTC30_G_gpufem_A2FD_VV.tif\n",
      "\n",
      "Dataset/Tripura/RTC_GAMMA/S1A_IW_20190311T235537_DVP_RTC30_G_gpufem_C916/S1A_IW_20190311T235537_DVP_RTC30_G_gpufem_C916_VH.tif\n",
      "\n",
      "Dataset/Tripura/RTC_GAMMA/S1A_IW_20190311T235537_DVP_RTC30_G_gpufem_C916/S1A_IW_20190311T235537_DVP_RTC30_G_gpufem_C916_VV.tif\n",
      "\n",
      "Dataset/Tripura/RTC_GAMMA/S1A_IW_20190428T235538_DVP_RTC30_G_gpufem_5562/S1A_IW_20190428T235538_DVP_RTC30_G_gpufem_5562_VH.tif\n",
      "\n",
      "Dataset/Tripura/RTC_GAMMA/S1A_IW_20190428T235538_DVP_RTC30_G_gpufem_5562/S1A_IW_20190428T235538_DVP_RTC30_G_gpufem_5562_VV.tif\n",
      "\n",
      "Dataset/Tripura/RTC_GAMMA/S1A_IW_20190627T235541_DVP_RTC30_G_gpufem_1281/S1A_IW_20190627T235541_DVP_RTC30_G_gpufem_1281_VH.tif\n",
      "\n",
      "Dataset/Tripura/RTC_GAMMA/S1A_IW_20190627T235541_DVP_RTC30_G_gpufem_1281/S1A_IW_20190627T235541_DVP_RTC30_G_gpufem_1281_VV.tif\n",
      "\n",
      "Dataset/Tripura/RTC_GAMMA/S1A_IW_20180409T235531_DVP_RTC30_G_gpufem_A225/S1A_IW_20180409T235531_DVP_RTC30_G_gpufem_A225_VV.tif\n",
      "\n",
      "Dataset/Tripura/RTC_GAMMA/S1A_IW_20180409T235531_DVP_RTC30_G_gpufem_A225/S1A_IW_20180409T235531_DVP_RTC30_G_gpufem_A225_VH.tif\n",
      "\n",
      "Dataset/Tripura/RTC_GAMMA/S1A_IW_20180220T235530_DVP_RTC30_G_gpufem_7CEE/S1A_IW_20180220T235530_DVP_RTC30_G_gpufem_7CEE_VH.tif\n",
      "\n",
      "Dataset/Tripura/RTC_GAMMA/S1A_IW_20180220T235530_DVP_RTC30_G_gpufem_7CEE/S1A_IW_20180220T235530_DVP_RTC30_G_gpufem_7CEE_VV.tif\n",
      "\n",
      "Dataset/Tripura/RTC_GAMMA/S1A_IW_20190404T235537_DVP_RTC30_G_gpufem_D032/S1A_IW_20190404T235537_DVP_RTC30_G_gpufem_D032_VH.tif\n",
      "\n",
      "Dataset/Tripura/RTC_GAMMA/S1A_IW_20190404T235537_DVP_RTC30_G_gpufem_D032/S1A_IW_20190404T235537_DVP_RTC30_G_gpufem_D032_VV.tif\n",
      "\n",
      "Dataset/Tripura/RTC_GAMMA/S1A_IW_20190323T235537_DVP_RTC30_G_gpufem_7A43/S1A_IW_20190323T235537_DVP_RTC30_G_gpufem_7A43_VH.tif\n",
      "\n",
      "Dataset/Tripura/RTC_GAMMA/S1A_IW_20190323T235537_DVP_RTC30_G_gpufem_7A43/S1A_IW_20190323T235537_DVP_RTC30_G_gpufem_7A43_VV.tif\n",
      "\n",
      "Dataset/Tripura/RTC_GAMMA/S1A_IW_20191130T235546_DVP_RTC30_G_gpufem_76E8/S1A_IW_20191130T235546_DVP_RTC30_G_gpufem_76E8_VH.tif\n",
      "\n",
      "Dataset/Tripura/RTC_GAMMA/S1A_IW_20191130T235546_DVP_RTC30_G_gpufem_76E8/S1A_IW_20191130T235546_DVP_RTC30_G_gpufem_76E8_VV.tif\n",
      "\n"
     ]
    }
   ],
   "source": [
    "if not autorift:\n",
    "    product_paths = get_product_paths(regex, product_pth)\n",
    "    dem_paths = get_product_paths(r'dem.tif$', dems_pth)\n",
    "    print_product_paths(product_paths)"
   ]
  },
  {
   "cell_type": "markdown",
   "metadata": {},
   "source": [
    "---\n",
    "## 1.3 Merge multiple frames from the same date.\n",
    "\n",
    "You may notice duplicates in your acquisition dates. As HyP3 processes SAR data on a frame-by-frame basis, duplicates may occur if your area of interest is covered by two consecutive image frames. In this case, two separate images are generated that need to be merged together before time series processing can commence. Currently we only merge RTCs.\n",
    "\n",
    "**Create a directory in which to store the reprojected and merged RTCs, and one directory for the DEMs:**"
   ]
  },
  {
   "cell_type": "code",
   "execution_count": 33,
   "metadata": {},
   "outputs": [
    {
     "name": "stdout",
     "output_type": "stream",
     "text": [
      "Current working directory: /home/jovyan/Hydrosar/Dataset/Tripura\n"
     ]
    },
    {
     "name": "stdin",
     "output_type": "stream",
     "text": [
      "\n",
      "Please enter the name of a directory in which to store the tiffs and dems. Tripura\n"
     ]
    }
   ],
   "source": [
    "while True:\n",
    "    print(f\"Current working directory: {analysis_directory}\")\n",
    "    name = (input(f\"\\nPlease enter the name of a directory in which to store the tiffs and dems.\"))\n",
    "    output_dir_path_tiffs = analysis_directory.joinpath(f\"{job_type.value}_{name}_tiffs\")\n",
    "    output_dir_path_dem = analysis_directory.joinpath(f\"{job_type.value}_{name}_dems\")\n",
    "    \n",
    "    if output_dir_path_tiffs == Path('.'):\n",
    "        continue\n",
    "    if output_dir_path_tiffs.is_dir():\n",
    "        contents = output_dir_path_tiffs.glob('*')\n",
    "        if len(list(contents)) > 0:\n",
    "            choice = asfn.handle_old_data(output_dir_path_tiffs)\n",
    "            if choice == 1:\n",
    "                if output_dir_path_tiffs.exists():\n",
    "                    shutil.rmtree(output_dir_path_tiffs)\n",
    "                output_dir_path_tiffs.mkdir(parents=True, exist_ok=True)\n",
    "                output_dir_path_dem.mkdir(parents=True, exist_ok=True)\n",
    "                break\n",
    "            elif choice == 2:\n",
    "                break\n",
    "            else:\n",
    "                clear_output()\n",
    "                continue\n",
    "        else:\n",
    "            break\n",
    "    else:\n",
    "        output_dir_path_tiffs.mkdir(parents=True, exist_ok=True)\n",
    "        output_dir_path_dem.mkdir(parents=True, exist_ok=True)\n",
    "        break"
   ]
  },
  {
   "cell_type": "markdown",
   "metadata": {},
   "source": [
    "**Create a set from the date list, removing any duplicates:**"
   ]
  },
  {
   "cell_type": "code",
   "execution_count": 34,
   "metadata": {},
   "outputs": [
    {
     "name": "stdout",
     "output_type": "stream",
     "text": [
      "['20190919', '20190919', '20180115', '20180115', '20180726', '20180726', '20171116', '20171116', '20191001', '20191001', '20191106', '20191106', '20180527', '20180527', '20171023', '20171023', '20180328', '20180328', '20181018', '20181018', '20190826', '20190826', '20171011', '20171011', '20180127', '20180127', '20190802', '20190802', '20181217', '20181217', '20190510', '20190510', '20190227', '20190227', '20180714', '20180714', '20181229', '20181229', '20171210', '20171210', '20180316', '20180316', '20180208', '20180208', '20190709', '20190709', '20180819', '20180819', '20191224', '20191224', '20180421', '20180421', '20190122', '20190122', '20181006', '20181006', '20180831', '20180831', '20181123', '20181123', '20181030', '20181030', '20180103', '20180103', '20190615', '20190615', '20190721', '20190721', '20180807', '20180807', '20190416', '20190416', '20180515', '20180515', '20171222', '20171222', '20191118', '20191118', '20190603', '20190603', '20190203', '20190203', '20191013', '20191013', '20180924', '20180924', '20180912', '20180912', '20180608', '20180608', '20190110', '20190110', '20171128', '20171128', '20191212', '20191212', '20191025', '20191025', '20180304', '20180304', '20190907', '20190907', '20180503', '20180503', '20181111', '20181111', '20190215', '20190215', '20171104', '20171104', '20190311', '20190311', '20190428', '20190428', '20190627', '20190627', '20180409', '20180409', '20180220', '20180220', '20190404', '20190404', '20190323', '20190323', '20191130', '20191130']\n",
      "{'20191224', '20190416', '20180527', '20190510', '20180726', '20191118', '20180912', '20181111', '20171011', '20180409', '20181229', '20180515', '20191025', '20171128', '20171104', '20180304', '20180819', '20171116', '20180714', '20171222', '20191001', '20190721', '20190802', '20181217', '20191106', '20180127', '20191013', '20190203', '20171210', '20180208', '20181030', '20191130', '20171023', '20190227', '20181018', '20190709', '20190122', '20180103', '20180831', '20180807', '20191212', '20190215', '20180115', '20190907', '20190311', '20180220', '20190615', '20190603', '20180924', '20190627', '20180421', '20180328', '20181123', '20190826', '20190110', '20180608', '20190404', '20190323', '20190428', '20190919', '20180316', '20181006', '20180503'}\n"
     ]
    }
   ],
   "source": [
    "if rtc:\n",
    "    dates = get_dates(product_paths)\n",
    "    print(dates)\n",
    "    unique_dates = set(dates)\n",
    "    print(unique_dates)"
   ]
  },
  {
   "cell_type": "markdown",
   "metadata": {},
   "source": [
    "**Determine which dates have multiple frames. Create a dictionary with each date as a key linked to a value set as an empty string:**"
   ]
  },
  {
   "cell_type": "code",
   "execution_count": 35,
   "metadata": {},
   "outputs": [
    {
     "name": "stdout",
     "output_type": "stream",
     "text": [
      "[{}, {}]\n"
     ]
    }
   ],
   "source": [
    "if rtc: \n",
    "    dup_date_batches = [{}]\n",
    "    for date in unique_dates:\n",
    "        count = 0\n",
    "        for d in dates:\n",
    "            if date == d:\n",
    "                count +=1\n",
    "        if (dbl_polar and count > 2) or (not dbl_polar and count > 1):\n",
    "            dup_date_batches[0].update({date : \"\"})\n",
    "    if dbl_polar:\n",
    "        dup_date_batches.append(copy.deepcopy(dup_date_batches[0]))\n",
    "    print(dup_date_batches)"
   ]
  },
  {
   "cell_type": "markdown",
   "metadata": {},
   "source": [
    "**Update the key values in dup_paths with the string paths to all the tiffs for each date:**"
   ]
  },
  {
   "cell_type": "code",
   "execution_count": 36,
   "metadata": {},
   "outputs": [
    {
     "name": "stdout",
     "output_type": "stream",
     "text": [
      "{}\n",
      "\n",
      "\n",
      "{}\n",
      "\n",
      "\n"
     ]
    }
   ],
   "source": [
    "if rtc:\n",
    "    if dbl_polar:\n",
    "        polar_list = [polarization.split(' ')[0], polarization.split(' ')[2]]\n",
    "    else:\n",
    "        polar_list = [polarization]\n",
    "\n",
    "    for i, polar in enumerate(polar_list):\n",
    "        polar_path_regex = f\"(\\w|/)*_{polar}.(tif|tiff)$\"\n",
    "        polar_paths = get_product_paths(polar_path_regex, product_pth)\n",
    "        for pth in polar_paths:\n",
    "            date = asfn.date_from_product_name(str(pth)).split('T')[0]\n",
    "            if date in dup_date_batches[i]:\n",
    "                dup_date_batches[i][date] = f\"{dup_date_batches[i][date]} {str(pth)}\"\n",
    "\n",
    "    for d in dup_date_batches:\n",
    "        print(d)\n",
    "        print(\"\\n\")"
   ]
  },
  {
   "cell_type": "markdown",
   "metadata": {},
   "source": [
    "**Merge all the frames for each date, save the results to the output directory, and delete the original tiffs.**"
   ]
  },
  {
   "cell_type": "code",
   "execution_count": 37,
   "metadata": {},
   "outputs": [],
   "source": [
    "if rtc and len(dup_date_batches[0]) > 0:\n",
    "    for i, dup_dates in enumerate(dup_date_batches):\n",
    "        polar_regex = \"(?<=_)(vh|VH|vv|VV)(?=.tif{1,2})\"\n",
    "        polar = re.search(polar_regex, dup_dates[list(dup_dates)[0]])\n",
    "        if polar:\n",
    "            polar = f'_{polar.group(0)}'\n",
    "        else:\n",
    "            polar = ''\n",
    "        for dup_date in dup_dates:\n",
    "#             print(f\"\\n\\n{dup_dates[dup_date]}\")\n",
    "            output = f\"{str(output_dir_path_tiffs)}/merged_{dup_date}T999999{polar}{product_paths[0].suffix}\"\n",
    "            gdal_command = f\"gdal_merge.py -o {output} {dup_dates[dup_date]}\"\n",
    "            print(f\"\\n\\nCalling the command: {gdal_command}\\n\")\n",
    "            !$gdal_command\n",
    "            for pth in dup_dates[dup_date].split(' '):\n",
    "                path = Path(pth)\n",
    "                if path and path.is_file():\n",
    "                    path.unlink()\n",
    "                    print(f\"Deleting: {str(pth)}\")"
   ]
  },
  {
   "cell_type": "markdown",
   "metadata": {},
   "source": [
    "---\n",
    "**Verify that all duplicate dates were resolved:**"
   ]
  },
  {
   "cell_type": "code",
   "execution_count": 38,
   "metadata": {},
   "outputs": [
    {
     "name": "stdout",
     "output_type": "stream",
     "text": [
      "No duplicate dates are associated with VV polarization.\n",
      "No duplicate dates are associated with VH polarization.\n"
     ]
    }
   ],
   "source": [
    "if rtc:\n",
    "    product_paths = get_product_paths(regex, product_pth)\n",
    "    for polar in polar_list:\n",
    "        polar_product_pth = product_pth.replace('V*', polar)\n",
    "        polar_product_paths = get_product_paths(regex, polar_product_pth)\n",
    "        dates = get_dates(polar_product_paths)\n",
    "        if len(dates) != len(set(dates)):\n",
    "            print(f\"Duplicate dates still present!\")\n",
    "        else:\n",
    "            print(f\"No duplicate dates are associated with {polar} polarization.\")"
   ]
  },
  {
   "cell_type": "markdown",
   "metadata": {},
   "source": [
    "**Print the updated the paths to all remaining non-merged tiffs:**"
   ]
  },
  {
   "cell_type": "code",
   "execution_count": 39,
   "metadata": {},
   "outputs": [
    {
     "name": "stdout",
     "output_type": "stream",
     "text": [
      "Tiff paths:\n",
      "Dataset/Tripura/RTC_GAMMA/S1A_IW_20190919T235546_DVP_RTC30_G_gpufem_BAF7/S1A_IW_20190919T235546_DVP_RTC30_G_gpufem_BAF7_VH.tif\n",
      "\n",
      "Dataset/Tripura/RTC_GAMMA/S1A_IW_20190919T235546_DVP_RTC30_G_gpufem_BAF7/S1A_IW_20190919T235546_DVP_RTC30_G_gpufem_BAF7_VV.tif\n",
      "\n",
      "Dataset/Tripura/RTC_GAMMA/S1A_IW_20180115T235531_DVP_RTC30_G_gpufem_9DB0/S1A_IW_20180115T235531_DVP_RTC30_G_gpufem_9DB0_VV.tif\n",
      "\n",
      "Dataset/Tripura/RTC_GAMMA/S1A_IW_20180115T235531_DVP_RTC30_G_gpufem_9DB0/S1A_IW_20180115T235531_DVP_RTC30_G_gpufem_9DB0_VH.tif\n",
      "\n",
      "Dataset/Tripura/RTC_GAMMA/S1A_IW_20180726T235537_DVP_RTC30_G_gpufem_23F1/S1A_IW_20180726T235537_DVP_RTC30_G_gpufem_23F1_VV.tif\n",
      "\n",
      "Dataset/Tripura/RTC_GAMMA/S1A_IW_20180726T235537_DVP_RTC30_G_gpufem_23F1/S1A_IW_20180726T235537_DVP_RTC30_G_gpufem_23F1_VH.tif\n",
      "\n",
      "Dataset/Tripura/RTC_GAMMA/S1A_IW_20171116T235533_DVP_RTC30_G_gpufem_8B56/S1A_IW_20171116T235533_DVP_RTC30_G_gpufem_8B56_VH.tif\n",
      "\n",
      "Dataset/Tripura/RTC_GAMMA/S1A_IW_20171116T235533_DVP_RTC30_G_gpufem_8B56/S1A_IW_20171116T235533_DVP_RTC30_G_gpufem_8B56_VV.tif\n",
      "\n",
      "Dataset/Tripura/RTC_GAMMA/S1A_IW_20191001T235547_DVP_RTC30_G_gpufem_CB70/S1A_IW_20191001T235547_DVP_RTC30_G_gpufem_CB70_VV.tif\n",
      "\n",
      "Dataset/Tripura/RTC_GAMMA/S1A_IW_20191001T235547_DVP_RTC30_G_gpufem_CB70/S1A_IW_20191001T235547_DVP_RTC30_G_gpufem_CB70_VH.tif\n",
      "\n",
      "Dataset/Tripura/RTC_GAMMA/S1A_IW_20191106T235547_DVP_RTC30_G_gpufem_DFC5/S1A_IW_20191106T235547_DVP_RTC30_G_gpufem_DFC5_VH.tif\n",
      "\n",
      "Dataset/Tripura/RTC_GAMMA/S1A_IW_20191106T235547_DVP_RTC30_G_gpufem_DFC5/S1A_IW_20191106T235547_DVP_RTC30_G_gpufem_DFC5_VV.tif\n",
      "\n",
      "Dataset/Tripura/RTC_GAMMA/S1A_IW_20180527T235534_DVP_RTC30_G_gpufem_AAD1/S1A_IW_20180527T235534_DVP_RTC30_G_gpufem_AAD1_VV.tif\n",
      "\n",
      "Dataset/Tripura/RTC_GAMMA/S1A_IW_20180527T235534_DVP_RTC30_G_gpufem_AAD1/S1A_IW_20180527T235534_DVP_RTC30_G_gpufem_AAD1_VH.tif\n",
      "\n",
      "Dataset/Tripura/RTC_GAMMA/S1A_IW_20171023T235534_DVP_RTC30_G_gpufem_32DC/S1A_IW_20171023T235534_DVP_RTC30_G_gpufem_32DC_VH.tif\n",
      "\n",
      "Dataset/Tripura/RTC_GAMMA/S1A_IW_20171023T235534_DVP_RTC30_G_gpufem_32DC/S1A_IW_20171023T235534_DVP_RTC30_G_gpufem_32DC_VV.tif\n",
      "\n",
      "Dataset/Tripura/RTC_GAMMA/S1A_IW_20180328T235531_DVP_RTC30_G_gpufem_EC7D/S1A_IW_20180328T235531_DVP_RTC30_G_gpufem_EC7D_VH.tif\n",
      "\n",
      "Dataset/Tripura/RTC_GAMMA/S1A_IW_20180328T235531_DVP_RTC30_G_gpufem_EC7D/S1A_IW_20180328T235531_DVP_RTC30_G_gpufem_EC7D_VV.tif\n",
      "\n",
      "Dataset/Tripura/RTC_GAMMA/S1A_IW_20181018T235540_DVP_RTC30_G_gpufem_E189/S1A_IW_20181018T235540_DVP_RTC30_G_gpufem_E189_VV.tif\n",
      "\n",
      "Dataset/Tripura/RTC_GAMMA/S1A_IW_20181018T235540_DVP_RTC30_G_gpufem_E189/S1A_IW_20181018T235540_DVP_RTC30_G_gpufem_E189_VH.tif\n",
      "\n",
      "Dataset/Tripura/RTC_GAMMA/S1A_IW_20190826T235545_DVP_RTC30_G_gpufem_07ED/S1A_IW_20190826T235545_DVP_RTC30_G_gpufem_07ED_VH.tif\n",
      "\n",
      "Dataset/Tripura/RTC_GAMMA/S1A_IW_20190826T235545_DVP_RTC30_G_gpufem_07ED/S1A_IW_20190826T235545_DVP_RTC30_G_gpufem_07ED_VV.tif\n",
      "\n",
      "Dataset/Tripura/RTC_GAMMA/S1A_IW_20171011T235534_DVP_RTC30_G_gpufem_4D15/S1A_IW_20171011T235534_DVP_RTC30_G_gpufem_4D15_VV.tif\n",
      "\n",
      "Dataset/Tripura/RTC_GAMMA/S1A_IW_20171011T235534_DVP_RTC30_G_gpufem_4D15/S1A_IW_20171011T235534_DVP_RTC30_G_gpufem_4D15_VH.tif\n",
      "\n",
      "Dataset/Tripura/RTC_GAMMA/S1A_IW_20180127T235531_DVP_RTC30_G_gpufem_EBAD/S1A_IW_20180127T235531_DVP_RTC30_G_gpufem_EBAD_VH.tif\n",
      "\n",
      "Dataset/Tripura/RTC_GAMMA/S1A_IW_20180127T235531_DVP_RTC30_G_gpufem_EBAD/S1A_IW_20180127T235531_DVP_RTC30_G_gpufem_EBAD_VV.tif\n",
      "\n",
      "Dataset/Tripura/RTC_GAMMA/S1A_IW_20190802T235544_DVP_RTC30_G_gpufem_7083/S1A_IW_20190802T235544_DVP_RTC30_G_gpufem_7083_VV.tif\n",
      "\n",
      "Dataset/Tripura/RTC_GAMMA/S1A_IW_20190802T235544_DVP_RTC30_G_gpufem_7083/S1A_IW_20190802T235544_DVP_RTC30_G_gpufem_7083_VH.tif\n",
      "\n",
      "Dataset/Tripura/RTC_GAMMA/S1A_IW_20181217T235539_DVP_RTC30_G_gpufem_6610/S1A_IW_20181217T235539_DVP_RTC30_G_gpufem_6610_VH.tif\n",
      "\n",
      "Dataset/Tripura/RTC_GAMMA/S1A_IW_20181217T235539_DVP_RTC30_G_gpufem_6610/S1A_IW_20181217T235539_DVP_RTC30_G_gpufem_6610_VV.tif\n",
      "\n",
      "Dataset/Tripura/RTC_GAMMA/S1A_IW_20190510T235539_DVP_RTC30_G_gpufem_9006/S1A_IW_20190510T235539_DVP_RTC30_G_gpufem_9006_VV.tif\n",
      "\n",
      "Dataset/Tripura/RTC_GAMMA/S1A_IW_20190510T235539_DVP_RTC30_G_gpufem_9006/S1A_IW_20190510T235539_DVP_RTC30_G_gpufem_9006_VH.tif\n",
      "\n",
      "Dataset/Tripura/RTC_GAMMA/S1A_IW_20190227T235537_DVP_RTC30_G_gpufem_A66D/S1A_IW_20190227T235537_DVP_RTC30_G_gpufem_A66D_VV.tif\n",
      "\n",
      "Dataset/Tripura/RTC_GAMMA/S1A_IW_20190227T235537_DVP_RTC30_G_gpufem_A66D/S1A_IW_20190227T235537_DVP_RTC30_G_gpufem_A66D_VH.tif\n",
      "\n",
      "Dataset/Tripura/RTC_GAMMA/S1A_IW_20180714T235536_DVP_RTC30_G_gpufem_AB5F/S1A_IW_20180714T235536_DVP_RTC30_G_gpufem_AB5F_VV.tif\n",
      "\n",
      "Dataset/Tripura/RTC_GAMMA/S1A_IW_20180714T235536_DVP_RTC30_G_gpufem_AB5F/S1A_IW_20180714T235536_DVP_RTC30_G_gpufem_AB5F_VH.tif\n",
      "\n",
      "Dataset/Tripura/RTC_GAMMA/S1A_IW_20181229T235539_DVP_RTC30_G_gpufem_9708/S1A_IW_20181229T235539_DVP_RTC30_G_gpufem_9708_VV.tif\n",
      "\n",
      "Dataset/Tripura/RTC_GAMMA/S1A_IW_20181229T235539_DVP_RTC30_G_gpufem_9708/S1A_IW_20181229T235539_DVP_RTC30_G_gpufem_9708_VH.tif\n",
      "\n",
      "Dataset/Tripura/RTC_GAMMA/S1A_IW_20171210T235533_DVP_RTC30_G_gpufem_5750/S1A_IW_20171210T235533_DVP_RTC30_G_gpufem_5750_VH.tif\n",
      "\n",
      "Dataset/Tripura/RTC_GAMMA/S1A_IW_20171210T235533_DVP_RTC30_G_gpufem_5750/S1A_IW_20171210T235533_DVP_RTC30_G_gpufem_5750_VV.tif\n",
      "\n",
      "Dataset/Tripura/RTC_GAMMA/S1A_IW_20180316T235531_DVP_RTC30_G_gpufem_2E6F/S1A_IW_20180316T235531_DVP_RTC30_G_gpufem_2E6F_VH.tif\n",
      "\n",
      "Dataset/Tripura/RTC_GAMMA/S1A_IW_20180316T235531_DVP_RTC30_G_gpufem_2E6F/S1A_IW_20180316T235531_DVP_RTC30_G_gpufem_2E6F_VV.tif\n",
      "\n",
      "Dataset/Tripura/RTC_GAMMA/S1A_IW_20180208T235531_DVP_RTC30_G_gpufem_B75A/S1A_IW_20180208T235531_DVP_RTC30_G_gpufem_B75A_VH.tif\n",
      "\n",
      "Dataset/Tripura/RTC_GAMMA/S1A_IW_20180208T235531_DVP_RTC30_G_gpufem_B75A/S1A_IW_20180208T235531_DVP_RTC30_G_gpufem_B75A_VV.tif\n",
      "\n",
      "Dataset/Tripura/RTC_GAMMA/S1A_IW_20190709T235542_DVP_RTC30_G_gpufem_5565/S1A_IW_20190709T235542_DVP_RTC30_G_gpufem_5565_VH.tif\n",
      "\n",
      "Dataset/Tripura/RTC_GAMMA/S1A_IW_20190709T235542_DVP_RTC30_G_gpufem_5565/S1A_IW_20190709T235542_DVP_RTC30_G_gpufem_5565_VV.tif\n",
      "\n",
      "Dataset/Tripura/RTC_GAMMA/S1A_IW_20180819T235538_DVP_RTC30_G_gpufem_87A6/S1A_IW_20180819T235538_DVP_RTC30_G_gpufem_87A6_VV.tif\n",
      "\n",
      "Dataset/Tripura/RTC_GAMMA/S1A_IW_20180819T235538_DVP_RTC30_G_gpufem_87A6/S1A_IW_20180819T235538_DVP_RTC30_G_gpufem_87A6_VH.tif\n",
      "\n",
      "Dataset/Tripura/RTC_GAMMA/S1A_IW_20191224T235545_DVP_RTC30_G_gpufem_6C06/S1A_IW_20191224T235545_DVP_RTC30_G_gpufem_6C06_VH.tif\n",
      "\n",
      "Dataset/Tripura/RTC_GAMMA/S1A_IW_20191224T235545_DVP_RTC30_G_gpufem_6C06/S1A_IW_20191224T235545_DVP_RTC30_G_gpufem_6C06_VV.tif\n",
      "\n",
      "Dataset/Tripura/RTC_GAMMA/S1A_IW_20180421T235532_DVP_RTC30_G_gpufem_FE2B/S1A_IW_20180421T235532_DVP_RTC30_G_gpufem_FE2B_VV.tif\n",
      "\n",
      "Dataset/Tripura/RTC_GAMMA/S1A_IW_20180421T235532_DVP_RTC30_G_gpufem_FE2B/S1A_IW_20180421T235532_DVP_RTC30_G_gpufem_FE2B_VH.tif\n",
      "\n",
      "Dataset/Tripura/RTC_GAMMA/S1A_IW_20190122T235538_DVP_RTC30_G_gpufem_D295/S1A_IW_20190122T235538_DVP_RTC30_G_gpufem_D295_VV.tif\n",
      "\n",
      "Dataset/Tripura/RTC_GAMMA/S1A_IW_20190122T235538_DVP_RTC30_G_gpufem_D295/S1A_IW_20190122T235538_DVP_RTC30_G_gpufem_D295_VH.tif\n",
      "\n",
      "Dataset/Tripura/RTC_GAMMA/S1A_IW_20181006T235540_DVP_RTC30_G_gpufem_C8B5/S1A_IW_20181006T235540_DVP_RTC30_G_gpufem_C8B5_VH.tif\n",
      "\n",
      "Dataset/Tripura/RTC_GAMMA/S1A_IW_20181006T235540_DVP_RTC30_G_gpufem_C8B5/S1A_IW_20181006T235540_DVP_RTC30_G_gpufem_C8B5_VV.tif\n",
      "\n",
      "Dataset/Tripura/RTC_GAMMA/S1A_IW_20180831T235539_DVP_RTC30_G_gpufem_6154/S1A_IW_20180831T235539_DVP_RTC30_G_gpufem_6154_VH.tif\n",
      "\n",
      "Dataset/Tripura/RTC_GAMMA/S1A_IW_20180831T235539_DVP_RTC30_G_gpufem_6154/S1A_IW_20180831T235539_DVP_RTC30_G_gpufem_6154_VV.tif\n",
      "\n",
      "Dataset/Tripura/RTC_GAMMA/S1A_IW_20181123T235540_DVP_RTC30_G_gpufem_488B/S1A_IW_20181123T235540_DVP_RTC30_G_gpufem_488B_VV.tif\n",
      "\n",
      "Dataset/Tripura/RTC_GAMMA/S1A_IW_20181123T235540_DVP_RTC30_G_gpufem_488B/S1A_IW_20181123T235540_DVP_RTC30_G_gpufem_488B_VH.tif\n",
      "\n",
      "Dataset/Tripura/RTC_GAMMA/S1A_IW_20181030T235540_DVP_RTC30_G_gpufem_D12E/S1A_IW_20181030T235540_DVP_RTC30_G_gpufem_D12E_VV.tif\n",
      "\n",
      "Dataset/Tripura/RTC_GAMMA/S1A_IW_20181030T235540_DVP_RTC30_G_gpufem_D12E/S1A_IW_20181030T235540_DVP_RTC30_G_gpufem_D12E_VH.tif\n",
      "\n",
      "Dataset/Tripura/RTC_GAMMA/S1A_IW_20180103T235531_DVP_RTC30_G_gpufem_31C0/S1A_IW_20180103T235531_DVP_RTC30_G_gpufem_31C0_VV.tif\n",
      "\n",
      "Dataset/Tripura/RTC_GAMMA/S1A_IW_20180103T235531_DVP_RTC30_G_gpufem_31C0/S1A_IW_20180103T235531_DVP_RTC30_G_gpufem_31C0_VH.tif\n",
      "\n",
      "Dataset/Tripura/RTC_GAMMA/S1A_IW_20190615T235540_DVP_RTC30_G_gpufem_B3E2/S1A_IW_20190615T235540_DVP_RTC30_G_gpufem_B3E2_VV.tif\n",
      "\n",
      "Dataset/Tripura/RTC_GAMMA/S1A_IW_20190615T235540_DVP_RTC30_G_gpufem_B3E2/S1A_IW_20190615T235540_DVP_RTC30_G_gpufem_B3E2_VH.tif\n",
      "\n",
      "Dataset/Tripura/RTC_GAMMA/S1A_IW_20190721T235543_DVP_RTC30_G_gpufem_4653/S1A_IW_20190721T235543_DVP_RTC30_G_gpufem_4653_VH.tif\n",
      "\n",
      "Dataset/Tripura/RTC_GAMMA/S1A_IW_20190721T235543_DVP_RTC30_G_gpufem_4653/S1A_IW_20190721T235543_DVP_RTC30_G_gpufem_4653_VV.tif\n",
      "\n",
      "Dataset/Tripura/RTC_GAMMA/S1A_IW_20180807T235538_DVP_RTC30_G_gpufem_ED14/S1A_IW_20180807T235538_DVP_RTC30_G_gpufem_ED14_VH.tif\n",
      "\n",
      "Dataset/Tripura/RTC_GAMMA/S1A_IW_20180807T235538_DVP_RTC30_G_gpufem_ED14/S1A_IW_20180807T235538_DVP_RTC30_G_gpufem_ED14_VV.tif\n",
      "\n",
      "Dataset/Tripura/RTC_GAMMA/S1A_IW_20190416T235538_DVP_RTC30_G_gpufem_979C/S1A_IW_20190416T235538_DVP_RTC30_G_gpufem_979C_VV.tif\n",
      "\n",
      "Dataset/Tripura/RTC_GAMMA/S1A_IW_20190416T235538_DVP_RTC30_G_gpufem_979C/S1A_IW_20190416T235538_DVP_RTC30_G_gpufem_979C_VH.tif\n",
      "\n",
      "Dataset/Tripura/RTC_GAMMA/S1A_IW_20180515T235533_DVP_RTC30_G_gpufem_7E28/S1A_IW_20180515T235533_DVP_RTC30_G_gpufem_7E28_VV.tif\n",
      "\n",
      "Dataset/Tripura/RTC_GAMMA/S1A_IW_20180515T235533_DVP_RTC30_G_gpufem_7E28/S1A_IW_20180515T235533_DVP_RTC30_G_gpufem_7E28_VH.tif\n",
      "\n",
      "Dataset/Tripura/RTC_GAMMA/S1A_IW_20171222T235532_DVP_RTC30_G_gpufem_E7A6/S1A_IW_20171222T235532_DVP_RTC30_G_gpufem_E7A6_VV.tif\n",
      "\n",
      "Dataset/Tripura/RTC_GAMMA/S1A_IW_20171222T235532_DVP_RTC30_G_gpufem_E7A6/S1A_IW_20171222T235532_DVP_RTC30_G_gpufem_E7A6_VH.tif\n",
      "\n",
      "Dataset/Tripura/RTC_GAMMA/S1A_IW_20191118T235546_DVP_RTC30_G_gpufem_7D3E/S1A_IW_20191118T235546_DVP_RTC30_G_gpufem_7D3E_VH.tif\n",
      "\n",
      "Dataset/Tripura/RTC_GAMMA/S1A_IW_20191118T235546_DVP_RTC30_G_gpufem_7D3E/S1A_IW_20191118T235546_DVP_RTC30_G_gpufem_7D3E_VV.tif\n",
      "\n",
      "Dataset/Tripura/RTC_GAMMA/S1A_IW_20190603T235540_DVP_RTC30_G_gpufem_098F/S1A_IW_20190603T235540_DVP_RTC30_G_gpufem_098F_VH.tif\n",
      "\n",
      "Dataset/Tripura/RTC_GAMMA/S1A_IW_20190603T235540_DVP_RTC30_G_gpufem_098F/S1A_IW_20190603T235540_DVP_RTC30_G_gpufem_098F_VV.tif\n",
      "\n",
      "Dataset/Tripura/RTC_GAMMA/S1A_IW_20190203T235537_DVP_RTC30_G_gpufem_476E/S1A_IW_20190203T235537_DVP_RTC30_G_gpufem_476E_VV.tif\n",
      "\n",
      "Dataset/Tripura/RTC_GAMMA/S1A_IW_20190203T235537_DVP_RTC30_G_gpufem_476E/S1A_IW_20190203T235537_DVP_RTC30_G_gpufem_476E_VH.tif\n",
      "\n",
      "Dataset/Tripura/RTC_GAMMA/S1A_IW_20191013T235547_DVP_RTC30_G_gpufem_9878/S1A_IW_20191013T235547_DVP_RTC30_G_gpufem_9878_VV.tif\n",
      "\n",
      "Dataset/Tripura/RTC_GAMMA/S1A_IW_20191013T235547_DVP_RTC30_G_gpufem_9878/S1A_IW_20191013T235547_DVP_RTC30_G_gpufem_9878_VH.tif\n",
      "\n",
      "Dataset/Tripura/RTC_GAMMA/S1A_IW_20180924T235540_DVP_RTC30_G_gpufem_3FDD/S1A_IW_20180924T235540_DVP_RTC30_G_gpufem_3FDD_VV.tif\n",
      "\n",
      "Dataset/Tripura/RTC_GAMMA/S1A_IW_20180924T235540_DVP_RTC30_G_gpufem_3FDD/S1A_IW_20180924T235540_DVP_RTC30_G_gpufem_3FDD_VH.tif\n",
      "\n",
      "Dataset/Tripura/RTC_GAMMA/S1A_IW_20180912T235540_DVP_RTC30_G_gpufem_F5A0/S1A_IW_20180912T235540_DVP_RTC30_G_gpufem_F5A0_VV.tif\n",
      "\n",
      "Dataset/Tripura/RTC_GAMMA/S1A_IW_20180912T235540_DVP_RTC30_G_gpufem_F5A0/S1A_IW_20180912T235540_DVP_RTC30_G_gpufem_F5A0_VH.tif\n",
      "\n",
      "Dataset/Tripura/RTC_GAMMA/S1A_IW_20180608T235534_DVP_RTC30_G_gpufem_7207/S1A_IW_20180608T235534_DVP_RTC30_G_gpufem_7207_VV.tif\n",
      "\n",
      "Dataset/Tripura/RTC_GAMMA/S1A_IW_20180608T235534_DVP_RTC30_G_gpufem_7207/S1A_IW_20180608T235534_DVP_RTC30_G_gpufem_7207_VH.tif\n",
      "\n",
      "Dataset/Tripura/RTC_GAMMA/S1A_IW_20190110T235538_DVP_RTC30_G_gpufem_98BE/S1A_IW_20190110T235538_DVP_RTC30_G_gpufem_98BE_VV.tif\n",
      "\n",
      "Dataset/Tripura/RTC_GAMMA/S1A_IW_20190110T235538_DVP_RTC30_G_gpufem_98BE/S1A_IW_20190110T235538_DVP_RTC30_G_gpufem_98BE_VH.tif\n",
      "\n",
      "Dataset/Tripura/RTC_GAMMA/S1A_IW_20171128T235533_DVP_RTC30_G_gpufem_06F8/S1A_IW_20171128T235533_DVP_RTC30_G_gpufem_06F8_VV.tif\n",
      "\n",
      "Dataset/Tripura/RTC_GAMMA/S1A_IW_20171128T235533_DVP_RTC30_G_gpufem_06F8/S1A_IW_20171128T235533_DVP_RTC30_G_gpufem_06F8_VH.tif\n",
      "\n",
      "Dataset/Tripura/RTC_GAMMA/S1A_IW_20191212T235546_DVP_RTC30_G_gpufem_663B/S1A_IW_20191212T235546_DVP_RTC30_G_gpufem_663B_VH.tif\n",
      "\n",
      "Dataset/Tripura/RTC_GAMMA/S1A_IW_20191212T235546_DVP_RTC30_G_gpufem_663B/S1A_IW_20191212T235546_DVP_RTC30_G_gpufem_663B_VV.tif\n",
      "\n",
      "Dataset/Tripura/RTC_GAMMA/S1A_IW_20191025T235547_DVP_RTC30_G_gpufem_D0BC/S1A_IW_20191025T235547_DVP_RTC30_G_gpufem_D0BC_VV.tif\n",
      "\n",
      "Dataset/Tripura/RTC_GAMMA/S1A_IW_20191025T235547_DVP_RTC30_G_gpufem_D0BC/S1A_IW_20191025T235547_DVP_RTC30_G_gpufem_D0BC_VH.tif\n",
      "\n",
      "Dataset/Tripura/RTC_GAMMA/S1A_IW_20180304T235530_DVP_RTC30_G_gpufem_7F99/S1A_IW_20180304T235530_DVP_RTC30_G_gpufem_7F99_VV.tif\n",
      "\n",
      "Dataset/Tripura/RTC_GAMMA/S1A_IW_20180304T235530_DVP_RTC30_G_gpufem_7F99/S1A_IW_20180304T235530_DVP_RTC30_G_gpufem_7F99_VH.tif\n",
      "\n",
      "Dataset/Tripura/RTC_GAMMA/S1A_IW_20190907T235546_DVP_RTC30_G_gpufem_183C/S1A_IW_20190907T235546_DVP_RTC30_G_gpufem_183C_VH.tif\n",
      "\n",
      "Dataset/Tripura/RTC_GAMMA/S1A_IW_20190907T235546_DVP_RTC30_G_gpufem_183C/S1A_IW_20190907T235546_DVP_RTC30_G_gpufem_183C_VV.tif\n",
      "\n",
      "Dataset/Tripura/RTC_GAMMA/S1A_IW_20180503T235532_DVP_RTC30_G_gpufem_CE6F/S1A_IW_20180503T235532_DVP_RTC30_G_gpufem_CE6F_VV.tif\n",
      "\n",
      "Dataset/Tripura/RTC_GAMMA/S1A_IW_20180503T235532_DVP_RTC30_G_gpufem_CE6F/S1A_IW_20180503T235532_DVP_RTC30_G_gpufem_CE6F_VH.tif\n",
      "\n",
      "Dataset/Tripura/RTC_GAMMA/S1A_IW_20181111T235540_DVP_RTC30_G_gpufem_6153/S1A_IW_20181111T235540_DVP_RTC30_G_gpufem_6153_VV.tif\n",
      "\n",
      "Dataset/Tripura/RTC_GAMMA/S1A_IW_20181111T235540_DVP_RTC30_G_gpufem_6153/S1A_IW_20181111T235540_DVP_RTC30_G_gpufem_6153_VH.tif\n",
      "\n",
      "Dataset/Tripura/RTC_GAMMA/S1A_IW_20190215T235537_DVP_RTC30_G_gpufem_ECE2/S1A_IW_20190215T235537_DVP_RTC30_G_gpufem_ECE2_VH.tif\n",
      "\n",
      "Dataset/Tripura/RTC_GAMMA/S1A_IW_20190215T235537_DVP_RTC30_G_gpufem_ECE2/S1A_IW_20190215T235537_DVP_RTC30_G_gpufem_ECE2_VV.tif\n",
      "\n",
      "Dataset/Tripura/RTC_GAMMA/S1A_IW_20171104T235534_DVP_RTC30_G_gpufem_A2FD/S1A_IW_20171104T235534_DVP_RTC30_G_gpufem_A2FD_VH.tif\n",
      "\n",
      "Dataset/Tripura/RTC_GAMMA/S1A_IW_20171104T235534_DVP_RTC30_G_gpufem_A2FD/S1A_IW_20171104T235534_DVP_RTC30_G_gpufem_A2FD_VV.tif\n",
      "\n",
      "Dataset/Tripura/RTC_GAMMA/S1A_IW_20190311T235537_DVP_RTC30_G_gpufem_C916/S1A_IW_20190311T235537_DVP_RTC30_G_gpufem_C916_VH.tif\n",
      "\n",
      "Dataset/Tripura/RTC_GAMMA/S1A_IW_20190311T235537_DVP_RTC30_G_gpufem_C916/S1A_IW_20190311T235537_DVP_RTC30_G_gpufem_C916_VV.tif\n",
      "\n",
      "Dataset/Tripura/RTC_GAMMA/S1A_IW_20190428T235538_DVP_RTC30_G_gpufem_5562/S1A_IW_20190428T235538_DVP_RTC30_G_gpufem_5562_VH.tif\n",
      "\n",
      "Dataset/Tripura/RTC_GAMMA/S1A_IW_20190428T235538_DVP_RTC30_G_gpufem_5562/S1A_IW_20190428T235538_DVP_RTC30_G_gpufem_5562_VV.tif\n",
      "\n",
      "Dataset/Tripura/RTC_GAMMA/S1A_IW_20190627T235541_DVP_RTC30_G_gpufem_1281/S1A_IW_20190627T235541_DVP_RTC30_G_gpufem_1281_VH.tif\n",
      "\n",
      "Dataset/Tripura/RTC_GAMMA/S1A_IW_20190627T235541_DVP_RTC30_G_gpufem_1281/S1A_IW_20190627T235541_DVP_RTC30_G_gpufem_1281_VV.tif\n",
      "\n",
      "Dataset/Tripura/RTC_GAMMA/S1A_IW_20180409T235531_DVP_RTC30_G_gpufem_A225/S1A_IW_20180409T235531_DVP_RTC30_G_gpufem_A225_VV.tif\n",
      "\n",
      "Dataset/Tripura/RTC_GAMMA/S1A_IW_20180409T235531_DVP_RTC30_G_gpufem_A225/S1A_IW_20180409T235531_DVP_RTC30_G_gpufem_A225_VH.tif\n",
      "\n",
      "Dataset/Tripura/RTC_GAMMA/S1A_IW_20180220T235530_DVP_RTC30_G_gpufem_7CEE/S1A_IW_20180220T235530_DVP_RTC30_G_gpufem_7CEE_VH.tif\n",
      "\n",
      "Dataset/Tripura/RTC_GAMMA/S1A_IW_20180220T235530_DVP_RTC30_G_gpufem_7CEE/S1A_IW_20180220T235530_DVP_RTC30_G_gpufem_7CEE_VV.tif\n",
      "\n",
      "Dataset/Tripura/RTC_GAMMA/S1A_IW_20190404T235537_DVP_RTC30_G_gpufem_D032/S1A_IW_20190404T235537_DVP_RTC30_G_gpufem_D032_VH.tif\n",
      "\n",
      "Dataset/Tripura/RTC_GAMMA/S1A_IW_20190404T235537_DVP_RTC30_G_gpufem_D032/S1A_IW_20190404T235537_DVP_RTC30_G_gpufem_D032_VV.tif\n",
      "\n",
      "Dataset/Tripura/RTC_GAMMA/S1A_IW_20190323T235537_DVP_RTC30_G_gpufem_7A43/S1A_IW_20190323T235537_DVP_RTC30_G_gpufem_7A43_VH.tif\n",
      "\n",
      "Dataset/Tripura/RTC_GAMMA/S1A_IW_20190323T235537_DVP_RTC30_G_gpufem_7A43/S1A_IW_20190323T235537_DVP_RTC30_G_gpufem_7A43_VV.tif\n",
      "\n",
      "Dataset/Tripura/RTC_GAMMA/S1A_IW_20191130T235546_DVP_RTC30_G_gpufem_76E8/S1A_IW_20191130T235546_DVP_RTC30_G_gpufem_76E8_VH.tif\n",
      "\n",
      "Dataset/Tripura/RTC_GAMMA/S1A_IW_20191130T235546_DVP_RTC30_G_gpufem_76E8/S1A_IW_20191130T235546_DVP_RTC30_G_gpufem_76E8_VV.tif\n",
      "\n"
     ]
    }
   ],
   "source": [
    "if rtc:\n",
    "    print_product_paths(product_paths)"
   ]
  },
  {
   "cell_type": "markdown",
   "metadata": {},
   "source": [
    "**Merge all the DEMs into one (overlapping data should be the same because they are all from COP30)**"
   ]
  },
  {
   "cell_type": "code",
   "execution_count": 40,
   "metadata": {},
   "outputs": [],
   "source": [
    "# List of DEM file paths\n",
    "dem_paths\n",
    "\n",
    "# List to store the opened DEM datasets\n",
    "datasets = []\n",
    "\n",
    "# Open each DEM dataset and add it to the list\n",
    "for file in dem_paths:\n",
    "    dataset = rasterio.open(file)\n",
    "    datasets.append(dataset)\n",
    "\n",
    "# Merge the DEM datasets\n",
    "merged, out_transform = merge(datasets)"
   ]
  },
  {
   "cell_type": "markdown",
   "metadata": {},
   "source": [
    "**Move all remaining unmerged tiffs into the output directory, and choose whether to save or delete the directory holding the remaining downloaded product files. AutoRIFT NetCDFs will remain in their original directory:**"
   ]
  },
  {
   "cell_type": "code",
   "execution_count": 41,
   "metadata": {},
   "outputs": [
    {
     "name": "stdout",
     "output_type": "stream",
     "text": [
      "Do you wish to save or delete the directory containing auxiliary product files?\n"
     ]
    },
    {
     "data": {
      "application/vnd.jupyter.widget-view+json": {
       "model_id": "0e06482e6826426e93dae319d772aa7c",
       "version_major": 2,
       "version_minor": 0
      },
      "text/plain": [
       "RadioButtons(layout=Layout(min_width='800px'), options=('save', 'delete'), value='save')"
      ]
     },
     "metadata": {},
     "output_type": "display_data"
    }
   ],
   "source": [
    "if not autorift:\n",
    "    choices = ['save', 'delete']\n",
    "    print(\"Do you wish to save or delete the directory containing auxiliary product files?\")\n",
    "else:\n",
    "    choices = []\n",
    "save_or_del = asfn.select_parameter(choices)\n",
    "save_or_del"
   ]
  },
  {
   "cell_type": "code",
   "execution_count": 42,
   "metadata": {},
   "outputs": [
    {
     "data": {
      "text/plain": [
       "[PosixPath('Dataset/Tripura/RTC_GAMMA/S1A_IW_20190919T235546_DVP_RTC30_G_gpufem_BAF7/S1A_IW_20190919T235546_DVP_RTC30_G_gpufem_BAF7_VH.tif'),\n",
       " PosixPath('Dataset/Tripura/RTC_GAMMA/S1A_IW_20190919T235546_DVP_RTC30_G_gpufem_BAF7/S1A_IW_20190919T235546_DVP_RTC30_G_gpufem_BAF7_VV.tif'),\n",
       " PosixPath('Dataset/Tripura/RTC_GAMMA/S1A_IW_20180115T235531_DVP_RTC30_G_gpufem_9DB0/S1A_IW_20180115T235531_DVP_RTC30_G_gpufem_9DB0_VV.tif'),\n",
       " PosixPath('Dataset/Tripura/RTC_GAMMA/S1A_IW_20180115T235531_DVP_RTC30_G_gpufem_9DB0/S1A_IW_20180115T235531_DVP_RTC30_G_gpufem_9DB0_VH.tif'),\n",
       " PosixPath('Dataset/Tripura/RTC_GAMMA/S1A_IW_20180726T235537_DVP_RTC30_G_gpufem_23F1/S1A_IW_20180726T235537_DVP_RTC30_G_gpufem_23F1_VV.tif'),\n",
       " PosixPath('Dataset/Tripura/RTC_GAMMA/S1A_IW_20180726T235537_DVP_RTC30_G_gpufem_23F1/S1A_IW_20180726T235537_DVP_RTC30_G_gpufem_23F1_VH.tif'),\n",
       " PosixPath('Dataset/Tripura/RTC_GAMMA/S1A_IW_20171116T235533_DVP_RTC30_G_gpufem_8B56/S1A_IW_20171116T235533_DVP_RTC30_G_gpufem_8B56_VH.tif'),\n",
       " PosixPath('Dataset/Tripura/RTC_GAMMA/S1A_IW_20171116T235533_DVP_RTC30_G_gpufem_8B56/S1A_IW_20171116T235533_DVP_RTC30_G_gpufem_8B56_VV.tif'),\n",
       " PosixPath('Dataset/Tripura/RTC_GAMMA/S1A_IW_20191001T235547_DVP_RTC30_G_gpufem_CB70/S1A_IW_20191001T235547_DVP_RTC30_G_gpufem_CB70_VV.tif'),\n",
       " PosixPath('Dataset/Tripura/RTC_GAMMA/S1A_IW_20191001T235547_DVP_RTC30_G_gpufem_CB70/S1A_IW_20191001T235547_DVP_RTC30_G_gpufem_CB70_VH.tif'),\n",
       " PosixPath('Dataset/Tripura/RTC_GAMMA/S1A_IW_20191106T235547_DVP_RTC30_G_gpufem_DFC5/S1A_IW_20191106T235547_DVP_RTC30_G_gpufem_DFC5_VH.tif'),\n",
       " PosixPath('Dataset/Tripura/RTC_GAMMA/S1A_IW_20191106T235547_DVP_RTC30_G_gpufem_DFC5/S1A_IW_20191106T235547_DVP_RTC30_G_gpufem_DFC5_VV.tif'),\n",
       " PosixPath('Dataset/Tripura/RTC_GAMMA/S1A_IW_20180527T235534_DVP_RTC30_G_gpufem_AAD1/S1A_IW_20180527T235534_DVP_RTC30_G_gpufem_AAD1_VV.tif'),\n",
       " PosixPath('Dataset/Tripura/RTC_GAMMA/S1A_IW_20180527T235534_DVP_RTC30_G_gpufem_AAD1/S1A_IW_20180527T235534_DVP_RTC30_G_gpufem_AAD1_VH.tif'),\n",
       " PosixPath('Dataset/Tripura/RTC_GAMMA/S1A_IW_20171023T235534_DVP_RTC30_G_gpufem_32DC/S1A_IW_20171023T235534_DVP_RTC30_G_gpufem_32DC_VH.tif'),\n",
       " PosixPath('Dataset/Tripura/RTC_GAMMA/S1A_IW_20171023T235534_DVP_RTC30_G_gpufem_32DC/S1A_IW_20171023T235534_DVP_RTC30_G_gpufem_32DC_VV.tif'),\n",
       " PosixPath('Dataset/Tripura/RTC_GAMMA/S1A_IW_20180328T235531_DVP_RTC30_G_gpufem_EC7D/S1A_IW_20180328T235531_DVP_RTC30_G_gpufem_EC7D_VH.tif'),\n",
       " PosixPath('Dataset/Tripura/RTC_GAMMA/S1A_IW_20180328T235531_DVP_RTC30_G_gpufem_EC7D/S1A_IW_20180328T235531_DVP_RTC30_G_gpufem_EC7D_VV.tif'),\n",
       " PosixPath('Dataset/Tripura/RTC_GAMMA/S1A_IW_20181018T235540_DVP_RTC30_G_gpufem_E189/S1A_IW_20181018T235540_DVP_RTC30_G_gpufem_E189_VV.tif'),\n",
       " PosixPath('Dataset/Tripura/RTC_GAMMA/S1A_IW_20181018T235540_DVP_RTC30_G_gpufem_E189/S1A_IW_20181018T235540_DVP_RTC30_G_gpufem_E189_VH.tif'),\n",
       " PosixPath('Dataset/Tripura/RTC_GAMMA/S1A_IW_20190826T235545_DVP_RTC30_G_gpufem_07ED/S1A_IW_20190826T235545_DVP_RTC30_G_gpufem_07ED_VH.tif'),\n",
       " PosixPath('Dataset/Tripura/RTC_GAMMA/S1A_IW_20190826T235545_DVP_RTC30_G_gpufem_07ED/S1A_IW_20190826T235545_DVP_RTC30_G_gpufem_07ED_VV.tif'),\n",
       " PosixPath('Dataset/Tripura/RTC_GAMMA/S1A_IW_20171011T235534_DVP_RTC30_G_gpufem_4D15/S1A_IW_20171011T235534_DVP_RTC30_G_gpufem_4D15_VV.tif'),\n",
       " PosixPath('Dataset/Tripura/RTC_GAMMA/S1A_IW_20171011T235534_DVP_RTC30_G_gpufem_4D15/S1A_IW_20171011T235534_DVP_RTC30_G_gpufem_4D15_VH.tif'),\n",
       " PosixPath('Dataset/Tripura/RTC_GAMMA/S1A_IW_20180127T235531_DVP_RTC30_G_gpufem_EBAD/S1A_IW_20180127T235531_DVP_RTC30_G_gpufem_EBAD_VH.tif'),\n",
       " PosixPath('Dataset/Tripura/RTC_GAMMA/S1A_IW_20180127T235531_DVP_RTC30_G_gpufem_EBAD/S1A_IW_20180127T235531_DVP_RTC30_G_gpufem_EBAD_VV.tif'),\n",
       " PosixPath('Dataset/Tripura/RTC_GAMMA/S1A_IW_20190802T235544_DVP_RTC30_G_gpufem_7083/S1A_IW_20190802T235544_DVP_RTC30_G_gpufem_7083_VV.tif'),\n",
       " PosixPath('Dataset/Tripura/RTC_GAMMA/S1A_IW_20190802T235544_DVP_RTC30_G_gpufem_7083/S1A_IW_20190802T235544_DVP_RTC30_G_gpufem_7083_VH.tif'),\n",
       " PosixPath('Dataset/Tripura/RTC_GAMMA/S1A_IW_20181217T235539_DVP_RTC30_G_gpufem_6610/S1A_IW_20181217T235539_DVP_RTC30_G_gpufem_6610_VH.tif'),\n",
       " PosixPath('Dataset/Tripura/RTC_GAMMA/S1A_IW_20181217T235539_DVP_RTC30_G_gpufem_6610/S1A_IW_20181217T235539_DVP_RTC30_G_gpufem_6610_VV.tif'),\n",
       " PosixPath('Dataset/Tripura/RTC_GAMMA/S1A_IW_20190510T235539_DVP_RTC30_G_gpufem_9006/S1A_IW_20190510T235539_DVP_RTC30_G_gpufem_9006_VV.tif'),\n",
       " PosixPath('Dataset/Tripura/RTC_GAMMA/S1A_IW_20190510T235539_DVP_RTC30_G_gpufem_9006/S1A_IW_20190510T235539_DVP_RTC30_G_gpufem_9006_VH.tif'),\n",
       " PosixPath('Dataset/Tripura/RTC_GAMMA/S1A_IW_20190227T235537_DVP_RTC30_G_gpufem_A66D/S1A_IW_20190227T235537_DVP_RTC30_G_gpufem_A66D_VV.tif'),\n",
       " PosixPath('Dataset/Tripura/RTC_GAMMA/S1A_IW_20190227T235537_DVP_RTC30_G_gpufem_A66D/S1A_IW_20190227T235537_DVP_RTC30_G_gpufem_A66D_VH.tif'),\n",
       " PosixPath('Dataset/Tripura/RTC_GAMMA/S1A_IW_20180714T235536_DVP_RTC30_G_gpufem_AB5F/S1A_IW_20180714T235536_DVP_RTC30_G_gpufem_AB5F_VV.tif'),\n",
       " PosixPath('Dataset/Tripura/RTC_GAMMA/S1A_IW_20180714T235536_DVP_RTC30_G_gpufem_AB5F/S1A_IW_20180714T235536_DVP_RTC30_G_gpufem_AB5F_VH.tif'),\n",
       " PosixPath('Dataset/Tripura/RTC_GAMMA/S1A_IW_20181229T235539_DVP_RTC30_G_gpufem_9708/S1A_IW_20181229T235539_DVP_RTC30_G_gpufem_9708_VV.tif'),\n",
       " PosixPath('Dataset/Tripura/RTC_GAMMA/S1A_IW_20181229T235539_DVP_RTC30_G_gpufem_9708/S1A_IW_20181229T235539_DVP_RTC30_G_gpufem_9708_VH.tif'),\n",
       " PosixPath('Dataset/Tripura/RTC_GAMMA/S1A_IW_20171210T235533_DVP_RTC30_G_gpufem_5750/S1A_IW_20171210T235533_DVP_RTC30_G_gpufem_5750_VH.tif'),\n",
       " PosixPath('Dataset/Tripura/RTC_GAMMA/S1A_IW_20171210T235533_DVP_RTC30_G_gpufem_5750/S1A_IW_20171210T235533_DVP_RTC30_G_gpufem_5750_VV.tif'),\n",
       " PosixPath('Dataset/Tripura/RTC_GAMMA/S1A_IW_20180316T235531_DVP_RTC30_G_gpufem_2E6F/S1A_IW_20180316T235531_DVP_RTC30_G_gpufem_2E6F_VH.tif'),\n",
       " PosixPath('Dataset/Tripura/RTC_GAMMA/S1A_IW_20180316T235531_DVP_RTC30_G_gpufem_2E6F/S1A_IW_20180316T235531_DVP_RTC30_G_gpufem_2E6F_VV.tif'),\n",
       " PosixPath('Dataset/Tripura/RTC_GAMMA/S1A_IW_20180208T235531_DVP_RTC30_G_gpufem_B75A/S1A_IW_20180208T235531_DVP_RTC30_G_gpufem_B75A_VH.tif'),\n",
       " PosixPath('Dataset/Tripura/RTC_GAMMA/S1A_IW_20180208T235531_DVP_RTC30_G_gpufem_B75A/S1A_IW_20180208T235531_DVP_RTC30_G_gpufem_B75A_VV.tif'),\n",
       " PosixPath('Dataset/Tripura/RTC_GAMMA/S1A_IW_20190709T235542_DVP_RTC30_G_gpufem_5565/S1A_IW_20190709T235542_DVP_RTC30_G_gpufem_5565_VH.tif'),\n",
       " PosixPath('Dataset/Tripura/RTC_GAMMA/S1A_IW_20190709T235542_DVP_RTC30_G_gpufem_5565/S1A_IW_20190709T235542_DVP_RTC30_G_gpufem_5565_VV.tif'),\n",
       " PosixPath('Dataset/Tripura/RTC_GAMMA/S1A_IW_20180819T235538_DVP_RTC30_G_gpufem_87A6/S1A_IW_20180819T235538_DVP_RTC30_G_gpufem_87A6_VV.tif'),\n",
       " PosixPath('Dataset/Tripura/RTC_GAMMA/S1A_IW_20180819T235538_DVP_RTC30_G_gpufem_87A6/S1A_IW_20180819T235538_DVP_RTC30_G_gpufem_87A6_VH.tif'),\n",
       " PosixPath('Dataset/Tripura/RTC_GAMMA/S1A_IW_20191224T235545_DVP_RTC30_G_gpufem_6C06/S1A_IW_20191224T235545_DVP_RTC30_G_gpufem_6C06_VH.tif'),\n",
       " PosixPath('Dataset/Tripura/RTC_GAMMA/S1A_IW_20191224T235545_DVP_RTC30_G_gpufem_6C06/S1A_IW_20191224T235545_DVP_RTC30_G_gpufem_6C06_VV.tif'),\n",
       " PosixPath('Dataset/Tripura/RTC_GAMMA/S1A_IW_20180421T235532_DVP_RTC30_G_gpufem_FE2B/S1A_IW_20180421T235532_DVP_RTC30_G_gpufem_FE2B_VV.tif'),\n",
       " PosixPath('Dataset/Tripura/RTC_GAMMA/S1A_IW_20180421T235532_DVP_RTC30_G_gpufem_FE2B/S1A_IW_20180421T235532_DVP_RTC30_G_gpufem_FE2B_VH.tif'),\n",
       " PosixPath('Dataset/Tripura/RTC_GAMMA/S1A_IW_20190122T235538_DVP_RTC30_G_gpufem_D295/S1A_IW_20190122T235538_DVP_RTC30_G_gpufem_D295_VV.tif'),\n",
       " PosixPath('Dataset/Tripura/RTC_GAMMA/S1A_IW_20190122T235538_DVP_RTC30_G_gpufem_D295/S1A_IW_20190122T235538_DVP_RTC30_G_gpufem_D295_VH.tif'),\n",
       " PosixPath('Dataset/Tripura/RTC_GAMMA/S1A_IW_20181006T235540_DVP_RTC30_G_gpufem_C8B5/S1A_IW_20181006T235540_DVP_RTC30_G_gpufem_C8B5_VH.tif'),\n",
       " PosixPath('Dataset/Tripura/RTC_GAMMA/S1A_IW_20181006T235540_DVP_RTC30_G_gpufem_C8B5/S1A_IW_20181006T235540_DVP_RTC30_G_gpufem_C8B5_VV.tif'),\n",
       " PosixPath('Dataset/Tripura/RTC_GAMMA/S1A_IW_20180831T235539_DVP_RTC30_G_gpufem_6154/S1A_IW_20180831T235539_DVP_RTC30_G_gpufem_6154_VH.tif'),\n",
       " PosixPath('Dataset/Tripura/RTC_GAMMA/S1A_IW_20180831T235539_DVP_RTC30_G_gpufem_6154/S1A_IW_20180831T235539_DVP_RTC30_G_gpufem_6154_VV.tif'),\n",
       " PosixPath('Dataset/Tripura/RTC_GAMMA/S1A_IW_20181123T235540_DVP_RTC30_G_gpufem_488B/S1A_IW_20181123T235540_DVP_RTC30_G_gpufem_488B_VV.tif'),\n",
       " PosixPath('Dataset/Tripura/RTC_GAMMA/S1A_IW_20181123T235540_DVP_RTC30_G_gpufem_488B/S1A_IW_20181123T235540_DVP_RTC30_G_gpufem_488B_VH.tif'),\n",
       " PosixPath('Dataset/Tripura/RTC_GAMMA/S1A_IW_20181030T235540_DVP_RTC30_G_gpufem_D12E/S1A_IW_20181030T235540_DVP_RTC30_G_gpufem_D12E_VV.tif'),\n",
       " PosixPath('Dataset/Tripura/RTC_GAMMA/S1A_IW_20181030T235540_DVP_RTC30_G_gpufem_D12E/S1A_IW_20181030T235540_DVP_RTC30_G_gpufem_D12E_VH.tif'),\n",
       " PosixPath('Dataset/Tripura/RTC_GAMMA/S1A_IW_20180103T235531_DVP_RTC30_G_gpufem_31C0/S1A_IW_20180103T235531_DVP_RTC30_G_gpufem_31C0_VV.tif'),\n",
       " PosixPath('Dataset/Tripura/RTC_GAMMA/S1A_IW_20180103T235531_DVP_RTC30_G_gpufem_31C0/S1A_IW_20180103T235531_DVP_RTC30_G_gpufem_31C0_VH.tif'),\n",
       " PosixPath('Dataset/Tripura/RTC_GAMMA/S1A_IW_20190615T235540_DVP_RTC30_G_gpufem_B3E2/S1A_IW_20190615T235540_DVP_RTC30_G_gpufem_B3E2_VV.tif'),\n",
       " PosixPath('Dataset/Tripura/RTC_GAMMA/S1A_IW_20190615T235540_DVP_RTC30_G_gpufem_B3E2/S1A_IW_20190615T235540_DVP_RTC30_G_gpufem_B3E2_VH.tif'),\n",
       " PosixPath('Dataset/Tripura/RTC_GAMMA/S1A_IW_20190721T235543_DVP_RTC30_G_gpufem_4653/S1A_IW_20190721T235543_DVP_RTC30_G_gpufem_4653_VH.tif'),\n",
       " PosixPath('Dataset/Tripura/RTC_GAMMA/S1A_IW_20190721T235543_DVP_RTC30_G_gpufem_4653/S1A_IW_20190721T235543_DVP_RTC30_G_gpufem_4653_VV.tif'),\n",
       " PosixPath('Dataset/Tripura/RTC_GAMMA/S1A_IW_20180807T235538_DVP_RTC30_G_gpufem_ED14/S1A_IW_20180807T235538_DVP_RTC30_G_gpufem_ED14_VH.tif'),\n",
       " PosixPath('Dataset/Tripura/RTC_GAMMA/S1A_IW_20180807T235538_DVP_RTC30_G_gpufem_ED14/S1A_IW_20180807T235538_DVP_RTC30_G_gpufem_ED14_VV.tif'),\n",
       " PosixPath('Dataset/Tripura/RTC_GAMMA/S1A_IW_20190416T235538_DVP_RTC30_G_gpufem_979C/S1A_IW_20190416T235538_DVP_RTC30_G_gpufem_979C_VV.tif'),\n",
       " PosixPath('Dataset/Tripura/RTC_GAMMA/S1A_IW_20190416T235538_DVP_RTC30_G_gpufem_979C/S1A_IW_20190416T235538_DVP_RTC30_G_gpufem_979C_VH.tif'),\n",
       " PosixPath('Dataset/Tripura/RTC_GAMMA/S1A_IW_20180515T235533_DVP_RTC30_G_gpufem_7E28/S1A_IW_20180515T235533_DVP_RTC30_G_gpufem_7E28_VV.tif'),\n",
       " PosixPath('Dataset/Tripura/RTC_GAMMA/S1A_IW_20180515T235533_DVP_RTC30_G_gpufem_7E28/S1A_IW_20180515T235533_DVP_RTC30_G_gpufem_7E28_VH.tif'),\n",
       " PosixPath('Dataset/Tripura/RTC_GAMMA/S1A_IW_20171222T235532_DVP_RTC30_G_gpufem_E7A6/S1A_IW_20171222T235532_DVP_RTC30_G_gpufem_E7A6_VV.tif'),\n",
       " PosixPath('Dataset/Tripura/RTC_GAMMA/S1A_IW_20171222T235532_DVP_RTC30_G_gpufem_E7A6/S1A_IW_20171222T235532_DVP_RTC30_G_gpufem_E7A6_VH.tif'),\n",
       " PosixPath('Dataset/Tripura/RTC_GAMMA/S1A_IW_20191118T235546_DVP_RTC30_G_gpufem_7D3E/S1A_IW_20191118T235546_DVP_RTC30_G_gpufem_7D3E_VH.tif'),\n",
       " PosixPath('Dataset/Tripura/RTC_GAMMA/S1A_IW_20191118T235546_DVP_RTC30_G_gpufem_7D3E/S1A_IW_20191118T235546_DVP_RTC30_G_gpufem_7D3E_VV.tif'),\n",
       " PosixPath('Dataset/Tripura/RTC_GAMMA/S1A_IW_20190603T235540_DVP_RTC30_G_gpufem_098F/S1A_IW_20190603T235540_DVP_RTC30_G_gpufem_098F_VH.tif'),\n",
       " PosixPath('Dataset/Tripura/RTC_GAMMA/S1A_IW_20190603T235540_DVP_RTC30_G_gpufem_098F/S1A_IW_20190603T235540_DVP_RTC30_G_gpufem_098F_VV.tif'),\n",
       " PosixPath('Dataset/Tripura/RTC_GAMMA/S1A_IW_20190203T235537_DVP_RTC30_G_gpufem_476E/S1A_IW_20190203T235537_DVP_RTC30_G_gpufem_476E_VV.tif'),\n",
       " PosixPath('Dataset/Tripura/RTC_GAMMA/S1A_IW_20190203T235537_DVP_RTC30_G_gpufem_476E/S1A_IW_20190203T235537_DVP_RTC30_G_gpufem_476E_VH.tif'),\n",
       " PosixPath('Dataset/Tripura/RTC_GAMMA/S1A_IW_20191013T235547_DVP_RTC30_G_gpufem_9878/S1A_IW_20191013T235547_DVP_RTC30_G_gpufem_9878_VV.tif'),\n",
       " PosixPath('Dataset/Tripura/RTC_GAMMA/S1A_IW_20191013T235547_DVP_RTC30_G_gpufem_9878/S1A_IW_20191013T235547_DVP_RTC30_G_gpufem_9878_VH.tif'),\n",
       " PosixPath('Dataset/Tripura/RTC_GAMMA/S1A_IW_20180924T235540_DVP_RTC30_G_gpufem_3FDD/S1A_IW_20180924T235540_DVP_RTC30_G_gpufem_3FDD_VV.tif'),\n",
       " PosixPath('Dataset/Tripura/RTC_GAMMA/S1A_IW_20180924T235540_DVP_RTC30_G_gpufem_3FDD/S1A_IW_20180924T235540_DVP_RTC30_G_gpufem_3FDD_VH.tif'),\n",
       " PosixPath('Dataset/Tripura/RTC_GAMMA/S1A_IW_20180912T235540_DVP_RTC30_G_gpufem_F5A0/S1A_IW_20180912T235540_DVP_RTC30_G_gpufem_F5A0_VV.tif'),\n",
       " PosixPath('Dataset/Tripura/RTC_GAMMA/S1A_IW_20180912T235540_DVP_RTC30_G_gpufem_F5A0/S1A_IW_20180912T235540_DVP_RTC30_G_gpufem_F5A0_VH.tif'),\n",
       " PosixPath('Dataset/Tripura/RTC_GAMMA/S1A_IW_20180608T235534_DVP_RTC30_G_gpufem_7207/S1A_IW_20180608T235534_DVP_RTC30_G_gpufem_7207_VV.tif'),\n",
       " PosixPath('Dataset/Tripura/RTC_GAMMA/S1A_IW_20180608T235534_DVP_RTC30_G_gpufem_7207/S1A_IW_20180608T235534_DVP_RTC30_G_gpufem_7207_VH.tif'),\n",
       " PosixPath('Dataset/Tripura/RTC_GAMMA/S1A_IW_20190110T235538_DVP_RTC30_G_gpufem_98BE/S1A_IW_20190110T235538_DVP_RTC30_G_gpufem_98BE_VV.tif'),\n",
       " PosixPath('Dataset/Tripura/RTC_GAMMA/S1A_IW_20190110T235538_DVP_RTC30_G_gpufem_98BE/S1A_IW_20190110T235538_DVP_RTC30_G_gpufem_98BE_VH.tif'),\n",
       " PosixPath('Dataset/Tripura/RTC_GAMMA/S1A_IW_20171128T235533_DVP_RTC30_G_gpufem_06F8/S1A_IW_20171128T235533_DVP_RTC30_G_gpufem_06F8_VV.tif'),\n",
       " PosixPath('Dataset/Tripura/RTC_GAMMA/S1A_IW_20171128T235533_DVP_RTC30_G_gpufem_06F8/S1A_IW_20171128T235533_DVP_RTC30_G_gpufem_06F8_VH.tif'),\n",
       " PosixPath('Dataset/Tripura/RTC_GAMMA/S1A_IW_20191212T235546_DVP_RTC30_G_gpufem_663B/S1A_IW_20191212T235546_DVP_RTC30_G_gpufem_663B_VH.tif'),\n",
       " PosixPath('Dataset/Tripura/RTC_GAMMA/S1A_IW_20191212T235546_DVP_RTC30_G_gpufem_663B/S1A_IW_20191212T235546_DVP_RTC30_G_gpufem_663B_VV.tif'),\n",
       " PosixPath('Dataset/Tripura/RTC_GAMMA/S1A_IW_20191025T235547_DVP_RTC30_G_gpufem_D0BC/S1A_IW_20191025T235547_DVP_RTC30_G_gpufem_D0BC_VV.tif'),\n",
       " PosixPath('Dataset/Tripura/RTC_GAMMA/S1A_IW_20191025T235547_DVP_RTC30_G_gpufem_D0BC/S1A_IW_20191025T235547_DVP_RTC30_G_gpufem_D0BC_VH.tif'),\n",
       " PosixPath('Dataset/Tripura/RTC_GAMMA/S1A_IW_20180304T235530_DVP_RTC30_G_gpufem_7F99/S1A_IW_20180304T235530_DVP_RTC30_G_gpufem_7F99_VV.tif'),\n",
       " PosixPath('Dataset/Tripura/RTC_GAMMA/S1A_IW_20180304T235530_DVP_RTC30_G_gpufem_7F99/S1A_IW_20180304T235530_DVP_RTC30_G_gpufem_7F99_VH.tif'),\n",
       " PosixPath('Dataset/Tripura/RTC_GAMMA/S1A_IW_20190907T235546_DVP_RTC30_G_gpufem_183C/S1A_IW_20190907T235546_DVP_RTC30_G_gpufem_183C_VH.tif'),\n",
       " PosixPath('Dataset/Tripura/RTC_GAMMA/S1A_IW_20190907T235546_DVP_RTC30_G_gpufem_183C/S1A_IW_20190907T235546_DVP_RTC30_G_gpufem_183C_VV.tif'),\n",
       " PosixPath('Dataset/Tripura/RTC_GAMMA/S1A_IW_20180503T235532_DVP_RTC30_G_gpufem_CE6F/S1A_IW_20180503T235532_DVP_RTC30_G_gpufem_CE6F_VV.tif'),\n",
       " PosixPath('Dataset/Tripura/RTC_GAMMA/S1A_IW_20180503T235532_DVP_RTC30_G_gpufem_CE6F/S1A_IW_20180503T235532_DVP_RTC30_G_gpufem_CE6F_VH.tif'),\n",
       " PosixPath('Dataset/Tripura/RTC_GAMMA/S1A_IW_20181111T235540_DVP_RTC30_G_gpufem_6153/S1A_IW_20181111T235540_DVP_RTC30_G_gpufem_6153_VV.tif'),\n",
       " PosixPath('Dataset/Tripura/RTC_GAMMA/S1A_IW_20181111T235540_DVP_RTC30_G_gpufem_6153/S1A_IW_20181111T235540_DVP_RTC30_G_gpufem_6153_VH.tif'),\n",
       " PosixPath('Dataset/Tripura/RTC_GAMMA/S1A_IW_20190215T235537_DVP_RTC30_G_gpufem_ECE2/S1A_IW_20190215T235537_DVP_RTC30_G_gpufem_ECE2_VH.tif'),\n",
       " PosixPath('Dataset/Tripura/RTC_GAMMA/S1A_IW_20190215T235537_DVP_RTC30_G_gpufem_ECE2/S1A_IW_20190215T235537_DVP_RTC30_G_gpufem_ECE2_VV.tif'),\n",
       " PosixPath('Dataset/Tripura/RTC_GAMMA/S1A_IW_20171104T235534_DVP_RTC30_G_gpufem_A2FD/S1A_IW_20171104T235534_DVP_RTC30_G_gpufem_A2FD_VH.tif'),\n",
       " PosixPath('Dataset/Tripura/RTC_GAMMA/S1A_IW_20171104T235534_DVP_RTC30_G_gpufem_A2FD/S1A_IW_20171104T235534_DVP_RTC30_G_gpufem_A2FD_VV.tif'),\n",
       " PosixPath('Dataset/Tripura/RTC_GAMMA/S1A_IW_20190311T235537_DVP_RTC30_G_gpufem_C916/S1A_IW_20190311T235537_DVP_RTC30_G_gpufem_C916_VH.tif'),\n",
       " PosixPath('Dataset/Tripura/RTC_GAMMA/S1A_IW_20190311T235537_DVP_RTC30_G_gpufem_C916/S1A_IW_20190311T235537_DVP_RTC30_G_gpufem_C916_VV.tif'),\n",
       " PosixPath('Dataset/Tripura/RTC_GAMMA/S1A_IW_20190428T235538_DVP_RTC30_G_gpufem_5562/S1A_IW_20190428T235538_DVP_RTC30_G_gpufem_5562_VH.tif'),\n",
       " PosixPath('Dataset/Tripura/RTC_GAMMA/S1A_IW_20190428T235538_DVP_RTC30_G_gpufem_5562/S1A_IW_20190428T235538_DVP_RTC30_G_gpufem_5562_VV.tif'),\n",
       " PosixPath('Dataset/Tripura/RTC_GAMMA/S1A_IW_20190627T235541_DVP_RTC30_G_gpufem_1281/S1A_IW_20190627T235541_DVP_RTC30_G_gpufem_1281_VH.tif'),\n",
       " PosixPath('Dataset/Tripura/RTC_GAMMA/S1A_IW_20190627T235541_DVP_RTC30_G_gpufem_1281/S1A_IW_20190627T235541_DVP_RTC30_G_gpufem_1281_VV.tif'),\n",
       " PosixPath('Dataset/Tripura/RTC_GAMMA/S1A_IW_20180409T235531_DVP_RTC30_G_gpufem_A225/S1A_IW_20180409T235531_DVP_RTC30_G_gpufem_A225_VV.tif'),\n",
       " PosixPath('Dataset/Tripura/RTC_GAMMA/S1A_IW_20180409T235531_DVP_RTC30_G_gpufem_A225/S1A_IW_20180409T235531_DVP_RTC30_G_gpufem_A225_VH.tif'),\n",
       " PosixPath('Dataset/Tripura/RTC_GAMMA/S1A_IW_20180220T235530_DVP_RTC30_G_gpufem_7CEE/S1A_IW_20180220T235530_DVP_RTC30_G_gpufem_7CEE_VH.tif'),\n",
       " PosixPath('Dataset/Tripura/RTC_GAMMA/S1A_IW_20180220T235530_DVP_RTC30_G_gpufem_7CEE/S1A_IW_20180220T235530_DVP_RTC30_G_gpufem_7CEE_VV.tif'),\n",
       " PosixPath('Dataset/Tripura/RTC_GAMMA/S1A_IW_20190404T235537_DVP_RTC30_G_gpufem_D032/S1A_IW_20190404T235537_DVP_RTC30_G_gpufem_D032_VH.tif'),\n",
       " PosixPath('Dataset/Tripura/RTC_GAMMA/S1A_IW_20190404T235537_DVP_RTC30_G_gpufem_D032/S1A_IW_20190404T235537_DVP_RTC30_G_gpufem_D032_VV.tif'),\n",
       " PosixPath('Dataset/Tripura/RTC_GAMMA/S1A_IW_20190323T235537_DVP_RTC30_G_gpufem_7A43/S1A_IW_20190323T235537_DVP_RTC30_G_gpufem_7A43_VH.tif'),\n",
       " PosixPath('Dataset/Tripura/RTC_GAMMA/S1A_IW_20190323T235537_DVP_RTC30_G_gpufem_7A43/S1A_IW_20190323T235537_DVP_RTC30_G_gpufem_7A43_VV.tif'),\n",
       " PosixPath('Dataset/Tripura/RTC_GAMMA/S1A_IW_20191130T235546_DVP_RTC30_G_gpufem_76E8/S1A_IW_20191130T235546_DVP_RTC30_G_gpufem_76E8_VH.tif'),\n",
       " PosixPath('Dataset/Tripura/RTC_GAMMA/S1A_IW_20191130T235546_DVP_RTC30_G_gpufem_76E8/S1A_IW_20191130T235546_DVP_RTC30_G_gpufem_76E8_VV.tif')]"
      ]
     },
     "execution_count": 42,
     "metadata": {},
     "output_type": "execute_result"
    }
   ],
   "source": [
    "product_paths\n"
   ]
  },
  {
   "cell_type": "code",
   "execution_count": 43,
   "metadata": {},
   "outputs": [],
   "source": [
    "if not autorift:\n",
    "    for tiff in product_paths:\n",
    "        tiff.rename(f\"{output_dir_path_tiffs}/{tiff.name}\")\n",
    "    \n",
    "    # Save the merged DEM\n",
    "    # Define the output file path and metadata\n",
    "    output_file = f\"{output_dir_path_dem}/{name}_merged.tif\"\n",
    "    output_meta = dataset.meta.copy()\n",
    "    output_meta.update({'driver': 'GTiff', 'height': merged.shape[1], 'width': merged.shape[2], 'transform': out_transform})\n",
    "    # Write the merged DEM to the output file\n",
    "    with rasterio.open(output_file, 'w', **output_meta) as dst:\n",
    "        dst.write(merged)\n",
    "    # Close all the opened datasets\n",
    "    for dataset in datasets:\n",
    "        dataset.close()\n",
    "\n",
    "    if save_or_del.value == 'delete':\n",
    "        shutil.rmtree(products_path)\n",
    "    product_paths = get_product_paths(regex, product_pth)"
   ]
  },
  {
   "cell_type": "markdown",
   "metadata": {},
   "source": [
    "**Print the path where you saved your tiffs or NetCDFs.**"
   ]
  },
  {
   "cell_type": "code",
   "execution_count": 44,
   "metadata": {},
   "outputs": [
    {
     "name": "stdout",
     "output_type": "stream",
     "text": [
      "/home/jovyan/Hydrosar/Dataset/Tripura/RTC_GAMMA_Tripura_tiffs\n"
     ]
    }
   ],
   "source": [
    "if rtc or insar:\n",
    "    print(str(output_dir_path_tiffs))\n",
    "elif autorift:\n",
    "    print(str(products_path))"
   ]
  },
  {
   "cell_type": "markdown",
   "metadata": {
    "pycharm": {
     "name": "#%% md\n"
    }
   },
   "source": [
    "*Prepare_RTC_Stack_HyP3_v2.ipynb - Version 2.0.2 - June 2023*\n",
    "\n",
    "*Version Changes:*\n",
    "- *added dems migration to a folder to be used in HAND*\n",
    "- *fix breaking projectless jobs downloading*"
   ]
  },
  {
   "cell_type": "code",
   "execution_count": 34,
   "metadata": {},
   "outputs": [
    {
     "data": {
      "text/plain": [
       "<matplotlib.image.AxesImage at 0x7fdabb3b23a0>"
      ]
     },
     "execution_count": 34,
     "metadata": {},
     "output_type": "execute_result"
    },
    {
     "data": {
      "image/png": "[encoded data removed]",
      "text/plain": [
       "<Figure size 2000x2000 with 1 Axes>"
      ]
     },
     "metadata": {},
     "output_type": "display_data"
    }
   ],
   "source": [
    "import matplotlib.pyplot as plt\n",
    "import xarray as xr\n",
    "import numpy as np\n",
    "\n",
    "ar = xr.open_dataset('Dataset/Tripura/Center/Water_Masks/20171011_VV_water_mask.tiff').band_data.values[0]\n",
    "plt.figure(figsize=(20,20))\n",
    "plt.imshow(ar, vmin = 0, vmax = 1, cmap = 'Blues', interpolation = None)"
   ]
  },
  {
   "cell_type": "code",
   "execution_count": 8,
   "metadata": {},
   "outputs": [
    {
     "data": {
      "text/html": [
       "<div><svg style=\"position: absolute; width: 0; height: 0; overflow: hidden\">\n",
       "<defs>\n",
       "<symbol id=\"icon-database\" viewBox=\"0 0 32 32\">\n",
       "<path d=\"M16 0c-8.837 0-16 2.239-16 5v4c0 2.761 7.163 5 16 5s16-2.239 16-5v-4c0-2.761-7.163-5-16-5z\"></path>\n",
       "<path d=\"M16 17c-8.837 0-16-2.239-16-5v6c0 2.761 7.163 5 16 5s16-2.239 16-5v-6c0 2.761-7.163 5-16 5z\"></path>\n",
       "<path d=\"M16 26c-8.837 0-16-2.239-16-5v6c0 2.761 7.163 5 16 5s16-2.239 16-5v-6c0 2.761-7.163 5-16 5z\"></path>\n",
       "</symbol>\n",
       "<symbol id=\"icon-file-text2\" viewBox=\"0 0 32 32\">\n",
       "<path d=\"M28.681 7.159c-0.694-0.947-1.662-2.053-2.724-3.116s-2.169-2.030-3.116-2.724c-1.612-1.182-2.393-1.319-2.841-1.319h-15.5c-1.378 0-2.5 1.121-2.5 2.5v27c0 1.378 1.122 2.5 2.5 2.5h23c1.378 0 2.5-1.122 2.5-2.5v-19.5c0-0.448-0.137-1.23-1.319-2.841zM24.543 5.457c0.959 0.959 1.712 1.825 2.268 2.543h-4.811v-4.811c0.718 0.556 1.584 1.309 2.543 2.268zM28 29.5c0 0.271-0.229 0.5-0.5 0.5h-23c-0.271 0-0.5-0.229-0.5-0.5v-27c0-0.271 0.229-0.5 0.5-0.5 0 0 15.499-0 15.5 0v7c0 0.552 0.448 1 1 1h7v19.5z\"></path>\n",
       "<path d=\"M23 26h-14c-0.552 0-1-0.448-1-1s0.448-1 1-1h14c0.552 0 1 0.448 1 1s-0.448 1-1 1z\"></path>\n",
       "<path d=\"M23 22h-14c-0.552 0-1-0.448-1-1s0.448-1 1-1h14c0.552 0 1 0.448 1 1s-0.448 1-1 1z\"></path>\n",
       "<path d=\"M23 18h-14c-0.552 0-1-0.448-1-1s0.448-1 1-1h14c0.552 0 1 0.448 1 1s-0.448 1-1 1z\"></path>\n",
       "</symbol>\n",
       "</defs>\n",
       "</svg>\n",
       "<style>/* CSS stylesheet for displaying xarray objects in jupyterlab.\n",
       " *\n",
       " */\n",
       "\n",
       ":root {\n",
       "  --xr-font-color0: var(--jp-content-font-color0, rgba(0, 0, 0, 1));\n",
       "  --xr-font-color2: var(--jp-content-font-color2, rgba(0, 0, 0, 0.54));\n",
       "  --xr-font-color3: var(--jp-content-font-color3, rgba(0, 0, 0, 0.38));\n",
       "  --xr-border-color: var(--jp-border-color2, #e0e0e0);\n",
       "  --xr-disabled-color: var(--jp-layout-color3, #bdbdbd);\n",
       "  --xr-background-color: var(--jp-layout-color0, white);\n",
       "  --xr-background-color-row-even: var(--jp-layout-color1, white);\n",
       "  --xr-background-color-row-odd: var(--jp-layout-color2, #eeeeee);\n",
       "}\n",
       "\n",
       "html[theme=dark],\n",
       "body[data-theme=dark],\n",
       "body.vscode-dark {\n",
       "  --xr-font-color0: rgba(255, 255, 255, 1);\n",
       "  --xr-font-color2: rgba(255, 255, 255, 0.54);\n",
       "  --xr-font-color3: rgba(255, 255, 255, 0.38);\n",
       "  --xr-border-color: #1F1F1F;\n",
       "  --xr-disabled-color: #515151;\n",
       "  --xr-background-color: #111111;\n",
       "  --xr-background-color-row-even: #111111;\n",
       "  --xr-background-color-row-odd: #313131;\n",
       "}\n",
       "\n",
       ".xr-wrap {\n",
       "  display: block !important;\n",
       "  min-width: 300px;\n",
       "  max-width: 700px;\n",
       "}\n",
       "\n",
       ".xr-text-repr-fallback {\n",
       "  /* fallback to plain text repr when CSS is not injected (untrusted notebook) */\n",
       "  display: none;\n",
       "}\n",
       "\n",
       ".xr-header {\n",
       "  padding-top: 6px;\n",
       "  padding-bottom: 6px;\n",
       "  margin-bottom: 4px;\n",
       "  border-bottom: solid 1px var(--xr-border-color);\n",
       "}\n",
       "\n",
       ".xr-header > div,\n",
       ".xr-header > ul {\n",
       "  display: inline;\n",
       "  margin-top: 0;\n",
       "  margin-bottom: 0;\n",
       "}\n",
       "\n",
       ".xr-obj-type,\n",
       ".xr-array-name {\n",
       "  margin-left: 2px;\n",
       "  margin-right: 10px;\n",
       "}\n",
       "\n",
       ".xr-obj-type {\n",
       "  color: var(--xr-font-color2);\n",
       "}\n",
       "\n",
       ".xr-sections {\n",
       "  padding-left: 0 !important;\n",
       "  display: grid;\n",
       "  grid-template-columns: 150px auto auto 1fr 20px 20px;\n",
       "}\n",
       "\n",
       ".xr-section-item {\n",
       "  display: contents;\n",
       "}\n",
       "\n",
       ".xr-section-item input {\n",
       "  display: none;\n",
       "}\n",
       "\n",
       ".xr-section-item input + label {\n",
       "  color: var(--xr-disabled-color);\n",
       "}\n",
       "\n",
       ".xr-section-item input:enabled + label {\n",
       "  cursor: pointer;\n",
       "  color: var(--xr-font-color2);\n",
       "}\n",
       "\n",
       ".xr-section-item input:enabled + label:hover {\n",
       "  color: var(--xr-font-color0);\n",
       "}\n",
       "\n",
       ".xr-section-summary {\n",
       "  grid-column: 1;\n",
       "  color: var(--xr-font-color2);\n",
       "  font-weight: 500;\n",
       "}\n",
       "\n",
       ".xr-section-summary > span {\n",
       "  display: inline-block;\n",
       "  padding-left: 0.5em;\n",
       "}\n",
       "\n",
       ".xr-section-summary-in:disabled + label {\n",
       "  color: var(--xr-font-color2);\n",
       "}\n",
       "\n",
       ".xr-section-summary-in + label:before {\n",
       "  display: inline-block;\n",
       "  content: '►';\n",
       "  font-size: 11px;\n",
       "  width: 15px;\n",
       "  text-align: center;\n",
       "}\n",
       "\n",
       ".xr-section-summary-in:disabled + label:before {\n",
       "  color: var(--xr-disabled-color);\n",
       "}\n",
       "\n",
       ".xr-section-summary-in:checked + label:before {\n",
       "  content: '▼';\n",
       "}\n",
       "\n",
       ".xr-section-summary-in:checked + label > span {\n",
       "  display: none;\n",
       "}\n",
       "\n",
       ".xr-section-summary,\n",
       ".xr-section-inline-details {\n",
       "  padding-top: 4px;\n",
       "  padding-bottom: 4px;\n",
       "}\n",
       "\n",
       ".xr-section-inline-details {\n",
       "  grid-column: 2 / -1;\n",
       "}\n",
       "\n",
       ".xr-section-details {\n",
       "  display: none;\n",
       "  grid-column: 1 / -1;\n",
       "  margin-bottom: 5px;\n",
       "}\n",
       "\n",
       ".xr-section-summary-in:checked ~ .xr-section-details {\n",
       "  display: contents;\n",
       "}\n",
       "\n",
       ".xr-array-wrap {\n",
       "  grid-column: 1 / -1;\n",
       "  display: grid;\n",
       "  grid-template-columns: 20px auto;\n",
       "}\n",
       "\n",
       ".xr-array-wrap > label {\n",
       "  grid-column: 1;\n",
       "  vertical-align: top;\n",
       "}\n",
       "\n",
       ".xr-preview {\n",
       "  color: var(--xr-font-color3);\n",
       "}\n",
       "\n",
       ".xr-array-preview,\n",
       ".xr-array-data {\n",
       "  padding: 0 5px !important;\n",
       "  grid-column: 2;\n",
       "}\n",
       "\n",
       ".xr-array-data,\n",
       ".xr-array-in:checked ~ .xr-array-preview {\n",
       "  display: none;\n",
       "}\n",
       "\n",
       ".xr-array-in:checked ~ .xr-array-data,\n",
       ".xr-array-preview {\n",
       "  display: inline-block;\n",
       "}\n",
       "\n",
       ".xr-dim-list {\n",
       "  display: inline-block !important;\n",
       "  list-style: none;\n",
       "  padding: 0 !important;\n",
       "  margin: 0;\n",
       "}\n",
       "\n",
       ".xr-dim-list li {\n",
       "  display: inline-block;\n",
       "  padding: 0;\n",
       "  margin: 0;\n",
       "}\n",
       "\n",
       ".xr-dim-list:before {\n",
       "  content: '(';\n",
       "}\n",
       "\n",
       ".xr-dim-list:after {\n",
       "  content: ')';\n",
       "}\n",
       "\n",
       ".xr-dim-list li:not(:last-child):after {\n",
       "  content: ',';\n",
       "  padding-right: 5px;\n",
       "}\n",
       "\n",
       ".xr-has-index {\n",
       "  font-weight: bold;\n",
       "}\n",
       "\n",
       ".xr-var-list,\n",
       ".xr-var-item {\n",
       "  display: contents;\n",
       "}\n",
       "\n",
       ".xr-var-item > div,\n",
       ".xr-var-item label,\n",
       ".xr-var-item > .xr-var-name span {\n",
       "  background-color: var(--xr-background-color-row-even);\n",
       "  margin-bottom: 0;\n",
       "}\n",
       "\n",
       ".xr-var-item > .xr-var-name:hover span {\n",
       "  padding-right: 5px;\n",
       "}\n",
       "\n",
       ".xr-var-list > li:nth-child(odd) > div,\n",
       ".xr-var-list > li:nth-child(odd) > label,\n",
       ".xr-var-list > li:nth-child(odd) > .xr-var-name span {\n",
       "  background-color: var(--xr-background-color-row-odd);\n",
       "}\n",
       "\n",
       ".xr-var-name {\n",
       "  grid-column: 1;\n",
       "}\n",
       "\n",
       ".xr-var-dims {\n",
       "  grid-column: 2;\n",
       "}\n",
       "\n",
       ".xr-var-dtype {\n",
       "  grid-column: 3;\n",
       "  text-align: right;\n",
       "  color: var(--xr-font-color2);\n",
       "}\n",
       "\n",
       ".xr-var-preview {\n",
       "  grid-column: 4;\n",
       "}\n",
       "\n",
       ".xr-index-preview {\n",
       "  grid-column: 2 / 5;\n",
       "  color: var(--xr-font-color2);\n",
       "}\n",
       "\n",
       ".xr-var-name,\n",
       ".xr-var-dims,\n",
       ".xr-var-dtype,\n",
       ".xr-preview,\n",
       ".xr-attrs dt {\n",
       "  white-space: nowrap;\n",
       "  overflow: hidden;\n",
       "  text-overflow: ellipsis;\n",
       "  padding-right: 10px;\n",
       "}\n",
       "\n",
       ".xr-var-name:hover,\n",
       ".xr-var-dims:hover,\n",
       ".xr-var-dtype:hover,\n",
       ".xr-attrs dt:hover {\n",
       "  overflow: visible;\n",
       "  width: auto;\n",
       "  z-index: 1;\n",
       "}\n",
       "\n",
       ".xr-var-attrs,\n",
       ".xr-var-data,\n",
       ".xr-index-data {\n",
       "  display: none;\n",
       "  background-color: var(--xr-background-color) !important;\n",
       "  padding-bottom: 5px !important;\n",
       "}\n",
       "\n",
       ".xr-var-attrs-in:checked ~ .xr-var-attrs,\n",
       ".xr-var-data-in:checked ~ .xr-var-data,\n",
       ".xr-index-data-in:checked ~ .xr-index-data {\n",
       "  display: block;\n",
       "}\n",
       "\n",
       ".xr-var-data > table {\n",
       "  float: right;\n",
       "}\n",
       "\n",
       ".xr-var-name span,\n",
       ".xr-var-data,\n",
       ".xr-index-name div,\n",
       ".xr-index-data,\n",
       ".xr-attrs {\n",
       "  padding-left: 25px !important;\n",
       "}\n",
       "\n",
       ".xr-attrs,\n",
       ".xr-var-attrs,\n",
       ".xr-var-data,\n",
       ".xr-index-data {\n",
       "  grid-column: 1 / -1;\n",
       "}\n",
       "\n",
       "dl.xr-attrs {\n",
       "  padding: 0;\n",
       "  margin: 0;\n",
       "  display: grid;\n",
       "  grid-template-columns: 125px auto;\n",
       "}\n",
       "\n",
       ".xr-attrs dt,\n",
       ".xr-attrs dd {\n",
       "  padding: 0;\n",
       "  margin: 0;\n",
       "  float: left;\n",
       "  padding-right: 10px;\n",
       "  width: auto;\n",
       "}\n",
       "\n",
       ".xr-attrs dt {\n",
       "  font-weight: normal;\n",
       "  grid-column: 1;\n",
       "}\n",
       "\n",
       ".xr-attrs dt:hover span {\n",
       "  display: inline-block;\n",
       "  background: var(--xr-background-color);\n",
       "  padding-right: 10px;\n",
       "}\n",
       "\n",
       ".xr-attrs dd {\n",
       "  grid-column: 2;\n",
       "  white-space: pre-wrap;\n",
       "  word-break: break-all;\n",
       "}\n",
       "\n",
       ".xr-icon-database,\n",
       ".xr-icon-file-text2,\n",
       ".xr-no-icon {\n",
       "  display: inline-block;\n",
       "  vertical-align: middle;\n",
       "  width: 1em;\n",
       "  height: 1.5em !important;\n",
       "  stroke-width: 0;\n",
       "  stroke: currentColor;\n",
       "  fill: currentColor;\n",
       "}\n",
       "</style><pre class='xr-text-repr-fallback'>&lt;xarray.Dataset&gt;\n",
       "Dimensions:      (band: 1, x: 9675, y: 7783)\n",
       "Coordinates:\n",
       "  * band         (band) int64 1\n",
       "  * x            (x) float64 5.686e+04 5.69e+04 ... 3.471e+05 3.471e+05\n",
       "  * y            (y) float64 2.825e+06 2.825e+06 ... 2.592e+06 2.592e+06\n",
       "    spatial_ref  int64 ...\n",
       "Data variables:\n",
       "    band_data    (band, y, x) float32 ...</pre><div class='xr-wrap' style='display:none'><div class='xr-header'><div class='xr-obj-type'>xarray.Dataset</div></div><ul class='xr-sections'><li class='xr-section-item'><input id='section-544bb9de-703c-4c70-8a41-2be727f52dd3' class='xr-section-summary-in' type='checkbox' disabled ><label for='section-544bb9de-703c-4c70-8a41-2be727f52dd3' class='xr-section-summary'  title='Expand/collapse section'>Dimensions:</label><div class='xr-section-inline-details'><ul class='xr-dim-list'><li><span class='xr-has-index'>band</span>: 1</li><li><span class='xr-has-index'>x</span>: 9675</li><li><span class='xr-has-index'>y</span>: 7783</li></ul></div><div class='xr-section-details'></div></li><li class='xr-section-item'><input id='section-b080a077-a37f-4fde-bebf-0ac5eb43ecd0' class='xr-section-summary-in' type='checkbox'  checked><label for='section-b080a077-a37f-4fde-bebf-0ac5eb43ecd0' class='xr-section-summary' >Coordinates: <span>(4)</span></label><div class='xr-section-inline-details'></div><div class='xr-section-details'><ul class='xr-var-list'><li class='xr-var-item'><div class='xr-var-name'><span class='xr-has-index'>band</span></div><div class='xr-var-dims'>(band)</div><div class='xr-var-dtype'>int64</div><div class='xr-var-preview xr-preview'>1</div><input id='attrs-bf87a458-5fe2-4c26-a0bf-676072ba320b' class='xr-var-attrs-in' type='checkbox' disabled><label for='attrs-bf87a458-5fe2-4c26-a0bf-676072ba320b' title='Show/Hide attributes'><svg class='icon xr-icon-file-text2'><use xlink:href='#icon-file-text2'></use></svg></label><input id='data-2ae094ce-b838-4b7b-bfe6-6568f2743ece' class='xr-var-data-in' type='checkbox'><label for='data-2ae094ce-b838-4b7b-bfe6-6568f2743ece' title='Show/Hide data repr'><svg class='icon xr-icon-database'><use xlink:href='#icon-database'></use></svg></label><div class='xr-var-attrs'><dl class='xr-attrs'></dl></div><div class='xr-var-data'><pre>array([1])</pre></div></li><li class='xr-var-item'><div class='xr-var-name'><span class='xr-has-index'>x</span></div><div class='xr-var-dims'>(x)</div><div class='xr-var-dtype'>float64</div><div class='xr-var-preview xr-preview'>5.686e+04 5.69e+04 ... 3.471e+05</div><input id='attrs-1f7ac3b5-3fa2-483e-8d36-b6ce61adb987' class='xr-var-attrs-in' type='checkbox' disabled><label for='attrs-1f7ac3b5-3fa2-483e-8d36-b6ce61adb987' title='Show/Hide attributes'><svg class='icon xr-icon-file-text2'><use xlink:href='#icon-file-text2'></use></svg></label><input id='data-c939f3a5-e1dd-4112-9070-203be9ae95d6' class='xr-var-data-in' type='checkbox'><label for='data-c939f3a5-e1dd-4112-9070-203be9ae95d6' title='Show/Hide data repr'><svg class='icon xr-icon-database'><use xlink:href='#icon-database'></use></svg></label><div class='xr-var-attrs'><dl class='xr-attrs'></dl></div><div class='xr-var-data'><pre>array([ 56865.,  56895.,  56925., ..., 347025., 347055., 347085.])</pre></div></li><li class='xr-var-item'><div class='xr-var-name'><span class='xr-has-index'>y</span></div><div class='xr-var-dims'>(y)</div><div class='xr-var-dtype'>float64</div><div class='xr-var-preview xr-preview'>2.825e+06 2.825e+06 ... 2.592e+06</div><input id='attrs-18fe7b96-4c58-4a5e-90ad-836e4365a42d' class='xr-var-attrs-in' type='checkbox' disabled><label for='attrs-18fe7b96-4c58-4a5e-90ad-836e4365a42d' title='Show/Hide attributes'><svg class='icon xr-icon-file-text2'><use xlink:href='#icon-file-text2'></use></svg></label><input id='data-56e3b9ce-9f9f-41c9-b720-74af7875fe16' class='xr-var-data-in' type='checkbox'><label for='data-56e3b9ce-9f9f-41c9-b720-74af7875fe16' title='Show/Hide data repr'><svg class='icon xr-icon-database'><use xlink:href='#icon-database'></use></svg></label><div class='xr-var-attrs'><dl class='xr-attrs'></dl></div><div class='xr-var-data'><pre>array([2825235., 2825205., 2825175., ..., 2591835., 2591805., 2591775.])</pre></div></li><li class='xr-var-item'><div class='xr-var-name'><span>spatial_ref</span></div><div class='xr-var-dims'>()</div><div class='xr-var-dtype'>int64</div><div class='xr-var-preview xr-preview'>...</div><input id='attrs-6266a930-e980-4cb6-a0ee-832259bdf446' class='xr-var-attrs-in' type='checkbox' ><label for='attrs-6266a930-e980-4cb6-a0ee-832259bdf446' title='Show/Hide attributes'><svg class='icon xr-icon-file-text2'><use xlink:href='#icon-file-text2'></use></svg></label><input id='data-d78ff56b-78e8-4546-8ac3-088fa572b4a7' class='xr-var-data-in' type='checkbox'><label for='data-d78ff56b-78e8-4546-8ac3-088fa572b4a7' title='Show/Hide data repr'><svg class='icon xr-icon-database'><use xlink:href='#icon-database'></use></svg></label><div class='xr-var-attrs'><dl class='xr-attrs'><dt><span>crs_wkt :</span></dt><dd>PROJCS[&quot;WGS 84 / UTM zone 46N&quot;,GEOGCS[&quot;WGS 84&quot;,DATUM[&quot;WGS_1984&quot;,SPHEROID[&quot;WGS 84&quot;,6378137,298.257223563,AUTHORITY[&quot;EPSG&quot;,&quot;7030&quot;]],AUTHORITY[&quot;EPSG&quot;,&quot;6326&quot;]],PRIMEM[&quot;Greenwich&quot;,0,AUTHORITY[&quot;EPSG&quot;,&quot;8901&quot;]],UNIT[&quot;degree&quot;,0.0174532925199433,AUTHORITY[&quot;EPSG&quot;,&quot;9122&quot;]],AUTHORITY[&quot;EPSG&quot;,&quot;4326&quot;]],PROJECTION[&quot;Transverse_Mercator&quot;],PARAMETER[&quot;latitude_of_origin&quot;,0],PARAMETER[&quot;central_meridian&quot;,93],PARAMETER[&quot;scale_factor&quot;,0.9996],PARAMETER[&quot;false_easting&quot;,500000],PARAMETER[&quot;false_northing&quot;,0],UNIT[&quot;metre&quot;,1,AUTHORITY[&quot;EPSG&quot;,&quot;9001&quot;]],AXIS[&quot;Easting&quot;,EAST],AXIS[&quot;Northing&quot;,NORTH],AUTHORITY[&quot;EPSG&quot;,&quot;32646&quot;]]</dd><dt><span>semi_major_axis :</span></dt><dd>6378137.0</dd><dt><span>semi_minor_axis :</span></dt><dd>6356752.314245179</dd><dt><span>inverse_flattening :</span></dt><dd>298.257223563</dd><dt><span>reference_ellipsoid_name :</span></dt><dd>WGS 84</dd><dt><span>longitude_of_prime_meridian :</span></dt><dd>0.0</dd><dt><span>prime_meridian_name :</span></dt><dd>Greenwich</dd><dt><span>geographic_crs_name :</span></dt><dd>WGS 84</dd><dt><span>horizontal_datum_name :</span></dt><dd>World Geodetic System 1984</dd><dt><span>projected_crs_name :</span></dt><dd>WGS 84 / UTM zone 46N</dd><dt><span>grid_mapping_name :</span></dt><dd>transverse_mercator</dd><dt><span>latitude_of_projection_origin :</span></dt><dd>0.0</dd><dt><span>longitude_of_central_meridian :</span></dt><dd>93.0</dd><dt><span>false_easting :</span></dt><dd>500000.0</dd><dt><span>false_northing :</span></dt><dd>0.0</dd><dt><span>scale_factor_at_central_meridian :</span></dt><dd>0.9996</dd><dt><span>spatial_ref :</span></dt><dd>PROJCS[&quot;WGS 84 / UTM zone 46N&quot;,GEOGCS[&quot;WGS 84&quot;,DATUM[&quot;WGS_1984&quot;,SPHEROID[&quot;WGS 84&quot;,6378137,298.257223563,AUTHORITY[&quot;EPSG&quot;,&quot;7030&quot;]],AUTHORITY[&quot;EPSG&quot;,&quot;6326&quot;]],PRIMEM[&quot;Greenwich&quot;,0,AUTHORITY[&quot;EPSG&quot;,&quot;8901&quot;]],UNIT[&quot;degree&quot;,0.0174532925199433,AUTHORITY[&quot;EPSG&quot;,&quot;9122&quot;]],AUTHORITY[&quot;EPSG&quot;,&quot;4326&quot;]],PROJECTION[&quot;Transverse_Mercator&quot;],PARAMETER[&quot;latitude_of_origin&quot;,0],PARAMETER[&quot;central_meridian&quot;,93],PARAMETER[&quot;scale_factor&quot;,0.9996],PARAMETER[&quot;false_easting&quot;,500000],PARAMETER[&quot;false_northing&quot;,0],UNIT[&quot;metre&quot;,1,AUTHORITY[&quot;EPSG&quot;,&quot;9001&quot;]],AXIS[&quot;Easting&quot;,EAST],AXIS[&quot;Northing&quot;,NORTH],AUTHORITY[&quot;EPSG&quot;,&quot;32646&quot;]]</dd><dt><span>GeoTransform :</span></dt><dd>56850.0 30.0 0.0 2825250.0 0.0 -30.0</dd></dl></div><div class='xr-var-data'><pre>[1 values with dtype=int64]</pre></div></li></ul></div></li><li class='xr-section-item'><input id='section-d17de7d7-cca9-4233-9c02-6bc99536b668' class='xr-section-summary-in' type='checkbox'  checked><label for='section-d17de7d7-cca9-4233-9c02-6bc99536b668' class='xr-section-summary' >Data variables: <span>(1)</span></label><div class='xr-section-inline-details'></div><div class='xr-section-details'><ul class='xr-var-list'><li class='xr-var-item'><div class='xr-var-name'><span>band_data</span></div><div class='xr-var-dims'>(band, y, x)</div><div class='xr-var-dtype'>float32</div><div class='xr-var-preview xr-preview'>...</div><input id='attrs-161887ee-f87f-4c3e-90e0-02e40549f3fd' class='xr-var-attrs-in' type='checkbox' ><label for='attrs-161887ee-f87f-4c3e-90e0-02e40549f3fd' title='Show/Hide attributes'><svg class='icon xr-icon-file-text2'><use xlink:href='#icon-file-text2'></use></svg></label><input id='data-4f802df1-a3a8-4fb9-8254-ceaeb2e914f3' class='xr-var-data-in' type='checkbox'><label for='data-4f802df1-a3a8-4fb9-8254-ceaeb2e914f3' title='Show/Hide data repr'><svg class='icon xr-icon-database'><use xlink:href='#icon-database'></use></svg></label><div class='xr-var-attrs'><dl class='xr-attrs'><dt><span>AREA_OR_POINT :</span></dt><dd>Point</dd><dt><span>TIFFTAG_DATETIME :</span></dt><dd>2023:07:28 20:44:32</dd><dt><span>TIFFTAG_SOFTWARE :</span></dt><dd>Created with GAMMA Software www.gamma-rs.ch data2geotiff v3.0</dd></dl></div><div class='xr-var-data'><pre>[75300525 values with dtype=float32]</pre></div></li></ul></div></li><li class='xr-section-item'><input id='section-29524fbd-bcb4-4005-8759-079a6399e551' class='xr-section-summary-in' type='checkbox'  ><label for='section-29524fbd-bcb4-4005-8759-079a6399e551' class='xr-section-summary' >Indexes: <span>(3)</span></label><div class='xr-section-inline-details'></div><div class='xr-section-details'><ul class='xr-var-list'><li class='xr-var-item'><div class='xr-index-name'><div>band</div></div><div class='xr-index-preview'>PandasIndex</div><div></div><input id='index-6127a42a-8549-435f-b088-03158ec395e0' class='xr-index-data-in' type='checkbox'/><label for='index-6127a42a-8549-435f-b088-03158ec395e0' title='Show/Hide index repr'><svg class='icon xr-icon-database'><use xlink:href='#icon-database'></use></svg></label><div class='xr-index-data'><pre>PandasIndex(Index([1], dtype=&#x27;int64&#x27;, name=&#x27;band&#x27;))</pre></div></li><li class='xr-var-item'><div class='xr-index-name'><div>x</div></div><div class='xr-index-preview'>PandasIndex</div><div></div><input id='index-2bbf0906-dc3b-444a-9ee0-6304434f4bb5' class='xr-index-data-in' type='checkbox'/><label for='index-2bbf0906-dc3b-444a-9ee0-6304434f4bb5' title='Show/Hide index repr'><svg class='icon xr-icon-database'><use xlink:href='#icon-database'></use></svg></label><div class='xr-index-data'><pre>PandasIndex(Index([ 56865.0,  56895.0,  56925.0,  56955.0,  56985.0,  57015.0,  57045.0,\n",
       "        57075.0,  57105.0,  57135.0,\n",
       "       ...\n",
       "       346815.0, 346845.0, 346875.0, 346905.0, 346935.0, 346965.0, 346995.0,\n",
       "       347025.0, 347055.0, 347085.0],\n",
       "      dtype=&#x27;float64&#x27;, name=&#x27;x&#x27;, length=9675))</pre></div></li><li class='xr-var-item'><div class='xr-index-name'><div>y</div></div><div class='xr-index-preview'>PandasIndex</div><div></div><input id='index-a812f527-6b74-4c1f-b317-0721f69e942b' class='xr-index-data-in' type='checkbox'/><label for='index-a812f527-6b74-4c1f-b317-0721f69e942b' title='Show/Hide index repr'><svg class='icon xr-icon-database'><use xlink:href='#icon-database'></use></svg></label><div class='xr-index-data'><pre>PandasIndex(Index([2825235.0, 2825205.0, 2825175.0, 2825145.0, 2825115.0, 2825085.0,\n",
       "       2825055.0, 2825025.0, 2824995.0, 2824965.0,\n",
       "       ...\n",
       "       2592045.0, 2592015.0, 2591985.0, 2591955.0, 2591925.0, 2591895.0,\n",
       "       2591865.0, 2591835.0, 2591805.0, 2591775.0],\n",
       "      dtype=&#x27;float64&#x27;, name=&#x27;y&#x27;, length=7783))</pre></div></li></ul></div></li><li class='xr-section-item'><input id='section-839d0304-9df7-4741-baab-325c55df1c70' class='xr-section-summary-in' type='checkbox' disabled ><label for='section-839d0304-9df7-4741-baab-325c55df1c70' class='xr-section-summary'  title='Expand/collapse section'>Attributes: <span>(0)</span></label><div class='xr-section-inline-details'></div><div class='xr-section-details'><dl class='xr-attrs'></dl></div></li></ul></div></div>"
      ],
      "text/plain": [
       "<xarray.Dataset>\n",
       "Dimensions:      (band: 1, x: 9675, y: 7783)\n",
       "Coordinates:\n",
       "  * band         (band) int64 1\n",
       "  * x            (x) float64 5.686e+04 5.69e+04 ... 3.471e+05 3.471e+05\n",
       "  * y            (y) float64 2.825e+06 2.825e+06 ... 2.592e+06 2.592e+06\n",
       "    spatial_ref  int64 ...\n",
       "Data variables:\n",
       "    band_data    (band, y, x) float32 ..."
      ]
     },
     "execution_count": 8,
     "metadata": {},
     "output_type": "execute_result"
    }
   ],
   "source": [
    "xr.open_dataset('Dataset/Tripura/RTC_GAMMA_Tripura_tiffs/S1A_IW_20171023T235534_DVP_RTC30_G_gpufem_32DC_VV.tif').band"
   ]
  },
  {
   "cell_type": "code",
   "execution_count": null,
   "metadata": {},
   "outputs": [],
   "source": []
  }
 ],
 "metadata": {
  "kernelspec": {
   "display_name": "rtc_analysis [conda env:.local-rtc_analysis]",
   "language": "python",
   "name": "conda-env-.local-rtc_analysis-py"
  },
  "language_info": {
   "codemirror_mode": {
    "name": "ipython",
    "version": 3
   },
   "file_extension": ".py",
   "mimetype": "text/x-python",
   "name": "python",
   "nbconvert_exporter": "python",
   "pygments_lexer": "ipython3",
   "version": "3.9.16"
  },
  "toc-autonumbering": true
 },
 "nbformat": 4,
 "nbformat_minor": 4
}
