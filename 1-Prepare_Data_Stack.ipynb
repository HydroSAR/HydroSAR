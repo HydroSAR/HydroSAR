{
 "cells": [
  {
   "cell_type": "markdown",
   "metadata": {},
   "source": [
    "![OpenSARlab notebook banner](NotebookAddons/blackboard-banner.png)\n",
    "\n",
    "# Prepare a SAR Data Stack\n",
    "### Joseph H Kennedy and Alex Lewandowski; Alaska Satellite Facility\n",
    "\n",
    "This notebook downloads an ASF-HyP3 RTC project and prepares a deep multi-temporal SAR image data stack for use in other notebooks.\n",
    "\n",
    "<img style=\"padding: 7px\" src=\"NotebookAddons/UAFLogo_A_647.png\" width=\"170\" align=\"right\"/></font>"
   ]
  },
  {
   "cell_type": "markdown",
   "metadata": {},
   "source": [
    "### Important Note about JupyterHub\n",
    "\n",
    "**Your JupyterHub server will automatically shutdown when left idle for more than 1 hour. Your notebooks will not be lost but you will have to restart their kernels and re-run them from the beginning. You will not be able to seamlessly continue running a partially run notebook.**"
   ]
  },
  {
   "cell_type": "code",
   "execution_count": 1,
   "metadata": {},
   "outputs": [
    {
     "data": {
      "application/vnd.jupyter.widget-view+json": {
       "model_id": "f1d6bb740372497d9a045268006d2e9d",
       "version_major": 2,
       "version_minor": 0
      },
      "text/plain": [
       "URLWidget()"
      ]
     },
     "metadata": {},
     "output_type": "display_data"
    }
   ],
   "source": [
    "import url_widget as url_w\n",
    "notebookUrl = url_w.URLWidget()\n",
    "display(notebookUrl)\n"
   ]
  },
  {
   "cell_type": "code",
   "execution_count": 2,
   "metadata": {
    "pycharm": {
     "name": "#%%\n"
    }
   },
   "outputs": [],
   "source": [
    "from IPython.display import Markdown\n",
    "from IPython.display import display\n",
    "\n",
    "notebookUrl = notebookUrl.value\n",
    "user = !echo $JUPYTERHUB_USER\n",
    "env = !echo $CONDA_PREFIX\n",
    "if env[0] == '':\n",
    "    env[0] = 'Python 3 (base)'\n",
    "if env[0] != '/home/jovyan/.local/envs/rtc_analysis':\n",
    "    display(Markdown(f'<text style=color:red><strong>WARNING:</strong></text>'))\n",
    "    display(Markdown(f'<text style=color:red>This notebook should be run using the \"rtc_analysis\" conda environment.</text>'))\n",
    "    display(Markdown(f'<text style=color:red>It is currently using the \"{env[0].split(\"/\")[-1]}\" environment.</text>'))\n",
    "    display(Markdown(f'<text style=color:red>Select the \"rtc_analysis\" from the \"Change Kernel\" submenu of the \"Kernel\" menu.</text>'))\n",
    "    display(Markdown(f'<text style=color:red>If the \"rtc_analysis\" environment is not present, use <a href=\"{notebookUrl.split(\"/user\")[0]}/user/{user[0]}/notebooks/conda_environments/Create_OSL_Conda_Environments.ipynb\"> Create_OSL_Conda_Environments.ipynb </a> to create it.</text>'))\n",
    "    display(Markdown(f'<text style=color:red>Note that you must restart your server after creating a new environment before it is usable by notebooks.</text>'))"
   ]
  },
  {
   "cell_type": "markdown",
   "metadata": {},
   "source": [
    "## 0. Importing Relevant Python Packages\n",
    "\n",
    "In this notebook we will use the following scientific libraries:\n",
    "\n",
    "1. [GDAL](https://www.gdal.org/) is a software library for reading and writing raster and vector geospatial data formats. It includes a collection of programs tailored for geospatial data processing. Most modern GIS systems (such as ArcGIS or QGIS) use GDAL in the background.\n",
    "1. [NumPy](http://www.numpy.org/) is one of the principal packages for scientific applications of Python. It is intended for processing large multidimensional arrays and matrices, and an extensive collection of high-level mathematical functions and implemented methods makes it possible to perform various operations with these objects.\n",
    "\n",
    "**Our first step is to import them:**"
   ]
  },
  {
   "cell_type": "code",
   "execution_count": 3,
   "metadata": {},
   "outputs": [],
   "source": [
    "%%capture\n",
    "import copy\n",
    "from datetime import datetime, timedelta, timezone\n",
    "import json # for loads\n",
    "from pathlib import Path\n",
    "import re\n",
    "import shutil\n",
    "import warnings\n",
    "import rasterio\n",
    "from rasterio.merge import merge\n",
    "\n",
    "from osgeo import gdal\n",
    "import numpy as np\n",
    "\n",
    "from IPython.display import display, clear_output, Markdown\n",
    "\n",
    "import opensarlab_lib as asfn\n",
    "\n",
    "from hyp3_sdk import Batch, HyP3"
   ]
  },
  {
   "cell_type": "markdown",
   "metadata": {},
   "source": [
    "## 1. Load Your Own Data Stack Into the Notebook\n",
    "\n",
    "This notebook assumes that you've created your own data stack over your personal area of interest using the [Alaska Satellite Facility's](https://www.asf.alaska.edu/) value-added product system HyP3, available via [ASF Data Search (Vertex)](https://search.asf.alaska.edu/#/). HyP3 is an ASF service used to prototype value added products and provide them to users to collect feedback.\n",
    "\n",
    "We will retrieve HyP3 data via the hyp3_sdk. As both HyP3 and the Notebook environment sit in the [Amazon Web Services (AWS)](https://aws.amazon.com/) cloud, data transfer is quick and cost effective.\n",
    "\n",
    "---\n",
    "\n",
    "Before we download anything, create a working directory for this analysis.\n",
    "\n",
    "**Select or create a working directory for the analysis:**"
   ]
  },
  {
   "cell_type": "code",
   "execution_count": 4,
   "metadata": {},
   "outputs": [
    {
     "name": "stdout",
     "output_type": "stream",
     "text": [
      "Current working directory: /home/jovyan/Hydrosar\n"
     ]
    },
    {
     "name": "stdin",
     "output_type": "stream",
     "text": [
      "\n",
      "Please enter the name of a directory in which to store your data for this analysis. Cambodia\n"
     ]
    },
    {
     "name": "stdout",
     "output_type": "stream",
     "text": [
      "\n",
      "********************** WARNING! **********************\n",
      "The directory /home/jovyan/Hydrosar/Dataset/Cambodia already exists and contains:\n",
      "• RTC_GAMMA\n",
      "\n",
      "\n",
      "[1] Delete old data and continue.\n",
      "[2] Save old data and add the data from this analysis to it.\n",
      "[3] Save old data and pick a different subdirectory name.\n"
     ]
    },
    {
     "name": "stdin",
     "output_type": "stream",
     "text": [
      "Select option 1, 2, or 3.\n",
      " 1\n"
     ]
    }
   ],
   "source": [
    "while True:\n",
    "    print(f\"Current working directory: {Path.cwd()}\")\n",
    "    data_dir = Path(Path.cwd()/'Dataset'/input(f\"\\nPlease enter the name of a directory in which to store your data for this analysis.\"))\n",
    "    if data_dir == Path('.'):\n",
    "        continue\n",
    "    if data_dir.is_dir():\n",
    "        contents = data_dir.glob('*')\n",
    "        if len(list(contents)) > 0:\n",
    "            choice = asfn.handle_old_data(data_dir)\n",
    "            if choice == 1:\n",
    "                if data_dir.exists():\n",
    "                    shutil.rmtree(data_dir)\n",
    "                data_dir.mkdir(parents=True, exist_ok=True)\n",
    "                break\n",
    "            elif choice == 2:\n",
    "                break\n",
    "            else:\n",
    "                clear_output()\n",
    "                continue\n",
    "        else:\n",
    "            break\n",
    "    else:\n",
    "        data_dir.mkdir(parents=True, exist_ok=True)\n",
    "        break"
   ]
  },
  {
   "cell_type": "markdown",
   "metadata": {
    "slideshow": {
     "slide_type": "subslide"
    }
   },
   "source": [
    "**Define absolute path to  analysis directory:**"
   ]
  },
  {
   "cell_type": "code",
   "execution_count": 5,
   "metadata": {},
   "outputs": [
    {
     "name": "stdout",
     "output_type": "stream",
     "text": [
      "analysis_directory: /home/jovyan/Hydrosar/Dataset/Cambodia\n"
     ]
    }
   ],
   "source": [
    "analysis_directory = Path.cwd().joinpath(data_dir)\n",
    "print(f\"analysis_directory: {analysis_directory}\")"
   ]
  },
  {
   "cell_type": "markdown",
   "metadata": {},
   "source": [
    "**Create a HyP3 object and authenticate:**"
   ]
  },
  {
   "cell_type": "code",
   "execution_count": 6,
   "metadata": {
    "scrolled": true
   },
   "outputs": [
    {
     "name": "stdin",
     "output_type": "stream",
     "text": [
      "NASA Earthdata Login username:  vdevauxchupin\n",
      "NASA Earthdata Login password:  ········\n"
     ]
    }
   ],
   "source": [
    "hyp3 = HyP3(prompt=True)"
   ]
  },
  {
   "cell_type": "markdown",
   "metadata": {},
   "source": [
    "**Select a product type to download:**"
   ]
  },
  {
   "cell_type": "code",
   "execution_count": 7,
   "metadata": {},
   "outputs": [
    {
     "data": {
      "application/vnd.jupyter.widget-view+json": {
       "model_id": "c1501d36986242fd9fa3032f545da830",
       "version_major": 2,
       "version_minor": 0
      },
      "text/plain": [
       "RadioButtons(layout=Layout(min_width='800px'), options=('RTC_GAMMA', 'INSAR_GAMMA', 'AUTORIFT'), value='RTC_GA…"
      ]
     },
     "metadata": {},
     "output_type": "display_data"
    }
   ],
   "source": [
    "job_types = ['RTC_GAMMA', 'INSAR_GAMMA', 'AUTORIFT']\n",
    "job_type = asfn.select_parameter(job_types)\n",
    "job_type"
   ]
  },
  {
   "cell_type": "markdown",
   "metadata": {},
   "source": [
    "**Decide whether to search for a HyP3 project or jobs unattached to a project:** "
   ]
  },
  {
   "cell_type": "code",
   "execution_count": 8,
   "metadata": {},
   "outputs": [
    {
     "name": "stdout",
     "output_type": "stream",
     "text": [
      "Select whether to search for HyP3 Project or HyP3 Jobs unattached to a project\n"
     ]
    },
    {
     "data": {
      "application/vnd.jupyter.widget-view+json": {
       "model_id": "311cd6b8fb894a458cd7fc63f5171d73",
       "version_major": 2,
       "version_minor": 0
      },
      "text/plain": [
       "RadioButtons(layout=Layout(min_width='800px'), options=('project', 'projectless jobs'), value='project')"
      ]
     },
     "metadata": {},
     "output_type": "display_data"
    }
   ],
   "source": [
    "options = ['project', 'projectless jobs']\n",
    "search_type = asfn.select_parameter(options, '')\n",
    "print(\"Select whether to search for HyP3 Project or HyP3 Jobs unattached to a project\")\n",
    "display(search_type)"
   ]
  },
  {
   "cell_type": "markdown",
   "metadata": {},
   "source": [
    "**List projects containing active products of the type chosen in the previous cell and select one:**"
   ]
  },
  {
   "cell_type": "code",
   "execution_count": 9,
   "metadata": {},
   "outputs": [
    {
     "data": {
      "text/markdown": [
       "<text style='color:darkred;'>Note: After selecting a project, you must select the next cell before hitting the 'Run' button or typing Shift/Enter.</text>"
      ],
      "text/plain": [
       "<IPython.core.display.Markdown object>"
      ]
     },
     "metadata": {},
     "output_type": "display_data"
    },
    {
     "data": {
      "text/markdown": [
       "<text style='color:darkred;'>Otherwise, you will rerun this code cell.</text>"
      ],
      "text/plain": [
       "<IPython.core.display.Markdown object>"
      ]
     },
     "metadata": {},
     "output_type": "display_data"
    },
    {
     "name": "stdout",
     "output_type": "stream",
     "text": [
      "\n",
      "Select a Project:\n"
     ]
    },
    {
     "data": {
      "application/vnd.jupyter.widget-view+json": {
       "model_id": "56713599c8104e57a563811fd8f8e042",
       "version_major": 2,
       "version_minor": 0
      },
      "text/plain": [
       "RadioButtons(layout=Layout(min_width='800px'), options=('15-06-23_Zone4', '2019_Kerala', 'ChauDoc', 'East_Indi…"
      ]
     },
     "metadata": {},
     "output_type": "display_data"
    }
   ],
   "source": [
    "my_hyp3_info = hyp3.my_info()\n",
    "active_projects = dict()\n",
    "\n",
    "if search_type.value == 'project':\n",
    "    for project in my_hyp3_info['job_names']:\n",
    "        batch = Batch()\n",
    "        batch = hyp3.find_jobs(name=project, job_type=job_type.value).filter_jobs(running=False, include_expired=False)\n",
    "        if len(batch) > 0:\n",
    "            active_projects.update({batch.jobs[0].name: batch})\n",
    "\n",
    "    if len(active_projects) > 0:\n",
    "        display(Markdown(\"<text style='color:darkred;'>Note: After selecting a project, you must select the next cell before hitting the 'Run' button or typing Shift/Enter.</text>\"))\n",
    "        display(Markdown(\"<text style='color:darkred;'>Otherwise, you will rerun this code cell.</text>\"))\n",
    "        print('\\nSelect a Project:')\n",
    "        project_select = asfn.select_parameter(active_projects.keys())\n",
    "        display(project_select)\n",
    "if search_type.value == 'projectless jobs' or len(active_projects) == 0:\n",
    "    project_select = False\n",
    "    if search_type.value == 'project':\n",
    "        print(f\"There were no {job_type.value} jobs found in any current projects.\\n\")\n",
    "    jobs = hyp3.find_jobs(job_type=job_type.value).filter_jobs(running=False, include_expired=False)\n",
    "    orphaned_jobs = Batch()\n",
    "    for j in jobs:\n",
    "        if not j.name:\n",
    "            orphaned_jobs += j\n",
    "    jobs = orphaned_jobs\n",
    "\n",
    "    if len(jobs) > 0:\n",
    "        print(f\"Found {len(jobs)} {job_type.value} jobs that are not part of a project.\")\n",
    "        print(f\"Select the jobs you wish to download\")\n",
    "        jobs = {i.files[0]['filename']: i for i in jobs}\n",
    "        jobs_select = asfn.select_mult_parameters(jobs.keys(), '', width='500px')\n",
    "        display(jobs_select)\n",
    "    else:\n",
    "        print(f\"There were no {job_type.value} jobs found that are not part of a project either.\")\n",
    "    "
   ]
  },
  {
   "cell_type": "markdown",
   "metadata": {},
   "source": [
    "**Select a date range of products to download:**"
   ]
  },
  {
   "cell_type": "code",
   "execution_count": 11,
   "metadata": {},
   "outputs": [
    {
     "data": {
      "text/markdown": [
       "<text style='color:darkred;'>Note: After selecting a date range, you should select the next cell before hitting the 'Run' button or typing Shift/Enter.</text>"
      ],
      "text/plain": [
       "<IPython.core.display.Markdown object>"
      ]
     },
     "metadata": {},
     "output_type": "display_data"
    },
    {
     "data": {
      "text/markdown": [
       "<text style='color:darkred;'>Otherwise, you may simply rerun this code cell.</text>"
      ],
      "text/plain": [
       "<IPython.core.display.Markdown object>"
      ]
     },
     "metadata": {},
     "output_type": "display_data"
    },
    {
     "name": "stdout",
     "output_type": "stream",
     "text": [
      "\n",
      "Select a Date Range:\n"
     ]
    },
    {
     "data": {
      "application/vnd.jupyter.widget-view+json": {
       "model_id": "256289e47fb240b1a24d9b0fec78c34d",
       "version_major": 2,
       "version_minor": 0
      },
      "text/plain": [
       "SelectionRangeSlider(description='Dates', index=(0, 2076), layout=Layout(width='500px'), options=((' 10/15/201…"
      ]
     },
     "metadata": {},
     "output_type": "display_data"
    }
   ],
   "source": [
    "if project_select:\n",
    "    batch = active_projects[project_select.value]\n",
    "else:\n",
    "    batch = Batch()\n",
    "    for j in jobs_select.value:\n",
    "        batch += jobs[j]\n",
    "\n",
    "display(Markdown(\"<text style='color:darkred;'>Note: After selecting a date range, you should select the next cell before hitting the 'Run' button or typing Shift/Enter.</text>\"))\n",
    "display(Markdown(\"<text style='color:darkred;'>Otherwise, you may simply rerun this code cell.</text>\"))\n",
    "print('\\nSelect a Date Range:')\n",
    "dates = asfn.get_job_dates(batch)\n",
    "date_picker = asfn.gui_date_picker(dates)\n",
    "date_picker"
   ]
  },
  {
   "cell_type": "markdown",
   "metadata": {},
   "source": [
    "**Save the selected date range and remove products falling outside of it:**"
   ]
  },
  {
   "cell_type": "code",
   "execution_count": 12,
   "metadata": {
    "scrolled": true
   },
   "outputs": [
    {
     "name": "stdout",
     "output_type": "stream",
     "text": [
      "Date Range: 2017-10-15 to 2023-06-22\n"
     ]
    }
   ],
   "source": [
    "date_range = asfn.get_slider_vals(date_picker)\n",
    "date_range[0] = date_range[0].date()\n",
    "date_range[1] = date_range[1].date()\n",
    "print(f\"Date Range: {str(date_range[0])} to {str(date_range[1])}\")\n",
    "batch = asfn.filter_jobs_by_date(batch, date_range)"
   ]
  },
  {
   "cell_type": "markdown",
   "metadata": {},
   "source": [
    "**Gather the available paths and orbit directions for the remaining products:**"
   ]
  },
  {
   "cell_type": "code",
   "execution_count": 13,
   "metadata": {},
   "outputs": [
    {
     "data": {
      "text/markdown": [
       "<text style='color:darkred;'><text style='font-size:150%;'>This may take some time for projects containing many jobs...</text></text>"
      ],
      "text/plain": [
       "<IPython.core.display.Markdown object>"
      ]
     },
     "metadata": {},
     "output_type": "display_data"
    },
    {
     "data": {
      "text/markdown": [
       "<text style=color:blue><text style='font-size:175%;'>Done.</text></text>"
      ],
      "text/plain": [
       "<IPython.core.display.Markdown object>"
      ]
     },
     "metadata": {},
     "output_type": "display_data"
    }
   ],
   "source": [
    "display(Markdown(\"<text style='color:darkred;'><text style='font-size:150%;'>This may take some time for projects containing many jobs...</text></text>\"))\n",
    "asfn.set_paths_orbits(batch)\n",
    "paths = set()\n",
    "orbit_directions = set()\n",
    "for p in batch:\n",
    "    paths.add(p.path)\n",
    "    orbit_directions.add(p.orbit_direction)\n",
    "paths.add('All Paths')\n",
    "display(Markdown(f\"<text style=color:blue><text style='font-size:175%;'>Done.</text></text>\"))"
   ]
  },
  {
   "cell_type": "markdown",
   "metadata": {},
   "source": [
    "---\n",
    "**Select a path or paths (use shift or ctrl to select multiple paths):**"
   ]
  },
  {
   "cell_type": "code",
   "execution_count": 14,
   "metadata": {},
   "outputs": [
    {
     "data": {
      "text/markdown": [
       "<text style='color:darkred;'>Note: After selecting a path, you must select the next cell before hitting the 'Run' button or typing Shift/Enter.</text>"
      ],
      "text/plain": [
       "<IPython.core.display.Markdown object>"
      ]
     },
     "metadata": {},
     "output_type": "display_data"
    },
    {
     "data": {
      "text/markdown": [
       "<text style='color:darkred;'>Otherwise, you will simply rerun this code cell.</text>"
      ],
      "text/plain": [
       "<IPython.core.display.Markdown object>"
      ]
     },
     "metadata": {},
     "output_type": "display_data"
    },
    {
     "name": "stdout",
     "output_type": "stream",
     "text": [
      "\n",
      "Select a Path:\n"
     ]
    },
    {
     "data": {
      "application/vnd.jupyter.widget-view+json": {
       "model_id": "bb5c2f195845436398714d98f43622d3",
       "version_major": 2,
       "version_minor": 0
      },
      "text/plain": [
       "SelectMultiple(layout=Layout(height='38px', width='175px'), options=(26, 'All Paths'), value=())"
      ]
     },
     "metadata": {},
     "output_type": "display_data"
    }
   ],
   "source": [
    "display(Markdown(\"<text style='color:darkred;'>Note: After selecting a path, you must select the next cell before hitting the 'Run' button or typing Shift/Enter.</text>\"))\n",
    "display(Markdown(\"<text style='color:darkred;'>Otherwise, you will simply rerun this code cell.</text>\"))\n",
    "print('\\nSelect a Path:')\n",
    "path_choice = asfn.select_mult_parameters(paths)\n",
    "path_choice"
   ]
  },
  {
   "cell_type": "markdown",
   "metadata": {},
   "source": [
    "**Save the selected flight path/s:**"
   ]
  },
  {
   "cell_type": "code",
   "execution_count": 15,
   "metadata": {},
   "outputs": [
    {
     "name": "stdout",
     "output_type": "stream",
     "text": [
      "Flight Path: (26,)\n"
     ]
    }
   ],
   "source": [
    "flight_path = path_choice.value\n",
    "if flight_path:\n",
    "    if flight_path:\n",
    "        print(f\"Flight Path: {flight_path}\")\n",
    "    else:\n",
    "        print('Flight Path: All Paths')\n",
    "else:\n",
    "    print(\"WARNING: You must select a flight path in the previous cell, then rerun this cell.\")"
   ]
  },
  {
   "cell_type": "markdown",
   "metadata": {},
   "source": [
    "**Select an orbit direction:**"
   ]
  },
  {
   "cell_type": "code",
   "execution_count": 16,
   "metadata": {},
   "outputs": [
    {
     "name": "stdout",
     "output_type": "stream",
     "text": [
      "\n",
      "Select a Flight Direction:\n"
     ]
    },
    {
     "data": {
      "application/vnd.jupyter.widget-view+json": {
       "model_id": "51f5e739ad66492da1c5417fb68cd43a",
       "version_major": 2,
       "version_minor": 0
      },
      "text/plain": [
       "RadioButtons(description='Direction:', layout=Layout(min_width='800px'), options=('ASCENDING',), value='ASCEND…"
      ]
     },
     "metadata": {},
     "output_type": "display_data"
    }
   ],
   "source": [
    "if len(orbit_directions) > 1:\n",
    "    display(Markdown(\"<text style='color:red;'>Note: After selecting a flight direction, you must select the next cell before hitting the 'Run' button or typing Shift/Enter.</text>\"))\n",
    "    display(Markdown(\"<text style='color:red;'>Otherwise, you will simply rerun this code cell.</text>\"))\n",
    "print('\\nSelect a Flight Direction:')\n",
    "direction_choice = asfn.select_parameter(orbit_directions, 'Direction:')\n",
    "direction_choice"
   ]
  },
  {
   "cell_type": "markdown",
   "metadata": {},
   "source": [
    "**Save the selected orbit direction:**"
   ]
  },
  {
   "cell_type": "code",
   "execution_count": 17,
   "metadata": {},
   "outputs": [
    {
     "name": "stdout",
     "output_type": "stream",
     "text": [
      "Orbit Direction: ASCENDING\n"
     ]
    }
   ],
   "source": [
    "direction = direction_choice.value\n",
    "print(f\"Orbit Direction: {direction}\")"
   ]
  },
  {
   "cell_type": "markdown",
   "metadata": {},
   "source": [
    "**Filter jobs by path and orbit direction:**"
   ]
  },
  {
   "cell_type": "code",
   "execution_count": 18,
   "metadata": {},
   "outputs": [
    {
     "name": "stdout",
     "output_type": "stream",
     "text": [
      "There are 172 products to download.\n"
     ]
    }
   ],
   "source": [
    "batch = asfn.filter_jobs_by_path(batch, flight_path)\n",
    "batch = asfn.filter_jobs_by_orbit(batch, direction)\n",
    "print(f\"There are {len(batch)} products to download.\")"
   ]
  },
  {
   "cell_type": "markdown",
   "metadata": {},
   "source": [
    "**Download the products, unzip them into a directory named after the product type, and delete the zip files:**"
   ]
  },
  {
   "cell_type": "code",
   "execution_count": 19,
   "metadata": {
    "scrolled": true,
    "tags": []
   },
   "outputs": [
    {
     "name": "stdout",
     "output_type": "stream",
     "text": [
      "/home/jovyan/Hydrosar/Dataset/Cambodia/RTC_GAMMA\n",
      "\n",
      "Project: ChauDoc\n"
     ]
    },
    {
     "data": {
      "application/vnd.jupyter.widget-view+json": {
       "model_id": "aacab5cb0113440fa777530bf96a0531",
       "version_major": 2,
       "version_minor": 0
      },
      "text/plain": [
       "  0%|          | 0/172 [00:00<?, ?it/s]"
      ]
     },
     "metadata": {},
     "output_type": "display_data"
    },
    {
     "data": {
      "application/vnd.jupyter.widget-view+json": {
       "model_id": "1794542adce2401f94238dd223a6bed8",
       "version_major": 2,
       "version_minor": 0
      },
      "text/plain": [
       "S1A_IW_20171202T111115_DVP_RTC30_G_gpufem_C516.zip:   0%|          | 0/505521227 [00:00<?, ?it/s]"
      ]
     },
     "metadata": {},
     "output_type": "display_data"
    },
    {
     "data": {
      "application/vnd.jupyter.widget-view+json": {
       "model_id": "3a00c48c39214f028007ab0eb07b56a3",
       "version_major": 2,
       "version_minor": 0
      },
      "text/plain": [
       "S1A_IW_20180131T111113_DVP_RTC30_G_gpufem_955B.zip:   0%|          | 0/502874730 [00:00<?, ?it/s]"
      ]
     },
     "metadata": {},
     "output_type": "display_data"
    },
    {
     "data": {
      "application/vnd.jupyter.widget-view+json": {
       "model_id": "0b8c0bf676044970bec0cdf51fd55b62",
       "version_major": 2,
       "version_minor": 0
      },
      "text/plain": [
       "S1A_IW_20171120T111116_DVP_RTC30_G_gpufem_25A1.zip:   0%|          | 0/506098861 [00:00<?, ?it/s]"
      ]
     },
     "metadata": {},
     "output_type": "display_data"
    },
    {
     "data": {
      "application/vnd.jupyter.widget-view+json": {
       "model_id": "af1ff83405144cc5af484d612c4beed0",
       "version_major": 2,
       "version_minor": 0
      },
      "text/plain": [
       "S1A_IW_20171108T111116_DVP_RTC30_G_gpufem_20BA.zip:   0%|          | 0/507919396 [00:00<?, ?it/s]"
      ]
     },
     "metadata": {},
     "output_type": "display_data"
    },
    {
     "data": {
      "application/vnd.jupyter.widget-view+json": {
       "model_id": "576732451f684c7c85d80e6879d65446",
       "version_major": 2,
       "version_minor": 0
      },
      "text/plain": [
       "S1A_IW_20171214T111115_DVP_RTC30_G_gpufem_52D2.zip:   0%|          | 0/503862000 [00:00<?, ?it/s]"
      ]
     },
     "metadata": {},
     "output_type": "display_data"
    },
    {
     "data": {
      "application/vnd.jupyter.widget-view+json": {
       "model_id": "009ee8d86d7a42b194fe0c308943b44e",
       "version_major": 2,
       "version_minor": 0
      },
      "text/plain": [
       "S1A_IW_20180119T111114_DVP_RTC30_G_gpufem_287C.zip:   0%|          | 0/503106637 [00:00<?, ?it/s]"
      ]
     },
     "metadata": {},
     "output_type": "display_data"
    },
    {
     "data": {
      "application/vnd.jupyter.widget-view+json": {
       "model_id": "1347234e3fc0461fad1f3e3b150344f8",
       "version_major": 2,
       "version_minor": 0
      },
      "text/plain": [
       "S1A_IW_20171226T111114_DVP_RTC30_G_gpufem_ECBD.zip:   0%|          | 0/503916530 [00:00<?, ?it/s]"
      ]
     },
     "metadata": {},
     "output_type": "display_data"
    },
    {
     "data": {
      "application/vnd.jupyter.widget-view+json": {
       "model_id": "68ed0c7bac7344f49164e7b174510f15",
       "version_major": 2,
       "version_minor": 0
      },
      "text/plain": [
       "S1A_IW_20180224T111113_DVP_RTC30_G_gpufem_44C3.zip:   0%|          | 0/502801033 [00:00<?, ?it/s]"
      ]
     },
     "metadata": {},
     "output_type": "display_data"
    },
    {
     "data": {
      "application/vnd.jupyter.widget-view+json": {
       "model_id": "0d7dbbb3a6314d3f80e97c008e5b9f14",
       "version_major": 2,
       "version_minor": 0
      },
      "text/plain": [
       "S1A_IW_20171027T111116_DVP_RTC30_G_gpufem_474A.zip:   0%|          | 0/506955892 [00:00<?, ?it/s]"
      ]
     },
     "metadata": {},
     "output_type": "display_data"
    },
    {
     "data": {
      "application/vnd.jupyter.widget-view+json": {
       "model_id": "aab8e3c3417944eda13e3b0fff09611f",
       "version_major": 2,
       "version_minor": 0
      },
      "text/plain": [
       "S1A_IW_20180212T111113_DVP_RTC30_G_gpufem_581E.zip:   0%|          | 0/503145442 [00:00<?, ?it/s]"
      ]
     },
     "metadata": {},
     "output_type": "display_data"
    },
    {
     "data": {
      "application/vnd.jupyter.widget-view+json": {
       "model_id": "d5fd295964824852ba571434666c4279",
       "version_major": 2,
       "version_minor": 0
      },
      "text/plain": [
       "S1A_IW_20180107T111114_DVP_RTC30_G_gpufem_9D06.zip:   0%|          | 0/504020302 [00:00<?, ?it/s]"
      ]
     },
     "metadata": {},
     "output_type": "display_data"
    },
    {
     "data": {
      "application/vnd.jupyter.widget-view+json": {
       "model_id": "e523901fd5e746d4a856c39b6b6ae6e5",
       "version_major": 2,
       "version_minor": 0
      },
      "text/plain": [
       "S1A_IW_20171015T111116_DVP_RTC30_G_gpufem_C4E1.zip:   0%|          | 0/506391929 [00:00<?, ?it/s]"
      ]
     },
     "metadata": {},
     "output_type": "display_data"
    },
    {
     "data": {
      "application/vnd.jupyter.widget-view+json": {
       "model_id": "e84bf33c22be4369b3df14f97bd1c298",
       "version_major": 2,
       "version_minor": 0
      },
      "text/plain": [
       "S1A_IW_20180718T111119_DVP_RTC30_G_gpufem_5AE4.zip:   0%|          | 0/503984283 [00:00<?, ?it/s]"
      ]
     },
     "metadata": {},
     "output_type": "display_data"
    },
    {
     "data": {
      "application/vnd.jupyter.widget-view+json": {
       "model_id": "5806c55674024396ac45a3c9a1b280f9",
       "version_major": 2,
       "version_minor": 0
      },
      "text/plain": [
       "S1A_IW_20180916T111122_DVP_RTC30_G_gpufem_4830.zip:   0%|          | 0/504716015 [00:00<?, ?it/s]"
      ]
     },
     "metadata": {},
     "output_type": "display_data"
    },
    {
     "data": {
      "application/vnd.jupyter.widget-view+json": {
       "model_id": "ec3ca39087184ee580dc4f8263a039b6",
       "version_major": 2,
       "version_minor": 0
      },
      "text/plain": [
       "S1A_IW_20180612T111117_DVP_RTC30_G_gpufem_726A.zip:   0%|          | 0/502898624 [00:00<?, ?it/s]"
      ]
     },
     "metadata": {},
     "output_type": "display_data"
    },
    {
     "data": {
      "application/vnd.jupyter.widget-view+json": {
       "model_id": "0a7e0b36a2a642bcacae52978b043f3b",
       "version_major": 2,
       "version_minor": 0
      },
      "text/plain": [
       "S1A_IW_20180425T111114_DVP_RTC30_G_gpufem_31ED.zip:   0%|          | 0/504219236 [00:00<?, ?it/s]"
      ]
     },
     "metadata": {},
     "output_type": "display_data"
    },
    {
     "data": {
      "application/vnd.jupyter.widget-view+json": {
       "model_id": "9dbb7dd74b9043f9a74a1d82514df0fc",
       "version_major": 2,
       "version_minor": 0
      },
      "text/plain": [
       "S1A_IW_20180519T111116_DVP_RTC30_G_gpufem_66F3.zip:   0%|          | 0/504068975 [00:00<?, ?it/s]"
      ]
     },
     "metadata": {},
     "output_type": "display_data"
    },
    {
     "data": {
      "application/vnd.jupyter.widget-view+json": {
       "model_id": "ab2858b6214f4e519d989791f5fcdead",
       "version_major": 2,
       "version_minor": 0
      },
      "text/plain": [
       "S1A_IW_20180413T111114_DVP_RTC30_G_gpufem_0F5C.zip:   0%|          | 0/503473900 [00:00<?, ?it/s]"
      ]
     },
     "metadata": {},
     "output_type": "display_data"
    },
    {
     "data": {
      "application/vnd.jupyter.widget-view+json": {
       "model_id": "a6f65f9163df4f49b65897b9b5d8f00c",
       "version_major": 2,
       "version_minor": 0
      },
      "text/plain": [
       "S1A_IW_20180624T111118_DVP_RTC30_G_gpufem_9175.zip:   0%|          | 0/502768126 [00:00<?, ?it/s]"
      ]
     },
     "metadata": {},
     "output_type": "display_data"
    },
    {
     "data": {
      "application/vnd.jupyter.widget-view+json": {
       "model_id": "f938c0eef80d4c26811e9940eee421bf",
       "version_major": 2,
       "version_minor": 0
      },
      "text/plain": [
       "S1A_IW_20180401T111113_DVP_RTC30_G_gpufem_E0C3.zip:   0%|          | 0/503680112 [00:00<?, ?it/s]"
      ]
     },
     "metadata": {},
     "output_type": "display_data"
    },
    {
     "data": {
      "application/vnd.jupyter.widget-view+json": {
       "model_id": "ae984459ffd1457bb6288c9211526e9f",
       "version_major": 2,
       "version_minor": 0
      },
      "text/plain": [
       "S1A_IW_20180811T111121_DVP_RTC30_G_gpufem_C2B4.zip:   0%|          | 0/503948604 [00:00<?, ?it/s]"
      ]
     },
     "metadata": {},
     "output_type": "display_data"
    },
    {
     "data": {
      "application/vnd.jupyter.widget-view+json": {
       "model_id": "9f15d7663a8b4329868fdcfc1cd36c41",
       "version_major": 2,
       "version_minor": 0
      },
      "text/plain": [
       "S1A_IW_20181103T111123_DVP_RTC30_G_gpufem_56E1.zip:   0%|          | 0/508251436 [00:00<?, ?it/s]"
      ]
     },
     "metadata": {},
     "output_type": "display_data"
    },
    {
     "data": {
      "application/vnd.jupyter.widget-view+json": {
       "model_id": "af8bd90e5ca84130ada97d315f68d00d",
       "version_major": 2,
       "version_minor": 0
      },
      "text/plain": [
       "S1A_IW_20181010T111123_DVP_RTC30_G_gpufem_AEB8.zip:   0%|          | 0/509517182 [00:00<?, ?it/s]"
      ]
     },
     "metadata": {},
     "output_type": "display_data"
    },
    {
     "data": {
      "application/vnd.jupyter.widget-view+json": {
       "model_id": "123fa8c37b2246b293747359d321deda",
       "version_major": 2,
       "version_minor": 0
      },
      "text/plain": [
       "S1A_IW_20181022T111123_DVP_RTC30_G_gpufem_8B57.zip:   0%|          | 0/509080966 [00:00<?, ?it/s]"
      ]
     },
     "metadata": {},
     "output_type": "display_data"
    },
    {
     "data": {
      "application/vnd.jupyter.widget-view+json": {
       "model_id": "e0d09b2ebbbe4886bdc1113fe59a6e91",
       "version_major": 2,
       "version_minor": 0
      },
      "text/plain": [
       "S1A_IW_20180320T111113_DVP_RTC30_G_gpufem_FACE.zip:   0%|          | 0/503669853 [00:00<?, ?it/s]"
      ]
     },
     "metadata": {},
     "output_type": "display_data"
    },
    {
     "data": {
      "application/vnd.jupyter.widget-view+json": {
       "model_id": "3d3d1e812c7f4b1da8519d0988559013",
       "version_major": 2,
       "version_minor": 0
      },
      "text/plain": [
       "S1A_IW_20180928T111123_DVP_RTC30_G_gpufem_A976.zip:   0%|          | 0/506193217 [00:00<?, ?it/s]"
      ]
     },
     "metadata": {},
     "output_type": "display_data"
    },
    {
     "data": {
      "application/vnd.jupyter.widget-view+json": {
       "model_id": "61a3fb8139244eb19bb6dbbf2851362f",
       "version_major": 2,
       "version_minor": 0
      },
      "text/plain": [
       "S1A_IW_20180531T111116_DVP_RTC30_G_gpufem_1142.zip:   0%|          | 0/503443845 [00:00<?, ?it/s]"
      ]
     },
     "metadata": {},
     "output_type": "display_data"
    },
    {
     "data": {
      "application/vnd.jupyter.widget-view+json": {
       "model_id": "ce3ca080294e4d5caa27d2ade47ab872",
       "version_major": 2,
       "version_minor": 0
      },
      "text/plain": [
       "S1A_IW_20180308T111113_DVP_RTC30_G_gpufem_49B2.zip:   0%|          | 0/502852758 [00:00<?, ?it/s]"
      ]
     },
     "metadata": {},
     "output_type": "display_data"
    },
    {
     "data": {
      "application/vnd.jupyter.widget-view+json": {
       "model_id": "d46e0c2535ec48ae9f11de31ec2058c5",
       "version_major": 2,
       "version_minor": 0
      },
      "text/plain": [
       "S1A_IW_20180730T111120_DVP_RTC30_G_gpufem_B483.zip:   0%|          | 0/504086105 [00:00<?, ?it/s]"
      ]
     },
     "metadata": {},
     "output_type": "display_data"
    },
    {
     "data": {
      "application/vnd.jupyter.widget-view+json": {
       "model_id": "3adbb80943894816a9f90f60783a0b62",
       "version_major": 2,
       "version_minor": 0
      },
      "text/plain": [
       "S1A_IW_20180904T111122_DVP_RTC30_G_gpufem_1A9E.zip:   0%|          | 0/504894718 [00:00<?, ?it/s]"
      ]
     },
     "metadata": {},
     "output_type": "display_data"
    },
    {
     "data": {
      "application/vnd.jupyter.widget-view+json": {
       "model_id": "2c7bc4ac889f42698231e03a25441849",
       "version_major": 2,
       "version_minor": 0
      },
      "text/plain": [
       "S1A_IW_20180823T111121_DVP_RTC30_G_gpufem_B833.zip:   0%|          | 0/504852293 [00:00<?, ?it/s]"
      ]
     },
     "metadata": {},
     "output_type": "display_data"
    },
    {
     "data": {
      "application/vnd.jupyter.widget-view+json": {
       "model_id": "5713ccf60e62452895fb3e55862d7c2a",
       "version_major": 2,
       "version_minor": 0
      },
      "text/plain": [
       "S1A_IW_20180507T111115_DVP_RTC30_G_gpufem_119E.zip:   0%|          | 0/503595308 [00:00<?, ?it/s]"
      ]
     },
     "metadata": {},
     "output_type": "display_data"
    },
    {
     "data": {
      "application/vnd.jupyter.widget-view+json": {
       "model_id": "8dfac8a2e4864420be282f3be0525451",
       "version_major": 2,
       "version_minor": 0
      },
      "text/plain": [
       "S1A_IW_20190619T111123_DVP_RTC30_G_gpufem_1D81.zip:   0%|          | 0/503428149 [00:00<?, ?it/s]"
      ]
     },
     "metadata": {},
     "output_type": "display_data"
    },
    {
     "data": {
      "application/vnd.jupyter.widget-view+json": {
       "model_id": "6b0ef67baf984633a50db2b4f9714d12",
       "version_major": 2,
       "version_minor": 0
      },
      "text/plain": [
       "S1A_IW_20190126T111120_DVP_RTC30_G_gpufem_65B3.zip:   0%|          | 0/504305694 [00:00<?, ?it/s]"
      ]
     },
     "metadata": {},
     "output_type": "display_data"
    },
    {
     "data": {
      "application/vnd.jupyter.widget-view+json": {
       "model_id": "ec3235fdd3a74d14aa508621b1c368b6",
       "version_major": 2,
       "version_minor": 0
      },
      "text/plain": [
       "S1A_IW_20190315T111119_DVP_RTC30_G_gpufem_338B.zip:   0%|          | 0/505058461 [00:00<?, ?it/s]"
      ]
     },
     "metadata": {},
     "output_type": "display_data"
    },
    {
     "data": {
      "application/vnd.jupyter.widget-view+json": {
       "model_id": "3f14ebf808b44f4daa153320e3f9e3c0",
       "version_major": 2,
       "version_minor": 0
      },
      "text/plain": [
       "S1A_IW_20190502T111121_DVP_RTC30_G_gpufem_0187.zip:   0%|          | 0/504232786 [00:00<?, ?it/s]"
      ]
     },
     "metadata": {},
     "output_type": "display_data"
    },
    {
     "data": {
      "application/vnd.jupyter.widget-view+json": {
       "model_id": "f6b2b5bb4aae4336820218f1f47726b8",
       "version_major": 2,
       "version_minor": 0
      },
      "text/plain": [
       "S1A_IW_20190514T111121_DVP_RTC30_G_gpufem_40CE.zip:   0%|          | 0/503978783 [00:00<?, ?it/s]"
      ]
     },
     "metadata": {},
     "output_type": "display_data"
    },
    {
     "data": {
      "application/vnd.jupyter.widget-view+json": {
       "model_id": "3b1d9cfef2e14dd2a4be5309de1ffccb",
       "version_major": 2,
       "version_minor": 0
      },
      "text/plain": [
       "S1A_IW_20190701T111124_DVP_RTC30_G_gpufem_671D.zip:   0%|          | 0/502471325 [00:00<?, ?it/s]"
      ]
     },
     "metadata": {},
     "output_type": "display_data"
    },
    {
     "data": {
      "application/vnd.jupyter.widget-view+json": {
       "model_id": "00cce78febea4825baee5adbba69fdb7",
       "version_major": 2,
       "version_minor": 0
      },
      "text/plain": [
       "S1A_IW_20190408T111120_DVP_RTC30_G_gpufem_D773.zip:   0%|          | 0/505427080 [00:00<?, ?it/s]"
      ]
     },
     "metadata": {},
     "output_type": "display_data"
    },
    {
     "data": {
      "application/vnd.jupyter.widget-view+json": {
       "model_id": "0e79ed8f240d4bb588cb8c0d0b9f52cb",
       "version_major": 2,
       "version_minor": 0
      },
      "text/plain": [
       "S1A_IW_20181221T111121_DVP_RTC30_G_gpufem_FE96.zip:   0%|          | 0/503635843 [00:00<?, ?it/s]"
      ]
     },
     "metadata": {},
     "output_type": "display_data"
    },
    {
     "data": {
      "application/vnd.jupyter.widget-view+json": {
       "model_id": "e48184b92a714923afe0b3c6e2782067",
       "version_major": 2,
       "version_minor": 0
      },
      "text/plain": [
       "S1A_IW_20190114T111120_DVP_RTC30_G_gpufem_6100.zip:   0%|          | 0/504199879 [00:00<?, ?it/s]"
      ]
     },
     "metadata": {},
     "output_type": "display_data"
    },
    {
     "data": {
      "application/vnd.jupyter.widget-view+json": {
       "model_id": "aad9841bc0ef4ff6a1ed548eda4d1b55",
       "version_major": 2,
       "version_minor": 0
      },
      "text/plain": [
       "S1A_IW_20190327T111120_DVP_RTC30_G_gpufem_9D4A.zip:   0%|          | 0/505418231 [00:00<?, ?it/s]"
      ]
     },
     "metadata": {},
     "output_type": "display_data"
    },
    {
     "data": {
      "application/vnd.jupyter.widget-view+json": {
       "model_id": "c7867d61e3fc4ef7aa7f0478ceb2556d",
       "version_major": 2,
       "version_minor": 0
      },
      "text/plain": [
       "S1A_IW_20181209T111122_DVP_RTC30_G_gpufem_9E2E.zip:   0%|          | 0/505300092 [00:00<?, ?it/s]"
      ]
     },
     "metadata": {},
     "output_type": "display_data"
    },
    {
     "data": {
      "application/vnd.jupyter.widget-view+json": {
       "model_id": "e56b4ad940314ee0b6f62e208e5f255a",
       "version_major": 2,
       "version_minor": 0
      },
      "text/plain": [
       "S1A_IW_20190207T111119_DVP_RTC30_G_gpufem_D208.zip:   0%|          | 0/503896439 [00:00<?, ?it/s]"
      ]
     },
     "metadata": {},
     "output_type": "display_data"
    },
    {
     "data": {
      "application/vnd.jupyter.widget-view+json": {
       "model_id": "150b30d4260c469082ed9c9902f7858e",
       "version_major": 2,
       "version_minor": 0
      },
      "text/plain": [
       "S1A_IW_20190102T111121_DVP_RTC30_G_gpufem_A8D7.zip:   0%|          | 0/502197752 [00:00<?, ?it/s]"
      ]
     },
     "metadata": {},
     "output_type": "display_data"
    },
    {
     "data": {
      "application/vnd.jupyter.widget-view+json": {
       "model_id": "cd8d070036a54b85944deb0c1756b0c8",
       "version_major": 2,
       "version_minor": 0
      },
      "text/plain": [
       "S1A_IW_20181127T111122_DVP_RTC30_G_gpufem_FC9F.zip:   0%|          | 0/507231699 [00:00<?, ?it/s]"
      ]
     },
     "metadata": {},
     "output_type": "display_data"
    },
    {
     "data": {
      "application/vnd.jupyter.widget-view+json": {
       "model_id": "f66a0a6f6ebd4f78a728e6c10b800ae8",
       "version_major": 2,
       "version_minor": 0
      },
      "text/plain": [
       "S1A_IW_20190607T111123_DVP_RTC30_G_gpufem_6575.zip:   0%|          | 0/503815915 [00:00<?, ?it/s]"
      ]
     },
     "metadata": {},
     "output_type": "display_data"
    },
    {
     "data": {
      "application/vnd.jupyter.widget-view+json": {
       "model_id": "a5214343289d4298aa227fa2641ce138",
       "version_major": 2,
       "version_minor": 0
      },
      "text/plain": [
       "S1A_IW_20181115T111123_DVP_RTC30_G_gpufem_2314.zip:   0%|          | 0/507278573 [00:00<?, ?it/s]"
      ]
     },
     "metadata": {},
     "output_type": "display_data"
    },
    {
     "data": {
      "application/vnd.jupyter.widget-view+json": {
       "model_id": "d2573465a6654f5d9e1091c05a27710a",
       "version_major": 2,
       "version_minor": 0
      },
      "text/plain": [
       "S1A_IW_20190420T111120_DVP_RTC30_G_gpufem_445B.zip:   0%|          | 0/505018373 [00:00<?, ?it/s]"
      ]
     },
     "metadata": {},
     "output_type": "display_data"
    },
    {
     "data": {
      "application/vnd.jupyter.widget-view+json": {
       "model_id": "e40473ac16504f9c8db24a6854151b3e",
       "version_major": 2,
       "version_minor": 0
      },
      "text/plain": [
       "S1A_IW_20190303T111120_DVP_RTC30_G_gpufem_8B62.zip:   0%|          | 0/504644701 [00:00<?, ?it/s]"
      ]
     },
     "metadata": {},
     "output_type": "display_data"
    },
    {
     "data": {
      "application/vnd.jupyter.widget-view+json": {
       "model_id": "89b636d206bb468199a0fc61c0d194fc",
       "version_major": 2,
       "version_minor": 0
      },
      "text/plain": [
       "S1A_IW_20190526T111122_DVP_RTC30_G_gpufem_0975.zip:   0%|          | 0/503437307 [00:00<?, ?it/s]"
      ]
     },
     "metadata": {},
     "output_type": "display_data"
    },
    {
     "data": {
      "application/vnd.jupyter.widget-view+json": {
       "model_id": "0071345083df4f50822783575b773049",
       "version_major": 2,
       "version_minor": 0
      },
      "text/plain": [
       "S1A_IW_20190219T111119_DVP_RTC30_G_gpufem_6CD0.zip:   0%|          | 0/504027319 [00:00<?, ?it/s]"
      ]
     },
     "metadata": {},
     "output_type": "display_data"
    },
    {
     "data": {
      "application/vnd.jupyter.widget-view+json": {
       "model_id": "a674dd7949fd448cb764f523a6576c43",
       "version_major": 2,
       "version_minor": 0
      },
      "text/plain": [
       "S1A_IW_20190725T111126_DVP_RTC30_G_gpufem_A4F6.zip:   0%|          | 0/501855932 [00:00<?, ?it/s]"
      ]
     },
     "metadata": {},
     "output_type": "display_data"
    },
    {
     "data": {
      "application/vnd.jupyter.widget-view+json": {
       "model_id": "26666054a97f4988be4bdc61eaf432f2",
       "version_major": 2,
       "version_minor": 0
      },
      "text/plain": [
       "S1A_IW_20200214T111126_DVP_RTC30_G_gpufem_299B.zip:   0%|          | 0/504368348 [00:00<?, ?it/s]"
      ]
     },
     "metadata": {},
     "output_type": "display_data"
    },
    {
     "data": {
      "application/vnd.jupyter.widget-view+json": {
       "model_id": "22b8fd7f36974d79952b6099a0781cb6",
       "version_major": 2,
       "version_minor": 0
      },
      "text/plain": [
       "S1A_IW_20190923T111129_DVP_RTC30_G_gpufem_8986.zip:   0%|          | 0/507348727 [00:00<?, ?it/s]"
      ]
     },
     "metadata": {},
     "output_type": "display_data"
    },
    {
     "data": {
      "application/vnd.jupyter.widget-view+json": {
       "model_id": "0421beb3ffe44e4dbd62c7d848085966",
       "version_major": 2,
       "version_minor": 0
      },
      "text/plain": [
       "S1A_IW_20190713T111125_DVP_RTC30_G_gpufem_DB85.zip:   0%|          | 0/502085759 [00:00<?, ?it/s]"
      ]
     },
     "metadata": {},
     "output_type": "display_data"
    },
    {
     "data": {
      "application/vnd.jupyter.widget-view+json": {
       "model_id": "95ca79731248445a816f7f09303387d6",
       "version_major": 2,
       "version_minor": 0
      },
      "text/plain": [
       "S1A_IW_20200121T111127_DVP_RTC30_G_gpufem_E103.zip:   0%|          | 0/504654884 [00:00<?, ?it/s]"
      ]
     },
     "metadata": {},
     "output_type": "display_data"
    },
    {
     "data": {
      "application/vnd.jupyter.widget-view+json": {
       "model_id": "3124fe69700f4988a2dac79cf7b517f5",
       "version_major": 2,
       "version_minor": 0
      },
      "text/plain": [
       "S1A_IW_20190911T111128_DVP_RTC30_G_gpufem_847C.zip:   0%|          | 0/504113242 [00:00<?, ?it/s]"
      ]
     },
     "metadata": {},
     "output_type": "display_data"
    },
    {
     "data": {
      "application/vnd.jupyter.widget-view+json": {
       "model_id": "7dce4374d506467e8dbb9f195777e01b",
       "version_major": 2,
       "version_minor": 0
      },
      "text/plain": [
       "S1A_IW_20190806T111127_DVP_RTC30_G_gpufem_5C98.zip:   0%|          | 0/500092600 [00:00<?, ?it/s]"
      ]
     },
     "metadata": {},
     "output_type": "display_data"
    },
    {
     "data": {
      "application/vnd.jupyter.widget-view+json": {
       "model_id": "afdd6dc1b1a641a3b8f59fbb88470bd7",
       "version_major": 2,
       "version_minor": 0
      },
      "text/plain": [
       "S1A_IW_20191110T111129_DVP_RTC30_G_gpufem_00EE.zip:   0%|          | 0/507838103 [00:00<?, ?it/s]"
      ]
     },
     "metadata": {},
     "output_type": "display_data"
    },
    {
     "data": {
      "application/vnd.jupyter.widget-view+json": {
       "model_id": "7d7305967d854bd5a053327f7d7807f1",
       "version_major": 2,
       "version_minor": 0
      },
      "text/plain": [
       "S1A_IW_20191017T111129_DVP_RTC30_G_gpufem_4389.zip:   0%|          | 0/508196567 [00:00<?, ?it/s]"
      ]
     },
     "metadata": {},
     "output_type": "display_data"
    },
    {
     "data": {
      "application/vnd.jupyter.widget-view+json": {
       "model_id": "b0080c32d4e44c7d8f8596d9577a63d3",
       "version_major": 2,
       "version_minor": 0
      },
      "text/plain": [
       "S1A_IW_20191005T111129_DVP_RTC30_G_gpufem_D701.zip:   0%|          | 0/507970041 [00:00<?, ?it/s]"
      ]
     },
     "metadata": {},
     "output_type": "display_data"
    },
    {
     "data": {
      "application/vnd.jupyter.widget-view+json": {
       "model_id": "039178544df4443da72963e887a7c11a",
       "version_major": 2,
       "version_minor": 0
      },
      "text/plain": [
       "S1A_IW_20200109T111127_DVP_RTC30_G_gpufem_BF47.zip:   0%|          | 0/505200359 [00:00<?, ?it/s]"
      ]
     },
     "metadata": {},
     "output_type": "display_data"
    },
    {
     "data": {
      "application/vnd.jupyter.widget-view+json": {
       "model_id": "e057ed2dfe394a1ab80350287ea8ee91",
       "version_major": 2,
       "version_minor": 0
      },
      "text/plain": [
       "S1A_IW_20191204T111128_DVP_RTC30_G_gpufem_380E.zip:   0%|          | 0/505242474 [00:00<?, ?it/s]"
      ]
     },
     "metadata": {},
     "output_type": "display_data"
    },
    {
     "data": {
      "application/vnd.jupyter.widget-view+json": {
       "model_id": "d77bf4de84d843bdaa73b305664a94e3",
       "version_major": 2,
       "version_minor": 0
      },
      "text/plain": [
       "S1A_IW_20191029T111129_DVP_RTC30_G_gpufem_4F11.zip:   0%|          | 0/508440773 [00:00<?, ?it/s]"
      ]
     },
     "metadata": {},
     "output_type": "display_data"
    },
    {
     "data": {
      "application/vnd.jupyter.widget-view+json": {
       "model_id": "40590552ab1147e5bedbbfc60e36c929",
       "version_major": 2,
       "version_minor": 0
      },
      "text/plain": [
       "S1A_IW_20191122T111129_DVP_RTC30_G_gpufem_F00C.zip:   0%|          | 0/506464306 [00:00<?, ?it/s]"
      ]
     },
     "metadata": {},
     "output_type": "display_data"
    },
    {
     "data": {
      "application/vnd.jupyter.widget-view+json": {
       "model_id": "53e6ef4c16254165a67ba2c653058011",
       "version_major": 2,
       "version_minor": 0
      },
      "text/plain": [
       "S1A_IW_20190818T111127_DVP_RTC30_G_gpufem_1CD6.zip:   0%|          | 0/501954487 [00:00<?, ?it/s]"
      ]
     },
     "metadata": {},
     "output_type": "display_data"
    },
    {
     "data": {
      "application/vnd.jupyter.widget-view+json": {
       "model_id": "5ec9610a01684f14befc2c7e5a65cafe",
       "version_major": 2,
       "version_minor": 0
      },
      "text/plain": [
       "S1A_IW_20200202T111126_DVP_RTC30_G_gpufem_B611.zip:   0%|          | 0/504070543 [00:00<?, ?it/s]"
      ]
     },
     "metadata": {},
     "output_type": "display_data"
    },
    {
     "data": {
      "application/vnd.jupyter.widget-view+json": {
       "model_id": "d38c243335b04d27b9a97ea6a88562d0",
       "version_major": 2,
       "version_minor": 0
      },
      "text/plain": [
       "S1A_IW_20191216T111128_DVP_RTC30_G_gpufem_1801.zip:   0%|          | 0/504736235 [00:00<?, ?it/s]"
      ]
     },
     "metadata": {},
     "output_type": "display_data"
    },
    {
     "data": {
      "application/vnd.jupyter.widget-view+json": {
       "model_id": "56e2d3a9621b41a18c11c8e0e244d079",
       "version_major": 2,
       "version_minor": 0
      },
      "text/plain": [
       "S1A_IW_20190830T111128_DVP_RTC30_G_gpufem_CC23.zip:   0%|          | 0/502077472 [00:00<?, ?it/s]"
      ]
     },
     "metadata": {},
     "output_type": "display_data"
    },
    {
     "data": {
      "application/vnd.jupyter.widget-view+json": {
       "model_id": "4d1eb615a126461a8e53907377dad355",
       "version_major": 2,
       "version_minor": 0
      },
      "text/plain": [
       "S1A_IW_20200226T111126_DVP_RTC30_G_gpufem_3845.zip:   0%|          | 0/504581457 [00:00<?, ?it/s]"
      ]
     },
     "metadata": {},
     "output_type": "display_data"
    },
    {
     "data": {
      "application/vnd.jupyter.widget-view+json": {
       "model_id": "c5bf8a8b590c475cb06ce25cfbe5dbb6",
       "version_major": 2,
       "version_minor": 0
      },
      "text/plain": [
       "S1A_IW_20191228T111127_DVP_RTC30_G_gpufem_B293.zip:   0%|          | 0/504071265 [00:00<?, ?it/s]"
      ]
     },
     "metadata": {},
     "output_type": "display_data"
    },
    {
     "data": {
      "application/vnd.jupyter.widget-view+json": {
       "model_id": "43f63518686148298cda672c06db68c8",
       "version_major": 2,
       "version_minor": 0
      },
      "text/plain": [
       "S1A_IW_20200402T111126_DVP_RTC30_G_gpufem_D2A9.zip:   0%|          | 0/506793835 [00:00<?, ?it/s]"
      ]
     },
     "metadata": {},
     "output_type": "display_data"
    },
    {
     "data": {
      "application/vnd.jupyter.widget-view+json": {
       "model_id": "5a55a7aacd144c159951476414400166",
       "version_major": 2,
       "version_minor": 0
      },
      "text/plain": [
       "S1A_IW_20200601T111129_DVP_RTC30_G_gpufem_28E3.zip:   0%|          | 0/504382844 [00:00<?, ?it/s]"
      ]
     },
     "metadata": {},
     "output_type": "display_data"
    },
    {
     "data": {
      "application/vnd.jupyter.widget-view+json": {
       "model_id": "330408bf6e354a9887a624d7f5ca7254",
       "version_major": 2,
       "version_minor": 0
      },
      "text/plain": [
       "S1A_IW_20200731T111133_DVP_RTC30_G_gpufem_87F7.zip:   0%|          | 0/501198136 [00:00<?, ?it/s]"
      ]
     },
     "metadata": {},
     "output_type": "display_data"
    },
    {
     "data": {
      "application/vnd.jupyter.widget-view+json": {
       "model_id": "fcedb7561d3a4562933ac954fe10fcbb",
       "version_major": 2,
       "version_minor": 0
      },
      "text/plain": [
       "S1A_IW_20200929T111135_DVP_RTC30_G_gpufem_6C9A.zip:   0%|          | 0/504862727 [00:00<?, ?it/s]"
      ]
     },
     "metadata": {},
     "output_type": "display_data"
    },
    {
     "data": {
      "application/vnd.jupyter.widget-view+json": {
       "model_id": "b0435c812c284c32b04ed57aef8b71f6",
       "version_major": 2,
       "version_minor": 0
      },
      "text/plain": [
       "S1A_IW_20200426T111127_DVP_RTC30_G_gpufem_6DA1.zip:   0%|          | 0/504736446 [00:00<?, ?it/s]"
      ]
     },
     "metadata": {},
     "output_type": "display_data"
    },
    {
     "data": {
      "application/vnd.jupyter.widget-view+json": {
       "model_id": "d8742b27638a4699acdaf3fdb8abe568",
       "version_major": 2,
       "version_minor": 0
      },
      "text/plain": [
       "S1A_IW_20200520T111128_DVP_RTC30_G_gpufem_85A3.zip:   0%|          | 0/503995867 [00:00<?, ?it/s]"
      ]
     },
     "metadata": {},
     "output_type": "display_data"
    },
    {
     "data": {
      "application/vnd.jupyter.widget-view+json": {
       "model_id": "722c98c4552d4eb9922c39758c41dfa2",
       "version_major": 2,
       "version_minor": 0
      },
      "text/plain": [
       "S1A_IW_20200625T111130_DVP_RTC30_G_gpufem_9880.zip:   0%|          | 0/503670732 [00:00<?, ?it/s]"
      ]
     },
     "metadata": {},
     "output_type": "display_data"
    },
    {
     "data": {
      "application/vnd.jupyter.widget-view+json": {
       "model_id": "2508d41ff7d545cda3e8f43b5d9f9740",
       "version_major": 2,
       "version_minor": 0
      },
      "text/plain": [
       "S1A_IW_20200905T111135_DVP_RTC30_G_gpufem_C16D.zip:   0%|          | 0/503463009 [00:00<?, ?it/s]"
      ]
     },
     "metadata": {},
     "output_type": "display_data"
    },
    {
     "data": {
      "application/vnd.jupyter.widget-view+json": {
       "model_id": "c5e99c16952c466f9888214c62f1d575",
       "version_major": 2,
       "version_minor": 0
      },
      "text/plain": [
       "S1A_IW_20200824T111134_DVP_RTC30_G_gpufem_3B79.zip:   0%|          | 0/503318684 [00:00<?, ?it/s]"
      ]
     },
     "metadata": {},
     "output_type": "display_data"
    },
    {
     "data": {
      "application/vnd.jupyter.widget-view+json": {
       "model_id": "bb634f828c5746f99ce4991902389c6a",
       "version_major": 2,
       "version_minor": 0
      },
      "text/plain": [
       "S1A_IW_20200917T111135_DVP_RTC30_G_gpufem_AF63.zip:   0%|          | 0/501716006 [00:00<?, ?it/s]"
      ]
     },
     "metadata": {},
     "output_type": "display_data"
    },
    {
     "data": {
      "application/vnd.jupyter.widget-view+json": {
       "model_id": "6db1f02781a04b2e83dc0c97e9c7a0bb",
       "version_major": 2,
       "version_minor": 0
      },
      "text/plain": [
       "S1A_IW_20200812T111133_DVP_RTC30_G_gpufem_AF7C.zip:   0%|          | 0/502371805 [00:00<?, ?it/s]"
      ]
     },
     "metadata": {},
     "output_type": "display_data"
    },
    {
     "data": {
      "application/vnd.jupyter.widget-view+json": {
       "model_id": "2db5af0b01004d4f86d2109f2650cc7f",
       "version_major": 2,
       "version_minor": 0
      },
      "text/plain": [
       "S1A_IW_20200707T111131_DVP_RTC30_G_gpufem_3FE9.zip:   0%|          | 0/503097367 [00:00<?, ?it/s]"
      ]
     },
     "metadata": {},
     "output_type": "display_data"
    },
    {
     "data": {
      "application/vnd.jupyter.widget-view+json": {
       "model_id": "b1b5c2f1801b4bfca753b9bacbd4aad3",
       "version_major": 2,
       "version_minor": 0
      },
      "text/plain": [
       "S1A_IW_20200508T111128_DVP_RTC30_G_gpufem_7750.zip:   0%|          | 0/504880634 [00:00<?, ?it/s]"
      ]
     },
     "metadata": {},
     "output_type": "display_data"
    },
    {
     "data": {
      "application/vnd.jupyter.widget-view+json": {
       "model_id": "a2d716cfa28940a4aa042450ed203cce",
       "version_major": 2,
       "version_minor": 0
      },
      "text/plain": [
       "S1A_IW_20200321T111126_DVP_RTC30_G_gpufem_AF4C.zip:   0%|          | 0/505814988 [00:00<?, ?it/s]"
      ]
     },
     "metadata": {},
     "output_type": "display_data"
    },
    {
     "data": {
      "application/vnd.jupyter.widget-view+json": {
       "model_id": "7794096999ff4819b63e643dda2bdbde",
       "version_major": 2,
       "version_minor": 0
      },
      "text/plain": [
       "S1A_IW_20200719T111132_DVP_RTC30_G_gpufem_6153.zip:   0%|          | 0/502541978 [00:00<?, ?it/s]"
      ]
     },
     "metadata": {},
     "output_type": "display_data"
    },
    {
     "data": {
      "application/vnd.jupyter.widget-view+json": {
       "model_id": "8836e1f468b743c49012280692851b18",
       "version_major": 2,
       "version_minor": 0
      },
      "text/plain": [
       "S1A_IW_20201011T111136_DVP_RTC30_G_gpufem_8CDE.zip:   0%|          | 0/506909483 [00:00<?, ?it/s]"
      ]
     },
     "metadata": {},
     "output_type": "display_data"
    },
    {
     "data": {
      "application/vnd.jupyter.widget-view+json": {
       "model_id": "8bde9fab99d64232a0425ba1ebaa6a04",
       "version_major": 2,
       "version_minor": 0
      },
      "text/plain": [
       "S1A_IW_20200309T111126_DVP_RTC30_G_gpufem_AC1F.zip:   0%|          | 0/505039558 [00:00<?, ?it/s]"
      ]
     },
     "metadata": {},
     "output_type": "display_data"
    },
    {
     "data": {
      "application/vnd.jupyter.widget-view+json": {
       "model_id": "da74ea1141e744bbb218481b6bb1c7c7",
       "version_major": 2,
       "version_minor": 0
      },
      "text/plain": [
       "S1A_IW_20200613T111130_DVP_RTC30_G_gpufem_9B14.zip:   0%|          | 0/502479373 [00:00<?, ?it/s]"
      ]
     },
     "metadata": {},
     "output_type": "display_data"
    },
    {
     "data": {
      "application/vnd.jupyter.widget-view+json": {
       "model_id": "22122d40bc0f4e988712e85cf9b3c694",
       "version_major": 2,
       "version_minor": 0
      },
      "text/plain": [
       "S1A_IW_20200414T111127_DVP_RTC30_G_gpufem_F738.zip:   0%|          | 0/505581443 [00:00<?, ?it/s]"
      ]
     },
     "metadata": {},
     "output_type": "display_data"
    },
    {
     "data": {
      "application/vnd.jupyter.widget-view+json": {
       "model_id": "c8ddbb07323a4c4d811a412e277900e3",
       "version_major": 2,
       "version_minor": 0
      },
      "text/plain": [
       "S1A_IW_20201023T111136_DVP_RTC30_G_gpufem_CC84.zip:   0%|          | 0/509061757 [00:00<?, ?it/s]"
      ]
     },
     "metadata": {},
     "output_type": "display_data"
    },
    {
     "data": {
      "application/vnd.jupyter.widget-view+json": {
       "model_id": "98e1b0fee1aa4de291c95392ce0d2860",
       "version_major": 2,
       "version_minor": 0
      },
      "text/plain": [
       "S1A_IW_20210304T111131_DVP_RTC30_G_gpufem_61FD.zip:   0%|          | 0/504194930 [00:00<?, ?it/s]"
      ]
     },
     "metadata": {},
     "output_type": "display_data"
    },
    {
     "data": {
      "application/vnd.jupyter.widget-view+json": {
       "model_id": "59e38b7ea3634911af9f110e3656d239",
       "version_major": 2,
       "version_minor": 0
      },
      "text/plain": [
       "S1A_IW_20210527T111135_DVP_RTC30_G_gpufem_F4C4.zip:   0%|          | 0/504286272 [00:00<?, ?it/s]"
      ]
     },
     "metadata": {},
     "output_type": "display_data"
    },
    {
     "data": {
      "application/vnd.jupyter.widget-view+json": {
       "model_id": "d9bdbeed1aa842a5a3ab04c5cc58b867",
       "version_major": 2,
       "version_minor": 0
      },
      "text/plain": [
       "S1A_IW_20210220T111132_DVP_RTC30_G_gpufem_24C6.zip:   0%|          | 0/504627538 [00:00<?, ?it/s]"
      ]
     },
     "metadata": {},
     "output_type": "display_data"
    },
    {
     "data": {
      "application/vnd.jupyter.widget-view+json": {
       "model_id": "daa8131aed4d4df6a83d94b8338a883c",
       "version_major": 2,
       "version_minor": 0
      },
      "text/plain": [
       "S1A_IW_20210503T111133_DVP_RTC30_G_gpufem_6532.zip:   0%|          | 0/505048697 [00:00<?, ?it/s]"
      ]
     },
     "metadata": {},
     "output_type": "display_data"
    },
    {
     "data": {
      "application/vnd.jupyter.widget-view+json": {
       "model_id": "9b60a138c7b34fb49e4d8b58ac961f57",
       "version_major": 2,
       "version_minor": 0
      },
      "text/plain": [
       "S1A_IW_20201128T111135_DVP_RTC30_G_gpufem_0ED5.zip:   0%|          | 0/506935194 [00:00<?, ?it/s]"
      ]
     },
     "metadata": {},
     "output_type": "display_data"
    },
    {
     "data": {
      "application/vnd.jupyter.widget-view+json": {
       "model_id": "31045392b8254f8f993781669a37beea",
       "version_major": 2,
       "version_minor": 0
      },
      "text/plain": [
       "S1A_IW_20210208T111132_DVP_RTC30_G_gpufem_5C75.zip:   0%|          | 0/504756113 [00:00<?, ?it/s]"
      ]
     },
     "metadata": {},
     "output_type": "display_data"
    },
    {
     "data": {
      "application/vnd.jupyter.widget-view+json": {
       "model_id": "a7ae982f3cdb4f36a23eef59f2ad0776",
       "version_major": 2,
       "version_minor": 0
      },
      "text/plain": [
       "S1A_IW_20210409T111132_DVP_RTC30_G_gpufem_5F82.zip:   0%|          | 0/504115714 [00:00<?, ?it/s]"
      ]
     },
     "metadata": {},
     "output_type": "display_data"
    },
    {
     "data": {
      "application/vnd.jupyter.widget-view+json": {
       "model_id": "5a3564e6efde4257869ea0a7af618c64",
       "version_major": 2,
       "version_minor": 0
      },
      "text/plain": [
       "S1A_IW_20210421T111133_DVP_RTC30_G_gpufem_2466.zip:   0%|          | 0/504081092 [00:00<?, ?it/s]"
      ]
     },
     "metadata": {},
     "output_type": "display_data"
    },
    {
     "data": {
      "application/vnd.jupyter.widget-view+json": {
       "model_id": "f73f299470764850b84b922accb20ed1",
       "version_major": 2,
       "version_minor": 0
      },
      "text/plain": [
       "S1A_IW_20210328T111132_DVP_RTC30_G_gpufem_1F7C.zip:   0%|          | 0/505226796 [00:00<?, ?it/s]"
      ]
     },
     "metadata": {},
     "output_type": "display_data"
    },
    {
     "data": {
      "application/vnd.jupyter.widget-view+json": {
       "model_id": "d04fbf2c68f3447aa3064bb05704beb0",
       "version_major": 2,
       "version_minor": 0
      },
      "text/plain": [
       "S1A_IW_20201116T111135_DVP_RTC30_G_gpufem_6673.zip:   0%|          | 0/508367421 [00:00<?, ?it/s]"
      ]
     },
     "metadata": {},
     "output_type": "display_data"
    },
    {
     "data": {
      "application/vnd.jupyter.widget-view+json": {
       "model_id": "03880f7fa6ac4a84aab328c144efcb21",
       "version_major": 2,
       "version_minor": 0
      },
      "text/plain": [
       "S1A_IW_20210620T111136_DVP_RTC30_G_gpufem_18AE.zip:   0%|          | 0/502767357 [00:00<?, ?it/s]"
      ]
     },
     "metadata": {},
     "output_type": "display_data"
    },
    {
     "data": {
      "application/vnd.jupyter.widget-view+json": {
       "model_id": "ff54cc38948d4a638c26319b0dcac5cd",
       "version_major": 2,
       "version_minor": 0
      },
      "text/plain": [
       "S1A_IW_20210316T111132_DVP_RTC30_G_gpufem_858D.zip:   0%|          | 0/504589297 [00:00<?, ?it/s]"
      ]
     },
     "metadata": {},
     "output_type": "display_data"
    },
    {
     "data": {
      "application/vnd.jupyter.widget-view+json": {
       "model_id": "e8c27abc47184107aa24a049dfb15e38",
       "version_major": 2,
       "version_minor": 0
      },
      "text/plain": [
       "S1A_IW_20210127T111132_DVP_RTC30_G_gpufem_03A7.zip:   0%|          | 0/504845455 [00:00<?, ?it/s]"
      ]
     },
     "metadata": {},
     "output_type": "display_data"
    },
    {
     "data": {
      "application/vnd.jupyter.widget-view+json": {
       "model_id": "dfe6d2cc13294924b32a5131a8fe55e2",
       "version_major": 2,
       "version_minor": 0
      },
      "text/plain": [
       "S1A_IW_20210608T111135_DVP_RTC30_G_gpufem_28FE.zip:   0%|          | 0/503075468 [00:00<?, ?it/s]"
      ]
     },
     "metadata": {},
     "output_type": "display_data"
    },
    {
     "data": {
      "application/vnd.jupyter.widget-view+json": {
       "model_id": "98554d9cbe8149859e6b66ed63d7cdd4",
       "version_major": 2,
       "version_minor": 0
      },
      "text/plain": [
       "S1A_IW_20201210T111134_DVP_RTC30_G_gpufem_ABB6.zip:   0%|          | 0/507113811 [00:00<?, ?it/s]"
      ]
     },
     "metadata": {},
     "output_type": "display_data"
    },
    {
     "data": {
      "application/vnd.jupyter.widget-view+json": {
       "model_id": "f90ae528e91343d097fa4ef1424f6470",
       "version_major": 2,
       "version_minor": 0
      },
      "text/plain": [
       "S1A_IW_20201104T111135_DVP_RTC30_G_gpufem_FDFF.zip:   0%|          | 0/509146191 [00:00<?, ?it/s]"
      ]
     },
     "metadata": {},
     "output_type": "display_data"
    },
    {
     "data": {
      "application/vnd.jupyter.widget-view+json": {
       "model_id": "eceb004211284e53851d864944016338",
       "version_major": 2,
       "version_minor": 0
      },
      "text/plain": [
       "S1A_IW_20210515T111134_DVP_RTC30_G_gpufem_0F9F.zip:   0%|          | 0/504893150 [00:00<?, ?it/s]"
      ]
     },
     "metadata": {},
     "output_type": "display_data"
    },
    {
     "data": {
      "application/vnd.jupyter.widget-view+json": {
       "model_id": "6bca8ee2f8e044a38f16a86929dd48f6",
       "version_major": 2,
       "version_minor": 0
      },
      "text/plain": [
       "S1A_IW_20210115T111133_DVP_RTC30_G_gpufem_2F58.zip:   0%|          | 0/504286113 [00:00<?, ?it/s]"
      ]
     },
     "metadata": {},
     "output_type": "display_data"
    },
    {
     "data": {
      "application/vnd.jupyter.widget-view+json": {
       "model_id": "d12ccbd05af7449faf50d26bc3cb20a9",
       "version_major": 2,
       "version_minor": 0
      },
      "text/plain": [
       "S1A_IW_20210103T111133_DVP_RTC30_G_gpufem_0BE4.zip:   0%|          | 0/504247778 [00:00<?, ?it/s]"
      ]
     },
     "metadata": {},
     "output_type": "display_data"
    },
    {
     "data": {
      "application/vnd.jupyter.widget-view+json": {
       "model_id": "58ea1e44cd1544129fa97c40dad8e343",
       "version_major": 2,
       "version_minor": 0
      },
      "text/plain": [
       "S1A_IW_20201222T111134_DVP_RTC30_G_gpufem_BD29.zip:   0%|          | 0/504740557 [00:00<?, ?it/s]"
      ]
     },
     "metadata": {},
     "output_type": "display_data"
    },
    {
     "data": {
      "application/vnd.jupyter.widget-view+json": {
       "model_id": "cee9344aef0f41608c40475afb263afe",
       "version_major": 2,
       "version_minor": 0
      },
      "text/plain": [
       "S1A_IW_20210831T111140_DVP_RTC30_G_gpufem_A9FB.zip:   0%|          | 0/502539612 [00:00<?, ?it/s]"
      ]
     },
     "metadata": {},
     "output_type": "display_data"
    },
    {
     "data": {
      "application/vnd.jupyter.widget-view+json": {
       "model_id": "4706d3c4f05c4abf98e7ae0bcfba4099",
       "version_major": 2,
       "version_minor": 0
      },
      "text/plain": [
       "S1A_IW_20220110T111139_DVP_RTC30_G_gpufem_45D5.zip:   0%|          | 0/504312656 [00:00<?, ?it/s]"
      ]
     },
     "metadata": {},
     "output_type": "display_data"
    },
    {
     "data": {
      "application/vnd.jupyter.widget-view+json": {
       "model_id": "f7551752a0bc4c3bbde55d5e3d077141",
       "version_major": 2,
       "version_minor": 0
      },
      "text/plain": [
       "S1A_IW_20211205T111140_DVP_RTC30_G_gpufem_87B1.zip:   0%|          | 0/505936343 [00:00<?, ?it/s]"
      ]
     },
     "metadata": {},
     "output_type": "display_data"
    },
    {
     "data": {
      "application/vnd.jupyter.widget-view+json": {
       "model_id": "5172a56ef43b4479a1df89691fa83dc9",
       "version_major": 2,
       "version_minor": 0
      },
      "text/plain": [
       "S1A_IW_20210702T111137_DVP_RTC30_G_gpufem_FD5E.zip:   0%|          | 0/503720148 [00:00<?, ?it/s]"
      ]
     },
     "metadata": {},
     "output_type": "display_data"
    },
    {
     "data": {
      "application/vnd.jupyter.widget-view+json": {
       "model_id": "36eddd7c768f40f3b0eda77b353cc3fc",
       "version_major": 2,
       "version_minor": 0
      },
      "text/plain": [
       "S1A_IW_20220203T111137_DVP_RTC30_G_gpufem_7FE8.zip:   0%|          | 0/503885804 [00:00<?, ?it/s]"
      ]
     },
     "metadata": {},
     "output_type": "display_data"
    },
    {
     "data": {
      "application/vnd.jupyter.widget-view+json": {
       "model_id": "1e34df28ac4246ca8b35597788b7431a",
       "version_major": 2,
       "version_minor": 0
      },
      "text/plain": [
       "S1A_IW_20220215T111137_DVP_RTC30_G_gpufem_415A.zip:   0%|          | 0/502912777 [00:00<?, ?it/s]"
      ]
     },
     "metadata": {},
     "output_type": "display_data"
    },
    {
     "data": {
      "application/vnd.jupyter.widget-view+json": {
       "model_id": "7775e1fe35fe472c94c29f228ed98eda",
       "version_major": 2,
       "version_minor": 0
      },
      "text/plain": [
       "S1A_IW_20210924T111141_DVP_RTC30_G_gpufem_20C9.zip:   0%|          | 0/504644391 [00:00<?, ?it/s]"
      ]
     },
     "metadata": {},
     "output_type": "display_data"
    },
    {
     "data": {
      "application/vnd.jupyter.widget-view+json": {
       "model_id": "4812c68637314549adcc32f31650d451",
       "version_major": 2,
       "version_minor": 0
      },
      "text/plain": [
       "S1A_IW_20210807T111139_DVP_RTC30_G_gpufem_E8C6.zip:   0%|          | 0/501676876 [00:00<?, ?it/s]"
      ]
     },
     "metadata": {},
     "output_type": "display_data"
    },
    {
     "data": {
      "application/vnd.jupyter.widget-view+json": {
       "model_id": "dcc2abe51b2a4c4aa4ad7700db60eae4",
       "version_major": 2,
       "version_minor": 0
      },
      "text/plain": [
       "S1A_IW_20210726T111138_DVP_RTC30_G_gpufem_71ED.zip:   0%|          | 0/501722515 [00:00<?, ?it/s]"
      ]
     },
     "metadata": {},
     "output_type": "display_data"
    },
    {
     "data": {
      "application/vnd.jupyter.widget-view+json": {
       "model_id": "bbe535a208984e3d9ce353fc6e68a8e3",
       "version_major": 2,
       "version_minor": 0
      },
      "text/plain": [
       "S1A_IW_20211217T111140_DVP_RTC30_G_gpufem_EDAA.zip:   0%|          | 0/506322095 [00:00<?, ?it/s]"
      ]
     },
     "metadata": {},
     "output_type": "display_data"
    },
    {
     "data": {
      "application/vnd.jupyter.widget-view+json": {
       "model_id": "8d6814f729a64286936085016f176985",
       "version_major": 2,
       "version_minor": 0
      },
      "text/plain": [
       "S1A_IW_20211030T111141_DVP_RTC30_G_gpufem_FF88.zip:   0%|          | 0/507565793 [00:00<?, ?it/s]"
      ]
     },
     "metadata": {},
     "output_type": "display_data"
    },
    {
     "data": {
      "application/vnd.jupyter.widget-view+json": {
       "model_id": "98edeac248e44a72811dfa0129c1d883",
       "version_major": 2,
       "version_minor": 0
      },
      "text/plain": [
       "S1A_IW_20211018T111141_DVP_RTC30_G_gpufem_84F6.zip:   0%|          | 0/508556808 [00:00<?, ?it/s]"
      ]
     },
     "metadata": {},
     "output_type": "display_data"
    },
    {
     "data": {
      "application/vnd.jupyter.widget-view+json": {
       "model_id": "078b24f9d8ec4ab8977f19d1366d335d",
       "version_major": 2,
       "version_minor": 0
      },
      "text/plain": [
       "S1A_IW_20211111T111141_DVP_RTC30_G_gpufem_732D.zip:   0%|          | 0/505748988 [00:00<?, ?it/s]"
      ]
     },
     "metadata": {},
     "output_type": "display_data"
    },
    {
     "data": {
      "application/vnd.jupyter.widget-view+json": {
       "model_id": "3e534db8cac742258e3aaa9055a734a0",
       "version_major": 2,
       "version_minor": 0
      },
      "text/plain": [
       "S1A_IW_20211123T111141_DVP_RTC30_G_gpufem_5510.zip:   0%|          | 0/507642206 [00:00<?, ?it/s]"
      ]
     },
     "metadata": {},
     "output_type": "display_data"
    },
    {
     "data": {
      "application/vnd.jupyter.widget-view+json": {
       "model_id": "7ad5b84a98124de79f5266d03df56bcc",
       "version_major": 2,
       "version_minor": 0
      },
      "text/plain": [
       "S1A_IW_20210819T111139_DVP_RTC30_G_gpufem_A578.zip:   0%|          | 0/502583631 [00:00<?, ?it/s]"
      ]
     },
     "metadata": {},
     "output_type": "display_data"
    },
    {
     "data": {
      "application/vnd.jupyter.widget-view+json": {
       "model_id": "f8220bc4c9f344f994912d0e45eb16bd",
       "version_major": 2,
       "version_minor": 0
      },
      "text/plain": [
       "S1A_IW_20220122T111138_DVP_RTC30_G_gpufem_066C.zip:   0%|          | 0/503504016 [00:00<?, ?it/s]"
      ]
     },
     "metadata": {},
     "output_type": "display_data"
    },
    {
     "data": {
      "application/vnd.jupyter.widget-view+json": {
       "model_id": "ccae23a3e1dc400784de30b6f4004101",
       "version_major": 2,
       "version_minor": 0
      },
      "text/plain": [
       "S1A_IW_20210912T111141_DVP_RTC30_G_gpufem_0F27.zip:   0%|          | 0/502172417 [00:00<?, ?it/s]"
      ]
     },
     "metadata": {},
     "output_type": "display_data"
    },
    {
     "data": {
      "application/vnd.jupyter.widget-view+json": {
       "model_id": "aac8ac43e09a43c38651cfc09d12097a",
       "version_major": 2,
       "version_minor": 0
      },
      "text/plain": [
       "S1A_IW_20211006T111141_DVP_RTC30_G_gpufem_317F.zip:   0%|          | 0/506767172 [00:00<?, ?it/s]"
      ]
     },
     "metadata": {},
     "output_type": "display_data"
    },
    {
     "data": {
      "application/vnd.jupyter.widget-view+json": {
       "model_id": "eaf58736b6b04c8e8fc70eb5b54188e0",
       "version_major": 2,
       "version_minor": 0
      },
      "text/plain": [
       "S1A_IW_20211229T111139_DVP_RTC30_G_gpufem_AA81.zip:   0%|          | 0/504390170 [00:00<?, ?it/s]"
      ]
     },
     "metadata": {},
     "output_type": "display_data"
    },
    {
     "data": {
      "application/vnd.jupyter.widget-view+json": {
       "model_id": "abb9ebb3afd5472294328b7a1614d966",
       "version_major": 2,
       "version_minor": 0
      },
      "text/plain": [
       "S1A_IW_20210714T111138_DVP_RTC30_G_gpufem_F6C3.zip:   0%|          | 0/502343776 [00:00<?, ?it/s]"
      ]
     },
     "metadata": {},
     "output_type": "display_data"
    },
    {
     "data": {
      "application/vnd.jupyter.widget-view+json": {
       "model_id": "19a0c5b058344e2aa8e9eede2ad07d7d",
       "version_major": 2,
       "version_minor": 0
      },
      "text/plain": [
       "S1A_IW_20220416T111138_DVP_RTC30_G_gpufem_53BC.zip:   0%|          | 0/503972367 [00:00<?, ?it/s]"
      ]
     },
     "metadata": {},
     "output_type": "display_data"
    },
    {
     "data": {
      "application/vnd.jupyter.widget-view+json": {
       "model_id": "4b1b7db6cea645a4957e453c33814755",
       "version_major": 2,
       "version_minor": 0
      },
      "text/plain": [
       "S1A_IW_20221013T111147_DVP_RTC30_G_gpufem_C03E.zip:   0%|          | 0/508247581 [00:00<?, ?it/s]"
      ]
     },
     "metadata": {},
     "output_type": "display_data"
    },
    {
     "data": {
      "application/vnd.jupyter.widget-view+json": {
       "model_id": "c873229014cc4ca9b858e6d56e69aaf8",
       "version_major": 2,
       "version_minor": 0
      },
      "text/plain": [
       "S1A_IW_20220627T111143_DVP_RTC30_G_gpufem_EB15.zip:   0%|          | 0/502908468 [00:00<?, ?it/s]"
      ]
     },
     "metadata": {},
     "output_type": "display_data"
    },
    {
     "data": {
      "application/vnd.jupyter.widget-view+json": {
       "model_id": "4d85c51403a54c4e96615001803ecedd",
       "version_major": 2,
       "version_minor": 0
      },
      "text/plain": [
       "S1A_IW_20220311T111137_DVP_RTC30_G_gpufem_BF4F.zip:   0%|          | 0/503836599 [00:00<?, ?it/s]"
      ]
     },
     "metadata": {},
     "output_type": "display_data"
    },
    {
     "data": {
      "application/vnd.jupyter.widget-view+json": {
       "model_id": "be9116ed237440d5bf10077752b8929f",
       "version_major": 2,
       "version_minor": 0
      },
      "text/plain": [
       "S1A_IW_20220603T111141_DVP_RTC30_G_gpufem_0E96.zip:   0%|          | 0/503670122 [00:00<?, ?it/s]"
      ]
     },
     "metadata": {},
     "output_type": "display_data"
    },
    {
     "data": {
      "application/vnd.jupyter.widget-view+json": {
       "model_id": "ef438103fb24483694f8dd8542f4e296",
       "version_major": 2,
       "version_minor": 0
      },
      "text/plain": [
       "S1A_IW_20220709T111143_DVP_RTC30_G_gpufem_76F2.zip:   0%|          | 0/501672890 [00:00<?, ?it/s]"
      ]
     },
     "metadata": {},
     "output_type": "display_data"
    },
    {
     "data": {
      "application/vnd.jupyter.widget-view+json": {
       "model_id": "770721f6f5f840929e5f309ca4bcf622",
       "version_major": 2,
       "version_minor": 0
      },
      "text/plain": [
       "S1A_IW_20220721T111144_DVP_RTC30_G_gpufem_C29D.zip:   0%|          | 0/504001590 [00:00<?, ?it/s]"
      ]
     },
     "metadata": {},
     "output_type": "display_data"
    },
    {
     "data": {
      "application/vnd.jupyter.widget-view+json": {
       "model_id": "56bc1f53d1634ead9912479382dd4d06",
       "version_major": 2,
       "version_minor": 0
      },
      "text/plain": [
       "S1A_IW_20220428T111139_DVP_RTC30_G_gpufem_423B.zip:   0%|          | 0/504546145 [00:00<?, ?it/s]"
      ]
     },
     "metadata": {},
     "output_type": "display_data"
    },
    {
     "data": {
      "application/vnd.jupyter.widget-view+json": {
       "model_id": "2263d731f84a41caac16fc840da20bd1",
       "version_major": 2,
       "version_minor": 0
      },
      "text/plain": [
       "S1A_IW_20221001T111147_DVP_RTC30_G_gpufem_EDEC.zip:   0%|          | 0/507115009 [00:00<?, ?it/s]"
      ]
     },
     "metadata": {},
     "output_type": "display_data"
    },
    {
     "data": {
      "application/vnd.jupyter.widget-view+json": {
       "model_id": "e22fdee0f5a642d7bc25a62f103cf8ee",
       "version_major": 2,
       "version_minor": 0
      },
      "text/plain": [
       "S1A_IW_20220907T111147_DVP_RTC30_G_gpufem_147C.zip:   0%|          | 0/505024775 [00:00<?, ?it/s]"
      ]
     },
     "metadata": {},
     "output_type": "display_data"
    },
    {
     "data": {
      "application/vnd.jupyter.widget-view+json": {
       "model_id": "2175b04b43614757936935d7affdb70c",
       "version_major": 2,
       "version_minor": 0
      },
      "text/plain": [
       "S1A_IW_20220404T111138_DVP_RTC30_G_gpufem_E130.zip:   0%|          | 0/502973352 [00:00<?, ?it/s]"
      ]
     },
     "metadata": {},
     "output_type": "display_data"
    },
    {
     "data": {
      "application/vnd.jupyter.widget-view+json": {
       "model_id": "2c0789d0aa3d49b59d88570d5828d4c1",
       "version_major": 2,
       "version_minor": 0
      },
      "text/plain": [
       "S1A_IW_20220615T111142_DVP_RTC30_G_gpufem_616E.zip:   0%|          | 0/503235424 [00:00<?, ?it/s]"
      ]
     },
     "metadata": {},
     "output_type": "display_data"
    },
    {
     "data": {
      "application/vnd.jupyter.widget-view+json": {
       "model_id": "399048313b6e4a639ac74cea8ab19c49",
       "version_major": 2,
       "version_minor": 0
      },
      "text/plain": [
       "S1A_IW_20220510T111139_DVP_RTC30_G_gpufem_952C.zip:   0%|          | 0/506238439 [00:00<?, ?it/s]"
      ]
     },
     "metadata": {},
     "output_type": "display_data"
    },
    {
     "data": {
      "application/vnd.jupyter.widget-view+json": {
       "model_id": "3961205830e04a19b1d92ed1813956a5",
       "version_major": 2,
       "version_minor": 0
      },
      "text/plain": [
       "S1A_IW_20220802T111145_DVP_RTC30_G_gpufem_71B5.zip:   0%|          | 0/502701389 [00:00<?, ?it/s]"
      ]
     },
     "metadata": {},
     "output_type": "display_data"
    },
    {
     "data": {
      "application/vnd.jupyter.widget-view+json": {
       "model_id": "ca4b909b1b284bd0828dc7734787d53c",
       "version_major": 2,
       "version_minor": 0
      },
      "text/plain": [
       "S1A_IW_20220919T111146_DVP_RTC30_G_gpufem_DB75.zip:   0%|          | 0/505136658 [00:00<?, ?it/s]"
      ]
     },
     "metadata": {},
     "output_type": "display_data"
    },
    {
     "data": {
      "application/vnd.jupyter.widget-view+json": {
       "model_id": "1638a96f1464423bb19b12ce0d1299ff",
       "version_major": 2,
       "version_minor": 0
      },
      "text/plain": [
       "S1A_IW_20220826T111146_DVP_RTC30_G_gpufem_B18C.zip:   0%|          | 0/503631618 [00:00<?, ?it/s]"
      ]
     },
     "metadata": {},
     "output_type": "display_data"
    },
    {
     "data": {
      "application/vnd.jupyter.widget-view+json": {
       "model_id": "af04adf7e2434b03adece64f4dec33a3",
       "version_major": 2,
       "version_minor": 0
      },
      "text/plain": [
       "S1A_IW_20220323T111138_DVP_RTC30_G_gpufem_2794.zip:   0%|          | 0/502866168 [00:00<?, ?it/s]"
      ]
     },
     "metadata": {},
     "output_type": "display_data"
    },
    {
     "data": {
      "application/vnd.jupyter.widget-view+json": {
       "model_id": "328d99999ace4c05bce631a7cf142b99",
       "version_major": 2,
       "version_minor": 0
      },
      "text/plain": [
       "S1A_IW_20220814T111146_DVP_RTC30_G_gpufem_99DE.zip:   0%|          | 0/503483143 [00:00<?, ?it/s]"
      ]
     },
     "metadata": {},
     "output_type": "display_data"
    },
    {
     "data": {
      "application/vnd.jupyter.widget-view+json": {
       "model_id": "3524ba872a644b53be292f1fff86ee77",
       "version_major": 2,
       "version_minor": 0
      },
      "text/plain": [
       "S1A_IW_20220227T111137_DVP_RTC30_G_gpufem_509F.zip:   0%|          | 0/503612706 [00:00<?, ?it/s]"
      ]
     },
     "metadata": {},
     "output_type": "display_data"
    },
    {
     "data": {
      "application/vnd.jupyter.widget-view+json": {
       "model_id": "71b1b2502c8f4d3c8366980f5307f5f9",
       "version_major": 2,
       "version_minor": 0
      },
      "text/plain": [
       "S1A_IW_20220522T111140_DVP_RTC30_G_gpufem_D6F3.zip:   0%|          | 0/503685494 [00:00<?, ?it/s]"
      ]
     },
     "metadata": {},
     "output_type": "display_data"
    },
    {
     "data": {
      "application/vnd.jupyter.widget-view+json": {
       "model_id": "43b60d9632964efb9ebb53d12de47a54",
       "version_major": 2,
       "version_minor": 0
      },
      "text/plain": [
       "S1A_IW_20221118T111147_DVP_RTC30_G_gpufem_0829.zip:   0%|          | 0/507448745 [00:00<?, ?it/s]"
      ]
     },
     "metadata": {},
     "output_type": "display_data"
    },
    {
     "data": {
      "application/vnd.jupyter.widget-view+json": {
       "model_id": "e579c7a260cf4b6281d612ae84f667b2",
       "version_major": 2,
       "version_minor": 0
      },
      "text/plain": [
       "S1A_IW_20221212T111146_DVP_RTC30_G_gpufem_6A60.zip:   0%|          | 0/505069517 [00:00<?, ?it/s]"
      ]
     },
     "metadata": {},
     "output_type": "display_data"
    },
    {
     "data": {
      "application/vnd.jupyter.widget-view+json": {
       "model_id": "0c500ff50f3143b9a164c0ca6946ccd8",
       "version_major": 2,
       "version_minor": 0
      },
      "text/plain": [
       "S1A_IW_20230222T111143_DVP_RTC30_G_gpufem_FD20.zip:   0%|          | 0/505055449 [00:00<?, ?it/s]"
      ]
     },
     "metadata": {},
     "output_type": "display_data"
    },
    {
     "data": {
      "application/vnd.jupyter.widget-view+json": {
       "model_id": "7389e78b81754a2a982d10d94e54c307",
       "version_major": 2,
       "version_minor": 0
      },
      "text/plain": [
       "S1A_IW_20221025T111147_DVP_RTC30_G_gpufem_3A17.zip:   0%|          | 0/508572691 [00:00<?, ?it/s]"
      ]
     },
     "metadata": {},
     "output_type": "display_data"
    },
    {
     "data": {
      "application/vnd.jupyter.widget-view+json": {
       "model_id": "becd40fb382c44a899c72891468735a4",
       "version_major": 2,
       "version_minor": 0
      },
      "text/plain": [
       "S1A_IW_20230210T111143_DVP_RTC30_G_gpufem_0BCB.zip:   0%|          | 0/504667936 [00:00<?, ?it/s]"
      ]
     },
     "metadata": {},
     "output_type": "display_data"
    },
    {
     "data": {
      "application/vnd.jupyter.widget-view+json": {
       "model_id": "b536828d53b54a6aae3f4c7e1b97320c",
       "version_major": 2,
       "version_minor": 0
      },
      "text/plain": [
       "S1A_IW_20230129T111144_DVP_RTC30_G_gpufem_A72B.zip:   0%|          | 0/504300840 [00:00<?, ?it/s]"
      ]
     },
     "metadata": {},
     "output_type": "display_data"
    },
    {
     "data": {
      "application/vnd.jupyter.widget-view+json": {
       "model_id": "4069b7778c5f4c17897e7b682c049f4f",
       "version_major": 2,
       "version_minor": 0
      },
      "text/plain": [
       "S1A_IW_20230105T111144_DVP_RTC30_G_gpufem_0633.zip:   0%|          | 0/503925270 [00:00<?, ?it/s]"
      ]
     },
     "metadata": {},
     "output_type": "display_data"
    },
    {
     "data": {
      "application/vnd.jupyter.widget-view+json": {
       "model_id": "21d100a7ace642a8880dc1a665a89e6f",
       "version_major": 2,
       "version_minor": 0
      },
      "text/plain": [
       "S1A_IW_20221106T111147_DVP_RTC30_G_gpufem_9620.zip:   0%|          | 0/507903575 [00:00<?, ?it/s]"
      ]
     },
     "metadata": {},
     "output_type": "display_data"
    },
    {
     "data": {
      "application/vnd.jupyter.widget-view+json": {
       "model_id": "0003f246f5d040e2ba3e9d54549654ca",
       "version_major": 2,
       "version_minor": 0
      },
      "text/plain": [
       "S1A_IW_20230330T111143_DVP_RTC30_G_gpufem_2722.zip:   0%|          | 0/505164164 [00:00<?, ?it/s]"
      ]
     },
     "metadata": {},
     "output_type": "display_data"
    },
    {
     "data": {
      "application/vnd.jupyter.widget-view+json": {
       "model_id": "e7a50c99f4ad4d99978ae1afd754244b",
       "version_major": 2,
       "version_minor": 0
      },
      "text/plain": [
       "S1A_IW_20230306T111143_DVP_RTC30_G_gpufem_D1D3.zip:   0%|          | 0/504761455 [00:00<?, ?it/s]"
      ]
     },
     "metadata": {},
     "output_type": "display_data"
    },
    {
     "data": {
      "application/vnd.jupyter.widget-view+json": {
       "model_id": "395a9d009e2f4b1ca19a6eb8f95b54ed",
       "version_major": 2,
       "version_minor": 0
      },
      "text/plain": [
       "S1A_IW_20230318T111143_DVP_RTC30_G_gpufem_7F1A.zip:   0%|          | 0/505120877 [00:00<?, ?it/s]"
      ]
     },
     "metadata": {},
     "output_type": "display_data"
    },
    {
     "data": {
      "application/vnd.jupyter.widget-view+json": {
       "model_id": "d6cf35225370457ea6d294f3b41967df",
       "version_major": 2,
       "version_minor": 0
      },
      "text/plain": [
       "S1A_IW_20221224T111145_DVP_RTC30_G_gpufem_6065.zip:   0%|          | 0/504955502 [00:00<?, ?it/s]"
      ]
     },
     "metadata": {},
     "output_type": "display_data"
    },
    {
     "data": {
      "application/vnd.jupyter.widget-view+json": {
       "model_id": "4ddf7036e21f4914a4e1c314bed981c4",
       "version_major": 2,
       "version_minor": 0
      },
      "text/plain": [
       "S1A_IW_20230423T111144_DVP_RTC30_G_gpufem_E7C1.zip:   0%|          | 0/505144044 [00:00<?, ?it/s]"
      ]
     },
     "metadata": {},
     "output_type": "display_data"
    },
    {
     "data": {
      "application/vnd.jupyter.widget-view+json": {
       "model_id": "5f8d415e697d4c64ae64bd6dbbaea9f4",
       "version_major": 2,
       "version_minor": 0
      },
      "text/plain": [
       "S1A_IW_20230529T111146_DVP_RTC30_G_gpufem_EF64.zip:   0%|          | 0/503443255 [00:00<?, ?it/s]"
      ]
     },
     "metadata": {},
     "output_type": "display_data"
    },
    {
     "data": {
      "application/vnd.jupyter.widget-view+json": {
       "model_id": "09a2b17ad26e4202976be523d169a6fb",
       "version_major": 2,
       "version_minor": 0
      },
      "text/plain": [
       "S1A_IW_20230517T111145_DVP_RTC30_G_gpufem_2150.zip:   0%|          | 0/504086154 [00:00<?, ?it/s]"
      ]
     },
     "metadata": {},
     "output_type": "display_data"
    },
    {
     "data": {
      "application/vnd.jupyter.widget-view+json": {
       "model_id": "447175343ed843d18b466771cbb8264a",
       "version_major": 2,
       "version_minor": 0
      },
      "text/plain": [
       "S1A_IW_20221130T111146_DVP_RTC30_G_gpufem_A5F3.zip:   0%|          | 0/507140689 [00:00<?, ?it/s]"
      ]
     },
     "metadata": {},
     "output_type": "display_data"
    },
    {
     "data": {
      "application/vnd.jupyter.widget-view+json": {
       "model_id": "9a514d6d7bcb4b9a947bb7ddb769283d",
       "version_major": 2,
       "version_minor": 0
      },
      "text/plain": [
       "S1A_IW_20230505T111145_DVP_RTC30_G_gpufem_EE96.zip:   0%|          | 0/504972438 [00:00<?, ?it/s]"
      ]
     },
     "metadata": {},
     "output_type": "display_data"
    },
    {
     "data": {
      "application/vnd.jupyter.widget-view+json": {
       "model_id": "6de13112e97e42c193e1c4f2964fc654",
       "version_major": 2,
       "version_minor": 0
      },
      "text/plain": [
       "S1A_IW_20230411T111144_DVP_RTC30_G_gpufem_81C2.zip:   0%|          | 0/506035591 [00:00<?, ?it/s]"
      ]
     },
     "metadata": {},
     "output_type": "display_data"
    },
    {
     "data": {
      "application/vnd.jupyter.widget-view+json": {
       "model_id": "552083618e804eaa9ee2f9cfb14a527a",
       "version_major": 2,
       "version_minor": 0
      },
      "text/plain": [
       "S1A_IW_20230622T111147_DVR_RTC30_G_gpufem_DADC.zip:   0%|          | 0/502919397 [00:00<?, ?it/s]"
      ]
     },
     "metadata": {},
     "output_type": "display_data"
    },
    {
     "data": {
      "application/vnd.jupyter.widget-view+json": {
       "model_id": "9dc14ae24539421986496e363f8a5044",
       "version_major": 2,
       "version_minor": 0
      },
      "text/plain": [
       "S1A_IW_20230117T111144_DVP_RTC30_G_gpufem_80BE.zip:   0%|          | 0/503208529 [00:00<?, ?it/s]"
      ]
     },
     "metadata": {},
     "output_type": "display_data"
    },
    {
     "name": "stdout",
     "output_type": "stream",
     "text": [
      "Extracting: /home/jovyan/Hydrosar/Dataset/Cambodia/RTC_GAMMA/S1A_IW_20171202T111115_DVP_RTC30_G_gpufem_C516.zip\n",
      "Extracting: /home/jovyan/Hydrosar/Dataset/Cambodia/RTC_GAMMA/S1A_IW_20180131T111113_DVP_RTC30_G_gpufem_955B.zip\n",
      "Extracting: /home/jovyan/Hydrosar/Dataset/Cambodia/RTC_GAMMA/S1A_IW_20171120T111116_DVP_RTC30_G_gpufem_25A1.zip\n",
      "Extracting: /home/jovyan/Hydrosar/Dataset/Cambodia/RTC_GAMMA/S1A_IW_20171108T111116_DVP_RTC30_G_gpufem_20BA.zip\n",
      "Extracting: /home/jovyan/Hydrosar/Dataset/Cambodia/RTC_GAMMA/S1A_IW_20171214T111115_DVP_RTC30_G_gpufem_52D2.zip\n",
      "Extracting: /home/jovyan/Hydrosar/Dataset/Cambodia/RTC_GAMMA/S1A_IW_20180119T111114_DVP_RTC30_G_gpufem_287C.zip\n",
      "Extracting: /home/jovyan/Hydrosar/Dataset/Cambodia/RTC_GAMMA/S1A_IW_20171226T111114_DVP_RTC30_G_gpufem_ECBD.zip\n",
      "Extracting: /home/jovyan/Hydrosar/Dataset/Cambodia/RTC_GAMMA/S1A_IW_20180224T111113_DVP_RTC30_G_gpufem_44C3.zip\n",
      "Extracting: /home/jovyan/Hydrosar/Dataset/Cambodia/RTC_GAMMA/S1A_IW_20171027T111116_DVP_RTC30_G_gpufem_474A.zip\n",
      "Extracting: /home/jovyan/Hydrosar/Dataset/Cambodia/RTC_GAMMA/S1A_IW_20180212T111113_DVP_RTC30_G_gpufem_581E.zip\n",
      "Extracting: /home/jovyan/Hydrosar/Dataset/Cambodia/RTC_GAMMA/S1A_IW_20180107T111114_DVP_RTC30_G_gpufem_9D06.zip\n",
      "Extracting: /home/jovyan/Hydrosar/Dataset/Cambodia/RTC_GAMMA/S1A_IW_20171015T111116_DVP_RTC30_G_gpufem_C4E1.zip\n",
      "Extracting: /home/jovyan/Hydrosar/Dataset/Cambodia/RTC_GAMMA/S1A_IW_20180718T111119_DVP_RTC30_G_gpufem_5AE4.zip\n",
      "Extracting: /home/jovyan/Hydrosar/Dataset/Cambodia/RTC_GAMMA/S1A_IW_20180916T111122_DVP_RTC30_G_gpufem_4830.zip\n",
      "Extracting: /home/jovyan/Hydrosar/Dataset/Cambodia/RTC_GAMMA/S1A_IW_20180612T111117_DVP_RTC30_G_gpufem_726A.zip\n",
      "Extracting: /home/jovyan/Hydrosar/Dataset/Cambodia/RTC_GAMMA/S1A_IW_20180425T111114_DVP_RTC30_G_gpufem_31ED.zip\n",
      "Extracting: /home/jovyan/Hydrosar/Dataset/Cambodia/RTC_GAMMA/S1A_IW_20180519T111116_DVP_RTC30_G_gpufem_66F3.zip\n",
      "Extracting: /home/jovyan/Hydrosar/Dataset/Cambodia/RTC_GAMMA/S1A_IW_20180413T111114_DVP_RTC30_G_gpufem_0F5C.zip\n",
      "Extracting: /home/jovyan/Hydrosar/Dataset/Cambodia/RTC_GAMMA/S1A_IW_20180624T111118_DVP_RTC30_G_gpufem_9175.zip\n",
      "Extracting: /home/jovyan/Hydrosar/Dataset/Cambodia/RTC_GAMMA/S1A_IW_20180401T111113_DVP_RTC30_G_gpufem_E0C3.zip\n",
      "Extracting: /home/jovyan/Hydrosar/Dataset/Cambodia/RTC_GAMMA/S1A_IW_20180811T111121_DVP_RTC30_G_gpufem_C2B4.zip\n",
      "Extracting: /home/jovyan/Hydrosar/Dataset/Cambodia/RTC_GAMMA/S1A_IW_20181103T111123_DVP_RTC30_G_gpufem_56E1.zip\n",
      "Extracting: /home/jovyan/Hydrosar/Dataset/Cambodia/RTC_GAMMA/S1A_IW_20181010T111123_DVP_RTC30_G_gpufem_AEB8.zip\n",
      "Extracting: /home/jovyan/Hydrosar/Dataset/Cambodia/RTC_GAMMA/S1A_IW_20181022T111123_DVP_RTC30_G_gpufem_8B57.zip\n",
      "Extracting: /home/jovyan/Hydrosar/Dataset/Cambodia/RTC_GAMMA/S1A_IW_20180320T111113_DVP_RTC30_G_gpufem_FACE.zip\n",
      "Extracting: /home/jovyan/Hydrosar/Dataset/Cambodia/RTC_GAMMA/S1A_IW_20180928T111123_DVP_RTC30_G_gpufem_A976.zip\n",
      "Extracting: /home/jovyan/Hydrosar/Dataset/Cambodia/RTC_GAMMA/S1A_IW_20180531T111116_DVP_RTC30_G_gpufem_1142.zip\n",
      "Extracting: /home/jovyan/Hydrosar/Dataset/Cambodia/RTC_GAMMA/S1A_IW_20180308T111113_DVP_RTC30_G_gpufem_49B2.zip\n",
      "Extracting: /home/jovyan/Hydrosar/Dataset/Cambodia/RTC_GAMMA/S1A_IW_20180730T111120_DVP_RTC30_G_gpufem_B483.zip\n",
      "Extracting: /home/jovyan/Hydrosar/Dataset/Cambodia/RTC_GAMMA/S1A_IW_20180904T111122_DVP_RTC30_G_gpufem_1A9E.zip\n",
      "Extracting: /home/jovyan/Hydrosar/Dataset/Cambodia/RTC_GAMMA/S1A_IW_20180823T111121_DVP_RTC30_G_gpufem_B833.zip\n",
      "Extracting: /home/jovyan/Hydrosar/Dataset/Cambodia/RTC_GAMMA/S1A_IW_20180507T111115_DVP_RTC30_G_gpufem_119E.zip\n",
      "Extracting: /home/jovyan/Hydrosar/Dataset/Cambodia/RTC_GAMMA/S1A_IW_20190619T111123_DVP_RTC30_G_gpufem_1D81.zip\n",
      "Extracting: /home/jovyan/Hydrosar/Dataset/Cambodia/RTC_GAMMA/S1A_IW_20190126T111120_DVP_RTC30_G_gpufem_65B3.zip\n",
      "Extracting: /home/jovyan/Hydrosar/Dataset/Cambodia/RTC_GAMMA/S1A_IW_20190315T111119_DVP_RTC30_G_gpufem_338B.zip\n",
      "Extracting: /home/jovyan/Hydrosar/Dataset/Cambodia/RTC_GAMMA/S1A_IW_20190502T111121_DVP_RTC30_G_gpufem_0187.zip\n",
      "Extracting: /home/jovyan/Hydrosar/Dataset/Cambodia/RTC_GAMMA/S1A_IW_20190514T111121_DVP_RTC30_G_gpufem_40CE.zip\n",
      "Extracting: /home/jovyan/Hydrosar/Dataset/Cambodia/RTC_GAMMA/S1A_IW_20190701T111124_DVP_RTC30_G_gpufem_671D.zip\n",
      "Extracting: /home/jovyan/Hydrosar/Dataset/Cambodia/RTC_GAMMA/S1A_IW_20190408T111120_DVP_RTC30_G_gpufem_D773.zip\n",
      "Extracting: /home/jovyan/Hydrosar/Dataset/Cambodia/RTC_GAMMA/S1A_IW_20181221T111121_DVP_RTC30_G_gpufem_FE96.zip\n",
      "Extracting: /home/jovyan/Hydrosar/Dataset/Cambodia/RTC_GAMMA/S1A_IW_20190114T111120_DVP_RTC30_G_gpufem_6100.zip\n",
      "Extracting: /home/jovyan/Hydrosar/Dataset/Cambodia/RTC_GAMMA/S1A_IW_20190327T111120_DVP_RTC30_G_gpufem_9D4A.zip\n",
      "Extracting: /home/jovyan/Hydrosar/Dataset/Cambodia/RTC_GAMMA/S1A_IW_20181209T111122_DVP_RTC30_G_gpufem_9E2E.zip\n",
      "Extracting: /home/jovyan/Hydrosar/Dataset/Cambodia/RTC_GAMMA/S1A_IW_20190207T111119_DVP_RTC30_G_gpufem_D208.zip\n",
      "Extracting: /home/jovyan/Hydrosar/Dataset/Cambodia/RTC_GAMMA/S1A_IW_20190102T111121_DVP_RTC30_G_gpufem_A8D7.zip\n",
      "Extracting: /home/jovyan/Hydrosar/Dataset/Cambodia/RTC_GAMMA/S1A_IW_20181127T111122_DVP_RTC30_G_gpufem_FC9F.zip\n",
      "Extracting: /home/jovyan/Hydrosar/Dataset/Cambodia/RTC_GAMMA/S1A_IW_20190607T111123_DVP_RTC30_G_gpufem_6575.zip\n",
      "Extracting: /home/jovyan/Hydrosar/Dataset/Cambodia/RTC_GAMMA/S1A_IW_20181115T111123_DVP_RTC30_G_gpufem_2314.zip\n",
      "Extracting: /home/jovyan/Hydrosar/Dataset/Cambodia/RTC_GAMMA/S1A_IW_20190420T111120_DVP_RTC30_G_gpufem_445B.zip\n",
      "Extracting: /home/jovyan/Hydrosar/Dataset/Cambodia/RTC_GAMMA/S1A_IW_20190303T111120_DVP_RTC30_G_gpufem_8B62.zip\n",
      "Extracting: /home/jovyan/Hydrosar/Dataset/Cambodia/RTC_GAMMA/S1A_IW_20190526T111122_DVP_RTC30_G_gpufem_0975.zip\n",
      "Extracting: /home/jovyan/Hydrosar/Dataset/Cambodia/RTC_GAMMA/S1A_IW_20190219T111119_DVP_RTC30_G_gpufem_6CD0.zip\n",
      "Extracting: /home/jovyan/Hydrosar/Dataset/Cambodia/RTC_GAMMA/S1A_IW_20190725T111126_DVP_RTC30_G_gpufem_A4F6.zip\n",
      "Extracting: /home/jovyan/Hydrosar/Dataset/Cambodia/RTC_GAMMA/S1A_IW_20200214T111126_DVP_RTC30_G_gpufem_299B.zip\n",
      "Extracting: /home/jovyan/Hydrosar/Dataset/Cambodia/RTC_GAMMA/S1A_IW_20190923T111129_DVP_RTC30_G_gpufem_8986.zip\n",
      "Extracting: /home/jovyan/Hydrosar/Dataset/Cambodia/RTC_GAMMA/S1A_IW_20190713T111125_DVP_RTC30_G_gpufem_DB85.zip\n",
      "Extracting: /home/jovyan/Hydrosar/Dataset/Cambodia/RTC_GAMMA/S1A_IW_20200121T111127_DVP_RTC30_G_gpufem_E103.zip\n",
      "Extracting: /home/jovyan/Hydrosar/Dataset/Cambodia/RTC_GAMMA/S1A_IW_20190911T111128_DVP_RTC30_G_gpufem_847C.zip\n",
      "Extracting: /home/jovyan/Hydrosar/Dataset/Cambodia/RTC_GAMMA/S1A_IW_20190806T111127_DVP_RTC30_G_gpufem_5C98.zip\n",
      "Extracting: /home/jovyan/Hydrosar/Dataset/Cambodia/RTC_GAMMA/S1A_IW_20191110T111129_DVP_RTC30_G_gpufem_00EE.zip\n",
      "Extracting: /home/jovyan/Hydrosar/Dataset/Cambodia/RTC_GAMMA/S1A_IW_20191017T111129_DVP_RTC30_G_gpufem_4389.zip\n",
      "Extracting: /home/jovyan/Hydrosar/Dataset/Cambodia/RTC_GAMMA/S1A_IW_20191005T111129_DVP_RTC30_G_gpufem_D701.zip\n",
      "Extracting: /home/jovyan/Hydrosar/Dataset/Cambodia/RTC_GAMMA/S1A_IW_20200109T111127_DVP_RTC30_G_gpufem_BF47.zip\n",
      "Extracting: /home/jovyan/Hydrosar/Dataset/Cambodia/RTC_GAMMA/S1A_IW_20191204T111128_DVP_RTC30_G_gpufem_380E.zip\n",
      "Extracting: /home/jovyan/Hydrosar/Dataset/Cambodia/RTC_GAMMA/S1A_IW_20191029T111129_DVP_RTC30_G_gpufem_4F11.zip\n",
      "Extracting: /home/jovyan/Hydrosar/Dataset/Cambodia/RTC_GAMMA/S1A_IW_20191122T111129_DVP_RTC30_G_gpufem_F00C.zip\n",
      "Extracting: /home/jovyan/Hydrosar/Dataset/Cambodia/RTC_GAMMA/S1A_IW_20190818T111127_DVP_RTC30_G_gpufem_1CD6.zip\n",
      "Extracting: /home/jovyan/Hydrosar/Dataset/Cambodia/RTC_GAMMA/S1A_IW_20200202T111126_DVP_RTC30_G_gpufem_B611.zip\n",
      "Extracting: /home/jovyan/Hydrosar/Dataset/Cambodia/RTC_GAMMA/S1A_IW_20191216T111128_DVP_RTC30_G_gpufem_1801.zip\n",
      "Extracting: /home/jovyan/Hydrosar/Dataset/Cambodia/RTC_GAMMA/S1A_IW_20190830T111128_DVP_RTC30_G_gpufem_CC23.zip\n",
      "Extracting: /home/jovyan/Hydrosar/Dataset/Cambodia/RTC_GAMMA/S1A_IW_20200226T111126_DVP_RTC30_G_gpufem_3845.zip\n",
      "Extracting: /home/jovyan/Hydrosar/Dataset/Cambodia/RTC_GAMMA/S1A_IW_20191228T111127_DVP_RTC30_G_gpufem_B293.zip\n",
      "Extracting: /home/jovyan/Hydrosar/Dataset/Cambodia/RTC_GAMMA/S1A_IW_20200402T111126_DVP_RTC30_G_gpufem_D2A9.zip\n",
      "Extracting: /home/jovyan/Hydrosar/Dataset/Cambodia/RTC_GAMMA/S1A_IW_20200601T111129_DVP_RTC30_G_gpufem_28E3.zip\n",
      "Extracting: /home/jovyan/Hydrosar/Dataset/Cambodia/RTC_GAMMA/S1A_IW_20200731T111133_DVP_RTC30_G_gpufem_87F7.zip\n",
      "Extracting: /home/jovyan/Hydrosar/Dataset/Cambodia/RTC_GAMMA/S1A_IW_20200929T111135_DVP_RTC30_G_gpufem_6C9A.zip\n",
      "Extracting: /home/jovyan/Hydrosar/Dataset/Cambodia/RTC_GAMMA/S1A_IW_20200426T111127_DVP_RTC30_G_gpufem_6DA1.zip\n",
      "Extracting: /home/jovyan/Hydrosar/Dataset/Cambodia/RTC_GAMMA/S1A_IW_20200520T111128_DVP_RTC30_G_gpufem_85A3.zip\n",
      "Extracting: /home/jovyan/Hydrosar/Dataset/Cambodia/RTC_GAMMA/S1A_IW_20200625T111130_DVP_RTC30_G_gpufem_9880.zip\n",
      "Extracting: /home/jovyan/Hydrosar/Dataset/Cambodia/RTC_GAMMA/S1A_IW_20200905T111135_DVP_RTC30_G_gpufem_C16D.zip\n",
      "Extracting: /home/jovyan/Hydrosar/Dataset/Cambodia/RTC_GAMMA/S1A_IW_20200824T111134_DVP_RTC30_G_gpufem_3B79.zip\n",
      "Extracting: /home/jovyan/Hydrosar/Dataset/Cambodia/RTC_GAMMA/S1A_IW_20200917T111135_DVP_RTC30_G_gpufem_AF63.zip\n",
      "Extracting: /home/jovyan/Hydrosar/Dataset/Cambodia/RTC_GAMMA/S1A_IW_20200812T111133_DVP_RTC30_G_gpufem_AF7C.zip\n",
      "Extracting: /home/jovyan/Hydrosar/Dataset/Cambodia/RTC_GAMMA/S1A_IW_20200707T111131_DVP_RTC30_G_gpufem_3FE9.zip\n",
      "Extracting: /home/jovyan/Hydrosar/Dataset/Cambodia/RTC_GAMMA/S1A_IW_20200508T111128_DVP_RTC30_G_gpufem_7750.zip\n",
      "Extracting: /home/jovyan/Hydrosar/Dataset/Cambodia/RTC_GAMMA/S1A_IW_20200321T111126_DVP_RTC30_G_gpufem_AF4C.zip\n",
      "Extracting: /home/jovyan/Hydrosar/Dataset/Cambodia/RTC_GAMMA/S1A_IW_20200719T111132_DVP_RTC30_G_gpufem_6153.zip\n",
      "Extracting: /home/jovyan/Hydrosar/Dataset/Cambodia/RTC_GAMMA/S1A_IW_20201011T111136_DVP_RTC30_G_gpufem_8CDE.zip\n",
      "Extracting: /home/jovyan/Hydrosar/Dataset/Cambodia/RTC_GAMMA/S1A_IW_20200309T111126_DVP_RTC30_G_gpufem_AC1F.zip\n",
      "Extracting: /home/jovyan/Hydrosar/Dataset/Cambodia/RTC_GAMMA/S1A_IW_20200613T111130_DVP_RTC30_G_gpufem_9B14.zip\n",
      "Extracting: /home/jovyan/Hydrosar/Dataset/Cambodia/RTC_GAMMA/S1A_IW_20200414T111127_DVP_RTC30_G_gpufem_F738.zip\n",
      "Extracting: /home/jovyan/Hydrosar/Dataset/Cambodia/RTC_GAMMA/S1A_IW_20201023T111136_DVP_RTC30_G_gpufem_CC84.zip\n",
      "Extracting: /home/jovyan/Hydrosar/Dataset/Cambodia/RTC_GAMMA/S1A_IW_20210304T111131_DVP_RTC30_G_gpufem_61FD.zip\n",
      "Extracting: /home/jovyan/Hydrosar/Dataset/Cambodia/RTC_GAMMA/S1A_IW_20210527T111135_DVP_RTC30_G_gpufem_F4C4.zip\n",
      "Extracting: /home/jovyan/Hydrosar/Dataset/Cambodia/RTC_GAMMA/S1A_IW_20210220T111132_DVP_RTC30_G_gpufem_24C6.zip\n",
      "Extracting: /home/jovyan/Hydrosar/Dataset/Cambodia/RTC_GAMMA/S1A_IW_20210503T111133_DVP_RTC30_G_gpufem_6532.zip\n",
      "Extracting: /home/jovyan/Hydrosar/Dataset/Cambodia/RTC_GAMMA/S1A_IW_20201128T111135_DVP_RTC30_G_gpufem_0ED5.zip\n",
      "Extracting: /home/jovyan/Hydrosar/Dataset/Cambodia/RTC_GAMMA/S1A_IW_20210208T111132_DVP_RTC30_G_gpufem_5C75.zip\n",
      "Extracting: /home/jovyan/Hydrosar/Dataset/Cambodia/RTC_GAMMA/S1A_IW_20210409T111132_DVP_RTC30_G_gpufem_5F82.zip\n",
      "Extracting: /home/jovyan/Hydrosar/Dataset/Cambodia/RTC_GAMMA/S1A_IW_20210421T111133_DVP_RTC30_G_gpufem_2466.zip\n",
      "Extracting: /home/jovyan/Hydrosar/Dataset/Cambodia/RTC_GAMMA/S1A_IW_20210328T111132_DVP_RTC30_G_gpufem_1F7C.zip\n",
      "Extracting: /home/jovyan/Hydrosar/Dataset/Cambodia/RTC_GAMMA/S1A_IW_20201116T111135_DVP_RTC30_G_gpufem_6673.zip\n",
      "Extracting: /home/jovyan/Hydrosar/Dataset/Cambodia/RTC_GAMMA/S1A_IW_20210620T111136_DVP_RTC30_G_gpufem_18AE.zip\n",
      "Extracting: /home/jovyan/Hydrosar/Dataset/Cambodia/RTC_GAMMA/S1A_IW_20210316T111132_DVP_RTC30_G_gpufem_858D.zip\n",
      "Extracting: /home/jovyan/Hydrosar/Dataset/Cambodia/RTC_GAMMA/S1A_IW_20210127T111132_DVP_RTC30_G_gpufem_03A7.zip\n",
      "Extracting: /home/jovyan/Hydrosar/Dataset/Cambodia/RTC_GAMMA/S1A_IW_20210608T111135_DVP_RTC30_G_gpufem_28FE.zip\n",
      "Extracting: /home/jovyan/Hydrosar/Dataset/Cambodia/RTC_GAMMA/S1A_IW_20201210T111134_DVP_RTC30_G_gpufem_ABB6.zip\n",
      "Extracting: /home/jovyan/Hydrosar/Dataset/Cambodia/RTC_GAMMA/S1A_IW_20201104T111135_DVP_RTC30_G_gpufem_FDFF.zip\n",
      "Extracting: /home/jovyan/Hydrosar/Dataset/Cambodia/RTC_GAMMA/S1A_IW_20210515T111134_DVP_RTC30_G_gpufem_0F9F.zip\n",
      "Extracting: /home/jovyan/Hydrosar/Dataset/Cambodia/RTC_GAMMA/S1A_IW_20210115T111133_DVP_RTC30_G_gpufem_2F58.zip\n",
      "Extracting: /home/jovyan/Hydrosar/Dataset/Cambodia/RTC_GAMMA/S1A_IW_20210103T111133_DVP_RTC30_G_gpufem_0BE4.zip\n",
      "Extracting: /home/jovyan/Hydrosar/Dataset/Cambodia/RTC_GAMMA/S1A_IW_20201222T111134_DVP_RTC30_G_gpufem_BD29.zip\n",
      "Extracting: /home/jovyan/Hydrosar/Dataset/Cambodia/RTC_GAMMA/S1A_IW_20210831T111140_DVP_RTC30_G_gpufem_A9FB.zip\n",
      "Extracting: /home/jovyan/Hydrosar/Dataset/Cambodia/RTC_GAMMA/S1A_IW_20220110T111139_DVP_RTC30_G_gpufem_45D5.zip\n",
      "Extracting: /home/jovyan/Hydrosar/Dataset/Cambodia/RTC_GAMMA/S1A_IW_20211205T111140_DVP_RTC30_G_gpufem_87B1.zip\n",
      "Extracting: /home/jovyan/Hydrosar/Dataset/Cambodia/RTC_GAMMA/S1A_IW_20210702T111137_DVP_RTC30_G_gpufem_FD5E.zip\n",
      "Extracting: /home/jovyan/Hydrosar/Dataset/Cambodia/RTC_GAMMA/S1A_IW_20220203T111137_DVP_RTC30_G_gpufem_7FE8.zip\n",
      "Extracting: /home/jovyan/Hydrosar/Dataset/Cambodia/RTC_GAMMA/S1A_IW_20220215T111137_DVP_RTC30_G_gpufem_415A.zip\n",
      "Extracting: /home/jovyan/Hydrosar/Dataset/Cambodia/RTC_GAMMA/S1A_IW_20210924T111141_DVP_RTC30_G_gpufem_20C9.zip\n",
      "Extracting: /home/jovyan/Hydrosar/Dataset/Cambodia/RTC_GAMMA/S1A_IW_20210807T111139_DVP_RTC30_G_gpufem_E8C6.zip\n",
      "Extracting: /home/jovyan/Hydrosar/Dataset/Cambodia/RTC_GAMMA/S1A_IW_20210726T111138_DVP_RTC30_G_gpufem_71ED.zip\n",
      "Extracting: /home/jovyan/Hydrosar/Dataset/Cambodia/RTC_GAMMA/S1A_IW_20211217T111140_DVP_RTC30_G_gpufem_EDAA.zip\n",
      "Extracting: /home/jovyan/Hydrosar/Dataset/Cambodia/RTC_GAMMA/S1A_IW_20211030T111141_DVP_RTC30_G_gpufem_FF88.zip\n",
      "Extracting: /home/jovyan/Hydrosar/Dataset/Cambodia/RTC_GAMMA/S1A_IW_20211018T111141_DVP_RTC30_G_gpufem_84F6.zip\n",
      "Extracting: /home/jovyan/Hydrosar/Dataset/Cambodia/RTC_GAMMA/S1A_IW_20211111T111141_DVP_RTC30_G_gpufem_732D.zip\n",
      "Extracting: /home/jovyan/Hydrosar/Dataset/Cambodia/RTC_GAMMA/S1A_IW_20211123T111141_DVP_RTC30_G_gpufem_5510.zip\n",
      "Extracting: /home/jovyan/Hydrosar/Dataset/Cambodia/RTC_GAMMA/S1A_IW_20210819T111139_DVP_RTC30_G_gpufem_A578.zip\n",
      "Extracting: /home/jovyan/Hydrosar/Dataset/Cambodia/RTC_GAMMA/S1A_IW_20220122T111138_DVP_RTC30_G_gpufem_066C.zip\n",
      "Extracting: /home/jovyan/Hydrosar/Dataset/Cambodia/RTC_GAMMA/S1A_IW_20210912T111141_DVP_RTC30_G_gpufem_0F27.zip\n",
      "Extracting: /home/jovyan/Hydrosar/Dataset/Cambodia/RTC_GAMMA/S1A_IW_20211006T111141_DVP_RTC30_G_gpufem_317F.zip\n",
      "Extracting: /home/jovyan/Hydrosar/Dataset/Cambodia/RTC_GAMMA/S1A_IW_20211229T111139_DVP_RTC30_G_gpufem_AA81.zip\n",
      "Extracting: /home/jovyan/Hydrosar/Dataset/Cambodia/RTC_GAMMA/S1A_IW_20210714T111138_DVP_RTC30_G_gpufem_F6C3.zip\n",
      "Extracting: /home/jovyan/Hydrosar/Dataset/Cambodia/RTC_GAMMA/S1A_IW_20220416T111138_DVP_RTC30_G_gpufem_53BC.zip\n",
      "Extracting: /home/jovyan/Hydrosar/Dataset/Cambodia/RTC_GAMMA/S1A_IW_20221013T111147_DVP_RTC30_G_gpufem_C03E.zip\n",
      "Extracting: /home/jovyan/Hydrosar/Dataset/Cambodia/RTC_GAMMA/S1A_IW_20220627T111143_DVP_RTC30_G_gpufem_EB15.zip\n",
      "Extracting: /home/jovyan/Hydrosar/Dataset/Cambodia/RTC_GAMMA/S1A_IW_20220311T111137_DVP_RTC30_G_gpufem_BF4F.zip\n",
      "Extracting: /home/jovyan/Hydrosar/Dataset/Cambodia/RTC_GAMMA/S1A_IW_20220603T111141_DVP_RTC30_G_gpufem_0E96.zip\n",
      "Extracting: /home/jovyan/Hydrosar/Dataset/Cambodia/RTC_GAMMA/S1A_IW_20220709T111143_DVP_RTC30_G_gpufem_76F2.zip\n",
      "Extracting: /home/jovyan/Hydrosar/Dataset/Cambodia/RTC_GAMMA/S1A_IW_20220721T111144_DVP_RTC30_G_gpufem_C29D.zip\n",
      "Extracting: /home/jovyan/Hydrosar/Dataset/Cambodia/RTC_GAMMA/S1A_IW_20220428T111139_DVP_RTC30_G_gpufem_423B.zip\n",
      "Extracting: /home/jovyan/Hydrosar/Dataset/Cambodia/RTC_GAMMA/S1A_IW_20221001T111147_DVP_RTC30_G_gpufem_EDEC.zip\n",
      "Extracting: /home/jovyan/Hydrosar/Dataset/Cambodia/RTC_GAMMA/S1A_IW_20220907T111147_DVP_RTC30_G_gpufem_147C.zip\n",
      "Extracting: /home/jovyan/Hydrosar/Dataset/Cambodia/RTC_GAMMA/S1A_IW_20220404T111138_DVP_RTC30_G_gpufem_E130.zip\n",
      "Extracting: /home/jovyan/Hydrosar/Dataset/Cambodia/RTC_GAMMA/S1A_IW_20220615T111142_DVP_RTC30_G_gpufem_616E.zip\n",
      "Extracting: /home/jovyan/Hydrosar/Dataset/Cambodia/RTC_GAMMA/S1A_IW_20220510T111139_DVP_RTC30_G_gpufem_952C.zip\n",
      "Extracting: /home/jovyan/Hydrosar/Dataset/Cambodia/RTC_GAMMA/S1A_IW_20220802T111145_DVP_RTC30_G_gpufem_71B5.zip\n",
      "Extracting: /home/jovyan/Hydrosar/Dataset/Cambodia/RTC_GAMMA/S1A_IW_20220919T111146_DVP_RTC30_G_gpufem_DB75.zip\n",
      "Extracting: /home/jovyan/Hydrosar/Dataset/Cambodia/RTC_GAMMA/S1A_IW_20220826T111146_DVP_RTC30_G_gpufem_B18C.zip\n",
      "Extracting: /home/jovyan/Hydrosar/Dataset/Cambodia/RTC_GAMMA/S1A_IW_20220323T111138_DVP_RTC30_G_gpufem_2794.zip\n",
      "Extracting: /home/jovyan/Hydrosar/Dataset/Cambodia/RTC_GAMMA/S1A_IW_20220814T111146_DVP_RTC30_G_gpufem_99DE.zip\n",
      "Extracting: /home/jovyan/Hydrosar/Dataset/Cambodia/RTC_GAMMA/S1A_IW_20220227T111137_DVP_RTC30_G_gpufem_509F.zip\n",
      "Extracting: /home/jovyan/Hydrosar/Dataset/Cambodia/RTC_GAMMA/S1A_IW_20220522T111140_DVP_RTC30_G_gpufem_D6F3.zip\n",
      "Extracting: /home/jovyan/Hydrosar/Dataset/Cambodia/RTC_GAMMA/S1A_IW_20221118T111147_DVP_RTC30_G_gpufem_0829.zip\n",
      "Extracting: /home/jovyan/Hydrosar/Dataset/Cambodia/RTC_GAMMA/S1A_IW_20221212T111146_DVP_RTC30_G_gpufem_6A60.zip\n",
      "Extracting: /home/jovyan/Hydrosar/Dataset/Cambodia/RTC_GAMMA/S1A_IW_20230222T111143_DVP_RTC30_G_gpufem_FD20.zip\n",
      "Extracting: /home/jovyan/Hydrosar/Dataset/Cambodia/RTC_GAMMA/S1A_IW_20221025T111147_DVP_RTC30_G_gpufem_3A17.zip\n",
      "Extracting: /home/jovyan/Hydrosar/Dataset/Cambodia/RTC_GAMMA/S1A_IW_20230210T111143_DVP_RTC30_G_gpufem_0BCB.zip\n",
      "Extracting: /home/jovyan/Hydrosar/Dataset/Cambodia/RTC_GAMMA/S1A_IW_20230129T111144_DVP_RTC30_G_gpufem_A72B.zip\n",
      "Extracting: /home/jovyan/Hydrosar/Dataset/Cambodia/RTC_GAMMA/S1A_IW_20230105T111144_DVP_RTC30_G_gpufem_0633.zip\n",
      "Extracting: /home/jovyan/Hydrosar/Dataset/Cambodia/RTC_GAMMA/S1A_IW_20221106T111147_DVP_RTC30_G_gpufem_9620.zip\n",
      "Extracting: /home/jovyan/Hydrosar/Dataset/Cambodia/RTC_GAMMA/S1A_IW_20230330T111143_DVP_RTC30_G_gpufem_2722.zip\n",
      "Extracting: /home/jovyan/Hydrosar/Dataset/Cambodia/RTC_GAMMA/S1A_IW_20230306T111143_DVP_RTC30_G_gpufem_D1D3.zip\n",
      "Extracting: /home/jovyan/Hydrosar/Dataset/Cambodia/RTC_GAMMA/S1A_IW_20230318T111143_DVP_RTC30_G_gpufem_7F1A.zip\n",
      "Extracting: /home/jovyan/Hydrosar/Dataset/Cambodia/RTC_GAMMA/S1A_IW_20221224T111145_DVP_RTC30_G_gpufem_6065.zip\n",
      "Extracting: /home/jovyan/Hydrosar/Dataset/Cambodia/RTC_GAMMA/S1A_IW_20230423T111144_DVP_RTC30_G_gpufem_E7C1.zip\n",
      "Extracting: /home/jovyan/Hydrosar/Dataset/Cambodia/RTC_GAMMA/S1A_IW_20230529T111146_DVP_RTC30_G_gpufem_EF64.zip\n",
      "Extracting: /home/jovyan/Hydrosar/Dataset/Cambodia/RTC_GAMMA/S1A_IW_20230517T111145_DVP_RTC30_G_gpufem_2150.zip\n",
      "Extracting: /home/jovyan/Hydrosar/Dataset/Cambodia/RTC_GAMMA/S1A_IW_20221130T111146_DVP_RTC30_G_gpufem_A5F3.zip\n",
      "Extracting: /home/jovyan/Hydrosar/Dataset/Cambodia/RTC_GAMMA/S1A_IW_20230505T111145_DVP_RTC30_G_gpufem_EE96.zip\n",
      "Extracting: /home/jovyan/Hydrosar/Dataset/Cambodia/RTC_GAMMA/S1A_IW_20230411T111144_DVP_RTC30_G_gpufem_81C2.zip\n",
      "Extracting: /home/jovyan/Hydrosar/Dataset/Cambodia/RTC_GAMMA/S1A_IW_20230622T111147_DVR_RTC30_G_gpufem_DADC.zip\n",
      "Extracting: /home/jovyan/Hydrosar/Dataset/Cambodia/RTC_GAMMA/S1A_IW_20230117T111144_DVP_RTC30_G_gpufem_80BE.zip\n"
     ]
    }
   ],
   "source": [
    "products_path = analysis_directory.joinpath(job_type.value)\n",
    "print(products_path)\n",
    "if not products_path.is_dir():\n",
    "    products_path.mkdir()\n",
    "\n",
    "print(f\"\\nProject: {batch.jobs[0].name}\")\n",
    "project_zips = batch.download_files(products_path)\n",
    "for z in project_zips:\n",
    "    if z.suffix == '.nc':\n",
    "        continue\n",
    "    \n",
    "    asfn.asf_unzip(str(products_path), str(z))\n",
    "    z.unlink()"
   ]
  },
  {
   "cell_type": "code",
   "execution_count": 20,
   "metadata": {},
   "outputs": [],
   "source": [
    "rtc = batch.jobs[0].job_type == 'RTC_GAMMA'\n",
    "insar = batch.jobs[0].job_type == 'INSAR_GAMMA'\n",
    "autorift = batch.jobs[0].job_type == 'AUTORIFT'"
   ]
  },
  {
   "cell_type": "markdown",
   "metadata": {},
   "source": [
    "**Determine the available polarizations if downloading RTC products:**"
   ]
  },
  {
   "cell_type": "code",
   "execution_count": 21,
   "metadata": {},
   "outputs": [],
   "source": [
    "if rtc:\n",
    "    polarizations = asfn.get_RTC_polarizations(str(products_path))\n",
    "    polarization_power_set = asfn.get_power_set(polarizations)"
   ]
  },
  {
   "cell_type": "markdown",
   "metadata": {},
   "source": [
    "**Select a polarization:**"
   ]
  },
  {
   "cell_type": "code",
   "execution_count": 22,
   "metadata": {},
   "outputs": [
    {
     "data": {
      "application/vnd.jupyter.widget-view+json": {
       "model_id": "6fcd83c804bf490d86ef29db2830b631",
       "version_major": 2,
       "version_minor": 0
      },
      "text/plain": [
       "RadioButtons(description='Polarizations:', layout=Layout(min_width='800px'), options=('VH', 'VH and VV', 'VV')…"
      ]
     },
     "metadata": {},
     "output_type": "display_data"
    }
   ],
   "source": [
    "if rtc:\n",
    "    polarization_choice = asfn.select_parameter(sorted(polarization_power_set), 'Polarizations:')\n",
    "else:\n",
    "    polarization_choice = None\n",
    "polarization_choice"
   ]
  },
  {
   "cell_type": "markdown",
   "metadata": {},
   "source": [
    "**Create a paths variable, holding the relative path to the tiffs or NetCDFs:**"
   ]
  },
  {
   "cell_type": "code",
   "execution_count": 23,
   "metadata": {},
   "outputs": [
    {
     "name": "stdout",
     "output_type": "stream",
     "text": [
      "VH and VV\n"
     ]
    }
   ],
   "source": [
    "if rtc:\n",
    "    polarization = polarization_choice.value\n",
    "    print(polarization)\n",
    "    if len(polarization) == 2:\n",
    "        regex = \"\\w[\\--~]{{5,300}}(_|-){}.(tif|tiff)$\".format(polarization)\n",
    "        dbl_polar = False\n",
    "    else:\n",
    "        regex = \"\\w[\\--~]{{5,300}}(_|-){}(v|V|h|H).(tif|tiff)$\".format(polarization[0])\n",
    "        dbl_polar = True\n",
    "elif insar:\n",
    "    regex = \"\\w*_ueF_\\w*.tif$\"\n",
    "elif autorift:\n",
    "    # regex = \"\\w*ASF_OD.nc$\"\n",
    "    regex = \"\\w*ASF_OD.*$\""
   ]
  },
  {
   "cell_type": "markdown",
   "metadata": {},
   "source": [
    "**Write functions to collect and print the paths of the tiffs or NetCDFs:**"
   ]
  },
  {
   "cell_type": "code",
   "execution_count": 24,
   "metadata": {},
   "outputs": [],
   "source": [
    "def get_product_paths(regex, pths):\n",
    "    product_paths = list()\n",
    "    paths = Path().glob(pths)\n",
    "    for pth in paths:\n",
    "        tiff_path = re.search(regex, str(pth))\n",
    "        if tiff_path:\n",
    "            product_paths.append(pth)\n",
    "    return product_paths\n",
    "\n",
    "def print_product_paths(product_paths):\n",
    "    print(\"Tiff paths:\")\n",
    "    for p in product_paths:\n",
    "        print(f\"{p}\\n\")"
   ]
  },
  {
   "cell_type": "markdown",
   "metadata": {},
   "source": [
    "**Write a function to collect the product acquisition dates:**"
   ]
  },
  {
   "cell_type": "code",
   "execution_count": 25,
   "metadata": {},
   "outputs": [],
   "source": [
    "def get_dates(product_paths):\n",
    "    dates = []\n",
    "    for pth in product_paths:\n",
    "        dates.append(asfn.date_from_product_name(str(pth)).split('T')[0])\n",
    "    return dates"
   ]
  },
  {
   "cell_type": "markdown",
   "metadata": {},
   "source": [
    "**Convert NetCDFs to geotiffs:**"
   ]
  },
  {
   "cell_type": "code",
   "execution_count": 26,
   "metadata": {},
   "outputs": [],
   "source": [
    "if autorift:\n",
    "    import xarray as xr\n",
    "    import re\n",
    "\n",
    "    def ncToGeoTiff(path):   \n",
    "        \n",
    "        prevPath = ''\n",
    "        \n",
    "        for p in path.rglob('*.nc'):            \n",
    "            \n",
    "            layers = ['v', 'vx', 'vy', 'v_error', 'vr', 'va', 'M11', 'M12']\n",
    "            fname = p.stem\n",
    "            dates = list(set(re.findall(r'\\d{8}', fname)))\n",
    "            for layer in layers:\n",
    "                layer_dir = products_path/layer\n",
    "\n",
    "                if prevPath != p: # reduces number of runs\n",
    "                    prevPath = p\n",
    "                    ds = xr.open_dataset(p)\n",
    "                                        \n",
    "                    t1 = re.findall('\\d*', ds.img_pair_info.acquisition_date_img1)\n",
    "                    acq_date_1 = f'{t1[0]}T' + ''.join(t1[2:7])\n",
    "                    \n",
    "                    t2 = re.findall('\\d*', ds.img_pair_info.acquisition_date_img2)\n",
    "                    acq_date_2 = f'{t2[0]}T' + ''.join(t2[2:7])\n",
    "   \n",
    "                \n",
    "                name = f'{fname[0:10]}_{acq_date_1}_{acq_date_2}_{fname[-6:]}_{layer}.tif'\n",
    "                outfile = layer_dir/name\n",
    "                                \n",
    "                if not layer_dir.exists():\n",
    "                    layer_dir.mkdir()\n",
    "                    \n",
    "                if not outfile.exists():\n",
    "                    !gdal_translate NETCDF:{p}:{layer} {outfile}\n",
    "            print('\\n')\n",
    " \n",
    "    def removeNC(path):\n",
    "        for p in path.rglob('*.nc'):\n",
    "            p.unlink()"
   ]
  },
  {
   "cell_type": "markdown",
   "metadata": {},
   "source": [
    "**Collect and print the paths of the tiffs or NetCDFs, and collect the paths of their DEMs:**"
   ]
  },
  {
   "cell_type": "code",
   "execution_count": 27,
   "metadata": {},
   "outputs": [
    {
     "name": "stdout",
     "output_type": "stream",
     "text": [
      "Tiff paths:\n",
      "Dataset/Cambodia/RTC_GAMMA/S1A_IW_20210103T111133_DVP_RTC30_G_gpufem_0BE4/S1A_IW_20210103T111133_DVP_RTC30_G_gpufem_0BE4_VV.tif\n",
      "\n",
      "Dataset/Cambodia/RTC_GAMMA/S1A_IW_20210103T111133_DVP_RTC30_G_gpufem_0BE4/S1A_IW_20210103T111133_DVP_RTC30_G_gpufem_0BE4_VH.tif\n",
      "\n",
      "Dataset/Cambodia/RTC_GAMMA/S1A_IW_20230622T111147_DVR_RTC30_G_gpufem_DADC/S1A_IW_20230622T111147_DVR_RTC30_G_gpufem_DADC_VH.tif\n",
      "\n",
      "Dataset/Cambodia/RTC_GAMMA/S1A_IW_20230622T111147_DVR_RTC30_G_gpufem_DADC/S1A_IW_20230622T111147_DVR_RTC30_G_gpufem_DADC_VV.tif\n",
      "\n",
      "Dataset/Cambodia/RTC_GAMMA/S1A_IW_20180928T111123_DVP_RTC30_G_gpufem_A976/S1A_IW_20180928T111123_DVP_RTC30_G_gpufem_A976_VV.tif\n",
      "\n",
      "Dataset/Cambodia/RTC_GAMMA/S1A_IW_20180928T111123_DVP_RTC30_G_gpufem_A976/S1A_IW_20180928T111123_DVP_RTC30_G_gpufem_A976_VH.tif\n",
      "\n",
      "Dataset/Cambodia/RTC_GAMMA/S1A_IW_20191204T111128_DVP_RTC30_G_gpufem_380E/S1A_IW_20191204T111128_DVP_RTC30_G_gpufem_380E_VV.tif\n",
      "\n",
      "Dataset/Cambodia/RTC_GAMMA/S1A_IW_20191204T111128_DVP_RTC30_G_gpufem_380E/S1A_IW_20191204T111128_DVP_RTC30_G_gpufem_380E_VH.tif\n",
      "\n",
      "Dataset/Cambodia/RTC_GAMMA/S1A_IW_20200226T111126_DVP_RTC30_G_gpufem_3845/S1A_IW_20200226T111126_DVP_RTC30_G_gpufem_3845_VV.tif\n",
      "\n",
      "Dataset/Cambodia/RTC_GAMMA/S1A_IW_20200226T111126_DVP_RTC30_G_gpufem_3845/S1A_IW_20200226T111126_DVP_RTC30_G_gpufem_3845_VH.tif\n",
      "\n",
      "Dataset/Cambodia/RTC_GAMMA/S1A_IW_20190806T111127_DVP_RTC30_G_gpufem_5C98/S1A_IW_20190806T111127_DVP_RTC30_G_gpufem_5C98_VV.tif\n",
      "\n",
      "Dataset/Cambodia/RTC_GAMMA/S1A_IW_20190806T111127_DVP_RTC30_G_gpufem_5C98/S1A_IW_20190806T111127_DVP_RTC30_G_gpufem_5C98_VH.tif\n",
      "\n",
      "Dataset/Cambodia/RTC_GAMMA/S1A_IW_20190725T111126_DVP_RTC30_G_gpufem_A4F6/S1A_IW_20190725T111126_DVP_RTC30_G_gpufem_A4F6_VH.tif\n",
      "\n",
      "Dataset/Cambodia/RTC_GAMMA/S1A_IW_20190725T111126_DVP_RTC30_G_gpufem_A4F6/S1A_IW_20190725T111126_DVP_RTC30_G_gpufem_A4F6_VV.tif\n",
      "\n",
      "Dataset/Cambodia/RTC_GAMMA/S1A_IW_20221013T111147_DVP_RTC30_G_gpufem_C03E/S1A_IW_20221013T111147_DVP_RTC30_G_gpufem_C03E_VV.tif\n",
      "\n",
      "Dataset/Cambodia/RTC_GAMMA/S1A_IW_20221013T111147_DVP_RTC30_G_gpufem_C03E/S1A_IW_20221013T111147_DVP_RTC30_G_gpufem_C03E_VH.tif\n",
      "\n",
      "Dataset/Cambodia/RTC_GAMMA/S1A_IW_20171214T111115_DVP_RTC30_G_gpufem_52D2/S1A_IW_20171214T111115_DVP_RTC30_G_gpufem_52D2_VH.tif\n",
      "\n",
      "Dataset/Cambodia/RTC_GAMMA/S1A_IW_20171214T111115_DVP_RTC30_G_gpufem_52D2/S1A_IW_20171214T111115_DVP_RTC30_G_gpufem_52D2_VV.tif\n",
      "\n",
      "Dataset/Cambodia/RTC_GAMMA/S1A_IW_20210819T111139_DVP_RTC30_G_gpufem_A578/S1A_IW_20210819T111139_DVP_RTC30_G_gpufem_A578_VH.tif\n",
      "\n",
      "Dataset/Cambodia/RTC_GAMMA/S1A_IW_20210819T111139_DVP_RTC30_G_gpufem_A578/S1A_IW_20210819T111139_DVP_RTC30_G_gpufem_A578_VV.tif\n",
      "\n",
      "Dataset/Cambodia/RTC_GAMMA/S1A_IW_20180308T111113_DVP_RTC30_G_gpufem_49B2/S1A_IW_20180308T111113_DVP_RTC30_G_gpufem_49B2_VH.tif\n",
      "\n",
      "Dataset/Cambodia/RTC_GAMMA/S1A_IW_20180308T111113_DVP_RTC30_G_gpufem_49B2/S1A_IW_20180308T111113_DVP_RTC30_G_gpufem_49B2_VV.tif\n",
      "\n",
      "Dataset/Cambodia/RTC_GAMMA/S1A_IW_20191017T111129_DVP_RTC30_G_gpufem_4389/S1A_IW_20191017T111129_DVP_RTC30_G_gpufem_4389_VV.tif\n",
      "\n",
      "Dataset/Cambodia/RTC_GAMMA/S1A_IW_20191017T111129_DVP_RTC30_G_gpufem_4389/S1A_IW_20191017T111129_DVP_RTC30_G_gpufem_4389_VH.tif\n",
      "\n",
      "Dataset/Cambodia/RTC_GAMMA/S1A_IW_20221224T111145_DVP_RTC30_G_gpufem_6065/S1A_IW_20221224T111145_DVP_RTC30_G_gpufem_6065_VV.tif\n",
      "\n",
      "Dataset/Cambodia/RTC_GAMMA/S1A_IW_20221224T111145_DVP_RTC30_G_gpufem_6065/S1A_IW_20221224T111145_DVP_RTC30_G_gpufem_6065_VH.tif\n",
      "\n",
      "Dataset/Cambodia/RTC_GAMMA/S1A_IW_20230105T111144_DVP_RTC30_G_gpufem_0633/S1A_IW_20230105T111144_DVP_RTC30_G_gpufem_0633_VV.tif\n",
      "\n",
      "Dataset/Cambodia/RTC_GAMMA/S1A_IW_20230105T111144_DVP_RTC30_G_gpufem_0633/S1A_IW_20230105T111144_DVP_RTC30_G_gpufem_0633_VH.tif\n",
      "\n",
      "Dataset/Cambodia/RTC_GAMMA/S1A_IW_20180212T111113_DVP_RTC30_G_gpufem_581E/S1A_IW_20180212T111113_DVP_RTC30_G_gpufem_581E_VV.tif\n",
      "\n",
      "Dataset/Cambodia/RTC_GAMMA/S1A_IW_20180212T111113_DVP_RTC30_G_gpufem_581E/S1A_IW_20180212T111113_DVP_RTC30_G_gpufem_581E_VH.tif\n",
      "\n",
      "Dataset/Cambodia/RTC_GAMMA/S1A_IW_20210527T111135_DVP_RTC30_G_gpufem_F4C4/S1A_IW_20210527T111135_DVP_RTC30_G_gpufem_F4C4_VV.tif\n",
      "\n",
      "Dataset/Cambodia/RTC_GAMMA/S1A_IW_20210527T111135_DVP_RTC30_G_gpufem_F4C4/S1A_IW_20210527T111135_DVP_RTC30_G_gpufem_F4C4_VH.tif\n",
      "\n",
      "Dataset/Cambodia/RTC_GAMMA/S1A_IW_20210714T111138_DVP_RTC30_G_gpufem_F6C3/S1A_IW_20210714T111138_DVP_RTC30_G_gpufem_F6C3_VV.tif\n",
      "\n",
      "Dataset/Cambodia/RTC_GAMMA/S1A_IW_20210714T111138_DVP_RTC30_G_gpufem_F6C3/S1A_IW_20210714T111138_DVP_RTC30_G_gpufem_F6C3_VH.tif\n",
      "\n",
      "Dataset/Cambodia/RTC_GAMMA/S1A_IW_20200214T111126_DVP_RTC30_G_gpufem_299B/S1A_IW_20200214T111126_DVP_RTC30_G_gpufem_299B_VV.tif\n",
      "\n",
      "Dataset/Cambodia/RTC_GAMMA/S1A_IW_20200214T111126_DVP_RTC30_G_gpufem_299B/S1A_IW_20200214T111126_DVP_RTC30_G_gpufem_299B_VH.tif\n",
      "\n",
      "Dataset/Cambodia/RTC_GAMMA/S1A_IW_20220802T111145_DVP_RTC30_G_gpufem_71B5/S1A_IW_20220802T111145_DVP_RTC30_G_gpufem_71B5_VH.tif\n",
      "\n",
      "Dataset/Cambodia/RTC_GAMMA/S1A_IW_20220802T111145_DVP_RTC30_G_gpufem_71B5/S1A_IW_20220802T111145_DVP_RTC30_G_gpufem_71B5_VV.tif\n",
      "\n",
      "Dataset/Cambodia/RTC_GAMMA/S1A_IW_20200824T111134_DVP_RTC30_G_gpufem_3B79/S1A_IW_20200824T111134_DVP_RTC30_G_gpufem_3B79_VV.tif\n",
      "\n",
      "Dataset/Cambodia/RTC_GAMMA/S1A_IW_20200824T111134_DVP_RTC30_G_gpufem_3B79/S1A_IW_20200824T111134_DVP_RTC30_G_gpufem_3B79_VH.tif\n",
      "\n",
      "Dataset/Cambodia/RTC_GAMMA/S1A_IW_20220215T111137_DVP_RTC30_G_gpufem_415A/S1A_IW_20220215T111137_DVP_RTC30_G_gpufem_415A_VV.tif\n",
      "\n",
      "Dataset/Cambodia/RTC_GAMMA/S1A_IW_20220215T111137_DVP_RTC30_G_gpufem_415A/S1A_IW_20220215T111137_DVP_RTC30_G_gpufem_415A_VH.tif\n",
      "\n",
      "Dataset/Cambodia/RTC_GAMMA/S1A_IW_20200812T111133_DVP_RTC30_G_gpufem_AF7C/S1A_IW_20200812T111133_DVP_RTC30_G_gpufem_AF7C_VV.tif\n",
      "\n",
      "Dataset/Cambodia/RTC_GAMMA/S1A_IW_20200812T111133_DVP_RTC30_G_gpufem_AF7C/S1A_IW_20200812T111133_DVP_RTC30_G_gpufem_AF7C_VH.tif\n",
      "\n",
      "Dataset/Cambodia/RTC_GAMMA/S1A_IW_20180401T111113_DVP_RTC30_G_gpufem_E0C3/S1A_IW_20180401T111113_DVP_RTC30_G_gpufem_E0C3_VH.tif\n",
      "\n",
      "Dataset/Cambodia/RTC_GAMMA/S1A_IW_20180401T111113_DVP_RTC30_G_gpufem_E0C3/S1A_IW_20180401T111113_DVP_RTC30_G_gpufem_E0C3_VV.tif\n",
      "\n",
      "Dataset/Cambodia/RTC_GAMMA/S1A_IW_20190923T111129_DVP_RTC30_G_gpufem_8986/S1A_IW_20190923T111129_DVP_RTC30_G_gpufem_8986_VH.tif\n",
      "\n",
      "Dataset/Cambodia/RTC_GAMMA/S1A_IW_20190923T111129_DVP_RTC30_G_gpufem_8986/S1A_IW_20190923T111129_DVP_RTC30_G_gpufem_8986_VV.tif\n",
      "\n",
      "Dataset/Cambodia/RTC_GAMMA/S1A_IW_20210912T111141_DVP_RTC30_G_gpufem_0F27/S1A_IW_20210912T111141_DVP_RTC30_G_gpufem_0F27_VV.tif\n",
      "\n",
      "Dataset/Cambodia/RTC_GAMMA/S1A_IW_20210912T111141_DVP_RTC30_G_gpufem_0F27/S1A_IW_20210912T111141_DVP_RTC30_G_gpufem_0F27_VH.tif\n",
      "\n",
      "Dataset/Cambodia/RTC_GAMMA/S1A_IW_20210127T111132_DVP_RTC30_G_gpufem_03A7/S1A_IW_20210127T111132_DVP_RTC30_G_gpufem_03A7_VV.tif\n",
      "\n",
      "Dataset/Cambodia/RTC_GAMMA/S1A_IW_20210127T111132_DVP_RTC30_G_gpufem_03A7/S1A_IW_20210127T111132_DVP_RTC30_G_gpufem_03A7_VH.tif\n",
      "\n",
      "Dataset/Cambodia/RTC_GAMMA/S1A_IW_20220603T111141_DVP_RTC30_G_gpufem_0E96/S1A_IW_20220603T111141_DVP_RTC30_G_gpufem_0E96_VH.tif\n",
      "\n",
      "Dataset/Cambodia/RTC_GAMMA/S1A_IW_20220603T111141_DVP_RTC30_G_gpufem_0E96/S1A_IW_20220603T111141_DVP_RTC30_G_gpufem_0E96_VV.tif\n",
      "\n",
      "Dataset/Cambodia/RTC_GAMMA/S1A_IW_20180320T111113_DVP_RTC30_G_gpufem_FACE/S1A_IW_20180320T111113_DVP_RTC30_G_gpufem_FACE_VH.tif\n",
      "\n",
      "Dataset/Cambodia/RTC_GAMMA/S1A_IW_20180320T111113_DVP_RTC30_G_gpufem_FACE/S1A_IW_20180320T111113_DVP_RTC30_G_gpufem_FACE_VV.tif\n",
      "\n",
      "Dataset/Cambodia/RTC_GAMMA/S1A_IW_20211229T111139_DVP_RTC30_G_gpufem_AA81/S1A_IW_20211229T111139_DVP_RTC30_G_gpufem_AA81_VV.tif\n",
      "\n",
      "Dataset/Cambodia/RTC_GAMMA/S1A_IW_20211229T111139_DVP_RTC30_G_gpufem_AA81/S1A_IW_20211229T111139_DVP_RTC30_G_gpufem_AA81_VH.tif\n",
      "\n",
      "Dataset/Cambodia/RTC_GAMMA/S1A_IW_20220404T111138_DVP_RTC30_G_gpufem_E130/S1A_IW_20220404T111138_DVP_RTC30_G_gpufem_E130_VV.tif\n",
      "\n",
      "Dataset/Cambodia/RTC_GAMMA/S1A_IW_20220404T111138_DVP_RTC30_G_gpufem_E130/S1A_IW_20220404T111138_DVP_RTC30_G_gpufem_E130_VH.tif\n",
      "\n",
      "Dataset/Cambodia/RTC_GAMMA/S1A_IW_20221001T111147_DVP_RTC30_G_gpufem_EDEC/S1A_IW_20221001T111147_DVP_RTC30_G_gpufem_EDEC_VV.tif\n",
      "\n",
      "Dataset/Cambodia/RTC_GAMMA/S1A_IW_20221001T111147_DVP_RTC30_G_gpufem_EDEC/S1A_IW_20221001T111147_DVP_RTC30_G_gpufem_EDEC_VH.tif\n",
      "\n",
      "Dataset/Cambodia/RTC_GAMMA/S1A_IW_20200426T111127_DVP_RTC30_G_gpufem_6DA1/S1A_IW_20200426T111127_DVP_RTC30_G_gpufem_6DA1_VH.tif\n",
      "\n",
      "Dataset/Cambodia/RTC_GAMMA/S1A_IW_20200426T111127_DVP_RTC30_G_gpufem_6DA1/S1A_IW_20200426T111127_DVP_RTC30_G_gpufem_6DA1_VV.tif\n",
      "\n",
      "Dataset/Cambodia/RTC_GAMMA/S1A_IW_20180531T111116_DVP_RTC30_G_gpufem_1142/S1A_IW_20180531T111116_DVP_RTC30_G_gpufem_1142_VH.tif\n",
      "\n",
      "Dataset/Cambodia/RTC_GAMMA/S1A_IW_20180531T111116_DVP_RTC30_G_gpufem_1142/S1A_IW_20180531T111116_DVP_RTC30_G_gpufem_1142_VV.tif\n",
      "\n",
      "Dataset/Cambodia/RTC_GAMMA/S1A_IW_20200414T111127_DVP_RTC30_G_gpufem_F738/S1A_IW_20200414T111127_DVP_RTC30_G_gpufem_F738_VV.tif\n",
      "\n",
      "Dataset/Cambodia/RTC_GAMMA/S1A_IW_20200414T111127_DVP_RTC30_G_gpufem_F738/S1A_IW_20200414T111127_DVP_RTC30_G_gpufem_F738_VH.tif\n",
      "\n",
      "Dataset/Cambodia/RTC_GAMMA/S1A_IW_20180425T111114_DVP_RTC30_G_gpufem_31ED/S1A_IW_20180425T111114_DVP_RTC30_G_gpufem_31ED_VV.tif\n",
      "\n",
      "Dataset/Cambodia/RTC_GAMMA/S1A_IW_20180425T111114_DVP_RTC30_G_gpufem_31ED/S1A_IW_20180425T111114_DVP_RTC30_G_gpufem_31ED_VH.tif\n",
      "\n",
      "Dataset/Cambodia/RTC_GAMMA/S1A_IW_20190102T111121_DVP_RTC30_G_gpufem_A8D7/S1A_IW_20190102T111121_DVP_RTC30_G_gpufem_A8D7_VH.tif\n",
      "\n",
      "Dataset/Cambodia/RTC_GAMMA/S1A_IW_20190102T111121_DVP_RTC30_G_gpufem_A8D7/S1A_IW_20190102T111121_DVP_RTC30_G_gpufem_A8D7_VV.tif\n",
      "\n",
      "Dataset/Cambodia/RTC_GAMMA/S1A_IW_20190818T111127_DVP_RTC30_G_gpufem_1CD6/S1A_IW_20190818T111127_DVP_RTC30_G_gpufem_1CD6_VV.tif\n",
      "\n",
      "Dataset/Cambodia/RTC_GAMMA/S1A_IW_20190818T111127_DVP_RTC30_G_gpufem_1CD6/S1A_IW_20190818T111127_DVP_RTC30_G_gpufem_1CD6_VH.tif\n",
      "\n",
      "Dataset/Cambodia/RTC_GAMMA/S1A_IW_20200121T111127_DVP_RTC30_G_gpufem_E103/S1A_IW_20200121T111127_DVP_RTC30_G_gpufem_E103_VV.tif\n",
      "\n",
      "Dataset/Cambodia/RTC_GAMMA/S1A_IW_20200121T111127_DVP_RTC30_G_gpufem_E103/S1A_IW_20200121T111127_DVP_RTC30_G_gpufem_E103_VH.tif\n",
      "\n",
      "Dataset/Cambodia/RTC_GAMMA/S1A_IW_20230318T111143_DVP_RTC30_G_gpufem_7F1A/S1A_IW_20230318T111143_DVP_RTC30_G_gpufem_7F1A_VH.tif\n",
      "\n",
      "Dataset/Cambodia/RTC_GAMMA/S1A_IW_20230318T111143_DVP_RTC30_G_gpufem_7F1A/S1A_IW_20230318T111143_DVP_RTC30_G_gpufem_7F1A_VV.tif\n",
      "\n",
      "Dataset/Cambodia/RTC_GAMMA/S1A_IW_20180624T111118_DVP_RTC30_G_gpufem_9175/S1A_IW_20180624T111118_DVP_RTC30_G_gpufem_9175_VV.tif\n",
      "\n",
      "Dataset/Cambodia/RTC_GAMMA/S1A_IW_20180624T111118_DVP_RTC30_G_gpufem_9175/S1A_IW_20180624T111118_DVP_RTC30_G_gpufem_9175_VH.tif\n",
      "\n",
      "Dataset/Cambodia/RTC_GAMMA/S1A_IW_20191216T111128_DVP_RTC30_G_gpufem_1801/S1A_IW_20191216T111128_DVP_RTC30_G_gpufem_1801_VH.tif\n",
      "\n",
      "Dataset/Cambodia/RTC_GAMMA/S1A_IW_20191216T111128_DVP_RTC30_G_gpufem_1801/S1A_IW_20191216T111128_DVP_RTC30_G_gpufem_1801_VV.tif\n",
      "\n",
      "Dataset/Cambodia/RTC_GAMMA/S1A_IW_20211018T111141_DVP_RTC30_G_gpufem_84F6/S1A_IW_20211018T111141_DVP_RTC30_G_gpufem_84F6_VV.tif\n",
      "\n",
      "Dataset/Cambodia/RTC_GAMMA/S1A_IW_20211018T111141_DVP_RTC30_G_gpufem_84F6/S1A_IW_20211018T111141_DVP_RTC30_G_gpufem_84F6_VH.tif\n",
      "\n",
      "Dataset/Cambodia/RTC_GAMMA/S1A_IW_20200707T111131_DVP_RTC30_G_gpufem_3FE9/S1A_IW_20200707T111131_DVP_RTC30_G_gpufem_3FE9_VV.tif\n",
      "\n",
      "Dataset/Cambodia/RTC_GAMMA/S1A_IW_20200707T111131_DVP_RTC30_G_gpufem_3FE9/S1A_IW_20200707T111131_DVP_RTC30_G_gpufem_3FE9_VH.tif\n",
      "\n",
      "Dataset/Cambodia/RTC_GAMMA/S1A_IW_20220919T111146_DVP_RTC30_G_gpufem_DB75/S1A_IW_20220919T111146_DVP_RTC30_G_gpufem_DB75_VV.tif\n",
      "\n",
      "Dataset/Cambodia/RTC_GAMMA/S1A_IW_20220919T111146_DVP_RTC30_G_gpufem_DB75/S1A_IW_20220919T111146_DVP_RTC30_G_gpufem_DB75_VH.tif\n",
      "\n",
      "Dataset/Cambodia/RTC_GAMMA/S1A_IW_20220110T111139_DVP_RTC30_G_gpufem_45D5/S1A_IW_20220110T111139_DVP_RTC30_G_gpufem_45D5_VH.tif\n",
      "\n",
      "Dataset/Cambodia/RTC_GAMMA/S1A_IW_20220110T111139_DVP_RTC30_G_gpufem_45D5/S1A_IW_20220110T111139_DVP_RTC30_G_gpufem_45D5_VV.tif\n",
      "\n",
      "Dataset/Cambodia/RTC_GAMMA/S1A_IW_20181010T111123_DVP_RTC30_G_gpufem_AEB8/S1A_IW_20181010T111123_DVP_RTC30_G_gpufem_AEB8_VH.tif\n",
      "\n",
      "Dataset/Cambodia/RTC_GAMMA/S1A_IW_20181010T111123_DVP_RTC30_G_gpufem_AEB8/S1A_IW_20181010T111123_DVP_RTC30_G_gpufem_AEB8_VV.tif\n",
      "\n",
      "Dataset/Cambodia/RTC_GAMMA/S1A_IW_20200731T111133_DVP_RTC30_G_gpufem_87F7/S1A_IW_20200731T111133_DVP_RTC30_G_gpufem_87F7_VV.tif\n",
      "\n",
      "Dataset/Cambodia/RTC_GAMMA/S1A_IW_20200731T111133_DVP_RTC30_G_gpufem_87F7/S1A_IW_20200731T111133_DVP_RTC30_G_gpufem_87F7_VH.tif\n",
      "\n",
      "Dataset/Cambodia/RTC_GAMMA/S1A_IW_20201104T111135_DVP_RTC30_G_gpufem_FDFF/S1A_IW_20201104T111135_DVP_RTC30_G_gpufem_FDFF_VH.tif\n",
      "\n",
      "Dataset/Cambodia/RTC_GAMMA/S1A_IW_20201104T111135_DVP_RTC30_G_gpufem_FDFF/S1A_IW_20201104T111135_DVP_RTC30_G_gpufem_FDFF_VV.tif\n",
      "\n",
      "Dataset/Cambodia/RTC_GAMMA/S1A_IW_20180811T111121_DVP_RTC30_G_gpufem_C2B4/S1A_IW_20180811T111121_DVP_RTC30_G_gpufem_C2B4_VV.tif\n",
      "\n",
      "Dataset/Cambodia/RTC_GAMMA/S1A_IW_20180811T111121_DVP_RTC30_G_gpufem_C2B4/S1A_IW_20180811T111121_DVP_RTC30_G_gpufem_C2B4_VH.tif\n",
      "\n",
      "Dataset/Cambodia/RTC_GAMMA/S1A_IW_20210702T111137_DVP_RTC30_G_gpufem_FD5E/S1A_IW_20210702T111137_DVP_RTC30_G_gpufem_FD5E_VH.tif\n",
      "\n",
      "Dataset/Cambodia/RTC_GAMMA/S1A_IW_20210702T111137_DVP_RTC30_G_gpufem_FD5E/S1A_IW_20210702T111137_DVP_RTC30_G_gpufem_FD5E_VV.tif\n",
      "\n",
      "Dataset/Cambodia/RTC_GAMMA/S1A_IW_20180119T111114_DVP_RTC30_G_gpufem_287C/S1A_IW_20180119T111114_DVP_RTC30_G_gpufem_287C_VV.tif\n",
      "\n",
      "Dataset/Cambodia/RTC_GAMMA/S1A_IW_20180119T111114_DVP_RTC30_G_gpufem_287C/S1A_IW_20180119T111114_DVP_RTC30_G_gpufem_287C_VH.tif\n",
      "\n",
      "Dataset/Cambodia/RTC_GAMMA/S1A_IW_20190303T111120_DVP_RTC30_G_gpufem_8B62/S1A_IW_20190303T111120_DVP_RTC30_G_gpufem_8B62_VH.tif\n",
      "\n",
      "Dataset/Cambodia/RTC_GAMMA/S1A_IW_20190303T111120_DVP_RTC30_G_gpufem_8B62/S1A_IW_20190303T111120_DVP_RTC30_G_gpufem_8B62_VV.tif\n",
      "\n",
      "Dataset/Cambodia/RTC_GAMMA/S1A_IW_20201210T111134_DVP_RTC30_G_gpufem_ABB6/S1A_IW_20201210T111134_DVP_RTC30_G_gpufem_ABB6_VH.tif\n",
      "\n",
      "Dataset/Cambodia/RTC_GAMMA/S1A_IW_20201210T111134_DVP_RTC30_G_gpufem_ABB6/S1A_IW_20201210T111134_DVP_RTC30_G_gpufem_ABB6_VV.tif\n",
      "\n",
      "Dataset/Cambodia/RTC_GAMMA/S1A_IW_20190619T111123_DVP_RTC30_G_gpufem_1D81/S1A_IW_20190619T111123_DVP_RTC30_G_gpufem_1D81_VV.tif\n",
      "\n",
      "Dataset/Cambodia/RTC_GAMMA/S1A_IW_20190619T111123_DVP_RTC30_G_gpufem_1D81/S1A_IW_20190619T111123_DVP_RTC30_G_gpufem_1D81_VH.tif\n",
      "\n",
      "Dataset/Cambodia/RTC_GAMMA/S1A_IW_20220416T111138_DVP_RTC30_G_gpufem_53BC/S1A_IW_20220416T111138_DVP_RTC30_G_gpufem_53BC_VV.tif\n",
      "\n",
      "Dataset/Cambodia/RTC_GAMMA/S1A_IW_20220416T111138_DVP_RTC30_G_gpufem_53BC/S1A_IW_20220416T111138_DVP_RTC30_G_gpufem_53BC_VH.tif\n",
      "\n",
      "Dataset/Cambodia/RTC_GAMMA/S1A_IW_20191110T111129_DVP_RTC30_G_gpufem_00EE/S1A_IW_20191110T111129_DVP_RTC30_G_gpufem_00EE_VH.tif\n",
      "\n",
      "Dataset/Cambodia/RTC_GAMMA/S1A_IW_20191110T111129_DVP_RTC30_G_gpufem_00EE/S1A_IW_20191110T111129_DVP_RTC30_G_gpufem_00EE_VV.tif\n",
      "\n",
      "Dataset/Cambodia/RTC_GAMMA/S1A_IW_20220311T111137_DVP_RTC30_G_gpufem_BF4F/S1A_IW_20220311T111137_DVP_RTC30_G_gpufem_BF4F_VH.tif\n",
      "\n",
      "Dataset/Cambodia/RTC_GAMMA/S1A_IW_20220311T111137_DVP_RTC30_G_gpufem_BF4F/S1A_IW_20220311T111137_DVP_RTC30_G_gpufem_BF4F_VV.tif\n",
      "\n",
      "Dataset/Cambodia/RTC_GAMMA/S1A_IW_20180519T111116_DVP_RTC30_G_gpufem_66F3/S1A_IW_20180519T111116_DVP_RTC30_G_gpufem_66F3_VV.tif\n",
      "\n",
      "Dataset/Cambodia/RTC_GAMMA/S1A_IW_20180519T111116_DVP_RTC30_G_gpufem_66F3/S1A_IW_20180519T111116_DVP_RTC30_G_gpufem_66F3_VH.tif\n",
      "\n",
      "Dataset/Cambodia/RTC_GAMMA/S1A_IW_20220428T111139_DVP_RTC30_G_gpufem_423B/S1A_IW_20220428T111139_DVP_RTC30_G_gpufem_423B_VH.tif\n",
      "\n",
      "Dataset/Cambodia/RTC_GAMMA/S1A_IW_20220428T111139_DVP_RTC30_G_gpufem_423B/S1A_IW_20220428T111139_DVP_RTC30_G_gpufem_423B_VV.tif\n",
      "\n",
      "Dataset/Cambodia/RTC_GAMMA/S1A_IW_20201128T111135_DVP_RTC30_G_gpufem_0ED5/S1A_IW_20201128T111135_DVP_RTC30_G_gpufem_0ED5_VV.tif\n",
      "\n",
      "Dataset/Cambodia/RTC_GAMMA/S1A_IW_20201128T111135_DVP_RTC30_G_gpufem_0ED5/S1A_IW_20201128T111135_DVP_RTC30_G_gpufem_0ED5_VH.tif\n",
      "\n",
      "Dataset/Cambodia/RTC_GAMMA/S1A_IW_20180107T111114_DVP_RTC30_G_gpufem_9D06/S1A_IW_20180107T111114_DVP_RTC30_G_gpufem_9D06_VH.tif\n",
      "\n",
      "Dataset/Cambodia/RTC_GAMMA/S1A_IW_20180107T111114_DVP_RTC30_G_gpufem_9D06/S1A_IW_20180107T111114_DVP_RTC30_G_gpufem_9D06_VV.tif\n",
      "\n",
      "Dataset/Cambodia/RTC_GAMMA/S1A_IW_20181103T111123_DVP_RTC30_G_gpufem_56E1/S1A_IW_20181103T111123_DVP_RTC30_G_gpufem_56E1_VV.tif\n",
      "\n",
      "Dataset/Cambodia/RTC_GAMMA/S1A_IW_20181103T111123_DVP_RTC30_G_gpufem_56E1/S1A_IW_20181103T111123_DVP_RTC30_G_gpufem_56E1_VH.tif\n",
      "\n",
      "Dataset/Cambodia/RTC_GAMMA/S1A_IW_20220510T111139_DVP_RTC30_G_gpufem_952C/S1A_IW_20220510T111139_DVP_RTC30_G_gpufem_952C_VV.tif\n",
      "\n",
      "Dataset/Cambodia/RTC_GAMMA/S1A_IW_20220510T111139_DVP_RTC30_G_gpufem_952C/S1A_IW_20220510T111139_DVP_RTC30_G_gpufem_952C_VH.tif\n",
      "\n",
      "Dataset/Cambodia/RTC_GAMMA/S1A_IW_20181209T111122_DVP_RTC30_G_gpufem_9E2E/S1A_IW_20181209T111122_DVP_RTC30_G_gpufem_9E2E_VH.tif\n",
      "\n",
      "Dataset/Cambodia/RTC_GAMMA/S1A_IW_20181209T111122_DVP_RTC30_G_gpufem_9E2E/S1A_IW_20181209T111122_DVP_RTC30_G_gpufem_9E2E_VV.tif\n",
      "\n",
      "Dataset/Cambodia/RTC_GAMMA/S1A_IW_20171015T111116_DVP_RTC30_G_gpufem_C4E1/S1A_IW_20171015T111116_DVP_RTC30_G_gpufem_C4E1_VH.tif\n",
      "\n",
      "Dataset/Cambodia/RTC_GAMMA/S1A_IW_20171015T111116_DVP_RTC30_G_gpufem_C4E1/S1A_IW_20171015T111116_DVP_RTC30_G_gpufem_C4E1_VV.tif\n",
      "\n",
      "Dataset/Cambodia/RTC_GAMMA/S1A_IW_20190701T111124_DVP_RTC30_G_gpufem_671D/S1A_IW_20190701T111124_DVP_RTC30_G_gpufem_671D_VH.tif\n",
      "\n",
      "Dataset/Cambodia/RTC_GAMMA/S1A_IW_20190701T111124_DVP_RTC30_G_gpufem_671D/S1A_IW_20190701T111124_DVP_RTC30_G_gpufem_671D_VV.tif\n",
      "\n",
      "Dataset/Cambodia/RTC_GAMMA/S1A_IW_20200321T111126_DVP_RTC30_G_gpufem_AF4C/S1A_IW_20200321T111126_DVP_RTC30_G_gpufem_AF4C_VH.tif\n",
      "\n",
      "Dataset/Cambodia/RTC_GAMMA/S1A_IW_20200321T111126_DVP_RTC30_G_gpufem_AF4C/S1A_IW_20200321T111126_DVP_RTC30_G_gpufem_AF4C_VV.tif\n",
      "\n",
      "Dataset/Cambodia/RTC_GAMMA/S1A_IW_20230117T111144_DVP_RTC30_G_gpufem_80BE/S1A_IW_20230117T111144_DVP_RTC30_G_gpufem_80BE_VV.tif\n",
      "\n",
      "Dataset/Cambodia/RTC_GAMMA/S1A_IW_20230117T111144_DVP_RTC30_G_gpufem_80BE/S1A_IW_20230117T111144_DVP_RTC30_G_gpufem_80BE_VH.tif\n",
      "\n",
      "Dataset/Cambodia/RTC_GAMMA/S1A_IW_20230529T111146_DVP_RTC30_G_gpufem_EF64/S1A_IW_20230529T111146_DVP_RTC30_G_gpufem_EF64_VV.tif\n",
      "\n",
      "Dataset/Cambodia/RTC_GAMMA/S1A_IW_20230529T111146_DVP_RTC30_G_gpufem_EF64/S1A_IW_20230529T111146_DVP_RTC30_G_gpufem_EF64_VH.tif\n",
      "\n",
      "Dataset/Cambodia/RTC_GAMMA/S1A_IW_20210304T111131_DVP_RTC30_G_gpufem_61FD/S1A_IW_20210304T111131_DVP_RTC30_G_gpufem_61FD_VV.tif\n",
      "\n",
      "Dataset/Cambodia/RTC_GAMMA/S1A_IW_20210304T111131_DVP_RTC30_G_gpufem_61FD/S1A_IW_20210304T111131_DVP_RTC30_G_gpufem_61FD_VH.tif\n",
      "\n",
      "Dataset/Cambodia/RTC_GAMMA/S1A_IW_20190526T111122_DVP_RTC30_G_gpufem_0975/S1A_IW_20190526T111122_DVP_RTC30_G_gpufem_0975_VH.tif\n",
      "\n",
      "Dataset/Cambodia/RTC_GAMMA/S1A_IW_20190526T111122_DVP_RTC30_G_gpufem_0975/S1A_IW_20190526T111122_DVP_RTC30_G_gpufem_0975_VV.tif\n",
      "\n",
      "Dataset/Cambodia/RTC_GAMMA/S1A_IW_20221212T111146_DVP_RTC30_G_gpufem_6A60/S1A_IW_20221212T111146_DVP_RTC30_G_gpufem_6A60_VH.tif\n",
      "\n",
      "Dataset/Cambodia/RTC_GAMMA/S1A_IW_20221212T111146_DVP_RTC30_G_gpufem_6A60/S1A_IW_20221212T111146_DVP_RTC30_G_gpufem_6A60_VV.tif\n",
      "\n",
      "Dataset/Cambodia/RTC_GAMMA/S1A_IW_20230306T111143_DVP_RTC30_G_gpufem_D1D3/S1A_IW_20230306T111143_DVP_RTC30_G_gpufem_D1D3_VH.tif\n",
      "\n",
      "Dataset/Cambodia/RTC_GAMMA/S1A_IW_20230306T111143_DVP_RTC30_G_gpufem_D1D3/S1A_IW_20230306T111143_DVP_RTC30_G_gpufem_D1D3_VV.tif\n",
      "\n",
      "Dataset/Cambodia/RTC_GAMMA/S1A_IW_20210726T111138_DVP_RTC30_G_gpufem_71ED/S1A_IW_20210726T111138_DVP_RTC30_G_gpufem_71ED_VV.tif\n",
      "\n",
      "Dataset/Cambodia/RTC_GAMMA/S1A_IW_20210726T111138_DVP_RTC30_G_gpufem_71ED/S1A_IW_20210726T111138_DVP_RTC30_G_gpufem_71ED_VH.tif\n",
      "\n",
      "Dataset/Cambodia/RTC_GAMMA/S1A_IW_20190315T111119_DVP_RTC30_G_gpufem_338B/S1A_IW_20190315T111119_DVP_RTC30_G_gpufem_338B_VV.tif\n",
      "\n",
      "Dataset/Cambodia/RTC_GAMMA/S1A_IW_20190315T111119_DVP_RTC30_G_gpufem_338B/S1A_IW_20190315T111119_DVP_RTC30_G_gpufem_338B_VH.tif\n",
      "\n",
      "Dataset/Cambodia/RTC_GAMMA/S1A_IW_20211205T111140_DVP_RTC30_G_gpufem_87B1/S1A_IW_20211205T111140_DVP_RTC30_G_gpufem_87B1_VH.tif\n",
      "\n",
      "Dataset/Cambodia/RTC_GAMMA/S1A_IW_20211205T111140_DVP_RTC30_G_gpufem_87B1/S1A_IW_20211205T111140_DVP_RTC30_G_gpufem_87B1_VV.tif\n",
      "\n",
      "Dataset/Cambodia/RTC_GAMMA/S1A_IW_20190830T111128_DVP_RTC30_G_gpufem_CC23/S1A_IW_20190830T111128_DVP_RTC30_G_gpufem_CC23_VV.tif\n",
      "\n",
      "Dataset/Cambodia/RTC_GAMMA/S1A_IW_20190830T111128_DVP_RTC30_G_gpufem_CC23/S1A_IW_20190830T111128_DVP_RTC30_G_gpufem_CC23_VH.tif\n",
      "\n",
      "Dataset/Cambodia/RTC_GAMMA/S1A_IW_20190502T111121_DVP_RTC30_G_gpufem_0187/S1A_IW_20190502T111121_DVP_RTC30_G_gpufem_0187_VH.tif\n",
      "\n",
      "Dataset/Cambodia/RTC_GAMMA/S1A_IW_20190502T111121_DVP_RTC30_G_gpufem_0187/S1A_IW_20190502T111121_DVP_RTC30_G_gpufem_0187_VV.tif\n",
      "\n",
      "Dataset/Cambodia/RTC_GAMMA/S1A_IW_20210831T111140_DVP_RTC30_G_gpufem_A9FB/S1A_IW_20210831T111140_DVP_RTC30_G_gpufem_A9FB_VV.tif\n",
      "\n",
      "Dataset/Cambodia/RTC_GAMMA/S1A_IW_20210831T111140_DVP_RTC30_G_gpufem_A9FB/S1A_IW_20210831T111140_DVP_RTC30_G_gpufem_A9FB_VH.tif\n",
      "\n",
      "Dataset/Cambodia/RTC_GAMMA/S1A_IW_20190408T111120_DVP_RTC30_G_gpufem_D773/S1A_IW_20190408T111120_DVP_RTC30_G_gpufem_D773_VV.tif\n",
      "\n",
      "Dataset/Cambodia/RTC_GAMMA/S1A_IW_20190408T111120_DVP_RTC30_G_gpufem_D773/S1A_IW_20190408T111120_DVP_RTC30_G_gpufem_D773_VH.tif\n",
      "\n",
      "Dataset/Cambodia/RTC_GAMMA/S1A_IW_20220721T111144_DVP_RTC30_G_gpufem_C29D/S1A_IW_20220721T111144_DVP_RTC30_G_gpufem_C29D_VV.tif\n",
      "\n",
      "Dataset/Cambodia/RTC_GAMMA/S1A_IW_20220721T111144_DVP_RTC30_G_gpufem_C29D/S1A_IW_20220721T111144_DVP_RTC30_G_gpufem_C29D_VH.tif\n",
      "\n",
      "Dataset/Cambodia/RTC_GAMMA/S1A_IW_20171120T111116_DVP_RTC30_G_gpufem_25A1/S1A_IW_20171120T111116_DVP_RTC30_G_gpufem_25A1_VH.tif\n",
      "\n",
      "Dataset/Cambodia/RTC_GAMMA/S1A_IW_20171120T111116_DVP_RTC30_G_gpufem_25A1/S1A_IW_20171120T111116_DVP_RTC30_G_gpufem_25A1_VV.tif\n",
      "\n",
      "Dataset/Cambodia/RTC_GAMMA/S1A_IW_20230505T111145_DVP_RTC30_G_gpufem_EE96/S1A_IW_20230505T111145_DVP_RTC30_G_gpufem_EE96_VH.tif\n",
      "\n",
      "Dataset/Cambodia/RTC_GAMMA/S1A_IW_20230505T111145_DVP_RTC30_G_gpufem_EE96/S1A_IW_20230505T111145_DVP_RTC30_G_gpufem_EE96_VV.tif\n",
      "\n",
      "Dataset/Cambodia/RTC_GAMMA/S1A_IW_20171108T111116_DVP_RTC30_G_gpufem_20BA/S1A_IW_20171108T111116_DVP_RTC30_G_gpufem_20BA_VV.tif\n",
      "\n",
      "Dataset/Cambodia/RTC_GAMMA/S1A_IW_20171108T111116_DVP_RTC30_G_gpufem_20BA/S1A_IW_20171108T111116_DVP_RTC30_G_gpufem_20BA_VH.tif\n",
      "\n",
      "Dataset/Cambodia/RTC_GAMMA/S1A_IW_20210924T111141_DVP_RTC30_G_gpufem_20C9/S1A_IW_20210924T111141_DVP_RTC30_G_gpufem_20C9_VV.tif\n",
      "\n",
      "Dataset/Cambodia/RTC_GAMMA/S1A_IW_20210924T111141_DVP_RTC30_G_gpufem_20C9/S1A_IW_20210924T111141_DVP_RTC30_G_gpufem_20C9_VH.tif\n",
      "\n",
      "Dataset/Cambodia/RTC_GAMMA/S1A_IW_20210807T111139_DVP_RTC30_G_gpufem_E8C6/S1A_IW_20210807T111139_DVP_RTC30_G_gpufem_E8C6_VV.tif\n",
      "\n",
      "Dataset/Cambodia/RTC_GAMMA/S1A_IW_20210807T111139_DVP_RTC30_G_gpufem_E8C6/S1A_IW_20210807T111139_DVP_RTC30_G_gpufem_E8C6_VH.tif\n",
      "\n",
      "Dataset/Cambodia/RTC_GAMMA/S1A_IW_20200202T111126_DVP_RTC30_G_gpufem_B611/S1A_IW_20200202T111126_DVP_RTC30_G_gpufem_B611_VV.tif\n",
      "\n",
      "Dataset/Cambodia/RTC_GAMMA/S1A_IW_20200202T111126_DVP_RTC30_G_gpufem_B611/S1A_IW_20200202T111126_DVP_RTC30_G_gpufem_B611_VH.tif\n",
      "\n",
      "Dataset/Cambodia/RTC_GAMMA/S1A_IW_20211030T111141_DVP_RTC30_G_gpufem_FF88/S1A_IW_20211030T111141_DVP_RTC30_G_gpufem_FF88_VV.tif\n",
      "\n",
      "Dataset/Cambodia/RTC_GAMMA/S1A_IW_20211030T111141_DVP_RTC30_G_gpufem_FF88/S1A_IW_20211030T111141_DVP_RTC30_G_gpufem_FF88_VH.tif\n",
      "\n",
      "Dataset/Cambodia/RTC_GAMMA/S1A_IW_20210316T111132_DVP_RTC30_G_gpufem_858D/S1A_IW_20210316T111132_DVP_RTC30_G_gpufem_858D_VV.tif\n",
      "\n",
      "Dataset/Cambodia/RTC_GAMMA/S1A_IW_20210316T111132_DVP_RTC30_G_gpufem_858D/S1A_IW_20210316T111132_DVP_RTC30_G_gpufem_858D_VH.tif\n",
      "\n",
      "Dataset/Cambodia/RTC_GAMMA/S1A_IW_20210608T111135_DVP_RTC30_G_gpufem_28FE/S1A_IW_20210608T111135_DVP_RTC30_G_gpufem_28FE_VH.tif\n",
      "\n",
      "Dataset/Cambodia/RTC_GAMMA/S1A_IW_20210608T111135_DVP_RTC30_G_gpufem_28FE/S1A_IW_20210608T111135_DVP_RTC30_G_gpufem_28FE_VV.tif\n",
      "\n",
      "Dataset/Cambodia/RTC_GAMMA/S1A_IW_20180904T111122_DVP_RTC30_G_gpufem_1A9E/S1A_IW_20180904T111122_DVP_RTC30_G_gpufem_1A9E_VV.tif\n",
      "\n",
      "Dataset/Cambodia/RTC_GAMMA/S1A_IW_20180904T111122_DVP_RTC30_G_gpufem_1A9E/S1A_IW_20180904T111122_DVP_RTC30_G_gpufem_1A9E_VH.tif\n",
      "\n",
      "Dataset/Cambodia/RTC_GAMMA/S1A_IW_20210421T111133_DVP_RTC30_G_gpufem_2466/S1A_IW_20210421T111133_DVP_RTC30_G_gpufem_2466_VV.tif\n",
      "\n",
      "Dataset/Cambodia/RTC_GAMMA/S1A_IW_20210421T111133_DVP_RTC30_G_gpufem_2466/S1A_IW_20210421T111133_DVP_RTC30_G_gpufem_2466_VH.tif\n",
      "\n",
      "Dataset/Cambodia/RTC_GAMMA/S1A_IW_20220627T111143_DVP_RTC30_G_gpufem_EB15/S1A_IW_20220627T111143_DVP_RTC30_G_gpufem_EB15_VH.tif\n",
      "\n",
      "Dataset/Cambodia/RTC_GAMMA/S1A_IW_20220627T111143_DVP_RTC30_G_gpufem_EB15/S1A_IW_20220627T111143_DVP_RTC30_G_gpufem_EB15_VV.tif\n",
      "\n",
      "Dataset/Cambodia/RTC_GAMMA/S1A_IW_20210220T111132_DVP_RTC30_G_gpufem_24C6/S1A_IW_20210220T111132_DVP_RTC30_G_gpufem_24C6_VH.tif\n",
      "\n",
      "Dataset/Cambodia/RTC_GAMMA/S1A_IW_20210220T111132_DVP_RTC30_G_gpufem_24C6/S1A_IW_20210220T111132_DVP_RTC30_G_gpufem_24C6_VV.tif\n",
      "\n",
      "Dataset/Cambodia/RTC_GAMMA/S1A_IW_20221106T111147_DVP_RTC30_G_gpufem_9620/S1A_IW_20221106T111147_DVP_RTC30_G_gpufem_9620_VH.tif\n",
      "\n",
      "Dataset/Cambodia/RTC_GAMMA/S1A_IW_20221106T111147_DVP_RTC30_G_gpufem_9620/S1A_IW_20221106T111147_DVP_RTC30_G_gpufem_9620_VV.tif\n",
      "\n",
      "Dataset/Cambodia/RTC_GAMMA/S1A_IW_20220227T111137_DVP_RTC30_G_gpufem_509F/S1A_IW_20220227T111137_DVP_RTC30_G_gpufem_509F_VV.tif\n",
      "\n",
      "Dataset/Cambodia/RTC_GAMMA/S1A_IW_20220227T111137_DVP_RTC30_G_gpufem_509F/S1A_IW_20220227T111137_DVP_RTC30_G_gpufem_509F_VH.tif\n",
      "\n",
      "Dataset/Cambodia/RTC_GAMMA/S1A_IW_20171202T111115_DVP_RTC30_G_gpufem_C516/S1A_IW_20171202T111115_DVP_RTC30_G_gpufem_C516_VH.tif\n",
      "\n",
      "Dataset/Cambodia/RTC_GAMMA/S1A_IW_20171202T111115_DVP_RTC30_G_gpufem_C516/S1A_IW_20171202T111115_DVP_RTC30_G_gpufem_C516_VV.tif\n",
      "\n",
      "Dataset/Cambodia/RTC_GAMMA/S1A_IW_20191228T111127_DVP_RTC30_G_gpufem_B293/S1A_IW_20191228T111127_DVP_RTC30_G_gpufem_B293_VH.tif\n",
      "\n",
      "Dataset/Cambodia/RTC_GAMMA/S1A_IW_20191228T111127_DVP_RTC30_G_gpufem_B293/S1A_IW_20191228T111127_DVP_RTC30_G_gpufem_B293_VV.tif\n",
      "\n",
      "Dataset/Cambodia/RTC_GAMMA/S1A_IW_20200905T111135_DVP_RTC30_G_gpufem_C16D/S1A_IW_20200905T111135_DVP_RTC30_G_gpufem_C16D_VH.tif\n",
      "\n",
      "Dataset/Cambodia/RTC_GAMMA/S1A_IW_20200905T111135_DVP_RTC30_G_gpufem_C16D/S1A_IW_20200905T111135_DVP_RTC30_G_gpufem_C16D_VV.tif\n",
      "\n",
      "Dataset/Cambodia/RTC_GAMMA/S1A_IW_20210409T111132_DVP_RTC30_G_gpufem_5F82/S1A_IW_20210409T111132_DVP_RTC30_G_gpufem_5F82_VH.tif\n",
      "\n",
      "Dataset/Cambodia/RTC_GAMMA/S1A_IW_20210409T111132_DVP_RTC30_G_gpufem_5F82/S1A_IW_20210409T111132_DVP_RTC30_G_gpufem_5F82_VV.tif\n",
      "\n",
      "Dataset/Cambodia/RTC_GAMMA/S1A_IW_20190219T111119_DVP_RTC30_G_gpufem_6CD0/S1A_IW_20190219T111119_DVP_RTC30_G_gpufem_6CD0_VV.tif\n",
      "\n",
      "Dataset/Cambodia/RTC_GAMMA/S1A_IW_20190219T111119_DVP_RTC30_G_gpufem_6CD0/S1A_IW_20190219T111119_DVP_RTC30_G_gpufem_6CD0_VH.tif\n",
      "\n",
      "Dataset/Cambodia/RTC_GAMMA/S1A_IW_20181022T111123_DVP_RTC30_G_gpufem_8B57/S1A_IW_20181022T111123_DVP_RTC30_G_gpufem_8B57_VH.tif\n",
      "\n",
      "Dataset/Cambodia/RTC_GAMMA/S1A_IW_20181022T111123_DVP_RTC30_G_gpufem_8B57/S1A_IW_20181022T111123_DVP_RTC30_G_gpufem_8B57_VV.tif\n",
      "\n",
      "Dataset/Cambodia/RTC_GAMMA/S1A_IW_20210208T111132_DVP_RTC30_G_gpufem_5C75/S1A_IW_20210208T111132_DVP_RTC30_G_gpufem_5C75_VV.tif\n",
      "\n",
      "Dataset/Cambodia/RTC_GAMMA/S1A_IW_20210208T111132_DVP_RTC30_G_gpufem_5C75/S1A_IW_20210208T111132_DVP_RTC30_G_gpufem_5C75_VH.tif\n",
      "\n",
      "Dataset/Cambodia/RTC_GAMMA/S1A_IW_20191122T111129_DVP_RTC30_G_gpufem_F00C/S1A_IW_20191122T111129_DVP_RTC30_G_gpufem_F00C_VH.tif\n",
      "\n",
      "Dataset/Cambodia/RTC_GAMMA/S1A_IW_20191122T111129_DVP_RTC30_G_gpufem_F00C/S1A_IW_20191122T111129_DVP_RTC30_G_gpufem_F00C_VV.tif\n",
      "\n",
      "Dataset/Cambodia/RTC_GAMMA/S1A_IW_20181221T111121_DVP_RTC30_G_gpufem_FE96/S1A_IW_20181221T111121_DVP_RTC30_G_gpufem_FE96_VV.tif\n",
      "\n",
      "Dataset/Cambodia/RTC_GAMMA/S1A_IW_20181221T111121_DVP_RTC30_G_gpufem_FE96/S1A_IW_20181221T111121_DVP_RTC30_G_gpufem_FE96_VH.tif\n",
      "\n",
      "Dataset/Cambodia/RTC_GAMMA/S1A_IW_20181115T111123_DVP_RTC30_G_gpufem_2314/S1A_IW_20181115T111123_DVP_RTC30_G_gpufem_2314_VH.tif\n",
      "\n",
      "Dataset/Cambodia/RTC_GAMMA/S1A_IW_20181115T111123_DVP_RTC30_G_gpufem_2314/S1A_IW_20181115T111123_DVP_RTC30_G_gpufem_2314_VV.tif\n",
      "\n",
      "Dataset/Cambodia/RTC_GAMMA/S1A_IW_20210503T111133_DVP_RTC30_G_gpufem_6532/S1A_IW_20210503T111133_DVP_RTC30_G_gpufem_6532_VH.tif\n",
      "\n",
      "Dataset/Cambodia/RTC_GAMMA/S1A_IW_20210503T111133_DVP_RTC30_G_gpufem_6532/S1A_IW_20210503T111133_DVP_RTC30_G_gpufem_6532_VV.tif\n",
      "\n",
      "Dataset/Cambodia/RTC_GAMMA/S1A_IW_20230210T111143_DVP_RTC30_G_gpufem_0BCB/S1A_IW_20230210T111143_DVP_RTC30_G_gpufem_0BCB_VV.tif\n",
      "\n",
      "Dataset/Cambodia/RTC_GAMMA/S1A_IW_20230210T111143_DVP_RTC30_G_gpufem_0BCB/S1A_IW_20230210T111143_DVP_RTC30_G_gpufem_0BCB_VH.tif\n",
      "\n",
      "Dataset/Cambodia/RTC_GAMMA/S1A_IW_20180730T111120_DVP_RTC30_G_gpufem_B483/S1A_IW_20180730T111120_DVP_RTC30_G_gpufem_B483_VH.tif\n",
      "\n",
      "Dataset/Cambodia/RTC_GAMMA/S1A_IW_20180730T111120_DVP_RTC30_G_gpufem_B483/S1A_IW_20180730T111120_DVP_RTC30_G_gpufem_B483_VV.tif\n",
      "\n",
      "Dataset/Cambodia/RTC_GAMMA/S1A_IW_20201222T111134_DVP_RTC30_G_gpufem_BD29/S1A_IW_20201222T111134_DVP_RTC30_G_gpufem_BD29_VH.tif\n",
      "\n",
      "Dataset/Cambodia/RTC_GAMMA/S1A_IW_20201222T111134_DVP_RTC30_G_gpufem_BD29/S1A_IW_20201222T111134_DVP_RTC30_G_gpufem_BD29_VV.tif\n",
      "\n",
      "Dataset/Cambodia/RTC_GAMMA/S1A_IW_20220522T111140_DVP_RTC30_G_gpufem_D6F3/S1A_IW_20220522T111140_DVP_RTC30_G_gpufem_D6F3_VV.tif\n",
      "\n",
      "Dataset/Cambodia/RTC_GAMMA/S1A_IW_20220522T111140_DVP_RTC30_G_gpufem_D6F3/S1A_IW_20220522T111140_DVP_RTC30_G_gpufem_D6F3_VH.tif\n",
      "\n",
      "Dataset/Cambodia/RTC_GAMMA/S1A_IW_20190420T111120_DVP_RTC30_G_gpufem_445B/S1A_IW_20190420T111120_DVP_RTC30_G_gpufem_445B_VV.tif\n",
      "\n",
      "Dataset/Cambodia/RTC_GAMMA/S1A_IW_20190420T111120_DVP_RTC30_G_gpufem_445B/S1A_IW_20190420T111120_DVP_RTC30_G_gpufem_445B_VH.tif\n",
      "\n",
      "Dataset/Cambodia/RTC_GAMMA/S1A_IW_20190327T111120_DVP_RTC30_G_gpufem_9D4A/S1A_IW_20190327T111120_DVP_RTC30_G_gpufem_9D4A_VV.tif\n",
      "\n",
      "Dataset/Cambodia/RTC_GAMMA/S1A_IW_20190327T111120_DVP_RTC30_G_gpufem_9D4A/S1A_IW_20190327T111120_DVP_RTC30_G_gpufem_9D4A_VH.tif\n",
      "\n",
      "Dataset/Cambodia/RTC_GAMMA/S1A_IW_20230423T111144_DVP_RTC30_G_gpufem_E7C1/S1A_IW_20230423T111144_DVP_RTC30_G_gpufem_E7C1_VV.tif\n",
      "\n",
      "Dataset/Cambodia/RTC_GAMMA/S1A_IW_20230423T111144_DVP_RTC30_G_gpufem_E7C1/S1A_IW_20230423T111144_DVP_RTC30_G_gpufem_E7C1_VH.tif\n",
      "\n",
      "Dataset/Cambodia/RTC_GAMMA/S1A_IW_20211111T111141_DVP_RTC30_G_gpufem_732D/S1A_IW_20211111T111141_DVP_RTC30_G_gpufem_732D_VH.tif\n",
      "\n",
      "Dataset/Cambodia/RTC_GAMMA/S1A_IW_20211111T111141_DVP_RTC30_G_gpufem_732D/S1A_IW_20211111T111141_DVP_RTC30_G_gpufem_732D_VV.tif\n",
      "\n",
      "Dataset/Cambodia/RTC_GAMMA/S1A_IW_20220203T111137_DVP_RTC30_G_gpufem_7FE8/S1A_IW_20220203T111137_DVP_RTC30_G_gpufem_7FE8_VV.tif\n",
      "\n",
      "Dataset/Cambodia/RTC_GAMMA/S1A_IW_20220203T111137_DVP_RTC30_G_gpufem_7FE8/S1A_IW_20220203T111137_DVP_RTC30_G_gpufem_7FE8_VH.tif\n",
      "\n",
      "Dataset/Cambodia/RTC_GAMMA/S1A_IW_20220122T111138_DVP_RTC30_G_gpufem_066C/S1A_IW_20220122T111138_DVP_RTC30_G_gpufem_066C_VV.tif\n",
      "\n",
      "Dataset/Cambodia/RTC_GAMMA/S1A_IW_20220122T111138_DVP_RTC30_G_gpufem_066C/S1A_IW_20220122T111138_DVP_RTC30_G_gpufem_066C_VH.tif\n",
      "\n",
      "Dataset/Cambodia/RTC_GAMMA/S1A_IW_20190911T111128_DVP_RTC30_G_gpufem_847C/S1A_IW_20190911T111128_DVP_RTC30_G_gpufem_847C_VH.tif\n",
      "\n",
      "Dataset/Cambodia/RTC_GAMMA/S1A_IW_20190911T111128_DVP_RTC30_G_gpufem_847C/S1A_IW_20190911T111128_DVP_RTC30_G_gpufem_847C_VV.tif\n",
      "\n",
      "Dataset/Cambodia/RTC_GAMMA/S1A_IW_20180224T111113_DVP_RTC30_G_gpufem_44C3/S1A_IW_20180224T111113_DVP_RTC30_G_gpufem_44C3_VV.tif\n",
      "\n",
      "Dataset/Cambodia/RTC_GAMMA/S1A_IW_20180224T111113_DVP_RTC30_G_gpufem_44C3/S1A_IW_20180224T111113_DVP_RTC30_G_gpufem_44C3_VH.tif\n",
      "\n",
      "Dataset/Cambodia/RTC_GAMMA/S1A_IW_20180612T111117_DVP_RTC30_G_gpufem_726A/S1A_IW_20180612T111117_DVP_RTC30_G_gpufem_726A_VH.tif\n",
      "\n",
      "Dataset/Cambodia/RTC_GAMMA/S1A_IW_20180612T111117_DVP_RTC30_G_gpufem_726A/S1A_IW_20180612T111117_DVP_RTC30_G_gpufem_726A_VV.tif\n",
      "\n",
      "Dataset/Cambodia/RTC_GAMMA/S1A_IW_20220814T111146_DVP_RTC30_G_gpufem_99DE/S1A_IW_20220814T111146_DVP_RTC30_G_gpufem_99DE_VV.tif\n",
      "\n",
      "Dataset/Cambodia/RTC_GAMMA/S1A_IW_20220814T111146_DVP_RTC30_G_gpufem_99DE/S1A_IW_20220814T111146_DVP_RTC30_G_gpufem_99DE_VH.tif\n",
      "\n",
      "Dataset/Cambodia/RTC_GAMMA/S1A_IW_20200402T111126_DVP_RTC30_G_gpufem_D2A9/S1A_IW_20200402T111126_DVP_RTC30_G_gpufem_D2A9_VV.tif\n",
      "\n",
      "Dataset/Cambodia/RTC_GAMMA/S1A_IW_20200402T111126_DVP_RTC30_G_gpufem_D2A9/S1A_IW_20200402T111126_DVP_RTC30_G_gpufem_D2A9_VH.tif\n",
      "\n",
      "Dataset/Cambodia/RTC_GAMMA/S1A_IW_20200719T111132_DVP_RTC30_G_gpufem_6153/S1A_IW_20200719T111132_DVP_RTC30_G_gpufem_6153_VH.tif\n",
      "\n",
      "Dataset/Cambodia/RTC_GAMMA/S1A_IW_20200719T111132_DVP_RTC30_G_gpufem_6153/S1A_IW_20200719T111132_DVP_RTC30_G_gpufem_6153_VV.tif\n",
      "\n",
      "Dataset/Cambodia/RTC_GAMMA/S1A_IW_20221118T111147_DVP_RTC30_G_gpufem_0829/S1A_IW_20221118T111147_DVP_RTC30_G_gpufem_0829_VV.tif\n",
      "\n",
      "Dataset/Cambodia/RTC_GAMMA/S1A_IW_20221118T111147_DVP_RTC30_G_gpufem_0829/S1A_IW_20221118T111147_DVP_RTC30_G_gpufem_0829_VH.tif\n",
      "\n",
      "Dataset/Cambodia/RTC_GAMMA/S1A_IW_20200625T111130_DVP_RTC30_G_gpufem_9880/S1A_IW_20200625T111130_DVP_RTC30_G_gpufem_9880_VH.tif\n",
      "\n",
      "Dataset/Cambodia/RTC_GAMMA/S1A_IW_20200625T111130_DVP_RTC30_G_gpufem_9880/S1A_IW_20200625T111130_DVP_RTC30_G_gpufem_9880_VV.tif\n",
      "\n",
      "Dataset/Cambodia/RTC_GAMMA/S1A_IW_20210620T111136_DVP_RTC30_G_gpufem_18AE/S1A_IW_20210620T111136_DVP_RTC30_G_gpufem_18AE_VH.tif\n",
      "\n",
      "Dataset/Cambodia/RTC_GAMMA/S1A_IW_20210620T111136_DVP_RTC30_G_gpufem_18AE/S1A_IW_20210620T111136_DVP_RTC30_G_gpufem_18AE_VV.tif\n",
      "\n",
      "Dataset/Cambodia/RTC_GAMMA/S1A_IW_20220709T111143_DVP_RTC30_G_gpufem_76F2/S1A_IW_20220709T111143_DVP_RTC30_G_gpufem_76F2_VV.tif\n",
      "\n",
      "Dataset/Cambodia/RTC_GAMMA/S1A_IW_20220709T111143_DVP_RTC30_G_gpufem_76F2/S1A_IW_20220709T111143_DVP_RTC30_G_gpufem_76F2_VH.tif\n",
      "\n",
      "Dataset/Cambodia/RTC_GAMMA/S1A_IW_20190514T111121_DVP_RTC30_G_gpufem_40CE/S1A_IW_20190514T111121_DVP_RTC30_G_gpufem_40CE_VH.tif\n",
      "\n",
      "Dataset/Cambodia/RTC_GAMMA/S1A_IW_20190514T111121_DVP_RTC30_G_gpufem_40CE/S1A_IW_20190514T111121_DVP_RTC30_G_gpufem_40CE_VV.tif\n",
      "\n",
      "Dataset/Cambodia/RTC_GAMMA/S1A_IW_20190126T111120_DVP_RTC30_G_gpufem_65B3/S1A_IW_20190126T111120_DVP_RTC30_G_gpufem_65B3_VH.tif\n",
      "\n",
      "Dataset/Cambodia/RTC_GAMMA/S1A_IW_20190126T111120_DVP_RTC30_G_gpufem_65B3/S1A_IW_20190126T111120_DVP_RTC30_G_gpufem_65B3_VV.tif\n",
      "\n",
      "Dataset/Cambodia/RTC_GAMMA/S1A_IW_20230330T111143_DVP_RTC30_G_gpufem_2722/S1A_IW_20230330T111143_DVP_RTC30_G_gpufem_2722_VV.tif\n",
      "\n",
      "Dataset/Cambodia/RTC_GAMMA/S1A_IW_20230330T111143_DVP_RTC30_G_gpufem_2722/S1A_IW_20230330T111143_DVP_RTC30_G_gpufem_2722_VH.tif\n",
      "\n",
      "Dataset/Cambodia/RTC_GAMMA/S1A_IW_20200520T111128_DVP_RTC30_G_gpufem_85A3/S1A_IW_20200520T111128_DVP_RTC30_G_gpufem_85A3_VH.tif\n",
      "\n",
      "Dataset/Cambodia/RTC_GAMMA/S1A_IW_20200520T111128_DVP_RTC30_G_gpufem_85A3/S1A_IW_20200520T111128_DVP_RTC30_G_gpufem_85A3_VV.tif\n",
      "\n",
      "Dataset/Cambodia/RTC_GAMMA/S1A_IW_20171027T111116_DVP_RTC30_G_gpufem_474A/S1A_IW_20171027T111116_DVP_RTC30_G_gpufem_474A_VV.tif\n",
      "\n",
      "Dataset/Cambodia/RTC_GAMMA/S1A_IW_20171027T111116_DVP_RTC30_G_gpufem_474A/S1A_IW_20171027T111116_DVP_RTC30_G_gpufem_474A_VH.tif\n",
      "\n",
      "Dataset/Cambodia/RTC_GAMMA/S1A_IW_20220615T111142_DVP_RTC30_G_gpufem_616E/S1A_IW_20220615T111142_DVP_RTC30_G_gpufem_616E_VV.tif\n",
      "\n",
      "Dataset/Cambodia/RTC_GAMMA/S1A_IW_20220615T111142_DVP_RTC30_G_gpufem_616E/S1A_IW_20220615T111142_DVP_RTC30_G_gpufem_616E_VH.tif\n",
      "\n",
      "Dataset/Cambodia/RTC_GAMMA/S1A_IW_20180916T111122_DVP_RTC30_G_gpufem_4830/S1A_IW_20180916T111122_DVP_RTC30_G_gpufem_4830_VH.tif\n",
      "\n",
      "Dataset/Cambodia/RTC_GAMMA/S1A_IW_20180916T111122_DVP_RTC30_G_gpufem_4830/S1A_IW_20180916T111122_DVP_RTC30_G_gpufem_4830_VV.tif\n",
      "\n",
      "Dataset/Cambodia/RTC_GAMMA/S1A_IW_20191005T111129_DVP_RTC30_G_gpufem_D701/S1A_IW_20191005T111129_DVP_RTC30_G_gpufem_D701_VH.tif\n",
      "\n",
      "Dataset/Cambodia/RTC_GAMMA/S1A_IW_20191005T111129_DVP_RTC30_G_gpufem_D701/S1A_IW_20191005T111129_DVP_RTC30_G_gpufem_D701_VV.tif\n",
      "\n",
      "Dataset/Cambodia/RTC_GAMMA/S1A_IW_20201011T111136_DVP_RTC30_G_gpufem_8CDE/S1A_IW_20201011T111136_DVP_RTC30_G_gpufem_8CDE_VH.tif\n",
      "\n",
      "Dataset/Cambodia/RTC_GAMMA/S1A_IW_20201011T111136_DVP_RTC30_G_gpufem_8CDE/S1A_IW_20201011T111136_DVP_RTC30_G_gpufem_8CDE_VV.tif\n",
      "\n",
      "Dataset/Cambodia/RTC_GAMMA/S1A_IW_20230222T111143_DVP_RTC30_G_gpufem_FD20/S1A_IW_20230222T111143_DVP_RTC30_G_gpufem_FD20_VV.tif\n",
      "\n",
      "Dataset/Cambodia/RTC_GAMMA/S1A_IW_20230222T111143_DVP_RTC30_G_gpufem_FD20/S1A_IW_20230222T111143_DVP_RTC30_G_gpufem_FD20_VH.tif\n",
      "\n",
      "Dataset/Cambodia/RTC_GAMMA/S1A_IW_20191029T111129_DVP_RTC30_G_gpufem_4F11/S1A_IW_20191029T111129_DVP_RTC30_G_gpufem_4F11_VV.tif\n",
      "\n",
      "Dataset/Cambodia/RTC_GAMMA/S1A_IW_20191029T111129_DVP_RTC30_G_gpufem_4F11/S1A_IW_20191029T111129_DVP_RTC30_G_gpufem_4F11_VH.tif\n",
      "\n",
      "Dataset/Cambodia/RTC_GAMMA/S1A_IW_20230411T111144_DVP_RTC30_G_gpufem_81C2/S1A_IW_20230411T111144_DVP_RTC30_G_gpufem_81C2_VV.tif\n",
      "\n",
      "Dataset/Cambodia/RTC_GAMMA/S1A_IW_20230411T111144_DVP_RTC30_G_gpufem_81C2/S1A_IW_20230411T111144_DVP_RTC30_G_gpufem_81C2_VH.tif\n",
      "\n",
      "Dataset/Cambodia/RTC_GAMMA/S1A_IW_20190713T111125_DVP_RTC30_G_gpufem_DB85/S1A_IW_20190713T111125_DVP_RTC30_G_gpufem_DB85_VV.tif\n",
      "\n",
      "Dataset/Cambodia/RTC_GAMMA/S1A_IW_20190713T111125_DVP_RTC30_G_gpufem_DB85/S1A_IW_20190713T111125_DVP_RTC30_G_gpufem_DB85_VH.tif\n",
      "\n",
      "Dataset/Cambodia/RTC_GAMMA/S1A_IW_20210115T111133_DVP_RTC30_G_gpufem_2F58/S1A_IW_20210115T111133_DVP_RTC30_G_gpufem_2F58_VH.tif\n",
      "\n",
      "Dataset/Cambodia/RTC_GAMMA/S1A_IW_20210115T111133_DVP_RTC30_G_gpufem_2F58/S1A_IW_20210115T111133_DVP_RTC30_G_gpufem_2F58_VV.tif\n",
      "\n",
      "Dataset/Cambodia/RTC_GAMMA/S1A_IW_20171226T111114_DVP_RTC30_G_gpufem_ECBD/S1A_IW_20171226T111114_DVP_RTC30_G_gpufem_ECBD_VV.tif\n",
      "\n",
      "Dataset/Cambodia/RTC_GAMMA/S1A_IW_20171226T111114_DVP_RTC30_G_gpufem_ECBD/S1A_IW_20171226T111114_DVP_RTC30_G_gpufem_ECBD_VH.tif\n",
      "\n",
      "Dataset/Cambodia/RTC_GAMMA/S1A_IW_20211006T111141_DVP_RTC30_G_gpufem_317F/S1A_IW_20211006T111141_DVP_RTC30_G_gpufem_317F_VH.tif\n",
      "\n",
      "Dataset/Cambodia/RTC_GAMMA/S1A_IW_20211006T111141_DVP_RTC30_G_gpufem_317F/S1A_IW_20211006T111141_DVP_RTC30_G_gpufem_317F_VV.tif\n",
      "\n",
      "Dataset/Cambodia/RTC_GAMMA/S1A_IW_20230129T111144_DVP_RTC30_G_gpufem_A72B/S1A_IW_20230129T111144_DVP_RTC30_G_gpufem_A72B_VH.tif\n",
      "\n",
      "Dataset/Cambodia/RTC_GAMMA/S1A_IW_20230129T111144_DVP_RTC30_G_gpufem_A72B/S1A_IW_20230129T111144_DVP_RTC30_G_gpufem_A72B_VV.tif\n",
      "\n",
      "Dataset/Cambodia/RTC_GAMMA/S1A_IW_20211217T111140_DVP_RTC30_G_gpufem_EDAA/S1A_IW_20211217T111140_DVP_RTC30_G_gpufem_EDAA_VV.tif\n",
      "\n",
      "Dataset/Cambodia/RTC_GAMMA/S1A_IW_20211217T111140_DVP_RTC30_G_gpufem_EDAA/S1A_IW_20211217T111140_DVP_RTC30_G_gpufem_EDAA_VH.tif\n",
      "\n",
      "Dataset/Cambodia/RTC_GAMMA/S1A_IW_20221025T111147_DVP_RTC30_G_gpufem_3A17/S1A_IW_20221025T111147_DVP_RTC30_G_gpufem_3A17_VH.tif\n",
      "\n",
      "Dataset/Cambodia/RTC_GAMMA/S1A_IW_20221025T111147_DVP_RTC30_G_gpufem_3A17/S1A_IW_20221025T111147_DVP_RTC30_G_gpufem_3A17_VV.tif\n",
      "\n",
      "Dataset/Cambodia/RTC_GAMMA/S1A_IW_20200929T111135_DVP_RTC30_G_gpufem_6C9A/S1A_IW_20200929T111135_DVP_RTC30_G_gpufem_6C9A_VV.tif\n",
      "\n",
      "Dataset/Cambodia/RTC_GAMMA/S1A_IW_20200929T111135_DVP_RTC30_G_gpufem_6C9A/S1A_IW_20200929T111135_DVP_RTC30_G_gpufem_6C9A_VH.tif\n",
      "\n",
      "Dataset/Cambodia/RTC_GAMMA/S1A_IW_20181127T111122_DVP_RTC30_G_gpufem_FC9F/S1A_IW_20181127T111122_DVP_RTC30_G_gpufem_FC9F_VH.tif\n",
      "\n",
      "Dataset/Cambodia/RTC_GAMMA/S1A_IW_20181127T111122_DVP_RTC30_G_gpufem_FC9F/S1A_IW_20181127T111122_DVP_RTC30_G_gpufem_FC9F_VV.tif\n",
      "\n",
      "Dataset/Cambodia/RTC_GAMMA/S1A_IW_20220323T111138_DVP_RTC30_G_gpufem_2794/S1A_IW_20220323T111138_DVP_RTC30_G_gpufem_2794_VH.tif\n",
      "\n",
      "Dataset/Cambodia/RTC_GAMMA/S1A_IW_20220323T111138_DVP_RTC30_G_gpufem_2794/S1A_IW_20220323T111138_DVP_RTC30_G_gpufem_2794_VV.tif\n",
      "\n",
      "Dataset/Cambodia/RTC_GAMMA/S1A_IW_20201116T111135_DVP_RTC30_G_gpufem_6673/S1A_IW_20201116T111135_DVP_RTC30_G_gpufem_6673_VH.tif\n",
      "\n",
      "Dataset/Cambodia/RTC_GAMMA/S1A_IW_20201116T111135_DVP_RTC30_G_gpufem_6673/S1A_IW_20201116T111135_DVP_RTC30_G_gpufem_6673_VV.tif\n",
      "\n",
      "Dataset/Cambodia/RTC_GAMMA/S1A_IW_20200109T111127_DVP_RTC30_G_gpufem_BF47/S1A_IW_20200109T111127_DVP_RTC30_G_gpufem_BF47_VV.tif\n",
      "\n",
      "Dataset/Cambodia/RTC_GAMMA/S1A_IW_20200109T111127_DVP_RTC30_G_gpufem_BF47/S1A_IW_20200109T111127_DVP_RTC30_G_gpufem_BF47_VH.tif\n",
      "\n",
      "Dataset/Cambodia/RTC_GAMMA/S1A_IW_20200917T111135_DVP_RTC30_G_gpufem_AF63/S1A_IW_20200917T111135_DVP_RTC30_G_gpufem_AF63_VH.tif\n",
      "\n",
      "Dataset/Cambodia/RTC_GAMMA/S1A_IW_20200917T111135_DVP_RTC30_G_gpufem_AF63/S1A_IW_20200917T111135_DVP_RTC30_G_gpufem_AF63_VV.tif\n",
      "\n",
      "Dataset/Cambodia/RTC_GAMMA/S1A_IW_20180507T111115_DVP_RTC30_G_gpufem_119E/S1A_IW_20180507T111115_DVP_RTC30_G_gpufem_119E_VV.tif\n",
      "\n",
      "Dataset/Cambodia/RTC_GAMMA/S1A_IW_20180507T111115_DVP_RTC30_G_gpufem_119E/S1A_IW_20180507T111115_DVP_RTC30_G_gpufem_119E_VH.tif\n",
      "\n",
      "Dataset/Cambodia/RTC_GAMMA/S1A_IW_20210515T111134_DVP_RTC30_G_gpufem_0F9F/S1A_IW_20210515T111134_DVP_RTC30_G_gpufem_0F9F_VH.tif\n",
      "\n",
      "Dataset/Cambodia/RTC_GAMMA/S1A_IW_20210515T111134_DVP_RTC30_G_gpufem_0F9F/S1A_IW_20210515T111134_DVP_RTC30_G_gpufem_0F9F_VV.tif\n",
      "\n",
      "Dataset/Cambodia/RTC_GAMMA/S1A_IW_20190607T111123_DVP_RTC30_G_gpufem_6575/S1A_IW_20190607T111123_DVP_RTC30_G_gpufem_6575_VV.tif\n",
      "\n",
      "Dataset/Cambodia/RTC_GAMMA/S1A_IW_20190607T111123_DVP_RTC30_G_gpufem_6575/S1A_IW_20190607T111123_DVP_RTC30_G_gpufem_6575_VH.tif\n",
      "\n",
      "Dataset/Cambodia/RTC_GAMMA/S1A_IW_20190207T111119_DVP_RTC30_G_gpufem_D208/S1A_IW_20190207T111119_DVP_RTC30_G_gpufem_D208_VH.tif\n",
      "\n",
      "Dataset/Cambodia/RTC_GAMMA/S1A_IW_20190207T111119_DVP_RTC30_G_gpufem_D208/S1A_IW_20190207T111119_DVP_RTC30_G_gpufem_D208_VV.tif\n",
      "\n",
      "Dataset/Cambodia/RTC_GAMMA/S1A_IW_20200309T111126_DVP_RTC30_G_gpufem_AC1F/S1A_IW_20200309T111126_DVP_RTC30_G_gpufem_AC1F_VV.tif\n",
      "\n",
      "Dataset/Cambodia/RTC_GAMMA/S1A_IW_20200309T111126_DVP_RTC30_G_gpufem_AC1F/S1A_IW_20200309T111126_DVP_RTC30_G_gpufem_AC1F_VH.tif\n",
      "\n",
      "Dataset/Cambodia/RTC_GAMMA/S1A_IW_20200508T111128_DVP_RTC30_G_gpufem_7750/S1A_IW_20200508T111128_DVP_RTC30_G_gpufem_7750_VV.tif\n",
      "\n",
      "Dataset/Cambodia/RTC_GAMMA/S1A_IW_20200508T111128_DVP_RTC30_G_gpufem_7750/S1A_IW_20200508T111128_DVP_RTC30_G_gpufem_7750_VH.tif\n",
      "\n",
      "Dataset/Cambodia/RTC_GAMMA/S1A_IW_20180413T111114_DVP_RTC30_G_gpufem_0F5C/S1A_IW_20180413T111114_DVP_RTC30_G_gpufem_0F5C_VH.tif\n",
      "\n",
      "Dataset/Cambodia/RTC_GAMMA/S1A_IW_20180413T111114_DVP_RTC30_G_gpufem_0F5C/S1A_IW_20180413T111114_DVP_RTC30_G_gpufem_0F5C_VV.tif\n",
      "\n",
      "Dataset/Cambodia/RTC_GAMMA/S1A_IW_20221130T111146_DVP_RTC30_G_gpufem_A5F3/S1A_IW_20221130T111146_DVP_RTC30_G_gpufem_A5F3_VH.tif\n",
      "\n",
      "Dataset/Cambodia/RTC_GAMMA/S1A_IW_20221130T111146_DVP_RTC30_G_gpufem_A5F3/S1A_IW_20221130T111146_DVP_RTC30_G_gpufem_A5F3_VV.tif\n",
      "\n",
      "Dataset/Cambodia/RTC_GAMMA/S1A_IW_20190114T111120_DVP_RTC30_G_gpufem_6100/S1A_IW_20190114T111120_DVP_RTC30_G_gpufem_6100_VH.tif\n",
      "\n",
      "Dataset/Cambodia/RTC_GAMMA/S1A_IW_20190114T111120_DVP_RTC30_G_gpufem_6100/S1A_IW_20190114T111120_DVP_RTC30_G_gpufem_6100_VV.tif\n",
      "\n",
      "Dataset/Cambodia/RTC_GAMMA/S1A_IW_20220907T111147_DVP_RTC30_G_gpufem_147C/S1A_IW_20220907T111147_DVP_RTC30_G_gpufem_147C_VV.tif\n",
      "\n",
      "Dataset/Cambodia/RTC_GAMMA/S1A_IW_20220907T111147_DVP_RTC30_G_gpufem_147C/S1A_IW_20220907T111147_DVP_RTC30_G_gpufem_147C_VH.tif\n",
      "\n",
      "Dataset/Cambodia/RTC_GAMMA/S1A_IW_20180718T111119_DVP_RTC30_G_gpufem_5AE4/S1A_IW_20180718T111119_DVP_RTC30_G_gpufem_5AE4_VV.tif\n",
      "\n",
      "Dataset/Cambodia/RTC_GAMMA/S1A_IW_20180718T111119_DVP_RTC30_G_gpufem_5AE4/S1A_IW_20180718T111119_DVP_RTC30_G_gpufem_5AE4_VH.tif\n",
      "\n",
      "Dataset/Cambodia/RTC_GAMMA/S1A_IW_20200613T111130_DVP_RTC30_G_gpufem_9B14/S1A_IW_20200613T111130_DVP_RTC30_G_gpufem_9B14_VH.tif\n",
      "\n",
      "Dataset/Cambodia/RTC_GAMMA/S1A_IW_20200613T111130_DVP_RTC30_G_gpufem_9B14/S1A_IW_20200613T111130_DVP_RTC30_G_gpufem_9B14_VV.tif\n",
      "\n",
      "Dataset/Cambodia/RTC_GAMMA/S1A_IW_20200601T111129_DVP_RTC30_G_gpufem_28E3/S1A_IW_20200601T111129_DVP_RTC30_G_gpufem_28E3_VH.tif\n",
      "\n",
      "Dataset/Cambodia/RTC_GAMMA/S1A_IW_20200601T111129_DVP_RTC30_G_gpufem_28E3/S1A_IW_20200601T111129_DVP_RTC30_G_gpufem_28E3_VV.tif\n",
      "\n",
      "Dataset/Cambodia/RTC_GAMMA/S1A_IW_20230517T111145_DVP_RTC30_G_gpufem_2150/S1A_IW_20230517T111145_DVP_RTC30_G_gpufem_2150_VH.tif\n",
      "\n",
      "Dataset/Cambodia/RTC_GAMMA/S1A_IW_20230517T111145_DVP_RTC30_G_gpufem_2150/S1A_IW_20230517T111145_DVP_RTC30_G_gpufem_2150_VV.tif\n",
      "\n",
      "Dataset/Cambodia/RTC_GAMMA/S1A_IW_20201023T111136_DVP_RTC30_G_gpufem_CC84/S1A_IW_20201023T111136_DVP_RTC30_G_gpufem_CC84_VH.tif\n",
      "\n",
      "Dataset/Cambodia/RTC_GAMMA/S1A_IW_20201023T111136_DVP_RTC30_G_gpufem_CC84/S1A_IW_20201023T111136_DVP_RTC30_G_gpufem_CC84_VV.tif\n",
      "\n",
      "Dataset/Cambodia/RTC_GAMMA/S1A_IW_20220826T111146_DVP_RTC30_G_gpufem_B18C/S1A_IW_20220826T111146_DVP_RTC30_G_gpufem_B18C_VH.tif\n",
      "\n",
      "Dataset/Cambodia/RTC_GAMMA/S1A_IW_20220826T111146_DVP_RTC30_G_gpufem_B18C/S1A_IW_20220826T111146_DVP_RTC30_G_gpufem_B18C_VV.tif\n",
      "\n",
      "Dataset/Cambodia/RTC_GAMMA/S1A_IW_20210328T111132_DVP_RTC30_G_gpufem_1F7C/S1A_IW_20210328T111132_DVP_RTC30_G_gpufem_1F7C_VH.tif\n",
      "\n",
      "Dataset/Cambodia/RTC_GAMMA/S1A_IW_20210328T111132_DVP_RTC30_G_gpufem_1F7C/S1A_IW_20210328T111132_DVP_RTC30_G_gpufem_1F7C_VV.tif\n",
      "\n",
      "Dataset/Cambodia/RTC_GAMMA/S1A_IW_20211123T111141_DVP_RTC30_G_gpufem_5510/S1A_IW_20211123T111141_DVP_RTC30_G_gpufem_5510_VH.tif\n",
      "\n",
      "Dataset/Cambodia/RTC_GAMMA/S1A_IW_20211123T111141_DVP_RTC30_G_gpufem_5510/S1A_IW_20211123T111141_DVP_RTC30_G_gpufem_5510_VV.tif\n",
      "\n",
      "Dataset/Cambodia/RTC_GAMMA/S1A_IW_20180823T111121_DVP_RTC30_G_gpufem_B833/S1A_IW_20180823T111121_DVP_RTC30_G_gpufem_B833_VH.tif\n",
      "\n",
      "Dataset/Cambodia/RTC_GAMMA/S1A_IW_20180823T111121_DVP_RTC30_G_gpufem_B833/S1A_IW_20180823T111121_DVP_RTC30_G_gpufem_B833_VV.tif\n",
      "\n",
      "Dataset/Cambodia/RTC_GAMMA/S1A_IW_20180131T111113_DVP_RTC30_G_gpufem_955B/S1A_IW_20180131T111113_DVP_RTC30_G_gpufem_955B_VV.tif\n",
      "\n",
      "Dataset/Cambodia/RTC_GAMMA/S1A_IW_20180131T111113_DVP_RTC30_G_gpufem_955B/S1A_IW_20180131T111113_DVP_RTC30_G_gpufem_955B_VH.tif\n",
      "\n"
     ]
    }
   ],
   "source": [
    "rel_prod_path = products_path.relative_to(Path.cwd())\n",
    "if rtc:\n",
    "    product_pth = f\"{str(rel_prod_path)}/*/*{polarization[0]}*.tif*\"\n",
    "elif insar:\n",
    "    product_pth = f\"{str(rel_prod_path)}/*/*.tif*\"\n",
    "elif autorift:\n",
    "    product_pth = f\"{str(rel_prod_path)}/*.tif*\"    \n",
    "    ncToGeoTiff(products_path)\n",
    "    removeNC(products_path)\n",
    "\n",
    "dems_pth = f\"{str(rel_prod_path)}/*/*dem.tif*\"\n",
    "\n",
    "if not autorift:\n",
    "    product_paths = get_product_paths(regex, product_pth)\n",
    "    print_product_paths(product_paths)\n",
    "else:\n",
    "    print('Tiff paths:\\n')\n",
    "    \n",
    "    for p in products_path.glob('*'):\n",
    "        print(f'{p.parts[-1]}:')\n",
    "        \n",
    "        for p_tiff in p.rglob('*.tif'):\n",
    "            print(p_tiff)\n",
    "        \n",
    "        print('\\n')\n",
    "        \n",
    "# Get all paths for files ending with 'dem'\n",
    "dem_paths = get_product_paths(r'dem.tif$', dems_pth)"
   ]
  },
  {
   "cell_type": "markdown",
   "metadata": {},
   "source": [
    "if autorift:\n",
    "    - convert to geotiff\n",
    "    - delete netcdfs\n",
    "    - re-glob paths for geotiffs"
   ]
  },
  {
   "cell_type": "markdown",
   "metadata": {},
   "source": [
    "---\n",
    "## 1.2 Fix multiple UTM Zone-related issues\n",
    "\n",
    "Fix multiple UTM Zone-related issues should they exist in your data set. If multiple UTM zones are found, the following code cells will identify the predominant UTM zone and reproject the rest into that zone. This step must be completed prior to merging frames or performing any analysis. AutoRIFT products do not come with projection metadata and so will not be reprojected.\n",
    "\n",
    "**Use gdal.Info to determine the UTM definition types and zones in each product:**"
   ]
  },
  {
   "cell_type": "code",
   "execution_count": 28,
   "metadata": {},
   "outputs": [],
   "source": [
    "if not autorift:\n",
    "    coord_choice = asfn.select_parameter([\"UTM\", \"Lat/Long\"], description='Coord Systems:')\n",
    "    coord_choice"
   ]
  },
  {
   "cell_type": "code",
   "execution_count": 29,
   "metadata": {},
   "outputs": [
    {
     "name": "stdout",
     "output_type": "stream",
     "text": [
      "Checking UTM Zones in the data stack ...\n",
      "\n"
     ]
    },
    {
     "name": "stderr",
     "output_type": "stream",
     "text": [
      "/home/jovyan/.local/envs/rtc_analysis/lib/python3.9/site-packages/osgeo/gdal.py:287: FutureWarning: Neither gdal.UseExceptions() nor gdal.DontUseExceptions() has been explicitly called. In GDAL 4.0, exceptions will be enabled by default.\n",
      "  warnings.warn(\n"
     ]
    },
    {
     "name": "stdout",
     "output_type": "stream",
     "text": [
      "UTM Zones:\n",
      " ['32648', '32648', '32648', '32648', '32648', '32648', '32648', '32648', '32648', '32648', '32648', '32648', '32648', '32648', '32648', '32648', '32648', '32648', '32648', '32648', '32648', '32648', '32648', '32648', '32648', '32648', '32648', '32648', '32648', '32648', '32648', '32648', '32648', '32648', '32648', '32648', '32648', '32648', '32648', '32648', '32648', '32648', '32648', '32648', '32648', '32648', '32648', '32648', '32648', '32648', '32648', '32648', '32648', '32648', '32648', '32648', '32648', '32648', '32648', '32648', '32648', '32648', '32648', '32648', '32648', '32648', '32648', '32648', '32648', '32648', '32648', '32648', '32648', '32648', '32648', '32648', '32648', '32648', '32648', '32648', '32648', '32648', '32648', '32648', '32648', '32648', '32648', '32648', '32648', '32648', '32648', '32648', '32648', '32648', '32648', '32648', '32648', '32648', '32648', '32648', '32648', '32648', '32648', '32648', '32648', '32648', '32648', '32648', '32648', '32648', '32648', '32648', '32648', '32648', '32648', '32648', '32648', '32648', '32648', '32648', '32648', '32648', '32648', '32648', '32648', '32648', '32648', '32648', '32648', '32648', '32648', '32648', '32648', '32648', '32648', '32648', '32648', '32648', '32648', '32648', '32648', '32648', '32648', '32648', '32648', '32648', '32648', '32648', '32648', '32648', '32648', '32648', '32648', '32648', '32648', '32648', '32648', '32648', '32648', '32648', '32648', '32648', '32648', '32648', '32648', '32648', '32648', '32648', '32648', '32648', '32648', '32648', '32648', '32648', '32648', '32648', '32648', '32648', '32648', '32648', '32648', '32648', '32648', '32648', '32648', '32648', '32648', '32648', '32648', '32648', '32648', '32648', '32648', '32648', '32648', '32648', '32648', '32648', '32648', '32648', '32648', '32648', '32648', '32648', '32648', '32648', '32648', '32648', '32648', '32648', '32648', '32648', '32648', '32648', '32648', '32648', '32648', '32648', '32648', '32648', '32648', '32648', '32648', '32648', '32648', '32648', '32648', '32648', '32648', '32648', '32648', '32648', '32648', '32648', '32648', '32648', '32648', '32648', '32648', '32648', '32648', '32648', '32648', '32648', '32648', '32648', '32648', '32648', '32648', '32648', '32648', '32648', '32648', '32648', '32648', '32648', '32648', '32648', '32648', '32648', '32648', '32648', '32648', '32648', '32648', '32648', '32648', '32648', '32648', '32648', '32648', '32648', '32648', '32648', '32648', '32648', '32648', '32648', '32648', '32648', '32648', '32648', '32648', '32648', '32648', '32648', '32648', '32648', '32648', '32648', '32648', '32648', '32648', '32648', '32648', '32648', '32648', '32648', '32648', '32648', '32648', '32648', '32648', '32648', '32648', '32648', '32648', '32648', '32648', '32648', '32648', '32648', '32648', '32648', '32648', '32648', '32648', '32648', '32648', '32648', '32648', '32648', '32648', '32648', '32648', '32648', '32648', '32648', '32648', '32648', '32648', '32648', '32648', '32648', '32648', '32648', '32648', '32648', '32648', '32648', '32648', '32648', '32648', '32648']\n",
      "\n",
      "UTM Types:\n",
      " ['EPSG', 'EPSG', 'EPSG', 'EPSG', 'EPSG', 'EPSG', 'EPSG', 'EPSG', 'EPSG', 'EPSG', 'EPSG', 'EPSG', 'EPSG', 'EPSG', 'EPSG', 'EPSG', 'EPSG', 'EPSG', 'EPSG', 'EPSG', 'EPSG', 'EPSG', 'EPSG', 'EPSG', 'EPSG', 'EPSG', 'EPSG', 'EPSG', 'EPSG', 'EPSG', 'EPSG', 'EPSG', 'EPSG', 'EPSG', 'EPSG', 'EPSG', 'EPSG', 'EPSG', 'EPSG', 'EPSG', 'EPSG', 'EPSG', 'EPSG', 'EPSG', 'EPSG', 'EPSG', 'EPSG', 'EPSG', 'EPSG', 'EPSG', 'EPSG', 'EPSG', 'EPSG', 'EPSG', 'EPSG', 'EPSG', 'EPSG', 'EPSG', 'EPSG', 'EPSG', 'EPSG', 'EPSG', 'EPSG', 'EPSG', 'EPSG', 'EPSG', 'EPSG', 'EPSG', 'EPSG', 'EPSG', 'EPSG', 'EPSG', 'EPSG', 'EPSG', 'EPSG', 'EPSG', 'EPSG', 'EPSG', 'EPSG', 'EPSG', 'EPSG', 'EPSG', 'EPSG', 'EPSG', 'EPSG', 'EPSG', 'EPSG', 'EPSG', 'EPSG', 'EPSG', 'EPSG', 'EPSG', 'EPSG', 'EPSG', 'EPSG', 'EPSG', 'EPSG', 'EPSG', 'EPSG', 'EPSG', 'EPSG', 'EPSG', 'EPSG', 'EPSG', 'EPSG', 'EPSG', 'EPSG', 'EPSG', 'EPSG', 'EPSG', 'EPSG', 'EPSG', 'EPSG', 'EPSG', 'EPSG', 'EPSG', 'EPSG', 'EPSG', 'EPSG', 'EPSG', 'EPSG', 'EPSG', 'EPSG', 'EPSG', 'EPSG', 'EPSG', 'EPSG', 'EPSG', 'EPSG', 'EPSG', 'EPSG', 'EPSG', 'EPSG', 'EPSG', 'EPSG', 'EPSG', 'EPSG', 'EPSG', 'EPSG', 'EPSG', 'EPSG', 'EPSG', 'EPSG', 'EPSG', 'EPSG', 'EPSG', 'EPSG', 'EPSG', 'EPSG', 'EPSG', 'EPSG', 'EPSG', 'EPSG', 'EPSG', 'EPSG', 'EPSG', 'EPSG', 'EPSG', 'EPSG', 'EPSG', 'EPSG', 'EPSG', 'EPSG', 'EPSG', 'EPSG', 'EPSG', 'EPSG', 'EPSG', 'EPSG', 'EPSG', 'EPSG', 'EPSG', 'EPSG', 'EPSG', 'EPSG', 'EPSG', 'EPSG', 'EPSG', 'EPSG', 'EPSG', 'EPSG', 'EPSG', 'EPSG', 'EPSG', 'EPSG', 'EPSG', 'EPSG', 'EPSG', 'EPSG', 'EPSG', 'EPSG', 'EPSG', 'EPSG', 'EPSG', 'EPSG', 'EPSG', 'EPSG', 'EPSG', 'EPSG', 'EPSG', 'EPSG', 'EPSG', 'EPSG', 'EPSG', 'EPSG', 'EPSG', 'EPSG', 'EPSG', 'EPSG', 'EPSG', 'EPSG', 'EPSG', 'EPSG', 'EPSG', 'EPSG', 'EPSG', 'EPSG', 'EPSG', 'EPSG', 'EPSG', 'EPSG', 'EPSG', 'EPSG', 'EPSG', 'EPSG', 'EPSG', 'EPSG', 'EPSG', 'EPSG', 'EPSG', 'EPSG', 'EPSG', 'EPSG', 'EPSG', 'EPSG', 'EPSG', 'EPSG', 'EPSG', 'EPSG', 'EPSG', 'EPSG', 'EPSG', 'EPSG', 'EPSG', 'EPSG', 'EPSG', 'EPSG', 'EPSG', 'EPSG', 'EPSG', 'EPSG', 'EPSG', 'EPSG', 'EPSG', 'EPSG', 'EPSG', 'EPSG', 'EPSG', 'EPSG', 'EPSG', 'EPSG', 'EPSG', 'EPSG', 'EPSG', 'EPSG', 'EPSG', 'EPSG', 'EPSG', 'EPSG', 'EPSG', 'EPSG', 'EPSG', 'EPSG', 'EPSG', 'EPSG', 'EPSG', 'EPSG', 'EPSG', 'EPSG', 'EPSG', 'EPSG', 'EPSG', 'EPSG', 'EPSG', 'EPSG', 'EPSG', 'EPSG', 'EPSG', 'EPSG', 'EPSG', 'EPSG', 'EPSG', 'EPSG', 'EPSG', 'EPSG', 'EPSG', 'EPSG', 'EPSG', 'EPSG', 'EPSG', 'EPSG', 'EPSG', 'EPSG', 'EPSG', 'EPSG', 'EPSG', 'EPSG', 'EPSG', 'EPSG', 'EPSG', 'EPSG', 'EPSG', 'EPSG', 'EPSG', 'EPSG', 'EPSG', 'EPSG', 'EPSG', 'EPSG', 'EPSG', 'EPSG', 'EPSG', 'EPSG', 'EPSG', 'EPSG', 'EPSG', 'EPSG', 'EPSG', 'EPSG', 'EPSG', 'EPSG', 'EPSG', 'EPSG', 'EPSG', 'EPSG', 'EPSG', 'EPSG', 'EPSG', 'EPSG', 'EPSG', 'EPSG', 'EPSG', 'EPSG', 'EPSG']\n"
     ]
    }
   ],
   "source": [
    "if not autorift:\n",
    "    utm_zones = []\n",
    "    utm_types = []\n",
    "    print('Checking UTM Zones in the data stack ...\\n')\n",
    "    for k in range(0, len(product_paths)):\n",
    "        info = (gdal.Info(str(product_paths[k]), options = ['-json']))\n",
    "        info = json.dumps(info)\n",
    "        info = (json.loads(info))['coordinateSystem']['wkt']\n",
    "        zone = info.split('ID')[-1].split(',')[1][0:-2]\n",
    "        utm_zones.append(zone)\n",
    "        typ = info.split('ID')[-1].split('\"')[1]\n",
    "        utm_types.append(typ)\n",
    "    print(f\"UTM Zones:\\n {utm_zones}\\n\")\n",
    "    print(f\"UTM Types:\\n {utm_types}\")"
   ]
  },
  {
   "cell_type": "markdown",
   "metadata": {},
   "source": [
    "**Identify the most commonly used UTM Zone in the data:**"
   ]
  },
  {
   "cell_type": "code",
   "execution_count": 30,
   "metadata": {},
   "outputs": [
    {
     "name": "stdout",
     "output_type": "stream",
     "text": [
      "Predominant UTM Zone: 32648\n"
     ]
    }
   ],
   "source": [
    "if not autorift:\n",
    "    if coord_choice.value == 'UTM':\n",
    "        utm_unique, counts = np.unique(utm_zones, return_counts=True)\n",
    "        a = np.where(counts == np.max(counts))\n",
    "        predominant_utm = utm_unique[a][0]\n",
    "        print(f\"Predominant UTM Zone: {predominant_utm}\")\n",
    "    else:\n",
    "        predominant_utm = '4326'"
   ]
  },
  {
   "cell_type": "code",
   "execution_count": 31,
   "metadata": {},
   "outputs": [
    {
     "data": {
      "text/plain": [
       "[PosixPath('Dataset/Cambodia/RTC_GAMMA/S1A_IW_20210103T111133_DVP_RTC30_G_gpufem_0BE4/S1A_IW_20210103T111133_DVP_RTC30_G_gpufem_0BE4_dem.tif'),\n",
       " PosixPath('Dataset/Cambodia/RTC_GAMMA/S1A_IW_20230622T111147_DVR_RTC30_G_gpufem_DADC/S1A_IW_20230622T111147_DVR_RTC30_G_gpufem_DADC_dem.tif'),\n",
       " PosixPath('Dataset/Cambodia/RTC_GAMMA/S1A_IW_20180928T111123_DVP_RTC30_G_gpufem_A976/S1A_IW_20180928T111123_DVP_RTC30_G_gpufem_A976_dem.tif'),\n",
       " PosixPath('Dataset/Cambodia/RTC_GAMMA/S1A_IW_20191204T111128_DVP_RTC30_G_gpufem_380E/S1A_IW_20191204T111128_DVP_RTC30_G_gpufem_380E_dem.tif'),\n",
       " PosixPath('Dataset/Cambodia/RTC_GAMMA/S1A_IW_20200226T111126_DVP_RTC30_G_gpufem_3845/S1A_IW_20200226T111126_DVP_RTC30_G_gpufem_3845_dem.tif'),\n",
       " PosixPath('Dataset/Cambodia/RTC_GAMMA/S1A_IW_20190806T111127_DVP_RTC30_G_gpufem_5C98/S1A_IW_20190806T111127_DVP_RTC30_G_gpufem_5C98_dem.tif'),\n",
       " PosixPath('Dataset/Cambodia/RTC_GAMMA/S1A_IW_20190725T111126_DVP_RTC30_G_gpufem_A4F6/S1A_IW_20190725T111126_DVP_RTC30_G_gpufem_A4F6_dem.tif'),\n",
       " PosixPath('Dataset/Cambodia/RTC_GAMMA/S1A_IW_20221013T111147_DVP_RTC30_G_gpufem_C03E/S1A_IW_20221013T111147_DVP_RTC30_G_gpufem_C03E_dem.tif'),\n",
       " PosixPath('Dataset/Cambodia/RTC_GAMMA/S1A_IW_20171214T111115_DVP_RTC30_G_gpufem_52D2/S1A_IW_20171214T111115_DVP_RTC30_G_gpufem_52D2_dem.tif'),\n",
       " PosixPath('Dataset/Cambodia/RTC_GAMMA/S1A_IW_20210819T111139_DVP_RTC30_G_gpufem_A578/S1A_IW_20210819T111139_DVP_RTC30_G_gpufem_A578_dem.tif'),\n",
       " PosixPath('Dataset/Cambodia/RTC_GAMMA/S1A_IW_20180308T111113_DVP_RTC30_G_gpufem_49B2/S1A_IW_20180308T111113_DVP_RTC30_G_gpufem_49B2_dem.tif'),\n",
       " PosixPath('Dataset/Cambodia/RTC_GAMMA/S1A_IW_20191017T111129_DVP_RTC30_G_gpufem_4389/S1A_IW_20191017T111129_DVP_RTC30_G_gpufem_4389_dem.tif'),\n",
       " PosixPath('Dataset/Cambodia/RTC_GAMMA/S1A_IW_20221224T111145_DVP_RTC30_G_gpufem_6065/S1A_IW_20221224T111145_DVP_RTC30_G_gpufem_6065_dem.tif'),\n",
       " PosixPath('Dataset/Cambodia/RTC_GAMMA/S1A_IW_20230105T111144_DVP_RTC30_G_gpufem_0633/S1A_IW_20230105T111144_DVP_RTC30_G_gpufem_0633_dem.tif'),\n",
       " PosixPath('Dataset/Cambodia/RTC_GAMMA/S1A_IW_20180212T111113_DVP_RTC30_G_gpufem_581E/S1A_IW_20180212T111113_DVP_RTC30_G_gpufem_581E_dem.tif'),\n",
       " PosixPath('Dataset/Cambodia/RTC_GAMMA/S1A_IW_20210527T111135_DVP_RTC30_G_gpufem_F4C4/S1A_IW_20210527T111135_DVP_RTC30_G_gpufem_F4C4_dem.tif'),\n",
       " PosixPath('Dataset/Cambodia/RTC_GAMMA/S1A_IW_20210714T111138_DVP_RTC30_G_gpufem_F6C3/S1A_IW_20210714T111138_DVP_RTC30_G_gpufem_F6C3_dem.tif'),\n",
       " PosixPath('Dataset/Cambodia/RTC_GAMMA/S1A_IW_20200214T111126_DVP_RTC30_G_gpufem_299B/S1A_IW_20200214T111126_DVP_RTC30_G_gpufem_299B_dem.tif'),\n",
       " PosixPath('Dataset/Cambodia/RTC_GAMMA/S1A_IW_20220802T111145_DVP_RTC30_G_gpufem_71B5/S1A_IW_20220802T111145_DVP_RTC30_G_gpufem_71B5_dem.tif'),\n",
       " PosixPath('Dataset/Cambodia/RTC_GAMMA/S1A_IW_20200824T111134_DVP_RTC30_G_gpufem_3B79/S1A_IW_20200824T111134_DVP_RTC30_G_gpufem_3B79_dem.tif'),\n",
       " PosixPath('Dataset/Cambodia/RTC_GAMMA/S1A_IW_20220215T111137_DVP_RTC30_G_gpufem_415A/S1A_IW_20220215T111137_DVP_RTC30_G_gpufem_415A_dem.tif'),\n",
       " PosixPath('Dataset/Cambodia/RTC_GAMMA/S1A_IW_20200812T111133_DVP_RTC30_G_gpufem_AF7C/S1A_IW_20200812T111133_DVP_RTC30_G_gpufem_AF7C_dem.tif'),\n",
       " PosixPath('Dataset/Cambodia/RTC_GAMMA/S1A_IW_20180401T111113_DVP_RTC30_G_gpufem_E0C3/S1A_IW_20180401T111113_DVP_RTC30_G_gpufem_E0C3_dem.tif'),\n",
       " PosixPath('Dataset/Cambodia/RTC_GAMMA/S1A_IW_20190923T111129_DVP_RTC30_G_gpufem_8986/S1A_IW_20190923T111129_DVP_RTC30_G_gpufem_8986_dem.tif'),\n",
       " PosixPath('Dataset/Cambodia/RTC_GAMMA/S1A_IW_20210912T111141_DVP_RTC30_G_gpufem_0F27/S1A_IW_20210912T111141_DVP_RTC30_G_gpufem_0F27_dem.tif'),\n",
       " PosixPath('Dataset/Cambodia/RTC_GAMMA/S1A_IW_20210127T111132_DVP_RTC30_G_gpufem_03A7/S1A_IW_20210127T111132_DVP_RTC30_G_gpufem_03A7_dem.tif'),\n",
       " PosixPath('Dataset/Cambodia/RTC_GAMMA/S1A_IW_20220603T111141_DVP_RTC30_G_gpufem_0E96/S1A_IW_20220603T111141_DVP_RTC30_G_gpufem_0E96_dem.tif'),\n",
       " PosixPath('Dataset/Cambodia/RTC_GAMMA/S1A_IW_20180320T111113_DVP_RTC30_G_gpufem_FACE/S1A_IW_20180320T111113_DVP_RTC30_G_gpufem_FACE_dem.tif'),\n",
       " PosixPath('Dataset/Cambodia/RTC_GAMMA/S1A_IW_20211229T111139_DVP_RTC30_G_gpufem_AA81/S1A_IW_20211229T111139_DVP_RTC30_G_gpufem_AA81_dem.tif'),\n",
       " PosixPath('Dataset/Cambodia/RTC_GAMMA/S1A_IW_20220404T111138_DVP_RTC30_G_gpufem_E130/S1A_IW_20220404T111138_DVP_RTC30_G_gpufem_E130_dem.tif'),\n",
       " PosixPath('Dataset/Cambodia/RTC_GAMMA/S1A_IW_20221001T111147_DVP_RTC30_G_gpufem_EDEC/S1A_IW_20221001T111147_DVP_RTC30_G_gpufem_EDEC_dem.tif'),\n",
       " PosixPath('Dataset/Cambodia/RTC_GAMMA/S1A_IW_20200426T111127_DVP_RTC30_G_gpufem_6DA1/S1A_IW_20200426T111127_DVP_RTC30_G_gpufem_6DA1_dem.tif'),\n",
       " PosixPath('Dataset/Cambodia/RTC_GAMMA/S1A_IW_20180531T111116_DVP_RTC30_G_gpufem_1142/S1A_IW_20180531T111116_DVP_RTC30_G_gpufem_1142_dem.tif'),\n",
       " PosixPath('Dataset/Cambodia/RTC_GAMMA/S1A_IW_20200414T111127_DVP_RTC30_G_gpufem_F738/S1A_IW_20200414T111127_DVP_RTC30_G_gpufem_F738_dem.tif'),\n",
       " PosixPath('Dataset/Cambodia/RTC_GAMMA/S1A_IW_20180425T111114_DVP_RTC30_G_gpufem_31ED/S1A_IW_20180425T111114_DVP_RTC30_G_gpufem_31ED_dem.tif'),\n",
       " PosixPath('Dataset/Cambodia/RTC_GAMMA/S1A_IW_20190102T111121_DVP_RTC30_G_gpufem_A8D7/S1A_IW_20190102T111121_DVP_RTC30_G_gpufem_A8D7_dem.tif'),\n",
       " PosixPath('Dataset/Cambodia/RTC_GAMMA/S1A_IW_20190818T111127_DVP_RTC30_G_gpufem_1CD6/S1A_IW_20190818T111127_DVP_RTC30_G_gpufem_1CD6_dem.tif'),\n",
       " PosixPath('Dataset/Cambodia/RTC_GAMMA/S1A_IW_20200121T111127_DVP_RTC30_G_gpufem_E103/S1A_IW_20200121T111127_DVP_RTC30_G_gpufem_E103_dem.tif'),\n",
       " PosixPath('Dataset/Cambodia/RTC_GAMMA/S1A_IW_20230318T111143_DVP_RTC30_G_gpufem_7F1A/S1A_IW_20230318T111143_DVP_RTC30_G_gpufem_7F1A_dem.tif'),\n",
       " PosixPath('Dataset/Cambodia/RTC_GAMMA/S1A_IW_20180624T111118_DVP_RTC30_G_gpufem_9175/S1A_IW_20180624T111118_DVP_RTC30_G_gpufem_9175_dem.tif'),\n",
       " PosixPath('Dataset/Cambodia/RTC_GAMMA/S1A_IW_20191216T111128_DVP_RTC30_G_gpufem_1801/S1A_IW_20191216T111128_DVP_RTC30_G_gpufem_1801_dem.tif'),\n",
       " PosixPath('Dataset/Cambodia/RTC_GAMMA/S1A_IW_20211018T111141_DVP_RTC30_G_gpufem_84F6/S1A_IW_20211018T111141_DVP_RTC30_G_gpufem_84F6_dem.tif'),\n",
       " PosixPath('Dataset/Cambodia/RTC_GAMMA/S1A_IW_20200707T111131_DVP_RTC30_G_gpufem_3FE9/S1A_IW_20200707T111131_DVP_RTC30_G_gpufem_3FE9_dem.tif'),\n",
       " PosixPath('Dataset/Cambodia/RTC_GAMMA/S1A_IW_20220919T111146_DVP_RTC30_G_gpufem_DB75/S1A_IW_20220919T111146_DVP_RTC30_G_gpufem_DB75_dem.tif'),\n",
       " PosixPath('Dataset/Cambodia/RTC_GAMMA/S1A_IW_20220110T111139_DVP_RTC30_G_gpufem_45D5/S1A_IW_20220110T111139_DVP_RTC30_G_gpufem_45D5_dem.tif'),\n",
       " PosixPath('Dataset/Cambodia/RTC_GAMMA/S1A_IW_20181010T111123_DVP_RTC30_G_gpufem_AEB8/S1A_IW_20181010T111123_DVP_RTC30_G_gpufem_AEB8_dem.tif'),\n",
       " PosixPath('Dataset/Cambodia/RTC_GAMMA/S1A_IW_20200731T111133_DVP_RTC30_G_gpufem_87F7/S1A_IW_20200731T111133_DVP_RTC30_G_gpufem_87F7_dem.tif'),\n",
       " PosixPath('Dataset/Cambodia/RTC_GAMMA/S1A_IW_20201104T111135_DVP_RTC30_G_gpufem_FDFF/S1A_IW_20201104T111135_DVP_RTC30_G_gpufem_FDFF_dem.tif'),\n",
       " PosixPath('Dataset/Cambodia/RTC_GAMMA/S1A_IW_20180811T111121_DVP_RTC30_G_gpufem_C2B4/S1A_IW_20180811T111121_DVP_RTC30_G_gpufem_C2B4_dem.tif'),\n",
       " PosixPath('Dataset/Cambodia/RTC_GAMMA/S1A_IW_20210702T111137_DVP_RTC30_G_gpufem_FD5E/S1A_IW_20210702T111137_DVP_RTC30_G_gpufem_FD5E_dem.tif'),\n",
       " PosixPath('Dataset/Cambodia/RTC_GAMMA/S1A_IW_20180119T111114_DVP_RTC30_G_gpufem_287C/S1A_IW_20180119T111114_DVP_RTC30_G_gpufem_287C_dem.tif'),\n",
       " PosixPath('Dataset/Cambodia/RTC_GAMMA/S1A_IW_20190303T111120_DVP_RTC30_G_gpufem_8B62/S1A_IW_20190303T111120_DVP_RTC30_G_gpufem_8B62_dem.tif'),\n",
       " PosixPath('Dataset/Cambodia/RTC_GAMMA/S1A_IW_20201210T111134_DVP_RTC30_G_gpufem_ABB6/S1A_IW_20201210T111134_DVP_RTC30_G_gpufem_ABB6_dem.tif'),\n",
       " PosixPath('Dataset/Cambodia/RTC_GAMMA/S1A_IW_20190619T111123_DVP_RTC30_G_gpufem_1D81/S1A_IW_20190619T111123_DVP_RTC30_G_gpufem_1D81_dem.tif'),\n",
       " PosixPath('Dataset/Cambodia/RTC_GAMMA/S1A_IW_20220416T111138_DVP_RTC30_G_gpufem_53BC/S1A_IW_20220416T111138_DVP_RTC30_G_gpufem_53BC_dem.tif'),\n",
       " PosixPath('Dataset/Cambodia/RTC_GAMMA/S1A_IW_20191110T111129_DVP_RTC30_G_gpufem_00EE/S1A_IW_20191110T111129_DVP_RTC30_G_gpufem_00EE_dem.tif'),\n",
       " PosixPath('Dataset/Cambodia/RTC_GAMMA/S1A_IW_20220311T111137_DVP_RTC30_G_gpufem_BF4F/S1A_IW_20220311T111137_DVP_RTC30_G_gpufem_BF4F_dem.tif'),\n",
       " PosixPath('Dataset/Cambodia/RTC_GAMMA/S1A_IW_20180519T111116_DVP_RTC30_G_gpufem_66F3/S1A_IW_20180519T111116_DVP_RTC30_G_gpufem_66F3_dem.tif'),\n",
       " PosixPath('Dataset/Cambodia/RTC_GAMMA/S1A_IW_20220428T111139_DVP_RTC30_G_gpufem_423B/S1A_IW_20220428T111139_DVP_RTC30_G_gpufem_423B_dem.tif'),\n",
       " PosixPath('Dataset/Cambodia/RTC_GAMMA/S1A_IW_20201128T111135_DVP_RTC30_G_gpufem_0ED5/S1A_IW_20201128T111135_DVP_RTC30_G_gpufem_0ED5_dem.tif'),\n",
       " PosixPath('Dataset/Cambodia/RTC_GAMMA/S1A_IW_20180107T111114_DVP_RTC30_G_gpufem_9D06/S1A_IW_20180107T111114_DVP_RTC30_G_gpufem_9D06_dem.tif'),\n",
       " PosixPath('Dataset/Cambodia/RTC_GAMMA/S1A_IW_20181103T111123_DVP_RTC30_G_gpufem_56E1/S1A_IW_20181103T111123_DVP_RTC30_G_gpufem_56E1_dem.tif'),\n",
       " PosixPath('Dataset/Cambodia/RTC_GAMMA/S1A_IW_20220510T111139_DVP_RTC30_G_gpufem_952C/S1A_IW_20220510T111139_DVP_RTC30_G_gpufem_952C_dem.tif'),\n",
       " PosixPath('Dataset/Cambodia/RTC_GAMMA/S1A_IW_20181209T111122_DVP_RTC30_G_gpufem_9E2E/S1A_IW_20181209T111122_DVP_RTC30_G_gpufem_9E2E_dem.tif'),\n",
       " PosixPath('Dataset/Cambodia/RTC_GAMMA/S1A_IW_20171015T111116_DVP_RTC30_G_gpufem_C4E1/S1A_IW_20171015T111116_DVP_RTC30_G_gpufem_C4E1_dem.tif'),\n",
       " PosixPath('Dataset/Cambodia/RTC_GAMMA/S1A_IW_20190701T111124_DVP_RTC30_G_gpufem_671D/S1A_IW_20190701T111124_DVP_RTC30_G_gpufem_671D_dem.tif'),\n",
       " PosixPath('Dataset/Cambodia/RTC_GAMMA/S1A_IW_20200321T111126_DVP_RTC30_G_gpufem_AF4C/S1A_IW_20200321T111126_DVP_RTC30_G_gpufem_AF4C_dem.tif'),\n",
       " PosixPath('Dataset/Cambodia/RTC_GAMMA/S1A_IW_20230117T111144_DVP_RTC30_G_gpufem_80BE/S1A_IW_20230117T111144_DVP_RTC30_G_gpufem_80BE_dem.tif'),\n",
       " PosixPath('Dataset/Cambodia/RTC_GAMMA/S1A_IW_20230529T111146_DVP_RTC30_G_gpufem_EF64/S1A_IW_20230529T111146_DVP_RTC30_G_gpufem_EF64_dem.tif'),\n",
       " PosixPath('Dataset/Cambodia/RTC_GAMMA/S1A_IW_20210304T111131_DVP_RTC30_G_gpufem_61FD/S1A_IW_20210304T111131_DVP_RTC30_G_gpufem_61FD_dem.tif'),\n",
       " PosixPath('Dataset/Cambodia/RTC_GAMMA/S1A_IW_20190526T111122_DVP_RTC30_G_gpufem_0975/S1A_IW_20190526T111122_DVP_RTC30_G_gpufem_0975_dem.tif'),\n",
       " PosixPath('Dataset/Cambodia/RTC_GAMMA/S1A_IW_20221212T111146_DVP_RTC30_G_gpufem_6A60/S1A_IW_20221212T111146_DVP_RTC30_G_gpufem_6A60_dem.tif'),\n",
       " PosixPath('Dataset/Cambodia/RTC_GAMMA/S1A_IW_20230306T111143_DVP_RTC30_G_gpufem_D1D3/S1A_IW_20230306T111143_DVP_RTC30_G_gpufem_D1D3_dem.tif'),\n",
       " PosixPath('Dataset/Cambodia/RTC_GAMMA/S1A_IW_20210726T111138_DVP_RTC30_G_gpufem_71ED/S1A_IW_20210726T111138_DVP_RTC30_G_gpufem_71ED_dem.tif'),\n",
       " PosixPath('Dataset/Cambodia/RTC_GAMMA/S1A_IW_20190315T111119_DVP_RTC30_G_gpufem_338B/S1A_IW_20190315T111119_DVP_RTC30_G_gpufem_338B_dem.tif'),\n",
       " PosixPath('Dataset/Cambodia/RTC_GAMMA/S1A_IW_20211205T111140_DVP_RTC30_G_gpufem_87B1/S1A_IW_20211205T111140_DVP_RTC30_G_gpufem_87B1_dem.tif'),\n",
       " PosixPath('Dataset/Cambodia/RTC_GAMMA/S1A_IW_20190830T111128_DVP_RTC30_G_gpufem_CC23/S1A_IW_20190830T111128_DVP_RTC30_G_gpufem_CC23_dem.tif'),\n",
       " PosixPath('Dataset/Cambodia/RTC_GAMMA/S1A_IW_20190502T111121_DVP_RTC30_G_gpufem_0187/S1A_IW_20190502T111121_DVP_RTC30_G_gpufem_0187_dem.tif'),\n",
       " PosixPath('Dataset/Cambodia/RTC_GAMMA/S1A_IW_20210831T111140_DVP_RTC30_G_gpufem_A9FB/S1A_IW_20210831T111140_DVP_RTC30_G_gpufem_A9FB_dem.tif'),\n",
       " PosixPath('Dataset/Cambodia/RTC_GAMMA/S1A_IW_20190408T111120_DVP_RTC30_G_gpufem_D773/S1A_IW_20190408T111120_DVP_RTC30_G_gpufem_D773_dem.tif'),\n",
       " PosixPath('Dataset/Cambodia/RTC_GAMMA/S1A_IW_20220721T111144_DVP_RTC30_G_gpufem_C29D/S1A_IW_20220721T111144_DVP_RTC30_G_gpufem_C29D_dem.tif'),\n",
       " PosixPath('Dataset/Cambodia/RTC_GAMMA/S1A_IW_20171120T111116_DVP_RTC30_G_gpufem_25A1/S1A_IW_20171120T111116_DVP_RTC30_G_gpufem_25A1_dem.tif'),\n",
       " PosixPath('Dataset/Cambodia/RTC_GAMMA/S1A_IW_20230505T111145_DVP_RTC30_G_gpufem_EE96/S1A_IW_20230505T111145_DVP_RTC30_G_gpufem_EE96_dem.tif'),\n",
       " PosixPath('Dataset/Cambodia/RTC_GAMMA/S1A_IW_20171108T111116_DVP_RTC30_G_gpufem_20BA/S1A_IW_20171108T111116_DVP_RTC30_G_gpufem_20BA_dem.tif'),\n",
       " PosixPath('Dataset/Cambodia/RTC_GAMMA/S1A_IW_20210924T111141_DVP_RTC30_G_gpufem_20C9/S1A_IW_20210924T111141_DVP_RTC30_G_gpufem_20C9_dem.tif'),\n",
       " PosixPath('Dataset/Cambodia/RTC_GAMMA/S1A_IW_20210807T111139_DVP_RTC30_G_gpufem_E8C6/S1A_IW_20210807T111139_DVP_RTC30_G_gpufem_E8C6_dem.tif'),\n",
       " PosixPath('Dataset/Cambodia/RTC_GAMMA/S1A_IW_20200202T111126_DVP_RTC30_G_gpufem_B611/S1A_IW_20200202T111126_DVP_RTC30_G_gpufem_B611_dem.tif'),\n",
       " PosixPath('Dataset/Cambodia/RTC_GAMMA/S1A_IW_20211030T111141_DVP_RTC30_G_gpufem_FF88/S1A_IW_20211030T111141_DVP_RTC30_G_gpufem_FF88_dem.tif'),\n",
       " PosixPath('Dataset/Cambodia/RTC_GAMMA/S1A_IW_20210316T111132_DVP_RTC30_G_gpufem_858D/S1A_IW_20210316T111132_DVP_RTC30_G_gpufem_858D_dem.tif'),\n",
       " PosixPath('Dataset/Cambodia/RTC_GAMMA/S1A_IW_20210608T111135_DVP_RTC30_G_gpufem_28FE/S1A_IW_20210608T111135_DVP_RTC30_G_gpufem_28FE_dem.tif'),\n",
       " PosixPath('Dataset/Cambodia/RTC_GAMMA/S1A_IW_20180904T111122_DVP_RTC30_G_gpufem_1A9E/S1A_IW_20180904T111122_DVP_RTC30_G_gpufem_1A9E_dem.tif'),\n",
       " PosixPath('Dataset/Cambodia/RTC_GAMMA/S1A_IW_20210421T111133_DVP_RTC30_G_gpufem_2466/S1A_IW_20210421T111133_DVP_RTC30_G_gpufem_2466_dem.tif'),\n",
       " PosixPath('Dataset/Cambodia/RTC_GAMMA/S1A_IW_20220627T111143_DVP_RTC30_G_gpufem_EB15/S1A_IW_20220627T111143_DVP_RTC30_G_gpufem_EB15_dem.tif'),\n",
       " PosixPath('Dataset/Cambodia/RTC_GAMMA/S1A_IW_20210220T111132_DVP_RTC30_G_gpufem_24C6/S1A_IW_20210220T111132_DVP_RTC30_G_gpufem_24C6_dem.tif'),\n",
       " PosixPath('Dataset/Cambodia/RTC_GAMMA/S1A_IW_20221106T111147_DVP_RTC30_G_gpufem_9620/S1A_IW_20221106T111147_DVP_RTC30_G_gpufem_9620_dem.tif'),\n",
       " PosixPath('Dataset/Cambodia/RTC_GAMMA/S1A_IW_20220227T111137_DVP_RTC30_G_gpufem_509F/S1A_IW_20220227T111137_DVP_RTC30_G_gpufem_509F_dem.tif'),\n",
       " PosixPath('Dataset/Cambodia/RTC_GAMMA/S1A_IW_20171202T111115_DVP_RTC30_G_gpufem_C516/S1A_IW_20171202T111115_DVP_RTC30_G_gpufem_C516_dem.tif'),\n",
       " PosixPath('Dataset/Cambodia/RTC_GAMMA/S1A_IW_20191228T111127_DVP_RTC30_G_gpufem_B293/S1A_IW_20191228T111127_DVP_RTC30_G_gpufem_B293_dem.tif'),\n",
       " PosixPath('Dataset/Cambodia/RTC_GAMMA/S1A_IW_20200905T111135_DVP_RTC30_G_gpufem_C16D/S1A_IW_20200905T111135_DVP_RTC30_G_gpufem_C16D_dem.tif'),\n",
       " PosixPath('Dataset/Cambodia/RTC_GAMMA/S1A_IW_20210409T111132_DVP_RTC30_G_gpufem_5F82/S1A_IW_20210409T111132_DVP_RTC30_G_gpufem_5F82_dem.tif'),\n",
       " PosixPath('Dataset/Cambodia/RTC_GAMMA/S1A_IW_20190219T111119_DVP_RTC30_G_gpufem_6CD0/S1A_IW_20190219T111119_DVP_RTC30_G_gpufem_6CD0_dem.tif'),\n",
       " PosixPath('Dataset/Cambodia/RTC_GAMMA/S1A_IW_20181022T111123_DVP_RTC30_G_gpufem_8B57/S1A_IW_20181022T111123_DVP_RTC30_G_gpufem_8B57_dem.tif'),\n",
       " PosixPath('Dataset/Cambodia/RTC_GAMMA/S1A_IW_20210208T111132_DVP_RTC30_G_gpufem_5C75/S1A_IW_20210208T111132_DVP_RTC30_G_gpufem_5C75_dem.tif'),\n",
       " PosixPath('Dataset/Cambodia/RTC_GAMMA/S1A_IW_20191122T111129_DVP_RTC30_G_gpufem_F00C/S1A_IW_20191122T111129_DVP_RTC30_G_gpufem_F00C_dem.tif'),\n",
       " PosixPath('Dataset/Cambodia/RTC_GAMMA/S1A_IW_20181221T111121_DVP_RTC30_G_gpufem_FE96/S1A_IW_20181221T111121_DVP_RTC30_G_gpufem_FE96_dem.tif'),\n",
       " PosixPath('Dataset/Cambodia/RTC_GAMMA/S1A_IW_20181115T111123_DVP_RTC30_G_gpufem_2314/S1A_IW_20181115T111123_DVP_RTC30_G_gpufem_2314_dem.tif'),\n",
       " PosixPath('Dataset/Cambodia/RTC_GAMMA/S1A_IW_20210503T111133_DVP_RTC30_G_gpufem_6532/S1A_IW_20210503T111133_DVP_RTC30_G_gpufem_6532_dem.tif'),\n",
       " PosixPath('Dataset/Cambodia/RTC_GAMMA/S1A_IW_20230210T111143_DVP_RTC30_G_gpufem_0BCB/S1A_IW_20230210T111143_DVP_RTC30_G_gpufem_0BCB_dem.tif'),\n",
       " PosixPath('Dataset/Cambodia/RTC_GAMMA/S1A_IW_20180730T111120_DVP_RTC30_G_gpufem_B483/S1A_IW_20180730T111120_DVP_RTC30_G_gpufem_B483_dem.tif'),\n",
       " PosixPath('Dataset/Cambodia/RTC_GAMMA/S1A_IW_20201222T111134_DVP_RTC30_G_gpufem_BD29/S1A_IW_20201222T111134_DVP_RTC30_G_gpufem_BD29_dem.tif'),\n",
       " PosixPath('Dataset/Cambodia/RTC_GAMMA/S1A_IW_20220522T111140_DVP_RTC30_G_gpufem_D6F3/S1A_IW_20220522T111140_DVP_RTC30_G_gpufem_D6F3_dem.tif'),\n",
       " PosixPath('Dataset/Cambodia/RTC_GAMMA/S1A_IW_20190420T111120_DVP_RTC30_G_gpufem_445B/S1A_IW_20190420T111120_DVP_RTC30_G_gpufem_445B_dem.tif'),\n",
       " PosixPath('Dataset/Cambodia/RTC_GAMMA/S1A_IW_20190327T111120_DVP_RTC30_G_gpufem_9D4A/S1A_IW_20190327T111120_DVP_RTC30_G_gpufem_9D4A_dem.tif'),\n",
       " PosixPath('Dataset/Cambodia/RTC_GAMMA/S1A_IW_20230423T111144_DVP_RTC30_G_gpufem_E7C1/S1A_IW_20230423T111144_DVP_RTC30_G_gpufem_E7C1_dem.tif'),\n",
       " PosixPath('Dataset/Cambodia/RTC_GAMMA/S1A_IW_20211111T111141_DVP_RTC30_G_gpufem_732D/S1A_IW_20211111T111141_DVP_RTC30_G_gpufem_732D_dem.tif'),\n",
       " PosixPath('Dataset/Cambodia/RTC_GAMMA/S1A_IW_20220203T111137_DVP_RTC30_G_gpufem_7FE8/S1A_IW_20220203T111137_DVP_RTC30_G_gpufem_7FE8_dem.tif'),\n",
       " PosixPath('Dataset/Cambodia/RTC_GAMMA/S1A_IW_20220122T111138_DVP_RTC30_G_gpufem_066C/S1A_IW_20220122T111138_DVP_RTC30_G_gpufem_066C_dem.tif'),\n",
       " PosixPath('Dataset/Cambodia/RTC_GAMMA/S1A_IW_20190911T111128_DVP_RTC30_G_gpufem_847C/S1A_IW_20190911T111128_DVP_RTC30_G_gpufem_847C_dem.tif'),\n",
       " PosixPath('Dataset/Cambodia/RTC_GAMMA/S1A_IW_20180224T111113_DVP_RTC30_G_gpufem_44C3/S1A_IW_20180224T111113_DVP_RTC30_G_gpufem_44C3_dem.tif'),\n",
       " PosixPath('Dataset/Cambodia/RTC_GAMMA/S1A_IW_20180612T111117_DVP_RTC30_G_gpufem_726A/S1A_IW_20180612T111117_DVP_RTC30_G_gpufem_726A_dem.tif'),\n",
       " PosixPath('Dataset/Cambodia/RTC_GAMMA/S1A_IW_20220814T111146_DVP_RTC30_G_gpufem_99DE/S1A_IW_20220814T111146_DVP_RTC30_G_gpufem_99DE_dem.tif'),\n",
       " PosixPath('Dataset/Cambodia/RTC_GAMMA/S1A_IW_20200402T111126_DVP_RTC30_G_gpufem_D2A9/S1A_IW_20200402T111126_DVP_RTC30_G_gpufem_D2A9_dem.tif'),\n",
       " PosixPath('Dataset/Cambodia/RTC_GAMMA/S1A_IW_20200719T111132_DVP_RTC30_G_gpufem_6153/S1A_IW_20200719T111132_DVP_RTC30_G_gpufem_6153_dem.tif'),\n",
       " PosixPath('Dataset/Cambodia/RTC_GAMMA/S1A_IW_20221118T111147_DVP_RTC30_G_gpufem_0829/S1A_IW_20221118T111147_DVP_RTC30_G_gpufem_0829_dem.tif'),\n",
       " PosixPath('Dataset/Cambodia/RTC_GAMMA/S1A_IW_20200625T111130_DVP_RTC30_G_gpufem_9880/S1A_IW_20200625T111130_DVP_RTC30_G_gpufem_9880_dem.tif'),\n",
       " PosixPath('Dataset/Cambodia/RTC_GAMMA/S1A_IW_20210620T111136_DVP_RTC30_G_gpufem_18AE/S1A_IW_20210620T111136_DVP_RTC30_G_gpufem_18AE_dem.tif'),\n",
       " PosixPath('Dataset/Cambodia/RTC_GAMMA/S1A_IW_20220709T111143_DVP_RTC30_G_gpufem_76F2/S1A_IW_20220709T111143_DVP_RTC30_G_gpufem_76F2_dem.tif'),\n",
       " PosixPath('Dataset/Cambodia/RTC_GAMMA/S1A_IW_20190514T111121_DVP_RTC30_G_gpufem_40CE/S1A_IW_20190514T111121_DVP_RTC30_G_gpufem_40CE_dem.tif'),\n",
       " PosixPath('Dataset/Cambodia/RTC_GAMMA/S1A_IW_20190126T111120_DVP_RTC30_G_gpufem_65B3/S1A_IW_20190126T111120_DVP_RTC30_G_gpufem_65B3_dem.tif'),\n",
       " PosixPath('Dataset/Cambodia/RTC_GAMMA/S1A_IW_20230330T111143_DVP_RTC30_G_gpufem_2722/S1A_IW_20230330T111143_DVP_RTC30_G_gpufem_2722_dem.tif'),\n",
       " PosixPath('Dataset/Cambodia/RTC_GAMMA/S1A_IW_20200520T111128_DVP_RTC30_G_gpufem_85A3/S1A_IW_20200520T111128_DVP_RTC30_G_gpufem_85A3_dem.tif'),\n",
       " PosixPath('Dataset/Cambodia/RTC_GAMMA/S1A_IW_20171027T111116_DVP_RTC30_G_gpufem_474A/S1A_IW_20171027T111116_DVP_RTC30_G_gpufem_474A_dem.tif'),\n",
       " PosixPath('Dataset/Cambodia/RTC_GAMMA/S1A_IW_20220615T111142_DVP_RTC30_G_gpufem_616E/S1A_IW_20220615T111142_DVP_RTC30_G_gpufem_616E_dem.tif'),\n",
       " PosixPath('Dataset/Cambodia/RTC_GAMMA/S1A_IW_20180916T111122_DVP_RTC30_G_gpufem_4830/S1A_IW_20180916T111122_DVP_RTC30_G_gpufem_4830_dem.tif'),\n",
       " PosixPath('Dataset/Cambodia/RTC_GAMMA/S1A_IW_20191005T111129_DVP_RTC30_G_gpufem_D701/S1A_IW_20191005T111129_DVP_RTC30_G_gpufem_D701_dem.tif'),\n",
       " PosixPath('Dataset/Cambodia/RTC_GAMMA/S1A_IW_20201011T111136_DVP_RTC30_G_gpufem_8CDE/S1A_IW_20201011T111136_DVP_RTC30_G_gpufem_8CDE_dem.tif'),\n",
       " PosixPath('Dataset/Cambodia/RTC_GAMMA/S1A_IW_20230222T111143_DVP_RTC30_G_gpufem_FD20/S1A_IW_20230222T111143_DVP_RTC30_G_gpufem_FD20_dem.tif'),\n",
       " PosixPath('Dataset/Cambodia/RTC_GAMMA/S1A_IW_20191029T111129_DVP_RTC30_G_gpufem_4F11/S1A_IW_20191029T111129_DVP_RTC30_G_gpufem_4F11_dem.tif'),\n",
       " PosixPath('Dataset/Cambodia/RTC_GAMMA/S1A_IW_20230411T111144_DVP_RTC30_G_gpufem_81C2/S1A_IW_20230411T111144_DVP_RTC30_G_gpufem_81C2_dem.tif'),\n",
       " PosixPath('Dataset/Cambodia/RTC_GAMMA/S1A_IW_20190713T111125_DVP_RTC30_G_gpufem_DB85/S1A_IW_20190713T111125_DVP_RTC30_G_gpufem_DB85_dem.tif'),\n",
       " PosixPath('Dataset/Cambodia/RTC_GAMMA/S1A_IW_20210115T111133_DVP_RTC30_G_gpufem_2F58/S1A_IW_20210115T111133_DVP_RTC30_G_gpufem_2F58_dem.tif'),\n",
       " PosixPath('Dataset/Cambodia/RTC_GAMMA/S1A_IW_20171226T111114_DVP_RTC30_G_gpufem_ECBD/S1A_IW_20171226T111114_DVP_RTC30_G_gpufem_ECBD_dem.tif'),\n",
       " PosixPath('Dataset/Cambodia/RTC_GAMMA/S1A_IW_20211006T111141_DVP_RTC30_G_gpufem_317F/S1A_IW_20211006T111141_DVP_RTC30_G_gpufem_317F_dem.tif'),\n",
       " PosixPath('Dataset/Cambodia/RTC_GAMMA/S1A_IW_20230129T111144_DVP_RTC30_G_gpufem_A72B/S1A_IW_20230129T111144_DVP_RTC30_G_gpufem_A72B_dem.tif'),\n",
       " PosixPath('Dataset/Cambodia/RTC_GAMMA/S1A_IW_20211217T111140_DVP_RTC30_G_gpufem_EDAA/S1A_IW_20211217T111140_DVP_RTC30_G_gpufem_EDAA_dem.tif'),\n",
       " PosixPath('Dataset/Cambodia/RTC_GAMMA/S1A_IW_20221025T111147_DVP_RTC30_G_gpufem_3A17/S1A_IW_20221025T111147_DVP_RTC30_G_gpufem_3A17_dem.tif'),\n",
       " PosixPath('Dataset/Cambodia/RTC_GAMMA/S1A_IW_20200929T111135_DVP_RTC30_G_gpufem_6C9A/S1A_IW_20200929T111135_DVP_RTC30_G_gpufem_6C9A_dem.tif'),\n",
       " PosixPath('Dataset/Cambodia/RTC_GAMMA/S1A_IW_20181127T111122_DVP_RTC30_G_gpufem_FC9F/S1A_IW_20181127T111122_DVP_RTC30_G_gpufem_FC9F_dem.tif'),\n",
       " PosixPath('Dataset/Cambodia/RTC_GAMMA/S1A_IW_20220323T111138_DVP_RTC30_G_gpufem_2794/S1A_IW_20220323T111138_DVP_RTC30_G_gpufem_2794_dem.tif'),\n",
       " PosixPath('Dataset/Cambodia/RTC_GAMMA/S1A_IW_20201116T111135_DVP_RTC30_G_gpufem_6673/S1A_IW_20201116T111135_DVP_RTC30_G_gpufem_6673_dem.tif'),\n",
       " PosixPath('Dataset/Cambodia/RTC_GAMMA/S1A_IW_20200109T111127_DVP_RTC30_G_gpufem_BF47/S1A_IW_20200109T111127_DVP_RTC30_G_gpufem_BF47_dem.tif'),\n",
       " PosixPath('Dataset/Cambodia/RTC_GAMMA/S1A_IW_20200917T111135_DVP_RTC30_G_gpufem_AF63/S1A_IW_20200917T111135_DVP_RTC30_G_gpufem_AF63_dem.tif'),\n",
       " PosixPath('Dataset/Cambodia/RTC_GAMMA/S1A_IW_20180507T111115_DVP_RTC30_G_gpufem_119E/S1A_IW_20180507T111115_DVP_RTC30_G_gpufem_119E_dem.tif'),\n",
       " PosixPath('Dataset/Cambodia/RTC_GAMMA/S1A_IW_20210515T111134_DVP_RTC30_G_gpufem_0F9F/S1A_IW_20210515T111134_DVP_RTC30_G_gpufem_0F9F_dem.tif'),\n",
       " PosixPath('Dataset/Cambodia/RTC_GAMMA/S1A_IW_20190607T111123_DVP_RTC30_G_gpufem_6575/S1A_IW_20190607T111123_DVP_RTC30_G_gpufem_6575_dem.tif'),\n",
       " PosixPath('Dataset/Cambodia/RTC_GAMMA/S1A_IW_20190207T111119_DVP_RTC30_G_gpufem_D208/S1A_IW_20190207T111119_DVP_RTC30_G_gpufem_D208_dem.tif'),\n",
       " PosixPath('Dataset/Cambodia/RTC_GAMMA/S1A_IW_20200309T111126_DVP_RTC30_G_gpufem_AC1F/S1A_IW_20200309T111126_DVP_RTC30_G_gpufem_AC1F_dem.tif'),\n",
       " PosixPath('Dataset/Cambodia/RTC_GAMMA/S1A_IW_20200508T111128_DVP_RTC30_G_gpufem_7750/S1A_IW_20200508T111128_DVP_RTC30_G_gpufem_7750_dem.tif'),\n",
       " PosixPath('Dataset/Cambodia/RTC_GAMMA/S1A_IW_20180413T111114_DVP_RTC30_G_gpufem_0F5C/S1A_IW_20180413T111114_DVP_RTC30_G_gpufem_0F5C_dem.tif'),\n",
       " PosixPath('Dataset/Cambodia/RTC_GAMMA/S1A_IW_20221130T111146_DVP_RTC30_G_gpufem_A5F3/S1A_IW_20221130T111146_DVP_RTC30_G_gpufem_A5F3_dem.tif'),\n",
       " PosixPath('Dataset/Cambodia/RTC_GAMMA/S1A_IW_20190114T111120_DVP_RTC30_G_gpufem_6100/S1A_IW_20190114T111120_DVP_RTC30_G_gpufem_6100_dem.tif'),\n",
       " PosixPath('Dataset/Cambodia/RTC_GAMMA/S1A_IW_20220907T111147_DVP_RTC30_G_gpufem_147C/S1A_IW_20220907T111147_DVP_RTC30_G_gpufem_147C_dem.tif'),\n",
       " PosixPath('Dataset/Cambodia/RTC_GAMMA/S1A_IW_20180718T111119_DVP_RTC30_G_gpufem_5AE4/S1A_IW_20180718T111119_DVP_RTC30_G_gpufem_5AE4_dem.tif'),\n",
       " PosixPath('Dataset/Cambodia/RTC_GAMMA/S1A_IW_20200613T111130_DVP_RTC30_G_gpufem_9B14/S1A_IW_20200613T111130_DVP_RTC30_G_gpufem_9B14_dem.tif'),\n",
       " PosixPath('Dataset/Cambodia/RTC_GAMMA/S1A_IW_20200601T111129_DVP_RTC30_G_gpufem_28E3/S1A_IW_20200601T111129_DVP_RTC30_G_gpufem_28E3_dem.tif'),\n",
       " PosixPath('Dataset/Cambodia/RTC_GAMMA/S1A_IW_20230517T111145_DVP_RTC30_G_gpufem_2150/S1A_IW_20230517T111145_DVP_RTC30_G_gpufem_2150_dem.tif'),\n",
       " PosixPath('Dataset/Cambodia/RTC_GAMMA/S1A_IW_20201023T111136_DVP_RTC30_G_gpufem_CC84/S1A_IW_20201023T111136_DVP_RTC30_G_gpufem_CC84_dem.tif'),\n",
       " PosixPath('Dataset/Cambodia/RTC_GAMMA/S1A_IW_20220826T111146_DVP_RTC30_G_gpufem_B18C/S1A_IW_20220826T111146_DVP_RTC30_G_gpufem_B18C_dem.tif'),\n",
       " PosixPath('Dataset/Cambodia/RTC_GAMMA/S1A_IW_20210328T111132_DVP_RTC30_G_gpufem_1F7C/S1A_IW_20210328T111132_DVP_RTC30_G_gpufem_1F7C_dem.tif'),\n",
       " PosixPath('Dataset/Cambodia/RTC_GAMMA/S1A_IW_20211123T111141_DVP_RTC30_G_gpufem_5510/S1A_IW_20211123T111141_DVP_RTC30_G_gpufem_5510_dem.tif'),\n",
       " PosixPath('Dataset/Cambodia/RTC_GAMMA/S1A_IW_20180823T111121_DVP_RTC30_G_gpufem_B833/S1A_IW_20180823T111121_DVP_RTC30_G_gpufem_B833_dem.tif'),\n",
       " PosixPath('Dataset/Cambodia/RTC_GAMMA/S1A_IW_20180131T111113_DVP_RTC30_G_gpufem_955B/S1A_IW_20180131T111113_DVP_RTC30_G_gpufem_955B_dem.tif')]"
      ]
     },
     "execution_count": 31,
     "metadata": {},
     "output_type": "execute_result"
    }
   ],
   "source": [
    "dem_paths"
   ]
  },
  {
   "cell_type": "markdown",
   "metadata": {},
   "source": [
    "**Reproject all tiffs to the predominate UTM:**"
   ]
  },
  {
   "cell_type": "code",
   "execution_count": 32,
   "metadata": {},
   "outputs": [
    {
     "name": "stdout",
     "output_type": "stream",
     "text": [
      "--------------------------------------------\n",
      "Reprojecting  0.0 files\n",
      "--------------------------------------------\n"
     ]
    }
   ],
   "source": [
    "if not autorift:\n",
    "    # Reproject (if needed) and Mosaic DEM Files in Preparation for Subsequent HAND Calculation\n",
    "    # print(DEM_paths)\n",
    "    reproject_indicies = [i for i, j in enumerate(utm_zones) if j != predominant_utm] #makes list of indicies in utm_zones that need to be reprojected\n",
    "    print('--------------------------------------------')\n",
    "    print('Reprojecting %4.1f files' %(len(reproject_indicies)))\n",
    "    print('--------------------------------------------')\n",
    "    for k in reproject_indicies:\n",
    "        temppath = f\"{str(product_paths[k].parent)}/r{product_paths[k].name}\"\n",
    "        temppath_dem = f\"{str(dem_paths[k].parent)}/r{dem_paths[k].name}\"\n",
    "        print(temppath)  \n",
    "\n",
    "        cmd = f\"gdalwarp -overwrite {product_paths[k]} {temppath} -s_srs {utm_types[k]}:{utm_zones[k]} -t_srs EPSG:{predominant_utm}\"\n",
    "    #     print(cmd)\n",
    "        !{cmd}\n",
    "        \n",
    "        cmd = f\"gdalwarp -overwrite {dem_paths[k]} {temppath_dem} -s_srs {utm_types[k]}:{utm_zones[k]} -t_srs EPSG:{predominant_utm}\"\n",
    "    #     print(cmd)\n",
    "        !{cmd}\n",
    "\n",
    "        product_paths[k].unlink()\n",
    "        dem_paths[k].unlink()"
   ]
  },
  {
   "cell_type": "markdown",
   "metadata": {},
   "source": [
    "**Update product_paths with any new filenames created during reprojection:**"
   ]
  },
  {
   "cell_type": "code",
   "execution_count": 33,
   "metadata": {},
   "outputs": [
    {
     "name": "stdout",
     "output_type": "stream",
     "text": [
      "Tiff paths:\n",
      "Dataset/Cambodia/RTC_GAMMA/S1A_IW_20210103T111133_DVP_RTC30_G_gpufem_0BE4/S1A_IW_20210103T111133_DVP_RTC30_G_gpufem_0BE4_VV.tif\n",
      "\n",
      "Dataset/Cambodia/RTC_GAMMA/S1A_IW_20210103T111133_DVP_RTC30_G_gpufem_0BE4/S1A_IW_20210103T111133_DVP_RTC30_G_gpufem_0BE4_VH.tif\n",
      "\n",
      "Dataset/Cambodia/RTC_GAMMA/S1A_IW_20230622T111147_DVR_RTC30_G_gpufem_DADC/S1A_IW_20230622T111147_DVR_RTC30_G_gpufem_DADC_VH.tif\n",
      "\n",
      "Dataset/Cambodia/RTC_GAMMA/S1A_IW_20230622T111147_DVR_RTC30_G_gpufem_DADC/S1A_IW_20230622T111147_DVR_RTC30_G_gpufem_DADC_VV.tif\n",
      "\n",
      "Dataset/Cambodia/RTC_GAMMA/S1A_IW_20180928T111123_DVP_RTC30_G_gpufem_A976/S1A_IW_20180928T111123_DVP_RTC30_G_gpufem_A976_VV.tif\n",
      "\n",
      "Dataset/Cambodia/RTC_GAMMA/S1A_IW_20180928T111123_DVP_RTC30_G_gpufem_A976/S1A_IW_20180928T111123_DVP_RTC30_G_gpufem_A976_VH.tif\n",
      "\n",
      "Dataset/Cambodia/RTC_GAMMA/S1A_IW_20191204T111128_DVP_RTC30_G_gpufem_380E/S1A_IW_20191204T111128_DVP_RTC30_G_gpufem_380E_VV.tif\n",
      "\n",
      "Dataset/Cambodia/RTC_GAMMA/S1A_IW_20191204T111128_DVP_RTC30_G_gpufem_380E/S1A_IW_20191204T111128_DVP_RTC30_G_gpufem_380E_VH.tif\n",
      "\n",
      "Dataset/Cambodia/RTC_GAMMA/S1A_IW_20200226T111126_DVP_RTC30_G_gpufem_3845/S1A_IW_20200226T111126_DVP_RTC30_G_gpufem_3845_VV.tif\n",
      "\n",
      "Dataset/Cambodia/RTC_GAMMA/S1A_IW_20200226T111126_DVP_RTC30_G_gpufem_3845/S1A_IW_20200226T111126_DVP_RTC30_G_gpufem_3845_VH.tif\n",
      "\n",
      "Dataset/Cambodia/RTC_GAMMA/S1A_IW_20190806T111127_DVP_RTC30_G_gpufem_5C98/S1A_IW_20190806T111127_DVP_RTC30_G_gpufem_5C98_VV.tif\n",
      "\n",
      "Dataset/Cambodia/RTC_GAMMA/S1A_IW_20190806T111127_DVP_RTC30_G_gpufem_5C98/S1A_IW_20190806T111127_DVP_RTC30_G_gpufem_5C98_VH.tif\n",
      "\n",
      "Dataset/Cambodia/RTC_GAMMA/S1A_IW_20190725T111126_DVP_RTC30_G_gpufem_A4F6/S1A_IW_20190725T111126_DVP_RTC30_G_gpufem_A4F6_VH.tif\n",
      "\n",
      "Dataset/Cambodia/RTC_GAMMA/S1A_IW_20190725T111126_DVP_RTC30_G_gpufem_A4F6/S1A_IW_20190725T111126_DVP_RTC30_G_gpufem_A4F6_VV.tif\n",
      "\n",
      "Dataset/Cambodia/RTC_GAMMA/S1A_IW_20221013T111147_DVP_RTC30_G_gpufem_C03E/S1A_IW_20221013T111147_DVP_RTC30_G_gpufem_C03E_VV.tif\n",
      "\n",
      "Dataset/Cambodia/RTC_GAMMA/S1A_IW_20221013T111147_DVP_RTC30_G_gpufem_C03E/S1A_IW_20221013T111147_DVP_RTC30_G_gpufem_C03E_VH.tif\n",
      "\n",
      "Dataset/Cambodia/RTC_GAMMA/S1A_IW_20171214T111115_DVP_RTC30_G_gpufem_52D2/S1A_IW_20171214T111115_DVP_RTC30_G_gpufem_52D2_VH.tif\n",
      "\n",
      "Dataset/Cambodia/RTC_GAMMA/S1A_IW_20171214T111115_DVP_RTC30_G_gpufem_52D2/S1A_IW_20171214T111115_DVP_RTC30_G_gpufem_52D2_VV.tif\n",
      "\n",
      "Dataset/Cambodia/RTC_GAMMA/S1A_IW_20210819T111139_DVP_RTC30_G_gpufem_A578/S1A_IW_20210819T111139_DVP_RTC30_G_gpufem_A578_VH.tif\n",
      "\n",
      "Dataset/Cambodia/RTC_GAMMA/S1A_IW_20210819T111139_DVP_RTC30_G_gpufem_A578/S1A_IW_20210819T111139_DVP_RTC30_G_gpufem_A578_VV.tif\n",
      "\n",
      "Dataset/Cambodia/RTC_GAMMA/S1A_IW_20180308T111113_DVP_RTC30_G_gpufem_49B2/S1A_IW_20180308T111113_DVP_RTC30_G_gpufem_49B2_VH.tif\n",
      "\n",
      "Dataset/Cambodia/RTC_GAMMA/S1A_IW_20180308T111113_DVP_RTC30_G_gpufem_49B2/S1A_IW_20180308T111113_DVP_RTC30_G_gpufem_49B2_VV.tif\n",
      "\n",
      "Dataset/Cambodia/RTC_GAMMA/S1A_IW_20191017T111129_DVP_RTC30_G_gpufem_4389/S1A_IW_20191017T111129_DVP_RTC30_G_gpufem_4389_VV.tif\n",
      "\n",
      "Dataset/Cambodia/RTC_GAMMA/S1A_IW_20191017T111129_DVP_RTC30_G_gpufem_4389/S1A_IW_20191017T111129_DVP_RTC30_G_gpufem_4389_VH.tif\n",
      "\n",
      "Dataset/Cambodia/RTC_GAMMA/S1A_IW_20221224T111145_DVP_RTC30_G_gpufem_6065/S1A_IW_20221224T111145_DVP_RTC30_G_gpufem_6065_VV.tif\n",
      "\n",
      "Dataset/Cambodia/RTC_GAMMA/S1A_IW_20221224T111145_DVP_RTC30_G_gpufem_6065/S1A_IW_20221224T111145_DVP_RTC30_G_gpufem_6065_VH.tif\n",
      "\n",
      "Dataset/Cambodia/RTC_GAMMA/S1A_IW_20230105T111144_DVP_RTC30_G_gpufem_0633/S1A_IW_20230105T111144_DVP_RTC30_G_gpufem_0633_VV.tif\n",
      "\n",
      "Dataset/Cambodia/RTC_GAMMA/S1A_IW_20230105T111144_DVP_RTC30_G_gpufem_0633/S1A_IW_20230105T111144_DVP_RTC30_G_gpufem_0633_VH.tif\n",
      "\n",
      "Dataset/Cambodia/RTC_GAMMA/S1A_IW_20180212T111113_DVP_RTC30_G_gpufem_581E/S1A_IW_20180212T111113_DVP_RTC30_G_gpufem_581E_VV.tif\n",
      "\n",
      "Dataset/Cambodia/RTC_GAMMA/S1A_IW_20180212T111113_DVP_RTC30_G_gpufem_581E/S1A_IW_20180212T111113_DVP_RTC30_G_gpufem_581E_VH.tif\n",
      "\n",
      "Dataset/Cambodia/RTC_GAMMA/S1A_IW_20210527T111135_DVP_RTC30_G_gpufem_F4C4/S1A_IW_20210527T111135_DVP_RTC30_G_gpufem_F4C4_VV.tif\n",
      "\n",
      "Dataset/Cambodia/RTC_GAMMA/S1A_IW_20210527T111135_DVP_RTC30_G_gpufem_F4C4/S1A_IW_20210527T111135_DVP_RTC30_G_gpufem_F4C4_VH.tif\n",
      "\n",
      "Dataset/Cambodia/RTC_GAMMA/S1A_IW_20210714T111138_DVP_RTC30_G_gpufem_F6C3/S1A_IW_20210714T111138_DVP_RTC30_G_gpufem_F6C3_VV.tif\n",
      "\n",
      "Dataset/Cambodia/RTC_GAMMA/S1A_IW_20210714T111138_DVP_RTC30_G_gpufem_F6C3/S1A_IW_20210714T111138_DVP_RTC30_G_gpufem_F6C3_VH.tif\n",
      "\n",
      "Dataset/Cambodia/RTC_GAMMA/S1A_IW_20200214T111126_DVP_RTC30_G_gpufem_299B/S1A_IW_20200214T111126_DVP_RTC30_G_gpufem_299B_VV.tif\n",
      "\n",
      "Dataset/Cambodia/RTC_GAMMA/S1A_IW_20200214T111126_DVP_RTC30_G_gpufem_299B/S1A_IW_20200214T111126_DVP_RTC30_G_gpufem_299B_VH.tif\n",
      "\n",
      "Dataset/Cambodia/RTC_GAMMA/S1A_IW_20220802T111145_DVP_RTC30_G_gpufem_71B5/S1A_IW_20220802T111145_DVP_RTC30_G_gpufem_71B5_VH.tif\n",
      "\n",
      "Dataset/Cambodia/RTC_GAMMA/S1A_IW_20220802T111145_DVP_RTC30_G_gpufem_71B5/S1A_IW_20220802T111145_DVP_RTC30_G_gpufem_71B5_VV.tif\n",
      "\n",
      "Dataset/Cambodia/RTC_GAMMA/S1A_IW_20200824T111134_DVP_RTC30_G_gpufem_3B79/S1A_IW_20200824T111134_DVP_RTC30_G_gpufem_3B79_VV.tif\n",
      "\n",
      "Dataset/Cambodia/RTC_GAMMA/S1A_IW_20200824T111134_DVP_RTC30_G_gpufem_3B79/S1A_IW_20200824T111134_DVP_RTC30_G_gpufem_3B79_VH.tif\n",
      "\n",
      "Dataset/Cambodia/RTC_GAMMA/S1A_IW_20220215T111137_DVP_RTC30_G_gpufem_415A/S1A_IW_20220215T111137_DVP_RTC30_G_gpufem_415A_VV.tif\n",
      "\n",
      "Dataset/Cambodia/RTC_GAMMA/S1A_IW_20220215T111137_DVP_RTC30_G_gpufem_415A/S1A_IW_20220215T111137_DVP_RTC30_G_gpufem_415A_VH.tif\n",
      "\n",
      "Dataset/Cambodia/RTC_GAMMA/S1A_IW_20200812T111133_DVP_RTC30_G_gpufem_AF7C/S1A_IW_20200812T111133_DVP_RTC30_G_gpufem_AF7C_VV.tif\n",
      "\n",
      "Dataset/Cambodia/RTC_GAMMA/S1A_IW_20200812T111133_DVP_RTC30_G_gpufem_AF7C/S1A_IW_20200812T111133_DVP_RTC30_G_gpufem_AF7C_VH.tif\n",
      "\n",
      "Dataset/Cambodia/RTC_GAMMA/S1A_IW_20180401T111113_DVP_RTC30_G_gpufem_E0C3/S1A_IW_20180401T111113_DVP_RTC30_G_gpufem_E0C3_VH.tif\n",
      "\n",
      "Dataset/Cambodia/RTC_GAMMA/S1A_IW_20180401T111113_DVP_RTC30_G_gpufem_E0C3/S1A_IW_20180401T111113_DVP_RTC30_G_gpufem_E0C3_VV.tif\n",
      "\n",
      "Dataset/Cambodia/RTC_GAMMA/S1A_IW_20190923T111129_DVP_RTC30_G_gpufem_8986/S1A_IW_20190923T111129_DVP_RTC30_G_gpufem_8986_VH.tif\n",
      "\n",
      "Dataset/Cambodia/RTC_GAMMA/S1A_IW_20190923T111129_DVP_RTC30_G_gpufem_8986/S1A_IW_20190923T111129_DVP_RTC30_G_gpufem_8986_VV.tif\n",
      "\n",
      "Dataset/Cambodia/RTC_GAMMA/S1A_IW_20210912T111141_DVP_RTC30_G_gpufem_0F27/S1A_IW_20210912T111141_DVP_RTC30_G_gpufem_0F27_VV.tif\n",
      "\n",
      "Dataset/Cambodia/RTC_GAMMA/S1A_IW_20210912T111141_DVP_RTC30_G_gpufem_0F27/S1A_IW_20210912T111141_DVP_RTC30_G_gpufem_0F27_VH.tif\n",
      "\n",
      "Dataset/Cambodia/RTC_GAMMA/S1A_IW_20210127T111132_DVP_RTC30_G_gpufem_03A7/S1A_IW_20210127T111132_DVP_RTC30_G_gpufem_03A7_VV.tif\n",
      "\n",
      "Dataset/Cambodia/RTC_GAMMA/S1A_IW_20210127T111132_DVP_RTC30_G_gpufem_03A7/S1A_IW_20210127T111132_DVP_RTC30_G_gpufem_03A7_VH.tif\n",
      "\n",
      "Dataset/Cambodia/RTC_GAMMA/S1A_IW_20220603T111141_DVP_RTC30_G_gpufem_0E96/S1A_IW_20220603T111141_DVP_RTC30_G_gpufem_0E96_VH.tif\n",
      "\n",
      "Dataset/Cambodia/RTC_GAMMA/S1A_IW_20220603T111141_DVP_RTC30_G_gpufem_0E96/S1A_IW_20220603T111141_DVP_RTC30_G_gpufem_0E96_VV.tif\n",
      "\n",
      "Dataset/Cambodia/RTC_GAMMA/S1A_IW_20180320T111113_DVP_RTC30_G_gpufem_FACE/S1A_IW_20180320T111113_DVP_RTC30_G_gpufem_FACE_VH.tif\n",
      "\n",
      "Dataset/Cambodia/RTC_GAMMA/S1A_IW_20180320T111113_DVP_RTC30_G_gpufem_FACE/S1A_IW_20180320T111113_DVP_RTC30_G_gpufem_FACE_VV.tif\n",
      "\n",
      "Dataset/Cambodia/RTC_GAMMA/S1A_IW_20211229T111139_DVP_RTC30_G_gpufem_AA81/S1A_IW_20211229T111139_DVP_RTC30_G_gpufem_AA81_VV.tif\n",
      "\n",
      "Dataset/Cambodia/RTC_GAMMA/S1A_IW_20211229T111139_DVP_RTC30_G_gpufem_AA81/S1A_IW_20211229T111139_DVP_RTC30_G_gpufem_AA81_VH.tif\n",
      "\n",
      "Dataset/Cambodia/RTC_GAMMA/S1A_IW_20220404T111138_DVP_RTC30_G_gpufem_E130/S1A_IW_20220404T111138_DVP_RTC30_G_gpufem_E130_VV.tif\n",
      "\n",
      "Dataset/Cambodia/RTC_GAMMA/S1A_IW_20220404T111138_DVP_RTC30_G_gpufem_E130/S1A_IW_20220404T111138_DVP_RTC30_G_gpufem_E130_VH.tif\n",
      "\n",
      "Dataset/Cambodia/RTC_GAMMA/S1A_IW_20221001T111147_DVP_RTC30_G_gpufem_EDEC/S1A_IW_20221001T111147_DVP_RTC30_G_gpufem_EDEC_VV.tif\n",
      "\n",
      "Dataset/Cambodia/RTC_GAMMA/S1A_IW_20221001T111147_DVP_RTC30_G_gpufem_EDEC/S1A_IW_20221001T111147_DVP_RTC30_G_gpufem_EDEC_VH.tif\n",
      "\n",
      "Dataset/Cambodia/RTC_GAMMA/S1A_IW_20200426T111127_DVP_RTC30_G_gpufem_6DA1/S1A_IW_20200426T111127_DVP_RTC30_G_gpufem_6DA1_VH.tif\n",
      "\n",
      "Dataset/Cambodia/RTC_GAMMA/S1A_IW_20200426T111127_DVP_RTC30_G_gpufem_6DA1/S1A_IW_20200426T111127_DVP_RTC30_G_gpufem_6DA1_VV.tif\n",
      "\n",
      "Dataset/Cambodia/RTC_GAMMA/S1A_IW_20180531T111116_DVP_RTC30_G_gpufem_1142/S1A_IW_20180531T111116_DVP_RTC30_G_gpufem_1142_VH.tif\n",
      "\n",
      "Dataset/Cambodia/RTC_GAMMA/S1A_IW_20180531T111116_DVP_RTC30_G_gpufem_1142/S1A_IW_20180531T111116_DVP_RTC30_G_gpufem_1142_VV.tif\n",
      "\n",
      "Dataset/Cambodia/RTC_GAMMA/S1A_IW_20200414T111127_DVP_RTC30_G_gpufem_F738/S1A_IW_20200414T111127_DVP_RTC30_G_gpufem_F738_VV.tif\n",
      "\n",
      "Dataset/Cambodia/RTC_GAMMA/S1A_IW_20200414T111127_DVP_RTC30_G_gpufem_F738/S1A_IW_20200414T111127_DVP_RTC30_G_gpufem_F738_VH.tif\n",
      "\n",
      "Dataset/Cambodia/RTC_GAMMA/S1A_IW_20180425T111114_DVP_RTC30_G_gpufem_31ED/S1A_IW_20180425T111114_DVP_RTC30_G_gpufem_31ED_VV.tif\n",
      "\n",
      "Dataset/Cambodia/RTC_GAMMA/S1A_IW_20180425T111114_DVP_RTC30_G_gpufem_31ED/S1A_IW_20180425T111114_DVP_RTC30_G_gpufem_31ED_VH.tif\n",
      "\n",
      "Dataset/Cambodia/RTC_GAMMA/S1A_IW_20190102T111121_DVP_RTC30_G_gpufem_A8D7/S1A_IW_20190102T111121_DVP_RTC30_G_gpufem_A8D7_VH.tif\n",
      "\n",
      "Dataset/Cambodia/RTC_GAMMA/S1A_IW_20190102T111121_DVP_RTC30_G_gpufem_A8D7/S1A_IW_20190102T111121_DVP_RTC30_G_gpufem_A8D7_VV.tif\n",
      "\n",
      "Dataset/Cambodia/RTC_GAMMA/S1A_IW_20190818T111127_DVP_RTC30_G_gpufem_1CD6/S1A_IW_20190818T111127_DVP_RTC30_G_gpufem_1CD6_VV.tif\n",
      "\n",
      "Dataset/Cambodia/RTC_GAMMA/S1A_IW_20190818T111127_DVP_RTC30_G_gpufem_1CD6/S1A_IW_20190818T111127_DVP_RTC30_G_gpufem_1CD6_VH.tif\n",
      "\n",
      "Dataset/Cambodia/RTC_GAMMA/S1A_IW_20200121T111127_DVP_RTC30_G_gpufem_E103/S1A_IW_20200121T111127_DVP_RTC30_G_gpufem_E103_VV.tif\n",
      "\n",
      "Dataset/Cambodia/RTC_GAMMA/S1A_IW_20200121T111127_DVP_RTC30_G_gpufem_E103/S1A_IW_20200121T111127_DVP_RTC30_G_gpufem_E103_VH.tif\n",
      "\n",
      "Dataset/Cambodia/RTC_GAMMA/S1A_IW_20230318T111143_DVP_RTC30_G_gpufem_7F1A/S1A_IW_20230318T111143_DVP_RTC30_G_gpufem_7F1A_VH.tif\n",
      "\n",
      "Dataset/Cambodia/RTC_GAMMA/S1A_IW_20230318T111143_DVP_RTC30_G_gpufem_7F1A/S1A_IW_20230318T111143_DVP_RTC30_G_gpufem_7F1A_VV.tif\n",
      "\n",
      "Dataset/Cambodia/RTC_GAMMA/S1A_IW_20180624T111118_DVP_RTC30_G_gpufem_9175/S1A_IW_20180624T111118_DVP_RTC30_G_gpufem_9175_VV.tif\n",
      "\n",
      "Dataset/Cambodia/RTC_GAMMA/S1A_IW_20180624T111118_DVP_RTC30_G_gpufem_9175/S1A_IW_20180624T111118_DVP_RTC30_G_gpufem_9175_VH.tif\n",
      "\n",
      "Dataset/Cambodia/RTC_GAMMA/S1A_IW_20191216T111128_DVP_RTC30_G_gpufem_1801/S1A_IW_20191216T111128_DVP_RTC30_G_gpufem_1801_VH.tif\n",
      "\n",
      "Dataset/Cambodia/RTC_GAMMA/S1A_IW_20191216T111128_DVP_RTC30_G_gpufem_1801/S1A_IW_20191216T111128_DVP_RTC30_G_gpufem_1801_VV.tif\n",
      "\n",
      "Dataset/Cambodia/RTC_GAMMA/S1A_IW_20211018T111141_DVP_RTC30_G_gpufem_84F6/S1A_IW_20211018T111141_DVP_RTC30_G_gpufem_84F6_VV.tif\n",
      "\n",
      "Dataset/Cambodia/RTC_GAMMA/S1A_IW_20211018T111141_DVP_RTC30_G_gpufem_84F6/S1A_IW_20211018T111141_DVP_RTC30_G_gpufem_84F6_VH.tif\n",
      "\n",
      "Dataset/Cambodia/RTC_GAMMA/S1A_IW_20200707T111131_DVP_RTC30_G_gpufem_3FE9/S1A_IW_20200707T111131_DVP_RTC30_G_gpufem_3FE9_VV.tif\n",
      "\n",
      "Dataset/Cambodia/RTC_GAMMA/S1A_IW_20200707T111131_DVP_RTC30_G_gpufem_3FE9/S1A_IW_20200707T111131_DVP_RTC30_G_gpufem_3FE9_VH.tif\n",
      "\n",
      "Dataset/Cambodia/RTC_GAMMA/S1A_IW_20220919T111146_DVP_RTC30_G_gpufem_DB75/S1A_IW_20220919T111146_DVP_RTC30_G_gpufem_DB75_VV.tif\n",
      "\n",
      "Dataset/Cambodia/RTC_GAMMA/S1A_IW_20220919T111146_DVP_RTC30_G_gpufem_DB75/S1A_IW_20220919T111146_DVP_RTC30_G_gpufem_DB75_VH.tif\n",
      "\n",
      "Dataset/Cambodia/RTC_GAMMA/S1A_IW_20220110T111139_DVP_RTC30_G_gpufem_45D5/S1A_IW_20220110T111139_DVP_RTC30_G_gpufem_45D5_VH.tif\n",
      "\n",
      "Dataset/Cambodia/RTC_GAMMA/S1A_IW_20220110T111139_DVP_RTC30_G_gpufem_45D5/S1A_IW_20220110T111139_DVP_RTC30_G_gpufem_45D5_VV.tif\n",
      "\n",
      "Dataset/Cambodia/RTC_GAMMA/S1A_IW_20181010T111123_DVP_RTC30_G_gpufem_AEB8/S1A_IW_20181010T111123_DVP_RTC30_G_gpufem_AEB8_VH.tif\n",
      "\n",
      "Dataset/Cambodia/RTC_GAMMA/S1A_IW_20181010T111123_DVP_RTC30_G_gpufem_AEB8/S1A_IW_20181010T111123_DVP_RTC30_G_gpufem_AEB8_VV.tif\n",
      "\n",
      "Dataset/Cambodia/RTC_GAMMA/S1A_IW_20200731T111133_DVP_RTC30_G_gpufem_87F7/S1A_IW_20200731T111133_DVP_RTC30_G_gpufem_87F7_VV.tif\n",
      "\n",
      "Dataset/Cambodia/RTC_GAMMA/S1A_IW_20200731T111133_DVP_RTC30_G_gpufem_87F7/S1A_IW_20200731T111133_DVP_RTC30_G_gpufem_87F7_VH.tif\n",
      "\n",
      "Dataset/Cambodia/RTC_GAMMA/S1A_IW_20201104T111135_DVP_RTC30_G_gpufem_FDFF/S1A_IW_20201104T111135_DVP_RTC30_G_gpufem_FDFF_VH.tif\n",
      "\n",
      "Dataset/Cambodia/RTC_GAMMA/S1A_IW_20201104T111135_DVP_RTC30_G_gpufem_FDFF/S1A_IW_20201104T111135_DVP_RTC30_G_gpufem_FDFF_VV.tif\n",
      "\n",
      "Dataset/Cambodia/RTC_GAMMA/S1A_IW_20180811T111121_DVP_RTC30_G_gpufem_C2B4/S1A_IW_20180811T111121_DVP_RTC30_G_gpufem_C2B4_VV.tif\n",
      "\n",
      "Dataset/Cambodia/RTC_GAMMA/S1A_IW_20180811T111121_DVP_RTC30_G_gpufem_C2B4/S1A_IW_20180811T111121_DVP_RTC30_G_gpufem_C2B4_VH.tif\n",
      "\n",
      "Dataset/Cambodia/RTC_GAMMA/S1A_IW_20210702T111137_DVP_RTC30_G_gpufem_FD5E/S1A_IW_20210702T111137_DVP_RTC30_G_gpufem_FD5E_VH.tif\n",
      "\n",
      "Dataset/Cambodia/RTC_GAMMA/S1A_IW_20210702T111137_DVP_RTC30_G_gpufem_FD5E/S1A_IW_20210702T111137_DVP_RTC30_G_gpufem_FD5E_VV.tif\n",
      "\n",
      "Dataset/Cambodia/RTC_GAMMA/S1A_IW_20180119T111114_DVP_RTC30_G_gpufem_287C/S1A_IW_20180119T111114_DVP_RTC30_G_gpufem_287C_VV.tif\n",
      "\n",
      "Dataset/Cambodia/RTC_GAMMA/S1A_IW_20180119T111114_DVP_RTC30_G_gpufem_287C/S1A_IW_20180119T111114_DVP_RTC30_G_gpufem_287C_VH.tif\n",
      "\n",
      "Dataset/Cambodia/RTC_GAMMA/S1A_IW_20190303T111120_DVP_RTC30_G_gpufem_8B62/S1A_IW_20190303T111120_DVP_RTC30_G_gpufem_8B62_VH.tif\n",
      "\n",
      "Dataset/Cambodia/RTC_GAMMA/S1A_IW_20190303T111120_DVP_RTC30_G_gpufem_8B62/S1A_IW_20190303T111120_DVP_RTC30_G_gpufem_8B62_VV.tif\n",
      "\n",
      "Dataset/Cambodia/RTC_GAMMA/S1A_IW_20201210T111134_DVP_RTC30_G_gpufem_ABB6/S1A_IW_20201210T111134_DVP_RTC30_G_gpufem_ABB6_VH.tif\n",
      "\n",
      "Dataset/Cambodia/RTC_GAMMA/S1A_IW_20201210T111134_DVP_RTC30_G_gpufem_ABB6/S1A_IW_20201210T111134_DVP_RTC30_G_gpufem_ABB6_VV.tif\n",
      "\n",
      "Dataset/Cambodia/RTC_GAMMA/S1A_IW_20190619T111123_DVP_RTC30_G_gpufem_1D81/S1A_IW_20190619T111123_DVP_RTC30_G_gpufem_1D81_VV.tif\n",
      "\n",
      "Dataset/Cambodia/RTC_GAMMA/S1A_IW_20190619T111123_DVP_RTC30_G_gpufem_1D81/S1A_IW_20190619T111123_DVP_RTC30_G_gpufem_1D81_VH.tif\n",
      "\n",
      "Dataset/Cambodia/RTC_GAMMA/S1A_IW_20220416T111138_DVP_RTC30_G_gpufem_53BC/S1A_IW_20220416T111138_DVP_RTC30_G_gpufem_53BC_VV.tif\n",
      "\n",
      "Dataset/Cambodia/RTC_GAMMA/S1A_IW_20220416T111138_DVP_RTC30_G_gpufem_53BC/S1A_IW_20220416T111138_DVP_RTC30_G_gpufem_53BC_VH.tif\n",
      "\n",
      "Dataset/Cambodia/RTC_GAMMA/S1A_IW_20191110T111129_DVP_RTC30_G_gpufem_00EE/S1A_IW_20191110T111129_DVP_RTC30_G_gpufem_00EE_VH.tif\n",
      "\n",
      "Dataset/Cambodia/RTC_GAMMA/S1A_IW_20191110T111129_DVP_RTC30_G_gpufem_00EE/S1A_IW_20191110T111129_DVP_RTC30_G_gpufem_00EE_VV.tif\n",
      "\n",
      "Dataset/Cambodia/RTC_GAMMA/S1A_IW_20220311T111137_DVP_RTC30_G_gpufem_BF4F/S1A_IW_20220311T111137_DVP_RTC30_G_gpufem_BF4F_VH.tif\n",
      "\n",
      "Dataset/Cambodia/RTC_GAMMA/S1A_IW_20220311T111137_DVP_RTC30_G_gpufem_BF4F/S1A_IW_20220311T111137_DVP_RTC30_G_gpufem_BF4F_VV.tif\n",
      "\n",
      "Dataset/Cambodia/RTC_GAMMA/S1A_IW_20180519T111116_DVP_RTC30_G_gpufem_66F3/S1A_IW_20180519T111116_DVP_RTC30_G_gpufem_66F3_VV.tif\n",
      "\n",
      "Dataset/Cambodia/RTC_GAMMA/S1A_IW_20180519T111116_DVP_RTC30_G_gpufem_66F3/S1A_IW_20180519T111116_DVP_RTC30_G_gpufem_66F3_VH.tif\n",
      "\n",
      "Dataset/Cambodia/RTC_GAMMA/S1A_IW_20220428T111139_DVP_RTC30_G_gpufem_423B/S1A_IW_20220428T111139_DVP_RTC30_G_gpufem_423B_VH.tif\n",
      "\n",
      "Dataset/Cambodia/RTC_GAMMA/S1A_IW_20220428T111139_DVP_RTC30_G_gpufem_423B/S1A_IW_20220428T111139_DVP_RTC30_G_gpufem_423B_VV.tif\n",
      "\n",
      "Dataset/Cambodia/RTC_GAMMA/S1A_IW_20201128T111135_DVP_RTC30_G_gpufem_0ED5/S1A_IW_20201128T111135_DVP_RTC30_G_gpufem_0ED5_VV.tif\n",
      "\n",
      "Dataset/Cambodia/RTC_GAMMA/S1A_IW_20201128T111135_DVP_RTC30_G_gpufem_0ED5/S1A_IW_20201128T111135_DVP_RTC30_G_gpufem_0ED5_VH.tif\n",
      "\n",
      "Dataset/Cambodia/RTC_GAMMA/S1A_IW_20180107T111114_DVP_RTC30_G_gpufem_9D06/S1A_IW_20180107T111114_DVP_RTC30_G_gpufem_9D06_VH.tif\n",
      "\n",
      "Dataset/Cambodia/RTC_GAMMA/S1A_IW_20180107T111114_DVP_RTC30_G_gpufem_9D06/S1A_IW_20180107T111114_DVP_RTC30_G_gpufem_9D06_VV.tif\n",
      "\n",
      "Dataset/Cambodia/RTC_GAMMA/S1A_IW_20181103T111123_DVP_RTC30_G_gpufem_56E1/S1A_IW_20181103T111123_DVP_RTC30_G_gpufem_56E1_VV.tif\n",
      "\n",
      "Dataset/Cambodia/RTC_GAMMA/S1A_IW_20181103T111123_DVP_RTC30_G_gpufem_56E1/S1A_IW_20181103T111123_DVP_RTC30_G_gpufem_56E1_VH.tif\n",
      "\n",
      "Dataset/Cambodia/RTC_GAMMA/S1A_IW_20220510T111139_DVP_RTC30_G_gpufem_952C/S1A_IW_20220510T111139_DVP_RTC30_G_gpufem_952C_VV.tif\n",
      "\n",
      "Dataset/Cambodia/RTC_GAMMA/S1A_IW_20220510T111139_DVP_RTC30_G_gpufem_952C/S1A_IW_20220510T111139_DVP_RTC30_G_gpufem_952C_VH.tif\n",
      "\n",
      "Dataset/Cambodia/RTC_GAMMA/S1A_IW_20181209T111122_DVP_RTC30_G_gpufem_9E2E/S1A_IW_20181209T111122_DVP_RTC30_G_gpufem_9E2E_VH.tif\n",
      "\n",
      "Dataset/Cambodia/RTC_GAMMA/S1A_IW_20181209T111122_DVP_RTC30_G_gpufem_9E2E/S1A_IW_20181209T111122_DVP_RTC30_G_gpufem_9E2E_VV.tif\n",
      "\n",
      "Dataset/Cambodia/RTC_GAMMA/S1A_IW_20171015T111116_DVP_RTC30_G_gpufem_C4E1/S1A_IW_20171015T111116_DVP_RTC30_G_gpufem_C4E1_VH.tif\n",
      "\n",
      "Dataset/Cambodia/RTC_GAMMA/S1A_IW_20171015T111116_DVP_RTC30_G_gpufem_C4E1/S1A_IW_20171015T111116_DVP_RTC30_G_gpufem_C4E1_VV.tif\n",
      "\n",
      "Dataset/Cambodia/RTC_GAMMA/S1A_IW_20190701T111124_DVP_RTC30_G_gpufem_671D/S1A_IW_20190701T111124_DVP_RTC30_G_gpufem_671D_VH.tif\n",
      "\n",
      "Dataset/Cambodia/RTC_GAMMA/S1A_IW_20190701T111124_DVP_RTC30_G_gpufem_671D/S1A_IW_20190701T111124_DVP_RTC30_G_gpufem_671D_VV.tif\n",
      "\n",
      "Dataset/Cambodia/RTC_GAMMA/S1A_IW_20200321T111126_DVP_RTC30_G_gpufem_AF4C/S1A_IW_20200321T111126_DVP_RTC30_G_gpufem_AF4C_VH.tif\n",
      "\n",
      "Dataset/Cambodia/RTC_GAMMA/S1A_IW_20200321T111126_DVP_RTC30_G_gpufem_AF4C/S1A_IW_20200321T111126_DVP_RTC30_G_gpufem_AF4C_VV.tif\n",
      "\n",
      "Dataset/Cambodia/RTC_GAMMA/S1A_IW_20230117T111144_DVP_RTC30_G_gpufem_80BE/S1A_IW_20230117T111144_DVP_RTC30_G_gpufem_80BE_VV.tif\n",
      "\n",
      "Dataset/Cambodia/RTC_GAMMA/S1A_IW_20230117T111144_DVP_RTC30_G_gpufem_80BE/S1A_IW_20230117T111144_DVP_RTC30_G_gpufem_80BE_VH.tif\n",
      "\n",
      "Dataset/Cambodia/RTC_GAMMA/S1A_IW_20230529T111146_DVP_RTC30_G_gpufem_EF64/S1A_IW_20230529T111146_DVP_RTC30_G_gpufem_EF64_VV.tif\n",
      "\n",
      "Dataset/Cambodia/RTC_GAMMA/S1A_IW_20230529T111146_DVP_RTC30_G_gpufem_EF64/S1A_IW_20230529T111146_DVP_RTC30_G_gpufem_EF64_VH.tif\n",
      "\n",
      "Dataset/Cambodia/RTC_GAMMA/S1A_IW_20210304T111131_DVP_RTC30_G_gpufem_61FD/S1A_IW_20210304T111131_DVP_RTC30_G_gpufem_61FD_VV.tif\n",
      "\n",
      "Dataset/Cambodia/RTC_GAMMA/S1A_IW_20210304T111131_DVP_RTC30_G_gpufem_61FD/S1A_IW_20210304T111131_DVP_RTC30_G_gpufem_61FD_VH.tif\n",
      "\n",
      "Dataset/Cambodia/RTC_GAMMA/S1A_IW_20190526T111122_DVP_RTC30_G_gpufem_0975/S1A_IW_20190526T111122_DVP_RTC30_G_gpufem_0975_VH.tif\n",
      "\n",
      "Dataset/Cambodia/RTC_GAMMA/S1A_IW_20190526T111122_DVP_RTC30_G_gpufem_0975/S1A_IW_20190526T111122_DVP_RTC30_G_gpufem_0975_VV.tif\n",
      "\n",
      "Dataset/Cambodia/RTC_GAMMA/S1A_IW_20221212T111146_DVP_RTC30_G_gpufem_6A60/S1A_IW_20221212T111146_DVP_RTC30_G_gpufem_6A60_VH.tif\n",
      "\n",
      "Dataset/Cambodia/RTC_GAMMA/S1A_IW_20221212T111146_DVP_RTC30_G_gpufem_6A60/S1A_IW_20221212T111146_DVP_RTC30_G_gpufem_6A60_VV.tif\n",
      "\n",
      "Dataset/Cambodia/RTC_GAMMA/S1A_IW_20230306T111143_DVP_RTC30_G_gpufem_D1D3/S1A_IW_20230306T111143_DVP_RTC30_G_gpufem_D1D3_VH.tif\n",
      "\n",
      "Dataset/Cambodia/RTC_GAMMA/S1A_IW_20230306T111143_DVP_RTC30_G_gpufem_D1D3/S1A_IW_20230306T111143_DVP_RTC30_G_gpufem_D1D3_VV.tif\n",
      "\n",
      "Dataset/Cambodia/RTC_GAMMA/S1A_IW_20210726T111138_DVP_RTC30_G_gpufem_71ED/S1A_IW_20210726T111138_DVP_RTC30_G_gpufem_71ED_VV.tif\n",
      "\n",
      "Dataset/Cambodia/RTC_GAMMA/S1A_IW_20210726T111138_DVP_RTC30_G_gpufem_71ED/S1A_IW_20210726T111138_DVP_RTC30_G_gpufem_71ED_VH.tif\n",
      "\n",
      "Dataset/Cambodia/RTC_GAMMA/S1A_IW_20190315T111119_DVP_RTC30_G_gpufem_338B/S1A_IW_20190315T111119_DVP_RTC30_G_gpufem_338B_VV.tif\n",
      "\n",
      "Dataset/Cambodia/RTC_GAMMA/S1A_IW_20190315T111119_DVP_RTC30_G_gpufem_338B/S1A_IW_20190315T111119_DVP_RTC30_G_gpufem_338B_VH.tif\n",
      "\n",
      "Dataset/Cambodia/RTC_GAMMA/S1A_IW_20211205T111140_DVP_RTC30_G_gpufem_87B1/S1A_IW_20211205T111140_DVP_RTC30_G_gpufem_87B1_VH.tif\n",
      "\n",
      "Dataset/Cambodia/RTC_GAMMA/S1A_IW_20211205T111140_DVP_RTC30_G_gpufem_87B1/S1A_IW_20211205T111140_DVP_RTC30_G_gpufem_87B1_VV.tif\n",
      "\n",
      "Dataset/Cambodia/RTC_GAMMA/S1A_IW_20190830T111128_DVP_RTC30_G_gpufem_CC23/S1A_IW_20190830T111128_DVP_RTC30_G_gpufem_CC23_VV.tif\n",
      "\n",
      "Dataset/Cambodia/RTC_GAMMA/S1A_IW_20190830T111128_DVP_RTC30_G_gpufem_CC23/S1A_IW_20190830T111128_DVP_RTC30_G_gpufem_CC23_VH.tif\n",
      "\n",
      "Dataset/Cambodia/RTC_GAMMA/S1A_IW_20190502T111121_DVP_RTC30_G_gpufem_0187/S1A_IW_20190502T111121_DVP_RTC30_G_gpufem_0187_VH.tif\n",
      "\n",
      "Dataset/Cambodia/RTC_GAMMA/S1A_IW_20190502T111121_DVP_RTC30_G_gpufem_0187/S1A_IW_20190502T111121_DVP_RTC30_G_gpufem_0187_VV.tif\n",
      "\n",
      "Dataset/Cambodia/RTC_GAMMA/S1A_IW_20210831T111140_DVP_RTC30_G_gpufem_A9FB/S1A_IW_20210831T111140_DVP_RTC30_G_gpufem_A9FB_VV.tif\n",
      "\n",
      "Dataset/Cambodia/RTC_GAMMA/S1A_IW_20210831T111140_DVP_RTC30_G_gpufem_A9FB/S1A_IW_20210831T111140_DVP_RTC30_G_gpufem_A9FB_VH.tif\n",
      "\n",
      "Dataset/Cambodia/RTC_GAMMA/S1A_IW_20190408T111120_DVP_RTC30_G_gpufem_D773/S1A_IW_20190408T111120_DVP_RTC30_G_gpufem_D773_VV.tif\n",
      "\n",
      "Dataset/Cambodia/RTC_GAMMA/S1A_IW_20190408T111120_DVP_RTC30_G_gpufem_D773/S1A_IW_20190408T111120_DVP_RTC30_G_gpufem_D773_VH.tif\n",
      "\n",
      "Dataset/Cambodia/RTC_GAMMA/S1A_IW_20220721T111144_DVP_RTC30_G_gpufem_C29D/S1A_IW_20220721T111144_DVP_RTC30_G_gpufem_C29D_VV.tif\n",
      "\n",
      "Dataset/Cambodia/RTC_GAMMA/S1A_IW_20220721T111144_DVP_RTC30_G_gpufem_C29D/S1A_IW_20220721T111144_DVP_RTC30_G_gpufem_C29D_VH.tif\n",
      "\n",
      "Dataset/Cambodia/RTC_GAMMA/S1A_IW_20171120T111116_DVP_RTC30_G_gpufem_25A1/S1A_IW_20171120T111116_DVP_RTC30_G_gpufem_25A1_VH.tif\n",
      "\n",
      "Dataset/Cambodia/RTC_GAMMA/S1A_IW_20171120T111116_DVP_RTC30_G_gpufem_25A1/S1A_IW_20171120T111116_DVP_RTC30_G_gpufem_25A1_VV.tif\n",
      "\n",
      "Dataset/Cambodia/RTC_GAMMA/S1A_IW_20230505T111145_DVP_RTC30_G_gpufem_EE96/S1A_IW_20230505T111145_DVP_RTC30_G_gpufem_EE96_VH.tif\n",
      "\n",
      "Dataset/Cambodia/RTC_GAMMA/S1A_IW_20230505T111145_DVP_RTC30_G_gpufem_EE96/S1A_IW_20230505T111145_DVP_RTC30_G_gpufem_EE96_VV.tif\n",
      "\n",
      "Dataset/Cambodia/RTC_GAMMA/S1A_IW_20171108T111116_DVP_RTC30_G_gpufem_20BA/S1A_IW_20171108T111116_DVP_RTC30_G_gpufem_20BA_VV.tif\n",
      "\n",
      "Dataset/Cambodia/RTC_GAMMA/S1A_IW_20171108T111116_DVP_RTC30_G_gpufem_20BA/S1A_IW_20171108T111116_DVP_RTC30_G_gpufem_20BA_VH.tif\n",
      "\n",
      "Dataset/Cambodia/RTC_GAMMA/S1A_IW_20210924T111141_DVP_RTC30_G_gpufem_20C9/S1A_IW_20210924T111141_DVP_RTC30_G_gpufem_20C9_VV.tif\n",
      "\n",
      "Dataset/Cambodia/RTC_GAMMA/S1A_IW_20210924T111141_DVP_RTC30_G_gpufem_20C9/S1A_IW_20210924T111141_DVP_RTC30_G_gpufem_20C9_VH.tif\n",
      "\n",
      "Dataset/Cambodia/RTC_GAMMA/S1A_IW_20210807T111139_DVP_RTC30_G_gpufem_E8C6/S1A_IW_20210807T111139_DVP_RTC30_G_gpufem_E8C6_VV.tif\n",
      "\n",
      "Dataset/Cambodia/RTC_GAMMA/S1A_IW_20210807T111139_DVP_RTC30_G_gpufem_E8C6/S1A_IW_20210807T111139_DVP_RTC30_G_gpufem_E8C6_VH.tif\n",
      "\n",
      "Dataset/Cambodia/RTC_GAMMA/S1A_IW_20200202T111126_DVP_RTC30_G_gpufem_B611/S1A_IW_20200202T111126_DVP_RTC30_G_gpufem_B611_VV.tif\n",
      "\n",
      "Dataset/Cambodia/RTC_GAMMA/S1A_IW_20200202T111126_DVP_RTC30_G_gpufem_B611/S1A_IW_20200202T111126_DVP_RTC30_G_gpufem_B611_VH.tif\n",
      "\n",
      "Dataset/Cambodia/RTC_GAMMA/S1A_IW_20211030T111141_DVP_RTC30_G_gpufem_FF88/S1A_IW_20211030T111141_DVP_RTC30_G_gpufem_FF88_VV.tif\n",
      "\n",
      "Dataset/Cambodia/RTC_GAMMA/S1A_IW_20211030T111141_DVP_RTC30_G_gpufem_FF88/S1A_IW_20211030T111141_DVP_RTC30_G_gpufem_FF88_VH.tif\n",
      "\n",
      "Dataset/Cambodia/RTC_GAMMA/S1A_IW_20210316T111132_DVP_RTC30_G_gpufem_858D/S1A_IW_20210316T111132_DVP_RTC30_G_gpufem_858D_VV.tif\n",
      "\n",
      "Dataset/Cambodia/RTC_GAMMA/S1A_IW_20210316T111132_DVP_RTC30_G_gpufem_858D/S1A_IW_20210316T111132_DVP_RTC30_G_gpufem_858D_VH.tif\n",
      "\n",
      "Dataset/Cambodia/RTC_GAMMA/S1A_IW_20210608T111135_DVP_RTC30_G_gpufem_28FE/S1A_IW_20210608T111135_DVP_RTC30_G_gpufem_28FE_VH.tif\n",
      "\n",
      "Dataset/Cambodia/RTC_GAMMA/S1A_IW_20210608T111135_DVP_RTC30_G_gpufem_28FE/S1A_IW_20210608T111135_DVP_RTC30_G_gpufem_28FE_VV.tif\n",
      "\n",
      "Dataset/Cambodia/RTC_GAMMA/S1A_IW_20180904T111122_DVP_RTC30_G_gpufem_1A9E/S1A_IW_20180904T111122_DVP_RTC30_G_gpufem_1A9E_VV.tif\n",
      "\n",
      "Dataset/Cambodia/RTC_GAMMA/S1A_IW_20180904T111122_DVP_RTC30_G_gpufem_1A9E/S1A_IW_20180904T111122_DVP_RTC30_G_gpufem_1A9E_VH.tif\n",
      "\n",
      "Dataset/Cambodia/RTC_GAMMA/S1A_IW_20210421T111133_DVP_RTC30_G_gpufem_2466/S1A_IW_20210421T111133_DVP_RTC30_G_gpufem_2466_VV.tif\n",
      "\n",
      "Dataset/Cambodia/RTC_GAMMA/S1A_IW_20210421T111133_DVP_RTC30_G_gpufem_2466/S1A_IW_20210421T111133_DVP_RTC30_G_gpufem_2466_VH.tif\n",
      "\n",
      "Dataset/Cambodia/RTC_GAMMA/S1A_IW_20220627T111143_DVP_RTC30_G_gpufem_EB15/S1A_IW_20220627T111143_DVP_RTC30_G_gpufem_EB15_VH.tif\n",
      "\n",
      "Dataset/Cambodia/RTC_GAMMA/S1A_IW_20220627T111143_DVP_RTC30_G_gpufem_EB15/S1A_IW_20220627T111143_DVP_RTC30_G_gpufem_EB15_VV.tif\n",
      "\n",
      "Dataset/Cambodia/RTC_GAMMA/S1A_IW_20210220T111132_DVP_RTC30_G_gpufem_24C6/S1A_IW_20210220T111132_DVP_RTC30_G_gpufem_24C6_VH.tif\n",
      "\n",
      "Dataset/Cambodia/RTC_GAMMA/S1A_IW_20210220T111132_DVP_RTC30_G_gpufem_24C6/S1A_IW_20210220T111132_DVP_RTC30_G_gpufem_24C6_VV.tif\n",
      "\n",
      "Dataset/Cambodia/RTC_GAMMA/S1A_IW_20221106T111147_DVP_RTC30_G_gpufem_9620/S1A_IW_20221106T111147_DVP_RTC30_G_gpufem_9620_VH.tif\n",
      "\n",
      "Dataset/Cambodia/RTC_GAMMA/S1A_IW_20221106T111147_DVP_RTC30_G_gpufem_9620/S1A_IW_20221106T111147_DVP_RTC30_G_gpufem_9620_VV.tif\n",
      "\n",
      "Dataset/Cambodia/RTC_GAMMA/S1A_IW_20220227T111137_DVP_RTC30_G_gpufem_509F/S1A_IW_20220227T111137_DVP_RTC30_G_gpufem_509F_VV.tif\n",
      "\n",
      "Dataset/Cambodia/RTC_GAMMA/S1A_IW_20220227T111137_DVP_RTC30_G_gpufem_509F/S1A_IW_20220227T111137_DVP_RTC30_G_gpufem_509F_VH.tif\n",
      "\n",
      "Dataset/Cambodia/RTC_GAMMA/S1A_IW_20171202T111115_DVP_RTC30_G_gpufem_C516/S1A_IW_20171202T111115_DVP_RTC30_G_gpufem_C516_VH.tif\n",
      "\n",
      "Dataset/Cambodia/RTC_GAMMA/S1A_IW_20171202T111115_DVP_RTC30_G_gpufem_C516/S1A_IW_20171202T111115_DVP_RTC30_G_gpufem_C516_VV.tif\n",
      "\n",
      "Dataset/Cambodia/RTC_GAMMA/S1A_IW_20191228T111127_DVP_RTC30_G_gpufem_B293/S1A_IW_20191228T111127_DVP_RTC30_G_gpufem_B293_VH.tif\n",
      "\n",
      "Dataset/Cambodia/RTC_GAMMA/S1A_IW_20191228T111127_DVP_RTC30_G_gpufem_B293/S1A_IW_20191228T111127_DVP_RTC30_G_gpufem_B293_VV.tif\n",
      "\n",
      "Dataset/Cambodia/RTC_GAMMA/S1A_IW_20200905T111135_DVP_RTC30_G_gpufem_C16D/S1A_IW_20200905T111135_DVP_RTC30_G_gpufem_C16D_VH.tif\n",
      "\n",
      "Dataset/Cambodia/RTC_GAMMA/S1A_IW_20200905T111135_DVP_RTC30_G_gpufem_C16D/S1A_IW_20200905T111135_DVP_RTC30_G_gpufem_C16D_VV.tif\n",
      "\n",
      "Dataset/Cambodia/RTC_GAMMA/S1A_IW_20210409T111132_DVP_RTC30_G_gpufem_5F82/S1A_IW_20210409T111132_DVP_RTC30_G_gpufem_5F82_VH.tif\n",
      "\n",
      "Dataset/Cambodia/RTC_GAMMA/S1A_IW_20210409T111132_DVP_RTC30_G_gpufem_5F82/S1A_IW_20210409T111132_DVP_RTC30_G_gpufem_5F82_VV.tif\n",
      "\n",
      "Dataset/Cambodia/RTC_GAMMA/S1A_IW_20190219T111119_DVP_RTC30_G_gpufem_6CD0/S1A_IW_20190219T111119_DVP_RTC30_G_gpufem_6CD0_VV.tif\n",
      "\n",
      "Dataset/Cambodia/RTC_GAMMA/S1A_IW_20190219T111119_DVP_RTC30_G_gpufem_6CD0/S1A_IW_20190219T111119_DVP_RTC30_G_gpufem_6CD0_VH.tif\n",
      "\n",
      "Dataset/Cambodia/RTC_GAMMA/S1A_IW_20181022T111123_DVP_RTC30_G_gpufem_8B57/S1A_IW_20181022T111123_DVP_RTC30_G_gpufem_8B57_VH.tif\n",
      "\n",
      "Dataset/Cambodia/RTC_GAMMA/S1A_IW_20181022T111123_DVP_RTC30_G_gpufem_8B57/S1A_IW_20181022T111123_DVP_RTC30_G_gpufem_8B57_VV.tif\n",
      "\n",
      "Dataset/Cambodia/RTC_GAMMA/S1A_IW_20210208T111132_DVP_RTC30_G_gpufem_5C75/S1A_IW_20210208T111132_DVP_RTC30_G_gpufem_5C75_VV.tif\n",
      "\n",
      "Dataset/Cambodia/RTC_GAMMA/S1A_IW_20210208T111132_DVP_RTC30_G_gpufem_5C75/S1A_IW_20210208T111132_DVP_RTC30_G_gpufem_5C75_VH.tif\n",
      "\n",
      "Dataset/Cambodia/RTC_GAMMA/S1A_IW_20191122T111129_DVP_RTC30_G_gpufem_F00C/S1A_IW_20191122T111129_DVP_RTC30_G_gpufem_F00C_VH.tif\n",
      "\n",
      "Dataset/Cambodia/RTC_GAMMA/S1A_IW_20191122T111129_DVP_RTC30_G_gpufem_F00C/S1A_IW_20191122T111129_DVP_RTC30_G_gpufem_F00C_VV.tif\n",
      "\n",
      "Dataset/Cambodia/RTC_GAMMA/S1A_IW_20181221T111121_DVP_RTC30_G_gpufem_FE96/S1A_IW_20181221T111121_DVP_RTC30_G_gpufem_FE96_VV.tif\n",
      "\n",
      "Dataset/Cambodia/RTC_GAMMA/S1A_IW_20181221T111121_DVP_RTC30_G_gpufem_FE96/S1A_IW_20181221T111121_DVP_RTC30_G_gpufem_FE96_VH.tif\n",
      "\n",
      "Dataset/Cambodia/RTC_GAMMA/S1A_IW_20181115T111123_DVP_RTC30_G_gpufem_2314/S1A_IW_20181115T111123_DVP_RTC30_G_gpufem_2314_VH.tif\n",
      "\n",
      "Dataset/Cambodia/RTC_GAMMA/S1A_IW_20181115T111123_DVP_RTC30_G_gpufem_2314/S1A_IW_20181115T111123_DVP_RTC30_G_gpufem_2314_VV.tif\n",
      "\n",
      "Dataset/Cambodia/RTC_GAMMA/S1A_IW_20210503T111133_DVP_RTC30_G_gpufem_6532/S1A_IW_20210503T111133_DVP_RTC30_G_gpufem_6532_VH.tif\n",
      "\n",
      "Dataset/Cambodia/RTC_GAMMA/S1A_IW_20210503T111133_DVP_RTC30_G_gpufem_6532/S1A_IW_20210503T111133_DVP_RTC30_G_gpufem_6532_VV.tif\n",
      "\n",
      "Dataset/Cambodia/RTC_GAMMA/S1A_IW_20230210T111143_DVP_RTC30_G_gpufem_0BCB/S1A_IW_20230210T111143_DVP_RTC30_G_gpufem_0BCB_VV.tif\n",
      "\n",
      "Dataset/Cambodia/RTC_GAMMA/S1A_IW_20230210T111143_DVP_RTC30_G_gpufem_0BCB/S1A_IW_20230210T111143_DVP_RTC30_G_gpufem_0BCB_VH.tif\n",
      "\n",
      "Dataset/Cambodia/RTC_GAMMA/S1A_IW_20180730T111120_DVP_RTC30_G_gpufem_B483/S1A_IW_20180730T111120_DVP_RTC30_G_gpufem_B483_VH.tif\n",
      "\n",
      "Dataset/Cambodia/RTC_GAMMA/S1A_IW_20180730T111120_DVP_RTC30_G_gpufem_B483/S1A_IW_20180730T111120_DVP_RTC30_G_gpufem_B483_VV.tif\n",
      "\n",
      "Dataset/Cambodia/RTC_GAMMA/S1A_IW_20201222T111134_DVP_RTC30_G_gpufem_BD29/S1A_IW_20201222T111134_DVP_RTC30_G_gpufem_BD29_VH.tif\n",
      "\n",
      "Dataset/Cambodia/RTC_GAMMA/S1A_IW_20201222T111134_DVP_RTC30_G_gpufem_BD29/S1A_IW_20201222T111134_DVP_RTC30_G_gpufem_BD29_VV.tif\n",
      "\n",
      "Dataset/Cambodia/RTC_GAMMA/S1A_IW_20220522T111140_DVP_RTC30_G_gpufem_D6F3/S1A_IW_20220522T111140_DVP_RTC30_G_gpufem_D6F3_VV.tif\n",
      "\n",
      "Dataset/Cambodia/RTC_GAMMA/S1A_IW_20220522T111140_DVP_RTC30_G_gpufem_D6F3/S1A_IW_20220522T111140_DVP_RTC30_G_gpufem_D6F3_VH.tif\n",
      "\n",
      "Dataset/Cambodia/RTC_GAMMA/S1A_IW_20190420T111120_DVP_RTC30_G_gpufem_445B/S1A_IW_20190420T111120_DVP_RTC30_G_gpufem_445B_VV.tif\n",
      "\n",
      "Dataset/Cambodia/RTC_GAMMA/S1A_IW_20190420T111120_DVP_RTC30_G_gpufem_445B/S1A_IW_20190420T111120_DVP_RTC30_G_gpufem_445B_VH.tif\n",
      "\n",
      "Dataset/Cambodia/RTC_GAMMA/S1A_IW_20190327T111120_DVP_RTC30_G_gpufem_9D4A/S1A_IW_20190327T111120_DVP_RTC30_G_gpufem_9D4A_VV.tif\n",
      "\n",
      "Dataset/Cambodia/RTC_GAMMA/S1A_IW_20190327T111120_DVP_RTC30_G_gpufem_9D4A/S1A_IW_20190327T111120_DVP_RTC30_G_gpufem_9D4A_VH.tif\n",
      "\n",
      "Dataset/Cambodia/RTC_GAMMA/S1A_IW_20230423T111144_DVP_RTC30_G_gpufem_E7C1/S1A_IW_20230423T111144_DVP_RTC30_G_gpufem_E7C1_VV.tif\n",
      "\n",
      "Dataset/Cambodia/RTC_GAMMA/S1A_IW_20230423T111144_DVP_RTC30_G_gpufem_E7C1/S1A_IW_20230423T111144_DVP_RTC30_G_gpufem_E7C1_VH.tif\n",
      "\n",
      "Dataset/Cambodia/RTC_GAMMA/S1A_IW_20211111T111141_DVP_RTC30_G_gpufem_732D/S1A_IW_20211111T111141_DVP_RTC30_G_gpufem_732D_VH.tif\n",
      "\n",
      "Dataset/Cambodia/RTC_GAMMA/S1A_IW_20211111T111141_DVP_RTC30_G_gpufem_732D/S1A_IW_20211111T111141_DVP_RTC30_G_gpufem_732D_VV.tif\n",
      "\n",
      "Dataset/Cambodia/RTC_GAMMA/S1A_IW_20220203T111137_DVP_RTC30_G_gpufem_7FE8/S1A_IW_20220203T111137_DVP_RTC30_G_gpufem_7FE8_VV.tif\n",
      "\n",
      "Dataset/Cambodia/RTC_GAMMA/S1A_IW_20220203T111137_DVP_RTC30_G_gpufem_7FE8/S1A_IW_20220203T111137_DVP_RTC30_G_gpufem_7FE8_VH.tif\n",
      "\n",
      "Dataset/Cambodia/RTC_GAMMA/S1A_IW_20220122T111138_DVP_RTC30_G_gpufem_066C/S1A_IW_20220122T111138_DVP_RTC30_G_gpufem_066C_VV.tif\n",
      "\n",
      "Dataset/Cambodia/RTC_GAMMA/S1A_IW_20220122T111138_DVP_RTC30_G_gpufem_066C/S1A_IW_20220122T111138_DVP_RTC30_G_gpufem_066C_VH.tif\n",
      "\n",
      "Dataset/Cambodia/RTC_GAMMA/S1A_IW_20190911T111128_DVP_RTC30_G_gpufem_847C/S1A_IW_20190911T111128_DVP_RTC30_G_gpufem_847C_VH.tif\n",
      "\n",
      "Dataset/Cambodia/RTC_GAMMA/S1A_IW_20190911T111128_DVP_RTC30_G_gpufem_847C/S1A_IW_20190911T111128_DVP_RTC30_G_gpufem_847C_VV.tif\n",
      "\n",
      "Dataset/Cambodia/RTC_GAMMA/S1A_IW_20180224T111113_DVP_RTC30_G_gpufem_44C3/S1A_IW_20180224T111113_DVP_RTC30_G_gpufem_44C3_VV.tif\n",
      "\n",
      "Dataset/Cambodia/RTC_GAMMA/S1A_IW_20180224T111113_DVP_RTC30_G_gpufem_44C3/S1A_IW_20180224T111113_DVP_RTC30_G_gpufem_44C3_VH.tif\n",
      "\n",
      "Dataset/Cambodia/RTC_GAMMA/S1A_IW_20180612T111117_DVP_RTC30_G_gpufem_726A/S1A_IW_20180612T111117_DVP_RTC30_G_gpufem_726A_VH.tif\n",
      "\n",
      "Dataset/Cambodia/RTC_GAMMA/S1A_IW_20180612T111117_DVP_RTC30_G_gpufem_726A/S1A_IW_20180612T111117_DVP_RTC30_G_gpufem_726A_VV.tif\n",
      "\n",
      "Dataset/Cambodia/RTC_GAMMA/S1A_IW_20220814T111146_DVP_RTC30_G_gpufem_99DE/S1A_IW_20220814T111146_DVP_RTC30_G_gpufem_99DE_VV.tif\n",
      "\n",
      "Dataset/Cambodia/RTC_GAMMA/S1A_IW_20220814T111146_DVP_RTC30_G_gpufem_99DE/S1A_IW_20220814T111146_DVP_RTC30_G_gpufem_99DE_VH.tif\n",
      "\n",
      "Dataset/Cambodia/RTC_GAMMA/S1A_IW_20200402T111126_DVP_RTC30_G_gpufem_D2A9/S1A_IW_20200402T111126_DVP_RTC30_G_gpufem_D2A9_VV.tif\n",
      "\n",
      "Dataset/Cambodia/RTC_GAMMA/S1A_IW_20200402T111126_DVP_RTC30_G_gpufem_D2A9/S1A_IW_20200402T111126_DVP_RTC30_G_gpufem_D2A9_VH.tif\n",
      "\n",
      "Dataset/Cambodia/RTC_GAMMA/S1A_IW_20200719T111132_DVP_RTC30_G_gpufem_6153/S1A_IW_20200719T111132_DVP_RTC30_G_gpufem_6153_VH.tif\n",
      "\n",
      "Dataset/Cambodia/RTC_GAMMA/S1A_IW_20200719T111132_DVP_RTC30_G_gpufem_6153/S1A_IW_20200719T111132_DVP_RTC30_G_gpufem_6153_VV.tif\n",
      "\n",
      "Dataset/Cambodia/RTC_GAMMA/S1A_IW_20221118T111147_DVP_RTC30_G_gpufem_0829/S1A_IW_20221118T111147_DVP_RTC30_G_gpufem_0829_VV.tif\n",
      "\n",
      "Dataset/Cambodia/RTC_GAMMA/S1A_IW_20221118T111147_DVP_RTC30_G_gpufem_0829/S1A_IW_20221118T111147_DVP_RTC30_G_gpufem_0829_VH.tif\n",
      "\n",
      "Dataset/Cambodia/RTC_GAMMA/S1A_IW_20200625T111130_DVP_RTC30_G_gpufem_9880/S1A_IW_20200625T111130_DVP_RTC30_G_gpufem_9880_VH.tif\n",
      "\n",
      "Dataset/Cambodia/RTC_GAMMA/S1A_IW_20200625T111130_DVP_RTC30_G_gpufem_9880/S1A_IW_20200625T111130_DVP_RTC30_G_gpufem_9880_VV.tif\n",
      "\n",
      "Dataset/Cambodia/RTC_GAMMA/S1A_IW_20210620T111136_DVP_RTC30_G_gpufem_18AE/S1A_IW_20210620T111136_DVP_RTC30_G_gpufem_18AE_VH.tif\n",
      "\n",
      "Dataset/Cambodia/RTC_GAMMA/S1A_IW_20210620T111136_DVP_RTC30_G_gpufem_18AE/S1A_IW_20210620T111136_DVP_RTC30_G_gpufem_18AE_VV.tif\n",
      "\n",
      "Dataset/Cambodia/RTC_GAMMA/S1A_IW_20220709T111143_DVP_RTC30_G_gpufem_76F2/S1A_IW_20220709T111143_DVP_RTC30_G_gpufem_76F2_VV.tif\n",
      "\n",
      "Dataset/Cambodia/RTC_GAMMA/S1A_IW_20220709T111143_DVP_RTC30_G_gpufem_76F2/S1A_IW_20220709T111143_DVP_RTC30_G_gpufem_76F2_VH.tif\n",
      "\n",
      "Dataset/Cambodia/RTC_GAMMA/S1A_IW_20190514T111121_DVP_RTC30_G_gpufem_40CE/S1A_IW_20190514T111121_DVP_RTC30_G_gpufem_40CE_VH.tif\n",
      "\n",
      "Dataset/Cambodia/RTC_GAMMA/S1A_IW_20190514T111121_DVP_RTC30_G_gpufem_40CE/S1A_IW_20190514T111121_DVP_RTC30_G_gpufem_40CE_VV.tif\n",
      "\n",
      "Dataset/Cambodia/RTC_GAMMA/S1A_IW_20190126T111120_DVP_RTC30_G_gpufem_65B3/S1A_IW_20190126T111120_DVP_RTC30_G_gpufem_65B3_VH.tif\n",
      "\n",
      "Dataset/Cambodia/RTC_GAMMA/S1A_IW_20190126T111120_DVP_RTC30_G_gpufem_65B3/S1A_IW_20190126T111120_DVP_RTC30_G_gpufem_65B3_VV.tif\n",
      "\n",
      "Dataset/Cambodia/RTC_GAMMA/S1A_IW_20230330T111143_DVP_RTC30_G_gpufem_2722/S1A_IW_20230330T111143_DVP_RTC30_G_gpufem_2722_VV.tif\n",
      "\n",
      "Dataset/Cambodia/RTC_GAMMA/S1A_IW_20230330T111143_DVP_RTC30_G_gpufem_2722/S1A_IW_20230330T111143_DVP_RTC30_G_gpufem_2722_VH.tif\n",
      "\n",
      "Dataset/Cambodia/RTC_GAMMA/S1A_IW_20200520T111128_DVP_RTC30_G_gpufem_85A3/S1A_IW_20200520T111128_DVP_RTC30_G_gpufem_85A3_VH.tif\n",
      "\n",
      "Dataset/Cambodia/RTC_GAMMA/S1A_IW_20200520T111128_DVP_RTC30_G_gpufem_85A3/S1A_IW_20200520T111128_DVP_RTC30_G_gpufem_85A3_VV.tif\n",
      "\n",
      "Dataset/Cambodia/RTC_GAMMA/S1A_IW_20171027T111116_DVP_RTC30_G_gpufem_474A/S1A_IW_20171027T111116_DVP_RTC30_G_gpufem_474A_VV.tif\n",
      "\n",
      "Dataset/Cambodia/RTC_GAMMA/S1A_IW_20171027T111116_DVP_RTC30_G_gpufem_474A/S1A_IW_20171027T111116_DVP_RTC30_G_gpufem_474A_VH.tif\n",
      "\n",
      "Dataset/Cambodia/RTC_GAMMA/S1A_IW_20220615T111142_DVP_RTC30_G_gpufem_616E/S1A_IW_20220615T111142_DVP_RTC30_G_gpufem_616E_VV.tif\n",
      "\n",
      "Dataset/Cambodia/RTC_GAMMA/S1A_IW_20220615T111142_DVP_RTC30_G_gpufem_616E/S1A_IW_20220615T111142_DVP_RTC30_G_gpufem_616E_VH.tif\n",
      "\n",
      "Dataset/Cambodia/RTC_GAMMA/S1A_IW_20180916T111122_DVP_RTC30_G_gpufem_4830/S1A_IW_20180916T111122_DVP_RTC30_G_gpufem_4830_VH.tif\n",
      "\n",
      "Dataset/Cambodia/RTC_GAMMA/S1A_IW_20180916T111122_DVP_RTC30_G_gpufem_4830/S1A_IW_20180916T111122_DVP_RTC30_G_gpufem_4830_VV.tif\n",
      "\n",
      "Dataset/Cambodia/RTC_GAMMA/S1A_IW_20191005T111129_DVP_RTC30_G_gpufem_D701/S1A_IW_20191005T111129_DVP_RTC30_G_gpufem_D701_VH.tif\n",
      "\n",
      "Dataset/Cambodia/RTC_GAMMA/S1A_IW_20191005T111129_DVP_RTC30_G_gpufem_D701/S1A_IW_20191005T111129_DVP_RTC30_G_gpufem_D701_VV.tif\n",
      "\n",
      "Dataset/Cambodia/RTC_GAMMA/S1A_IW_20201011T111136_DVP_RTC30_G_gpufem_8CDE/S1A_IW_20201011T111136_DVP_RTC30_G_gpufem_8CDE_VH.tif\n",
      "\n",
      "Dataset/Cambodia/RTC_GAMMA/S1A_IW_20201011T111136_DVP_RTC30_G_gpufem_8CDE/S1A_IW_20201011T111136_DVP_RTC30_G_gpufem_8CDE_VV.tif\n",
      "\n",
      "Dataset/Cambodia/RTC_GAMMA/S1A_IW_20230222T111143_DVP_RTC30_G_gpufem_FD20/S1A_IW_20230222T111143_DVP_RTC30_G_gpufem_FD20_VV.tif\n",
      "\n",
      "Dataset/Cambodia/RTC_GAMMA/S1A_IW_20230222T111143_DVP_RTC30_G_gpufem_FD20/S1A_IW_20230222T111143_DVP_RTC30_G_gpufem_FD20_VH.tif\n",
      "\n",
      "Dataset/Cambodia/RTC_GAMMA/S1A_IW_20191029T111129_DVP_RTC30_G_gpufem_4F11/S1A_IW_20191029T111129_DVP_RTC30_G_gpufem_4F11_VV.tif\n",
      "\n",
      "Dataset/Cambodia/RTC_GAMMA/S1A_IW_20191029T111129_DVP_RTC30_G_gpufem_4F11/S1A_IW_20191029T111129_DVP_RTC30_G_gpufem_4F11_VH.tif\n",
      "\n",
      "Dataset/Cambodia/RTC_GAMMA/S1A_IW_20230411T111144_DVP_RTC30_G_gpufem_81C2/S1A_IW_20230411T111144_DVP_RTC30_G_gpufem_81C2_VV.tif\n",
      "\n",
      "Dataset/Cambodia/RTC_GAMMA/S1A_IW_20230411T111144_DVP_RTC30_G_gpufem_81C2/S1A_IW_20230411T111144_DVP_RTC30_G_gpufem_81C2_VH.tif\n",
      "\n",
      "Dataset/Cambodia/RTC_GAMMA/S1A_IW_20190713T111125_DVP_RTC30_G_gpufem_DB85/S1A_IW_20190713T111125_DVP_RTC30_G_gpufem_DB85_VV.tif\n",
      "\n",
      "Dataset/Cambodia/RTC_GAMMA/S1A_IW_20190713T111125_DVP_RTC30_G_gpufem_DB85/S1A_IW_20190713T111125_DVP_RTC30_G_gpufem_DB85_VH.tif\n",
      "\n",
      "Dataset/Cambodia/RTC_GAMMA/S1A_IW_20210115T111133_DVP_RTC30_G_gpufem_2F58/S1A_IW_20210115T111133_DVP_RTC30_G_gpufem_2F58_VH.tif\n",
      "\n",
      "Dataset/Cambodia/RTC_GAMMA/S1A_IW_20210115T111133_DVP_RTC30_G_gpufem_2F58/S1A_IW_20210115T111133_DVP_RTC30_G_gpufem_2F58_VV.tif\n",
      "\n",
      "Dataset/Cambodia/RTC_GAMMA/S1A_IW_20171226T111114_DVP_RTC30_G_gpufem_ECBD/S1A_IW_20171226T111114_DVP_RTC30_G_gpufem_ECBD_VV.tif\n",
      "\n",
      "Dataset/Cambodia/RTC_GAMMA/S1A_IW_20171226T111114_DVP_RTC30_G_gpufem_ECBD/S1A_IW_20171226T111114_DVP_RTC30_G_gpufem_ECBD_VH.tif\n",
      "\n",
      "Dataset/Cambodia/RTC_GAMMA/S1A_IW_20211006T111141_DVP_RTC30_G_gpufem_317F/S1A_IW_20211006T111141_DVP_RTC30_G_gpufem_317F_VH.tif\n",
      "\n",
      "Dataset/Cambodia/RTC_GAMMA/S1A_IW_20211006T111141_DVP_RTC30_G_gpufem_317F/S1A_IW_20211006T111141_DVP_RTC30_G_gpufem_317F_VV.tif\n",
      "\n",
      "Dataset/Cambodia/RTC_GAMMA/S1A_IW_20230129T111144_DVP_RTC30_G_gpufem_A72B/S1A_IW_20230129T111144_DVP_RTC30_G_gpufem_A72B_VH.tif\n",
      "\n",
      "Dataset/Cambodia/RTC_GAMMA/S1A_IW_20230129T111144_DVP_RTC30_G_gpufem_A72B/S1A_IW_20230129T111144_DVP_RTC30_G_gpufem_A72B_VV.tif\n",
      "\n",
      "Dataset/Cambodia/RTC_GAMMA/S1A_IW_20211217T111140_DVP_RTC30_G_gpufem_EDAA/S1A_IW_20211217T111140_DVP_RTC30_G_gpufem_EDAA_VV.tif\n",
      "\n",
      "Dataset/Cambodia/RTC_GAMMA/S1A_IW_20211217T111140_DVP_RTC30_G_gpufem_EDAA/S1A_IW_20211217T111140_DVP_RTC30_G_gpufem_EDAA_VH.tif\n",
      "\n",
      "Dataset/Cambodia/RTC_GAMMA/S1A_IW_20221025T111147_DVP_RTC30_G_gpufem_3A17/S1A_IW_20221025T111147_DVP_RTC30_G_gpufem_3A17_VH.tif\n",
      "\n",
      "Dataset/Cambodia/RTC_GAMMA/S1A_IW_20221025T111147_DVP_RTC30_G_gpufem_3A17/S1A_IW_20221025T111147_DVP_RTC30_G_gpufem_3A17_VV.tif\n",
      "\n",
      "Dataset/Cambodia/RTC_GAMMA/S1A_IW_20200929T111135_DVP_RTC30_G_gpufem_6C9A/S1A_IW_20200929T111135_DVP_RTC30_G_gpufem_6C9A_VV.tif\n",
      "\n",
      "Dataset/Cambodia/RTC_GAMMA/S1A_IW_20200929T111135_DVP_RTC30_G_gpufem_6C9A/S1A_IW_20200929T111135_DVP_RTC30_G_gpufem_6C9A_VH.tif\n",
      "\n",
      "Dataset/Cambodia/RTC_GAMMA/S1A_IW_20181127T111122_DVP_RTC30_G_gpufem_FC9F/S1A_IW_20181127T111122_DVP_RTC30_G_gpufem_FC9F_VH.tif\n",
      "\n",
      "Dataset/Cambodia/RTC_GAMMA/S1A_IW_20181127T111122_DVP_RTC30_G_gpufem_FC9F/S1A_IW_20181127T111122_DVP_RTC30_G_gpufem_FC9F_VV.tif\n",
      "\n",
      "Dataset/Cambodia/RTC_GAMMA/S1A_IW_20220323T111138_DVP_RTC30_G_gpufem_2794/S1A_IW_20220323T111138_DVP_RTC30_G_gpufem_2794_VH.tif\n",
      "\n",
      "Dataset/Cambodia/RTC_GAMMA/S1A_IW_20220323T111138_DVP_RTC30_G_gpufem_2794/S1A_IW_20220323T111138_DVP_RTC30_G_gpufem_2794_VV.tif\n",
      "\n",
      "Dataset/Cambodia/RTC_GAMMA/S1A_IW_20201116T111135_DVP_RTC30_G_gpufem_6673/S1A_IW_20201116T111135_DVP_RTC30_G_gpufem_6673_VH.tif\n",
      "\n",
      "Dataset/Cambodia/RTC_GAMMA/S1A_IW_20201116T111135_DVP_RTC30_G_gpufem_6673/S1A_IW_20201116T111135_DVP_RTC30_G_gpufem_6673_VV.tif\n",
      "\n",
      "Dataset/Cambodia/RTC_GAMMA/S1A_IW_20200109T111127_DVP_RTC30_G_gpufem_BF47/S1A_IW_20200109T111127_DVP_RTC30_G_gpufem_BF47_VV.tif\n",
      "\n",
      "Dataset/Cambodia/RTC_GAMMA/S1A_IW_20200109T111127_DVP_RTC30_G_gpufem_BF47/S1A_IW_20200109T111127_DVP_RTC30_G_gpufem_BF47_VH.tif\n",
      "\n",
      "Dataset/Cambodia/RTC_GAMMA/S1A_IW_20200917T111135_DVP_RTC30_G_gpufem_AF63/S1A_IW_20200917T111135_DVP_RTC30_G_gpufem_AF63_VH.tif\n",
      "\n",
      "Dataset/Cambodia/RTC_GAMMA/S1A_IW_20200917T111135_DVP_RTC30_G_gpufem_AF63/S1A_IW_20200917T111135_DVP_RTC30_G_gpufem_AF63_VV.tif\n",
      "\n",
      "Dataset/Cambodia/RTC_GAMMA/S1A_IW_20180507T111115_DVP_RTC30_G_gpufem_119E/S1A_IW_20180507T111115_DVP_RTC30_G_gpufem_119E_VV.tif\n",
      "\n",
      "Dataset/Cambodia/RTC_GAMMA/S1A_IW_20180507T111115_DVP_RTC30_G_gpufem_119E/S1A_IW_20180507T111115_DVP_RTC30_G_gpufem_119E_VH.tif\n",
      "\n",
      "Dataset/Cambodia/RTC_GAMMA/S1A_IW_20210515T111134_DVP_RTC30_G_gpufem_0F9F/S1A_IW_20210515T111134_DVP_RTC30_G_gpufem_0F9F_VH.tif\n",
      "\n",
      "Dataset/Cambodia/RTC_GAMMA/S1A_IW_20210515T111134_DVP_RTC30_G_gpufem_0F9F/S1A_IW_20210515T111134_DVP_RTC30_G_gpufem_0F9F_VV.tif\n",
      "\n",
      "Dataset/Cambodia/RTC_GAMMA/S1A_IW_20190607T111123_DVP_RTC30_G_gpufem_6575/S1A_IW_20190607T111123_DVP_RTC30_G_gpufem_6575_VV.tif\n",
      "\n",
      "Dataset/Cambodia/RTC_GAMMA/S1A_IW_20190607T111123_DVP_RTC30_G_gpufem_6575/S1A_IW_20190607T111123_DVP_RTC30_G_gpufem_6575_VH.tif\n",
      "\n",
      "Dataset/Cambodia/RTC_GAMMA/S1A_IW_20190207T111119_DVP_RTC30_G_gpufem_D208/S1A_IW_20190207T111119_DVP_RTC30_G_gpufem_D208_VH.tif\n",
      "\n",
      "Dataset/Cambodia/RTC_GAMMA/S1A_IW_20190207T111119_DVP_RTC30_G_gpufem_D208/S1A_IW_20190207T111119_DVP_RTC30_G_gpufem_D208_VV.tif\n",
      "\n",
      "Dataset/Cambodia/RTC_GAMMA/S1A_IW_20200309T111126_DVP_RTC30_G_gpufem_AC1F/S1A_IW_20200309T111126_DVP_RTC30_G_gpufem_AC1F_VV.tif\n",
      "\n",
      "Dataset/Cambodia/RTC_GAMMA/S1A_IW_20200309T111126_DVP_RTC30_G_gpufem_AC1F/S1A_IW_20200309T111126_DVP_RTC30_G_gpufem_AC1F_VH.tif\n",
      "\n",
      "Dataset/Cambodia/RTC_GAMMA/S1A_IW_20200508T111128_DVP_RTC30_G_gpufem_7750/S1A_IW_20200508T111128_DVP_RTC30_G_gpufem_7750_VV.tif\n",
      "\n",
      "Dataset/Cambodia/RTC_GAMMA/S1A_IW_20200508T111128_DVP_RTC30_G_gpufem_7750/S1A_IW_20200508T111128_DVP_RTC30_G_gpufem_7750_VH.tif\n",
      "\n",
      "Dataset/Cambodia/RTC_GAMMA/S1A_IW_20180413T111114_DVP_RTC30_G_gpufem_0F5C/S1A_IW_20180413T111114_DVP_RTC30_G_gpufem_0F5C_VH.tif\n",
      "\n",
      "Dataset/Cambodia/RTC_GAMMA/S1A_IW_20180413T111114_DVP_RTC30_G_gpufem_0F5C/S1A_IW_20180413T111114_DVP_RTC30_G_gpufem_0F5C_VV.tif\n",
      "\n",
      "Dataset/Cambodia/RTC_GAMMA/S1A_IW_20221130T111146_DVP_RTC30_G_gpufem_A5F3/S1A_IW_20221130T111146_DVP_RTC30_G_gpufem_A5F3_VH.tif\n",
      "\n",
      "Dataset/Cambodia/RTC_GAMMA/S1A_IW_20221130T111146_DVP_RTC30_G_gpufem_A5F3/S1A_IW_20221130T111146_DVP_RTC30_G_gpufem_A5F3_VV.tif\n",
      "\n",
      "Dataset/Cambodia/RTC_GAMMA/S1A_IW_20190114T111120_DVP_RTC30_G_gpufem_6100/S1A_IW_20190114T111120_DVP_RTC30_G_gpufem_6100_VH.tif\n",
      "\n",
      "Dataset/Cambodia/RTC_GAMMA/S1A_IW_20190114T111120_DVP_RTC30_G_gpufem_6100/S1A_IW_20190114T111120_DVP_RTC30_G_gpufem_6100_VV.tif\n",
      "\n",
      "Dataset/Cambodia/RTC_GAMMA/S1A_IW_20220907T111147_DVP_RTC30_G_gpufem_147C/S1A_IW_20220907T111147_DVP_RTC30_G_gpufem_147C_VV.tif\n",
      "\n",
      "Dataset/Cambodia/RTC_GAMMA/S1A_IW_20220907T111147_DVP_RTC30_G_gpufem_147C/S1A_IW_20220907T111147_DVP_RTC30_G_gpufem_147C_VH.tif\n",
      "\n",
      "Dataset/Cambodia/RTC_GAMMA/S1A_IW_20180718T111119_DVP_RTC30_G_gpufem_5AE4/S1A_IW_20180718T111119_DVP_RTC30_G_gpufem_5AE4_VV.tif\n",
      "\n",
      "Dataset/Cambodia/RTC_GAMMA/S1A_IW_20180718T111119_DVP_RTC30_G_gpufem_5AE4/S1A_IW_20180718T111119_DVP_RTC30_G_gpufem_5AE4_VH.tif\n",
      "\n",
      "Dataset/Cambodia/RTC_GAMMA/S1A_IW_20200613T111130_DVP_RTC30_G_gpufem_9B14/S1A_IW_20200613T111130_DVP_RTC30_G_gpufem_9B14_VH.tif\n",
      "\n",
      "Dataset/Cambodia/RTC_GAMMA/S1A_IW_20200613T111130_DVP_RTC30_G_gpufem_9B14/S1A_IW_20200613T111130_DVP_RTC30_G_gpufem_9B14_VV.tif\n",
      "\n",
      "Dataset/Cambodia/RTC_GAMMA/S1A_IW_20200601T111129_DVP_RTC30_G_gpufem_28E3/S1A_IW_20200601T111129_DVP_RTC30_G_gpufem_28E3_VH.tif\n",
      "\n",
      "Dataset/Cambodia/RTC_GAMMA/S1A_IW_20200601T111129_DVP_RTC30_G_gpufem_28E3/S1A_IW_20200601T111129_DVP_RTC30_G_gpufem_28E3_VV.tif\n",
      "\n",
      "Dataset/Cambodia/RTC_GAMMA/S1A_IW_20230517T111145_DVP_RTC30_G_gpufem_2150/S1A_IW_20230517T111145_DVP_RTC30_G_gpufem_2150_VH.tif\n",
      "\n",
      "Dataset/Cambodia/RTC_GAMMA/S1A_IW_20230517T111145_DVP_RTC30_G_gpufem_2150/S1A_IW_20230517T111145_DVP_RTC30_G_gpufem_2150_VV.tif\n",
      "\n",
      "Dataset/Cambodia/RTC_GAMMA/S1A_IW_20201023T111136_DVP_RTC30_G_gpufem_CC84/S1A_IW_20201023T111136_DVP_RTC30_G_gpufem_CC84_VH.tif\n",
      "\n",
      "Dataset/Cambodia/RTC_GAMMA/S1A_IW_20201023T111136_DVP_RTC30_G_gpufem_CC84/S1A_IW_20201023T111136_DVP_RTC30_G_gpufem_CC84_VV.tif\n",
      "\n",
      "Dataset/Cambodia/RTC_GAMMA/S1A_IW_20220826T111146_DVP_RTC30_G_gpufem_B18C/S1A_IW_20220826T111146_DVP_RTC30_G_gpufem_B18C_VH.tif\n",
      "\n",
      "Dataset/Cambodia/RTC_GAMMA/S1A_IW_20220826T111146_DVP_RTC30_G_gpufem_B18C/S1A_IW_20220826T111146_DVP_RTC30_G_gpufem_B18C_VV.tif\n",
      "\n",
      "Dataset/Cambodia/RTC_GAMMA/S1A_IW_20210328T111132_DVP_RTC30_G_gpufem_1F7C/S1A_IW_20210328T111132_DVP_RTC30_G_gpufem_1F7C_VH.tif\n",
      "\n",
      "Dataset/Cambodia/RTC_GAMMA/S1A_IW_20210328T111132_DVP_RTC30_G_gpufem_1F7C/S1A_IW_20210328T111132_DVP_RTC30_G_gpufem_1F7C_VV.tif\n",
      "\n",
      "Dataset/Cambodia/RTC_GAMMA/S1A_IW_20211123T111141_DVP_RTC30_G_gpufem_5510/S1A_IW_20211123T111141_DVP_RTC30_G_gpufem_5510_VH.tif\n",
      "\n",
      "Dataset/Cambodia/RTC_GAMMA/S1A_IW_20211123T111141_DVP_RTC30_G_gpufem_5510/S1A_IW_20211123T111141_DVP_RTC30_G_gpufem_5510_VV.tif\n",
      "\n",
      "Dataset/Cambodia/RTC_GAMMA/S1A_IW_20180823T111121_DVP_RTC30_G_gpufem_B833/S1A_IW_20180823T111121_DVP_RTC30_G_gpufem_B833_VH.tif\n",
      "\n",
      "Dataset/Cambodia/RTC_GAMMA/S1A_IW_20180823T111121_DVP_RTC30_G_gpufem_B833/S1A_IW_20180823T111121_DVP_RTC30_G_gpufem_B833_VV.tif\n",
      "\n",
      "Dataset/Cambodia/RTC_GAMMA/S1A_IW_20180131T111113_DVP_RTC30_G_gpufem_955B/S1A_IW_20180131T111113_DVP_RTC30_G_gpufem_955B_VV.tif\n",
      "\n",
      "Dataset/Cambodia/RTC_GAMMA/S1A_IW_20180131T111113_DVP_RTC30_G_gpufem_955B/S1A_IW_20180131T111113_DVP_RTC30_G_gpufem_955B_VH.tif\n",
      "\n"
     ]
    }
   ],
   "source": [
    "if not autorift:\n",
    "    product_paths = get_product_paths(regex, product_pth)\n",
    "    dem_paths = get_product_paths(r'dem.tif$', dems_pth)\n",
    "    print_product_paths(product_paths)"
   ]
  },
  {
   "cell_type": "markdown",
   "metadata": {},
   "source": [
    "---\n",
    "## 1.3 Merge multiple frames from the same date.\n",
    "\n",
    "You may notice duplicates in your acquisition dates. As HyP3 processes SAR data on a frame-by-frame basis, duplicates may occur if your area of interest is covered by two consecutive image frames. In this case, two separate images are generated that need to be merged together before time series processing can commence. Currently we only merge RTCs.\n",
    "\n",
    "**Create a directory in which to store the reprojected and merged RTCs, and one directory for the DEMs:**"
   ]
  },
  {
   "cell_type": "code",
   "execution_count": 34,
   "metadata": {},
   "outputs": [
    {
     "name": "stdout",
     "output_type": "stream",
     "text": [
      "Current working directory: /home/jovyan/Hydrosar/Dataset/Cambodia\n"
     ]
    },
    {
     "name": "stdin",
     "output_type": "stream",
     "text": [
      "\n",
      "Please enter the name of a directory in which to store the tiffs and dems. Cambodia\n"
     ]
    }
   ],
   "source": [
    "while True:\n",
    "    print(f\"Current working directory: {analysis_directory}\")\n",
    "    name = (input(f\"\\nPlease enter the name of a directory in which to store the tiffs and dems.\"))\n",
    "    output_dir_path_tiffs = analysis_directory.joinpath(f\"{job_type.value}_{name}_tiffs\")\n",
    "    output_dir_path_dem = analysis_directory.joinpath(f\"{job_type.value}_{name}_dems\")\n",
    "    \n",
    "    if output_dir_path_tiffs == Path('.'):\n",
    "        continue\n",
    "    if output_dir_path_tiffs.is_dir():\n",
    "        contents = output_dir_path_tiffs.glob('*')\n",
    "        if len(list(contents)) > 0:\n",
    "            choice = asfn.handle_old_data(output_dir_path_tiffs)\n",
    "            if choice == 1:\n",
    "                if output_dir_path_tiffs.exists():\n",
    "                    shutil.rmtree(output_dir_path_tiffs)\n",
    "                output_dir_path_tiffs.mkdir(parents=True, exist_ok=True)\n",
    "                output_dir_path_dem.mkdir(parents=True, exist_ok=True)\n",
    "                break\n",
    "            elif choice == 2:\n",
    "                break\n",
    "            else:\n",
    "                clear_output()\n",
    "                continue\n",
    "        else:\n",
    "            break\n",
    "    else:\n",
    "        output_dir_path_tiffs.mkdir(parents=True, exist_ok=True)\n",
    "        output_dir_path_dem.mkdir(parents=True, exist_ok=True)\n",
    "        break"
   ]
  },
  {
   "cell_type": "markdown",
   "metadata": {},
   "source": [
    "**Create a set from the date list, removing any duplicates:**"
   ]
  },
  {
   "cell_type": "code",
   "execution_count": 35,
   "metadata": {},
   "outputs": [
    {
     "name": "stdout",
     "output_type": "stream",
     "text": [
      "['20210103', '20210103', '20230622', '20230622', '20180928', '20180928', '20191204', '20191204', '20200226', '20200226', '20190806', '20190806', '20190725', '20190725', '20221013', '20221013', '20171214', '20171214', '20210819', '20210819', '20180308', '20180308', '20191017', '20191017', '20221224', '20221224', '20230105', '20230105', '20180212', '20180212', '20210527', '20210527', '20210714', '20210714', '20200214', '20200214', '20220802', '20220802', '20200824', '20200824', '20220215', '20220215', '20200812', '20200812', '20180401', '20180401', '20190923', '20190923', '20210912', '20210912', '20210127', '20210127', '20220603', '20220603', '20180320', '20180320', '20211229', '20211229', '20220404', '20220404', '20221001', '20221001', '20200426', '20200426', '20180531', '20180531', '20200414', '20200414', '20180425', '20180425', '20190102', '20190102', '20190818', '20190818', '20200121', '20200121', '20230318', '20230318', '20180624', '20180624', '20191216', '20191216', '20211018', '20211018', '20200707', '20200707', '20220919', '20220919', '20220110', '20220110', '20181010', '20181010', '20200731', '20200731', '20201104', '20201104', '20180811', '20180811', '20210702', '20210702', '20180119', '20180119', '20190303', '20190303', '20201210', '20201210', '20190619', '20190619', '20220416', '20220416', '20191110', '20191110', '20220311', '20220311', '20180519', '20180519', '20220428', '20220428', '20201128', '20201128', '20180107', '20180107', '20181103', '20181103', '20220510', '20220510', '20181209', '20181209', '20171015', '20171015', '20190701', '20190701', '20200321', '20200321', '20230117', '20230117', '20230529', '20230529', '20210304', '20210304', '20190526', '20190526', '20221212', '20221212', '20230306', '20230306', '20210726', '20210726', '20190315', '20190315', '20211205', '20211205', '20190830', '20190830', '20190502', '20190502', '20210831', '20210831', '20190408', '20190408', '20220721', '20220721', '20171120', '20171120', '20230505', '20230505', '20171108', '20171108', '20210924', '20210924', '20210807', '20210807', '20200202', '20200202', '20211030', '20211030', '20210316', '20210316', '20210608', '20210608', '20180904', '20180904', '20210421', '20210421', '20220627', '20220627', '20210220', '20210220', '20221106', '20221106', '20220227', '20220227', '20171202', '20171202', '20191228', '20191228', '20200905', '20200905', '20210409', '20210409', '20190219', '20190219', '20181022', '20181022', '20210208', '20210208', '20191122', '20191122', '20181221', '20181221', '20181115', '20181115', '20210503', '20210503', '20230210', '20230210', '20180730', '20180730', '20201222', '20201222', '20220522', '20220522', '20190420', '20190420', '20190327', '20190327', '20230423', '20230423', '20211111', '20211111', '20220203', '20220203', '20220122', '20220122', '20190911', '20190911', '20180224', '20180224', '20180612', '20180612', '20220814', '20220814', '20200402', '20200402', '20200719', '20200719', '20221118', '20221118', '20200625', '20200625', '20210620', '20210620', '20220709', '20220709', '20190514', '20190514', '20190126', '20190126', '20230330', '20230330', '20200520', '20200520', '20171027', '20171027', '20220615', '20220615', '20180916', '20180916', '20191005', '20191005', '20201011', '20201011', '20230222', '20230222', '20191029', '20191029', '20230411', '20230411', '20190713', '20190713', '20210115', '20210115', '20171226', '20171226', '20211006', '20211006', '20230129', '20230129', '20211217', '20211217', '20221025', '20221025', '20200929', '20200929', '20181127', '20181127', '20220323', '20220323', '20201116', '20201116', '20200109', '20200109', '20200917', '20200917', '20180507', '20180507', '20210515', '20210515', '20190607', '20190607', '20190207', '20190207', '20200309', '20200309', '20200508', '20200508', '20180413', '20180413', '20221130', '20221130', '20190114', '20190114', '20220907', '20220907', '20180718', '20180718', '20200613', '20200613', '20200601', '20200601', '20230517', '20230517', '20201023', '20201023', '20220826', '20220826', '20210328', '20210328', '20211123', '20211123', '20180823', '20180823', '20180131', '20180131']\n",
      "{'20221224', '20230210', '20221212', '20210807', '20190911', '20220122', '20210115', '20190315', '20211006', '20230330', '20230117', '20200731', '20200929', '20211229', '20210304', '20171226', '20180413', '20230529', '20190701', '20230411', '20220919', '20200309', '20210316', '20180928', '20220215', '20221013', '20180904', '20181022', '20190420', '20220203', '20180823', '20171120', '20200601', '20220110', '20220404', '20171015', '20190923', '20211018', '20201128', '20210819', '20180320', '20180730', '20180107', '20171108', '20180624', '20200625', '20210103', '20171214', '20210328', '20210702', '20220510', '20230306', '20211205', '20191005', '20211030', '20190806', '20190114', '20220802', '20171027', '20220416', '20181209', '20180718', '20190514', '20220603', '20200613', '20191017', '20190725', '20200226', '20190502', '20180224', '20190818', '20210831', '20220907', '20221106', '20191228', '20180916', '20190219', '20210503', '20200214', '20201116', '20230423', '20180612', '20180507', '20180308', '20190619', '20220709', '20221025', '20210924', '20230129', '20180119', '20230622', '20200414', '20200508', '20220522', '20220428', '20211217', '20181115', '20191216', '20210409', '20181221', '20201222', '20180131', '20190207', '20191029', '20191110', '20210220', '20200402', '20230505', '20200202', '20180401', '20220227', '20201104', '20190303', '20190327', '20220721', '20220826', '20200905', '20201011', '20230318', '20200426', '20210421', '20171202', '20201210', '20211123', '20180425', '20201023', '20210608', '20230517', '20210620', '20200812', '20190713', '20181103', '20221130', '20181127', '20190408', '20210912', '20181010', '20230105', '20210714', '20180519', '20190102', '20200121', '20210515', '20200719', '20220323', '20221118', '20220311', '20200824', '20210208', '20220627', '20180531', '20191204', '20190126', '20210527', '20200520', '20211111', '20200321', '20200917', '20191122', '20180212', '20210127', '20200109', '20190526', '20190830', '20200707', '20190607', '20220615', '20220814', '20221001', '20230222', '20180811', '20210726'}\n"
     ]
    }
   ],
   "source": [
    "if rtc:\n",
    "    dates = get_dates(product_paths)\n",
    "    print(dates)\n",
    "    unique_dates = set(dates)\n",
    "    print(unique_dates)"
   ]
  },
  {
   "cell_type": "markdown",
   "metadata": {},
   "source": [
    "**Determine which dates have multiple frames. Create a dictionary with each date as a key linked to a value set as an empty string:**"
   ]
  },
  {
   "cell_type": "code",
   "execution_count": 36,
   "metadata": {},
   "outputs": [
    {
     "name": "stdout",
     "output_type": "stream",
     "text": [
      "[{}, {}]\n"
     ]
    }
   ],
   "source": [
    "if rtc: \n",
    "    dup_date_batches = [{}]\n",
    "    for date in unique_dates:\n",
    "        count = 0\n",
    "        for d in dates:\n",
    "            if date == d:\n",
    "                count +=1\n",
    "        if (dbl_polar and count > 2) or (not dbl_polar and count > 1):\n",
    "            dup_date_batches[0].update({date : \"\"})\n",
    "    if dbl_polar:\n",
    "        dup_date_batches.append(copy.deepcopy(dup_date_batches[0]))\n",
    "    print(dup_date_batches)"
   ]
  },
  {
   "cell_type": "markdown",
   "metadata": {},
   "source": [
    "**Update the key values in dup_paths with the string paths to all the tiffs for each date:**"
   ]
  },
  {
   "cell_type": "code",
   "execution_count": 37,
   "metadata": {},
   "outputs": [
    {
     "name": "stdout",
     "output_type": "stream",
     "text": [
      "{}\n",
      "\n",
      "\n",
      "{}\n",
      "\n",
      "\n"
     ]
    }
   ],
   "source": [
    "if rtc:\n",
    "    if dbl_polar:\n",
    "        polar_list = [polarization.split(' ')[0], polarization.split(' ')[2]]\n",
    "    else:\n",
    "        polar_list = [polarization]\n",
    "\n",
    "    for i, polar in enumerate(polar_list):\n",
    "        polar_path_regex = f\"(\\w|/)*_{polar}.(tif|tiff)$\"\n",
    "        polar_paths = get_product_paths(polar_path_regex, product_pth)\n",
    "        for pth in polar_paths:\n",
    "            date = asfn.date_from_product_name(str(pth)).split('T')[0]\n",
    "            if date in dup_date_batches[i]:\n",
    "                dup_date_batches[i][date] = f\"{dup_date_batches[i][date]} {str(pth)}\"\n",
    "\n",
    "    for d in dup_date_batches:\n",
    "        print(d)\n",
    "        print(\"\\n\")"
   ]
  },
  {
   "cell_type": "markdown",
   "metadata": {},
   "source": [
    "**Merge all the frames for each date, save the results to the output directory, and delete the original tiffs.**"
   ]
  },
  {
   "cell_type": "code",
   "execution_count": 38,
   "metadata": {},
   "outputs": [],
   "source": [
    "if rtc and len(dup_date_batches[0]) > 0:\n",
    "    for i, dup_dates in enumerate(dup_date_batches):\n",
    "        polar_regex = \"(?<=_)(vh|VH|vv|VV)(?=.tif{1,2})\"\n",
    "        polar = re.search(polar_regex, dup_dates[list(dup_dates)[0]])\n",
    "        if polar:\n",
    "            polar = f'_{polar.group(0)}'\n",
    "        else:\n",
    "            polar = ''\n",
    "        for dup_date in dup_dates:\n",
    "#             print(f\"\\n\\n{dup_dates[dup_date]}\")\n",
    "            output = f\"{str(output_dir_path_tiffs)}/merged_{dup_date}T999999{polar}{product_paths[0].suffix}\"\n",
    "            gdal_command = f\"gdal_merge.py -o {output} {dup_dates[dup_date]}\"\n",
    "            print(f\"\\n\\nCalling the command: {gdal_command}\\n\")\n",
    "            !$gdal_command\n",
    "            for pth in dup_dates[dup_date].split(' '):\n",
    "                path = Path(pth)\n",
    "                if path and path.is_file():\n",
    "                    path.unlink()\n",
    "                    print(f\"Deleting: {str(pth)}\")"
   ]
  },
  {
   "cell_type": "markdown",
   "metadata": {},
   "source": [
    "---\n",
    "**Verify that all duplicate dates were resolved:**"
   ]
  },
  {
   "cell_type": "code",
   "execution_count": 39,
   "metadata": {},
   "outputs": [
    {
     "name": "stdout",
     "output_type": "stream",
     "text": [
      "No duplicate dates are associated with VH polarization.\n",
      "No duplicate dates are associated with VV polarization.\n"
     ]
    }
   ],
   "source": [
    "if rtc:\n",
    "    product_paths = get_product_paths(regex, product_pth)\n",
    "    for polar in polar_list:\n",
    "        polar_product_pth = product_pth.replace('V*', polar)\n",
    "        polar_product_paths = get_product_paths(regex, polar_product_pth)\n",
    "        dates = get_dates(polar_product_paths)\n",
    "        if len(dates) != len(set(dates)):\n",
    "            print(f\"Duplicate dates still present!\")\n",
    "        else:\n",
    "            print(f\"No duplicate dates are associated with {polar} polarization.\")"
   ]
  },
  {
   "cell_type": "markdown",
   "metadata": {},
   "source": [
    "**Print the updated the paths to all remaining non-merged tiffs:**"
   ]
  },
  {
   "cell_type": "code",
   "execution_count": 40,
   "metadata": {},
   "outputs": [
    {
     "name": "stdout",
     "output_type": "stream",
     "text": [
      "Tiff paths:\n",
      "Dataset/Cambodia/RTC_GAMMA/S1A_IW_20210103T111133_DVP_RTC30_G_gpufem_0BE4/S1A_IW_20210103T111133_DVP_RTC30_G_gpufem_0BE4_VV.tif\n",
      "\n",
      "Dataset/Cambodia/RTC_GAMMA/S1A_IW_20210103T111133_DVP_RTC30_G_gpufem_0BE4/S1A_IW_20210103T111133_DVP_RTC30_G_gpufem_0BE4_VH.tif\n",
      "\n",
      "Dataset/Cambodia/RTC_GAMMA/S1A_IW_20230622T111147_DVR_RTC30_G_gpufem_DADC/S1A_IW_20230622T111147_DVR_RTC30_G_gpufem_DADC_VH.tif\n",
      "\n",
      "Dataset/Cambodia/RTC_GAMMA/S1A_IW_20230622T111147_DVR_RTC30_G_gpufem_DADC/S1A_IW_20230622T111147_DVR_RTC30_G_gpufem_DADC_VV.tif\n",
      "\n",
      "Dataset/Cambodia/RTC_GAMMA/S1A_IW_20180928T111123_DVP_RTC30_G_gpufem_A976/S1A_IW_20180928T111123_DVP_RTC30_G_gpufem_A976_VV.tif\n",
      "\n",
      "Dataset/Cambodia/RTC_GAMMA/S1A_IW_20180928T111123_DVP_RTC30_G_gpufem_A976/S1A_IW_20180928T111123_DVP_RTC30_G_gpufem_A976_VH.tif\n",
      "\n",
      "Dataset/Cambodia/RTC_GAMMA/S1A_IW_20191204T111128_DVP_RTC30_G_gpufem_380E/S1A_IW_20191204T111128_DVP_RTC30_G_gpufem_380E_VV.tif\n",
      "\n",
      "Dataset/Cambodia/RTC_GAMMA/S1A_IW_20191204T111128_DVP_RTC30_G_gpufem_380E/S1A_IW_20191204T111128_DVP_RTC30_G_gpufem_380E_VH.tif\n",
      "\n",
      "Dataset/Cambodia/RTC_GAMMA/S1A_IW_20200226T111126_DVP_RTC30_G_gpufem_3845/S1A_IW_20200226T111126_DVP_RTC30_G_gpufem_3845_VV.tif\n",
      "\n",
      "Dataset/Cambodia/RTC_GAMMA/S1A_IW_20200226T111126_DVP_RTC30_G_gpufem_3845/S1A_IW_20200226T111126_DVP_RTC30_G_gpufem_3845_VH.tif\n",
      "\n",
      "Dataset/Cambodia/RTC_GAMMA/S1A_IW_20190806T111127_DVP_RTC30_G_gpufem_5C98/S1A_IW_20190806T111127_DVP_RTC30_G_gpufem_5C98_VV.tif\n",
      "\n",
      "Dataset/Cambodia/RTC_GAMMA/S1A_IW_20190806T111127_DVP_RTC30_G_gpufem_5C98/S1A_IW_20190806T111127_DVP_RTC30_G_gpufem_5C98_VH.tif\n",
      "\n",
      "Dataset/Cambodia/RTC_GAMMA/S1A_IW_20190725T111126_DVP_RTC30_G_gpufem_A4F6/S1A_IW_20190725T111126_DVP_RTC30_G_gpufem_A4F6_VH.tif\n",
      "\n",
      "Dataset/Cambodia/RTC_GAMMA/S1A_IW_20190725T111126_DVP_RTC30_G_gpufem_A4F6/S1A_IW_20190725T111126_DVP_RTC30_G_gpufem_A4F6_VV.tif\n",
      "\n",
      "Dataset/Cambodia/RTC_GAMMA/S1A_IW_20221013T111147_DVP_RTC30_G_gpufem_C03E/S1A_IW_20221013T111147_DVP_RTC30_G_gpufem_C03E_VV.tif\n",
      "\n",
      "Dataset/Cambodia/RTC_GAMMA/S1A_IW_20221013T111147_DVP_RTC30_G_gpufem_C03E/S1A_IW_20221013T111147_DVP_RTC30_G_gpufem_C03E_VH.tif\n",
      "\n",
      "Dataset/Cambodia/RTC_GAMMA/S1A_IW_20171214T111115_DVP_RTC30_G_gpufem_52D2/S1A_IW_20171214T111115_DVP_RTC30_G_gpufem_52D2_VH.tif\n",
      "\n",
      "Dataset/Cambodia/RTC_GAMMA/S1A_IW_20171214T111115_DVP_RTC30_G_gpufem_52D2/S1A_IW_20171214T111115_DVP_RTC30_G_gpufem_52D2_VV.tif\n",
      "\n",
      "Dataset/Cambodia/RTC_GAMMA/S1A_IW_20210819T111139_DVP_RTC30_G_gpufem_A578/S1A_IW_20210819T111139_DVP_RTC30_G_gpufem_A578_VH.tif\n",
      "\n",
      "Dataset/Cambodia/RTC_GAMMA/S1A_IW_20210819T111139_DVP_RTC30_G_gpufem_A578/S1A_IW_20210819T111139_DVP_RTC30_G_gpufem_A578_VV.tif\n",
      "\n",
      "Dataset/Cambodia/RTC_GAMMA/S1A_IW_20180308T111113_DVP_RTC30_G_gpufem_49B2/S1A_IW_20180308T111113_DVP_RTC30_G_gpufem_49B2_VH.tif\n",
      "\n",
      "Dataset/Cambodia/RTC_GAMMA/S1A_IW_20180308T111113_DVP_RTC30_G_gpufem_49B2/S1A_IW_20180308T111113_DVP_RTC30_G_gpufem_49B2_VV.tif\n",
      "\n",
      "Dataset/Cambodia/RTC_GAMMA/S1A_IW_20191017T111129_DVP_RTC30_G_gpufem_4389/S1A_IW_20191017T111129_DVP_RTC30_G_gpufem_4389_VV.tif\n",
      "\n",
      "Dataset/Cambodia/RTC_GAMMA/S1A_IW_20191017T111129_DVP_RTC30_G_gpufem_4389/S1A_IW_20191017T111129_DVP_RTC30_G_gpufem_4389_VH.tif\n",
      "\n",
      "Dataset/Cambodia/RTC_GAMMA/S1A_IW_20221224T111145_DVP_RTC30_G_gpufem_6065/S1A_IW_20221224T111145_DVP_RTC30_G_gpufem_6065_VV.tif\n",
      "\n",
      "Dataset/Cambodia/RTC_GAMMA/S1A_IW_20221224T111145_DVP_RTC30_G_gpufem_6065/S1A_IW_20221224T111145_DVP_RTC30_G_gpufem_6065_VH.tif\n",
      "\n",
      "Dataset/Cambodia/RTC_GAMMA/S1A_IW_20230105T111144_DVP_RTC30_G_gpufem_0633/S1A_IW_20230105T111144_DVP_RTC30_G_gpufem_0633_VV.tif\n",
      "\n",
      "Dataset/Cambodia/RTC_GAMMA/S1A_IW_20230105T111144_DVP_RTC30_G_gpufem_0633/S1A_IW_20230105T111144_DVP_RTC30_G_gpufem_0633_VH.tif\n",
      "\n",
      "Dataset/Cambodia/RTC_GAMMA/S1A_IW_20180212T111113_DVP_RTC30_G_gpufem_581E/S1A_IW_20180212T111113_DVP_RTC30_G_gpufem_581E_VV.tif\n",
      "\n",
      "Dataset/Cambodia/RTC_GAMMA/S1A_IW_20180212T111113_DVP_RTC30_G_gpufem_581E/S1A_IW_20180212T111113_DVP_RTC30_G_gpufem_581E_VH.tif\n",
      "\n",
      "Dataset/Cambodia/RTC_GAMMA/S1A_IW_20210527T111135_DVP_RTC30_G_gpufem_F4C4/S1A_IW_20210527T111135_DVP_RTC30_G_gpufem_F4C4_VV.tif\n",
      "\n",
      "Dataset/Cambodia/RTC_GAMMA/S1A_IW_20210527T111135_DVP_RTC30_G_gpufem_F4C4/S1A_IW_20210527T111135_DVP_RTC30_G_gpufem_F4C4_VH.tif\n",
      "\n",
      "Dataset/Cambodia/RTC_GAMMA/S1A_IW_20210714T111138_DVP_RTC30_G_gpufem_F6C3/S1A_IW_20210714T111138_DVP_RTC30_G_gpufem_F6C3_VV.tif\n",
      "\n",
      "Dataset/Cambodia/RTC_GAMMA/S1A_IW_20210714T111138_DVP_RTC30_G_gpufem_F6C3/S1A_IW_20210714T111138_DVP_RTC30_G_gpufem_F6C3_VH.tif\n",
      "\n",
      "Dataset/Cambodia/RTC_GAMMA/S1A_IW_20200214T111126_DVP_RTC30_G_gpufem_299B/S1A_IW_20200214T111126_DVP_RTC30_G_gpufem_299B_VV.tif\n",
      "\n",
      "Dataset/Cambodia/RTC_GAMMA/S1A_IW_20200214T111126_DVP_RTC30_G_gpufem_299B/S1A_IW_20200214T111126_DVP_RTC30_G_gpufem_299B_VH.tif\n",
      "\n",
      "Dataset/Cambodia/RTC_GAMMA/S1A_IW_20220802T111145_DVP_RTC30_G_gpufem_71B5/S1A_IW_20220802T111145_DVP_RTC30_G_gpufem_71B5_VH.tif\n",
      "\n",
      "Dataset/Cambodia/RTC_GAMMA/S1A_IW_20220802T111145_DVP_RTC30_G_gpufem_71B5/S1A_IW_20220802T111145_DVP_RTC30_G_gpufem_71B5_VV.tif\n",
      "\n",
      "Dataset/Cambodia/RTC_GAMMA/S1A_IW_20200824T111134_DVP_RTC30_G_gpufem_3B79/S1A_IW_20200824T111134_DVP_RTC30_G_gpufem_3B79_VV.tif\n",
      "\n",
      "Dataset/Cambodia/RTC_GAMMA/S1A_IW_20200824T111134_DVP_RTC30_G_gpufem_3B79/S1A_IW_20200824T111134_DVP_RTC30_G_gpufem_3B79_VH.tif\n",
      "\n",
      "Dataset/Cambodia/RTC_GAMMA/S1A_IW_20220215T111137_DVP_RTC30_G_gpufem_415A/S1A_IW_20220215T111137_DVP_RTC30_G_gpufem_415A_VV.tif\n",
      "\n",
      "Dataset/Cambodia/RTC_GAMMA/S1A_IW_20220215T111137_DVP_RTC30_G_gpufem_415A/S1A_IW_20220215T111137_DVP_RTC30_G_gpufem_415A_VH.tif\n",
      "\n",
      "Dataset/Cambodia/RTC_GAMMA/S1A_IW_20200812T111133_DVP_RTC30_G_gpufem_AF7C/S1A_IW_20200812T111133_DVP_RTC30_G_gpufem_AF7C_VV.tif\n",
      "\n",
      "Dataset/Cambodia/RTC_GAMMA/S1A_IW_20200812T111133_DVP_RTC30_G_gpufem_AF7C/S1A_IW_20200812T111133_DVP_RTC30_G_gpufem_AF7C_VH.tif\n",
      "\n",
      "Dataset/Cambodia/RTC_GAMMA/S1A_IW_20180401T111113_DVP_RTC30_G_gpufem_E0C3/S1A_IW_20180401T111113_DVP_RTC30_G_gpufem_E0C3_VH.tif\n",
      "\n",
      "Dataset/Cambodia/RTC_GAMMA/S1A_IW_20180401T111113_DVP_RTC30_G_gpufem_E0C3/S1A_IW_20180401T111113_DVP_RTC30_G_gpufem_E0C3_VV.tif\n",
      "\n",
      "Dataset/Cambodia/RTC_GAMMA/S1A_IW_20190923T111129_DVP_RTC30_G_gpufem_8986/S1A_IW_20190923T111129_DVP_RTC30_G_gpufem_8986_VH.tif\n",
      "\n",
      "Dataset/Cambodia/RTC_GAMMA/S1A_IW_20190923T111129_DVP_RTC30_G_gpufem_8986/S1A_IW_20190923T111129_DVP_RTC30_G_gpufem_8986_VV.tif\n",
      "\n",
      "Dataset/Cambodia/RTC_GAMMA/S1A_IW_20210912T111141_DVP_RTC30_G_gpufem_0F27/S1A_IW_20210912T111141_DVP_RTC30_G_gpufem_0F27_VV.tif\n",
      "\n",
      "Dataset/Cambodia/RTC_GAMMA/S1A_IW_20210912T111141_DVP_RTC30_G_gpufem_0F27/S1A_IW_20210912T111141_DVP_RTC30_G_gpufem_0F27_VH.tif\n",
      "\n",
      "Dataset/Cambodia/RTC_GAMMA/S1A_IW_20210127T111132_DVP_RTC30_G_gpufem_03A7/S1A_IW_20210127T111132_DVP_RTC30_G_gpufem_03A7_VV.tif\n",
      "\n",
      "Dataset/Cambodia/RTC_GAMMA/S1A_IW_20210127T111132_DVP_RTC30_G_gpufem_03A7/S1A_IW_20210127T111132_DVP_RTC30_G_gpufem_03A7_VH.tif\n",
      "\n",
      "Dataset/Cambodia/RTC_GAMMA/S1A_IW_20220603T111141_DVP_RTC30_G_gpufem_0E96/S1A_IW_20220603T111141_DVP_RTC30_G_gpufem_0E96_VH.tif\n",
      "\n",
      "Dataset/Cambodia/RTC_GAMMA/S1A_IW_20220603T111141_DVP_RTC30_G_gpufem_0E96/S1A_IW_20220603T111141_DVP_RTC30_G_gpufem_0E96_VV.tif\n",
      "\n",
      "Dataset/Cambodia/RTC_GAMMA/S1A_IW_20180320T111113_DVP_RTC30_G_gpufem_FACE/S1A_IW_20180320T111113_DVP_RTC30_G_gpufem_FACE_VH.tif\n",
      "\n",
      "Dataset/Cambodia/RTC_GAMMA/S1A_IW_20180320T111113_DVP_RTC30_G_gpufem_FACE/S1A_IW_20180320T111113_DVP_RTC30_G_gpufem_FACE_VV.tif\n",
      "\n",
      "Dataset/Cambodia/RTC_GAMMA/S1A_IW_20211229T111139_DVP_RTC30_G_gpufem_AA81/S1A_IW_20211229T111139_DVP_RTC30_G_gpufem_AA81_VV.tif\n",
      "\n",
      "Dataset/Cambodia/RTC_GAMMA/S1A_IW_20211229T111139_DVP_RTC30_G_gpufem_AA81/S1A_IW_20211229T111139_DVP_RTC30_G_gpufem_AA81_VH.tif\n",
      "\n",
      "Dataset/Cambodia/RTC_GAMMA/S1A_IW_20220404T111138_DVP_RTC30_G_gpufem_E130/S1A_IW_20220404T111138_DVP_RTC30_G_gpufem_E130_VV.tif\n",
      "\n",
      "Dataset/Cambodia/RTC_GAMMA/S1A_IW_20220404T111138_DVP_RTC30_G_gpufem_E130/S1A_IW_20220404T111138_DVP_RTC30_G_gpufem_E130_VH.tif\n",
      "\n",
      "Dataset/Cambodia/RTC_GAMMA/S1A_IW_20221001T111147_DVP_RTC30_G_gpufem_EDEC/S1A_IW_20221001T111147_DVP_RTC30_G_gpufem_EDEC_VV.tif\n",
      "\n",
      "Dataset/Cambodia/RTC_GAMMA/S1A_IW_20221001T111147_DVP_RTC30_G_gpufem_EDEC/S1A_IW_20221001T111147_DVP_RTC30_G_gpufem_EDEC_VH.tif\n",
      "\n",
      "Dataset/Cambodia/RTC_GAMMA/S1A_IW_20200426T111127_DVP_RTC30_G_gpufem_6DA1/S1A_IW_20200426T111127_DVP_RTC30_G_gpufem_6DA1_VH.tif\n",
      "\n",
      "Dataset/Cambodia/RTC_GAMMA/S1A_IW_20200426T111127_DVP_RTC30_G_gpufem_6DA1/S1A_IW_20200426T111127_DVP_RTC30_G_gpufem_6DA1_VV.tif\n",
      "\n",
      "Dataset/Cambodia/RTC_GAMMA/S1A_IW_20180531T111116_DVP_RTC30_G_gpufem_1142/S1A_IW_20180531T111116_DVP_RTC30_G_gpufem_1142_VH.tif\n",
      "\n",
      "Dataset/Cambodia/RTC_GAMMA/S1A_IW_20180531T111116_DVP_RTC30_G_gpufem_1142/S1A_IW_20180531T111116_DVP_RTC30_G_gpufem_1142_VV.tif\n",
      "\n",
      "Dataset/Cambodia/RTC_GAMMA/S1A_IW_20200414T111127_DVP_RTC30_G_gpufem_F738/S1A_IW_20200414T111127_DVP_RTC30_G_gpufem_F738_VV.tif\n",
      "\n",
      "Dataset/Cambodia/RTC_GAMMA/S1A_IW_20200414T111127_DVP_RTC30_G_gpufem_F738/S1A_IW_20200414T111127_DVP_RTC30_G_gpufem_F738_VH.tif\n",
      "\n",
      "Dataset/Cambodia/RTC_GAMMA/S1A_IW_20180425T111114_DVP_RTC30_G_gpufem_31ED/S1A_IW_20180425T111114_DVP_RTC30_G_gpufem_31ED_VV.tif\n",
      "\n",
      "Dataset/Cambodia/RTC_GAMMA/S1A_IW_20180425T111114_DVP_RTC30_G_gpufem_31ED/S1A_IW_20180425T111114_DVP_RTC30_G_gpufem_31ED_VH.tif\n",
      "\n",
      "Dataset/Cambodia/RTC_GAMMA/S1A_IW_20190102T111121_DVP_RTC30_G_gpufem_A8D7/S1A_IW_20190102T111121_DVP_RTC30_G_gpufem_A8D7_VH.tif\n",
      "\n",
      "Dataset/Cambodia/RTC_GAMMA/S1A_IW_20190102T111121_DVP_RTC30_G_gpufem_A8D7/S1A_IW_20190102T111121_DVP_RTC30_G_gpufem_A8D7_VV.tif\n",
      "\n",
      "Dataset/Cambodia/RTC_GAMMA/S1A_IW_20190818T111127_DVP_RTC30_G_gpufem_1CD6/S1A_IW_20190818T111127_DVP_RTC30_G_gpufem_1CD6_VV.tif\n",
      "\n",
      "Dataset/Cambodia/RTC_GAMMA/S1A_IW_20190818T111127_DVP_RTC30_G_gpufem_1CD6/S1A_IW_20190818T111127_DVP_RTC30_G_gpufem_1CD6_VH.tif\n",
      "\n",
      "Dataset/Cambodia/RTC_GAMMA/S1A_IW_20200121T111127_DVP_RTC30_G_gpufem_E103/S1A_IW_20200121T111127_DVP_RTC30_G_gpufem_E103_VV.tif\n",
      "\n",
      "Dataset/Cambodia/RTC_GAMMA/S1A_IW_20200121T111127_DVP_RTC30_G_gpufem_E103/S1A_IW_20200121T111127_DVP_RTC30_G_gpufem_E103_VH.tif\n",
      "\n",
      "Dataset/Cambodia/RTC_GAMMA/S1A_IW_20230318T111143_DVP_RTC30_G_gpufem_7F1A/S1A_IW_20230318T111143_DVP_RTC30_G_gpufem_7F1A_VH.tif\n",
      "\n",
      "Dataset/Cambodia/RTC_GAMMA/S1A_IW_20230318T111143_DVP_RTC30_G_gpufem_7F1A/S1A_IW_20230318T111143_DVP_RTC30_G_gpufem_7F1A_VV.tif\n",
      "\n",
      "Dataset/Cambodia/RTC_GAMMA/S1A_IW_20180624T111118_DVP_RTC30_G_gpufem_9175/S1A_IW_20180624T111118_DVP_RTC30_G_gpufem_9175_VV.tif\n",
      "\n",
      "Dataset/Cambodia/RTC_GAMMA/S1A_IW_20180624T111118_DVP_RTC30_G_gpufem_9175/S1A_IW_20180624T111118_DVP_RTC30_G_gpufem_9175_VH.tif\n",
      "\n",
      "Dataset/Cambodia/RTC_GAMMA/S1A_IW_20191216T111128_DVP_RTC30_G_gpufem_1801/S1A_IW_20191216T111128_DVP_RTC30_G_gpufem_1801_VH.tif\n",
      "\n",
      "Dataset/Cambodia/RTC_GAMMA/S1A_IW_20191216T111128_DVP_RTC30_G_gpufem_1801/S1A_IW_20191216T111128_DVP_RTC30_G_gpufem_1801_VV.tif\n",
      "\n",
      "Dataset/Cambodia/RTC_GAMMA/S1A_IW_20211018T111141_DVP_RTC30_G_gpufem_84F6/S1A_IW_20211018T111141_DVP_RTC30_G_gpufem_84F6_VV.tif\n",
      "\n",
      "Dataset/Cambodia/RTC_GAMMA/S1A_IW_20211018T111141_DVP_RTC30_G_gpufem_84F6/S1A_IW_20211018T111141_DVP_RTC30_G_gpufem_84F6_VH.tif\n",
      "\n",
      "Dataset/Cambodia/RTC_GAMMA/S1A_IW_20200707T111131_DVP_RTC30_G_gpufem_3FE9/S1A_IW_20200707T111131_DVP_RTC30_G_gpufem_3FE9_VV.tif\n",
      "\n",
      "Dataset/Cambodia/RTC_GAMMA/S1A_IW_20200707T111131_DVP_RTC30_G_gpufem_3FE9/S1A_IW_20200707T111131_DVP_RTC30_G_gpufem_3FE9_VH.tif\n",
      "\n",
      "Dataset/Cambodia/RTC_GAMMA/S1A_IW_20220919T111146_DVP_RTC30_G_gpufem_DB75/S1A_IW_20220919T111146_DVP_RTC30_G_gpufem_DB75_VV.tif\n",
      "\n",
      "Dataset/Cambodia/RTC_GAMMA/S1A_IW_20220919T111146_DVP_RTC30_G_gpufem_DB75/S1A_IW_20220919T111146_DVP_RTC30_G_gpufem_DB75_VH.tif\n",
      "\n",
      "Dataset/Cambodia/RTC_GAMMA/S1A_IW_20220110T111139_DVP_RTC30_G_gpufem_45D5/S1A_IW_20220110T111139_DVP_RTC30_G_gpufem_45D5_VH.tif\n",
      "\n",
      "Dataset/Cambodia/RTC_GAMMA/S1A_IW_20220110T111139_DVP_RTC30_G_gpufem_45D5/S1A_IW_20220110T111139_DVP_RTC30_G_gpufem_45D5_VV.tif\n",
      "\n",
      "Dataset/Cambodia/RTC_GAMMA/S1A_IW_20181010T111123_DVP_RTC30_G_gpufem_AEB8/S1A_IW_20181010T111123_DVP_RTC30_G_gpufem_AEB8_VH.tif\n",
      "\n",
      "Dataset/Cambodia/RTC_GAMMA/S1A_IW_20181010T111123_DVP_RTC30_G_gpufem_AEB8/S1A_IW_20181010T111123_DVP_RTC30_G_gpufem_AEB8_VV.tif\n",
      "\n",
      "Dataset/Cambodia/RTC_GAMMA/S1A_IW_20200731T111133_DVP_RTC30_G_gpufem_87F7/S1A_IW_20200731T111133_DVP_RTC30_G_gpufem_87F7_VV.tif\n",
      "\n",
      "Dataset/Cambodia/RTC_GAMMA/S1A_IW_20200731T111133_DVP_RTC30_G_gpufem_87F7/S1A_IW_20200731T111133_DVP_RTC30_G_gpufem_87F7_VH.tif\n",
      "\n",
      "Dataset/Cambodia/RTC_GAMMA/S1A_IW_20201104T111135_DVP_RTC30_G_gpufem_FDFF/S1A_IW_20201104T111135_DVP_RTC30_G_gpufem_FDFF_VH.tif\n",
      "\n",
      "Dataset/Cambodia/RTC_GAMMA/S1A_IW_20201104T111135_DVP_RTC30_G_gpufem_FDFF/S1A_IW_20201104T111135_DVP_RTC30_G_gpufem_FDFF_VV.tif\n",
      "\n",
      "Dataset/Cambodia/RTC_GAMMA/S1A_IW_20180811T111121_DVP_RTC30_G_gpufem_C2B4/S1A_IW_20180811T111121_DVP_RTC30_G_gpufem_C2B4_VV.tif\n",
      "\n",
      "Dataset/Cambodia/RTC_GAMMA/S1A_IW_20180811T111121_DVP_RTC30_G_gpufem_C2B4/S1A_IW_20180811T111121_DVP_RTC30_G_gpufem_C2B4_VH.tif\n",
      "\n",
      "Dataset/Cambodia/RTC_GAMMA/S1A_IW_20210702T111137_DVP_RTC30_G_gpufem_FD5E/S1A_IW_20210702T111137_DVP_RTC30_G_gpufem_FD5E_VH.tif\n",
      "\n",
      "Dataset/Cambodia/RTC_GAMMA/S1A_IW_20210702T111137_DVP_RTC30_G_gpufem_FD5E/S1A_IW_20210702T111137_DVP_RTC30_G_gpufem_FD5E_VV.tif\n",
      "\n",
      "Dataset/Cambodia/RTC_GAMMA/S1A_IW_20180119T111114_DVP_RTC30_G_gpufem_287C/S1A_IW_20180119T111114_DVP_RTC30_G_gpufem_287C_VV.tif\n",
      "\n",
      "Dataset/Cambodia/RTC_GAMMA/S1A_IW_20180119T111114_DVP_RTC30_G_gpufem_287C/S1A_IW_20180119T111114_DVP_RTC30_G_gpufem_287C_VH.tif\n",
      "\n",
      "Dataset/Cambodia/RTC_GAMMA/S1A_IW_20190303T111120_DVP_RTC30_G_gpufem_8B62/S1A_IW_20190303T111120_DVP_RTC30_G_gpufem_8B62_VH.tif\n",
      "\n",
      "Dataset/Cambodia/RTC_GAMMA/S1A_IW_20190303T111120_DVP_RTC30_G_gpufem_8B62/S1A_IW_20190303T111120_DVP_RTC30_G_gpufem_8B62_VV.tif\n",
      "\n",
      "Dataset/Cambodia/RTC_GAMMA/S1A_IW_20201210T111134_DVP_RTC30_G_gpufem_ABB6/S1A_IW_20201210T111134_DVP_RTC30_G_gpufem_ABB6_VH.tif\n",
      "\n",
      "Dataset/Cambodia/RTC_GAMMA/S1A_IW_20201210T111134_DVP_RTC30_G_gpufem_ABB6/S1A_IW_20201210T111134_DVP_RTC30_G_gpufem_ABB6_VV.tif\n",
      "\n",
      "Dataset/Cambodia/RTC_GAMMA/S1A_IW_20190619T111123_DVP_RTC30_G_gpufem_1D81/S1A_IW_20190619T111123_DVP_RTC30_G_gpufem_1D81_VV.tif\n",
      "\n",
      "Dataset/Cambodia/RTC_GAMMA/S1A_IW_20190619T111123_DVP_RTC30_G_gpufem_1D81/S1A_IW_20190619T111123_DVP_RTC30_G_gpufem_1D81_VH.tif\n",
      "\n",
      "Dataset/Cambodia/RTC_GAMMA/S1A_IW_20220416T111138_DVP_RTC30_G_gpufem_53BC/S1A_IW_20220416T111138_DVP_RTC30_G_gpufem_53BC_VV.tif\n",
      "\n",
      "Dataset/Cambodia/RTC_GAMMA/S1A_IW_20220416T111138_DVP_RTC30_G_gpufem_53BC/S1A_IW_20220416T111138_DVP_RTC30_G_gpufem_53BC_VH.tif\n",
      "\n",
      "Dataset/Cambodia/RTC_GAMMA/S1A_IW_20191110T111129_DVP_RTC30_G_gpufem_00EE/S1A_IW_20191110T111129_DVP_RTC30_G_gpufem_00EE_VH.tif\n",
      "\n",
      "Dataset/Cambodia/RTC_GAMMA/S1A_IW_20191110T111129_DVP_RTC30_G_gpufem_00EE/S1A_IW_20191110T111129_DVP_RTC30_G_gpufem_00EE_VV.tif\n",
      "\n",
      "Dataset/Cambodia/RTC_GAMMA/S1A_IW_20220311T111137_DVP_RTC30_G_gpufem_BF4F/S1A_IW_20220311T111137_DVP_RTC30_G_gpufem_BF4F_VH.tif\n",
      "\n",
      "Dataset/Cambodia/RTC_GAMMA/S1A_IW_20220311T111137_DVP_RTC30_G_gpufem_BF4F/S1A_IW_20220311T111137_DVP_RTC30_G_gpufem_BF4F_VV.tif\n",
      "\n",
      "Dataset/Cambodia/RTC_GAMMA/S1A_IW_20180519T111116_DVP_RTC30_G_gpufem_66F3/S1A_IW_20180519T111116_DVP_RTC30_G_gpufem_66F3_VV.tif\n",
      "\n",
      "Dataset/Cambodia/RTC_GAMMA/S1A_IW_20180519T111116_DVP_RTC30_G_gpufem_66F3/S1A_IW_20180519T111116_DVP_RTC30_G_gpufem_66F3_VH.tif\n",
      "\n",
      "Dataset/Cambodia/RTC_GAMMA/S1A_IW_20220428T111139_DVP_RTC30_G_gpufem_423B/S1A_IW_20220428T111139_DVP_RTC30_G_gpufem_423B_VH.tif\n",
      "\n",
      "Dataset/Cambodia/RTC_GAMMA/S1A_IW_20220428T111139_DVP_RTC30_G_gpufem_423B/S1A_IW_20220428T111139_DVP_RTC30_G_gpufem_423B_VV.tif\n",
      "\n",
      "Dataset/Cambodia/RTC_GAMMA/S1A_IW_20201128T111135_DVP_RTC30_G_gpufem_0ED5/S1A_IW_20201128T111135_DVP_RTC30_G_gpufem_0ED5_VV.tif\n",
      "\n",
      "Dataset/Cambodia/RTC_GAMMA/S1A_IW_20201128T111135_DVP_RTC30_G_gpufem_0ED5/S1A_IW_20201128T111135_DVP_RTC30_G_gpufem_0ED5_VH.tif\n",
      "\n",
      "Dataset/Cambodia/RTC_GAMMA/S1A_IW_20180107T111114_DVP_RTC30_G_gpufem_9D06/S1A_IW_20180107T111114_DVP_RTC30_G_gpufem_9D06_VH.tif\n",
      "\n",
      "Dataset/Cambodia/RTC_GAMMA/S1A_IW_20180107T111114_DVP_RTC30_G_gpufem_9D06/S1A_IW_20180107T111114_DVP_RTC30_G_gpufem_9D06_VV.tif\n",
      "\n",
      "Dataset/Cambodia/RTC_GAMMA/S1A_IW_20181103T111123_DVP_RTC30_G_gpufem_56E1/S1A_IW_20181103T111123_DVP_RTC30_G_gpufem_56E1_VV.tif\n",
      "\n",
      "Dataset/Cambodia/RTC_GAMMA/S1A_IW_20181103T111123_DVP_RTC30_G_gpufem_56E1/S1A_IW_20181103T111123_DVP_RTC30_G_gpufem_56E1_VH.tif\n",
      "\n",
      "Dataset/Cambodia/RTC_GAMMA/S1A_IW_20220510T111139_DVP_RTC30_G_gpufem_952C/S1A_IW_20220510T111139_DVP_RTC30_G_gpufem_952C_VV.tif\n",
      "\n",
      "Dataset/Cambodia/RTC_GAMMA/S1A_IW_20220510T111139_DVP_RTC30_G_gpufem_952C/S1A_IW_20220510T111139_DVP_RTC30_G_gpufem_952C_VH.tif\n",
      "\n",
      "Dataset/Cambodia/RTC_GAMMA/S1A_IW_20181209T111122_DVP_RTC30_G_gpufem_9E2E/S1A_IW_20181209T111122_DVP_RTC30_G_gpufem_9E2E_VH.tif\n",
      "\n",
      "Dataset/Cambodia/RTC_GAMMA/S1A_IW_20181209T111122_DVP_RTC30_G_gpufem_9E2E/S1A_IW_20181209T111122_DVP_RTC30_G_gpufem_9E2E_VV.tif\n",
      "\n",
      "Dataset/Cambodia/RTC_GAMMA/S1A_IW_20171015T111116_DVP_RTC30_G_gpufem_C4E1/S1A_IW_20171015T111116_DVP_RTC30_G_gpufem_C4E1_VH.tif\n",
      "\n",
      "Dataset/Cambodia/RTC_GAMMA/S1A_IW_20171015T111116_DVP_RTC30_G_gpufem_C4E1/S1A_IW_20171015T111116_DVP_RTC30_G_gpufem_C4E1_VV.tif\n",
      "\n",
      "Dataset/Cambodia/RTC_GAMMA/S1A_IW_20190701T111124_DVP_RTC30_G_gpufem_671D/S1A_IW_20190701T111124_DVP_RTC30_G_gpufem_671D_VH.tif\n",
      "\n",
      "Dataset/Cambodia/RTC_GAMMA/S1A_IW_20190701T111124_DVP_RTC30_G_gpufem_671D/S1A_IW_20190701T111124_DVP_RTC30_G_gpufem_671D_VV.tif\n",
      "\n",
      "Dataset/Cambodia/RTC_GAMMA/S1A_IW_20200321T111126_DVP_RTC30_G_gpufem_AF4C/S1A_IW_20200321T111126_DVP_RTC30_G_gpufem_AF4C_VH.tif\n",
      "\n",
      "Dataset/Cambodia/RTC_GAMMA/S1A_IW_20200321T111126_DVP_RTC30_G_gpufem_AF4C/S1A_IW_20200321T111126_DVP_RTC30_G_gpufem_AF4C_VV.tif\n",
      "\n",
      "Dataset/Cambodia/RTC_GAMMA/S1A_IW_20230117T111144_DVP_RTC30_G_gpufem_80BE/S1A_IW_20230117T111144_DVP_RTC30_G_gpufem_80BE_VV.tif\n",
      "\n",
      "Dataset/Cambodia/RTC_GAMMA/S1A_IW_20230117T111144_DVP_RTC30_G_gpufem_80BE/S1A_IW_20230117T111144_DVP_RTC30_G_gpufem_80BE_VH.tif\n",
      "\n",
      "Dataset/Cambodia/RTC_GAMMA/S1A_IW_20230529T111146_DVP_RTC30_G_gpufem_EF64/S1A_IW_20230529T111146_DVP_RTC30_G_gpufem_EF64_VV.tif\n",
      "\n",
      "Dataset/Cambodia/RTC_GAMMA/S1A_IW_20230529T111146_DVP_RTC30_G_gpufem_EF64/S1A_IW_20230529T111146_DVP_RTC30_G_gpufem_EF64_VH.tif\n",
      "\n",
      "Dataset/Cambodia/RTC_GAMMA/S1A_IW_20210304T111131_DVP_RTC30_G_gpufem_61FD/S1A_IW_20210304T111131_DVP_RTC30_G_gpufem_61FD_VV.tif\n",
      "\n",
      "Dataset/Cambodia/RTC_GAMMA/S1A_IW_20210304T111131_DVP_RTC30_G_gpufem_61FD/S1A_IW_20210304T111131_DVP_RTC30_G_gpufem_61FD_VH.tif\n",
      "\n",
      "Dataset/Cambodia/RTC_GAMMA/S1A_IW_20190526T111122_DVP_RTC30_G_gpufem_0975/S1A_IW_20190526T111122_DVP_RTC30_G_gpufem_0975_VH.tif\n",
      "\n",
      "Dataset/Cambodia/RTC_GAMMA/S1A_IW_20190526T111122_DVP_RTC30_G_gpufem_0975/S1A_IW_20190526T111122_DVP_RTC30_G_gpufem_0975_VV.tif\n",
      "\n",
      "Dataset/Cambodia/RTC_GAMMA/S1A_IW_20221212T111146_DVP_RTC30_G_gpufem_6A60/S1A_IW_20221212T111146_DVP_RTC30_G_gpufem_6A60_VH.tif\n",
      "\n",
      "Dataset/Cambodia/RTC_GAMMA/S1A_IW_20221212T111146_DVP_RTC30_G_gpufem_6A60/S1A_IW_20221212T111146_DVP_RTC30_G_gpufem_6A60_VV.tif\n",
      "\n",
      "Dataset/Cambodia/RTC_GAMMA/S1A_IW_20230306T111143_DVP_RTC30_G_gpufem_D1D3/S1A_IW_20230306T111143_DVP_RTC30_G_gpufem_D1D3_VH.tif\n",
      "\n",
      "Dataset/Cambodia/RTC_GAMMA/S1A_IW_20230306T111143_DVP_RTC30_G_gpufem_D1D3/S1A_IW_20230306T111143_DVP_RTC30_G_gpufem_D1D3_VV.tif\n",
      "\n",
      "Dataset/Cambodia/RTC_GAMMA/S1A_IW_20210726T111138_DVP_RTC30_G_gpufem_71ED/S1A_IW_20210726T111138_DVP_RTC30_G_gpufem_71ED_VV.tif\n",
      "\n",
      "Dataset/Cambodia/RTC_GAMMA/S1A_IW_20210726T111138_DVP_RTC30_G_gpufem_71ED/S1A_IW_20210726T111138_DVP_RTC30_G_gpufem_71ED_VH.tif\n",
      "\n",
      "Dataset/Cambodia/RTC_GAMMA/S1A_IW_20190315T111119_DVP_RTC30_G_gpufem_338B/S1A_IW_20190315T111119_DVP_RTC30_G_gpufem_338B_VV.tif\n",
      "\n",
      "Dataset/Cambodia/RTC_GAMMA/S1A_IW_20190315T111119_DVP_RTC30_G_gpufem_338B/S1A_IW_20190315T111119_DVP_RTC30_G_gpufem_338B_VH.tif\n",
      "\n",
      "Dataset/Cambodia/RTC_GAMMA/S1A_IW_20211205T111140_DVP_RTC30_G_gpufem_87B1/S1A_IW_20211205T111140_DVP_RTC30_G_gpufem_87B1_VH.tif\n",
      "\n",
      "Dataset/Cambodia/RTC_GAMMA/S1A_IW_20211205T111140_DVP_RTC30_G_gpufem_87B1/S1A_IW_20211205T111140_DVP_RTC30_G_gpufem_87B1_VV.tif\n",
      "\n",
      "Dataset/Cambodia/RTC_GAMMA/S1A_IW_20190830T111128_DVP_RTC30_G_gpufem_CC23/S1A_IW_20190830T111128_DVP_RTC30_G_gpufem_CC23_VV.tif\n",
      "\n",
      "Dataset/Cambodia/RTC_GAMMA/S1A_IW_20190830T111128_DVP_RTC30_G_gpufem_CC23/S1A_IW_20190830T111128_DVP_RTC30_G_gpufem_CC23_VH.tif\n",
      "\n",
      "Dataset/Cambodia/RTC_GAMMA/S1A_IW_20190502T111121_DVP_RTC30_G_gpufem_0187/S1A_IW_20190502T111121_DVP_RTC30_G_gpufem_0187_VH.tif\n",
      "\n",
      "Dataset/Cambodia/RTC_GAMMA/S1A_IW_20190502T111121_DVP_RTC30_G_gpufem_0187/S1A_IW_20190502T111121_DVP_RTC30_G_gpufem_0187_VV.tif\n",
      "\n",
      "Dataset/Cambodia/RTC_GAMMA/S1A_IW_20210831T111140_DVP_RTC30_G_gpufem_A9FB/S1A_IW_20210831T111140_DVP_RTC30_G_gpufem_A9FB_VV.tif\n",
      "\n",
      "Dataset/Cambodia/RTC_GAMMA/S1A_IW_20210831T111140_DVP_RTC30_G_gpufem_A9FB/S1A_IW_20210831T111140_DVP_RTC30_G_gpufem_A9FB_VH.tif\n",
      "\n",
      "Dataset/Cambodia/RTC_GAMMA/S1A_IW_20190408T111120_DVP_RTC30_G_gpufem_D773/S1A_IW_20190408T111120_DVP_RTC30_G_gpufem_D773_VV.tif\n",
      "\n",
      "Dataset/Cambodia/RTC_GAMMA/S1A_IW_20190408T111120_DVP_RTC30_G_gpufem_D773/S1A_IW_20190408T111120_DVP_RTC30_G_gpufem_D773_VH.tif\n",
      "\n",
      "Dataset/Cambodia/RTC_GAMMA/S1A_IW_20220721T111144_DVP_RTC30_G_gpufem_C29D/S1A_IW_20220721T111144_DVP_RTC30_G_gpufem_C29D_VV.tif\n",
      "\n",
      "Dataset/Cambodia/RTC_GAMMA/S1A_IW_20220721T111144_DVP_RTC30_G_gpufem_C29D/S1A_IW_20220721T111144_DVP_RTC30_G_gpufem_C29D_VH.tif\n",
      "\n",
      "Dataset/Cambodia/RTC_GAMMA/S1A_IW_20171120T111116_DVP_RTC30_G_gpufem_25A1/S1A_IW_20171120T111116_DVP_RTC30_G_gpufem_25A1_VH.tif\n",
      "\n",
      "Dataset/Cambodia/RTC_GAMMA/S1A_IW_20171120T111116_DVP_RTC30_G_gpufem_25A1/S1A_IW_20171120T111116_DVP_RTC30_G_gpufem_25A1_VV.tif\n",
      "\n",
      "Dataset/Cambodia/RTC_GAMMA/S1A_IW_20230505T111145_DVP_RTC30_G_gpufem_EE96/S1A_IW_20230505T111145_DVP_RTC30_G_gpufem_EE96_VH.tif\n",
      "\n",
      "Dataset/Cambodia/RTC_GAMMA/S1A_IW_20230505T111145_DVP_RTC30_G_gpufem_EE96/S1A_IW_20230505T111145_DVP_RTC30_G_gpufem_EE96_VV.tif\n",
      "\n",
      "Dataset/Cambodia/RTC_GAMMA/S1A_IW_20171108T111116_DVP_RTC30_G_gpufem_20BA/S1A_IW_20171108T111116_DVP_RTC30_G_gpufem_20BA_VV.tif\n",
      "\n",
      "Dataset/Cambodia/RTC_GAMMA/S1A_IW_20171108T111116_DVP_RTC30_G_gpufem_20BA/S1A_IW_20171108T111116_DVP_RTC30_G_gpufem_20BA_VH.tif\n",
      "\n",
      "Dataset/Cambodia/RTC_GAMMA/S1A_IW_20210924T111141_DVP_RTC30_G_gpufem_20C9/S1A_IW_20210924T111141_DVP_RTC30_G_gpufem_20C9_VV.tif\n",
      "\n",
      "Dataset/Cambodia/RTC_GAMMA/S1A_IW_20210924T111141_DVP_RTC30_G_gpufem_20C9/S1A_IW_20210924T111141_DVP_RTC30_G_gpufem_20C9_VH.tif\n",
      "\n",
      "Dataset/Cambodia/RTC_GAMMA/S1A_IW_20210807T111139_DVP_RTC30_G_gpufem_E8C6/S1A_IW_20210807T111139_DVP_RTC30_G_gpufem_E8C6_VV.tif\n",
      "\n",
      "Dataset/Cambodia/RTC_GAMMA/S1A_IW_20210807T111139_DVP_RTC30_G_gpufem_E8C6/S1A_IW_20210807T111139_DVP_RTC30_G_gpufem_E8C6_VH.tif\n",
      "\n",
      "Dataset/Cambodia/RTC_GAMMA/S1A_IW_20200202T111126_DVP_RTC30_G_gpufem_B611/S1A_IW_20200202T111126_DVP_RTC30_G_gpufem_B611_VV.tif\n",
      "\n",
      "Dataset/Cambodia/RTC_GAMMA/S1A_IW_20200202T111126_DVP_RTC30_G_gpufem_B611/S1A_IW_20200202T111126_DVP_RTC30_G_gpufem_B611_VH.tif\n",
      "\n",
      "Dataset/Cambodia/RTC_GAMMA/S1A_IW_20211030T111141_DVP_RTC30_G_gpufem_FF88/S1A_IW_20211030T111141_DVP_RTC30_G_gpufem_FF88_VV.tif\n",
      "\n",
      "Dataset/Cambodia/RTC_GAMMA/S1A_IW_20211030T111141_DVP_RTC30_G_gpufem_FF88/S1A_IW_20211030T111141_DVP_RTC30_G_gpufem_FF88_VH.tif\n",
      "\n",
      "Dataset/Cambodia/RTC_GAMMA/S1A_IW_20210316T111132_DVP_RTC30_G_gpufem_858D/S1A_IW_20210316T111132_DVP_RTC30_G_gpufem_858D_VV.tif\n",
      "\n",
      "Dataset/Cambodia/RTC_GAMMA/S1A_IW_20210316T111132_DVP_RTC30_G_gpufem_858D/S1A_IW_20210316T111132_DVP_RTC30_G_gpufem_858D_VH.tif\n",
      "\n",
      "Dataset/Cambodia/RTC_GAMMA/S1A_IW_20210608T111135_DVP_RTC30_G_gpufem_28FE/S1A_IW_20210608T111135_DVP_RTC30_G_gpufem_28FE_VH.tif\n",
      "\n",
      "Dataset/Cambodia/RTC_GAMMA/S1A_IW_20210608T111135_DVP_RTC30_G_gpufem_28FE/S1A_IW_20210608T111135_DVP_RTC30_G_gpufem_28FE_VV.tif\n",
      "\n",
      "Dataset/Cambodia/RTC_GAMMA/S1A_IW_20180904T111122_DVP_RTC30_G_gpufem_1A9E/S1A_IW_20180904T111122_DVP_RTC30_G_gpufem_1A9E_VV.tif\n",
      "\n",
      "Dataset/Cambodia/RTC_GAMMA/S1A_IW_20180904T111122_DVP_RTC30_G_gpufem_1A9E/S1A_IW_20180904T111122_DVP_RTC30_G_gpufem_1A9E_VH.tif\n",
      "\n",
      "Dataset/Cambodia/RTC_GAMMA/S1A_IW_20210421T111133_DVP_RTC30_G_gpufem_2466/S1A_IW_20210421T111133_DVP_RTC30_G_gpufem_2466_VV.tif\n",
      "\n",
      "Dataset/Cambodia/RTC_GAMMA/S1A_IW_20210421T111133_DVP_RTC30_G_gpufem_2466/S1A_IW_20210421T111133_DVP_RTC30_G_gpufem_2466_VH.tif\n",
      "\n",
      "Dataset/Cambodia/RTC_GAMMA/S1A_IW_20220627T111143_DVP_RTC30_G_gpufem_EB15/S1A_IW_20220627T111143_DVP_RTC30_G_gpufem_EB15_VH.tif\n",
      "\n",
      "Dataset/Cambodia/RTC_GAMMA/S1A_IW_20220627T111143_DVP_RTC30_G_gpufem_EB15/S1A_IW_20220627T111143_DVP_RTC30_G_gpufem_EB15_VV.tif\n",
      "\n",
      "Dataset/Cambodia/RTC_GAMMA/S1A_IW_20210220T111132_DVP_RTC30_G_gpufem_24C6/S1A_IW_20210220T111132_DVP_RTC30_G_gpufem_24C6_VH.tif\n",
      "\n",
      "Dataset/Cambodia/RTC_GAMMA/S1A_IW_20210220T111132_DVP_RTC30_G_gpufem_24C6/S1A_IW_20210220T111132_DVP_RTC30_G_gpufem_24C6_VV.tif\n",
      "\n",
      "Dataset/Cambodia/RTC_GAMMA/S1A_IW_20221106T111147_DVP_RTC30_G_gpufem_9620/S1A_IW_20221106T111147_DVP_RTC30_G_gpufem_9620_VH.tif\n",
      "\n",
      "Dataset/Cambodia/RTC_GAMMA/S1A_IW_20221106T111147_DVP_RTC30_G_gpufem_9620/S1A_IW_20221106T111147_DVP_RTC30_G_gpufem_9620_VV.tif\n",
      "\n",
      "Dataset/Cambodia/RTC_GAMMA/S1A_IW_20220227T111137_DVP_RTC30_G_gpufem_509F/S1A_IW_20220227T111137_DVP_RTC30_G_gpufem_509F_VV.tif\n",
      "\n",
      "Dataset/Cambodia/RTC_GAMMA/S1A_IW_20220227T111137_DVP_RTC30_G_gpufem_509F/S1A_IW_20220227T111137_DVP_RTC30_G_gpufem_509F_VH.tif\n",
      "\n",
      "Dataset/Cambodia/RTC_GAMMA/S1A_IW_20171202T111115_DVP_RTC30_G_gpufem_C516/S1A_IW_20171202T111115_DVP_RTC30_G_gpufem_C516_VH.tif\n",
      "\n",
      "Dataset/Cambodia/RTC_GAMMA/S1A_IW_20171202T111115_DVP_RTC30_G_gpufem_C516/S1A_IW_20171202T111115_DVP_RTC30_G_gpufem_C516_VV.tif\n",
      "\n",
      "Dataset/Cambodia/RTC_GAMMA/S1A_IW_20191228T111127_DVP_RTC30_G_gpufem_B293/S1A_IW_20191228T111127_DVP_RTC30_G_gpufem_B293_VH.tif\n",
      "\n",
      "Dataset/Cambodia/RTC_GAMMA/S1A_IW_20191228T111127_DVP_RTC30_G_gpufem_B293/S1A_IW_20191228T111127_DVP_RTC30_G_gpufem_B293_VV.tif\n",
      "\n",
      "Dataset/Cambodia/RTC_GAMMA/S1A_IW_20200905T111135_DVP_RTC30_G_gpufem_C16D/S1A_IW_20200905T111135_DVP_RTC30_G_gpufem_C16D_VH.tif\n",
      "\n",
      "Dataset/Cambodia/RTC_GAMMA/S1A_IW_20200905T111135_DVP_RTC30_G_gpufem_C16D/S1A_IW_20200905T111135_DVP_RTC30_G_gpufem_C16D_VV.tif\n",
      "\n",
      "Dataset/Cambodia/RTC_GAMMA/S1A_IW_20210409T111132_DVP_RTC30_G_gpufem_5F82/S1A_IW_20210409T111132_DVP_RTC30_G_gpufem_5F82_VH.tif\n",
      "\n",
      "Dataset/Cambodia/RTC_GAMMA/S1A_IW_20210409T111132_DVP_RTC30_G_gpufem_5F82/S1A_IW_20210409T111132_DVP_RTC30_G_gpufem_5F82_VV.tif\n",
      "\n",
      "Dataset/Cambodia/RTC_GAMMA/S1A_IW_20190219T111119_DVP_RTC30_G_gpufem_6CD0/S1A_IW_20190219T111119_DVP_RTC30_G_gpufem_6CD0_VV.tif\n",
      "\n",
      "Dataset/Cambodia/RTC_GAMMA/S1A_IW_20190219T111119_DVP_RTC30_G_gpufem_6CD0/S1A_IW_20190219T111119_DVP_RTC30_G_gpufem_6CD0_VH.tif\n",
      "\n",
      "Dataset/Cambodia/RTC_GAMMA/S1A_IW_20181022T111123_DVP_RTC30_G_gpufem_8B57/S1A_IW_20181022T111123_DVP_RTC30_G_gpufem_8B57_VH.tif\n",
      "\n",
      "Dataset/Cambodia/RTC_GAMMA/S1A_IW_20181022T111123_DVP_RTC30_G_gpufem_8B57/S1A_IW_20181022T111123_DVP_RTC30_G_gpufem_8B57_VV.tif\n",
      "\n",
      "Dataset/Cambodia/RTC_GAMMA/S1A_IW_20210208T111132_DVP_RTC30_G_gpufem_5C75/S1A_IW_20210208T111132_DVP_RTC30_G_gpufem_5C75_VV.tif\n",
      "\n",
      "Dataset/Cambodia/RTC_GAMMA/S1A_IW_20210208T111132_DVP_RTC30_G_gpufem_5C75/S1A_IW_20210208T111132_DVP_RTC30_G_gpufem_5C75_VH.tif\n",
      "\n",
      "Dataset/Cambodia/RTC_GAMMA/S1A_IW_20191122T111129_DVP_RTC30_G_gpufem_F00C/S1A_IW_20191122T111129_DVP_RTC30_G_gpufem_F00C_VH.tif\n",
      "\n",
      "Dataset/Cambodia/RTC_GAMMA/S1A_IW_20191122T111129_DVP_RTC30_G_gpufem_F00C/S1A_IW_20191122T111129_DVP_RTC30_G_gpufem_F00C_VV.tif\n",
      "\n",
      "Dataset/Cambodia/RTC_GAMMA/S1A_IW_20181221T111121_DVP_RTC30_G_gpufem_FE96/S1A_IW_20181221T111121_DVP_RTC30_G_gpufem_FE96_VV.tif\n",
      "\n",
      "Dataset/Cambodia/RTC_GAMMA/S1A_IW_20181221T111121_DVP_RTC30_G_gpufem_FE96/S1A_IW_20181221T111121_DVP_RTC30_G_gpufem_FE96_VH.tif\n",
      "\n",
      "Dataset/Cambodia/RTC_GAMMA/S1A_IW_20181115T111123_DVP_RTC30_G_gpufem_2314/S1A_IW_20181115T111123_DVP_RTC30_G_gpufem_2314_VH.tif\n",
      "\n",
      "Dataset/Cambodia/RTC_GAMMA/S1A_IW_20181115T111123_DVP_RTC30_G_gpufem_2314/S1A_IW_20181115T111123_DVP_RTC30_G_gpufem_2314_VV.tif\n",
      "\n",
      "Dataset/Cambodia/RTC_GAMMA/S1A_IW_20210503T111133_DVP_RTC30_G_gpufem_6532/S1A_IW_20210503T111133_DVP_RTC30_G_gpufem_6532_VH.tif\n",
      "\n",
      "Dataset/Cambodia/RTC_GAMMA/S1A_IW_20210503T111133_DVP_RTC30_G_gpufem_6532/S1A_IW_20210503T111133_DVP_RTC30_G_gpufem_6532_VV.tif\n",
      "\n",
      "Dataset/Cambodia/RTC_GAMMA/S1A_IW_20230210T111143_DVP_RTC30_G_gpufem_0BCB/S1A_IW_20230210T111143_DVP_RTC30_G_gpufem_0BCB_VV.tif\n",
      "\n",
      "Dataset/Cambodia/RTC_GAMMA/S1A_IW_20230210T111143_DVP_RTC30_G_gpufem_0BCB/S1A_IW_20230210T111143_DVP_RTC30_G_gpufem_0BCB_VH.tif\n",
      "\n",
      "Dataset/Cambodia/RTC_GAMMA/S1A_IW_20180730T111120_DVP_RTC30_G_gpufem_B483/S1A_IW_20180730T111120_DVP_RTC30_G_gpufem_B483_VH.tif\n",
      "\n",
      "Dataset/Cambodia/RTC_GAMMA/S1A_IW_20180730T111120_DVP_RTC30_G_gpufem_B483/S1A_IW_20180730T111120_DVP_RTC30_G_gpufem_B483_VV.tif\n",
      "\n",
      "Dataset/Cambodia/RTC_GAMMA/S1A_IW_20201222T111134_DVP_RTC30_G_gpufem_BD29/S1A_IW_20201222T111134_DVP_RTC30_G_gpufem_BD29_VH.tif\n",
      "\n",
      "Dataset/Cambodia/RTC_GAMMA/S1A_IW_20201222T111134_DVP_RTC30_G_gpufem_BD29/S1A_IW_20201222T111134_DVP_RTC30_G_gpufem_BD29_VV.tif\n",
      "\n",
      "Dataset/Cambodia/RTC_GAMMA/S1A_IW_20220522T111140_DVP_RTC30_G_gpufem_D6F3/S1A_IW_20220522T111140_DVP_RTC30_G_gpufem_D6F3_VV.tif\n",
      "\n",
      "Dataset/Cambodia/RTC_GAMMA/S1A_IW_20220522T111140_DVP_RTC30_G_gpufem_D6F3/S1A_IW_20220522T111140_DVP_RTC30_G_gpufem_D6F3_VH.tif\n",
      "\n",
      "Dataset/Cambodia/RTC_GAMMA/S1A_IW_20190420T111120_DVP_RTC30_G_gpufem_445B/S1A_IW_20190420T111120_DVP_RTC30_G_gpufem_445B_VV.tif\n",
      "\n",
      "Dataset/Cambodia/RTC_GAMMA/S1A_IW_20190420T111120_DVP_RTC30_G_gpufem_445B/S1A_IW_20190420T111120_DVP_RTC30_G_gpufem_445B_VH.tif\n",
      "\n",
      "Dataset/Cambodia/RTC_GAMMA/S1A_IW_20190327T111120_DVP_RTC30_G_gpufem_9D4A/S1A_IW_20190327T111120_DVP_RTC30_G_gpufem_9D4A_VV.tif\n",
      "\n",
      "Dataset/Cambodia/RTC_GAMMA/S1A_IW_20190327T111120_DVP_RTC30_G_gpufem_9D4A/S1A_IW_20190327T111120_DVP_RTC30_G_gpufem_9D4A_VH.tif\n",
      "\n",
      "Dataset/Cambodia/RTC_GAMMA/S1A_IW_20230423T111144_DVP_RTC30_G_gpufem_E7C1/S1A_IW_20230423T111144_DVP_RTC30_G_gpufem_E7C1_VV.tif\n",
      "\n",
      "Dataset/Cambodia/RTC_GAMMA/S1A_IW_20230423T111144_DVP_RTC30_G_gpufem_E7C1/S1A_IW_20230423T111144_DVP_RTC30_G_gpufem_E7C1_VH.tif\n",
      "\n",
      "Dataset/Cambodia/RTC_GAMMA/S1A_IW_20211111T111141_DVP_RTC30_G_gpufem_732D/S1A_IW_20211111T111141_DVP_RTC30_G_gpufem_732D_VH.tif\n",
      "\n",
      "Dataset/Cambodia/RTC_GAMMA/S1A_IW_20211111T111141_DVP_RTC30_G_gpufem_732D/S1A_IW_20211111T111141_DVP_RTC30_G_gpufem_732D_VV.tif\n",
      "\n",
      "Dataset/Cambodia/RTC_GAMMA/S1A_IW_20220203T111137_DVP_RTC30_G_gpufem_7FE8/S1A_IW_20220203T111137_DVP_RTC30_G_gpufem_7FE8_VV.tif\n",
      "\n",
      "Dataset/Cambodia/RTC_GAMMA/S1A_IW_20220203T111137_DVP_RTC30_G_gpufem_7FE8/S1A_IW_20220203T111137_DVP_RTC30_G_gpufem_7FE8_VH.tif\n",
      "\n",
      "Dataset/Cambodia/RTC_GAMMA/S1A_IW_20220122T111138_DVP_RTC30_G_gpufem_066C/S1A_IW_20220122T111138_DVP_RTC30_G_gpufem_066C_VV.tif\n",
      "\n",
      "Dataset/Cambodia/RTC_GAMMA/S1A_IW_20220122T111138_DVP_RTC30_G_gpufem_066C/S1A_IW_20220122T111138_DVP_RTC30_G_gpufem_066C_VH.tif\n",
      "\n",
      "Dataset/Cambodia/RTC_GAMMA/S1A_IW_20190911T111128_DVP_RTC30_G_gpufem_847C/S1A_IW_20190911T111128_DVP_RTC30_G_gpufem_847C_VH.tif\n",
      "\n",
      "Dataset/Cambodia/RTC_GAMMA/S1A_IW_20190911T111128_DVP_RTC30_G_gpufem_847C/S1A_IW_20190911T111128_DVP_RTC30_G_gpufem_847C_VV.tif\n",
      "\n",
      "Dataset/Cambodia/RTC_GAMMA/S1A_IW_20180224T111113_DVP_RTC30_G_gpufem_44C3/S1A_IW_20180224T111113_DVP_RTC30_G_gpufem_44C3_VV.tif\n",
      "\n",
      "Dataset/Cambodia/RTC_GAMMA/S1A_IW_20180224T111113_DVP_RTC30_G_gpufem_44C3/S1A_IW_20180224T111113_DVP_RTC30_G_gpufem_44C3_VH.tif\n",
      "\n",
      "Dataset/Cambodia/RTC_GAMMA/S1A_IW_20180612T111117_DVP_RTC30_G_gpufem_726A/S1A_IW_20180612T111117_DVP_RTC30_G_gpufem_726A_VH.tif\n",
      "\n",
      "Dataset/Cambodia/RTC_GAMMA/S1A_IW_20180612T111117_DVP_RTC30_G_gpufem_726A/S1A_IW_20180612T111117_DVP_RTC30_G_gpufem_726A_VV.tif\n",
      "\n",
      "Dataset/Cambodia/RTC_GAMMA/S1A_IW_20220814T111146_DVP_RTC30_G_gpufem_99DE/S1A_IW_20220814T111146_DVP_RTC30_G_gpufem_99DE_VV.tif\n",
      "\n",
      "Dataset/Cambodia/RTC_GAMMA/S1A_IW_20220814T111146_DVP_RTC30_G_gpufem_99DE/S1A_IW_20220814T111146_DVP_RTC30_G_gpufem_99DE_VH.tif\n",
      "\n",
      "Dataset/Cambodia/RTC_GAMMA/S1A_IW_20200402T111126_DVP_RTC30_G_gpufem_D2A9/S1A_IW_20200402T111126_DVP_RTC30_G_gpufem_D2A9_VV.tif\n",
      "\n",
      "Dataset/Cambodia/RTC_GAMMA/S1A_IW_20200402T111126_DVP_RTC30_G_gpufem_D2A9/S1A_IW_20200402T111126_DVP_RTC30_G_gpufem_D2A9_VH.tif\n",
      "\n",
      "Dataset/Cambodia/RTC_GAMMA/S1A_IW_20200719T111132_DVP_RTC30_G_gpufem_6153/S1A_IW_20200719T111132_DVP_RTC30_G_gpufem_6153_VH.tif\n",
      "\n",
      "Dataset/Cambodia/RTC_GAMMA/S1A_IW_20200719T111132_DVP_RTC30_G_gpufem_6153/S1A_IW_20200719T111132_DVP_RTC30_G_gpufem_6153_VV.tif\n",
      "\n",
      "Dataset/Cambodia/RTC_GAMMA/S1A_IW_20221118T111147_DVP_RTC30_G_gpufem_0829/S1A_IW_20221118T111147_DVP_RTC30_G_gpufem_0829_VV.tif\n",
      "\n",
      "Dataset/Cambodia/RTC_GAMMA/S1A_IW_20221118T111147_DVP_RTC30_G_gpufem_0829/S1A_IW_20221118T111147_DVP_RTC30_G_gpufem_0829_VH.tif\n",
      "\n",
      "Dataset/Cambodia/RTC_GAMMA/S1A_IW_20200625T111130_DVP_RTC30_G_gpufem_9880/S1A_IW_20200625T111130_DVP_RTC30_G_gpufem_9880_VH.tif\n",
      "\n",
      "Dataset/Cambodia/RTC_GAMMA/S1A_IW_20200625T111130_DVP_RTC30_G_gpufem_9880/S1A_IW_20200625T111130_DVP_RTC30_G_gpufem_9880_VV.tif\n",
      "\n",
      "Dataset/Cambodia/RTC_GAMMA/S1A_IW_20210620T111136_DVP_RTC30_G_gpufem_18AE/S1A_IW_20210620T111136_DVP_RTC30_G_gpufem_18AE_VH.tif\n",
      "\n",
      "Dataset/Cambodia/RTC_GAMMA/S1A_IW_20210620T111136_DVP_RTC30_G_gpufem_18AE/S1A_IW_20210620T111136_DVP_RTC30_G_gpufem_18AE_VV.tif\n",
      "\n",
      "Dataset/Cambodia/RTC_GAMMA/S1A_IW_20220709T111143_DVP_RTC30_G_gpufem_76F2/S1A_IW_20220709T111143_DVP_RTC30_G_gpufem_76F2_VV.tif\n",
      "\n",
      "Dataset/Cambodia/RTC_GAMMA/S1A_IW_20220709T111143_DVP_RTC30_G_gpufem_76F2/S1A_IW_20220709T111143_DVP_RTC30_G_gpufem_76F2_VH.tif\n",
      "\n",
      "Dataset/Cambodia/RTC_GAMMA/S1A_IW_20190514T111121_DVP_RTC30_G_gpufem_40CE/S1A_IW_20190514T111121_DVP_RTC30_G_gpufem_40CE_VH.tif\n",
      "\n",
      "Dataset/Cambodia/RTC_GAMMA/S1A_IW_20190514T111121_DVP_RTC30_G_gpufem_40CE/S1A_IW_20190514T111121_DVP_RTC30_G_gpufem_40CE_VV.tif\n",
      "\n",
      "Dataset/Cambodia/RTC_GAMMA/S1A_IW_20190126T111120_DVP_RTC30_G_gpufem_65B3/S1A_IW_20190126T111120_DVP_RTC30_G_gpufem_65B3_VH.tif\n",
      "\n",
      "Dataset/Cambodia/RTC_GAMMA/S1A_IW_20190126T111120_DVP_RTC30_G_gpufem_65B3/S1A_IW_20190126T111120_DVP_RTC30_G_gpufem_65B3_VV.tif\n",
      "\n",
      "Dataset/Cambodia/RTC_GAMMA/S1A_IW_20230330T111143_DVP_RTC30_G_gpufem_2722/S1A_IW_20230330T111143_DVP_RTC30_G_gpufem_2722_VV.tif\n",
      "\n",
      "Dataset/Cambodia/RTC_GAMMA/S1A_IW_20230330T111143_DVP_RTC30_G_gpufem_2722/S1A_IW_20230330T111143_DVP_RTC30_G_gpufem_2722_VH.tif\n",
      "\n",
      "Dataset/Cambodia/RTC_GAMMA/S1A_IW_20200520T111128_DVP_RTC30_G_gpufem_85A3/S1A_IW_20200520T111128_DVP_RTC30_G_gpufem_85A3_VH.tif\n",
      "\n",
      "Dataset/Cambodia/RTC_GAMMA/S1A_IW_20200520T111128_DVP_RTC30_G_gpufem_85A3/S1A_IW_20200520T111128_DVP_RTC30_G_gpufem_85A3_VV.tif\n",
      "\n",
      "Dataset/Cambodia/RTC_GAMMA/S1A_IW_20171027T111116_DVP_RTC30_G_gpufem_474A/S1A_IW_20171027T111116_DVP_RTC30_G_gpufem_474A_VV.tif\n",
      "\n",
      "Dataset/Cambodia/RTC_GAMMA/S1A_IW_20171027T111116_DVP_RTC30_G_gpufem_474A/S1A_IW_20171027T111116_DVP_RTC30_G_gpufem_474A_VH.tif\n",
      "\n",
      "Dataset/Cambodia/RTC_GAMMA/S1A_IW_20220615T111142_DVP_RTC30_G_gpufem_616E/S1A_IW_20220615T111142_DVP_RTC30_G_gpufem_616E_VV.tif\n",
      "\n",
      "Dataset/Cambodia/RTC_GAMMA/S1A_IW_20220615T111142_DVP_RTC30_G_gpufem_616E/S1A_IW_20220615T111142_DVP_RTC30_G_gpufem_616E_VH.tif\n",
      "\n",
      "Dataset/Cambodia/RTC_GAMMA/S1A_IW_20180916T111122_DVP_RTC30_G_gpufem_4830/S1A_IW_20180916T111122_DVP_RTC30_G_gpufem_4830_VH.tif\n",
      "\n",
      "Dataset/Cambodia/RTC_GAMMA/S1A_IW_20180916T111122_DVP_RTC30_G_gpufem_4830/S1A_IW_20180916T111122_DVP_RTC30_G_gpufem_4830_VV.tif\n",
      "\n",
      "Dataset/Cambodia/RTC_GAMMA/S1A_IW_20191005T111129_DVP_RTC30_G_gpufem_D701/S1A_IW_20191005T111129_DVP_RTC30_G_gpufem_D701_VH.tif\n",
      "\n",
      "Dataset/Cambodia/RTC_GAMMA/S1A_IW_20191005T111129_DVP_RTC30_G_gpufem_D701/S1A_IW_20191005T111129_DVP_RTC30_G_gpufem_D701_VV.tif\n",
      "\n",
      "Dataset/Cambodia/RTC_GAMMA/S1A_IW_20201011T111136_DVP_RTC30_G_gpufem_8CDE/S1A_IW_20201011T111136_DVP_RTC30_G_gpufem_8CDE_VH.tif\n",
      "\n",
      "Dataset/Cambodia/RTC_GAMMA/S1A_IW_20201011T111136_DVP_RTC30_G_gpufem_8CDE/S1A_IW_20201011T111136_DVP_RTC30_G_gpufem_8CDE_VV.tif\n",
      "\n",
      "Dataset/Cambodia/RTC_GAMMA/S1A_IW_20230222T111143_DVP_RTC30_G_gpufem_FD20/S1A_IW_20230222T111143_DVP_RTC30_G_gpufem_FD20_VV.tif\n",
      "\n",
      "Dataset/Cambodia/RTC_GAMMA/S1A_IW_20230222T111143_DVP_RTC30_G_gpufem_FD20/S1A_IW_20230222T111143_DVP_RTC30_G_gpufem_FD20_VH.tif\n",
      "\n",
      "Dataset/Cambodia/RTC_GAMMA/S1A_IW_20191029T111129_DVP_RTC30_G_gpufem_4F11/S1A_IW_20191029T111129_DVP_RTC30_G_gpufem_4F11_VV.tif\n",
      "\n",
      "Dataset/Cambodia/RTC_GAMMA/S1A_IW_20191029T111129_DVP_RTC30_G_gpufem_4F11/S1A_IW_20191029T111129_DVP_RTC30_G_gpufem_4F11_VH.tif\n",
      "\n",
      "Dataset/Cambodia/RTC_GAMMA/S1A_IW_20230411T111144_DVP_RTC30_G_gpufem_81C2/S1A_IW_20230411T111144_DVP_RTC30_G_gpufem_81C2_VV.tif\n",
      "\n",
      "Dataset/Cambodia/RTC_GAMMA/S1A_IW_20230411T111144_DVP_RTC30_G_gpufem_81C2/S1A_IW_20230411T111144_DVP_RTC30_G_gpufem_81C2_VH.tif\n",
      "\n",
      "Dataset/Cambodia/RTC_GAMMA/S1A_IW_20190713T111125_DVP_RTC30_G_gpufem_DB85/S1A_IW_20190713T111125_DVP_RTC30_G_gpufem_DB85_VV.tif\n",
      "\n",
      "Dataset/Cambodia/RTC_GAMMA/S1A_IW_20190713T111125_DVP_RTC30_G_gpufem_DB85/S1A_IW_20190713T111125_DVP_RTC30_G_gpufem_DB85_VH.tif\n",
      "\n",
      "Dataset/Cambodia/RTC_GAMMA/S1A_IW_20210115T111133_DVP_RTC30_G_gpufem_2F58/S1A_IW_20210115T111133_DVP_RTC30_G_gpufem_2F58_VH.tif\n",
      "\n",
      "Dataset/Cambodia/RTC_GAMMA/S1A_IW_20210115T111133_DVP_RTC30_G_gpufem_2F58/S1A_IW_20210115T111133_DVP_RTC30_G_gpufem_2F58_VV.tif\n",
      "\n",
      "Dataset/Cambodia/RTC_GAMMA/S1A_IW_20171226T111114_DVP_RTC30_G_gpufem_ECBD/S1A_IW_20171226T111114_DVP_RTC30_G_gpufem_ECBD_VV.tif\n",
      "\n",
      "Dataset/Cambodia/RTC_GAMMA/S1A_IW_20171226T111114_DVP_RTC30_G_gpufem_ECBD/S1A_IW_20171226T111114_DVP_RTC30_G_gpufem_ECBD_VH.tif\n",
      "\n",
      "Dataset/Cambodia/RTC_GAMMA/S1A_IW_20211006T111141_DVP_RTC30_G_gpufem_317F/S1A_IW_20211006T111141_DVP_RTC30_G_gpufem_317F_VH.tif\n",
      "\n",
      "Dataset/Cambodia/RTC_GAMMA/S1A_IW_20211006T111141_DVP_RTC30_G_gpufem_317F/S1A_IW_20211006T111141_DVP_RTC30_G_gpufem_317F_VV.tif\n",
      "\n",
      "Dataset/Cambodia/RTC_GAMMA/S1A_IW_20230129T111144_DVP_RTC30_G_gpufem_A72B/S1A_IW_20230129T111144_DVP_RTC30_G_gpufem_A72B_VH.tif\n",
      "\n",
      "Dataset/Cambodia/RTC_GAMMA/S1A_IW_20230129T111144_DVP_RTC30_G_gpufem_A72B/S1A_IW_20230129T111144_DVP_RTC30_G_gpufem_A72B_VV.tif\n",
      "\n",
      "Dataset/Cambodia/RTC_GAMMA/S1A_IW_20211217T111140_DVP_RTC30_G_gpufem_EDAA/S1A_IW_20211217T111140_DVP_RTC30_G_gpufem_EDAA_VV.tif\n",
      "\n",
      "Dataset/Cambodia/RTC_GAMMA/S1A_IW_20211217T111140_DVP_RTC30_G_gpufem_EDAA/S1A_IW_20211217T111140_DVP_RTC30_G_gpufem_EDAA_VH.tif\n",
      "\n",
      "Dataset/Cambodia/RTC_GAMMA/S1A_IW_20221025T111147_DVP_RTC30_G_gpufem_3A17/S1A_IW_20221025T111147_DVP_RTC30_G_gpufem_3A17_VH.tif\n",
      "\n",
      "Dataset/Cambodia/RTC_GAMMA/S1A_IW_20221025T111147_DVP_RTC30_G_gpufem_3A17/S1A_IW_20221025T111147_DVP_RTC30_G_gpufem_3A17_VV.tif\n",
      "\n",
      "Dataset/Cambodia/RTC_GAMMA/S1A_IW_20200929T111135_DVP_RTC30_G_gpufem_6C9A/S1A_IW_20200929T111135_DVP_RTC30_G_gpufem_6C9A_VV.tif\n",
      "\n",
      "Dataset/Cambodia/RTC_GAMMA/S1A_IW_20200929T111135_DVP_RTC30_G_gpufem_6C9A/S1A_IW_20200929T111135_DVP_RTC30_G_gpufem_6C9A_VH.tif\n",
      "\n",
      "Dataset/Cambodia/RTC_GAMMA/S1A_IW_20181127T111122_DVP_RTC30_G_gpufem_FC9F/S1A_IW_20181127T111122_DVP_RTC30_G_gpufem_FC9F_VH.tif\n",
      "\n",
      "Dataset/Cambodia/RTC_GAMMA/S1A_IW_20181127T111122_DVP_RTC30_G_gpufem_FC9F/S1A_IW_20181127T111122_DVP_RTC30_G_gpufem_FC9F_VV.tif\n",
      "\n",
      "Dataset/Cambodia/RTC_GAMMA/S1A_IW_20220323T111138_DVP_RTC30_G_gpufem_2794/S1A_IW_20220323T111138_DVP_RTC30_G_gpufem_2794_VH.tif\n",
      "\n",
      "Dataset/Cambodia/RTC_GAMMA/S1A_IW_20220323T111138_DVP_RTC30_G_gpufem_2794/S1A_IW_20220323T111138_DVP_RTC30_G_gpufem_2794_VV.tif\n",
      "\n",
      "Dataset/Cambodia/RTC_GAMMA/S1A_IW_20201116T111135_DVP_RTC30_G_gpufem_6673/S1A_IW_20201116T111135_DVP_RTC30_G_gpufem_6673_VH.tif\n",
      "\n",
      "Dataset/Cambodia/RTC_GAMMA/S1A_IW_20201116T111135_DVP_RTC30_G_gpufem_6673/S1A_IW_20201116T111135_DVP_RTC30_G_gpufem_6673_VV.tif\n",
      "\n",
      "Dataset/Cambodia/RTC_GAMMA/S1A_IW_20200109T111127_DVP_RTC30_G_gpufem_BF47/S1A_IW_20200109T111127_DVP_RTC30_G_gpufem_BF47_VV.tif\n",
      "\n",
      "Dataset/Cambodia/RTC_GAMMA/S1A_IW_20200109T111127_DVP_RTC30_G_gpufem_BF47/S1A_IW_20200109T111127_DVP_RTC30_G_gpufem_BF47_VH.tif\n",
      "\n",
      "Dataset/Cambodia/RTC_GAMMA/S1A_IW_20200917T111135_DVP_RTC30_G_gpufem_AF63/S1A_IW_20200917T111135_DVP_RTC30_G_gpufem_AF63_VH.tif\n",
      "\n",
      "Dataset/Cambodia/RTC_GAMMA/S1A_IW_20200917T111135_DVP_RTC30_G_gpufem_AF63/S1A_IW_20200917T111135_DVP_RTC30_G_gpufem_AF63_VV.tif\n",
      "\n",
      "Dataset/Cambodia/RTC_GAMMA/S1A_IW_20180507T111115_DVP_RTC30_G_gpufem_119E/S1A_IW_20180507T111115_DVP_RTC30_G_gpufem_119E_VV.tif\n",
      "\n",
      "Dataset/Cambodia/RTC_GAMMA/S1A_IW_20180507T111115_DVP_RTC30_G_gpufem_119E/S1A_IW_20180507T111115_DVP_RTC30_G_gpufem_119E_VH.tif\n",
      "\n",
      "Dataset/Cambodia/RTC_GAMMA/S1A_IW_20210515T111134_DVP_RTC30_G_gpufem_0F9F/S1A_IW_20210515T111134_DVP_RTC30_G_gpufem_0F9F_VH.tif\n",
      "\n",
      "Dataset/Cambodia/RTC_GAMMA/S1A_IW_20210515T111134_DVP_RTC30_G_gpufem_0F9F/S1A_IW_20210515T111134_DVP_RTC30_G_gpufem_0F9F_VV.tif\n",
      "\n",
      "Dataset/Cambodia/RTC_GAMMA/S1A_IW_20190607T111123_DVP_RTC30_G_gpufem_6575/S1A_IW_20190607T111123_DVP_RTC30_G_gpufem_6575_VV.tif\n",
      "\n",
      "Dataset/Cambodia/RTC_GAMMA/S1A_IW_20190607T111123_DVP_RTC30_G_gpufem_6575/S1A_IW_20190607T111123_DVP_RTC30_G_gpufem_6575_VH.tif\n",
      "\n",
      "Dataset/Cambodia/RTC_GAMMA/S1A_IW_20190207T111119_DVP_RTC30_G_gpufem_D208/S1A_IW_20190207T111119_DVP_RTC30_G_gpufem_D208_VH.tif\n",
      "\n",
      "Dataset/Cambodia/RTC_GAMMA/S1A_IW_20190207T111119_DVP_RTC30_G_gpufem_D208/S1A_IW_20190207T111119_DVP_RTC30_G_gpufem_D208_VV.tif\n",
      "\n",
      "Dataset/Cambodia/RTC_GAMMA/S1A_IW_20200309T111126_DVP_RTC30_G_gpufem_AC1F/S1A_IW_20200309T111126_DVP_RTC30_G_gpufem_AC1F_VV.tif\n",
      "\n",
      "Dataset/Cambodia/RTC_GAMMA/S1A_IW_20200309T111126_DVP_RTC30_G_gpufem_AC1F/S1A_IW_20200309T111126_DVP_RTC30_G_gpufem_AC1F_VH.tif\n",
      "\n",
      "Dataset/Cambodia/RTC_GAMMA/S1A_IW_20200508T111128_DVP_RTC30_G_gpufem_7750/S1A_IW_20200508T111128_DVP_RTC30_G_gpufem_7750_VV.tif\n",
      "\n",
      "Dataset/Cambodia/RTC_GAMMA/S1A_IW_20200508T111128_DVP_RTC30_G_gpufem_7750/S1A_IW_20200508T111128_DVP_RTC30_G_gpufem_7750_VH.tif\n",
      "\n",
      "Dataset/Cambodia/RTC_GAMMA/S1A_IW_20180413T111114_DVP_RTC30_G_gpufem_0F5C/S1A_IW_20180413T111114_DVP_RTC30_G_gpufem_0F5C_VH.tif\n",
      "\n",
      "Dataset/Cambodia/RTC_GAMMA/S1A_IW_20180413T111114_DVP_RTC30_G_gpufem_0F5C/S1A_IW_20180413T111114_DVP_RTC30_G_gpufem_0F5C_VV.tif\n",
      "\n",
      "Dataset/Cambodia/RTC_GAMMA/S1A_IW_20221130T111146_DVP_RTC30_G_gpufem_A5F3/S1A_IW_20221130T111146_DVP_RTC30_G_gpufem_A5F3_VH.tif\n",
      "\n",
      "Dataset/Cambodia/RTC_GAMMA/S1A_IW_20221130T111146_DVP_RTC30_G_gpufem_A5F3/S1A_IW_20221130T111146_DVP_RTC30_G_gpufem_A5F3_VV.tif\n",
      "\n",
      "Dataset/Cambodia/RTC_GAMMA/S1A_IW_20190114T111120_DVP_RTC30_G_gpufem_6100/S1A_IW_20190114T111120_DVP_RTC30_G_gpufem_6100_VH.tif\n",
      "\n",
      "Dataset/Cambodia/RTC_GAMMA/S1A_IW_20190114T111120_DVP_RTC30_G_gpufem_6100/S1A_IW_20190114T111120_DVP_RTC30_G_gpufem_6100_VV.tif\n",
      "\n",
      "Dataset/Cambodia/RTC_GAMMA/S1A_IW_20220907T111147_DVP_RTC30_G_gpufem_147C/S1A_IW_20220907T111147_DVP_RTC30_G_gpufem_147C_VV.tif\n",
      "\n",
      "Dataset/Cambodia/RTC_GAMMA/S1A_IW_20220907T111147_DVP_RTC30_G_gpufem_147C/S1A_IW_20220907T111147_DVP_RTC30_G_gpufem_147C_VH.tif\n",
      "\n",
      "Dataset/Cambodia/RTC_GAMMA/S1A_IW_20180718T111119_DVP_RTC30_G_gpufem_5AE4/S1A_IW_20180718T111119_DVP_RTC30_G_gpufem_5AE4_VV.tif\n",
      "\n",
      "Dataset/Cambodia/RTC_GAMMA/S1A_IW_20180718T111119_DVP_RTC30_G_gpufem_5AE4/S1A_IW_20180718T111119_DVP_RTC30_G_gpufem_5AE4_VH.tif\n",
      "\n",
      "Dataset/Cambodia/RTC_GAMMA/S1A_IW_20200613T111130_DVP_RTC30_G_gpufem_9B14/S1A_IW_20200613T111130_DVP_RTC30_G_gpufem_9B14_VH.tif\n",
      "\n",
      "Dataset/Cambodia/RTC_GAMMA/S1A_IW_20200613T111130_DVP_RTC30_G_gpufem_9B14/S1A_IW_20200613T111130_DVP_RTC30_G_gpufem_9B14_VV.tif\n",
      "\n",
      "Dataset/Cambodia/RTC_GAMMA/S1A_IW_20200601T111129_DVP_RTC30_G_gpufem_28E3/S1A_IW_20200601T111129_DVP_RTC30_G_gpufem_28E3_VH.tif\n",
      "\n",
      "Dataset/Cambodia/RTC_GAMMA/S1A_IW_20200601T111129_DVP_RTC30_G_gpufem_28E3/S1A_IW_20200601T111129_DVP_RTC30_G_gpufem_28E3_VV.tif\n",
      "\n",
      "Dataset/Cambodia/RTC_GAMMA/S1A_IW_20230517T111145_DVP_RTC30_G_gpufem_2150/S1A_IW_20230517T111145_DVP_RTC30_G_gpufem_2150_VH.tif\n",
      "\n",
      "Dataset/Cambodia/RTC_GAMMA/S1A_IW_20230517T111145_DVP_RTC30_G_gpufem_2150/S1A_IW_20230517T111145_DVP_RTC30_G_gpufem_2150_VV.tif\n",
      "\n",
      "Dataset/Cambodia/RTC_GAMMA/S1A_IW_20201023T111136_DVP_RTC30_G_gpufem_CC84/S1A_IW_20201023T111136_DVP_RTC30_G_gpufem_CC84_VH.tif\n",
      "\n",
      "Dataset/Cambodia/RTC_GAMMA/S1A_IW_20201023T111136_DVP_RTC30_G_gpufem_CC84/S1A_IW_20201023T111136_DVP_RTC30_G_gpufem_CC84_VV.tif\n",
      "\n",
      "Dataset/Cambodia/RTC_GAMMA/S1A_IW_20220826T111146_DVP_RTC30_G_gpufem_B18C/S1A_IW_20220826T111146_DVP_RTC30_G_gpufem_B18C_VH.tif\n",
      "\n",
      "Dataset/Cambodia/RTC_GAMMA/S1A_IW_20220826T111146_DVP_RTC30_G_gpufem_B18C/S1A_IW_20220826T111146_DVP_RTC30_G_gpufem_B18C_VV.tif\n",
      "\n",
      "Dataset/Cambodia/RTC_GAMMA/S1A_IW_20210328T111132_DVP_RTC30_G_gpufem_1F7C/S1A_IW_20210328T111132_DVP_RTC30_G_gpufem_1F7C_VH.tif\n",
      "\n",
      "Dataset/Cambodia/RTC_GAMMA/S1A_IW_20210328T111132_DVP_RTC30_G_gpufem_1F7C/S1A_IW_20210328T111132_DVP_RTC30_G_gpufem_1F7C_VV.tif\n",
      "\n",
      "Dataset/Cambodia/RTC_GAMMA/S1A_IW_20211123T111141_DVP_RTC30_G_gpufem_5510/S1A_IW_20211123T111141_DVP_RTC30_G_gpufem_5510_VH.tif\n",
      "\n",
      "Dataset/Cambodia/RTC_GAMMA/S1A_IW_20211123T111141_DVP_RTC30_G_gpufem_5510/S1A_IW_20211123T111141_DVP_RTC30_G_gpufem_5510_VV.tif\n",
      "\n",
      "Dataset/Cambodia/RTC_GAMMA/S1A_IW_20180823T111121_DVP_RTC30_G_gpufem_B833/S1A_IW_20180823T111121_DVP_RTC30_G_gpufem_B833_VH.tif\n",
      "\n",
      "Dataset/Cambodia/RTC_GAMMA/S1A_IW_20180823T111121_DVP_RTC30_G_gpufem_B833/S1A_IW_20180823T111121_DVP_RTC30_G_gpufem_B833_VV.tif\n",
      "\n",
      "Dataset/Cambodia/RTC_GAMMA/S1A_IW_20180131T111113_DVP_RTC30_G_gpufem_955B/S1A_IW_20180131T111113_DVP_RTC30_G_gpufem_955B_VV.tif\n",
      "\n",
      "Dataset/Cambodia/RTC_GAMMA/S1A_IW_20180131T111113_DVP_RTC30_G_gpufem_955B/S1A_IW_20180131T111113_DVP_RTC30_G_gpufem_955B_VH.tif\n",
      "\n"
     ]
    }
   ],
   "source": [
    "if rtc:\n",
    "    print_product_paths(product_paths)"
   ]
  },
  {
   "cell_type": "markdown",
   "metadata": {},
   "source": [
    "**Merge all the DEMs into one (overlapping data should be the same because they are all from COP30)**"
   ]
  },
  {
   "cell_type": "code",
   "execution_count": 41,
   "metadata": {},
   "outputs": [],
   "source": [
    "# List of DEM file paths\n",
    "dem_paths\n",
    "\n",
    "# List to store the opened DEM datasets\n",
    "datasets = []\n",
    "\n",
    "# Open each DEM dataset and add it to the list\n",
    "for file in dem_paths:\n",
    "    dataset = rasterio.open(file)\n",
    "    datasets.append(dataset)\n",
    "\n",
    "# Merge the DEM datasets\n",
    "merged, out_transform = merge(datasets)"
   ]
  },
  {
   "cell_type": "markdown",
   "metadata": {},
   "source": [
    "**Move all remaining unmerged tiffs into the output directory, and choose whether to save or delete the directory holding the remaining downloaded product files. AutoRIFT NetCDFs will remain in their original directory:**"
   ]
  },
  {
   "cell_type": "code",
   "execution_count": 42,
   "metadata": {},
   "outputs": [
    {
     "name": "stdout",
     "output_type": "stream",
     "text": [
      "Do you wish to save or delete the directory containing auxiliary product files?\n"
     ]
    },
    {
     "data": {
      "application/vnd.jupyter.widget-view+json": {
       "model_id": "a028433fa9274fa3b23a2096ad413f55",
       "version_major": 2,
       "version_minor": 0
      },
      "text/plain": [
       "RadioButtons(layout=Layout(min_width='800px'), options=('save', 'delete'), value='save')"
      ]
     },
     "metadata": {},
     "output_type": "display_data"
    }
   ],
   "source": [
    "if not autorift:\n",
    "    choices = ['save', 'delete']\n",
    "    print(\"Do you wish to save or delete the directory containing auxiliary product files?\")\n",
    "else:\n",
    "    choices = []\n",
    "save_or_del = asfn.select_parameter(choices)\n",
    "save_or_del"
   ]
  },
  {
   "cell_type": "code",
   "execution_count": 43,
   "metadata": {},
   "outputs": [
    {
     "data": {
      "text/plain": [
       "[PosixPath('Dataset/Cambodia/RTC_GAMMA/S1A_IW_20210103T111133_DVP_RTC30_G_gpufem_0BE4/S1A_IW_20210103T111133_DVP_RTC30_G_gpufem_0BE4_VV.tif'),\n",
       " PosixPath('Dataset/Cambodia/RTC_GAMMA/S1A_IW_20210103T111133_DVP_RTC30_G_gpufem_0BE4/S1A_IW_20210103T111133_DVP_RTC30_G_gpufem_0BE4_VH.tif'),\n",
       " PosixPath('Dataset/Cambodia/RTC_GAMMA/S1A_IW_20230622T111147_DVR_RTC30_G_gpufem_DADC/S1A_IW_20230622T111147_DVR_RTC30_G_gpufem_DADC_VH.tif'),\n",
       " PosixPath('Dataset/Cambodia/RTC_GAMMA/S1A_IW_20230622T111147_DVR_RTC30_G_gpufem_DADC/S1A_IW_20230622T111147_DVR_RTC30_G_gpufem_DADC_VV.tif'),\n",
       " PosixPath('Dataset/Cambodia/RTC_GAMMA/S1A_IW_20180928T111123_DVP_RTC30_G_gpufem_A976/S1A_IW_20180928T111123_DVP_RTC30_G_gpufem_A976_VV.tif'),\n",
       " PosixPath('Dataset/Cambodia/RTC_GAMMA/S1A_IW_20180928T111123_DVP_RTC30_G_gpufem_A976/S1A_IW_20180928T111123_DVP_RTC30_G_gpufem_A976_VH.tif'),\n",
       " PosixPath('Dataset/Cambodia/RTC_GAMMA/S1A_IW_20191204T111128_DVP_RTC30_G_gpufem_380E/S1A_IW_20191204T111128_DVP_RTC30_G_gpufem_380E_VV.tif'),\n",
       " PosixPath('Dataset/Cambodia/RTC_GAMMA/S1A_IW_20191204T111128_DVP_RTC30_G_gpufem_380E/S1A_IW_20191204T111128_DVP_RTC30_G_gpufem_380E_VH.tif'),\n",
       " PosixPath('Dataset/Cambodia/RTC_GAMMA/S1A_IW_20200226T111126_DVP_RTC30_G_gpufem_3845/S1A_IW_20200226T111126_DVP_RTC30_G_gpufem_3845_VV.tif'),\n",
       " PosixPath('Dataset/Cambodia/RTC_GAMMA/S1A_IW_20200226T111126_DVP_RTC30_G_gpufem_3845/S1A_IW_20200226T111126_DVP_RTC30_G_gpufem_3845_VH.tif'),\n",
       " PosixPath('Dataset/Cambodia/RTC_GAMMA/S1A_IW_20190806T111127_DVP_RTC30_G_gpufem_5C98/S1A_IW_20190806T111127_DVP_RTC30_G_gpufem_5C98_VV.tif'),\n",
       " PosixPath('Dataset/Cambodia/RTC_GAMMA/S1A_IW_20190806T111127_DVP_RTC30_G_gpufem_5C98/S1A_IW_20190806T111127_DVP_RTC30_G_gpufem_5C98_VH.tif'),\n",
       " PosixPath('Dataset/Cambodia/RTC_GAMMA/S1A_IW_20190725T111126_DVP_RTC30_G_gpufem_A4F6/S1A_IW_20190725T111126_DVP_RTC30_G_gpufem_A4F6_VH.tif'),\n",
       " PosixPath('Dataset/Cambodia/RTC_GAMMA/S1A_IW_20190725T111126_DVP_RTC30_G_gpufem_A4F6/S1A_IW_20190725T111126_DVP_RTC30_G_gpufem_A4F6_VV.tif'),\n",
       " PosixPath('Dataset/Cambodia/RTC_GAMMA/S1A_IW_20221013T111147_DVP_RTC30_G_gpufem_C03E/S1A_IW_20221013T111147_DVP_RTC30_G_gpufem_C03E_VV.tif'),\n",
       " PosixPath('Dataset/Cambodia/RTC_GAMMA/S1A_IW_20221013T111147_DVP_RTC30_G_gpufem_C03E/S1A_IW_20221013T111147_DVP_RTC30_G_gpufem_C03E_VH.tif'),\n",
       " PosixPath('Dataset/Cambodia/RTC_GAMMA/S1A_IW_20171214T111115_DVP_RTC30_G_gpufem_52D2/S1A_IW_20171214T111115_DVP_RTC30_G_gpufem_52D2_VH.tif'),\n",
       " PosixPath('Dataset/Cambodia/RTC_GAMMA/S1A_IW_20171214T111115_DVP_RTC30_G_gpufem_52D2/S1A_IW_20171214T111115_DVP_RTC30_G_gpufem_52D2_VV.tif'),\n",
       " PosixPath('Dataset/Cambodia/RTC_GAMMA/S1A_IW_20210819T111139_DVP_RTC30_G_gpufem_A578/S1A_IW_20210819T111139_DVP_RTC30_G_gpufem_A578_VH.tif'),\n",
       " PosixPath('Dataset/Cambodia/RTC_GAMMA/S1A_IW_20210819T111139_DVP_RTC30_G_gpufem_A578/S1A_IW_20210819T111139_DVP_RTC30_G_gpufem_A578_VV.tif'),\n",
       " PosixPath('Dataset/Cambodia/RTC_GAMMA/S1A_IW_20180308T111113_DVP_RTC30_G_gpufem_49B2/S1A_IW_20180308T111113_DVP_RTC30_G_gpufem_49B2_VH.tif'),\n",
       " PosixPath('Dataset/Cambodia/RTC_GAMMA/S1A_IW_20180308T111113_DVP_RTC30_G_gpufem_49B2/S1A_IW_20180308T111113_DVP_RTC30_G_gpufem_49B2_VV.tif'),\n",
       " PosixPath('Dataset/Cambodia/RTC_GAMMA/S1A_IW_20191017T111129_DVP_RTC30_G_gpufem_4389/S1A_IW_20191017T111129_DVP_RTC30_G_gpufem_4389_VV.tif'),\n",
       " PosixPath('Dataset/Cambodia/RTC_GAMMA/S1A_IW_20191017T111129_DVP_RTC30_G_gpufem_4389/S1A_IW_20191017T111129_DVP_RTC30_G_gpufem_4389_VH.tif'),\n",
       " PosixPath('Dataset/Cambodia/RTC_GAMMA/S1A_IW_20221224T111145_DVP_RTC30_G_gpufem_6065/S1A_IW_20221224T111145_DVP_RTC30_G_gpufem_6065_VV.tif'),\n",
       " PosixPath('Dataset/Cambodia/RTC_GAMMA/S1A_IW_20221224T111145_DVP_RTC30_G_gpufem_6065/S1A_IW_20221224T111145_DVP_RTC30_G_gpufem_6065_VH.tif'),\n",
       " PosixPath('Dataset/Cambodia/RTC_GAMMA/S1A_IW_20230105T111144_DVP_RTC30_G_gpufem_0633/S1A_IW_20230105T111144_DVP_RTC30_G_gpufem_0633_VV.tif'),\n",
       " PosixPath('Dataset/Cambodia/RTC_GAMMA/S1A_IW_20230105T111144_DVP_RTC30_G_gpufem_0633/S1A_IW_20230105T111144_DVP_RTC30_G_gpufem_0633_VH.tif'),\n",
       " PosixPath('Dataset/Cambodia/RTC_GAMMA/S1A_IW_20180212T111113_DVP_RTC30_G_gpufem_581E/S1A_IW_20180212T111113_DVP_RTC30_G_gpufem_581E_VV.tif'),\n",
       " PosixPath('Dataset/Cambodia/RTC_GAMMA/S1A_IW_20180212T111113_DVP_RTC30_G_gpufem_581E/S1A_IW_20180212T111113_DVP_RTC30_G_gpufem_581E_VH.tif'),\n",
       " PosixPath('Dataset/Cambodia/RTC_GAMMA/S1A_IW_20210527T111135_DVP_RTC30_G_gpufem_F4C4/S1A_IW_20210527T111135_DVP_RTC30_G_gpufem_F4C4_VV.tif'),\n",
       " PosixPath('Dataset/Cambodia/RTC_GAMMA/S1A_IW_20210527T111135_DVP_RTC30_G_gpufem_F4C4/S1A_IW_20210527T111135_DVP_RTC30_G_gpufem_F4C4_VH.tif'),\n",
       " PosixPath('Dataset/Cambodia/RTC_GAMMA/S1A_IW_20210714T111138_DVP_RTC30_G_gpufem_F6C3/S1A_IW_20210714T111138_DVP_RTC30_G_gpufem_F6C3_VV.tif'),\n",
       " PosixPath('Dataset/Cambodia/RTC_GAMMA/S1A_IW_20210714T111138_DVP_RTC30_G_gpufem_F6C3/S1A_IW_20210714T111138_DVP_RTC30_G_gpufem_F6C3_VH.tif'),\n",
       " PosixPath('Dataset/Cambodia/RTC_GAMMA/S1A_IW_20200214T111126_DVP_RTC30_G_gpufem_299B/S1A_IW_20200214T111126_DVP_RTC30_G_gpufem_299B_VV.tif'),\n",
       " PosixPath('Dataset/Cambodia/RTC_GAMMA/S1A_IW_20200214T111126_DVP_RTC30_G_gpufem_299B/S1A_IW_20200214T111126_DVP_RTC30_G_gpufem_299B_VH.tif'),\n",
       " PosixPath('Dataset/Cambodia/RTC_GAMMA/S1A_IW_20220802T111145_DVP_RTC30_G_gpufem_71B5/S1A_IW_20220802T111145_DVP_RTC30_G_gpufem_71B5_VH.tif'),\n",
       " PosixPath('Dataset/Cambodia/RTC_GAMMA/S1A_IW_20220802T111145_DVP_RTC30_G_gpufem_71B5/S1A_IW_20220802T111145_DVP_RTC30_G_gpufem_71B5_VV.tif'),\n",
       " PosixPath('Dataset/Cambodia/RTC_GAMMA/S1A_IW_20200824T111134_DVP_RTC30_G_gpufem_3B79/S1A_IW_20200824T111134_DVP_RTC30_G_gpufem_3B79_VV.tif'),\n",
       " PosixPath('Dataset/Cambodia/RTC_GAMMA/S1A_IW_20200824T111134_DVP_RTC30_G_gpufem_3B79/S1A_IW_20200824T111134_DVP_RTC30_G_gpufem_3B79_VH.tif'),\n",
       " PosixPath('Dataset/Cambodia/RTC_GAMMA/S1A_IW_20220215T111137_DVP_RTC30_G_gpufem_415A/S1A_IW_20220215T111137_DVP_RTC30_G_gpufem_415A_VV.tif'),\n",
       " PosixPath('Dataset/Cambodia/RTC_GAMMA/S1A_IW_20220215T111137_DVP_RTC30_G_gpufem_415A/S1A_IW_20220215T111137_DVP_RTC30_G_gpufem_415A_VH.tif'),\n",
       " PosixPath('Dataset/Cambodia/RTC_GAMMA/S1A_IW_20200812T111133_DVP_RTC30_G_gpufem_AF7C/S1A_IW_20200812T111133_DVP_RTC30_G_gpufem_AF7C_VV.tif'),\n",
       " PosixPath('Dataset/Cambodia/RTC_GAMMA/S1A_IW_20200812T111133_DVP_RTC30_G_gpufem_AF7C/S1A_IW_20200812T111133_DVP_RTC30_G_gpufem_AF7C_VH.tif'),\n",
       " PosixPath('Dataset/Cambodia/RTC_GAMMA/S1A_IW_20180401T111113_DVP_RTC30_G_gpufem_E0C3/S1A_IW_20180401T111113_DVP_RTC30_G_gpufem_E0C3_VH.tif'),\n",
       " PosixPath('Dataset/Cambodia/RTC_GAMMA/S1A_IW_20180401T111113_DVP_RTC30_G_gpufem_E0C3/S1A_IW_20180401T111113_DVP_RTC30_G_gpufem_E0C3_VV.tif'),\n",
       " PosixPath('Dataset/Cambodia/RTC_GAMMA/S1A_IW_20190923T111129_DVP_RTC30_G_gpufem_8986/S1A_IW_20190923T111129_DVP_RTC30_G_gpufem_8986_VH.tif'),\n",
       " PosixPath('Dataset/Cambodia/RTC_GAMMA/S1A_IW_20190923T111129_DVP_RTC30_G_gpufem_8986/S1A_IW_20190923T111129_DVP_RTC30_G_gpufem_8986_VV.tif'),\n",
       " PosixPath('Dataset/Cambodia/RTC_GAMMA/S1A_IW_20210912T111141_DVP_RTC30_G_gpufem_0F27/S1A_IW_20210912T111141_DVP_RTC30_G_gpufem_0F27_VV.tif'),\n",
       " PosixPath('Dataset/Cambodia/RTC_GAMMA/S1A_IW_20210912T111141_DVP_RTC30_G_gpufem_0F27/S1A_IW_20210912T111141_DVP_RTC30_G_gpufem_0F27_VH.tif'),\n",
       " PosixPath('Dataset/Cambodia/RTC_GAMMA/S1A_IW_20210127T111132_DVP_RTC30_G_gpufem_03A7/S1A_IW_20210127T111132_DVP_RTC30_G_gpufem_03A7_VV.tif'),\n",
       " PosixPath('Dataset/Cambodia/RTC_GAMMA/S1A_IW_20210127T111132_DVP_RTC30_G_gpufem_03A7/S1A_IW_20210127T111132_DVP_RTC30_G_gpufem_03A7_VH.tif'),\n",
       " PosixPath('Dataset/Cambodia/RTC_GAMMA/S1A_IW_20220603T111141_DVP_RTC30_G_gpufem_0E96/S1A_IW_20220603T111141_DVP_RTC30_G_gpufem_0E96_VH.tif'),\n",
       " PosixPath('Dataset/Cambodia/RTC_GAMMA/S1A_IW_20220603T111141_DVP_RTC30_G_gpufem_0E96/S1A_IW_20220603T111141_DVP_RTC30_G_gpufem_0E96_VV.tif'),\n",
       " PosixPath('Dataset/Cambodia/RTC_GAMMA/S1A_IW_20180320T111113_DVP_RTC30_G_gpufem_FACE/S1A_IW_20180320T111113_DVP_RTC30_G_gpufem_FACE_VH.tif'),\n",
       " PosixPath('Dataset/Cambodia/RTC_GAMMA/S1A_IW_20180320T111113_DVP_RTC30_G_gpufem_FACE/S1A_IW_20180320T111113_DVP_RTC30_G_gpufem_FACE_VV.tif'),\n",
       " PosixPath('Dataset/Cambodia/RTC_GAMMA/S1A_IW_20211229T111139_DVP_RTC30_G_gpufem_AA81/S1A_IW_20211229T111139_DVP_RTC30_G_gpufem_AA81_VV.tif'),\n",
       " PosixPath('Dataset/Cambodia/RTC_GAMMA/S1A_IW_20211229T111139_DVP_RTC30_G_gpufem_AA81/S1A_IW_20211229T111139_DVP_RTC30_G_gpufem_AA81_VH.tif'),\n",
       " PosixPath('Dataset/Cambodia/RTC_GAMMA/S1A_IW_20220404T111138_DVP_RTC30_G_gpufem_E130/S1A_IW_20220404T111138_DVP_RTC30_G_gpufem_E130_VV.tif'),\n",
       " PosixPath('Dataset/Cambodia/RTC_GAMMA/S1A_IW_20220404T111138_DVP_RTC30_G_gpufem_E130/S1A_IW_20220404T111138_DVP_RTC30_G_gpufem_E130_VH.tif'),\n",
       " PosixPath('Dataset/Cambodia/RTC_GAMMA/S1A_IW_20221001T111147_DVP_RTC30_G_gpufem_EDEC/S1A_IW_20221001T111147_DVP_RTC30_G_gpufem_EDEC_VV.tif'),\n",
       " PosixPath('Dataset/Cambodia/RTC_GAMMA/S1A_IW_20221001T111147_DVP_RTC30_G_gpufem_EDEC/S1A_IW_20221001T111147_DVP_RTC30_G_gpufem_EDEC_VH.tif'),\n",
       " PosixPath('Dataset/Cambodia/RTC_GAMMA/S1A_IW_20200426T111127_DVP_RTC30_G_gpufem_6DA1/S1A_IW_20200426T111127_DVP_RTC30_G_gpufem_6DA1_VH.tif'),\n",
       " PosixPath('Dataset/Cambodia/RTC_GAMMA/S1A_IW_20200426T111127_DVP_RTC30_G_gpufem_6DA1/S1A_IW_20200426T111127_DVP_RTC30_G_gpufem_6DA1_VV.tif'),\n",
       " PosixPath('Dataset/Cambodia/RTC_GAMMA/S1A_IW_20180531T111116_DVP_RTC30_G_gpufem_1142/S1A_IW_20180531T111116_DVP_RTC30_G_gpufem_1142_VH.tif'),\n",
       " PosixPath('Dataset/Cambodia/RTC_GAMMA/S1A_IW_20180531T111116_DVP_RTC30_G_gpufem_1142/S1A_IW_20180531T111116_DVP_RTC30_G_gpufem_1142_VV.tif'),\n",
       " PosixPath('Dataset/Cambodia/RTC_GAMMA/S1A_IW_20200414T111127_DVP_RTC30_G_gpufem_F738/S1A_IW_20200414T111127_DVP_RTC30_G_gpufem_F738_VV.tif'),\n",
       " PosixPath('Dataset/Cambodia/RTC_GAMMA/S1A_IW_20200414T111127_DVP_RTC30_G_gpufem_F738/S1A_IW_20200414T111127_DVP_RTC30_G_gpufem_F738_VH.tif'),\n",
       " PosixPath('Dataset/Cambodia/RTC_GAMMA/S1A_IW_20180425T111114_DVP_RTC30_G_gpufem_31ED/S1A_IW_20180425T111114_DVP_RTC30_G_gpufem_31ED_VV.tif'),\n",
       " PosixPath('Dataset/Cambodia/RTC_GAMMA/S1A_IW_20180425T111114_DVP_RTC30_G_gpufem_31ED/S1A_IW_20180425T111114_DVP_RTC30_G_gpufem_31ED_VH.tif'),\n",
       " PosixPath('Dataset/Cambodia/RTC_GAMMA/S1A_IW_20190102T111121_DVP_RTC30_G_gpufem_A8D7/S1A_IW_20190102T111121_DVP_RTC30_G_gpufem_A8D7_VH.tif'),\n",
       " PosixPath('Dataset/Cambodia/RTC_GAMMA/S1A_IW_20190102T111121_DVP_RTC30_G_gpufem_A8D7/S1A_IW_20190102T111121_DVP_RTC30_G_gpufem_A8D7_VV.tif'),\n",
       " PosixPath('Dataset/Cambodia/RTC_GAMMA/S1A_IW_20190818T111127_DVP_RTC30_G_gpufem_1CD6/S1A_IW_20190818T111127_DVP_RTC30_G_gpufem_1CD6_VV.tif'),\n",
       " PosixPath('Dataset/Cambodia/RTC_GAMMA/S1A_IW_20190818T111127_DVP_RTC30_G_gpufem_1CD6/S1A_IW_20190818T111127_DVP_RTC30_G_gpufem_1CD6_VH.tif'),\n",
       " PosixPath('Dataset/Cambodia/RTC_GAMMA/S1A_IW_20200121T111127_DVP_RTC30_G_gpufem_E103/S1A_IW_20200121T111127_DVP_RTC30_G_gpufem_E103_VV.tif'),\n",
       " PosixPath('Dataset/Cambodia/RTC_GAMMA/S1A_IW_20200121T111127_DVP_RTC30_G_gpufem_E103/S1A_IW_20200121T111127_DVP_RTC30_G_gpufem_E103_VH.tif'),\n",
       " PosixPath('Dataset/Cambodia/RTC_GAMMA/S1A_IW_20230318T111143_DVP_RTC30_G_gpufem_7F1A/S1A_IW_20230318T111143_DVP_RTC30_G_gpufem_7F1A_VH.tif'),\n",
       " PosixPath('Dataset/Cambodia/RTC_GAMMA/S1A_IW_20230318T111143_DVP_RTC30_G_gpufem_7F1A/S1A_IW_20230318T111143_DVP_RTC30_G_gpufem_7F1A_VV.tif'),\n",
       " PosixPath('Dataset/Cambodia/RTC_GAMMA/S1A_IW_20180624T111118_DVP_RTC30_G_gpufem_9175/S1A_IW_20180624T111118_DVP_RTC30_G_gpufem_9175_VV.tif'),\n",
       " PosixPath('Dataset/Cambodia/RTC_GAMMA/S1A_IW_20180624T111118_DVP_RTC30_G_gpufem_9175/S1A_IW_20180624T111118_DVP_RTC30_G_gpufem_9175_VH.tif'),\n",
       " PosixPath('Dataset/Cambodia/RTC_GAMMA/S1A_IW_20191216T111128_DVP_RTC30_G_gpufem_1801/S1A_IW_20191216T111128_DVP_RTC30_G_gpufem_1801_VH.tif'),\n",
       " PosixPath('Dataset/Cambodia/RTC_GAMMA/S1A_IW_20191216T111128_DVP_RTC30_G_gpufem_1801/S1A_IW_20191216T111128_DVP_RTC30_G_gpufem_1801_VV.tif'),\n",
       " PosixPath('Dataset/Cambodia/RTC_GAMMA/S1A_IW_20211018T111141_DVP_RTC30_G_gpufem_84F6/S1A_IW_20211018T111141_DVP_RTC30_G_gpufem_84F6_VV.tif'),\n",
       " PosixPath('Dataset/Cambodia/RTC_GAMMA/S1A_IW_20211018T111141_DVP_RTC30_G_gpufem_84F6/S1A_IW_20211018T111141_DVP_RTC30_G_gpufem_84F6_VH.tif'),\n",
       " PosixPath('Dataset/Cambodia/RTC_GAMMA/S1A_IW_20200707T111131_DVP_RTC30_G_gpufem_3FE9/S1A_IW_20200707T111131_DVP_RTC30_G_gpufem_3FE9_VV.tif'),\n",
       " PosixPath('Dataset/Cambodia/RTC_GAMMA/S1A_IW_20200707T111131_DVP_RTC30_G_gpufem_3FE9/S1A_IW_20200707T111131_DVP_RTC30_G_gpufem_3FE9_VH.tif'),\n",
       " PosixPath('Dataset/Cambodia/RTC_GAMMA/S1A_IW_20220919T111146_DVP_RTC30_G_gpufem_DB75/S1A_IW_20220919T111146_DVP_RTC30_G_gpufem_DB75_VV.tif'),\n",
       " PosixPath('Dataset/Cambodia/RTC_GAMMA/S1A_IW_20220919T111146_DVP_RTC30_G_gpufem_DB75/S1A_IW_20220919T111146_DVP_RTC30_G_gpufem_DB75_VH.tif'),\n",
       " PosixPath('Dataset/Cambodia/RTC_GAMMA/S1A_IW_20220110T111139_DVP_RTC30_G_gpufem_45D5/S1A_IW_20220110T111139_DVP_RTC30_G_gpufem_45D5_VH.tif'),\n",
       " PosixPath('Dataset/Cambodia/RTC_GAMMA/S1A_IW_20220110T111139_DVP_RTC30_G_gpufem_45D5/S1A_IW_20220110T111139_DVP_RTC30_G_gpufem_45D5_VV.tif'),\n",
       " PosixPath('Dataset/Cambodia/RTC_GAMMA/S1A_IW_20181010T111123_DVP_RTC30_G_gpufem_AEB8/S1A_IW_20181010T111123_DVP_RTC30_G_gpufem_AEB8_VH.tif'),\n",
       " PosixPath('Dataset/Cambodia/RTC_GAMMA/S1A_IW_20181010T111123_DVP_RTC30_G_gpufem_AEB8/S1A_IW_20181010T111123_DVP_RTC30_G_gpufem_AEB8_VV.tif'),\n",
       " PosixPath('Dataset/Cambodia/RTC_GAMMA/S1A_IW_20200731T111133_DVP_RTC30_G_gpufem_87F7/S1A_IW_20200731T111133_DVP_RTC30_G_gpufem_87F7_VV.tif'),\n",
       " PosixPath('Dataset/Cambodia/RTC_GAMMA/S1A_IW_20200731T111133_DVP_RTC30_G_gpufem_87F7/S1A_IW_20200731T111133_DVP_RTC30_G_gpufem_87F7_VH.tif'),\n",
       " PosixPath('Dataset/Cambodia/RTC_GAMMA/S1A_IW_20201104T111135_DVP_RTC30_G_gpufem_FDFF/S1A_IW_20201104T111135_DVP_RTC30_G_gpufem_FDFF_VH.tif'),\n",
       " PosixPath('Dataset/Cambodia/RTC_GAMMA/S1A_IW_20201104T111135_DVP_RTC30_G_gpufem_FDFF/S1A_IW_20201104T111135_DVP_RTC30_G_gpufem_FDFF_VV.tif'),\n",
       " PosixPath('Dataset/Cambodia/RTC_GAMMA/S1A_IW_20180811T111121_DVP_RTC30_G_gpufem_C2B4/S1A_IW_20180811T111121_DVP_RTC30_G_gpufem_C2B4_VV.tif'),\n",
       " PosixPath('Dataset/Cambodia/RTC_GAMMA/S1A_IW_20180811T111121_DVP_RTC30_G_gpufem_C2B4/S1A_IW_20180811T111121_DVP_RTC30_G_gpufem_C2B4_VH.tif'),\n",
       " PosixPath('Dataset/Cambodia/RTC_GAMMA/S1A_IW_20210702T111137_DVP_RTC30_G_gpufem_FD5E/S1A_IW_20210702T111137_DVP_RTC30_G_gpufem_FD5E_VH.tif'),\n",
       " PosixPath('Dataset/Cambodia/RTC_GAMMA/S1A_IW_20210702T111137_DVP_RTC30_G_gpufem_FD5E/S1A_IW_20210702T111137_DVP_RTC30_G_gpufem_FD5E_VV.tif'),\n",
       " PosixPath('Dataset/Cambodia/RTC_GAMMA/S1A_IW_20180119T111114_DVP_RTC30_G_gpufem_287C/S1A_IW_20180119T111114_DVP_RTC30_G_gpufem_287C_VV.tif'),\n",
       " PosixPath('Dataset/Cambodia/RTC_GAMMA/S1A_IW_20180119T111114_DVP_RTC30_G_gpufem_287C/S1A_IW_20180119T111114_DVP_RTC30_G_gpufem_287C_VH.tif'),\n",
       " PosixPath('Dataset/Cambodia/RTC_GAMMA/S1A_IW_20190303T111120_DVP_RTC30_G_gpufem_8B62/S1A_IW_20190303T111120_DVP_RTC30_G_gpufem_8B62_VH.tif'),\n",
       " PosixPath('Dataset/Cambodia/RTC_GAMMA/S1A_IW_20190303T111120_DVP_RTC30_G_gpufem_8B62/S1A_IW_20190303T111120_DVP_RTC30_G_gpufem_8B62_VV.tif'),\n",
       " PosixPath('Dataset/Cambodia/RTC_GAMMA/S1A_IW_20201210T111134_DVP_RTC30_G_gpufem_ABB6/S1A_IW_20201210T111134_DVP_RTC30_G_gpufem_ABB6_VH.tif'),\n",
       " PosixPath('Dataset/Cambodia/RTC_GAMMA/S1A_IW_20201210T111134_DVP_RTC30_G_gpufem_ABB6/S1A_IW_20201210T111134_DVP_RTC30_G_gpufem_ABB6_VV.tif'),\n",
       " PosixPath('Dataset/Cambodia/RTC_GAMMA/S1A_IW_20190619T111123_DVP_RTC30_G_gpufem_1D81/S1A_IW_20190619T111123_DVP_RTC30_G_gpufem_1D81_VV.tif'),\n",
       " PosixPath('Dataset/Cambodia/RTC_GAMMA/S1A_IW_20190619T111123_DVP_RTC30_G_gpufem_1D81/S1A_IW_20190619T111123_DVP_RTC30_G_gpufem_1D81_VH.tif'),\n",
       " PosixPath('Dataset/Cambodia/RTC_GAMMA/S1A_IW_20220416T111138_DVP_RTC30_G_gpufem_53BC/S1A_IW_20220416T111138_DVP_RTC30_G_gpufem_53BC_VV.tif'),\n",
       " PosixPath('Dataset/Cambodia/RTC_GAMMA/S1A_IW_20220416T111138_DVP_RTC30_G_gpufem_53BC/S1A_IW_20220416T111138_DVP_RTC30_G_gpufem_53BC_VH.tif'),\n",
       " PosixPath('Dataset/Cambodia/RTC_GAMMA/S1A_IW_20191110T111129_DVP_RTC30_G_gpufem_00EE/S1A_IW_20191110T111129_DVP_RTC30_G_gpufem_00EE_VH.tif'),\n",
       " PosixPath('Dataset/Cambodia/RTC_GAMMA/S1A_IW_20191110T111129_DVP_RTC30_G_gpufem_00EE/S1A_IW_20191110T111129_DVP_RTC30_G_gpufem_00EE_VV.tif'),\n",
       " PosixPath('Dataset/Cambodia/RTC_GAMMA/S1A_IW_20220311T111137_DVP_RTC30_G_gpufem_BF4F/S1A_IW_20220311T111137_DVP_RTC30_G_gpufem_BF4F_VH.tif'),\n",
       " PosixPath('Dataset/Cambodia/RTC_GAMMA/S1A_IW_20220311T111137_DVP_RTC30_G_gpufem_BF4F/S1A_IW_20220311T111137_DVP_RTC30_G_gpufem_BF4F_VV.tif'),\n",
       " PosixPath('Dataset/Cambodia/RTC_GAMMA/S1A_IW_20180519T111116_DVP_RTC30_G_gpufem_66F3/S1A_IW_20180519T111116_DVP_RTC30_G_gpufem_66F3_VV.tif'),\n",
       " PosixPath('Dataset/Cambodia/RTC_GAMMA/S1A_IW_20180519T111116_DVP_RTC30_G_gpufem_66F3/S1A_IW_20180519T111116_DVP_RTC30_G_gpufem_66F3_VH.tif'),\n",
       " PosixPath('Dataset/Cambodia/RTC_GAMMA/S1A_IW_20220428T111139_DVP_RTC30_G_gpufem_423B/S1A_IW_20220428T111139_DVP_RTC30_G_gpufem_423B_VH.tif'),\n",
       " PosixPath('Dataset/Cambodia/RTC_GAMMA/S1A_IW_20220428T111139_DVP_RTC30_G_gpufem_423B/S1A_IW_20220428T111139_DVP_RTC30_G_gpufem_423B_VV.tif'),\n",
       " PosixPath('Dataset/Cambodia/RTC_GAMMA/S1A_IW_20201128T111135_DVP_RTC30_G_gpufem_0ED5/S1A_IW_20201128T111135_DVP_RTC30_G_gpufem_0ED5_VV.tif'),\n",
       " PosixPath('Dataset/Cambodia/RTC_GAMMA/S1A_IW_20201128T111135_DVP_RTC30_G_gpufem_0ED5/S1A_IW_20201128T111135_DVP_RTC30_G_gpufem_0ED5_VH.tif'),\n",
       " PosixPath('Dataset/Cambodia/RTC_GAMMA/S1A_IW_20180107T111114_DVP_RTC30_G_gpufem_9D06/S1A_IW_20180107T111114_DVP_RTC30_G_gpufem_9D06_VH.tif'),\n",
       " PosixPath('Dataset/Cambodia/RTC_GAMMA/S1A_IW_20180107T111114_DVP_RTC30_G_gpufem_9D06/S1A_IW_20180107T111114_DVP_RTC30_G_gpufem_9D06_VV.tif'),\n",
       " PosixPath('Dataset/Cambodia/RTC_GAMMA/S1A_IW_20181103T111123_DVP_RTC30_G_gpufem_56E1/S1A_IW_20181103T111123_DVP_RTC30_G_gpufem_56E1_VV.tif'),\n",
       " PosixPath('Dataset/Cambodia/RTC_GAMMA/S1A_IW_20181103T111123_DVP_RTC30_G_gpufem_56E1/S1A_IW_20181103T111123_DVP_RTC30_G_gpufem_56E1_VH.tif'),\n",
       " PosixPath('Dataset/Cambodia/RTC_GAMMA/S1A_IW_20220510T111139_DVP_RTC30_G_gpufem_952C/S1A_IW_20220510T111139_DVP_RTC30_G_gpufem_952C_VV.tif'),\n",
       " PosixPath('Dataset/Cambodia/RTC_GAMMA/S1A_IW_20220510T111139_DVP_RTC30_G_gpufem_952C/S1A_IW_20220510T111139_DVP_RTC30_G_gpufem_952C_VH.tif'),\n",
       " PosixPath('Dataset/Cambodia/RTC_GAMMA/S1A_IW_20181209T111122_DVP_RTC30_G_gpufem_9E2E/S1A_IW_20181209T111122_DVP_RTC30_G_gpufem_9E2E_VH.tif'),\n",
       " PosixPath('Dataset/Cambodia/RTC_GAMMA/S1A_IW_20181209T111122_DVP_RTC30_G_gpufem_9E2E/S1A_IW_20181209T111122_DVP_RTC30_G_gpufem_9E2E_VV.tif'),\n",
       " PosixPath('Dataset/Cambodia/RTC_GAMMA/S1A_IW_20171015T111116_DVP_RTC30_G_gpufem_C4E1/S1A_IW_20171015T111116_DVP_RTC30_G_gpufem_C4E1_VH.tif'),\n",
       " PosixPath('Dataset/Cambodia/RTC_GAMMA/S1A_IW_20171015T111116_DVP_RTC30_G_gpufem_C4E1/S1A_IW_20171015T111116_DVP_RTC30_G_gpufem_C4E1_VV.tif'),\n",
       " PosixPath('Dataset/Cambodia/RTC_GAMMA/S1A_IW_20190701T111124_DVP_RTC30_G_gpufem_671D/S1A_IW_20190701T111124_DVP_RTC30_G_gpufem_671D_VH.tif'),\n",
       " PosixPath('Dataset/Cambodia/RTC_GAMMA/S1A_IW_20190701T111124_DVP_RTC30_G_gpufem_671D/S1A_IW_20190701T111124_DVP_RTC30_G_gpufem_671D_VV.tif'),\n",
       " PosixPath('Dataset/Cambodia/RTC_GAMMA/S1A_IW_20200321T111126_DVP_RTC30_G_gpufem_AF4C/S1A_IW_20200321T111126_DVP_RTC30_G_gpufem_AF4C_VH.tif'),\n",
       " PosixPath('Dataset/Cambodia/RTC_GAMMA/S1A_IW_20200321T111126_DVP_RTC30_G_gpufem_AF4C/S1A_IW_20200321T111126_DVP_RTC30_G_gpufem_AF4C_VV.tif'),\n",
       " PosixPath('Dataset/Cambodia/RTC_GAMMA/S1A_IW_20230117T111144_DVP_RTC30_G_gpufem_80BE/S1A_IW_20230117T111144_DVP_RTC30_G_gpufem_80BE_VV.tif'),\n",
       " PosixPath('Dataset/Cambodia/RTC_GAMMA/S1A_IW_20230117T111144_DVP_RTC30_G_gpufem_80BE/S1A_IW_20230117T111144_DVP_RTC30_G_gpufem_80BE_VH.tif'),\n",
       " PosixPath('Dataset/Cambodia/RTC_GAMMA/S1A_IW_20230529T111146_DVP_RTC30_G_gpufem_EF64/S1A_IW_20230529T111146_DVP_RTC30_G_gpufem_EF64_VV.tif'),\n",
       " PosixPath('Dataset/Cambodia/RTC_GAMMA/S1A_IW_20230529T111146_DVP_RTC30_G_gpufem_EF64/S1A_IW_20230529T111146_DVP_RTC30_G_gpufem_EF64_VH.tif'),\n",
       " PosixPath('Dataset/Cambodia/RTC_GAMMA/S1A_IW_20210304T111131_DVP_RTC30_G_gpufem_61FD/S1A_IW_20210304T111131_DVP_RTC30_G_gpufem_61FD_VV.tif'),\n",
       " PosixPath('Dataset/Cambodia/RTC_GAMMA/S1A_IW_20210304T111131_DVP_RTC30_G_gpufem_61FD/S1A_IW_20210304T111131_DVP_RTC30_G_gpufem_61FD_VH.tif'),\n",
       " PosixPath('Dataset/Cambodia/RTC_GAMMA/S1A_IW_20190526T111122_DVP_RTC30_G_gpufem_0975/S1A_IW_20190526T111122_DVP_RTC30_G_gpufem_0975_VH.tif'),\n",
       " PosixPath('Dataset/Cambodia/RTC_GAMMA/S1A_IW_20190526T111122_DVP_RTC30_G_gpufem_0975/S1A_IW_20190526T111122_DVP_RTC30_G_gpufem_0975_VV.tif'),\n",
       " PosixPath('Dataset/Cambodia/RTC_GAMMA/S1A_IW_20221212T111146_DVP_RTC30_G_gpufem_6A60/S1A_IW_20221212T111146_DVP_RTC30_G_gpufem_6A60_VH.tif'),\n",
       " PosixPath('Dataset/Cambodia/RTC_GAMMA/S1A_IW_20221212T111146_DVP_RTC30_G_gpufem_6A60/S1A_IW_20221212T111146_DVP_RTC30_G_gpufem_6A60_VV.tif'),\n",
       " PosixPath('Dataset/Cambodia/RTC_GAMMA/S1A_IW_20230306T111143_DVP_RTC30_G_gpufem_D1D3/S1A_IW_20230306T111143_DVP_RTC30_G_gpufem_D1D3_VH.tif'),\n",
       " PosixPath('Dataset/Cambodia/RTC_GAMMA/S1A_IW_20230306T111143_DVP_RTC30_G_gpufem_D1D3/S1A_IW_20230306T111143_DVP_RTC30_G_gpufem_D1D3_VV.tif'),\n",
       " PosixPath('Dataset/Cambodia/RTC_GAMMA/S1A_IW_20210726T111138_DVP_RTC30_G_gpufem_71ED/S1A_IW_20210726T111138_DVP_RTC30_G_gpufem_71ED_VV.tif'),\n",
       " PosixPath('Dataset/Cambodia/RTC_GAMMA/S1A_IW_20210726T111138_DVP_RTC30_G_gpufem_71ED/S1A_IW_20210726T111138_DVP_RTC30_G_gpufem_71ED_VH.tif'),\n",
       " PosixPath('Dataset/Cambodia/RTC_GAMMA/S1A_IW_20190315T111119_DVP_RTC30_G_gpufem_338B/S1A_IW_20190315T111119_DVP_RTC30_G_gpufem_338B_VV.tif'),\n",
       " PosixPath('Dataset/Cambodia/RTC_GAMMA/S1A_IW_20190315T111119_DVP_RTC30_G_gpufem_338B/S1A_IW_20190315T111119_DVP_RTC30_G_gpufem_338B_VH.tif'),\n",
       " PosixPath('Dataset/Cambodia/RTC_GAMMA/S1A_IW_20211205T111140_DVP_RTC30_G_gpufem_87B1/S1A_IW_20211205T111140_DVP_RTC30_G_gpufem_87B1_VH.tif'),\n",
       " PosixPath('Dataset/Cambodia/RTC_GAMMA/S1A_IW_20211205T111140_DVP_RTC30_G_gpufem_87B1/S1A_IW_20211205T111140_DVP_RTC30_G_gpufem_87B1_VV.tif'),\n",
       " PosixPath('Dataset/Cambodia/RTC_GAMMA/S1A_IW_20190830T111128_DVP_RTC30_G_gpufem_CC23/S1A_IW_20190830T111128_DVP_RTC30_G_gpufem_CC23_VV.tif'),\n",
       " PosixPath('Dataset/Cambodia/RTC_GAMMA/S1A_IW_20190830T111128_DVP_RTC30_G_gpufem_CC23/S1A_IW_20190830T111128_DVP_RTC30_G_gpufem_CC23_VH.tif'),\n",
       " PosixPath('Dataset/Cambodia/RTC_GAMMA/S1A_IW_20190502T111121_DVP_RTC30_G_gpufem_0187/S1A_IW_20190502T111121_DVP_RTC30_G_gpufem_0187_VH.tif'),\n",
       " PosixPath('Dataset/Cambodia/RTC_GAMMA/S1A_IW_20190502T111121_DVP_RTC30_G_gpufem_0187/S1A_IW_20190502T111121_DVP_RTC30_G_gpufem_0187_VV.tif'),\n",
       " PosixPath('Dataset/Cambodia/RTC_GAMMA/S1A_IW_20210831T111140_DVP_RTC30_G_gpufem_A9FB/S1A_IW_20210831T111140_DVP_RTC30_G_gpufem_A9FB_VV.tif'),\n",
       " PosixPath('Dataset/Cambodia/RTC_GAMMA/S1A_IW_20210831T111140_DVP_RTC30_G_gpufem_A9FB/S1A_IW_20210831T111140_DVP_RTC30_G_gpufem_A9FB_VH.tif'),\n",
       " PosixPath('Dataset/Cambodia/RTC_GAMMA/S1A_IW_20190408T111120_DVP_RTC30_G_gpufem_D773/S1A_IW_20190408T111120_DVP_RTC30_G_gpufem_D773_VV.tif'),\n",
       " PosixPath('Dataset/Cambodia/RTC_GAMMA/S1A_IW_20190408T111120_DVP_RTC30_G_gpufem_D773/S1A_IW_20190408T111120_DVP_RTC30_G_gpufem_D773_VH.tif'),\n",
       " PosixPath('Dataset/Cambodia/RTC_GAMMA/S1A_IW_20220721T111144_DVP_RTC30_G_gpufem_C29D/S1A_IW_20220721T111144_DVP_RTC30_G_gpufem_C29D_VV.tif'),\n",
       " PosixPath('Dataset/Cambodia/RTC_GAMMA/S1A_IW_20220721T111144_DVP_RTC30_G_gpufem_C29D/S1A_IW_20220721T111144_DVP_RTC30_G_gpufem_C29D_VH.tif'),\n",
       " PosixPath('Dataset/Cambodia/RTC_GAMMA/S1A_IW_20171120T111116_DVP_RTC30_G_gpufem_25A1/S1A_IW_20171120T111116_DVP_RTC30_G_gpufem_25A1_VH.tif'),\n",
       " PosixPath('Dataset/Cambodia/RTC_GAMMA/S1A_IW_20171120T111116_DVP_RTC30_G_gpufem_25A1/S1A_IW_20171120T111116_DVP_RTC30_G_gpufem_25A1_VV.tif'),\n",
       " PosixPath('Dataset/Cambodia/RTC_GAMMA/S1A_IW_20230505T111145_DVP_RTC30_G_gpufem_EE96/S1A_IW_20230505T111145_DVP_RTC30_G_gpufem_EE96_VH.tif'),\n",
       " PosixPath('Dataset/Cambodia/RTC_GAMMA/S1A_IW_20230505T111145_DVP_RTC30_G_gpufem_EE96/S1A_IW_20230505T111145_DVP_RTC30_G_gpufem_EE96_VV.tif'),\n",
       " PosixPath('Dataset/Cambodia/RTC_GAMMA/S1A_IW_20171108T111116_DVP_RTC30_G_gpufem_20BA/S1A_IW_20171108T111116_DVP_RTC30_G_gpufem_20BA_VV.tif'),\n",
       " PosixPath('Dataset/Cambodia/RTC_GAMMA/S1A_IW_20171108T111116_DVP_RTC30_G_gpufem_20BA/S1A_IW_20171108T111116_DVP_RTC30_G_gpufem_20BA_VH.tif'),\n",
       " PosixPath('Dataset/Cambodia/RTC_GAMMA/S1A_IW_20210924T111141_DVP_RTC30_G_gpufem_20C9/S1A_IW_20210924T111141_DVP_RTC30_G_gpufem_20C9_VV.tif'),\n",
       " PosixPath('Dataset/Cambodia/RTC_GAMMA/S1A_IW_20210924T111141_DVP_RTC30_G_gpufem_20C9/S1A_IW_20210924T111141_DVP_RTC30_G_gpufem_20C9_VH.tif'),\n",
       " PosixPath('Dataset/Cambodia/RTC_GAMMA/S1A_IW_20210807T111139_DVP_RTC30_G_gpufem_E8C6/S1A_IW_20210807T111139_DVP_RTC30_G_gpufem_E8C6_VV.tif'),\n",
       " PosixPath('Dataset/Cambodia/RTC_GAMMA/S1A_IW_20210807T111139_DVP_RTC30_G_gpufem_E8C6/S1A_IW_20210807T111139_DVP_RTC30_G_gpufem_E8C6_VH.tif'),\n",
       " PosixPath('Dataset/Cambodia/RTC_GAMMA/S1A_IW_20200202T111126_DVP_RTC30_G_gpufem_B611/S1A_IW_20200202T111126_DVP_RTC30_G_gpufem_B611_VV.tif'),\n",
       " PosixPath('Dataset/Cambodia/RTC_GAMMA/S1A_IW_20200202T111126_DVP_RTC30_G_gpufem_B611/S1A_IW_20200202T111126_DVP_RTC30_G_gpufem_B611_VH.tif'),\n",
       " PosixPath('Dataset/Cambodia/RTC_GAMMA/S1A_IW_20211030T111141_DVP_RTC30_G_gpufem_FF88/S1A_IW_20211030T111141_DVP_RTC30_G_gpufem_FF88_VV.tif'),\n",
       " PosixPath('Dataset/Cambodia/RTC_GAMMA/S1A_IW_20211030T111141_DVP_RTC30_G_gpufem_FF88/S1A_IW_20211030T111141_DVP_RTC30_G_gpufem_FF88_VH.tif'),\n",
       " PosixPath('Dataset/Cambodia/RTC_GAMMA/S1A_IW_20210316T111132_DVP_RTC30_G_gpufem_858D/S1A_IW_20210316T111132_DVP_RTC30_G_gpufem_858D_VV.tif'),\n",
       " PosixPath('Dataset/Cambodia/RTC_GAMMA/S1A_IW_20210316T111132_DVP_RTC30_G_gpufem_858D/S1A_IW_20210316T111132_DVP_RTC30_G_gpufem_858D_VH.tif'),\n",
       " PosixPath('Dataset/Cambodia/RTC_GAMMA/S1A_IW_20210608T111135_DVP_RTC30_G_gpufem_28FE/S1A_IW_20210608T111135_DVP_RTC30_G_gpufem_28FE_VH.tif'),\n",
       " PosixPath('Dataset/Cambodia/RTC_GAMMA/S1A_IW_20210608T111135_DVP_RTC30_G_gpufem_28FE/S1A_IW_20210608T111135_DVP_RTC30_G_gpufem_28FE_VV.tif'),\n",
       " PosixPath('Dataset/Cambodia/RTC_GAMMA/S1A_IW_20180904T111122_DVP_RTC30_G_gpufem_1A9E/S1A_IW_20180904T111122_DVP_RTC30_G_gpufem_1A9E_VV.tif'),\n",
       " PosixPath('Dataset/Cambodia/RTC_GAMMA/S1A_IW_20180904T111122_DVP_RTC30_G_gpufem_1A9E/S1A_IW_20180904T111122_DVP_RTC30_G_gpufem_1A9E_VH.tif'),\n",
       " PosixPath('Dataset/Cambodia/RTC_GAMMA/S1A_IW_20210421T111133_DVP_RTC30_G_gpufem_2466/S1A_IW_20210421T111133_DVP_RTC30_G_gpufem_2466_VV.tif'),\n",
       " PosixPath('Dataset/Cambodia/RTC_GAMMA/S1A_IW_20210421T111133_DVP_RTC30_G_gpufem_2466/S1A_IW_20210421T111133_DVP_RTC30_G_gpufem_2466_VH.tif'),\n",
       " PosixPath('Dataset/Cambodia/RTC_GAMMA/S1A_IW_20220627T111143_DVP_RTC30_G_gpufem_EB15/S1A_IW_20220627T111143_DVP_RTC30_G_gpufem_EB15_VH.tif'),\n",
       " PosixPath('Dataset/Cambodia/RTC_GAMMA/S1A_IW_20220627T111143_DVP_RTC30_G_gpufem_EB15/S1A_IW_20220627T111143_DVP_RTC30_G_gpufem_EB15_VV.tif'),\n",
       " PosixPath('Dataset/Cambodia/RTC_GAMMA/S1A_IW_20210220T111132_DVP_RTC30_G_gpufem_24C6/S1A_IW_20210220T111132_DVP_RTC30_G_gpufem_24C6_VH.tif'),\n",
       " PosixPath('Dataset/Cambodia/RTC_GAMMA/S1A_IW_20210220T111132_DVP_RTC30_G_gpufem_24C6/S1A_IW_20210220T111132_DVP_RTC30_G_gpufem_24C6_VV.tif'),\n",
       " PosixPath('Dataset/Cambodia/RTC_GAMMA/S1A_IW_20221106T111147_DVP_RTC30_G_gpufem_9620/S1A_IW_20221106T111147_DVP_RTC30_G_gpufem_9620_VH.tif'),\n",
       " PosixPath('Dataset/Cambodia/RTC_GAMMA/S1A_IW_20221106T111147_DVP_RTC30_G_gpufem_9620/S1A_IW_20221106T111147_DVP_RTC30_G_gpufem_9620_VV.tif'),\n",
       " PosixPath('Dataset/Cambodia/RTC_GAMMA/S1A_IW_20220227T111137_DVP_RTC30_G_gpufem_509F/S1A_IW_20220227T111137_DVP_RTC30_G_gpufem_509F_VV.tif'),\n",
       " PosixPath('Dataset/Cambodia/RTC_GAMMA/S1A_IW_20220227T111137_DVP_RTC30_G_gpufem_509F/S1A_IW_20220227T111137_DVP_RTC30_G_gpufem_509F_VH.tif'),\n",
       " PosixPath('Dataset/Cambodia/RTC_GAMMA/S1A_IW_20171202T111115_DVP_RTC30_G_gpufem_C516/S1A_IW_20171202T111115_DVP_RTC30_G_gpufem_C516_VH.tif'),\n",
       " PosixPath('Dataset/Cambodia/RTC_GAMMA/S1A_IW_20171202T111115_DVP_RTC30_G_gpufem_C516/S1A_IW_20171202T111115_DVP_RTC30_G_gpufem_C516_VV.tif'),\n",
       " PosixPath('Dataset/Cambodia/RTC_GAMMA/S1A_IW_20191228T111127_DVP_RTC30_G_gpufem_B293/S1A_IW_20191228T111127_DVP_RTC30_G_gpufem_B293_VH.tif'),\n",
       " PosixPath('Dataset/Cambodia/RTC_GAMMA/S1A_IW_20191228T111127_DVP_RTC30_G_gpufem_B293/S1A_IW_20191228T111127_DVP_RTC30_G_gpufem_B293_VV.tif'),\n",
       " PosixPath('Dataset/Cambodia/RTC_GAMMA/S1A_IW_20200905T111135_DVP_RTC30_G_gpufem_C16D/S1A_IW_20200905T111135_DVP_RTC30_G_gpufem_C16D_VH.tif'),\n",
       " PosixPath('Dataset/Cambodia/RTC_GAMMA/S1A_IW_20200905T111135_DVP_RTC30_G_gpufem_C16D/S1A_IW_20200905T111135_DVP_RTC30_G_gpufem_C16D_VV.tif'),\n",
       " PosixPath('Dataset/Cambodia/RTC_GAMMA/S1A_IW_20210409T111132_DVP_RTC30_G_gpufem_5F82/S1A_IW_20210409T111132_DVP_RTC30_G_gpufem_5F82_VH.tif'),\n",
       " PosixPath('Dataset/Cambodia/RTC_GAMMA/S1A_IW_20210409T111132_DVP_RTC30_G_gpufem_5F82/S1A_IW_20210409T111132_DVP_RTC30_G_gpufem_5F82_VV.tif'),\n",
       " PosixPath('Dataset/Cambodia/RTC_GAMMA/S1A_IW_20190219T111119_DVP_RTC30_G_gpufem_6CD0/S1A_IW_20190219T111119_DVP_RTC30_G_gpufem_6CD0_VV.tif'),\n",
       " PosixPath('Dataset/Cambodia/RTC_GAMMA/S1A_IW_20190219T111119_DVP_RTC30_G_gpufem_6CD0/S1A_IW_20190219T111119_DVP_RTC30_G_gpufem_6CD0_VH.tif'),\n",
       " PosixPath('Dataset/Cambodia/RTC_GAMMA/S1A_IW_20181022T111123_DVP_RTC30_G_gpufem_8B57/S1A_IW_20181022T111123_DVP_RTC30_G_gpufem_8B57_VH.tif'),\n",
       " PosixPath('Dataset/Cambodia/RTC_GAMMA/S1A_IW_20181022T111123_DVP_RTC30_G_gpufem_8B57/S1A_IW_20181022T111123_DVP_RTC30_G_gpufem_8B57_VV.tif'),\n",
       " PosixPath('Dataset/Cambodia/RTC_GAMMA/S1A_IW_20210208T111132_DVP_RTC30_G_gpufem_5C75/S1A_IW_20210208T111132_DVP_RTC30_G_gpufem_5C75_VV.tif'),\n",
       " PosixPath('Dataset/Cambodia/RTC_GAMMA/S1A_IW_20210208T111132_DVP_RTC30_G_gpufem_5C75/S1A_IW_20210208T111132_DVP_RTC30_G_gpufem_5C75_VH.tif'),\n",
       " PosixPath('Dataset/Cambodia/RTC_GAMMA/S1A_IW_20191122T111129_DVP_RTC30_G_gpufem_F00C/S1A_IW_20191122T111129_DVP_RTC30_G_gpufem_F00C_VH.tif'),\n",
       " PosixPath('Dataset/Cambodia/RTC_GAMMA/S1A_IW_20191122T111129_DVP_RTC30_G_gpufem_F00C/S1A_IW_20191122T111129_DVP_RTC30_G_gpufem_F00C_VV.tif'),\n",
       " PosixPath('Dataset/Cambodia/RTC_GAMMA/S1A_IW_20181221T111121_DVP_RTC30_G_gpufem_FE96/S1A_IW_20181221T111121_DVP_RTC30_G_gpufem_FE96_VV.tif'),\n",
       " PosixPath('Dataset/Cambodia/RTC_GAMMA/S1A_IW_20181221T111121_DVP_RTC30_G_gpufem_FE96/S1A_IW_20181221T111121_DVP_RTC30_G_gpufem_FE96_VH.tif'),\n",
       " PosixPath('Dataset/Cambodia/RTC_GAMMA/S1A_IW_20181115T111123_DVP_RTC30_G_gpufem_2314/S1A_IW_20181115T111123_DVP_RTC30_G_gpufem_2314_VH.tif'),\n",
       " PosixPath('Dataset/Cambodia/RTC_GAMMA/S1A_IW_20181115T111123_DVP_RTC30_G_gpufem_2314/S1A_IW_20181115T111123_DVP_RTC30_G_gpufem_2314_VV.tif'),\n",
       " PosixPath('Dataset/Cambodia/RTC_GAMMA/S1A_IW_20210503T111133_DVP_RTC30_G_gpufem_6532/S1A_IW_20210503T111133_DVP_RTC30_G_gpufem_6532_VH.tif'),\n",
       " PosixPath('Dataset/Cambodia/RTC_GAMMA/S1A_IW_20210503T111133_DVP_RTC30_G_gpufem_6532/S1A_IW_20210503T111133_DVP_RTC30_G_gpufem_6532_VV.tif'),\n",
       " PosixPath('Dataset/Cambodia/RTC_GAMMA/S1A_IW_20230210T111143_DVP_RTC30_G_gpufem_0BCB/S1A_IW_20230210T111143_DVP_RTC30_G_gpufem_0BCB_VV.tif'),\n",
       " PosixPath('Dataset/Cambodia/RTC_GAMMA/S1A_IW_20230210T111143_DVP_RTC30_G_gpufem_0BCB/S1A_IW_20230210T111143_DVP_RTC30_G_gpufem_0BCB_VH.tif'),\n",
       " PosixPath('Dataset/Cambodia/RTC_GAMMA/S1A_IW_20180730T111120_DVP_RTC30_G_gpufem_B483/S1A_IW_20180730T111120_DVP_RTC30_G_gpufem_B483_VH.tif'),\n",
       " PosixPath('Dataset/Cambodia/RTC_GAMMA/S1A_IW_20180730T111120_DVP_RTC30_G_gpufem_B483/S1A_IW_20180730T111120_DVP_RTC30_G_gpufem_B483_VV.tif'),\n",
       " PosixPath('Dataset/Cambodia/RTC_GAMMA/S1A_IW_20201222T111134_DVP_RTC30_G_gpufem_BD29/S1A_IW_20201222T111134_DVP_RTC30_G_gpufem_BD29_VH.tif'),\n",
       " PosixPath('Dataset/Cambodia/RTC_GAMMA/S1A_IW_20201222T111134_DVP_RTC30_G_gpufem_BD29/S1A_IW_20201222T111134_DVP_RTC30_G_gpufem_BD29_VV.tif'),\n",
       " PosixPath('Dataset/Cambodia/RTC_GAMMA/S1A_IW_20220522T111140_DVP_RTC30_G_gpufem_D6F3/S1A_IW_20220522T111140_DVP_RTC30_G_gpufem_D6F3_VV.tif'),\n",
       " PosixPath('Dataset/Cambodia/RTC_GAMMA/S1A_IW_20220522T111140_DVP_RTC30_G_gpufem_D6F3/S1A_IW_20220522T111140_DVP_RTC30_G_gpufem_D6F3_VH.tif'),\n",
       " PosixPath('Dataset/Cambodia/RTC_GAMMA/S1A_IW_20190420T111120_DVP_RTC30_G_gpufem_445B/S1A_IW_20190420T111120_DVP_RTC30_G_gpufem_445B_VV.tif'),\n",
       " PosixPath('Dataset/Cambodia/RTC_GAMMA/S1A_IW_20190420T111120_DVP_RTC30_G_gpufem_445B/S1A_IW_20190420T111120_DVP_RTC30_G_gpufem_445B_VH.tif'),\n",
       " PosixPath('Dataset/Cambodia/RTC_GAMMA/S1A_IW_20190327T111120_DVP_RTC30_G_gpufem_9D4A/S1A_IW_20190327T111120_DVP_RTC30_G_gpufem_9D4A_VV.tif'),\n",
       " PosixPath('Dataset/Cambodia/RTC_GAMMA/S1A_IW_20190327T111120_DVP_RTC30_G_gpufem_9D4A/S1A_IW_20190327T111120_DVP_RTC30_G_gpufem_9D4A_VH.tif'),\n",
       " PosixPath('Dataset/Cambodia/RTC_GAMMA/S1A_IW_20230423T111144_DVP_RTC30_G_gpufem_E7C1/S1A_IW_20230423T111144_DVP_RTC30_G_gpufem_E7C1_VV.tif'),\n",
       " PosixPath('Dataset/Cambodia/RTC_GAMMA/S1A_IW_20230423T111144_DVP_RTC30_G_gpufem_E7C1/S1A_IW_20230423T111144_DVP_RTC30_G_gpufem_E7C1_VH.tif'),\n",
       " PosixPath('Dataset/Cambodia/RTC_GAMMA/S1A_IW_20211111T111141_DVP_RTC30_G_gpufem_732D/S1A_IW_20211111T111141_DVP_RTC30_G_gpufem_732D_VH.tif'),\n",
       " PosixPath('Dataset/Cambodia/RTC_GAMMA/S1A_IW_20211111T111141_DVP_RTC30_G_gpufem_732D/S1A_IW_20211111T111141_DVP_RTC30_G_gpufem_732D_VV.tif'),\n",
       " PosixPath('Dataset/Cambodia/RTC_GAMMA/S1A_IW_20220203T111137_DVP_RTC30_G_gpufem_7FE8/S1A_IW_20220203T111137_DVP_RTC30_G_gpufem_7FE8_VV.tif'),\n",
       " PosixPath('Dataset/Cambodia/RTC_GAMMA/S1A_IW_20220203T111137_DVP_RTC30_G_gpufem_7FE8/S1A_IW_20220203T111137_DVP_RTC30_G_gpufem_7FE8_VH.tif'),\n",
       " PosixPath('Dataset/Cambodia/RTC_GAMMA/S1A_IW_20220122T111138_DVP_RTC30_G_gpufem_066C/S1A_IW_20220122T111138_DVP_RTC30_G_gpufem_066C_VV.tif'),\n",
       " PosixPath('Dataset/Cambodia/RTC_GAMMA/S1A_IW_20220122T111138_DVP_RTC30_G_gpufem_066C/S1A_IW_20220122T111138_DVP_RTC30_G_gpufem_066C_VH.tif'),\n",
       " PosixPath('Dataset/Cambodia/RTC_GAMMA/S1A_IW_20190911T111128_DVP_RTC30_G_gpufem_847C/S1A_IW_20190911T111128_DVP_RTC30_G_gpufem_847C_VH.tif'),\n",
       " PosixPath('Dataset/Cambodia/RTC_GAMMA/S1A_IW_20190911T111128_DVP_RTC30_G_gpufem_847C/S1A_IW_20190911T111128_DVP_RTC30_G_gpufem_847C_VV.tif'),\n",
       " PosixPath('Dataset/Cambodia/RTC_GAMMA/S1A_IW_20180224T111113_DVP_RTC30_G_gpufem_44C3/S1A_IW_20180224T111113_DVP_RTC30_G_gpufem_44C3_VV.tif'),\n",
       " PosixPath('Dataset/Cambodia/RTC_GAMMA/S1A_IW_20180224T111113_DVP_RTC30_G_gpufem_44C3/S1A_IW_20180224T111113_DVP_RTC30_G_gpufem_44C3_VH.tif'),\n",
       " PosixPath('Dataset/Cambodia/RTC_GAMMA/S1A_IW_20180612T111117_DVP_RTC30_G_gpufem_726A/S1A_IW_20180612T111117_DVP_RTC30_G_gpufem_726A_VH.tif'),\n",
       " PosixPath('Dataset/Cambodia/RTC_GAMMA/S1A_IW_20180612T111117_DVP_RTC30_G_gpufem_726A/S1A_IW_20180612T111117_DVP_RTC30_G_gpufem_726A_VV.tif'),\n",
       " PosixPath('Dataset/Cambodia/RTC_GAMMA/S1A_IW_20220814T111146_DVP_RTC30_G_gpufem_99DE/S1A_IW_20220814T111146_DVP_RTC30_G_gpufem_99DE_VV.tif'),\n",
       " PosixPath('Dataset/Cambodia/RTC_GAMMA/S1A_IW_20220814T111146_DVP_RTC30_G_gpufem_99DE/S1A_IW_20220814T111146_DVP_RTC30_G_gpufem_99DE_VH.tif'),\n",
       " PosixPath('Dataset/Cambodia/RTC_GAMMA/S1A_IW_20200402T111126_DVP_RTC30_G_gpufem_D2A9/S1A_IW_20200402T111126_DVP_RTC30_G_gpufem_D2A9_VV.tif'),\n",
       " PosixPath('Dataset/Cambodia/RTC_GAMMA/S1A_IW_20200402T111126_DVP_RTC30_G_gpufem_D2A9/S1A_IW_20200402T111126_DVP_RTC30_G_gpufem_D2A9_VH.tif'),\n",
       " PosixPath('Dataset/Cambodia/RTC_GAMMA/S1A_IW_20200719T111132_DVP_RTC30_G_gpufem_6153/S1A_IW_20200719T111132_DVP_RTC30_G_gpufem_6153_VH.tif'),\n",
       " PosixPath('Dataset/Cambodia/RTC_GAMMA/S1A_IW_20200719T111132_DVP_RTC30_G_gpufem_6153/S1A_IW_20200719T111132_DVP_RTC30_G_gpufem_6153_VV.tif'),\n",
       " PosixPath('Dataset/Cambodia/RTC_GAMMA/S1A_IW_20221118T111147_DVP_RTC30_G_gpufem_0829/S1A_IW_20221118T111147_DVP_RTC30_G_gpufem_0829_VV.tif'),\n",
       " PosixPath('Dataset/Cambodia/RTC_GAMMA/S1A_IW_20221118T111147_DVP_RTC30_G_gpufem_0829/S1A_IW_20221118T111147_DVP_RTC30_G_gpufem_0829_VH.tif'),\n",
       " PosixPath('Dataset/Cambodia/RTC_GAMMA/S1A_IW_20200625T111130_DVP_RTC30_G_gpufem_9880/S1A_IW_20200625T111130_DVP_RTC30_G_gpufem_9880_VH.tif'),\n",
       " PosixPath('Dataset/Cambodia/RTC_GAMMA/S1A_IW_20200625T111130_DVP_RTC30_G_gpufem_9880/S1A_IW_20200625T111130_DVP_RTC30_G_gpufem_9880_VV.tif'),\n",
       " PosixPath('Dataset/Cambodia/RTC_GAMMA/S1A_IW_20210620T111136_DVP_RTC30_G_gpufem_18AE/S1A_IW_20210620T111136_DVP_RTC30_G_gpufem_18AE_VH.tif'),\n",
       " PosixPath('Dataset/Cambodia/RTC_GAMMA/S1A_IW_20210620T111136_DVP_RTC30_G_gpufem_18AE/S1A_IW_20210620T111136_DVP_RTC30_G_gpufem_18AE_VV.tif'),\n",
       " PosixPath('Dataset/Cambodia/RTC_GAMMA/S1A_IW_20220709T111143_DVP_RTC30_G_gpufem_76F2/S1A_IW_20220709T111143_DVP_RTC30_G_gpufem_76F2_VV.tif'),\n",
       " PosixPath('Dataset/Cambodia/RTC_GAMMA/S1A_IW_20220709T111143_DVP_RTC30_G_gpufem_76F2/S1A_IW_20220709T111143_DVP_RTC30_G_gpufem_76F2_VH.tif'),\n",
       " PosixPath('Dataset/Cambodia/RTC_GAMMA/S1A_IW_20190514T111121_DVP_RTC30_G_gpufem_40CE/S1A_IW_20190514T111121_DVP_RTC30_G_gpufem_40CE_VH.tif'),\n",
       " PosixPath('Dataset/Cambodia/RTC_GAMMA/S1A_IW_20190514T111121_DVP_RTC30_G_gpufem_40CE/S1A_IW_20190514T111121_DVP_RTC30_G_gpufem_40CE_VV.tif'),\n",
       " PosixPath('Dataset/Cambodia/RTC_GAMMA/S1A_IW_20190126T111120_DVP_RTC30_G_gpufem_65B3/S1A_IW_20190126T111120_DVP_RTC30_G_gpufem_65B3_VH.tif'),\n",
       " PosixPath('Dataset/Cambodia/RTC_GAMMA/S1A_IW_20190126T111120_DVP_RTC30_G_gpufem_65B3/S1A_IW_20190126T111120_DVP_RTC30_G_gpufem_65B3_VV.tif'),\n",
       " PosixPath('Dataset/Cambodia/RTC_GAMMA/S1A_IW_20230330T111143_DVP_RTC30_G_gpufem_2722/S1A_IW_20230330T111143_DVP_RTC30_G_gpufem_2722_VV.tif'),\n",
       " PosixPath('Dataset/Cambodia/RTC_GAMMA/S1A_IW_20230330T111143_DVP_RTC30_G_gpufem_2722/S1A_IW_20230330T111143_DVP_RTC30_G_gpufem_2722_VH.tif'),\n",
       " PosixPath('Dataset/Cambodia/RTC_GAMMA/S1A_IW_20200520T111128_DVP_RTC30_G_gpufem_85A3/S1A_IW_20200520T111128_DVP_RTC30_G_gpufem_85A3_VH.tif'),\n",
       " PosixPath('Dataset/Cambodia/RTC_GAMMA/S1A_IW_20200520T111128_DVP_RTC30_G_gpufem_85A3/S1A_IW_20200520T111128_DVP_RTC30_G_gpufem_85A3_VV.tif'),\n",
       " PosixPath('Dataset/Cambodia/RTC_GAMMA/S1A_IW_20171027T111116_DVP_RTC30_G_gpufem_474A/S1A_IW_20171027T111116_DVP_RTC30_G_gpufem_474A_VV.tif'),\n",
       " PosixPath('Dataset/Cambodia/RTC_GAMMA/S1A_IW_20171027T111116_DVP_RTC30_G_gpufem_474A/S1A_IW_20171027T111116_DVP_RTC30_G_gpufem_474A_VH.tif'),\n",
       " PosixPath('Dataset/Cambodia/RTC_GAMMA/S1A_IW_20220615T111142_DVP_RTC30_G_gpufem_616E/S1A_IW_20220615T111142_DVP_RTC30_G_gpufem_616E_VV.tif'),\n",
       " PosixPath('Dataset/Cambodia/RTC_GAMMA/S1A_IW_20220615T111142_DVP_RTC30_G_gpufem_616E/S1A_IW_20220615T111142_DVP_RTC30_G_gpufem_616E_VH.tif'),\n",
       " PosixPath('Dataset/Cambodia/RTC_GAMMA/S1A_IW_20180916T111122_DVP_RTC30_G_gpufem_4830/S1A_IW_20180916T111122_DVP_RTC30_G_gpufem_4830_VH.tif'),\n",
       " PosixPath('Dataset/Cambodia/RTC_GAMMA/S1A_IW_20180916T111122_DVP_RTC30_G_gpufem_4830/S1A_IW_20180916T111122_DVP_RTC30_G_gpufem_4830_VV.tif'),\n",
       " PosixPath('Dataset/Cambodia/RTC_GAMMA/S1A_IW_20191005T111129_DVP_RTC30_G_gpufem_D701/S1A_IW_20191005T111129_DVP_RTC30_G_gpufem_D701_VH.tif'),\n",
       " PosixPath('Dataset/Cambodia/RTC_GAMMA/S1A_IW_20191005T111129_DVP_RTC30_G_gpufem_D701/S1A_IW_20191005T111129_DVP_RTC30_G_gpufem_D701_VV.tif'),\n",
       " PosixPath('Dataset/Cambodia/RTC_GAMMA/S1A_IW_20201011T111136_DVP_RTC30_G_gpufem_8CDE/S1A_IW_20201011T111136_DVP_RTC30_G_gpufem_8CDE_VH.tif'),\n",
       " PosixPath('Dataset/Cambodia/RTC_GAMMA/S1A_IW_20201011T111136_DVP_RTC30_G_gpufem_8CDE/S1A_IW_20201011T111136_DVP_RTC30_G_gpufem_8CDE_VV.tif'),\n",
       " PosixPath('Dataset/Cambodia/RTC_GAMMA/S1A_IW_20230222T111143_DVP_RTC30_G_gpufem_FD20/S1A_IW_20230222T111143_DVP_RTC30_G_gpufem_FD20_VV.tif'),\n",
       " PosixPath('Dataset/Cambodia/RTC_GAMMA/S1A_IW_20230222T111143_DVP_RTC30_G_gpufem_FD20/S1A_IW_20230222T111143_DVP_RTC30_G_gpufem_FD20_VH.tif'),\n",
       " PosixPath('Dataset/Cambodia/RTC_GAMMA/S1A_IW_20191029T111129_DVP_RTC30_G_gpufem_4F11/S1A_IW_20191029T111129_DVP_RTC30_G_gpufem_4F11_VV.tif'),\n",
       " PosixPath('Dataset/Cambodia/RTC_GAMMA/S1A_IW_20191029T111129_DVP_RTC30_G_gpufem_4F11/S1A_IW_20191029T111129_DVP_RTC30_G_gpufem_4F11_VH.tif'),\n",
       " PosixPath('Dataset/Cambodia/RTC_GAMMA/S1A_IW_20230411T111144_DVP_RTC30_G_gpufem_81C2/S1A_IW_20230411T111144_DVP_RTC30_G_gpufem_81C2_VV.tif'),\n",
       " PosixPath('Dataset/Cambodia/RTC_GAMMA/S1A_IW_20230411T111144_DVP_RTC30_G_gpufem_81C2/S1A_IW_20230411T111144_DVP_RTC30_G_gpufem_81C2_VH.tif'),\n",
       " PosixPath('Dataset/Cambodia/RTC_GAMMA/S1A_IW_20190713T111125_DVP_RTC30_G_gpufem_DB85/S1A_IW_20190713T111125_DVP_RTC30_G_gpufem_DB85_VV.tif'),\n",
       " PosixPath('Dataset/Cambodia/RTC_GAMMA/S1A_IW_20190713T111125_DVP_RTC30_G_gpufem_DB85/S1A_IW_20190713T111125_DVP_RTC30_G_gpufem_DB85_VH.tif'),\n",
       " PosixPath('Dataset/Cambodia/RTC_GAMMA/S1A_IW_20210115T111133_DVP_RTC30_G_gpufem_2F58/S1A_IW_20210115T111133_DVP_RTC30_G_gpufem_2F58_VH.tif'),\n",
       " PosixPath('Dataset/Cambodia/RTC_GAMMA/S1A_IW_20210115T111133_DVP_RTC30_G_gpufem_2F58/S1A_IW_20210115T111133_DVP_RTC30_G_gpufem_2F58_VV.tif'),\n",
       " PosixPath('Dataset/Cambodia/RTC_GAMMA/S1A_IW_20171226T111114_DVP_RTC30_G_gpufem_ECBD/S1A_IW_20171226T111114_DVP_RTC30_G_gpufem_ECBD_VV.tif'),\n",
       " PosixPath('Dataset/Cambodia/RTC_GAMMA/S1A_IW_20171226T111114_DVP_RTC30_G_gpufem_ECBD/S1A_IW_20171226T111114_DVP_RTC30_G_gpufem_ECBD_VH.tif'),\n",
       " PosixPath('Dataset/Cambodia/RTC_GAMMA/S1A_IW_20211006T111141_DVP_RTC30_G_gpufem_317F/S1A_IW_20211006T111141_DVP_RTC30_G_gpufem_317F_VH.tif'),\n",
       " PosixPath('Dataset/Cambodia/RTC_GAMMA/S1A_IW_20211006T111141_DVP_RTC30_G_gpufem_317F/S1A_IW_20211006T111141_DVP_RTC30_G_gpufem_317F_VV.tif'),\n",
       " PosixPath('Dataset/Cambodia/RTC_GAMMA/S1A_IW_20230129T111144_DVP_RTC30_G_gpufem_A72B/S1A_IW_20230129T111144_DVP_RTC30_G_gpufem_A72B_VH.tif'),\n",
       " PosixPath('Dataset/Cambodia/RTC_GAMMA/S1A_IW_20230129T111144_DVP_RTC30_G_gpufem_A72B/S1A_IW_20230129T111144_DVP_RTC30_G_gpufem_A72B_VV.tif'),\n",
       " PosixPath('Dataset/Cambodia/RTC_GAMMA/S1A_IW_20211217T111140_DVP_RTC30_G_gpufem_EDAA/S1A_IW_20211217T111140_DVP_RTC30_G_gpufem_EDAA_VV.tif'),\n",
       " PosixPath('Dataset/Cambodia/RTC_GAMMA/S1A_IW_20211217T111140_DVP_RTC30_G_gpufem_EDAA/S1A_IW_20211217T111140_DVP_RTC30_G_gpufem_EDAA_VH.tif'),\n",
       " PosixPath('Dataset/Cambodia/RTC_GAMMA/S1A_IW_20221025T111147_DVP_RTC30_G_gpufem_3A17/S1A_IW_20221025T111147_DVP_RTC30_G_gpufem_3A17_VH.tif'),\n",
       " PosixPath('Dataset/Cambodia/RTC_GAMMA/S1A_IW_20221025T111147_DVP_RTC30_G_gpufem_3A17/S1A_IW_20221025T111147_DVP_RTC30_G_gpufem_3A17_VV.tif'),\n",
       " PosixPath('Dataset/Cambodia/RTC_GAMMA/S1A_IW_20200929T111135_DVP_RTC30_G_gpufem_6C9A/S1A_IW_20200929T111135_DVP_RTC30_G_gpufem_6C9A_VV.tif'),\n",
       " PosixPath('Dataset/Cambodia/RTC_GAMMA/S1A_IW_20200929T111135_DVP_RTC30_G_gpufem_6C9A/S1A_IW_20200929T111135_DVP_RTC30_G_gpufem_6C9A_VH.tif'),\n",
       " PosixPath('Dataset/Cambodia/RTC_GAMMA/S1A_IW_20181127T111122_DVP_RTC30_G_gpufem_FC9F/S1A_IW_20181127T111122_DVP_RTC30_G_gpufem_FC9F_VH.tif'),\n",
       " PosixPath('Dataset/Cambodia/RTC_GAMMA/S1A_IW_20181127T111122_DVP_RTC30_G_gpufem_FC9F/S1A_IW_20181127T111122_DVP_RTC30_G_gpufem_FC9F_VV.tif'),\n",
       " PosixPath('Dataset/Cambodia/RTC_GAMMA/S1A_IW_20220323T111138_DVP_RTC30_G_gpufem_2794/S1A_IW_20220323T111138_DVP_RTC30_G_gpufem_2794_VH.tif'),\n",
       " PosixPath('Dataset/Cambodia/RTC_GAMMA/S1A_IW_20220323T111138_DVP_RTC30_G_gpufem_2794/S1A_IW_20220323T111138_DVP_RTC30_G_gpufem_2794_VV.tif'),\n",
       " PosixPath('Dataset/Cambodia/RTC_GAMMA/S1A_IW_20201116T111135_DVP_RTC30_G_gpufem_6673/S1A_IW_20201116T111135_DVP_RTC30_G_gpufem_6673_VH.tif'),\n",
       " PosixPath('Dataset/Cambodia/RTC_GAMMA/S1A_IW_20201116T111135_DVP_RTC30_G_gpufem_6673/S1A_IW_20201116T111135_DVP_RTC30_G_gpufem_6673_VV.tif'),\n",
       " PosixPath('Dataset/Cambodia/RTC_GAMMA/S1A_IW_20200109T111127_DVP_RTC30_G_gpufem_BF47/S1A_IW_20200109T111127_DVP_RTC30_G_gpufem_BF47_VV.tif'),\n",
       " PosixPath('Dataset/Cambodia/RTC_GAMMA/S1A_IW_20200109T111127_DVP_RTC30_G_gpufem_BF47/S1A_IW_20200109T111127_DVP_RTC30_G_gpufem_BF47_VH.tif'),\n",
       " PosixPath('Dataset/Cambodia/RTC_GAMMA/S1A_IW_20200917T111135_DVP_RTC30_G_gpufem_AF63/S1A_IW_20200917T111135_DVP_RTC30_G_gpufem_AF63_VH.tif'),\n",
       " PosixPath('Dataset/Cambodia/RTC_GAMMA/S1A_IW_20200917T111135_DVP_RTC30_G_gpufem_AF63/S1A_IW_20200917T111135_DVP_RTC30_G_gpufem_AF63_VV.tif'),\n",
       " PosixPath('Dataset/Cambodia/RTC_GAMMA/S1A_IW_20180507T111115_DVP_RTC30_G_gpufem_119E/S1A_IW_20180507T111115_DVP_RTC30_G_gpufem_119E_VV.tif'),\n",
       " PosixPath('Dataset/Cambodia/RTC_GAMMA/S1A_IW_20180507T111115_DVP_RTC30_G_gpufem_119E/S1A_IW_20180507T111115_DVP_RTC30_G_gpufem_119E_VH.tif'),\n",
       " PosixPath('Dataset/Cambodia/RTC_GAMMA/S1A_IW_20210515T111134_DVP_RTC30_G_gpufem_0F9F/S1A_IW_20210515T111134_DVP_RTC30_G_gpufem_0F9F_VH.tif'),\n",
       " PosixPath('Dataset/Cambodia/RTC_GAMMA/S1A_IW_20210515T111134_DVP_RTC30_G_gpufem_0F9F/S1A_IW_20210515T111134_DVP_RTC30_G_gpufem_0F9F_VV.tif'),\n",
       " PosixPath('Dataset/Cambodia/RTC_GAMMA/S1A_IW_20190607T111123_DVP_RTC30_G_gpufem_6575/S1A_IW_20190607T111123_DVP_RTC30_G_gpufem_6575_VV.tif'),\n",
       " PosixPath('Dataset/Cambodia/RTC_GAMMA/S1A_IW_20190607T111123_DVP_RTC30_G_gpufem_6575/S1A_IW_20190607T111123_DVP_RTC30_G_gpufem_6575_VH.tif'),\n",
       " PosixPath('Dataset/Cambodia/RTC_GAMMA/S1A_IW_20190207T111119_DVP_RTC30_G_gpufem_D208/S1A_IW_20190207T111119_DVP_RTC30_G_gpufem_D208_VH.tif'),\n",
       " PosixPath('Dataset/Cambodia/RTC_GAMMA/S1A_IW_20190207T111119_DVP_RTC30_G_gpufem_D208/S1A_IW_20190207T111119_DVP_RTC30_G_gpufem_D208_VV.tif'),\n",
       " PosixPath('Dataset/Cambodia/RTC_GAMMA/S1A_IW_20200309T111126_DVP_RTC30_G_gpufem_AC1F/S1A_IW_20200309T111126_DVP_RTC30_G_gpufem_AC1F_VV.tif'),\n",
       " PosixPath('Dataset/Cambodia/RTC_GAMMA/S1A_IW_20200309T111126_DVP_RTC30_G_gpufem_AC1F/S1A_IW_20200309T111126_DVP_RTC30_G_gpufem_AC1F_VH.tif'),\n",
       " PosixPath('Dataset/Cambodia/RTC_GAMMA/S1A_IW_20200508T111128_DVP_RTC30_G_gpufem_7750/S1A_IW_20200508T111128_DVP_RTC30_G_gpufem_7750_VV.tif'),\n",
       " PosixPath('Dataset/Cambodia/RTC_GAMMA/S1A_IW_20200508T111128_DVP_RTC30_G_gpufem_7750/S1A_IW_20200508T111128_DVP_RTC30_G_gpufem_7750_VH.tif'),\n",
       " PosixPath('Dataset/Cambodia/RTC_GAMMA/S1A_IW_20180413T111114_DVP_RTC30_G_gpufem_0F5C/S1A_IW_20180413T111114_DVP_RTC30_G_gpufem_0F5C_VH.tif'),\n",
       " PosixPath('Dataset/Cambodia/RTC_GAMMA/S1A_IW_20180413T111114_DVP_RTC30_G_gpufem_0F5C/S1A_IW_20180413T111114_DVP_RTC30_G_gpufem_0F5C_VV.tif'),\n",
       " PosixPath('Dataset/Cambodia/RTC_GAMMA/S1A_IW_20221130T111146_DVP_RTC30_G_gpufem_A5F3/S1A_IW_20221130T111146_DVP_RTC30_G_gpufem_A5F3_VH.tif'),\n",
       " PosixPath('Dataset/Cambodia/RTC_GAMMA/S1A_IW_20221130T111146_DVP_RTC30_G_gpufem_A5F3/S1A_IW_20221130T111146_DVP_RTC30_G_gpufem_A5F3_VV.tif'),\n",
       " PosixPath('Dataset/Cambodia/RTC_GAMMA/S1A_IW_20190114T111120_DVP_RTC30_G_gpufem_6100/S1A_IW_20190114T111120_DVP_RTC30_G_gpufem_6100_VH.tif'),\n",
       " PosixPath('Dataset/Cambodia/RTC_GAMMA/S1A_IW_20190114T111120_DVP_RTC30_G_gpufem_6100/S1A_IW_20190114T111120_DVP_RTC30_G_gpufem_6100_VV.tif'),\n",
       " PosixPath('Dataset/Cambodia/RTC_GAMMA/S1A_IW_20220907T111147_DVP_RTC30_G_gpufem_147C/S1A_IW_20220907T111147_DVP_RTC30_G_gpufem_147C_VV.tif'),\n",
       " PosixPath('Dataset/Cambodia/RTC_GAMMA/S1A_IW_20220907T111147_DVP_RTC30_G_gpufem_147C/S1A_IW_20220907T111147_DVP_RTC30_G_gpufem_147C_VH.tif'),\n",
       " PosixPath('Dataset/Cambodia/RTC_GAMMA/S1A_IW_20180718T111119_DVP_RTC30_G_gpufem_5AE4/S1A_IW_20180718T111119_DVP_RTC30_G_gpufem_5AE4_VV.tif'),\n",
       " PosixPath('Dataset/Cambodia/RTC_GAMMA/S1A_IW_20180718T111119_DVP_RTC30_G_gpufem_5AE4/S1A_IW_20180718T111119_DVP_RTC30_G_gpufem_5AE4_VH.tif'),\n",
       " PosixPath('Dataset/Cambodia/RTC_GAMMA/S1A_IW_20200613T111130_DVP_RTC30_G_gpufem_9B14/S1A_IW_20200613T111130_DVP_RTC30_G_gpufem_9B14_VH.tif'),\n",
       " PosixPath('Dataset/Cambodia/RTC_GAMMA/S1A_IW_20200613T111130_DVP_RTC30_G_gpufem_9B14/S1A_IW_20200613T111130_DVP_RTC30_G_gpufem_9B14_VV.tif'),\n",
       " PosixPath('Dataset/Cambodia/RTC_GAMMA/S1A_IW_20200601T111129_DVP_RTC30_G_gpufem_28E3/S1A_IW_20200601T111129_DVP_RTC30_G_gpufem_28E3_VH.tif'),\n",
       " PosixPath('Dataset/Cambodia/RTC_GAMMA/S1A_IW_20200601T111129_DVP_RTC30_G_gpufem_28E3/S1A_IW_20200601T111129_DVP_RTC30_G_gpufem_28E3_VV.tif'),\n",
       " PosixPath('Dataset/Cambodia/RTC_GAMMA/S1A_IW_20230517T111145_DVP_RTC30_G_gpufem_2150/S1A_IW_20230517T111145_DVP_RTC30_G_gpufem_2150_VH.tif'),\n",
       " PosixPath('Dataset/Cambodia/RTC_GAMMA/S1A_IW_20230517T111145_DVP_RTC30_G_gpufem_2150/S1A_IW_20230517T111145_DVP_RTC30_G_gpufem_2150_VV.tif'),\n",
       " PosixPath('Dataset/Cambodia/RTC_GAMMA/S1A_IW_20201023T111136_DVP_RTC30_G_gpufem_CC84/S1A_IW_20201023T111136_DVP_RTC30_G_gpufem_CC84_VH.tif'),\n",
       " PosixPath('Dataset/Cambodia/RTC_GAMMA/S1A_IW_20201023T111136_DVP_RTC30_G_gpufem_CC84/S1A_IW_20201023T111136_DVP_RTC30_G_gpufem_CC84_VV.tif'),\n",
       " PosixPath('Dataset/Cambodia/RTC_GAMMA/S1A_IW_20220826T111146_DVP_RTC30_G_gpufem_B18C/S1A_IW_20220826T111146_DVP_RTC30_G_gpufem_B18C_VH.tif'),\n",
       " PosixPath('Dataset/Cambodia/RTC_GAMMA/S1A_IW_20220826T111146_DVP_RTC30_G_gpufem_B18C/S1A_IW_20220826T111146_DVP_RTC30_G_gpufem_B18C_VV.tif'),\n",
       " PosixPath('Dataset/Cambodia/RTC_GAMMA/S1A_IW_20210328T111132_DVP_RTC30_G_gpufem_1F7C/S1A_IW_20210328T111132_DVP_RTC30_G_gpufem_1F7C_VH.tif'),\n",
       " PosixPath('Dataset/Cambodia/RTC_GAMMA/S1A_IW_20210328T111132_DVP_RTC30_G_gpufem_1F7C/S1A_IW_20210328T111132_DVP_RTC30_G_gpufem_1F7C_VV.tif'),\n",
       " PosixPath('Dataset/Cambodia/RTC_GAMMA/S1A_IW_20211123T111141_DVP_RTC30_G_gpufem_5510/S1A_IW_20211123T111141_DVP_RTC30_G_gpufem_5510_VH.tif'),\n",
       " PosixPath('Dataset/Cambodia/RTC_GAMMA/S1A_IW_20211123T111141_DVP_RTC30_G_gpufem_5510/S1A_IW_20211123T111141_DVP_RTC30_G_gpufem_5510_VV.tif'),\n",
       " PosixPath('Dataset/Cambodia/RTC_GAMMA/S1A_IW_20180823T111121_DVP_RTC30_G_gpufem_B833/S1A_IW_20180823T111121_DVP_RTC30_G_gpufem_B833_VH.tif'),\n",
       " PosixPath('Dataset/Cambodia/RTC_GAMMA/S1A_IW_20180823T111121_DVP_RTC30_G_gpufem_B833/S1A_IW_20180823T111121_DVP_RTC30_G_gpufem_B833_VV.tif'),\n",
       " PosixPath('Dataset/Cambodia/RTC_GAMMA/S1A_IW_20180131T111113_DVP_RTC30_G_gpufem_955B/S1A_IW_20180131T111113_DVP_RTC30_G_gpufem_955B_VV.tif'),\n",
       " PosixPath('Dataset/Cambodia/RTC_GAMMA/S1A_IW_20180131T111113_DVP_RTC30_G_gpufem_955B/S1A_IW_20180131T111113_DVP_RTC30_G_gpufem_955B_VH.tif')]"
      ]
     },
     "execution_count": 43,
     "metadata": {},
     "output_type": "execute_result"
    }
   ],
   "source": [
    "product_paths\n"
   ]
  },
  {
   "cell_type": "code",
   "execution_count": 44,
   "metadata": {},
   "outputs": [],
   "source": [
    "if not autorift:\n",
    "    for tiff in product_paths:\n",
    "        tiff.rename(f\"{output_dir_path_tiffs}/{tiff.name}\")\n",
    "    \n",
    "    # Save the merged DEM\n",
    "    # Define the output file path and metadata\n",
    "    output_file = f\"{output_dir_path_dem}/{name}_merged.tif\"\n",
    "    output_meta = dataset.meta.copy()\n",
    "    output_meta.update({'driver': 'GTiff', 'height': merged.shape[1], 'width': merged.shape[2], 'transform': out_transform})\n",
    "    # Write the merged DEM to the output file\n",
    "    with rasterio.open(output_file, 'w', **output_meta) as dst:\n",
    "        dst.write(merged)\n",
    "    # Close all the opened datasets\n",
    "    for dataset in datasets:\n",
    "        dataset.close()\n",
    "\n",
    "    if save_or_del.value == 'delete':\n",
    "        shutil.rmtree(products_path)\n",
    "    product_paths = get_product_paths(regex, product_pth)"
   ]
  },
  {
   "cell_type": "markdown",
   "metadata": {},
   "source": [
    "**Print the path where you saved your tiffs or NetCDFs.**"
   ]
  },
  {
   "cell_type": "code",
   "execution_count": 45,
   "metadata": {},
   "outputs": [
    {
     "name": "stdout",
     "output_type": "stream",
     "text": [
      "/home/jovyan/Hydrosar/Dataset/Cambodia/RTC_GAMMA_Cambodia_tiffs\n"
     ]
    }
   ],
   "source": [
    "if rtc or insar:\n",
    "    print(str(output_dir_path_tiffs))\n",
    "elif autorift:\n",
    "    print(str(products_path))"
   ]
  },
  {
   "cell_type": "markdown",
   "metadata": {
    "pycharm": {
     "name": "#%% md\n"
    }
   },
   "source": [
    "*Prepare_RTC_Stack_HyP3_v2.ipynb - Version 2.0.2 - June 2023*\n",
    "\n",
    "*Version Changes:*\n",
    "- *added dems migration to a folder to be used in HAND*\n",
    "- *fix breaking projectless jobs downloading*"
   ]
  },
  {
   "cell_type": "code",
   "execution_count": null,
   "metadata": {},
   "outputs": [],
   "source": []
  }
 ],
 "metadata": {
  "kernelspec": {
   "display_name": "rtc_analysis [conda env:.local-rtc_analysis]",
   "language": "python",
   "name": "conda-env-.local-rtc_analysis-py"
  },
  "language_info": {
   "codemirror_mode": {
    "name": "ipython",
    "version": 3
   },
   "file_extension": ".py",
   "mimetype": "text/x-python",
   "name": "python",
   "nbconvert_exporter": "python",
   "pygments_lexer": "ipython3",
   "version": "3.9.16"
  },
  "toc-autonumbering": true
 },
 "nbformat": 4,
 "nbformat_minor": 4
}
