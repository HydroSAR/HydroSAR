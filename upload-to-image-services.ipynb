{
 "cells": [
  {
   "cell_type": "markdown",
   "metadata": {
    "collapsed": true,
    "pycharm": {
     "name": "#%% md\n"
    }
   },
   "source": [
    "<hr>\n",
    "<font size=\"6\"> <b> Uploading to Image Services </b></font>\n",
    "\n",
    "<font size=\"5\"> Upload Archived Maps in S3 Bucket to Image Service </font>\n",
    "\n",
    "<br>\n",
    "<font size=\"4\"> <b> HydroSAR Transition Workshop:</b> HydroSAR Data Products and Web Application Training <br>\n",
    "<font size=\"4\"> <b> PI:</b> Franz J. Meyer <br>\n",
    "<br>\n",
    "<br>\n"
   ]
  },
  {
   "cell_type": "code",
   "execution_count": 1,
   "metadata": {
    "pycharm": {
     "name": "#%%\n"
    }
   },
   "outputs": [
    {
     "ename": "ModuleNotFoundError",
     "evalue": "No module named 'arcpy'",
     "output_type": "error",
     "traceback": [
      "\u001B[0;31m---------------------------------------------------------------------------\u001B[0m",
      "\u001B[0;31mModuleNotFoundError\u001B[0m                       Traceback (most recent call last)",
      "Input \u001B[0;32mIn [1]\u001B[0m, in \u001B[0;36m<cell line: 10>\u001B[0;34m()\u001B[0m\n\u001B[1;32m      7\u001B[0m \u001B[38;5;28;01mimport\u001B[39;00m \u001B[38;5;21;01msubprocess\u001B[39;00m\n\u001B[1;32m      8\u001B[0m \u001B[38;5;28;01mimport\u001B[39;00m \u001B[38;5;21;01mtempfile\u001B[39;00m\n\u001B[0;32m---> 10\u001B[0m \u001B[38;5;28;01mimport\u001B[39;00m \u001B[38;5;21;01marcpy\u001B[39;00m\n",
      "\u001B[0;31mModuleNotFoundError\u001B[0m: No module named 'arcpy'"
     ]
    }
   ],
   "source": [
    "#Import relevant Python packages\n",
    "import argparse\n",
    "import datetime\n",
    "import json\n",
    "import logging\n",
    "import os\n",
    "import subprocess\n",
    "import tempfile\n",
    "\n",
    "import arcpy"
   ]
  },
  {
   "cell_type": "markdown",
   "metadata": {
    "pycharm": {
     "name": "#%% md\n"
    }
   },
   "source": [
    "Select configuration file"
   ]
  },
  {
   "cell_type": "code",
   "execution_count": null,
   "metadata": {
    "pycharm": {
     "name": "#%%\n"
    }
   },
   "outputs": [],
   "source": [
    "config_file = '/Users/jrsmale/GitHub/hyp3-nasa-disasters/data_management/hkh_watermaps.json'"
   ]
  },
  {
   "cell_type": "markdown",
   "metadata": {
    "pycharm": {
     "name": "#%% md\n"
    }
   },
   "source": [
    "Set up cutoff dates."
   ]
  },
  {
   "cell_type": "code",
   "execution_count": null,
   "metadata": {
    "pycharm": {
     "name": "#%%\n"
    }
   },
   "outputs": [],
   "source": [
    "cutoff_date = datetime.datetime.now(tz=datetime.timezone.utc) - datetime.timedelta(days=config['time_period_in_days'])\n",
    "crf_name = 'Ovi_' + str(datetime.datetime.now(tz=datetime.timezone.utc).strftime('%Y%m%dT%H%M%S')) + '.crf'\n",
    "\n",
    "print(f'Cutoff date is {cutoff_date}, \\n and the crf name is named {crf_name}')"
   ]
  },
  {
   "cell_type": "markdown",
   "metadata": {
    "pycharm": {
     "name": "#%% md\n"
    }
   },
   "source": [
    "Update source mosaic"
   ]
  },
  {
   "cell_type": "code",
   "execution_count": null,
   "metadata": {
    "pycharm": {
     "name": "#%%\n"
    }
   },
   "outputs": [],
   "source": [
    "source_dataset = config['datasets']\n",
    "\n",
    "arcpy.management.RemoveRastersFromMosaicDataset(in_mosaic_dataset=dataset['source_dataset'],\n",
    "                                                where_clause='OBJECTID>=0'\n",
    "                                                )\n",
    "arcpy.management.AddRastersToMosaicDataset(in_mosaic_dataset=dataset['source_dataset'],\n",
    "                                           raster_type='Raster Dataset',\n",
    "                                           input_path=dataset['source_dataset'],\n",
    "                                           update_cellsize_ranges='NO_CELL_SIZES',\n",
    "                                           filter=dataset['raster_filter']\n",
    "                                           )\n",
    "arcpy.management.CalculateFields(\n",
    "            in_table=dataset['source_mosaic'],\n",
    "            fields=[\n",
    "                ['StartDate', \"datetime.datetime.strptime(!Name!.split('_')[2], '%Y%m%dT%H%M%S')\"],\n",
    "                ['EndDate', \"datetime.datetime.strptime(!Name!.split('_')[2], '%Y%m%dT%H%M%S')\"],\n",
    "            ],\n",
    "        )\n",
    "date_sel = f\"StartDate <= timestamp '{cutoff_date.strftime('%Y-%m-%d %H:%M:%S')}'\"\n",
    "arcpy.management.RemoveRastersFromMosaicDataset(in_mosaic_dataset=dataset['source_mosaic'],\n",
    "                                                        where_clause=date_sel)\n",
    "arcpy.management.CalculateFields(\n",
    "            in_table=dataset['source_mosaic'],\n",
    "            fields=[\n",
    "                ['GroupName', '\"_\".join(!Name!.split(\";\")[0].split(\"_\")[:-1])'],\n",
    "                ['Tag', '!Name!.split(\"_\")[8]'],\n",
    "                ['MinPS', '0'],\n",
    "                ['MaxPS', '1610'],\n",
    "            ],\n",
    "        )"
   ]
  },
  {
   "cell_type": "markdown",
   "metadata": {
    "pycharm": {
     "name": "#%% md\n"
    }
   },
   "source": [
    "Create overview crf file with source mosaic"
   ]
  },
  {
   "cell_type": "code",
   "execution_count": null,
   "metadata": {
    "pycharm": {
     "name": "#%%\n"
    }
   },
   "outputs": [],
   "source": [
    "s3_crf_key = os.path.join(dataset['overview_location'], crf_name)\n",
    "with tempfile.TemporaryDirectory(dir=config['raster_store']) as temp_dir:\n",
    "    local_crf = os.path.join(temp_dir, crf_name)\n",
    "    with arcpy.EnvManager(pyramid='PYRAMIDS 3', cellSize=900):\n",
    "        arcpy.management.CopyRaster(in_raster=dataset['source_mosaic'], out_rasterdataset=local_crf)\n",
    "    subprocess.run(['aws', 's3', 'cp', local_crf, s3_crf_key.replace('/vsis3/', 's3://'), '--recursive'])"
   ]
  },
  {
   "cell_type": "markdown",
   "metadata": {
    "pycharm": {
     "name": "#%% md\n"
    }
   },
   "source": [
    "Adding overview file to source mosaic"
   ]
  },
  {
   "cell_type": "code",
   "execution_count": null,
   "metadata": {
    "pycharm": {
     "name": "#%%\n"
    }
   },
   "outputs": [],
   "source": [
    "arcpy.management.AddRastersToMosaicDataset(\n",
    "            in_mosaic_dataset=dataset['source_mosaic'],\n",
    "            raster_type='Raster Dataset',\n",
    "            input_path=s3_crf_key,\n",
    "            update_cellsize_ranges='NO_CELL_SIZES',\n",
    "        )\n",
    "selection = arcpy.management.SelectLayerByAttribute(\n",
    "            in_layer_or_view=dataset['source_mosaic'],\n",
    "            selection_type='NEW_SELECTION',\n",
    "            where_clause=\"Name LIKE 'cr%'\",\n",
    "        )\n",
    "arcpy.management.CalculateFields(\n",
    "            in_table=selection,\n",
    "            fields=[\n",
    "                ['StartDate', cutoff_date.strftime(\"'%m/%d/%Y %H:%M:%S'\")],\n",
    "                ['EndDate', 'datetime.datetime.now(tz=datetime.timezone.utc)'],\n",
    "                ['MinPS', '1600'],\n",
    "                ['MaxPS', '18000'],\n",
    "                ['Category', '2'],\n",
    "                ['GroupName', \"'Mosaic Overview'\"],\n",
    "            ],\n",
    "        )"
   ]
  },
  {
   "cell_type": "markdown",
   "metadata": {
    "pycharm": {
     "name": "#%% md\n"
    }
   },
   "source": [
    "Updating derived mosaic"
   ]
  },
  {
   "cell_type": "code",
   "execution_count": null,
   "metadata": {
    "pycharm": {
     "name": "#%%\n"
    }
   },
   "outputs": [],
   "source": [
    "arcpy.management.RemoveRastersFromMosaicDataset(in_mosaic_dataset=dataset['derived_mosaic'],\n",
    "                                                where_clause='OBJECTID>=0')\n",
    "arcpy.management.AddRastersToMosaicDataset(\n",
    "    in_mosaic_dataset=dataset['derived_mosaic'],\n",
    "    raster_type='Table / Raster Catalog',\n",
    "    input_path=dataset['source_mosaic'],\n",
    "    update_cellsize_ranges='NO_CELL_SIZES',\n",
    ")\n",
    "selection = arcpy.management.SelectLayerByAttribute(\n",
    "    in_layer_or_view=dataset['derived_mosaic'],\n",
    "    selection_type='NEW_SELECTION',\n",
    "    where_clause=\"Name NOT LIKE 'Ovi_%'\",\n",
    ")\n",
    "arcpy.management.CalculateFields(\n",
    "    in_table=selection,\n",
    "    fields=[\n",
    "        ['MinPS', '0'],\n",
    "    ],\n",
    ")"
   ]
  },
  {
   "cell_type": "markdown",
   "metadata": {
    "pycharm": {
     "name": "#%% md\n"
    }
   },
   "source": [
    "Building boundary file for the referenced mosaic"
   ]
  },
  {
   "cell_type": "code",
   "execution_count": null,
   "metadata": {
    "pycharm": {
     "name": "#%%\n"
    }
   },
   "outputs": [],
   "source": [
    "arcpy.management.BuildBoundary(in_mosaic_dataset=dataset['referenced_mosaic'])"
   ]
  },
  {
   "cell_type": "markdown",
   "metadata": {
    "pycharm": {
     "name": "#%% md\n"
    }
   },
   "source": [
    "Finished"
   ]
  }
 ],
 "metadata": {
  "kernelspec": {
   "display_name": "Python 3 (ipykernel)",
   "language": "python",
   "name": "python3"
  },
  "language_info": {
   "codemirror_mode": {
    "name": "ipython",
    "version": 3
   },
   "file_extension": ".py",
   "mimetype": "text/x-python",
   "name": "python",
   "nbconvert_exporter": "python",
   "pygments_lexer": "ipython3",
   "version": "3.9.10"
  }
 },
 "nbformat": 4,
 "nbformat_minor": 1
}