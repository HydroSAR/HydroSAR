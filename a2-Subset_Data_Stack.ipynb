{
 "cells": [
  {
   "cell_type": "markdown",
   "metadata": {
    "hideCode": false,
    "hidePrompt": false,
    "tags": []
   },
   "source": [
    "![SAR, InSAR, PolSAR, and banner](https://opensarlab-docs.asf.alaska.edu/opensarlab-notebook-assets/notebook_images/blackboard-banner.png)\n",
    "\n",
    "# Subset Data Stack\n",
    "\n",
    "### Alex Lewandowski; University of Alaska Fairbanks\n",
    "\n",
    "<img src=\"https://opensarlab-docs.asf.alaska.edu/opensarlab-notebook-assets/notebook_images/UAFLogo_A_647.png\" width=\"170\" align=\"right\" />\n",
    "\n",
    "This notebook crops a directory of tiffs to a subset area of interest.\n",
    "It notebook assumes that users have created a directory of geotiffs using the `Prepare_Data_Stack_HyP3` notebook. \n",
    "\n",
    "Subset the data with any of the following methods:\n",
    "\n",
    "1. Select a rectangular area of interest on an interactive plot\n",
    "1. Use Well-Known Text (WKT)\n",
    "1. Upload a shapefile\n",
    "\n",
    "<!-- <img style=\"padding: 7px\" src=\"NotebookAddons/UAFLogo_A_647.png\" width=\"170\" align=\"right\"/></font> -->"
   ]
  },
  {
   "cell_type": "markdown",
   "metadata": {
    "hideCode": false,
    "hidePrompt": false
   },
   "source": [
    "\n",
    "---\n",
    "\n",
    "<font face=\"Calibri\" size=\"5\" color=\"darkred\"> <b>Important Note about JupyterHub</b> </font>\n",
    "\n",
    "**Your JupyterHub server will automatically shutdown when left idle for more than 1 hour. Your notebooks will not be lost but you will have to restart their kernels and re-run them from the beginning. You will not be able to seamlessly continue running a partially run notebook.**\n"
   ]
  },
  {
   "cell_type": "code",
   "execution_count": 1,
   "metadata": {
    "hideCode": false,
    "hidePrompt": false,
    "pycharm": {
     "name": "#%%\n"
    }
   },
   "outputs": [
    {
     "data": {
      "application/vnd.jupyter.widget-view+json": {
       "model_id": "7369a39a70e6402bb4a39c54bbaf4200",
       "version_major": 2,
       "version_minor": 0
      },
      "text/plain": [
       "URLWidget()"
      ]
     },
     "metadata": {},
     "output_type": "display_data"
    }
   ],
   "source": [
    "import url_widget as url_w\n",
    "notebookUrl = url_w.URLWidget()\n",
    "display(notebookUrl)"
   ]
  },
  {
   "cell_type": "code",
   "execution_count": 2,
   "metadata": {
    "hideCode": false,
    "hidePrompt": false
   },
   "outputs": [],
   "source": [
    "from IPython.display import Markdown\n",
    "from IPython.display import display\n",
    "\n",
    "notebookUrl = notebookUrl.value\n",
    "user = !echo $JUPYTERHUB_USER\n",
    "env = !echo $CONDA_PREFIX\n",
    "if env[0] == '':\n",
    "    env[0] = 'Python 3 (base)'\n",
    "if env[0] != '/home/jovyan/.local/envs/rtc_analysis':\n",
    "    display(Markdown(f'<text style=color:red><strong>WARNING:</strong></text>'))\n",
    "    display(Markdown(f'<text style=color:red>This notebook should be run using the \"rtc_analysis\" conda environment.</text>'))\n",
    "    display(Markdown(f'<text style=color:red>It is currently using the \"{env[0].split(\"/\")[-1]}\" environment.</text>'))\n",
    "    display(Markdown(f'<text style=color:red>Select the \"rtc_analysis\" from the \"Change Kernel\" submenu of the \"Kernel\" menu.</text>'))\n",
    "    display(Markdown(f'<text style=color:red>If the \"rtc_analysis\" environment is not present, use <a href=\"{notebookUrl.split(\"/user\")[0]}/user/{user[0]}/notebooks/conda_environments/Create_OSL_Conda_Environments.ipynb\"> Create_OSL_Conda_Environments.ipynb </a> to create it.</text>'))\n",
    "    display(Markdown(f'<text style=color:red>Note that you must restart your server after creating a new environment before it is usable by notebooks.</text>'))"
   ]
  },
  {
   "cell_type": "markdown",
   "metadata": {
    "hideCode": false,
    "hidePrompt": false
   },
   "source": [
    "\n",
    "--- \n",
    "    \n",
    "## **0. Importing Relevant Python Packages**\n",
    "\n",
    "In this notebook we will use the following scientific library:\n",
    "\n",
    "- [GDAL](https://www.gdal.org/) is a software library for reading and writing raster and vector geospatial data formats. It includes a collection of programs tailored for geospatial data processing. Most modern GIS systems (such as ArcGIS or QGIS) use GDAL in the background.\n",
    "\n",
    "**Import the necesssary libraries and modules:**\n"
   ]
  },
  {
   "cell_type": "code",
   "execution_count": 3,
   "metadata": {
    "hideCode": false,
    "hidePrompt": false
   },
   "outputs": [],
   "source": [
    "%%capture\n",
    "from pathlib import Path\n",
    "import json # for loads\n",
    "import shutil\n",
    "\n",
    "from ipyfilechooser import FileChooser\n",
    "\n",
    "from osgeo import gdal\n",
    "gdal.UseExceptions()\n",
    "from rasterio.warp import transform_bounds\n",
    "\n",
    "from IPython.display import Markdown\n",
    "from IPython.display import display\n",
    "%matplotlib widget\n",
    "\n",
    "# import matplotlib.patches as patches\n",
    "import matplotlib.pyplot as plt\n",
    "plt.rcParams.update({'font.size': 12})\n",
    "\n",
    "import opensarlab_lib as asfn\n",
    "asfn.jupytertheme_matplotlib_format()"
   ]
  },
  {
   "cell_type": "markdown",
   "metadata": {
    "hideCode": false,
    "hidePrompt": false
   },
   "source": [
    "\n",
    "---\n",
    "**Write functions to gather and print individual tiff paths:**"
   ]
  },
  {
   "cell_type": "code",
   "execution_count": 4,
   "metadata": {
    "hideCode": false,
    "hidePrompt": false
   },
   "outputs": [],
   "source": [
    "def get_tiff_paths(paths):\n",
    "    tiff_paths = list(paths.parent.glob(paths.name))    \n",
    "    tiff_paths.sort()\n",
    "    return tiff_paths\n",
    "\n",
    "def print_tiff_paths(tiff_paths):\n",
    "    print(\"Tiff paths:\")\n",
    "    for p in tiff_paths:\n",
    "        print(f\"{p}\\n\")"
   ]
  },
  {
   "cell_type": "markdown",
   "metadata": {},
   "source": [
    "**Select the directory holding your tiffs**\n",
    "- Click the `Select` button\n",
    "- Navigate to your data directory\n",
    "- Click the `Select` button\n",
    "- Confirm that the desired path appears in green text\n",
    "- Click the `Change` button to alter your selection\n",
    "- *Note: If you used `Prepare_Data_Stack_Hyp3` notebook to generate directory, tiffs should be in `RTC_GAMMA_tiffs` directory.*"
   ]
  },
  {
   "cell_type": "code",
   "execution_count": 5,
   "metadata": {},
   "outputs": [
    {
     "data": {
      "application/vnd.jupyter.widget-view+json": {
       "model_id": "1e5a78d17cba464685bf7e1e5b35c83a",
       "version_major": 2,
       "version_minor": 0
      },
      "text/plain": [
       "FileChooser(path='/home/jovyan/hydrosar', filename='', title='', show_hidden=False, select_desc='Select', chan…"
      ]
     },
     "metadata": {},
     "output_type": "display_data"
    }
   ],
   "source": [
    "fc = FileChooser(Path.cwd())\n",
    "display(fc)"
   ]
  },
  {
   "cell_type": "markdown",
   "metadata": {
    "hideCode": false,
    "hidePrompt": false
   },
   "source": [
    "**Determine the path to the analysis directory containing the tiff directory:**"
   ]
  },
  {
   "cell_type": "code",
   "execution_count": 8,
   "metadata": {
    "hideCode": false,
    "hidePrompt": false,
    "scrolled": true,
    "tags": []
   },
   "outputs": [
    {
     "name": "stdout",
     "output_type": "stream",
     "text": [
      "analysis_dir: /home/jovyan/hydrosar/Dataset/bang_NE\n",
      "\n",
      "Tiff paths:\n",
      "/home/jovyan/hydrosar/Dataset/bang_NE/RTC_GAMMA__tiffs/S1A_IW_20190108T120439_DVP_RTC30_G_gpufem_8BD9_VH.tif\n",
      "\n",
      "/home/jovyan/hydrosar/Dataset/bang_NE/RTC_GAMMA__tiffs/S1A_IW_20190108T120439_DVP_RTC30_G_gpufem_8BD9_VV.tif\n",
      "\n",
      "/home/jovyan/hydrosar/Dataset/bang_NE/RTC_GAMMA__tiffs/S1A_IW_20190120T120439_DVP_RTC30_G_gpufem_97E2_VH.tif\n",
      "\n",
      "/home/jovyan/hydrosar/Dataset/bang_NE/RTC_GAMMA__tiffs/S1A_IW_20190120T120439_DVP_RTC30_G_gpufem_97E2_VV.tif\n",
      "\n",
      "/home/jovyan/hydrosar/Dataset/bang_NE/RTC_GAMMA__tiffs/S1A_IW_20190201T120439_DVP_RTC30_G_gpufem_5EF2_VH.tif\n",
      "\n",
      "/home/jovyan/hydrosar/Dataset/bang_NE/RTC_GAMMA__tiffs/S1A_IW_20190201T120439_DVP_RTC30_G_gpufem_5EF2_VV.tif\n",
      "\n",
      "/home/jovyan/hydrosar/Dataset/bang_NE/RTC_GAMMA__tiffs/S1A_IW_20190213T120438_DVP_RTC30_G_gpufem_CA11_VH.tif\n",
      "\n",
      "/home/jovyan/hydrosar/Dataset/bang_NE/RTC_GAMMA__tiffs/S1A_IW_20190213T120438_DVP_RTC30_G_gpufem_CA11_VV.tif\n",
      "\n",
      "/home/jovyan/hydrosar/Dataset/bang_NE/RTC_GAMMA__tiffs/S1A_IW_20190225T120438_DVP_RTC30_G_gpufem_C14B_VH.tif\n",
      "\n",
      "/home/jovyan/hydrosar/Dataset/bang_NE/RTC_GAMMA__tiffs/S1A_IW_20190225T120438_DVP_RTC30_G_gpufem_C14B_VV.tif\n",
      "\n",
      "/home/jovyan/hydrosar/Dataset/bang_NE/RTC_GAMMA__tiffs/S1A_IW_20190309T120438_DVP_RTC30_G_gpufem_4755_VH.tif\n",
      "\n",
      "/home/jovyan/hydrosar/Dataset/bang_NE/RTC_GAMMA__tiffs/S1A_IW_20190309T120438_DVP_RTC30_G_gpufem_4755_VV.tif\n",
      "\n",
      "/home/jovyan/hydrosar/Dataset/bang_NE/RTC_GAMMA__tiffs/S1A_IW_20190321T120438_DVP_RTC30_G_gpufem_73AE_VH.tif\n",
      "\n",
      "/home/jovyan/hydrosar/Dataset/bang_NE/RTC_GAMMA__tiffs/S1A_IW_20190321T120438_DVP_RTC30_G_gpufem_73AE_VV.tif\n",
      "\n",
      "/home/jovyan/hydrosar/Dataset/bang_NE/RTC_GAMMA__tiffs/S1A_IW_20190402T120439_DVP_RTC30_G_gpufem_0364_VH.tif\n",
      "\n",
      "/home/jovyan/hydrosar/Dataset/bang_NE/RTC_GAMMA__tiffs/S1A_IW_20190402T120439_DVP_RTC30_G_gpufem_0364_VV.tif\n",
      "\n",
      "/home/jovyan/hydrosar/Dataset/bang_NE/RTC_GAMMA__tiffs/S1A_IW_20190414T120439_DVP_RTC30_G_gpufem_81C6_VH.tif\n",
      "\n",
      "/home/jovyan/hydrosar/Dataset/bang_NE/RTC_GAMMA__tiffs/S1A_IW_20190414T120439_DVP_RTC30_G_gpufem_81C6_VV.tif\n",
      "\n",
      "/home/jovyan/hydrosar/Dataset/bang_NE/RTC_GAMMA__tiffs/S1A_IW_20190426T120440_DVP_RTC30_G_gpufem_34EB_VH.tif\n",
      "\n",
      "/home/jovyan/hydrosar/Dataset/bang_NE/RTC_GAMMA__tiffs/S1A_IW_20190426T120440_DVP_RTC30_G_gpufem_34EB_VV.tif\n",
      "\n",
      "/home/jovyan/hydrosar/Dataset/bang_NE/RTC_GAMMA__tiffs/S1A_IW_20190508T120440_DVP_RTC30_G_gpufem_34D2_VH.tif\n",
      "\n",
      "/home/jovyan/hydrosar/Dataset/bang_NE/RTC_GAMMA__tiffs/S1A_IW_20190508T120440_DVP_RTC30_G_gpufem_34D2_VV.tif\n",
      "\n",
      "/home/jovyan/hydrosar/Dataset/bang_NE/RTC_GAMMA__tiffs/S1A_IW_20190520T120441_DVP_RTC30_G_gpufem_9589_VH.tif\n",
      "\n",
      "/home/jovyan/hydrosar/Dataset/bang_NE/RTC_GAMMA__tiffs/S1A_IW_20190520T120441_DVP_RTC30_G_gpufem_9589_VV.tif\n",
      "\n",
      "/home/jovyan/hydrosar/Dataset/bang_NE/RTC_GAMMA__tiffs/S1A_IW_20190601T120441_DVP_RTC30_G_gpufem_6710_VH.tif\n",
      "\n",
      "/home/jovyan/hydrosar/Dataset/bang_NE/RTC_GAMMA__tiffs/S1A_IW_20190601T120441_DVP_RTC30_G_gpufem_6710_VV.tif\n",
      "\n",
      "/home/jovyan/hydrosar/Dataset/bang_NE/RTC_GAMMA__tiffs/S1A_IW_20190613T120442_DVP_RTC30_G_gpufem_FC73_VH.tif\n",
      "\n",
      "/home/jovyan/hydrosar/Dataset/bang_NE/RTC_GAMMA__tiffs/S1A_IW_20190613T120442_DVP_RTC30_G_gpufem_FC73_VV.tif\n",
      "\n",
      "/home/jovyan/hydrosar/Dataset/bang_NE/RTC_GAMMA__tiffs/S1A_IW_20190625T120442_DVP_RTC30_G_gpufem_26C2_VH.tif\n",
      "\n",
      "/home/jovyan/hydrosar/Dataset/bang_NE/RTC_GAMMA__tiffs/S1A_IW_20190625T120442_DVP_RTC30_G_gpufem_26C2_VV.tif\n",
      "\n",
      "/home/jovyan/hydrosar/Dataset/bang_NE/RTC_GAMMA__tiffs/S1A_IW_20190707T120443_DVP_RTC30_G_gpufem_F5B7_VH.tif\n",
      "\n",
      "/home/jovyan/hydrosar/Dataset/bang_NE/RTC_GAMMA__tiffs/S1A_IW_20190707T120443_DVP_RTC30_G_gpufem_F5B7_VV.tif\n",
      "\n",
      "/home/jovyan/hydrosar/Dataset/bang_NE/RTC_GAMMA__tiffs/S1A_IW_20190719T120444_DVP_RTC30_G_gpufem_DAFE_VH.tif\n",
      "\n",
      "/home/jovyan/hydrosar/Dataset/bang_NE/RTC_GAMMA__tiffs/S1A_IW_20190719T120444_DVP_RTC30_G_gpufem_DAFE_VV.tif\n",
      "\n",
      "/home/jovyan/hydrosar/Dataset/bang_NE/RTC_GAMMA__tiffs/S1A_IW_20190731T120445_DVP_RTC30_G_gpufem_3C5A_VH.tif\n",
      "\n",
      "/home/jovyan/hydrosar/Dataset/bang_NE/RTC_GAMMA__tiffs/S1A_IW_20190731T120445_DVP_RTC30_G_gpufem_3C5A_VV.tif\n",
      "\n",
      "/home/jovyan/hydrosar/Dataset/bang_NE/RTC_GAMMA__tiffs/S1A_IW_20190812T120446_DVP_RTC30_G_gpufem_0255_VH.tif\n",
      "\n",
      "/home/jovyan/hydrosar/Dataset/bang_NE/RTC_GAMMA__tiffs/S1A_IW_20190812T120446_DVP_RTC30_G_gpufem_0255_VV.tif\n",
      "\n",
      "/home/jovyan/hydrosar/Dataset/bang_NE/RTC_GAMMA__tiffs/S1A_IW_20190824T120446_DVP_RTC30_G_gpufem_4CCB_VH.tif\n",
      "\n",
      "/home/jovyan/hydrosar/Dataset/bang_NE/RTC_GAMMA__tiffs/S1A_IW_20190824T120446_DVP_RTC30_G_gpufem_4CCB_VV.tif\n",
      "\n",
      "/home/jovyan/hydrosar/Dataset/bang_NE/RTC_GAMMA__tiffs/S1A_IW_20190905T120447_DVP_RTC30_G_gpufem_AF79_VH.tif\n",
      "\n",
      "/home/jovyan/hydrosar/Dataset/bang_NE/RTC_GAMMA__tiffs/S1A_IW_20190905T120447_DVP_RTC30_G_gpufem_AF79_VV.tif\n",
      "\n",
      "/home/jovyan/hydrosar/Dataset/bang_NE/RTC_GAMMA__tiffs/S1A_IW_20190929T120448_DVP_RTC30_G_gpufem_0BC5_VH.tif\n",
      "\n",
      "/home/jovyan/hydrosar/Dataset/bang_NE/RTC_GAMMA__tiffs/S1A_IW_20190929T120448_DVP_RTC30_G_gpufem_0BC5_VV.tif\n",
      "\n",
      "/home/jovyan/hydrosar/Dataset/bang_NE/RTC_GAMMA__tiffs/S1A_IW_20191011T120448_DVP_RTC30_G_gpufem_DF64_VH.tif\n",
      "\n",
      "/home/jovyan/hydrosar/Dataset/bang_NE/RTC_GAMMA__tiffs/S1A_IW_20191011T120448_DVP_RTC30_G_gpufem_DF64_VV.tif\n",
      "\n",
      "/home/jovyan/hydrosar/Dataset/bang_NE/RTC_GAMMA__tiffs/S1A_IW_20191023T120448_DVP_RTC30_G_gpufem_A9AA_VH.tif\n",
      "\n",
      "/home/jovyan/hydrosar/Dataset/bang_NE/RTC_GAMMA__tiffs/S1A_IW_20191023T120448_DVP_RTC30_G_gpufem_A9AA_VV.tif\n",
      "\n",
      "/home/jovyan/hydrosar/Dataset/bang_NE/RTC_GAMMA__tiffs/S1A_IW_20191104T120448_DVP_RTC30_G_gpufem_247C_VH.tif\n",
      "\n",
      "/home/jovyan/hydrosar/Dataset/bang_NE/RTC_GAMMA__tiffs/S1A_IW_20191104T120448_DVP_RTC30_G_gpufem_247C_VV.tif\n",
      "\n",
      "/home/jovyan/hydrosar/Dataset/bang_NE/RTC_GAMMA__tiffs/S1A_IW_20191116T120448_DVP_RTC30_G_gpufem_C1C6_VH.tif\n",
      "\n",
      "/home/jovyan/hydrosar/Dataset/bang_NE/RTC_GAMMA__tiffs/S1A_IW_20191116T120448_DVP_RTC30_G_gpufem_C1C6_VV.tif\n",
      "\n",
      "/home/jovyan/hydrosar/Dataset/bang_NE/RTC_GAMMA__tiffs/S1A_IW_20191128T120447_DVP_RTC30_G_gpufem_F1A1_VH.tif\n",
      "\n",
      "/home/jovyan/hydrosar/Dataset/bang_NE/RTC_GAMMA__tiffs/S1A_IW_20191128T120447_DVP_RTC30_G_gpufem_F1A1_VV.tif\n",
      "\n",
      "/home/jovyan/hydrosar/Dataset/bang_NE/RTC_GAMMA__tiffs/S1A_IW_20191210T120447_DVP_RTC30_G_gpufem_CEB6_VH.tif\n",
      "\n",
      "/home/jovyan/hydrosar/Dataset/bang_NE/RTC_GAMMA__tiffs/S1A_IW_20191210T120447_DVP_RTC30_G_gpufem_CEB6_VV.tif\n",
      "\n",
      "/home/jovyan/hydrosar/Dataset/bang_NE/RTC_GAMMA__tiffs/S1A_IW_20191222T120446_DVP_RTC30_G_gpufem_E4A8_VH.tif\n",
      "\n",
      "/home/jovyan/hydrosar/Dataset/bang_NE/RTC_GAMMA__tiffs/S1A_IW_20191222T120446_DVP_RTC30_G_gpufem_E4A8_VV.tif\n",
      "\n",
      "/home/jovyan/hydrosar/Dataset/bang_NE/RTC_GAMMA__tiffs/S1A_IW_20200103T120446_DVP_RTC30_G_gpufem_DBED_VH.tif\n",
      "\n",
      "/home/jovyan/hydrosar/Dataset/bang_NE/RTC_GAMMA__tiffs/S1A_IW_20200103T120446_DVP_RTC30_G_gpufem_DBED_VV.tif\n",
      "\n",
      "/home/jovyan/hydrosar/Dataset/bang_NE/RTC_GAMMA__tiffs/S1A_IW_20200115T120445_DVP_RTC30_G_gpufem_43F5_VH.tif\n",
      "\n",
      "/home/jovyan/hydrosar/Dataset/bang_NE/RTC_GAMMA__tiffs/S1A_IW_20200115T120445_DVP_RTC30_G_gpufem_43F5_VV.tif\n",
      "\n",
      "/home/jovyan/hydrosar/Dataset/bang_NE/RTC_GAMMA__tiffs/S1A_IW_20200127T120445_DVP_RTC30_G_gpufem_5E3A_VH.tif\n",
      "\n",
      "/home/jovyan/hydrosar/Dataset/bang_NE/RTC_GAMMA__tiffs/S1A_IW_20200127T120445_DVP_RTC30_G_gpufem_5E3A_VV.tif\n",
      "\n",
      "/home/jovyan/hydrosar/Dataset/bang_NE/RTC_GAMMA__tiffs/S1A_IW_20200208T120445_DVP_RTC30_G_gpufem_A8A8_VH.tif\n",
      "\n",
      "/home/jovyan/hydrosar/Dataset/bang_NE/RTC_GAMMA__tiffs/S1A_IW_20200208T120445_DVP_RTC30_G_gpufem_A8A8_VV.tif\n",
      "\n",
      "/home/jovyan/hydrosar/Dataset/bang_NE/RTC_GAMMA__tiffs/S1A_IW_20200220T120444_DVP_RTC30_G_gpufem_1A88_VH.tif\n",
      "\n",
      "/home/jovyan/hydrosar/Dataset/bang_NE/RTC_GAMMA__tiffs/S1A_IW_20200220T120444_DVP_RTC30_G_gpufem_1A88_VV.tif\n",
      "\n",
      "/home/jovyan/hydrosar/Dataset/bang_NE/RTC_GAMMA__tiffs/S1A_IW_20200303T120444_DVP_RTC30_G_gpufem_BAB5_VH.tif\n",
      "\n",
      "/home/jovyan/hydrosar/Dataset/bang_NE/RTC_GAMMA__tiffs/S1A_IW_20200303T120444_DVP_RTC30_G_gpufem_BAB5_VV.tif\n",
      "\n",
      "/home/jovyan/hydrosar/Dataset/bang_NE/RTC_GAMMA__tiffs/S1A_IW_20200315T120445_DVP_RTC30_G_gpufem_C860_VH.tif\n",
      "\n",
      "/home/jovyan/hydrosar/Dataset/bang_NE/RTC_GAMMA__tiffs/S1A_IW_20200315T120445_DVP_RTC30_G_gpufem_C860_VV.tif\n",
      "\n",
      "/home/jovyan/hydrosar/Dataset/bang_NE/RTC_GAMMA__tiffs/S1A_IW_20200327T120445_DVP_RTC30_G_gpufem_F7B4_VH.tif\n",
      "\n",
      "/home/jovyan/hydrosar/Dataset/bang_NE/RTC_GAMMA__tiffs/S1A_IW_20200327T120445_DVP_RTC30_G_gpufem_F7B4_VV.tif\n",
      "\n",
      "/home/jovyan/hydrosar/Dataset/bang_NE/RTC_GAMMA__tiffs/S1A_IW_20200408T120445_DVP_RTC30_G_gpufem_3D72_VH.tif\n",
      "\n",
      "/home/jovyan/hydrosar/Dataset/bang_NE/RTC_GAMMA__tiffs/S1A_IW_20200408T120445_DVP_RTC30_G_gpufem_3D72_VV.tif\n",
      "\n",
      "/home/jovyan/hydrosar/Dataset/bang_NE/RTC_GAMMA__tiffs/S1A_IW_20200420T120445_DVP_RTC30_G_gpufem_6689_VH.tif\n",
      "\n",
      "/home/jovyan/hydrosar/Dataset/bang_NE/RTC_GAMMA__tiffs/S1A_IW_20200420T120445_DVP_RTC30_G_gpufem_6689_VV.tif\n",
      "\n",
      "/home/jovyan/hydrosar/Dataset/bang_NE/RTC_GAMMA__tiffs/S1A_IW_20200502T120446_DVP_RTC30_G_gpufem_D75F_VH.tif\n",
      "\n",
      "/home/jovyan/hydrosar/Dataset/bang_NE/RTC_GAMMA__tiffs/S1A_IW_20200502T120446_DVP_RTC30_G_gpufem_D75F_VV.tif\n",
      "\n",
      "/home/jovyan/hydrosar/Dataset/bang_NE/RTC_GAMMA__tiffs/S1A_IW_20200514T120447_DVP_RTC30_G_gpufem_644F_VH.tif\n",
      "\n",
      "/home/jovyan/hydrosar/Dataset/bang_NE/RTC_GAMMA__tiffs/S1A_IW_20200514T120447_DVP_RTC30_G_gpufem_644F_VV.tif\n",
      "\n",
      "/home/jovyan/hydrosar/Dataset/bang_NE/RTC_GAMMA__tiffs/S1A_IW_20200526T120447_DVP_RTC30_G_gpufem_B478_VH.tif\n",
      "\n",
      "/home/jovyan/hydrosar/Dataset/bang_NE/RTC_GAMMA__tiffs/S1A_IW_20200526T120447_DVP_RTC30_G_gpufem_B478_VV.tif\n",
      "\n",
      "/home/jovyan/hydrosar/Dataset/bang_NE/RTC_GAMMA__tiffs/S1A_IW_20200607T120448_DVP_RTC30_G_gpufem_05E8_VH.tif\n",
      "\n",
      "/home/jovyan/hydrosar/Dataset/bang_NE/RTC_GAMMA__tiffs/S1A_IW_20200607T120448_DVP_RTC30_G_gpufem_05E8_VV.tif\n",
      "\n",
      "/home/jovyan/hydrosar/Dataset/bang_NE/RTC_GAMMA__tiffs/S1A_IW_20200619T120449_DVP_RTC30_G_gpufem_3C15_VH.tif\n",
      "\n",
      "/home/jovyan/hydrosar/Dataset/bang_NE/RTC_GAMMA__tiffs/S1A_IW_20200619T120449_DVP_RTC30_G_gpufem_3C15_VV.tif\n",
      "\n",
      "/home/jovyan/hydrosar/Dataset/bang_NE/RTC_GAMMA__tiffs/S1A_IW_20200701T120449_DVP_RTC30_G_gpufem_E709_VH.tif\n",
      "\n",
      "/home/jovyan/hydrosar/Dataset/bang_NE/RTC_GAMMA__tiffs/S1A_IW_20200701T120449_DVP_RTC30_G_gpufem_E709_VV.tif\n",
      "\n",
      "/home/jovyan/hydrosar/Dataset/bang_NE/RTC_GAMMA__tiffs/S1A_IW_20200713T120450_DVP_RTC30_G_gpufem_6EB6_VH.tif\n",
      "\n",
      "/home/jovyan/hydrosar/Dataset/bang_NE/RTC_GAMMA__tiffs/S1A_IW_20200713T120450_DVP_RTC30_G_gpufem_6EB6_VV.tif\n",
      "\n",
      "/home/jovyan/hydrosar/Dataset/bang_NE/RTC_GAMMA__tiffs/S1A_IW_20200725T120451_DVP_RTC30_G_gpufem_82EC_VH.tif\n",
      "\n",
      "/home/jovyan/hydrosar/Dataset/bang_NE/RTC_GAMMA__tiffs/S1A_IW_20200725T120451_DVP_RTC30_G_gpufem_82EC_VV.tif\n",
      "\n",
      "/home/jovyan/hydrosar/Dataset/bang_NE/RTC_GAMMA__tiffs/S1A_IW_20200806T120452_DVP_RTC30_G_gpufem_34F8_VH.tif\n",
      "\n",
      "/home/jovyan/hydrosar/Dataset/bang_NE/RTC_GAMMA__tiffs/S1A_IW_20200806T120452_DVP_RTC30_G_gpufem_34F8_VV.tif\n",
      "\n",
      "/home/jovyan/hydrosar/Dataset/bang_NE/RTC_GAMMA__tiffs/S1A_IW_20200818T120452_DVP_RTC30_G_gpufem_362D_VH.tif\n",
      "\n",
      "/home/jovyan/hydrosar/Dataset/bang_NE/RTC_GAMMA__tiffs/S1A_IW_20200818T120452_DVP_RTC30_G_gpufem_362D_VV.tif\n",
      "\n",
      "/home/jovyan/hydrosar/Dataset/bang_NE/RTC_GAMMA__tiffs/S1A_IW_20200830T120453_DVP_RTC30_G_gpufem_7018_VH.tif\n",
      "\n",
      "/home/jovyan/hydrosar/Dataset/bang_NE/RTC_GAMMA__tiffs/S1A_IW_20200830T120453_DVP_RTC30_G_gpufem_7018_VV.tif\n",
      "\n",
      "/home/jovyan/hydrosar/Dataset/bang_NE/RTC_GAMMA__tiffs/S1A_IW_20200911T120454_DVP_RTC30_G_gpufem_D603_VH.tif\n",
      "\n",
      "/home/jovyan/hydrosar/Dataset/bang_NE/RTC_GAMMA__tiffs/S1A_IW_20200911T120454_DVP_RTC30_G_gpufem_D603_VV.tif\n",
      "\n",
      "/home/jovyan/hydrosar/Dataset/bang_NE/RTC_GAMMA__tiffs/S1A_IW_20200923T120454_DVP_RTC30_G_gpufem_2891_VH.tif\n",
      "\n",
      "/home/jovyan/hydrosar/Dataset/bang_NE/RTC_GAMMA__tiffs/S1A_IW_20200923T120454_DVP_RTC30_G_gpufem_2891_VV.tif\n",
      "\n",
      "/home/jovyan/hydrosar/Dataset/bang_NE/RTC_GAMMA__tiffs/S1A_IW_20201005T120454_DVP_RTC30_G_gpufem_37D1_VH.tif\n",
      "\n",
      "/home/jovyan/hydrosar/Dataset/bang_NE/RTC_GAMMA__tiffs/S1A_IW_20201005T120454_DVP_RTC30_G_gpufem_37D1_VV.tif\n",
      "\n",
      "/home/jovyan/hydrosar/Dataset/bang_NE/RTC_GAMMA__tiffs/S1A_IW_20201017T120454_DVP_RTC30_G_gpufem_6556_VH.tif\n",
      "\n",
      "/home/jovyan/hydrosar/Dataset/bang_NE/RTC_GAMMA__tiffs/S1A_IW_20201017T120454_DVP_RTC30_G_gpufem_6556_VV.tif\n",
      "\n",
      "/home/jovyan/hydrosar/Dataset/bang_NE/RTC_GAMMA__tiffs/S1A_IW_20201029T120454_DVP_RTC30_G_gpufem_B897_VH.tif\n",
      "\n",
      "/home/jovyan/hydrosar/Dataset/bang_NE/RTC_GAMMA__tiffs/S1A_IW_20201029T120454_DVP_RTC30_G_gpufem_B897_VV.tif\n",
      "\n",
      "/home/jovyan/hydrosar/Dataset/bang_NE/RTC_GAMMA__tiffs/S1A_IW_20201110T120454_DVP_RTC30_G_gpufem_B939_VH.tif\n",
      "\n",
      "/home/jovyan/hydrosar/Dataset/bang_NE/RTC_GAMMA__tiffs/S1A_IW_20201110T120454_DVP_RTC30_G_gpufem_B939_VV.tif\n",
      "\n",
      "/home/jovyan/hydrosar/Dataset/bang_NE/RTC_GAMMA__tiffs/S1A_IW_20201122T120454_DVP_RTC30_G_gpufem_F692_VH.tif\n",
      "\n",
      "/home/jovyan/hydrosar/Dataset/bang_NE/RTC_GAMMA__tiffs/S1A_IW_20201122T120454_DVP_RTC30_G_gpufem_F692_VV.tif\n",
      "\n",
      "/home/jovyan/hydrosar/Dataset/bang_NE/RTC_GAMMA__tiffs/S1A_IW_20201204T120453_DVP_RTC30_G_gpufem_CE47_VH.tif\n",
      "\n",
      "/home/jovyan/hydrosar/Dataset/bang_NE/RTC_GAMMA__tiffs/S1A_IW_20201204T120453_DVP_RTC30_G_gpufem_CE47_VV.tif\n",
      "\n",
      "/home/jovyan/hydrosar/Dataset/bang_NE/RTC_GAMMA__tiffs/S1A_IW_20201216T120453_DVP_RTC30_G_gpufem_00FD_VH.tif\n",
      "\n",
      "/home/jovyan/hydrosar/Dataset/bang_NE/RTC_GAMMA__tiffs/S1A_IW_20201216T120453_DVP_RTC30_G_gpufem_00FD_VV.tif\n",
      "\n",
      "/home/jovyan/hydrosar/Dataset/bang_NE/RTC_GAMMA__tiffs/S1A_IW_20201228T120452_DVP_RTC30_G_gpufem_9EF3_VH.tif\n",
      "\n",
      "/home/jovyan/hydrosar/Dataset/bang_NE/RTC_GAMMA__tiffs/S1A_IW_20201228T120452_DVP_RTC30_G_gpufem_9EF3_VV.tif\n",
      "\n",
      "/home/jovyan/hydrosar/Dataset/bang_NE/RTC_GAMMA__tiffs/S1A_IW_20210109T120452_DVP_RTC30_G_gpufem_5E7C_VH.tif\n",
      "\n",
      "/home/jovyan/hydrosar/Dataset/bang_NE/RTC_GAMMA__tiffs/S1A_IW_20210109T120452_DVP_RTC30_G_gpufem_5E7C_VV.tif\n",
      "\n",
      "/home/jovyan/hydrosar/Dataset/bang_NE/RTC_GAMMA__tiffs/S1A_IW_20210121T120451_DVP_RTC30_G_gpufem_DB2A_VH.tif\n",
      "\n",
      "/home/jovyan/hydrosar/Dataset/bang_NE/RTC_GAMMA__tiffs/S1A_IW_20210121T120451_DVP_RTC30_G_gpufem_DB2A_VV.tif\n",
      "\n",
      "/home/jovyan/hydrosar/Dataset/bang_NE/RTC_GAMMA__tiffs/S1A_IW_20210202T120451_DVP_RTC30_G_gpufem_A277_VH.tif\n",
      "\n",
      "/home/jovyan/hydrosar/Dataset/bang_NE/RTC_GAMMA__tiffs/S1A_IW_20210202T120451_DVP_RTC30_G_gpufem_A277_VV.tif\n",
      "\n",
      "/home/jovyan/hydrosar/Dataset/bang_NE/RTC_GAMMA__tiffs/S1A_IW_20210214T120450_DVP_RTC30_G_gpufem_2A53_VH.tif\n",
      "\n",
      "/home/jovyan/hydrosar/Dataset/bang_NE/RTC_GAMMA__tiffs/S1A_IW_20210214T120450_DVP_RTC30_G_gpufem_2A53_VV.tif\n",
      "\n",
      "/home/jovyan/hydrosar/Dataset/bang_NE/RTC_GAMMA__tiffs/S1A_IW_20210226T120450_DVP_RTC30_G_gpufem_EBFB_VH.tif\n",
      "\n",
      "/home/jovyan/hydrosar/Dataset/bang_NE/RTC_GAMMA__tiffs/S1A_IW_20210226T120450_DVP_RTC30_G_gpufem_EBFB_VV.tif\n",
      "\n",
      "/home/jovyan/hydrosar/Dataset/bang_NE/RTC_GAMMA__tiffs/S1A_IW_20210310T120450_DVP_RTC30_G_gpufem_9E13_VH.tif\n",
      "\n",
      "/home/jovyan/hydrosar/Dataset/bang_NE/RTC_GAMMA__tiffs/S1A_IW_20210310T120450_DVP_RTC30_G_gpufem_9E13_VV.tif\n",
      "\n",
      "/home/jovyan/hydrosar/Dataset/bang_NE/RTC_GAMMA__tiffs/S1A_IW_20210322T120450_DVP_RTC30_G_gpufem_9E55_VH.tif\n",
      "\n",
      "/home/jovyan/hydrosar/Dataset/bang_NE/RTC_GAMMA__tiffs/S1A_IW_20210322T120450_DVP_RTC30_G_gpufem_9E55_VV.tif\n",
      "\n",
      "/home/jovyan/hydrosar/Dataset/bang_NE/RTC_GAMMA__tiffs/S1A_IW_20210403T120451_DVP_RTC30_G_gpufem_3410_VH.tif\n",
      "\n",
      "/home/jovyan/hydrosar/Dataset/bang_NE/RTC_GAMMA__tiffs/S1A_IW_20210403T120451_DVP_RTC30_G_gpufem_3410_VV.tif\n",
      "\n",
      "/home/jovyan/hydrosar/Dataset/bang_NE/RTC_GAMMA__tiffs/S1A_IW_20210415T120451_DVP_RTC30_G_gpufem_756D_VH.tif\n",
      "\n",
      "/home/jovyan/hydrosar/Dataset/bang_NE/RTC_GAMMA__tiffs/S1A_IW_20210415T120451_DVP_RTC30_G_gpufem_756D_VV.tif\n",
      "\n",
      "/home/jovyan/hydrosar/Dataset/bang_NE/RTC_GAMMA__tiffs/S1A_IW_20210427T120452_DVP_RTC30_G_gpufem_D07E_VH.tif\n",
      "\n",
      "/home/jovyan/hydrosar/Dataset/bang_NE/RTC_GAMMA__tiffs/S1A_IW_20210427T120452_DVP_RTC30_G_gpufem_D07E_VV.tif\n",
      "\n",
      "/home/jovyan/hydrosar/Dataset/bang_NE/RTC_GAMMA__tiffs/S1A_IW_20210509T120452_DVP_RTC30_G_gpufem_487B_VH.tif\n",
      "\n",
      "/home/jovyan/hydrosar/Dataset/bang_NE/RTC_GAMMA__tiffs/S1A_IW_20210509T120452_DVP_RTC30_G_gpufem_487B_VV.tif\n",
      "\n",
      "/home/jovyan/hydrosar/Dataset/bang_NE/RTC_GAMMA__tiffs/S1A_IW_20210521T120453_DVP_RTC30_G_gpufem_AEEC_VH.tif\n",
      "\n",
      "/home/jovyan/hydrosar/Dataset/bang_NE/RTC_GAMMA__tiffs/S1A_IW_20210521T120453_DVP_RTC30_G_gpufem_AEEC_VV.tif\n",
      "\n",
      "/home/jovyan/hydrosar/Dataset/bang_NE/RTC_GAMMA__tiffs/S1A_IW_20210602T120454_DVP_RTC30_G_gpufem_015F_VH.tif\n",
      "\n",
      "/home/jovyan/hydrosar/Dataset/bang_NE/RTC_GAMMA__tiffs/S1A_IW_20210602T120454_DVP_RTC30_G_gpufem_015F_VV.tif\n",
      "\n",
      "/home/jovyan/hydrosar/Dataset/bang_NE/RTC_GAMMA__tiffs/S1A_IW_20210614T120455_DVP_RTC30_G_gpufem_7735_VH.tif\n",
      "\n",
      "/home/jovyan/hydrosar/Dataset/bang_NE/RTC_GAMMA__tiffs/S1A_IW_20210614T120455_DVP_RTC30_G_gpufem_7735_VV.tif\n",
      "\n",
      "/home/jovyan/hydrosar/Dataset/bang_NE/RTC_GAMMA__tiffs/S1A_IW_20210626T120455_DVP_RTC30_G_gpufem_5D53_VH.tif\n",
      "\n",
      "/home/jovyan/hydrosar/Dataset/bang_NE/RTC_GAMMA__tiffs/S1A_IW_20210626T120455_DVP_RTC30_G_gpufem_5D53_VV.tif\n",
      "\n",
      "/home/jovyan/hydrosar/Dataset/bang_NE/RTC_GAMMA__tiffs/S1A_IW_20210708T120456_DVP_RTC30_G_gpufem_9048_VH.tif\n",
      "\n",
      "/home/jovyan/hydrosar/Dataset/bang_NE/RTC_GAMMA__tiffs/S1A_IW_20210708T120456_DVP_RTC30_G_gpufem_9048_VV.tif\n",
      "\n",
      "/home/jovyan/hydrosar/Dataset/bang_NE/RTC_GAMMA__tiffs/S1A_IW_20210720T120457_DVP_RTC30_G_gpufem_A86B_VH.tif\n",
      "\n",
      "/home/jovyan/hydrosar/Dataset/bang_NE/RTC_GAMMA__tiffs/S1A_IW_20210720T120457_DVP_RTC30_G_gpufem_A86B_VV.tif\n",
      "\n",
      "/home/jovyan/hydrosar/Dataset/bang_NE/RTC_GAMMA__tiffs/S1A_IW_20210801T120457_DVP_RTC30_G_gpufem_D150_VH.tif\n",
      "\n",
      "/home/jovyan/hydrosar/Dataset/bang_NE/RTC_GAMMA__tiffs/S1A_IW_20210801T120457_DVP_RTC30_G_gpufem_D150_VV.tif\n",
      "\n",
      "/home/jovyan/hydrosar/Dataset/bang_NE/RTC_GAMMA__tiffs/S1A_IW_20210813T120458_DVP_RTC30_G_gpufem_73D9_VH.tif\n",
      "\n",
      "/home/jovyan/hydrosar/Dataset/bang_NE/RTC_GAMMA__tiffs/S1A_IW_20210813T120458_DVP_RTC30_G_gpufem_73D9_VV.tif\n",
      "\n",
      "/home/jovyan/hydrosar/Dataset/bang_NE/RTC_GAMMA__tiffs/S1A_IW_20210825T120459_DVP_RTC30_G_gpufem_A04F_VH.tif\n",
      "\n",
      "/home/jovyan/hydrosar/Dataset/bang_NE/RTC_GAMMA__tiffs/S1A_IW_20210825T120459_DVP_RTC30_G_gpufem_A04F_VV.tif\n",
      "\n",
      "/home/jovyan/hydrosar/Dataset/bang_NE/RTC_GAMMA__tiffs/S1A_IW_20210906T120459_DVP_RTC30_G_gpufem_B3A8_VH.tif\n",
      "\n",
      "/home/jovyan/hydrosar/Dataset/bang_NE/RTC_GAMMA__tiffs/S1A_IW_20210906T120459_DVP_RTC30_G_gpufem_B3A8_VV.tif\n",
      "\n",
      "/home/jovyan/hydrosar/Dataset/bang_NE/RTC_GAMMA__tiffs/S1A_IW_20210918T120500_DVP_RTC30_G_gpufem_6F10_VH.tif\n",
      "\n",
      "/home/jovyan/hydrosar/Dataset/bang_NE/RTC_GAMMA__tiffs/S1A_IW_20210918T120500_DVP_RTC30_G_gpufem_6F10_VV.tif\n",
      "\n",
      "/home/jovyan/hydrosar/Dataset/bang_NE/RTC_GAMMA__tiffs/S1A_IW_20210930T120500_DVP_RTC30_G_gpufem_529E_VH.tif\n",
      "\n",
      "/home/jovyan/hydrosar/Dataset/bang_NE/RTC_GAMMA__tiffs/S1A_IW_20210930T120500_DVP_RTC30_G_gpufem_529E_VV.tif\n",
      "\n",
      "/home/jovyan/hydrosar/Dataset/bang_NE/RTC_GAMMA__tiffs/S1A_IW_20211012T120500_DVP_RTC30_G_gpufem_6C16_VH.tif\n",
      "\n",
      "/home/jovyan/hydrosar/Dataset/bang_NE/RTC_GAMMA__tiffs/S1A_IW_20211012T120500_DVP_RTC30_G_gpufem_6C16_VV.tif\n",
      "\n",
      "/home/jovyan/hydrosar/Dataset/bang_NE/RTC_GAMMA__tiffs/S1A_IW_20211024T120500_DVP_RTC30_G_gpufem_0BE0_VH.tif\n",
      "\n",
      "/home/jovyan/hydrosar/Dataset/bang_NE/RTC_GAMMA__tiffs/S1A_IW_20211024T120500_DVP_RTC30_G_gpufem_0BE0_VV.tif\n",
      "\n",
      "/home/jovyan/hydrosar/Dataset/bang_NE/RTC_GAMMA__tiffs/S1A_IW_20211105T120500_DVP_RTC30_G_gpufem_FA5C_VH.tif\n",
      "\n",
      "/home/jovyan/hydrosar/Dataset/bang_NE/RTC_GAMMA__tiffs/S1A_IW_20211105T120500_DVP_RTC30_G_gpufem_FA5C_VV.tif\n",
      "\n",
      "/home/jovyan/hydrosar/Dataset/bang_NE/RTC_GAMMA__tiffs/S1A_IW_20211117T120500_DVP_RTC30_G_gpufem_D07B_VH.tif\n",
      "\n",
      "/home/jovyan/hydrosar/Dataset/bang_NE/RTC_GAMMA__tiffs/S1A_IW_20211117T120500_DVP_RTC30_G_gpufem_D07B_VV.tif\n",
      "\n",
      "/home/jovyan/hydrosar/Dataset/bang_NE/RTC_GAMMA__tiffs/S1A_IW_20211129T120459_DVP_RTC30_G_gpufem_E269_VH.tif\n",
      "\n",
      "/home/jovyan/hydrosar/Dataset/bang_NE/RTC_GAMMA__tiffs/S1A_IW_20211129T120459_DVP_RTC30_G_gpufem_E269_VV.tif\n",
      "\n",
      "/home/jovyan/hydrosar/Dataset/bang_NE/RTC_GAMMA__tiffs/S1A_IW_20211211T120459_DVP_RTC30_G_gpufem_3B81_VH.tif\n",
      "\n",
      "/home/jovyan/hydrosar/Dataset/bang_NE/RTC_GAMMA__tiffs/S1A_IW_20211211T120459_DVP_RTC30_G_gpufem_3B81_VV.tif\n",
      "\n",
      "/home/jovyan/hydrosar/Dataset/bang_NE/RTC_GAMMA__tiffs/S1A_IW_20211223T120458_DVP_RTC30_G_gpufem_6524_VH.tif\n",
      "\n",
      "/home/jovyan/hydrosar/Dataset/bang_NE/RTC_GAMMA__tiffs/S1A_IW_20211223T120458_DVP_RTC30_G_gpufem_6524_VV.tif\n",
      "\n",
      "/home/jovyan/hydrosar/Dataset/bang_NE/RTC_GAMMA__tiffs/S1A_IW_20220104T120457_DVP_RTC30_G_gpufem_F4B3_VH.tif\n",
      "\n",
      "/home/jovyan/hydrosar/Dataset/bang_NE/RTC_GAMMA__tiffs/S1A_IW_20220104T120457_DVP_RTC30_G_gpufem_F4B3_VV.tif\n",
      "\n",
      "/home/jovyan/hydrosar/Dataset/bang_NE/RTC_GAMMA__tiffs/S1A_IW_20220116T120457_DVP_RTC30_G_gpufem_4A7F_VH.tif\n",
      "\n",
      "/home/jovyan/hydrosar/Dataset/bang_NE/RTC_GAMMA__tiffs/S1A_IW_20220116T120457_DVP_RTC30_G_gpufem_4A7F_VV.tif\n",
      "\n",
      "/home/jovyan/hydrosar/Dataset/bang_NE/RTC_GAMMA__tiffs/S1A_IW_20220128T120456_DVP_RTC30_G_gpufem_EC1C_VH.tif\n",
      "\n",
      "/home/jovyan/hydrosar/Dataset/bang_NE/RTC_GAMMA__tiffs/S1A_IW_20220128T120456_DVP_RTC30_G_gpufem_EC1C_VV.tif\n",
      "\n",
      "/home/jovyan/hydrosar/Dataset/bang_NE/RTC_GAMMA__tiffs/S1A_IW_20220209T120456_DVP_RTC30_G_gpufem_1037_VH.tif\n",
      "\n",
      "/home/jovyan/hydrosar/Dataset/bang_NE/RTC_GAMMA__tiffs/S1A_IW_20220209T120456_DVP_RTC30_G_gpufem_1037_VV.tif\n",
      "\n",
      "/home/jovyan/hydrosar/Dataset/bang_NE/RTC_GAMMA__tiffs/S1A_IW_20220221T120456_DVP_RTC30_G_gpufem_A40A_VH.tif\n",
      "\n",
      "/home/jovyan/hydrosar/Dataset/bang_NE/RTC_GAMMA__tiffs/S1A_IW_20220221T120456_DVP_RTC30_G_gpufem_A40A_VV.tif\n",
      "\n",
      "/home/jovyan/hydrosar/Dataset/bang_NE/RTC_GAMMA__tiffs/S1A_IW_20220305T120456_DVP_RTC30_G_gpufem_ADD2_VH.tif\n",
      "\n",
      "/home/jovyan/hydrosar/Dataset/bang_NE/RTC_GAMMA__tiffs/S1A_IW_20220305T120456_DVP_RTC30_G_gpufem_ADD2_VV.tif\n",
      "\n",
      "/home/jovyan/hydrosar/Dataset/bang_NE/RTC_GAMMA__tiffs/S1A_IW_20220317T120456_DVP_RTC30_G_gpufem_2DE1_VH.tif\n",
      "\n",
      "/home/jovyan/hydrosar/Dataset/bang_NE/RTC_GAMMA__tiffs/S1A_IW_20220317T120456_DVP_RTC30_G_gpufem_2DE1_VV.tif\n",
      "\n",
      "/home/jovyan/hydrosar/Dataset/bang_NE/RTC_GAMMA__tiffs/S1A_IW_20220329T120456_DVP_RTC30_G_gpufem_DA96_VH.tif\n",
      "\n",
      "/home/jovyan/hydrosar/Dataset/bang_NE/RTC_GAMMA__tiffs/S1A_IW_20220329T120456_DVP_RTC30_G_gpufem_DA96_VV.tif\n",
      "\n",
      "/home/jovyan/hydrosar/Dataset/bang_NE/RTC_GAMMA__tiffs/S1A_IW_20220410T120457_DVP_RTC30_G_gpufem_071D_VH.tif\n",
      "\n",
      "/home/jovyan/hydrosar/Dataset/bang_NE/RTC_GAMMA__tiffs/S1A_IW_20220410T120457_DVP_RTC30_G_gpufem_071D_VV.tif\n",
      "\n",
      "/home/jovyan/hydrosar/Dataset/bang_NE/RTC_GAMMA__tiffs/S1A_IW_20220422T120457_DVP_RTC30_G_gpufem_D66B_VH.tif\n",
      "\n",
      "/home/jovyan/hydrosar/Dataset/bang_NE/RTC_GAMMA__tiffs/S1A_IW_20220422T120457_DVP_RTC30_G_gpufem_D66B_VV.tif\n",
      "\n",
      "/home/jovyan/hydrosar/Dataset/bang_NE/RTC_GAMMA__tiffs/S1A_IW_20220504T120457_DVP_RTC30_G_gpufem_9B0C_VH.tif\n",
      "\n",
      "/home/jovyan/hydrosar/Dataset/bang_NE/RTC_GAMMA__tiffs/S1A_IW_20220504T120457_DVP_RTC30_G_gpufem_9B0C_VV.tif\n",
      "\n",
      "/home/jovyan/hydrosar/Dataset/bang_NE/RTC_GAMMA__tiffs/S1A_IW_20220516T120458_DVP_RTC30_G_gpufem_3BEB_VH.tif\n",
      "\n",
      "/home/jovyan/hydrosar/Dataset/bang_NE/RTC_GAMMA__tiffs/S1A_IW_20220516T120458_DVP_RTC30_G_gpufem_3BEB_VV.tif\n",
      "\n",
      "/home/jovyan/hydrosar/Dataset/bang_NE/RTC_GAMMA__tiffs/S1A_IW_20220528T120459_DVP_RTC30_G_gpufem_DC3E_VH.tif\n",
      "\n",
      "/home/jovyan/hydrosar/Dataset/bang_NE/RTC_GAMMA__tiffs/S1A_IW_20220528T120459_DVP_RTC30_G_gpufem_DC3E_VV.tif\n",
      "\n",
      "/home/jovyan/hydrosar/Dataset/bang_NE/RTC_GAMMA__tiffs/S1A_IW_20220609T120500_DVP_RTC30_G_gpufem_35A6_VH.tif\n",
      "\n",
      "/home/jovyan/hydrosar/Dataset/bang_NE/RTC_GAMMA__tiffs/S1A_IW_20220609T120500_DVP_RTC30_G_gpufem_35A6_VV.tif\n",
      "\n",
      "/home/jovyan/hydrosar/Dataset/bang_NE/RTC_GAMMA__tiffs/S1A_IW_20220621T120501_DVP_RTC30_G_gpufem_22C3_VH.tif\n",
      "\n",
      "/home/jovyan/hydrosar/Dataset/bang_NE/RTC_GAMMA__tiffs/S1A_IW_20220621T120501_DVP_RTC30_G_gpufem_22C3_VV.tif\n",
      "\n",
      "/home/jovyan/hydrosar/Dataset/bang_NE/RTC_GAMMA__tiffs/S1A_IW_20220703T120502_DVP_RTC30_G_gpufem_CBC0_VH.tif\n",
      "\n",
      "/home/jovyan/hydrosar/Dataset/bang_NE/RTC_GAMMA__tiffs/S1A_IW_20220703T120502_DVP_RTC30_G_gpufem_CBC0_VV.tif\n",
      "\n",
      "/home/jovyan/hydrosar/Dataset/bang_NE/RTC_GAMMA__tiffs/S1A_IW_20220715T120502_DVP_RTC30_G_gpufem_9F3A_VH.tif\n",
      "\n",
      "/home/jovyan/hydrosar/Dataset/bang_NE/RTC_GAMMA__tiffs/S1A_IW_20220715T120502_DVP_RTC30_G_gpufem_9F3A_VV.tif\n",
      "\n",
      "/home/jovyan/hydrosar/Dataset/bang_NE/RTC_GAMMA__tiffs/S1A_IW_20220727T120503_DVP_RTC30_G_gpufem_59AB_VH.tif\n",
      "\n",
      "/home/jovyan/hydrosar/Dataset/bang_NE/RTC_GAMMA__tiffs/S1A_IW_20220727T120503_DVP_RTC30_G_gpufem_59AB_VV.tif\n",
      "\n",
      "/home/jovyan/hydrosar/Dataset/bang_NE/RTC_GAMMA__tiffs/S1A_IW_20220808T120504_DVP_RTC30_G_gpufem_04A4_VH.tif\n",
      "\n",
      "/home/jovyan/hydrosar/Dataset/bang_NE/RTC_GAMMA__tiffs/S1A_IW_20220808T120504_DVP_RTC30_G_gpufem_04A4_VV.tif\n",
      "\n",
      "/home/jovyan/hydrosar/Dataset/bang_NE/RTC_GAMMA__tiffs/S1A_IW_20220820T120505_DVP_RTC30_G_gpufem_E99A_VH.tif\n",
      "\n",
      "/home/jovyan/hydrosar/Dataset/bang_NE/RTC_GAMMA__tiffs/S1A_IW_20220820T120505_DVP_RTC30_G_gpufem_E99A_VV.tif\n",
      "\n",
      "/home/jovyan/hydrosar/Dataset/bang_NE/RTC_GAMMA__tiffs/S1A_IW_20220901T120505_DVP_RTC30_G_gpufem_6D92_VH.tif\n",
      "\n",
      "/home/jovyan/hydrosar/Dataset/bang_NE/RTC_GAMMA__tiffs/S1A_IW_20220901T120505_DVP_RTC30_G_gpufem_6D92_VV.tif\n",
      "\n",
      "/home/jovyan/hydrosar/Dataset/bang_NE/RTC_GAMMA__tiffs/S1A_IW_20220913T120506_DVP_RTC30_G_gpufem_FB4E_VH.tif\n",
      "\n",
      "/home/jovyan/hydrosar/Dataset/bang_NE/RTC_GAMMA__tiffs/S1A_IW_20220913T120506_DVP_RTC30_G_gpufem_FB4E_VV.tif\n",
      "\n",
      "/home/jovyan/hydrosar/Dataset/bang_NE/RTC_GAMMA__tiffs/S1A_IW_20220925T120505_DVP_RTC30_G_gpufem_3F46_VH.tif\n",
      "\n",
      "/home/jovyan/hydrosar/Dataset/bang_NE/RTC_GAMMA__tiffs/S1A_IW_20220925T120505_DVP_RTC30_G_gpufem_3F46_VV.tif\n",
      "\n",
      "/home/jovyan/hydrosar/Dataset/bang_NE/RTC_GAMMA__tiffs/S1A_IW_20221007T120506_DVP_RTC30_G_gpufem_13ED_VH.tif\n",
      "\n",
      "/home/jovyan/hydrosar/Dataset/bang_NE/RTC_GAMMA__tiffs/S1A_IW_20221007T120506_DVP_RTC30_G_gpufem_13ED_VV.tif\n",
      "\n",
      "/home/jovyan/hydrosar/Dataset/bang_NE/RTC_GAMMA__tiffs/S1A_IW_20221019T120506_DVP_RTC30_G_gpufem_2D94_VH.tif\n",
      "\n",
      "/home/jovyan/hydrosar/Dataset/bang_NE/RTC_GAMMA__tiffs/S1A_IW_20221019T120506_DVP_RTC30_G_gpufem_2D94_VV.tif\n",
      "\n",
      "/home/jovyan/hydrosar/Dataset/bang_NE/RTC_GAMMA__tiffs/S1A_IW_20221031T120506_DVP_RTC30_G_gpufem_48E8_VH.tif\n",
      "\n",
      "/home/jovyan/hydrosar/Dataset/bang_NE/RTC_GAMMA__tiffs/S1A_IW_20221031T120506_DVP_RTC30_G_gpufem_48E8_VV.tif\n",
      "\n",
      "/home/jovyan/hydrosar/Dataset/bang_NE/RTC_GAMMA__tiffs/S1A_IW_20221112T120506_DVP_RTC30_G_gpufem_B3C9_VH.tif\n",
      "\n",
      "/home/jovyan/hydrosar/Dataset/bang_NE/RTC_GAMMA__tiffs/S1A_IW_20221112T120506_DVP_RTC30_G_gpufem_B3C9_VV.tif\n",
      "\n",
      "/home/jovyan/hydrosar/Dataset/bang_NE/RTC_GAMMA__tiffs/S1A_IW_20221124T120506_DVP_RTC30_G_gpufem_82A1_VH.tif\n",
      "\n",
      "/home/jovyan/hydrosar/Dataset/bang_NE/RTC_GAMMA__tiffs/S1A_IW_20221124T120506_DVP_RTC30_G_gpufem_82A1_VV.tif\n",
      "\n",
      "/home/jovyan/hydrosar/Dataset/bang_NE/RTC_GAMMA__tiffs/S1A_IW_20221206T120505_DVP_RTC30_G_gpufem_DECC_VH.tif\n",
      "\n",
      "/home/jovyan/hydrosar/Dataset/bang_NE/RTC_GAMMA__tiffs/S1A_IW_20221206T120505_DVP_RTC30_G_gpufem_DECC_VV.tif\n",
      "\n",
      "/home/jovyan/hydrosar/Dataset/bang_NE/RTC_GAMMA__tiffs/S1A_IW_20221218T120504_DVP_RTC30_G_gpufem_047C_VH.tif\n",
      "\n",
      "/home/jovyan/hydrosar/Dataset/bang_NE/RTC_GAMMA__tiffs/S1A_IW_20221218T120504_DVP_RTC30_G_gpufem_047C_VV.tif\n",
      "\n",
      "/home/jovyan/hydrosar/Dataset/bang_NE/RTC_GAMMA__tiffs/S1A_IW_20221230T120504_DVP_RTC30_G_gpufem_2CC1_VH.tif\n",
      "\n",
      "/home/jovyan/hydrosar/Dataset/bang_NE/RTC_GAMMA__tiffs/S1A_IW_20221230T120504_DVP_RTC30_G_gpufem_2CC1_VV.tif\n",
      "\n",
      "/home/jovyan/hydrosar/Dataset/bang_NE/RTC_GAMMA__tiffs/S1A_IW_20230111T120503_DVP_RTC30_G_gpufem_4C33_VH.tif\n",
      "\n",
      "/home/jovyan/hydrosar/Dataset/bang_NE/RTC_GAMMA__tiffs/S1A_IW_20230111T120503_DVP_RTC30_G_gpufem_4C33_VV.tif\n",
      "\n",
      "/home/jovyan/hydrosar/Dataset/bang_NE/RTC_GAMMA__tiffs/S1A_IW_20230123T120503_DVP_RTC30_G_gpufem_F9EA_VH.tif\n",
      "\n",
      "/home/jovyan/hydrosar/Dataset/bang_NE/RTC_GAMMA__tiffs/S1A_IW_20230123T120503_DVP_RTC30_G_gpufem_F9EA_VV.tif\n",
      "\n",
      "/home/jovyan/hydrosar/Dataset/bang_NE/RTC_GAMMA__tiffs/S1A_IW_20230204T120502_DVP_RTC30_G_gpufem_BCD7_VH.tif\n",
      "\n",
      "/home/jovyan/hydrosar/Dataset/bang_NE/RTC_GAMMA__tiffs/S1A_IW_20230204T120502_DVP_RTC30_G_gpufem_BCD7_VV.tif\n",
      "\n",
      "/home/jovyan/hydrosar/Dataset/bang_NE/RTC_GAMMA__tiffs/S1A_IW_20230216T120502_DVP_RTC30_G_gpufem_72B7_VH.tif\n",
      "\n",
      "/home/jovyan/hydrosar/Dataset/bang_NE/RTC_GAMMA__tiffs/S1A_IW_20230216T120502_DVP_RTC30_G_gpufem_72B7_VV.tif\n",
      "\n",
      "/home/jovyan/hydrosar/Dataset/bang_NE/RTC_GAMMA__tiffs/S1A_IW_20230228T120502_DVP_RTC30_G_gpufem_F61C_VH.tif\n",
      "\n",
      "/home/jovyan/hydrosar/Dataset/bang_NE/RTC_GAMMA__tiffs/S1A_IW_20230228T120502_DVP_RTC30_G_gpufem_F61C_VV.tif\n",
      "\n",
      "/home/jovyan/hydrosar/Dataset/bang_NE/RTC_GAMMA__tiffs/S1A_IW_20230312T120502_DVP_RTC30_G_gpufem_DFDC_VH.tif\n",
      "\n",
      "/home/jovyan/hydrosar/Dataset/bang_NE/RTC_GAMMA__tiffs/S1A_IW_20230312T120502_DVP_RTC30_G_gpufem_DFDC_VV.tif\n",
      "\n",
      "/home/jovyan/hydrosar/Dataset/bang_NE/RTC_GAMMA__tiffs/S1A_IW_20230324T120502_DVP_RTC30_G_gpufem_0936_VH.tif\n",
      "\n",
      "/home/jovyan/hydrosar/Dataset/bang_NE/RTC_GAMMA__tiffs/S1A_IW_20230324T120502_DVP_RTC30_G_gpufem_0936_VV.tif\n",
      "\n",
      "/home/jovyan/hydrosar/Dataset/bang_NE/RTC_GAMMA__tiffs/S1A_IW_20230405T120502_DVP_RTC30_G_gpufem_D3F2_VH.tif\n",
      "\n",
      "/home/jovyan/hydrosar/Dataset/bang_NE/RTC_GAMMA__tiffs/S1A_IW_20230405T120502_DVP_RTC30_G_gpufem_D3F2_VV.tif\n",
      "\n",
      "/home/jovyan/hydrosar/Dataset/bang_NE/RTC_GAMMA__tiffs/S1A_IW_20230417T120503_DVP_RTC30_G_gpufem_85D7_VH.tif\n",
      "\n",
      "/home/jovyan/hydrosar/Dataset/bang_NE/RTC_GAMMA__tiffs/S1A_IW_20230417T120503_DVP_RTC30_G_gpufem_85D7_VV.tif\n",
      "\n",
      "/home/jovyan/hydrosar/Dataset/bang_NE/RTC_GAMMA__tiffs/S1A_IW_20230429T120503_DVP_RTC30_G_gpufem_436F_VH.tif\n",
      "\n",
      "/home/jovyan/hydrosar/Dataset/bang_NE/RTC_GAMMA__tiffs/S1A_IW_20230429T120503_DVP_RTC30_G_gpufem_436F_VV.tif\n",
      "\n",
      "/home/jovyan/hydrosar/Dataset/bang_NE/RTC_GAMMA__tiffs/S1A_IW_20230511T120504_DVP_RTC30_G_gpufem_CBE8_VH.tif\n",
      "\n",
      "/home/jovyan/hydrosar/Dataset/bang_NE/RTC_GAMMA__tiffs/S1A_IW_20230511T120504_DVP_RTC30_G_gpufem_CBE8_VV.tif\n",
      "\n",
      "/home/jovyan/hydrosar/Dataset/bang_NE/RTC_GAMMA__tiffs/S1A_IW_20230523T120504_DVP_RTC30_G_gpufem_38EE_VH.tif\n",
      "\n",
      "/home/jovyan/hydrosar/Dataset/bang_NE/RTC_GAMMA__tiffs/S1A_IW_20230523T120504_DVP_RTC30_G_gpufem_38EE_VV.tif\n",
      "\n",
      "/home/jovyan/hydrosar/Dataset/bang_NE/RTC_GAMMA__tiffs/S1A_IW_20230604T120505_DVP_RTC30_G_gpufem_F98E_VH.tif\n",
      "\n",
      "/home/jovyan/hydrosar/Dataset/bang_NE/RTC_GAMMA__tiffs/S1A_IW_20230604T120505_DVP_RTC30_G_gpufem_F98E_VV.tif\n",
      "\n",
      "/home/jovyan/hydrosar/Dataset/bang_NE/RTC_GAMMA__tiffs/S1A_IW_20230616T120506_DVP_RTC30_G_gpufem_31DE_VH.tif\n",
      "\n",
      "/home/jovyan/hydrosar/Dataset/bang_NE/RTC_GAMMA__tiffs/S1A_IW_20230616T120506_DVP_RTC30_G_gpufem_31DE_VV.tif\n",
      "\n",
      "/home/jovyan/hydrosar/Dataset/bang_NE/RTC_GAMMA__tiffs/S1A_IW_20230628T120506_DVP_RTC30_G_gpufem_61AB_VH.tif\n",
      "\n",
      "/home/jovyan/hydrosar/Dataset/bang_NE/RTC_GAMMA__tiffs/S1A_IW_20230628T120506_DVP_RTC30_G_gpufem_61AB_VV.tif\n",
      "\n",
      "/home/jovyan/hydrosar/Dataset/bang_NE/RTC_GAMMA__tiffs/S1A_IW_20230710T120507_DVP_RTC30_G_gpufem_95E6_VH.tif\n",
      "\n",
      "/home/jovyan/hydrosar/Dataset/bang_NE/RTC_GAMMA__tiffs/S1A_IW_20230710T120507_DVP_RTC30_G_gpufem_95E6_VV.tif\n",
      "\n",
      "/home/jovyan/hydrosar/Dataset/bang_NE/RTC_GAMMA__tiffs/S1A_IW_20230722T120508_DVP_RTC30_G_gpufem_3E39_VH.tif\n",
      "\n",
      "/home/jovyan/hydrosar/Dataset/bang_NE/RTC_GAMMA__tiffs/S1A_IW_20230722T120508_DVP_RTC30_G_gpufem_3E39_VV.tif\n",
      "\n",
      "/home/jovyan/hydrosar/Dataset/bang_NE/RTC_GAMMA__tiffs/S1A_IW_20230803T120509_DVP_RTC30_G_gpufem_C31F_VH.tif\n",
      "\n",
      "/home/jovyan/hydrosar/Dataset/bang_NE/RTC_GAMMA__tiffs/S1A_IW_20230803T120509_DVP_RTC30_G_gpufem_C31F_VV.tif\n",
      "\n",
      "/home/jovyan/hydrosar/Dataset/bang_NE/RTC_GAMMA__tiffs/S1A_IW_20230815T120509_DVP_RTC30_G_gpufem_F226_VH.tif\n",
      "\n",
      "/home/jovyan/hydrosar/Dataset/bang_NE/RTC_GAMMA__tiffs/S1A_IW_20230815T120509_DVP_RTC30_G_gpufem_F226_VV.tif\n",
      "\n",
      "/home/jovyan/hydrosar/Dataset/bang_NE/RTC_GAMMA__tiffs/S1A_IW_20230827T120510_DVP_RTC30_G_gpufem_9BF7_VH.tif\n",
      "\n",
      "/home/jovyan/hydrosar/Dataset/bang_NE/RTC_GAMMA__tiffs/S1A_IW_20230827T120510_DVP_RTC30_G_gpufem_9BF7_VV.tif\n",
      "\n",
      "/home/jovyan/hydrosar/Dataset/bang_NE/RTC_GAMMA__tiffs/S1A_IW_20230908T120510_DVP_RTC30_G_gpufem_A857_VH.tif\n",
      "\n",
      "/home/jovyan/hydrosar/Dataset/bang_NE/RTC_GAMMA__tiffs/S1A_IW_20230908T120510_DVP_RTC30_G_gpufem_A857_VV.tif\n",
      "\n",
      "/home/jovyan/hydrosar/Dataset/bang_NE/RTC_GAMMA__tiffs/S1A_IW_20230920T120511_DVP_RTC30_G_gpufem_24F3_VH.tif\n",
      "\n",
      "/home/jovyan/hydrosar/Dataset/bang_NE/RTC_GAMMA__tiffs/S1A_IW_20230920T120511_DVP_RTC30_G_gpufem_24F3_VV.tif\n",
      "\n",
      "/home/jovyan/hydrosar/Dataset/bang_NE/RTC_GAMMA__tiffs/S1A_IW_20231002T120511_DVP_RTC30_G_gpufem_7D8B_VH.tif\n",
      "\n",
      "/home/jovyan/hydrosar/Dataset/bang_NE/RTC_GAMMA__tiffs/S1A_IW_20231002T120511_DVP_RTC30_G_gpufem_7D8B_VV.tif\n",
      "\n",
      "/home/jovyan/hydrosar/Dataset/bang_NE/RTC_GAMMA__tiffs/S1A_IW_20231014T120511_DVP_RTC30_G_gpufem_D171_VH.tif\n",
      "\n",
      "/home/jovyan/hydrosar/Dataset/bang_NE/RTC_GAMMA__tiffs/S1A_IW_20231014T120511_DVP_RTC30_G_gpufem_D171_VV.tif\n",
      "\n",
      "/home/jovyan/hydrosar/Dataset/bang_NE/RTC_GAMMA__tiffs/S1A_IW_20231026T120511_DVP_RTC30_G_gpufem_5D5C_VH.tif\n",
      "\n",
      "/home/jovyan/hydrosar/Dataset/bang_NE/RTC_GAMMA__tiffs/S1A_IW_20231026T120511_DVP_RTC30_G_gpufem_5D5C_VV.tif\n",
      "\n",
      "/home/jovyan/hydrosar/Dataset/bang_NE/RTC_GAMMA__tiffs/S1A_IW_20231107T120510_DVP_RTC30_G_gpufem_EA92_VH.tif\n",
      "\n",
      "/home/jovyan/hydrosar/Dataset/bang_NE/RTC_GAMMA__tiffs/S1A_IW_20231107T120510_DVP_RTC30_G_gpufem_EA92_VV.tif\n",
      "\n",
      "/home/jovyan/hydrosar/Dataset/bang_NE/RTC_GAMMA__tiffs/S1A_IW_20231119T120510_DVP_RTC30_G_gpufem_FA28_VH.tif\n",
      "\n",
      "/home/jovyan/hydrosar/Dataset/bang_NE/RTC_GAMMA__tiffs/S1A_IW_20231119T120510_DVP_RTC30_G_gpufem_FA28_VV.tif\n",
      "\n",
      "/home/jovyan/hydrosar/Dataset/bang_NE/RTC_GAMMA__tiffs/S1A_IW_20231201T120510_DVP_RTC30_G_gpufem_EEBC_VH.tif\n",
      "\n",
      "/home/jovyan/hydrosar/Dataset/bang_NE/RTC_GAMMA__tiffs/S1A_IW_20231201T120510_DVP_RTC30_G_gpufem_EEBC_VV.tif\n",
      "\n",
      "/home/jovyan/hydrosar/Dataset/bang_NE/RTC_GAMMA__tiffs/S1A_IW_20231213T120510_DVP_RTC30_G_gpufem_922F_VH.tif\n",
      "\n",
      "/home/jovyan/hydrosar/Dataset/bang_NE/RTC_GAMMA__tiffs/S1A_IW_20231213T120510_DVP_RTC30_G_gpufem_922F_VV.tif\n",
      "\n",
      "/home/jovyan/hydrosar/Dataset/bang_NE/RTC_GAMMA__tiffs/S1A_IW_20231225T120509_DVP_RTC30_G_gpufem_C6D6_VH.tif\n",
      "\n",
      "/home/jovyan/hydrosar/Dataset/bang_NE/RTC_GAMMA__tiffs/S1A_IW_20231225T120509_DVP_RTC30_G_gpufem_C6D6_VV.tif\n",
      "\n",
      "/home/jovyan/hydrosar/Dataset/bang_NE/RTC_GAMMA__tiffs/S1A_IW_20240106T120508_DVP_RTC30_G_gpufem_887D_VH.tif\n",
      "\n",
      "/home/jovyan/hydrosar/Dataset/bang_NE/RTC_GAMMA__tiffs/S1A_IW_20240106T120508_DVP_RTC30_G_gpufem_887D_VV.tif\n",
      "\n",
      "/home/jovyan/hydrosar/Dataset/bang_NE/RTC_GAMMA__tiffs/S1A_IW_20240118T120507_DVR_RTC30_G_gpufem_CF32_VH.tif\n",
      "\n",
      "/home/jovyan/hydrosar/Dataset/bang_NE/RTC_GAMMA__tiffs/S1A_IW_20240118T120507_DVR_RTC30_G_gpufem_CF32_VV.tif\n",
      "\n",
      "/home/jovyan/hydrosar/Dataset/bang_NE/RTC_GAMMA__tiffs/S1A_IW_20240130T120507_DVR_RTC30_G_gpufem_811D_VH.tif\n",
      "\n",
      "/home/jovyan/hydrosar/Dataset/bang_NE/RTC_GAMMA__tiffs/S1A_IW_20240130T120507_DVR_RTC30_G_gpufem_811D_VV.tif\n",
      "\n"
     ]
    }
   ],
   "source": [
    "tiff_dir = Path(fc.selected_path)\n",
    "analysis_dir = tiff_dir.parent\n",
    "print(f\"analysis_dir: {analysis_dir}\\n\")\n",
    "\n",
    "paths = tiff_dir/\"*.tif*\"\n",
    "tiff_paths = get_tiff_paths(paths)\n",
    "print_tiff_paths(tiff_paths)"
   ]
  },
  {
   "cell_type": "markdown",
   "metadata": {
    "hideCode": false,
    "hidePrompt": false
   },
   "source": [
    "**Determine the UTM zone for your images.** \n",
    "\n",
    "This assumes you have already reprojected multiple UTM projections to a single predominant projection using the `Prepare_Data_Stack_Hyp3` notebook."
   ]
  },
  {
   "cell_type": "code",
   "execution_count": 9,
   "metadata": {
    "hideCode": false,
    "hidePrompt": false
   },
   "outputs": [
    {
     "name": "stdout",
     "output_type": "stream",
     "text": [
      "UTM Zone: 32646\n"
     ]
    }
   ],
   "source": [
    "utm = asfn.get_projection(str(tiff_paths[0]))\n",
    "print(f\"UTM Zone: {utm}\")"
   ]
  },
  {
   "cell_type": "markdown",
   "metadata": {},
   "source": [
    "**Choose a `.tif` file to generate your shapefile**"
   ]
  },
  {
   "cell_type": "code",
   "execution_count": 10,
   "metadata": {},
   "outputs": [],
   "source": [
    "try:\n",
    "    infile = tiff_paths[0]\n",
    "except:\n",
    "    raise OSError('Directory that contains your .tif files is empty.')\n",
    "try:\n",
    "    suffix = infile.suffix\n",
    "    if suffix != '.tif':\n",
    "        raise ValueError(f'File you chose is not a \".tif\" file. Pick a valid \".tif\" file.')\n",
    "except:\n",
    "    raise TypeError(f'{infile} is not a valid path.')\n",
    "\n",
    "outfile = str(infile.parent/f'subset_{infile.stem}.tif')"
   ]
  },
  {
   "cell_type": "markdown",
   "metadata": {
    "hideCode": false,
    "hidePrompt": false
   },
   "source": [
    "---\n",
    "## **1. Select a Subsetting Method and Create a Directory in Which to Store Subset Data**\n",
    "\n",
    "**Select a subsetting option**"
   ]
  },
  {
   "cell_type": "code",
   "execution_count": 11,
   "metadata": {},
   "outputs": [
    {
     "name": "stdout",
     "output_type": "stream",
     "text": [
      "Please choose one of three options:\n"
     ]
    },
    {
     "data": {
      "application/vnd.jupyter.widget-view+json": {
       "model_id": "4b9bbfe51a5d4ae3b123dfdb0a5504ab",
       "version_major": 2,
       "version_minor": 0
      },
      "text/plain": [
       "RadioButtons(layout=Layout(min_width='800px'), options=('Option 1: Draw a rectangle', 'Option 2: Well-Known Te…"
      ]
     },
     "metadata": {},
     "output_type": "display_data"
    }
   ],
   "source": [
    "print(\"Please choose one of three options:\")\n",
    "\n",
    "option_key = [\n",
    "    None,\n",
    "    'Option 1: Draw a rectangle',\n",
    "    'Option 2: Well-Known Text (WKT)',\n",
    "    'Option 3: Shapefile'\n",
    "]\n",
    "\n",
    "option = asfn.select_parameter([option_key[1], option_key[2] , option_key[3],], '')\n",
    "display(option)"
   ]
  },
  {
   "cell_type": "code",
   "execution_count": 12,
   "metadata": {},
   "outputs": [],
   "source": [
    "choice = option_key.index(option.value)"
   ]
  },
  {
   "cell_type": "markdown",
   "metadata": {},
   "source": [
    "**Create a directory in which to store the subset tiffs**"
   ]
  },
  {
   "cell_type": "code",
   "execution_count": 14,
   "metadata": {},
   "outputs": [
    {
     "name": "stdout",
     "output_type": "stream",
     "text": [
      "Choose a directory name in which to store the subset geotiffs.\n",
      "Note: this will sit alongside the directory containing your pre-subset geotiffs.\n"
     ]
    },
    {
     "name": "stdin",
     "output_type": "stream",
     "text": [
      " subset_East\n"
     ]
    }
   ],
   "source": [
    "print(\"Choose a directory name in which to store the subset geotiffs.\")\n",
    "print(\"Note: this will sit alongside the directory containing your pre-subset geotiffs.\")\n",
    "while True:\n",
    "    sub_name = input()\n",
    "    if sub_name == \"\":\n",
    "        print(\"Please enter a valid directory name\")\n",
    "        continue\n",
    "    else:\n",
    "        break\n",
    "        \n",
    "subset_dir = analysis_dir/f'{sub_name}'\n",
    "\n",
    "if not subset_dir.exists():\n",
    "    subset_dir.mkdir()\n",
    "# elif any(subset_dir.rglob('*.tif*')):\n",
    "#     raise Exception(f\"{subset_dir} already exists and contains tiffs\")"
   ]
  },
  {
   "cell_type": "markdown",
   "metadata": {
    "tags": []
   },
   "source": [
    "---\n",
    "## **2. Prepare for Subsetting**\n",
    "\n",
    "**Determine the maximum and common bounds of the data stack**"
   ]
  },
  {
   "cell_type": "code",
   "execution_count": 15,
   "metadata": {},
   "outputs": [],
   "source": [
    "max_extents = asfn.get_max_extents(tiff_paths)\n",
    "xmin, ymin, xmax, ymax = transform_bounds(int(asfn.get_projection(str(tiff_paths[0]))), 3857, *max_extents)\n",
    "max_extents = [xmin, ymin, xmax, ymax]\n",
    "\n",
    "common_extents = asfn.get_common_coverage_extents(tiff_paths)\n",
    "xmin, ymin, xmax, ymax = transform_bounds(int(asfn.get_projection(str(tiff_paths[0]))), 3857, *common_extents)\n",
    "common_extents = [xmin, ymin, xmax, ymax]"
   ]
  },
  {
   "cell_type": "markdown",
   "metadata": {},
   "source": [
    "#### **Option 1: Select an AOI from an interactive plot**\n",
    "\n",
    "**Determine the maximum and common extents of the stack and plot an Area-of_Interest Selector:**"
   ]
  },
  {
   "cell_type": "code",
   "execution_count": 16,
   "metadata": {},
   "outputs": [],
   "source": [
    "if choice == 1:\n",
    "    aoi = asfn.AOI_Selector(max_extents, common_extents, figsize=(10, 8))"
   ]
  },
  {
   "cell_type": "markdown",
   "metadata": {},
   "source": [
    "**Convert the subset corner coordinates from Web-Mercator back to the input data's EPSG:**"
   ]
  },
  {
   "cell_type": "code",
   "execution_count": 17,
   "metadata": {},
   "outputs": [],
   "source": [
    "if choice == 1:\n",
    "    try:\n",
    "        xmin, ymin, xmax, ymax = transform_bounds(3857, \n",
    "                                              int(asfn.get_projection(str(tiff_paths[0]))), \n",
    "                                              *[aoi.x1, aoi.y1, aoi.x2, aoi.y2])\n",
    "        ul = [xmin, ymax]\n",
    "        lr = [xmax, ymin]\n",
    "        print(f\"AOI Corner Coordinates:\")\n",
    "        print(f\"upper left corner: {ul}\")\n",
    "        print(f\"lower right corner: {lr}\")\n",
    "    except TypeError:\n",
    "        print('TypeError')\n",
    "        display(Markdown(f'<text style=color:red>This error may occur if an AOI was not selected.</text>'))\n",
    "        display(Markdown(f'<text style=color:red>Note that the square tool icon in the AOI selector menu is <b>NOT</b> the selection tool. It is the zoom tool.</text>'))"
   ]
  },
  {
   "cell_type": "markdown",
   "metadata": {},
   "source": [
    "#### **Option 2: Create a shapefile from WKT**"
   ]
  },
  {
   "cell_type": "markdown",
   "metadata": {},
   "source": [
    "**Delete existing shape files (`.shp`, `.prj`, `.dbf`, `.shx`)**"
   ]
  },
  {
   "cell_type": "code",
   "execution_count": 18,
   "metadata": {},
   "outputs": [],
   "source": [
    "if choice == 2:\n",
    "    print(\"We will generate a shapefile from your WKT.\")\n",
    "    print(\"Would you like to delete any existing shape files in your tiff directory?\")\n",
    "    shp_option = asfn.select_parameter(['Yes', 'No',], '')\n",
    "    display(shp_option)"
   ]
  },
  {
   "cell_type": "code",
   "execution_count": 19,
   "metadata": {},
   "outputs": [],
   "source": [
    "if choice == 2 and shp_option.value == 'Yes':\n",
    "    keywords = ['.shp','.dbf','.prj','.shx']\n",
    "    \n",
    "    for path in infile.parent.iterdir():\n",
    "        for k in keywords:\n",
    "            if path.suffix == k:\n",
    "                print(f'Removed {path}')\n",
    "                path.unlink()"
   ]
  },
  {
   "cell_type": "markdown",
   "metadata": {},
   "source": [
    "**Choose a name for your `.shp` file:**"
   ]
  },
  {
   "cell_type": "code",
   "execution_count": 20,
   "metadata": {},
   "outputs": [],
   "source": [
    "if choice == 2:\n",
    "    shp_name = input('Choose a name for the shapefile you will create: ')\n",
    "    \n",
    "    # default name if user does not input anything\n",
    "    if not shp_name:\n",
    "        shp_name = 'shape'\n",
    "    \n",
    "    shp = str(infile.parent/f'{shp_name}.shp')\n",
    "    \n",
    "    print(shp)"
   ]
  },
  {
   "cell_type": "markdown",
   "metadata": {},
   "source": [
    "**Generate shapefile.**"
   ]
  },
  {
   "cell_type": "code",
   "execution_count": 21,
   "metadata": {
    "hideCode": false,
    "hidePrompt": false
   },
   "outputs": [],
   "source": [
    "# Let user input WKT (option 2)\n",
    "if choice == 2:\n",
    "    from osgeo import ogr\n",
    "    import shapely.wkt as sWkt\n",
    "    import geopandas\n",
    "    \n",
    "    print(\"When inputting your WKT:\\n\"\\\n",
    "         \"\\t1) You must use a single polygon (e.g. POLYGON((x y, x y, ...)) \\n\"\\\n",
    "         \"\\t2) The bounds of the WKT should be within the extents of the data \\n\"\\\n",
    "         \"\\t3) The projection of the WKT should match that of the dataset\")\n",
    "    \n",
    "\n",
    "    correctWktInput = False\n",
    "    while not correctWktInput:\n",
    "        wkt = input(\"Please enter your WKT: \")\n",
    "        \n",
    "        try:\n",
    "            geoShape = sWkt.loads(wkt)\n",
    "            series = geopandas.GeoSeries([geoShape])\n",
    "            isNotConnected = series.is_valid[0]\n",
    "                        \n",
    "            if not isNotConnected:\n",
    "                raise('Obsecure shape detected.')\n",
    "                continue\n",
    "                \n",
    "        except:\n",
    "            print('Error due to an unclosed shape, obsecure shape, or bad input. Try again...')\n",
    "            continue\n",
    "            \n",
    "        correctWktInput = True\n",
    "                \n",
    "    outfile = str(infile.parent/f'subset_{infile.stem}.tif')\n",
    "    epsg = getEPSG(str(infile))\n",
    "\n",
    "    driver = ogr.GetDriverByName('Esri Shapefile')\n",
    "    ds = driver.CreateDataSource(shp)\n",
    "    srs = osr.SpatialReference()\n",
    "    srs.ImportFromEPSG(epsg)\n",
    "    layer = ds.CreateLayer('', srs, ogr.wkbPolygon)\n",
    "    defn = layer.GetLayerDefn()\n",
    "\n",
    "    # Create a new feature (attribute and geometry)\n",
    "    feat = ogr.Feature(defn)\n",
    "    \n",
    "    # Make a geometry from Shapely object\n",
    "    geom = ogr.CreateGeometryFromWkt(wkt) \n",
    "    feat.SetGeometry(geom)\n",
    "    \n",
    "    layer.CreateFeature(feat)\n",
    "    feat = geom = None  # destroy these\n",
    "\n",
    "    # Save and close everything\n",
    "    ds = layer = feat = geom = None"
   ]
  },
  {
   "cell_type": "markdown",
   "metadata": {},
   "source": [
    "#### **Option 3: Upload `.shp`**"
   ]
  },
  {
   "cell_type": "markdown",
   "metadata": {
    "hideCode": false,
    "hidePrompt": false
   },
   "source": [
    "If you chose option 3, upload your shapefile (`.shp`, `.prj`, `.shx` and `.dbf` files). Once you uploaded them, select the .shp file using file selector.\n",
    "\n",
    "**Note**: `.shp`, `.shx`, `.dbf`, and `.prj` files must be in the same directory."
   ]
  },
  {
   "cell_type": "code",
   "execution_count": 22,
   "metadata": {
    "hideCode": false,
    "hidePrompt": false
   },
   "outputs": [
    {
     "data": {
      "text/markdown": [
       "<text style=color:red>WARNING: The uploaded shapefile must have the same projection as the dataset.</text>"
      ],
      "text/plain": [
       "<IPython.core.display.Markdown object>"
      ]
     },
     "metadata": {},
     "output_type": "display_data"
    },
    {
     "name": "stdout",
     "output_type": "stream",
     "text": [
      "Select a shapefile (.shp):\n"
     ]
    },
    {
     "data": {
      "application/vnd.jupyter.widget-view+json": {
       "model_id": "fe2bae32d0ce42f49aade24e18be44d3",
       "version_major": 2,
       "version_minor": 0
      },
      "text/plain": [
       "FileChooser(path='/home/jovyan/hydrosar', filename='', title='', show_hidden=False, select_desc='Select', chan…"
      ]
     },
     "metadata": {},
     "output_type": "display_data"
    }
   ],
   "source": [
    "if choice == 3:\n",
    "    display(Markdown(f'<text style=color:red>WARNING: The uploaded shapefile must have the same projection as the dataset.</text>'))\n",
    "    print(\"Select a shapefile (.shp):\")\n",
    "    shpfc = FileChooser(Path.cwd())\n",
    "    display(shpfc)"
   ]
  },
  {
   "cell_type": "code",
   "execution_count": 23,
   "metadata": {
    "hideCode": false,
    "hidePrompt": false
   },
   "outputs": [
    {
     "name": "stdout",
     "output_type": "stream",
     "text": [
      "/home/jovyan/hydrosar/Dataset/bang_NE/shapeFiles/shapeFile-test_2/bangladesh_shapeFile-test_2.shp\n"
     ]
    }
   ],
   "source": [
    "if choice == 3:\n",
    "    try:\n",
    "        shp = Path(shpfc.selected)\n",
    "    except:\n",
    "        raise TypeError('Please choose the file path before proceeding.')\n",
    "        \n",
    "    print(shp)"
   ]
  },
  {
   "cell_type": "code",
   "execution_count": 24,
   "metadata": {
    "hideCode": false,
    "hidePrompt": false
   },
   "outputs": [],
   "source": [
    "# Extract wkt from shapefile:\n",
    "if choice == 3:\n",
    "    if shp.suffix == '.shp':\n",
    "        gInfo = gdal.OpenEx(str(shp))\n",
    "        layer = gInfo.GetLayer()\n",
    "        feature = layer.GetFeature(0)\n",
    "        wkt = feature.GetGeometryRef().ExportToWkt()"
   ]
  },
  {
   "cell_type": "markdown",
   "metadata": {},
   "source": [
    "#### **Option 2 & 3: Display shapefile (uploaded or created from WKT) in relation to the stack extents**\n",
    "\n",
    "**Visually confirm that your AOI is located where you expect it**"
   ]
  },
  {
   "cell_type": "code",
   "execution_count": 25,
   "metadata": {},
   "outputs": [
    {
     "data": {
      "application/vnd.jupyter.widget-view+json": {
       "model_id": "a6338b61e1f54af78084d28168e3eca6",
       "version_major": 2,
       "version_minor": 0
      },
      "image/png": "[encoded data removed]",
      "text/html": [
       "\n",
       "            <div style=\"display: inline-block;\">\n",
       "                <div class=\"jupyter-widgets widget-label\" style=\"text-align: center;\">\n",
       "                    Figure\n",
       "                </div>\n",
       "                <img src='data:image/png;base64,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' width=1000.0/>\n",
       "            </div>\n",
       "        "
      ],
      "text/plain": [
       "Canvas(toolbar=Toolbar(toolitems=[('Home', 'Reset original view', 'home', 'home'), ('Back', 'Back to previous …"
      ]
     },
     "metadata": {},
     "output_type": "display_data"
    }
   ],
   "source": [
    "if choice != 1:\n",
    "    asfn.plot_shape_in_stack(shp, utm, max_extents, common_extents, figsize=(10, 8))"
   ]
  },
  {
   "cell_type": "markdown",
   "metadata": {},
   "source": [
    "## **3. Subset the Data**"
   ]
  },
  {
   "cell_type": "code",
   "execution_count": 26,
   "metadata": {},
   "outputs": [],
   "source": [
    "# Create sub-folder within the subset_home folder to contain subsetted tiffs. \n",
    "\n",
    "subset_home = Path(subset_dir,'RTC_GAMMA')\n",
    "\n",
    "if not subset_home.exists():\n",
    "    subset_home.mkdir()"
   ]
  },
  {
   "cell_type": "code",
   "execution_count": 27,
   "metadata": {},
   "outputs": [],
   "source": [
    "for i, tiff_path in enumerate(tiff_paths):\n",
    "\n",
    "    outfile = subset_home/f\"{tiff_path.stem}_subset{tiff_path.suffix}\"  \n",
    "\n",
    "    if choice == 1:\n",
    "        gdal.Translate(destName=str(outfile), srcDS=str(tiff_path), projWin=[ul[0], ul[1], lr[0], lr[1]])\n",
    "    else: # choice 2 & 3\n",
    "        gdal.Warp(str(outfile), str(tiff_path), cutlineDSName=str(shp) , cropToCutline=True)"
   ]
  },
  {
   "cell_type": "markdown",
   "metadata": {},
   "source": [
    "## **4. Clean Up**"
   ]
  },
  {
   "cell_type": "markdown",
   "metadata": {
    "hideCode": false,
    "hidePrompt": false
   },
   "source": [
    "**Delete any subset `tifs` that are filled with `NaNs` and contain no data.**"
   ]
  },
  {
   "cell_type": "code",
   "execution_count": 28,
   "metadata": {
    "hideCode": false,
    "hidePrompt": false,
    "scrolled": true
   },
   "outputs": [
    {
     "data": {
      "text/plain": [
       "[PosixPath('/home/jovyan/hydrosar/Dataset/bang_NE/subset_East/RTC_GAMMA/S1A_IW_20190108T120439_DVP_RTC30_G_gpufem_8BD9_VH_subset.tif'),\n",
       " PosixPath('/home/jovyan/hydrosar/Dataset/bang_NE/subset_East/RTC_GAMMA/S1A_IW_20190108T120439_DVP_RTC30_G_gpufem_8BD9_VV_subset.tif'),\n",
       " PosixPath('/home/jovyan/hydrosar/Dataset/bang_NE/subset_East/RTC_GAMMA/S1A_IW_20190120T120439_DVP_RTC30_G_gpufem_97E2_VH_subset.tif'),\n",
       " PosixPath('/home/jovyan/hydrosar/Dataset/bang_NE/subset_East/RTC_GAMMA/S1A_IW_20190120T120439_DVP_RTC30_G_gpufem_97E2_VV_subset.tif'),\n",
       " PosixPath('/home/jovyan/hydrosar/Dataset/bang_NE/subset_East/RTC_GAMMA/S1A_IW_20190201T120439_DVP_RTC30_G_gpufem_5EF2_VH_subset.tif'),\n",
       " PosixPath('/home/jovyan/hydrosar/Dataset/bang_NE/subset_East/RTC_GAMMA/S1A_IW_20190201T120439_DVP_RTC30_G_gpufem_5EF2_VV_subset.tif'),\n",
       " PosixPath('/home/jovyan/hydrosar/Dataset/bang_NE/subset_East/RTC_GAMMA/S1A_IW_20190213T120438_DVP_RTC30_G_gpufem_CA11_VH_subset.tif'),\n",
       " PosixPath('/home/jovyan/hydrosar/Dataset/bang_NE/subset_East/RTC_GAMMA/S1A_IW_20190213T120438_DVP_RTC30_G_gpufem_CA11_VV_subset.tif'),\n",
       " PosixPath('/home/jovyan/hydrosar/Dataset/bang_NE/subset_East/RTC_GAMMA/S1A_IW_20190225T120438_DVP_RTC30_G_gpufem_C14B_VH_subset.tif'),\n",
       " PosixPath('/home/jovyan/hydrosar/Dataset/bang_NE/subset_East/RTC_GAMMA/S1A_IW_20190225T120438_DVP_RTC30_G_gpufem_C14B_VV_subset.tif'),\n",
       " PosixPath('/home/jovyan/hydrosar/Dataset/bang_NE/subset_East/RTC_GAMMA/S1A_IW_20190309T120438_DVP_RTC30_G_gpufem_4755_VH_subset.tif'),\n",
       " PosixPath('/home/jovyan/hydrosar/Dataset/bang_NE/subset_East/RTC_GAMMA/S1A_IW_20190309T120438_DVP_RTC30_G_gpufem_4755_VV_subset.tif'),\n",
       " PosixPath('/home/jovyan/hydrosar/Dataset/bang_NE/subset_East/RTC_GAMMA/S1A_IW_20190321T120438_DVP_RTC30_G_gpufem_73AE_VH_subset.tif'),\n",
       " PosixPath('/home/jovyan/hydrosar/Dataset/bang_NE/subset_East/RTC_GAMMA/S1A_IW_20190321T120438_DVP_RTC30_G_gpufem_73AE_VV_subset.tif'),\n",
       " PosixPath('/home/jovyan/hydrosar/Dataset/bang_NE/subset_East/RTC_GAMMA/S1A_IW_20190402T120439_DVP_RTC30_G_gpufem_0364_VH_subset.tif'),\n",
       " PosixPath('/home/jovyan/hydrosar/Dataset/bang_NE/subset_East/RTC_GAMMA/S1A_IW_20190402T120439_DVP_RTC30_G_gpufem_0364_VV_subset.tif'),\n",
       " PosixPath('/home/jovyan/hydrosar/Dataset/bang_NE/subset_East/RTC_GAMMA/S1A_IW_20190414T120439_DVP_RTC30_G_gpufem_81C6_VH_subset.tif'),\n",
       " PosixPath('/home/jovyan/hydrosar/Dataset/bang_NE/subset_East/RTC_GAMMA/S1A_IW_20190414T120439_DVP_RTC30_G_gpufem_81C6_VV_subset.tif'),\n",
       " PosixPath('/home/jovyan/hydrosar/Dataset/bang_NE/subset_East/RTC_GAMMA/S1A_IW_20190426T120440_DVP_RTC30_G_gpufem_34EB_VH_subset.tif'),\n",
       " PosixPath('/home/jovyan/hydrosar/Dataset/bang_NE/subset_East/RTC_GAMMA/S1A_IW_20190426T120440_DVP_RTC30_G_gpufem_34EB_VV_subset.tif'),\n",
       " PosixPath('/home/jovyan/hydrosar/Dataset/bang_NE/subset_East/RTC_GAMMA/S1A_IW_20190508T120440_DVP_RTC30_G_gpufem_34D2_VH_subset.tif'),\n",
       " PosixPath('/home/jovyan/hydrosar/Dataset/bang_NE/subset_East/RTC_GAMMA/S1A_IW_20190508T120440_DVP_RTC30_G_gpufem_34D2_VV_subset.tif'),\n",
       " PosixPath('/home/jovyan/hydrosar/Dataset/bang_NE/subset_East/RTC_GAMMA/S1A_IW_20190520T120441_DVP_RTC30_G_gpufem_9589_VH_subset.tif'),\n",
       " PosixPath('/home/jovyan/hydrosar/Dataset/bang_NE/subset_East/RTC_GAMMA/S1A_IW_20190520T120441_DVP_RTC30_G_gpufem_9589_VV_subset.tif'),\n",
       " PosixPath('/home/jovyan/hydrosar/Dataset/bang_NE/subset_East/RTC_GAMMA/S1A_IW_20190601T120441_DVP_RTC30_G_gpufem_6710_VH_subset.tif'),\n",
       " PosixPath('/home/jovyan/hydrosar/Dataset/bang_NE/subset_East/RTC_GAMMA/S1A_IW_20190601T120441_DVP_RTC30_G_gpufem_6710_VV_subset.tif'),\n",
       " PosixPath('/home/jovyan/hydrosar/Dataset/bang_NE/subset_East/RTC_GAMMA/S1A_IW_20190613T120442_DVP_RTC30_G_gpufem_FC73_VH_subset.tif'),\n",
       " PosixPath('/home/jovyan/hydrosar/Dataset/bang_NE/subset_East/RTC_GAMMA/S1A_IW_20190613T120442_DVP_RTC30_G_gpufem_FC73_VV_subset.tif'),\n",
       " PosixPath('/home/jovyan/hydrosar/Dataset/bang_NE/subset_East/RTC_GAMMA/S1A_IW_20190625T120442_DVP_RTC30_G_gpufem_26C2_VH_subset.tif'),\n",
       " PosixPath('/home/jovyan/hydrosar/Dataset/bang_NE/subset_East/RTC_GAMMA/S1A_IW_20190625T120442_DVP_RTC30_G_gpufem_26C2_VV_subset.tif'),\n",
       " PosixPath('/home/jovyan/hydrosar/Dataset/bang_NE/subset_East/RTC_GAMMA/S1A_IW_20190707T120443_DVP_RTC30_G_gpufem_F5B7_VH_subset.tif'),\n",
       " PosixPath('/home/jovyan/hydrosar/Dataset/bang_NE/subset_East/RTC_GAMMA/S1A_IW_20190707T120443_DVP_RTC30_G_gpufem_F5B7_VV_subset.tif'),\n",
       " PosixPath('/home/jovyan/hydrosar/Dataset/bang_NE/subset_East/RTC_GAMMA/S1A_IW_20190719T120444_DVP_RTC30_G_gpufem_DAFE_VH_subset.tif'),\n",
       " PosixPath('/home/jovyan/hydrosar/Dataset/bang_NE/subset_East/RTC_GAMMA/S1A_IW_20190719T120444_DVP_RTC30_G_gpufem_DAFE_VV_subset.tif'),\n",
       " PosixPath('/home/jovyan/hydrosar/Dataset/bang_NE/subset_East/RTC_GAMMA/S1A_IW_20190731T120445_DVP_RTC30_G_gpufem_3C5A_VH_subset.tif'),\n",
       " PosixPath('/home/jovyan/hydrosar/Dataset/bang_NE/subset_East/RTC_GAMMA/S1A_IW_20190731T120445_DVP_RTC30_G_gpufem_3C5A_VV_subset.tif'),\n",
       " PosixPath('/home/jovyan/hydrosar/Dataset/bang_NE/subset_East/RTC_GAMMA/S1A_IW_20190812T120446_DVP_RTC30_G_gpufem_0255_VH_subset.tif'),\n",
       " PosixPath('/home/jovyan/hydrosar/Dataset/bang_NE/subset_East/RTC_GAMMA/S1A_IW_20190812T120446_DVP_RTC30_G_gpufem_0255_VV_subset.tif'),\n",
       " PosixPath('/home/jovyan/hydrosar/Dataset/bang_NE/subset_East/RTC_GAMMA/S1A_IW_20190824T120446_DVP_RTC30_G_gpufem_4CCB_VH_subset.tif'),\n",
       " PosixPath('/home/jovyan/hydrosar/Dataset/bang_NE/subset_East/RTC_GAMMA/S1A_IW_20190824T120446_DVP_RTC30_G_gpufem_4CCB_VV_subset.tif'),\n",
       " PosixPath('/home/jovyan/hydrosar/Dataset/bang_NE/subset_East/RTC_GAMMA/S1A_IW_20190905T120447_DVP_RTC30_G_gpufem_AF79_VH_subset.tif'),\n",
       " PosixPath('/home/jovyan/hydrosar/Dataset/bang_NE/subset_East/RTC_GAMMA/S1A_IW_20190905T120447_DVP_RTC30_G_gpufem_AF79_VV_subset.tif'),\n",
       " PosixPath('/home/jovyan/hydrosar/Dataset/bang_NE/subset_East/RTC_GAMMA/S1A_IW_20190929T120448_DVP_RTC30_G_gpufem_0BC5_VH_subset.tif'),\n",
       " PosixPath('/home/jovyan/hydrosar/Dataset/bang_NE/subset_East/RTC_GAMMA/S1A_IW_20190929T120448_DVP_RTC30_G_gpufem_0BC5_VV_subset.tif'),\n",
       " PosixPath('/home/jovyan/hydrosar/Dataset/bang_NE/subset_East/RTC_GAMMA/S1A_IW_20191011T120448_DVP_RTC30_G_gpufem_DF64_VH_subset.tif'),\n",
       " PosixPath('/home/jovyan/hydrosar/Dataset/bang_NE/subset_East/RTC_GAMMA/S1A_IW_20191011T120448_DVP_RTC30_G_gpufem_DF64_VV_subset.tif'),\n",
       " PosixPath('/home/jovyan/hydrosar/Dataset/bang_NE/subset_East/RTC_GAMMA/S1A_IW_20191023T120448_DVP_RTC30_G_gpufem_A9AA_VH_subset.tif'),\n",
       " PosixPath('/home/jovyan/hydrosar/Dataset/bang_NE/subset_East/RTC_GAMMA/S1A_IW_20191023T120448_DVP_RTC30_G_gpufem_A9AA_VV_subset.tif'),\n",
       " PosixPath('/home/jovyan/hydrosar/Dataset/bang_NE/subset_East/RTC_GAMMA/S1A_IW_20191104T120448_DVP_RTC30_G_gpufem_247C_VH_subset.tif'),\n",
       " PosixPath('/home/jovyan/hydrosar/Dataset/bang_NE/subset_East/RTC_GAMMA/S1A_IW_20191104T120448_DVP_RTC30_G_gpufem_247C_VV_subset.tif'),\n",
       " PosixPath('/home/jovyan/hydrosar/Dataset/bang_NE/subset_East/RTC_GAMMA/S1A_IW_20191116T120448_DVP_RTC30_G_gpufem_C1C6_VH_subset.tif'),\n",
       " PosixPath('/home/jovyan/hydrosar/Dataset/bang_NE/subset_East/RTC_GAMMA/S1A_IW_20191116T120448_DVP_RTC30_G_gpufem_C1C6_VV_subset.tif'),\n",
       " PosixPath('/home/jovyan/hydrosar/Dataset/bang_NE/subset_East/RTC_GAMMA/S1A_IW_20191128T120447_DVP_RTC30_G_gpufem_F1A1_VH_subset.tif'),\n",
       " PosixPath('/home/jovyan/hydrosar/Dataset/bang_NE/subset_East/RTC_GAMMA/S1A_IW_20191128T120447_DVP_RTC30_G_gpufem_F1A1_VV_subset.tif'),\n",
       " PosixPath('/home/jovyan/hydrosar/Dataset/bang_NE/subset_East/RTC_GAMMA/S1A_IW_20191210T120447_DVP_RTC30_G_gpufem_CEB6_VH_subset.tif'),\n",
       " PosixPath('/home/jovyan/hydrosar/Dataset/bang_NE/subset_East/RTC_GAMMA/S1A_IW_20191210T120447_DVP_RTC30_G_gpufem_CEB6_VV_subset.tif'),\n",
       " PosixPath('/home/jovyan/hydrosar/Dataset/bang_NE/subset_East/RTC_GAMMA/S1A_IW_20191222T120446_DVP_RTC30_G_gpufem_E4A8_VH_subset.tif'),\n",
       " PosixPath('/home/jovyan/hydrosar/Dataset/bang_NE/subset_East/RTC_GAMMA/S1A_IW_20191222T120446_DVP_RTC30_G_gpufem_E4A8_VV_subset.tif'),\n",
       " PosixPath('/home/jovyan/hydrosar/Dataset/bang_NE/subset_East/RTC_GAMMA/S1A_IW_20200103T120446_DVP_RTC30_G_gpufem_DBED_VH_subset.tif'),\n",
       " PosixPath('/home/jovyan/hydrosar/Dataset/bang_NE/subset_East/RTC_GAMMA/S1A_IW_20200103T120446_DVP_RTC30_G_gpufem_DBED_VV_subset.tif'),\n",
       " PosixPath('/home/jovyan/hydrosar/Dataset/bang_NE/subset_East/RTC_GAMMA/S1A_IW_20200115T120445_DVP_RTC30_G_gpufem_43F5_VH_subset.tif'),\n",
       " PosixPath('/home/jovyan/hydrosar/Dataset/bang_NE/subset_East/RTC_GAMMA/S1A_IW_20200115T120445_DVP_RTC30_G_gpufem_43F5_VV_subset.tif'),\n",
       " PosixPath('/home/jovyan/hydrosar/Dataset/bang_NE/subset_East/RTC_GAMMA/S1A_IW_20200127T120445_DVP_RTC30_G_gpufem_5E3A_VH_subset.tif'),\n",
       " PosixPath('/home/jovyan/hydrosar/Dataset/bang_NE/subset_East/RTC_GAMMA/S1A_IW_20200127T120445_DVP_RTC30_G_gpufem_5E3A_VV_subset.tif'),\n",
       " PosixPath('/home/jovyan/hydrosar/Dataset/bang_NE/subset_East/RTC_GAMMA/S1A_IW_20200208T120445_DVP_RTC30_G_gpufem_A8A8_VH_subset.tif'),\n",
       " PosixPath('/home/jovyan/hydrosar/Dataset/bang_NE/subset_East/RTC_GAMMA/S1A_IW_20200208T120445_DVP_RTC30_G_gpufem_A8A8_VV_subset.tif'),\n",
       " PosixPath('/home/jovyan/hydrosar/Dataset/bang_NE/subset_East/RTC_GAMMA/S1A_IW_20200220T120444_DVP_RTC30_G_gpufem_1A88_VH_subset.tif'),\n",
       " PosixPath('/home/jovyan/hydrosar/Dataset/bang_NE/subset_East/RTC_GAMMA/S1A_IW_20200220T120444_DVP_RTC30_G_gpufem_1A88_VV_subset.tif'),\n",
       " PosixPath('/home/jovyan/hydrosar/Dataset/bang_NE/subset_East/RTC_GAMMA/S1A_IW_20200303T120444_DVP_RTC30_G_gpufem_BAB5_VH_subset.tif'),\n",
       " PosixPath('/home/jovyan/hydrosar/Dataset/bang_NE/subset_East/RTC_GAMMA/S1A_IW_20200303T120444_DVP_RTC30_G_gpufem_BAB5_VV_subset.tif'),\n",
       " PosixPath('/home/jovyan/hydrosar/Dataset/bang_NE/subset_East/RTC_GAMMA/S1A_IW_20200315T120445_DVP_RTC30_G_gpufem_C860_VH_subset.tif'),\n",
       " PosixPath('/home/jovyan/hydrosar/Dataset/bang_NE/subset_East/RTC_GAMMA/S1A_IW_20200315T120445_DVP_RTC30_G_gpufem_C860_VV_subset.tif'),\n",
       " PosixPath('/home/jovyan/hydrosar/Dataset/bang_NE/subset_East/RTC_GAMMA/S1A_IW_20200327T120445_DVP_RTC30_G_gpufem_F7B4_VH_subset.tif'),\n",
       " PosixPath('/home/jovyan/hydrosar/Dataset/bang_NE/subset_East/RTC_GAMMA/S1A_IW_20200327T120445_DVP_RTC30_G_gpufem_F7B4_VV_subset.tif'),\n",
       " PosixPath('/home/jovyan/hydrosar/Dataset/bang_NE/subset_East/RTC_GAMMA/S1A_IW_20200408T120445_DVP_RTC30_G_gpufem_3D72_VH_subset.tif'),\n",
       " PosixPath('/home/jovyan/hydrosar/Dataset/bang_NE/subset_East/RTC_GAMMA/S1A_IW_20200408T120445_DVP_RTC30_G_gpufem_3D72_VV_subset.tif'),\n",
       " PosixPath('/home/jovyan/hydrosar/Dataset/bang_NE/subset_East/RTC_GAMMA/S1A_IW_20200420T120445_DVP_RTC30_G_gpufem_6689_VH_subset.tif'),\n",
       " PosixPath('/home/jovyan/hydrosar/Dataset/bang_NE/subset_East/RTC_GAMMA/S1A_IW_20200420T120445_DVP_RTC30_G_gpufem_6689_VV_subset.tif'),\n",
       " PosixPath('/home/jovyan/hydrosar/Dataset/bang_NE/subset_East/RTC_GAMMA/S1A_IW_20200502T120446_DVP_RTC30_G_gpufem_D75F_VH_subset.tif'),\n",
       " PosixPath('/home/jovyan/hydrosar/Dataset/bang_NE/subset_East/RTC_GAMMA/S1A_IW_20200502T120446_DVP_RTC30_G_gpufem_D75F_VV_subset.tif'),\n",
       " PosixPath('/home/jovyan/hydrosar/Dataset/bang_NE/subset_East/RTC_GAMMA/S1A_IW_20200514T120447_DVP_RTC30_G_gpufem_644F_VH_subset.tif'),\n",
       " PosixPath('/home/jovyan/hydrosar/Dataset/bang_NE/subset_East/RTC_GAMMA/S1A_IW_20200514T120447_DVP_RTC30_G_gpufem_644F_VV_subset.tif'),\n",
       " PosixPath('/home/jovyan/hydrosar/Dataset/bang_NE/subset_East/RTC_GAMMA/S1A_IW_20200526T120447_DVP_RTC30_G_gpufem_B478_VH_subset.tif'),\n",
       " PosixPath('/home/jovyan/hydrosar/Dataset/bang_NE/subset_East/RTC_GAMMA/S1A_IW_20200526T120447_DVP_RTC30_G_gpufem_B478_VV_subset.tif'),\n",
       " PosixPath('/home/jovyan/hydrosar/Dataset/bang_NE/subset_East/RTC_GAMMA/S1A_IW_20200607T120448_DVP_RTC30_G_gpufem_05E8_VH_subset.tif'),\n",
       " PosixPath('/home/jovyan/hydrosar/Dataset/bang_NE/subset_East/RTC_GAMMA/S1A_IW_20200607T120448_DVP_RTC30_G_gpufem_05E8_VV_subset.tif'),\n",
       " PosixPath('/home/jovyan/hydrosar/Dataset/bang_NE/subset_East/RTC_GAMMA/S1A_IW_20200619T120449_DVP_RTC30_G_gpufem_3C15_VH_subset.tif'),\n",
       " PosixPath('/home/jovyan/hydrosar/Dataset/bang_NE/subset_East/RTC_GAMMA/S1A_IW_20200619T120449_DVP_RTC30_G_gpufem_3C15_VV_subset.tif'),\n",
       " PosixPath('/home/jovyan/hydrosar/Dataset/bang_NE/subset_East/RTC_GAMMA/S1A_IW_20200701T120449_DVP_RTC30_G_gpufem_E709_VH_subset.tif'),\n",
       " PosixPath('/home/jovyan/hydrosar/Dataset/bang_NE/subset_East/RTC_GAMMA/S1A_IW_20200701T120449_DVP_RTC30_G_gpufem_E709_VV_subset.tif'),\n",
       " PosixPath('/home/jovyan/hydrosar/Dataset/bang_NE/subset_East/RTC_GAMMA/S1A_IW_20200713T120450_DVP_RTC30_G_gpufem_6EB6_VH_subset.tif'),\n",
       " PosixPath('/home/jovyan/hydrosar/Dataset/bang_NE/subset_East/RTC_GAMMA/S1A_IW_20200713T120450_DVP_RTC30_G_gpufem_6EB6_VV_subset.tif'),\n",
       " PosixPath('/home/jovyan/hydrosar/Dataset/bang_NE/subset_East/RTC_GAMMA/S1A_IW_20200725T120451_DVP_RTC30_G_gpufem_82EC_VH_subset.tif'),\n",
       " PosixPath('/home/jovyan/hydrosar/Dataset/bang_NE/subset_East/RTC_GAMMA/S1A_IW_20200725T120451_DVP_RTC30_G_gpufem_82EC_VV_subset.tif'),\n",
       " PosixPath('/home/jovyan/hydrosar/Dataset/bang_NE/subset_East/RTC_GAMMA/S1A_IW_20200806T120452_DVP_RTC30_G_gpufem_34F8_VH_subset.tif'),\n",
       " PosixPath('/home/jovyan/hydrosar/Dataset/bang_NE/subset_East/RTC_GAMMA/S1A_IW_20200806T120452_DVP_RTC30_G_gpufem_34F8_VV_subset.tif'),\n",
       " PosixPath('/home/jovyan/hydrosar/Dataset/bang_NE/subset_East/RTC_GAMMA/S1A_IW_20200818T120452_DVP_RTC30_G_gpufem_362D_VH_subset.tif'),\n",
       " PosixPath('/home/jovyan/hydrosar/Dataset/bang_NE/subset_East/RTC_GAMMA/S1A_IW_20200818T120452_DVP_RTC30_G_gpufem_362D_VV_subset.tif'),\n",
       " PosixPath('/home/jovyan/hydrosar/Dataset/bang_NE/subset_East/RTC_GAMMA/S1A_IW_20200830T120453_DVP_RTC30_G_gpufem_7018_VH_subset.tif'),\n",
       " PosixPath('/home/jovyan/hydrosar/Dataset/bang_NE/subset_East/RTC_GAMMA/S1A_IW_20200830T120453_DVP_RTC30_G_gpufem_7018_VV_subset.tif'),\n",
       " PosixPath('/home/jovyan/hydrosar/Dataset/bang_NE/subset_East/RTC_GAMMA/S1A_IW_20200911T120454_DVP_RTC30_G_gpufem_D603_VH_subset.tif'),\n",
       " PosixPath('/home/jovyan/hydrosar/Dataset/bang_NE/subset_East/RTC_GAMMA/S1A_IW_20200911T120454_DVP_RTC30_G_gpufem_D603_VV_subset.tif'),\n",
       " PosixPath('/home/jovyan/hydrosar/Dataset/bang_NE/subset_East/RTC_GAMMA/S1A_IW_20200923T120454_DVP_RTC30_G_gpufem_2891_VH_subset.tif'),\n",
       " PosixPath('/home/jovyan/hydrosar/Dataset/bang_NE/subset_East/RTC_GAMMA/S1A_IW_20200923T120454_DVP_RTC30_G_gpufem_2891_VV_subset.tif'),\n",
       " PosixPath('/home/jovyan/hydrosar/Dataset/bang_NE/subset_East/RTC_GAMMA/S1A_IW_20201005T120454_DVP_RTC30_G_gpufem_37D1_VH_subset.tif'),\n",
       " PosixPath('/home/jovyan/hydrosar/Dataset/bang_NE/subset_East/RTC_GAMMA/S1A_IW_20201005T120454_DVP_RTC30_G_gpufem_37D1_VV_subset.tif'),\n",
       " PosixPath('/home/jovyan/hydrosar/Dataset/bang_NE/subset_East/RTC_GAMMA/S1A_IW_20201017T120454_DVP_RTC30_G_gpufem_6556_VH_subset.tif'),\n",
       " PosixPath('/home/jovyan/hydrosar/Dataset/bang_NE/subset_East/RTC_GAMMA/S1A_IW_20201017T120454_DVP_RTC30_G_gpufem_6556_VV_subset.tif'),\n",
       " PosixPath('/home/jovyan/hydrosar/Dataset/bang_NE/subset_East/RTC_GAMMA/S1A_IW_20201029T120454_DVP_RTC30_G_gpufem_B897_VH_subset.tif'),\n",
       " PosixPath('/home/jovyan/hydrosar/Dataset/bang_NE/subset_East/RTC_GAMMA/S1A_IW_20201029T120454_DVP_RTC30_G_gpufem_B897_VV_subset.tif'),\n",
       " PosixPath('/home/jovyan/hydrosar/Dataset/bang_NE/subset_East/RTC_GAMMA/S1A_IW_20201110T120454_DVP_RTC30_G_gpufem_B939_VH_subset.tif'),\n",
       " PosixPath('/home/jovyan/hydrosar/Dataset/bang_NE/subset_East/RTC_GAMMA/S1A_IW_20201110T120454_DVP_RTC30_G_gpufem_B939_VV_subset.tif'),\n",
       " PosixPath('/home/jovyan/hydrosar/Dataset/bang_NE/subset_East/RTC_GAMMA/S1A_IW_20201122T120454_DVP_RTC30_G_gpufem_F692_VH_subset.tif'),\n",
       " PosixPath('/home/jovyan/hydrosar/Dataset/bang_NE/subset_East/RTC_GAMMA/S1A_IW_20201122T120454_DVP_RTC30_G_gpufem_F692_VV_subset.tif'),\n",
       " PosixPath('/home/jovyan/hydrosar/Dataset/bang_NE/subset_East/RTC_GAMMA/S1A_IW_20201204T120453_DVP_RTC30_G_gpufem_CE47_VH_subset.tif'),\n",
       " PosixPath('/home/jovyan/hydrosar/Dataset/bang_NE/subset_East/RTC_GAMMA/S1A_IW_20201204T120453_DVP_RTC30_G_gpufem_CE47_VV_subset.tif'),\n",
       " PosixPath('/home/jovyan/hydrosar/Dataset/bang_NE/subset_East/RTC_GAMMA/S1A_IW_20201216T120453_DVP_RTC30_G_gpufem_00FD_VH_subset.tif'),\n",
       " PosixPath('/home/jovyan/hydrosar/Dataset/bang_NE/subset_East/RTC_GAMMA/S1A_IW_20201216T120453_DVP_RTC30_G_gpufem_00FD_VV_subset.tif'),\n",
       " PosixPath('/home/jovyan/hydrosar/Dataset/bang_NE/subset_East/RTC_GAMMA/S1A_IW_20201228T120452_DVP_RTC30_G_gpufem_9EF3_VH_subset.tif'),\n",
       " PosixPath('/home/jovyan/hydrosar/Dataset/bang_NE/subset_East/RTC_GAMMA/S1A_IW_20201228T120452_DVP_RTC30_G_gpufem_9EF3_VV_subset.tif'),\n",
       " PosixPath('/home/jovyan/hydrosar/Dataset/bang_NE/subset_East/RTC_GAMMA/S1A_IW_20210109T120452_DVP_RTC30_G_gpufem_5E7C_VH_subset.tif'),\n",
       " PosixPath('/home/jovyan/hydrosar/Dataset/bang_NE/subset_East/RTC_GAMMA/S1A_IW_20210109T120452_DVP_RTC30_G_gpufem_5E7C_VV_subset.tif'),\n",
       " PosixPath('/home/jovyan/hydrosar/Dataset/bang_NE/subset_East/RTC_GAMMA/S1A_IW_20210121T120451_DVP_RTC30_G_gpufem_DB2A_VH_subset.tif'),\n",
       " PosixPath('/home/jovyan/hydrosar/Dataset/bang_NE/subset_East/RTC_GAMMA/S1A_IW_20210121T120451_DVP_RTC30_G_gpufem_DB2A_VV_subset.tif'),\n",
       " PosixPath('/home/jovyan/hydrosar/Dataset/bang_NE/subset_East/RTC_GAMMA/S1A_IW_20210202T120451_DVP_RTC30_G_gpufem_A277_VH_subset.tif'),\n",
       " PosixPath('/home/jovyan/hydrosar/Dataset/bang_NE/subset_East/RTC_GAMMA/S1A_IW_20210202T120451_DVP_RTC30_G_gpufem_A277_VV_subset.tif'),\n",
       " PosixPath('/home/jovyan/hydrosar/Dataset/bang_NE/subset_East/RTC_GAMMA/S1A_IW_20210214T120450_DVP_RTC30_G_gpufem_2A53_VH_subset.tif'),\n",
       " PosixPath('/home/jovyan/hydrosar/Dataset/bang_NE/subset_East/RTC_GAMMA/S1A_IW_20210214T120450_DVP_RTC30_G_gpufem_2A53_VV_subset.tif'),\n",
       " PosixPath('/home/jovyan/hydrosar/Dataset/bang_NE/subset_East/RTC_GAMMA/S1A_IW_20210226T120450_DVP_RTC30_G_gpufem_EBFB_VH_subset.tif'),\n",
       " PosixPath('/home/jovyan/hydrosar/Dataset/bang_NE/subset_East/RTC_GAMMA/S1A_IW_20210226T120450_DVP_RTC30_G_gpufem_EBFB_VV_subset.tif'),\n",
       " PosixPath('/home/jovyan/hydrosar/Dataset/bang_NE/subset_East/RTC_GAMMA/S1A_IW_20210310T120450_DVP_RTC30_G_gpufem_9E13_VH_subset.tif'),\n",
       " PosixPath('/home/jovyan/hydrosar/Dataset/bang_NE/subset_East/RTC_GAMMA/S1A_IW_20210310T120450_DVP_RTC30_G_gpufem_9E13_VV_subset.tif'),\n",
       " PosixPath('/home/jovyan/hydrosar/Dataset/bang_NE/subset_East/RTC_GAMMA/S1A_IW_20210322T120450_DVP_RTC30_G_gpufem_9E55_VH_subset.tif'),\n",
       " PosixPath('/home/jovyan/hydrosar/Dataset/bang_NE/subset_East/RTC_GAMMA/S1A_IW_20210322T120450_DVP_RTC30_G_gpufem_9E55_VV_subset.tif'),\n",
       " PosixPath('/home/jovyan/hydrosar/Dataset/bang_NE/subset_East/RTC_GAMMA/S1A_IW_20210403T120451_DVP_RTC30_G_gpufem_3410_VH_subset.tif'),\n",
       " PosixPath('/home/jovyan/hydrosar/Dataset/bang_NE/subset_East/RTC_GAMMA/S1A_IW_20210403T120451_DVP_RTC30_G_gpufem_3410_VV_subset.tif'),\n",
       " PosixPath('/home/jovyan/hydrosar/Dataset/bang_NE/subset_East/RTC_GAMMA/S1A_IW_20210415T120451_DVP_RTC30_G_gpufem_756D_VH_subset.tif'),\n",
       " PosixPath('/home/jovyan/hydrosar/Dataset/bang_NE/subset_East/RTC_GAMMA/S1A_IW_20210415T120451_DVP_RTC30_G_gpufem_756D_VV_subset.tif'),\n",
       " PosixPath('/home/jovyan/hydrosar/Dataset/bang_NE/subset_East/RTC_GAMMA/S1A_IW_20210427T120452_DVP_RTC30_G_gpufem_D07E_VH_subset.tif'),\n",
       " PosixPath('/home/jovyan/hydrosar/Dataset/bang_NE/subset_East/RTC_GAMMA/S1A_IW_20210427T120452_DVP_RTC30_G_gpufem_D07E_VV_subset.tif'),\n",
       " PosixPath('/home/jovyan/hydrosar/Dataset/bang_NE/subset_East/RTC_GAMMA/S1A_IW_20210509T120452_DVP_RTC30_G_gpufem_487B_VH_subset.tif'),\n",
       " PosixPath('/home/jovyan/hydrosar/Dataset/bang_NE/subset_East/RTC_GAMMA/S1A_IW_20210509T120452_DVP_RTC30_G_gpufem_487B_VV_subset.tif'),\n",
       " PosixPath('/home/jovyan/hydrosar/Dataset/bang_NE/subset_East/RTC_GAMMA/S1A_IW_20210521T120453_DVP_RTC30_G_gpufem_AEEC_VH_subset.tif'),\n",
       " PosixPath('/home/jovyan/hydrosar/Dataset/bang_NE/subset_East/RTC_GAMMA/S1A_IW_20210521T120453_DVP_RTC30_G_gpufem_AEEC_VV_subset.tif'),\n",
       " PosixPath('/home/jovyan/hydrosar/Dataset/bang_NE/subset_East/RTC_GAMMA/S1A_IW_20210602T120454_DVP_RTC30_G_gpufem_015F_VH_subset.tif'),\n",
       " PosixPath('/home/jovyan/hydrosar/Dataset/bang_NE/subset_East/RTC_GAMMA/S1A_IW_20210602T120454_DVP_RTC30_G_gpufem_015F_VV_subset.tif'),\n",
       " PosixPath('/home/jovyan/hydrosar/Dataset/bang_NE/subset_East/RTC_GAMMA/S1A_IW_20210614T120455_DVP_RTC30_G_gpufem_7735_VH_subset.tif'),\n",
       " PosixPath('/home/jovyan/hydrosar/Dataset/bang_NE/subset_East/RTC_GAMMA/S1A_IW_20210614T120455_DVP_RTC30_G_gpufem_7735_VV_subset.tif'),\n",
       " PosixPath('/home/jovyan/hydrosar/Dataset/bang_NE/subset_East/RTC_GAMMA/S1A_IW_20210626T120455_DVP_RTC30_G_gpufem_5D53_VH_subset.tif'),\n",
       " PosixPath('/home/jovyan/hydrosar/Dataset/bang_NE/subset_East/RTC_GAMMA/S1A_IW_20210626T120455_DVP_RTC30_G_gpufem_5D53_VV_subset.tif'),\n",
       " PosixPath('/home/jovyan/hydrosar/Dataset/bang_NE/subset_East/RTC_GAMMA/S1A_IW_20210708T120456_DVP_RTC30_G_gpufem_9048_VH_subset.tif'),\n",
       " PosixPath('/home/jovyan/hydrosar/Dataset/bang_NE/subset_East/RTC_GAMMA/S1A_IW_20210708T120456_DVP_RTC30_G_gpufem_9048_VV_subset.tif'),\n",
       " PosixPath('/home/jovyan/hydrosar/Dataset/bang_NE/subset_East/RTC_GAMMA/S1A_IW_20210720T120457_DVP_RTC30_G_gpufem_A86B_VH_subset.tif'),\n",
       " PosixPath('/home/jovyan/hydrosar/Dataset/bang_NE/subset_East/RTC_GAMMA/S1A_IW_20210720T120457_DVP_RTC30_G_gpufem_A86B_VV_subset.tif'),\n",
       " PosixPath('/home/jovyan/hydrosar/Dataset/bang_NE/subset_East/RTC_GAMMA/S1A_IW_20210801T120457_DVP_RTC30_G_gpufem_D150_VH_subset.tif'),\n",
       " PosixPath('/home/jovyan/hydrosar/Dataset/bang_NE/subset_East/RTC_GAMMA/S1A_IW_20210801T120457_DVP_RTC30_G_gpufem_D150_VV_subset.tif'),\n",
       " PosixPath('/home/jovyan/hydrosar/Dataset/bang_NE/subset_East/RTC_GAMMA/S1A_IW_20210813T120458_DVP_RTC30_G_gpufem_73D9_VH_subset.tif'),\n",
       " PosixPath('/home/jovyan/hydrosar/Dataset/bang_NE/subset_East/RTC_GAMMA/S1A_IW_20210813T120458_DVP_RTC30_G_gpufem_73D9_VV_subset.tif'),\n",
       " PosixPath('/home/jovyan/hydrosar/Dataset/bang_NE/subset_East/RTC_GAMMA/S1A_IW_20210825T120459_DVP_RTC30_G_gpufem_A04F_VH_subset.tif'),\n",
       " PosixPath('/home/jovyan/hydrosar/Dataset/bang_NE/subset_East/RTC_GAMMA/S1A_IW_20210825T120459_DVP_RTC30_G_gpufem_A04F_VV_subset.tif'),\n",
       " PosixPath('/home/jovyan/hydrosar/Dataset/bang_NE/subset_East/RTC_GAMMA/S1A_IW_20210906T120459_DVP_RTC30_G_gpufem_B3A8_VH_subset.tif'),\n",
       " PosixPath('/home/jovyan/hydrosar/Dataset/bang_NE/subset_East/RTC_GAMMA/S1A_IW_20210906T120459_DVP_RTC30_G_gpufem_B3A8_VV_subset.tif'),\n",
       " PosixPath('/home/jovyan/hydrosar/Dataset/bang_NE/subset_East/RTC_GAMMA/S1A_IW_20210918T120500_DVP_RTC30_G_gpufem_6F10_VH_subset.tif'),\n",
       " PosixPath('/home/jovyan/hydrosar/Dataset/bang_NE/subset_East/RTC_GAMMA/S1A_IW_20210918T120500_DVP_RTC30_G_gpufem_6F10_VV_subset.tif'),\n",
       " PosixPath('/home/jovyan/hydrosar/Dataset/bang_NE/subset_East/RTC_GAMMA/S1A_IW_20210930T120500_DVP_RTC30_G_gpufem_529E_VH_subset.tif'),\n",
       " PosixPath('/home/jovyan/hydrosar/Dataset/bang_NE/subset_East/RTC_GAMMA/S1A_IW_20210930T120500_DVP_RTC30_G_gpufem_529E_VV_subset.tif'),\n",
       " PosixPath('/home/jovyan/hydrosar/Dataset/bang_NE/subset_East/RTC_GAMMA/S1A_IW_20211012T120500_DVP_RTC30_G_gpufem_6C16_VH_subset.tif'),\n",
       " PosixPath('/home/jovyan/hydrosar/Dataset/bang_NE/subset_East/RTC_GAMMA/S1A_IW_20211012T120500_DVP_RTC30_G_gpufem_6C16_VV_subset.tif'),\n",
       " PosixPath('/home/jovyan/hydrosar/Dataset/bang_NE/subset_East/RTC_GAMMA/S1A_IW_20211024T120500_DVP_RTC30_G_gpufem_0BE0_VH_subset.tif'),\n",
       " PosixPath('/home/jovyan/hydrosar/Dataset/bang_NE/subset_East/RTC_GAMMA/S1A_IW_20211024T120500_DVP_RTC30_G_gpufem_0BE0_VV_subset.tif'),\n",
       " PosixPath('/home/jovyan/hydrosar/Dataset/bang_NE/subset_East/RTC_GAMMA/S1A_IW_20211105T120500_DVP_RTC30_G_gpufem_FA5C_VH_subset.tif'),\n",
       " PosixPath('/home/jovyan/hydrosar/Dataset/bang_NE/subset_East/RTC_GAMMA/S1A_IW_20211105T120500_DVP_RTC30_G_gpufem_FA5C_VV_subset.tif'),\n",
       " PosixPath('/home/jovyan/hydrosar/Dataset/bang_NE/subset_East/RTC_GAMMA/S1A_IW_20211117T120500_DVP_RTC30_G_gpufem_D07B_VH_subset.tif'),\n",
       " PosixPath('/home/jovyan/hydrosar/Dataset/bang_NE/subset_East/RTC_GAMMA/S1A_IW_20211117T120500_DVP_RTC30_G_gpufem_D07B_VV_subset.tif'),\n",
       " PosixPath('/home/jovyan/hydrosar/Dataset/bang_NE/subset_East/RTC_GAMMA/S1A_IW_20211129T120459_DVP_RTC30_G_gpufem_E269_VH_subset.tif'),\n",
       " PosixPath('/home/jovyan/hydrosar/Dataset/bang_NE/subset_East/RTC_GAMMA/S1A_IW_20211129T120459_DVP_RTC30_G_gpufem_E269_VV_subset.tif'),\n",
       " PosixPath('/home/jovyan/hydrosar/Dataset/bang_NE/subset_East/RTC_GAMMA/S1A_IW_20211211T120459_DVP_RTC30_G_gpufem_3B81_VH_subset.tif'),\n",
       " PosixPath('/home/jovyan/hydrosar/Dataset/bang_NE/subset_East/RTC_GAMMA/S1A_IW_20211211T120459_DVP_RTC30_G_gpufem_3B81_VV_subset.tif'),\n",
       " PosixPath('/home/jovyan/hydrosar/Dataset/bang_NE/subset_East/RTC_GAMMA/S1A_IW_20211223T120458_DVP_RTC30_G_gpufem_6524_VH_subset.tif'),\n",
       " PosixPath('/home/jovyan/hydrosar/Dataset/bang_NE/subset_East/RTC_GAMMA/S1A_IW_20211223T120458_DVP_RTC30_G_gpufem_6524_VV_subset.tif'),\n",
       " PosixPath('/home/jovyan/hydrosar/Dataset/bang_NE/subset_East/RTC_GAMMA/S1A_IW_20220104T120457_DVP_RTC30_G_gpufem_F4B3_VH_subset.tif'),\n",
       " PosixPath('/home/jovyan/hydrosar/Dataset/bang_NE/subset_East/RTC_GAMMA/S1A_IW_20220104T120457_DVP_RTC30_G_gpufem_F4B3_VV_subset.tif'),\n",
       " PosixPath('/home/jovyan/hydrosar/Dataset/bang_NE/subset_East/RTC_GAMMA/S1A_IW_20220116T120457_DVP_RTC30_G_gpufem_4A7F_VH_subset.tif'),\n",
       " PosixPath('/home/jovyan/hydrosar/Dataset/bang_NE/subset_East/RTC_GAMMA/S1A_IW_20220116T120457_DVP_RTC30_G_gpufem_4A7F_VV_subset.tif'),\n",
       " PosixPath('/home/jovyan/hydrosar/Dataset/bang_NE/subset_East/RTC_GAMMA/S1A_IW_20220128T120456_DVP_RTC30_G_gpufem_EC1C_VH_subset.tif'),\n",
       " PosixPath('/home/jovyan/hydrosar/Dataset/bang_NE/subset_East/RTC_GAMMA/S1A_IW_20220128T120456_DVP_RTC30_G_gpufem_EC1C_VV_subset.tif'),\n",
       " PosixPath('/home/jovyan/hydrosar/Dataset/bang_NE/subset_East/RTC_GAMMA/S1A_IW_20220209T120456_DVP_RTC30_G_gpufem_1037_VH_subset.tif'),\n",
       " PosixPath('/home/jovyan/hydrosar/Dataset/bang_NE/subset_East/RTC_GAMMA/S1A_IW_20220209T120456_DVP_RTC30_G_gpufem_1037_VV_subset.tif'),\n",
       " PosixPath('/home/jovyan/hydrosar/Dataset/bang_NE/subset_East/RTC_GAMMA/S1A_IW_20220221T120456_DVP_RTC30_G_gpufem_A40A_VH_subset.tif'),\n",
       " PosixPath('/home/jovyan/hydrosar/Dataset/bang_NE/subset_East/RTC_GAMMA/S1A_IW_20220221T120456_DVP_RTC30_G_gpufem_A40A_VV_subset.tif'),\n",
       " PosixPath('/home/jovyan/hydrosar/Dataset/bang_NE/subset_East/RTC_GAMMA/S1A_IW_20220305T120456_DVP_RTC30_G_gpufem_ADD2_VH_subset.tif'),\n",
       " PosixPath('/home/jovyan/hydrosar/Dataset/bang_NE/subset_East/RTC_GAMMA/S1A_IW_20220305T120456_DVP_RTC30_G_gpufem_ADD2_VV_subset.tif'),\n",
       " PosixPath('/home/jovyan/hydrosar/Dataset/bang_NE/subset_East/RTC_GAMMA/S1A_IW_20220317T120456_DVP_RTC30_G_gpufem_2DE1_VH_subset.tif'),\n",
       " PosixPath('/home/jovyan/hydrosar/Dataset/bang_NE/subset_East/RTC_GAMMA/S1A_IW_20220317T120456_DVP_RTC30_G_gpufem_2DE1_VV_subset.tif'),\n",
       " PosixPath('/home/jovyan/hydrosar/Dataset/bang_NE/subset_East/RTC_GAMMA/S1A_IW_20220329T120456_DVP_RTC30_G_gpufem_DA96_VH_subset.tif'),\n",
       " PosixPath('/home/jovyan/hydrosar/Dataset/bang_NE/subset_East/RTC_GAMMA/S1A_IW_20220329T120456_DVP_RTC30_G_gpufem_DA96_VV_subset.tif'),\n",
       " PosixPath('/home/jovyan/hydrosar/Dataset/bang_NE/subset_East/RTC_GAMMA/S1A_IW_20220410T120457_DVP_RTC30_G_gpufem_071D_VH_subset.tif'),\n",
       " PosixPath('/home/jovyan/hydrosar/Dataset/bang_NE/subset_East/RTC_GAMMA/S1A_IW_20220410T120457_DVP_RTC30_G_gpufem_071D_VV_subset.tif'),\n",
       " PosixPath('/home/jovyan/hydrosar/Dataset/bang_NE/subset_East/RTC_GAMMA/S1A_IW_20220422T120457_DVP_RTC30_G_gpufem_D66B_VH_subset.tif'),\n",
       " PosixPath('/home/jovyan/hydrosar/Dataset/bang_NE/subset_East/RTC_GAMMA/S1A_IW_20220422T120457_DVP_RTC30_G_gpufem_D66B_VV_subset.tif'),\n",
       " PosixPath('/home/jovyan/hydrosar/Dataset/bang_NE/subset_East/RTC_GAMMA/S1A_IW_20220504T120457_DVP_RTC30_G_gpufem_9B0C_VH_subset.tif'),\n",
       " PosixPath('/home/jovyan/hydrosar/Dataset/bang_NE/subset_East/RTC_GAMMA/S1A_IW_20220504T120457_DVP_RTC30_G_gpufem_9B0C_VV_subset.tif'),\n",
       " PosixPath('/home/jovyan/hydrosar/Dataset/bang_NE/subset_East/RTC_GAMMA/S1A_IW_20220516T120458_DVP_RTC30_G_gpufem_3BEB_VH_subset.tif'),\n",
       " PosixPath('/home/jovyan/hydrosar/Dataset/bang_NE/subset_East/RTC_GAMMA/S1A_IW_20220516T120458_DVP_RTC30_G_gpufem_3BEB_VV_subset.tif'),\n",
       " PosixPath('/home/jovyan/hydrosar/Dataset/bang_NE/subset_East/RTC_GAMMA/S1A_IW_20220528T120459_DVP_RTC30_G_gpufem_DC3E_VH_subset.tif'),\n",
       " PosixPath('/home/jovyan/hydrosar/Dataset/bang_NE/subset_East/RTC_GAMMA/S1A_IW_20220528T120459_DVP_RTC30_G_gpufem_DC3E_VV_subset.tif'),\n",
       " PosixPath('/home/jovyan/hydrosar/Dataset/bang_NE/subset_East/RTC_GAMMA/S1A_IW_20220609T120500_DVP_RTC30_G_gpufem_35A6_VH_subset.tif'),\n",
       " PosixPath('/home/jovyan/hydrosar/Dataset/bang_NE/subset_East/RTC_GAMMA/S1A_IW_20220609T120500_DVP_RTC30_G_gpufem_35A6_VV_subset.tif'),\n",
       " PosixPath('/home/jovyan/hydrosar/Dataset/bang_NE/subset_East/RTC_GAMMA/S1A_IW_20220621T120501_DVP_RTC30_G_gpufem_22C3_VH_subset.tif'),\n",
       " PosixPath('/home/jovyan/hydrosar/Dataset/bang_NE/subset_East/RTC_GAMMA/S1A_IW_20220621T120501_DVP_RTC30_G_gpufem_22C3_VV_subset.tif'),\n",
       " PosixPath('/home/jovyan/hydrosar/Dataset/bang_NE/subset_East/RTC_GAMMA/S1A_IW_20220703T120502_DVP_RTC30_G_gpufem_CBC0_VH_subset.tif'),\n",
       " PosixPath('/home/jovyan/hydrosar/Dataset/bang_NE/subset_East/RTC_GAMMA/S1A_IW_20220703T120502_DVP_RTC30_G_gpufem_CBC0_VV_subset.tif'),\n",
       " PosixPath('/home/jovyan/hydrosar/Dataset/bang_NE/subset_East/RTC_GAMMA/S1A_IW_20220715T120502_DVP_RTC30_G_gpufem_9F3A_VH_subset.tif'),\n",
       " PosixPath('/home/jovyan/hydrosar/Dataset/bang_NE/subset_East/RTC_GAMMA/S1A_IW_20220715T120502_DVP_RTC30_G_gpufem_9F3A_VV_subset.tif'),\n",
       " PosixPath('/home/jovyan/hydrosar/Dataset/bang_NE/subset_East/RTC_GAMMA/S1A_IW_20220727T120503_DVP_RTC30_G_gpufem_59AB_VH_subset.tif'),\n",
       " PosixPath('/home/jovyan/hydrosar/Dataset/bang_NE/subset_East/RTC_GAMMA/S1A_IW_20220727T120503_DVP_RTC30_G_gpufem_59AB_VV_subset.tif'),\n",
       " PosixPath('/home/jovyan/hydrosar/Dataset/bang_NE/subset_East/RTC_GAMMA/S1A_IW_20220808T120504_DVP_RTC30_G_gpufem_04A4_VH_subset.tif'),\n",
       " PosixPath('/home/jovyan/hydrosar/Dataset/bang_NE/subset_East/RTC_GAMMA/S1A_IW_20220808T120504_DVP_RTC30_G_gpufem_04A4_VV_subset.tif'),\n",
       " PosixPath('/home/jovyan/hydrosar/Dataset/bang_NE/subset_East/RTC_GAMMA/S1A_IW_20220820T120505_DVP_RTC30_G_gpufem_E99A_VH_subset.tif'),\n",
       " PosixPath('/home/jovyan/hydrosar/Dataset/bang_NE/subset_East/RTC_GAMMA/S1A_IW_20220820T120505_DVP_RTC30_G_gpufem_E99A_VV_subset.tif'),\n",
       " PosixPath('/home/jovyan/hydrosar/Dataset/bang_NE/subset_East/RTC_GAMMA/S1A_IW_20220901T120505_DVP_RTC30_G_gpufem_6D92_VH_subset.tif'),\n",
       " PosixPath('/home/jovyan/hydrosar/Dataset/bang_NE/subset_East/RTC_GAMMA/S1A_IW_20220901T120505_DVP_RTC30_G_gpufem_6D92_VV_subset.tif'),\n",
       " PosixPath('/home/jovyan/hydrosar/Dataset/bang_NE/subset_East/RTC_GAMMA/S1A_IW_20220913T120506_DVP_RTC30_G_gpufem_FB4E_VH_subset.tif'),\n",
       " PosixPath('/home/jovyan/hydrosar/Dataset/bang_NE/subset_East/RTC_GAMMA/S1A_IW_20220913T120506_DVP_RTC30_G_gpufem_FB4E_VV_subset.tif'),\n",
       " PosixPath('/home/jovyan/hydrosar/Dataset/bang_NE/subset_East/RTC_GAMMA/S1A_IW_20220925T120505_DVP_RTC30_G_gpufem_3F46_VH_subset.tif'),\n",
       " PosixPath('/home/jovyan/hydrosar/Dataset/bang_NE/subset_East/RTC_GAMMA/S1A_IW_20220925T120505_DVP_RTC30_G_gpufem_3F46_VV_subset.tif'),\n",
       " PosixPath('/home/jovyan/hydrosar/Dataset/bang_NE/subset_East/RTC_GAMMA/S1A_IW_20221007T120506_DVP_RTC30_G_gpufem_13ED_VH_subset.tif'),\n",
       " PosixPath('/home/jovyan/hydrosar/Dataset/bang_NE/subset_East/RTC_GAMMA/S1A_IW_20221007T120506_DVP_RTC30_G_gpufem_13ED_VV_subset.tif'),\n",
       " PosixPath('/home/jovyan/hydrosar/Dataset/bang_NE/subset_East/RTC_GAMMA/S1A_IW_20221019T120506_DVP_RTC30_G_gpufem_2D94_VH_subset.tif'),\n",
       " PosixPath('/home/jovyan/hydrosar/Dataset/bang_NE/subset_East/RTC_GAMMA/S1A_IW_20221019T120506_DVP_RTC30_G_gpufem_2D94_VV_subset.tif'),\n",
       " PosixPath('/home/jovyan/hydrosar/Dataset/bang_NE/subset_East/RTC_GAMMA/S1A_IW_20221031T120506_DVP_RTC30_G_gpufem_48E8_VH_subset.tif'),\n",
       " PosixPath('/home/jovyan/hydrosar/Dataset/bang_NE/subset_East/RTC_GAMMA/S1A_IW_20221031T120506_DVP_RTC30_G_gpufem_48E8_VV_subset.tif'),\n",
       " PosixPath('/home/jovyan/hydrosar/Dataset/bang_NE/subset_East/RTC_GAMMA/S1A_IW_20221112T120506_DVP_RTC30_G_gpufem_B3C9_VH_subset.tif'),\n",
       " PosixPath('/home/jovyan/hydrosar/Dataset/bang_NE/subset_East/RTC_GAMMA/S1A_IW_20221112T120506_DVP_RTC30_G_gpufem_B3C9_VV_subset.tif'),\n",
       " PosixPath('/home/jovyan/hydrosar/Dataset/bang_NE/subset_East/RTC_GAMMA/S1A_IW_20221124T120506_DVP_RTC30_G_gpufem_82A1_VH_subset.tif'),\n",
       " PosixPath('/home/jovyan/hydrosar/Dataset/bang_NE/subset_East/RTC_GAMMA/S1A_IW_20221124T120506_DVP_RTC30_G_gpufem_82A1_VV_subset.tif'),\n",
       " PosixPath('/home/jovyan/hydrosar/Dataset/bang_NE/subset_East/RTC_GAMMA/S1A_IW_20221206T120505_DVP_RTC30_G_gpufem_DECC_VH_subset.tif'),\n",
       " PosixPath('/home/jovyan/hydrosar/Dataset/bang_NE/subset_East/RTC_GAMMA/S1A_IW_20221206T120505_DVP_RTC30_G_gpufem_DECC_VV_subset.tif'),\n",
       " PosixPath('/home/jovyan/hydrosar/Dataset/bang_NE/subset_East/RTC_GAMMA/S1A_IW_20221218T120504_DVP_RTC30_G_gpufem_047C_VH_subset.tif'),\n",
       " PosixPath('/home/jovyan/hydrosar/Dataset/bang_NE/subset_East/RTC_GAMMA/S1A_IW_20221218T120504_DVP_RTC30_G_gpufem_047C_VV_subset.tif'),\n",
       " PosixPath('/home/jovyan/hydrosar/Dataset/bang_NE/subset_East/RTC_GAMMA/S1A_IW_20221230T120504_DVP_RTC30_G_gpufem_2CC1_VH_subset.tif'),\n",
       " PosixPath('/home/jovyan/hydrosar/Dataset/bang_NE/subset_East/RTC_GAMMA/S1A_IW_20221230T120504_DVP_RTC30_G_gpufem_2CC1_VV_subset.tif'),\n",
       " PosixPath('/home/jovyan/hydrosar/Dataset/bang_NE/subset_East/RTC_GAMMA/S1A_IW_20230111T120503_DVP_RTC30_G_gpufem_4C33_VH_subset.tif'),\n",
       " PosixPath('/home/jovyan/hydrosar/Dataset/bang_NE/subset_East/RTC_GAMMA/S1A_IW_20230111T120503_DVP_RTC30_G_gpufem_4C33_VV_subset.tif'),\n",
       " PosixPath('/home/jovyan/hydrosar/Dataset/bang_NE/subset_East/RTC_GAMMA/S1A_IW_20230123T120503_DVP_RTC30_G_gpufem_F9EA_VH_subset.tif'),\n",
       " PosixPath('/home/jovyan/hydrosar/Dataset/bang_NE/subset_East/RTC_GAMMA/S1A_IW_20230123T120503_DVP_RTC30_G_gpufem_F9EA_VV_subset.tif'),\n",
       " PosixPath('/home/jovyan/hydrosar/Dataset/bang_NE/subset_East/RTC_GAMMA/S1A_IW_20230204T120502_DVP_RTC30_G_gpufem_BCD7_VH_subset.tif'),\n",
       " PosixPath('/home/jovyan/hydrosar/Dataset/bang_NE/subset_East/RTC_GAMMA/S1A_IW_20230204T120502_DVP_RTC30_G_gpufem_BCD7_VV_subset.tif'),\n",
       " PosixPath('/home/jovyan/hydrosar/Dataset/bang_NE/subset_East/RTC_GAMMA/S1A_IW_20230216T120502_DVP_RTC30_G_gpufem_72B7_VH_subset.tif'),\n",
       " PosixPath('/home/jovyan/hydrosar/Dataset/bang_NE/subset_East/RTC_GAMMA/S1A_IW_20230216T120502_DVP_RTC30_G_gpufem_72B7_VV_subset.tif'),\n",
       " PosixPath('/home/jovyan/hydrosar/Dataset/bang_NE/subset_East/RTC_GAMMA/S1A_IW_20230228T120502_DVP_RTC30_G_gpufem_F61C_VH_subset.tif'),\n",
       " PosixPath('/home/jovyan/hydrosar/Dataset/bang_NE/subset_East/RTC_GAMMA/S1A_IW_20230228T120502_DVP_RTC30_G_gpufem_F61C_VV_subset.tif'),\n",
       " PosixPath('/home/jovyan/hydrosar/Dataset/bang_NE/subset_East/RTC_GAMMA/S1A_IW_20230312T120502_DVP_RTC30_G_gpufem_DFDC_VH_subset.tif'),\n",
       " PosixPath('/home/jovyan/hydrosar/Dataset/bang_NE/subset_East/RTC_GAMMA/S1A_IW_20230312T120502_DVP_RTC30_G_gpufem_DFDC_VV_subset.tif'),\n",
       " PosixPath('/home/jovyan/hydrosar/Dataset/bang_NE/subset_East/RTC_GAMMA/S1A_IW_20230324T120502_DVP_RTC30_G_gpufem_0936_VH_subset.tif'),\n",
       " PosixPath('/home/jovyan/hydrosar/Dataset/bang_NE/subset_East/RTC_GAMMA/S1A_IW_20230324T120502_DVP_RTC30_G_gpufem_0936_VV_subset.tif'),\n",
       " PosixPath('/home/jovyan/hydrosar/Dataset/bang_NE/subset_East/RTC_GAMMA/S1A_IW_20230405T120502_DVP_RTC30_G_gpufem_D3F2_VH_subset.tif'),\n",
       " PosixPath('/home/jovyan/hydrosar/Dataset/bang_NE/subset_East/RTC_GAMMA/S1A_IW_20230405T120502_DVP_RTC30_G_gpufem_D3F2_VV_subset.tif'),\n",
       " PosixPath('/home/jovyan/hydrosar/Dataset/bang_NE/subset_East/RTC_GAMMA/S1A_IW_20230417T120503_DVP_RTC30_G_gpufem_85D7_VH_subset.tif'),\n",
       " PosixPath('/home/jovyan/hydrosar/Dataset/bang_NE/subset_East/RTC_GAMMA/S1A_IW_20230417T120503_DVP_RTC30_G_gpufem_85D7_VV_subset.tif'),\n",
       " PosixPath('/home/jovyan/hydrosar/Dataset/bang_NE/subset_East/RTC_GAMMA/S1A_IW_20230429T120503_DVP_RTC30_G_gpufem_436F_VH_subset.tif'),\n",
       " PosixPath('/home/jovyan/hydrosar/Dataset/bang_NE/subset_East/RTC_GAMMA/S1A_IW_20230429T120503_DVP_RTC30_G_gpufem_436F_VV_subset.tif'),\n",
       " PosixPath('/home/jovyan/hydrosar/Dataset/bang_NE/subset_East/RTC_GAMMA/S1A_IW_20230511T120504_DVP_RTC30_G_gpufem_CBE8_VH_subset.tif'),\n",
       " PosixPath('/home/jovyan/hydrosar/Dataset/bang_NE/subset_East/RTC_GAMMA/S1A_IW_20230511T120504_DVP_RTC30_G_gpufem_CBE8_VV_subset.tif'),\n",
       " PosixPath('/home/jovyan/hydrosar/Dataset/bang_NE/subset_East/RTC_GAMMA/S1A_IW_20230523T120504_DVP_RTC30_G_gpufem_38EE_VH_subset.tif'),\n",
       " PosixPath('/home/jovyan/hydrosar/Dataset/bang_NE/subset_East/RTC_GAMMA/S1A_IW_20230523T120504_DVP_RTC30_G_gpufem_38EE_VV_subset.tif'),\n",
       " PosixPath('/home/jovyan/hydrosar/Dataset/bang_NE/subset_East/RTC_GAMMA/S1A_IW_20230604T120505_DVP_RTC30_G_gpufem_F98E_VH_subset.tif'),\n",
       " PosixPath('/home/jovyan/hydrosar/Dataset/bang_NE/subset_East/RTC_GAMMA/S1A_IW_20230604T120505_DVP_RTC30_G_gpufem_F98E_VV_subset.tif'),\n",
       " PosixPath('/home/jovyan/hydrosar/Dataset/bang_NE/subset_East/RTC_GAMMA/S1A_IW_20230616T120506_DVP_RTC30_G_gpufem_31DE_VH_subset.tif'),\n",
       " PosixPath('/home/jovyan/hydrosar/Dataset/bang_NE/subset_East/RTC_GAMMA/S1A_IW_20230616T120506_DVP_RTC30_G_gpufem_31DE_VV_subset.tif'),\n",
       " PosixPath('/home/jovyan/hydrosar/Dataset/bang_NE/subset_East/RTC_GAMMA/S1A_IW_20230628T120506_DVP_RTC30_G_gpufem_61AB_VH_subset.tif'),\n",
       " PosixPath('/home/jovyan/hydrosar/Dataset/bang_NE/subset_East/RTC_GAMMA/S1A_IW_20230628T120506_DVP_RTC30_G_gpufem_61AB_VV_subset.tif'),\n",
       " PosixPath('/home/jovyan/hydrosar/Dataset/bang_NE/subset_East/RTC_GAMMA/S1A_IW_20230710T120507_DVP_RTC30_G_gpufem_95E6_VH_subset.tif'),\n",
       " PosixPath('/home/jovyan/hydrosar/Dataset/bang_NE/subset_East/RTC_GAMMA/S1A_IW_20230710T120507_DVP_RTC30_G_gpufem_95E6_VV_subset.tif'),\n",
       " PosixPath('/home/jovyan/hydrosar/Dataset/bang_NE/subset_East/RTC_GAMMA/S1A_IW_20230722T120508_DVP_RTC30_G_gpufem_3E39_VH_subset.tif'),\n",
       " PosixPath('/home/jovyan/hydrosar/Dataset/bang_NE/subset_East/RTC_GAMMA/S1A_IW_20230722T120508_DVP_RTC30_G_gpufem_3E39_VV_subset.tif'),\n",
       " PosixPath('/home/jovyan/hydrosar/Dataset/bang_NE/subset_East/RTC_GAMMA/S1A_IW_20230803T120509_DVP_RTC30_G_gpufem_C31F_VH_subset.tif'),\n",
       " PosixPath('/home/jovyan/hydrosar/Dataset/bang_NE/subset_East/RTC_GAMMA/S1A_IW_20230803T120509_DVP_RTC30_G_gpufem_C31F_VV_subset.tif'),\n",
       " PosixPath('/home/jovyan/hydrosar/Dataset/bang_NE/subset_East/RTC_GAMMA/S1A_IW_20230815T120509_DVP_RTC30_G_gpufem_F226_VH_subset.tif'),\n",
       " PosixPath('/home/jovyan/hydrosar/Dataset/bang_NE/subset_East/RTC_GAMMA/S1A_IW_20230815T120509_DVP_RTC30_G_gpufem_F226_VV_subset.tif'),\n",
       " PosixPath('/home/jovyan/hydrosar/Dataset/bang_NE/subset_East/RTC_GAMMA/S1A_IW_20230827T120510_DVP_RTC30_G_gpufem_9BF7_VH_subset.tif'),\n",
       " PosixPath('/home/jovyan/hydrosar/Dataset/bang_NE/subset_East/RTC_GAMMA/S1A_IW_20230827T120510_DVP_RTC30_G_gpufem_9BF7_VV_subset.tif'),\n",
       " PosixPath('/home/jovyan/hydrosar/Dataset/bang_NE/subset_East/RTC_GAMMA/S1A_IW_20230908T120510_DVP_RTC30_G_gpufem_A857_VH_subset.tif'),\n",
       " PosixPath('/home/jovyan/hydrosar/Dataset/bang_NE/subset_East/RTC_GAMMA/S1A_IW_20230908T120510_DVP_RTC30_G_gpufem_A857_VV_subset.tif'),\n",
       " PosixPath('/home/jovyan/hydrosar/Dataset/bang_NE/subset_East/RTC_GAMMA/S1A_IW_20230920T120511_DVP_RTC30_G_gpufem_24F3_VH_subset.tif'),\n",
       " PosixPath('/home/jovyan/hydrosar/Dataset/bang_NE/subset_East/RTC_GAMMA/S1A_IW_20230920T120511_DVP_RTC30_G_gpufem_24F3_VV_subset.tif'),\n",
       " PosixPath('/home/jovyan/hydrosar/Dataset/bang_NE/subset_East/RTC_GAMMA/S1A_IW_20231002T120511_DVP_RTC30_G_gpufem_7D8B_VH_subset.tif'),\n",
       " PosixPath('/home/jovyan/hydrosar/Dataset/bang_NE/subset_East/RTC_GAMMA/S1A_IW_20231002T120511_DVP_RTC30_G_gpufem_7D8B_VV_subset.tif'),\n",
       " PosixPath('/home/jovyan/hydrosar/Dataset/bang_NE/subset_East/RTC_GAMMA/S1A_IW_20231014T120511_DVP_RTC30_G_gpufem_D171_VH_subset.tif'),\n",
       " PosixPath('/home/jovyan/hydrosar/Dataset/bang_NE/subset_East/RTC_GAMMA/S1A_IW_20231014T120511_DVP_RTC30_G_gpufem_D171_VV_subset.tif'),\n",
       " PosixPath('/home/jovyan/hydrosar/Dataset/bang_NE/subset_East/RTC_GAMMA/S1A_IW_20231026T120511_DVP_RTC30_G_gpufem_5D5C_VH_subset.tif'),\n",
       " PosixPath('/home/jovyan/hydrosar/Dataset/bang_NE/subset_East/RTC_GAMMA/S1A_IW_20231026T120511_DVP_RTC30_G_gpufem_5D5C_VV_subset.tif'),\n",
       " PosixPath('/home/jovyan/hydrosar/Dataset/bang_NE/subset_East/RTC_GAMMA/S1A_IW_20231107T120510_DVP_RTC30_G_gpufem_EA92_VH_subset.tif'),\n",
       " PosixPath('/home/jovyan/hydrosar/Dataset/bang_NE/subset_East/RTC_GAMMA/S1A_IW_20231107T120510_DVP_RTC30_G_gpufem_EA92_VV_subset.tif'),\n",
       " PosixPath('/home/jovyan/hydrosar/Dataset/bang_NE/subset_East/RTC_GAMMA/S1A_IW_20231119T120510_DVP_RTC30_G_gpufem_FA28_VH_subset.tif'),\n",
       " PosixPath('/home/jovyan/hydrosar/Dataset/bang_NE/subset_East/RTC_GAMMA/S1A_IW_20231119T120510_DVP_RTC30_G_gpufem_FA28_VV_subset.tif'),\n",
       " PosixPath('/home/jovyan/hydrosar/Dataset/bang_NE/subset_East/RTC_GAMMA/S1A_IW_20231201T120510_DVP_RTC30_G_gpufem_EEBC_VH_subset.tif'),\n",
       " PosixPath('/home/jovyan/hydrosar/Dataset/bang_NE/subset_East/RTC_GAMMA/S1A_IW_20231201T120510_DVP_RTC30_G_gpufem_EEBC_VV_subset.tif'),\n",
       " PosixPath('/home/jovyan/hydrosar/Dataset/bang_NE/subset_East/RTC_GAMMA/S1A_IW_20231213T120510_DVP_RTC30_G_gpufem_922F_VH_subset.tif'),\n",
       " PosixPath('/home/jovyan/hydrosar/Dataset/bang_NE/subset_East/RTC_GAMMA/S1A_IW_20231213T120510_DVP_RTC30_G_gpufem_922F_VV_subset.tif'),\n",
       " PosixPath('/home/jovyan/hydrosar/Dataset/bang_NE/subset_East/RTC_GAMMA/S1A_IW_20231225T120509_DVP_RTC30_G_gpufem_C6D6_VH_subset.tif'),\n",
       " PosixPath('/home/jovyan/hydrosar/Dataset/bang_NE/subset_East/RTC_GAMMA/S1A_IW_20231225T120509_DVP_RTC30_G_gpufem_C6D6_VV_subset.tif'),\n",
       " PosixPath('/home/jovyan/hydrosar/Dataset/bang_NE/subset_East/RTC_GAMMA/S1A_IW_20240106T120508_DVP_RTC30_G_gpufem_887D_VH_subset.tif'),\n",
       " PosixPath('/home/jovyan/hydrosar/Dataset/bang_NE/subset_East/RTC_GAMMA/S1A_IW_20240106T120508_DVP_RTC30_G_gpufem_887D_VV_subset.tif'),\n",
       " PosixPath('/home/jovyan/hydrosar/Dataset/bang_NE/subset_East/RTC_GAMMA/S1A_IW_20240118T120507_DVR_RTC30_G_gpufem_CF32_VH_subset.tif'),\n",
       " PosixPath('/home/jovyan/hydrosar/Dataset/bang_NE/subset_East/RTC_GAMMA/S1A_IW_20240118T120507_DVR_RTC30_G_gpufem_CF32_VV_subset.tif'),\n",
       " PosixPath('/home/jovyan/hydrosar/Dataset/bang_NE/subset_East/RTC_GAMMA/S1A_IW_20240130T120507_DVR_RTC30_G_gpufem_811D_VH_subset.tif'),\n",
       " PosixPath('/home/jovyan/hydrosar/Dataset/bang_NE/subset_East/RTC_GAMMA/S1A_IW_20240130T120507_DVR_RTC30_G_gpufem_811D_VV_subset.tif')]"
      ]
     },
     "execution_count": 28,
     "metadata": {},
     "output_type": "execute_result"
    }
   ],
   "source": [
    "subset_paths = subset_home/f\"*.tif*\"\n",
    "tiff_paths = get_tiff_paths(subset_paths)\n",
    "tiff_paths"
   ]
  },
  {
   "cell_type": "code",
   "execution_count": 29,
   "metadata": {},
   "outputs": [
    {
     "name": "stdout",
     "output_type": "stream",
     "text": [
      "GeoTiffs Examined: 308\n",
      "GeoTiffs Removed:  0\n"
     ]
    }
   ],
   "source": [
    "asfn.remove_nan_filled_tifs(tiff_paths)"
   ]
  },
  {
   "cell_type": "markdown",
   "metadata": {
    "hideCode": false,
    "hidePrompt": false
   },
   "source": [
    "**Sometimes, when using gdal translate to subset a stack of images, there will be slight differences in sizes of the resulting images, off by a single pixel in either direction. The following code checks the newly subset stack for this problem, and if found, it re-subsets all the images to the size of the smallest image in the stack.**"
   ]
  },
  {
   "cell_type": "code",
   "execution_count": 30,
   "metadata": {
    "hideCode": false,
    "hidePrompt": false
   },
   "outputs": [],
   "source": [
    "# Align geotiffs to an integer resolution value\n",
    "\n",
    "fnames = list(subset_home.rglob('*.tif*'))\n",
    "fnames.sort()\n",
    "\n",
    "resolution = int(gdal.Info(str(fnames[0]), format='json')['geoTransform'][1])\n",
    "for fname in fnames:\n",
    "    gdal.Warp(str(fname), str(fname), \n",
    "              dstSRS=f'EPSG:{utm}', srcSRS=f'EPSG:{utm}', \n",
    "              xRes=resolution, yRes=resolution, targetAlignedPixels=True)"
   ]
  },
  {
   "cell_type": "markdown",
   "metadata": {
    "hideCode": false,
    "hidePrompt": false
   },
   "source": [
    "**Decide whether or not to cleanup the original tiffs:**"
   ]
  },
  {
   "cell_type": "code",
   "execution_count": 31,
   "metadata": {
    "hideCode": false,
    "hidePrompt": false
   },
   "outputs": [
    {
     "data": {
      "application/vnd.jupyter.widget-view+json": {
       "model_id": "a79afd3f74c74447bb8a854faeb9d543",
       "version_major": 2,
       "version_minor": 0
      },
      "text/plain": [
       "RadioButtons(layout=Layout(min_width='800px'), options=('Save original tiffs', 'Delete original tiffs'), value…"
      ]
     },
     "execution_count": 31,
     "metadata": {},
     "output_type": "execute_result"
    }
   ],
   "source": [
    "cleanup = asfn.select_parameter([\"Save original tiffs\", \"Delete original tiffs\"], '')\n",
    "cleanup"
   ]
  },
  {
   "cell_type": "code",
   "execution_count": 32,
   "metadata": {
    "hideCode": false,
    "hidePrompt": false
   },
   "outputs": [],
   "source": [
    "if cleanup.value == 'Delete original tiffs':\n",
    "    shutil.rmtree(tiff_dir)"
   ]
  },
  {
   "cell_type": "markdown",
   "metadata": {
    "hideCode": false,
    "hidePrompt": false
   },
   "source": [
    "**Print the path to your subset directory:**"
   ]
  },
  {
   "cell_type": "code",
   "execution_count": 33,
   "metadata": {
    "hideCode": false,
    "hidePrompt": false
   },
   "outputs": [
    {
     "name": "stdout",
     "output_type": "stream",
     "text": [
      "/home/jovyan/hydrosar/Dataset/bang_NE/subset_East\n"
     ]
    }
   ],
   "source": [
    "print(subset_dir)"
   ]
  },
  {
   "cell_type": "markdown",
   "metadata": {},
   "source": [
    "**Relavent notebooks:**"
   ]
  },
  {
   "cell_type": "code",
   "execution_count": 34,
   "metadata": {},
   "outputs": [
    {
     "ename": "ValueError",
     "evalue": "'/home/jovyan/notebooks/SAR_Training/English/Master/Change_Detection_From_Prepared_Data_Stack.ipynb' is not in the subpath of '/home/jovyan/hydrosar'",
     "output_type": "error",
     "traceback": [
      "\u001b[0;31m---------------------------------------------------------------------------\u001b[0m",
      "\u001b[0;31mValueError\u001b[0m                                Traceback (most recent call last)",
      "Cell \u001b[0;32mIn[34], line 22\u001b[0m\n\u001b[1;32m     20\u001b[0m \u001b[38;5;28;01mfor\u001b[39;00m a \u001b[38;5;129;01min\u001b[39;00m abs_path:\n\u001b[1;32m     21\u001b[0m     name \u001b[38;5;241m=\u001b[39m a\u001b[38;5;241m.\u001b[39mstem\n\u001b[0;32m---> 22\u001b[0m     relative_path \u001b[38;5;241m=\u001b[39m \u001b[43ma\u001b[49m\u001b[38;5;241;43m.\u001b[39;49m\u001b[43mrelative_to\u001b[49m\u001b[43m(\u001b[49m\u001b[43mcurrent\u001b[49m\u001b[43m)\u001b[49m\n\u001b[1;32m     23\u001b[0m     detail \u001b[38;5;241m=\u001b[39m details\u001b[38;5;241m.\u001b[39mpop()\n\u001b[1;32m     24\u001b[0m     link_t \u001b[38;5;241m=\u001b[39m \u001b[38;5;124mf\u001b[39m\u001b[38;5;124m\"\u001b[39m\u001b[38;5;124m<li><a href=\u001b[39m\u001b[38;5;124m'\u001b[39m\u001b[38;5;132;01m{\u001b[39;00mrelative_path\u001b[38;5;132;01m}\u001b[39;00m\u001b[38;5;124m'\u001b[39m\u001b[38;5;124m> \u001b[39m\u001b[38;5;132;01m{\u001b[39;00mname\u001b[38;5;132;01m}\u001b[39;00m\u001b[38;5;124m </a>: \u001b[39m\u001b[38;5;132;01m{\u001b[39;00mdetail\u001b[38;5;132;01m}\u001b[39;00m\u001b[38;5;124m </li>\u001b[39m\u001b[38;5;124m\"\u001b[39m\n",
      "File \u001b[0;32m~/.local/envs/rtc_analysis/lib/python3.12/pathlib.py:682\u001b[0m, in \u001b[0;36mPurePath.relative_to\u001b[0;34m(self, other, walk_up, *_deprecated)\u001b[0m\n\u001b[1;32m    680\u001b[0m     \u001b[38;5;28;01mbreak\u001b[39;00m\n\u001b[1;32m    681\u001b[0m \u001b[38;5;28;01melif\u001b[39;00m \u001b[38;5;129;01mnot\u001b[39;00m walk_up:\n\u001b[0;32m--> 682\u001b[0m     \u001b[38;5;28;01mraise\u001b[39;00m \u001b[38;5;167;01mValueError\u001b[39;00m(\u001b[38;5;124mf\u001b[39m\u001b[38;5;124m\"\u001b[39m\u001b[38;5;132;01m{\u001b[39;00m\u001b[38;5;28mstr\u001b[39m(\u001b[38;5;28mself\u001b[39m)\u001b[38;5;132;01m!r}\u001b[39;00m\u001b[38;5;124m is not in the subpath of \u001b[39m\u001b[38;5;132;01m{\u001b[39;00m\u001b[38;5;28mstr\u001b[39m(other)\u001b[38;5;132;01m!r}\u001b[39;00m\u001b[38;5;124m\"\u001b[39m)\n\u001b[1;32m    683\u001b[0m \u001b[38;5;28;01melif\u001b[39;00m path\u001b[38;5;241m.\u001b[39mname \u001b[38;5;241m==\u001b[39m \u001b[38;5;124m'\u001b[39m\u001b[38;5;124m..\u001b[39m\u001b[38;5;124m'\u001b[39m:\n\u001b[1;32m    684\u001b[0m     \u001b[38;5;28;01mraise\u001b[39;00m \u001b[38;5;167;01mValueError\u001b[39;00m(\u001b[38;5;124mf\u001b[39m\u001b[38;5;124m\"\u001b[39m\u001b[38;5;124m'\u001b[39m\u001b[38;5;124m..\u001b[39m\u001b[38;5;124m'\u001b[39m\u001b[38;5;124m segment in \u001b[39m\u001b[38;5;132;01m{\u001b[39;00m\u001b[38;5;28mstr\u001b[39m(other)\u001b[38;5;132;01m!r}\u001b[39;00m\u001b[38;5;124m cannot be walked\u001b[39m\u001b[38;5;124m\"\u001b[39m)\n",
      "\u001b[0;31mValueError\u001b[0m: '/home/jovyan/notebooks/SAR_Training/English/Master/Change_Detection_From_Prepared_Data_Stack.ipynb' is not in the subpath of '/home/jovyan/hydrosar'"
     ]
    }
   ],
   "source": [
    "# Run this cell to display links\n",
    "from IPython.display import display, HTML\n",
    "\n",
    "current = Path.cwd()\n",
    "abs_path = [\n",
    "    Path('/home/jovyan/notebooks/SAR_Training/English/Master/Change_Detection_From_Prepared_Data_Stack.ipynb'),\n",
    "    Path('/home/jovyan/notebooks/SAR_Training/English/Master/Explore_SAR_Time_Series_From_Prepared_Data_Stack.ipynb'),\n",
    "    Path('/home/jovyan/notebooks/SAR_Training/English/Master/SARChangeDetectionMethods_From_Prepared_Data_Stack.ipynb'),\n",
    "    Path('/home/jovyan/notebooks/SAR_Training/English/Master/Time_Series_From_Prepared_Stack.ipynb')\n",
    "]\n",
    "\n",
    "details = [\n",
    "    'Introduce you to the analysis of deep multi-temporal SAR image data stacks.',\n",
    "    'Introduces you to a some popular change detection methods that can be applied on SAR time series data.',\n",
    "    'Introduces you to the time series signatures associated with flooding.',\n",
    "    'Applies Change Point Detection on a deep multi-temporal SAR image data stack acquired by Sentinel-1.'\n",
    "]\n",
    "\n",
    "\n",
    "for a in abs_path:\n",
    "    name = a.stem\n",
    "    relative_path = a.relative_to(current)\n",
    "    detail = details.pop()\n",
    "    link_t = f\"<li><a href='{relative_path}'> {name} </a>: {detail} </li>\"\n",
    "    html = HTML(link_t)\n",
    "    display(html)"
   ]
  },
  {
   "cell_type": "markdown",
   "metadata": {},
   "source": [
    "*GEOS 657 Microwave Remote Sensing - Version 2.1.0 - June 2023*\n",
    "\n",
    "*Version Changes:*\n",
    "- *Use updated AOI_Selector*\n",
    "- *Display shapefile and WKT polygons on a basemap showing maximum and common coverage extents*\n",
    "- *general refactoring for clarity*"
   ]
  }
 ],
 "metadata": {
  "hide_code_all_hidden": false,
  "kernelspec": {
   "display_name": "Python [conda env:.local-rtc_analysis]",
   "language": "python",
   "name": "conda-env-.local-rtc_analysis-py"
  },
  "language_info": {
   "codemirror_mode": {
    "name": "ipython",
    "version": 3
   },
   "file_extension": ".py",
   "mimetype": "text/x-python",
   "name": "python",
   "nbconvert_exporter": "python",
   "pygments_lexer": "ipython3",
   "version": "3.12.2"
  }
 },
 "nbformat": 4,
 "nbformat_minor": 4
}
