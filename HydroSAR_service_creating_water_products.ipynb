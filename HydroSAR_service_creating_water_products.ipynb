{
 "cells": [
  {
   "cell_type": "markdown",
   "metadata": {
    "pycharm": {
     "name": "#%% md\n"
    }
   },
   "source": [
    "<div><img src=\"https://radar.community.uaf.edu/wp-content/uploads/sites/667/2021/03/HydroSARbanner.jpg\" width=\"100%\" /></div>\n",
    "\n",
    "**NASA A.37 Project:** Integrating SAR Data for Improved Resilience and Response to Weather-Related Disasters\n",
    "**PI:** Franz J. Meyer\n",
    "\n",
    "# HydroSAR Transition workshop\n",
    "\n",
    "### Creating HYDRO30 and FD30 products\n",
    "\n",
    "This notebook mimics the workflow the HyP3 `WATER_MAP` job will follow to create an On Demand HydroSAR HYDRO30 and FD30 products. It is intended demonstrate *how* HyP3 goes from an On Demand request to a product, as well as provide a platform for testing/tuning/refinement of the water products.\n",
    "\n",
    "Step 1 is a required data marshaling step that will be handled transparently inside the container. Importantly, steps 2 and 3 become the plugin's primary interface, and the options provided to the `make_water_map` and `make_flood_map` functions are able to be exposed to users."
   ]
  },
  {
   "cell_type": "markdown",
   "metadata": {
    "pycharm": {
     "name": "#%% md\n"
    }
   },
   "source": [
    "## 1. Generate input dual-pol RTC product\n",
    "\n",
    "Water extent mapping requires Radiometrically Terrain Corrected (RTC) Sentinel-1 scenes in order to accurately connect backscatter features to the input HAND data. The next few cells will use HyP3's Python SDK to request an RTC product from HyP3 for the Sentinel-1 granule (scene):\n",
    "\n",
    "[S1A_IW_SLC__1SDV_20220723T000409_20220723T000436_044220_05471E_D5FE](https://search.asf.alaska.edu/#/?searchType=List%20Search&searchList=S1A_IW_SLC__1SDV_20220723T000409_20220723T000436_044220_05471E_D5FE&resultsLoaded=true&granule=S1A_IW_SLC__1SDV_20220723T000409_20220723T000436_044220_05471E_D5FE-SLC&zoom=5.094&center=90.113,15.694)\n",
    "\n",
    "### 1.1 Connect to HyP3"
   ]
  },
  {
   "cell_type": "code",
   "execution_count": null,
   "metadata": {
    "pycharm": {
     "name": "#%%\n"
    }
   },
   "outputs": [],
   "source": [
    "import hyp3_sdk as sdk\n",
    "\n",
    "hyp3 = sdk.HyP3(prompt=True)"
   ]
  },
  {
   "cell_type": "markdown",
   "metadata": {
    "pycharm": {
     "name": "#%% md\n"
    }
   },
   "source": [
    "### 1.2  Submit an On Demand request for the input RTC product\n",
    "\n",
    "Currently, the RTC options provided to `hyp3.submit_rtc_job` as specified are expected/required by `make_water_map` and are not recommended to be changed, except for:\n",
    "\n",
    "* `speckle_filter` -- Apply an Enhanced Lee speckle filter.\n",
    "\n",
    "* `dem_matching` -- Coregisters SAR data to the DEM, rather than using dead reckoning based on orbit files. See the [Terrain Correction](https://hyp3-docs.asf.alaska.edu/guides/rtc_product_guide/#terrain-correction) in the RTC Product Guide for more information.\n",
    "\n",
    "* `include_dem` -- include a GeoTIF of the Copernicus DEM pixel aligned to the RTC products. This GeoTIFF isn't used by `make_water_map` but was used to create the RTC product and the HAND data\n",
    "\n",
    "* `include_rgb` -- include a false-color RGB decomposition for dual-pol granules. This GeoTIFF isn't used by `make_water_map` but may help you [interpret the RTC image](https://github.com/ASFHyP3/hyp3-lib/blob/develop/docs/rgb_decomposition.md#interpreting-the-images) and evaluate the water extent map\n"
   ]
  },
  {
   "cell_type": "code",
   "execution_count": null,
   "metadata": {
    "scrolled": true,
    "pycharm": {
     "name": "#%%\n"
    }
   },
   "outputs": [],
   "source": [
    "granule = 'S1A_IW_SLC__1SDV_20220723T000409_20220723T000436_044220_05471E_D5FE'\n",
    "\n",
    "job = hyp3.submit_rtc_job(\n",
    "    granule, name='water-extent-example',\n",
    "    radiometry='gamma0', scale='power', resolution=30, dem_name='copernicus',\n",
    "    include_dem=True, include_rgb=True,\n",
    "    speckle_filter=True, dem_matching=False\n",
    ")\n",
    "\n",
    "print(job)"
   ]
  },
  {
   "cell_type": "markdown",
   "metadata": {
    "pycharm": {
     "name": "#%% md\n"
    }
   },
   "source": []
  },
  {
   "cell_type": "code",
   "execution_count": null,
   "metadata": {
    "pycharm": {
     "name": "#%%\n"
    }
   },
   "outputs": [],
   "source": [
    "job = hyp3.watch(job)"
   ]
  },
  {
   "cell_type": "markdown",
   "metadata": {
    "pycharm": {
     "name": "#%% md\n"
    }
   },
   "source": [
    "### 1.4 Download the RTC product\n",
    "\n",
    "RTC products are downloaded as Zip files and then extracted. The GeoTIFF for the VV and VH polarizations are selected from the (unzipped) product folder."
   ]
  },
  {
   "cell_type": "code",
   "execution_count": null,
   "metadata": {
    "scrolled": true,
    "pycharm": {
     "name": "#%%\n"
    }
   },
   "outputs": [],
   "source": [
    "from hyp3_sdk.util import extract_zipped_product\n",
    "\n",
    "product_zip = job.download_files()[0]\n",
    "product_folder = extract_zipped_product(product_zip)\n",
    "\n",
    "vv_raster = product_folder / f'{product_zip.stem}_VV.tif'\n",
    "vh_raster = product_folder / f'{product_zip.stem}_VH.tif'\n",
    "\n",
    "print(f'VV raster: {vv_raster}')\n",
    "print(f'VH raster: {vv_raster}')"
   ]
  },
  {
   "cell_type": "markdown",
   "source": [
    "### Interlude: A bit about the ASF Tools Python Package\n",
    "\n",
    "HyP3 uses the [ASF Tools Python Package](https://hyp3-docs.asf.alaska.edu/tools/asf_tools/) to create the HydroSAR products. Primarily there are two main \"science\" interfaces:\n",
    "* The `make_water_map` function in the `asf_tools.water_map` module, which creates the HYDRO30 product\n",
    "* The `make_flood_map` function in the `asf_tools.flood_map` module, which creates the FD30 product\n",
    "\n",
    "They *should* include all the necessary options for tuning the product -- if it doesn't, and you'd like other things exposed, either:\n",
    "* Ask us to expose it by:\n",
    "  * [Chatting with us in Gitter](https://gitter.im/ASFHyP3/community)\n",
    "  * [Opening an issue](https://github.com/ASFHyP3/asf-tools/issues/new/choose)\n",
    "\n",
    "* [Fork](https://github.com/ASFHyP3/hyp3-sdk/fork) and propose changes in a Pull Request. See our [contributing guidelines](https://hyp3-docs.asf.alaska.edu/contributing/).\n",
    "\n",
    "For a detailed description for arguments used in the `make_water_map` function, run the cell below:\n"
   ],
   "metadata": {
    "collapsed": false,
    "pycharm": {
     "name": "#%% md\n"
    }
   }
  },
  {
   "cell_type": "code",
   "execution_count": null,
   "outputs": [],
   "source": [
    "from asf_tools.water_map import make_water_map\n",
    "\n",
    "?make_water_map"
   ],
   "metadata": {
    "collapsed": false,
    "pycharm": {
     "name": "#%%\n"
    }
   }
  },
  {
   "cell_type": "markdown",
   "source": [
    "For a detailed description of the arguments to the `make_flood_map` function, run the cell below:"
   ],
   "metadata": {
    "collapsed": false,
    "pycharm": {
     "name": "#%% md\n"
    }
   }
  },
  {
   "cell_type": "code",
   "execution_count": null,
   "outputs": [],
   "source": [
    "from asf_tools.flood_map import make_flood_map\n",
    "\n",
    "?make_flood_map"
   ],
   "metadata": {
    "collapsed": false,
    "pycharm": {
     "name": "#%%\n"
    }
   }
  },
  {
   "cell_type": "markdown",
   "metadata": {
    "pycharm": {
     "name": "#%% md\n"
    }
   },
   "source": [
    "### 2. Creating the HYDRO30 product\n",
    "\n",
    "Once we have marshalled all the required input data, we can generate the HYDRO30 product!\n",
    "\n",
    "*Note:* this will take $\\approx$ 30 minutes to complete."
   ]
  },
  {
   "cell_type": "code",
   "execution_count": null,
   "metadata": {
    "pycharm": {
     "name": "#%%\n"
    }
   },
   "outputs": [],
   "source": [
    "from asf_tools.water_map import make_water_map\n",
    "\n",
    "water_map = vv_raster.parent / vv_raster.name.replace('_VV.tif', '_WM.tif')\n",
    "\n",
    "make_water_map(water_map, vv_raster, vh_raster, tile_shape=(100, 100),\n",
    "               max_vv_threshold=-15.5, max_vh_threshold=-23., hand_threshold=15., hand_fraction=0.8)\n",
    "\n",
    "print(f'HYDRO30 surface water extent: {water_map}')"
   ]
  },
  {
   "cell_type": "markdown",
   "metadata": {
    "pycharm": {
     "name": "#%% md\n"
    }
   },
   "source": [
    "### 3. Creating the FD30 product\n",
    "\n",
    "We are now able to estimate flood depths for our AOI with the VV RTC raster from our RTC job, HYDRO30 surface water extent map, and HAND raster produced while creating the surface water extent map.\n",
    "\n",
    "**Note**: this will take $\\approx$4-5 hours to complete when using the iterative method."
   ]
  },
  {
   "cell_type": "code",
   "metadata": {
    "pycharm": {
     "name": "#%%\n"
    }
   },
   "source": [
    "flood_map = water_map.parent / water_map.name.replace('_WM.tif', '_FD.tif')\n",
    "hand_raster = water_map.parent / water_map.name.replace('_WM.tif', '_WM_HAND.tif')\n",
    "print(f'HAND raster: {hand_raster}')\n",
    "\n",
    "\n",
    "make_water_map(flood_map, vv_raster, water_map, hand_raster,\n",
    "               estimator='iterative', water_level_sigma=3.,\n",
    "               known_water_threshold=30., iterative_bounds=(0, 15))\n",
    "\n",
    "print(f'FD30 flood_map: {flood_map}')"
   ],
   "execution_count": null,
   "outputs": []
  },
  {
   "cell_type": "markdown",
   "metadata": {
    "pycharm": {
     "name": "#%% md\n"
    }
   },
   "source": [
    "## Operations\n",
    "\n",
    "To do all this operationally with HyP3, we add ASF Tools to the HyP3 GAMMA plugin and create a `water_map` entrypoint, which\n",
    "* Radiometerically Terrain Corrects the input scene\n",
    "* Runs `make_water_map` to make a HYDRO30 product using the RTC ouptuts\n",
    "* Runs `make_flood_map` to make a FD30 product using the HYDRO30 and the RTC outputs\n",
    "\n",
    "The relevant parts of the [HyP3 GAMMA plugin](https://github.com/ASFHyP3/hyp3-gamma) are:\n",
    "* Docker image build steps: <https://github.com/ASFHyP3/hyp3-gamma/blob/develop/Dockerfile>\n",
    "* `water_map` entrypoint: <https://github.com/ASFHyP3/hyp3-gamma/blob/develop/hyp3_gamma/__main__.py#L172>\n"
   ]
  },
  {
   "cell_type": "code",
   "execution_count": null,
   "outputs": [],
   "source": [],
   "metadata": {
    "collapsed": false,
    "pycharm": {
     "name": "#%%\n"
    }
   }
  }
 ],
 "metadata": {
  "kernelspec": {
   "display_name": "Python 3 (ipykernel)",
   "language": "python",
   "name": "python3"
  },
  "language_info": {
   "codemirror_mode": {
    "name": "ipython",
    "version": 3
   },
   "file_extension": ".py",
   "mimetype": "text/x-python",
   "name": "python",
   "nbconvert_exporter": "python",
   "pygments_lexer": "ipython3",
   "version": "3.9.10"
  }
 },
 "nbformat": 4,
 "nbformat_minor": 1
}