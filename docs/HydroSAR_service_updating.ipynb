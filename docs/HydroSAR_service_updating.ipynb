{
 "cells": [
  {
   "cell_type": "markdown",
   "source": [
    "<hr>\n",
    "<font size=\"6\"> <b> Updating Image Services </b></font>\n",
    "\n",
    "<font size=\"5\"> Update Image Service with Archived Maps in S3 Bucket </font>\n",
    "\n",
    "<br>\n",
    "<font size=\"4\"> <b> HydroSAR Transition Workshop:</b> HydroSAR Data Products and Web Application Training <br>\n",
    "<font size=\"4\"> <b> PI:</b> Franz J. Meyer <br>\n",
    "<br>\n",
    "<br>"
   ],
   "metadata": {
    "collapsed": false,
    "pycharm": {
     "name": "#%% md\n"
    }
   }
  },
  {
   "cell_type": "markdown",
   "source": [
    "Import relevant python packages."
   ],
   "metadata": {
    "collapsed": false,
    "pycharm": {
     "name": "#%% md\n"
    }
   }
  },
  {
   "cell_type": "code",
   "execution_count": null,
   "outputs": [],
   "source": [
    "import datetime\n",
    "import os\n",
    "import subprocess\n",
    "\n",
    "import arcpy"
   ],
   "metadata": {
    "collapsed": false,
    "pycharm": {
     "name": "#%%\n"
    }
   }
  },
  {
   "cell_type": "markdown",
   "source": [
    "Set up important paths, a date-time variable, and tags we will use."
   ],
   "metadata": {
    "collapsed": false,
    "pycharm": {
     "name": "#%% md\n"
    }
   }
  },
  {
   "cell_type": "code",
   "execution_count": null,
   "outputs": [],
   "source": [
    "batch_dir = r'C:\\Users\\asf\\asf_services\\batchFiles'\n",
    "scratch_gdb = r\"C:\\Users\\asf\\asf_services\\ImageServerScratch.gdb\"\n",
    "\n",
    "today = datetime.datetime.now(datetime.timezone.utc).strftime(\"%y%m%d_%H%M\")\n",
    "\n",
    "s3tag = 'HKHwatermaps'\n",
    "projtag = 'HKH'\n",
    "\n",
    "crftag_wm = projtag+'_WatermapExtent'\n",
    "crftag_rgb = projtag+'_RGB'\n",
    "crftag_rtc = projtag+'_RTC'"
   ],
   "metadata": {
    "collapsed": false,
    "pycharm": {
     "name": "#%%\n"
    }
   }
  },
  {
   "cell_type": "markdown",
   "source": [
    "Set general variables used every time the script runs. Then, set variables that will used for today's dataset.\n",
    "Name the crfs for each dataset for today's date."
   ],
   "metadata": {
    "collapsed": false,
    "pycharm": {
     "name": "#%% md\n"
    }
   }
  },
  {
   "cell_type": "code",
   "execution_count": null,
   "outputs": [],
   "source": [
    "genvars = [r'set ppath=\"C:\\Program Files\\ArcGIS\\Pro\\bin\\Python\\envs\\arcgispro-py3\\python.exe\"',\n",
    "           r'set mdcspath=C:\\Users\\asf\\asf_services',\n",
    "           r'set cachepath=C:\\Users\\asf\\asf_services\\PixelCache']\n",
    "\n",
    "vars = [r'set gdbwks=C:\\Users\\asf\\asf_services\\MD''\\\\'\n",
    "        +projtag+'\\\\'+projtag+'_'+today+'.gdb',\n",
    "        r'set acspath=C:\\Users\\asf\\NASA_Disasters_AWS.acs''\\\\',\n",
    "        r'set s3tag='+s3tag]\n",
    "\n",
    "crf_wm = r'set outcrf=C:\\Users\\asf\\NASA_Disasters_AWS.acs\\esri''\\\\'\\\n",
    "         +crftag_wm+'_'+today+'.crf'\n",
    "crf_rgb = r'set outcrf=C:\\Users\\asf\\NASA_Disasters_AWS.acs\\esri''\\\\'\\\n",
    "          +crftag_rgb+'_'+today+'.crf'\n",
    "crf_rtc = r'set outcrf=C:\\Users\\asf\\NASA_Disasters_AWS.acs\\esri''\\\\'\\\n",
    "          +crftag_rtc+'_'+today+'.crf'"
   ],
   "metadata": {
    "collapsed": false,
    "pycharm": {
     "name": "#%%\n"
    }
   }
  },
  {
   "cell_type": "markdown",
   "source": [
    "Set up variables for watermap, RGB, and RTC datasets."
   ],
   "metadata": {
    "collapsed": false,
    "pycharm": {
     "name": "#%% md\n"
    }
   }
  },
  {
   "cell_type": "code",
   "execution_count": null,
   "outputs": [],
   "source": [
    "vars_wm = [r'%ppath% %mdcspath%\\scripts\\MDCS.py -i:%mdcspath%\\Parameter\\Config\\wm_mosaic.xml '\n",
    "           r'-m:%gdbwks%\\watermap_extent -s:%acspath%%s3tag%\\ -p:%cachepath%\\$cachelocation '\n",
    "           r'-p:USE_PIXEL_CACHE$pixelcache -p:%s3tag%$stag -c:CM+AF+AR+UpdateFieldsWM+BF+BB+SP+CC',\n",
    "           r'%ppath% %mdcspath%\\scripts\\MDCS.py -i:%mdcspath%\\Parameter\\Config\\wm_overviews.xml '\n",
    "           r'-m:%gdbwks%\\watermap_extent -s:%outcrf% -c:SE+CRA+AR+UpdateOverviewFields -p:%outcrf%$outcrf']\n",
    "\n",
    "vars_rgb = [r'%ppath% %mdcspath%\\scripts\\MDCS.py -i:%mdcspath%\\Parameter\\Config\\rgb_mosaic.xml '\n",
    "            r'-m:%gdbwks%\\rgb -s:%acspath%%s3tag%\\ -p:%cachepath%\\$cachelocation -p:USE_PIXEL_CACHE$pixelcache '\n",
    "            r'-p:%s3tag%$stag -c:CM+AF+AR+UpdateFieldsRGB+BF+BB+SP+CC',\n",
    "            r'%ppath% %mdcspath%\\scripts\\MDCS.py -i:%mdcspath%\\Parameter\\Config\\rgb_overviews.xml '\n",
    "            r'-m:%gdbwks%\\rgb -s:%outcrf% -c:SE+CRA+AR+UpdateOverviewFields -p:%outcrf%$outcrf']\n",
    "\n",
    "vars_rtc = [r'%ppath% %mdcspath%\\scripts\\MDCS.py -i:%mdcspath%\\Parameter\\Config\\rtc_mosaic_s1.xml '\n",
    "            r'-m:%gdbwks%\\sar_s1 -s:%acspath%%s3tag%\\ -p:%cachepath%\\$cachelocation -p:USE_PIXEL_CACHE$pixelcache '\n",
    "            r'-c:CM+AF+AR+UpdateFieldsRTC+BF+BB+SP+CC',\n",
    "            r'%ppath% %mdcspath%\\scripts\\MDCS.py -i:%mdcspath%\\Parameter\\Config\\rtc_mosaic_comp.xml '\n",
    "            r'-m:%gdbwks%\\sar_comp -s:%gdbwks%\\sar_s1 -p:CompositeVV_VH_32.art.xml$art '\n",
    "            r'-p:%s3tag%$stag -c:CM+AR+UpdateNameFieldRTC+BB+SP+CC',\n",
    "            r'%ppath% %mdcspath%\\scripts\\MDCS.py -i:%mdcspath%\\Parameter\\Config\\rtc_overviews.xml '\n",
    "            r'-m:%gdbwks%\\sar_comp -s:%outcrf% -c:SE+CRA+AR+UpdateOverviewFields -p:%outcrf%$outcrf']"
   ],
   "metadata": {
    "collapsed": false,
    "pycharm": {
     "name": "#%%\n"
    }
   }
  },
  {
   "cell_type": "markdown",
   "source": [
    "Loop through batch files and write general reference variables, output geodatabases, AWS bucket paths, and service-specific variables and batch commands."
   ],
   "metadata": {
    "collapsed": false,
    "pycharm": {
     "name": "#%% md\n"
    }
   }
  },
  {
   "cell_type": "code",
   "execution_count": null,
   "outputs": [],
   "source": [
    "batfile_wm = batch_dir + '\\HKH_wm.bat'\n",
    "batfile_rgb = batch_dir + '\\HKH_rgb.bat'\n",
    "batfile_rtc = batch_dir + '\\HKH_rtc.bat'\n",
    "\n",
    "batfiles = [batfile_wm, batfile_rgb, batfile_rtc]\n",
    "\n",
    "for bat in batfiles:\n",
    "    with open(bat, 'w') as f:\n",
    "        # write general reference variables\n",
    "        for gv in genvars:\n",
    "            print(gv, file=f)\n",
    "        print('\\nREM ---------- Set output gdb and source s3 bucket-----', file=f)\n",
    "        # write gdb output and aws connection specifications\n",
    "        for v in vars:\n",
    "            print(v, file=f)\n",
    "        # write the service-specific variables and batch commands\n",
    "        if bat == 'HKH_wm.bat':\n",
    "            print(crf_wm, file=f)\n",
    "            print('\\nREM ---------- Using ACS File -------------------------', file=f)\n",
    "            for vb in vars_wm:\n",
    "                print(vb, file=f)\n",
    "        elif bat == 'HKH_rgb.bat':\n",
    "            print(crf_rgb, file=f)\n",
    "            print('\\nREM ---------- Using ACS File -------------------------', file=f)\n",
    "            for vb in vars_rgb:\n",
    "                print(vb, file=f)\n",
    "        elif bat == 'HKH_rtc.bat':\n",
    "            print(crf_rtc, file=f)\n",
    "            print('\\nREM ---------- Using ACS File -------------------------', file=f)\n",
    "            for vb in vars_rtc:\n",
    "                print(vb, file=f)\n",
    "        else:\n",
    "            print('No valid file.')"
   ],
   "metadata": {
    "collapsed": false,
    "pycharm": {
     "name": "#%%\n"
    }
   }
  },
  {
   "cell_type": "markdown",
   "source": [
    "Run watermap, RGB, and RTC batch files."
   ],
   "metadata": {
    "collapsed": false,
    "pycharm": {
     "name": "#%% md\n"
    }
   }
  },
  {
   "cell_type": "code",
   "execution_count": null,
   "outputs": [],
   "source": [
    "subprocess.call([batfile_wm])\n",
    "print('Watermap Extent mosaic dataset complete.')\n",
    "subprocess.call([batfile_rgb])\n",
    "print('RGB mosaic dataset complete.')\n",
    "subprocess.call([batfile_rtc])\n",
    "print('RTC mosaic dataset complete.')"
   ],
   "metadata": {
    "collapsed": false,
    "pycharm": {
     "name": "#%%\n"
    }
   }
  },
  {
   "cell_type": "markdown",
   "source": [
    "Initialize water extent AID package, which will also set up paths we can use for the RGB and RTC AID packages."
   ],
   "metadata": {
    "collapsed": false,
    "pycharm": {
     "name": "#%% md\n"
    }
   }
  },
  {
   "cell_type": "code",
   "execution_count": null,
   "outputs": [],
   "source": [
    "aid_path = r'C:\\Users\\asf\\asf_services\\AID''\\\\'+projtag\n",
    "arcpy.ImportToolbox(r\"C:\\Users\\asf\\asf_services\\AID\\AID_GPtools\\AID_Management.pyt\")\n",
    "gdb = r'C:\\Users\\asf\\asf_services\\MD''\\\\'\\\n",
    "        +projtag+'\\\\'+projtag+'_'+today+'.gdb'\n",
    "\n",
    "print('Generating watermap extent AID package...')\n",
    "md_wm = gdb+'\\\\'+'watermap_extent'\n",
    "aid_wm = aid_path+'\\\\'+projtag+'_WatermapExtent_'+today+'.zmd'"
   ],
   "metadata": {
    "collapsed": false,
    "pycharm": {
     "name": "#%%\n"
    }
   }
  },
  {
   "cell_type": "markdown",
   "source": [
    "Clip mosaic dataset to boundary using reference shapefile."
   ],
   "metadata": {
    "collapsed": false,
    "pycharm": {
     "name": "#%% md\n"
    }
   }
  },
  {
   "cell_type": "code",
   "execution_count": null,
   "outputs": [],
   "source": [
    "extent_mask = r'C:\\Users\\hjkristenson\\PycharmProjects\\hyp3-nasa-disasters\\image_server\\asf_services\\Parameter' \\\n",
    "              r'\\Boundary\\ExtentMasks.gdb\\HKH_ServiceExtentMask '\n",
    "arcpy.management.ImportMosaicDatasetGeometry(md_wm, \"BOUNDARY\", \"OBJECTID\", extent_mask, \"FID\")\n",
    "print('Clipped mosaic dataset to reference shapefile.')"
   ],
   "metadata": {
    "collapsed": false,
    "pycharm": {
     "name": "#%%\n"
    }
   }
  },
  {
   "cell_type": "raw",
   "source": [
    "Finish generating AID package for watermap extent dataset."
   ],
   "metadata": {
    "collapsed": false,
    "pycharm": {
     "name": "#%% raw\n"
    }
   }
  },
  {
   "cell_type": "code",
   "execution_count": null,
   "outputs": [],
   "source": [
    "with arcpy.EnvManager(scratchWorkspace=scratch_gdb, workspace=scratch_gdb):\n",
    "    try:\n",
    "        arcpy.AID.AIDISDP(md_wm, aid_wm, None)\n",
    "    except:\n",
    "        print(\"AID errors generated and ignored.\")\n",
    "        pass\n",
    "print('Watermap extent AID package complete.')"
   ],
   "metadata": {
    "collapsed": false,
    "pycharm": {
     "name": "#%%\n"
    }
   }
  },
  {
   "cell_type": "markdown",
   "source": [
    "Generate an AID package for RGB dataset."
   ],
   "metadata": {
    "collapsed": false,
    "pycharm": {
     "name": "#%% md\n"
    }
   }
  },
  {
   "cell_type": "code",
   "execution_count": null,
   "outputs": [],
   "source": [
    "print('Generating RGB AID package...')\n",
    "md_rgb = gdb+'\\\\'+'rgb'\n",
    "aid_rgb = aid_path+'\\\\'+projtag+'_RGB_'+today+'.zmd'\n",
    "with arcpy.EnvManager(scratchWorkspace=scratch_gdb, workspace=scratch_gdb):\n",
    "    try:\n",
    "        arcpy.AID.AIDISDP(md_rgb, aid_rgb, None)\n",
    "    except:\n",
    "        print(\"AID errors generated and ignored.\")\n",
    "        pass\n",
    "print('RGB AID package complete.')"
   ],
   "metadata": {
    "collapsed": false,
    "pycharm": {
     "name": "#%%\n"
    }
   }
  },
  {
   "cell_type": "markdown",
   "source": [
    "Generate an AID package for RTC dataset."
   ],
   "metadata": {
    "collapsed": false,
    "pycharm": {
     "name": "#%% md\n"
    }
   }
  },
  {
   "cell_type": "code",
   "execution_count": null,
   "outputs": [],
   "source": [
    "print('Generating RTC AID package...')\n",
    "md_rtc = gdb+'\\\\'+'sar_comp'\n",
    "aid_rtc = aid_path+'\\\\'+projtag+'_RTC_'+today+'.zmd'\n",
    "with arcpy.EnvManager(scratchWorkspace=scratch_gdb, workspace=scratch_gdb):\n",
    "    try:\n",
    "        arcpy.AID.AIDISDP(md_rtc, aid_rtc, None)\n",
    "    except:\n",
    "        print(\"AID errors generated and ignored.\")\n",
    "        pass\n",
    "print('RTC AID package complete.')"
   ],
   "metadata": {
    "collapsed": false,
    "pycharm": {
     "name": "#%%\n"
    }
   }
  },
  {
   "cell_type": "markdown",
   "source": [
    "Sign into Image Services using Enterprise credentials."
   ],
   "metadata": {
    "collapsed": false,
    "pycharm": {
     "name": "#%% md\n"
    }
   }
  },
  {
   "cell_type": "code",
   "execution_count": null,
   "outputs": [],
   "source": [
    "import keyring\n",
    "pw = keyring.get_password(\"portal_creds\", \"ASF\")\n",
    "arcpy.SignInToPortal(r'https://asf-daac.maps.arcgis.com/', 'ASF', pw)"
   ],
   "metadata": {
    "collapsed": false,
    "pycharm": {
     "name": "#%%\n"
    }
   }
  },
  {
   "cell_type": "markdown",
   "source": [
    "Update Image Services for watermap extent, RGB, and RTC datasets."
   ],
   "metadata": {
    "collapsed": false,
    "pycharm": {
     "name": "#%% md\n"
    }
   }
  },
  {
   "cell_type": "code",
   "execution_count": null,
   "outputs": [],
   "source": [
    "print('Updating Watermap Extent Image Service...')\n",
    "arcpy.AID.MAIDIS(\"asf-daac\", \"Update Service\", \"HKH\", \"None\", \"HKH_Watermap_Extent\", None, aid_wm, \"Dedicated Instance\",\n",
    "                 \"Watermap Extent products generated from Sentinel-1 SAR \"\n",
    "                 \"imagery over flood-prone regions in the Hindu Kush Himalayan (HKH) region for the 2022 monsoon \"\n",
    "                 \"season, generated by ASF.\", \"Imagery products processed by ASF DAAC HyP3 2022 using GAMMA software. \"\n",
    "                 \"Contains modified Copernicus Sentinel data 2022, processed by ESA.\", '',\n",
    "                 False, False, True, None, None, None, None)\n",
    "print('Watermap Extent Image Service updated.')\n",
    "print('Updating RGB Image Service...')\n",
    "arcpy.AID.MAIDIS(\"asf-daac\", \"Update Service\", \"HKH\", \"None\", \"HKH_RGB\", None, aid_rgb, \"Dedicated Instance\",\n",
    "                 \"Sentinel-1 RGB Decomposition of RTC VV and VH \"\n",
    "                 \"imagery over the Hindu Kush Himalayan (HKH) region for the 2022 monsoon season, starting \"\n",
    "                 \"May 16, 2022. Blue areas have low returns in VV and VH (smooth surfaces such as calm water, \"\n",
    "                 \"but also frozen/crusted soil or dry sand), Green areas have high returns in VH (volume scatterers \"\n",
    "                 \"such as vegetation or some types of snow/ice), and Red areas have relatively high VV returns \"\n",
    "                 \"and relatively low VH returns (such as urban or sparsely vegetated areas).\",\n",
    "                 \"Imagery products processed by ASF DAAC HyP3 2022 using GAMMA software. Contains modified \"\n",
    "                 \"Copernicus Sentinel data 2022, processed by ESA.\", '',\n",
    "                 False, False, True, None, None, None, None)\n",
    "print('RGB Image Service updated.')\n",
    "print('Updating RTC Image Service...')\n",
    "arcpy.AID.MAIDIS(\"asf-daac\", \"Update Service\", \"HKH\", \"None\", \"HKH_RTC\", None, aid_rtc, \"Dedicated Instance\",\n",
    "                 \"Radiometric Terrain Corrected (RTC) products generated \"\n",
    "                 \"from Sentinel-1 SAR imagery over flood-prone regions in the Hindu Kush Himalayan (HKH) region \"\n",
    "                 \"for the 2022 monsoon season, processed by ASF.\",\n",
    "                 \"RTC products processed by ASF DAAC HyP3 2022 using GAMMA software. Contains modified Copernicus \"\n",
    "                 \"Sentinel data 2022, processed by ESA.\", '',\n",
    "                 False, False, True, None, None, None, None)\n",
    "print('RTC Image Service updated.')"
   ],
   "metadata": {
    "collapsed": false,
    "pycharm": {
     "name": "#%%\n"
    }
   }
  },
  {
   "cell_type": "markdown",
   "source": [],
   "metadata": {
    "collapsed": false,
    "pycharm": {
     "name": "#%% md\n"
    }
   }
  }
 ],
 "metadata": {
  "kernelspec": {
   "display_name": "Python 3",
   "language": "python",
   "name": "python3"
  },
  "language_info": {
   "codemirror_mode": {
    "name": "ipython",
    "version": 2
   },
   "file_extension": ".py",
   "mimetype": "text/x-python",
   "name": "python",
   "nbconvert_exporter": "python",
   "pygments_lexer": "ipython2",
   "version": "2.7.6"
  }
 },
 "nbformat": 4,
 "nbformat_minor": 0
}